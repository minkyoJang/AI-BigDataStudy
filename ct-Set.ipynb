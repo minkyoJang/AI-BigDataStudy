{
  "nbformat": 4,
  "nbformat_minor": 0,
  "metadata": {
    "colab": {
      "name": "Set.ipynb",
      "version": "0.3.2",
      "provenance": [],
      "collapsed_sections": [],
      "include_colab_link": true
    },
    "kernelspec": {
      "name": "python3",
      "display_name": "Python 3"
    }
  },
  "cells": [
    {
      "cell_type": "markdown",
      "metadata": {
        "id": "view-in-github",
        "colab_type": "text"
      },
      "source": [
        "<a href=\"https://colab.research.google.com/github/minkyoJang/AI-BigDataStudy/blob/master/ct-Set.ipynb\" target=\"_parent\"><img src=\"https://colab.research.google.com/assets/colab-badge.svg\" alt=\"Open In Colab\"/></a>"
      ]
    },
    {
      "cell_type": "markdown",
      "metadata": {
        "id": "lYtvvRNJs_Nv",
        "colab_type": "text"
      },
      "source": [
        "# 파이썬에서의 집합 = set\n",
        "\n",
        "Python은 set이라는 형태로 집합 자료구조를 제공합니다. 집합은 `set()`과 같이 초기화할 수 있습니다.\n",
        "\n",
        "## 집합은 언제 사용해야 하나요?\n",
        "\n",
        "집합은 이럴 때 사용합니다.\n",
        "\n",
        "1. 데이터의 중복이 없어도 될 때\n",
        "    * 집합에 담긴 모든 데이터는 유니크합니다. \n",
        "    * 예를 들어,  집합에 5를 2번 넣어도 집합은 자신이 가진 원소 중 5는 하나만 있다고 생각합니다.\n",
        "2. 다루는 데이터의 삽입/삭제/서치가 자주 일어날 때. 특히 다루는 데이터가 정수가 아닐 때.\n",
        "    * 숫자형 데이터는 list에서 index를 통해 접근할 수 있습니다. 집합은 문자열 등 리스트의 index로 활용하지 못하는 데이터를 빠르게 탐색할 때 유용합니다.\n",
        "    * 예를 들어, 리스트에 \"abc\"라는 원소가 있는지 알아내려면 O(N)이 걸립니다. 반면 집합은 O(1)이 소요됩니다.\n",
        "3. (수학적으로) 교집합, 합집합, 차집합 등을 구해야 할 때\n",
        "    * 파이썬의 집합은 수학에서 말하는 집합이 가진 대부분의 기능을 제공합니다. 차집합이나 교집합 등은 코딩 테스트 시 유용하게 쓰이니 알아두세요.\n",
        "\n",
        "\n",
        "#### 집합이 지원하는 operation\n",
        "\n",
        "Dictionary의 Time Complexity는 다음과 같습니다.\n",
        "\n",
        "| Operation | 예시            | Time Complexity - Average Case |\n",
        "|-----------|-----------------|--------------------------------|\n",
        "| 탐색      | \"abc\" in my_set | O( 1 )                           |\n",
        "| 제거      | my_set.remove | O( 1 )                           |\n",
        "| 합집합    | set1 &#124; set2     | O( len(set1) + len(set2) )       |\n",
        "| 교집합    | set1 & set2     | O( min(len(set1), len(set2)) )    |\n",
        "| 차집합    | set1 - set2     | O( len(set1) )                   |\n",
        "| 대칭차🚩   | set1 ^ set2     | O( len(set1) )                   |\n",
        "\n",
        "🚩대칭차 = 합집합 - 교집합\n",
        "\n",
        "#### 주의\n",
        "\n",
        "hashable 타입만 집합의 원소로 넣을 수 있습니다. 예를 들어, list는 hashable 하지 않아 집합에 넣을 수 없고, tuple은 hashable 하여 집합에 넣을 수 있습니다.\n",
        "\n",
        "* hashable 타입: int, float, decimal, bool, string, tuple, frozenset 등\n",
        "* non-hashable 타입: list, dict, set, 유저가 직접 만든클래스 등\n",
        "\n",
        "\n",
        "<br>\n",
        "\n",
        "표 출처: 파이썬 위키, https://wiki.python.org/moin/TimeComplexity, 2019.03.20"
      ]
    },
    {
      "cell_type": "markdown",
      "metadata": {
        "id": "OeKJf6fktB9p",
        "colab_type": "text"
      },
      "source": [
        "## 집합 - Init\n",
        "\n",
        "`set`함수를 호출하면 빈 집합을 선언할 수 있습니다. 물론 특정 원소를 가지는 집합을 선언하는 것도 가능합니다."
      ]
    },
    {
      "cell_type": "code",
      "metadata": {
        "id": "ms-RNOshs23E",
        "colab_type": "code",
        "outputId": "30ee7bf6-8258-4dc0-95f2-4850f9b71184",
        "colab": {
          "base_uri": "https://localhost:8080/",
          "height": 34
        }
      },
      "source": [
        "# 빈 집합 생성하기\n",
        "\n",
        "empty_set = set()\n",
        "empty_set"
      ],
      "execution_count": 0,
      "outputs": [
        {
          "output_type": "execute_result",
          "data": {
            "text/plain": [
              "set()"
            ]
          },
          "metadata": {
            "tags": []
          },
          "execution_count": 2
        }
      ]
    },
    {
      "cell_type": "code",
      "metadata": {
        "id": "eCYSKrEatHF0",
        "colab_type": "code",
        "outputId": "84427263-de06-47b7-e09a-91e417067533",
        "colab": {
          "base_uri": "https://localhost:8080/",
          "height": 34
        }
      },
      "source": [
        "# 특정 원소를 가지는 집합 선언하기\n",
        "\n",
        "my_set = set([1, 2, 3, 1, 2, 3])\n",
        "my_set"
      ],
      "execution_count": 0,
      "outputs": [
        {
          "output_type": "execute_result",
          "data": {
            "text/plain": [
              "{1, 2, 3}"
            ]
          },
          "metadata": {
            "tags": []
          },
          "execution_count": 7
        }
      ]
    },
    {
      "cell_type": "markdown",
      "metadata": {
        "id": "B59lIg5tt2FT",
        "colab_type": "text"
      },
      "source": [
        "## 집합 - Add\n",
        "\n",
        "집합에 원소를 넣을 때에는 add 메소드를 이용합니다."
      ]
    },
    {
      "cell_type": "code",
      "metadata": {
        "id": "K4RjypgWtq-G",
        "colab_type": "code",
        "outputId": "a72d3a14-8bcc-45d5-a809-65a234e87306",
        "colab": {
          "base_uri": "https://localhost:8080/",
          "height": 34
        }
      },
      "source": [
        "# 값 집어넣기\n",
        "\n",
        "my_set = set()\n",
        "my_set.add(3)\n",
        "my_set.add(\"데미\")\n",
        "\n",
        "my_set"
      ],
      "execution_count": 0,
      "outputs": [
        {
          "output_type": "execute_result",
          "data": {
            "text/plain": [
              "{3, '데미'}"
            ]
          },
          "metadata": {
            "tags": []
          },
          "execution_count": 9
        }
      ]
    },
    {
      "cell_type": "code",
      "metadata": {
        "id": "6FWQf-pyuFr3",
        "colab_type": "code",
        "outputId": "866ac882-a2ec-45d1-b48c-40fcc6b34087",
        "colab": {
          "base_uri": "https://localhost:8080/",
          "height": 202
        }
      },
      "source": [
        "# 주의! 리스트는 set의 원소가 될 수 없음. 대신 tuple을 이용할 것을 권장\n",
        "\n",
        "my_set = set()\n",
        "my_list = [1,2,3,4]\n",
        "my_set.add(my_list) # 리스트를 set에 넣으면 에러"
      ],
      "execution_count": 0,
      "outputs": [
        {
          "output_type": "error",
          "ename": "TypeError",
          "evalue": "ignored",
          "traceback": [
            "\u001b[0;31m---------------------------------------------------------------------------\u001b[0m",
            "\u001b[0;31mTypeError\u001b[0m                                 Traceback (most recent call last)",
            "\u001b[0;32m<ipython-input-12-e53b1add151a>\u001b[0m in \u001b[0;36m<module>\u001b[0;34m()\u001b[0m\n\u001b[1;32m      2\u001b[0m \u001b[0mmy_set\u001b[0m \u001b[0;34m=\u001b[0m \u001b[0mset\u001b[0m\u001b[0;34m(\u001b[0m\u001b[0;34m)\u001b[0m\u001b[0;34m\u001b[0m\u001b[0;34m\u001b[0m\u001b[0m\n\u001b[1;32m      3\u001b[0m \u001b[0mmy_list\u001b[0m \u001b[0;34m=\u001b[0m \u001b[0;34m[\u001b[0m\u001b[0;36m1\u001b[0m\u001b[0;34m,\u001b[0m\u001b[0;36m2\u001b[0m\u001b[0;34m,\u001b[0m\u001b[0;36m3\u001b[0m\u001b[0;34m,\u001b[0m\u001b[0;36m4\u001b[0m\u001b[0;34m]\u001b[0m\u001b[0;34m\u001b[0m\u001b[0;34m\u001b[0m\u001b[0m\n\u001b[0;32m----> 4\u001b[0;31m \u001b[0mmy_set\u001b[0m\u001b[0;34m.\u001b[0m\u001b[0madd\u001b[0m\u001b[0;34m(\u001b[0m\u001b[0mmy_list\u001b[0m\u001b[0;34m)\u001b[0m \u001b[0;31m# 리스트를 set에 넣으면 에러\u001b[0m\u001b[0;34m\u001b[0m\u001b[0;34m\u001b[0m\u001b[0m\n\u001b[0m",
            "\u001b[0;31mTypeError\u001b[0m: unhashable type: 'list'"
          ]
        }
      ]
    },
    {
      "cell_type": "markdown",
      "metadata": {
        "id": "WHw-YQFDvSXO",
        "colab_type": "text"
      },
      "source": [
        "## 집합 - Delete\n",
        "\n",
        "집합에서 특정 원소를 지우려면 `remove` 메소드를 이용하세요."
      ]
    },
    {
      "cell_type": "code",
      "metadata": {
        "id": "_F90ViECu6Bv",
        "colab_type": "code",
        "outputId": "24174cc3-1093-4949-99b2-5152684dbe47",
        "colab": {
          "base_uri": "https://localhost:8080/",
          "height": 34
        }
      },
      "source": [
        "# 원소 제거 예시\n",
        "my_set = set([1,2,3,4,5])\n",
        "my_set.remove(1)\n",
        "\n",
        "my_set"
      ],
      "execution_count": 0,
      "outputs": [
        {
          "output_type": "execute_result",
          "data": {
            "text/plain": [
              "{2, 3, 4, 5}"
            ]
          },
          "metadata": {
            "tags": []
          },
          "execution_count": 13
        }
      ]
    },
    {
      "cell_type": "markdown",
      "metadata": {
        "id": "CoDDlLAGvxt7",
        "colab_type": "text"
      },
      "source": [
        "## 집합 - 합/차/교집합 등 집합 관련 operation\n",
        "\n",
        "unary operator를 사용해 두 집합 간의 합집합, 차집합, 교집합을 구할 수 있습니다. 다음 코드를 참고해보세요."
      ]
    },
    {
      "cell_type": "code",
      "metadata": {
        "id": "kCpWUHd0vrFi",
        "colab_type": "code",
        "outputId": "83651b99-9b62-4fd6-bbba-4248c21d0263",
        "colab": {
          "base_uri": "https://localhost:8080/",
          "height": 34
        }
      },
      "source": [
        "# 합집합: | 를 사용\n",
        "set1 = set([1,2,3,4,5])\n",
        "set2 = set([4,5,6,7,8])\n",
        "\n",
        "set1 | set2"
      ],
      "execution_count": 0,
      "outputs": [
        {
          "output_type": "execute_result",
          "data": {
            "text/plain": [
              "{1, 2, 3, 4, 5, 6, 7, 8}"
            ]
          },
          "metadata": {
            "tags": []
          },
          "execution_count": 15
        }
      ]
    },
    {
      "cell_type": "code",
      "metadata": {
        "id": "WvAjn7U0wJ7n",
        "colab_type": "code",
        "outputId": "c775effd-59b3-41ff-9ea8-57e9cbd1dfbe",
        "colab": {
          "base_uri": "https://localhost:8080/",
          "height": 34
        }
      },
      "source": [
        "# 차집합: - 를 사용\n",
        "\n",
        "set1 = set([1,2,3,4,5])\n",
        "set2 = set([4,5,6,7,8])\n",
        "\n",
        "set1 - set2"
      ],
      "execution_count": 0,
      "outputs": [
        {
          "output_type": "execute_result",
          "data": {
            "text/plain": [
              "{1, 2, 3}"
            ]
          },
          "metadata": {
            "tags": []
          },
          "execution_count": 16
        }
      ]
    },
    {
      "cell_type": "code",
      "metadata": {
        "id": "a21j86xfwOLn",
        "colab_type": "code",
        "outputId": "1a846ec9-27de-4cec-e03a-8f951419425a",
        "colab": {
          "base_uri": "https://localhost:8080/",
          "height": 34
        }
      },
      "source": [
        "# 교집합: & 를 사용\n",
        "\n",
        "set1 = set([1,2,3,4,5])\n",
        "set2 = set([4,5,6,7,8])\n",
        "\n",
        "set1 & set2"
      ],
      "execution_count": 0,
      "outputs": [
        {
          "output_type": "execute_result",
          "data": {
            "text/plain": [
              "{4, 5}"
            ]
          },
          "metadata": {
            "tags": []
          },
          "execution_count": 1
        }
      ]
    },
    {
      "cell_type": "code",
      "metadata": {
        "id": "9ExiIgxmlzUv",
        "colab_type": "code",
        "colab": {}
      },
      "source": [
        ""
      ],
      "execution_count": 0,
      "outputs": []
    }
  ]
}
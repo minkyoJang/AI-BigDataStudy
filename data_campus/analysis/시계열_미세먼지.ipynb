{
 "cells": [
  {
   "cell_type": "code",
   "execution_count": 8,
   "metadata": {
    "ExecuteTime": {
     "end_time": "2019-07-30T07:06:42.932808Z",
     "start_time": "2019-07-30T07:06:42.315165Z"
    }
   },
   "outputs": [],
   "source": [
    "import numpy as np\n",
    "import pandas as pd\n",
    "import seaborn as sns\n",
    "import missingno as mino"
   ]
  },
  {
   "cell_type": "code",
   "execution_count": 4,
   "metadata": {
    "ExecuteTime": {
     "end_time": "2019-07-25T00:44:57.274161Z",
     "start_time": "2019-07-25T00:44:57.061471Z"
    }
   },
   "outputs": [],
   "source": [
    "raw = pd.read_csv('https://www.data.go.kr/dataset/fileDownload.do?atchFileId=FILE_000000001423684&fileDetailSn=1&publicDataDetailPk=uddi:3dbe77c7-0f68-442f-9f63-f6b1a988d036_201801190911', engine='python')"
   ]
  },
  {
   "cell_type": "code",
   "execution_count": 5,
   "metadata": {
    "ExecuteTime": {
     "end_time": "2019-07-25T00:45:03.089256Z",
     "start_time": "2019-07-25T00:45:03.051826Z"
    }
   },
   "outputs": [
    {
     "data": {
      "text/html": [
       "<div>\n",
       "<style scoped>\n",
       "    .dataframe tbody tr th:only-of-type {\n",
       "        vertical-align: middle;\n",
       "    }\n",
       "\n",
       "    .dataframe tbody tr th {\n",
       "        vertical-align: top;\n",
       "    }\n",
       "\n",
       "    .dataframe thead th {\n",
       "        text-align: right;\n",
       "    }\n",
       "</style>\n",
       "<table border=\"1\" class=\"dataframe\">\n",
       "  <thead>\n",
       "    <tr style=\"text-align: right;\">\n",
       "      <th></th>\n",
       "      <th>날짜</th>\n",
       "      <th>미세먼지농도 (㎍/㎥)</th>\n",
       "      <th>결과</th>\n",
       "    </tr>\n",
       "  </thead>\n",
       "  <tbody>\n",
       "    <tr>\n",
       "      <th>0</th>\n",
       "      <td>2017-01-10</td>\n",
       "      <td>19</td>\n",
       "      <td>좋음</td>\n",
       "    </tr>\n",
       "    <tr>\n",
       "      <th>1</th>\n",
       "      <td>2017-01-11</td>\n",
       "      <td>20</td>\n",
       "      <td>좋음</td>\n",
       "    </tr>\n",
       "    <tr>\n",
       "      <th>2</th>\n",
       "      <td>2017-01-13</td>\n",
       "      <td>29</td>\n",
       "      <td>좋음</td>\n",
       "    </tr>\n",
       "    <tr>\n",
       "      <th>3</th>\n",
       "      <td>2017-01-14</td>\n",
       "      <td>40</td>\n",
       "      <td>보통</td>\n",
       "    </tr>\n",
       "    <tr>\n",
       "      <th>4</th>\n",
       "      <td>2017-01-20</td>\n",
       "      <td>20</td>\n",
       "      <td>좋음</td>\n",
       "    </tr>\n",
       "  </tbody>\n",
       "</table>\n",
       "</div>"
      ],
      "text/plain": [
       "           날짜   미세먼지농도 (㎍/㎥)  결과\n",
       "0  2017-01-10             19  좋음\n",
       "1  2017-01-11             20  좋음\n",
       "2  2017-01-13             29  좋음\n",
       "3  2017-01-14             40  보통\n",
       "4  2017-01-20             20  좋음"
      ]
     },
     "execution_count": 5,
     "metadata": {},
     "output_type": "execute_result"
    }
   ],
   "source": [
    "raw.head()"
   ]
  },
  {
   "cell_type": "code",
   "execution_count": 6,
   "metadata": {
    "ExecuteTime": {
     "end_time": "2019-07-25T00:45:06.271715Z",
     "start_time": "2019-07-25T00:45:06.245759Z"
    }
   },
   "outputs": [
    {
     "name": "stdout",
     "output_type": "stream",
     "text": [
      "<class 'pandas.core.frame.DataFrame'>\n",
      "RangeIndex: 250 entries, 0 to 249\n",
      "Data columns (total 3 columns):\n",
      "날짜               250 non-null object\n",
      " 미세먼지농도 (㎍/㎥)    250 non-null int64\n",
      "결과               250 non-null object\n",
      "dtypes: int64(1), object(2)\n",
      "memory usage: 5.9+ KB\n"
     ]
    }
   ],
   "source": [
    "raw.info()"
   ]
  },
  {
   "cell_type": "code",
   "execution_count": 9,
   "metadata": {
    "ExecuteTime": {
     "end_time": "2019-07-25T00:48:33.135877Z",
     "start_time": "2019-07-25T00:48:33.127896Z"
    },
    "scrolled": true
   },
   "outputs": [],
   "source": [
    "raw['날짜']=pd.to_datetime(raw['날짜']) ## astype보다 이걸 쓰면 쉽다."
   ]
  },
  {
   "cell_type": "code",
   "execution_count": null,
   "metadata": {},
   "outputs": [],
   "source": [
    "raw['날짜'].resample()\n",
    "## type에 따라 resample이 되고 안되고 한다."
   ]
  },
  {
   "cell_type": "markdown",
   "metadata": {},
   "source": [
    "--------------"
   ]
  },
  {
   "cell_type": "code",
   "execution_count": 29,
   "metadata": {
    "ExecuteTime": {
     "end_time": "2019-07-25T01:00:28.390469Z",
     "start_time": "2019-07-25T01:00:28.384980Z"
    }
   },
   "outputs": [],
   "source": [
    "import datetime"
   ]
  },
  {
   "cell_type": "code",
   "execution_count": 38,
   "metadata": {
    "ExecuteTime": {
     "end_time": "2019-07-25T01:03:27.755919Z",
     "start_time": "2019-07-25T01:03:27.750928Z"
    }
   },
   "outputs": [],
   "source": [
    "date = datetime.datetime(2018, 7 ,30)"
   ]
  },
  {
   "cell_type": "code",
   "execution_count": 39,
   "metadata": {
    "ExecuteTime": {
     "end_time": "2019-07-25T01:03:29.419279Z",
     "start_time": "2019-07-25T01:03:29.411310Z"
    }
   },
   "outputs": [
    {
     "data": {
      "text/plain": [
       "'2018 year Monday'"
      ]
     },
     "execution_count": 39,
     "metadata": {},
     "output_type": "execute_result"
    }
   ],
   "source": [
    "date.strftime('%Y year %A',) # datetime을 string으로"
   ]
  },
  {
   "cell_type": "code",
   "execution_count": 32,
   "metadata": {
    "ExecuteTime": {
     "end_time": "2019-07-25T01:00:33.477795Z",
     "start_time": "2019-07-25T01:00:33.469311Z"
    }
   },
   "outputs": [
    {
     "data": {
      "text/plain": [
       "pandas._libs.tslibs.timestamps.Timestamp"
      ]
     },
     "execution_count": 32,
     "metadata": {},
     "output_type": "execute_result"
    }
   ],
   "source": [
    "type(pd.to_datetime('7 30 2018'))"
   ]
  },
  {
   "cell_type": "code",
   "execution_count": 34,
   "metadata": {
    "ExecuteTime": {
     "end_time": "2019-07-25T01:00:39.428083Z",
     "start_time": "2019-07-25T01:00:39.421594Z"
    }
   },
   "outputs": [
    {
     "data": {
      "text/plain": [
       "True"
      ]
     },
     "execution_count": 34,
     "metadata": {},
     "output_type": "execute_result"
    }
   ],
   "source": [
    "issubclass(pd.Timestamp, datetime.datetime)\n",
    "# 파이썬 datetime을 상속받아 확장시켰다.\n",
    "# 따라서, 파이썬 문법 써야 한다"
   ]
  },
  {
   "cell_type": "code",
   "execution_count": 35,
   "metadata": {
    "ExecuteTime": {
     "end_time": "2019-07-25T01:00:50.615139Z",
     "start_time": "2019-07-25T01:00:50.607153Z"
    }
   },
   "outputs": [
    {
     "data": {
      "text/plain": [
       "True"
      ]
     },
     "execution_count": 35,
     "metadata": {},
     "output_type": "execute_result"
    }
   ],
   "source": [
    "issubclass(pd.Timedelta, datetime.timedelta)"
   ]
  },
  {
   "cell_type": "code",
   "execution_count": 40,
   "metadata": {
    "ExecuteTime": {
     "end_time": "2019-07-25T01:03:31.781084Z",
     "start_time": "2019-07-25T01:03:31.773114Z"
    }
   },
   "outputs": [
    {
     "data": {
      "text/plain": [
       "datetime.datetime(2018, 7, 2, 0, 0)"
      ]
     },
     "execution_count": 40,
     "metadata": {},
     "output_type": "execute_result"
    }
   ],
   "source": [
    "date + pd.to_timedelta(-4, 'W')\n",
    "# 파이썬 연산이 가능하다"
   ]
  },
  {
   "cell_type": "code",
   "execution_count": 36,
   "metadata": {
    "ExecuteTime": {
     "end_time": "2019-07-25T01:02:43.801389Z",
     "start_time": "2019-07-25T01:02:43.792905Z"
    }
   },
   "outputs": [
    {
     "data": {
      "text/plain": [
       "pandas.core.indexes.datetimes.DatetimeIndex"
      ]
     },
     "execution_count": 36,
     "metadata": {},
     "output_type": "execute_result"
    }
   ],
   "source": [
    "t = pd.to_datetime(['2014-07-04', '2014-08-04','2015-07-04', '2015-08-04'])\n",
    "type(t)\n",
    "\n",
    "## 데이터를 한 개 넣었을 때, 여러개 넣을 때 결과가 다르다.\n",
    "## index로 바꾸면 resample 할 수 있다."
   ]
  },
  {
   "cell_type": "code",
   "execution_count": null,
   "metadata": {},
   "outputs": [],
   "source": []
  },
  {
   "cell_type": "markdown",
   "metadata": {},
   "source": [
    "----------------------------"
   ]
  },
  {
   "cell_type": "code",
   "execution_count": 43,
   "metadata": {
    "ExecuteTime": {
     "end_time": "2019-07-25T01:05:44.788273Z",
     "start_time": "2019-07-25T01:05:44.766313Z"
    }
   },
   "outputs": [
    {
     "data": {
      "text/html": [
       "<div>\n",
       "<style scoped>\n",
       "    .dataframe tbody tr th:only-of-type {\n",
       "        vertical-align: middle;\n",
       "    }\n",
       "\n",
       "    .dataframe tbody tr th {\n",
       "        vertical-align: top;\n",
       "    }\n",
       "\n",
       "    .dataframe thead th {\n",
       "        text-align: right;\n",
       "    }\n",
       "</style>\n",
       "<table border=\"1\" class=\"dataframe\">\n",
       "  <thead>\n",
       "    <tr style=\"text-align: right;\">\n",
       "      <th></th>\n",
       "      <th>미세먼지농도 (㎍/㎥)</th>\n",
       "      <th>결과</th>\n",
       "    </tr>\n",
       "    <tr>\n",
       "      <th>날짜</th>\n",
       "      <th></th>\n",
       "      <th></th>\n",
       "    </tr>\n",
       "  </thead>\n",
       "  <tbody>\n",
       "    <tr>\n",
       "      <th>2017-01-10</th>\n",
       "      <td>19</td>\n",
       "      <td>좋음</td>\n",
       "    </tr>\n",
       "    <tr>\n",
       "      <th>2017-01-11</th>\n",
       "      <td>20</td>\n",
       "      <td>좋음</td>\n",
       "    </tr>\n",
       "    <tr>\n",
       "      <th>2017-01-13</th>\n",
       "      <td>29</td>\n",
       "      <td>좋음</td>\n",
       "    </tr>\n",
       "    <tr>\n",
       "      <th>2017-01-14</th>\n",
       "      <td>40</td>\n",
       "      <td>보통</td>\n",
       "    </tr>\n",
       "    <tr>\n",
       "      <th>2017-01-20</th>\n",
       "      <td>20</td>\n",
       "      <td>좋음</td>\n",
       "    </tr>\n",
       "  </tbody>\n",
       "</table>\n",
       "</div>"
      ],
      "text/plain": [
       "             미세먼지농도 (㎍/㎥)  결과\n",
       "날짜                           \n",
       "2017-01-10             19  좋음\n",
       "2017-01-11             20  좋음\n",
       "2017-01-13             29  좋음\n",
       "2017-01-14             40  보통\n",
       "2017-01-20             20  좋음"
      ]
     },
     "execution_count": 43,
     "metadata": {},
     "output_type": "execute_result"
    }
   ],
   "source": [
    "dust = raw.set_index('날짜', drop=True)\n",
    "dust.head()"
   ]
  },
  {
   "cell_type": "code",
   "execution_count": 45,
   "metadata": {
    "ExecuteTime": {
     "end_time": "2019-07-25T01:05:57.670286Z",
     "start_time": "2019-07-25T01:05:57.353375Z"
    }
   },
   "outputs": [
    {
     "data": {
      "image/png": "[encoded data removed]",
      "text/plain": [
       "<Figure size 432x288 with 1 Axes>"
      ]
     },
     "metadata": {
      "needs_background": "light"
     },
     "output_type": "display_data"
    }
   ],
   "source": [
    "dust.plot.line();"
   ]
  },
  {
   "cell_type": "code",
   "execution_count": 47,
   "metadata": {
    "ExecuteTime": {
     "end_time": "2019-07-25T01:07:46.951037Z",
     "start_time": "2019-07-25T01:07:46.938561Z"
    }
   },
   "outputs": [
    {
     "name": "stdout",
     "output_type": "stream",
     "text": [
      "<class 'pandas.core.frame.DataFrame'>\n",
      "DatetimeIndex: 250 entries, 2017-01-10 to 2017-12-31\n",
      "Data columns (total 2 columns):\n",
      " 미세먼지농도 (㎍/㎥)    250 non-null int64\n",
      "결과               250 non-null object\n",
      "dtypes: int64(1), object(1)\n",
      "memory usage: 5.9+ KB\n"
     ]
    }
   ],
   "source": [
    "dust.info() # index가 datetimeindex로 바뀜"
   ]
  },
  {
   "cell_type": "markdown",
   "metadata": {},
   "source": [
    "# resample"
   ]
  },
  {
   "cell_type": "code",
   "execution_count": 52,
   "metadata": {
    "ExecuteTime": {
     "end_time": "2019-07-25T01:09:01.927960Z",
     "start_time": "2019-07-25T01:09:01.907498Z"
    }
   },
   "outputs": [
    {
     "data": {
      "text/html": [
       "<div>\n",
       "<style scoped>\n",
       "    .dataframe tbody tr th:only-of-type {\n",
       "        vertical-align: middle;\n",
       "    }\n",
       "\n",
       "    .dataframe tbody tr th {\n",
       "        vertical-align: top;\n",
       "    }\n",
       "\n",
       "    .dataframe thead th {\n",
       "        text-align: right;\n",
       "    }\n",
       "</style>\n",
       "<table border=\"1\" class=\"dataframe\">\n",
       "  <thead>\n",
       "    <tr style=\"text-align: right;\">\n",
       "      <th></th>\n",
       "      <th>미세먼지농도 (㎍/㎥)</th>\n",
       "      <th>결과</th>\n",
       "    </tr>\n",
       "    <tr>\n",
       "      <th>날짜</th>\n",
       "      <th></th>\n",
       "      <th></th>\n",
       "    </tr>\n",
       "  </thead>\n",
       "  <tbody>\n",
       "    <tr>\n",
       "      <th>2017-06-01</th>\n",
       "      <td>22</td>\n",
       "      <td>좋음</td>\n",
       "    </tr>\n",
       "    <tr>\n",
       "      <th>2017-04-14</th>\n",
       "      <td>33</td>\n",
       "      <td>보통</td>\n",
       "    </tr>\n",
       "    <tr>\n",
       "      <th>2017-06-19</th>\n",
       "      <td>14</td>\n",
       "      <td>좋음</td>\n",
       "    </tr>\n",
       "    <tr>\n",
       "      <th>2017-04-24</th>\n",
       "      <td>20</td>\n",
       "      <td>좋음</td>\n",
       "    </tr>\n",
       "    <tr>\n",
       "      <th>2017-04-22</th>\n",
       "      <td>8</td>\n",
       "      <td>좋음</td>\n",
       "    </tr>\n",
       "    <tr>\n",
       "      <th>2017-03-06</th>\n",
       "      <td>30</td>\n",
       "      <td>좋음</td>\n",
       "    </tr>\n",
       "    <tr>\n",
       "      <th>2017-06-13</th>\n",
       "      <td>9</td>\n",
       "      <td>좋음</td>\n",
       "    </tr>\n",
       "    <tr>\n",
       "      <th>2017-03-21</th>\n",
       "      <td>25</td>\n",
       "      <td>좋음</td>\n",
       "    </tr>\n",
       "    <tr>\n",
       "      <th>2017-06-28</th>\n",
       "      <td>13</td>\n",
       "      <td>좋음</td>\n",
       "    </tr>\n",
       "    <tr>\n",
       "      <th>2017-06-02</th>\n",
       "      <td>30</td>\n",
       "      <td>좋음</td>\n",
       "    </tr>\n",
       "  </tbody>\n",
       "</table>\n",
       "</div>"
      ],
      "text/plain": [
       "             미세먼지농도 (㎍/㎥)  결과\n",
       "날짜                           \n",
       "2017-06-01             22  좋음\n",
       "2017-04-14             33  보통\n",
       "2017-06-19             14  좋음\n",
       "2017-04-24             20  좋음\n",
       "2017-04-22              8  좋음\n",
       "2017-03-06             30  좋음\n",
       "2017-06-13              9  좋음\n",
       "2017-03-21             25  좋음\n",
       "2017-06-28             13  좋음\n",
       "2017-06-02             30  좋음"
      ]
     },
     "execution_count": 52,
     "metadata": {},
     "output_type": "execute_result"
    }
   ],
   "source": [
    "dust['2017-03':'2017-06'].sample(10)\n",
    "## 인덱싱이 된다...!! iloc쓰지 않는데도"
   ]
  },
  {
   "cell_type": "code",
   "execution_count": 56,
   "metadata": {
    "ExecuteTime": {
     "end_time": "2019-07-25T01:15:59.393141Z",
     "start_time": "2019-07-25T01:15:59.371679Z"
    }
   },
   "outputs": [
    {
     "ename": "AttributeError",
     "evalue": "'DatetimeIndex' object has no attribute 'resample'",
     "output_type": "error",
     "traceback": [
      "\u001b[1;31m---------------------------------------------------------------------------\u001b[0m",
      "\u001b[1;31mAttributeError\u001b[0m                            Traceback (most recent call last)",
      "\u001b[1;32m<ipython-input-56-cdfdd04dabf8>\u001b[0m in \u001b[0;36m<module>\u001b[1;34m\u001b[0m\n\u001b[1;32m----> 1\u001b[1;33m \u001b[0mdust\u001b[0m\u001b[1;33m.\u001b[0m\u001b[0mindex\u001b[0m\u001b[1;33m.\u001b[0m\u001b[0mresample\u001b[0m\u001b[1;33m(\u001b[0m\u001b[1;34m'3D'\u001b[0m\u001b[1;33m)\u001b[0m\u001b[1;33m\u001b[0m\u001b[1;33m\u001b[0m\u001b[0m\n\u001b[0m",
      "\u001b[1;31mAttributeError\u001b[0m: 'DatetimeIndex' object has no attribute 'resample'"
     ]
    }
   ],
   "source": [
    "dust.index.resample('3D')"
   ]
  },
  {
   "cell_type": "markdown",
   "metadata": {},
   "source": [
    "------------------------"
   ]
  },
  {
   "cell_type": "code",
   "execution_count": 54,
   "metadata": {
    "ExecuteTime": {
     "end_time": "2019-07-25T01:14:02.267289Z",
     "start_time": "2019-07-25T01:14:02.249837Z"
    }
   },
   "outputs": [
    {
     "data": {
      "text/plain": [
       "2000-01-01 00:00:00    0\n",
       "2000-01-01 00:01:00    1\n",
       "2000-01-01 00:02:00    2\n",
       "2000-01-01 00:03:00    3\n",
       "2000-01-01 00:04:00    4\n",
       "2000-01-01 00:05:00    5\n",
       "2000-01-01 00:06:00    6\n",
       "2000-01-01 00:07:00    7\n",
       "2000-01-01 00:08:00    8\n",
       "Freq: T, dtype: int64"
      ]
     },
     "execution_count": 54,
     "metadata": {},
     "output_type": "execute_result"
    }
   ],
   "source": [
    "index = pd.date_range('1/1/2000', periods=9, freq='T')\n",
    "series = pd.Series(range(9), index=index)\n",
    "series\n",
    "## series의 index가 datetimeindex이면 resample가능"
   ]
  },
  {
   "cell_type": "code",
   "execution_count": 57,
   "metadata": {
    "ExecuteTime": {
     "end_time": "2019-07-25T01:16:23.449231Z",
     "start_time": "2019-07-25T01:16:23.412798Z"
    }
   },
   "outputs": [
    {
     "data": {
      "text/plain": [
       "2000-01-01 00:00:00     3\n",
       "2000-01-01 00:03:00    12\n",
       "2000-01-01 00:06:00    21\n",
       "Freq: 3T, dtype: int64"
      ]
     },
     "execution_count": 57,
     "metadata": {},
     "output_type": "execute_result"
    }
   ],
   "source": [
    "series.resample('3T').sum()"
   ]
  },
  {
   "cell_type": "code",
   "execution_count": null,
   "metadata": {},
   "outputs": [],
   "source": []
  },
  {
   "cell_type": "code",
   "execution_count": null,
   "metadata": {},
   "outputs": [],
   "source": []
  },
  {
   "cell_type": "markdown",
   "metadata": {},
   "source": [
    "---------------------------\n",
    "왜 datetime은 numpy아닌 python에서 가져왔냐?"
   ]
  },
  {
   "cell_type": "code",
   "execution_count": 58,
   "metadata": {
    "ExecuteTime": {
     "end_time": "2019-07-25T01:42:29.663044Z",
     "start_time": "2019-07-25T01:42:29.649587Z"
    }
   },
   "outputs": [
    {
     "data": {
      "text/plain": [
       "array('2015-07-04', dtype='datetime64[D]')"
      ]
     },
     "execution_count": 58,
     "metadata": {},
     "output_type": "execute_result"
    }
   ],
   "source": [
    "date = np.array('2015-07-04', dtype=np.datetime64)\n",
    "date\n",
    "## numpy는 datetime에 대한 지원이 별로 없다.\n",
    "## 통일성을 위해 타입 이름은 np에서 가져왔다."
   ]
  },
  {
   "cell_type": "code",
   "execution_count": 59,
   "metadata": {
    "ExecuteTime": {
     "end_time": "2019-07-25T01:43:46.224634Z",
     "start_time": "2019-07-25T01:43:46.215153Z"
    }
   },
   "outputs": [
    {
     "data": {
      "text/plain": [
       "array(['2015-07-04', '2015-07-05', '2015-07-06', '2015-07-07',\n",
       "       '2015-07-08', '2015-07-09', '2015-07-10', '2015-07-11',\n",
       "       '2015-07-12', '2015-07-13', '2015-07-14', '2015-07-15'],\n",
       "      dtype='datetime64[D]')"
      ]
     },
     "execution_count": 59,
     "metadata": {},
     "output_type": "execute_result"
    }
   ],
   "source": [
    "date + np.arange(12)\n",
    "# numpy는 homogeneous하다 -> 유용할거야"
   ]
  },
  {
   "cell_type": "code",
   "execution_count": 63,
   "metadata": {
    "ExecuteTime": {
     "end_time": "2019-07-25T01:46:06.284615Z",
     "start_time": "2019-07-25T01:46:06.277125Z"
    }
   },
   "outputs": [
    {
     "data": {
      "text/plain": [
       "False"
      ]
     },
     "execution_count": 63,
     "metadata": {},
     "output_type": "execute_result"
    }
   ],
   "source": [
    "b = np.datetime64('2015-07-04')\n",
    "isinstance(b, datetime.date)\n",
    "## numpy는 python datetime object 가져오지 않았따."
   ]
  },
  {
   "cell_type": "code",
   "execution_count": 64,
   "metadata": {
    "ExecuteTime": {
     "end_time": "2019-07-25T01:47:28.395820Z",
     "start_time": "2019-07-25T01:47:28.388833Z"
    }
   },
   "outputs": [
    {
     "data": {
      "text/plain": [
       "numpy.datetime64('2015-07-04T12:59:59.500000000')"
      ]
     },
     "execution_count": 64,
     "metadata": {},
     "output_type": "execute_result"
    }
   ],
   "source": [
    "np.datetime64('2015-07-04 12:59:59.50', 'ns')\n",
    "# numpy는 international standard만 따른다"
   ]
  },
  {
   "cell_type": "code",
   "execution_count": 65,
   "metadata": {
    "ExecuteTime": {
     "end_time": "2019-07-25T01:50:57.901895Z",
     "start_time": "2019-07-25T01:50:57.891432Z"
    }
   },
   "outputs": [
    {
     "data": {
      "text/plain": [
       "DatetimeIndex(['2014-07-04', '2014-08-04', '2015-07-04', '2015-08-04'], dtype='datetime64[ns]', freq=None)"
      ]
     },
     "execution_count": 65,
     "metadata": {},
     "output_type": "execute_result"
    }
   ],
   "source": [
    "t"
   ]
  },
  {
   "cell_type": "code",
   "execution_count": 68,
   "metadata": {
    "ExecuteTime": {
     "end_time": "2019-07-25T01:51:23.930087Z",
     "start_time": "2019-07-25T01:51:23.911617Z"
    }
   },
   "outputs": [
    {
     "ename": "AttributeError",
     "evalue": "'DatetimeIndex' object has no attribute 'loc'",
     "output_type": "error",
     "traceback": [
      "\u001b[1;31m---------------------------------------------------------------------------\u001b[0m",
      "\u001b[1;31mAttributeError\u001b[0m                            Traceback (most recent call last)",
      "\u001b[1;32m<ipython-input-68-8eef625df872>\u001b[0m in \u001b[0;36m<module>\u001b[1;34m\u001b[0m\n\u001b[1;32m----> 1\u001b[1;33m \u001b[0mt\u001b[0m\u001b[1;33m.\u001b[0m\u001b[0mloc\u001b[0m\u001b[1;33m[\u001b[0m\u001b[1;34m'2014-07'\u001b[0m\u001b[1;33m]\u001b[0m\u001b[1;33m\u001b[0m\u001b[1;33m\u001b[0m\u001b[0m\n\u001b[0m",
      "\u001b[1;31mAttributeError\u001b[0m: 'DatetimeIndex' object has no attribute 'loc'"
     ]
    }
   ],
   "source": [
    "t.loc['2014-07']"
   ]
  },
  {
   "cell_type": "code",
   "execution_count": 69,
   "metadata": {
    "ExecuteTime": {
     "end_time": "2019-07-25T01:51:37.877474Z",
     "start_time": "2019-07-25T01:51:37.866497Z"
    }
   },
   "outputs": [
    {
     "data": {
      "text/plain": [
       "2014-07-04    0\n",
       "2014-08-04    1\n",
       "2015-07-04    2\n",
       "2015-08-04    3\n",
       "dtype: int64"
      ]
     },
     "execution_count": 69,
     "metadata": {},
     "output_type": "execute_result"
    }
   ],
   "source": [
    "data = pd.Series([0,1,2,3], index=t)\n",
    "data"
   ]
  },
  {
   "cell_type": "code",
   "execution_count": 70,
   "metadata": {
    "ExecuteTime": {
     "end_time": "2019-07-25T01:51:54.360410Z",
     "start_time": "2019-07-25T01:51:54.345938Z"
    }
   },
   "outputs": [
    {
     "data": {
      "text/plain": [
       "2014-07-04    0\n",
       "2014-08-04    1\n",
       "dtype: int64"
      ]
     },
     "execution_count": 70,
     "metadata": {},
     "output_type": "execute_result"
    }
   ],
   "source": [
    "data['2014']"
   ]
  },
  {
   "cell_type": "code",
   "execution_count": 71,
   "metadata": {
    "ExecuteTime": {
     "end_time": "2019-07-25T01:52:04.468040Z",
     "start_time": "2019-07-25T01:52:04.454566Z"
    }
   },
   "outputs": [
    {
     "data": {
      "text/plain": [
       "2014-07-04    0\n",
       "2014-08-04    1\n",
       "dtype: int64"
      ]
     },
     "execution_count": 71,
     "metadata": {},
     "output_type": "execute_result"
    }
   ],
   "source": [
    "data.loc['2014']"
   ]
  },
  {
   "cell_type": "code",
   "execution_count": 73,
   "metadata": {
    "ExecuteTime": {
     "end_time": "2019-07-25T01:54:36.449633Z",
     "start_time": "2019-07-25T01:54:36.441149Z"
    }
   },
   "outputs": [
    {
     "data": {
      "text/plain": [
       "2014-07-04    0\n",
       "2014-08-04    1\n",
       "2015-07-04    2\n",
       "dtype: int64"
      ]
     },
     "execution_count": 73,
     "metadata": {},
     "output_type": "execute_result"
    }
   ],
   "source": [
    "data.iloc[0:3]"
   ]
  },
  {
   "cell_type": "markdown",
   "metadata": {},
   "source": [
    "# fbProphet \n",
    "- facebook에서 공개한 시계열 분석 프레임워크\n",
    "- R과 python 모두 지원\n",
    "- Pandas기반으로 시계열 분석"
   ]
  },
  {
   "cell_type": "code",
   "execution_count": 9,
   "metadata": {
    "ExecuteTime": {
     "end_time": "2019-07-30T07:06:46.727631Z",
     "start_time": "2019-07-30T07:06:46.721636Z"
    }
   },
   "outputs": [],
   "source": [
    "# !pip install fbprophet"
   ]
  },
  {
   "cell_type": "code",
   "execution_count": 10,
   "metadata": {
    "ExecuteTime": {
     "end_time": "2019-07-30T07:06:47.626113Z",
     "start_time": "2019-07-30T07:06:46.854558Z"
    }
   },
   "outputs": [],
   "source": [
    "data = pd.read_csv('https://raw.githubusercontent.com/facebook/prophet/master/examples/example_wp_log_peyton_manning.csv')"
   ]
  },
  {
   "cell_type": "code",
   "execution_count": 11,
   "metadata": {
    "ExecuteTime": {
     "end_time": "2019-07-30T07:06:47.637109Z",
     "start_time": "2019-07-30T07:06:47.631111Z"
    }
   },
   "outputs": [],
   "source": [
    "from fbprophet import Prophet"
   ]
  },
  {
   "cell_type": "code",
   "execution_count": 12,
   "metadata": {
    "ExecuteTime": {
     "end_time": "2019-07-30T07:06:47.673088Z",
     "start_time": "2019-07-30T07:06:47.644104Z"
    }
   },
   "outputs": [],
   "source": [
    "m = Prophet()"
   ]
  },
  {
   "cell_type": "code",
   "execution_count": 13,
   "metadata": {
    "ExecuteTime": {
     "end_time": "2019-07-30T07:07:05.606797Z",
     "start_time": "2019-07-30T07:06:47.679084Z"
    }
   },
   "outputs": [
    {
     "name": "stderr",
     "output_type": "stream",
     "text": [
      "INFO:fbprophet:Disabling daily seasonality. Run prophet with daily_seasonality=True to override this.\n"
     ]
    },
    {
     "data": {
      "text/plain": [
       "<fbprophet.forecaster.Prophet at 0x224952db438>"
      ]
     },
     "execution_count": 13,
     "metadata": {},
     "output_type": "execute_result"
    }
   ],
   "source": [
    "m.fit(data)"
   ]
  },
  {
   "cell_type": "code",
   "execution_count": 14,
   "metadata": {
    "ExecuteTime": {
     "end_time": "2019-07-30T07:07:05.907630Z",
     "start_time": "2019-07-30T07:07:05.615792Z"
    }
   },
   "outputs": [
    {
     "data": {
      "text/plain": [
       "{'growth': 'linear', 'changepoints': 93     2008-03-17\n",
       " 186    2008-06-20\n",
       " 279    2008-10-11\n",
       " 372    2009-01-14\n",
       " 465    2009-04-17\n",
       " 558    2009-07-19\n",
       " 650    2009-10-26\n",
       " 743    2010-01-31\n",
       " 836    2010-05-06\n",
       " 929    2010-08-14\n",
       " 1022   2010-11-15\n",
       " 1115   2011-02-16\n",
       " 1208   2011-05-20\n",
       " 1301   2011-08-21\n",
       " 1394   2011-11-24\n",
       " 1487   2012-02-27\n",
       " 1580   2012-05-31\n",
       " 1673   2012-09-01\n",
       " 1765   2012-12-02\n",
       " 1858   2013-03-05\n",
       " 1951   2013-06-06\n",
       " 2044   2013-09-08\n",
       " 2137   2013-12-10\n",
       " 2230   2014-03-14\n",
       " 2323   2014-06-15\n",
       " Name: ds, dtype: datetime64[ns], 'n_changepoints': 25, 'specified_changepoints': False, 'changepoint_range': 0.8, 'yearly_seasonality': 'auto', 'weekly_seasonality': 'auto', 'daily_seasonality': 'auto', 'holidays': None, 'seasonality_mode': 'additive', 'seasonality_prior_scale': 10.0, 'changepoint_prior_scale': 0.05, 'holidays_prior_scale': 10.0, 'mcmc_samples': 0, 'interval_width': 0.8, 'uncertainty_samples': 1000, 'start': Timestamp('2007-12-10 00:00:00'), 'y_scale': 12.846746888829, 'logistic_floor': False, 't_scale': Timedelta('2963 days 00:00:00'), 'changepoints_t': array([0.03307459, 0.06513669, 0.10327371, 0.13533581, 0.16672292,\n",
       "        0.19811002, 0.23152211, 0.2642592 , 0.2963213 , 0.33007087,\n",
       "        0.36145798, 0.39284509, 0.4242322 , 0.4556193 , 0.4876814 ,\n",
       "        0.5197435 , 0.55146811, 0.58285521, 0.61390483, 0.64529193,\n",
       "        0.67667904, 0.70840364, 0.73979075, 0.77151536, 0.80290246]), 'seasonalities': OrderedDict([('yearly',\n",
       "               {'period': 365.25,\n",
       "                'fourier_order': 10,\n",
       "                'prior_scale': 10.0,\n",
       "                'mode': 'additive',\n",
       "                'condition_name': None}),\n",
       "              ('weekly',\n",
       "               {'period': 7,\n",
       "                'fourier_order': 3,\n",
       "                'prior_scale': 10.0,\n",
       "                'mode': 'additive',\n",
       "                'condition_name': None})]), 'extra_regressors': OrderedDict(), 'country_holidays': None, 'stan_fit': None, 'params': {'k': array([[-0.35584268]]),\n",
       "  'm': array([[0.62579705]]),\n",
       "  'delta': array([[-3.12801581e-07,  1.54690402e-07,  3.53787445e-01,\n",
       "           4.58197737e-01,  6.56017382e-08, -1.48695713e-05,\n",
       "          -2.43960919e-01, -2.48367629e-01, -7.69789167e-08,\n",
       "           1.31822414e-07,  1.61377753e-07,  2.96134781e-01,\n",
       "           2.11133895e-01,  3.11512657e-03,  1.65044651e-06,\n",
       "          -8.49493697e-01, -2.51500259e-08, -9.69628358e-08,\n",
       "          -3.81525213e-08,  4.61014444e-01,  1.01499708e-02,\n",
       "           7.28540014e-08, -3.33592896e-01, -1.23750296e-07,\n",
       "           9.87642985e-09]]),\n",
       "  'sigma_obs': array([[0.03766921]]),\n",
       "  'beta': array([[-0.03000149,  0.04823556,  0.01000706, -0.00228073,  0.01253795,\n",
       "           0.01559245,  0.00950493,  0.00075653,  0.00391295, -0.00586991,\n",
       "           0.00754027, -0.00524308,  0.00208187, -0.00477639, -0.00410699,\n",
       "          -0.00776954, -0.00081462,  0.00125569,  0.00187106,  0.00698351,\n",
       "          -0.0123368 , -0.01057241,  0.00938506,  0.00847024,  0.0008808 ,\n",
       "          -0.00352338]]),\n",
       "  'trend': array([[0.62579705, 0.62567696, 0.62555686, ..., 0.58841665, 0.58833642,\n",
       "          0.58825618]]),\n",
       "  'Y': array([[0.68830878, 0.66873536, 0.65284305, ..., 0.69508478, 0.67842122,\n",
       "          0.66525234]]),\n",
       "  'beta_m': array([[-0.,  0.,  0., -0.,  0.,  0.,  0.,  0.,  0., -0.,  0., -0.,  0.,\n",
       "          -0., -0., -0., -0.,  0.,  0.,  0., -0., -0.,  0.,  0.,  0., -0.]]),\n",
       "  'beta_a': array([[-0.03000149,  0.04823556,  0.01000706, -0.00228073,  0.01253795,\n",
       "           0.01559245,  0.00950493,  0.00075653,  0.00391295, -0.00586991,\n",
       "           0.00754027, -0.00524308,  0.00208187, -0.00477639, -0.00410699,\n",
       "          -0.00776954, -0.00081462,  0.00125569,  0.00187106,  0.00698351,\n",
       "          -0.0123368 , -0.01057241,  0.00938506,  0.00847024,  0.0008808 ,\n",
       "          -0.00352338]])}, 'history':              ds          y  floor         t  y_scaled\n",
       " 0    2007-12-10   9.590761      0  0.000000  0.746552\n",
       " 1    2007-12-11   8.519590      0  0.000337  0.663171\n",
       " 2    2007-12-12   8.183677      0  0.000675  0.637023\n",
       " 3    2007-12-13   8.072467      0  0.001012  0.628367\n",
       " 4    2007-12-14   7.893572      0  0.001350  0.614441\n",
       " 5    2007-12-15   7.783641      0  0.001687  0.605884\n",
       " 6    2007-12-16   8.414052      0  0.002025  0.654956\n",
       " 7    2007-12-17   8.829226      0  0.002362  0.687273\n",
       " 8    2007-12-18   8.382518      0  0.002700  0.652501\n",
       " 9    2007-12-19   8.069655      0  0.003037  0.628148\n",
       " 10   2007-12-20   7.879291      0  0.003375  0.613330\n",
       " 11   2007-12-21   7.761745      0  0.003712  0.604180\n",
       " 12   2007-12-22   7.529406      0  0.004050  0.586094\n",
       " 13   2007-12-23   8.385261      0  0.004387  0.652715\n",
       " 14   2007-12-24   8.620111      0  0.004725  0.670996\n",
       " 15   2007-12-25   7.852439      0  0.005062  0.611239\n",
       " 16   2007-12-26   7.853993      0  0.005400  0.611360\n",
       " 17   2007-12-27   8.051978      0  0.005737  0.626772\n",
       " 18   2007-12-28   7.926603      0  0.006075  0.617012\n",
       " 19   2007-12-29   7.838343      0  0.006412  0.610142\n",
       " 20   2007-12-30   9.703145      0  0.006750  0.755300\n",
       " 21   2007-12-31   9.385973      0  0.007087  0.730611\n",
       " 22   2008-01-01   8.293800      0  0.007425  0.645595\n",
       " 23   2008-01-02   8.434681      0  0.007762  0.656562\n",
       " 24   2008-01-03   8.262043      0  0.008100  0.643123\n",
       " 25   2008-01-04   8.106816      0  0.008437  0.631040\n",
       " 26   2008-01-05   7.950150      0  0.008775  0.618845\n",
       " 27   2008-01-06   9.509259      0  0.009112  0.740208\n",
       " 28   2008-01-07   8.846785      0  0.009450  0.688640\n",
       " 29   2008-01-08   8.430545      0  0.009787  0.656240\n",
       " ...         ...        ...    ...       ...       ...\n",
       " 2875 2015-12-22   8.110427      0  0.990213  0.631321\n",
       " 2876 2015-12-23   7.775276      0  0.990550  0.605233\n",
       " 2877 2015-12-24   7.347300      0  0.990888  0.571919\n",
       " 2878 2015-12-25   7.301822      0  0.991225  0.568379\n",
       " 2879 2015-12-26   7.120444      0  0.991563  0.554261\n",
       " 2880 2015-12-27   8.878776      0  0.991900  0.691130\n",
       " 2881 2015-12-28   9.250618      0  0.992238  0.720075\n",
       " 2882 2015-12-29   9.247925      0  0.992575  0.719865\n",
       " 2883 2015-12-30   8.391403      0  0.992913  0.653193\n",
       " 2884 2015-12-31   8.004700      0  0.993250  0.623092\n",
       " 2885 2016-01-01   7.589336      0  0.993588  0.590759\n",
       " 2886 2016-01-02   7.825245      0  0.993925  0.609123\n",
       " 2887 2016-01-03   8.249314      0  0.994263  0.642133\n",
       " 2888 2016-01-04   9.295141      0  0.994600  0.723540\n",
       " 2889 2016-01-05   8.568266      0  0.994938  0.666960\n",
       " 2890 2016-01-06   8.352554      0  0.995275  0.650169\n",
       " 2891 2016-01-07   8.295798      0  0.995613  0.645751\n",
       " 2892 2016-01-08   8.290293      0  0.995950  0.645322\n",
       " 2893 2016-01-09   7.785721      0  0.996288  0.606046\n",
       " 2894 2016-01-10   8.281724      0  0.996625  0.644655\n",
       " 2895 2016-01-11   8.470730      0  0.996963  0.659368\n",
       " 2896 2016-01-12   8.135054      0  0.997300  0.633238\n",
       " 2897 2016-01-13   8.067149      0  0.997638  0.627953\n",
       " 2898 2016-01-14   8.023552      0  0.997975  0.624559\n",
       " 2899 2016-01-15   8.021913      0  0.998313  0.624431\n",
       " 2900 2016-01-16   7.817223      0  0.998650  0.608498\n",
       " 2901 2016-01-17   9.273878      0  0.998988  0.721885\n",
       " 2902 2016-01-18  10.333775      0  0.999325  0.804388\n",
       " 2903 2016-01-19   9.125871      0  0.999663  0.710364\n",
       " 2904 2016-01-20   8.891374      0  1.000000  0.692111\n",
       " \n",
       " [2905 rows x 5 columns], 'history_dates': 0      2007-12-10\n",
       " 1      2007-12-11\n",
       " 2      2007-12-12\n",
       " 3      2007-12-13\n",
       " 4      2007-12-14\n",
       " 5      2007-12-15\n",
       " 6      2007-12-16\n",
       " 7      2007-12-17\n",
       " 8      2007-12-18\n",
       " 9      2007-12-19\n",
       " 10     2007-12-20\n",
       " 11     2007-12-21\n",
       " 12     2007-12-22\n",
       " 13     2007-12-23\n",
       " 14     2007-12-24\n",
       " 15     2007-12-25\n",
       " 16     2007-12-26\n",
       " 17     2007-12-27\n",
       " 18     2007-12-28\n",
       " 19     2007-12-29\n",
       " 20     2007-12-30\n",
       " 21     2007-12-31\n",
       " 22     2008-01-01\n",
       " 23     2008-01-02\n",
       " 24     2008-01-03\n",
       " 25     2008-01-04\n",
       " 26     2008-01-05\n",
       " 27     2008-01-06\n",
       " 28     2008-01-07\n",
       " 29     2008-01-08\n",
       "           ...    \n",
       " 2875   2015-12-22\n",
       " 2876   2015-12-23\n",
       " 2877   2015-12-24\n",
       " 2878   2015-12-25\n",
       " 2879   2015-12-26\n",
       " 2880   2015-12-27\n",
       " 2881   2015-12-28\n",
       " 2882   2015-12-29\n",
       " 2883   2015-12-30\n",
       " 2884   2015-12-31\n",
       " 2885   2016-01-01\n",
       " 2886   2016-01-02\n",
       " 2887   2016-01-03\n",
       " 2888   2016-01-04\n",
       " 2889   2016-01-05\n",
       " 2890   2016-01-06\n",
       " 2891   2016-01-07\n",
       " 2892   2016-01-08\n",
       " 2893   2016-01-09\n",
       " 2894   2016-01-10\n",
       " 2895   2016-01-11\n",
       " 2896   2016-01-12\n",
       " 2897   2016-01-13\n",
       " 2898   2016-01-14\n",
       " 2899   2016-01-15\n",
       " 2900   2016-01-16\n",
       " 2901   2016-01-17\n",
       " 2902   2016-01-18\n",
       " 2903   2016-01-19\n",
       " 2904   2016-01-20\n",
       " Name: ds, Length: 2905, dtype: datetime64[ns], 'train_component_cols': component  additive_terms  weekly  yearly  multiplicative_terms\n",
       " col                                                            \n",
       " 0                       1       0       1                     0\n",
       " 1                       1       0       1                     0\n",
       " 2                       1       0       1                     0\n",
       " 3                       1       0       1                     0\n",
       " 4                       1       0       1                     0\n",
       " 5                       1       0       1                     0\n",
       " 6                       1       0       1                     0\n",
       " 7                       1       0       1                     0\n",
       " 8                       1       0       1                     0\n",
       " 9                       1       0       1                     0\n",
       " 10                      1       0       1                     0\n",
       " 11                      1       0       1                     0\n",
       " 12                      1       0       1                     0\n",
       " 13                      1       0       1                     0\n",
       " 14                      1       0       1                     0\n",
       " 15                      1       0       1                     0\n",
       " 16                      1       0       1                     0\n",
       " 17                      1       0       1                     0\n",
       " 18                      1       0       1                     0\n",
       " 19                      1       0       1                     0\n",
       " 20                      1       1       0                     0\n",
       " 21                      1       1       0                     0\n",
       " 22                      1       1       0                     0\n",
       " 23                      1       1       0                     0\n",
       " 24                      1       1       0                     0\n",
       " 25                      1       1       0                     0, 'component_modes': {'additive': ['yearly',\n",
       "   'weekly',\n",
       "   'additive_terms',\n",
       "   'extra_regressors_additive',\n",
       "   'holidays'],\n",
       "  'multiplicative': ['multiplicative_terms',\n",
       "   'extra_regressors_multiplicative']}, 'train_holiday_names': None}"
      ]
     },
     "execution_count": 14,
     "metadata": {},
     "output_type": "execute_result"
    }
   ],
   "source": [
    "vars(m)"
   ]
  },
  {
   "cell_type": "code",
   "execution_count": 15,
   "metadata": {
    "ExecuteTime": {
     "end_time": "2019-07-30T07:07:06.045544Z",
     "start_time": "2019-07-30T07:07:05.921614Z"
    }
   },
   "outputs": [
    {
     "data": {
      "text/html": [
       "<div>\n",
       "<style scoped>\n",
       "    .dataframe tbody tr th:only-of-type {\n",
       "        vertical-align: middle;\n",
       "    }\n",
       "\n",
       "    .dataframe tbody tr th {\n",
       "        vertical-align: top;\n",
       "    }\n",
       "\n",
       "    .dataframe thead th {\n",
       "        text-align: right;\n",
       "    }\n",
       "</style>\n",
       "<table border=\"1\" class=\"dataframe\">\n",
       "  <thead>\n",
       "    <tr style=\"text-align: right;\">\n",
       "      <th></th>\n",
       "      <th>ds</th>\n",
       "    </tr>\n",
       "  </thead>\n",
       "  <tbody>\n",
       "    <tr>\n",
       "      <th>3265</th>\n",
       "      <td>2017-01-15</td>\n",
       "    </tr>\n",
       "    <tr>\n",
       "      <th>3266</th>\n",
       "      <td>2017-01-16</td>\n",
       "    </tr>\n",
       "    <tr>\n",
       "      <th>3267</th>\n",
       "      <td>2017-01-17</td>\n",
       "    </tr>\n",
       "    <tr>\n",
       "      <th>3268</th>\n",
       "      <td>2017-01-18</td>\n",
       "    </tr>\n",
       "    <tr>\n",
       "      <th>3269</th>\n",
       "      <td>2017-01-19</td>\n",
       "    </tr>\n",
       "  </tbody>\n",
       "</table>\n",
       "</div>"
      ],
      "text/plain": [
       "             ds\n",
       "3265 2017-01-15\n",
       "3266 2017-01-16\n",
       "3267 2017-01-17\n",
       "3268 2017-01-18\n",
       "3269 2017-01-19"
      ]
     },
     "execution_count": 15,
     "metadata": {},
     "output_type": "execute_result"
    }
   ],
   "source": [
    "future = m.make_future_dataframe(periods=365)\n",
    "future.tail()"
   ]
  },
  {
   "cell_type": "code",
   "execution_count": 16,
   "metadata": {
    "ExecuteTime": {
     "end_time": "2019-07-30T07:07:06.065533Z",
     "start_time": "2019-07-30T07:07:06.053544Z"
    }
   },
   "outputs": [
    {
     "data": {
      "text/plain": [
       "{'_is_copy': None, '_data': BlockManager\n",
       " Items: Index(['ds'], dtype='object')\n",
       " Axis 1: RangeIndex(start=0, stop=3270, step=1)\n",
       " DatetimeBlock: slice(0, 1, 1), 1 x 3270, dtype: datetime64[ns], '_item_cache': {}}"
      ]
     },
     "execution_count": 16,
     "metadata": {},
     "output_type": "execute_result"
    }
   ],
   "source": [
    "vars(future)"
   ]
  },
  {
   "cell_type": "code",
   "execution_count": 17,
   "metadata": {
    "ExecuteTime": {
     "end_time": "2019-07-30T07:07:24.478966Z",
     "start_time": "2019-07-30T07:07:06.073530Z"
    }
   },
   "outputs": [
    {
     "data": {
      "text/html": [
       "<div>\n",
       "<style scoped>\n",
       "    .dataframe tbody tr th:only-of-type {\n",
       "        vertical-align: middle;\n",
       "    }\n",
       "\n",
       "    .dataframe tbody tr th {\n",
       "        vertical-align: top;\n",
       "    }\n",
       "\n",
       "    .dataframe thead th {\n",
       "        text-align: right;\n",
       "    }\n",
       "</style>\n",
       "<table border=\"1\" class=\"dataframe\">\n",
       "  <thead>\n",
       "    <tr style=\"text-align: right;\">\n",
       "      <th></th>\n",
       "      <th>ds</th>\n",
       "      <th>yhat</th>\n",
       "      <th>yhat_lower</th>\n",
       "      <th>yhat_upper</th>\n",
       "    </tr>\n",
       "  </thead>\n",
       "  <tbody>\n",
       "    <tr>\n",
       "      <th>0</th>\n",
       "      <td>2007-12-10</td>\n",
       "      <td>8.842529</td>\n",
       "      <td>8.205278</td>\n",
       "      <td>9.438983</td>\n",
       "    </tr>\n",
       "    <tr>\n",
       "      <th>1</th>\n",
       "      <td>2007-12-11</td>\n",
       "      <td>8.591074</td>\n",
       "      <td>7.971828</td>\n",
       "      <td>9.182509</td>\n",
       "    </tr>\n",
       "    <tr>\n",
       "      <th>2</th>\n",
       "      <td>2007-12-12</td>\n",
       "      <td>8.386909</td>\n",
       "      <td>7.770587</td>\n",
       "      <td>9.009859</td>\n",
       "    </tr>\n",
       "    <tr>\n",
       "      <th>3</th>\n",
       "      <td>2007-12-13</td>\n",
       "      <td>8.364808</td>\n",
       "      <td>7.739363</td>\n",
       "      <td>8.946143</td>\n",
       "    </tr>\n",
       "    <tr>\n",
       "      <th>4</th>\n",
       "      <td>2007-12-14</td>\n",
       "      <td>8.352801</td>\n",
       "      <td>7.753665</td>\n",
       "      <td>8.930870</td>\n",
       "    </tr>\n",
       "    <tr>\n",
       "      <th>5</th>\n",
       "      <td>2007-12-15</td>\n",
       "      <td>8.098104</td>\n",
       "      <td>7.430647</td>\n",
       "      <td>8.732325</td>\n",
       "    </tr>\n",
       "    <tr>\n",
       "      <th>6</th>\n",
       "      <td>2007-12-16</td>\n",
       "      <td>8.447997</td>\n",
       "      <td>7.855459</td>\n",
       "      <td>9.057112</td>\n",
       "    </tr>\n",
       "    <tr>\n",
       "      <th>7</th>\n",
       "      <td>2007-12-17</td>\n",
       "      <td>8.744579</td>\n",
       "      <td>8.112713</td>\n",
       "      <td>9.378600</td>\n",
       "    </tr>\n",
       "    <tr>\n",
       "      <th>8</th>\n",
       "      <td>2007-12-18</td>\n",
       "      <td>8.507396</td>\n",
       "      <td>7.867802</td>\n",
       "      <td>9.085277</td>\n",
       "    </tr>\n",
       "    <tr>\n",
       "      <th>9</th>\n",
       "      <td>2007-12-19</td>\n",
       "      <td>8.319564</td>\n",
       "      <td>7.679518</td>\n",
       "      <td>8.919249</td>\n",
       "    </tr>\n",
       "    <tr>\n",
       "      <th>10</th>\n",
       "      <td>2007-12-20</td>\n",
       "      <td>8.315463</td>\n",
       "      <td>7.736582</td>\n",
       "      <td>8.934109</td>\n",
       "    </tr>\n",
       "    <tr>\n",
       "      <th>11</th>\n",
       "      <td>2007-12-21</td>\n",
       "      <td>8.322709</td>\n",
       "      <td>7.727653</td>\n",
       "      <td>8.976816</td>\n",
       "    </tr>\n",
       "    <tr>\n",
       "      <th>12</th>\n",
       "      <td>2007-12-22</td>\n",
       "      <td>8.088085</td>\n",
       "      <td>7.462949</td>\n",
       "      <td>8.792410</td>\n",
       "    </tr>\n",
       "    <tr>\n",
       "      <th>13</th>\n",
       "      <td>2007-12-23</td>\n",
       "      <td>8.458446</td>\n",
       "      <td>7.848627</td>\n",
       "      <td>9.086098</td>\n",
       "    </tr>\n",
       "    <tr>\n",
       "      <th>14</th>\n",
       "      <td>2007-12-24</td>\n",
       "      <td>8.775473</td>\n",
       "      <td>8.129268</td>\n",
       "      <td>9.383374</td>\n",
       "    </tr>\n",
       "    <tr>\n",
       "      <th>15</th>\n",
       "      <td>2007-12-25</td>\n",
       "      <td>8.558321</td>\n",
       "      <td>7.963524</td>\n",
       "      <td>9.169998</td>\n",
       "    </tr>\n",
       "    <tr>\n",
       "      <th>16</th>\n",
       "      <td>2007-12-26</td>\n",
       "      <td>8.389746</td>\n",
       "      <td>7.783268</td>\n",
       "      <td>8.984020</td>\n",
       "    </tr>\n",
       "    <tr>\n",
       "      <th>17</th>\n",
       "      <td>2007-12-27</td>\n",
       "      <td>8.403814</td>\n",
       "      <td>7.772806</td>\n",
       "      <td>9.011614</td>\n",
       "    </tr>\n",
       "    <tr>\n",
       "      <th>18</th>\n",
       "      <td>2007-12-28</td>\n",
       "      <td>8.427873</td>\n",
       "      <td>7.800501</td>\n",
       "      <td>9.031694</td>\n",
       "    </tr>\n",
       "    <tr>\n",
       "      <th>19</th>\n",
       "      <td>2007-12-29</td>\n",
       "      <td>8.208498</td>\n",
       "      <td>7.601662</td>\n",
       "      <td>8.827118</td>\n",
       "    </tr>\n",
       "    <tr>\n",
       "      <th>20</th>\n",
       "      <td>2007-12-30</td>\n",
       "      <td>8.592389</td>\n",
       "      <td>7.971322</td>\n",
       "      <td>9.162050</td>\n",
       "    </tr>\n",
       "    <tr>\n",
       "      <th>21</th>\n",
       "      <td>2007-12-31</td>\n",
       "      <td>8.921132</td>\n",
       "      <td>8.318902</td>\n",
       "      <td>9.584874</td>\n",
       "    </tr>\n",
       "    <tr>\n",
       "      <th>22</th>\n",
       "      <td>2008-01-01</td>\n",
       "      <td>8.713846</td>\n",
       "      <td>8.113370</td>\n",
       "      <td>9.299187</td>\n",
       "    </tr>\n",
       "    <tr>\n",
       "      <th>23</th>\n",
       "      <td>2008-01-02</td>\n",
       "      <td>8.553304</td>\n",
       "      <td>7.948606</td>\n",
       "      <td>9.192289</td>\n",
       "    </tr>\n",
       "    <tr>\n",
       "      <th>24</th>\n",
       "      <td>2008-01-03</td>\n",
       "      <td>8.573639</td>\n",
       "      <td>7.953220</td>\n",
       "      <td>9.215748</td>\n",
       "    </tr>\n",
       "    <tr>\n",
       "      <th>25</th>\n",
       "      <td>2008-01-04</td>\n",
       "      <td>8.602311</td>\n",
       "      <td>7.975919</td>\n",
       "      <td>9.229661</td>\n",
       "    </tr>\n",
       "    <tr>\n",
       "      <th>26</th>\n",
       "      <td>2008-01-05</td>\n",
       "      <td>8.386038</td>\n",
       "      <td>7.796242</td>\n",
       "      <td>9.004323</td>\n",
       "    </tr>\n",
       "    <tr>\n",
       "      <th>27</th>\n",
       "      <td>2008-01-06</td>\n",
       "      <td>8.771690</td>\n",
       "      <td>8.141887</td>\n",
       "      <td>9.387030</td>\n",
       "    </tr>\n",
       "    <tr>\n",
       "      <th>28</th>\n",
       "      <td>2008-01-07</td>\n",
       "      <td>9.101042</td>\n",
       "      <td>8.465923</td>\n",
       "      <td>9.655187</td>\n",
       "    </tr>\n",
       "    <tr>\n",
       "      <th>29</th>\n",
       "      <td>2008-01-08</td>\n",
       "      <td>8.893402</td>\n",
       "      <td>8.295299</td>\n",
       "      <td>9.486609</td>\n",
       "    </tr>\n",
       "    <tr>\n",
       "      <th>...</th>\n",
       "      <td>...</td>\n",
       "      <td>...</td>\n",
       "      <td>...</td>\n",
       "      <td>...</td>\n",
       "    </tr>\n",
       "    <tr>\n",
       "      <th>3240</th>\n",
       "      <td>2016-12-21</td>\n",
       "      <td>7.520499</td>\n",
       "      <td>6.857817</td>\n",
       "      <td>8.219605</td>\n",
       "    </tr>\n",
       "    <tr>\n",
       "      <th>3241</th>\n",
       "      <td>2016-12-22</td>\n",
       "      <td>7.525062</td>\n",
       "      <td>6.823567</td>\n",
       "      <td>8.312809</td>\n",
       "    </tr>\n",
       "    <tr>\n",
       "      <th>3242</th>\n",
       "      <td>2016-12-23</td>\n",
       "      <td>7.540656</td>\n",
       "      <td>6.843832</td>\n",
       "      <td>8.266489</td>\n",
       "    </tr>\n",
       "    <tr>\n",
       "      <th>3243</th>\n",
       "      <td>2016-12-24</td>\n",
       "      <td>7.313931</td>\n",
       "      <td>6.616115</td>\n",
       "      <td>8.085681</td>\n",
       "    </tr>\n",
       "    <tr>\n",
       "      <th>3244</th>\n",
       "      <td>2016-12-25</td>\n",
       "      <td>7.691633</td>\n",
       "      <td>7.013963</td>\n",
       "      <td>8.415799</td>\n",
       "    </tr>\n",
       "    <tr>\n",
       "      <th>3245</th>\n",
       "      <td>2016-12-26</td>\n",
       "      <td>8.015353</td>\n",
       "      <td>7.301084</td>\n",
       "      <td>8.745646</td>\n",
       "    </tr>\n",
       "    <tr>\n",
       "      <th>3246</th>\n",
       "      <td>2016-12-27</td>\n",
       "      <td>7.804183</td>\n",
       "      <td>7.146078</td>\n",
       "      <td>8.518082</td>\n",
       "    </tr>\n",
       "    <tr>\n",
       "      <th>3247</th>\n",
       "      <td>2016-12-28</td>\n",
       "      <td>7.640841</td>\n",
       "      <td>6.898249</td>\n",
       "      <td>8.348395</td>\n",
       "    </tr>\n",
       "    <tr>\n",
       "      <th>3248</th>\n",
       "      <td>2016-12-29</td>\n",
       "      <td>7.659375</td>\n",
       "      <td>6.946245</td>\n",
       "      <td>8.365276</td>\n",
       "    </tr>\n",
       "    <tr>\n",
       "      <th>3249</th>\n",
       "      <td>2016-12-30</td>\n",
       "      <td>7.687143</td>\n",
       "      <td>6.966430</td>\n",
       "      <td>8.405611</td>\n",
       "    </tr>\n",
       "    <tr>\n",
       "      <th>3250</th>\n",
       "      <td>2016-12-31</td>\n",
       "      <td>7.470748</td>\n",
       "      <td>6.770035</td>\n",
       "      <td>8.196215</td>\n",
       "    </tr>\n",
       "    <tr>\n",
       "      <th>3251</th>\n",
       "      <td>2017-01-01</td>\n",
       "      <td>7.856936</td>\n",
       "      <td>7.183052</td>\n",
       "      <td>8.608649</td>\n",
       "    </tr>\n",
       "    <tr>\n",
       "      <th>3252</th>\n",
       "      <td>2017-01-02</td>\n",
       "      <td>8.187357</td>\n",
       "      <td>7.531642</td>\n",
       "      <td>8.938229</td>\n",
       "    </tr>\n",
       "    <tr>\n",
       "      <th>3253</th>\n",
       "      <td>2017-01-03</td>\n",
       "      <td>7.981201</td>\n",
       "      <td>7.267401</td>\n",
       "      <td>8.697300</td>\n",
       "    </tr>\n",
       "    <tr>\n",
       "      <th>3254</th>\n",
       "      <td>2017-01-04</td>\n",
       "      <td>7.821322</td>\n",
       "      <td>7.138700</td>\n",
       "      <td>8.601125</td>\n",
       "    </tr>\n",
       "    <tr>\n",
       "      <th>3255</th>\n",
       "      <td>2017-01-05</td>\n",
       "      <td>7.841936</td>\n",
       "      <td>7.137530</td>\n",
       "      <td>8.550679</td>\n",
       "    </tr>\n",
       "    <tr>\n",
       "      <th>3256</th>\n",
       "      <td>2017-01-06</td>\n",
       "      <td>7.870583</td>\n",
       "      <td>7.109884</td>\n",
       "      <td>8.603317</td>\n",
       "    </tr>\n",
       "    <tr>\n",
       "      <th>3257</th>\n",
       "      <td>2017-01-07</td>\n",
       "      <td>7.654057</td>\n",
       "      <td>6.944246</td>\n",
       "      <td>8.398396</td>\n",
       "    </tr>\n",
       "    <tr>\n",
       "      <th>3258</th>\n",
       "      <td>2017-01-08</td>\n",
       "      <td>8.039294</td>\n",
       "      <td>7.340600</td>\n",
       "      <td>8.743965</td>\n",
       "    </tr>\n",
       "    <tr>\n",
       "      <th>3259</th>\n",
       "      <td>2017-01-09</td>\n",
       "      <td>8.368121</td>\n",
       "      <td>7.673235</td>\n",
       "      <td>9.104908</td>\n",
       "    </tr>\n",
       "    <tr>\n",
       "      <th>3260</th>\n",
       "      <td>2017-01-10</td>\n",
       "      <td>8.159882</td>\n",
       "      <td>7.444105</td>\n",
       "      <td>8.869673</td>\n",
       "    </tr>\n",
       "    <tr>\n",
       "      <th>3261</th>\n",
       "      <td>2017-01-11</td>\n",
       "      <td>7.997559</td>\n",
       "      <td>7.298920</td>\n",
       "      <td>8.751647</td>\n",
       "    </tr>\n",
       "    <tr>\n",
       "      <th>3262</th>\n",
       "      <td>2017-01-12</td>\n",
       "      <td>8.015453</td>\n",
       "      <td>7.252456</td>\n",
       "      <td>8.747215</td>\n",
       "    </tr>\n",
       "    <tr>\n",
       "      <th>3263</th>\n",
       "      <td>2017-01-13</td>\n",
       "      <td>8.041150</td>\n",
       "      <td>7.339260</td>\n",
       "      <td>8.784858</td>\n",
       "    </tr>\n",
       "    <tr>\n",
       "      <th>3264</th>\n",
       "      <td>2017-01-14</td>\n",
       "      <td>7.821443</td>\n",
       "      <td>7.104543</td>\n",
       "      <td>8.604953</td>\n",
       "    </tr>\n",
       "    <tr>\n",
       "      <th>3265</th>\n",
       "      <td>2017-01-15</td>\n",
       "      <td>8.203217</td>\n",
       "      <td>7.530817</td>\n",
       "      <td>8.965663</td>\n",
       "    </tr>\n",
       "    <tr>\n",
       "      <th>3266</th>\n",
       "      <td>2017-01-16</td>\n",
       "      <td>8.528203</td>\n",
       "      <td>7.765352</td>\n",
       "      <td>9.241835</td>\n",
       "    </tr>\n",
       "    <tr>\n",
       "      <th>3267</th>\n",
       "      <td>2017-01-17</td>\n",
       "      <td>8.315601</td>\n",
       "      <td>7.574174</td>\n",
       "      <td>9.042253</td>\n",
       "    </tr>\n",
       "    <tr>\n",
       "      <th>3268</th>\n",
       "      <td>2017-01-18</td>\n",
       "      <td>8.148207</td>\n",
       "      <td>7.458763</td>\n",
       "      <td>8.906471</td>\n",
       "    </tr>\n",
       "    <tr>\n",
       "      <th>3269</th>\n",
       "      <td>2017-01-19</td>\n",
       "      <td>8.160103</td>\n",
       "      <td>7.463428</td>\n",
       "      <td>8.921975</td>\n",
       "    </tr>\n",
       "  </tbody>\n",
       "</table>\n",
       "<p>3270 rows × 4 columns</p>\n",
       "</div>"
      ],
      "text/plain": [
       "             ds      yhat  yhat_lower  yhat_upper\n",
       "0    2007-12-10  8.842529    8.205278    9.438983\n",
       "1    2007-12-11  8.591074    7.971828    9.182509\n",
       "2    2007-12-12  8.386909    7.770587    9.009859\n",
       "3    2007-12-13  8.364808    7.739363    8.946143\n",
       "4    2007-12-14  8.352801    7.753665    8.930870\n",
       "5    2007-12-15  8.098104    7.430647    8.732325\n",
       "6    2007-12-16  8.447997    7.855459    9.057112\n",
       "7    2007-12-17  8.744579    8.112713    9.378600\n",
       "8    2007-12-18  8.507396    7.867802    9.085277\n",
       "9    2007-12-19  8.319564    7.679518    8.919249\n",
       "10   2007-12-20  8.315463    7.736582    8.934109\n",
       "11   2007-12-21  8.322709    7.727653    8.976816\n",
       "12   2007-12-22  8.088085    7.462949    8.792410\n",
       "13   2007-12-23  8.458446    7.848627    9.086098\n",
       "14   2007-12-24  8.775473    8.129268    9.383374\n",
       "15   2007-12-25  8.558321    7.963524    9.169998\n",
       "16   2007-12-26  8.389746    7.783268    8.984020\n",
       "17   2007-12-27  8.403814    7.772806    9.011614\n",
       "18   2007-12-28  8.427873    7.800501    9.031694\n",
       "19   2007-12-29  8.208498    7.601662    8.827118\n",
       "20   2007-12-30  8.592389    7.971322    9.162050\n",
       "21   2007-12-31  8.921132    8.318902    9.584874\n",
       "22   2008-01-01  8.713846    8.113370    9.299187\n",
       "23   2008-01-02  8.553304    7.948606    9.192289\n",
       "24   2008-01-03  8.573639    7.953220    9.215748\n",
       "25   2008-01-04  8.602311    7.975919    9.229661\n",
       "26   2008-01-05  8.386038    7.796242    9.004323\n",
       "27   2008-01-06  8.771690    8.141887    9.387030\n",
       "28   2008-01-07  9.101042    8.465923    9.655187\n",
       "29   2008-01-08  8.893402    8.295299    9.486609\n",
       "...         ...       ...         ...         ...\n",
       "3240 2016-12-21  7.520499    6.857817    8.219605\n",
       "3241 2016-12-22  7.525062    6.823567    8.312809\n",
       "3242 2016-12-23  7.540656    6.843832    8.266489\n",
       "3243 2016-12-24  7.313931    6.616115    8.085681\n",
       "3244 2016-12-25  7.691633    7.013963    8.415799\n",
       "3245 2016-12-26  8.015353    7.301084    8.745646\n",
       "3246 2016-12-27  7.804183    7.146078    8.518082\n",
       "3247 2016-12-28  7.640841    6.898249    8.348395\n",
       "3248 2016-12-29  7.659375    6.946245    8.365276\n",
       "3249 2016-12-30  7.687143    6.966430    8.405611\n",
       "3250 2016-12-31  7.470748    6.770035    8.196215\n",
       "3251 2017-01-01  7.856936    7.183052    8.608649\n",
       "3252 2017-01-02  8.187357    7.531642    8.938229\n",
       "3253 2017-01-03  7.981201    7.267401    8.697300\n",
       "3254 2017-01-04  7.821322    7.138700    8.601125\n",
       "3255 2017-01-05  7.841936    7.137530    8.550679\n",
       "3256 2017-01-06  7.870583    7.109884    8.603317\n",
       "3257 2017-01-07  7.654057    6.944246    8.398396\n",
       "3258 2017-01-08  8.039294    7.340600    8.743965\n",
       "3259 2017-01-09  8.368121    7.673235    9.104908\n",
       "3260 2017-01-10  8.159882    7.444105    8.869673\n",
       "3261 2017-01-11  7.997559    7.298920    8.751647\n",
       "3262 2017-01-12  8.015453    7.252456    8.747215\n",
       "3263 2017-01-13  8.041150    7.339260    8.784858\n",
       "3264 2017-01-14  7.821443    7.104543    8.604953\n",
       "3265 2017-01-15  8.203217    7.530817    8.965663\n",
       "3266 2017-01-16  8.528203    7.765352    9.241835\n",
       "3267 2017-01-17  8.315601    7.574174    9.042253\n",
       "3268 2017-01-18  8.148207    7.458763    8.906471\n",
       "3269 2017-01-19  8.160103    7.463428    8.921975\n",
       "\n",
       "[3270 rows x 4 columns]"
      ]
     },
     "execution_count": 17,
     "metadata": {},
     "output_type": "execute_result"
    }
   ],
   "source": [
    "forecast = m.predict(future)\n",
    "forecast[['ds','yhat','yhat_lower','yhat_upper']]"
   ]
  },
  {
   "cell_type": "code",
   "execution_count": 18,
   "metadata": {
    "ExecuteTime": {
     "end_time": "2019-07-30T07:07:26.399862Z",
     "start_time": "2019-07-30T07:07:24.484966Z"
    }
   },
   "outputs": [
    {
     "data": {
      "image/png": "[encoded data removed]",
      "text/plain": [
       "<Figure size 720x432 with 1 Axes>"
      ]
     },
     "metadata": {},
     "output_type": "display_data"
    }
   ],
   "source": [
    "figi = m.plot(forecast)"
   ]
  },
  {
   "cell_type": "code",
   "execution_count": 20,
   "metadata": {
    "ExecuteTime": {
     "end_time": "2019-07-30T07:08:46.956634Z",
     "start_time": "2019-07-30T07:08:44.538021Z"
    }
   },
   "outputs": [
    {
     "data": {
      "image/png": "[encoded data removed]",
      "text/plain": [
       "<Figure size 648x648 with 3 Axes>"
      ]
     },
     "metadata": {},
     "output_type": "display_data"
    }
   ],
   "source": [
    "m.plot_components(forecast);"
   ]
  },
  {
   "cell_type": "code",
   "execution_count": null,
   "metadata": {},
   "outputs": [],
   "source": []
  },
  {
   "cell_type": "code",
   "execution_count": null,
   "metadata": {},
   "outputs": [],
   "source": []
  },
  {
   "cell_type": "code",
   "execution_count": null,
   "metadata": {},
   "outputs": [],
   "source": []
  },
  {
   "cell_type": "code",
   "execution_count": null,
   "metadata": {},
   "outputs": [],
   "source": []
  },
  {
   "cell_type": "code",
   "execution_count": null,
   "metadata": {},
   "outputs": [],
   "source": []
  }
 ],
 "metadata": {
  "kernelspec": {
   "display_name": "Python 3",
   "language": "python",
   "name": "python3"
  },
  "language_info": {
   "codemirror_mode": {
    "name": "ipython",
    "version": 3
   },
   "file_extension": ".py",
   "mimetype": "text/x-python",
   "name": "python",
   "nbconvert_exporter": "python",
   "pygments_lexer": "ipython3",
   "version": "3.7.3"
  },
  "toc": {
   "base_numbering": 1,
   "nav_menu": {},
   "number_sections": true,
   "sideBar": true,
   "skip_h1_title": false,
   "title_cell": "Table of Contents",
   "title_sidebar": "Contents",
   "toc_cell": false,
   "toc_position": {},
   "toc_section_display": true,
   "toc_window_display": false
  }
 },
 "nbformat": 4,
 "nbformat_minor": 2
}

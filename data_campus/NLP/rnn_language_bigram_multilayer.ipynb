{
  "nbformat": 4,
  "nbformat_minor": 0,
  "metadata": {
    "colab": {
      "name": "rnn_language_bigram_multilayer.ipynb",
      "version": "0.3.2",
      "provenance": [],
      "collapsed_sections": [],
      "include_colab_link": true
    },
    "language_info": {
      "codemirror_mode": {
        "name": "ipython",
        "version": 3
      },
      "file_extension": ".py",
      "mimetype": "text/x-python",
      "name": "python",
      "nbconvert_exporter": "python",
      "pygments_lexer": "ipython3",
      "version": "3.5.2"
    },
    "kernelspec": {
      "name": "python3",
      "display_name": "Python 3"
    },
    "accelerator": "GPU"
  },
  "cells": [
    {
      "cell_type": "markdown",
      "metadata": {
        "id": "view-in-github",
        "colab_type": "text"
      },
      "source": [
        "<a href=\"https://colab.research.google.com/github/getChan/data_campus/blob/master/NLP/rnn_language_bigram_multilayer.ipynb\" target=\"_parent\"><img src=\"https://colab.research.google.com/assets/colab-badge.svg\" alt=\"Open In Colab\"/></a>"
      ]
    },
    {
      "cell_type": "markdown",
      "metadata": {
        "id": "9hx_3ED0USOa",
        "colab_type": "text"
      },
      "source": [
        "## Recurrent Neural Networks for Language Modeling \n",
        "\n",
        "Recurrent Neural Networks (RNNs) is a powerful family of neural networks that are widely used for sequence modeling tasks (e.g. stock price prediction, language modeling). RNNs ability to exploit temporal dependecies of entities in a sequence makes them powerful. In this exercise we will model a RNN and learn tips and tricks to improve the performance.\n",
        "\n",
        "In this exercise, we will do the following.\n",
        "1. Create word vectors for a dataset created from stories available at http://clarkesworldmagazine.com/\n",
        "2. Train a RNN model on the dataset and use it to output a new story"
      ]
    },
    {
      "cell_type": "code",
      "metadata": {
        "id": "7VMED_qAUSOc",
        "colab_type": "code",
        "colab": {}
      },
      "source": [
        "# These are all the modules we'll be using later. Make sure you can import them\n",
        "# before proceeding further.\n",
        "%matplotlib inline\n",
        "from __future__ import print_function\n",
        "import collections\n",
        "import math\n",
        "import numpy as np\n",
        "import os\n",
        "import random\n",
        "import tensorflow as tf\n",
        "import zipfile\n",
        "from matplotlib import pylab\n",
        "import matplotlib.pyplot as plt\n",
        "from six.moves import range\n",
        "from six.moves.urllib.request import urlretrieve\n",
        "import tensorflow as tf\n",
        "from scipy.sparse import lil_matrix\n",
        "#import nltk\n",
        "#nltk.download() #tokenizers/punkt/PY3/english.pickle"
      ],
      "execution_count": 0,
      "outputs": []
    },
    {
      "cell_type": "markdown",
      "metadata": {
        "id": "CTbfqd3oUSOm",
        "colab_type": "text"
      },
      "source": [
        "## Downloading Data\n",
        "\n",
        "Downloading stories if not present in disk. There should be 100 files ('stories/001.txt','stories/002.txt', ...)"
      ]
    },
    {
      "cell_type": "code",
      "metadata": {
        "scrolled": true,
        "id": "Hg5JY7XgUSOo",
        "colab_type": "code",
        "outputId": "42592f1d-ed2c-4f9f-9a35-19de997ad685",
        "colab": {
          "base_uri": "https://localhost:8080/",
          "height": 1000
        }
      },
      "source": [
        "url = 'https://www.cs.cmu.edu/~spok/grimmtmp/'\n",
        "\n",
        "# Create a directory if needed\n",
        "dir_name = 'stories'\n",
        "if not os.path.exists(dir_name):\n",
        "    os.mkdir(dir_name)\n",
        "    \n",
        "def maybe_download(filename):\n",
        "  \"\"\"Download a file if not present\"\"\"\n",
        "  print('Downloading file: ', dir_name+ os.sep+filename)\n",
        "    \n",
        "  if not os.path.exists(dir_name+os.sep+filename):\n",
        "    filename, _ = urlretrieve(url + filename, dir_name+os.sep+filename)\n",
        "  else:\n",
        "    print('File ',filename, ' already exists.')\n",
        "  \n",
        "  return filename\n",
        "\n",
        "num_files = 100\n",
        "filenames = [format(i, '03d')+'.txt' for i in range(1,101)]\n",
        "\n",
        "for fn in filenames:\n",
        "    maybe_download(fn)"
      ],
      "execution_count": 2,
      "outputs": [
        {
          "output_type": "stream",
          "text": [
            "Downloading file:  stories/001.txt\n",
            "Downloading file:  stories/002.txt\n",
            "Downloading file:  stories/003.txt\n",
            "Downloading file:  stories/004.txt\n",
            "Downloading file:  stories/005.txt\n",
            "Downloading file:  stories/006.txt\n",
            "Downloading file:  stories/007.txt\n",
            "Downloading file:  stories/008.txt\n",
            "Downloading file:  stories/009.txt\n",
            "Downloading file:  stories/010.txt\n",
            "Downloading file:  stories/011.txt\n",
            "Downloading file:  stories/012.txt\n",
            "Downloading file:  stories/013.txt\n",
            "Downloading file:  stories/014.txt\n",
            "Downloading file:  stories/015.txt\n",
            "Downloading file:  stories/016.txt\n",
            "Downloading file:  stories/017.txt\n",
            "Downloading file:  stories/018.txt\n",
            "Downloading file:  stories/019.txt\n",
            "Downloading file:  stories/020.txt\n",
            "Downloading file:  stories/021.txt\n",
            "Downloading file:  stories/022.txt\n",
            "Downloading file:  stories/023.txt\n",
            "Downloading file:  stories/024.txt\n",
            "Downloading file:  stories/025.txt\n",
            "Downloading file:  stories/026.txt\n",
            "Downloading file:  stories/027.txt\n",
            "Downloading file:  stories/028.txt\n",
            "Downloading file:  stories/029.txt\n",
            "Downloading file:  stories/030.txt\n",
            "Downloading file:  stories/031.txt\n",
            "Downloading file:  stories/032.txt\n",
            "Downloading file:  stories/033.txt\n",
            "Downloading file:  stories/034.txt\n",
            "Downloading file:  stories/035.txt\n",
            "Downloading file:  stories/036.txt\n",
            "Downloading file:  stories/037.txt\n",
            "Downloading file:  stories/038.txt\n",
            "Downloading file:  stories/039.txt\n",
            "Downloading file:  stories/040.txt\n",
            "Downloading file:  stories/041.txt\n",
            "Downloading file:  stories/042.txt\n",
            "Downloading file:  stories/043.txt\n",
            "Downloading file:  stories/044.txt\n",
            "Downloading file:  stories/045.txt\n",
            "Downloading file:  stories/046.txt\n",
            "Downloading file:  stories/047.txt\n",
            "Downloading file:  stories/048.txt\n",
            "Downloading file:  stories/049.txt\n",
            "Downloading file:  stories/050.txt\n",
            "Downloading file:  stories/051.txt\n",
            "Downloading file:  stories/052.txt\n",
            "Downloading file:  stories/053.txt\n",
            "Downloading file:  stories/054.txt\n",
            "Downloading file:  stories/055.txt\n",
            "Downloading file:  stories/056.txt\n",
            "Downloading file:  stories/057.txt\n",
            "Downloading file:  stories/058.txt\n",
            "Downloading file:  stories/059.txt\n",
            "Downloading file:  stories/060.txt\n",
            "Downloading file:  stories/061.txt\n",
            "Downloading file:  stories/062.txt\n",
            "Downloading file:  stories/063.txt\n",
            "Downloading file:  stories/064.txt\n",
            "Downloading file:  stories/065.txt\n",
            "Downloading file:  stories/066.txt\n",
            "Downloading file:  stories/067.txt\n",
            "Downloading file:  stories/068.txt\n",
            "Downloading file:  stories/069.txt\n",
            "Downloading file:  stories/070.txt\n",
            "Downloading file:  stories/071.txt\n",
            "Downloading file:  stories/072.txt\n",
            "Downloading file:  stories/073.txt\n",
            "Downloading file:  stories/074.txt\n",
            "Downloading file:  stories/075.txt\n",
            "Downloading file:  stories/076.txt\n",
            "Downloading file:  stories/077.txt\n",
            "Downloading file:  stories/078.txt\n",
            "Downloading file:  stories/079.txt\n",
            "Downloading file:  stories/080.txt\n",
            "Downloading file:  stories/081.txt\n",
            "Downloading file:  stories/082.txt\n",
            "Downloading file:  stories/083.txt\n",
            "Downloading file:  stories/084.txt\n",
            "Downloading file:  stories/085.txt\n",
            "Downloading file:  stories/086.txt\n",
            "Downloading file:  stories/087.txt\n",
            "Downloading file:  stories/088.txt\n",
            "Downloading file:  stories/089.txt\n",
            "Downloading file:  stories/090.txt\n",
            "Downloading file:  stories/091.txt\n",
            "Downloading file:  stories/092.txt\n",
            "Downloading file:  stories/093.txt\n",
            "Downloading file:  stories/094.txt\n",
            "Downloading file:  stories/095.txt\n",
            "Downloading file:  stories/096.txt\n",
            "Downloading file:  stories/097.txt\n",
            "Downloading file:  stories/098.txt\n",
            "Downloading file:  stories/099.txt\n",
            "Downloading file:  stories/100.txt\n"
          ],
          "name": "stdout"
        }
      ]
    },
    {
      "cell_type": "markdown",
      "metadata": {
        "id": "lSyusZwFUSOt",
        "colab_type": "text"
      },
      "source": [
        "## Reading data\n",
        "Data will be stored in a list of lists where the each list represents a document and document is a list of words. We will then break the text into bigrams"
      ]
    },
    {
      "cell_type": "code",
      "metadata": {
        "id": "rQJZAF8NUSOv",
        "colab_type": "code",
        "outputId": "2881f527-29bc-4915-e3e0-fb8602bc7a46",
        "colab": {
          "base_uri": "https://localhost:8080/",
          "height": 1000
        }
      },
      "source": [
        "def read_data(filename):\n",
        "  \n",
        "  with open(filename) as f:\n",
        "    data = tf.compat.as_str(f.read())\n",
        "    data = data.lower()\n",
        "    data = list(data)\n",
        "  return data\n",
        "\n",
        "documents = []\n",
        "global documents\n",
        "for i in range(num_files):    \n",
        "    print('\\nProcessing file %s'%os.path.join(dir_name,filenames[i]))\n",
        "    chars = read_data(os.path.join(dir_name,filenames[i]))\n",
        "    two_grams = [''.join(chars[ch_i:ch_i+2]) for ch_i in range(0,len(chars)-2,2)]\n",
        "    documents.append(two_grams)\n",
        "    print('Data size (Characters) (Document %d) %d' %(i,len(two_grams)))\n",
        "    print('Sample string (Document %d) %s'%(i,two_grams[:50]))"
      ],
      "execution_count": 3,
      "outputs": [
        {
          "output_type": "stream",
          "text": [
            "\n",
            "Processing file stories/001.txt\n",
            "Data size (Characters) (Document 0) 3667\n",
            "Sample string (Document 0) ['in', ' o', 'ld', 'en', ' t', 'im', 'es', ' w', 'he', 'n ', 'wi', 'sh', 'in', 'g ', 'st', 'il', 'l ', 'he', 'lp', 'ed', ' o', 'ne', ', ', 'th', 'er', 'e ', 'li', 've', 'd ', 'a ', 'ki', 'ng', '\\nw', 'ho', 'se', ' d', 'au', 'gh', 'te', 'rs', ' w', 'er', 'e ', 'al', 'l ', 'be', 'au', 'ti', 'fu', 'l,']\n",
            "\n",
            "Processing file stories/002.txt\n",
            "Data size (Characters) (Document 1) 4928\n",
            "Sample string (Document 1) ['ha', 'rd', ' b', 'y ', 'a ', 'gr', 'ea', 't ', 'fo', 're', 'st', ' d', 'we', 'lt', ' a', ' w', 'oo', 'd-', 'cu', 'tt', 'er', ' w', 'it', 'h ', 'hi', 's ', 'wi', 'fe', ', ', 'wh', 'o ', 'ha', 'd ', 'an', '\\no', 'nl', 'y ', 'ch', 'il', 'd,', ' a', ' l', 'it', 'tl', 'e ', 'gi', 'rl', ' t', 'hr', 'ee']\n",
            "\n",
            "Processing file stories/003.txt\n",
            "Data size (Characters) (Document 2) 9745\n",
            "Sample string (Document 2) ['a ', 'ce', 'rt', 'ai', 'n ', 'fa', 'th', 'er', ' h', 'ad', ' t', 'wo', ' s', 'on', 's,', ' t', 'he', ' e', 'ld', 'er', ' o', 'f ', 'wh', 'om', ' w', 'as', ' s', 'ma', 'rt', ' a', 'nd', '\\ns', 'en', 'si', 'bl', 'e,', ' a', 'nd', ' c', 'ou', 'ld', ' d', 'o ', 'ev', 'er', 'yt', 'hi', 'ng', ', ', 'bu']\n",
            "\n",
            "Processing file stories/004.txt\n",
            "Data size (Characters) (Document 3) 2852\n",
            "Sample string (Document 3) ['th', 'er', 'e ', 'wa', 's ', 'on', 'ce', ' u', 'po', 'n ', 'a ', 'ti', 'me', ' a', 'n ', 'ol', 'd ', 'go', 'at', ' w', 'ho', ' h', 'ad', ' s', 'ev', 'en', ' l', 'it', 'tl', 'e ', 'ki', 'ds', ', ', 'an', 'd\\n', 'lo', 've', 'd ', 'th', 'em', ' w', 'it', 'h ', 'al', 'l ', 'th', 'e ', 'lo', 've', ' o']\n",
            "\n",
            "Processing file stories/005.txt\n",
            "Data size (Characters) (Document 4) 8189\n",
            "Sample string (Document 4) ['th', 'er', 'e ', 'wa', 's ', 'on', 'ce', ' u', 'po', 'n ', 'a ', 'ti', 'me', ' a', 'n ', 'ol', 'd ', 'ki', 'ng', ' w', 'ho', ' w', 'as', ' i', 'll', ' a', 'nd', ' t', 'ho', 'ug', 'ht', ' t', 'o\\n', 'hi', 'ms', 'el', 'f ', \"'i\", ' a', 'm ', 'ly', 'in', 'g ', 'on', ' w', 'ha', 't ', 'mu', 'st', ' b']\n",
            "\n",
            "Processing file stories/006.txt\n",
            "Data size (Characters) (Document 5) 4369\n",
            "Sample string (Document 5) ['th', 'er', 'e ', 'wa', 's ', 'on', 'ce', ' a', ' p', 'ea', 'sa', 'nt', ' w', 'ho', ' h', 'ad', ' d', 'ri', 've', 'n ', 'hi', 's ', 'co', 'w ', 'to', ' t', 'he', ' f', 'ai', 'r,', ' a', 'nd', ' s', 'ol', 'd\\n', 'he', 'r ', 'fo', 'r ', 'se', 've', 'n ', 'ta', 'le', 'rs', '. ', ' o', 'n ', 'th', 'e ']\n",
            "\n",
            "Processing file stories/007.txt\n",
            "Data size (Characters) (Document 6) 5216\n",
            "Sample string (Document 6) ['th', 'er', 'e ', 'we', 're', ' o', 'nc', 'e ', 'up', 'on', ' a', ' t', 'im', 'e ', 'a ', 'ki', 'ng', ' a', 'nd', ' a', ' q', 'ue', 'en', ' w', 'ho', ' l', 'iv', 'ed', '\\nh', 'ap', 'pi', 'ly', ' t', 'og', 'et', 'he', 'r ', 'an', 'd ', 'ha', 'd ', 'tw', 'el', 've', ' c', 'hi', 'ld', 're', 'n,', ' b']\n",
            "\n",
            "Processing file stories/008.txt\n",
            "Data size (Characters) (Document 7) 6097\n",
            "Sample string (Document 7) ['li', 'tt', 'le', ' b', 'ro', 'th', 'er', ' t', 'oo', 'k ', 'hi', 's ', 'li', 'tt', 'le', ' s', 'is', 'te', 'r ', 'by', ' t', 'he', ' h', 'an', 'd ', 'an', 'd ', 'sa', 'id', ', ', 'si', 'nc', 'e\\n', 'ou', 'r ', 'mo', 'th', 'er', ' d', 'ie', 'd ', 'we', ' h', 'av', 'e ', 'ha', 'd ', 'no', ' h', 'ap']\n",
            "\n",
            "Processing file stories/009.txt\n",
            "Data size (Characters) (Document 8) 3699\n",
            "Sample string (Document 8) ['th', 'er', 'e ', 'we', 're', ' o', 'nc', 'e ', 'a ', 'ma', 'n ', 'an', 'd ', 'a ', 'wo', 'ma', 'n ', 'wh', 'o ', 'ha', 'd ', 'lo', 'ng', ' i', 'n ', 'va', 'in', '\\nw', 'is', 'he', 'd ', 'fo', 'r ', 'a ', 'ch', 'il', 'd.', '  ', 'at', ' l', 'en', 'gt', 'h ', 'th', 'e ', 'wo', 'ma', 'n ', 'ho', 'pe']\n",
            "\n",
            "Processing file stories/010.txt\n",
            "Data size (Characters) (Document 9) 5268\n",
            "Sample string (Document 9) ['th', 'er', 'e ', 'wa', 's ', 'on', 'ce', ' a', ' m', 'an', ' w', 'ho', 'se', ' w', 'if', 'e ', 'di', 'ed', ', ', 'an', 'd ', 'a ', 'wo', 'ma', 'n ', 'wh', 'os', 'e ', 'hu', 'sb', 'an', 'd\\n', 'di', 'ed', ', ', 'an', 'd ', 'th', 'e ', 'ma', 'n ', 'ha', 'd ', 'a ', 'da', 'ug', 'ht', 'er', ', ', 'an']\n",
            "\n",
            "Processing file stories/011.txt\n",
            "Data size (Characters) (Document 10) 2377\n",
            "Sample string (Document 10) ['th', 'er', 'e ', 'wa', 's ', 'on', 'ce', ' a', ' g', 'ir', 'l ', 'wh', 'o ', 'wa', 's ', 'id', 'le', ' a', 'nd', ' w', 'ou', 'ld', ' n', 'ot', ' s', 'pi', 'n,', ' a', 'nd', '\\nl', 'et', ' h', 'er', ' m', 'ot', 'he', 'r ', 'sa', 'y ', 'wh', 'at', ' s', 'he', ' w', 'ou', 'ld', ', ', 'sh', 'e ', 'co']\n",
            "\n",
            "Processing file stories/012.txt\n",
            "Data size (Characters) (Document 11) 7695\n",
            "Sample string (Document 11) ['ha', 'rd', ' b', 'y ', 'a ', 'gr', 'ea', 't ', 'fo', 're', 'st', ' d', 'we', 'lt', ' a', ' p', 'oo', 'r ', 'wo', 'od', '-c', 'ut', 'te', 'r ', 'wi', 'th', ' h', 'is', ' w', 'if', 'e\\n', 'an', 'd ', 'hi', 's ', 'tw', 'o ', 'ch', 'il', 'dr', 'en', '. ', ' t', 'he', ' b', 'oy', ' w', 'as', ' c', 'al']\n",
            "\n",
            "Processing file stories/013.txt\n",
            "Data size (Characters) (Document 12) 3665\n",
            "Sample string (Document 12) ['th', 'er', 'e ', 'wa', 's ', 'on', 'ce', ' o', 'n ', 'a ', 'ti', 'me', ' a', ' p', 'oo', 'r ', 'ma', 'n,', ' w', 'ho', ' c', 'ou', 'ld', ' n', 'o ', 'lo', 'ng', 'er', '\\ns', 'up', 'po', 'rt', ' h', 'is', ' o', 'nl', 'y ', 'so', 'n.', '  ', 'th', 'en', ' s', 'ai', 'd ', 'th', 'e ', 'so', 'n,', ' d']\n",
            "\n",
            "Processing file stories/014.txt\n",
            "Data size (Characters) (Document 13) 4178\n",
            "Sample string (Document 13) ['a ', 'lo', 'ng', ' t', 'im', 'e ', 'ag', 'o ', 'th', 'er', 'e ', 'li', 've', 'd ', 'a ', 'ki', 'ng', ' w', 'ho', ' w', 'as', ' f', 'am', 'ed', ' f', 'or', ' h', 'is', ' w', 'is', 'do', 'm\\n', 'th', 'ro', 'ug', 'h ', 'al', 'l ', 'th', 'e ', 'la', 'nd', '. ', ' n', 'ot', 'hi', 'ng', ' w', 'as', ' h']\n",
            "\n",
            "Processing file stories/015.txt\n",
            "Data size (Characters) (Document 14) 8674\n",
            "Sample string (Document 14) ['on', 'e ', 'su', 'mm', 'er', \"'s\", ' m', 'or', 'ni', 'ng', ' a', ' l', 'it', 'tl', 'e ', 'ta', 'il', 'or', ' w', 'as', ' s', 'it', 'ti', 'ng', ' o', 'n ', 'hi', 's ', 'ta', 'bl', 'e\\n', 'by', ' t', 'he', ' w', 'in', 'do', 'w,', ' h', 'e ', 'wa', 's ', 'in', ' g', 'oo', 'd ', 'sp', 'ir', 'it', 's,']\n",
            "\n",
            "Processing file stories/016.txt\n",
            "Data size (Characters) (Document 15) 7018\n",
            "Sample string (Document 15) ['\\tc', 'in', 'de', 're', 'll', 'a\\n', 'th', 'e ', 'wi', 'fe', ' o', 'f ', 'a ', 'ri', 'ch', ' m', 'an', ' f', 'el', 'l ', 'si', 'ck', ', ', 'an', 'd ', 'as', ' s', 'he', ' f', 'el', 't ', 'th', 'at', ' h', 'er', ' e', 'nd', '\\nw', 'as', ' d', 'ra', 'wi', 'ng', ' n', 'ea', 'r,', ' s', 'he', ' c', 'al']\n",
            "\n",
            "Processing file stories/017.txt\n",
            "Data size (Characters) (Document 16) 3039\n",
            "Sample string (Document 16) ['th', 'er', 'e ', 'wa', 's ', 'on', 'ce', ' a', ' k', 'in', \"g'\", 's ', 'so', 'n ', 'wh', 'o ', 'wa', 's ', 'se', 'iz', 'ed', ' w', 'it', 'h ', 'a ', 'de', 'si', 're', ' t', 'o ', 'tr', 'av', 'el', '\\na', 'bo', 'ut', ' t', 'he', ' w', 'or', 'ld', ', ', 'an', 'd ', 'to', 'ok', ' n', 'o ', 'on', 'e ']\n",
            "\n",
            "Processing file stories/018.txt\n",
            "Data size (Characters) (Document 17) 3020\n",
            "Sample string (Document 17) ['th', 'er', 'e ', 'wa', 's ', 'on', 'ce', ' a', ' w', 'id', 'ow', ' w', 'ho', ' h', 'ad', ' t', 'wo', ' d', 'au', 'gh', 'te', 'rs', ' -', ' o', 'ne', ' o', 'f\\n', 'wh', 'om', ' w', 'as', ' p', 're', 'tt', 'y ', 'an', 'd ', 'in', 'du', 'st', 'ri', 'ou', 's,', ' w', 'hi', 'ls', 't ', 'th', 'e ', 'ot']\n",
            "\n",
            "Processing file stories/019.txt\n",
            "Data size (Characters) (Document 18) 2465\n",
            "Sample string (Document 18) ['th', 'er', 'e ', 'wa', 's ', 'on', 'ce', ' a', ' m', 'an', ' w', 'ho', ' h', 'ad', ' s', 'ev', 'en', ' s', 'on', 's,', ' a', 'nd', ' s', 'ti', 'll', ' h', 'e ', 'ha', 'd\\n', 'no', ' d', 'au', 'gh', 'te', 'r,', ' h', 'ow', 'ev', 'er', ' m', 'uc', 'h ', 'he', ' w', 'is', 'he', 'd ', 'fo', 'r ', 'on']\n",
            "\n",
            "Processing file stories/020.txt\n",
            "Data size (Characters) (Document 19) 3703\n",
            "Sample string (Document 19) ['\\tl', 'it', 'tl', 'e ', 're', 'd-', 'ca', 'p\\n', '\\no', 'nc', 'e ', 'up', 'on', ' a', ' t', 'im', 'e ', 'th', 'er', 'e ', 'wa', 's ', 'a ', 'de', 'ar', ' l', 'it', 'tl', 'e ', 'gi', 'rl', ' w', 'ho', ' w', 'as', ' l', 'ov', 'ed', '\\nb', 'y ', 'ev', 'er', 'y ', 'on', 'e ', 'wh', 'o ', 'lo', 'ok', 'ed']\n",
            "\n",
            "Processing file stories/021.txt\n",
            "Data size (Characters) (Document 20) 1924\n",
            "Sample string (Document 20) ['in', ' a', ' c', 'er', 'ta', 'in', ' c', 'ou', 'nt', 'ry', ' t', 'he', 're', ' w', 'as', ' o', 'nc', 'e ', 'gr', 'ea', 't ', 'la', 'me', 'nt', 'at', 'io', 'n ', 'ov', 'er', ' a', '\\nw', 'il', 'd ', 'bo', 'ar', ' t', 'ha', 't ', 'la', 'id', ' w', 'as', 'te', ' t', 'he', ' f', 'ar', 'me', \"r'\", 's ']\n",
            "\n",
            "Processing file stories/022.txt\n",
            "Data size (Characters) (Document 21) 6561\n",
            "Sample string (Document 21) ['th', 'er', 'e ', 'wa', 's ', 'on', 'ce', ' a', ' p', 'oo', 'r ', 'wo', 'ma', 'n ', 'wh', 'o ', 'ga', 've', ' b', 'ir', 'th', ' t', 'o ', 'a ', 'li', 'tt', 'le', ' s', 'on', ',\\n', 'an', 'd ', 'as', ' h', 'e ', 'ca', 'me', ' i', 'nt', 'o ', 'th', 'e ', 'wo', 'rl', 'd ', 'wi', 'th', ' a', ' c', 'au']\n",
            "\n",
            "Processing file stories/023.txt\n",
            "Data size (Characters) (Document 22) 5956\n",
            "Sample string (Document 22) ['a ', 'ce', 'rt', 'ai', 'n ', 'mi', 'll', 'er', ' h', 'ad', ' l', 'it', 'tl', 'e ', 'by', ' l', 'it', 'tl', 'e ', 'fa', 'll', 'en', ' i', 'nt', 'o ', 'po', 've', 'rt', 'y,', ' a', 'nd', '\\nh', 'ad', ' n', 'ot', 'hi', 'ng', ' l', 'ef', 't ', 'bu', 't ', 'hi', 's ', 'mi', 'll', ' a', 'nd', ' a', ' l']\n",
            "\n",
            "Processing file stories/024.txt\n",
            "Data size (Characters) (Document 23) 2529\n",
            "Sample string (Document 23) ['th', 'e ', 'mo', 'th', 'er', ' o', 'f ', 'ha', 'ns', ' s', 'ai', 'd,', ' w', 'hi', 'th', 'er', ' a', 'wa', 'y,', ' h', 'an', 's.', '  ', 'ha', 'ns', ' a', 'ns', 'we', 're', 'd,', ' t', 'o\\n', 'gr', 'et', 'el', '. ', ' b', 'eh', 'av', 'e ', 'we', 'll', ', ', 'ha', 'ns', '. ', ' o', 'h,', ' i', \"'l\"]\n",
            "\n",
            "Processing file stories/025.txt\n",
            "Data size (Characters) (Document 24) 2416\n",
            "Sample string (Document 24) ['an', ' a', 'ge', 'd ', 'co', 'un', 't ', 'on', 'ce', ' l', 'iv', 'ed', ' i', 'n ', 'sw', 'it', 'ze', 'rl', 'an', 'd,', ' w', 'ho', ' h', 'ad', ' a', 'n ', 'on', 'ly', ' s', 'on', ',\\n', 'bu', 't ', 'he', ' w', 'as', ' s', 'tu', 'pi', 'd,', ' a', 'nd', ' c', 'ou', 'ld', ' l', 'ea', 'rn', ' n', 'ot']\n",
            "\n",
            "Processing file stories/026.txt\n",
            "Data size (Characters) (Document 25) 3369\n",
            "Sample string (Document 25) ['th', 'er', 'e ', 'wa', 's ', 'on', 'ce', ' a', ' m', 'an', ' w', 'ho', ' h', 'ad', ' a', ' d', 'au', 'gh', 'te', 'r ', 'wh', 'o ', 'wa', 's ', 'ca', 'll', 'ed', ' c', 'le', 've', 'r\\n', 'el', 'si', 'e.', '  ', 'an', 'd ', 'wh', 'en', ' s', 'he', ' h', 'ad', ' g', 'ro', 'wn', ' u', 'p ', 'he', 'r ']\n",
            "\n",
            "Processing file stories/027.txt\n",
            "Data size (Characters) (Document 26) 10013\n",
            "Sample string (Document 26) ['th', 'er', 'e ', 'wa', 's ', 'on', 'ce', ' u', 'po', 'n ', 'a ', 'ti', 'me', ' a', ' t', 'ai', 'lo', 'r ', 'wh', 'o ', 'ha', 'd ', 'th', 're', 'e ', 'so', 'ns', ', ', 'an', 'd\\n', 'on', 'ly', ' o', 'ne', ' g', 'oa', 't.', '  ', 'bu', 't ', 'as', ' t', 'he', ' g', 'oa', 't ', 'su', 'pp', 'or', 'te']\n",
            "\n",
            "Processing file stories/028.txt\n",
            "Data size (Characters) (Document 27) 5788\n",
            "Sample string (Document 27) ['th', 'er', 'e ', 'wa', 's ', 'on', 'ce', ' a', ' p', 'oo', 'r ', 'pe', 'as', 'an', 't ', 'wh', 'o ', 'sa', 't ', 'in', ' t', 'he', ' e', 've', 'ni', 'ng', ' b', 'y ', 'th', 'e\\n', 'he', 'ar', 'th', ' a', 'nd', ' p', 'ok', 'ed', ' t', 'he', ' f', 'ir', 'e,', ' a', 'nd', ' h', 'is', ' w', 'if', 'e ']\n",
            "\n",
            "Processing file stories/029.txt\n",
            "Data size (Characters) (Document 28) 1335\n",
            "Sample string (Document 28) ['th', 'er', 'e ', 'wa', 's ', 'on', 'ce', ' a', ' p', 'oo', 'r ', 'se', 'rv', 'an', 't-', 'gi', 'rl', ' w', 'ho', ' w', 'as', ' i', 'nd', 'us', 'tr', 'io', 'us', ' a', 'nd', ' c', 'le', 'an', 'ly', '\\na', 'nd', ' s', 'we', 'pt', ' t', 'he', ' h', 'ou', 'se', ' e', 've', 'ry', ' d', 'ay', ', ', 'an']\n",
            "\n",
            "Processing file stories/030.txt\n",
            "Data size (Characters) (Document 29) 3591\n",
            "Sample string (Document 29) ['th', 'er', 'e ', 'wa', 's ', 'on', 'ce', ' u', 'po', 'n ', 'a ', 'ti', 'me', ' a', ' m', 'il', 'le', 'r,', ' w', 'ho', ' h', 'ad', ' a', ' b', 'ea', 'ut', 'if', 'ul', '\\nd', 'au', 'gh', 'te', 'r,', ' a', 'nd', ' a', 's ', 'sh', 'e ', 'wa', 's ', 'gr', 'ow', 'n ', 'up', ', ', 'he', ' w', 'is', 'he']\n",
            "\n",
            "Processing file stories/031.txt\n",
            "Data size (Characters) (Document 30) 1624\n",
            "Sample string (Document 30) ['a ', 'po', 'or', ' m', 'an', ' h', 'ad', ' s', 'o ', 'ma', 'ny', ' c', 'hi', 'ld', 're', 'n ', 'th', 'at', ' h', 'e ', 'ha', 'd ', 'al', 're', 'ad', 'y ', 'as', 'ke', 'd\\n', 'ev', 'er', 'yo', 'ne', ' i', 'n ', 'th', 'e ', 'wo', 'rl', 'd ', 'to', ' b', 'e ', 'go', 'df', 'at', 'he', 'r,', ' a', 'nd']\n",
            "\n",
            "Processing file stories/032.txt\n",
            "Data size (Characters) (Document 31) 758\n",
            "Sample string (Document 31) ['th', 'er', 'e ', 'wa', 's ', 'on', 'ce', ' a', ' l', 'it', 'tl', 'e ', 'gi', 'rl', ' w', 'ho', ' w', 'as', ' o', 'bs', 'ti', 'na', 'te', ' a', 'nd', ' i', 'nq', 'ui', 'si', 'ti', 've', ',\\n', 'an', 'd ', 'wh', 'en', ' h', 'er', ' p', 'ar', 'en', 'ts', ' t', 'ol', 'd ', 'he', 'r ', 'to', ' d', 'o ']\n",
            "\n",
            "Processing file stories/033.txt\n",
            "Data size (Characters) (Document 32) 3121\n",
            "Sample string (Document 32) ['a ', 'po', 'or', ' m', 'an', ' h', 'ad', ' t', 'we', 'lv', 'e ', 'ch', 'il', 'dr', 'en', ' a', 'nd', ' w', 'as', ' f', 'or', 'ce', 'd ', 'to', ' w', 'or', 'k ', 'ni', 'gh', 't ', 'an', 'd\\n', 'da', 'y ', 'to', ' g', 'iv', 'e ', 'th', 'em', ' e', 've', 'n ', 'br', 'ea', 'd.', '  ', 'wh', 'en', ' t']\n",
            "\n",
            "Processing file stories/034.txt\n",
            "Data size (Characters) (Document 33) 4192\n",
            "Sample string (Document 33) ['a ', 'ce', 'rt', 'ai', 'n ', 'ta', 'il', 'or', ' h', 'ad', ' a', ' s', 'on', ', ', 'wh', 'o ', 'ha', 'pp', 'en', 'ed', ' t', 'o ', 'be', ' s', 'ma', 'll', ', ', 'an', 'd\\n', 'no', ' b', 'ig', 'ge', 'r ', 'th', 'an', ' a', ' t', 'hu', 'mb', ', ', 'an', 'd ', 'on', ' t', 'hi', 's ', 'ac', 'co', 'un']\n",
            "\n",
            "Processing file stories/035.txt\n",
            "Data size (Characters) (Document 34) 3650\n",
            "Sample string (Document 34) ['th', 'er', 'e ', 'wa', 's ', 'on', 'ce', ' a', ' w', 'iz', 'ar', 'd ', 'wh', 'o ', 'us', 'ed', ' t', 'o ', 'ta', 'ke', ' t', 'he', ' f', 'or', 'm ', 'of', ' a', ' p', 'oo', 'r\\n', 'ma', 'n,', ' a', 'nd', ' w', 'en', 't ', 'to', ' h', 'ou', 'se', 's ', 'an', 'd ', 'be', 'gg', 'ed', ', ', 'an', 'd ']\n",
            "\n",
            "Processing file stories/036.txt\n",
            "Data size (Characters) (Document 35) 8219\n",
            "Sample string (Document 35) ['it', ' i', 's ', 'no', 'w ', 'lo', 'ng', ' a', 'go', ', ', 'qu', 'it', 'e ', 'tw', 'o ', 'th', 'ou', 'sa', 'nd', ' y', 'ea', 'rs', ', ', 'si', 'nc', 'e ', 'th', 'er', 'e ', 'wa', 's\\n', 'a ', 'ri', 'ch', ' m', 'an', ' w', 'ho', ' h', 'ad', ' a', ' b', 'ea', 'ut', 'if', 'ul', ' a', 'nd', ' p', 'io']\n",
            "\n",
            "Processing file stories/037.txt\n",
            "Data size (Characters) (Document 36) 2151\n",
            "Sample string (Document 36) ['a ', 'fa', 'rm', 'er', ' o', 'nc', 'e ', 'ha', 'd ', 'a ', 'fa', 'it', 'hf', 'ul', ' d', 'og', ' c', 'al', 'le', 'd ', 'su', 'lt', 'an', ', ', 'wh', 'o ', 'ha', 'd ', 'gr', 'ow', 'n\\n', 'ol', 'd,', ' a', 'nd', ' l', 'os', 't ', 'al', 'l ', 'hi', 's ', 'te', 'et', 'h,', ' s', 'o ', 'th', 'at', ' h']\n",
            "\n",
            "Processing file stories/038.txt\n",
            "Data size (Characters) (Document 37) 5129\n",
            "Sample string (Document 37) ['on', 'ce', ' u', 'po', 'n ', 'a ', 'ti', 'me', ', ', 'a ', 'ce', 'rt', 'ai', 'n ', 'ki', 'ng', ' w', 'as', ' h', 'un', 'ti', 'ng', ' i', 'n ', 'a ', 'gr', 'ea', 't ', 'fo', 're', 'st', ',\\n', 'an', 'd ', 'he', ' c', 'ha', 'se', 'd ', 'a ', 'wi', 'ld', ' b', 'ea', 'st', ' s', 'o ', 'ea', 'ge', 'rl']\n",
            "\n",
            "Processing file stories/039.txt\n",
            "Data size (Characters) (Document 38) 3472\n",
            "Sample string (Document 38) ['\\tb', 'ri', 'ar', '-r', 'os', 'e\\n', '\\na', ' l', 'on', 'g ', 'ti', 'me', ' a', 'go', ' t', 'he', 're', ' w', 'er', 'e ', 'a ', 'ki', 'ng', ' a', 'nd', ' q', 'ue', 'en', ' w', 'ho', ' s', 'ai', 'd ', 'ev', 'er', 'y\\n', 'da', 'y,', ' a', 'h,', ' i', 'f ', 'on', 'ly', ' w', 'e ', 'ha', 'd ', 'a ', 'ch']\n",
            "\n",
            "Processing file stories/040.txt\n",
            "Data size (Characters) (Document 39) 2490\n",
            "Sample string (Document 39) ['th', 'er', 'e ', 'wa', 's ', 'on', 'ce', ' a', ' f', 'or', 'es', 'te', 'r ', 'wh', 'o ', 'we', 'nt', ' i', 'nt', 'o ', 'th', 'e ', 'fo', 're', 'st', ' t', 'o ', 'hu', 'nt', ',\\n', 'an', 'd ', 'as', ' h', 'e ', 'en', 'te', 're', 'd ', 'it', ' h', 'e ', 'he', 'ar', 'd ', 'a ', 'so', 'un', 'd ', 'of']\n",
            "\n",
            "Processing file stories/041.txt\n",
            "Data size (Characters) (Document 40) 4273\n",
            "Sample string (Document 40) ['a ', 'ki', 'ng', ' h', 'ad', ' a', ' d', 'au', 'gh', 'te', 'r ', 'wh', 'o ', 'wa', 's ', 'be', 'au', 'ti', 'fu', 'l ', 'be', 'yo', 'nd', ' a', 'll', ' m', 'ea', 'su', 're', ',\\n', 'bu', 't ', 'so', ' p', 'ro', 'ud', ' a', 'nd', ' h', 'au', 'gh', 'ty', ' w', 'it', 'ha', 'l ', 'th', 'at', ' n', 'o ']\n",
            "\n",
            "Processing file stories/042.txt\n",
            "Data size (Characters) (Document 41) 8327\n",
            "Sample string (Document 41) ['\\ts', 'no', 'w ', 'wh', 'it', 'e ', 'an', 'd ', 'th', 'e ', 'se', 've', 'n ', 'dw', 'ar', 'fs', '\\n\\n', 'on', 'ce', ' u', 'po', 'n ', 'a ', 'ti', 'me', ' i', 'n ', 'th', 'e ', 'mi', 'dd', 'le', ' o', 'f ', 'wi', 'nt', 'er', ', ', 'wh', 'en', ' t', 'he', ' f', 'la', 'ke', 's ', 'of', '\\ns', 'no', 'w ']\n",
            "\n",
            "Processing file stories/043.txt\n",
            "Data size (Characters) (Document 42) 6128\n",
            "Sample string (Document 42) ['th', 'er', 'e ', 'we', 're', ' o', 'nc', 'e ', 'th', 're', 'e ', 'br', 'ot', 'he', 'rs', ' w', 'ho', ' h', 'ad', ' f', 'al', 'le', 'n ', 'de', 'ep', 'er', ' a', 'nd', ' d', 'ee', 'pe', 'r ', 'in', 'to', '\\np', 'ov', 'er', 'ty', ', ', 'an', 'd ', 'at', ' l', 'as', 't ', 'th', 'ei', 'r ', 'ne', 'ed']\n",
            "\n",
            "Processing file stories/044.txt\n",
            "Data size (Characters) (Document 43) 2819\n",
            "Sample string (Document 43) ['\\tr', 'um', 'pe', 'ls', 'ti', 'lt', 'sk', 'in', '\\n\\n', 'on', 'ce', ' t', 'he', 're', ' w', 'as', ' a', ' m', 'il', 'le', 'r ', 'wh', 'o ', 'wa', 's ', 'po', 'or', ', ', 'bu', 't ', 'wh', 'o ', 'ha', 'd ', 'a ', 'be', 'au', 'ti', 'fu', 'l\\n', 'da', 'ug', 'ht', 'er', '. ', ' n', 'ow', ' i', 't ', 'ha']\n",
            "\n",
            "Processing file stories/045.txt\n",
            "Data size (Characters) (Document 44) 3822\n",
            "Sample string (Document 44) ['th', 'er', 'e ', 'wa', 's ', 'on', 'ce', ' u', 'po', 'n ', 'a ', 'ti', 'me', ' a', ' w', 'om', 'an', ' w', 'ho', ' w', 'as', ' a', ' r', 'ea', 'l ', 'wi', 'tc', 'h ', 'an', 'd ', 'ha', 'd ', 'tw', 'o\\n', 'da', 'ug', 'ht', 'er', 's,', ' o', 'ne', ' u', 'gl', 'y ', 'an', 'd ', 'wi', 'ck', 'ed', ', ']\n",
            "\n",
            "Processing file stories/046.txt\n",
            "Data size (Characters) (Document 45) 7772\n",
            "Sample string (Document 45) ['in', ' o', 'ld', 'en', ' t', 'im', 'es', ' t', 'he', 're', ' w', 'as', ' a', ' k', 'in', 'g,', ' w', 'ho', ' h', 'ad', ' b', 'eh', 'in', 'd ', 'hi', 's ', 'pa', 'la', 'ce', ' a', '\\nb', 'ea', 'ut', 'if', 'ul', ' p', 'le', 'as', 'ur', 'e-', 'ga', 'rd', 'en', ' i', 'n ', 'wh', 'ic', 'h ', 'th', 'er']\n",
            "\n",
            "Processing file stories/047.txt\n",
            "Data size (Characters) (Document 46) 22158\n",
            "Sample string (Document 46) ['th', 'er', 'e ', 'we', 're', ' o', 'nc', 'e ', 'up', 'on', ' a', ' t', 'im', 'e ', 'tw', 'o ', 'br', 'ot', 'he', 'rs', ', ', 'on', 'e ', 'ri', 'ch', ' a', 'nd', ' t', 'he', ' o', 'th', 'er', '\\np', 'oo', 'r.', '  ', 'th', 'e ', 'ri', 'ch', ' o', 'ne', ' w', 'as', ' a', ' g', 'ol', 'ds', 'mi', 'th']\n",
            "\n",
            "Processing file stories/048.txt\n",
            "Data size (Characters) (Document 47) 2169\n",
            "Sample string (Document 47) ['tw', 'o ', 'ki', 'ng', \"s'\", ' s', 'on', 's ', 'on', 'ce', ' w', 'en', 't ', 'ou', 't ', 'in', ' s', 'ea', 'rc', 'h ', 'of', ' a', 'dv', 'en', 'tu', 're', 's,', ' a', 'nd', ' f', 'el', 'l ', 'in', 'to', '\\na', ' w', 'il', 'd,', ' d', 'is', 'or', 'de', 'rl', 'y ', 'wa', 'y ', 'of', ' l', 'iv', 'in']\n",
            "\n",
            "Processing file stories/049.txt\n",
            "Data size (Characters) (Document 48) 2822\n",
            "Sample string (Document 48) ['th', 'er', 'e ', 'wa', 's ', 'on', 'ce', ' u', 'po', 'n ', 'a ', 'ti', 'me', ' a', ' k', 'in', 'g ', 'wh', 'o ', 'ha', 'd ', 'th', 're', 'e ', 'so', 'ns', ', ', 'of', ' w', 'ho', 'm ', 'tw', 'o\\n', 'we', 're', ' c', 'le', 've', 'r ', 'an', 'd ', 'wi', 'se', ', ', 'bu', 't ', 'th', 'e ', 'th', 'ir']\n",
            "\n",
            "Processing file stories/050.txt\n",
            "Data size (Characters) (Document 49) 4034\n",
            "Sample string (Document 49) ['th', 'er', 'e ', 'wa', 's ', 'a ', 'ma', 'n ', 'wh', 'o ', 'ha', 'd ', 'th', 're', 'e ', 'so', 'ns', ', ', 'th', 'e ', 'yo', 'un', 'ge', 'st', ' o', 'f ', 'wh', 'om', ' w', 'as', ' c', 'al', 'le', 'd\\n', 'du', 'mm', 'li', 'ng', ', ', 'an', 'd ', 'wa', 's ', 'de', 'sp', 'is', 'ed', ', ', 'mo', 'ck']\n",
            "\n",
            "Processing file stories/051.txt\n",
            "Data size (Characters) (Document 50) 5608\n",
            "Sample string (Document 50) ['\\ta', 'll', 'er', 'le', 'ir', 'au', 'h\\n', '\\nt', 'he', 're', ' w', 'as', ' o', 'nc', 'e ', 'up', 'on', ' a', ' t', 'im', 'e ', 'a ', 'ki', 'ng', ' w', 'ho', ' h', 'ad', ' a', ' w', 'if', 'e ', 'wi', 'th', ' g', 'ol', 'de', 'n ', 'ha', 'ir', ',\\n', 'an', 'd ', 'sh', 'e ', 'wa', 's ', 'so', ' b', 'ea']\n",
            "\n",
            "Processing file stories/052.txt\n",
            "Data size (Characters) (Document 51) 1287\n",
            "Sample string (Document 51) ['th', 'er', 'e ', 'wa', 's ', 'on', 'ce', ' a', ' w', 'om', 'an', ' a', 'nd', ' h', 'er', ' d', 'au', 'gh', 'te', 'r ', 'wh', 'o ', 'li', 've', 'd ', 'in', ' a', '\\np', 're', 'tt', 'y ', 'ga', 'rd', 'en', ' w', 'it', 'h ', 'ca', 'bb', 'ag', 'es', '. ', ' a', 'nd', ' a', ' l', 'it', 'tl', 'e ', 'ha']\n",
            "\n",
            "Processing file stories/053.txt\n",
            "Data size (Characters) (Document 52) 2841\n",
            "Sample string (Document 52) ['th', 'er', 'e ', 'wa', 's ', 'on', 'ce', ' a', ' k', 'in', \"g'\", 's ', 'so', 'n ', 'wh', 'o ', 'ha', 'd ', 'a ', 'br', 'id', 'e ', 'wh', 'om', ' h', 'e ', 'lo', 've', 'd ', 've', 'ry', ' m', 'uc', 'h.', '\\na', 'nd', ' w', 'he', 'n ', 'he', ' w', 'as', ' s', 'it', 'ti', 'ng', ' b', 'es', 'id', 'e ']\n",
            "\n",
            "Processing file stories/054.txt\n",
            "Data size (Characters) (Document 53) 1922\n",
            "Sample string (Document 53) ['ha', 'ns', ' w', 'is', 'he', 'd ', 'to', ' p', 'ut', ' h', 'is', ' s', 'on', ' t', 'o ', 'le', 'ar', 'n ', 'a ', 'tr', 'ad', 'e,', ' s', 'o ', 'he', ' w', 'en', 't ', 'in', 'to', ' t', 'he', '\\nc', 'hu', 'rc', 'h ', 'an', 'd ', 'pr', 'ay', 'ed', ' t', 'o ', 'ou', 'r ', 'lo', 'rd', ' g', 'od', ' t']\n",
            "\n",
            "Processing file stories/055.txt\n",
            "Data size (Characters) (Document 54) 2573\n",
            "Sample string (Document 54) ['a ', 'fa', 'th', 'er', ' o', 'nc', 'e ', 'ca', 'll', 'ed', ' h', 'is', ' t', 'hr', 'ee', ' s', 'on', 's ', 'be', 'fo', 're', ' h', 'im', ', ', 'an', 'd ', 'he', ' g', 'av', 'e ', 'to', ' t', 'he', '\\nf', 'ir', 'st', ' a', ' c', 'oc', 'k,', ' t', 'o ', 'th', 'e ', 'se', 'co', 'nd', ' a', ' s', 'cy']\n",
            "\n",
            "Processing file stories/056.txt\n",
            "Data size (Characters) (Document 55) 5285\n",
            "Sample string (Document 55) ['th', 'er', 'e ', 'wa', 's ', 'on', 'ce', ' a', ' m', 'an', ' w', 'ho', ' u', 'nd', 'er', 'st', 'oo', 'd ', 'al', 'l ', 'ki', 'nd', 's ', 'of', ' a', 'rt', 's.', '  ', 'he', ' s', 'er', 've', 'd ', 'in', '\\nw', 'ar', ', ', 'an', 'd ', 'be', 'ha', 've', 'd ', 'we', 'll', ' a', 'nd', ' b', 'ra', 've']\n",
            "\n",
            "Processing file stories/057.txt\n",
            "Data size (Characters) (Document 56) 971\n",
            "Sample string (Document 56) ['th', 'e ', 'sh', 'e-', 'wo', 'lf', ' b', 'ro', 'ug', 'ht', ' i', 'nt', 'o ', 'th', 'e ', 'wo', 'rl', 'd ', 'a ', 'yo', 'un', 'g ', 'on', 'e,', ' a', 'nd', ' i', 'nv', 'it', 'ed', ' t', 'he', ' f', 'ox', '\\nt', 'o ', 'be', ' g', 'od', 'fa', 'th', 'er', '. ', ' a', 'ft', 'er', ' a', 'll', ', ', 'he']\n",
            "\n",
            "Processing file stories/058.txt\n",
            "Data size (Characters) (Document 57) 4538\n",
            "Sample string (Document 57) ['th', 'er', 'e ', 'wa', 's ', 'on', 'ce', ' u', 'po', 'n ', 'a ', 'ti', 'me', ' a', ' q', 'ue', 'en', ' t', 'o ', 'wh', 'om', ' g', 'od', ' h', 'ad', ' g', 'iv', 'en', ' n', 'o ', 'ch', 'il', 'dr', 'en', '.\\n', 'ev', 'er', 'y ', 'mo', 'rn', 'in', 'g ', 'sh', 'e ', 'we', 'nt', ' i', 'nt', 'o ', 'th']\n",
            "\n",
            "Processing file stories/059.txt\n",
            "Data size (Characters) (Document 58) 636\n",
            "Sample string (Document 58) ['th', 'er', 'e ', 'wa', 's ', 'on', 'ce', ' a', ' v', 'er', 'y ', 'ol', 'd ', 'ma', 'n,', ' w', 'ho', 'se', ' e', 'ye', 's ', 'ha', 'd ', 'be', 'co', 'me', ' d', 'im', ', ', 'hi', 's ', 'ea', 'rs', '\\nd', 'ul', 'l ', 'of', ' h', 'ea', 'ri', 'ng', ', ', 'hi', 's ', 'kn', 'ee', 's ', 'tr', 'em', 'bl']\n",
            "\n",
            "Processing file stories/060.txt\n",
            "Data size (Characters) (Document 59) 786\n",
            "Sample string (Document 59) ['a ', 'li', 'tt', 'le', ' b', 'ro', 'th', 'er', ' a', 'nd', ' s', 'is', 'te', 'r ', 'we', 're', ' o', 'nc', 'e ', 'pl', 'ay', 'in', 'g ', 'by', ' a', ' w', 'el', 'l,', ' a', 'nd', ' w', 'hi', 'le', '\\nt', 'he', 'y ', 'we', 're', ' t', 'hu', 's ', 'pl', 'ay', 'in', 'g,', ' t', 'he', 'y ', 'bo', 'th']\n",
            "\n",
            "Processing file stories/061.txt\n",
            "Data size (Characters) (Document 60) 10687\n",
            "Sample string (Document 60) ['th', 'er', 'e ', 'wa', 's ', 'on', 'e ', 'up', 'on', ' a', ' t', 'im', 'e ', 'a ', 'gr', 'ea', 't ', 'wa', 'r,', ' a', 'nd', ' w', 'he', 'n ', 'it', ' c', 'am', 'e ', 'to', ' a', 'n ', 'en', 'd,', '\\nm', 'an', 'y ', 'so', 'ld', 'ie', 'rs', ' w', 'er', 'e ', 'di', 'sc', 'ha', 'rg', 'ed', '. ', ' t']\n",
            "\n",
            "Processing file stories/062.txt\n",
            "Data size (Characters) (Document 61) 5105\n",
            "Sample string (Document 61) ['ha', 'ns', ' h', 'ad', ' s', 'er', 've', 'd ', 'hi', 's ', 'ma', 'st', 'er', ' f', 'or', ' s', 'ev', 'en', ' y', 'ea', 'rs', ', ', 'so', ' h', 'e ', 'sa', 'id', ' t', 'o ', 'hi', 'm,', '\\nm', 'as', 'te', 'r,', ' m', 'y ', 'ti', 'me', ' i', 's ', 'up', ', ', 'no', 'w ', 'i ', 'sh', 'ou', 'ld', ' b']\n",
            "\n",
            "Processing file stories/063.txt\n",
            "Data size (Characters) (Document 62) 1127\n",
            "Sample string (Document 62) ['th', 'er', 'e ', 'wa', 's ', 'on', 'ce', ' u', 'po', 'n ', 'a ', 'ti', 'me', ' a', ' y', 'ou', 'ng', ' p', 'ea', 'sa', 'nt', ' n', 'am', 'ed', ' h', 'an', 's,', ' w', 'ho', 'se', ' u', 'nc', 'le', '\\nw', 'an', 'te', 'd ', 'to', ' f', 'in', 'd ', 'hi', 'm ', 'a ', 'ri', 'ch', ' w', 'if', 'e.', '  ']\n",
            "\n",
            "Processing file stories/064.txt\n",
            "Data size (Characters) (Document 63) 4981\n",
            "Sample string (Document 63) ['th', 'er', 'e ', 'wa', 's ', 'on', 'ce', ' a', ' p', 'oo', 'r ', 'ma', 'n ', 'an', 'd ', 'a ', 'po', 'or', ' w', 'om', 'an', ' w', 'ho', ' h', 'ad', ' n', 'ot', 'hi', 'ng', ' b', 'ut', ' a', '\\nl', 'it', 'tl', 'e ', 'co', 'tt', 'ag', 'e,', ' a', 'nd', ' w', 'ho', ' e', 'ar', 'ne', 'd ', 'th', 'ei']\n",
            "\n",
            "Processing file stories/065.txt\n",
            "Data size (Characters) (Document 64) 6006\n",
            "Sample string (Document 64) ['th', 'er', 'e ', 'wa', 's ', 'on', 'ce', ' u', 'po', 'n ', 'a ', 'ti', 'me', ' a', ' m', 'an', ' w', 'ho', ' w', 'as', ' a', 'bo', 'ut', ' t', 'o ', 'se', 't ', 'ou', 't ', 'on', ' a', ' l', 'on', 'g\\n', 'jo', 'ur', 'ne', 'y,', ' a', 'nd', ' o', 'n ', 'pa', 'rt', 'in', 'g ', 'he', ' a', 'sk', 'ed']\n",
            "\n",
            "Processing file stories/066.txt\n",
            "Data size (Characters) (Document 65) 5900\n",
            "Sample string (Document 65) ['th', 'er', 'e ', 'wa', 's ', 'on', 'ce', ' u', 'po', 'n ', 'a ', 'ti', 'me', ' a', 'n ', 'ol', 'd ', 'qu', 'ee', 'n ', 'wh', 'os', 'e ', 'hu', 'sb', 'an', 'd ', 'ha', 'd ', 'be', 'en', ' d', 'ea', 'd\\n', 'fo', 'r ', 'ma', 'ny', ' y', 'ea', 'rs', ', ', 'an', 'd ', 'sh', 'e ', 'ha', 'd ', 'a ', 'be']\n",
            "\n",
            "Processing file stories/067.txt\n",
            "Data size (Characters) (Document 66) 7837\n",
            "Sample string (Document 66) ['on', 'ce', ' u', 'po', 'n ', 'a ', 'ti', 'me', ' a', ' c', 'ou', 'nt', 'ry', 'ma', 'n ', 'ha', 'd ', 'a ', 'so', 'n ', 'wh', 'o ', 'wa', 's ', 'as', ' b', 'ig', ' a', 's ', 'a ', 'th', 'um', 'b,', '\\na', 'nd', ' d', 'id', ' n', 'ot', ' b', 'ec', 'om', 'e ', 'an', 'y ', 'bi', 'gg', 'er', ', ', 'an']\n",
            "\n",
            "Processing file stories/068.txt\n",
            "Data size (Characters) (Document 67) 4717\n",
            "Sample string (Document 67) ['th', 'er', 'e ', 'wa', 's ', 'on', 'ce', ' u', 'po', 'n ', 'a ', 'ti', 'me', ' a', ' r', 'ic', 'h ', 'ki', 'ng', ' w', 'ho', ' h', 'ad', ' t', 'hr', 'ee', ' d', 'au', 'gh', 'te', 'rs', ', ', 'wh', 'o\\n', 'da', 'il', 'y ', 'we', 'nt', ' t', 'o ', 'wa', 'lk', ' i', 'n ', 'th', 'e ', 'pa', 'la', 'ce']\n",
            "\n",
            "Processing file stories/069.txt\n",
            "Data size (Characters) (Document 68) 6233\n",
            "Sample string (Document 68) ['th', 'er', 'e ', 'wa', 's ', 'a ', 'ce', 'rt', 'ai', 'n ', 'me', 'rc', 'ha', 'nt', ' w', 'ho', ' h', 'ad', ' t', 'wo', ' c', 'hi', 'ld', 're', 'n,', ' a', ' b', 'oy', ' a', 'nd', ' a', ' g', 'ir', 'l,', '\\nt', 'he', 'y ', 'we', 're', ' b', 'ot', 'h ', 'yo', 'un', 'g,', ' a', 'nd', ' c', 'ou', 'ld']\n",
            "\n",
            "Processing file stories/070.txt\n",
            "Data size (Characters) (Document 69) 5664\n",
            "Sample string (Document 69) ['th', 'er', 'e ', 'wa', 's ', 'on', 'ce', ' u', 'po', 'n ', 'a ', 'ti', 'me', ' a', ' q', 'ue', 'en', ' w', 'ho', ' h', 'ad', ' a', ' l', 'it', 'tl', 'e ', 'da', 'ug', 'ht', 'er', ' w', 'ho', '\\nw', 'as', ' s', 'ti', 'll', ' s', 'o ', 'yo', 'un', 'g ', 'th', 'at', ' s', 'he', ' h', 'ad', ' t', 'o ']\n",
            "\n",
            "Processing file stories/071.txt\n",
            "Data size (Characters) (Document 70) 3569\n",
            "Sample string (Document 70) ['th', 'er', 'e ', 'wa', 's ', 'on', 'ce', ' a', ' p', 'oo', 'r ', 'pe', 'as', 'an', 't ', 'wh', 'o ', 'ha', 'd ', 'no', ' l', 'an', 'd,', ' b', 'ut', ' o', 'nl', 'y ', 'a ', 'sm', 'al', 'l\\n', 'ho', 'us', 'e,', ' a', 'nd', ' o', 'ne', ' d', 'au', 'gh', 'te', 'r.', '  ', 'th', 'en', ' s', 'ai', 'd ']\n",
            "\n",
            "Processing file stories/072.txt\n",
            "Data size (Characters) (Document 71) 3793\n",
            "Sample string (Document 71) ['ab', 'ou', 't ', 'a ', 'th', 'ou', 'sa', 'nd', ' o', 'r ', 'mo', 're', ' y', 'ea', 'rs', ' a', 'go', ', ', 'th', 'er', 'e ', 'we', 're', ' i', 'n ', 'th', 'is', '\\nc', 'ou', 'nt', 'ry', ' n', 'ot', 'hi', 'ng', ' b', 'ut', ' s', 'ma', 'll', ' k', 'in', 'gs', ', ', 'an', 'd ', 'on', 'e ', 'of', ' t']\n",
            "\n",
            "Processing file stories/073.txt\n",
            "Data size (Characters) (Document 72) 5980\n",
            "Sample string (Document 72) ['th', 'er', 'e ', 'wa', 's ', 'on', 'ce', ' a', ' k', 'in', 'g ', 'wh', 'o ', 'ha', 'd ', 'an', ' i', 'll', 'ne', 'ss', ', ', 'an', 'd ', 'no', ' o', 'ne', ' b', 'el', 'ie', 've', 'd ', 'th', 'at', ' h', 'e\\n', 'wo', 'ul', 'd ', 'co', 'me', ' o', 'ut', ' o', 'f ', 'it', ' w', 'it', 'h ', 'hi', 's ']\n",
            "\n",
            "Processing file stories/074.txt\n",
            "Data size (Characters) (Document 73) 4518\n",
            "Sample string (Document 73) ['th', 'er', 'e ', 'wa', 's ', 'on', 'ce', ' a', ' p', 'oo', 'r ', 'wo', 'od', 'cu', 'tt', 'er', ' w', 'ho', ' t', 'oi', 'le', 'd ', 'fr', 'om', ' e', 'ar', 'ly', '\\nm', 'or', 'ni', 'ng', ' t', 'il', 'l ', 'la', 'te', ' a', 't ', 'ni', 'gh', 't.', '  ', 'wh', 'en', ' a', 't ', 'la', 'st', ' h', 'e ']\n",
            "\n",
            "Processing file stories/075.txt\n",
            "Data size (Characters) (Document 74) 3247\n",
            "Sample string (Document 74) ['a ', 'di', 'sc', 'ha', 'rg', 'ed', ' s', 'ol', 'di', 'er', ' h', 'ad', ' n', 'ot', 'hi', 'ng', ' t', 'o ', 'li', 've', ' o', 'n,', ' a', 'nd', ' d', 'id', ' n', 'ot', ' k', 'no', 'w ', 'ho', 'w ', 'to', '\\nm', 'ak', 'e ', 'hi', 's ', 'wa', 'y.', '  ', 'so', ' h', 'e ', 'we', 'nt', ' o', 'ut', ' i']\n",
            "\n",
            "Processing file stories/076.txt\n",
            "Data size (Characters) (Document 75) 5130\n",
            "Sample string (Document 75) ['th', 'er', 'e ', 'wa', 's ', 'on', 'ce', ' a', ' y', 'ou', 'ng', ' f', 'el', 'lo', 'w ', 'wh', 'o ', 'en', 'li', 'st', 'ed', ' a', 's ', 'a ', 'so', 'ld', 'ie', 'r,', ' c', 'on', 'du', 'ct', 'ed', '\\nh', 'im', 'se', 'lf', ' b', 'ra', 've', 'ly', ', ', 'an', 'd ', 'wa', 's ', 'al', 'wa', 'ys', ' t']\n",
            "\n",
            "Processing file stories/077.txt\n",
            "Data size (Characters) (Document 76) 2401\n",
            "Sample string (Document 76) ['on', 'ce', ' i', 'n ', 'su', 'mm', 'er', '-t', 'im', 'e ', 'th', 'e ', 'be', 'ar', ' a', 'nd', ' t', 'he', ' w', 'ol', 'f ', 'we', 're', ' w', 'al', 'ki', 'ng', ' i', 'n ', 'th', 'e ', 'fo', 're', 'st', ',\\n', 'an', 'd ', 'th', 'e ', 'be', 'ar', ' h', 'ea', 'rd', ' a', ' b', 'ir', 'd ', 'si', 'ng']\n",
            "\n",
            "Processing file stories/078.txt\n",
            "Data size (Characters) (Document 77) 624\n",
            "Sample string (Document 77) ['th', 'er', 'e ', 'wa', 's ', 'a ', 'po', 'or', ' b', 'ut', ' g', 'oo', 'd ', 'li', 'tt', 'le', ' g', 'ir', 'l ', 'wh', 'o ', 'li', 've', 'd ', 'al', 'on', 'e ', 'wi', 'th', ' h', 'er', '\\nm', 'ot', 'he', 'r,', ' a', 'nd', ' t', 'he', 'y ', 'no', ' l', 'on', 'ge', 'r ', 'ha', 'd ', 'an', 'yt', 'hi']\n",
            "\n",
            "Processing file stories/079.txt\n",
            "Data size (Characters) (Document 78) 3991\n",
            "Sample string (Document 78) ['on', 'e ', 'da', 'y ', 'a ', 'pe', 'as', 'an', 't ', 'to', 'ok', ' h', 'is', ' g', 'oo', 'd ', 'ha', 'ze', 'l-', 'st', 'ic', 'k ', 'ou', 't ', 'of', ' t', 'he', ' c', 'or', 'ne', 'r\\n', 'an', 'd ', 'sa', 'id', ' t', 'o ', 'hi', 's ', 'wi', 'fe', ', ', 'tr', 'in', 'a,', ' i', ' a', 'm ', 'go', 'in']\n",
            "\n",
            "Processing file stories/080.txt\n",
            "Data size (Characters) (Document 79) 1426\n",
            "Sample string (Document 79) ['th', 'er', 'e ', 'wa', 's ', 'on', 'ce', ' a', ' l', 'it', 'tl', 'e ', 'ch', 'il', 'd ', 'wh', 'os', 'e ', 'mo', 'th', 'er', ' g', 'av', 'e ', 'he', 'r ', 'ev', 'er', 'y\\n', 'af', 'te', 'rn', 'oo', 'n ', 'a ', 'sm', 'al', 'l ', 'bo', 'wl', ' o', 'f ', 'mi', 'lk', ' a', 'nd', ' b', 're', 'ad', ', ']\n",
            "\n",
            "Processing file stories/081.txt\n",
            "Data size (Characters) (Document 80) 3574\n",
            "Sample string (Document 80) ['in', ' a', ' c', 'er', 'ta', 'in', ' m', 'il', 'l ', 'li', 've', 'd ', 'an', ' o', 'ld', ' m', 'il', 'le', 'r ', 'wh', 'o ', 'ha', 'd ', 'ne', 'it', 'he', 'r ', 'wi', 'fe', ' n', 'or', ' c', 'hi', 'ld', ',\\n', 'an', 'd ', 'th', 're', 'e ', 'ap', 'pr', 'en', 'ti', 'ce', 's ', 'se', 'rv', 'ed', ' u']\n",
            "\n",
            "Processing file stories/082.txt\n",
            "Data size (Characters) (Document 81) 10822\n",
            "Sample string (Document 81) ['hi', 'll', ' a', 'nd', ' v', 'al', 'e ', 'do', ' n', 'ot', ' m', 'ee', 't,', ' b', 'ut', ' t', 'he', ' c', 'hi', 'ld', 're', 'n ', 'of', ' m', 'en', ' d', 'o,', ' g', 'oo', 'd ', 'an', 'd ', 'ba', 'd.', '\\ni', 'n ', 'th', 'is', ' w', 'ay', ' a', ' s', 'ho', 'em', 'ak', 'er', ' a', 'nd', ' a', ' t']\n",
            "\n",
            "Processing file stories/083.txt\n",
            "Data size (Characters) (Document 82) 5480\n",
            "Sample string (Document 82) ['\\th', 'an', 's ', 'th', 'e ', 'he', 'dg', 'eh', 'og', '\\n\\n', 'th', 'er', 'e ', 'wa', 's ', 'on', 'ce', ' a', ' c', 'ou', 'nt', 'ry', ' m', 'an', ' w', 'ho', ' h', 'ad', ' m', 'on', 'ey', ' a', 'nd', ' l', 'an', 'd ', 'in', ' p', 'le', 'nt', 'y,', ' b', 'ut', '\\nh', 'ow', 'ev', 'er', ' r', 'ic', 'h ']\n",
            "\n",
            "Processing file stories/084.txt\n",
            "Data size (Characters) (Document 83) 658\n",
            "Sample string (Document 83) ['th', 'er', 'e ', 'wa', 's ', 'on', 'ce', ' a', ' m', 'ot', 'he', 'r ', 'wh', 'o ', 'ha', 'd ', 'a ', 'li', 'tt', 'le', ' b', 'oy', ' o', 'f ', 'se', 've', 'n ', 'ye', 'ar', 's ', 'ol', 'd,', ' w', 'ho', '\\nw', 'as', ' s', 'o ', 'ha', 'nd', 'so', 'me', ' a', 'nd', ' l', 'ov', 'ab', 'le', ' t', 'ha']\n",
            "\n",
            "Processing file stories/085.txt\n",
            "Data size (Characters) (Document 84) 5989\n",
            "Sample string (Document 84) ['th', 'er', 'e ', 'wa', 's ', 'on', 'ce', ' a', ' y', 'ou', 'ng', ' f', 'el', 'lo', 'w ', 'wh', 'o ', 'ha', 'd ', 'le', 'ar', 'nt', ' t', 'he', ' t', 'ra', 'de', ' o', 'f ', 'lo', 'ck', 'sm', 'it', 'h,', '\\na', 'nd', ' t', 'ol', 'd ', 'hi', 's ', 'fa', 'th', 'er', ' h', 'e ', 'wo', 'ul', 'd ', 'no']\n",
            "\n",
            "Processing file stories/086.txt\n",
            "Data size (Characters) (Document 85) 8758\n",
            "Sample string (Document 85) ['th', 'er', 'e ', 'wa', 's ', 'on', 'ce', ' u', 'po', 'n ', 'a ', 'ti', 'me', ' a', ' k', 'in', 'g ', 'wh', 'o ', 'ha', 'd ', 'a ', 'li', 'tt', 'le', ' b', 'oy', ' i', 'n ', 'wh', 'os', 'e ', 'st', 'ar', 's\\n', 'it', ' h', 'ad', ' b', 'ee', 'n ', 'fo', 're', 'to', 'ld', ' t', 'ha', 't ', 'he', ' s']\n",
            "\n",
            "Processing file stories/087.txt\n",
            "Data size (Characters) (Document 86) 3109\n",
            "Sample string (Document 86) ['th', 'er', 'e ', 'wa', 's ', 'on', 'ce', ' u', 'po', 'n ', 'a ', 'ti', 'me', ' a', ' p', 'ri', 'nc', 'es', 's ', 'wh', 'o ', 'wa', 's ', 'ex', 'tr', 'em', 'el', 'y ', 'pr', 'ou', 'd.', ' i', 'f ', 'a\\n', 'wo', 'oe', 'r ', 'ca', 'me', ' s', 'he', ' g', 'av', 'e ', 'hi', 'm ', 'so', 'me', ' r', 'id']\n",
            "\n",
            "Processing file stories/088.txt\n",
            "Data size (Characters) (Document 87) 1365\n",
            "Sample string (Document 87) ['a ', 'ta', 'il', 'or', \"'s\", ' a', 'pp', 're', 'nt', 'ic', 'e ', 'wa', 's ', 'tr', 'av', 'el', 'in', 'g ', 'ab', 'ou', 't ', 'th', 'e ', 'wo', 'rl', 'd ', 'in', ' s', 'ea', 'rc', 'h ', 'of', '\\nw', 'or', 'k,', ' a', 'nd', ' a', 't ', 'on', 'e ', 'ti', 'me', ' h', 'e ', 'co', 'ul', 'd ', 'fi', 'nd']\n",
            "\n",
            "Processing file stories/089.txt\n",
            "Data size (Characters) (Document 88) 4538\n",
            "Sample string (Document 88) ['th', 'er', 'e ', 'wa', 's ', 'on', 'ce', ' o', 'n ', 'a ', 'ti', 'me', ' a', ' s', 'ol', 'di', 'er', ' w', 'ho', ' f', 'or', ' m', 'an', 'y ', 'ye', 'ar', 's ', 'ha', 'd ', 'se', 'rv', 'ed', ' t', 'he', '\\nk', 'in', 'g ', 'fa', 'it', 'hf', 'ul', 'ly', ', ', 'bu', 't ', 'wh', 'en', ' t', 'he', ' w']\n",
            "\n",
            "Processing file stories/090.txt\n",
            "Data size (Characters) (Document 89) 345\n",
            "Sample string (Document 89) ['on', 'ce', ' u', 'po', 'n ', 'a ', 'ti', 'me', ' t', 'he', 're', ' w', 'as', ' a', ' c', 'hi', 'ld', ' w', 'ho', ' w', 'as', ' w', 'il', 'lf', 'ul', ', ', 'an', 'd ', 'wo', 'ul', 'd ', 'no', 't ', 'do', '\\nw', 'ha', 't ', 'he', 'r ', 'mo', 'th', 'er', ' w', 'is', 'he', 'd.', '  ', 'fo', 'r ', 'th']\n",
            "\n",
            "Processing file stories/091.txt\n",
            "Data size (Characters) (Document 90) 5460\n",
            "Sample string (Document 90) ['th', 'er', 'e ', 'wa', 's ', 'on', 'ce', ' a', ' k', 'in', \"g'\", 's ', 'so', 'n,', ' w', 'ho', ' w', 'as', ' n', 'o ', 'lo', 'ng', 'er', ' c', 'on', 'te', 'nt', ' t', 'o ', 'st', 'ay', ' a', 't\\n', 'ho', 'me', ' i', 'n ', 'hi', 's ', 'fa', 'th', 'er', \"'s\", ' h', 'ou', 'se', ', ', 'an', 'd ', 'as']\n",
            "\n",
            "Processing file stories/092.txt\n",
            "Data size (Characters) (Document 91) 6854\n",
            "Sample string (Document 91) ['th', 'er', 'e ', 'wa', 's ', 'on', 'ce', ' a', ' y', 'ou', 'ng', ' h', 'un', 'ts', 'ma', 'n ', 'wh', 'o ', 'we', 'nt', ' i', 'nt', 'o ', 'th', 'e ', 'fo', 're', 'st', ' t', 'o ', 'li', 'e ', 'in', '\\nw', 'ai', 't.', '  ', 'he', ' h', 'ad', ' a', ' f', 're', 'sh', ' a', 'nd', ' j', 'oy', 'ou', 's ']\n",
            "\n",
            "Processing file stories/093.txt\n",
            "Data size (Characters) (Document 92) 2314\n",
            "Sample string (Document 92) ['a ', 'po', 'or', ' s', 'er', 'va', 'nt', '-g', 'ir', 'l ', 'wa', 's ', 'on', 'ce', ' t', 'ra', 've', 'li', 'ng', ' w', 'it', 'h ', 'th', 'e ', 'fa', 'mi', 'ly', ' w', 'it', 'h ', 'wh', 'ic', 'h ', 'sh', 'e\\n', 'wa', 's ', 'in', ' s', 'er', 'vi', 'ce', ', ', 'th', 'ro', 'ug', 'h ', 'a ', 'gr', 'ea']\n",
            "\n",
            "Processing file stories/094.txt\n",
            "Data size (Characters) (Document 93) 1706\n",
            "Sample string (Document 93) ['th', 'er', 'e ', 'wa', 's ', 'on', 'ce', ' a', ' m', 'an', ' w', 'ho', ' h', 'ad', ' t', 'hr', 'ee', ' s', 'on', 's,', ' a', 'nd', ' n', 'ot', 'hi', 'ng', ' e', 'ls', 'e ', 'in', ' t', 'he', '\\nw', 'or', 'ld', ' b', 'ut', ' t', 'he', ' h', 'ou', 'se', ' i', 'n ', 'wh', 'ic', 'h ', 'he', ' l', 'iv']\n",
            "\n",
            "Processing file stories/095.txt\n",
            "Data size (Characters) (Document 94) 3229\n",
            "Sample string (Document 94) ['th', 'er', 'e ', 'wa', 's ', 'a ', 'gr', 'ea', 't ', 'wa', 'r,', ' a', 'nd', ' t', 'he', ' k', 'in', 'g ', 'ha', 'd ', 'ma', 'ny', ' s', 'ol', 'di', 'er', 's,', ' b', 'ut', ' g', 'av', 'e ', 'th', 'em', '\\ns', 'ma', 'll', ' p', 'ay', ', ', 'so', ' s', 'ma', 'll', ' t', 'ha', 't ', 'th', 'ey', ' c']\n",
            "\n",
            "Processing file stories/096.txt\n",
            "Data size (Characters) (Document 95) 4954\n",
            "Sample string (Document 95) ['on', 'ce', ' u', 'po', 'n ', 'a ', 'ti', 'me', ' l', 'iv', 'ed', ' a', ' m', 'an', ' a', 'nd', ' a', ' w', 'om', 'an', ' w', 'ho', ' s', 'o ', 'lo', 'ng', ' a', 's ', 'th', 'ey', ' w', 'er', 'e\\n', 'ri', 'ch', ' h', 'ad', ' n', 'o ', 'ch', 'il', 'dr', 'en', ', ', 'bu', 't ', 'wh', 'en', ' t', 'he']\n",
            "\n",
            "Processing file stories/097.txt\n",
            "Data size (Characters) (Document 96) 5732\n",
            "Sample string (Document 96) ['in', ' t', 'he', ' d', 'ay', 's ', 'wh', 'en', ' w', 'is', 'hi', 'ng', ' w', 'as', ' s', 'ti', 'll', ' o', 'f ', 'so', 'me', ' u', 'se', ', ', 'a ', 'ki', 'ng', \"'s\", ' s', 'on', ' w', 'as', '\\nb', 'ew', 'it', 'ch', 'ed', ' b', 'y ', 'an', ' o', 'ld', ' w', 'it', 'ch', ', ', 'an', 'd ', 'sh', 'ut']\n",
            "\n",
            "Processing file stories/098.txt\n",
            "Data size (Characters) (Document 97) 4334\n",
            "Sample string (Document 97) ['th', 'er', 'e ', 'wa', 's ', 'on', 'ce', ' a', ' p', 'oo', 'r ', 'ma', 'n ', 'wh', 'o ', 'ha', 'd ', 'fo', 'ur', ' s', 'on', 's,', ' a', 'nd', ' w', 'he', 'n ', 'th', 'ey', ' w', 'er', 'e ', 'gr', 'ow', 'n\\n', 'up', ', ', 'he', ' s', 'ai', 'd ', 'to', ' t', 'he', 'm,', ' \"', 'my', ' d', 'ea', 'r ']\n",
            "\n",
            "Processing file stories/099.txt\n",
            "Data size (Characters) (Document 98) 7090\n",
            "Sample string (Document 98) ['th', 'er', 'e ', 'wa', 's ', 'on', 'ce', ' a', ' w', 'om', 'an', ' w', 'ho', ' h', 'ad', ' t', 'hr', 'ee', ' d', 'au', 'gh', 'te', 'rs', ', ', 'th', 'e ', 'el', 'de', 'st', ' o', 'f ', 'wh', 'om', '\\nw', 'as', ' c', 'al', 'le', 'd ', 'on', 'e-', 'ey', 'e,', ' b', 'ec', 'au', 'se', ' s', 'he', ' h']\n",
            "\n",
            "Processing file stories/100.txt\n",
            "Data size (Characters) (Document 99) 1007\n",
            "Sample string (Document 99) ['\"g', 'oo', 'd-', 'da', 'y,', ' f', 'at', 'he', 'r ', 'ho', 'll', 'en', 'th', 'e.', '\" ', '\"m', 'an', 'y ', 'th', 'an', 'ks', ', ', 'pi', 'f-', 'pa', 'f-', 'po', 'lt', 'ri', 'e.', '\" ', '\"m', 'ay', ' i', '\\nb', 'e ', 'al', 'lo', 'we', 'd ', 'to', ' h', 'av', 'e ', 'yo', 'ur', ' d', 'au', 'gh', 'te']\n"
          ],
          "name": "stdout"
        }
      ]
    },
    {
      "cell_type": "markdown",
      "metadata": {
        "id": "qJSawDabUSO0",
        "colab_type": "text"
      },
      "source": [
        "## Building the Dictionaries (Bigrams)\n"
      ]
    },
    {
      "cell_type": "code",
      "metadata": {
        "id": "MvLgCORwUSO1",
        "colab_type": "code",
        "outputId": "33309890-6ad3-40d3-a605-ec182fef2fc8",
        "colab": {
          "base_uri": "https://localhost:8080/",
          "height": 122
        }
      },
      "source": [
        "def build_dataset(documents):\n",
        "    chars = []\n",
        "    # This is going to be a list of lists\n",
        "    # Where the outer list denote each document\n",
        "    # and the inner lists denote words in a given document\n",
        "    data_list = []\n",
        "  \n",
        "    for d in documents:\n",
        "        chars.extend(d)\n",
        "    print('%d Characters found.'%len(chars))\n",
        "    count = []\n",
        "    # Get the bigram sorted by their frequency (Highest comes first)\n",
        "    count.extend(collections.Counter(chars).most_common())\n",
        "    \n",
        "    # Create an ID for each bigram by giving the current length of the dictionary\n",
        "    # And adding that item to the dictionary\n",
        "    # Start with 'UNK' that is assigned to too rare words\n",
        "    dictionary = dict({'UNK':0})\n",
        "    for char, c in count:\n",
        "        # Only add a bigram to dictionary if its frequency is more than 10\n",
        "        if c > 10:\n",
        "            dictionary[char] = len(dictionary)    \n",
        "    \n",
        "    unk_count = 0\n",
        "    # Traverse through all the text we have\n",
        "    # to replace each string word with the ID of the word\n",
        "    for d in documents:\n",
        "        data = list()\n",
        "        for char in d:\n",
        "            # If word is in the dictionary use the word ID,\n",
        "            # else use the ID of the special token \"UNK\"\n",
        "            if char in dictionary:\n",
        "                index = dictionary[char]        \n",
        "            else:\n",
        "                index = dictionary['UNK']\n",
        "                unk_count += 1\n",
        "            data.append(index)\n",
        "            \n",
        "        data_list.append(data)\n",
        "        \n",
        "    reverse_dictionary = dict(zip(dictionary.values(), dictionary.keys())) \n",
        "    return data_list, count, dictionary, reverse_dictionary\n",
        "\n",
        "global data_list, count, dictionary, reverse_dictionary,vocabulary_size\n",
        "\n",
        "# Print some statistics about data\n",
        "data_list, count, dictionary, reverse_dictionary = build_dataset(documents)\n",
        "print('Most common words (+UNK)', count[:5])\n",
        "print('Least common words (+UNK)', count[-15:])\n",
        "print('Sample data', data_list[0][:10])\n",
        "print('Sample data', data_list[1][:10])\n",
        "print('Vocabulary: ',len(dictionary))\n",
        "vocabulary_size = len(dictionary)\n",
        "del documents  # To reduce memory."
      ],
      "execution_count": 4,
      "outputs": [
        {
          "output_type": "stream",
          "text": [
            "449177 Characters found.\n",
            "Most common words (+UNK) [('e ', 15229), ('he', 15164), (' t', 13443), ('th', 13076), ('d ', 10687)]\n",
            "Least common words (+UNK) [('bj', 1), ('ii', 1), ('i?', 1), ('z ', 1), ('c.', 1), ('\"k', 1), ('pw', 1), ('f?', 1), (' z', 1), ('xq', 1), ('nm', 1), ('m?', 1), ('\\t\"', 1), ('\\tw', 1), ('tz', 1)]\n",
            "Sample data [15, 28, 86, 23, 3, 95, 74, 11, 2, 16]\n",
            "Sample data [22, 156, 25, 37, 82, 185, 43, 9, 90, 19]\n",
            "Vocabulary:  544\n"
          ],
          "name": "stdout"
        }
      ]
    },
    {
      "cell_type": "markdown",
      "metadata": {
        "id": "K2nsB9hcUSPB",
        "colab_type": "text"
      },
      "source": [
        "## Defining Hyperparameters\n",
        "\n",
        "Here we define several hyperparameters required.\n",
        "* `num_unroll`: Number of steps we unroll over time during optimizing\n",
        "* `batch_size`: Number of datapoints in a single batch\n",
        "* `hidden_1`: Number of hidden neurons in the state"
      ]
    },
    {
      "cell_type": "code",
      "metadata": {
        "id": "ZMFK9uVSUSPD",
        "colab_type": "code",
        "colab": {}
      },
      "source": [
        "num_unroll = 50\n",
        "batch_size = 64\n",
        "test_batch_size = 1\n",
        "\n",
        "hidden_sizes = [128]\n",
        "scopes = ['first','second','third']\n",
        "input_sizes = [vocabulary_size, 128, 64]\n",
        "out_size = vocabulary_size"
      ],
      "execution_count": 0,
      "outputs": []
    },
    {
      "cell_type": "markdown",
      "metadata": {
        "id": "CwT8YhovUSO5",
        "colab_type": "text"
      },
      "source": [
        "## Generating Batches of Data\n",
        "The following object generates a batch of data which will be used to train the RNN. More specifically the generator breaks a given sequence of words into `batch_size` segments. We also maintain a cursor for each segment. So whenever we create a batch of data, we sample one item from each segment and update the cursor of each segment. "
      ]
    },
    {
      "cell_type": "code",
      "metadata": {
        "id": "BUMyhUPCG5wY",
        "colab_type": "code",
        "outputId": "a07914fa-cebe-4388-8ffa-cb62681299d4",
        "colab": {
          "base_uri": "https://localhost:8080/",
          "height": 87
        }
      },
      "source": [
        "def make_dataset(documents, batch_size):\n",
        "  # Concatenate the data into a single list.\n",
        "  text_as_int = np.array([item for sublist in documents for item in sublist])\n",
        "  print(len(text_as_int))\n",
        "#   sample_text = [reverse_dictionary[id] for id in text_as_int[:20]]\n",
        "#   print(\"\".join(sample_text))\n",
        "  \n",
        "  # Create training examples / targets\n",
        "  bigram_dataset = tf.data.Dataset.from_tensor_slices(text_as_int)\n",
        "  sequences = bigram_dataset.batch(num_unroll+1, drop_remainder=True)\n",
        "\n",
        "  def split_input_target(chunk):\n",
        "      input_text = chunk[:-1]\n",
        "      target_text = chunk[1:]\n",
        "      return input_text, target_text\n",
        "\n",
        "  dataset = sequences.map(split_input_target)\n",
        "\n",
        "  # Calculate how many examples and steps exists per 1 epoch.\n",
        "  examples_per_epoch = len(text_as_int) // num_unroll\n",
        "  steps_per_epoch = examples_per_epoch // batch_size\n",
        "\n",
        "  # Buffer size to shuffle the dataset\n",
        "  # (TF data is designed to work with possibly infinite sequences, \n",
        "  # so it doesn't attempt to shuffle the entire sequence in memory. Instead, \n",
        "  # it maintains a buffer in which it shuffles elements).\n",
        "  BUFFER_SIZE = 10000\n",
        "\n",
        "  dataset = dataset.shuffle(BUFFER_SIZE).batch(batch_size, drop_remainder=True)\n",
        "  \n",
        "  return dataset, steps_per_epoch\n",
        "\n",
        "# Use about 10% of the dataset as validation set.\n",
        "num_valid = len(data_list) // 10\n",
        "train_documents = data_list[num_valid:]\n",
        "valid_documents = data_list[:num_valid]\n",
        "\n",
        "train_dataset, train_steps_per_epoch = make_dataset(train_documents, batch_size)\n",
        "valid_dataset, valid_steps_per_epoch = make_dataset(valid_documents, batch_size)\n",
        "\n",
        "print(train_dataset)\n",
        "print(valid_dataset)\n"
      ],
      "execution_count": 6,
      "outputs": [
        {
          "output_type": "stream",
          "text": [
            "395147\n",
            "54030\n",
            "<DatasetV1Adapter shapes: ((64, 50), (64, 50)), types: (tf.int64, tf.int64)>\n",
            "<DatasetV1Adapter shapes: ((64, 50), (64, 50)), types: (tf.int64, tf.int64)>\n"
          ],
          "name": "stdout"
        }
      ]
    },
    {
      "cell_type": "markdown",
      "metadata": {
        "id": "Dve4ogYyPn9K",
        "colab_type": "text"
      },
      "source": [
        "## Building Model\n",
        "Embedding, RNN layers, Output layers\n"
      ]
    },
    {
      "cell_type": "code",
      "metadata": {
        "id": "Ao9Jo-PhNXiw",
        "colab_type": "code",
        "colab": {}
      },
      "source": [
        "def build_model(vocab_size, embedding_dim, rnn_units, batch_size):\n",
        "  model = tf.keras.Sequential()\n",
        "  \n",
        "  # Input to hidden layer.\n",
        "  model.add(tf.keras.layers.Embedding(\n",
        "      vocab_size, \n",
        "      embedding_dim, \n",
        "      batch_input_shape=[batch_size, None]))\n",
        "  \n",
        "  # RNN layers.\n",
        "  for num_units in rnn_units:\n",
        "    model.add(tf.keras.layers.SimpleRNN(\n",
        "        num_units,\n",
        "        use_bias=True,\n",
        "        return_sequences=True, \n",
        "        stateful=True\n",
        "    ))\n",
        "\n",
        "  # Output layer.\n",
        "  model.add(tf.keras.layers.Dense(vocab_size))\n",
        "\n",
        "  return model"
      ],
      "execution_count": 0,
      "outputs": []
    },
    {
      "cell_type": "code",
      "metadata": {
        "id": "9ZmLpspLNhS9",
        "colab_type": "code",
        "outputId": "dd59c9a8-804c-4210-cd92-deab3df7213e",
        "colab": {
          "base_uri": "https://localhost:8080/",
          "height": 424
        }
      },
      "source": [
        "model = build_model(\n",
        "  vocab_size = vocabulary_size, \n",
        "  embedding_dim=hidden_sizes[0], \n",
        "  rnn_units=hidden_sizes, \n",
        "  batch_size=batch_size)\n",
        "\n",
        "print(model.summary())"
      ],
      "execution_count": 8,
      "outputs": [
        {
          "output_type": "stream",
          "text": [
            "WARNING: Logging before flag parsing goes to stderr.\n",
            "W0731 05:10:38.958757 140359702333312 deprecation.py:506] From /usr/local/lib/python3.6/dist-packages/tensorflow/python/keras/initializers.py:119: calling RandomUniform.__init__ (from tensorflow.python.ops.init_ops) with dtype is deprecated and will be removed in a future version.\n",
            "Instructions for updating:\n",
            "Call initializer instance with the dtype argument instead of passing it to the constructor\n",
            "W0731 05:10:38.987028 140359702333312 deprecation.py:506] From /usr/local/lib/python3.6/dist-packages/tensorflow/python/ops/init_ops.py:1251: calling VarianceScaling.__init__ (from tensorflow.python.ops.init_ops) with dtype is deprecated and will be removed in a future version.\n",
            "Instructions for updating:\n",
            "Call initializer instance with the dtype argument instead of passing it to the constructor\n"
          ],
          "name": "stderr"
        },
        {
          "output_type": "stream",
          "text": [
            "Model: \"sequential\"\n",
            "_________________________________________________________________\n",
            "Layer (type)                 Output Shape              Param #   \n",
            "=================================================================\n",
            "embedding (Embedding)        (64, None, 128)           69632     \n",
            "_________________________________________________________________\n",
            "simple_rnn (SimpleRNN)       (64, None, 128)           32896     \n",
            "_________________________________________________________________\n",
            "dense (Dense)                (64, None, 544)           70176     \n",
            "=================================================================\n",
            "Total params: 172,704\n",
            "Trainable params: 172,704\n",
            "Non-trainable params: 0\n",
            "_________________________________________________________________\n",
            "None\n"
          ],
          "name": "stdout"
        }
      ]
    },
    {
      "cell_type": "markdown",
      "metadata": {
        "id": "fU69VylOUSPW",
        "colab_type": "text"
      },
      "source": [
        "## Defining Loss\n"
      ]
    },
    {
      "cell_type": "code",
      "metadata": {
        "id": "-cSzxaeVPipd",
        "colab_type": "code",
        "colab": {}
      },
      "source": [
        "def loss(labels, logits):\n",
        "  return tf.keras.losses.sparse_categorical_crossentropy(labels, logits, from_logits=True)"
      ],
      "execution_count": 0,
      "outputs": []
    },
    {
      "cell_type": "markdown",
      "metadata": {
        "id": "zMeXSn-ZUSPb",
        "colab_type": "text"
      },
      "source": [
        "## Defining Optimizer and Learning Rate, Gradient Clipping\n",
        "Here we define the learning rate and the optimizer we're going to use. We will be using the Adam optimizer as it is one of the best optimizers out there. Furthermore we use gradient clipping to prevent any gradient explosions."
      ]
    },
    {
      "cell_type": "code",
      "metadata": {
        "id": "QQAzt8DwPtx2",
        "colab_type": "code",
        "colab": {}
      },
      "source": [
        "model.compile(\n",
        "    optimizer = tf.keras.optimizers.Adam(lr=0.001, clipnorm=5.0),\n",
        "    loss = loss)"
      ],
      "execution_count": 0,
      "outputs": []
    },
    {
      "cell_type": "markdown",
      "metadata": {
        "id": "-2KCQLpgUSPl",
        "colab_type": "text"
      },
      "source": [
        "## Prediction Sampling\n",
        "We select the word corresponding to the highest index of the prediction vector. We will later see different sampling strategies."
      ]
    },
    {
      "cell_type": "code",
      "metadata": {
        "id": "sJdgnOTEUSPm",
        "colab_type": "code",
        "colab": {}
      },
      "source": [
        "def sample(distribution):\n",
        "  '''\n",
        "  Sample a word from the prediction distribution\n",
        "  '''  \n",
        "  best_idx = np.argmax(distribution)\n",
        "  return best_idx"
      ],
      "execution_count": 0,
      "outputs": []
    },
    {
      "cell_type": "code",
      "metadata": {
        "id": "BPRUuwAUQFyK",
        "colab_type": "code",
        "colab": {}
      },
      "source": [
        "# Directory where the checkpoints will be saved\n",
        "checkpoint_dir = './training_checkpoints'\n",
        "# Name of the checkpoint files\n",
        "checkpoint_prefix = os.path.join(checkpoint_dir, \"ckpt_{epoch}\")\n",
        "\n",
        "checkpoint_callback=tf.keras.callbacks.ModelCheckpoint(\n",
        "    filepath=checkpoint_prefix,\n",
        "    save_weights_only=True)"
      ],
      "execution_count": 0,
      "outputs": []
    },
    {
      "cell_type": "code",
      "metadata": {
        "id": "82zZDbiPPz5Q",
        "colab_type": "code",
        "outputId": "aad87426-528c-464c-edc4-dd92fb12e726",
        "colab": {
          "base_uri": "https://localhost:8080/",
          "height": 1000
        }
      },
      "source": [
        "EPOCHS=30\n",
        "\n",
        "history = model.fit(\n",
        "    train_dataset.repeat(), \n",
        "    epochs=EPOCHS, \n",
        "    steps_per_epoch=train_steps_per_epoch, \n",
        "    callbacks=[checkpoint_callback],\n",
        "    validation_data=valid_dataset.repeat(),\n",
        "    validation_steps=valid_steps_per_epoch\n",
        ")"
      ],
      "execution_count": 13,
      "outputs": [
        {
          "output_type": "stream",
          "text": [
            "W0731 05:16:46.369280 140359702333312 deprecation.py:323] From /usr/local/lib/python3.6/dist-packages/tensorflow/python/ops/clip_ops.py:157: add_dispatch_support.<locals>.wrapper (from tensorflow.python.ops.array_ops) is deprecated and will be removed in a future version.\n",
            "Instructions for updating:\n",
            "Use tf.where in 2.0, which has the same broadcast rule as np.where\n"
          ],
          "name": "stderr"
        },
        {
          "output_type": "stream",
          "text": [
            "Epoch 1/30\n",
            "123/123 [==============================] - 6s 45ms/step - loss: 5.2303 - val_loss: 4.7815\n",
            "Epoch 2/30\n",
            "123/123 [==============================] - 4s 31ms/step - loss: 4.1200 - val_loss: 3.7958\n",
            "Epoch 3/30\n",
            "123/123 [==============================] - 4s 31ms/step - loss: 3.5501 - val_loss: 3.5050\n",
            "Epoch 4/30\n",
            "123/123 [==============================] - 4s 30ms/step - loss: 3.3121 - val_loss: 3.3528\n",
            "Epoch 5/30\n",
            "123/123 [==============================] - 4s 30ms/step - loss: 3.1678 - val_loss: 3.2497\n",
            "Epoch 6/30\n",
            "123/123 [==============================] - 4s 30ms/step - loss: 3.0655 - val_loss: 3.1770\n",
            "Epoch 7/30\n",
            "123/123 [==============================] - 4s 30ms/step - loss: 2.9836 - val_loss: 3.1220\n",
            "Epoch 8/30\n",
            "123/123 [==============================] - 4s 30ms/step - loss: 2.9226 - val_loss: 3.0741\n",
            "Epoch 9/30\n",
            "123/123 [==============================] - 4s 30ms/step - loss: 2.8644 - val_loss: 3.0427\n",
            "Epoch 10/30\n",
            "123/123 [==============================] - 4s 30ms/step - loss: 2.8255 - val_loss: 3.0083\n",
            "Epoch 11/30\n",
            "123/123 [==============================] - 4s 30ms/step - loss: 2.7816 - val_loss: 2.9809\n",
            "Epoch 12/30\n",
            "123/123 [==============================] - 4s 30ms/step - loss: 2.7475 - val_loss: 2.9656\n",
            "Epoch 13/30\n",
            "123/123 [==============================] - 4s 30ms/step - loss: 2.7228 - val_loss: 2.9443\n",
            "Epoch 14/30\n",
            "123/123 [==============================] - 4s 30ms/step - loss: 2.6973 - val_loss: 2.9298\n",
            "Epoch 15/30\n",
            "123/123 [==============================] - 4s 30ms/step - loss: 2.6671 - val_loss: 2.9171\n",
            "Epoch 16/30\n",
            "123/123 [==============================] - 4s 30ms/step - loss: 2.6460 - val_loss: 2.9038\n",
            "Epoch 17/30\n",
            "123/123 [==============================] - 4s 30ms/step - loss: 2.6258 - val_loss: 2.8996\n",
            "Epoch 18/30\n",
            "123/123 [==============================] - 4s 30ms/step - loss: 2.6126 - val_loss: 2.8943\n",
            "Epoch 19/30\n",
            "123/123 [==============================] - 4s 30ms/step - loss: 2.5924 - val_loss: 2.8753\n",
            "Epoch 20/30\n",
            "123/123 [==============================] - 4s 30ms/step - loss: 2.5791 - val_loss: 2.8744\n",
            "Epoch 21/30\n",
            "123/123 [==============================] - 4s 30ms/step - loss: 2.5633 - val_loss: 2.8646\n",
            "Epoch 22/30\n",
            "123/123 [==============================] - 4s 31ms/step - loss: 2.5531 - val_loss: 2.8631\n",
            "Epoch 23/30\n",
            "123/123 [==============================] - 4s 30ms/step - loss: 2.5366 - val_loss: 2.8554\n",
            "Epoch 24/30\n",
            "123/123 [==============================] - 4s 30ms/step - loss: 2.5242 - val_loss: 2.8519\n",
            "Epoch 25/30\n",
            "123/123 [==============================] - 4s 30ms/step - loss: 2.5119 - val_loss: 2.8484\n",
            "Epoch 26/30\n",
            "123/123 [==============================] - 4s 30ms/step - loss: 2.5113 - val_loss: 2.8500\n",
            "Epoch 27/30\n",
            "123/123 [==============================] - 4s 30ms/step - loss: 2.4913 - val_loss: 2.8448\n",
            "Epoch 28/30\n",
            "123/123 [==============================] - 4s 30ms/step - loss: 2.4909 - val_loss: 2.8468\n",
            "Epoch 29/30\n",
            "123/123 [==============================] - 4s 30ms/step - loss: 2.4848 - val_loss: 2.8388\n",
            "Epoch 30/30\n",
            "123/123 [==============================] - 4s 30ms/step - loss: 2.4666 - val_loss: 2.8422\n"
          ],
          "name": "stdout"
        }
      ]
    },
    {
      "cell_type": "code",
      "metadata": {
        "id": "nChonJ8sXYzD",
        "colab_type": "code",
        "outputId": "44264688-ff47-462d-cf36-acc37c0d06fa",
        "colab": {
          "base_uri": "https://localhost:8080/",
          "height": 609
        }
      },
      "source": [
        "def plot_loss(history):\n",
        "  plt.figure(figsize=(16,10))\n",
        "  val = plt.plot(history.epoch, history.history['val_loss'],\n",
        "                 '--', label='Validation')\n",
        "  plt.plot(history.epoch, history.history['loss'], color=val[0].get_color(),\n",
        "           label='Train')\n",
        "\n",
        "  plt.xlabel('Epochs')\n",
        "  plt.ylabel(\"Loss\")\n",
        "  plt.legend()\n",
        "\n",
        "  plt.xlim([0,max(history.epoch)])\n",
        "\n",
        "plot_loss(history)"
      ],
      "execution_count": 14,
      "outputs": [
        {
          "output_type": "display_data",
          "data": {
            "image/png": "[encoded data removed]",
            "text/plain": [
              "<Figure size 1152x720 with 1 Axes>"
            ]
          },
          "metadata": {
            "tags": []
          }
        }
      ]
    },
    {
      "cell_type": "code",
      "metadata": {
        "id": "fvGZf9mZQKkC",
        "colab_type": "code",
        "outputId": "06150acf-0bdd-460e-a749-3d8e370a8287",
        "colab": {
          "base_uri": "https://localhost:8080/",
          "height": 281
        }
      },
      "source": [
        "model = build_model(vocabulary_size, hidden_sizes[0], hidden_sizes, batch_size=1)\n",
        "\n",
        "model.load_weights(tf.train.latest_checkpoint(checkpoint_dir))\n",
        "\n",
        "model.build(tf.TensorShape([1, None]))\n",
        "\n",
        "print(model.summary())"
      ],
      "execution_count": 15,
      "outputs": [
        {
          "output_type": "stream",
          "text": [
            "Model: \"sequential_1\"\n",
            "_________________________________________________________________\n",
            "Layer (type)                 Output Shape              Param #   \n",
            "=================================================================\n",
            "embedding_1 (Embedding)      (1, None, 128)            69632     \n",
            "_________________________________________________________________\n",
            "simple_rnn_1 (SimpleRNN)     (1, None, 128)            32896     \n",
            "_________________________________________________________________\n",
            "dense_1 (Dense)              (1, None, 544)            70176     \n",
            "=================================================================\n",
            "Total params: 172,704\n",
            "Trainable params: 172,704\n",
            "Non-trainable params: 0\n",
            "_________________________________________________________________\n",
            "None\n"
          ],
          "name": "stdout"
        }
      ]
    },
    {
      "cell_type": "markdown",
      "metadata": {
        "id": "q9oP9Hv79QcK",
        "colab_type": "text"
      },
      "source": [
        "![alt text](https://tensorflow.org/tutorials/sequences/images/text_generation_sampling.png)"
      ]
    },
    {
      "cell_type": "code",
      "metadata": {
        "id": "gItQmZCvQgEw",
        "colab_type": "code",
        "colab": {}
      },
      "source": [
        "def generate_text(model):\n",
        "  # Evaluation step (generating text using the learned model)\n",
        "\n",
        "  # Number of characters to generate\n",
        "  num_generate = 100\n",
        "\n",
        "  # Converting our start string to numbers (vectorizing)\n",
        "  start_token = np.random.randint(1, 100)\n",
        "  print(reverse_dictionary[start_token], end='')\n",
        "  input_eval = [start_token]\n",
        "  input_eval = tf.expand_dims(input_eval, 0)\n",
        "\n",
        "  # Empty string to store our results\n",
        "  text_generated = []\n",
        "\n",
        "  # Low temperatures results in more predictable text.\n",
        "  # Higher temperatures results in more surprising text.\n",
        "  # Experiment to find the best setting.\n",
        "  temperature = 1.0\n",
        "\n",
        "  # Here batch size == 1\n",
        "  model.reset_states()\n",
        "  for i in range(num_generate):\n",
        "      predictions = model.predict(input_eval, steps=1, use_multiprocessing=True)\n",
        "      predicted_id = sample(predictions)\n",
        "      predicted_id = np.squeeze(predicted_id)\n",
        "      print(reverse_dictionary[predicted_id], end='')\n",
        "    \n",
        "      input_eval = tf.expand_dims([predicted_id], 0)\n",
        "      # We pass the predicted word as the next input to the model\n",
        "      # along with the previous hidden state\n",
        "      text_generated.append(reverse_dictionary[predicted_id])\n",
        "\n",
        "  return (''.join(text_generated))"
      ],
      "execution_count": 0,
      "outputs": []
    },
    {
      "cell_type": "code",
      "metadata": {
        "id": "iCRXvhc9QlEB",
        "colab_type": "code",
        "outputId": "d0de81c1-f269-4356-e0e6-7f95f86e68c9",
        "colab": {
          "base_uri": "https://localhost:8080/",
          "height": 54
        }
      },
      "source": [
        "generate_text(model)"
      ],
      "execution_count": 17,
      "outputs": [
        {
          "output_type": "stream",
          "text": [
            "n told him the world, and the king's son, and the king's son, and the king's son, and the king's son, and the king's son, and the king's son, and the king's son, and the king's son, and the king's son, "
          ],
          "name": "stdout"
        },
        {
          "output_type": "execute_result",
          "data": {
            "text/plain": [
              "\"told him the world, and the king's son, and the king's son, and the king's son, and the king's son, and the king's son, and the king's son, and the king's son, and the king's son, and the king's son, \""
            ]
          },
          "metadata": {
            "tags": []
          },
          "execution_count": 17
        }
      ]
    },
    {
      "cell_type": "code",
      "metadata": {
        "id": "rx4IUsLTeNNC",
        "colab_type": "code",
        "colab": {}
      },
      "source": [
        ""
      ],
      "execution_count": 0,
      "outputs": []
    }
  ]
}
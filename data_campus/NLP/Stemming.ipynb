{
 "cells": [
  {
   "cell_type": "markdown",
   "metadata": {},
   "source": [
    "# Introduction\n",
    "- Lemma\n",
    "    - 형태소 분석, 어근 추출\n",
    "- Stem\n",
    "    - 어간 추출\n",
    "- 형태소 분석 : 토큰 분리, 어간 추출, 품사 부착, 색인, 벡터화\n",
    "- 구문 분석 : 문장 경계 인식, 구문분석, 공기어, 개체명 사전 구축(PLOT, 수치, 외국어 한글 표기), 개체명 인식\n",
    "- 의미 분석 : 대용어 해소(대명사, 두문자어, 약어, 수치), 의미 중의성 해결(동명이인, 이명동인)\n",
    "- 담론 분석 : 분류, 군집, 중복, 요약, 가중치, 순위화, 토픽 모델링, 이슈 트래킹, 평판분석, 감성분석, 복합논증분석"
   ]
  },
  {
   "cell_type": "markdown",
   "metadata": {},
   "source": [
    "- 문장 : 완결된 내요을 나타내는 최소 단위\n",
    "- 어절 : 문장을 구성하는 단위\n",
    "- 단어 : 어절을 구성하는 요소. stemming한 결과. 한국어는 힘들다... 한 어절이 한 단어가 아니기 때문\n",
    "- 형태소 : 의미를 가진 문법의 최소 단위. 단어로 나누기 어렵기 때문에 형태소에서 시작한다.\n",
    "> 한국어는 기본적으로 형태소 기반으로 나눠야 하기 때문에 feature의 수가 많아서 어렵다.  "
   ]
  },
  {
   "cell_type": "markdown",
   "metadata": {},
   "source": [
    "- 형태소와 단어\n",
    "    - 단어 : 뜻을 지니고 홀로 쓰일 수 있는 말\n",
    "    - 형태소 : 뜻을 가진 가장 작은 말\n",
    "        - 자립성에 따라\n",
    "            - 자립 형태소\n",
    "            - 의존 형태소\n",
    "        - 의미에 따라\n",
    "            - 실질 형태소\n",
    "            - 형식 형태소\n",
    "            \n",
    "> 자립 형태소이면서 실질 형태소는 대부분 명사. 명사만 나열해도 의미가 어느정도 전달된다"
   ]
  },
  {
   "cell_type": "markdown",
   "metadata": {},
   "source": [
    "# KoNLPy, NLTK\n",
    "## Tokenizing"
   ]
  },
  {
   "cell_type": "code",
   "execution_count": 5,
   "metadata": {
    "ExecuteTime": {
     "end_time": "2019-07-19T02:19:05.411810Z",
     "start_time": "2019-07-19T02:19:05.406818Z"
    }
   },
   "outputs": [],
   "source": [
    "import nltk\n",
    "from nltk.tokenize import sent_tokenize"
   ]
  },
  {
   "cell_type": "code",
   "execution_count": 6,
   "metadata": {
    "ExecuteTime": {
     "end_time": "2019-07-19T02:19:11.073577Z",
     "start_time": "2019-07-19T02:19:06.684083Z"
    }
   },
   "outputs": [
    {
     "name": "stdout",
     "output_type": "stream",
     "text": [
      "[nltk_data] Downloading package punkt to\n",
      "[nltk_data]     C:\\Users\\skarn\\AppData\\Roaming\\nltk_data...\n",
      "[nltk_data]   Unzipping tokenizers\\punkt.zip.\n"
     ]
    },
    {
     "data": {
      "text/plain": [
       "True"
      ]
     },
     "execution_count": 6,
     "metadata": {},
     "output_type": "execute_result"
    }
   ],
   "source": [
    "# nltk.download('punkt')"
   ]
  },
  {
   "cell_type": "markdown",
   "metadata": {},
   "source": [
    "### DB에서 데이터 가져오기"
   ]
  },
  {
   "cell_type": "code",
   "execution_count": 7,
   "metadata": {
    "ExecuteTime": {
     "end_time": "2019-07-19T02:20:38.292607Z",
     "start_time": "2019-07-19T02:20:38.286614Z"
    }
   },
   "outputs": [],
   "source": [
    "import sqlite3"
   ]
  },
  {
   "cell_type": "code",
   "execution_count": 9,
   "metadata": {
    "ExecuteTime": {
     "end_time": "2019-07-19T02:21:44.619531Z",
     "start_time": "2019-07-19T02:21:44.612541Z"
    }
   },
   "outputs": [],
   "source": [
    "conn = sqlite3.connect('../data_processing/unstructuredData/news.db')\n",
    "cur = conn.cursor()"
   ]
  },
  {
   "cell_type": "code",
   "execution_count": 20,
   "metadata": {
    "ExecuteTime": {
     "end_time": "2019-07-19T02:26:11.810125Z",
     "start_time": "2019-07-19T02:26:11.800132Z"
    }
   },
   "outputs": [],
   "source": [
    "cur.execute('''\n",
    "    SELECT content\n",
    "    FROM table2\n",
    "    ORDER BY id ASC\n",
    "''')\n",
    "corpus = [_[0] for _ in cur.fetchall()]"
   ]
  },
  {
   "cell_type": "code",
   "execution_count": 22,
   "metadata": {
    "ExecuteTime": {
     "end_time": "2019-07-19T02:27:22.385956Z",
     "start_time": "2019-07-19T02:27:22.373980Z"
    }
   },
   "outputs": [
    {
     "data": {
      "text/plain": [
       "(2115, 481, 37)"
      ]
     },
     "execution_count": 22,
     "metadata": {},
     "output_type": "execute_result"
    }
   ],
   "source": [
    "len(corpus[0]), len(corpus[0].split()), len(\n",
    "    corpus[0].splitlines())  # 문자 수, 어절 수, 개행 단위 수"
   ]
  },
  {
   "cell_type": "code",
   "execution_count": 24,
   "metadata": {
    "ExecuteTime": {
     "end_time": "2019-07-19T02:28:07.117905Z",
     "start_time": "2019-07-19T02:28:07.108911Z"
    }
   },
   "outputs": [
    {
     "data": {
      "text/plain": [
       "24"
      ]
     },
     "execution_count": 24,
     "metadata": {},
     "output_type": "execute_result"
    }
   ],
   "source": [
    "len(sent_tokenize(corpus[0]))"
   ]
  },
  {
   "cell_type": "code",
   "execution_count": 25,
   "metadata": {
    "ExecuteTime": {
     "end_time": "2019-07-19T02:29:06.453573Z",
     "start_time": "2019-07-19T02:29:06.445581Z"
    }
   },
   "outputs": [
    {
     "data": {
      "text/plain": [
       "'\"2005년 민관위 조사서'"
      ]
     },
     "execution_count": 25,
     "metadata": {},
     "output_type": "execute_result"
    }
   ],
   "source": [
    "corpus[0].splitlines()[0]  # 개행 단위로 짜르면 문장이 끝난게 아니기 때문에 좋지 않다."
   ]
  },
  {
   "cell_type": "code",
   "execution_count": 27,
   "metadata": {
    "ExecuteTime": {
     "end_time": "2019-07-19T02:30:06.535497Z",
     "start_time": "2019-07-19T02:30:06.522505Z"
    }
   },
   "outputs": [
    {
     "data": {
      "text/plain": [
       "'\"2005년 민관위 조사서\\n불법행위 청구권소멸\\n결론 낸 적 없어\" 반박\\n\\n\"日과 타협여지 줄여\\n논란키울 소지\" 비판도\\n\\n◆ 한일 정면충돌 ◆\\n\\n강경화 외교부 장관(오른쪽)이 17일 오후 서울 종로 외교부 청사를 방문한 데이비드 스틸웰 신임 미국 국무부 동아태 차관보와 악수하고 있다.'"
      ]
     },
     "execution_count": 27,
     "metadata": {},
     "output_type": "execute_result"
    }
   ],
   "source": [
    "sent_tokenize(corpus[0])[0]  # 문장의 구성 성분에 맞게 문장 단위로 tokenize 한다."
   ]
  },
  {
   "cell_type": "code",
   "execution_count": 39,
   "metadata": {
    "ExecuteTime": {
     "end_time": "2019-07-19T02:35:37.937179Z",
     "start_time": "2019-07-19T02:35:37.930188Z"
    }
   },
   "outputs": [
    {
     "data": {
      "text/plain": [
       "'!\"#$%&\\'()*+,-./:;<=>?@[\\\\]^_`{|}~'"
      ]
     },
     "execution_count": 39,
     "metadata": {},
     "output_type": "execute_result"
    }
   ],
   "source": [
    "from string import punctuation\n",
    "punctuation"
   ]
  },
  {
   "cell_type": "code",
   "execution_count": 38,
   "metadata": {
    "ExecuteTime": {
     "end_time": "2019-07-19T02:35:13.741007Z",
     "start_time": "2019-07-19T02:35:13.734017Z"
    }
   },
   "outputs": [
    {
     "data": {
      "text/plain": [
       "['\\n    Life is too short, Life is too short!!', 'Life is too short']"
      ]
     },
     "execution_count": 38,
     "metadata": {},
     "output_type": "execute_result"
    }
   ],
   "source": [
    "sent_tokenize('''\n",
    "    Life is too short, Life is too short!! \n",
    "    Life is too short\n",
    "    ''')"
   ]
  },
  {
   "cell_type": "code",
   "execution_count": 44,
   "metadata": {
    "ExecuteTime": {
     "end_time": "2019-07-19T02:36:32.887371Z",
     "start_time": "2019-07-19T02:36:32.880375Z"
    }
   },
   "outputs": [
    {
     "data": {
      "text/plain": [
       "['\\n    수업듣기 싫다~.', '수업듣기 싫다!', '수업듣기 싫다....']"
      ]
     },
     "execution_count": 44,
     "metadata": {},
     "output_type": "execute_result"
    }
   ],
   "source": [
    "sent_tokenize('''\n",
    "    수업듣기 싫다~. 수업듣기 싫다!\n",
    "    수업듣기 싫다....\n",
    "    ''')"
   ]
  },
  {
   "cell_type": "code",
   "execution_count": 45,
   "metadata": {
    "ExecuteTime": {
     "end_time": "2019-07-19T02:43:01.654017Z",
     "start_time": "2019-07-19T02:43:01.643023Z"
    }
   },
   "outputs": [
    {
     "data": {
      "text/plain": [
       "['Life', 'is', 'too', 'short', ',', 'Life', 'is', 'too', 'short', '.']"
      ]
     },
     "execution_count": 45,
     "metadata": {},
     "output_type": "execute_result"
    }
   ],
   "source": [
    "from nltk.tokenize import word_tokenize\n",
    "# 어절 단위로 자른다, split()보다 낫다\n",
    "word_tokenize('Life is too short, Life is too short.')"
   ]
  },
  {
   "cell_type": "code",
   "execution_count": 47,
   "metadata": {
    "ExecuteTime": {
     "end_time": "2019-07-19T04:12:13.366739Z",
     "start_time": "2019-07-19T04:12:13.357744Z"
    }
   },
   "outputs": [
    {
     "data": {
      "text/plain": [
       "(2115, 481, 37)"
      ]
     },
     "execution_count": 47,
     "metadata": {},
     "output_type": "execute_result"
    }
   ],
   "source": [
    "len(corpus[0]), len(corpus[0].split()), len(\n",
    "    corpus[0].splitlines())  # 문자 수, 어절 수, 개행 단위 수"
   ]
  },
  {
   "cell_type": "code",
   "execution_count": 49,
   "metadata": {
    "ExecuteTime": {
     "end_time": "2019-07-19T04:13:30.161356Z",
     "start_time": "2019-07-19T04:13:30.145365Z"
    }
   },
   "outputs": [
    {
     "data": {
      "text/plain": [
       "(551, 24)"
      ]
     },
     "execution_count": 49,
     "metadata": {},
     "output_type": "execute_result"
    }
   ],
   "source": [
    "# string split과 tokenize는 다르다.\n",
    "# 찾아낸 어절 수는 늘고, 문장 수는 적어진다.\n",
    "len(word_tokenize(corpus[0])), len(sent_tokenize(corpus[0]))"
   ]
  },
  {
   "cell_type": "code",
   "execution_count": 52,
   "metadata": {
    "ExecuteTime": {
     "end_time": "2019-07-19T04:25:16.342665Z",
     "start_time": "2019-07-19T04:25:16.334673Z"
    }
   },
   "outputs": [
    {
     "data": {
      "text/plain": [
       "['You', 'need', 'python', '=', ')']"
      ]
     },
     "execution_count": 52,
     "metadata": {},
     "output_type": "execute_result"
    }
   ],
   "source": [
    "from nltk.tokenize import TweetTokenizer\n",
    "word_tokenize(\"You need python =)\")"
   ]
  },
  {
   "cell_type": "code",
   "execution_count": 55,
   "metadata": {
    "ExecuteTime": {
     "end_time": "2019-07-19T04:25:54.259995Z",
     "start_time": "2019-07-19T04:25:54.252006Z"
    }
   },
   "outputs": [
    {
     "data": {
      "text/plain": [
       "['You', 'need', 'python', '=)']"
      ]
     },
     "execution_count": 55,
     "metadata": {},
     "output_type": "execute_result"
    }
   ],
   "source": [
    "TweetTokenizer().tokenize(\"You need python =)\")"
   ]
  },
  {
   "cell_type": "code",
   "execution_count": 56,
   "metadata": {
    "ExecuteTime": {
     "end_time": "2019-07-19T04:26:16.900531Z",
     "start_time": "2019-07-19T04:26:16.895551Z"
    }
   },
   "outputs": [],
   "source": [
    "import re\n",
    "from nltk.tokenize import regexp_tokenize"
   ]
  },
  {
   "cell_type": "code",
   "execution_count": 59,
   "metadata": {
    "ExecuteTime": {
     "end_time": "2019-07-19T04:27:29.263394Z",
     "start_time": "2019-07-19T04:27:29.250418Z"
    }
   },
   "outputs": [
    {
     "data": {
      "text/plain": [
       "['한', '글']"
      ]
     },
     "execution_count": 59,
     "metadata": {},
     "output_type": "execute_result"
    }
   ],
   "source": [
    "pattern = re.compile(r\"\\b([가-힣]+)\\b\")\n",
    "regexp_tokenize(\"ㅠㅠ ㅜㅜ ㅋㅋ 한#%@글\", pattern)"
   ]
  },
  {
   "cell_type": "code",
   "execution_count": 62,
   "metadata": {
    "ExecuteTime": {
     "end_time": "2019-07-19T04:30:48.404584Z",
     "start_time": "2019-07-19T04:30:48.393591Z"
    }
   },
   "outputs": [
    {
     "data": {
      "text/plain": [
       "'한글'"
      ]
     },
     "execution_count": 62,
     "metadata": {},
     "output_type": "execute_result"
    }
   ],
   "source": [
    "re.sub(r\"\\b([^가-힣]+)\\b\", \"\", \"ㅠㅠ ㅜㅜ ㅋㅋ 한#%@글\")\n",
    "\n",
    "# Q. 한글에서 몇부터 몇까지의 기준은 아스키 코드값 기준인가요?"
   ]
  },
  {
   "cell_type": "code",
   "execution_count": 63,
   "metadata": {
    "ExecuteTime": {
     "end_time": "2019-07-19T04:32:16.679055Z",
     "start_time": "2019-07-19T04:32:16.667065Z"
    }
   },
   "outputs": [],
   "source": [
    "from nltk import Text\n",
    "text = Text(word_tokenize(corpus[0]))"
   ]
  },
  {
   "cell_type": "code",
   "execution_count": 66,
   "metadata": {
    "ExecuteTime": {
     "end_time": "2019-07-19T04:33:05.567475Z",
     "start_time": "2019-07-19T04:33:05.558482Z"
    }
   },
   "outputs": [
    {
     "data": {
      "text/plain": [
       "(389, 551)"
      ]
     },
     "execution_count": 66,
     "metadata": {},
     "output_type": "execute_result"
    }
   ],
   "source": [
    "# B : unique , N : 전체 개수\n",
    "text.vocab().B(), text.vocab().N()"
   ]
  },
  {
   "cell_type": "code",
   "execution_count": 67,
   "metadata": {
    "ExecuteTime": {
     "end_time": "2019-07-19T04:33:47.739375Z",
     "start_time": "2019-07-19T04:33:47.727397Z"
    }
   },
   "outputs": [
    {
     "data": {
      "text/plain": [
       "[('.', 23),\n",
       " (\"''\", 10),\n",
       " ('``', 8),\n",
       " ('입장을', 7),\n",
       " ('고', 7),\n",
       " ('당시', 7),\n",
       " ('강제징용', 6),\n",
       " ('있다', 5),\n",
       " ('2005년', 4),\n",
       " ('청와대가', 4),\n",
       " ('손해배상청구권이', 4),\n",
       " ('남아', 4),\n",
       " ('일본', 4),\n",
       " ('명확하게', 4),\n",
       " (',', 4),\n",
       " (\"'\", 4),\n",
       " ('이', 3),\n",
       " ('[', 3),\n",
       " (']', 3),\n",
       " ('피해자', 3),\n",
       " ('개인의', 3),\n",
       " ('정부가', 3),\n",
       " ('수', 3),\n",
       " ('것은', 3),\n",
       " ('대해서는', 3),\n",
       " ('관련', 3),\n",
       " ('밝혔다', 3),\n",
       " ('대변인은', 3),\n",
       " ('바', 3),\n",
       " ('것으로', 3)]"
      ]
     },
     "execution_count": 67,
     "metadata": {},
     "output_type": "execute_result"
    }
   ],
   "source": [
    "text.vocab().most_common(30)  # 상위 30개 단어"
   ]
  },
  {
   "cell_type": "code",
   "execution_count": 73,
   "metadata": {
    "ExecuteTime": {
     "end_time": "2019-07-19T04:35:41.480367Z",
     "start_time": "2019-07-19T04:35:40.990649Z"
    }
   },
   "outputs": [
    {
     "data": {
      "image/png": "[encoded data removed]",
      "text/plain": [
       "<Figure size 432x288 with 1 Axes>"
      ]
     },
     "metadata": {
      "needs_background": "light"
     },
     "output_type": "display_data"
    }
   ],
   "source": [
    "text.plot(30)  #"
   ]
  },
  {
   "cell_type": "markdown",
   "metadata": {},
   "source": [
    "# Empirical Law\n",
    "- 구두점, a, the 등 의미없는 토큰을 해결해야 한다.\n",
    "- ambiguous, entrophy 가 높다"
   ]
  },
  {
   "cell_type": "markdown",
   "metadata": {},
   "source": [
    "## Zipf's Law\n",
    "- 워드의 랭킹에 반비례를 따른다."
   ]
  },
  {
   "cell_type": "code",
   "execution_count": 74,
   "metadata": {
    "ExecuteTime": {
     "end_time": "2019-07-19T04:48:45.414436Z",
     "start_time": "2019-07-19T04:48:45.406444Z"
    }
   },
   "outputs": [
    {
     "data": {
      "text/plain": [
       "0.012704174228675136"
      ]
     },
     "execution_count": 74,
     "metadata": {},
     "output_type": "execute_result"
    }
   ],
   "source": [
    "text.vocab().freq('고')"
   ]
  },
  {
   "cell_type": "code",
   "execution_count": 77,
   "metadata": {
    "ExecuteTime": {
     "end_time": "2019-07-19T04:51:11.648533Z",
     "start_time": "2019-07-19T04:51:11.634541Z"
    }
   },
   "outputs": [
    {
     "name": "stdout",
     "output_type": "stream",
     "text": [
      "0.041742286751361164\n",
      "0.018148820326678767\n",
      "0.014519056261343012\n",
      "0.012704174228675136\n",
      "0.012704174228675136\n",
      "0.012704174228675136\n",
      "0.010889292196007259\n",
      "0.009074410163339383\n",
      "0.007259528130671506\n",
      "0.007259528130671506\n",
      "0.14700544464609802\n"
     ]
    }
   ],
   "source": [
    "ratio = 0.0\n",
    "for _ in [_[0] for _ in text.vocab().most_common(10)]:\n",
    "    ratio += text.vocab().freq(_)\n",
    "    print(text.vocab().freq(_))\n",
    "print(ratio)  # 500개 단어 중 0.14%는 10개의 단어로 채워진다."
   ]
  },
  {
   "cell_type": "code",
   "execution_count": 78,
   "metadata": {
    "ExecuteTime": {
     "end_time": "2019-07-19T05:05:59.758046Z",
     "start_time": "2019-07-19T05:05:59.753053Z"
    }
   },
   "outputs": [],
   "source": [
    "import matplotlib.pyplot as plt"
   ]
  },
  {
   "cell_type": "code",
   "execution_count": 82,
   "metadata": {
    "ExecuteTime": {
     "end_time": "2019-07-19T05:08:05.278204Z",
     "start_time": "2019-07-19T05:08:05.271207Z"
    }
   },
   "outputs": [
    {
     "data": {
      "text/plain": [
       "FreqDist({'.': 23, \"''\": 10, '``': 8, '입장을': 7, '고': 7, '당시': 7, '강제징용': 6, '있다': 5, '2005년': 4, '청와대가': 4, ...})"
      ]
     },
     "execution_count": 82,
     "metadata": {},
     "output_type": "execute_result"
    }
   ],
   "source": [
    "text.vocab()"
   ]
  },
  {
   "cell_type": "code",
   "execution_count": 101,
   "metadata": {
    "ExecuteTime": {
     "end_time": "2019-07-19T05:26:15.569990Z",
     "start_time": "2019-07-19T05:26:15.150214Z"
    }
   },
   "outputs": [],
   "source": [
    "### 모든 기사 합쳐봐라 ##\n",
    "text = Text(word_tokenize(' '.join(corpus)))  # 35개 기사 합친다."
   ]
  },
  {
   "cell_type": "code",
   "execution_count": 120,
   "metadata": {
    "ExecuteTime": {
     "end_time": "2019-07-19T05:34:42.777600Z",
     "start_time": "2019-07-19T05:34:31.215205Z"
    }
   },
   "outputs": [
    {
     "name": "stdout",
     "output_type": "stream",
     "text": [
      "8955\n"
     ]
    },
    {
     "data": {
      "image/png": "[encoded data removed]",
      "text/plain": [
       "<Figure size 432x288 with 1 Axes>"
      ]
     },
     "metadata": {
      "needs_background": "light"
     },
     "output_type": "display_data"
    },
    {
     "data": {
      "image/png": "[encoded data removed]",
      "text/plain": [
       "<Figure size 432x288 with 1 Axes>"
      ]
     },
     "metadata": {
      "needs_background": "light"
     },
     "output_type": "display_data"
    }
   ],
   "source": [
    "# from math import log\n",
    "# %matplotlib inline\n",
    "token = [_[0]\n",
    "         for _ in sorted(text.vocab().items(), key=lambda x:x[1], reverse=True)]\n",
    "print(len(token))\n",
    "freq = [_[1]/text.vocab().most_common(1)[0][1]\n",
    "        for _ in sorted(text.vocab().items(), key=lambda x:x[1], reverse=True)]\n",
    "_freq = [log(_) for _ in freq]\n",
    "rank = [1/(_+1) for _ in range(len(token))]\n",
    "_rank = [log(_) for _ in rank]\n",
    "plt.plot([i for i in range(len(token))], freq, 'r-')\n",
    "plt.plot([i for i in range(len(token))], rank, 'b-')\n",
    "plt.show()\n",
    "plt.plot([i for i in range(len(token))], _freq, 'r-')\n",
    "plt.plot([i for i in range(len(token))], _rank, 'b-')\n",
    "plt.show()"
   ]
  },
  {
   "cell_type": "code",
   "execution_count": 115,
   "metadata": {
    "ExecuteTime": {
     "end_time": "2019-07-19T05:32:03.515052Z",
     "start_time": "2019-07-19T05:32:03.502061Z"
    }
   },
   "outputs": [
    {
     "name": "stdout",
     "output_type": "stream",
     "text": [
      "8955\n",
      "0.05053824902353053\n",
      "0.017766981042202534\n",
      "0.011527102981804324\n",
      "0.011336572354005906\n",
      "0.008049919024483185\n",
      "0.00800228636753358\n",
      "0.006335143374297418\n",
      "0.006239878060398209\n",
      "0.005906449461750976\n",
      "0.005763551490902162\n",
      "0.005715918833952558\n",
      "0.005668286177002953\n",
      "0.005001428979708488\n",
      "0.004334571782414023\n",
      "0.0036200819281699535\n",
      "0.0034771839573211395\n",
      "0.0033342859864723255\n",
      "0.003239020672573116\n",
      "0.003143755358673907\n",
      "0.002810326760026674\n",
      "0.17181099361722396\n"
     ]
    }
   ],
   "source": [
    "print(len(text.vocab()))\n",
    "ratio = 0.0\n",
    "for _ in [_[0] for _ in text.vocab().most_common(20)]:\n",
    "    ratio += text.vocab().freq(_)\n",
    "    print(text.vocab().freq(_))\n",
    "print(ratio)  # 8955개 단어 중 0.14%는 10개의 단어로 채워진다."
   ]
  },
  {
   "cell_type": "code",
   "execution_count": 118,
   "metadata": {
    "ExecuteTime": {
     "end_time": "2019-07-19T05:33:01.618411Z",
     "start_time": "2019-07-19T05:33:00.895084Z"
    }
   },
   "outputs": [
    {
     "data": {
      "image/png": "[encoded data removed]",
      "text/plain": [
       "<Figure size 432x288 with 1 Axes>"
      ]
     },
     "metadata": {
      "needs_background": "light"
     },
     "output_type": "display_data"
    }
   ],
   "source": [
    "text.vocab()\n",
    "text.plot(20)"
   ]
  },
  {
   "cell_type": "code",
   "execution_count": 126,
   "metadata": {
    "ExecuteTime": {
     "end_time": "2019-07-19T05:40:10.210515Z",
     "start_time": "2019-07-19T05:40:07.066300Z"
    }
   },
   "outputs": [],
   "source": [
    "K = 10  # 10 - 100\n",
    "B = 0.4  # 0.4 - 0.6\n",
    "unique = list()\n",
    "total = list()\n",
    "heaps = list()\n",
    "largeText = \"\"\n",
    "for _ in corpus:\n",
    "    largeText += _\n",
    "    text = Text(largeText)\n",
    "    unique.append(text.vocab().B())\n",
    "    total.append(text.vocab().N())\n",
    "    heaps.append(K*text.vocab().N()**B)"
   ]
  },
  {
   "cell_type": "code",
   "execution_count": 127,
   "metadata": {
    "ExecuteTime": {
     "end_time": "2019-07-19T05:40:10.623263Z",
     "start_time": "2019-07-19T05:40:10.216495Z"
    }
   },
   "outputs": [
    {
     "data": {
      "text/plain": [
       "<function matplotlib.pyplot.show(*args, **kw)>"
      ]
     },
     "execution_count": 127,
     "metadata": {},
     "output_type": "execute_result"
    },
    {
     "data": {
      "image/png": "[encoded data removed]",
      "text/plain": [
       "<Figure size 432x288 with 1 Axes>"
      ]
     },
     "metadata": {
      "needs_background": "light"
     },
     "output_type": "display_data"
    }
   ],
   "source": [
    "plt.plot(total, unique, 'r-')\n",
    "plt.plot(total, heaps, 'b-')\n",
    "plt.show"
   ]
  },
  {
   "cell_type": "markdown",
   "metadata": {},
   "source": [
    "# N-gram "
   ]
  },
  {
   "cell_type": "code",
   "execution_count": 150,
   "metadata": {
    "ExecuteTime": {
     "end_time": "2019-07-19T06:32:45.924322Z",
     "start_time": "2019-07-19T06:32:45.906332Z"
    }
   },
   "outputs": [
    {
     "data": {
      "text/plain": [
       "['\"2', '20', '00', '05', '5년', '년 ', ' 민', '민관', '관위', '위 ', ' 조', '조사', '사서']"
      ]
     },
     "execution_count": 150,
     "metadata": {},
     "output_type": "execute_result"
    }
   ],
   "source": [
    "sentence = \"Life is too short, You need Python\"\n",
    "\n",
    "\n",
    "def eojeol(sentence, N=2):\n",
    "    tokens = word_tokenize(sentence)\n",
    "    ngram = list()\n",
    "    for i in range(len(tokens)-(N-1)):\n",
    "        #         ngram.append(\"\".join(tokens[i:i+N]))\n",
    "        ngram.append(tuple(tokens[i:i+N]))\n",
    "    return ngram\n",
    "\n",
    "def umjeol(token, N=2):\n",
    "    tokens = list(token)\n",
    "    ngram = list()\n",
    "    for i in range(len(tokens)-(N-1)):\n",
    "        ngram.append(\"\".join(tokens[i:i+N]))\n",
    "#         ngram.append(tuple(tokens[i:i+N]))\n",
    "    return ngram\n",
    "eojeol(sentence, 4)\n",
    "umjeol(corpus[0].splitlines()[0])"
   ]
  },
  {
   "cell_type": "code",
   "execution_count": 133,
   "metadata": {
    "ExecuteTime": {
     "end_time": "2019-07-19T06:22:01.022774Z",
     "start_time": "2019-07-19T06:22:00.987793Z"
    }
   },
   "outputs": [],
   "source": [
    "from collections import defaultdict\n",
    "\n",
    "freq = defaultdict(int)\n",
    "\n",
    "for _ in eojeol(corpus[0]):\n",
    "    freq[_] += 1"
   ]
  },
  {
   "cell_type": "code",
   "execution_count": 135,
   "metadata": {
    "ExecuteTime": {
     "end_time": "2019-07-19T06:22:47.258290Z",
     "start_time": "2019-07-19T06:22:47.247299Z"
    }
   },
   "outputs": [
    {
     "data": {
      "text/plain": [
       "[((\"''\", '고'), 5),\n",
       " (('있다', '.'), 4),\n",
       " (('강제징용', '피해자'), 3),\n",
       " (('개인의', '손해배상청구권이'), 3),\n",
       " (('.', '['), 2),\n",
       " (('피해자', '개인의'), 2),\n",
       " (('손해배상청구권이', '남아'), 2),\n",
       " (('지난해', '10월'), 2),\n",
       " (('강제징용', '판결'), 2),\n",
       " (('3권', '분립'), 2)]"
      ]
     },
     "execution_count": 135,
     "metadata": {},
     "output_type": "execute_result"
    }
   ],
   "source": [
    "sorted(freq.items(), key=lambda x: x[1], reverse=True)[:10]# 제일 많이 나타난 쌍 상위 10개"
   ]
  },
  {
   "cell_type": "code",
   "execution_count": 141,
   "metadata": {
    "ExecuteTime": {
     "end_time": "2019-07-19T06:26:36.272144Z",
     "start_time": "2019-07-19T06:26:36.263149Z"
    }
   },
   "outputs": [
    {
     "data": {
      "text/plain": [
       "0.007272727272727273"
      ]
     },
     "execution_count": 141,
     "metadata": {},
     "output_type": "execute_result"
    }
   ],
   "source": [
    "freq[(\"''\", '고')] / sum(freq.values()) * freq[('있다', '.')] / freq[(\"''\", '고')]"
   ]
  },
  {
   "cell_type": "code",
   "execution_count": 153,
   "metadata": {
    "ExecuteTime": {
     "end_time": "2019-07-19T06:38:31.483503Z",
     "start_time": "2019-07-19T06:38:31.473506Z"
    }
   },
   "outputs": [
    {
     "data": {
      "text/plain": [
       "0.00909090909090909"
      ]
     },
     "execution_count": 153,
     "metadata": {},
     "output_type": "execute_result"
    }
   ],
   "source": [
    "freq[(\"''\", '고')] / sum(freq.values())"
   ]
  },
  {
   "cell_type": "markdown",
   "metadata": {},
   "source": [
    "# WPM\n",
    "- **Word Piece Model**\n",
    "- 하나의 단어를 내부 단어(Subword Unit)들로 분리하는 단어 분리 모델\n",
    "\n",
    "`BPM` 로부터 파생되엇다.\n",
    "- **Byte Pair Enoding**\n",
    "- simple form of data compression\n"
   ]
  },
  {
   "cell_type": "code",
   "execution_count": 154,
   "metadata": {
    "ExecuteTime": {
     "end_time": "2019-07-19T06:41:18.082636Z",
     "start_time": "2019-07-19T06:41:16.978267Z"
    }
   },
   "outputs": [
    {
     "name": "stdout",
     "output_type": "stream",
     "text": [
      "[nltk_data] Downloading package stopwords to\n",
      "[nltk_data]     C:\\Users\\skarn\\AppData\\Roaming\\nltk_data...\n",
      "[nltk_data]   Unzipping corpora\\stopwords.zip.\n"
     ]
    },
    {
     "data": {
      "text/plain": [
       "True"
      ]
     },
     "execution_count": 154,
     "metadata": {},
     "output_type": "execute_result"
    }
   ],
   "source": [
    "# nltk.download('stopwords')"
   ]
  },
  {
   "cell_type": "markdown",
   "metadata": {},
   "source": [
    "## 불용어 처리"
   ]
  },
  {
   "cell_type": "code",
   "execution_count": 157,
   "metadata": {
    "ExecuteTime": {
     "end_time": "2019-07-19T06:42:03.197656Z",
     "start_time": "2019-07-19T06:42:03.188661Z"
    }
   },
   "outputs": [
    {
     "name": "stdout",
     "output_type": "stream",
     "text": [
      "i\n",
      "me\n",
      "my\n",
      "myself\n",
      "we\n",
      "our\n",
      "ours\n",
      "ourselves\n",
      "you\n",
      "you're\n",
      "you've\n",
      "you'll\n",
      "you'd\n",
      "your\n",
      "yours\n",
      "yourself\n",
      "yourselves\n",
      "he\n",
      "him\n",
      "his\n",
      "himself\n",
      "she\n",
      "she's\n",
      "her\n",
      "hers\n",
      "herself\n",
      "it\n",
      "it's\n",
      "its\n",
      "itself\n",
      "they\n",
      "them\n",
      "their\n",
      "theirs\n",
      "themselves\n",
      "what\n",
      "which\n",
      "who\n",
      "whom\n",
      "this\n",
      "that\n",
      "that'll\n",
      "these\n",
      "those\n",
      "am\n",
      "is\n",
      "are\n",
      "was\n",
      "were\n",
      "be\n",
      "been\n",
      "being\n",
      "have\n",
      "has\n",
      "had\n",
      "having\n",
      "do\n",
      "does\n",
      "did\n",
      "doing\n",
      "a\n",
      "an\n",
      "the\n",
      "and\n",
      "but\n",
      "if\n",
      "or\n",
      "because\n",
      "as\n",
      "until\n",
      "while\n",
      "of\n",
      "at\n",
      "by\n",
      "for\n",
      "with\n",
      "about\n",
      "against\n",
      "between\n",
      "into\n",
      "through\n",
      "during\n",
      "before\n",
      "after\n",
      "above\n",
      "below\n",
      "to\n",
      "from\n",
      "up\n",
      "down\n",
      "in\n",
      "out\n",
      "on\n",
      "off\n",
      "over\n",
      "under\n",
      "again\n",
      "further\n",
      "then\n",
      "once\n",
      "here\n",
      "there\n",
      "when\n",
      "where\n",
      "why\n",
      "how\n",
      "all\n",
      "any\n",
      "both\n",
      "each\n",
      "few\n",
      "more\n",
      "most\n",
      "other\n",
      "some\n",
      "such\n",
      "no\n",
      "nor\n",
      "not\n",
      "only\n",
      "own\n",
      "same\n",
      "so\n",
      "than\n",
      "too\n",
      "very\n",
      "s\n",
      "t\n",
      "can\n",
      "will\n",
      "just\n",
      "don\n",
      "don't\n",
      "should\n",
      "should've\n",
      "now\n",
      "d\n",
      "ll\n",
      "m\n",
      "o\n",
      "re\n",
      "ve\n",
      "y\n",
      "ain\n",
      "aren\n",
      "aren't\n",
      "couldn\n",
      "couldn't\n",
      "didn\n",
      "didn't\n",
      "doesn\n",
      "doesn't\n",
      "hadn\n",
      "hadn't\n",
      "hasn\n",
      "hasn't\n",
      "haven\n",
      "haven't\n",
      "isn\n",
      "isn't\n",
      "ma\n",
      "mightn\n",
      "mightn't\n",
      "mustn\n",
      "mustn't\n",
      "needn\n",
      "needn't\n",
      "shan\n",
      "shan't\n",
      "shouldn\n",
      "shouldn't\n",
      "wasn\n",
      "wasn't\n",
      "weren\n",
      "weren't\n",
      "won\n",
      "won't\n",
      "wouldn\n",
      "wouldn't\n",
      "\n"
     ]
    }
   ],
   "source": [
    "from nltk.corpus import stopwords\n",
    "print(stopwords.open('english').read())"
   ]
  },
  {
   "cell_type": "code",
   "execution_count": 227,
   "metadata": {
    "ExecuteTime": {
     "end_time": "2019-07-19T07:50:56.364223Z",
     "start_time": "2019-07-19T07:50:56.357226Z"
    }
   },
   "outputs": [],
   "source": [
    "# tokens = {\n",
    "#     \"l o w </w>\" : 5,\n",
    "#     \"l o w e s t </w>\" : 2,\n",
    "#     \"n e w e r </w>\" : 6,\n",
    "#     \"r i d e r </w>\" : 3\n",
    "# }\n",
    "# K = max(tokens.values())\n",
    "\n",
    "tokens = {\n",
    "    \"아 버 지 가 </w>\" : 5,\n",
    "    \"아 버 지 께 서 </w>\" : 2,\n",
    "    \"아 버 지 를 </w>\" : 6,\n",
    "    \"아 버 지 에 게 </w>\" : 3\n",
    "}\n",
    "K = max(tokens.values())"
   ]
  },
  {
   "cell_type": "code",
   "execution_count": 179,
   "metadata": {
    "ExecuteTime": {
     "end_time": "2019-07-19T07:23:33.247479Z",
     "start_time": "2019-07-19T07:23:33.239487Z"
    }
   },
   "outputs": [],
   "source": [
    "def findBigram(tokens):\n",
    "    ngram = defaultdict(int)\n",
    "    for token, freq in tokens.items():\n",
    "        syllables = token.split()\n",
    "        for i in range(len(syllables)-1):\n",
    "            ngram[tuple(syllables[i:i+2])] += freq\n",
    "    return ngram"
   ]
  },
  {
   "cell_type": "code",
   "execution_count": 223,
   "metadata": {
    "ExecuteTime": {
     "end_time": "2019-07-19T07:48:52.544020Z",
     "start_time": "2019-07-19T07:48:52.536024Z"
    }
   },
   "outputs": [],
   "source": [
    "def mergeMaxkey(ngram, tokens, K):\n",
    "    maxKey = max(ngram, key=ngram.get)\n",
    "    maxValue = max(ngram.values())\n",
    "    newTokens = dict()\n",
    "    for token, freq in tokens.items():\n",
    "            newTokens[re.sub(' '.join(maxKey), ''.join(maxKey), token) if maxValue > K else token] = freq\n",
    "#     print(maxKey)\n",
    "    return newTokens"
   ]
  },
  {
   "cell_type": "code",
   "execution_count": 231,
   "metadata": {
    "ExecuteTime": {
     "end_time": "2019-07-19T08:18:28.698269Z",
     "start_time": "2019-07-19T08:18:28.682289Z"
    }
   },
   "outputs": [
    {
     "data": {
      "text/plain": [
       "(defaultdict(int,\n",
       "             {('아버지', '가'): 5,\n",
       "              ('가', '</w>'): 5,\n",
       "              ('아버지', '께'): 2,\n",
       "              ('께', '서'): 2,\n",
       "              ('서', '</w>'): 2,\n",
       "              ('아버지', '를'): 6,\n",
       "              ('를', '</w>'): 6,\n",
       "              ('아버지', '에'): 3,\n",
       "              ('에', '게'): 3,\n",
       "              ('게', '</w>'): 3}),\n",
       " {'아버지 가 </w>': 5, '아버지 께 서 </w>': 2, '아버지 를 </w>': 6, '아버지 에 게 </w>': 3})"
      ]
     },
     "execution_count": 231,
     "metadata": {},
     "output_type": "execute_result"
    }
   ],
   "source": [
    "for _ in range(100): ## iteration 을 많이 할수록 합쳐진다.\n",
    "    maxKey = findBigram(tokens)\n",
    "    tokens = mergeMaxkey(maxKey, tokens, K)\n",
    "maxKey, tokens"
   ]
  },
  {
   "cell_type": "code",
   "execution_count": 230,
   "metadata": {
    "ExecuteTime": {
     "end_time": "2019-07-19T07:51:19.742860Z",
     "start_time": "2019-07-19T07:51:19.732870Z"
    }
   },
   "outputs": [
    {
     "data": {
      "text/plain": [
       "{'아버지'}"
      ]
     },
     "execution_count": 230,
     "metadata": {},
     "output_type": "execute_result"
    }
   ],
   "source": [
    "# pattern = r\"[A-Za-z\\/\\<\\>]{2,}\"\n",
    "pattern = r\"[가-힣A-Za-z\\/\\<\\>]{2,}\"\n",
    "result = list()\n",
    "for _ in tokens:\n",
    "    result.extend([_ for _ in re.findall(pattern, _) if _ != r\"</w>\"])\n",
    "set(result) # 찾아낸 `어간`들"
   ]
  },
  {
   "cell_type": "code",
   "execution_count": null,
   "metadata": {},
   "outputs": [],
   "source": []
  }
 ],
 "metadata": {
  "kernelspec": {
   "display_name": "Python 3",
   "language": "python",
   "name": "python3"
  },
  "language_info": {
   "codemirror_mode": {
    "name": "ipython",
    "version": 3
   },
   "file_extension": ".py",
   "mimetype": "text/x-python",
   "name": "python",
   "nbconvert_exporter": "python",
   "pygments_lexer": "ipython3",
   "version": "3.6.7"
  },
  "toc": {
   "base_numbering": 1,
   "nav_menu": {},
   "number_sections": true,
   "sideBar": true,
   "skip_h1_title": false,
   "title_cell": "Table of Contents",
   "title_sidebar": "Contents",
   "toc_cell": false,
   "toc_position": {},
   "toc_section_display": true,
   "toc_window_display": false
  }
 },
 "nbformat": 4,
 "nbformat_minor": 2
}

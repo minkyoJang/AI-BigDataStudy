{
  "nbformat": 4,
  "nbformat_minor": 0,
  "metadata": {
    "colab": {
      "name": "Data Labeling (DIY).ipynb",
      "version": "0.3.2",
      "provenance": [],
      "collapsed_sections": [],
      "include_colab_link": true
    },
    "kernelspec": {
      "name": "python3",
      "display_name": "Python 3"
    },
    "accelerator": "GPU"
  },
  "cells": [
    {
      "cell_type": "markdown",
      "metadata": {
        "id": "view-in-github",
        "colab_type": "text"
      },
      "source": [
        "<a href=\"https://colab.research.google.com/github/getChan/data_campus/blob/master/NLP/Data_Labeling_(DIY).ipynb\" target=\"_parent\"><img src=\"https://colab.research.google.com/assets/colab-badge.svg\" alt=\"Open In Colab\"/></a>"
      ]
    },
    {
      "cell_type": "markdown",
      "metadata": {
        "id": "TKtiON7SWo-W",
        "colab_type": "text"
      },
      "source": [
        "# Data Labeling Lab"
      ]
    },
    {
      "cell_type": "markdown",
      "metadata": {
        "id": "EEbjAYgOW6WB",
        "colab_type": "text"
      },
      "source": [
        "## Goal\n",
        "본 실습의 목표는 Amazon Mechanical Turk와 같은 플랫폼을 통해 사용자들로부터 데이터에 정답을 부착했을 때, 이를 머신러닝 학습에 사용할 수 있도록 후처리하는 방법을 배우는 것입니다."
      ]
    },
    {
      "cell_type": "markdown",
      "metadata": {
        "id": "8yF2I-Cs2JPd",
        "colab_type": "text"
      },
      "source": [
        "## Dataset"
      ]
    },
    {
      "cell_type": "code",
      "metadata": {
        "id": "N1YfHPu-7t1f",
        "colab_type": "code",
        "colab": {}
      },
      "source": [
        "import os\n",
        "import pandas as pd\n",
        "import numpy as np\n",
        "from collections import defaultdict"
      ],
      "execution_count": 0,
      "outputs": []
    },
    {
      "cell_type": "markdown",
      "metadata": {
        "id": "ALwOX9m48wGQ",
        "colab_type": "text"
      },
      "source": [
        "학습 데이터를 다운로드하고 압축을 풉니다.\n",
        "\n",
        "데이터 출처: http://www.cs.cornell.edu/~cristian/Politeness.html"
      ]
    },
    {
      "cell_type": "code",
      "metadata": {
        "id": "q2EW2UKy6elS",
        "colab_type": "code",
        "colab": {}
      },
      "source": [
        "if not os.path.exists(\"Stanford_politeness_corpus.zip\"):\n",
        "  !wget http://www.cs.cornell.edu/~cristian/Politeness_files/Stanford_politeness_corpus.zip\n",
        "\n",
        "if not os.path.exists(\"Stanford_politeness_corpus/wikipedia.annotated.csv\"):\n",
        "  !unzip Stanford_politeness_corpus.zip"
      ],
      "execution_count": 0,
      "outputs": []
    },
    {
      "cell_type": "markdown",
      "metadata": {
        "id": "ZSjkRRR82O_r",
        "colab_type": "text"
      },
      "source": [
        "다운로드된 데이터셋은 CSV 파일 형태로 되어 있습니다.\n",
        "\n",
        "pandas 패키지의 read_csv 함수를 이용하면 이를 편리하게 읽어올 수 있습니다."
      ]
    },
    {
      "cell_type": "code",
      "metadata": {
        "id": "fN4zIxe99SNI",
        "colab_type": "code",
        "colab": {
          "base_uri": "https://localhost:8080/",
          "height": 369
        },
        "outputId": "c7ff6107-5959-46af-d254-164916a7465c"
      },
      "source": [
        "data = pd.read_csv(\"Stanford_politeness_corpus/wikipedia.annotated.csv\")\n",
        "pd.set_option('display.max_columns', None)\n",
        "\n",
        "print(data.head())"
      ],
      "execution_count": 39,
      "outputs": [
        {
          "output_type": "stream",
          "text": [
            "   Community      Id                                            Request  \\\n",
            "0  Wikipedia  629705  Where did you learn English? How come you're t...   \n",
            "1  Wikipedia  244336  Thanks very much for your edit to the <url> ar...   \n",
            "2  Wikipedia  627353  Sir i think u hav many friends on wiki who can...   \n",
            "3  Wikipedia  448565  I can't find it.  Maybe I didn't manage to gue...   \n",
            "4  Wikipedia  625810  I can't spend too much time, and I'm no specia...   \n",
            "\n",
            "   Score1  Score2  Score3  Score4  Score5         TurkId1         TurkId2  \\\n",
            "0      13       9      11      11       5  A2UFD1I8ZO1V4G  A2YFPO0N4GIS25   \n",
            "1      23      16      24      21      25  A2QN0EGBRGJU1M  A2GSW5RBAT5LQ5   \n",
            "2      17      17      11      10       9  A233ONYNWKDIYF  A2UFD1I8ZO1V4G   \n",
            "3      17       9      16      16       9  A233ONYNWKDIYF  A1TLLJDX8H4JP1   \n",
            "4      17      14      17      11      17  A21753FQKCM5DQ   AYG3MF094634L   \n",
            "\n",
            "          TurkId3         TurkId4         TurkId5  Normalized Score  \n",
            "0   AYG3MF094634L  A38WUWONC7EXTO  A15DM9BMKZZJQ6         -1.120049  \n",
            "1   AO5E3LWBYM72K  A2ULMYRKQMNNFG  A3TFQK7QK8X6LM          1.313955  \n",
            "2  A2MWGIVIKOXWYM  A1F4D2PZ7NNWTL  A1RT9SQ9D9DLOV         -0.247941  \n",
            "3   AC25X12LNYY6Y  A1F4D2PZ7NNWTL   AEYHIQUDWJ3KV          0.058298  \n",
            "4  A3EJ5TT2ZGBIDA  A1F4D2PZ7NNWTL  A1RT9SQ9D9DLOV          0.346093  \n"
          ],
          "name": "stdout"
        }
      ]
    },
    {
      "cell_type": "markdown",
      "metadata": {
        "id": "S7rtT6zL2iqL",
        "colab_type": "text"
      },
      "source": [
        "각 칼럼에 대한 자세한 정보 등은 Readme.txt 파일에 있습니다.\n",
        "\n",
        "Community - always \"Wikipedia\" in this file\n",
        "\n",
        "Id - Unique ID of the request (can be used to match the requests with the metadata in  wikipedia.requests.csv)\n",
        "\n",
        "Request - text of the request\n",
        "\n",
        "Score[1-5] - politeness scores assigned by each of the 5 annotators, between 1 (very impolite) and 25 (very polite)\n",
        "\n",
        "TurkId[1-5]\t- the Amazon Mechanical Turk ids of each of the 5 annotators\n",
        "\n",
        "Normalized Score - the normalized politeness score of the requests (after normalizing each annotator's score; details in Section 2 of the paper)\n"
      ]
    },
    {
      "cell_type": "markdown",
      "metadata": {
        "id": "iDEGlFBG3DgA",
        "colab_type": "text"
      },
      "source": [
        "가장 단순하게는 5개 Score의 평균을 내서 각 문장에 대한 정답을 부여할 수 있을 것입니다.\n",
        "\n",
        "이런 방법으로 각 문장마다 점수를 내고 이를 시각화해볼까요?"
      ]
    },
    {
      "cell_type": "code",
      "metadata": {
        "colab_type": "code",
        "id": "K0FrPkGoIavN",
        "colab": {
          "base_uri": "https://localhost:8080/",
          "height": 638
        },
        "outputId": "0f2a25ca-0d41-49fa-cebf-ed86639e3590"
      },
      "source": [
        "def calc_avg(row):\n",
        "  sum = 0\n",
        "  for i in range(1, 6, 1):\n",
        "    sum += row[\"Score%d\" %i]\n",
        "  \n",
        "  return sum / 5.0\n",
        "  \n",
        "data[\"avg_score\"] = data.apply(lambda row: calc_avg(row), axis=1)\n",
        "\n",
        "print(data.head())\n",
        "data[\"avg_score\"].plot.hist(bins=50)"
      ],
      "execution_count": 40,
      "outputs": [
        {
          "output_type": "stream",
          "text": [
            "   Community      Id                                            Request  \\\n",
            "0  Wikipedia  629705  Where did you learn English? How come you're t...   \n",
            "1  Wikipedia  244336  Thanks very much for your edit to the <url> ar...   \n",
            "2  Wikipedia  627353  Sir i think u hav many friends on wiki who can...   \n",
            "3  Wikipedia  448565  I can't find it.  Maybe I didn't manage to gue...   \n",
            "4  Wikipedia  625810  I can't spend too much time, and I'm no specia...   \n",
            "\n",
            "   Score1  Score2  Score3  Score4  Score5         TurkId1         TurkId2  \\\n",
            "0      13       9      11      11       5  A2UFD1I8ZO1V4G  A2YFPO0N4GIS25   \n",
            "1      23      16      24      21      25  A2QN0EGBRGJU1M  A2GSW5RBAT5LQ5   \n",
            "2      17      17      11      10       9  A233ONYNWKDIYF  A2UFD1I8ZO1V4G   \n",
            "3      17       9      16      16       9  A233ONYNWKDIYF  A1TLLJDX8H4JP1   \n",
            "4      17      14      17      11      17  A21753FQKCM5DQ   AYG3MF094634L   \n",
            "\n",
            "          TurkId3         TurkId4         TurkId5  Normalized Score  avg_score  \n",
            "0   AYG3MF094634L  A38WUWONC7EXTO  A15DM9BMKZZJQ6         -1.120049        9.8  \n",
            "1   AO5E3LWBYM72K  A2ULMYRKQMNNFG  A3TFQK7QK8X6LM          1.313955       21.8  \n",
            "2  A2MWGIVIKOXWYM  A1F4D2PZ7NNWTL  A1RT9SQ9D9DLOV         -0.247941       12.8  \n",
            "3   AC25X12LNYY6Y  A1F4D2PZ7NNWTL   AEYHIQUDWJ3KV          0.058298       13.4  \n",
            "4  A3EJ5TT2ZGBIDA  A1F4D2PZ7NNWTL  A1RT9SQ9D9DLOV          0.346093       15.2  \n"
          ],
          "name": "stdout"
        },
        {
          "output_type": "execute_result",
          "data": {
            "text/plain": [
              "<matplotlib.axes._subplots.AxesSubplot at 0x7fc508bc9710>"
            ]
          },
          "metadata": {
            "tags": []
          },
          "execution_count": 40
        },
        {
          "output_type": "display_data",
          "data": {
            "image/png": "[encoded data removed]",
            "text/plain": [
              "<Figure size 432x288 with 1 Axes>"
            ]
          },
          "metadata": {
            "tags": []
          }
        }
      ]
    },
    {
      "cell_type": "markdown",
      "metadata": {
        "id": "YucDDC643WDI",
        "colab_type": "text"
      },
      "source": [
        "위 방법에는 몇 가지 문제가 있습니다.\n",
        "\n",
        "\n",
        "1.   사람마다 느끼는 공손함의 정도는 주관적입니다.\n",
        "2.   각 문장마다 서로 다른 사람이 점수를 부여했기 때문에 같은 점수를 같은 정도의 공손함이라고 해석할 수 없습니다.\n",
        "\n",
        "이를 해결하기 위해, 각 사람마다의 점수 분포를 정규화해줄 수 있습니다.\n",
        "\n",
        "TurkId 항목을 이용해 각각의 사람이 부여한 점수를 모으고, 이로부터 각 사람이 부여한 점수의 평균과 표준편차를 계산해봅시다.\n",
        "\n"
      ]
    },
    {
      "cell_type": "code",
      "metadata": {
        "id": "lioskj3DkBp_",
        "colab_type": "code",
        "colab": {}
      },
      "source": [
        "idlist = list(set(data.TurkId1) | set(data.TurkId2) | set(data.TurkId3) | set(data.TurkId4) | set(data.TurkId5))"
      ],
      "execution_count": 0,
      "outputs": []
    },
    {
      "cell_type": "code",
      "metadata": {
        "id": "myhNps40EAux",
        "colab_type": "code",
        "colab": {
          "base_uri": "https://localhost:8080/",
          "height": 72
        },
        "outputId": "a57b5c6e-985a-40e6-cad4-0c637b42dd32"
      },
      "source": [
        "worker_scores = defaultdict(list)\n",
        "\n",
        "for idx, row in data.iterrows():\n",
        "  worker_scores[row.TurkId1].append(row.Score1)\n",
        "  worker_scores[row.TurkId2].append(row.Score2)\n",
        "  worker_scores[row.TurkId3].append(row.Score3)\n",
        "  worker_scores[row.TurkId4].append(row.Score4)\n",
        "  worker_scores[row.TurkId5].append(row.Score5)\n",
        "\n",
        "# Your code here\n",
        "\n",
        "worker_mean = {}\n",
        "worker_std = {}\n",
        "\n",
        "for key, value in worker_scores.items():\n",
        "  worker_mean[key] = np.mean(value)\n",
        "  worker_std[key] = np.std(value)\n",
        "\n",
        "# Your code here\n",
        "  \n",
        "print(worker_mean)\n",
        "print(worker_std)\n",
        "                  "
      ],
      "execution_count": 42,
      "outputs": [
        {
          "output_type": "stream",
          "text": [
            "{'A2UFD1I8ZO1V4G': 15.004895104895105, 'A2YFPO0N4GIS25': 14.478632478632479, 'AYG3MF094634L': 14.239160839160839, 'A38WUWONC7EXTO': 13.846153846153847, 'A15DM9BMKZZJQ6': 12.384615384615385, 'A2QN0EGBRGJU1M': 15.086538461538462, 'A2GSW5RBAT5LQ5': 13.076923076923077, 'AO5E3LWBYM72K': 17.13736263736264, 'A2ULMYRKQMNNFG': 15.457013574660634, 'A3TFQK7QK8X6LM': 13.376923076923077, 'A233ONYNWKDIYF': 13.66698982064954, 'A2MWGIVIKOXWYM': 14.817307692307692, 'A1F4D2PZ7NNWTL': 13.599792099792099, 'A1RT9SQ9D9DLOV': 14.085972850678733, 'A1TLLJDX8H4JP1': 10.446153846153846, 'AC25X12LNYY6Y': 13.927350427350428, 'AEYHIQUDWJ3KV': 14.043956043956044, 'A21753FQKCM5DQ': 14.153846153846153, 'A3EJ5TT2ZGBIDA': 13.447115384615385, 'A3G7QIYLFOXFG7': 13.692307692307692, 'AZOAW8JH5HJJK': 12.538461538461538, 'A1Y3Z92RE62NPS': 13.846153846153847, 'A3S5L3I8O3Q2G': 13.20673076923077, 'A26YKYQIA3GX8B': 12.607427055702917, 'AIPK94CUWL45W': 14.34860883797054, 'ARYGQ46IMW8AU': 14.723076923076922, 'A3CFNUD7VR2E1E': 12.807692307692308, 'A34ZSF2JSRXIRP': 15.384615384615385, 'A28ZB4ZB13BWAI': 13.42603550295858, 'A2AMGE57IJVSHF': 12.192307692307692, 'A29B522D0BX6HN': 13.661538461538461, 'A28TXBSZPWMEU9': 14.889632107023411, 'A2WKPCZU4U110T': 15.071794871794872, 'A6YO9886DY2SC': 12.628205128205128, 'A1DTQSIIYIZL62': 14.317307692307692, 'A22SZHZTF72TRM': 13.864615384615385, 'A1BJTTNDDFZ3ZP': 13.35897435897436, 'A13CO3B2BRXQLZ': 13.13905325443787, 'AHH34KPTA2LSS': 13.213675213675213, 'A26NYABOD7YBW8': 13.241758241758241, 'A872FSFU7WV6W': 13.881118881118882, 'A1R4VG71V6XECZ': 15.338461538461539, 'A3E157ZN8XPUKJ': 20.641025641025642, 'A1RPVYUPJZGM9Z': 13.179487179487179, 'A199E33VY97TR': 13.830769230769231, 'A3MN5VOZFQPNZF': 10.515384615384615, 'A16PRU8T6NZLN5': 16.365384615384617, 'AVHARSCRX7M9E': 11.583333333333334, 'AQWC8BPA9JB7T': 13.35897435897436, 'A1KC138MX47DXA': 14.87912087912088, 'A1QV3X9YMQQ3OQ': 14.0, 'A00613921OIEGJA322163': 19.453846153846154, 'ANVEDG15GV3QE': 13.492307692307692, 'A3BA2LVL6Y7YO7': 15.384615384615385, 'AMJAP6BGF5LVM': 13.487179487179487, 'A1CIIX0CB0GR7H': 15.076923076923077, 'A28K8ST8B2XU0N': 12.596153846153847, 'A3IHLWMZNBLUR4': 14.910931174089068, 'APDWVWS2HMSFD': 14.830769230769231, 'A2CE0KVP4A8J8K': 14.256410256410257, 'AW6UIL04MLQ9N': 13.743589743589743, 'A34A6MSJTD9A4L': 14.192307692307692, 'A2VMJFBCB921NI': 13.913461538461538, 'A2UBXHCHM2I6IL': 14.384615384615385, 'AISPSIJ54U4SC': 14.282051282051283, 'A1J7EVLCZZQSEM': 16.384615384615383, 'AEWF3138PFWEN': 12.692307692307692, 'A1TMK6G1BLKVS2': 17.192307692307693, 'AD317NO9623GZ': 12.626373626373626, 'A1GWSZ4I2QGCNJ': 14.307692307692308, 'AZ1RJVNOZFIWV': 16.205128205128204, 'A3LXBP8T6JMY9B': 15.213675213675213, 'A2BE71BN177IH3': 13.820512820512821, 'A3G9MSZVWB7W42': 19.423076923076923, 'A36UK50UE5YFVZ': 14.153846153846153, 'A1JMINVUZ2AOZR': 15.102564102564102, 'A3CA5S8GR8TZ1U': 14.057692307692308, 'A38N58BSMTA0BE': 13.745562130177515, 'ANGX5PAAYGL9P': 14.951923076923077, 'A3GOI327COFGY5': 13.461538461538462, 'A2C7SCWZI379A9': 15.153846153846153, 'A2WZQ92N4809N1': 16.807692307692307, 'A1E0EK09CA5OIO': 14.525, 'A204JAK7QRDWVM': 15.23076923076923, 'A3OW54MEVDKXJL': 13.307692307692308, 'A1JK9DYKWYZZEK': 17.307692307692307, 'A1GK3MPU2HL0C8': 13.846153846153847, 'A3L8MJ1C4OEDGV': 17.967032967032967, 'AAZKHFKG1B8VQ': 12.128205128205128, 'A2LQ33BQ8G259D': 14.032051282051283, 'AE3D6SE2D8UPQ': 13.813186813186814, 'A2EJ6MKRFATU5I': 14.280936454849499, 'AS8T4IKYL4V7F': 16.23076923076923, 'A302M81U0HM7RJ': 13.31868131868132, 'AD1IH74UX9IAI': 13.243589743589743, 'A3E11SHVDD48Z8': 14.35897435897436, 'A3U7P73AIQVS9S': 10.0, 'A1T5YMBH35PDBX': 13.55813953488372, 'A2GODV4YZGD8X9': 13.246153846153845, 'ASMS4TMF7H5CR': 10.846153846153847, 'A3H7G3TQXAYGYD': 11.846153846153847, 'ANMGOZ451W9ZN': 15.376923076923077, 'A3ACTDP7KEU5IW': 13.615384615384615, 'A2JBYOEZH64Y5E': 14.76923076923077, 'ARWMIQV2EW4PO': 13.307692307692308, 'A2BKPNKU3EG41Z': 9.615384615384615, 'A37ADCYLCSB5O2': 14.35897435897436, 'A1T546143DSJDI': 15.153846153846153, 'A2ZABRSFZKUOKV': 14.820512820512821, 'A22CF8BF9YQND7': 11.461538461538462, 'A3HZVDLYFUZ7KE': 13.615384615384615, 'A2QH1BQA6GR48O': 13.571428571428571, 'A1486XFUE4FA27': 11.661538461538461, 'A2JKFTV0JXWMI6': 13.807692307692308, 'ANS7S6PUWTLF7': 13.692307692307692, 'A2X9AEDAHF7O7S': 17.94871794871795, 'A1HGJ7P0U12ZH8': 14.538461538461538, 'AI4WWBB2PNCKH': 12.564102564102564, 'AJSVV9WS1SF2I': 14.153846153846153, 'AVV4KDLSDAS9E': 12.846153846153847, 'A207OR9LV0PAPY': 19.53846153846154, 'A1VE0KG5BAO7EU': 14.538461538461538, 'A3454T4PU9GJM0': 13.615384615384615, 'ARSOFYBFN51Q0': 14.846153846153847, 'A1GIK4ZW3WYSTU': 12.846153846153847, 'APMYUTI3V3Y6R': 16.0, 'A1W2G1N4BDF2DW': 13.897435897435898, 'A1UEZLJ583HSV5': 16.384615384615383, 'AVWFW00UYDVUD': 14.307692307692308, 'A2NRW37D7QPLRE': 13.948717948717949, 'A1YV1767FWKN3T': 15.76923076923077, 'A19ZT0TQPFA2': 13.098901098901099, 'A3BY68N6X2BEGS': 17.0, 'A3I83CQLOZRO79': 14.323076923076924, 'A125P73OQSRNI5': 14.076923076923077, 'A3BM05OXSUCJII': 8.384615384615385, 'AI3J83EIW9EOK': 13.23076923076923, 'A9LK8OAITVXOQ': 12.576923076923077, 'A15YL2MKU0RY98': 12.384615384615385, 'AQCKOYMQSTWQT': 14.076923076923077, 'AZN83WTGUR1JZ': 14.102564102564102, 'A3FGBGZ4RKH712': 13.307692307692308, 'A2LTFK382VHMWY': 14.692307692307692, 'A1434R69YV3Y3I': 14.538461538461538, 'AD8ZUKPJT9E6': 14.35897435897436, 'ATVSN1P3Z1NRY': 13.653846153846153, 'A1Q0OT3UD3AH6A': 13.76923076923077, 'A049499332VKQ31EB7MV5': 13.8125, 'AO3XB5I5QNNUI': 14.35, 'A3SQ6ORWDN5BGZ': 15.561111111111112, 'AMSWIR4J9XEIJ': 13.831683168316832, 'A2H8VMF0FQIFUM': 15.076923076923077, 'A1G05O3HM7DNVZ': 18.094017094017094, 'A8ZO8H4HIEYLP': 13.923076923076923, 'AIPXB863TARAK': 11.923076923076923, 'A49HPQ9P5AHU4': 11.923076923076923, 'A377FGOJB9OTNG': 11.807692307692308, 'ABM77ZQWCHPNX': 14.538461538461538, 'A3GEHPUTISVNB4': 13.282051282051283, 'A1N6LHJ8AZZ85F': 13.0, 'A2JFLNKFNQ3IVI': 14.846153846153847, 'A194CUACV9SQ1K': 13.5, 'AB08R15AWTVDT': 14.76923076923077, 'A7GFJUB1W93A2': 15.153846153846153, 'A2WMO1T9CJW4YO': 11.222222222222221, 'A1BQCRF5Q76YFY': 14.956521739130435, 'A1ST1WRDA4ALST': 13.692307692307692, 'A31RP7HI5172B': 13.41095890410959, 'A1NJCF3NH6RQGU': 13.23076923076923, 'AUJNGT4ODJ6TE': 14.73076923076923, 'ATVZXUW7O31EV': 14.615384615384615, 'AQENCS423BKON': 13.76923076923077, 'A9Y5N2QRY4PNW': 12.384615384615385, 'A2MR8AA4I9S89Y': 13.153846153846153, 'A3KVLFBRO8X2MZ': 14.692307692307692, 'A34BMGP23XTAMN': 14.23076923076923, 'A1HHQL4N00WU03': 11.538461538461538, 'A3LSDGSZQEK7NF': 15.384615384615385, 'A22DP0ST9DWG9O': 14.090909090909092, 'AFFSRVGKGJR00': 10.846153846153847, 'A117G4HSX1Y0LQ': 15.615384615384615, 'A2JG59YYWBBC5C': 13.0, 'A2OXPRC8XC8T5J': 14.384615384615385, 'A3GLUDQZGEJL5G': 12.923076923076923, 'A3T3VES112CGFO': 13.461538461538462, 'A2ZKDPANCVA690': 15.115384615384615, 'A1X7TNDO0JIT1O': 14.833333333333334, 'A30BBO4BCZVILB': 16.076923076923077, 'A14L1L022A4SG7': 13.538461538461538, 'A21FGAQF6DQ9D9': 12.153846153846153, 'A2GD31JIW0OCYO': 14.909090909090908, 'A24VFD1THQRMFO': 13.153846153846153, 'A07479753QYCZ4D30VB72': 11.461538461538462, 'A3HL4QP95BEAG3': 11.23076923076923, 'A3RAW3BLRGAIVQ': 16.615384615384617, 'A2HUIIM8G3Q1VI': 16.076923076923077, 'A2EKTJWJGLWVWV': 12.923076923076923, 'A1LO3ERNARW7Y4': 15.461538461538462, 'A3Q5YG3X67WHFD': 13.153846153846153, 'A2HHK2B1GUH9GX': 13.75, 'ASDKBXZBSJNZD': 15.846153846153847, 'A236MXN66UEJW6': 17.0, 'AC19WQADO0IFX': 11.23076923076923, 'AK46ZNEC6R89C': 12.461538461538462, 'A3FYTE61RANQTF': 17.307692307692307, 'A1FF4KWG1G44QE': 12.923076923076923, 'A2LBBOZZ22O24L': 12.692307692307692, 'A2X19WQ6ZDDVY4': 13.23076923076923, 'A6C0ASBUZW3DZ': 14.333333333333334, 'A3HB9PPUZU565U': 11.384615384615385, 'A1G8ATI1XR2HWT': 10.846153846153847, 'A2MUBAL0UA1KUN': 13.846153846153847, 'A3GD6QGVN7PWFR': 12.45, 'A3BFHU8LCKKM3X': 15.222222222222221, 'A28CT45SLXOQBY': 15.846153846153847, 'A1E2GQZEL6QET9': 16.153846153846153, 'A3R708BQ3N67PY': 12.076923076923077, 'A3KPQ7L5FS8SD6': 12.909090909090908, 'A3RL5VZ7Y9FEG4': 11.363636363636363}\n",
            "{'A2UFD1I8ZO1V4G': 3.001743751294833, 'A2YFPO0N4GIS25': 3.5676569212387963, 'AYG3MF094634L': 2.0000361872612555, 'A38WUWONC7EXTO': 4.107378985457455, 'A15DM9BMKZZJQ6': 6.8110595757472785, 'A2QN0EGBRGJU1M': 4.899196513642818, 'A2GSW5RBAT5LQ5': 3.2737073423434797, 'AO5E3LWBYM72K': 5.69681129917292, 'A2ULMYRKQMNNFG': 3.9515399535295876, 'A3TFQK7QK8X6LM': 7.99255940967346, 'A233ONYNWKDIYF': 4.311558938287386, 'A2MWGIVIKOXWYM': 7.614844337866719, 'A1F4D2PZ7NNWTL': 4.407860107354619, 'A1RT9SQ9D9DLOV': 3.7412743224500393, 'A1TLLJDX8H4JP1': 4.873888888701535, 'AC25X12LNYY6Y': 4.787700122913325, 'AEYHIQUDWJ3KV': 4.339727261172592, 'A21753FQKCM5DQ': 4.344126639043991, 'A3EJ5TT2ZGBIDA': 3.532417366085844, 'A3G7QIYLFOXFG7': 4.8893072560217545, 'AZOAW8JH5HJJK': 4.013094936139616, 'A1Y3Z92RE62NPS': 4.210440671816618, 'A3S5L3I8O3Q2G': 2.9864361454067145, 'A26YKYQIA3GX8B': 6.603973404908804, 'AIPK94CUWL45W': 2.8001479729172987, 'ARYGQ46IMW8AU': 3.217776070555048, 'A3CFNUD7VR2E1E': 5.98086198295627, 'A34ZSF2JSRXIRP': 6.794097682077398, 'A28ZB4ZB13BWAI': 4.691251737291964, 'A2AMGE57IJVSHF': 6.288079263845389, 'A29B522D0BX6HN': 4.972777967098388, 'A28TXBSZPWMEU9': 3.7018290062812276, 'A2WKPCZU4U110T': 4.3975487763041015, 'A6YO9886DY2SC': 5.9368665100305575, 'A1DTQSIIYIZL62': 3.6288492112008646, 'A22SZHZTF72TRM': 3.654309606235472, 'A1BJTTNDDFZ3ZP': 6.047301493915851, 'A13CO3B2BRXQLZ': 3.685275553931696, 'AHH34KPTA2LSS': 4.854866374932009, 'A26NYABOD7YBW8': 4.04464279882963, 'A872FSFU7WV6W': 4.641692346441557, 'A1R4VG71V6XECZ': 7.254233613928061, 'A3E157ZN8XPUKJ': 5.171356909109429, 'A1RPVYUPJZGM9Z': 2.036485092478439, 'A199E33VY97TR': 3.510727431828298, 'A3MN5VOZFQPNZF': 5.12495345627588, 'A16PRU8T6NZLN5': 4.639002073365175, 'AVHARSCRX7M9E': 5.644328141678173, 'AQWC8BPA9JB7T': 2.965504060471992, 'A1KC138MX47DXA': 4.84673939299711, 'A1QV3X9YMQQ3OQ': 5.067378185839466, 'A00613921OIEGJA322163': 3.7336547128507878, 'ANVEDG15GV3QE': 3.455755853747492, 'A3BA2LVL6Y7YO7': 6.171129575425102, 'AMJAP6BGF5LVM': 3.4483128157805902, 'A1CIIX0CB0GR7H': 4.177992496615468, 'A28K8ST8B2XU0N': 7.835470668167674, 'A3IHLWMZNBLUR4': 6.949802806694817, 'APDWVWS2HMSFD': 5.1368030487970024, 'A2CE0KVP4A8J8K': 5.895317345225823, 'AW6UIL04MLQ9N': 4.940507337790988, 'A34A6MSJTD9A4L': 5.049898938586873, 'A2VMJFBCB921NI': 2.766942831562679, 'A2UBXHCHM2I6IL': 2.704368589422607, 'AISPSIJ54U4SC': 5.909352508887351, 'A1J7EVLCZZQSEM': 6.245471732364443, 'AEWF3138PFWEN': 4.213250442347431, 'A1TMK6G1BLKVS2': 4.739516615803693, 'AD317NO9623GZ': 5.490548025347296, 'A1GWSZ4I2QGCNJ': 7.4563820406477745, 'AZ1RJVNOZFIWV': 3.7325971378947203, 'A3LXBP8T6JMY9B': 3.247165917042805, 'A2BE71BN177IH3': 4.094222288453758, 'A3G9MSZVWB7W42': 3.0781247653410535, 'A36UK50UE5YFVZ': 2.3808903908526404, 'A1JMINVUZ2AOZR': 5.266219739856567, 'A3CA5S8GR8TZ1U': 5.666750057397781, 'A38N58BSMTA0BE': 6.33299763173304, 'ANGX5PAAYGL9P': 6.731641427005389, 'A3GOI327COFGY5': 4.140148355115655, 'A2C7SCWZI379A9': 8.565100509950957, 'A2WZQ92N4809N1': 3.2386198877176553, 'A1E0EK09CA5OIO': 3.4253041227507572, 'A204JAK7QRDWVM': 7.6223744145755745, 'A3OW54MEVDKXJL': 4.825965274264037, 'A1JK9DYKWYZZEK': 2.4615384615384617, 'A1GK3MPU2HL0C8': 4.194247963143257, 'A3L8MJ1C4OEDGV': 3.998490235544954, 'AAZKHFKG1B8VQ': 4.086748360622492, 'A2LQ33BQ8G259D': 4.531117301215027, 'AE3D6SE2D8UPQ': 4.405072221064388, 'A2EJ6MKRFATU5I': 4.6511771940312485, 'AS8T4IKYL4V7F': 2.832608098387995, 'A302M81U0HM7RJ': 5.213842776958068, 'AD1IH74UX9IAI': 4.086205366012352, 'A3E11SHVDD48Z8': 6.462861077497709, 'A3U7P73AIQVS9S': 5.615911461059686, 'A1T5YMBH35PDBX': 4.30414794842433, 'A2GODV4YZGD8X9': 5.282862770624885, 'ASMS4TMF7H5CR': 5.985188819669817, 'A3H7G3TQXAYGYD': 6.010838337103477, 'ANMGOZ451W9ZN': 3.733971662814037, 'A3ACTDP7KEU5IW': 7.33315402326953, 'A2JBYOEZH64Y5E': 5.146378056516226, 'ARWMIQV2EW4PO': 3.9298583921368615, 'A2BKPNKU3EG41Z': 8.426500884694864, 'A37ADCYLCSB5O2': 2.6872969244254157, 'A1T546143DSJDI': 4.989930689300571, 'A2ZABRSFZKUOKV': 7.164269586732069, 'A22CF8BF9YQND7': 6.144608451134334, 'A3HZVDLYFUZ7KE': 5.838051064926239, 'A2QH1BQA6GR48O': 4.146076808772194, 'A1486XFUE4FA27': 5.654887397578306, 'A2JKFTV0JXWMI6': 2.993829946987519, 'ANS7S6PUWTLF7': 5.223977491184506, 'A2X9AEDAHF7O7S': 3.9932553261636374, 'A1HGJ7P0U12ZH8': 5.093213956075953, 'AI4WWBB2PNCKH': 4.634291757328698, 'AJSVV9WS1SF2I': 7.77417968807547, 'AVV4KDLSDAS9E': 3.7590128378063437, 'A207OR9LV0PAPY': 4.360934702479497, 'A1VE0KG5BAO7EU': 5.093213956075954, 'A3454T4PU9GJM0': 4.666384888647109, 'ARSOFYBFN51Q0': 8.094120884902095, 'A1GIK4ZW3WYSTU': 5.347122214456236, 'APMYUTI3V3Y6R': 5.102789583988501, 'A1W2G1N4BDF2DW': 6.979070806548242, 'A1UEZLJ583HSV5': 8.129135269921788, 'AVWFW00UYDVUD': 4.667969668753469, 'A2NRW37D7QPLRE': 4.5401271751572025, 'A1YV1767FWKN3T': 4.543022480071817, 'A19ZT0TQPFA2': 5.467295261254422, 'A3BY68N6X2BEGS': 6.468860320501119, 'A3I83CQLOZRO79': 5.881150312148368, 'A125P73OQSRNI5': 3.647159874193753, 'A3BM05OXSUCJII': 4.907427048534332, 'AI3J83EIW9EOK': 4.440267596819019, 'A9LK8OAITVXOQ': 6.4341222395974755, 'A15YL2MKU0RY98': 5.167032499614359, 'AQCKOYMQSTWQT': 5.4696581029634395, 'AZN83WTGUR1JZ': 6.018326165607382, 'A3FGBGZ4RKH712': 5.275263250953824, 'A2LTFK382VHMWY': 4.630743674859204, 'A1434R69YV3Y3I': 4.235661507057293, 'AD8ZUKPJT9E6': 5.659062074535417, 'ATVSN1P3Z1NRY': 2.908109453187066, 'A1Q0OT3UD3AH6A': 4.885675233292436, 'A049499332VKQ31EB7MV5': 3.5393987836919423, 'AO3XB5I5QNNUI': 4.6289847699036555, 'A3SQ6ORWDN5BGZ': 5.8520308809932615, 'AMSWIR4J9XEIJ': 4.917274675697032, 'A2H8VMF0FQIFUM': 5.239811189515815, 'A1G05O3HM7DNVZ': 4.6958481497873885, 'A8ZO8H4HIEYLP': 5.4696581029634395, 'AIPXB863TARAK': 3.6047306196492253, 'A49HPQ9P5AHU4': 4.999408249006745, 'A377FGOJB9OTNG': 5.320636390285765, 'ABM77ZQWCHPNX': 5.628891378056307, 'A3GEHPUTISVNB4': 3.6440940483565436, 'A1N6LHJ8AZZ85F': 7.027418828034614, 'A2JFLNKFNQ3IVI': 3.278042423486541, 'A194CUACV9SQ1K': 5.4789808148259445, 'AB08R15AWTVDT': 4.66004037872645, 'A7GFJUB1W93A2': 5.171611173529726, 'A2WMO1T9CJW4YO': 3.3259176771323924, 'A1BQCRF5Q76YFY': 7.177732843403029, 'A1ST1WRDA4ALST': 4.170432223519101, 'A31RP7HI5172B': 4.95136792068438, 'A1NJCF3NH6RQGU': 5.779989967436677, 'AUJNGT4ODJ6TE': 4.4076654583690225, 'ATVZXUW7O31EV': 6.34323942402717, 'AQENCS423BKON': 4.4575579059847446, 'A9Y5N2QRY4PNW': 5.942525512562451, 'A2MR8AA4I9S89Y': 4.801380472100687, 'A3KVLFBRO8X2MZ': 4.181177886757517, 'A34BMGP23XTAMN': 3.640664481907456, 'A1HHQL4N00WU03': 4.1065685584735805, 'A3LSDGSZQEK7NF': 7.681530912504572, 'A22DP0ST9DWG9O': 4.4200893749611705, 'AFFSRVGKGJR00': 4.6051167837217735, 'A117G4HSX1Y0LQ': 6.475260155610757, 'A2JG59YYWBBC5C': 5.378017936291857, 'A2OXPRC8XC8T5J': 4.6828403862228996, 'A3GLUDQZGEJL5G': 4.322775790223728, 'A3T3VES112CGFO': 5.197860278931123, 'A2ZKDPANCVA690': 6.166453431997526, 'A1X7TNDO0JIT1O': 4.4503433076062295, 'A30BBO4BCZVILB': 7.868745755411951, 'A14L1L022A4SG7': 3.3653296698811315, 'A21FGAQF6DQ9D9': 3.5048571538136977, 'A2GD31JIW0OCYO': 7.3417182216618055, 'A24VFD1THQRMFO': 5.1342912602969975, 'A07479753QYCZ4D30VB72': 7.928676139523154, 'A3HL4QP95BEAG3': 2.8326080983879955, 'A3RAW3BLRGAIVQ': 2.167538892862365, 'A2HUIIM8G3Q1VI': 6.305815855975137, 'A2EKTJWJGLWVWV': 5.889515305400299, 'A1LO3ERNARW7Y4': 6.57050969355773, 'A3Q5YG3X67WHFD': 7.5431696443884695, 'A2HHK2B1GUH9GX': 7.137051211810099, 'ASDKBXZBSJNZD': 5.475064507468999, 'A236MXN66UEJW6': 4.9613893835683385, 'AC19WQADO0IFX': 6.0147747084075736, 'AK46ZNEC6R89C': 4.3785382986946795, 'A3FYTE61RANQTF': 2.7563804411029103, 'A1FF4KWG1G44QE': 6.843992744472376, 'A2LBBOZZ22O24L': 4.285657931441267, 'A2X19WQ6ZDDVY4': 2.832608098387995, 'A6C0ASBUZW3DZ': 2.981423969999719, 'A3HB9PPUZU565U': 3.4090030471015904, 'A1G8ATI1XR2HWT': 5.572544700392256, 'A2MUBAL0UA1KUN': 4.221668533542228, 'A3GD6QGVN7PWFR': 4.116734142496938, 'A3BFHU8LCKKM3X': 6.76227735764575, 'A28CT45SLXOQBY': 5.6411421899381855, 'A1E2GQZEL6QET9': 4.6051167837217735, 'A3R708BQ3N67PY': 5.4696581029634395, 'A3KPQ7L5FS8SD6': 3.175318035740542, 'A3RL5VZ7Y9FEG4': 5.050161604484054}\n"
          ],
          "name": "stdout"
        }
      ]
    },
    {
      "cell_type": "markdown",
      "metadata": {
        "id": "Ty0vo75G3-WA",
        "colab_type": "text"
      },
      "source": [
        "그 다음으로, 각 사람이 부여한 점수에서 그 사람의 점수들의 평균을 빼고, 표준편차로 나누어줍니다. \n",
        "\n",
        "이를 z-normalization이라고 합니다.\n",
        "\n",
        "이렇게 하면 모든 사람의 점수가 평균 0, 표준편차 1의 분포를 가지게 됩니다. 따라서 점수를 부여한 사람을 신경쓰지 않고 점수들을 비교할 수 있습니다."
      ]
    },
    {
      "cell_type": "code",
      "metadata": {
        "id": "YkHBDYlGF1xl",
        "colab_type": "code",
        "colab": {
          "base_uri": "https://localhost:8080/",
          "height": 492
        },
        "outputId": "09d4a5f9-b9ee-4f72-8867-3c34f96469cb"
      },
      "source": [
        "# Your code here\n",
        "def z_norm(row, i):\n",
        "  return (row['Score%d' %i] - worker_mean[row['TurkId%d' %i]]) / worker_std[row['TurkId%d' %i]]\n",
        "\n",
        "for i in range(1,6):\n",
        "  data[\"Score%d_ZN\" %i] = data.apply(lambda row : z_norm(row, i), axis=1)\n",
        "print(data.head())"
      ],
      "execution_count": 44,
      "outputs": [
        {
          "output_type": "stream",
          "text": [
            "   Community      Id                                            Request  \\\n",
            "0  Wikipedia  629705  Where did you learn English? How come you're t...   \n",
            "1  Wikipedia  244336  Thanks very much for your edit to the <url> ar...   \n",
            "2  Wikipedia  627353  Sir i think u hav many friends on wiki who can...   \n",
            "3  Wikipedia  448565  I can't find it.  Maybe I didn't manage to gue...   \n",
            "4  Wikipedia  625810  I can't spend too much time, and I'm no specia...   \n",
            "\n",
            "   Score1  Score2  Score3  Score4  Score5         TurkId1         TurkId2  \\\n",
            "0      13       9      11      11       5  A2UFD1I8ZO1V4G  A2YFPO0N4GIS25   \n",
            "1      23      16      24      21      25  A2QN0EGBRGJU1M  A2GSW5RBAT5LQ5   \n",
            "2      17      17      11      10       9  A233ONYNWKDIYF  A2UFD1I8ZO1V4G   \n",
            "3      17       9      16      16       9  A233ONYNWKDIYF  A1TLLJDX8H4JP1   \n",
            "4      17      14      17      11      17  A21753FQKCM5DQ   AYG3MF094634L   \n",
            "\n",
            "          TurkId3         TurkId4         TurkId5  Normalized Score  \\\n",
            "0   AYG3MF094634L  A38WUWONC7EXTO  A15DM9BMKZZJQ6         -1.120049   \n",
            "1   AO5E3LWBYM72K  A2ULMYRKQMNNFG  A3TFQK7QK8X6LM          1.313955   \n",
            "2  A2MWGIVIKOXWYM  A1F4D2PZ7NNWTL  A1RT9SQ9D9DLOV         -0.247941   \n",
            "3   AC25X12LNYY6Y  A1F4D2PZ7NNWTL   AEYHIQUDWJ3KV          0.058298   \n",
            "4  A3EJ5TT2ZGBIDA  A1F4D2PZ7NNWTL  A1RT9SQ9D9DLOV          0.346093   \n",
            "\n",
            "   avg_score  Score1_ZN  Score2_ZN  Score3_ZN  Score4_ZN  Score5_ZN  \n",
            "0        9.8  -0.667910  -1.535639  -1.619551  -0.692937  -1.084209  \n",
            "1       21.8   1.615257   0.892895   1.204645   1.402741   1.454237  \n",
            "2       12.8   0.773041   0.664649  -0.501298  -0.816676  -1.359423  \n",
            "3       13.4   0.773041  -0.296715   0.432911   0.544529  -1.162275  \n",
            "4       15.2   0.655173  -0.119578   1.005794  -0.589808   0.778886  \n"
          ],
          "name": "stdout"
        }
      ]
    },
    {
      "cell_type": "markdown",
      "metadata": {
        "id": "DKeCKpDF4f13",
        "colab_type": "text"
      },
      "source": [
        "이제 사람들 간의 점수 편차를 최소화했으니, 정규화된 점수들의 평균을 내봅시다.\n",
        "\n",
        "평균 점수를 계산하고, 이를 \"Normalized Score\" 칼럼의 값과 비교해보세요.\n",
        "\n",
        "이전과 같이 히스토그램을 통해 시각화도 해보시기 바랍니다."
      ]
    },
    {
      "cell_type": "code",
      "metadata": {
        "id": "1nuIZb3R_lQ3",
        "colab_type": "code",
        "colab": {
          "base_uri": "https://localhost:8080/",
          "height": 885
        },
        "outputId": "1e603763-a984-4ba2-e5c3-f12529b564d1"
      },
      "source": [
        "# Your code here\n",
        "\n",
        "def calc_avg_an(row):\n",
        "  sum = 0\n",
        "  for i in range(1,6,1):\n",
        "    sum += row[\"Score%d_ZN\"%i]\n",
        "  return sum / 5.0\n",
        "\n",
        "data[\"avg_zn_score\"] = data.apply(lambda row: calc_avg_an(row), axis=1)\n",
        "\n",
        "print(data.head())\n",
        "data[\"avg_zn_score\"].plot.hist(bins=50)"
      ],
      "execution_count": 45,
      "outputs": [
        {
          "output_type": "stream",
          "text": [
            "   Community      Id                                            Request  \\\n",
            "0  Wikipedia  629705  Where did you learn English? How come you're t...   \n",
            "1  Wikipedia  244336  Thanks very much for your edit to the <url> ar...   \n",
            "2  Wikipedia  627353  Sir i think u hav many friends on wiki who can...   \n",
            "3  Wikipedia  448565  I can't find it.  Maybe I didn't manage to gue...   \n",
            "4  Wikipedia  625810  I can't spend too much time, and I'm no specia...   \n",
            "\n",
            "   Score1  Score2  Score3  Score4  Score5         TurkId1         TurkId2  \\\n",
            "0      13       9      11      11       5  A2UFD1I8ZO1V4G  A2YFPO0N4GIS25   \n",
            "1      23      16      24      21      25  A2QN0EGBRGJU1M  A2GSW5RBAT5LQ5   \n",
            "2      17      17      11      10       9  A233ONYNWKDIYF  A2UFD1I8ZO1V4G   \n",
            "3      17       9      16      16       9  A233ONYNWKDIYF  A1TLLJDX8H4JP1   \n",
            "4      17      14      17      11      17  A21753FQKCM5DQ   AYG3MF094634L   \n",
            "\n",
            "          TurkId3         TurkId4         TurkId5  Normalized Score  \\\n",
            "0   AYG3MF094634L  A38WUWONC7EXTO  A15DM9BMKZZJQ6         -1.120049   \n",
            "1   AO5E3LWBYM72K  A2ULMYRKQMNNFG  A3TFQK7QK8X6LM          1.313955   \n",
            "2  A2MWGIVIKOXWYM  A1F4D2PZ7NNWTL  A1RT9SQ9D9DLOV         -0.247941   \n",
            "3   AC25X12LNYY6Y  A1F4D2PZ7NNWTL   AEYHIQUDWJ3KV          0.058298   \n",
            "4  A3EJ5TT2ZGBIDA  A1F4D2PZ7NNWTL  A1RT9SQ9D9DLOV          0.346093   \n",
            "\n",
            "   avg_score  Score1_ZN  Score2_ZN  Score3_ZN  Score4_ZN  Score5_ZN  \\\n",
            "0        9.8  -0.667910  -1.535639  -1.619551  -0.692937  -1.084209   \n",
            "1       21.8   1.615257   0.892895   1.204645   1.402741   1.454237   \n",
            "2       12.8   0.773041   0.664649  -0.501298  -0.816676  -1.359423   \n",
            "3       13.4   0.773041  -0.296715   0.432911   0.544529  -1.162275   \n",
            "4       15.2   0.655173  -0.119578   1.005794  -0.589808   0.778886   \n",
            "\n",
            "   avg_zn_score  \n",
            "0     -1.120049  \n",
            "1      1.313955  \n",
            "2     -0.247941  \n",
            "3      0.058298  \n",
            "4      0.346093  \n"
          ],
          "name": "stdout"
        },
        {
          "output_type": "execute_result",
          "data": {
            "text/plain": [
              "<matplotlib.axes._subplots.AxesSubplot at 0x7fc5085e4780>"
            ]
          },
          "metadata": {
            "tags": []
          },
          "execution_count": 45
        },
        {
          "output_type": "display_data",
          "data": {
            "image/png": "[encoded data removed]",
            "text/plain": [
              "<Figure size 432x288 with 1 Axes>"
            ]
          },
          "metadata": {
            "tags": []
          }
        }
      ]
    },
    {
      "cell_type": "markdown",
      "metadata": {
        "id": "3hKvYhZL41LC",
        "colab_type": "text"
      },
      "source": [
        "이제 각 문장마다 공손함 점수는 부여했지만, 아직 하나의 문제가 더 남았습니다.\n",
        "\n",
        "공손함은 모호한 개념이기 때문에, 그리고 공손함을 따지기 어려운 중립적인 문장들이 많기 때문에 지금의 데이터에는 공손함을 따지기 어려운 중립적인 문장들이 많습니다.\n",
        "\n",
        "이러한 경우는 점수가 중간에 분포하는 문장들을 학습 데이터에서 제거하는 것이 일반적입니다.\n",
        "\n",
        "이 데이터에서는 가장 공손한 문장 25%와 가장 불손한 문장 25%만을 사용하고, 나머지는 폐기하겠습니다."
      ]
    },
    {
      "cell_type": "code",
      "metadata": {
        "id": "PLxkMzaN9G02",
        "colab_type": "code",
        "colab": {
          "base_uri": "https://localhost:8080/",
          "height": 457
        },
        "outputId": "75b1df2d-242a-458f-cd73-1e2e621f8bd9"
      },
      "source": [
        "def load_data(data_file):\n",
        "  data = pd.read_csv(data_file)\n",
        "\n",
        "  # Only use the top quartile as polite, and bottom quartile as impolite. Discard the rest.\n",
        "  quantiles = data[\"Normalized Score\"].quantile([0.25, 0.5, 0.75])\n",
        "  print(quantiles)\n",
        "\n",
        "  # Your code here\n",
        "\n",
        "  return data\n",
        "\n",
        "data = load_data(\"Stanford_politeness_corpus/wikipedia.annotated.csv\")\n",
        "print(data.head())\n",
        "print(\"데이터 수: %d\" %len(data))"
      ],
      "execution_count": 46,
      "outputs": [
        {
          "output_type": "stream",
          "text": [
            "0.25   -0.442633\n",
            "0.50    0.052339\n",
            "0.75    0.514399\n",
            "Name: Normalized Score, dtype: float64\n",
            "   Community      Id                                            Request  \\\n",
            "0  Wikipedia  629705  Where did you learn English? How come you're t...   \n",
            "1  Wikipedia  244336  Thanks very much for your edit to the <url> ar...   \n",
            "2  Wikipedia  627353  Sir i think u hav many friends on wiki who can...   \n",
            "3  Wikipedia  448565  I can't find it.  Maybe I didn't manage to gue...   \n",
            "4  Wikipedia  625810  I can't spend too much time, and I'm no specia...   \n",
            "\n",
            "   Score1  Score2  Score3  Score4  Score5         TurkId1         TurkId2  \\\n",
            "0      13       9      11      11       5  A2UFD1I8ZO1V4G  A2YFPO0N4GIS25   \n",
            "1      23      16      24      21      25  A2QN0EGBRGJU1M  A2GSW5RBAT5LQ5   \n",
            "2      17      17      11      10       9  A233ONYNWKDIYF  A2UFD1I8ZO1V4G   \n",
            "3      17       9      16      16       9  A233ONYNWKDIYF  A1TLLJDX8H4JP1   \n",
            "4      17      14      17      11      17  A21753FQKCM5DQ   AYG3MF094634L   \n",
            "\n",
            "          TurkId3         TurkId4         TurkId5  Normalized Score  \n",
            "0   AYG3MF094634L  A38WUWONC7EXTO  A15DM9BMKZZJQ6         -1.120049  \n",
            "1   AO5E3LWBYM72K  A2ULMYRKQMNNFG  A3TFQK7QK8X6LM          1.313955  \n",
            "2  A2MWGIVIKOXWYM  A1F4D2PZ7NNWTL  A1RT9SQ9D9DLOV         -0.247941  \n",
            "3   AC25X12LNYY6Y  A1F4D2PZ7NNWTL   AEYHIQUDWJ3KV          0.058298  \n",
            "4  A3EJ5TT2ZGBIDA  A1F4D2PZ7NNWTL  A1RT9SQ9D9DLOV          0.346093  \n",
            "데이터 수: 4353\n"
          ],
          "name": "stdout"
        }
      ]
    },
    {
      "cell_type": "code",
      "metadata": {
        "id": "9A3UfCV7tF_4",
        "colab_type": "code",
        "colab": {}
      },
      "source": [
        ""
      ],
      "execution_count": 0,
      "outputs": []
    }
  ]
}
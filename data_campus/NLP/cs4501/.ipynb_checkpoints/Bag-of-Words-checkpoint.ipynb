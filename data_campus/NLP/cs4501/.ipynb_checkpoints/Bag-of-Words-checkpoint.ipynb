{
 "cells": [
  {
   "cell_type": "code",
   "execution_count": 1,
   "metadata": {
    "ExecuteTime": {
     "end_time": "2019-08-09T01:38:09.859103Z",
     "start_time": "2019-08-09T01:37:56.761596Z"
    }
   },
   "outputs": [],
   "source": [
    "import sqlite3\n",
    "from nltk.tokenize import word_tokenize"
   ]
  },
  {
   "cell_type": "code",
   "execution_count": 2,
   "metadata": {
    "ExecuteTime": {
     "end_time": "2019-08-09T01:38:09.904077Z",
     "start_time": "2019-08-09T01:38:09.865100Z"
    }
   },
   "outputs": [],
   "source": [
    "con = sqlite3.connect('E:/data_campus/data_processing/unstructuredData/news.db')\n",
    "cur = con.cursor()\n",
    "\n",
    "cur.execute('''\n",
    "    SELECT content\n",
    "    FROM table2\n",
    "    ORDER BY id ASC\n",
    "''')\n",
    "corpus = [_[0] for _ in cur.fetchall()]"
   ]
  },
  {
   "cell_type": "code",
   "execution_count": 3,
   "metadata": {
    "ExecuteTime": {
     "end_time": "2019-08-09T01:38:09.932061Z",
     "start_time": "2019-08-09T01:38:09.911075Z"
    }
   },
   "outputs": [],
   "source": [
    "def eojeol(sentence, N=2):\n",
    "    tokens = word_tokenize(sentence)\n",
    "    ngram = list()\n",
    "    for i in range(len(tokens)-(N-1)):\n",
    "        #         ngram.append(\"\".join(tokens[i:i+N]))\n",
    "        ngram.append(tuple(tokens[i:i+N]))\n",
    "    return ngram\n",
    "\n",
    "\n",
    "def umjeol(token, N=2):\n",
    "    tokens = list(token)\n",
    "    ngram = list()\n",
    "    for i in range(len(tokens)-(N-1)):\n",
    "        ngram.append(\"\".join(tokens[i:i+N]))\n",
    "#         ngram.append(tuple(tokens[i:i+N]))\n",
    "    return ngram"
   ]
  },
  {
   "cell_type": "code",
   "execution_count": 4,
   "metadata": {
    "ExecuteTime": {
     "end_time": "2019-08-09T01:38:10.295853Z",
     "start_time": "2019-08-09T01:38:09.956049Z"
    }
   },
   "outputs": [],
   "source": [
    "from konlpy.tag import Kkma"
   ]
  },
  {
   "cell_type": "code",
   "execution_count": 5,
   "metadata": {
    "ExecuteTime": {
     "end_time": "2019-08-09T01:38:35.225590Z",
     "start_time": "2019-08-09T01:38:10.304849Z"
    }
   },
   "outputs": [
    {
     "name": "stderr",
     "output_type": "stream",
     "text": [
      "C:\\Users\\skarn\\Anaconda3\\lib\\site-packages\\jpype\\_core.py:210: UserWarning: \n",
      "-------------------------------------------------------------------------------\n",
      "Deprecated: convertStrings was not specified when starting the JVM. The default\n",
      "behavior in JPype will be False starting in JPype 0.8. The recommended setting\n",
      "for new code is convertStrings=False.  The legacy value of True was assumed for\n",
      "this session. If you are a user of an application that reported this warning,\n",
      "please file a ticket with the developer.\n",
      "-------------------------------------------------------------------------------\n",
      "\n",
      "  \"\"\")\n"
     ]
    },
    {
     "data": {
      "text/plain": [
       "[('아이스크림', 'NNG'),\n",
       " ('값', 'NNG'),\n",
       " ('10', 'NR'),\n",
       " ('만', 'NR'),\n",
       " ('원', 'NNM'),\n",
       " ('...', 'SE')]"
      ]
     },
     "execution_count": 5,
     "metadata": {},
     "output_type": "execute_result"
    }
   ],
   "source": [
    "Kkma().pos('아이스크림 값 10만원...')"
   ]
  },
  {
   "cell_type": "code",
   "execution_count": 12,
   "metadata": {
    "ExecuteTime": {
     "end_time": "2019-08-09T01:39:18.716712Z",
     "start_time": "2019-08-09T01:39:18.708714Z"
    }
   },
   "outputs": [],
   "source": [
    "kkma = Kkmama()"
   ]
  },
  {
   "cell_type": "markdown",
   "metadata": {
    "ExecuteTime": {
     "end_time": "2019-08-08T08:02:01.146644Z",
     "start_time": "2019-08-08T08:02:00.897794Z"
    }
   },
   "source": [
    "Document Representation with BoW(Controlled Vocabulary)\n",
    "\n",
    "Tokenization -> N-gram -> Stemming / Normalization(길이, 빈도)"
   ]
  },
  {
   "cell_type": "code",
   "execution_count": 6,
   "metadata": {
    "ExecuteTime": {
     "end_time": "2019-08-09T01:38:35.455460Z",
     "start_time": "2019-08-09T01:38:35.230589Z"
    }
   },
   "outputs": [
    {
     "data": {
      "text/plain": [
       "['``',\n",
       " '2005년',\n",
       " '민관위',\n",
       " '조사서',\n",
       " '불법행위',\n",
       " '청구권소멸',\n",
       " '결론',\n",
       " '낸',\n",
       " '적',\n",
       " '없어',\n",
       " \"''\",\n",
       " '반박',\n",
       " \"''\",\n",
       " '日과',\n",
       " '타협여지',\n",
       " '줄여',\n",
       " '논란키울',\n",
       " '소지',\n",
       " \"''\",\n",
       " '비판도',\n",
       " '◆',\n",
       " '한일',\n",
       " '정면충돌',\n",
       " '◆',\n",
       " '강경화',\n",
       " '외교부',\n",
       " '장관',\n",
       " '(',\n",
       " '오른쪽',\n",
       " ')',\n",
       " '이',\n",
       " '17일',\n",
       " '오후',\n",
       " '서울',\n",
       " '종로',\n",
       " '외교부',\n",
       " '청사를',\n",
       " '방문한',\n",
       " '데이비드',\n",
       " '스틸웰',\n",
       " '신임',\n",
       " '미국',\n",
       " '국무부',\n",
       " '동아태',\n",
       " '차관보와',\n",
       " '악수하고',\n",
       " '있다',\n",
       " '.',\n",
       " '가운데는',\n",
       " '해리',\n",
       " '해리스',\n",
       " '주한',\n",
       " '미국대사',\n",
       " '.',\n",
       " '[',\n",
       " '사진출처',\n",
       " '=',\n",
       " '연합뉴스',\n",
       " ']',\n",
       " '청와대가',\n",
       " '논란을',\n",
       " '빚고',\n",
       " '있는',\n",
       " '일제시대',\n",
       " '강제징용',\n",
       " '피해자',\n",
       " '개인의',\n",
       " '손해배상청구권이',\n",
       " '남아',\n",
       " '있다는',\n",
       " '취지로',\n",
       " '사실상',\n",
       " '유권',\n",
       " '해석을',\n",
       " '내렸다',\n",
       " '.',\n",
       " '문재인',\n",
       " '대통령과',\n",
       " '청와대는',\n",
       " '지난해',\n",
       " '10월',\n",
       " '대법원의',\n",
       " '강제징용',\n",
       " '판결',\n",
       " '후',\n",
       " '기회가',\n",
       " '있을',\n",
       " '때마다',\n",
       " '3권',\n",
       " '분립',\n",
       " '원칙을',\n",
       " '강조하며',\n",
       " '정부가',\n",
       " '관여할',\n",
       " '수',\n",
       " '없다는',\n",
       " '입장을',\n",
       " '거듭',\n",
       " '강조해왔다',\n",
       " '.',\n",
       " '문',\n",
       " '대통령은',\n",
       " '올해',\n",
       " '1월',\n",
       " '10일',\n",
       " '신년기자회견에서',\n",
       " '``',\n",
       " '일본',\n",
       " '정부가',\n",
       " '조금',\n",
       " '더',\n",
       " '겸허한',\n",
       " '입장을',\n",
       " '가져야',\n",
       " '한다',\n",
       " \"''\",\n",
       " '면서',\n",
       " '``',\n",
       " '일본',\n",
       " '정치',\n",
       " '지도자들이',\n",
       " '그',\n",
       " '문제',\n",
       " '(',\n",
       " '강제징용',\n",
       " '판결',\n",
       " ')',\n",
       " '를',\n",
       " '정치',\n",
       " '쟁점화해서',\n",
       " '논란거리로',\n",
       " '만들고',\n",
       " '확산시키는',\n",
       " '것은',\n",
       " '현명한',\n",
       " '태도가',\n",
       " '아니다',\n",
       " \"''\",\n",
       " '고',\n",
       " '말했다',\n",
       " '.',\n",
       " '개인의',\n",
       " '손해배상청구권이',\n",
       " '유효하게',\n",
       " '남아',\n",
       " '있는지에',\n",
       " '대해서는',\n",
       " '행정부',\n",
       " '차원의',\n",
       " '해석을',\n",
       " '경계했지만',\n",
       " '이번에',\n",
       " '명확하게',\n",
       " '정의를',\n",
       " '내렸다는',\n",
       " '점에서',\n",
       " '주목된다',\n",
       " '.',\n",
       " '청와대가',\n",
       " '근거로',\n",
       " '삼은',\n",
       " '것은',\n",
       " '한일회담',\n",
       " '문서공개',\n",
       " '후속대책',\n",
       " '관련',\n",
       " '2005년',\n",
       " '민관공동위원회',\n",
       " '활동',\n",
       " '결과다',\n",
       " '.',\n",
       " '당시',\n",
       " '공식',\n",
       " '발표',\n",
       " '자료에',\n",
       " '따르면',\n",
       " '한일협상',\n",
       " '당시',\n",
       " '한국',\n",
       " '정부는',\n",
       " '일본',\n",
       " '정부가',\n",
       " '강제동원의',\n",
       " '법적',\n",
       " '배상·보상을',\n",
       " '인정하지',\n",
       " '않음에',\n",
       " '따라',\n",
       " \"'고통받은\",\n",
       " '역사적',\n",
       " '피해사실',\n",
       " \"'\",\n",
       " '에',\n",
       " '근거하여',\n",
       " '정치적',\n",
       " '차원에서',\n",
       " \"'보상\",\n",
       " \"'\",\n",
       " '을',\n",
       " '요구했으며',\n",
       " ',',\n",
       " '이러한',\n",
       " '요구가',\n",
       " '양국',\n",
       " '간',\n",
       " '무상자금산정에',\n",
       " '반영되었다고',\n",
       " '보아야',\n",
       " '한다고',\n",
       " '밝혔다',\n",
       " '.',\n",
       " '이날',\n",
       " '청와대의',\n",
       " '해명',\n",
       " '과정에서',\n",
       " '드러난',\n",
       " '유권',\n",
       " '해석의',\n",
       " '핵심은',\n",
       " \"'보상\",\n",
       " \"'\",\n",
       " '성격과',\n",
       " '달리',\n",
       " '위자료',\n",
       " '등',\n",
       " \"'배상\",\n",
       " \"'\",\n",
       " '성격의',\n",
       " '청구권은',\n",
       " '여전히',\n",
       " '존재한다는',\n",
       " '뜻이다',\n",
       " '.',\n",
       " '고민정',\n",
       " '청와대',\n",
       " '대변인은',\n",
       " '17일',\n",
       " '``',\n",
       " '당시',\n",
       " '민관공동위에서',\n",
       " '강제징용',\n",
       " '피해자',\n",
       " '개인의',\n",
       " '손해배상청구권이',\n",
       " '소멸되었다고',\n",
       " '발표한',\n",
       " '바',\n",
       " '없다',\n",
       " \"''\",\n",
       " '고',\n",
       " '밝혔다',\n",
       " '.',\n",
       " '고',\n",
       " '대변인은',\n",
       " '``',\n",
       " '당시',\n",
       " '민관공동위는',\n",
       " \"'한일\",\n",
       " '청구권협정은',\n",
       " '한일',\n",
       " '양국',\n",
       " '간',\n",
       " '재정적·민사적',\n",
       " '채권·채무관계를',\n",
       " '해결하기',\n",
       " '위한',\n",
       " '것이었을',\n",
       " '뿐',\n",
       " '반인도적',\n",
       " '불법행위에',\n",
       " '대해서는',\n",
       " '청구권협정에',\n",
       " '의하여',\n",
       " '해결된',\n",
       " '것으로',\n",
       " '볼',\n",
       " '수',\n",
       " \"없다'라고\",\n",
       " '보도자료를',\n",
       " '통해',\n",
       " '분명히',\n",
       " '밝혔다',\n",
       " \"''\",\n",
       " '고',\n",
       " '덧붙였다',\n",
       " '.',\n",
       " '고',\n",
       " '대변인은',\n",
       " '``',\n",
       " '노무현정부',\n",
       " '당시',\n",
       " '민관공동위에서',\n",
       " \"'강제동원\",\n",
       " '피해',\n",
       " '관련',\n",
       " '손해배상청구',\n",
       " \"'\",\n",
       " '에',\n",
       " '대해',\n",
       " '청구권협정에',\n",
       " '포함된다는',\n",
       " '결론을',\n",
       " '내린',\n",
       " '적이',\n",
       " '없다',\n",
       " \"''\",\n",
       " '고',\n",
       " '강조했다',\n",
       " '.',\n",
       " '문',\n",
       " '대통령은',\n",
       " '참여정부',\n",
       " '때인',\n",
       " '2005년에는',\n",
       " '당시',\n",
       " '국무총리였던',\n",
       " '이해찬',\n",
       " '더불어민주당',\n",
       " '대표가',\n",
       " '위원장을',\n",
       " '맡은',\n",
       " '민간공동위',\n",
       " '위원으로',\n",
       " '활동한',\n",
       " '바',\n",
       " '있다',\n",
       " '.',\n",
       " '관련',\n",
       " '문제가',\n",
       " '불거질',\n",
       " '때마다',\n",
       " '청와대는',\n",
       " '3권',\n",
       " '분립',\n",
       " '원칙만',\n",
       " '강조하며',\n",
       " '손해배상청권이',\n",
       " '남아',\n",
       " '있는지에',\n",
       " '대해서는',\n",
       " '명확하게',\n",
       " '밝히지',\n",
       " '않아왔다',\n",
       " '.',\n",
       " '하지만',\n",
       " '그간',\n",
       " '언급하지',\n",
       " '않았던',\n",
       " '2005년',\n",
       " '민관공동위',\n",
       " '활동',\n",
       " '결과를',\n",
       " '바탕으로',\n",
       " '명확하게',\n",
       " '입장을',\n",
       " '정리한',\n",
       " '셈이다',\n",
       " '.',\n",
       " '법원',\n",
       " '내에서도',\n",
       " '해석의',\n",
       " '다툼이',\n",
       " '있었던',\n",
       " '내용에',\n",
       " '대해',\n",
       " '청와대가',\n",
       " '2005년',\n",
       " '입장을',\n",
       " '재확인하며',\n",
       " '사실상',\n",
       " '대법원',\n",
       " '논리와',\n",
       " '같이하겠다는',\n",
       " '입장을',\n",
       " '표시한',\n",
       " '것으로',\n",
       " '보인다',\n",
       " '.',\n",
       " '지난해',\n",
       " '10월',\n",
       " '대법원',\n",
       " '전원합의체는',\n",
       " '강제징용',\n",
       " '피해자',\n",
       " '4명이',\n",
       " '신일철주금을',\n",
       " '상대로',\n",
       " '낸',\n",
       " '손해배상청구',\n",
       " '소송의',\n",
       " '재상고심에서',\n",
       " '원고',\n",
       " '승소',\n",
       " '판결한',\n",
       " '원심을',\n",
       " '확정했다',\n",
       " '.',\n",
       " '재판장인',\n",
       " '대법원장과',\n",
       " '대법관',\n",
       " '총',\n",
       " '13명',\n",
       " '중',\n",
       " '11명의',\n",
       " '다수',\n",
       " '의견으로',\n",
       " '이',\n",
       " '같은',\n",
       " '결론이',\n",
       " '났다',\n",
       " '.',\n",
       " '재판부는',\n",
       " '강제징용',\n",
       " '피해자들의',\n",
       " '손해',\n",
       " \"'배상\",\n",
       " \"'\",\n",
       " '청구권을',\n",
       " '인정하고',\n",
       " ',',\n",
       " '각',\n",
       " '1억원씩',\n",
       " '총',\n",
       " '4억원의',\n",
       " '위자료와',\n",
       " '그에',\n",
       " '따른',\n",
       " '지연손해금을',\n",
       " '지급하라고',\n",
       " '판결한',\n",
       " '바',\n",
       " '있다',\n",
       " '.',\n",
       " '당시',\n",
       " '판결은',\n",
       " '논란의',\n",
       " '소지가',\n",
       " '있었던',\n",
       " '사안에',\n",
       " '대해',\n",
       " '명확하게',\n",
       " '손해배상을',\n",
       " '인정한',\n",
       " '기념비적인',\n",
       " '판결이',\n",
       " '됐고',\n",
       " ',',\n",
       " '일본이',\n",
       " '반발하게',\n",
       " '된',\n",
       " '분기점이',\n",
       " '됐다',\n",
       " '.',\n",
       " '청와대가',\n",
       " '이날',\n",
       " '이런',\n",
       " '입장을',\n",
       " '밝힌',\n",
       " '것은',\n",
       " '향후',\n",
       " '원칙적인',\n",
       " '대응을',\n",
       " '계속해서',\n",
       " '밀고',\n",
       " '나가겠다는',\n",
       " '의지를',\n",
       " '표현한',\n",
       " '것으로',\n",
       " '보인다',\n",
       " '.',\n",
       " '일각에서는',\n",
       " '이는',\n",
       " '일본과',\n",
       " '타협의',\n",
       " '여지를',\n",
       " '줄인',\n",
       " '것으로도',\n",
       " '볼',\n",
       " '수',\n",
       " '있어',\n",
       " '이번',\n",
       " '사태가',\n",
       " '장기화되는',\n",
       " '원인이',\n",
       " '될',\n",
       " '수도',\n",
       " '있다는',\n",
       " '지적이',\n",
       " '나오고',\n",
       " '있다',\n",
       " '.',\n",
       " '익명을',\n",
       " '요구한',\n",
       " '일본',\n",
       " '문제',\n",
       " '전문가는',\n",
       " '``',\n",
       " '손해배상청구권이',\n",
       " '남아',\n",
       " '있는지는',\n",
       " '법원',\n",
       " '내부에서',\n",
       " '판례가',\n",
       " '엇갈렸을',\n",
       " '정도로',\n",
       " '첨예하게',\n",
       " '논쟁이',\n",
       " '제기됐던',\n",
       " '사안',\n",
       " \"''\",\n",
       " '이라며',\n",
       " '``',\n",
       " '이',\n",
       " '문제에',\n",
       " '대해서',\n",
       " '행정부가',\n",
       " '입장을',\n",
       " '표시하는',\n",
       " '것',\n",
       " '자체가',\n",
       " '논란을',\n",
       " '키울',\n",
       " '소지가',\n",
       " '있다',\n",
       " \"''\",\n",
       " '고',\n",
       " '우려했다',\n",
       " '.',\n",
       " '[',\n",
       " '이진명',\n",
       " '기자',\n",
       " '/',\n",
       " '박용범',\n",
       " '기자',\n",
       " ']',\n",
       " '▶네이버',\n",
       " '메인에서',\n",
       " \"'매일경제\",\n",
       " \"'\",\n",
       " '를',\n",
       " '받아보세요',\n",
       " '▶뉴스레터',\n",
       " \"'매콤달콤\",\n",
       " \"'\",\n",
       " '구독',\n",
       " '▶무궁무진한',\n",
       " '프리미엄',\n",
       " '읽을거리',\n",
       " '[',\n",
       " 'ⓒ',\n",
       " '매일경제',\n",
       " '&',\n",
       " 'mk.co.kr',\n",
       " ',',\n",
       " '무단전재',\n",
       " '및',\n",
       " '재배포',\n",
       " '금지',\n",
       " ']']"
      ]
     },
     "execution_count": 6,
     "metadata": {},
     "output_type": "execute_result"
    }
   ],
   "source": [
    "word_tokenize(corpus[0])"
   ]
  },
  {
   "cell_type": "code",
   "execution_count": 7,
   "metadata": {
    "ExecuteTime": {
     "end_time": "2019-08-09T01:38:35.609370Z",
     "start_time": "2019-08-09T01:38:35.501432Z"
    }
   },
   "outputs": [],
   "source": [
    "import re\n",
    "from string import punctuation\n",
    "pattern1 = re.compile(r'[{0}]'.format(re.escape(punctuation))) # 구두점 제거\n",
    "pattern2 = re.compile(r'[A-Za-z]{5,}') # 5개이상의 영어알파벳 제거\n",
    "pattern3 = re.compile(r'[^0-9A-Za-z가-힣 ]') # 특수문자 제거\n",
    "pattern4 = re.compile(r'\\s{2,}')\n",
    "\n",
    "collection = list()\n",
    "for _ in corpus:\n",
    "    collection.append(pattern4.sub(' ',\n",
    "                       pattern3.sub(' ', \n",
    "                        pattern2.sub(' ', \n",
    "                         pattern1.sub('',_)))).strip())"
   ]
  },
  {
   "cell_type": "code",
   "execution_count": 8,
   "metadata": {
    "ExecuteTime": {
     "end_time": "2019-08-09T01:38:35.631357Z",
     "start_time": "2019-08-09T01:38:35.620365Z"
    }
   },
   "outputs": [
    {
     "data": {
      "text/plain": [
       "'2005년 민관위 조사서 불법행위 청구권소멸 결론 낸 적 없어 반박 과 타협여지 줄여 논란키울 소지 비판도 한일 정면충돌 강경화 외교부 장관오른쪽이 17일 오후 서울 종로 외교부 청사를 방문한 데이비드 스틸웰 신임 미국 국무부 동아태 차관보와 악수하고 있다 가운데는 해리 해리스 주한 미국대사 사진출처 연합뉴스 청와대가 논란을 빚고 있는 일제시대 강제징용 피해자 개인의 손해배상청구권이 남아 있다는 취지로 사실상 유권 해석을 내렸다 문재인 대통령과 청와대는 지난해 10월 대법원의 강제징용 판결 후 기회가 있을 때마다 3권 분립 원칙을 강조하며 정부가 관여할 수 없다는 입장을 거듭 강조해왔다 문 대통령은 올해 1월 10일 신년기자회견에서 일본 정부가 조금 더 겸허한 입장을 가져야 한다면서 일본 정치 지도자들이 그 문제강제징용 판결를 정치 쟁점화해서 논란거리로 만들고 확산시키는 것은 현명한 태도가 아니다고 말했다 개인의 손해배상청구권이 유효하게 남아 있는지에 대해서는 행정부 차원의 해석을 경계했지만 이번에 명확하게 정의를 내렸다는 점에서 주목된다 청와대가 근거로 삼은 것은 한일회담 문서공개 후속대책 관련 2005년 민관공동위원회 활동 결과다 당시 공식 발표 자료에 따르면 한일협상 당시 한국 정부는 일본 정부가 강제동원의 법적 배상 보상을 인정하지 않음에 따라 고통받은 역사적 피해사실에 근거하여 정치적 차원에서 보상을 요구했으며 이러한 요구가 양국 간 무상자금산정에 반영되었다고 보아야 한다고 밝혔다 이날 청와대의 해명 과정에서 드러난 유권 해석의 핵심은 보상 성격과 달리 위자료 등 배상 성격의 청구권은 여전히 존재한다는 뜻이다 고민정 청와대 대변인은 17일 당시 민관공동위에서 강제징용 피해자 개인의 손해배상청구권이 소멸되었다고 발표한 바 없다고 밝혔다 고 대변인은 당시 민관공동위는 한일 청구권협정은 한일 양국 간 재정적 민사적 채권 채무관계를 해결하기 위한 것이었을 뿐 반인도적 불법행위에 대해서는 청구권협정에 의하여 해결된 것으로 볼 수 없다라고 보도자료를 통해 분명히 밝혔다고 덧붙였다 고 대변인은 노무현정부 당시 민관공동위에서 강제동원 피해 관련 손해배상청구에 대해 청구권협정에 포함된다는 결론을 내린 적이 없다고 강조했다 문 대통령은 참여정부 때인 2005년에는 당시 국무총리였던 이해찬 더불어민주당 대표가 위원장을 맡은 민간공동위 위원으로 활동한 바 있다 관련 문제가 불거질 때마다 청와대는 3권 분립 원칙만 강조하며 손해배상청권이 남아 있는지에 대해서는 명확하게 밝히지 않아왔다 하지만 그간 언급하지 않았던 2005년 민관공동위 활동 결과를 바탕으로 명확하게 입장을 정리한 셈이다 법원 내에서도 해석의 다툼이 있었던 내용에 대해 청와대가 2005년 입장을 재확인하며 사실상 대법원 논리와 같이하겠다는 입장을 표시한 것으로 보인다 지난해 10월 대법원 전원합의체는 강제징용 피해자 4명이 신일철주금을 상대로 낸 손해배상청구 소송의 재상고심에서 원고 승소 판결한 원심을 확정했다 재판장인 대법원장과 대법관 총 13명 중 11명의 다수 의견으로 이 같은 결론이 났다 재판부는 강제징용 피해자들의 손해 배상 청구권을 인정하고 각 1억원씩 총 4억원의 위자료와 그에 따른 지연손해금을 지급하라고 판결한 바 있다 당시 판결은 논란의 소지가 있었던 사안에 대해 명확하게 손해배상을 인정한 기념비적인 판결이 됐고 일본이 반발하게 된 분기점이 됐다 청와대가 이날 이런 입장을 밝힌 것은 향후 원칙적인 대응을 계속해서 밀고 나가겠다는 의지를 표현한 것으로 보인다 일각에서는 이는 일본과 타협의 여지를 줄인 것으로도 볼 수 있어 이번 사태가 장기화되는 원인이 될 수도 있다는 지적이 나오고 있다 익명을 요구한 일본 문제 전문가는 손해배상청구권이 남아 있는지는 법원 내부에서 판례가 엇갈렸을 정도로 첨예하게 논쟁이 제기됐던 사안이라며 이 문제에 대해서 행정부가 입장을 표시하는 것 자체가 논란을 키울 소지가 있다고 우려했다 이진명 기자 박용범 기자 네이버 메인에서 매일경제를 받아보세요 뉴스레터 매콤달콤 구독 무궁무진한 프리미엄 읽을거리 매일경제 무단전재 및 재배포 금지'"
      ]
     },
     "execution_count": 8,
     "metadata": {},
     "output_type": "execute_result"
    }
   ],
   "source": [
    "collection[0]"
   ]
  },
  {
   "cell_type": "code",
   "execution_count": 9,
   "metadata": {
    "ExecuteTime": {
     "end_time": "2019-08-09T01:38:35.734299Z",
     "start_time": "2019-08-09T01:38:35.640352Z"
    }
   },
   "outputs": [
    {
     "data": {
      "text/plain": [
       "(477, 477)"
      ]
     },
     "execution_count": 9,
     "metadata": {},
     "output_type": "execute_result"
    }
   ],
   "source": [
    "len(word_tokenize(collection[0])), len(collection[0].split()) # 이미 전처리 되어있으므로 같다"
   ]
  },
  {
   "cell_type": "code",
   "execution_count": 13,
   "metadata": {
    "ExecuteTime": {
     "end_time": "2019-08-09T01:39:27.830494Z",
     "start_time": "2019-08-09T01:39:22.928300Z"
    }
   },
   "outputs": [
    {
     "data": {
      "text/plain": [
       "(477, 476, 2001, 1002)"
      ]
     },
     "execution_count": 13,
     "metadata": {},
     "output_type": "execute_result"
    }
   ],
   "source": [
    "len(word_tokenize(collection[0])), len(eojeol(collection[0])), \\\n",
    "len(umjeol(collection[0])), len(kkma.morphs(collection[0]))"
   ]
  },
  {
   "cell_type": "code",
   "execution_count": 14,
   "metadata": {
    "ExecuteTime": {
     "end_time": "2019-08-09T01:39:27.901461Z",
     "start_time": "2019-08-09T01:39:27.836492Z"
    }
   },
   "outputs": [
    {
     "data": {
      "text/plain": [
       "([('아직', 'MAG'),\n",
       "  ('목요일', 'NNG'),\n",
       "  ('이', 'VCP'),\n",
       "  ('라', 'ECD'),\n",
       "  ('니', 'NP'),\n",
       "  ('....', 'SW')],\n",
       " ['아직', '목요일', '이', '라', '니', '....'])"
      ]
     },
     "execution_count": 14,
     "metadata": {},
     "output_type": "execute_result"
    }
   ],
   "source": [
    "kkma = Kkma()\n",
    "kkma.pos('아직 목요일이라니....'), kkma.morphs('아직 목요일이라니....')"
   ]
  },
  {
   "cell_type": "code",
   "execution_count": 15,
   "metadata": {
    "ExecuteTime": {
     "end_time": "2019-08-09T01:39:33.510244Z",
     "start_time": "2019-08-09T01:39:27.909449Z"
    }
   },
   "outputs": [
    {
     "ename": "KeyboardInterrupt",
     "evalue": "",
     "output_type": "error",
     "traceback": [
      "\u001b[1;31m---------------------------------------------------------------------------\u001b[0m",
      "\u001b[1;31mKeyboardInterrupt\u001b[0m                         Traceback (most recent call last)",
      "\u001b[1;32m<ipython-input-15-ab2740e47747>\u001b[0m in \u001b[0;36m<module>\u001b[1;34m\u001b[0m\n\u001b[0;32m      4\u001b[0m     \u001b[0mvocabulary\u001b[0m\u001b[1;33m.\u001b[0m\u001b[0mextend\u001b[0m\u001b[1;33m(\u001b[0m\u001b[0meojeol\u001b[0m\u001b[1;33m(\u001b[0m\u001b[0m_\u001b[0m\u001b[1;33m)\u001b[0m\u001b[1;33m)\u001b[0m\u001b[1;33m\u001b[0m\u001b[1;33m\u001b[0m\u001b[0m\n\u001b[0;32m      5\u001b[0m     \u001b[0mvocabulary\u001b[0m\u001b[1;33m.\u001b[0m\u001b[0mextend\u001b[0m\u001b[1;33m(\u001b[0m\u001b[0mumjeol\u001b[0m\u001b[1;33m(\u001b[0m\u001b[0m_\u001b[0m\u001b[1;33m)\u001b[0m\u001b[1;33m)\u001b[0m\u001b[1;33m\u001b[0m\u001b[1;33m\u001b[0m\u001b[0m\n\u001b[1;32m----> 6\u001b[1;33m     \u001b[0mvocabulary\u001b[0m\u001b[1;33m.\u001b[0m\u001b[0mextend\u001b[0m\u001b[1;33m(\u001b[0m\u001b[0mkkma\u001b[0m\u001b[1;33m.\u001b[0m\u001b[0mmorphs\u001b[0m\u001b[1;33m(\u001b[0m\u001b[0m_\u001b[0m\u001b[1;33m)\u001b[0m\u001b[1;33m)\u001b[0m\u001b[1;33m\u001b[0m\u001b[1;33m\u001b[0m\u001b[0m\n\u001b[0m",
      "\u001b[1;32m~\\Anaconda3\\lib\\site-packages\\konlpy\\tag\\_kkma.py\u001b[0m in \u001b[0;36mmorphs\u001b[1;34m(self, phrase)\u001b[0m\n\u001b[0;32m     82\u001b[0m         \u001b[1;34m\"\"\"Parse phrase to morphemes.\"\"\"\u001b[0m\u001b[1;33m\u001b[0m\u001b[1;33m\u001b[0m\u001b[0m\n\u001b[0;32m     83\u001b[0m \u001b[1;33m\u001b[0m\u001b[0m\n\u001b[1;32m---> 84\u001b[1;33m         \u001b[1;32mreturn\u001b[0m \u001b[1;33m[\u001b[0m\u001b[0ms\u001b[0m \u001b[1;32mfor\u001b[0m \u001b[0ms\u001b[0m\u001b[1;33m,\u001b[0m \u001b[0mt\u001b[0m \u001b[1;32min\u001b[0m \u001b[0mself\u001b[0m\u001b[1;33m.\u001b[0m\u001b[0mpos\u001b[0m\u001b[1;33m(\u001b[0m\u001b[0mphrase\u001b[0m\u001b[1;33m)\u001b[0m\u001b[1;33m]\u001b[0m\u001b[1;33m\u001b[0m\u001b[1;33m\u001b[0m\u001b[0m\n\u001b[0m\u001b[0;32m     85\u001b[0m \u001b[1;33m\u001b[0m\u001b[0m\n\u001b[0;32m     86\u001b[0m     \u001b[1;32mdef\u001b[0m \u001b[0msentences\u001b[0m\u001b[1;33m(\u001b[0m\u001b[0mself\u001b[0m\u001b[1;33m,\u001b[0m \u001b[0mphrase\u001b[0m\u001b[1;33m)\u001b[0m\u001b[1;33m:\u001b[0m\u001b[1;33m\u001b[0m\u001b[1;33m\u001b[0m\u001b[0m\n",
      "\u001b[1;32m~\\Anaconda3\\lib\\site-packages\\konlpy\\tag\\_kkma.py\u001b[0m in \u001b[0;36mpos\u001b[1;34m(self, phrase, flatten, join)\u001b[0m\n\u001b[0;32m     53\u001b[0m         \"\"\"\n\u001b[0;32m     54\u001b[0m \u001b[1;33m\u001b[0m\u001b[0m\n\u001b[1;32m---> 55\u001b[1;33m         \u001b[0msentences\u001b[0m \u001b[1;33m=\u001b[0m \u001b[0mself\u001b[0m\u001b[1;33m.\u001b[0m\u001b[0mjki\u001b[0m\u001b[1;33m.\u001b[0m\u001b[0mmorphAnalyzer\u001b[0m\u001b[1;33m(\u001b[0m\u001b[0mphrase\u001b[0m\u001b[1;33m)\u001b[0m\u001b[1;33m\u001b[0m\u001b[1;33m\u001b[0m\u001b[0m\n\u001b[0m\u001b[0;32m     56\u001b[0m         \u001b[0mmorphemes\u001b[0m \u001b[1;33m=\u001b[0m \u001b[1;33m[\u001b[0m\u001b[1;33m]\u001b[0m\u001b[1;33m\u001b[0m\u001b[1;33m\u001b[0m\u001b[0m\n\u001b[0;32m     57\u001b[0m         \u001b[1;32mif\u001b[0m \u001b[1;32mnot\u001b[0m \u001b[0msentences\u001b[0m\u001b[1;33m:\u001b[0m\u001b[1;33m\u001b[0m\u001b[1;33m\u001b[0m\u001b[0m\n",
      "\u001b[1;32m~\\Anaconda3\\lib\\site-packages\\jpype\\_jclass.py\u001b[0m in \u001b[0;36m_JClassNew\u001b[1;34m(arg, loader, initialize)\u001b[0m\n\u001b[0;32m    204\u001b[0m \u001b[1;33m\u001b[0m\u001b[0m\n\u001b[0;32m    205\u001b[0m \u001b[1;33m\u001b[0m\u001b[0m\n\u001b[1;32m--> 206\u001b[1;33m \u001b[1;32mdef\u001b[0m \u001b[0m_JClassNew\u001b[0m\u001b[1;33m(\u001b[0m\u001b[0marg\u001b[0m\u001b[1;33m,\u001b[0m \u001b[0mloader\u001b[0m\u001b[1;33m=\u001b[0m\u001b[1;32mNone\u001b[0m\u001b[1;33m,\u001b[0m \u001b[0minitialize\u001b[0m\u001b[1;33m=\u001b[0m\u001b[1;32mTrue\u001b[0m\u001b[1;33m)\u001b[0m\u001b[1;33m:\u001b[0m\u001b[1;33m\u001b[0m\u001b[1;33m\u001b[0m\u001b[0m\n\u001b[0m\u001b[0;32m    207\u001b[0m     \u001b[1;32mif\u001b[0m \u001b[0mloader\u001b[0m \u001b[1;32mand\u001b[0m \u001b[0misinstance\u001b[0m\u001b[1;33m(\u001b[0m\u001b[0marg\u001b[0m\u001b[1;33m,\u001b[0m \u001b[0mstr\u001b[0m\u001b[1;33m)\u001b[0m\u001b[1;33m:\u001b[0m\u001b[1;33m\u001b[0m\u001b[1;33m\u001b[0m\u001b[0m\n\u001b[0;32m    208\u001b[0m         \u001b[0marg\u001b[0m \u001b[1;33m=\u001b[0m \u001b[0m_java_lang_Class\u001b[0m\u001b[1;33m.\u001b[0m\u001b[0mforName\u001b[0m\u001b[1;33m(\u001b[0m\u001b[0marg\u001b[0m\u001b[1;33m,\u001b[0m \u001b[0minitialize\u001b[0m\u001b[1;33m,\u001b[0m \u001b[0mloader\u001b[0m\u001b[1;33m)\u001b[0m\u001b[1;33m\u001b[0m\u001b[1;33m\u001b[0m\u001b[0m\n",
      "\u001b[1;31mKeyboardInterrupt\u001b[0m: "
     ]
    }
   ],
   "source": [
    "vocabulary = list()\n",
    "for _ in collection:\n",
    "    vocabulary.extend(_.split())\n",
    "    vocabulary.extend(eojeol(_))\n",
    "    vocabulary.extend(umjeol(_))\n",
    "    vocabulary.extend(kkma.morphs(_))"
   ]
  },
  {
   "cell_type": "code",
   "execution_count": 16,
   "metadata": {
    "ExecuteTime": {
     "end_time": "2019-08-09T01:39:38.291511Z",
     "start_time": "2019-08-09T01:39:38.283515Z"
    }
   },
   "outputs": [
    {
     "data": {
      "text/plain": [
       "(2954, 1653)"
      ]
     },
     "execution_count": 16,
     "metadata": {},
     "output_type": "execute_result"
    }
   ],
   "source": [
    "len(vocabulary), len(set(vocabulary))"
   ]
  },
  {
   "cell_type": "code",
   "execution_count": 17,
   "metadata": {
    "ExecuteTime": {
     "end_time": "2019-08-09T01:39:39.115039Z",
     "start_time": "2019-08-09T01:39:39.103045Z"
    }
   },
   "outputs": [
    {
     "data": {
      "text/plain": [
       "1608"
      ]
     },
     "execution_count": 17,
     "metadata": {},
     "output_type": "execute_result"
    }
   ],
   "source": [
    "vocabulary = [_ for _ in list(set(vocabulary)) if 1<len(_)<6]\n",
    "len(vocabulary)"
   ]
  },
  {
   "cell_type": "code",
   "execution_count": 18,
   "metadata": {
    "ExecuteTime": {
     "end_time": "2019-08-09T01:39:42.581056Z",
     "start_time": "2019-08-09T01:39:39.454845Z"
    }
   },
   "outputs": [],
   "source": [
    "BoW = [0 for _ in range(len(vocabulary))]\n",
    "for _ in collection[0].split() + eojeol(collection[0]) + umjeol(collection[0]) \\\n",
    "+ kkma.morphs(collection[0]):\n",
    "    if _ in vocabulary:\n",
    "        BoW[vocabulary.index(_)] = 1"
   ]
  },
  {
   "cell_type": "code",
   "execution_count": 19,
   "metadata": {
    "ExecuteTime": {
     "end_time": "2019-08-09T01:39:43.995247Z",
     "start_time": "2019-08-09T01:39:43.986251Z"
    }
   },
   "outputs": [
    {
     "data": {
      "text/plain": [
       "(0, 1608)"
      ]
     },
     "execution_count": 19,
     "metadata": {},
     "output_type": "execute_result"
    }
   ],
   "source": [
    "len(vocabulary)-sum(BoW), sum(BoW) # 매우 sparse하다"
   ]
  },
  {
   "cell_type": "code",
   "execution_count": 20,
   "metadata": {
    "ExecuteTime": {
     "end_time": "2019-08-09T01:39:44.232126Z",
     "start_time": "2019-08-09T01:39:44.189136Z"
    }
   },
   "outputs": [],
   "source": [
    "from tqdm import tqdm"
   ]
  },
  {
   "cell_type": "code",
   "execution_count": null,
   "metadata": {
    "ExecuteTime": {
     "end_time": "2019-08-09T01:39:33.548224Z",
     "start_time": "2019-08-09T01:39:30.332Z"
    }
   },
   "outputs": [],
   "source": [
    "BoW = list()\n",
    "\n",
    "for d in tqdm(collection):\n",
    "    docvector = list(0 for _ in range(len(vocabulary)))\n",
    "    for _ in d.split() + eojeol(d) + umjeol(d) + kkma.morphs(d):\n",
    "        if _ in vocabulary:\n",
    "            docvector[vocabulary.index(_)] = 1\n",
    "    BoW.append(docvector)"
   ]
  },
  {
   "cell_type": "code",
   "execution_count": 21,
   "metadata": {
    "ExecuteTime": {
     "end_time": "2019-08-09T01:39:51.992671Z",
     "start_time": "2019-08-09T01:39:51.965688Z"
    }
   },
   "outputs": [
    {
     "ename": "TypeError",
     "evalue": "object of type 'int' has no len()",
     "output_type": "error",
     "traceback": [
      "\u001b[1;31m---------------------------------------------------------------------------\u001b[0m",
      "\u001b[1;31mTypeError\u001b[0m                                 Traceback (most recent call last)",
      "\u001b[1;32m<ipython-input-21-72c8859a09b4>\u001b[0m in \u001b[0;36m<module>\u001b[1;34m\u001b[0m\n\u001b[1;32m----> 1\u001b[1;33m \u001b[0mlen\u001b[0m\u001b[1;33m(\u001b[0m\u001b[0mBoW\u001b[0m\u001b[1;33m)\u001b[0m\u001b[1;33m,\u001b[0m \u001b[0mlen\u001b[0m\u001b[1;33m(\u001b[0m\u001b[0mBoW\u001b[0m\u001b[1;33m[\u001b[0m\u001b[1;36m0\u001b[0m\u001b[1;33m]\u001b[0m\u001b[1;33m)\u001b[0m\u001b[1;33m,\u001b[0m \u001b[0msum\u001b[0m\u001b[1;33m(\u001b[0m\u001b[0mBoW\u001b[0m\u001b[1;33m[\u001b[0m\u001b[1;36m0\u001b[0m\u001b[1;33m]\u001b[0m\u001b[1;33m)\u001b[0m\u001b[1;33m\u001b[0m\u001b[1;33m\u001b[0m\u001b[0m\n\u001b[0m",
      "\u001b[1;31mTypeError\u001b[0m: object of type 'int' has no len()"
     ]
    }
   ],
   "source": [
    "len(BoW), len(BoW[0]), sum(BoW[0])"
   ]
  },
  {
   "cell_type": "code",
   "execution_count": null,
   "metadata": {
    "ExecuteTime": {
     "end_time": "2019-08-09T01:39:33.556219Z",
     "start_time": "2019-08-09T01:39:30.733Z"
    }
   },
   "outputs": [],
   "source": [
    "Query = ['국민', '법안']\n",
    "totalResult = []\n",
    "for q in Query:\n",
    "    searchResult = list()\n",
    "    for i, d in enumerate(BoW):\n",
    "        for j, b in enumerate(d):\n",
    "            if b == 1 and j == vocabulary.index(q):\n",
    "                searchResult.append(i)\n",
    "                break\n",
    "    totalResult.append(searchResult)\n",
    "                \n",
    "vocabulary.index('국민')"
   ]
  },
  {
   "cell_type": "markdown",
   "metadata": {},
   "source": [
    "# Inverted Index"
   ]
  },
  {
   "cell_type": "code",
   "execution_count": 22,
   "metadata": {
    "ExecuteTime": {
     "end_time": "2019-08-09T01:40:14.272924Z",
     "start_time": "2019-08-09T01:40:14.266930Z"
    }
   },
   "outputs": [],
   "source": [
    "from collections import defaultdict"
   ]
  },
  {
   "cell_type": "code",
   "execution_count": 32,
   "metadata": {
    "ExecuteTime": {
     "end_time": "2019-08-09T02:08:35.086107Z",
     "start_time": "2019-08-09T02:08:35.062127Z"
    }
   },
   "outputs": [],
   "source": [
    "D = [\n",
    "    ['A', 'B'],\n",
    "    ['C', 'D'],\n",
    "    ['A', 'C'],\n",
    "]\n",
    "dictionary = defaultdict(lambda: -1)\n",
    "postings = open('postings.dat','w')\n",
    "\n",
    "v = list()\n",
    "for j, d in enumerate(D):\n",
    "    for t in d:\n",
    "        if t not in v:\n",
    "            v.append(t)\n",
    "        i = v.index(t)\n",
    "        next_position = dictionary[i]\n",
    "        _struct = (str(j), str(1), str(next_position))\n",
    "        dictionary[i] = postings.tell()\n",
    "        postings.write(','.join(_struct))\n",
    "        \n",
    "postings.close()"
   ]
  },
  {
   "cell_type": "code",
   "execution_count": 39,
   "metadata": {
    "ExecuteTime": {
     "end_time": "2019-08-09T02:10:44.738931Z",
     "start_time": "2019-08-09T02:10:44.729935Z"
    }
   },
   "outputs": [],
   "source": [
    "%pycat postings.dat"
   ]
  },
  {
   "cell_type": "code",
   "execution_count": 26,
   "metadata": {
    "ExecuteTime": {
     "end_time": "2019-08-09T01:45:20.686626Z",
     "start_time": "2019-08-09T01:45:20.677626Z"
    }
   },
   "outputs": [
    {
     "data": {
      "text/plain": [
       "defaultdict(<function __main__.<lambda>()>, {0: 4, 1: 1, 2: 5, 3: 3})"
      ]
     },
     "execution_count": 26,
     "metadata": {},
     "output_type": "execute_result"
    }
   ],
   "source": [
    "dictionary\n"
   ]
  },
  {
   "cell_type": "code",
   "execution_count": 27,
   "metadata": {
    "ExecuteTime": {
     "end_time": "2019-08-09T01:45:56.072378Z",
     "start_time": "2019-08-09T01:45:56.064384Z"
    }
   },
   "outputs": [
    {
     "data": {
      "text/plain": [
       "[(0, 1, -1), (0, 1, -1), (1, 1, -1), (1, 1, -1), (2, 1, 0), (2, 1, 2)]"
      ]
     },
     "execution_count": 27,
     "metadata": {},
     "output_type": "execute_result"
    }
   ],
   "source": [
    "postings"
   ]
  },
  {
   "cell_type": "code",
   "execution_count": 31,
   "metadata": {
    "ExecuteTime": {
     "end_time": "2019-08-09T01:51:23.297168Z",
     "start_time": "2019-08-09T01:51:23.279178Z"
    }
   },
   "outputs": [
    {
     "name": "stdout",
     "output_type": "stream",
     "text": [
      "3번째 문서, 1번, 다음위치:0\n",
      "1번째 문서, 1번, 다음위치:-1\n"
     ]
    }
   ],
   "source": [
    "Q = ['A']\n",
    "for q in Q:\n",
    "    i = v.index(q)\n",
    "    next_position = dictionary[i]\n",
    "    while True:\n",
    "        _struct = postings[next_position]\n",
    "        next_position=_struct[2]\n",
    "        print('{0}번째 문서, {1}번, 다음위치:{2}'.format(_struct[0]+1, _struct[1], _struct[2]))\n",
    "        if next_position == -1:\n",
    "            break;"
   ]
  },
  {
   "cell_type": "code",
   "execution_count": null,
   "metadata": {},
   "outputs": [],
   "source": []
  }
 ],
 "metadata": {
  "kernelspec": {
   "display_name": "Python 3",
   "language": "python",
   "name": "python3"
  }
 },
 "nbformat": 4,
 "nbformat_minor": 2
}

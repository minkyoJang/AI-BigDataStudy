{
 "cells": [
  {
   "cell_type": "markdown",
   "metadata": {},
   "source": [
    "http://www.cs.virginia.edu/~hw5x/Course/IR2015/_site/lectures/"
   ]
  },
  {
   "cell_type": "markdown",
   "metadata": {},
   "source": [
    "# Information Retrival. 정보 검색\n",
    "\n",
    "- Stored Data로부터 Specific Data를 찾는 과정\n",
    "- 정보를 효율적으로 탐색하고 우리의 수고를 덜어준다,\n",
    "\n",
    "## Why information retrieval\n",
    "- handing unstructured data\n",
    "\n",
    "    - 실제 중요 정보는 대부분 unstructured data에 있다\n",
    "\n",
    "## IR is not just about web Search\n",
    "정보검색 뿐만 아니라\n",
    "- Recommendation\n",
    "- Question Answering\n",
    "    - 대부분의 경우 검색을 기반으로 한다\n",
    "    - stored data에서 질문과 유사한 정보를 answer한다\n",
    "- Text Mining\n",
    "\n",
    "## How to perform Informaion Retrival\n",
    "- Crawler and indexer\n",
    "    - indexer : 다양한 데이터들을 전처리, **어떻게 문서와 쿼리를 vectorize할 것인가!?**\n",
    "- Document Analyzer\n",
    "    - pagerank\n",
    "    - document indexer\n",
    "- Query Parser\n",
    "- Ranking model\n",
    "    \n",
    "    "
   ]
  },
  {
   "cell_type": "code",
   "execution_count": null,
   "metadata": {},
   "outputs": [],
   "source": []
  }
 ],
 "metadata": {
  "kernelspec": {
   "display_name": "Python 3",
   "language": "python",
   "name": "python3"
  },
  "language_info": {
   "codemirror_mode": {
    "name": "ipython",
    "version": 3
   },
   "file_extension": ".py",
   "mimetype": "text/x-python",
   "name": "python",
   "nbconvert_exporter": "python",
   "pygments_lexer": "ipython3",
   "version": "3.7.3"
  }
 },
 "nbformat": 4,
 "nbformat_minor": 2
}

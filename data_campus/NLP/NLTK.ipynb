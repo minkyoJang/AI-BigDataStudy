{
 "cells": [
  {
   "cell_type": "markdown",
   "metadata": {},
   "source": [
    "Data Preprocessing\n",
    "- HTML태그, 특수문자, 이모티콘\n",
    "- 정규표현식\n",
    "- 불용어 (Stopwords)\n",
    "- 어간추출 (Stemming)\n",
    "- 음소표기법 (Lemmatizing)"
   ]
  },
  {
   "cell_type": "markdown",
   "metadata": {},
   "source": [
    "# Tokenize\n",
    "- 여러 방식이 있다. 자신이 필요한 것에 맞게 사용하자"
   ]
  },
  {
   "cell_type": "code",
   "execution_count": 4,
   "metadata": {
    "ExecuteTime": {
     "end_time": "2019-07-29T02:05:59.750939Z",
     "start_time": "2019-07-29T02:05:59.742939Z"
    }
   },
   "outputs": [],
   "source": [
    "from nltk.tokenize import sent_tokenize\n",
    "from nltk import download"
   ]
  },
  {
   "cell_type": "code",
   "execution_count": 5,
   "metadata": {
    "ExecuteTime": {
     "end_time": "2019-07-29T02:06:15.757791Z",
     "start_time": "2019-07-29T02:06:14.736374Z"
    }
   },
   "outputs": [
    {
     "name": "stderr",
     "output_type": "stream",
     "text": [
      "[nltk_data] Downloading package punkt to\n",
      "[nltk_data]     C:\\Users\\skarn\\AppData\\Roaming\\nltk_data...\n",
      "[nltk_data]   Package punkt is already up-to-date!\n"
     ]
    },
    {
     "data": {
      "text/plain": [
       "True"
      ]
     },
     "execution_count": 5,
     "metadata": {},
     "output_type": "execute_result"
    }
   ],
   "source": [
    "download('punkt')"
   ]
  },
  {
   "cell_type": "code",
   "execution_count": 2,
   "metadata": {
    "ExecuteTime": {
     "end_time": "2019-07-29T02:05:04.963236Z",
     "start_time": "2019-07-29T02:05:04.902285Z"
    }
   },
   "outputs": [
    {
     "name": "stdout",
     "output_type": "stream",
     "text": [
      "['Hello world.', \"It's good to see you.\", 'Thanks for buying this book.']\n"
     ]
    }
   ],
   "source": [
    "text_sent = \"Hello world. It's good to see you. Thanks for buying this book.\"\n",
    "print(sent_tokenize(text_sent))"
   ]
  },
  {
   "cell_type": "code",
   "execution_count": 6,
   "metadata": {
    "ExecuteTime": {
     "end_time": "2019-07-29T02:07:04.746806Z",
     "start_time": "2019-07-29T02:07:04.739809Z"
    }
   },
   "outputs": [
    {
     "name": "stdout",
     "output_type": "stream",
     "text": [
      "['IP is 182.153.123.1.', \"Since I'm actively looking for Ph.D students\"]\n"
     ]
    }
   ],
   "source": [
    "text_sent = \"IP is 182.153.123.1. Since I'm actively looking for Ph.D students\"\n",
    "\n",
    "## 예외 처리가 되었다.\n",
    "print(sent_tokenize(text_sent))"
   ]
  },
  {
   "cell_type": "code",
   "execution_count": 7,
   "metadata": {
    "ExecuteTime": {
     "end_time": "2019-07-29T02:08:46.289823Z",
     "start_time": "2019-07-29T02:08:46.284826Z"
    }
   },
   "outputs": [],
   "source": [
    "from nltk.tokenize import word_tokenize"
   ]
  },
  {
   "cell_type": "code",
   "execution_count": 8,
   "metadata": {
    "ExecuteTime": {
     "end_time": "2019-07-29T02:08:59.292395Z",
     "start_time": "2019-07-29T02:08:59.281402Z"
    }
   },
   "outputs": [
    {
     "name": "stdout",
     "output_type": "stream",
     "text": [
      "['Hello', 'world', '.', 'It', \"'s\", 'good', 'to', 'see', 'you', '.', 'Thanks', 'for', 'buying', 'this', 'book', '.']\n"
     ]
    }
   ],
   "source": [
    "text_sent = \"Hello world. It's good to see you. Thanks for buying this book.\"\n",
    "print(word_tokenize(text_sent))"
   ]
  },
  {
   "cell_type": "code",
   "execution_count": 9,
   "metadata": {
    "ExecuteTime": {
     "end_time": "2019-07-29T02:10:35.601377Z",
     "start_time": "2019-07-29T02:10:35.593382Z"
    }
   },
   "outputs": [
    {
     "name": "stdout",
     "output_type": "stream",
     "text": [
      "['I', 'ca', \"n't\"]\n"
     ]
    }
   ],
   "source": [
    "text_sent = \"I can't\"\n",
    "print(word_tokenize(text_sent))"
   ]
  },
  {
   "cell_type": "code",
   "execution_count": 12,
   "metadata": {
    "ExecuteTime": {
     "end_time": "2019-07-29T02:11:34.834540Z",
     "start_time": "2019-07-29T02:11:34.829544Z"
    }
   },
   "outputs": [],
   "source": [
    "from nltk.tokenize import WordPunctTokenizer"
   ]
  },
  {
   "cell_type": "code",
   "execution_count": 15,
   "metadata": {
    "ExecuteTime": {
     "end_time": "2019-07-29T02:13:17.950943Z",
     "start_time": "2019-07-29T02:13:17.940947Z"
    }
   },
   "outputs": [
    {
     "name": "stdout",
     "output_type": "stream",
     "text": [
      "['Hello', 'world', '.', 'It', \"'\", 's', 'good', 'to', 'see', 'you', '.', 'Thanks', 'for', 'buying', 'this', 'book', '.', 'I', 'can', \"'\", 't']\n"
     ]
    }
   ],
   "source": [
    "tokenzier = WordPunctTokenizer()\n",
    "\n",
    "text_sent = \"Hello world. It's good to see you. Thanks for buying this book. I can't\"\n",
    "print(tokenzier.tokenize(text_sent))"
   ]
  },
  {
   "cell_type": "markdown",
   "metadata": {},
   "source": [
    "# Normalization \n",
    "- 규칙기반을 통해 단어들을 통합시켜서 같은 단어로 만듬\n",
    "    - HTML태그 제거, 뉴스 시간 제거, 기자 이름 제거 등"
   ]
  },
  {
   "cell_type": "markdown",
   "metadata": {},
   "source": [
    "# Cleaning\n",
    "- corpus로부터 noisy를 제거\n",
    "    - 대소문자 통합\n",
    "        - `US` vs `us`\n",
    "- 등장 빈도 적은 단어 제거\n",
    "- 길이가 짧은 단어 제거\n",
    "    - a, it, at, to, on, in, by 등\n",
    "    - 한국에서는 적용이 힘들다"
   ]
  },
  {
   "cell_type": "markdown",
   "metadata": {},
   "source": [
    "# Lemmatization"
   ]
  },
  {
   "cell_type": "code",
   "execution_count": 16,
   "metadata": {
    "ExecuteTime": {
     "end_time": "2019-07-29T02:22:09.377550Z",
     "start_time": "2019-07-29T02:22:09.371571Z"
    }
   },
   "outputs": [],
   "source": [
    "from nltk.stem import WordNetLemmatizer"
   ]
  },
  {
   "cell_type": "code",
   "execution_count": 22,
   "metadata": {
    "ExecuteTime": {
     "end_time": "2019-07-29T02:25:08.191401Z",
     "start_time": "2019-07-29T02:25:04.632434Z"
    }
   },
   "outputs": [
    {
     "name": "stderr",
     "output_type": "stream",
     "text": [
      "[nltk_data] Downloading package wordnet to\n",
      "[nltk_data]     C:\\Users\\skarn\\AppData\\Roaming\\nltk_data...\n",
      "[nltk_data]   Unzipping corpora\\wordnet.zip.\n"
     ]
    },
    {
     "data": {
      "text/plain": [
       "True"
      ]
     },
     "execution_count": 22,
     "metadata": {},
     "output_type": "execute_result"
    }
   ],
   "source": [
    "# download('wordnet')"
   ]
  },
  {
   "cell_type": "code",
   "execution_count": 23,
   "metadata": {
    "ExecuteTime": {
     "end_time": "2019-07-29T02:25:14.839604Z",
     "start_time": "2019-07-29T02:25:10.929836Z"
    }
   },
   "outputs": [
    {
     "name": "stdout",
     "output_type": "stream",
     "text": [
      "doing\n",
      "policy\n",
      "have\n",
      "going\n",
      "dy\n",
      "ha\n",
      "watched\n"
     ]
    }
   ],
   "source": [
    "lemma = WordNetLemmatizer()\n",
    "\n",
    "word = [\"doing\", \"policy\", \"have\", \"going\", \"dies\", \"has\", \"watched\"]\n",
    "\n",
    "for _ in word:\n",
    "    print(lemma.lemmatize(_))"
   ]
  },
  {
   "cell_type": "code",
   "execution_count": 26,
   "metadata": {
    "ExecuteTime": {
     "end_time": "2019-07-29T02:29:03.406509Z",
     "start_time": "2019-07-29T02:29:03.397515Z"
    }
   },
   "outputs": [
    {
     "data": {
      "text/plain": [
       "'do'"
      ]
     },
     "execution_count": 26,
     "metadata": {},
     "output_type": "execute_result"
    }
   ],
   "source": [
    "lemma.lemmatize('has', 'v')\n"
   ]
  },
  {
   "cell_type": "code",
   "execution_count": 27,
   "metadata": {
    "ExecuteTime": {
     "end_time": "2019-07-29T02:29:09.211193Z",
     "start_time": "2019-07-29T02:29:09.202198Z"
    }
   },
   "outputs": [
    {
     "data": {
      "text/plain": [
       "'do'"
      ]
     },
     "execution_count": 27,
     "metadata": {},
     "output_type": "execute_result"
    }
   ],
   "source": [
    "lemma.lemmatize('doing', 'v')"
   ]
  },
  {
   "cell_type": "code",
   "execution_count": 28,
   "metadata": {
    "ExecuteTime": {
     "end_time": "2019-07-29T02:29:15.728470Z",
     "start_time": "2019-07-29T02:29:15.719474Z"
    }
   },
   "outputs": [
    {
     "data": {
      "text/plain": [
       "'watch'"
      ]
     },
     "execution_count": 28,
     "metadata": {},
     "output_type": "execute_result"
    }
   ],
   "source": [
    "lemma.lemmatize('watched', 'v')"
   ]
  },
  {
   "cell_type": "code",
   "execution_count": 30,
   "metadata": {
    "ExecuteTime": {
     "end_time": "2019-07-29T02:29:20.398802Z",
     "start_time": "2019-07-29T02:29:20.389807Z"
    }
   },
   "outputs": [
    {
     "data": {
      "text/plain": [
       "'be'"
      ]
     },
     "execution_count": 30,
     "metadata": {},
     "output_type": "execute_result"
    }
   ],
   "source": [
    "lemma.lemmatize('is', 'v')"
   ]
  },
  {
   "cell_type": "code",
   "execution_count": 33,
   "metadata": {
    "ExecuteTime": {
     "end_time": "2019-07-29T04:11:24.717108Z",
     "start_time": "2019-07-29T04:11:24.706113Z"
    }
   },
   "outputs": [
    {
     "name": "stdout",
     "output_type": "stream",
     "text": [
      "hello world. it's good to see you. thanks for buying this book. i can't\n"
     ]
    }
   ],
   "source": [
    "text_sent = \"Hello world. It's good to see you. Thanks for buying this book. I can't\"\n",
    "print(text_sent.lower())"
   ]
  },
  {
   "cell_type": "code",
   "execution_count": 34,
   "metadata": {
    "ExecuteTime": {
     "end_time": "2019-07-29T04:11:50.355463Z",
     "start_time": "2019-07-29T04:11:50.348465Z"
    }
   },
   "outputs": [
    {
     "name": "stdout",
     "output_type": "stream",
     "text": [
      "HELLO WORLD. IT'S GOOD TO SEE YOU. THANKS FOR BUYING THIS BOOK. I CAN'T\n"
     ]
    }
   ],
   "source": [
    "text_sent = \"Hello world. It's good to see you. Thanks for buying this book. I can't\"\n",
    "print(text_sent.upper())"
   ]
  },
  {
   "cell_type": "markdown",
   "metadata": {},
   "source": [
    "# RE"
   ]
  },
  {
   "cell_type": "code",
   "execution_count": 35,
   "metadata": {
    "ExecuteTime": {
     "end_time": "2019-07-29T04:13:28.968131Z",
     "start_time": "2019-07-29T04:13:28.954138Z"
    }
   },
   "outputs": [],
   "source": [
    "import re"
   ]
  },
  {
   "cell_type": "code",
   "execution_count": 37,
   "metadata": {
    "ExecuteTime": {
     "end_time": "2019-07-29T04:14:59.943160Z",
     "start_time": "2019-07-29T04:14:59.934163Z"
    }
   },
   "outputs": [
    {
     "data": {
      "text/plain": [
       "<re.Match object; span=(0, 3), match='a!c'>"
      ]
     },
     "execution_count": 37,
     "metadata": {},
     "output_type": "execute_result"
    }
   ],
   "source": [
    "r = re.compile('a.c')\n",
    "\n",
    "r.search('a!c')"
   ]
  },
  {
   "cell_type": "code",
   "execution_count": 48,
   "metadata": {
    "ExecuteTime": {
     "end_time": "2019-07-29T04:16:51.743292Z",
     "start_time": "2019-07-29T04:16:51.735296Z"
    }
   },
   "outputs": [
    {
     "data": {
      "text/plain": [
       "<re.Match object; span=(1, 3), match='ac'>"
      ]
     },
     "execution_count": 48,
     "metadata": {},
     "output_type": "execute_result"
    }
   ],
   "source": [
    "r = re.compile('a?c')\n",
    "\n",
    "r.search('aac')"
   ]
  },
  {
   "cell_type": "code",
   "execution_count": 50,
   "metadata": {
    "ExecuteTime": {
     "end_time": "2019-07-29T04:37:27.949867Z",
     "start_time": "2019-07-29T04:37:27.936872Z"
    }
   },
   "outputs": [
    {
     "data": {
      "text/plain": [
       "'    John PROG     James STUD     Mac STUD'"
      ]
     },
     "execution_count": 50,
     "metadata": {},
     "output_type": "execute_result"
    }
   ],
   "source": [
    "text = '''100 John PROG 101 James STUD 102 Mac STUD'''\n",
    "\n",
    "re.sub(\"[^a-zA-Z]\", \" \", text)"
   ]
  },
  {
   "cell_type": "code",
   "execution_count": 86,
   "metadata": {
    "ExecuteTime": {
     "end_time": "2019-07-29T04:46:17.328454Z",
     "start_time": "2019-07-29T04:46:17.317460Z"
    }
   },
   "outputs": [
    {
     "data": {
      "text/plain": [
       "'100  PROG 101  STUD 102  STUD'"
      ]
     },
     "execution_count": 86,
     "metadata": {},
     "output_type": "execute_result"
    }
   ],
   "source": [
    "text = '''100 John PROG 101 James STUD 102 Mac STUD'''\n",
    "\n",
    "re.findall(\"[A-Z][a-z]+\", text)\n",
    "re.sub(\"[A-Z][a-z]+\", \"\", text)"
   ]
  },
  {
   "cell_type": "code",
   "execution_count": 95,
   "metadata": {
    "ExecuteTime": {
     "end_time": "2019-07-29T04:49:58.789140Z",
     "start_time": "2019-07-29T04:49:58.778145Z"
    }
   },
   "outputs": [
    {
     "data": {
      "text/plain": [
       "['John', 'James', 'Mac']"
      ]
     },
     "execution_count": 95,
     "metadata": {},
     "output_type": "execute_result"
    }
   ],
   "source": [
    "text = '''100 John PROG 101 James STUD 102 Mac STUD'''\n",
    "\n",
    "re.findall(r\"\\b[A-Z]{1}[a-z]+\\b\", text)"
   ]
  },
  {
   "cell_type": "code",
   "execution_count": 96,
   "metadata": {
    "ExecuteTime": {
     "end_time": "2019-07-29T05:04:00.490484Z",
     "start_time": "2019-07-29T05:04:00.466498Z"
    }
   },
   "outputs": [],
   "source": [
    "from nltk.tokenize import RegexpTokenizer"
   ]
  },
  {
   "cell_type": "code",
   "execution_count": 98,
   "metadata": {
    "ExecuteTime": {
     "end_time": "2019-07-29T05:05:38.954001Z",
     "start_time": "2019-07-29T05:05:38.947004Z"
    }
   },
   "outputs": [
    {
     "name": "stdout",
     "output_type": "stream",
     "text": [
      "['Hello', 'world', 'It', 's', 'good', 'to', 'see', 'you', 'Thanks', 'for', 'buying', 'this', 'book', 'I', 'can', 't']\n"
     ]
    }
   ],
   "source": [
    "tokenizer = RegexpTokenizer('[\\w]+')\n",
    "\n",
    "print(tokenizer.tokenize(\"Hello world. It's good to see you. Thanks for buying this book. I can't\"))"
   ]
  },
  {
   "cell_type": "code",
   "execution_count": 100,
   "metadata": {
    "ExecuteTime": {
     "end_time": "2019-07-29T05:06:05.069261Z",
     "start_time": "2019-07-29T05:06:05.058265Z"
    }
   },
   "outputs": [
    {
     "name": "stdout",
     "output_type": "stream",
     "text": [
      "['Hello', 'world.', \"It's\", 'good', 'to', 'see', 'you.', 'Thanks', 'for', 'buying', 'this', 'book.', 'I', \"can't\"]\n"
     ]
    }
   ],
   "source": [
    "tokenizer = RegexpTokenizer('[\\s]+', gaps=True)\n",
    "\n",
    "print(tokenizer.tokenize(\"Hello world. It's good to see you. Thanks for buying this book. I can't\"))"
   ]
  },
  {
   "cell_type": "markdown",
   "metadata": {},
   "source": [
    "# Stemming"
   ]
  },
  {
   "cell_type": "code",
   "execution_count": 101,
   "metadata": {
    "ExecuteTime": {
     "end_time": "2019-07-29T05:12:30.447268Z",
     "start_time": "2019-07-29T05:12:30.440271Z"
    }
   },
   "outputs": [],
   "source": [
    "from nltk.stem import PorterStemmer"
   ]
  },
  {
   "cell_type": "code",
   "execution_count": 102,
   "metadata": {
    "ExecuteTime": {
     "end_time": "2019-07-29T05:12:59.359756Z",
     "start_time": "2019-07-29T05:12:59.352754Z"
    }
   },
   "outputs": [],
   "source": [
    "stemming = PorterStemmer()"
   ]
  },
  {
   "cell_type": "code",
   "execution_count": 103,
   "metadata": {
    "ExecuteTime": {
     "end_time": "2019-07-29T05:13:21.244915Z",
     "start_time": "2019-07-29T05:13:21.232921Z"
    }
   },
   "outputs": [],
   "source": [
    "word = ['formalize', 'allowance', ' electricical']"
   ]
  },
  {
   "cell_type": "code",
   "execution_count": 106,
   "metadata": {
    "ExecuteTime": {
     "end_time": "2019-07-29T05:13:42.424816Z",
     "start_time": "2019-07-29T05:13:42.417819Z"
    }
   },
   "outputs": [
    {
     "name": "stdout",
     "output_type": "stream",
     "text": [
      "formal\n",
      "allow\n",
      " electric\n"
     ]
    }
   ],
   "source": [
    "for _ in word:\n",
    "    print(stemming.stem(_))"
   ]
  },
  {
   "cell_type": "markdown",
   "metadata": {},
   "source": [
    "# Stopwords"
   ]
  },
  {
   "cell_type": "code",
   "execution_count": 108,
   "metadata": {
    "ExecuteTime": {
     "end_time": "2019-07-29T05:16:37.427290Z",
     "start_time": "2019-07-29T05:16:37.421297Z"
    }
   },
   "outputs": [],
   "source": [
    "from nltk.corpus import stopwords"
   ]
  },
  {
   "cell_type": "code",
   "execution_count": 113,
   "metadata": {
    "ExecuteTime": {
     "end_time": "2019-07-29T05:17:02.739005Z",
     "start_time": "2019-07-29T05:17:02.731010Z"
    }
   },
   "outputs": [
    {
     "name": "stdout",
     "output_type": "stream",
     "text": [
      "Stopwords Corpus\n",
      "\n",
      "This corpus contains lists of stop words for several languages.  These\n",
      "are high-frequency grammatical words which are usually ignored in text\n",
      "retrieval applications.\n",
      "\n",
      "They were obtained from:\n",
      "http://anoncvs.postgresql.org/cvsweb.cgi/pgsql/src/backend/snowball/stopwords/\n",
      "\n",
      "The stop words for the Romanian language were obtained from:\n",
      "http://arlc.ro/resources/\n",
      "\n",
      "The English list has been augmented\n",
      "https://github.com/nltk/nltk_data/issues/22\n",
      "\n",
      "The German list has been corrected\n",
      "https://github.com/nltk/nltk_data/pull/49\n",
      "\n",
      "A Kazakh list has been added\n",
      "https://github.com/nltk/nltk_data/pull/52\n",
      "\n",
      "A Nepali list has been added\n",
      "https://github.com/nltk/nltk_data/pull/83\n",
      "\n",
      "An Azerbaijani list has been added\n",
      "https://github.com/nltk/nltk_data/pull/100\n",
      "\n",
      "A Greek list has been added\n",
      "https://github.com/nltk/nltk_data/pull/103\n",
      "\n",
      "An Indonesian list has been added\n",
      "https://github.com/nltk/nltk_data/pull/112\n",
      "\n"
     ]
    }
   ],
   "source": [
    "print(stopwords.readme())"
   ]
  },
  {
   "cell_type": "code",
   "execution_count": 118,
   "metadata": {
    "ExecuteTime": {
     "end_time": "2019-07-29T05:18:55.158220Z",
     "start_time": "2019-07-29T05:18:55.151221Z"
    }
   },
   "outputs": [],
   "source": [
    "stopwords = stopwords.words('english')"
   ]
  },
  {
   "cell_type": "code",
   "execution_count": 127,
   "metadata": {
    "ExecuteTime": {
     "end_time": "2019-07-29T05:23:46.201800Z",
     "start_time": "2019-07-29T05:23:46.193803Z"
    }
   },
   "outputs": [
    {
     "name": "stdout",
     "output_type": "stream",
     "text": [
      "['Family', 'important', 'thing', ',', 'It', \"'\", 'everything']\n"
     ]
    }
   ],
   "source": [
    "example = \"\"\"Family is not an important thing, It's everything\"\"\"\n",
    "\n",
    "result = list()\n",
    "for word in WordPunctTokenizer().tokenize(example):\n",
    "    if word not in stopwords:\n",
    "        result.append(word)\n",
    "print(result)"
   ]
  },
  {
   "cell_type": "markdown",
   "metadata": {},
   "source": [
    "# Word Cloud "
   ]
  },
  {
   "cell_type": "code",
   "execution_count": 135,
   "metadata": {
    "ExecuteTime": {
     "end_time": "2019-07-29T05:40:05.715066Z",
     "start_time": "2019-07-29T05:40:05.710068Z"
    }
   },
   "outputs": [],
   "source": [
    "from wordcloud import WordCloud\n",
    "from matplotlib import pyplot as plt"
   ]
  },
  {
   "cell_type": "code",
   "execution_count": 129,
   "metadata": {
    "ExecuteTime": {
     "end_time": "2019-07-29T05:36:04.706245Z",
     "start_time": "2019-07-29T05:36:04.699249Z"
    }
   },
   "outputs": [],
   "source": [
    "text = \"\"\"From the day we arrive on the planet\n",
    "And blinking, step into the sun\n",
    "There's more to see than can ever be seen\n",
    "More to do than can ever be done\n",
    "There's far too much to take in here\n",
    "More to find than can ever be found\n",
    "But the sun rolling high\n",
    "Through the sapphire sky\n",
    "Keeps great and small on the endless round\n",
    "It's the circle of life\n",
    "And it moves us all\n",
    "Through despair and hope\n",
    "Through faith and love\n",
    "Till we find our place\n",
    "On the path unwinding\n",
    "In the circle\n",
    "The circle of life\n",
    "It's the circle of life\n",
    "And it moves us all\n",
    "Through despair and hope\n",
    "Through faith and love\n",
    "Till we find our place\n",
    "On the path unwinding\n",
    "In the circle\n",
    "The circle of life\"\"\""
   ]
  },
  {
   "cell_type": "code",
   "execution_count": 171,
   "metadata": {
    "ExecuteTime": {
     "end_time": "2019-07-29T05:57:18.824415Z",
     "start_time": "2019-07-29T05:57:18.386664Z"
    }
   },
   "outputs": [
    {
     "ename": "AttributeError",
     "evalue": "'dict' object has no attribute 'sort'",
     "output_type": "error",
     "traceback": [
      "\u001b[1;31m---------------------------------------------------------------------------\u001b[0m",
      "\u001b[1;31mAttributeError\u001b[0m                            Traceback (most recent call last)",
      "\u001b[1;32m<ipython-input-171-271ce2f92949>\u001b[0m in \u001b[0;36m<module>\u001b[1;34m\u001b[0m\n\u001b[0;32m      1\u001b[0m \u001b[0mwordcloud\u001b[0m \u001b[1;33m=\u001b[0m \u001b[0mWordCloud\u001b[0m\u001b[1;33m(\u001b[0m\u001b[1;33m)\u001b[0m\u001b[1;33m.\u001b[0m\u001b[0mgenerate\u001b[0m\u001b[1;33m(\u001b[0m\u001b[0mtext\u001b[0m\u001b[1;33m)\u001b[0m\u001b[1;33m\u001b[0m\u001b[1;33m\u001b[0m\u001b[0m\n\u001b[1;32m----> 2\u001b[1;33m \u001b[0mwordcloud\u001b[0m\u001b[1;33m.\u001b[0m\u001b[0mwords_\u001b[0m\u001b[1;33m.\u001b[0m\u001b[0msort\u001b[0m\u001b[1;33m(\u001b[0m\u001b[0mkeys\u001b[0m\u001b[1;33m=\u001b[0m\u001b[1;32mlambda\u001b[0m \u001b[0mx\u001b[0m\u001b[1;33m:\u001b[0m\u001b[0mx\u001b[0m\u001b[1;33m.\u001b[0m\u001b[0mvalues\u001b[0m\u001b[1;33m(\u001b[0m\u001b[1;33m)\u001b[0m\u001b[1;33m)\u001b[0m\u001b[1;33m\u001b[0m\u001b[1;33m\u001b[0m\u001b[0m\n\u001b[0m",
      "\u001b[1;31mAttributeError\u001b[0m: 'dict' object has no attribute 'sort'"
     ]
    }
   ],
   "source": [
    "wordcloud = WordCloud().generate(text)\n",
    "wordcloud.words_"
   ]
  },
  {
   "cell_type": "code",
   "execution_count": 181,
   "metadata": {
    "ExecuteTime": {
     "end_time": "2019-07-29T05:58:51.292591Z",
     "start_time": "2019-07-29T05:58:51.283595Z"
    }
   },
   "outputs": [
    {
     "data": {
      "text/plain": [
       "dict_values([1.0, 0.6666666666666666, 0.5, 0.3333333333333333, 0.3333333333333333, 0.3333333333333333, 0.3333333333333333, 0.3333333333333333, 0.3333333333333333, 0.3333333333333333, 0.3333333333333333, 0.3333333333333333, 0.3333333333333333, 0.3333333333333333, 0.16666666666666666, 0.16666666666666666, 0.16666666666666666, 0.16666666666666666, 0.16666666666666666, 0.16666666666666666, 0.16666666666666666, 0.16666666666666666, 0.16666666666666666, 0.16666666666666666, 0.16666666666666666, 0.16666666666666666, 0.16666666666666666, 0.16666666666666666, 0.16666666666666666, 0.16666666666666666, 0.16666666666666666, 0.16666666666666666, 0.16666666666666666, 0.16666666666666666, 0.16666666666666666])"
      ]
     },
     "execution_count": 181,
     "metadata": {},
     "output_type": "execute_result"
    }
   ],
   "source": [
    "wordcloud.words_.values()"
   ]
  },
  {
   "cell_type": "code",
   "execution_count": 165,
   "metadata": {
    "ExecuteTime": {
     "end_time": "2019-07-29T05:54:01.272254Z",
     "start_time": "2019-07-29T05:53:59.138463Z"
    }
   },
   "outputs": [
    {
     "data": {
      "image/png": "[encoded data removed]",
      "text/plain": [
       "<Figure size 864x864 with 1 Axes>"
      ]
     },
     "metadata": {
      "needs_background": "light"
     },
     "output_type": "display_data"
    }
   ],
   "source": [
    "wordcloud = WordCloud().generate(' '.join(set(stopwords)))\n",
    "\n",
    "plt.figure(figsize=(12,12))\n",
    "plt.imshow(wordcloud, interpolation='bilinear');"
   ]
  },
  {
   "cell_type": "markdown",
   "metadata": {},
   "source": [
    "# 형태소 분석\n",
    "- 의미를 가지는 최소 단위"
   ]
  },
  {
   "cell_type": "markdown",
   "metadata": {},
   "source": [
    "## kkma "
   ]
  },
  {
   "cell_type": "code",
   "execution_count": 182,
   "metadata": {
    "ExecuteTime": {
     "end_time": "2019-07-29T06:19:41.097894Z",
     "start_time": "2019-07-29T06:19:40.736099Z"
    }
   },
   "outputs": [],
   "source": [
    "import konlpy"
   ]
  },
  {
   "cell_type": "code",
   "execution_count": 183,
   "metadata": {
    "ExecuteTime": {
     "end_time": "2019-07-29T06:19:48.138871Z",
     "start_time": "2019-07-29T06:19:48.117882Z"
    }
   },
   "outputs": [
    {
     "data": {
      "text/plain": [
       "['__author__',\n",
       " '__builtins__',\n",
       " '__cached__',\n",
       " '__copyright__',\n",
       " '__doc__',\n",
       " '__email__',\n",
       " '__file__',\n",
       " '__license__',\n",
       " '__loader__',\n",
       " '__name__',\n",
       " '__package__',\n",
       " '__path__',\n",
       " '__spec__',\n",
       " '__summary__',\n",
       " '__title__',\n",
       " '__url__',\n",
       " '__version__',\n",
       " 'about',\n",
       " 'absolute_import',\n",
       " 'corpus',\n",
       " 'data',\n",
       " 'download',\n",
       " 'downloader',\n",
       " 'init_jvm',\n",
       " 'internals',\n",
       " 'jvm',\n",
       " 'tag',\n",
       " 'utils']"
      ]
     },
     "execution_count": 183,
     "metadata": {},
     "output_type": "execute_result"
    }
   ],
   "source": [
    "dir(konlpy)"
   ]
  },
  {
   "cell_type": "code",
   "execution_count": 195,
   "metadata": {
    "ExecuteTime": {
     "end_time": "2019-07-29T06:27:35.050659Z",
     "start_time": "2019-07-29T06:27:35.045661Z"
    }
   },
   "outputs": [],
   "source": [
    "from konlpy.tag import Kkma\n",
    "from konlpy.utils import pprint"
   ]
  },
  {
   "cell_type": "code",
   "execution_count": 197,
   "metadata": {
    "ExecuteTime": {
     "end_time": "2019-07-29T06:28:46.518833Z",
     "start_time": "2019-07-29T06:28:29.378622Z"
    }
   },
   "outputs": [
    {
     "name": "stdout",
     "output_type": "stream",
     "text": [
      "['네 안녕하세요', '반갑습니다.']\n"
     ]
    }
   ],
   "source": [
    "kkma = Kkma()\n",
    "\n",
    "pprint(kkma.sentences(u'네 안녕하세요 반갑습니다.')) # 문장별 분류가 가능하다."
   ]
  },
  {
   "cell_type": "code",
   "execution_count": 198,
   "metadata": {
    "ExecuteTime": {
     "end_time": "2019-07-29T06:29:32.297376Z",
     "start_time": "2019-07-29T06:29:32.173447Z"
    }
   },
   "outputs": [
    {
     "name": "stdout",
     "output_type": "stream",
     "text": [
      "[('하늘', 'NNG'),\n",
      " ('을', 'JKO'),\n",
      " ('날', 'VV'),\n",
      " ('는', 'ETD'),\n",
      " ('자동차', 'NNG'),\n",
      " ('.', 'SF')]\n"
     ]
    }
   ],
   "source": [
    "pprint(kkma.pos(u'하늘을 나는 자동차.')) # 품사"
   ]
  },
  {
   "cell_type": "markdown",
   "metadata": {},
   "source": [
    "[꼬꼬마 품사 정보](http://kkma.snu.ac.kr/documents/index.jsp?doc=postag)"
   ]
  },
  {
   "cell_type": "markdown",
   "metadata": {},
   "source": [
    "## Hannanum "
   ]
  },
  {
   "cell_type": "code",
   "execution_count": 199,
   "metadata": {
    "ExecuteTime": {
     "end_time": "2019-07-29T06:32:19.825676Z",
     "start_time": "2019-07-29T06:32:19.818678Z"
    }
   },
   "outputs": [],
   "source": [
    "from konlpy.tag import Hannanum"
   ]
  },
  {
   "cell_type": "code",
   "execution_count": 200,
   "metadata": {
    "ExecuteTime": {
     "end_time": "2019-07-29T06:32:29.363226Z",
     "start_time": "2019-07-29T06:32:29.336241Z"
    }
   },
   "outputs": [],
   "source": [
    "han = Hannanum()"
   ]
  },
  {
   "cell_type": "code",
   "execution_count": 201,
   "metadata": {
    "ExecuteTime": {
     "end_time": "2019-07-29T06:32:57.728023Z",
     "start_time": "2019-07-29T06:32:54.665771Z"
    }
   },
   "outputs": [
    {
     "name": "stdout",
     "output_type": "stream",
     "text": [
      "[[[('아버지', 'ncn'), ('가', 'jcc')], [('아버지', 'ncn'), ('가', 'jcs')]],\n",
      " [[('방', 'nbu'), ('에', 'jca')], [('방', 'ncn'), ('에', 'jca')]],\n",
      " [[('들', 'pvg'), ('어', 'ecx'), ('가', 'px'), ('시', 'ep'), ('ㄴ다', 'ef')],\n",
      "  [('듣', 'pvg'), ('어', 'ecx'), ('가', 'px'), ('시', 'ep'), ('ㄴ다', 'ef')],\n",
      "  [('들어가', 'pvg'), ('시', 'ep'), ('ㄴ다', 'ef')]],\n",
      " [[('.', 'sf')], [('.', 'sy')]],\n",
      " [],\n",
      " [[('안녕', 'ncps'), ('하세', 'ncpa'), ('요', 'ncn')],\n",
      "  [('안녕', 'ncps'), ('하', 'xsms'), ('세요', 'ef')],\n",
      "  [('안녕', 'ncps'), ('하', 'xsms'), ('세', 'ef'), ('요', 'jxf')]],\n",
      " [[('.', 'sf')], [('.', 'sy')]],\n",
      " [],\n",
      " [[('하늘', 'ncn'), ('을', 'jco')]],\n",
      " [[('나', 'ncn'), ('는', 'jxc')],\n",
      "  [('나', 'npp'), ('는', 'jxc')],\n",
      "  [('나', 'pvg'), ('는', 'etm')],\n",
      "  [('나', 'px'), ('는', 'etm')],\n",
      "  [('나', 'pvg'), ('아', 'ecs'), ('는', 'jxc')],\n",
      "  [('나', 'pvg'), ('아', 'ef'), ('는', 'etm')],\n",
      "  [('나', 'px'), ('아', 'ecs'), ('는', 'jxc')],\n",
      "  [('나', 'px'), ('아', 'ef'), ('는', 'etm')],\n",
      "  [('날', 'pvg'), ('는', 'etm')]],\n",
      " [[('자동차', 'ncn')], [('자동', 'ncn'), ('차', 'ncn')]]]\n"
     ]
    }
   ],
   "source": [
    "pprint(han.analyze(u'아버지가 방에 들어가신다. 안녕하세요. 하늘을 나는 자동차'))\n",
    "## 여러가지 형태학적 해석법을 보여준다."
   ]
  },
  {
   "cell_type": "code",
   "execution_count": 203,
   "metadata": {
    "ExecuteTime": {
     "end_time": "2019-07-29T06:34:22.268729Z",
     "start_time": "2019-07-29T06:34:22.245741Z"
    }
   },
   "outputs": [
    {
     "name": "stdout",
     "output_type": "stream",
     "text": [
      "['아버지',\n",
      " '가',\n",
      " '방',\n",
      " '에',\n",
      " '들',\n",
      " '어',\n",
      " '가',\n",
      " '시ㄴ다',\n",
      " '.',\n",
      " '안녕',\n",
      " '하',\n",
      " '세',\n",
      " '요',\n",
      " '.',\n",
      " '하늘',\n",
      " '을',\n",
      " '나',\n",
      " '는',\n",
      " '자동차']\n"
     ]
    }
   ],
   "source": [
    "pprint(han.morphs(u'아버지가 방에 들어가신다. 안녕하세요. 하늘을 나는 자동차'))\n",
    "## 형태학적 해석"
   ]
  },
  {
   "cell_type": "code",
   "execution_count": 204,
   "metadata": {
    "ExecuteTime": {
     "end_time": "2019-07-29T06:35:18.619541Z",
     "start_time": "2019-07-29T06:35:18.599548Z"
    }
   },
   "outputs": [
    {
     "name": "stdout",
     "output_type": "stream",
     "text": [
      "['아버지', '방', '안녕', '하늘', '나', '자동차']\n"
     ]
    }
   ],
   "source": [
    "pprint(han.nouns(u'아버지가 방에 들어가신다. 안녕하세요. 하늘을 나는 자동차'))\n",
    "## 명사가 뭐가 잇냐"
   ]
  },
  {
   "cell_type": "code",
   "execution_count": 205,
   "metadata": {
    "ExecuteTime": {
     "end_time": "2019-07-29T06:35:54.258178Z",
     "start_time": "2019-07-29T06:35:54.232199Z"
    }
   },
   "outputs": [
    {
     "name": "stdout",
     "output_type": "stream",
     "text": [
      "[('아버지', 'N'),\n",
      " ('가', 'J'),\n",
      " ('방', 'N'),\n",
      " ('에', 'J'),\n",
      " ('들', 'P'),\n",
      " ('어', 'E'),\n",
      " ('가', 'P'),\n",
      " ('시ㄴ다', 'E'),\n",
      " ('.', 'S'),\n",
      " ('안녕', 'N'),\n",
      " ('하', 'X'),\n",
      " ('세', 'E'),\n",
      " ('요', 'J'),\n",
      " ('.', 'S'),\n",
      " ('하늘', 'N'),\n",
      " ('을', 'J'),\n",
      " ('나', 'N'),\n",
      " ('는', 'J'),\n",
      " ('자동차', 'N')]\n"
     ]
    }
   ],
   "source": [
    "pprint(han.pos(u'아버지가 방에 들어가신다. 안녕하세요. 하늘을 나는 자동차'))\n",
    "## 품사 태깅"
   ]
  },
  {
   "cell_type": "code",
   "execution_count": 206,
   "metadata": {
    "ExecuteTime": {
     "end_time": "2019-07-29T06:36:17.122118Z",
     "start_time": "2019-07-29T06:36:17.114122Z"
    }
   },
   "outputs": [],
   "source": [
    "from konlpy.tag import Komoran"
   ]
  },
  {
   "cell_type": "code",
   "execution_count": 207,
   "metadata": {
    "ExecuteTime": {
     "end_time": "2019-07-29T06:36:29.097275Z",
     "start_time": "2019-07-29T06:36:22.475059Z"
    }
   },
   "outputs": [],
   "source": [
    "ko = Komoran()\n",
    "# pos. morph, nouns"
   ]
  },
  {
   "cell_type": "code",
   "execution_count": 209,
   "metadata": {
    "ExecuteTime": {
     "end_time": "2019-07-29T06:38:53.341954Z",
     "start_time": "2019-07-29T06:38:53.322962Z"
    }
   },
   "outputs": [
    {
     "name": "stdout",
     "output_type": "stream",
     "text": [
      "['아버지', '방', '안녕하세요', '하늘', '자동차']\n"
     ]
    }
   ],
   "source": [
    "pprint(ko.nouns(u'아버지가 방에 들어가신다. 안녕하세요. 하늘을 나는 자동차'))"
   ]
  },
  {
   "cell_type": "code",
   "execution_count": 210,
   "metadata": {
    "ExecuteTime": {
     "end_time": "2019-07-29T06:39:31.526139Z",
     "start_time": "2019-07-29T06:39:31.519142Z"
    }
   },
   "outputs": [],
   "source": [
    "from konlpy.tag import Twitter"
   ]
  },
  {
   "cell_type": "code",
   "execution_count": 211,
   "metadata": {
    "ExecuteTime": {
     "end_time": "2019-07-29T06:39:44.377796Z",
     "start_time": "2019-07-29T06:39:44.358809Z"
    }
   },
   "outputs": [
    {
     "name": "stderr",
     "output_type": "stream",
     "text": [
      "C:\\Users\\skarn\\Anaconda3\\envs\\DataAnalysis\\lib\\site-packages\\konlpy\\tag\\_okt.py:16: UserWarning: \"Twitter\" has changed to \"Okt\" since KoNLPy v0.4.5.\n",
      "  warn('\"Twitter\" has changed to \"Okt\" since KoNLPy v0.4.5.')\n"
     ]
    }
   ],
   "source": [
    "tw = Twitter()"
   ]
  },
  {
   "cell_type": "code",
   "execution_count": 212,
   "metadata": {
    "ExecuteTime": {
     "end_time": "2019-07-29T06:40:11.536282Z",
     "start_time": "2019-07-29T06:40:02.985167Z"
    }
   },
   "outputs": [
    {
     "name": "stdout",
     "output_type": "stream",
     "text": [
      "['아버지', '방', '하늘', '나', '자동차']\n"
     ]
    }
   ],
   "source": [
    "pprint(tw.nouns(u'아버지가 방에 들어가신다. 안녕하세요. 하늘을 나는 자동차'))"
   ]
  },
  {
   "cell_type": "code",
   "execution_count": 214,
   "metadata": {
    "ExecuteTime": {
     "end_time": "2019-07-29T06:41:05.721782Z",
     "start_time": "2019-07-29T06:41:05.663815Z"
    }
   },
   "outputs": [
    {
     "name": "stdout",
     "output_type": "stream",
     "text": [
      "[('아버지', 'Noun'),\n",
      " ('가', 'Josa'),\n",
      " ('방', 'Noun'),\n",
      " ('에', 'Josa'),\n",
      " ('들어가신다', 'Verb'),\n",
      " ('.', 'Punctuation'),\n",
      " ('안녕하세요', 'Adjective'),\n",
      " ('.', 'Punctuation'),\n",
      " ('하늘', 'Noun'),\n",
      " ('을', 'Josa'),\n",
      " ('나', 'Noun'),\n",
      " ('는', 'Josa'),\n",
      " ('자동차', 'Noun')]\n"
     ]
    }
   ],
   "source": [
    "pprint(tw.pos(u'아버지가 방에 들어가신다. 안녕하세요. 하늘을 나는 자동차'))"
   ]
  },
  {
   "cell_type": "markdown",
   "metadata": {},
   "source": [
    "# 한국어 영화 리뷰 분석"
   ]
  },
  {
   "cell_type": "code",
   "execution_count": null,
   "metadata": {},
   "outputs": [],
   "source": []
  },
  {
   "cell_type": "code",
   "execution_count": null,
   "metadata": {},
   "outputs": [],
   "source": []
  }
 ],
 "metadata": {
  "kernelspec": {
   "display_name": "Python 3",
   "language": "python",
   "name": "python3"
  },
  "language_info": {
   "codemirror_mode": {
    "name": "ipython",
    "version": 3
   },
   "file_extension": ".py",
   "mimetype": "text/x-python",
   "name": "python",
   "nbconvert_exporter": "python",
   "pygments_lexer": "ipython3",
   "version": "3.7.3"
  },
  "toc": {
   "base_numbering": 1,
   "nav_menu": {},
   "number_sections": true,
   "sideBar": true,
   "skip_h1_title": false,
   "title_cell": "Table of Contents",
   "title_sidebar": "Contents",
   "toc_cell": false,
   "toc_position": {},
   "toc_section_display": true,
   "toc_window_display": false
  }
 },
 "nbformat": 4,
 "nbformat_minor": 2
}

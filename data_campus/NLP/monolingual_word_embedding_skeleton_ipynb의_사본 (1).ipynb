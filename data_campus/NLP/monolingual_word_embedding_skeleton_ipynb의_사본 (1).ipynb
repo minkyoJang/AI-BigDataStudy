{
  "nbformat": 4,
  "nbformat_minor": 0,
  "metadata": {
    "colab": {
      "name": "monolingual_word_embedding_skeleton.ipynb의 사본",
      "version": "0.3.2",
      "provenance": [],
      "collapsed_sections": [],
      "toc_visible": true
    },
    "kernelspec": {
      "name": "python3",
      "display_name": "Python 3"
    }
  },
  "cells": [
    {
      "cell_type": "markdown",
      "metadata": {
        "id": "HL5eq6P1-COr",
        "colab_type": "text"
      },
      "source": [
        "# **Github project download**"
      ]
    },
    {
      "cell_type": "code",
      "metadata": {
        "id": "2VuYe71yq__Z",
        "colab_type": "code",
        "outputId": "beead36a-d6bf-432d-a4bd-7e8499925a47",
        "colab": {
          "base_uri": "https://localhost:8080/",
          "height": 122
        }
      },
      "source": [
        "## 사본만들어야 수정 가능\n",
        "## 전처리는 되어있으나 형태소 분석 x o\n",
        "## 어제 배운거로 형태소 분석 해보면 됨\n",
        "import os.path\n",
        "\n",
        "if os.path.isdir('./korean_word_embedding_tutorial') == 'True':  \n",
        "  !rm -r ./korean_word_embedding_tutorial\n",
        "  !git clone https://github.com/sseol11/korean_word_embedding_tutorial\n",
        "else: \n",
        "  !git clone https://github.com/sseol11/korean_word_embedding_tutorial"
      ],
      "execution_count": 1,
      "outputs": [
        {
          "output_type": "stream",
          "text": [
            "Cloning into 'korean_word_embedding_tutorial'...\n",
            "remote: Enumerating objects: 41, done.\u001b[K\n",
            "remote: Counting objects: 100% (41/41), done.\u001b[K\n",
            "remote: Compressing objects: 100% (38/38), done.\u001b[K\n",
            "remote: Total 41 (delta 10), reused 0 (delta 0), pack-reused 0\u001b[K\n",
            "Unpacking objects: 100% (41/41), done.\n"
          ],
          "name": "stdout"
        }
      ]
    },
    {
      "cell_type": "code",
      "metadata": {
        "id": "QKmxPsx_rhd_",
        "colab_type": "code",
        "colab": {}
      },
      "source": [
        "!mkdir korean_word_embedding_tutorial/training_data"
      ],
      "execution_count": 0,
      "outputs": []
    },
    {
      "cell_type": "code",
      "metadata": {
        "id": "UPMhp4rrJCIV",
        "colab_type": "code",
        "colab": {}
      },
      "source": [
        "!rm korean_word_embedding_tutorial/training_data"
      ],
      "execution_count": 0,
      "outputs": []
    },
    {
      "cell_type": "markdown",
      "metadata": {
        "id": "cybogIcb-MuL",
        "colab_type": "text"
      },
      "source": [
        "# **Training data download**"
      ]
    },
    {
      "cell_type": "code",
      "metadata": {
        "id": "qEMBwpqR187a",
        "colab_type": "code",
        "outputId": "58518d60-be6c-44ef-a98e-562fc274bdae",
        "colab": {
          "base_uri": "https://localhost:8080/",
          "height": 389
        }
      },
      "source": [
        "#!wget --no-check-certificate -r 'https://drive.google.com/uc?export=download&id=1SaIMXjnsCHakT7sDo2ATaUUZb1k9x3No' -O pos_remove_wiki_ko.txt\n",
        "## 구글드라이브는 위에 html코드가 붙어서 전처리 작업이 필요하다\n",
        "!wget \"https://www.dropbox.com/s/ozcb1b0mwlp4g2h/pos_remove_wiki_ko_1000k.txt?dl=0\" -O pos_remove_wiki_ko.txt\n",
        "!mv pos_remove_wiki_ko.txt ./korean_word_embedding_tutorial/training_data\n",
        "\n",
        "## 형태소 분석까지 다 된거 받음"
      ],
      "execution_count": 12,
      "outputs": [
        {
          "output_type": "stream",
          "text": [
            "--2019-07-30 04:30:10--  https://www.dropbox.com/s/ozcb1b0mwlp4g2h/pos_remove_wiki_ko_1000k.txt?dl=0\n",
            "Resolving www.dropbox.com (www.dropbox.com)... 162.125.1.1, 2620:100:6016:1::a27d:101\n",
            "Connecting to www.dropbox.com (www.dropbox.com)|162.125.1.1|:443... connected.\n",
            "HTTP request sent, awaiting response... 301 Moved Permanently\n",
            "Location: /s/raw/ozcb1b0mwlp4g2h/pos_remove_wiki_ko_1000k.txt [following]\n",
            "--2019-07-30 04:30:10--  https://www.dropbox.com/s/raw/ozcb1b0mwlp4g2h/pos_remove_wiki_ko_1000k.txt\n",
            "Reusing existing connection to www.dropbox.com:443.\n",
            "HTTP request sent, awaiting response... 302 Found\n",
            "Location: https://uca2400c3f55e1d3308800110e18.dl.dropboxusercontent.com/cd/0/inline/AlpLOFPNmGMEw1YZfMCBf_Zc0yguQoaf9iQ6fwBmw44IiZVJOIeUNZPvJw1_pJmfsZZTNFiKbpzWFe5aLpHKwPQi_-TLcL1ShxPcH0qZyJvRVQ/file# [following]\n",
            "--2019-07-30 04:30:10--  https://uca2400c3f55e1d3308800110e18.dl.dropboxusercontent.com/cd/0/inline/AlpLOFPNmGMEw1YZfMCBf_Zc0yguQoaf9iQ6fwBmw44IiZVJOIeUNZPvJw1_pJmfsZZTNFiKbpzWFe5aLpHKwPQi_-TLcL1ShxPcH0qZyJvRVQ/file\n",
            "Resolving uca2400c3f55e1d3308800110e18.dl.dropboxusercontent.com (uca2400c3f55e1d3308800110e18.dl.dropboxusercontent.com)... 162.125.1.6, 2620:100:6016:6::a27d:106\n",
            "Connecting to uca2400c3f55e1d3308800110e18.dl.dropboxusercontent.com (uca2400c3f55e1d3308800110e18.dl.dropboxusercontent.com)|162.125.1.6|:443... connected.\n",
            "HTTP request sent, awaiting response... 200 OK\n",
            "Length: 160376859 (153M) [text/plain]\n",
            "Saving to: ‘pos_remove_wiki_ko.txt’\n",
            "\n",
            "pos_remove_wiki_ko. 100%[===================>] 152.95M  48.6MB/s    in 3.1s    \n",
            "\n",
            "2019-07-30 04:30:14 (48.6 MB/s) - ‘pos_remove_wiki_ko.txt’ saved [160376859/160376859]\n",
            "\n"
          ],
          "name": "stdout"
        }
      ]
    },
    {
      "cell_type": "code",
      "metadata": {
        "id": "Yn7E1fuCL5S_",
        "colab_type": "code",
        "outputId": "f1c3072a-759d-4e47-b56e-2622939da9dd",
        "colab": {
          "base_uri": "https://localhost:8080/",
          "height": 34
        }
      },
      "source": [
        "!wc -l ./korean_word_embedding_tutorial/training_data/pos_remove_wiki_ko.txt\n",
        "\n",
        "## 라인이 100만줄"
      ],
      "execution_count": 13,
      "outputs": [
        {
          "output_type": "stream",
          "text": [
            "1000000 ./korean_word_embedding_tutorial/training_data/pos_remove_wiki_ko.txt\n"
          ],
          "name": "stdout"
        }
      ]
    },
    {
      "cell_type": "markdown",
      "metadata": {
        "id": "tSjoYzIjiJHm",
        "colab_type": "text"
      },
      "source": [
        "# Environment check"
      ]
    },
    {
      "cell_type": "code",
      "metadata": {
        "id": "6-qjHvyvM2hq",
        "colab_type": "code",
        "outputId": "12cda6a4-04c9-44e5-fecb-0d63e3ef51b0",
        "colab": {
          "base_uri": "https://localhost:8080/",
          "height": 34
        }
      },
      "source": [
        "#no.of cores each processor is having \n",
        "!lscpu | grep 'Core(s) per socket:'"
      ],
      "execution_count": 15,
      "outputs": [
        {
          "output_type": "stream",
          "text": [
            "Core(s) per socket:  1\n"
          ],
          "name": "stdout"
        }
      ]
    },
    {
      "cell_type": "code",
      "metadata": {
        "id": "GYuh70blM3ZT",
        "colab_type": "code",
        "outputId": "bb960115-bcae-4179-aad8-5e9160bcb8da",
        "colab": {
          "base_uri": "https://localhost:8080/",
          "height": 34
        }
      },
      "source": [
        "#no.of threads each core is having\n",
        "!lscpu | grep 'Thread(s) per core'"
      ],
      "execution_count": 16,
      "outputs": [
        {
          "output_type": "stream",
          "text": [
            "Thread(s) per core:  2\n"
          ],
          "name": "stdout"
        }
      ]
    },
    {
      "cell_type": "markdown",
      "metadata": {
        "id": "jv0jWNMRF2Tg",
        "colab_type": "text"
      },
      "source": [
        "# **1. Training**"
      ]
    },
    {
      "cell_type": "code",
      "metadata": {
        "id": "BwokUjrGF9tZ",
        "colab_type": "code",
        "colab": {}
      },
      "source": [
        "from gensim.models import word2vec\n",
        "import logging\n",
        "## 진심 cpu"
      ],
      "execution_count": 0,
      "outputs": []
    },
    {
      "cell_type": "code",
      "metadata": {
        "id": "AfTZzu8sGCRQ",
        "colab_type": "code",
        "colab": {}
      },
      "source": [
        "def main():\n",
        "    # import modules & set up logging\n",
        "    logging.basicConfig(format='%(asctime)s : %(levelname)s : %(message)s', level=logging.INFO)\n",
        "\n",
        "    # read sentences, Iterate over a file that contains sentences\n",
        "    sentences = word2vec.LineSentence('./korean_word_embedding_tutorial/training_data/pos_remove_wiki_ko.txt')\n",
        "    \n",
        "    # train word2vec, sg=1 : skip-gram // workers : parallelization\n",
        "    model = word2vec.Word2Vec(sentences, window=5, sg=1, size=300, workers=2)\n",
        "    \n",
        "    # model save\n",
        "    model.save(\"./korean_word_embedding_tutorial/wiki_ko_model\")\n",
        "\n",
        "\n"
      ],
      "execution_count": 0,
      "outputs": []
    },
    {
      "cell_type": "code",
      "metadata": {
        "id": "R9qsK0J2G6uR",
        "colab_type": "code",
        "colab": {}
      },
      "source": [
        "def model_example():\n",
        "    try:\n",
        "      model = word2vec.Word2Vec.load(\"./korean_word_embedding_tutorial/wiki_ko_model\")\n",
        "      vector = model.wv['서울']\n",
        "      \n",
        "  "
      ],
      "execution_count": 0,
      "outputs": []
    },
    {
      "cell_type": "code",
      "metadata": {
        "id": "UTCymYWrG2oV",
        "colab_type": "code",
        "outputId": "3b89bfdb-fec7-4935-ab26-28976ea74636",
        "colab": {
          "base_uri": "https://localhost:8080/",
          "height": 1000
        }
      },
      "source": [
        "if __name__ == \"__main__\":\n",
        "#     main()\n",
        "    model_example()"
      ],
      "execution_count": 0,
      "outputs": [
        {
          "output_type": "stream",
          "text": [
            "2019-07-23 11:11:24,795 : INFO : loading Word2Vec object from ./korean_word_embedding_tutorial/wiki_ko_model\n",
            "/usr/local/lib/python3.6/dist-packages/smart_open/smart_open_lib.py:398: UserWarning: This function is deprecated, use smart_open.open instead. See the migration notes for details: https://github.com/RaRe-Technologies/smart_open/blob/master/README.rst#migrating-to-the-new-open-function\n",
            "  'See the migration notes for details: %s' % _MIGRATION_NOTES_URL\n",
            "2019-07-23 11:11:24,968 : INFO : loading wv recursively from ./korean_word_embedding_tutorial/wiki_ko_model.wv.* with mmap=None\n",
            "2019-07-23 11:11:24,969 : INFO : loading vectors from ./korean_word_embedding_tutorial/wiki_ko_model.wv.vectors.npy with mmap=None\n",
            "2019-07-23 11:11:25,025 : INFO : setting ignored attribute vectors_norm to None\n",
            "2019-07-23 11:11:25,027 : INFO : loading vocabulary recursively from ./korean_word_embedding_tutorial/wiki_ko_model.vocabulary.* with mmap=None\n",
            "2019-07-23 11:11:25,030 : INFO : loading trainables recursively from ./korean_word_embedding_tutorial/wiki_ko_model.trainables.* with mmap=None\n",
            "2019-07-23 11:11:25,031 : INFO : loading syn1neg from ./korean_word_embedding_tutorial/wiki_ko_model.trainables.syn1neg.npy with mmap=None\n",
            "2019-07-23 11:11:25,085 : INFO : setting ignored attribute cum_table to None\n",
            "2019-07-23 11:11:25,087 : INFO : loaded ./korean_word_embedding_tutorial/wiki_ko_model\n",
            "2019-07-23 11:11:25,321 : INFO : precomputing L2-norms of word weight vectors\n"
          ],
          "name": "stderr"
        },
        {
          "output_type": "stream",
          "text": [
            "[-0.0436419  -0.00272098  0.15952387 -0.12709278 -0.36215305 -0.12937452\n",
            " -0.00788638 -0.3024757   0.4005335   0.1362951  -0.5933024  -0.24051645\n",
            "  0.5394995  -0.05003978  0.1466753  -0.13099773 -0.18087788 -0.22854014\n",
            " -0.21572383  0.22114272 -0.10488528  0.2419199  -0.10044701  0.18999946\n",
            "  0.01890885 -0.11689422  0.23773433  0.2595083   0.29768732  0.17430398\n",
            " -0.12152167  0.39052197 -0.15430586 -0.06097116  0.25166193 -0.27860987\n",
            " -0.39833382 -0.14960489  0.4277694  -0.10128743 -0.00962779 -0.16009381\n",
            " -0.60303473  0.02498354 -0.07794014 -0.14737996  0.13690652  0.09237067\n",
            " -0.18528248  0.11766031 -0.42022175  0.14128916 -0.03504664 -0.09542877\n",
            "  0.40465686 -0.30753222 -0.09165081  0.19880551 -0.13833123 -0.11177102\n",
            " -0.13006823 -0.2131871   0.28941348  0.15183322 -0.20012483  0.02913778\n",
            " -0.1147135  -0.1258598   0.12384524 -0.12436089 -0.4716665  -0.01046331\n",
            "  0.12120876 -0.22039479 -0.26493204  0.15567553 -0.29524478 -0.19167957\n",
            "  0.02954567  0.2408801   0.01621098 -0.16112347  0.60708904  0.06183757\n",
            " -0.03047663  0.08894826  0.23182775  0.05936943  0.01896121  0.02935905\n",
            "  0.3204344  -0.2028574  -0.00339168 -0.04683955  0.02941146  0.01848003\n",
            " -0.19854437 -0.25750247  0.26343864 -0.31248677 -0.34244666 -0.27459913\n",
            "  0.1789315  -0.28048372 -0.3559681   0.41043004 -0.31523132 -0.32777613\n",
            "  0.37845534  0.02773661 -0.16021805  0.143382   -0.22290316  0.31694826\n",
            "  0.49765193 -0.16056582 -0.02769698  0.31048423  0.07076873 -0.30186397\n",
            "  0.71800333  0.46640375  0.31838217  0.17937101 -0.6093602  -0.21156904\n",
            " -0.54936004 -0.06221188 -0.08536724  0.19201994 -0.06120755 -0.11923198\n",
            " -0.08853406 -0.00944454 -0.71235156 -0.07187755 -0.09510569 -0.3573697\n",
            "  0.314667    0.49598718  0.0322635  -0.27670828 -0.05856833 -0.07771017\n",
            " -0.2506788  -0.07111812 -0.02146749  0.34890535  0.19327341 -0.49671018\n",
            "  0.30505273  0.36843    -0.06067314 -0.05218032 -0.26659328  0.01389925\n",
            " -0.03637541  0.26196134  0.01081365  0.20550166 -0.10471376  0.10017794\n",
            " -0.04155354  0.05824335 -0.20421576  0.01071811 -0.0042331  -0.08772728\n",
            " -0.1597733   0.02301125 -0.26466793  0.60043114 -0.26949862  0.09312074\n",
            "  0.12959431 -0.50841916 -0.13955174  0.09140533  0.10254276  0.23866521\n",
            " -0.02010649  0.11237161  0.03349896  0.38767067  0.13566136 -0.36926183\n",
            "  0.40328363 -0.11584851 -0.23910247 -0.33671468  0.01539184  0.43378553\n",
            "  0.29221898  0.11948975  0.06303117  0.01258646  0.11891982  0.12358864\n",
            "  0.15681718 -0.14888956 -0.28090248  0.29049638  0.33387032  0.34268084\n",
            "  0.32301787  0.41240394 -0.27123278 -0.01727165 -0.19489904  0.06188803\n",
            "  0.11382746  0.06376859 -0.13880937 -0.1330514  -0.16654053 -0.35013327\n",
            " -0.14552812  0.09124139  0.09815852 -0.09462372  0.52545667  0.1465234\n",
            "  0.44296682 -0.41783613 -0.2926594  -0.01483321 -0.1452947   0.2857271\n",
            " -0.00222658  0.34266382  0.24961737 -0.16704421  0.11994832 -0.13563444\n",
            "  0.47859097 -0.12396667  0.39025763 -0.31620613 -0.05477289  0.39379618\n",
            "  0.24035257 -0.05913379  0.23266695 -0.13398601 -0.3675149   0.09228162\n",
            " -0.06823398  0.3387151   0.14328599 -0.26274413  0.29390538 -0.20068407\n",
            " -0.06010653 -0.00616372 -0.26128477  0.26634893 -0.4282412   0.17333473\n",
            " -0.12980384  0.11758921  0.25284302 -0.59555113  0.34134248  0.02801901\n",
            "  0.29392463  0.03457122 -0.04369352 -0.06032536 -0.29066938  0.03481789\n",
            " -0.08960115 -0.0433016   0.17514439 -0.33230388  0.12674426 -0.36609066\n",
            " -0.07037687 -0.20175725 -0.06874262 -0.628954    0.15854573 -0.05306648\n",
            "  0.28544188 -0.4029085  -0.05071066 -0.00073813  0.2461361   0.15545376\n",
            " -0.49160525  0.09892173  0.17203541  0.18738069 -0.0133107  -0.6280601\n",
            "  0.18878461 -0.29248783 -0.14651297 -0.09397221 -0.37764797  0.3695148 ]\n",
            "[('부산', 0.6953962445259094), ('대구', 0.6665599346160889), ('인천', 0.6561709642410278), ('서울특별시', 0.6229684352874756), ('종로', 0.6104167103767395), ('은평', 0.5937458276748657)]\n"
          ],
          "name": "stdout"
        },
        {
          "output_type": "stream",
          "text": [
            "/usr/local/lib/python3.6/dist-packages/gensim/matutils.py:737: FutureWarning: Conversion of the second argument of issubdtype from `int` to `np.signedinteger` is deprecated. In future, it will be treated as `np.int64 == np.dtype(int).type`.\n",
            "  if np.issubdtype(vec.dtype, np.int):\n"
          ],
          "name": "stderr"
        }
      ]
    },
    {
      "cell_type": "markdown",
      "metadata": {
        "id": "c_vZmwnHHogU",
        "colab_type": "text"
      },
      "source": [
        "# 1.1 Pretrained model (부가사항)"
      ]
    },
    {
      "cell_type": "markdown",
      "metadata": {
        "id": "k7ABKzqVIYZd",
        "colab_type": "text"
      },
      "source": [
        "\n",
        "*  **2430k lines wikipedia korea data pretrained model**\n",
        "*  **본 실습모델보다 학습량이 많은 모델**\n",
        "\n",
        "\n"
      ]
    },
    {
      "cell_type": "code",
      "metadata": {
        "id": "yd5NkFLbHoHO",
        "colab_type": "code",
        "outputId": "e2e2f55b-8323-4c00-f6ae-040e2e4d4d6d",
        "colab": {
          "base_uri": "https://localhost:8080/",
          "height": 559
        }
      },
      "source": [
        "!mkdir ./korean_word_embedding_tutorial/pre_trained_model\n",
        "!wget \"https://www.dropbox.com/sh/bvvj3c650zshaju/AADfgmvxx_A6PvaxuaE5GNQka?dl=0\" -O pre_trained_model.zip\n",
        "!unzip pre_trained_model.zip -d ./korean_word_embedding_tutorial/pre_trained_model/\n",
        "!rm pre_trained_model.zip"
      ],
      "execution_count": 0,
      "outputs": [
        {
          "output_type": "stream",
          "text": [
            "mkdir: cannot create directory ‘./korean_word_embedding_tutorial/pre_trained_model’: File exists\n",
            "--2019-07-23 14:09:22--  https://www.dropbox.com/sh/bvvj3c650zshaju/AADfgmvxx_A6PvaxuaE5GNQka?dl=0\n",
            "Resolving www.dropbox.com (www.dropbox.com)... 162.125.9.1, 2620:100:6031:1::a27d:5101\n",
            "Connecting to www.dropbox.com (www.dropbox.com)|162.125.9.1|:443... connected.\n",
            "HTTP request sent, awaiting response... 301 Moved Permanently\n",
            "Location: /sh/raw/bvvj3c650zshaju/AADfgmvxx_A6PvaxuaE5GNQka [following]\n",
            "--2019-07-23 14:09:22--  https://www.dropbox.com/sh/raw/bvvj3c650zshaju/AADfgmvxx_A6PvaxuaE5GNQka\n",
            "Reusing existing connection to www.dropbox.com:443.\n",
            "HTTP request sent, awaiting response... 302 Found\n",
            "Location: https://uc7b17222e470c13808c323dcc3e.dl.dropboxusercontent.com/zip_by_token_key?key=AlO15CZZWtv5Pqka-YruTsrffStxz8KRrs6PI-3jEf0J3y-kwzne_AdrpjgApNNA2mifhGS-lP2fGvubN0X3V4I1ZgwPwXsUtRBL--h7P2TvteyerPIuL97F0RbdmB_NGl86eIrlivHoGQC8mzUUdys3r0Ram6esB0h42Kbzw9AeajHXgfvj7B9s6FyWtY7U9UhM73r1qQVkNYSS4OdL-R9mgkd0TW6yh1Q3zlpm9_ox4fGqQbKfxTcJB-tIAIIY-Gh491R0BPFx7-U1aXbvQ-f0BkuLKphF-6XqdeQp9iT0Fk6K6dVq_Jw9Pex04RDlag0vDx_8jAfKW9aOv8POeVYzhPyjEcf6hvbkDq-BfLBG8w [following]\n",
            "--2019-07-23 14:09:22--  https://uc7b17222e470c13808c323dcc3e.dl.dropboxusercontent.com/zip_by_token_key?key=AlO15CZZWtv5Pqka-YruTsrffStxz8KRrs6PI-3jEf0J3y-kwzne_AdrpjgApNNA2mifhGS-lP2fGvubN0X3V4I1ZgwPwXsUtRBL--h7P2TvteyerPIuL97F0RbdmB_NGl86eIrlivHoGQC8mzUUdys3r0Ram6esB0h42Kbzw9AeajHXgfvj7B9s6FyWtY7U9UhM73r1qQVkNYSS4OdL-R9mgkd0TW6yh1Q3zlpm9_ox4fGqQbKfxTcJB-tIAIIY-Gh491R0BPFx7-U1aXbvQ-f0BkuLKphF-6XqdeQp9iT0Fk6K6dVq_Jw9Pex04RDlag0vDx_8jAfKW9aOv8POeVYzhPyjEcf6hvbkDq-BfLBG8w\n",
            "Resolving uc7b17222e470c13808c323dcc3e.dl.dropboxusercontent.com (uc7b17222e470c13808c323dcc3e.dl.dropboxusercontent.com)... 162.125.66.6, 2620:100:601f:6::a27d:906\n",
            "Connecting to uc7b17222e470c13808c323dcc3e.dl.dropboxusercontent.com (uc7b17222e470c13808c323dcc3e.dl.dropboxusercontent.com)|162.125.66.6|:443... connected.\n",
            "HTTP request sent, awaiting response... 200 OK\n",
            "Length: unspecified [application/zip]\n",
            "Saving to: ‘pre_trained_model.zip’\n",
            "\n",
            "pre_trained_model.z     [             <=>    ] 418.05M  12.5MB/s    in 39s     \n",
            "\n",
            "2019-07-23 14:10:03 (10.6 MB/s) - ‘pre_trained_model.zip’ saved [438354035]\n",
            "\n",
            "Archive:  pre_trained_model.zip\n",
            "warning:  stripped absolute path spec from /\n",
            "mapname:  conversion of  failed\n",
            "  inflating: ./korean_word_embedding_tutorial/pre_trained_model/wiki_ko_model.wv.syn0.npy  \n",
            "  inflating: ./korean_word_embedding_tutorial/pre_trained_model/wiki_ko_model_129512_300d_labels.tsv  \n",
            "  inflating: ./korean_word_embedding_tutorial/pre_trained_model/wiki_ko_model.syn1neg.npy  \n",
            "  inflating: ./korean_word_embedding_tutorial/pre_trained_model/wiki_ko_model_129512_300d_tensors.bytes  \n",
            "  inflating: ./korean_word_embedding_tutorial/pre_trained_model/wiki_ko_model  \n"
          ],
          "name": "stdout"
        }
      ]
    },
    {
      "cell_type": "markdown",
      "metadata": {
        "id": "d7UBZdo6bvlV",
        "colab_type": "text"
      },
      "source": [
        "# 2. Visualization"
      ]
    },
    {
      "cell_type": "code",
      "metadata": {
        "id": "NNdU7Ilxbyff",
        "colab_type": "code",
        "colab": {}
      },
      "source": [
        "!mkdir ./korean_word_embedding_tutorial/visualization"
      ],
      "execution_count": 0,
      "outputs": []
    },
    {
      "cell_type": "code",
      "metadata": {
        "id": "CZscUxKub09U",
        "colab_type": "code",
        "colab": {}
      },
      "source": [
        "from collections import Counter\n",
        "from gensim.models import Word2Vec\n",
        "import re"
      ],
      "execution_count": 0,
      "outputs": []
    },
    {
      "cell_type": "code",
      "metadata": {
        "id": "JM8SbQ3_b2HR",
        "colab_type": "code",
        "colab": {}
      },
      "source": [
        "root_path = './korean_word_embedding_tutorial/'\n",
        "\n",
        "def main():\n",
        "    #내용을 채우세요"
      ],
      "execution_count": 0,
      "outputs": []
    },
    {
      "cell_type": "code",
      "metadata": {
        "id": "SdSOp0pPb4Pb",
        "colab_type": "code",
        "outputId": "e93326f5-6a72-4374-e1e7-2bbc0c8df0ea",
        "colab": {
          "base_uri": "https://localhost:8080/",
          "height": 253
        }
      },
      "source": [
        "if __name__ ==\"__main__\":\n",
        "    main()\n",
        "    \n",
        "    "
      ],
      "execution_count": 0,
      "outputs": [
        {
          "output_type": "stream",
          "text": [
            "2019-07-23 11:04:50,374 : INFO : loading Word2Vec object from ./korean_word_embedding_tutorial/wiki_ko_model\n",
            "/usr/local/lib/python3.6/dist-packages/smart_open/smart_open_lib.py:398: UserWarning: This function is deprecated, use smart_open.open instead. See the migration notes for details: https://github.com/RaRe-Technologies/smart_open/blob/master/README.rst#migrating-to-the-new-open-function\n",
            "  'See the migration notes for details: %s' % _MIGRATION_NOTES_URL\n",
            "2019-07-23 11:04:50,794 : INFO : loading wv recursively from ./korean_word_embedding_tutorial/wiki_ko_model.wv.* with mmap=None\n",
            "2019-07-23 11:04:50,795 : INFO : loading vectors from ./korean_word_embedding_tutorial/wiki_ko_model.wv.vectors.npy with mmap=None\n",
            "2019-07-23 11:04:50,853 : INFO : setting ignored attribute vectors_norm to None\n",
            "2019-07-23 11:04:50,854 : INFO : loading vocabulary recursively from ./korean_word_embedding_tutorial/wiki_ko_model.vocabulary.* with mmap=None\n",
            "2019-07-23 11:04:50,857 : INFO : loading trainables recursively from ./korean_word_embedding_tutorial/wiki_ko_model.trainables.* with mmap=None\n",
            "2019-07-23 11:04:50,860 : INFO : loading syn1neg from ./korean_word_embedding_tutorial/wiki_ko_model.trainables.syn1neg.npy with mmap=None\n",
            "2019-07-23 11:04:50,917 : INFO : setting ignored attribute cum_table to None\n",
            "2019-07-23 11:04:50,918 : INFO : loaded ./korean_word_embedding_tutorial/wiki_ko_model\n",
            "/usr/local/lib/python3.6/dist-packages/ipykernel_launcher.py:36: DeprecationWarning: Call to deprecated `__getitem__` (Method will be removed in 4.0.0, use self.wv.__getitem__() instead).\n"
          ],
          "name": "stderr"
        }
      ]
    },
    {
      "cell_type": "markdown",
      "metadata": {
        "id": "aftxxKcHif65",
        "colab_type": "text"
      },
      "source": [
        "# [Embedding projector](http://projector.tensorflow.org/)\n",
        "\n",
        "\n",
        "---\n",
        "\n",
        "\n",
        "![대체 텍스트](https://miro.medium.com/max/1200/1*Fat62b1ZITOFMPXTcHNkLw.jpeg)"
      ]
    }
  ]
}
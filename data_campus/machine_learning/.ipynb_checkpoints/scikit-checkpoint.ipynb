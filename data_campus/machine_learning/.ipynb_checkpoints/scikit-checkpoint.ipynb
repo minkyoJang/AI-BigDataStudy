{
 "cells": [
  {
   "cell_type": "code",
   "execution_count": 14,
   "metadata": {
    "ExecuteTime": {
     "end_time": "2019-07-26T00:53:08.506603Z",
     "start_time": "2019-07-26T00:53:08.496609Z"
    }
   },
   "outputs": [
    {
     "name": "stdout",
     "output_type": "stream",
     "text": [
      "Chan 2019-07-26 \n",
      "\n",
      "CPython 3.7.3\n",
      "IPython 7.6.1\n",
      "\n",
      "sklearn 0.21.2\n",
      "numpy 1.16.4\n",
      "scipy 1.3.0\n",
      "matplotlib 3.1.0\n"
     ]
    }
   ],
   "source": [
    "# %load_ext watermark\n",
    "%watermark -a Chan -d -v -p sklearn,numpy,scipy,matplotlib"
   ]
  },
  {
   "cell_type": "code",
   "execution_count": 16,
   "metadata": {
    "ExecuteTime": {
     "end_time": "2019-07-26T00:53:31.610399Z",
     "start_time": "2019-07-26T00:53:24.043723Z"
    }
   },
   "outputs": [],
   "source": [
    "import pandas as pd\n",
    "import numpy as np"
   ]
  },
  {
   "cell_type": "code",
   "execution_count": 19,
   "metadata": {
    "ExecuteTime": {
     "end_time": "2019-07-26T00:54:13.536436Z",
     "start_time": "2019-07-26T00:54:13.530442Z"
    }
   },
   "outputs": [],
   "source": [
    "from sklearn.datasets import load_boston\n",
    "from sklearn.datasets import load_iris"
   ]
  },
  {
   "cell_type": "code",
   "execution_count": 20,
   "metadata": {
    "ExecuteTime": {
     "end_time": "2019-07-26T00:54:20.997175Z",
     "start_time": "2019-07-26T00:54:20.955196Z"
    }
   },
   "outputs": [],
   "source": [
    "raw_iris = load_iris()"
   ]
  },
  {
   "cell_type": "code",
   "execution_count": 22,
   "metadata": {
    "ExecuteTime": {
     "end_time": "2019-07-26T00:55:26.230892Z",
     "start_time": "2019-07-26T00:55:26.215899Z"
    }
   },
   "outputs": [],
   "source": [
    "iris = pd.DataFrame(raw_iris.data, columns=raw_iris.feature_names)"
   ]
  },
  {
   "cell_type": "code",
   "execution_count": 35,
   "metadata": {
    "ExecuteTime": {
     "end_time": "2019-07-26T01:03:46.417603Z",
     "start_time": "2019-07-26T01:03:46.407611Z"
    }
   },
   "outputs": [],
   "source": [
    "iris['target'] = raw_iris.target"
   ]
  },
  {
   "cell_type": "code",
   "execution_count": 36,
   "metadata": {
    "ExecuteTime": {
     "end_time": "2019-07-26T01:03:47.685879Z",
     "start_time": "2019-07-26T01:03:47.660892Z"
    }
   },
   "outputs": [
    {
     "data": {
      "text/html": [
       "<div>\n",
       "<style scoped>\n",
       "    .dataframe tbody tr th:only-of-type {\n",
       "        vertical-align: middle;\n",
       "    }\n",
       "\n",
       "    .dataframe tbody tr th {\n",
       "        vertical-align: top;\n",
       "    }\n",
       "\n",
       "    .dataframe thead th {\n",
       "        text-align: right;\n",
       "    }\n",
       "</style>\n",
       "<table border=\"1\" class=\"dataframe\">\n",
       "  <thead>\n",
       "    <tr style=\"text-align: right;\">\n",
       "      <th></th>\n",
       "      <th>sepal length (cm)</th>\n",
       "      <th>sepal width (cm)</th>\n",
       "      <th>petal length (cm)</th>\n",
       "      <th>petal width (cm)</th>\n",
       "      <th>target</th>\n",
       "    </tr>\n",
       "  </thead>\n",
       "  <tbody>\n",
       "    <tr>\n",
       "      <th>0</th>\n",
       "      <td>5.1</td>\n",
       "      <td>3.5</td>\n",
       "      <td>1.4</td>\n",
       "      <td>0.2</td>\n",
       "      <td>0</td>\n",
       "    </tr>\n",
       "    <tr>\n",
       "      <th>1</th>\n",
       "      <td>4.9</td>\n",
       "      <td>3.0</td>\n",
       "      <td>1.4</td>\n",
       "      <td>0.2</td>\n",
       "      <td>0</td>\n",
       "    </tr>\n",
       "    <tr>\n",
       "      <th>2</th>\n",
       "      <td>4.7</td>\n",
       "      <td>3.2</td>\n",
       "      <td>1.3</td>\n",
       "      <td>0.2</td>\n",
       "      <td>0</td>\n",
       "    </tr>\n",
       "    <tr>\n",
       "      <th>3</th>\n",
       "      <td>4.6</td>\n",
       "      <td>3.1</td>\n",
       "      <td>1.5</td>\n",
       "      <td>0.2</td>\n",
       "      <td>0</td>\n",
       "    </tr>\n",
       "    <tr>\n",
       "      <th>4</th>\n",
       "      <td>5.0</td>\n",
       "      <td>3.6</td>\n",
       "      <td>1.4</td>\n",
       "      <td>0.2</td>\n",
       "      <td>0</td>\n",
       "    </tr>\n",
       "  </tbody>\n",
       "</table>\n",
       "</div>"
      ],
      "text/plain": [
       "   sepal length (cm)  sepal width (cm)  petal length (cm)  petal width (cm)  \\\n",
       "0                5.1               3.5                1.4               0.2   \n",
       "1                4.9               3.0                1.4               0.2   \n",
       "2                4.7               3.2                1.3               0.2   \n",
       "3                4.6               3.1                1.5               0.2   \n",
       "4                5.0               3.6                1.4               0.2   \n",
       "\n",
       "   target  \n",
       "0       0  \n",
       "1       0  \n",
       "2       0  \n",
       "3       0  \n",
       "4       0  "
      ]
     },
     "execution_count": 36,
     "metadata": {},
     "output_type": "execute_result"
    }
   ],
   "source": [
    "iris.head()"
   ]
  },
  {
   "cell_type": "markdown",
   "metadata": {},
   "source": [
    "# split data"
   ]
  },
  {
   "cell_type": "code",
   "execution_count": 25,
   "metadata": {
    "ExecuteTime": {
     "end_time": "2019-07-26T00:56:13.953619Z",
     "start_time": "2019-07-26T00:56:13.941625Z"
    }
   },
   "outputs": [],
   "source": [
    "train = iris.sample(frac=0.75) # 샘플링 방법이 부족해"
   ]
  },
  {
   "cell_type": "code",
   "execution_count": 28,
   "metadata": {
    "ExecuteTime": {
     "end_time": "2019-07-26T00:57:33.969891Z",
     "start_time": "2019-07-26T00:57:33.888936Z"
    }
   },
   "outputs": [
    {
     "ename": "KeyError",
     "evalue": "\"None of [Int64Index([ 44,  62, 136, 112,   6,  52,  89, 111,  61, 105,\\n            ...\\n             20, 120,  84,  28,   1,  41,  13, 130,  79,  23],\\n           dtype='int64', length=112)] are in the [columns]\"",
     "output_type": "error",
     "traceback": [
      "\u001b[1;31m---------------------------------------------------------------------------\u001b[0m",
      "\u001b[1;31mKeyError\u001b[0m                                  Traceback (most recent call last)",
      "\u001b[1;32m<ipython-input-28-91a840798979>\u001b[0m in \u001b[0;36m<module>\u001b[1;34m\u001b[0m\n\u001b[1;32m----> 1\u001b[1;33m \u001b[0mtest\u001b[0m \u001b[1;33m=\u001b[0m \u001b[0miris\u001b[0m\u001b[1;33m.\u001b[0m\u001b[0mpop\u001b[0m\u001b[1;33m(\u001b[0m\u001b[0mtrain\u001b[0m\u001b[1;33m.\u001b[0m\u001b[0mindex\u001b[0m\u001b[1;33m)\u001b[0m\u001b[1;33m\u001b[0m\u001b[1;33m\u001b[0m\u001b[0m\n\u001b[0m",
      "\u001b[1;32m~\\Anaconda3\\envs\\data_campus\\lib\\site-packages\\pandas\\core\\generic.py\u001b[0m in \u001b[0;36mpop\u001b[1;34m(self, item)\u001b[0m\n\u001b[0;32m    807\u001b[0m         \u001b[1;36m3\u001b[0m  \u001b[0mmonkey\u001b[0m        \u001b[0mNaN\u001b[0m\u001b[1;33m\u001b[0m\u001b[1;33m\u001b[0m\u001b[0m\n\u001b[0;32m    808\u001b[0m         \"\"\"\n\u001b[1;32m--> 809\u001b[1;33m         \u001b[0mresult\u001b[0m \u001b[1;33m=\u001b[0m \u001b[0mself\u001b[0m\u001b[1;33m[\u001b[0m\u001b[0mitem\u001b[0m\u001b[1;33m]\u001b[0m\u001b[1;33m\u001b[0m\u001b[1;33m\u001b[0m\u001b[0m\n\u001b[0m\u001b[0;32m    810\u001b[0m         \u001b[1;32mdel\u001b[0m \u001b[0mself\u001b[0m\u001b[1;33m[\u001b[0m\u001b[0mitem\u001b[0m\u001b[1;33m]\u001b[0m\u001b[1;33m\u001b[0m\u001b[1;33m\u001b[0m\u001b[0m\n\u001b[0;32m    811\u001b[0m         \u001b[1;32mtry\u001b[0m\u001b[1;33m:\u001b[0m\u001b[1;33m\u001b[0m\u001b[1;33m\u001b[0m\u001b[0m\n",
      "\u001b[1;32m~\\Anaconda3\\envs\\data_campus\\lib\\site-packages\\pandas\\core\\frame.py\u001b[0m in \u001b[0;36m__getitem__\u001b[1;34m(self, key)\u001b[0m\n\u001b[0;32m   2932\u001b[0m                 \u001b[0mkey\u001b[0m \u001b[1;33m=\u001b[0m \u001b[0mlist\u001b[0m\u001b[1;33m(\u001b[0m\u001b[0mkey\u001b[0m\u001b[1;33m)\u001b[0m\u001b[1;33m\u001b[0m\u001b[1;33m\u001b[0m\u001b[0m\n\u001b[0;32m   2933\u001b[0m             indexer = self.loc._convert_to_indexer(key, axis=1,\n\u001b[1;32m-> 2934\u001b[1;33m                                                    raise_missing=True)\n\u001b[0m\u001b[0;32m   2935\u001b[0m \u001b[1;33m\u001b[0m\u001b[0m\n\u001b[0;32m   2936\u001b[0m         \u001b[1;31m# take() does not accept boolean indexers\u001b[0m\u001b[1;33m\u001b[0m\u001b[1;33m\u001b[0m\u001b[1;33m\u001b[0m\u001b[0m\n",
      "\u001b[1;32m~\\Anaconda3\\envs\\data_campus\\lib\\site-packages\\pandas\\core\\indexing.py\u001b[0m in \u001b[0;36m_convert_to_indexer\u001b[1;34m(self, obj, axis, is_setter, raise_missing)\u001b[0m\n\u001b[0;32m   1352\u001b[0m                 kwargs = {'raise_missing': True if is_setter else\n\u001b[0;32m   1353\u001b[0m                           raise_missing}\n\u001b[1;32m-> 1354\u001b[1;33m                 \u001b[1;32mreturn\u001b[0m \u001b[0mself\u001b[0m\u001b[1;33m.\u001b[0m\u001b[0m_get_listlike_indexer\u001b[0m\u001b[1;33m(\u001b[0m\u001b[0mobj\u001b[0m\u001b[1;33m,\u001b[0m \u001b[0maxis\u001b[0m\u001b[1;33m,\u001b[0m \u001b[1;33m**\u001b[0m\u001b[0mkwargs\u001b[0m\u001b[1;33m)\u001b[0m\u001b[1;33m[\u001b[0m\u001b[1;36m1\u001b[0m\u001b[1;33m]\u001b[0m\u001b[1;33m\u001b[0m\u001b[1;33m\u001b[0m\u001b[0m\n\u001b[0m\u001b[0;32m   1355\u001b[0m         \u001b[1;32melse\u001b[0m\u001b[1;33m:\u001b[0m\u001b[1;33m\u001b[0m\u001b[1;33m\u001b[0m\u001b[0m\n\u001b[0;32m   1356\u001b[0m             \u001b[1;32mtry\u001b[0m\u001b[1;33m:\u001b[0m\u001b[1;33m\u001b[0m\u001b[1;33m\u001b[0m\u001b[0m\n",
      "\u001b[1;32m~\\Anaconda3\\envs\\data_campus\\lib\\site-packages\\pandas\\core\\indexing.py\u001b[0m in \u001b[0;36m_get_listlike_indexer\u001b[1;34m(self, key, axis, raise_missing)\u001b[0m\n\u001b[0;32m   1159\u001b[0m         self._validate_read_indexer(keyarr, indexer,\n\u001b[0;32m   1160\u001b[0m                                     \u001b[0mo\u001b[0m\u001b[1;33m.\u001b[0m\u001b[0m_get_axis_number\u001b[0m\u001b[1;33m(\u001b[0m\u001b[0maxis\u001b[0m\u001b[1;33m)\u001b[0m\u001b[1;33m,\u001b[0m\u001b[1;33m\u001b[0m\u001b[1;33m\u001b[0m\u001b[0m\n\u001b[1;32m-> 1161\u001b[1;33m                                     raise_missing=raise_missing)\n\u001b[0m\u001b[0;32m   1162\u001b[0m         \u001b[1;32mreturn\u001b[0m \u001b[0mkeyarr\u001b[0m\u001b[1;33m,\u001b[0m \u001b[0mindexer\u001b[0m\u001b[1;33m\u001b[0m\u001b[1;33m\u001b[0m\u001b[0m\n\u001b[0;32m   1163\u001b[0m \u001b[1;33m\u001b[0m\u001b[0m\n",
      "\u001b[1;32m~\\Anaconda3\\envs\\data_campus\\lib\\site-packages\\pandas\\core\\indexing.py\u001b[0m in \u001b[0;36m_validate_read_indexer\u001b[1;34m(self, key, indexer, axis, raise_missing)\u001b[0m\n\u001b[0;32m   1244\u001b[0m                 raise KeyError(\n\u001b[0;32m   1245\u001b[0m                     u\"None of [{key}] are in the [{axis}]\".format(\n\u001b[1;32m-> 1246\u001b[1;33m                         key=key, axis=self.obj._get_axis_name(axis)))\n\u001b[0m\u001b[0;32m   1247\u001b[0m \u001b[1;33m\u001b[0m\u001b[0m\n\u001b[0;32m   1248\u001b[0m             \u001b[1;31m# We (temporarily) allow for some missing keys with .loc, except in\u001b[0m\u001b[1;33m\u001b[0m\u001b[1;33m\u001b[0m\u001b[1;33m\u001b[0m\u001b[0m\n",
      "\u001b[1;31mKeyError\u001b[0m: \"None of [Int64Index([ 44,  62, 136, 112,   6,  52,  89, 111,  61, 105,\\n            ...\\n             20, 120,  84,  28,   1,  41,  13, 130,  79,  23],\\n           dtype='int64', length=112)] are in the [columns]\""
     ]
    }
   ],
   "source": [
    "# test = iris.pop(train)"
   ]
  },
  {
   "cell_type": "code",
   "execution_count": 37,
   "metadata": {
    "ExecuteTime": {
     "end_time": "2019-07-26T01:03:55.944161Z",
     "start_time": "2019-07-26T01:03:55.938162Z"
    }
   },
   "outputs": [],
   "source": [
    "from sklearn.model_selection import train_test_split"
   ]
  },
  {
   "cell_type": "code",
   "execution_count": 42,
   "metadata": {
    "ExecuteTime": {
     "end_time": "2019-07-26T01:04:14.369308Z",
     "start_time": "2019-07-26T01:04:14.358313Z"
    }
   },
   "outputs": [],
   "source": [
    "X_train, X_test, y_train, y_test = train_test_split(iris.iloc[:,:-1], iris.iloc[:,-1])"
   ]
  },
  {
   "cell_type": "code",
   "execution_count": 46,
   "metadata": {
    "ExecuteTime": {
     "end_time": "2019-07-26T01:05:55.613448Z",
     "start_time": "2019-07-26T01:05:55.606449Z"
    }
   },
   "outputs": [],
   "source": [
    "from sklearn.neighbors import KNeighborsClassifier"
   ]
  },
  {
   "cell_type": "code",
   "execution_count": 47,
   "metadata": {
    "ExecuteTime": {
     "end_time": "2019-07-26T01:06:03.960677Z",
     "start_time": "2019-07-26T01:06:03.953680Z"
    }
   },
   "outputs": [],
   "source": [
    "knn = KNeighborsClassifier()"
   ]
  },
  {
   "cell_type": "code",
   "execution_count": 48,
   "metadata": {
    "ExecuteTime": {
     "end_time": "2019-07-26T01:06:14.420697Z",
     "start_time": "2019-07-26T01:06:14.386718Z"
    }
   },
   "outputs": [
    {
     "data": {
      "text/plain": [
       "KNeighborsClassifier(algorithm='auto', leaf_size=30, metric='minkowski',\n",
       "                     metric_params=None, n_jobs=None, n_neighbors=5, p=2,\n",
       "                     weights='uniform')"
      ]
     },
     "execution_count": 48,
     "metadata": {},
     "output_type": "execute_result"
    }
   ],
   "source": [
    "knn.fit(X_train, y_train)"
   ]
  },
  {
   "cell_type": "code",
   "execution_count": 58,
   "metadata": {
    "ExecuteTime": {
     "end_time": "2019-07-26T01:07:56.250504Z",
     "start_time": "2019-07-26T01:07:56.231513Z"
    }
   },
   "outputs": [
    {
     "data": {
      "text/plain": [
       "(35, 38)"
      ]
     },
     "execution_count": 58,
     "metadata": {},
     "output_type": "execute_result"
    }
   ],
   "source": [
    "np.sum(knn.predict(X_test) == y_test.values), y_test.count()"
   ]
  },
  {
   "cell_type": "code",
   "execution_count": 59,
   "metadata": {
    "ExecuteTime": {
     "end_time": "2019-07-26T01:08:46.814605Z",
     "start_time": "2019-07-26T01:08:46.795616Z"
    }
   },
   "outputs": [
    {
     "data": {
      "text/plain": [
       "0.9210526315789473"
      ]
     },
     "execution_count": 59,
     "metadata": {},
     "output_type": "execute_result"
    }
   ],
   "source": [
    "np.mean(knn.predict(X_test) == y_test.values)"
   ]
  },
  {
   "cell_type": "code",
   "execution_count": 60,
   "metadata": {
    "ExecuteTime": {
     "end_time": "2019-07-26T01:09:14.701668Z",
     "start_time": "2019-07-26T01:09:14.683680Z"
    }
   },
   "outputs": [
    {
     "data": {
      "text/plain": [
       "0.9210526315789473"
      ]
     },
     "execution_count": 60,
     "metadata": {},
     "output_type": "execute_result"
    }
   ],
   "source": [
    "knn.score(X_test,y_test)"
   ]
  },
  {
   "cell_type": "markdown",
   "metadata": {},
   "source": [
    "# Logistic Regression"
   ]
  },
  {
   "cell_type": "code",
   "execution_count": 61,
   "metadata": {
    "ExecuteTime": {
     "end_time": "2019-07-26T01:11:33.643261Z",
     "start_time": "2019-07-26T01:11:33.636269Z"
    }
   },
   "outputs": [],
   "source": [
    "from sklearn.linear_model import LogisticRegression"
   ]
  },
  {
   "cell_type": "code",
   "execution_count": 62,
   "metadata": {
    "ExecuteTime": {
     "end_time": "2019-07-26T01:11:46.390976Z",
     "start_time": "2019-07-26T01:11:46.384979Z"
    }
   },
   "outputs": [],
   "source": [
    "lr = LogisticRegression()"
   ]
  },
  {
   "cell_type": "code",
   "execution_count": 63,
   "metadata": {
    "ExecuteTime": {
     "end_time": "2019-07-26T01:11:56.597143Z",
     "start_time": "2019-07-26T01:11:56.552168Z"
    }
   },
   "outputs": [
    {
     "name": "stderr",
     "output_type": "stream",
     "text": [
      "C:\\Users\\skarn\\Anaconda3\\envs\\data_campus\\lib\\site-packages\\sklearn\\linear_model\\logistic.py:432: FutureWarning: Default solver will be changed to 'lbfgs' in 0.22. Specify a solver to silence this warning.\n",
      "  FutureWarning)\n",
      "C:\\Users\\skarn\\Anaconda3\\envs\\data_campus\\lib\\site-packages\\sklearn\\linear_model\\logistic.py:469: FutureWarning: Default multi_class will be changed to 'auto' in 0.22. Specify the multi_class option to silence this warning.\n",
      "  \"this warning.\", FutureWarning)\n"
     ]
    },
    {
     "data": {
      "text/plain": [
       "LogisticRegression(C=1.0, class_weight=None, dual=False, fit_intercept=True,\n",
       "                   intercept_scaling=1, l1_ratio=None, max_iter=100,\n",
       "                   multi_class='warn', n_jobs=None, penalty='l2',\n",
       "                   random_state=None, solver='warn', tol=0.0001, verbose=0,\n",
       "                   warm_start=False)"
      ]
     },
     "execution_count": 63,
     "metadata": {},
     "output_type": "execute_result"
    }
   ],
   "source": [
    "lr.fit(X_train, y_train)"
   ]
  },
  {
   "cell_type": "code",
   "execution_count": 64,
   "metadata": {
    "ExecuteTime": {
     "end_time": "2019-07-26T01:13:50.123511Z",
     "start_time": "2019-07-26T01:13:50.049554Z"
    }
   },
   "outputs": [
    {
     "data": {
      "text/plain": [
       "0.868421052631579"
      ]
     },
     "execution_count": 64,
     "metadata": {},
     "output_type": "execute_result"
    }
   ],
   "source": [
    "lr.score(X_test, y_test)\n",
    "\n",
    "## 데이터가 작아서 성능이 왔다갔다한다."
   ]
  },
  {
   "attachments": {},
   "cell_type": "markdown",
   "metadata": {},
   "source": [
    "# [Model Selection](https://scikit-learn.org/stable/tutorial/machine_learning_map/)\n",
    "![model_selection_map](https://scikit-learn.org/stable/_static/ml_map.png)"
   ]
  },
  {
   "cell_type": "code",
   "execution_count": 65,
   "metadata": {
    "ExecuteTime": {
     "end_time": "2019-07-26T01:45:13.144941Z",
     "start_time": "2019-07-26T01:45:13.132944Z"
    }
   },
   "outputs": [],
   "source": [
    "from sklearn.ensemble import RandomForestClassifier"
   ]
  },
  {
   "cell_type": "code",
   "execution_count": 67,
   "metadata": {
    "ExecuteTime": {
     "end_time": "2019-07-26T01:45:18.110102Z",
     "start_time": "2019-07-26T01:45:18.106102Z"
    }
   },
   "outputs": [],
   "source": [
    "rf = RandomForestClassifier()"
   ]
  },
  {
   "cell_type": "code",
   "execution_count": 68,
   "metadata": {
    "ExecuteTime": {
     "end_time": "2019-07-26T01:45:34.665641Z",
     "start_time": "2019-07-26T01:45:34.596677Z"
    }
   },
   "outputs": [
    {
     "name": "stderr",
     "output_type": "stream",
     "text": [
      "C:\\Users\\skarn\\Anaconda3\\envs\\data_campus\\lib\\site-packages\\sklearn\\ensemble\\forest.py:245: FutureWarning: The default value of n_estimators will change from 10 in version 0.20 to 100 in 0.22.\n",
      "  \"10 in version 0.20 to 100 in 0.22.\", FutureWarning)\n"
     ]
    },
    {
     "data": {
      "text/plain": [
       "RandomForestClassifier(bootstrap=True, class_weight=None, criterion='gini',\n",
       "                       max_depth=None, max_features='auto', max_leaf_nodes=None,\n",
       "                       min_impurity_decrease=0.0, min_impurity_split=None,\n",
       "                       min_samples_leaf=1, min_samples_split=2,\n",
       "                       min_weight_fraction_leaf=0.0, n_estimators=10,\n",
       "                       n_jobs=None, oob_score=False, random_state=None,\n",
       "                       verbose=0, warm_start=False)"
      ]
     },
     "execution_count": 68,
     "metadata": {},
     "output_type": "execute_result"
    }
   ],
   "source": [
    "rf.fit(X_train, y_train)"
   ]
  },
  {
   "cell_type": "code",
   "execution_count": 70,
   "metadata": {
    "ExecuteTime": {
     "end_time": "2019-07-26T01:45:51.240166Z",
     "start_time": "2019-07-26T01:45:51.228172Z"
    }
   },
   "outputs": [
    {
     "data": {
      "text/plain": [
       "array([0.05606708, 0.06002099, 0.49633441, 0.38757752])"
      ]
     },
     "execution_count": 70,
     "metadata": {},
     "output_type": "execute_result"
    }
   ],
   "source": [
    "rf.feature_importances_"
   ]
  },
  {
   "cell_type": "code",
   "execution_count": 71,
   "metadata": {
    "ExecuteTime": {
     "end_time": "2019-07-26T01:46:09.484743Z",
     "start_time": "2019-07-26T01:46:09.479747Z"
    }
   },
   "outputs": [],
   "source": [
    "from sklearn.neural_network import MLPClassifier"
   ]
  },
  {
   "cell_type": "code",
   "execution_count": 72,
   "metadata": {
    "ExecuteTime": {
     "end_time": "2019-07-26T01:46:21.224031Z",
     "start_time": "2019-07-26T01:46:21.219033Z"
    }
   },
   "outputs": [],
   "source": [
    "from sklearn.linear_model import Perceptron"
   ]
  },
  {
   "cell_type": "code",
   "execution_count": 73,
   "metadata": {
    "ExecuteTime": {
     "end_time": "2019-07-26T01:48:40.174621Z",
     "start_time": "2019-07-26T01:48:40.169622Z"
    }
   },
   "outputs": [],
   "source": [
    "from sklearn.naive_bayes import GaussianNB"
   ]
  },
  {
   "cell_type": "code",
   "execution_count": 74,
   "metadata": {
    "ExecuteTime": {
     "end_time": "2019-07-26T01:48:59.996294Z",
     "start_time": "2019-07-26T01:48:59.992294Z"
    }
   },
   "outputs": [],
   "source": [
    "from sklearn.dummy import DummyClassifier\n",
    "## 사람이 하는 행동처럼 분류하는 애"
   ]
  },
  {
   "cell_type": "code",
   "execution_count": 81,
   "metadata": {
    "ExecuteTime": {
     "end_time": "2019-07-26T02:13:32.090678Z",
     "start_time": "2019-07-26T02:13:32.085679Z"
    }
   },
   "outputs": [],
   "source": [
    "from sklearn.svm import SVC\n",
    "# SVM. 학습 속도도 느리고, 예측 속도도 느리다.\n",
    "# 정확도는 높다. 수학으로 구현되어 있다."
   ]
  },
  {
   "cell_type": "code",
   "execution_count": 82,
   "metadata": {
    "ExecuteTime": {
     "end_time": "2019-07-26T02:16:56.646772Z",
     "start_time": "2019-07-26T02:16:56.443887Z"
    }
   },
   "outputs": [
    {
     "name": "stdout",
     "output_type": "stream",
     "text": [
      "Wall time: 191 ms\n"
     ]
    },
    {
     "data": {
      "text/plain": [
       "0.9800000000000001"
      ]
     },
     "execution_count": 82,
     "metadata": {},
     "output_type": "execute_result"
    }
   ],
   "source": [
    "%time np.mean(cross_val_score(SVC(), iris.iloc[:,:-1], iris.iloc[:,-1], cv=10, n_jobs=-1))"
   ]
  },
  {
   "cell_type": "code",
   "execution_count": null,
   "metadata": {},
   "outputs": [],
   "source": []
  },
  {
   "cell_type": "code",
   "execution_count": 75,
   "metadata": {
    "ExecuteTime": {
     "end_time": "2019-07-26T02:02:52.675104Z",
     "start_time": "2019-07-26T02:02:52.671105Z"
    }
   },
   "outputs": [],
   "source": [
    "dummpy = DummyClassifier()"
   ]
  },
  {
   "cell_type": "markdown",
   "metadata": {},
   "source": [
    "----------------------------"
   ]
  },
  {
   "cell_type": "markdown",
   "metadata": {},
   "source": [
    "## Grid Search"
   ]
  },
  {
   "cell_type": "code",
   "execution_count": 76,
   "metadata": {
    "ExecuteTime": {
     "end_time": "2019-07-26T02:04:40.815301Z",
     "start_time": "2019-07-26T02:04:40.808304Z"
    }
   },
   "outputs": [],
   "source": [
    "from sklearn.model_selection import GridSearchCV # cross - validation"
   ]
  },
  {
   "cell_type": "markdown",
   "metadata": {},
   "source": [
    "### Cross Validation\n",
    "- 모든 데이터를 적어도 한번씩은 train할 때 쓴다.\n",
    "- 평균을 내기 때문에 최종 모델로 쓸 수 없다.\n",
    "- 오버피팅 여부를 체크하기 위해\n",
    "- 데이터가 작을 때 성능을 체크하기 위해"
   ]
  },
  {
   "cell_type": "code",
   "execution_count": 77,
   "metadata": {
    "ExecuteTime": {
     "end_time": "2019-07-26T02:09:24.255316Z",
     "start_time": "2019-07-26T02:09:24.251319Z"
    }
   },
   "outputs": [],
   "source": [
    "from sklearn.model_selection import cross_val_score"
   ]
  },
  {
   "cell_type": "code",
   "execution_count": 83,
   "metadata": {
    "ExecuteTime": {
     "end_time": "2019-07-26T02:17:02.214632Z",
     "start_time": "2019-07-26T02:17:02.077667Z"
    }
   },
   "outputs": [
    {
     "name": "stdout",
     "output_type": "stream",
     "text": [
      "Wall time: 120 ms\n"
     ]
    },
    {
     "data": {
      "text/plain": [
       "0.9666666666666668"
      ]
     },
     "execution_count": 83,
     "metadata": {},
     "output_type": "execute_result"
    }
   ],
   "source": [
    "%time np.mean(cross_val_score(KNeighborsClassifier(), iris.iloc[:,:-1], iris.iloc[:,-1], cv=10, n_jobs=-1))\n",
    "# estimator : 알고리즘의 인스턴스\n",
    "# n_jobs : 코어 개수. -1 이면 최대한 많이 쓴다."
   ]
  },
  {
   "cell_type": "code",
   "execution_count": 84,
   "metadata": {
    "ExecuteTime": {
     "end_time": "2019-07-26T02:18:59.326661Z",
     "start_time": "2019-07-26T02:18:59.322665Z"
    }
   },
   "outputs": [],
   "source": [
    "from sklearn.model_selection import GridSearchCV"
   ]
  },
  {
   "cell_type": "code",
   "execution_count": 98,
   "metadata": {
    "ExecuteTime": {
     "end_time": "2019-07-26T02:23:41.506393Z",
     "start_time": "2019-07-26T02:23:41.501395Z"
    }
   },
   "outputs": [],
   "source": [
    "param_grid = {'n_neighbors':range(1,10), 'leaf_size':[10,20,30]}"
   ]
  },
  {
   "cell_type": "code",
   "execution_count": 99,
   "metadata": {
    "ExecuteTime": {
     "end_time": "2019-07-26T02:23:42.289947Z",
     "start_time": "2019-07-26T02:23:42.285948Z"
    }
   },
   "outputs": [],
   "source": [
    "grid = GridSearchCV(KNeighborsClassifier(),param_grid=param_grid)"
   ]
  },
  {
   "cell_type": "code",
   "execution_count": 100,
   "metadata": {
    "ExecuteTime": {
     "end_time": "2019-07-26T02:23:43.686164Z",
     "start_time": "2019-07-26T02:23:43.020527Z"
    }
   },
   "outputs": [
    {
     "name": "stderr",
     "output_type": "stream",
     "text": [
      "C:\\Users\\skarn\\Anaconda3\\envs\\data_campus\\lib\\site-packages\\sklearn\\model_selection\\_split.py:1978: FutureWarning: The default value of cv will change from 3 to 5 in version 0.22. Specify it explicitly to silence this warning.\n",
      "  warnings.warn(CV_WARNING, FutureWarning)\n",
      "C:\\Users\\skarn\\Anaconda3\\envs\\data_campus\\lib\\site-packages\\sklearn\\model_selection\\_search.py:813: DeprecationWarning: The default of the `iid` parameter will change from True to False in version 0.22 and will be removed in 0.24. This will change numeric results when test-set sizes are unequal.\n",
      "  DeprecationWarning)\n"
     ]
    },
    {
     "data": {
      "text/plain": [
       "GridSearchCV(cv='warn', error_score='raise-deprecating',\n",
       "             estimator=KNeighborsClassifier(algorithm='auto', leaf_size=30,\n",
       "                                            metric='minkowski',\n",
       "                                            metric_params=None, n_jobs=None,\n",
       "                                            n_neighbors=5, p=2,\n",
       "                                            weights='uniform'),\n",
       "             iid='warn', n_jobs=None,\n",
       "             param_grid={'leaf_size': [10, 20, 30],\n",
       "                         'n_neighbors': range(1, 10)},\n",
       "             pre_dispatch='2*n_jobs', refit=True, return_train_score=False,\n",
       "             scoring=None, verbose=0)"
      ]
     },
     "execution_count": 100,
     "metadata": {},
     "output_type": "execute_result"
    }
   ],
   "source": [
    "grid.fit(iris.iloc[:,:-1], iris.iloc[:,-1])"
   ]
  },
  {
   "cell_type": "code",
   "execution_count": 104,
   "metadata": {
    "ExecuteTime": {
     "end_time": "2019-07-26T02:24:05.783521Z",
     "start_time": "2019-07-26T02:24:05.775524Z"
    }
   },
   "outputs": [
    {
     "data": {
      "text/plain": [
       "KNeighborsClassifier(algorithm='auto', leaf_size=10, metric='minkowski',\n",
       "                     metric_params=None, n_jobs=None, n_neighbors=5, p=2,\n",
       "                     weights='uniform')"
      ]
     },
     "execution_count": 104,
     "metadata": {},
     "output_type": "execute_result"
    }
   ],
   "source": [
    "grid.best_estimator_"
   ]
  },
  {
   "cell_type": "code",
   "execution_count": 107,
   "metadata": {
    "ExecuteTime": {
     "end_time": "2019-07-26T02:26:31.697145Z",
     "start_time": "2019-07-26T02:26:31.611177Z"
    }
   },
   "outputs": [
    {
     "data": {
      "text/html": [
       "<div>\n",
       "<style scoped>\n",
       "    .dataframe tbody tr th:only-of-type {\n",
       "        vertical-align: middle;\n",
       "    }\n",
       "\n",
       "    .dataframe tbody tr th {\n",
       "        vertical-align: top;\n",
       "    }\n",
       "\n",
       "    .dataframe thead th {\n",
       "        text-align: right;\n",
       "    }\n",
       "</style>\n",
       "<table border=\"1\" class=\"dataframe\">\n",
       "  <thead>\n",
       "    <tr style=\"text-align: right;\">\n",
       "      <th></th>\n",
       "      <th>0</th>\n",
       "      <th>1</th>\n",
       "      <th>2</th>\n",
       "      <th>3</th>\n",
       "      <th>4</th>\n",
       "      <th>5</th>\n",
       "      <th>6</th>\n",
       "      <th>7</th>\n",
       "      <th>8</th>\n",
       "      <th>9</th>\n",
       "      <th>...</th>\n",
       "      <th>17</th>\n",
       "      <th>18</th>\n",
       "      <th>19</th>\n",
       "      <th>20</th>\n",
       "      <th>21</th>\n",
       "      <th>22</th>\n",
       "      <th>23</th>\n",
       "      <th>24</th>\n",
       "      <th>25</th>\n",
       "      <th>26</th>\n",
       "    </tr>\n",
       "  </thead>\n",
       "  <tbody>\n",
       "    <tr>\n",
       "      <th>mean_fit_time</th>\n",
       "      <td>0.00366648</td>\n",
       "      <td>0.00465933</td>\n",
       "      <td>0.00499678</td>\n",
       "      <td>0.0026679</td>\n",
       "      <td>0.00266568</td>\n",
       "      <td>0.00299843</td>\n",
       "      <td>0.00266623</td>\n",
       "      <td>0.0029978</td>\n",
       "      <td>0.00365829</td>\n",
       "      <td>0.00299819</td>\n",
       "      <td>...</td>\n",
       "      <td>0.00233237</td>\n",
       "      <td>0.00266528</td>\n",
       "      <td>0.00299859</td>\n",
       "      <td>0.00233157</td>\n",
       "      <td>0.00266552</td>\n",
       "      <td>0.00233253</td>\n",
       "      <td>0.00300447</td>\n",
       "      <td>0.00233229</td>\n",
       "      <td>0.00266568</td>\n",
       "      <td>0.0026656</td>\n",
       "    </tr>\n",
       "    <tr>\n",
       "      <th>std_fit_time</th>\n",
       "      <td>0.000472944</td>\n",
       "      <td>0.00234949</td>\n",
       "      <td>0.00141315</td>\n",
       "      <td>0.000467324</td>\n",
       "      <td>0.000471146</td>\n",
       "      <td>1.12392e-07</td>\n",
       "      <td>0.000471708</td>\n",
       "      <td>0.000815561</td>\n",
       "      <td>0.00168964</td>\n",
       "      <td>1.12392e-07</td>\n",
       "      <td>...</td>\n",
       "      <td>0.000471089</td>\n",
       "      <td>0.000470865</td>\n",
       "      <td>1.94668e-07</td>\n",
       "      <td>0.000470303</td>\n",
       "      <td>0.000471033</td>\n",
       "      <td>0.000472157</td>\n",
       "      <td>7.81182e-06</td>\n",
       "      <td>0.000471483</td>\n",
       "      <td>0.000471483</td>\n",
       "      <td>0.000471764</td>\n",
       "    </tr>\n",
       "    <tr>\n",
       "      <th>mean_score_time</th>\n",
       "      <td>0.00599599</td>\n",
       "      <td>0.00633931</td>\n",
       "      <td>0.00599241</td>\n",
       "      <td>0.00432746</td>\n",
       "      <td>0.00433016</td>\n",
       "      <td>0.00399725</td>\n",
       "      <td>0.00432952</td>\n",
       "      <td>0.00466394</td>\n",
       "      <td>0.0063297</td>\n",
       "      <td>0.00433071</td>\n",
       "      <td>...</td>\n",
       "      <td>0.00399701</td>\n",
       "      <td>0.00366314</td>\n",
       "      <td>0.00399836</td>\n",
       "      <td>0.00466355</td>\n",
       "      <td>0.00433048</td>\n",
       "      <td>0.00399693</td>\n",
       "      <td>0.00399709</td>\n",
       "      <td>0.00399733</td>\n",
       "      <td>0.00399224</td>\n",
       "      <td>0.00399685</td>\n",
       "    </tr>\n",
       "    <tr>\n",
       "      <th>std_score_time</th>\n",
       "      <td>0.000814591</td>\n",
       "      <td>0.000937696</td>\n",
       "      <td>0.0028316</td>\n",
       "      <td>0.000467549</td>\n",
       "      <td>0.00047137</td>\n",
       "      <td>4.89904e-07</td>\n",
       "      <td>0.000470471</td>\n",
       "      <td>0.000470702</td>\n",
       "      <td>0.00124709</td>\n",
       "      <td>0.000471315</td>\n",
       "      <td>...</td>\n",
       "      <td>4.05234e-07</td>\n",
       "      <td>0.000470247</td>\n",
       "      <td>1.83993e-06</td>\n",
       "      <td>0.000942179</td>\n",
       "      <td>0.000470809</td>\n",
       "      <td>9.19965e-07</td>\n",
       "      <td>1.94668e-07</td>\n",
       "      <td>1.08387e-06</td>\n",
       "      <td>6.35684e-06</td>\n",
       "      <td>5.15043e-07</td>\n",
       "    </tr>\n",
       "    <tr>\n",
       "      <th>param_leaf_size</th>\n",
       "      <td>10</td>\n",
       "      <td>10</td>\n",
       "      <td>10</td>\n",
       "      <td>10</td>\n",
       "      <td>10</td>\n",
       "      <td>10</td>\n",
       "      <td>10</td>\n",
       "      <td>10</td>\n",
       "      <td>10</td>\n",
       "      <td>20</td>\n",
       "      <td>...</td>\n",
       "      <td>20</td>\n",
       "      <td>30</td>\n",
       "      <td>30</td>\n",
       "      <td>30</td>\n",
       "      <td>30</td>\n",
       "      <td>30</td>\n",
       "      <td>30</td>\n",
       "      <td>30</td>\n",
       "      <td>30</td>\n",
       "      <td>30</td>\n",
       "    </tr>\n",
       "    <tr>\n",
       "      <th>param_n_neighbors</th>\n",
       "      <td>1</td>\n",
       "      <td>2</td>\n",
       "      <td>3</td>\n",
       "      <td>4</td>\n",
       "      <td>5</td>\n",
       "      <td>6</td>\n",
       "      <td>7</td>\n",
       "      <td>8</td>\n",
       "      <td>9</td>\n",
       "      <td>1</td>\n",
       "      <td>...</td>\n",
       "      <td>9</td>\n",
       "      <td>1</td>\n",
       "      <td>2</td>\n",
       "      <td>3</td>\n",
       "      <td>4</td>\n",
       "      <td>5</td>\n",
       "      <td>6</td>\n",
       "      <td>7</td>\n",
       "      <td>8</td>\n",
       "      <td>9</td>\n",
       "    </tr>\n",
       "    <tr>\n",
       "      <th>params</th>\n",
       "      <td>{'leaf_size': 10, 'n_neighbors': 1}</td>\n",
       "      <td>{'leaf_size': 10, 'n_neighbors': 2}</td>\n",
       "      <td>{'leaf_size': 10, 'n_neighbors': 3}</td>\n",
       "      <td>{'leaf_size': 10, 'n_neighbors': 4}</td>\n",
       "      <td>{'leaf_size': 10, 'n_neighbors': 5}</td>\n",
       "      <td>{'leaf_size': 10, 'n_neighbors': 6}</td>\n",
       "      <td>{'leaf_size': 10, 'n_neighbors': 7}</td>\n",
       "      <td>{'leaf_size': 10, 'n_neighbors': 8}</td>\n",
       "      <td>{'leaf_size': 10, 'n_neighbors': 9}</td>\n",
       "      <td>{'leaf_size': 20, 'n_neighbors': 1}</td>\n",
       "      <td>...</td>\n",
       "      <td>{'leaf_size': 20, 'n_neighbors': 9}</td>\n",
       "      <td>{'leaf_size': 30, 'n_neighbors': 1}</td>\n",
       "      <td>{'leaf_size': 30, 'n_neighbors': 2}</td>\n",
       "      <td>{'leaf_size': 30, 'n_neighbors': 3}</td>\n",
       "      <td>{'leaf_size': 30, 'n_neighbors': 4}</td>\n",
       "      <td>{'leaf_size': 30, 'n_neighbors': 5}</td>\n",
       "      <td>{'leaf_size': 30, 'n_neighbors': 6}</td>\n",
       "      <td>{'leaf_size': 30, 'n_neighbors': 7}</td>\n",
       "      <td>{'leaf_size': 30, 'n_neighbors': 8}</td>\n",
       "      <td>{'leaf_size': 30, 'n_neighbors': 9}</td>\n",
       "    </tr>\n",
       "    <tr>\n",
       "      <th>split0_test_score</th>\n",
       "      <td>0.980392</td>\n",
       "      <td>0.960784</td>\n",
       "      <td>0.980392</td>\n",
       "      <td>0.980392</td>\n",
       "      <td>0.980392</td>\n",
       "      <td>0.980392</td>\n",
       "      <td>0.980392</td>\n",
       "      <td>0.980392</td>\n",
       "      <td>0.960784</td>\n",
       "      <td>0.980392</td>\n",
       "      <td>...</td>\n",
       "      <td>0.960784</td>\n",
       "      <td>0.980392</td>\n",
       "      <td>0.960784</td>\n",
       "      <td>0.980392</td>\n",
       "      <td>0.980392</td>\n",
       "      <td>0.980392</td>\n",
       "      <td>0.980392</td>\n",
       "      <td>0.980392</td>\n",
       "      <td>0.980392</td>\n",
       "      <td>0.960784</td>\n",
       "    </tr>\n",
       "    <tr>\n",
       "      <th>split1_test_score</th>\n",
       "      <td>0.921569</td>\n",
       "      <td>0.941176</td>\n",
       "      <td>0.960784</td>\n",
       "      <td>0.960784</td>\n",
       "      <td>0.980392</td>\n",
       "      <td>0.960784</td>\n",
       "      <td>0.960784</td>\n",
       "      <td>0.980392</td>\n",
       "      <td>0.980392</td>\n",
       "      <td>0.921569</td>\n",
       "      <td>...</td>\n",
       "      <td>0.980392</td>\n",
       "      <td>0.921569</td>\n",
       "      <td>0.941176</td>\n",
       "      <td>0.960784</td>\n",
       "      <td>0.960784</td>\n",
       "      <td>0.980392</td>\n",
       "      <td>0.960784</td>\n",
       "      <td>0.960784</td>\n",
       "      <td>0.980392</td>\n",
       "      <td>0.980392</td>\n",
       "    </tr>\n",
       "    <tr>\n",
       "      <th>split2_test_score</th>\n",
       "      <td>1</td>\n",
       "      <td>0.958333</td>\n",
       "      <td>1</td>\n",
       "      <td>0.979167</td>\n",
       "      <td>1</td>\n",
       "      <td>0.979167</td>\n",
       "      <td>0.979167</td>\n",
       "      <td>0.979167</td>\n",
       "      <td>0.979167</td>\n",
       "      <td>1</td>\n",
       "      <td>...</td>\n",
       "      <td>0.979167</td>\n",
       "      <td>1</td>\n",
       "      <td>0.958333</td>\n",
       "      <td>1</td>\n",
       "      <td>0.979167</td>\n",
       "      <td>1</td>\n",
       "      <td>0.979167</td>\n",
       "      <td>0.979167</td>\n",
       "      <td>0.979167</td>\n",
       "      <td>0.979167</td>\n",
       "    </tr>\n",
       "    <tr>\n",
       "      <th>mean_test_score</th>\n",
       "      <td>0.966667</td>\n",
       "      <td>0.953333</td>\n",
       "      <td>0.98</td>\n",
       "      <td>0.973333</td>\n",
       "      <td>0.986667</td>\n",
       "      <td>0.973333</td>\n",
       "      <td>0.973333</td>\n",
       "      <td>0.98</td>\n",
       "      <td>0.973333</td>\n",
       "      <td>0.966667</td>\n",
       "      <td>...</td>\n",
       "      <td>0.973333</td>\n",
       "      <td>0.966667</td>\n",
       "      <td>0.953333</td>\n",
       "      <td>0.98</td>\n",
       "      <td>0.973333</td>\n",
       "      <td>0.986667</td>\n",
       "      <td>0.973333</td>\n",
       "      <td>0.973333</td>\n",
       "      <td>0.98</td>\n",
       "      <td>0.973333</td>\n",
       "    </tr>\n",
       "    <tr>\n",
       "      <th>std_test_score</th>\n",
       "      <td>0.0333333</td>\n",
       "      <td>0.00878204</td>\n",
       "      <td>0.0159247</td>\n",
       "      <td>0.00902067</td>\n",
       "      <td>0.00914659</td>\n",
       "      <td>0.00902067</td>\n",
       "      <td>0.00902067</td>\n",
       "      <td>0.000571662</td>\n",
       "      <td>0.00902067</td>\n",
       "      <td>0.0333333</td>\n",
       "      <td>...</td>\n",
       "      <td>0.00902067</td>\n",
       "      <td>0.0333333</td>\n",
       "      <td>0.00878204</td>\n",
       "      <td>0.0159247</td>\n",
       "      <td>0.00902067</td>\n",
       "      <td>0.00914659</td>\n",
       "      <td>0.00902067</td>\n",
       "      <td>0.00902067</td>\n",
       "      <td>0.000571662</td>\n",
       "      <td>0.00902067</td>\n",
       "    </tr>\n",
       "    <tr>\n",
       "      <th>rank_test_score</th>\n",
       "      <td>22</td>\n",
       "      <td>25</td>\n",
       "      <td>4</td>\n",
       "      <td>10</td>\n",
       "      <td>1</td>\n",
       "      <td>10</td>\n",
       "      <td>10</td>\n",
       "      <td>4</td>\n",
       "      <td>10</td>\n",
       "      <td>22</td>\n",
       "      <td>...</td>\n",
       "      <td>10</td>\n",
       "      <td>22</td>\n",
       "      <td>25</td>\n",
       "      <td>4</td>\n",
       "      <td>10</td>\n",
       "      <td>1</td>\n",
       "      <td>10</td>\n",
       "      <td>10</td>\n",
       "      <td>4</td>\n",
       "      <td>10</td>\n",
       "    </tr>\n",
       "  </tbody>\n",
       "</table>\n",
       "<p>13 rows × 27 columns</p>\n",
       "</div>"
      ],
      "text/plain": [
       "                                                    0   \\\n",
       "mean_fit_time                               0.00366648   \n",
       "std_fit_time                               0.000472944   \n",
       "mean_score_time                             0.00599599   \n",
       "std_score_time                             0.000814591   \n",
       "param_leaf_size                                     10   \n",
       "param_n_neighbors                                    1   \n",
       "params             {'leaf_size': 10, 'n_neighbors': 1}   \n",
       "split0_test_score                             0.980392   \n",
       "split1_test_score                             0.921569   \n",
       "split2_test_score                                    1   \n",
       "mean_test_score                               0.966667   \n",
       "std_test_score                               0.0333333   \n",
       "rank_test_score                                     22   \n",
       "\n",
       "                                                    1   \\\n",
       "mean_fit_time                               0.00465933   \n",
       "std_fit_time                                0.00234949   \n",
       "mean_score_time                             0.00633931   \n",
       "std_score_time                             0.000937696   \n",
       "param_leaf_size                                     10   \n",
       "param_n_neighbors                                    2   \n",
       "params             {'leaf_size': 10, 'n_neighbors': 2}   \n",
       "split0_test_score                             0.960784   \n",
       "split1_test_score                             0.941176   \n",
       "split2_test_score                             0.958333   \n",
       "mean_test_score                               0.953333   \n",
       "std_test_score                              0.00878204   \n",
       "rank_test_score                                     25   \n",
       "\n",
       "                                                    2   \\\n",
       "mean_fit_time                               0.00499678   \n",
       "std_fit_time                                0.00141315   \n",
       "mean_score_time                             0.00599241   \n",
       "std_score_time                               0.0028316   \n",
       "param_leaf_size                                     10   \n",
       "param_n_neighbors                                    3   \n",
       "params             {'leaf_size': 10, 'n_neighbors': 3}   \n",
       "split0_test_score                             0.980392   \n",
       "split1_test_score                             0.960784   \n",
       "split2_test_score                                    1   \n",
       "mean_test_score                                   0.98   \n",
       "std_test_score                               0.0159247   \n",
       "rank_test_score                                      4   \n",
       "\n",
       "                                                    3   \\\n",
       "mean_fit_time                                0.0026679   \n",
       "std_fit_time                               0.000467324   \n",
       "mean_score_time                             0.00432746   \n",
       "std_score_time                             0.000467549   \n",
       "param_leaf_size                                     10   \n",
       "param_n_neighbors                                    4   \n",
       "params             {'leaf_size': 10, 'n_neighbors': 4}   \n",
       "split0_test_score                             0.980392   \n",
       "split1_test_score                             0.960784   \n",
       "split2_test_score                             0.979167   \n",
       "mean_test_score                               0.973333   \n",
       "std_test_score                              0.00902067   \n",
       "rank_test_score                                     10   \n",
       "\n",
       "                                                    4   \\\n",
       "mean_fit_time                               0.00266568   \n",
       "std_fit_time                               0.000471146   \n",
       "mean_score_time                             0.00433016   \n",
       "std_score_time                              0.00047137   \n",
       "param_leaf_size                                     10   \n",
       "param_n_neighbors                                    5   \n",
       "params             {'leaf_size': 10, 'n_neighbors': 5}   \n",
       "split0_test_score                             0.980392   \n",
       "split1_test_score                             0.980392   \n",
       "split2_test_score                                    1   \n",
       "mean_test_score                               0.986667   \n",
       "std_test_score                              0.00914659   \n",
       "rank_test_score                                      1   \n",
       "\n",
       "                                                    5   \\\n",
       "mean_fit_time                               0.00299843   \n",
       "std_fit_time                               1.12392e-07   \n",
       "mean_score_time                             0.00399725   \n",
       "std_score_time                             4.89904e-07   \n",
       "param_leaf_size                                     10   \n",
       "param_n_neighbors                                    6   \n",
       "params             {'leaf_size': 10, 'n_neighbors': 6}   \n",
       "split0_test_score                             0.980392   \n",
       "split1_test_score                             0.960784   \n",
       "split2_test_score                             0.979167   \n",
       "mean_test_score                               0.973333   \n",
       "std_test_score                              0.00902067   \n",
       "rank_test_score                                     10   \n",
       "\n",
       "                                                    6   \\\n",
       "mean_fit_time                               0.00266623   \n",
       "std_fit_time                               0.000471708   \n",
       "mean_score_time                             0.00432952   \n",
       "std_score_time                             0.000470471   \n",
       "param_leaf_size                                     10   \n",
       "param_n_neighbors                                    7   \n",
       "params             {'leaf_size': 10, 'n_neighbors': 7}   \n",
       "split0_test_score                             0.980392   \n",
       "split1_test_score                             0.960784   \n",
       "split2_test_score                             0.979167   \n",
       "mean_test_score                               0.973333   \n",
       "std_test_score                              0.00902067   \n",
       "rank_test_score                                     10   \n",
       "\n",
       "                                                    7   \\\n",
       "mean_fit_time                                0.0029978   \n",
       "std_fit_time                               0.000815561   \n",
       "mean_score_time                             0.00466394   \n",
       "std_score_time                             0.000470702   \n",
       "param_leaf_size                                     10   \n",
       "param_n_neighbors                                    8   \n",
       "params             {'leaf_size': 10, 'n_neighbors': 8}   \n",
       "split0_test_score                             0.980392   \n",
       "split1_test_score                             0.980392   \n",
       "split2_test_score                             0.979167   \n",
       "mean_test_score                                   0.98   \n",
       "std_test_score                             0.000571662   \n",
       "rank_test_score                                      4   \n",
       "\n",
       "                                                    8   \\\n",
       "mean_fit_time                               0.00365829   \n",
       "std_fit_time                                0.00168964   \n",
       "mean_score_time                              0.0063297   \n",
       "std_score_time                              0.00124709   \n",
       "param_leaf_size                                     10   \n",
       "param_n_neighbors                                    9   \n",
       "params             {'leaf_size': 10, 'n_neighbors': 9}   \n",
       "split0_test_score                             0.960784   \n",
       "split1_test_score                             0.980392   \n",
       "split2_test_score                             0.979167   \n",
       "mean_test_score                               0.973333   \n",
       "std_test_score                              0.00902067   \n",
       "rank_test_score                                     10   \n",
       "\n",
       "                                                    9   ...  \\\n",
       "mean_fit_time                               0.00299819  ...   \n",
       "std_fit_time                               1.12392e-07  ...   \n",
       "mean_score_time                             0.00433071  ...   \n",
       "std_score_time                             0.000471315  ...   \n",
       "param_leaf_size                                     20  ...   \n",
       "param_n_neighbors                                    1  ...   \n",
       "params             {'leaf_size': 20, 'n_neighbors': 1}  ...   \n",
       "split0_test_score                             0.980392  ...   \n",
       "split1_test_score                             0.921569  ...   \n",
       "split2_test_score                                    1  ...   \n",
       "mean_test_score                               0.966667  ...   \n",
       "std_test_score                               0.0333333  ...   \n",
       "rank_test_score                                     22  ...   \n",
       "\n",
       "                                                    17  \\\n",
       "mean_fit_time                               0.00233237   \n",
       "std_fit_time                               0.000471089   \n",
       "mean_score_time                             0.00399701   \n",
       "std_score_time                             4.05234e-07   \n",
       "param_leaf_size                                     20   \n",
       "param_n_neighbors                                    9   \n",
       "params             {'leaf_size': 20, 'n_neighbors': 9}   \n",
       "split0_test_score                             0.960784   \n",
       "split1_test_score                             0.980392   \n",
       "split2_test_score                             0.979167   \n",
       "mean_test_score                               0.973333   \n",
       "std_test_score                              0.00902067   \n",
       "rank_test_score                                     10   \n",
       "\n",
       "                                                    18  \\\n",
       "mean_fit_time                               0.00266528   \n",
       "std_fit_time                               0.000470865   \n",
       "mean_score_time                             0.00366314   \n",
       "std_score_time                             0.000470247   \n",
       "param_leaf_size                                     30   \n",
       "param_n_neighbors                                    1   \n",
       "params             {'leaf_size': 30, 'n_neighbors': 1}   \n",
       "split0_test_score                             0.980392   \n",
       "split1_test_score                             0.921569   \n",
       "split2_test_score                                    1   \n",
       "mean_test_score                               0.966667   \n",
       "std_test_score                               0.0333333   \n",
       "rank_test_score                                     22   \n",
       "\n",
       "                                                    19  \\\n",
       "mean_fit_time                               0.00299859   \n",
       "std_fit_time                               1.94668e-07   \n",
       "mean_score_time                             0.00399836   \n",
       "std_score_time                             1.83993e-06   \n",
       "param_leaf_size                                     30   \n",
       "param_n_neighbors                                    2   \n",
       "params             {'leaf_size': 30, 'n_neighbors': 2}   \n",
       "split0_test_score                             0.960784   \n",
       "split1_test_score                             0.941176   \n",
       "split2_test_score                             0.958333   \n",
       "mean_test_score                               0.953333   \n",
       "std_test_score                              0.00878204   \n",
       "rank_test_score                                     25   \n",
       "\n",
       "                                                    20  \\\n",
       "mean_fit_time                               0.00233157   \n",
       "std_fit_time                               0.000470303   \n",
       "mean_score_time                             0.00466355   \n",
       "std_score_time                             0.000942179   \n",
       "param_leaf_size                                     30   \n",
       "param_n_neighbors                                    3   \n",
       "params             {'leaf_size': 30, 'n_neighbors': 3}   \n",
       "split0_test_score                             0.980392   \n",
       "split1_test_score                             0.960784   \n",
       "split2_test_score                                    1   \n",
       "mean_test_score                                   0.98   \n",
       "std_test_score                               0.0159247   \n",
       "rank_test_score                                      4   \n",
       "\n",
       "                                                    21  \\\n",
       "mean_fit_time                               0.00266552   \n",
       "std_fit_time                               0.000471033   \n",
       "mean_score_time                             0.00433048   \n",
       "std_score_time                             0.000470809   \n",
       "param_leaf_size                                     30   \n",
       "param_n_neighbors                                    4   \n",
       "params             {'leaf_size': 30, 'n_neighbors': 4}   \n",
       "split0_test_score                             0.980392   \n",
       "split1_test_score                             0.960784   \n",
       "split2_test_score                             0.979167   \n",
       "mean_test_score                               0.973333   \n",
       "std_test_score                              0.00902067   \n",
       "rank_test_score                                     10   \n",
       "\n",
       "                                                    22  \\\n",
       "mean_fit_time                               0.00233253   \n",
       "std_fit_time                               0.000472157   \n",
       "mean_score_time                             0.00399693   \n",
       "std_score_time                             9.19965e-07   \n",
       "param_leaf_size                                     30   \n",
       "param_n_neighbors                                    5   \n",
       "params             {'leaf_size': 30, 'n_neighbors': 5}   \n",
       "split0_test_score                             0.980392   \n",
       "split1_test_score                             0.980392   \n",
       "split2_test_score                                    1   \n",
       "mean_test_score                               0.986667   \n",
       "std_test_score                              0.00914659   \n",
       "rank_test_score                                      1   \n",
       "\n",
       "                                                    23  \\\n",
       "mean_fit_time                               0.00300447   \n",
       "std_fit_time                               7.81182e-06   \n",
       "mean_score_time                             0.00399709   \n",
       "std_score_time                             1.94668e-07   \n",
       "param_leaf_size                                     30   \n",
       "param_n_neighbors                                    6   \n",
       "params             {'leaf_size': 30, 'n_neighbors': 6}   \n",
       "split0_test_score                             0.980392   \n",
       "split1_test_score                             0.960784   \n",
       "split2_test_score                             0.979167   \n",
       "mean_test_score                               0.973333   \n",
       "std_test_score                              0.00902067   \n",
       "rank_test_score                                     10   \n",
       "\n",
       "                                                    24  \\\n",
       "mean_fit_time                               0.00233229   \n",
       "std_fit_time                               0.000471483   \n",
       "mean_score_time                             0.00399733   \n",
       "std_score_time                             1.08387e-06   \n",
       "param_leaf_size                                     30   \n",
       "param_n_neighbors                                    7   \n",
       "params             {'leaf_size': 30, 'n_neighbors': 7}   \n",
       "split0_test_score                             0.980392   \n",
       "split1_test_score                             0.960784   \n",
       "split2_test_score                             0.979167   \n",
       "mean_test_score                               0.973333   \n",
       "std_test_score                              0.00902067   \n",
       "rank_test_score                                     10   \n",
       "\n",
       "                                                    25  \\\n",
       "mean_fit_time                               0.00266568   \n",
       "std_fit_time                               0.000471483   \n",
       "mean_score_time                             0.00399224   \n",
       "std_score_time                             6.35684e-06   \n",
       "param_leaf_size                                     30   \n",
       "param_n_neighbors                                    8   \n",
       "params             {'leaf_size': 30, 'n_neighbors': 8}   \n",
       "split0_test_score                             0.980392   \n",
       "split1_test_score                             0.980392   \n",
       "split2_test_score                             0.979167   \n",
       "mean_test_score                                   0.98   \n",
       "std_test_score                             0.000571662   \n",
       "rank_test_score                                      4   \n",
       "\n",
       "                                                    26  \n",
       "mean_fit_time                                0.0026656  \n",
       "std_fit_time                               0.000471764  \n",
       "mean_score_time                             0.00399685  \n",
       "std_score_time                             5.15043e-07  \n",
       "param_leaf_size                                     30  \n",
       "param_n_neighbors                                    9  \n",
       "params             {'leaf_size': 30, 'n_neighbors': 9}  \n",
       "split0_test_score                             0.960784  \n",
       "split1_test_score                             0.980392  \n",
       "split2_test_score                             0.979167  \n",
       "mean_test_score                               0.973333  \n",
       "std_test_score                              0.00902067  \n",
       "rank_test_score                                     10  \n",
       "\n",
       "[13 rows x 27 columns]"
      ]
     },
     "execution_count": 107,
     "metadata": {},
     "output_type": "execute_result"
    }
   ],
   "source": [
    "pd.DataFrame(grid.cv_results_).T"
   ]
  },
  {
   "cell_type": "markdown",
   "metadata": {},
   "source": [
    "# Encoding\n"
   ]
  },
  {
   "cell_type": "code",
   "execution_count": 108,
   "metadata": {
    "ExecuteTime": {
     "end_time": "2019-07-26T02:34:28.725507Z",
     "start_time": "2019-07-26T02:34:27.521197Z"
    }
   },
   "outputs": [],
   "source": [
    "import seaborn"
   ]
  },
  {
   "cell_type": "code",
   "execution_count": 109,
   "metadata": {
    "ExecuteTime": {
     "end_time": "2019-07-26T02:34:41.289325Z",
     "start_time": "2019-07-26T02:34:41.250355Z"
    }
   },
   "outputs": [],
   "source": [
    "iris = seaborn.load_dataset('iris')"
   ]
  },
  {
   "cell_type": "code",
   "execution_count": 110,
   "metadata": {
    "ExecuteTime": {
     "end_time": "2019-07-26T02:35:43.097004Z",
     "start_time": "2019-07-26T02:35:43.071019Z"
    }
   },
   "outputs": [
    {
     "data": {
      "text/html": [
       "<div>\n",
       "<style scoped>\n",
       "    .dataframe tbody tr th:only-of-type {\n",
       "        vertical-align: middle;\n",
       "    }\n",
       "\n",
       "    .dataframe tbody tr th {\n",
       "        vertical-align: top;\n",
       "    }\n",
       "\n",
       "    .dataframe thead th {\n",
       "        text-align: right;\n",
       "    }\n",
       "</style>\n",
       "<table border=\"1\" class=\"dataframe\">\n",
       "  <thead>\n",
       "    <tr style=\"text-align: right;\">\n",
       "      <th></th>\n",
       "      <th>sepal_length</th>\n",
       "      <th>sepal_width</th>\n",
       "      <th>petal_length</th>\n",
       "      <th>petal_width</th>\n",
       "      <th>species</th>\n",
       "    </tr>\n",
       "  </thead>\n",
       "  <tbody>\n",
       "    <tr>\n",
       "      <th>0</th>\n",
       "      <td>5.1</td>\n",
       "      <td>3.5</td>\n",
       "      <td>1.4</td>\n",
       "      <td>0.2</td>\n",
       "      <td>setosa</td>\n",
       "    </tr>\n",
       "    <tr>\n",
       "      <th>1</th>\n",
       "      <td>4.9</td>\n",
       "      <td>3.0</td>\n",
       "      <td>1.4</td>\n",
       "      <td>0.2</td>\n",
       "      <td>setosa</td>\n",
       "    </tr>\n",
       "    <tr>\n",
       "      <th>2</th>\n",
       "      <td>4.7</td>\n",
       "      <td>3.2</td>\n",
       "      <td>1.3</td>\n",
       "      <td>0.2</td>\n",
       "      <td>setosa</td>\n",
       "    </tr>\n",
       "    <tr>\n",
       "      <th>3</th>\n",
       "      <td>4.6</td>\n",
       "      <td>3.1</td>\n",
       "      <td>1.5</td>\n",
       "      <td>0.2</td>\n",
       "      <td>setosa</td>\n",
       "    </tr>\n",
       "    <tr>\n",
       "      <th>4</th>\n",
       "      <td>5.0</td>\n",
       "      <td>3.6</td>\n",
       "      <td>1.4</td>\n",
       "      <td>0.2</td>\n",
       "      <td>setosa</td>\n",
       "    </tr>\n",
       "  </tbody>\n",
       "</table>\n",
       "</div>"
      ],
      "text/plain": [
       "   sepal_length  sepal_width  petal_length  petal_width species\n",
       "0           5.1          3.5           1.4          0.2  setosa\n",
       "1           4.9          3.0           1.4          0.2  setosa\n",
       "2           4.7          3.2           1.3          0.2  setosa\n",
       "3           4.6          3.1           1.5          0.2  setosa\n",
       "4           5.0          3.6           1.4          0.2  setosa"
      ]
     },
     "execution_count": 110,
     "metadata": {},
     "output_type": "execute_result"
    }
   ],
   "source": [
    "iris.head()"
   ]
  },
  {
   "cell_type": "code",
   "execution_count": 121,
   "metadata": {
    "ExecuteTime": {
     "end_time": "2019-07-26T02:38:10.858559Z",
     "start_time": "2019-07-26T02:38:10.843564Z"
    }
   },
   "outputs": [
    {
     "data": {
      "text/plain": [
       "124    1\n",
       "101    1\n",
       "47     0\n",
       "74     2\n",
       "39     0\n",
       "97     2\n",
       "137    1\n",
       "121    1\n",
       "104    1\n",
       "3      0\n",
       "Name: species, dtype: int64"
      ]
     },
     "execution_count": 121,
     "metadata": {},
     "output_type": "execute_result"
    }
   ],
   "source": [
    "iris.species.map({'setosa':0, 'virginica':1, 'versicolor':2}).sample(10)"
   ]
  },
  {
   "cell_type": "markdown",
   "metadata": {},
   "source": [
    "## 라벨 인코딩의 문제점\n",
    "- train시 categorical data가 numeric data로 인지될 수 있다.\n",
    "- test 데이터에서는 사용하여도 된다."
   ]
  },
  {
   "cell_type": "code",
   "execution_count": 122,
   "metadata": {
    "ExecuteTime": {
     "end_time": "2019-07-26T02:39:18.063150Z",
     "start_time": "2019-07-26T02:39:18.059153Z"
    }
   },
   "outputs": [],
   "source": [
    "from sklearn.preprocessing import LabelEncoder"
   ]
  },
  {
   "cell_type": "code",
   "execution_count": 123,
   "metadata": {
    "ExecuteTime": {
     "end_time": "2019-07-26T02:39:39.048158Z",
     "start_time": "2019-07-26T02:39:39.043159Z"
    }
   },
   "outputs": [],
   "source": [
    "le = LabelEncoder()"
   ]
  },
  {
   "cell_type": "code",
   "execution_count": 124,
   "metadata": {
    "ExecuteTime": {
     "end_time": "2019-07-26T02:40:04.097842Z",
     "start_time": "2019-07-26T02:40:04.089846Z"
    }
   },
   "outputs": [
    {
     "data": {
      "text/plain": [
       "LabelEncoder()"
      ]
     },
     "execution_count": 124,
     "metadata": {},
     "output_type": "execute_result"
    }
   ],
   "source": [
    "le.fit(iris.species)"
   ]
  },
  {
   "cell_type": "code",
   "execution_count": 125,
   "metadata": {
    "ExecuteTime": {
     "end_time": "2019-07-26T02:40:18.794442Z",
     "start_time": "2019-07-26T02:40:18.784448Z"
    }
   },
   "outputs": [
    {
     "data": {
      "text/plain": [
       "array([0, 0, 0, 0, 0, 0, 0, 0, 0, 0, 0, 0, 0, 0, 0, 0, 0, 0, 0, 0, 0, 0,\n",
       "       0, 0, 0, 0, 0, 0, 0, 0, 0, 0, 0, 0, 0, 0, 0, 0, 0, 0, 0, 0, 0, 0,\n",
       "       0, 0, 0, 0, 0, 0, 1, 1, 1, 1, 1, 1, 1, 1, 1, 1, 1, 1, 1, 1, 1, 1,\n",
       "       1, 1, 1, 1, 1, 1, 1, 1, 1, 1, 1, 1, 1, 1, 1, 1, 1, 1, 1, 1, 1, 1,\n",
       "       1, 1, 1, 1, 1, 1, 1, 1, 1, 1, 1, 1, 2, 2, 2, 2, 2, 2, 2, 2, 2, 2,\n",
       "       2, 2, 2, 2, 2, 2, 2, 2, 2, 2, 2, 2, 2, 2, 2, 2, 2, 2, 2, 2, 2, 2,\n",
       "       2, 2, 2, 2, 2, 2, 2, 2, 2, 2, 2, 2, 2, 2, 2, 2, 2, 2])"
      ]
     },
     "execution_count": 125,
     "metadata": {},
     "output_type": "execute_result"
    }
   ],
   "source": [
    "le.transform(iris.species)"
   ]
  },
  {
   "cell_type": "code",
   "execution_count": 126,
   "metadata": {
    "ExecuteTime": {
     "end_time": "2019-07-26T02:40:44.227907Z",
     "start_time": "2019-07-26T02:40:44.217916Z"
    }
   },
   "outputs": [
    {
     "data": {
      "text/plain": [
       "array([0, 0, 0, 0, 0, 0, 0, 0, 0, 0, 0, 0, 0, 0, 0, 0, 0, 0, 0, 0, 0, 0,\n",
       "       0, 0, 0, 0, 0, 0, 0, 0, 0, 0, 0, 0, 0, 0, 0, 0, 0, 0, 0, 0, 0, 0,\n",
       "       0, 0, 0, 0, 0, 0, 1, 1, 1, 1, 1, 1, 1, 1, 1, 1, 1, 1, 1, 1, 1, 1,\n",
       "       1, 1, 1, 1, 1, 1, 1, 1, 1, 1, 1, 1, 1, 1, 1, 1, 1, 1, 1, 1, 1, 1,\n",
       "       1, 1, 1, 1, 1, 1, 1, 1, 1, 1, 1, 1, 2, 2, 2, 2, 2, 2, 2, 2, 2, 2,\n",
       "       2, 2, 2, 2, 2, 2, 2, 2, 2, 2, 2, 2, 2, 2, 2, 2, 2, 2, 2, 2, 2, 2,\n",
       "       2, 2, 2, 2, 2, 2, 2, 2, 2, 2, 2, 2, 2, 2, 2, 2, 2, 2])"
      ]
     },
     "execution_count": 126,
     "metadata": {},
     "output_type": "execute_result"
    }
   ],
   "source": [
    "le.fit_transform(iris.species)"
   ]
  },
  {
   "cell_type": "markdown",
   "metadata": {},
   "source": [
    "## one-hot encoding\n",
    "- 차원이 커진다.. 차원의 저주 걸릴 수 있다.\n",
    "- 벡터의 크기는 무적권 0이다."
   ]
  },
  {
   "cell_type": "code",
   "execution_count": 128,
   "metadata": {
    "ExecuteTime": {
     "end_time": "2019-07-26T02:43:32.577693Z",
     "start_time": "2019-07-26T02:43:32.558705Z"
    }
   },
   "outputs": [
    {
     "data": {
      "text/html": [
       "<div>\n",
       "<style scoped>\n",
       "    .dataframe tbody tr th:only-of-type {\n",
       "        vertical-align: middle;\n",
       "    }\n",
       "\n",
       "    .dataframe tbody tr th {\n",
       "        vertical-align: top;\n",
       "    }\n",
       "\n",
       "    .dataframe thead th {\n",
       "        text-align: right;\n",
       "    }\n",
       "</style>\n",
       "<table border=\"1\" class=\"dataframe\">\n",
       "  <thead>\n",
       "    <tr style=\"text-align: right;\">\n",
       "      <th></th>\n",
       "      <th>setosa</th>\n",
       "      <th>versicolor</th>\n",
       "      <th>virginica</th>\n",
       "    </tr>\n",
       "  </thead>\n",
       "  <tbody>\n",
       "    <tr>\n",
       "      <th>0</th>\n",
       "      <td>1</td>\n",
       "      <td>0</td>\n",
       "      <td>0</td>\n",
       "    </tr>\n",
       "    <tr>\n",
       "      <th>1</th>\n",
       "      <td>1</td>\n",
       "      <td>0</td>\n",
       "      <td>0</td>\n",
       "    </tr>\n",
       "    <tr>\n",
       "      <th>2</th>\n",
       "      <td>1</td>\n",
       "      <td>0</td>\n",
       "      <td>0</td>\n",
       "    </tr>\n",
       "    <tr>\n",
       "      <th>3</th>\n",
       "      <td>1</td>\n",
       "      <td>0</td>\n",
       "      <td>0</td>\n",
       "    </tr>\n",
       "    <tr>\n",
       "      <th>4</th>\n",
       "      <td>1</td>\n",
       "      <td>0</td>\n",
       "      <td>0</td>\n",
       "    </tr>\n",
       "  </tbody>\n",
       "</table>\n",
       "</div>"
      ],
      "text/plain": [
       "   setosa  versicolor  virginica\n",
       "0       1           0          0\n",
       "1       1           0          0\n",
       "2       1           0          0\n",
       "3       1           0          0\n",
       "4       1           0          0"
      ]
     },
     "execution_count": 128,
     "metadata": {},
     "output_type": "execute_result"
    }
   ],
   "source": [
    "pd.get_dummies(iris.species).head()"
   ]
  },
  {
   "cell_type": "code",
   "execution_count": 129,
   "metadata": {
    "ExecuteTime": {
     "end_time": "2019-07-26T02:44:15.131375Z",
     "start_time": "2019-07-26T02:44:15.126378Z"
    }
   },
   "outputs": [],
   "source": [
    "from sklearn.preprocessing import OneHotEncoder"
   ]
  },
  {
   "cell_type": "code",
   "execution_count": 130,
   "metadata": {
    "ExecuteTime": {
     "end_time": "2019-07-26T02:44:22.082403Z",
     "start_time": "2019-07-26T02:44:22.078406Z"
    }
   },
   "outputs": [],
   "source": [
    "ohe = OneHotEncoder()"
   ]
  },
  {
   "cell_type": "code",
   "execution_count": 133,
   "metadata": {
    "ExecuteTime": {
     "end_time": "2019-07-26T02:45:34.459040Z",
     "start_time": "2019-07-26T02:45:34.446048Z"
    }
   },
   "outputs": [
    {
     "data": {
      "text/plain": [
       "OneHotEncoder(categorical_features=None, categories=None, drop=None,\n",
       "              dtype=<class 'numpy.float64'>, handle_unknown='error',\n",
       "              n_values=None, sparse=True)"
      ]
     },
     "execution_count": 133,
     "metadata": {},
     "output_type": "execute_result"
    }
   ],
   "source": [
    "ohe.fit(iris[['species']]) # fancy indexing"
   ]
  },
  {
   "cell_type": "code",
   "execution_count": 139,
   "metadata": {
    "ExecuteTime": {
     "end_time": "2019-07-26T02:46:19.303411Z",
     "start_time": "2019-07-26T02:46:19.290417Z"
    }
   },
   "outputs": [
    {
     "data": {
      "text/plain": [
       "array([[1., 0., 0.],\n",
       "       [1., 0., 0.],\n",
       "       [1., 0., 0.],\n",
       "       [1., 0., 0.],\n",
       "       [1., 0., 0.],\n",
       "       [1., 0., 0.],\n",
       "       [1., 0., 0.],\n",
       "       [1., 0., 0.],\n",
       "       [1., 0., 0.],\n",
       "       [1., 0., 0.]])"
      ]
     },
     "execution_count": 139,
     "metadata": {},
     "output_type": "execute_result"
    }
   ],
   "source": [
    "ohe.transform(iris[['species']]).toarray()[:10]"
   ]
  },
  {
   "cell_type": "code",
   "execution_count": 140,
   "metadata": {
    "ExecuteTime": {
     "end_time": "2019-07-26T02:46:33.174483Z",
     "start_time": "2019-07-26T02:46:33.160490Z"
    }
   },
   "outputs": [
    {
     "data": {
      "text/plain": [
       "array([[1., 0., 0.],\n",
       "       [1., 0., 0.],\n",
       "       [1., 0., 0.],\n",
       "       [1., 0., 0.],\n",
       "       [1., 0., 0.],\n",
       "       [1., 0., 0.],\n",
       "       [1., 0., 0.],\n",
       "       [1., 0., 0.],\n",
       "       [1., 0., 0.],\n",
       "       [1., 0., 0.]])"
      ]
     },
     "execution_count": 140,
     "metadata": {},
     "output_type": "execute_result"
    }
   ],
   "source": [
    "ohe.fit_transform(iris[['species']]).toarray()[:10]"
   ]
  },
  {
   "cell_type": "code",
   "execution_count": 141,
   "metadata": {
    "ExecuteTime": {
     "end_time": "2019-07-26T02:47:08.788130Z",
     "start_time": "2019-07-26T02:47:08.780135Z"
    }
   },
   "outputs": [
    {
     "data": {
      "text/plain": [
       "array([['setosa']], dtype=object)"
      ]
     },
     "execution_count": 141,
     "metadata": {},
     "output_type": "execute_result"
    }
   ],
   "source": [
    "## 사이킷을 변환시킨 데이터를 편하게 거꾸로 돌릴 수 있다.\n",
    "ohe.inverse_transform([[1,0,0]])"
   ]
  },
  {
   "cell_type": "code",
   "execution_count": 144,
   "metadata": {
    "ExecuteTime": {
     "end_time": "2019-07-26T02:47:57.199464Z",
     "start_time": "2019-07-26T02:47:57.190469Z"
    }
   },
   "outputs": [
    {
     "data": {
      "text/plain": [
       "array(['virginica', 'versicolor', 'setosa'], dtype=object)"
      ]
     },
     "execution_count": 144,
     "metadata": {},
     "output_type": "execute_result"
    }
   ],
   "source": [
    "le.inverse_transform([2,1,0])"
   ]
  },
  {
   "cell_type": "markdown",
   "metadata": {},
   "source": [
    "-----------------------------------"
   ]
  },
  {
   "cell_type": "markdown",
   "metadata": {},
   "source": [
    "# Preprocessing\n",
    "- Standard Scale : $ z = \\frac{x-\\mu}{\\sigma} $\n",
    "    - test set에서는 하지 않아도 작동된다.\n",
    "- "
   ]
  },
  {
   "cell_type": "code",
   "execution_count": 146,
   "metadata": {
    "ExecuteTime": {
     "end_time": "2019-07-26T03:14:35.867776Z",
     "start_time": "2019-07-26T03:14:35.861779Z"
    }
   },
   "outputs": [],
   "source": [
    "from sklearn.preprocessing import MinMaxScaler, RobustScaler"
   ]
  },
  {
   "cell_type": "code",
   "execution_count": 151,
   "metadata": {
    "ExecuteTime": {
     "end_time": "2019-07-26T03:28:38.277337Z",
     "start_time": "2019-07-26T03:28:38.264344Z"
    }
   },
   "outputs": [
    {
     "data": {
      "text/plain": [
       "0    6.1\n",
       "1    5.9\n",
       "2    5.7\n",
       "3    5.6\n",
       "4    6.0\n",
       "Name: sepal_length, dtype: float64"
      ]
     },
     "execution_count": 151,
     "metadata": {},
     "output_type": "execute_result"
    }
   ],
   "source": [
    "iris.sepal_length.map(lambda x : x+1).head()\n",
    "## predict할 때도 똑같이 바꿔줘야 한다."
   ]
  },
  {
   "cell_type": "code",
   "execution_count": 158,
   "metadata": {
    "ExecuteTime": {
     "end_time": "2019-07-26T03:39:01.467181Z",
     "start_time": "2019-07-26T03:39:01.462191Z"
    }
   },
   "outputs": [],
   "source": [
    "## 학습이 잘 됬나???\n",
    "from sklearn.model_selection import learning_curve, validation_curve"
   ]
  },
  {
   "cell_type": "code",
   "execution_count": 154,
   "metadata": {
    "ExecuteTime": {
     "end_time": "2019-07-26T03:33:52.559722Z",
     "start_time": "2019-07-26T03:33:52.264892Z"
    }
   },
   "outputs": [
    {
     "name": "stderr",
     "output_type": "stream",
     "text": [
      "C:\\Users\\skarn\\Anaconda3\\envs\\data_campus\\lib\\site-packages\\sklearn\\model_selection\\_split.py:1978: FutureWarning: The default value of cv will change from 3 to 5 in version 0.22. Specify it explicitly to silence this warning.\n",
      "  warnings.warn(CV_WARNING, FutureWarning)\n"
     ]
    }
   ],
   "source": [
    "train_size, train_score, test_score = learning_curve(KNeighborsClassifier(), iris.iloc[:,:-1],iris.iloc[:,-1])"
   ]
  },
  {
   "cell_type": "code",
   "execution_count": 155,
   "metadata": {
    "ExecuteTime": {
     "end_time": "2019-07-26T03:34:20.640674Z",
     "start_time": "2019-07-26T03:34:20.396815Z"
    }
   },
   "outputs": [],
   "source": [
    "import sklearn_evaluation"
   ]
  },
  {
   "cell_type": "code",
   "execution_count": 156,
   "metadata": {
    "ExecuteTime": {
     "end_time": "2019-07-26T03:34:46.852694Z",
     "start_time": "2019-07-26T03:34:46.413962Z"
    }
   },
   "outputs": [
    {
     "data": {
      "text/plain": [
       "<matplotlib.axes._subplots.AxesSubplot at 0x26b184cd940>"
      ]
     },
     "execution_count": 156,
     "metadata": {},
     "output_type": "execute_result"
    },
    {
     "data": {
      "image/png": "[encoded data removed]",
      "text/plain": [
       "<Figure size 432x288 with 1 Axes>"
      ]
     },
     "metadata": {
      "needs_background": "light"
     },
     "output_type": "display_data"
    }
   ],
   "source": [
    "sklearn_evaluation.plot.learning_curve(train_score, test_score, train_size)\n"
   ]
  },
  {
   "cell_type": "markdown",
   "metadata": {
    "ExecuteTime": {
     "end_time": "2019-07-26T03:38:32.391800Z",
     "start_time": "2019-07-26T03:38:32.377806Z"
    }
   },
   "source": [
    "\n",
    "- 수렴하는 그래프가 있어야 데이터가 충분하다고 볼 수 있다.\n",
    "- 지금 그래프는 우상향중이기때문에 데이터 더 필요하다\n",
    "\n",
    "\n",
    "- 전처리가 잘못된 경우거나 학습 자체가 불가능한 데이텅 경우 스코어가 상승하지 않는다.\n",
    "\n",
    "\n",
    "- 딥러닝의 경우 데이터가 많아질수록 그냥 성능이 좋아진다.. 계속 상승하는 커브\n"
   ]
  },
  {
   "cell_type": "code",
   "execution_count": 176,
   "metadata": {
    "ExecuteTime": {
     "end_time": "2019-07-26T03:49:18.751510Z",
     "start_time": "2019-07-26T03:49:17.922988Z"
    }
   },
   "outputs": [],
   "source": [
    "training_score, test_score= validation_curve(KNeighborsClassifier(), iris.iloc[:,:-1],iris.iloc[:,-1], \n",
    "                                             param_name='n_neighbors', param_range=range(3,11),cv=10, n_jobs=-1)"
   ]
  },
  {
   "cell_type": "code",
   "execution_count": 177,
   "metadata": {
    "ExecuteTime": {
     "end_time": "2019-07-26T03:49:20.992228Z",
     "start_time": "2019-07-26T03:49:20.596455Z"
    }
   },
   "outputs": [
    {
     "data": {
      "text/plain": [
       "<matplotlib.axes._subplots.AxesSubplot at 0x26b1a6c2470>"
      ]
     },
     "execution_count": 177,
     "metadata": {},
     "output_type": "execute_result"
    },
    {
     "data": {
      "image/png": "[encoded data removed]",
      "text/plain": [
       "<Figure size 432x288 with 1 Axes>"
      ]
     },
     "metadata": {
      "needs_background": "light"
     },
     "output_type": "display_data"
    }
   ],
   "source": [
    "sklearn_evaluation.plot.validation_curve(training_score, test_score,param_range=range(3,11))"
   ]
  },
  {
   "cell_type": "code",
   "execution_count": 175,
   "metadata": {
    "ExecuteTime": {
     "end_time": "2019-07-26T03:49:09.049055Z",
     "start_time": "2019-07-26T03:49:09.045057Z"
    }
   },
   "outputs": [],
   "source": [
    "from sklearn.metrics import confusion_matrix"
   ]
  },
  {
   "cell_type": "code",
   "execution_count": 178,
   "metadata": {
    "ExecuteTime": {
     "end_time": "2019-07-26T03:49:41.607449Z",
     "start_time": "2019-07-26T03:49:41.586458Z"
    }
   },
   "outputs": [
    {
     "data": {
      "text/plain": [
       "array([[12,  0,  0],\n",
       "       [ 0, 12,  3],\n",
       "       [ 0,  0, 11]], dtype=int64)"
      ]
     },
     "execution_count": 178,
     "metadata": {},
     "output_type": "execute_result"
    }
   ],
   "source": [
    "confusion_matrix(y_test, knn.predict(X_test))"
   ]
  },
  {
   "cell_type": "code",
   "execution_count": 179,
   "metadata": {
    "ExecuteTime": {
     "end_time": "2019-07-26T03:50:23.830319Z",
     "start_time": "2019-07-26T03:50:23.383572Z"
    }
   },
   "outputs": [
    {
     "data": {
      "text/plain": [
       "<matplotlib.axes._subplots.AxesSubplot at 0x26b1aa90d30>"
      ]
     },
     "execution_count": 179,
     "metadata": {},
     "output_type": "execute_result"
    },
    {
     "data": {
      "image/png": "[encoded data removed]",
      "text/plain": [
       "<Figure size 432x288 with 2 Axes>"
      ]
     },
     "metadata": {
      "needs_background": "light"
     },
     "output_type": "display_data"
    }
   ],
   "source": [
    "sklearn_evaluation.plot.confusion_matrix(y_test,knn.predict(X_test))"
   ]
  },
  {
   "cell_type": "code",
   "execution_count": null,
   "metadata": {},
   "outputs": [],
   "source": []
  },
  {
   "cell_type": "code",
   "execution_count": null,
   "metadata": {},
   "outputs": [],
   "source": []
  }
 ],
 "metadata": {
  "kernelspec": {
   "display_name": "Python 3",
   "language": "python",
   "name": "python3"
  },
  "language_info": {
   "codemirror_mode": {
    "name": "ipython",
    "version": 3
   },
   "file_extension": ".py",
   "mimetype": "text/x-python",
   "name": "python",
   "nbconvert_exporter": "python",
   "pygments_lexer": "ipython3",
   "version": "3.7.3"
  },
  "toc": {
   "base_numbering": 1,
   "nav_menu": {},
   "number_sections": true,
   "sideBar": true,
   "skip_h1_title": false,
   "title_cell": "Table of Contents",
   "title_sidebar": "Contents",
   "toc_cell": false,
   "toc_position": {},
   "toc_section_display": true,
   "toc_window_display": false
  }
 },
 "nbformat": 4,
 "nbformat_minor": 2
}

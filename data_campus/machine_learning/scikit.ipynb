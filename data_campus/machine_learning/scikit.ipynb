{
 "cells": [
  {
   "cell_type": "code",
   "execution_count": 14,
   "metadata": {
    "ExecuteTime": {
     "end_time": "2019-07-26T00:53:08.506603Z",
     "start_time": "2019-07-26T00:53:08.496609Z"
    }
   },
   "outputs": [
    {
     "name": "stdout",
     "output_type": "stream",
     "text": [
      "Chan 2019-07-26 \n",
      "\n",
      "CPython 3.7.3\n",
      "IPython 7.6.1\n",
      "\n",
      "sklearn 0.21.2\n",
      "numpy 1.16.4\n",
      "scipy 1.3.0\n",
      "matplotlib 3.1.0\n"
     ]
    }
   ],
   "source": [
    "# %load_ext watermark\n",
    "%watermark -a Chan -d -v -p sklearn,numpy,scipy,matplotlib"
   ]
  },
  {
   "cell_type": "code",
   "execution_count": 16,
   "metadata": {
    "ExecuteTime": {
     "end_time": "2019-07-26T00:53:31.610399Z",
     "start_time": "2019-07-26T00:53:24.043723Z"
    }
   },
   "outputs": [],
   "source": [
    "import pandas as pd\n",
    "import numpy as np"
   ]
  },
  {
   "cell_type": "code",
   "execution_count": 19,
   "metadata": {
    "ExecuteTime": {
     "end_time": "2019-07-26T00:54:13.536436Z",
     "start_time": "2019-07-26T00:54:13.530442Z"
    }
   },
   "outputs": [],
   "source": [
    "from sklearn.datasets import load_boston\n",
    "from sklearn.datasets import load_iris"
   ]
  },
  {
   "cell_type": "code",
   "execution_count": 20,
   "metadata": {
    "ExecuteTime": {
     "end_time": "2019-07-26T00:54:20.997175Z",
     "start_time": "2019-07-26T00:54:20.955196Z"
    }
   },
   "outputs": [],
   "source": [
    "raw_iris = load_iris()"
   ]
  },
  {
   "cell_type": "code",
   "execution_count": 22,
   "metadata": {
    "ExecuteTime": {
     "end_time": "2019-07-26T00:55:26.230892Z",
     "start_time": "2019-07-26T00:55:26.215899Z"
    }
   },
   "outputs": [],
   "source": [
    "iris = pd.DataFrame(raw_iris.data, columns=raw_iris.feature_names)"
   ]
  },
  {
   "cell_type": "code",
   "execution_count": 35,
   "metadata": {
    "ExecuteTime": {
     "end_time": "2019-07-26T01:03:46.417603Z",
     "start_time": "2019-07-26T01:03:46.407611Z"
    }
   },
   "outputs": [],
   "source": [
    "iris['target'] = raw_iris.target"
   ]
  },
  {
   "cell_type": "code",
   "execution_count": 36,
   "metadata": {
    "ExecuteTime": {
     "end_time": "2019-07-26T01:03:47.685879Z",
     "start_time": "2019-07-26T01:03:47.660892Z"
    }
   },
   "outputs": [
    {
     "data": {
      "text/html": [
       "<div>\n",
       "<style scoped>\n",
       "    .dataframe tbody tr th:only-of-type {\n",
       "        vertical-align: middle;\n",
       "    }\n",
       "\n",
       "    .dataframe tbody tr th {\n",
       "        vertical-align: top;\n",
       "    }\n",
       "\n",
       "    .dataframe thead th {\n",
       "        text-align: right;\n",
       "    }\n",
       "</style>\n",
       "<table border=\"1\" class=\"dataframe\">\n",
       "  <thead>\n",
       "    <tr style=\"text-align: right;\">\n",
       "      <th></th>\n",
       "      <th>sepal length (cm)</th>\n",
       "      <th>sepal width (cm)</th>\n",
       "      <th>petal length (cm)</th>\n",
       "      <th>petal width (cm)</th>\n",
       "      <th>target</th>\n",
       "    </tr>\n",
       "  </thead>\n",
       "  <tbody>\n",
       "    <tr>\n",
       "      <th>0</th>\n",
       "      <td>5.1</td>\n",
       "      <td>3.5</td>\n",
       "      <td>1.4</td>\n",
       "      <td>0.2</td>\n",
       "      <td>0</td>\n",
       "    </tr>\n",
       "    <tr>\n",
       "      <th>1</th>\n",
       "      <td>4.9</td>\n",
       "      <td>3.0</td>\n",
       "      <td>1.4</td>\n",
       "      <td>0.2</td>\n",
       "      <td>0</td>\n",
       "    </tr>\n",
       "    <tr>\n",
       "      <th>2</th>\n",
       "      <td>4.7</td>\n",
       "      <td>3.2</td>\n",
       "      <td>1.3</td>\n",
       "      <td>0.2</td>\n",
       "      <td>0</td>\n",
       "    </tr>\n",
       "    <tr>\n",
       "      <th>3</th>\n",
       "      <td>4.6</td>\n",
       "      <td>3.1</td>\n",
       "      <td>1.5</td>\n",
       "      <td>0.2</td>\n",
       "      <td>0</td>\n",
       "    </tr>\n",
       "    <tr>\n",
       "      <th>4</th>\n",
       "      <td>5.0</td>\n",
       "      <td>3.6</td>\n",
       "      <td>1.4</td>\n",
       "      <td>0.2</td>\n",
       "      <td>0</td>\n",
       "    </tr>\n",
       "  </tbody>\n",
       "</table>\n",
       "</div>"
      ],
      "text/plain": [
       "   sepal length (cm)  sepal width (cm)  petal length (cm)  petal width (cm)  \\\n",
       "0                5.1               3.5                1.4               0.2   \n",
       "1                4.9               3.0                1.4               0.2   \n",
       "2                4.7               3.2                1.3               0.2   \n",
       "3                4.6               3.1                1.5               0.2   \n",
       "4                5.0               3.6                1.4               0.2   \n",
       "\n",
       "   target  \n",
       "0       0  \n",
       "1       0  \n",
       "2       0  \n",
       "3       0  \n",
       "4       0  "
      ]
     },
     "execution_count": 36,
     "metadata": {},
     "output_type": "execute_result"
    }
   ],
   "source": [
    "iris.head()"
   ]
  },
  {
   "cell_type": "markdown",
   "metadata": {},
   "source": [
    "# split data"
   ]
  },
  {
   "cell_type": "code",
   "execution_count": 25,
   "metadata": {
    "ExecuteTime": {
     "end_time": "2019-07-26T00:56:13.953619Z",
     "start_time": "2019-07-26T00:56:13.941625Z"
    }
   },
   "outputs": [],
   "source": [
    "train = iris.sample(frac=0.75) # 샘플링 방법이 부족해"
   ]
  },
  {
   "cell_type": "code",
   "execution_count": 28,
   "metadata": {
    "ExecuteTime": {
     "end_time": "2019-07-26T00:57:33.969891Z",
     "start_time": "2019-07-26T00:57:33.888936Z"
    }
   },
   "outputs": [
    {
     "ename": "KeyError",
     "evalue": "\"None of [Int64Index([ 44,  62, 136, 112,   6,  52,  89, 111,  61, 105,\\n            ...\\n             20, 120,  84,  28,   1,  41,  13, 130,  79,  23],\\n           dtype='int64', length=112)] are in the [columns]\"",
     "output_type": "error",
     "traceback": [
      "\u001b[1;31m---------------------------------------------------------------------------\u001b[0m",
      "\u001b[1;31mKeyError\u001b[0m                                  Traceback (most recent call last)",
      "\u001b[1;32m<ipython-input-28-91a840798979>\u001b[0m in \u001b[0;36m<module>\u001b[1;34m\u001b[0m\n\u001b[1;32m----> 1\u001b[1;33m \u001b[0mtest\u001b[0m \u001b[1;33m=\u001b[0m \u001b[0miris\u001b[0m\u001b[1;33m.\u001b[0m\u001b[0mpop\u001b[0m\u001b[1;33m(\u001b[0m\u001b[0mtrain\u001b[0m\u001b[1;33m.\u001b[0m\u001b[0mindex\u001b[0m\u001b[1;33m)\u001b[0m\u001b[1;33m\u001b[0m\u001b[1;33m\u001b[0m\u001b[0m\n\u001b[0m",
      "\u001b[1;32m~\\Anaconda3\\envs\\data_campus\\lib\\site-packages\\pandas\\core\\generic.py\u001b[0m in \u001b[0;36mpop\u001b[1;34m(self, item)\u001b[0m\n\u001b[0;32m    807\u001b[0m         \u001b[1;36m3\u001b[0m  \u001b[0mmonkey\u001b[0m        \u001b[0mNaN\u001b[0m\u001b[1;33m\u001b[0m\u001b[1;33m\u001b[0m\u001b[0m\n\u001b[0;32m    808\u001b[0m         \"\"\"\n\u001b[1;32m--> 809\u001b[1;33m         \u001b[0mresult\u001b[0m \u001b[1;33m=\u001b[0m \u001b[0mself\u001b[0m\u001b[1;33m[\u001b[0m\u001b[0mitem\u001b[0m\u001b[1;33m]\u001b[0m\u001b[1;33m\u001b[0m\u001b[1;33m\u001b[0m\u001b[0m\n\u001b[0m\u001b[0;32m    810\u001b[0m         \u001b[1;32mdel\u001b[0m \u001b[0mself\u001b[0m\u001b[1;33m[\u001b[0m\u001b[0mitem\u001b[0m\u001b[1;33m]\u001b[0m\u001b[1;33m\u001b[0m\u001b[1;33m\u001b[0m\u001b[0m\n\u001b[0;32m    811\u001b[0m         \u001b[1;32mtry\u001b[0m\u001b[1;33m:\u001b[0m\u001b[1;33m\u001b[0m\u001b[1;33m\u001b[0m\u001b[0m\n",
      "\u001b[1;32m~\\Anaconda3\\envs\\data_campus\\lib\\site-packages\\pandas\\core\\frame.py\u001b[0m in \u001b[0;36m__getitem__\u001b[1;34m(self, key)\u001b[0m\n\u001b[0;32m   2932\u001b[0m                 \u001b[0mkey\u001b[0m \u001b[1;33m=\u001b[0m \u001b[0mlist\u001b[0m\u001b[1;33m(\u001b[0m\u001b[0mkey\u001b[0m\u001b[1;33m)\u001b[0m\u001b[1;33m\u001b[0m\u001b[1;33m\u001b[0m\u001b[0m\n\u001b[0;32m   2933\u001b[0m             indexer = self.loc._convert_to_indexer(key, axis=1,\n\u001b[1;32m-> 2934\u001b[1;33m                                                    raise_missing=True)\n\u001b[0m\u001b[0;32m   2935\u001b[0m \u001b[1;33m\u001b[0m\u001b[0m\n\u001b[0;32m   2936\u001b[0m         \u001b[1;31m# take() does not accept boolean indexers\u001b[0m\u001b[1;33m\u001b[0m\u001b[1;33m\u001b[0m\u001b[1;33m\u001b[0m\u001b[0m\n",
      "\u001b[1;32m~\\Anaconda3\\envs\\data_campus\\lib\\site-packages\\pandas\\core\\indexing.py\u001b[0m in \u001b[0;36m_convert_to_indexer\u001b[1;34m(self, obj, axis, is_setter, raise_missing)\u001b[0m\n\u001b[0;32m   1352\u001b[0m                 kwargs = {'raise_missing': True if is_setter else\n\u001b[0;32m   1353\u001b[0m                           raise_missing}\n\u001b[1;32m-> 1354\u001b[1;33m                 \u001b[1;32mreturn\u001b[0m \u001b[0mself\u001b[0m\u001b[1;33m.\u001b[0m\u001b[0m_get_listlike_indexer\u001b[0m\u001b[1;33m(\u001b[0m\u001b[0mobj\u001b[0m\u001b[1;33m,\u001b[0m \u001b[0maxis\u001b[0m\u001b[1;33m,\u001b[0m \u001b[1;33m**\u001b[0m\u001b[0mkwargs\u001b[0m\u001b[1;33m)\u001b[0m\u001b[1;33m[\u001b[0m\u001b[1;36m1\u001b[0m\u001b[1;33m]\u001b[0m\u001b[1;33m\u001b[0m\u001b[1;33m\u001b[0m\u001b[0m\n\u001b[0m\u001b[0;32m   1355\u001b[0m         \u001b[1;32melse\u001b[0m\u001b[1;33m:\u001b[0m\u001b[1;33m\u001b[0m\u001b[1;33m\u001b[0m\u001b[0m\n\u001b[0;32m   1356\u001b[0m             \u001b[1;32mtry\u001b[0m\u001b[1;33m:\u001b[0m\u001b[1;33m\u001b[0m\u001b[1;33m\u001b[0m\u001b[0m\n",
      "\u001b[1;32m~\\Anaconda3\\envs\\data_campus\\lib\\site-packages\\pandas\\core\\indexing.py\u001b[0m in \u001b[0;36m_get_listlike_indexer\u001b[1;34m(self, key, axis, raise_missing)\u001b[0m\n\u001b[0;32m   1159\u001b[0m         self._validate_read_indexer(keyarr, indexer,\n\u001b[0;32m   1160\u001b[0m                                     \u001b[0mo\u001b[0m\u001b[1;33m.\u001b[0m\u001b[0m_get_axis_number\u001b[0m\u001b[1;33m(\u001b[0m\u001b[0maxis\u001b[0m\u001b[1;33m)\u001b[0m\u001b[1;33m,\u001b[0m\u001b[1;33m\u001b[0m\u001b[1;33m\u001b[0m\u001b[0m\n\u001b[1;32m-> 1161\u001b[1;33m                                     raise_missing=raise_missing)\n\u001b[0m\u001b[0;32m   1162\u001b[0m         \u001b[1;32mreturn\u001b[0m \u001b[0mkeyarr\u001b[0m\u001b[1;33m,\u001b[0m \u001b[0mindexer\u001b[0m\u001b[1;33m\u001b[0m\u001b[1;33m\u001b[0m\u001b[0m\n\u001b[0;32m   1163\u001b[0m \u001b[1;33m\u001b[0m\u001b[0m\n",
      "\u001b[1;32m~\\Anaconda3\\envs\\data_campus\\lib\\site-packages\\pandas\\core\\indexing.py\u001b[0m in \u001b[0;36m_validate_read_indexer\u001b[1;34m(self, key, indexer, axis, raise_missing)\u001b[0m\n\u001b[0;32m   1244\u001b[0m                 raise KeyError(\n\u001b[0;32m   1245\u001b[0m                     u\"None of [{key}] are in the [{axis}]\".format(\n\u001b[1;32m-> 1246\u001b[1;33m                         key=key, axis=self.obj._get_axis_name(axis)))\n\u001b[0m\u001b[0;32m   1247\u001b[0m \u001b[1;33m\u001b[0m\u001b[0m\n\u001b[0;32m   1248\u001b[0m             \u001b[1;31m# We (temporarily) allow for some missing keys with .loc, except in\u001b[0m\u001b[1;33m\u001b[0m\u001b[1;33m\u001b[0m\u001b[1;33m\u001b[0m\u001b[0m\n",
      "\u001b[1;31mKeyError\u001b[0m: \"None of [Int64Index([ 44,  62, 136, 112,   6,  52,  89, 111,  61, 105,\\n            ...\\n             20, 120,  84,  28,   1,  41,  13, 130,  79,  23],\\n           dtype='int64', length=112)] are in the [columns]\""
     ]
    }
   ],
   "source": [
    "# test = iris.pop(train)"
   ]
  },
  {
   "cell_type": "code",
   "execution_count": 37,
   "metadata": {
    "ExecuteTime": {
     "end_time": "2019-07-26T01:03:55.944161Z",
     "start_time": "2019-07-26T01:03:55.938162Z"
    }
   },
   "outputs": [],
   "source": [
    "from sklearn.model_selection import train_test_split"
   ]
  },
  {
   "cell_type": "code",
   "execution_count": 42,
   "metadata": {
    "ExecuteTime": {
     "end_time": "2019-07-26T01:04:14.369308Z",
     "start_time": "2019-07-26T01:04:14.358313Z"
    }
   },
   "outputs": [],
   "source": [
    "X_train, X_test, y_train, y_test = train_test_split(iris.iloc[:,:-1], iris.iloc[:,-1])"
   ]
  },
  {
   "cell_type": "code",
   "execution_count": 46,
   "metadata": {
    "ExecuteTime": {
     "end_time": "2019-07-26T01:05:55.613448Z",
     "start_time": "2019-07-26T01:05:55.606449Z"
    }
   },
   "outputs": [],
   "source": [
    "from sklearn.neighbors import KNeighborsClassifier"
   ]
  },
  {
   "cell_type": "code",
   "execution_count": 47,
   "metadata": {
    "ExecuteTime": {
     "end_time": "2019-07-26T01:06:03.960677Z",
     "start_time": "2019-07-26T01:06:03.953680Z"
    }
   },
   "outputs": [],
   "source": [
    "knn = KNeighborsClassifier()"
   ]
  },
  {
   "cell_type": "code",
   "execution_count": 48,
   "metadata": {
    "ExecuteTime": {
     "end_time": "2019-07-26T01:06:14.420697Z",
     "start_time": "2019-07-26T01:06:14.386718Z"
    }
   },
   "outputs": [
    {
     "data": {
      "text/plain": [
       "KNeighborsClassifier(algorithm='auto', leaf_size=30, metric='minkowski',\n",
       "                     metric_params=None, n_jobs=None, n_neighbors=5, p=2,\n",
       "                     weights='uniform')"
      ]
     },
     "execution_count": 48,
     "metadata": {},
     "output_type": "execute_result"
    }
   ],
   "source": [
    "knn.fit(X_train, y_train)"
   ]
  },
  {
   "cell_type": "code",
   "execution_count": 58,
   "metadata": {
    "ExecuteTime": {
     "end_time": "2019-07-26T01:07:56.250504Z",
     "start_time": "2019-07-26T01:07:56.231513Z"
    }
   },
   "outputs": [
    {
     "data": {
      "text/plain": [
       "(35, 38)"
      ]
     },
     "execution_count": 58,
     "metadata": {},
     "output_type": "execute_result"
    }
   ],
   "source": [
    "np.sum(knn.predict(X_test) == y_test.values), y_test.count()"
   ]
  },
  {
   "cell_type": "code",
   "execution_count": 59,
   "metadata": {
    "ExecuteTime": {
     "end_time": "2019-07-26T01:08:46.814605Z",
     "start_time": "2019-07-26T01:08:46.795616Z"
    }
   },
   "outputs": [
    {
     "data": {
      "text/plain": [
       "0.9210526315789473"
      ]
     },
     "execution_count": 59,
     "metadata": {},
     "output_type": "execute_result"
    }
   ],
   "source": [
    "np.mean(knn.predict(X_test) == y_test.values)"
   ]
  },
  {
   "cell_type": "code",
   "execution_count": 60,
   "metadata": {
    "ExecuteTime": {
     "end_time": "2019-07-26T01:09:14.701668Z",
     "start_time": "2019-07-26T01:09:14.683680Z"
    }
   },
   "outputs": [
    {
     "data": {
      "text/plain": [
       "0.9210526315789473"
      ]
     },
     "execution_count": 60,
     "metadata": {},
     "output_type": "execute_result"
    }
   ],
   "source": [
    "knn.score(X_test,y_test)"
   ]
  },
  {
   "cell_type": "markdown",
   "metadata": {},
   "source": [
    "# Logistic Regression"
   ]
  },
  {
   "cell_type": "code",
   "execution_count": 61,
   "metadata": {
    "ExecuteTime": {
     "end_time": "2019-07-26T01:11:33.643261Z",
     "start_time": "2019-07-26T01:11:33.636269Z"
    }
   },
   "outputs": [],
   "source": [
    "from sklearn.linear_model import LogisticRegression"
   ]
  },
  {
   "cell_type": "code",
   "execution_count": 62,
   "metadata": {
    "ExecuteTime": {
     "end_time": "2019-07-26T01:11:46.390976Z",
     "start_time": "2019-07-26T01:11:46.384979Z"
    }
   },
   "outputs": [],
   "source": [
    "lr = LogisticRegression()"
   ]
  },
  {
   "cell_type": "code",
   "execution_count": 63,
   "metadata": {
    "ExecuteTime": {
     "end_time": "2019-07-26T01:11:56.597143Z",
     "start_time": "2019-07-26T01:11:56.552168Z"
    }
   },
   "outputs": [
    {
     "name": "stderr",
     "output_type": "stream",
     "text": [
      "C:\\Users\\skarn\\Anaconda3\\envs\\data_campus\\lib\\site-packages\\sklearn\\linear_model\\logistic.py:432: FutureWarning: Default solver will be changed to 'lbfgs' in 0.22. Specify a solver to silence this warning.\n",
      "  FutureWarning)\n",
      "C:\\Users\\skarn\\Anaconda3\\envs\\data_campus\\lib\\site-packages\\sklearn\\linear_model\\logistic.py:469: FutureWarning: Default multi_class will be changed to 'auto' in 0.22. Specify the multi_class option to silence this warning.\n",
      "  \"this warning.\", FutureWarning)\n"
     ]
    },
    {
     "data": {
      "text/plain": [
       "LogisticRegression(C=1.0, class_weight=None, dual=False, fit_intercept=True,\n",
       "                   intercept_scaling=1, l1_ratio=None, max_iter=100,\n",
       "                   multi_class='warn', n_jobs=None, penalty='l2',\n",
       "                   random_state=None, solver='warn', tol=0.0001, verbose=0,\n",
       "                   warm_start=False)"
      ]
     },
     "execution_count": 63,
     "metadata": {},
     "output_type": "execute_result"
    }
   ],
   "source": [
    "lr.fit(X_train, y_train)"
   ]
  },
  {
   "cell_type": "code",
   "execution_count": 64,
   "metadata": {
    "ExecuteTime": {
     "end_time": "2019-07-26T01:13:50.123511Z",
     "start_time": "2019-07-26T01:13:50.049554Z"
    }
   },
   "outputs": [
    {
     "data": {
      "text/plain": [
       "0.868421052631579"
      ]
     },
     "execution_count": 64,
     "metadata": {},
     "output_type": "execute_result"
    }
   ],
   "source": [
    "lr.score(X_test, y_test)\n",
    "\n",
    "## 데이터가 작아서 성능이 왔다갔다한다."
   ]
  },
  {
   "attachments": {},
   "cell_type": "markdown",
   "metadata": {},
   "source": [
    "# [Model Selection](https://scikit-learn.org/stable/tutorial/machine_learning_map/)\n",
    "![model_selection_map](https://scikit-learn.org/stable/_static/ml_map.png)"
   ]
  },
  {
   "cell_type": "code",
   "execution_count": 65,
   "metadata": {
    "ExecuteTime": {
     "end_time": "2019-07-26T01:45:13.144941Z",
     "start_time": "2019-07-26T01:45:13.132944Z"
    }
   },
   "outputs": [],
   "source": [
    "from sklearn.ensemble import RandomForestClassifier"
   ]
  },
  {
   "cell_type": "code",
   "execution_count": 67,
   "metadata": {
    "ExecuteTime": {
     "end_time": "2019-07-26T01:45:18.110102Z",
     "start_time": "2019-07-26T01:45:18.106102Z"
    }
   },
   "outputs": [],
   "source": [
    "rf = RandomForestClassifier()"
   ]
  },
  {
   "cell_type": "code",
   "execution_count": 68,
   "metadata": {
    "ExecuteTime": {
     "end_time": "2019-07-26T01:45:34.665641Z",
     "start_time": "2019-07-26T01:45:34.596677Z"
    }
   },
   "outputs": [
    {
     "name": "stderr",
     "output_type": "stream",
     "text": [
      "C:\\Users\\skarn\\Anaconda3\\envs\\data_campus\\lib\\site-packages\\sklearn\\ensemble\\forest.py:245: FutureWarning: The default value of n_estimators will change from 10 in version 0.20 to 100 in 0.22.\n",
      "  \"10 in version 0.20 to 100 in 0.22.\", FutureWarning)\n"
     ]
    },
    {
     "data": {
      "text/plain": [
       "RandomForestClassifier(bootstrap=True, class_weight=None, criterion='gini',\n",
       "                       max_depth=None, max_features='auto', max_leaf_nodes=None,\n",
       "                       min_impurity_decrease=0.0, min_impurity_split=None,\n",
       "                       min_samples_leaf=1, min_samples_split=2,\n",
       "                       min_weight_fraction_leaf=0.0, n_estimators=10,\n",
       "                       n_jobs=None, oob_score=False, random_state=None,\n",
       "                       verbose=0, warm_start=False)"
      ]
     },
     "execution_count": 68,
     "metadata": {},
     "output_type": "execute_result"
    }
   ],
   "source": [
    "rf.fit(X_train, y_train)"
   ]
  },
  {
   "cell_type": "code",
   "execution_count": 70,
   "metadata": {
    "ExecuteTime": {
     "end_time": "2019-07-26T01:45:51.240166Z",
     "start_time": "2019-07-26T01:45:51.228172Z"
    }
   },
   "outputs": [
    {
     "data": {
      "text/plain": [
       "array([0.05606708, 0.06002099, 0.49633441, 0.38757752])"
      ]
     },
     "execution_count": 70,
     "metadata": {},
     "output_type": "execute_result"
    }
   ],
   "source": [
    "rf.feature_importances_"
   ]
  },
  {
   "cell_type": "code",
   "execution_count": 71,
   "metadata": {
    "ExecuteTime": {
     "end_time": "2019-07-26T01:46:09.484743Z",
     "start_time": "2019-07-26T01:46:09.479747Z"
    }
   },
   "outputs": [],
   "source": [
    "from sklearn.neural_network import MLPClassifier"
   ]
  },
  {
   "cell_type": "code",
   "execution_count": 72,
   "metadata": {
    "ExecuteTime": {
     "end_time": "2019-07-26T01:46:21.224031Z",
     "start_time": "2019-07-26T01:46:21.219033Z"
    }
   },
   "outputs": [],
   "source": [
    "from sklearn.linear_model import Perceptron"
   ]
  },
  {
   "cell_type": "code",
   "execution_count": 73,
   "metadata": {
    "ExecuteTime": {
     "end_time": "2019-07-26T01:48:40.174621Z",
     "start_time": "2019-07-26T01:48:40.169622Z"
    }
   },
   "outputs": [],
   "source": [
    "from sklearn.naive_bayes import GaussianNB"
   ]
  },
  {
   "cell_type": "code",
   "execution_count": 74,
   "metadata": {
    "ExecuteTime": {
     "end_time": "2019-07-26T01:48:59.996294Z",
     "start_time": "2019-07-26T01:48:59.992294Z"
    }
   },
   "outputs": [],
   "source": [
    "from sklearn.dummy import DummyClassifier\n",
    "## 사람이 하는 행동처럼 분류하는 애"
   ]
  },
  {
   "cell_type": "code",
   "execution_count": 81,
   "metadata": {
    "ExecuteTime": {
     "end_time": "2019-07-26T02:13:32.090678Z",
     "start_time": "2019-07-26T02:13:32.085679Z"
    }
   },
   "outputs": [],
   "source": [
    "from sklearn.svm import SVC\n",
    "# SVM. 학습 속도도 느리고, 예측 속도도 느리다.\n",
    "# 정확도는 높다. 수학으로 구현되어 있다."
   ]
  },
  {
   "cell_type": "code",
   "execution_count": 82,
   "metadata": {
    "ExecuteTime": {
     "end_time": "2019-07-26T02:16:56.646772Z",
     "start_time": "2019-07-26T02:16:56.443887Z"
    }
   },
   "outputs": [
    {
     "name": "stdout",
     "output_type": "stream",
     "text": [
      "Wall time: 191 ms\n"
     ]
    },
    {
     "data": {
      "text/plain": [
       "0.9800000000000001"
      ]
     },
     "execution_count": 82,
     "metadata": {},
     "output_type": "execute_result"
    }
   ],
   "source": [
    "%time np.mean(cross_val_score(SVC(), iris.iloc[:,:-1], iris.iloc[:,-1], cv=10, n_jobs=-1))"
   ]
  },
  {
   "cell_type": "code",
   "execution_count": null,
   "metadata": {},
   "outputs": [],
   "source": []
  },
  {
   "cell_type": "code",
   "execution_count": 75,
   "metadata": {
    "ExecuteTime": {
     "end_time": "2019-07-26T02:02:52.675104Z",
     "start_time": "2019-07-26T02:02:52.671105Z"
    }
   },
   "outputs": [],
   "source": [
    "dummpy = DummyClassifier()"
   ]
  },
  {
   "cell_type": "markdown",
   "metadata": {},
   "source": [
    "----------------------------"
   ]
  },
  {
   "cell_type": "markdown",
   "metadata": {},
   "source": [
    "## Grid Search"
   ]
  },
  {
   "cell_type": "code",
   "execution_count": 76,
   "metadata": {
    "ExecuteTime": {
     "end_time": "2019-07-26T02:04:40.815301Z",
     "start_time": "2019-07-26T02:04:40.808304Z"
    }
   },
   "outputs": [],
   "source": [
    "from sklearn.model_selection import GridSearchCV # cross - validation"
   ]
  },
  {
   "cell_type": "markdown",
   "metadata": {},
   "source": [
    "### Cross Validation\n",
    "- 모든 데이터를 적어도 한번씩은 train할 때 쓴다.\n",
    "- 평균을 내기 때문에 최종 모델로 쓸 수 없다.\n",
    "- 오버피팅 여부를 체크하기 위해\n",
    "- 데이터가 작을 때 성능을 체크하기 위해"
   ]
  },
  {
   "cell_type": "code",
   "execution_count": 77,
   "metadata": {
    "ExecuteTime": {
     "end_time": "2019-07-26T02:09:24.255316Z",
     "start_time": "2019-07-26T02:09:24.251319Z"
    }
   },
   "outputs": [],
   "source": [
    "from sklearn.model_selection import cross_val_score"
   ]
  },
  {
   "cell_type": "code",
   "execution_count": 83,
   "metadata": {
    "ExecuteTime": {
     "end_time": "2019-07-26T02:17:02.214632Z",
     "start_time": "2019-07-26T02:17:02.077667Z"
    }
   },
   "outputs": [
    {
     "name": "stdout",
     "output_type": "stream",
     "text": [
      "Wall time: 120 ms\n"
     ]
    },
    {
     "data": {
      "text/plain": [
       "0.9666666666666668"
      ]
     },
     "execution_count": 83,
     "metadata": {},
     "output_type": "execute_result"
    }
   ],
   "source": [
    "%time np.mean(cross_val_score(KNeighborsClassifier(), iris.iloc[:,:-1], iris.iloc[:,-1], cv=10, n_jobs=-1))\n",
    "# estimator : 알고리즘의 인스턴스\n",
    "# n_jobs : 코어 개수. -1 이면 최대한 많이 쓴다."
   ]
  },
  {
   "cell_type": "code",
   "execution_count": 84,
   "metadata": {
    "ExecuteTime": {
     "end_time": "2019-07-26T02:18:59.326661Z",
     "start_time": "2019-07-26T02:18:59.322665Z"
    }
   },
   "outputs": [],
   "source": [
    "from sklearn.model_selection import GridSearchCV"
   ]
  },
  {
   "cell_type": "code",
   "execution_count": 98,
   "metadata": {
    "ExecuteTime": {
     "end_time": "2019-07-26T02:23:41.506393Z",
     "start_time": "2019-07-26T02:23:41.501395Z"
    }
   },
   "outputs": [],
   "source": [
    "param_grid = {'n_neighbors':range(1,10), 'leaf_size':[10,20,30]}"
   ]
  },
  {
   "cell_type": "code",
   "execution_count": 99,
   "metadata": {
    "ExecuteTime": {
     "end_time": "2019-07-26T02:23:42.289947Z",
     "start_time": "2019-07-26T02:23:42.285948Z"
    }
   },
   "outputs": [],
   "source": [
    "grid = GridSearchCV(KNeighborsClassifier(),param_grid=param_grid)"
   ]
  },
  {
   "cell_type": "code",
   "execution_count": 100,
   "metadata": {
    "ExecuteTime": {
     "end_time": "2019-07-26T02:23:43.686164Z",
     "start_time": "2019-07-26T02:23:43.020527Z"
    }
   },
   "outputs": [
    {
     "name": "stderr",
     "output_type": "stream",
     "text": [
      "C:\\Users\\skarn\\Anaconda3\\envs\\data_campus\\lib\\site-packages\\sklearn\\model_selection\\_split.py:1978: FutureWarning: The default value of cv will change from 3 to 5 in version 0.22. Specify it explicitly to silence this warning.\n",
      "  warnings.warn(CV_WARNING, FutureWarning)\n",
      "C:\\Users\\skarn\\Anaconda3\\envs\\data_campus\\lib\\site-packages\\sklearn\\model_selection\\_search.py:813: DeprecationWarning: The default of the `iid` parameter will change from True to False in version 0.22 and will be removed in 0.24. This will change numeric results when test-set sizes are unequal.\n",
      "  DeprecationWarning)\n"
     ]
    },
    {
     "data": {
      "text/plain": [
       "GridSearchCV(cv='warn', error_score='raise-deprecating',\n",
       "             estimator=KNeighborsClassifier(algorithm='auto', leaf_size=30,\n",
       "                                            metric='minkowski',\n",
       "                                            metric_params=None, n_jobs=None,\n",
       "                                            n_neighbors=5, p=2,\n",
       "                                            weights='uniform'),\n",
       "             iid='warn', n_jobs=None,\n",
       "             param_grid={'leaf_size': [10, 20, 30],\n",
       "                         'n_neighbors': range(1, 10)},\n",
       "             pre_dispatch='2*n_jobs', refit=True, return_train_score=False,\n",
       "             scoring=None, verbose=0)"
      ]
     },
     "execution_count": 100,
     "metadata": {},
     "output_type": "execute_result"
    }
   ],
   "source": [
    "grid.fit(iris.iloc[:,:-1], iris.iloc[:,-1])"
   ]
  },
  {
   "cell_type": "code",
   "execution_count": 104,
   "metadata": {
    "ExecuteTime": {
     "end_time": "2019-07-26T02:24:05.783521Z",
     "start_time": "2019-07-26T02:24:05.775524Z"
    }
   },
   "outputs": [
    {
     "data": {
      "text/plain": [
       "KNeighborsClassifier(algorithm='auto', leaf_size=10, metric='minkowski',\n",
       "                     metric_params=None, n_jobs=None, n_neighbors=5, p=2,\n",
       "                     weights='uniform')"
      ]
     },
     "execution_count": 104,
     "metadata": {},
     "output_type": "execute_result"
    }
   ],
   "source": [
    "grid.best_estimator_"
   ]
  },
  {
   "cell_type": "code",
   "execution_count": 107,
   "metadata": {
    "ExecuteTime": {
     "end_time": "2019-07-26T02:26:31.697145Z",
     "start_time": "2019-07-26T02:26:31.611177Z"
    }
   },
   "outputs": [
    {
     "data": {
      "text/html": [
       "<div>\n",
       "<style scoped>\n",
       "    .dataframe tbody tr th:only-of-type {\n",
       "        vertical-align: middle;\n",
       "    }\n",
       "\n",
       "    .dataframe tbody tr th {\n",
       "        vertical-align: top;\n",
       "    }\n",
       "\n",
       "    .dataframe thead th {\n",
       "        text-align: right;\n",
       "    }\n",
       "</style>\n",
       "<table border=\"1\" class=\"dataframe\">\n",
       "  <thead>\n",
       "    <tr style=\"text-align: right;\">\n",
       "      <th></th>\n",
       "      <th>0</th>\n",
       "      <th>1</th>\n",
       "      <th>2</th>\n",
       "      <th>3</th>\n",
       "      <th>4</th>\n",
       "      <th>5</th>\n",
       "      <th>6</th>\n",
       "      <th>7</th>\n",
       "      <th>8</th>\n",
       "      <th>9</th>\n",
       "      <th>...</th>\n",
       "      <th>17</th>\n",
       "      <th>18</th>\n",
       "      <th>19</th>\n",
       "      <th>20</th>\n",
       "      <th>21</th>\n",
       "      <th>22</th>\n",
       "      <th>23</th>\n",
       "      <th>24</th>\n",
       "      <th>25</th>\n",
       "      <th>26</th>\n",
       "    </tr>\n",
       "  </thead>\n",
       "  <tbody>\n",
       "    <tr>\n",
       "      <th>mean_fit_time</th>\n",
       "      <td>0.00366648</td>\n",
       "      <td>0.00465933</td>\n",
       "      <td>0.00499678</td>\n",
       "      <td>0.0026679</td>\n",
       "      <td>0.00266568</td>\n",
       "      <td>0.00299843</td>\n",
       "      <td>0.00266623</td>\n",
       "      <td>0.0029978</td>\n",
       "      <td>0.00365829</td>\n",
       "      <td>0.00299819</td>\n",
       "      <td>...</td>\n",
       "      <td>0.00233237</td>\n",
       "      <td>0.00266528</td>\n",
       "      <td>0.00299859</td>\n",
       "      <td>0.00233157</td>\n",
       "      <td>0.00266552</td>\n",
       "      <td>0.00233253</td>\n",
       "      <td>0.00300447</td>\n",
       "      <td>0.00233229</td>\n",
       "      <td>0.00266568</td>\n",
       "      <td>0.0026656</td>\n",
       "    </tr>\n",
       "    <tr>\n",
       "      <th>std_fit_time</th>\n",
       "      <td>0.000472944</td>\n",
       "      <td>0.00234949</td>\n",
       "      <td>0.00141315</td>\n",
       "      <td>0.000467324</td>\n",
       "      <td>0.000471146</td>\n",
       "      <td>1.12392e-07</td>\n",
       "      <td>0.000471708</td>\n",
       "      <td>0.000815561</td>\n",
       "      <td>0.00168964</td>\n",
       "      <td>1.12392e-07</td>\n",
       "      <td>...</td>\n",
       "      <td>0.000471089</td>\n",
       "      <td>0.000470865</td>\n",
       "      <td>1.94668e-07</td>\n",
       "      <td>0.000470303</td>\n",
       "      <td>0.000471033</td>\n",
       "      <td>0.000472157</td>\n",
       "      <td>7.81182e-06</td>\n",
       "      <td>0.000471483</td>\n",
       "      <td>0.000471483</td>\n",
       "      <td>0.000471764</td>\n",
       "    </tr>\n",
       "    <tr>\n",
       "      <th>mean_score_time</th>\n",
       "      <td>0.00599599</td>\n",
       "      <td>0.00633931</td>\n",
       "      <td>0.00599241</td>\n",
       "      <td>0.00432746</td>\n",
       "      <td>0.00433016</td>\n",
       "      <td>0.00399725</td>\n",
       "      <td>0.00432952</td>\n",
       "      <td>0.00466394</td>\n",
       "      <td>0.0063297</td>\n",
       "      <td>0.00433071</td>\n",
       "      <td>...</td>\n",
       "      <td>0.00399701</td>\n",
       "      <td>0.00366314</td>\n",
       "      <td>0.00399836</td>\n",
       "      <td>0.00466355</td>\n",
       "      <td>0.00433048</td>\n",
       "      <td>0.00399693</td>\n",
       "      <td>0.00399709</td>\n",
       "      <td>0.00399733</td>\n",
       "      <td>0.00399224</td>\n",
       "      <td>0.00399685</td>\n",
       "    </tr>\n",
       "    <tr>\n",
       "      <th>std_score_time</th>\n",
       "      <td>0.000814591</td>\n",
       "      <td>0.000937696</td>\n",
       "      <td>0.0028316</td>\n",
       "      <td>0.000467549</td>\n",
       "      <td>0.00047137</td>\n",
       "      <td>4.89904e-07</td>\n",
       "      <td>0.000470471</td>\n",
       "      <td>0.000470702</td>\n",
       "      <td>0.00124709</td>\n",
       "      <td>0.000471315</td>\n",
       "      <td>...</td>\n",
       "      <td>4.05234e-07</td>\n",
       "      <td>0.000470247</td>\n",
       "      <td>1.83993e-06</td>\n",
       "      <td>0.000942179</td>\n",
       "      <td>0.000470809</td>\n",
       "      <td>9.19965e-07</td>\n",
       "      <td>1.94668e-07</td>\n",
       "      <td>1.08387e-06</td>\n",
       "      <td>6.35684e-06</td>\n",
       "      <td>5.15043e-07</td>\n",
       "    </tr>\n",
       "    <tr>\n",
       "      <th>param_leaf_size</th>\n",
       "      <td>10</td>\n",
       "      <td>10</td>\n",
       "      <td>10</td>\n",
       "      <td>10</td>\n",
       "      <td>10</td>\n",
       "      <td>10</td>\n",
       "      <td>10</td>\n",
       "      <td>10</td>\n",
       "      <td>10</td>\n",
       "      <td>20</td>\n",
       "      <td>...</td>\n",
       "      <td>20</td>\n",
       "      <td>30</td>\n",
       "      <td>30</td>\n",
       "      <td>30</td>\n",
       "      <td>30</td>\n",
       "      <td>30</td>\n",
       "      <td>30</td>\n",
       "      <td>30</td>\n",
       "      <td>30</td>\n",
       "      <td>30</td>\n",
       "    </tr>\n",
       "    <tr>\n",
       "      <th>param_n_neighbors</th>\n",
       "      <td>1</td>\n",
       "      <td>2</td>\n",
       "      <td>3</td>\n",
       "      <td>4</td>\n",
       "      <td>5</td>\n",
       "      <td>6</td>\n",
       "      <td>7</td>\n",
       "      <td>8</td>\n",
       "      <td>9</td>\n",
       "      <td>1</td>\n",
       "      <td>...</td>\n",
       "      <td>9</td>\n",
       "      <td>1</td>\n",
       "      <td>2</td>\n",
       "      <td>3</td>\n",
       "      <td>4</td>\n",
       "      <td>5</td>\n",
       "      <td>6</td>\n",
       "      <td>7</td>\n",
       "      <td>8</td>\n",
       "      <td>9</td>\n",
       "    </tr>\n",
       "    <tr>\n",
       "      <th>params</th>\n",
       "      <td>{'leaf_size': 10, 'n_neighbors': 1}</td>\n",
       "      <td>{'leaf_size': 10, 'n_neighbors': 2}</td>\n",
       "      <td>{'leaf_size': 10, 'n_neighbors': 3}</td>\n",
       "      <td>{'leaf_size': 10, 'n_neighbors': 4}</td>\n",
       "      <td>{'leaf_size': 10, 'n_neighbors': 5}</td>\n",
       "      <td>{'leaf_size': 10, 'n_neighbors': 6}</td>\n",
       "      <td>{'leaf_size': 10, 'n_neighbors': 7}</td>\n",
       "      <td>{'leaf_size': 10, 'n_neighbors': 8}</td>\n",
       "      <td>{'leaf_size': 10, 'n_neighbors': 9}</td>\n",
       "      <td>{'leaf_size': 20, 'n_neighbors': 1}</td>\n",
       "      <td>...</td>\n",
       "      <td>{'leaf_size': 20, 'n_neighbors': 9}</td>\n",
       "      <td>{'leaf_size': 30, 'n_neighbors': 1}</td>\n",
       "      <td>{'leaf_size': 30, 'n_neighbors': 2}</td>\n",
       "      <td>{'leaf_size': 30, 'n_neighbors': 3}</td>\n",
       "      <td>{'leaf_size': 30, 'n_neighbors': 4}</td>\n",
       "      <td>{'leaf_size': 30, 'n_neighbors': 5}</td>\n",
       "      <td>{'leaf_size': 30, 'n_neighbors': 6}</td>\n",
       "      <td>{'leaf_size': 30, 'n_neighbors': 7}</td>\n",
       "      <td>{'leaf_size': 30, 'n_neighbors': 8}</td>\n",
       "      <td>{'leaf_size': 30, 'n_neighbors': 9}</td>\n",
       "    </tr>\n",
       "    <tr>\n",
       "      <th>split0_test_score</th>\n",
       "      <td>0.980392</td>\n",
       "      <td>0.960784</td>\n",
       "      <td>0.980392</td>\n",
       "      <td>0.980392</td>\n",
       "      <td>0.980392</td>\n",
       "      <td>0.980392</td>\n",
       "      <td>0.980392</td>\n",
       "      <td>0.980392</td>\n",
       "      <td>0.960784</td>\n",
       "      <td>0.980392</td>\n",
       "      <td>...</td>\n",
       "      <td>0.960784</td>\n",
       "      <td>0.980392</td>\n",
       "      <td>0.960784</td>\n",
       "      <td>0.980392</td>\n",
       "      <td>0.980392</td>\n",
       "      <td>0.980392</td>\n",
       "      <td>0.980392</td>\n",
       "      <td>0.980392</td>\n",
       "      <td>0.980392</td>\n",
       "      <td>0.960784</td>\n",
       "    </tr>\n",
       "    <tr>\n",
       "      <th>split1_test_score</th>\n",
       "      <td>0.921569</td>\n",
       "      <td>0.941176</td>\n",
       "      <td>0.960784</td>\n",
       "      <td>0.960784</td>\n",
       "      <td>0.980392</td>\n",
       "      <td>0.960784</td>\n",
       "      <td>0.960784</td>\n",
       "      <td>0.980392</td>\n",
       "      <td>0.980392</td>\n",
       "      <td>0.921569</td>\n",
       "      <td>...</td>\n",
       "      <td>0.980392</td>\n",
       "      <td>0.921569</td>\n",
       "      <td>0.941176</td>\n",
       "      <td>0.960784</td>\n",
       "      <td>0.960784</td>\n",
       "      <td>0.980392</td>\n",
       "      <td>0.960784</td>\n",
       "      <td>0.960784</td>\n",
       "      <td>0.980392</td>\n",
       "      <td>0.980392</td>\n",
       "    </tr>\n",
       "    <tr>\n",
       "      <th>split2_test_score</th>\n",
       "      <td>1</td>\n",
       "      <td>0.958333</td>\n",
       "      <td>1</td>\n",
       "      <td>0.979167</td>\n",
       "      <td>1</td>\n",
       "      <td>0.979167</td>\n",
       "      <td>0.979167</td>\n",
       "      <td>0.979167</td>\n",
       "      <td>0.979167</td>\n",
       "      <td>1</td>\n",
       "      <td>...</td>\n",
       "      <td>0.979167</td>\n",
       "      <td>1</td>\n",
       "      <td>0.958333</td>\n",
       "      <td>1</td>\n",
       "      <td>0.979167</td>\n",
       "      <td>1</td>\n",
       "      <td>0.979167</td>\n",
       "      <td>0.979167</td>\n",
       "      <td>0.979167</td>\n",
       "      <td>0.979167</td>\n",
       "    </tr>\n",
       "    <tr>\n",
       "      <th>mean_test_score</th>\n",
       "      <td>0.966667</td>\n",
       "      <td>0.953333</td>\n",
       "      <td>0.98</td>\n",
       "      <td>0.973333</td>\n",
       "      <td>0.986667</td>\n",
       "      <td>0.973333</td>\n",
       "      <td>0.973333</td>\n",
       "      <td>0.98</td>\n",
       "      <td>0.973333</td>\n",
       "      <td>0.966667</td>\n",
       "      <td>...</td>\n",
       "      <td>0.973333</td>\n",
       "      <td>0.966667</td>\n",
       "      <td>0.953333</td>\n",
       "      <td>0.98</td>\n",
       "      <td>0.973333</td>\n",
       "      <td>0.986667</td>\n",
       "      <td>0.973333</td>\n",
       "      <td>0.973333</td>\n",
       "      <td>0.98</td>\n",
       "      <td>0.973333</td>\n",
       "    </tr>\n",
       "    <tr>\n",
       "      <th>std_test_score</th>\n",
       "      <td>0.0333333</td>\n",
       "      <td>0.00878204</td>\n",
       "      <td>0.0159247</td>\n",
       "      <td>0.00902067</td>\n",
       "      <td>0.00914659</td>\n",
       "      <td>0.00902067</td>\n",
       "      <td>0.00902067</td>\n",
       "      <td>0.000571662</td>\n",
       "      <td>0.00902067</td>\n",
       "      <td>0.0333333</td>\n",
       "      <td>...</td>\n",
       "      <td>0.00902067</td>\n",
       "      <td>0.0333333</td>\n",
       "      <td>0.00878204</td>\n",
       "      <td>0.0159247</td>\n",
       "      <td>0.00902067</td>\n",
       "      <td>0.00914659</td>\n",
       "      <td>0.00902067</td>\n",
       "      <td>0.00902067</td>\n",
       "      <td>0.000571662</td>\n",
       "      <td>0.00902067</td>\n",
       "    </tr>\n",
       "    <tr>\n",
       "      <th>rank_test_score</th>\n",
       "      <td>22</td>\n",
       "      <td>25</td>\n",
       "      <td>4</td>\n",
       "      <td>10</td>\n",
       "      <td>1</td>\n",
       "      <td>10</td>\n",
       "      <td>10</td>\n",
       "      <td>4</td>\n",
       "      <td>10</td>\n",
       "      <td>22</td>\n",
       "      <td>...</td>\n",
       "      <td>10</td>\n",
       "      <td>22</td>\n",
       "      <td>25</td>\n",
       "      <td>4</td>\n",
       "      <td>10</td>\n",
       "      <td>1</td>\n",
       "      <td>10</td>\n",
       "      <td>10</td>\n",
       "      <td>4</td>\n",
       "      <td>10</td>\n",
       "    </tr>\n",
       "  </tbody>\n",
       "</table>\n",
       "<p>13 rows × 27 columns</p>\n",
       "</div>"
      ],
      "text/plain": [
       "                                                    0   \\\n",
       "mean_fit_time                               0.00366648   \n",
       "std_fit_time                               0.000472944   \n",
       "mean_score_time                             0.00599599   \n",
       "std_score_time                             0.000814591   \n",
       "param_leaf_size                                     10   \n",
       "param_n_neighbors                                    1   \n",
       "params             {'leaf_size': 10, 'n_neighbors': 1}   \n",
       "split0_test_score                             0.980392   \n",
       "split1_test_score                             0.921569   \n",
       "split2_test_score                                    1   \n",
       "mean_test_score                               0.966667   \n",
       "std_test_score                               0.0333333   \n",
       "rank_test_score                                     22   \n",
       "\n",
       "                                                    1   \\\n",
       "mean_fit_time                               0.00465933   \n",
       "std_fit_time                                0.00234949   \n",
       "mean_score_time                             0.00633931   \n",
       "std_score_time                             0.000937696   \n",
       "param_leaf_size                                     10   \n",
       "param_n_neighbors                                    2   \n",
       "params             {'leaf_size': 10, 'n_neighbors': 2}   \n",
       "split0_test_score                             0.960784   \n",
       "split1_test_score                             0.941176   \n",
       "split2_test_score                             0.958333   \n",
       "mean_test_score                               0.953333   \n",
       "std_test_score                              0.00878204   \n",
       "rank_test_score                                     25   \n",
       "\n",
       "                                                    2   \\\n",
       "mean_fit_time                               0.00499678   \n",
       "std_fit_time                                0.00141315   \n",
       "mean_score_time                             0.00599241   \n",
       "std_score_time                               0.0028316   \n",
       "param_leaf_size                                     10   \n",
       "param_n_neighbors                                    3   \n",
       "params             {'leaf_size': 10, 'n_neighbors': 3}   \n",
       "split0_test_score                             0.980392   \n",
       "split1_test_score                             0.960784   \n",
       "split2_test_score                                    1   \n",
       "mean_test_score                                   0.98   \n",
       "std_test_score                               0.0159247   \n",
       "rank_test_score                                      4   \n",
       "\n",
       "                                                    3   \\\n",
       "mean_fit_time                                0.0026679   \n",
       "std_fit_time                               0.000467324   \n",
       "mean_score_time                             0.00432746   \n",
       "std_score_time                             0.000467549   \n",
       "param_leaf_size                                     10   \n",
       "param_n_neighbors                                    4   \n",
       "params             {'leaf_size': 10, 'n_neighbors': 4}   \n",
       "split0_test_score                             0.980392   \n",
       "split1_test_score                             0.960784   \n",
       "split2_test_score                             0.979167   \n",
       "mean_test_score                               0.973333   \n",
       "std_test_score                              0.00902067   \n",
       "rank_test_score                                     10   \n",
       "\n",
       "                                                    4   \\\n",
       "mean_fit_time                               0.00266568   \n",
       "std_fit_time                               0.000471146   \n",
       "mean_score_time                             0.00433016   \n",
       "std_score_time                              0.00047137   \n",
       "param_leaf_size                                     10   \n",
       "param_n_neighbors                                    5   \n",
       "params             {'leaf_size': 10, 'n_neighbors': 5}   \n",
       "split0_test_score                             0.980392   \n",
       "split1_test_score                             0.980392   \n",
       "split2_test_score                                    1   \n",
       "mean_test_score                               0.986667   \n",
       "std_test_score                              0.00914659   \n",
       "rank_test_score                                      1   \n",
       "\n",
       "                                                    5   \\\n",
       "mean_fit_time                               0.00299843   \n",
       "std_fit_time                               1.12392e-07   \n",
       "mean_score_time                             0.00399725   \n",
       "std_score_time                             4.89904e-07   \n",
       "param_leaf_size                                     10   \n",
       "param_n_neighbors                                    6   \n",
       "params             {'leaf_size': 10, 'n_neighbors': 6}   \n",
       "split0_test_score                             0.980392   \n",
       "split1_test_score                             0.960784   \n",
       "split2_test_score                             0.979167   \n",
       "mean_test_score                               0.973333   \n",
       "std_test_score                              0.00902067   \n",
       "rank_test_score                                     10   \n",
       "\n",
       "                                                    6   \\\n",
       "mean_fit_time                               0.00266623   \n",
       "std_fit_time                               0.000471708   \n",
       "mean_score_time                             0.00432952   \n",
       "std_score_time                             0.000470471   \n",
       "param_leaf_size                                     10   \n",
       "param_n_neighbors                                    7   \n",
       "params             {'leaf_size': 10, 'n_neighbors': 7}   \n",
       "split0_test_score                             0.980392   \n",
       "split1_test_score                             0.960784   \n",
       "split2_test_score                             0.979167   \n",
       "mean_test_score                               0.973333   \n",
       "std_test_score                              0.00902067   \n",
       "rank_test_score                                     10   \n",
       "\n",
       "                                                    7   \\\n",
       "mean_fit_time                                0.0029978   \n",
       "std_fit_time                               0.000815561   \n",
       "mean_score_time                             0.00466394   \n",
       "std_score_time                             0.000470702   \n",
       "param_leaf_size                                     10   \n",
       "param_n_neighbors                                    8   \n",
       "params             {'leaf_size': 10, 'n_neighbors': 8}   \n",
       "split0_test_score                             0.980392   \n",
       "split1_test_score                             0.980392   \n",
       "split2_test_score                             0.979167   \n",
       "mean_test_score                                   0.98   \n",
       "std_test_score                             0.000571662   \n",
       "rank_test_score                                      4   \n",
       "\n",
       "                                                    8   \\\n",
       "mean_fit_time                               0.00365829   \n",
       "std_fit_time                                0.00168964   \n",
       "mean_score_time                              0.0063297   \n",
       "std_score_time                              0.00124709   \n",
       "param_leaf_size                                     10   \n",
       "param_n_neighbors                                    9   \n",
       "params             {'leaf_size': 10, 'n_neighbors': 9}   \n",
       "split0_test_score                             0.960784   \n",
       "split1_test_score                             0.980392   \n",
       "split2_test_score                             0.979167   \n",
       "mean_test_score                               0.973333   \n",
       "std_test_score                              0.00902067   \n",
       "rank_test_score                                     10   \n",
       "\n",
       "                                                    9   ...  \\\n",
       "mean_fit_time                               0.00299819  ...   \n",
       "std_fit_time                               1.12392e-07  ...   \n",
       "mean_score_time                             0.00433071  ...   \n",
       "std_score_time                             0.000471315  ...   \n",
       "param_leaf_size                                     20  ...   \n",
       "param_n_neighbors                                    1  ...   \n",
       "params             {'leaf_size': 20, 'n_neighbors': 1}  ...   \n",
       "split0_test_score                             0.980392  ...   \n",
       "split1_test_score                             0.921569  ...   \n",
       "split2_test_score                                    1  ...   \n",
       "mean_test_score                               0.966667  ...   \n",
       "std_test_score                               0.0333333  ...   \n",
       "rank_test_score                                     22  ...   \n",
       "\n",
       "                                                    17  \\\n",
       "mean_fit_time                               0.00233237   \n",
       "std_fit_time                               0.000471089   \n",
       "mean_score_time                             0.00399701   \n",
       "std_score_time                             4.05234e-07   \n",
       "param_leaf_size                                     20   \n",
       "param_n_neighbors                                    9   \n",
       "params             {'leaf_size': 20, 'n_neighbors': 9}   \n",
       "split0_test_score                             0.960784   \n",
       "split1_test_score                             0.980392   \n",
       "split2_test_score                             0.979167   \n",
       "mean_test_score                               0.973333   \n",
       "std_test_score                              0.00902067   \n",
       "rank_test_score                                     10   \n",
       "\n",
       "                                                    18  \\\n",
       "mean_fit_time                               0.00266528   \n",
       "std_fit_time                               0.000470865   \n",
       "mean_score_time                             0.00366314   \n",
       "std_score_time                             0.000470247   \n",
       "param_leaf_size                                     30   \n",
       "param_n_neighbors                                    1   \n",
       "params             {'leaf_size': 30, 'n_neighbors': 1}   \n",
       "split0_test_score                             0.980392   \n",
       "split1_test_score                             0.921569   \n",
       "split2_test_score                                    1   \n",
       "mean_test_score                               0.966667   \n",
       "std_test_score                               0.0333333   \n",
       "rank_test_score                                     22   \n",
       "\n",
       "                                                    19  \\\n",
       "mean_fit_time                               0.00299859   \n",
       "std_fit_time                               1.94668e-07   \n",
       "mean_score_time                             0.00399836   \n",
       "std_score_time                             1.83993e-06   \n",
       "param_leaf_size                                     30   \n",
       "param_n_neighbors                                    2   \n",
       "params             {'leaf_size': 30, 'n_neighbors': 2}   \n",
       "split0_test_score                             0.960784   \n",
       "split1_test_score                             0.941176   \n",
       "split2_test_score                             0.958333   \n",
       "mean_test_score                               0.953333   \n",
       "std_test_score                              0.00878204   \n",
       "rank_test_score                                     25   \n",
       "\n",
       "                                                    20  \\\n",
       "mean_fit_time                               0.00233157   \n",
       "std_fit_time                               0.000470303   \n",
       "mean_score_time                             0.00466355   \n",
       "std_score_time                             0.000942179   \n",
       "param_leaf_size                                     30   \n",
       "param_n_neighbors                                    3   \n",
       "params             {'leaf_size': 30, 'n_neighbors': 3}   \n",
       "split0_test_score                             0.980392   \n",
       "split1_test_score                             0.960784   \n",
       "split2_test_score                                    1   \n",
       "mean_test_score                                   0.98   \n",
       "std_test_score                               0.0159247   \n",
       "rank_test_score                                      4   \n",
       "\n",
       "                                                    21  \\\n",
       "mean_fit_time                               0.00266552   \n",
       "std_fit_time                               0.000471033   \n",
       "mean_score_time                             0.00433048   \n",
       "std_score_time                             0.000470809   \n",
       "param_leaf_size                                     30   \n",
       "param_n_neighbors                                    4   \n",
       "params             {'leaf_size': 30, 'n_neighbors': 4}   \n",
       "split0_test_score                             0.980392   \n",
       "split1_test_score                             0.960784   \n",
       "split2_test_score                             0.979167   \n",
       "mean_test_score                               0.973333   \n",
       "std_test_score                              0.00902067   \n",
       "rank_test_score                                     10   \n",
       "\n",
       "                                                    22  \\\n",
       "mean_fit_time                               0.00233253   \n",
       "std_fit_time                               0.000472157   \n",
       "mean_score_time                             0.00399693   \n",
       "std_score_time                             9.19965e-07   \n",
       "param_leaf_size                                     30   \n",
       "param_n_neighbors                                    5   \n",
       "params             {'leaf_size': 30, 'n_neighbors': 5}   \n",
       "split0_test_score                             0.980392   \n",
       "split1_test_score                             0.980392   \n",
       "split2_test_score                                    1   \n",
       "mean_test_score                               0.986667   \n",
       "std_test_score                              0.00914659   \n",
       "rank_test_score                                      1   \n",
       "\n",
       "                                                    23  \\\n",
       "mean_fit_time                               0.00300447   \n",
       "std_fit_time                               7.81182e-06   \n",
       "mean_score_time                             0.00399709   \n",
       "std_score_time                             1.94668e-07   \n",
       "param_leaf_size                                     30   \n",
       "param_n_neighbors                                    6   \n",
       "params             {'leaf_size': 30, 'n_neighbors': 6}   \n",
       "split0_test_score                             0.980392   \n",
       "split1_test_score                             0.960784   \n",
       "split2_test_score                             0.979167   \n",
       "mean_test_score                               0.973333   \n",
       "std_test_score                              0.00902067   \n",
       "rank_test_score                                     10   \n",
       "\n",
       "                                                    24  \\\n",
       "mean_fit_time                               0.00233229   \n",
       "std_fit_time                               0.000471483   \n",
       "mean_score_time                             0.00399733   \n",
       "std_score_time                             1.08387e-06   \n",
       "param_leaf_size                                     30   \n",
       "param_n_neighbors                                    7   \n",
       "params             {'leaf_size': 30, 'n_neighbors': 7}   \n",
       "split0_test_score                             0.980392   \n",
       "split1_test_score                             0.960784   \n",
       "split2_test_score                             0.979167   \n",
       "mean_test_score                               0.973333   \n",
       "std_test_score                              0.00902067   \n",
       "rank_test_score                                     10   \n",
       "\n",
       "                                                    25  \\\n",
       "mean_fit_time                               0.00266568   \n",
       "std_fit_time                               0.000471483   \n",
       "mean_score_time                             0.00399224   \n",
       "std_score_time                             6.35684e-06   \n",
       "param_leaf_size                                     30   \n",
       "param_n_neighbors                                    8   \n",
       "params             {'leaf_size': 30, 'n_neighbors': 8}   \n",
       "split0_test_score                             0.980392   \n",
       "split1_test_score                             0.980392   \n",
       "split2_test_score                             0.979167   \n",
       "mean_test_score                                   0.98   \n",
       "std_test_score                             0.000571662   \n",
       "rank_test_score                                      4   \n",
       "\n",
       "                                                    26  \n",
       "mean_fit_time                                0.0026656  \n",
       "std_fit_time                               0.000471764  \n",
       "mean_score_time                             0.00399685  \n",
       "std_score_time                             5.15043e-07  \n",
       "param_leaf_size                                     30  \n",
       "param_n_neighbors                                    9  \n",
       "params             {'leaf_size': 30, 'n_neighbors': 9}  \n",
       "split0_test_score                             0.960784  \n",
       "split1_test_score                             0.980392  \n",
       "split2_test_score                             0.979167  \n",
       "mean_test_score                               0.973333  \n",
       "std_test_score                              0.00902067  \n",
       "rank_test_score                                     10  \n",
       "\n",
       "[13 rows x 27 columns]"
      ]
     },
     "execution_count": 107,
     "metadata": {},
     "output_type": "execute_result"
    }
   ],
   "source": [
    "pd.DataFrame(grid.cv_results_).T"
   ]
  },
  {
   "cell_type": "markdown",
   "metadata": {},
   "source": [
    "# Encoding\n"
   ]
  },
  {
   "cell_type": "code",
   "execution_count": 108,
   "metadata": {
    "ExecuteTime": {
     "end_time": "2019-07-26T02:34:28.725507Z",
     "start_time": "2019-07-26T02:34:27.521197Z"
    }
   },
   "outputs": [],
   "source": [
    "import seaborn"
   ]
  },
  {
   "cell_type": "code",
   "execution_count": 109,
   "metadata": {
    "ExecuteTime": {
     "end_time": "2019-07-26T02:34:41.289325Z",
     "start_time": "2019-07-26T02:34:41.250355Z"
    }
   },
   "outputs": [],
   "source": [
    "iris = seaborn.load_dataset('iris')"
   ]
  },
  {
   "cell_type": "code",
   "execution_count": 110,
   "metadata": {
    "ExecuteTime": {
     "end_time": "2019-07-26T02:35:43.097004Z",
     "start_time": "2019-07-26T02:35:43.071019Z"
    }
   },
   "outputs": [
    {
     "data": {
      "text/html": [
       "<div>\n",
       "<style scoped>\n",
       "    .dataframe tbody tr th:only-of-type {\n",
       "        vertical-align: middle;\n",
       "    }\n",
       "\n",
       "    .dataframe tbody tr th {\n",
       "        vertical-align: top;\n",
       "    }\n",
       "\n",
       "    .dataframe thead th {\n",
       "        text-align: right;\n",
       "    }\n",
       "</style>\n",
       "<table border=\"1\" class=\"dataframe\">\n",
       "  <thead>\n",
       "    <tr style=\"text-align: right;\">\n",
       "      <th></th>\n",
       "      <th>sepal_length</th>\n",
       "      <th>sepal_width</th>\n",
       "      <th>petal_length</th>\n",
       "      <th>petal_width</th>\n",
       "      <th>species</th>\n",
       "    </tr>\n",
       "  </thead>\n",
       "  <tbody>\n",
       "    <tr>\n",
       "      <th>0</th>\n",
       "      <td>5.1</td>\n",
       "      <td>3.5</td>\n",
       "      <td>1.4</td>\n",
       "      <td>0.2</td>\n",
       "      <td>setosa</td>\n",
       "    </tr>\n",
       "    <tr>\n",
       "      <th>1</th>\n",
       "      <td>4.9</td>\n",
       "      <td>3.0</td>\n",
       "      <td>1.4</td>\n",
       "      <td>0.2</td>\n",
       "      <td>setosa</td>\n",
       "    </tr>\n",
       "    <tr>\n",
       "      <th>2</th>\n",
       "      <td>4.7</td>\n",
       "      <td>3.2</td>\n",
       "      <td>1.3</td>\n",
       "      <td>0.2</td>\n",
       "      <td>setosa</td>\n",
       "    </tr>\n",
       "    <tr>\n",
       "      <th>3</th>\n",
       "      <td>4.6</td>\n",
       "      <td>3.1</td>\n",
       "      <td>1.5</td>\n",
       "      <td>0.2</td>\n",
       "      <td>setosa</td>\n",
       "    </tr>\n",
       "    <tr>\n",
       "      <th>4</th>\n",
       "      <td>5.0</td>\n",
       "      <td>3.6</td>\n",
       "      <td>1.4</td>\n",
       "      <td>0.2</td>\n",
       "      <td>setosa</td>\n",
       "    </tr>\n",
       "  </tbody>\n",
       "</table>\n",
       "</div>"
      ],
      "text/plain": [
       "   sepal_length  sepal_width  petal_length  petal_width species\n",
       "0           5.1          3.5           1.4          0.2  setosa\n",
       "1           4.9          3.0           1.4          0.2  setosa\n",
       "2           4.7          3.2           1.3          0.2  setosa\n",
       "3           4.6          3.1           1.5          0.2  setosa\n",
       "4           5.0          3.6           1.4          0.2  setosa"
      ]
     },
     "execution_count": 110,
     "metadata": {},
     "output_type": "execute_result"
    }
   ],
   "source": [
    "iris.head()"
   ]
  },
  {
   "cell_type": "code",
   "execution_count": 121,
   "metadata": {
    "ExecuteTime": {
     "end_time": "2019-07-26T02:38:10.858559Z",
     "start_time": "2019-07-26T02:38:10.843564Z"
    }
   },
   "outputs": [
    {
     "data": {
      "text/plain": [
       "124    1\n",
       "101    1\n",
       "47     0\n",
       "74     2\n",
       "39     0\n",
       "97     2\n",
       "137    1\n",
       "121    1\n",
       "104    1\n",
       "3      0\n",
       "Name: species, dtype: int64"
      ]
     },
     "execution_count": 121,
     "metadata": {},
     "output_type": "execute_result"
    }
   ],
   "source": [
    "iris.species.map({'setosa':0, 'virginica':1, 'versicolor':2}).sample(10)"
   ]
  },
  {
   "cell_type": "markdown",
   "metadata": {},
   "source": [
    "## 라벨 인코딩의 문제점\n",
    "- train시 categorical data가 numeric data로 인지될 수 있다.\n",
    "- test 데이터에서는 사용하여도 된다."
   ]
  },
  {
   "cell_type": "code",
   "execution_count": 122,
   "metadata": {
    "ExecuteTime": {
     "end_time": "2019-07-26T02:39:18.063150Z",
     "start_time": "2019-07-26T02:39:18.059153Z"
    }
   },
   "outputs": [],
   "source": [
    "from sklearn.preprocessing import LabelEncoder"
   ]
  },
  {
   "cell_type": "code",
   "execution_count": 123,
   "metadata": {
    "ExecuteTime": {
     "end_time": "2019-07-26T02:39:39.048158Z",
     "start_time": "2019-07-26T02:39:39.043159Z"
    }
   },
   "outputs": [],
   "source": [
    "le = LabelEncoder()"
   ]
  },
  {
   "cell_type": "code",
   "execution_count": 124,
   "metadata": {
    "ExecuteTime": {
     "end_time": "2019-07-26T02:40:04.097842Z",
     "start_time": "2019-07-26T02:40:04.089846Z"
    }
   },
   "outputs": [
    {
     "data": {
      "text/plain": [
       "LabelEncoder()"
      ]
     },
     "execution_count": 124,
     "metadata": {},
     "output_type": "execute_result"
    }
   ],
   "source": [
    "le.fit(iris.species)"
   ]
  },
  {
   "cell_type": "code",
   "execution_count": 125,
   "metadata": {
    "ExecuteTime": {
     "end_time": "2019-07-26T02:40:18.794442Z",
     "start_time": "2019-07-26T02:40:18.784448Z"
    }
   },
   "outputs": [
    {
     "data": {
      "text/plain": [
       "array([0, 0, 0, 0, 0, 0, 0, 0, 0, 0, 0, 0, 0, 0, 0, 0, 0, 0, 0, 0, 0, 0,\n",
       "       0, 0, 0, 0, 0, 0, 0, 0, 0, 0, 0, 0, 0, 0, 0, 0, 0, 0, 0, 0, 0, 0,\n",
       "       0, 0, 0, 0, 0, 0, 1, 1, 1, 1, 1, 1, 1, 1, 1, 1, 1, 1, 1, 1, 1, 1,\n",
       "       1, 1, 1, 1, 1, 1, 1, 1, 1, 1, 1, 1, 1, 1, 1, 1, 1, 1, 1, 1, 1, 1,\n",
       "       1, 1, 1, 1, 1, 1, 1, 1, 1, 1, 1, 1, 2, 2, 2, 2, 2, 2, 2, 2, 2, 2,\n",
       "       2, 2, 2, 2, 2, 2, 2, 2, 2, 2, 2, 2, 2, 2, 2, 2, 2, 2, 2, 2, 2, 2,\n",
       "       2, 2, 2, 2, 2, 2, 2, 2, 2, 2, 2, 2, 2, 2, 2, 2, 2, 2])"
      ]
     },
     "execution_count": 125,
     "metadata": {},
     "output_type": "execute_result"
    }
   ],
   "source": [
    "le.transform(iris.species)"
   ]
  },
  {
   "cell_type": "code",
   "execution_count": 126,
   "metadata": {
    "ExecuteTime": {
     "end_time": "2019-07-26T02:40:44.227907Z",
     "start_time": "2019-07-26T02:40:44.217916Z"
    }
   },
   "outputs": [
    {
     "data": {
      "text/plain": [
       "array([0, 0, 0, 0, 0, 0, 0, 0, 0, 0, 0, 0, 0, 0, 0, 0, 0, 0, 0, 0, 0, 0,\n",
       "       0, 0, 0, 0, 0, 0, 0, 0, 0, 0, 0, 0, 0, 0, 0, 0, 0, 0, 0, 0, 0, 0,\n",
       "       0, 0, 0, 0, 0, 0, 1, 1, 1, 1, 1, 1, 1, 1, 1, 1, 1, 1, 1, 1, 1, 1,\n",
       "       1, 1, 1, 1, 1, 1, 1, 1, 1, 1, 1, 1, 1, 1, 1, 1, 1, 1, 1, 1, 1, 1,\n",
       "       1, 1, 1, 1, 1, 1, 1, 1, 1, 1, 1, 1, 2, 2, 2, 2, 2, 2, 2, 2, 2, 2,\n",
       "       2, 2, 2, 2, 2, 2, 2, 2, 2, 2, 2, 2, 2, 2, 2, 2, 2, 2, 2, 2, 2, 2,\n",
       "       2, 2, 2, 2, 2, 2, 2, 2, 2, 2, 2, 2, 2, 2, 2, 2, 2, 2])"
      ]
     },
     "execution_count": 126,
     "metadata": {},
     "output_type": "execute_result"
    }
   ],
   "source": [
    "le.fit_transform(iris.species)"
   ]
  },
  {
   "cell_type": "markdown",
   "metadata": {},
   "source": [
    "## one-hot encoding\n",
    "- 차원이 커진다.. 차원의 저주 걸릴 수 있다.\n",
    "- 벡터의 크기는 무적권 0이다."
   ]
  },
  {
   "cell_type": "code",
   "execution_count": 128,
   "metadata": {
    "ExecuteTime": {
     "end_time": "2019-07-26T02:43:32.577693Z",
     "start_time": "2019-07-26T02:43:32.558705Z"
    }
   },
   "outputs": [
    {
     "data": {
      "text/html": [
       "<div>\n",
       "<style scoped>\n",
       "    .dataframe tbody tr th:only-of-type {\n",
       "        vertical-align: middle;\n",
       "    }\n",
       "\n",
       "    .dataframe tbody tr th {\n",
       "        vertical-align: top;\n",
       "    }\n",
       "\n",
       "    .dataframe thead th {\n",
       "        text-align: right;\n",
       "    }\n",
       "</style>\n",
       "<table border=\"1\" class=\"dataframe\">\n",
       "  <thead>\n",
       "    <tr style=\"text-align: right;\">\n",
       "      <th></th>\n",
       "      <th>setosa</th>\n",
       "      <th>versicolor</th>\n",
       "      <th>virginica</th>\n",
       "    </tr>\n",
       "  </thead>\n",
       "  <tbody>\n",
       "    <tr>\n",
       "      <th>0</th>\n",
       "      <td>1</td>\n",
       "      <td>0</td>\n",
       "      <td>0</td>\n",
       "    </tr>\n",
       "    <tr>\n",
       "      <th>1</th>\n",
       "      <td>1</td>\n",
       "      <td>0</td>\n",
       "      <td>0</td>\n",
       "    </tr>\n",
       "    <tr>\n",
       "      <th>2</th>\n",
       "      <td>1</td>\n",
       "      <td>0</td>\n",
       "      <td>0</td>\n",
       "    </tr>\n",
       "    <tr>\n",
       "      <th>3</th>\n",
       "      <td>1</td>\n",
       "      <td>0</td>\n",
       "      <td>0</td>\n",
       "    </tr>\n",
       "    <tr>\n",
       "      <th>4</th>\n",
       "      <td>1</td>\n",
       "      <td>0</td>\n",
       "      <td>0</td>\n",
       "    </tr>\n",
       "  </tbody>\n",
       "</table>\n",
       "</div>"
      ],
      "text/plain": [
       "   setosa  versicolor  virginica\n",
       "0       1           0          0\n",
       "1       1           0          0\n",
       "2       1           0          0\n",
       "3       1           0          0\n",
       "4       1           0          0"
      ]
     },
     "execution_count": 128,
     "metadata": {},
     "output_type": "execute_result"
    }
   ],
   "source": [
    "pd.get_dummies(iris.species).head()"
   ]
  },
  {
   "cell_type": "code",
   "execution_count": 129,
   "metadata": {
    "ExecuteTime": {
     "end_time": "2019-07-26T02:44:15.131375Z",
     "start_time": "2019-07-26T02:44:15.126378Z"
    }
   },
   "outputs": [],
   "source": [
    "from sklearn.preprocessing import OneHotEncoder"
   ]
  },
  {
   "cell_type": "code",
   "execution_count": 130,
   "metadata": {
    "ExecuteTime": {
     "end_time": "2019-07-26T02:44:22.082403Z",
     "start_time": "2019-07-26T02:44:22.078406Z"
    }
   },
   "outputs": [],
   "source": [
    "ohe = OneHotEncoder()"
   ]
  },
  {
   "cell_type": "code",
   "execution_count": 133,
   "metadata": {
    "ExecuteTime": {
     "end_time": "2019-07-26T02:45:34.459040Z",
     "start_time": "2019-07-26T02:45:34.446048Z"
    }
   },
   "outputs": [
    {
     "data": {
      "text/plain": [
       "OneHotEncoder(categorical_features=None, categories=None, drop=None,\n",
       "              dtype=<class 'numpy.float64'>, handle_unknown='error',\n",
       "              n_values=None, sparse=True)"
      ]
     },
     "execution_count": 133,
     "metadata": {},
     "output_type": "execute_result"
    }
   ],
   "source": [
    "ohe.fit(iris[['species']]) # fancy indexing"
   ]
  },
  {
   "cell_type": "code",
   "execution_count": 139,
   "metadata": {
    "ExecuteTime": {
     "end_time": "2019-07-26T02:46:19.303411Z",
     "start_time": "2019-07-26T02:46:19.290417Z"
    }
   },
   "outputs": [
    {
     "data": {
      "text/plain": [
       "array([[1., 0., 0.],\n",
       "       [1., 0., 0.],\n",
       "       [1., 0., 0.],\n",
       "       [1., 0., 0.],\n",
       "       [1., 0., 0.],\n",
       "       [1., 0., 0.],\n",
       "       [1., 0., 0.],\n",
       "       [1., 0., 0.],\n",
       "       [1., 0., 0.],\n",
       "       [1., 0., 0.]])"
      ]
     },
     "execution_count": 139,
     "metadata": {},
     "output_type": "execute_result"
    }
   ],
   "source": [
    "ohe.transform(iris[['species']]).toarray()[:10]"
   ]
  },
  {
   "cell_type": "code",
   "execution_count": 140,
   "metadata": {
    "ExecuteTime": {
     "end_time": "2019-07-26T02:46:33.174483Z",
     "start_time": "2019-07-26T02:46:33.160490Z"
    }
   },
   "outputs": [
    {
     "data": {
      "text/plain": [
       "array([[1., 0., 0.],\n",
       "       [1., 0., 0.],\n",
       "       [1., 0., 0.],\n",
       "       [1., 0., 0.],\n",
       "       [1., 0., 0.],\n",
       "       [1., 0., 0.],\n",
       "       [1., 0., 0.],\n",
       "       [1., 0., 0.],\n",
       "       [1., 0., 0.],\n",
       "       [1., 0., 0.]])"
      ]
     },
     "execution_count": 140,
     "metadata": {},
     "output_type": "execute_result"
    }
   ],
   "source": [
    "ohe.fit_transform(iris[['species']]).toarray()[:10]"
   ]
  },
  {
   "cell_type": "code",
   "execution_count": 141,
   "metadata": {
    "ExecuteTime": {
     "end_time": "2019-07-26T02:47:08.788130Z",
     "start_time": "2019-07-26T02:47:08.780135Z"
    }
   },
   "outputs": [
    {
     "data": {
      "text/plain": [
       "array([['setosa']], dtype=object)"
      ]
     },
     "execution_count": 141,
     "metadata": {},
     "output_type": "execute_result"
    }
   ],
   "source": [
    "## 사이킷을 변환시킨 데이터를 편하게 거꾸로 돌릴 수 있다.\n",
    "ohe.inverse_transform([[1,0,0]])"
   ]
  },
  {
   "cell_type": "code",
   "execution_count": 144,
   "metadata": {
    "ExecuteTime": {
     "end_time": "2019-07-26T02:47:57.199464Z",
     "start_time": "2019-07-26T02:47:57.190469Z"
    }
   },
   "outputs": [
    {
     "data": {
      "text/plain": [
       "array(['virginica', 'versicolor', 'setosa'], dtype=object)"
      ]
     },
     "execution_count": 144,
     "metadata": {},
     "output_type": "execute_result"
    }
   ],
   "source": [
    "le.inverse_transform([2,1,0])"
   ]
  },
  {
   "cell_type": "markdown",
   "metadata": {},
   "source": [
    "-----------------------------------"
   ]
  },
  {
   "cell_type": "markdown",
   "metadata": {},
   "source": [
    "# Preprocessing\n",
    "- Standard Scale : $ z = \\frac{x-\\mu}{\\sigma} $\n",
    "    - test set에서는 하지 않아도 작동된다.\n",
    "- "
   ]
  },
  {
   "cell_type": "code",
   "execution_count": 146,
   "metadata": {
    "ExecuteTime": {
     "end_time": "2019-07-26T03:14:35.867776Z",
     "start_time": "2019-07-26T03:14:35.861779Z"
    }
   },
   "outputs": [],
   "source": [
    "from sklearn.preprocessing import MinMaxScaler, RobustScaler"
   ]
  },
  {
   "cell_type": "code",
   "execution_count": 151,
   "metadata": {
    "ExecuteTime": {
     "end_time": "2019-07-26T03:28:38.277337Z",
     "start_time": "2019-07-26T03:28:38.264344Z"
    }
   },
   "outputs": [
    {
     "data": {
      "text/plain": [
       "0    6.1\n",
       "1    5.9\n",
       "2    5.7\n",
       "3    5.6\n",
       "4    6.0\n",
       "Name: sepal_length, dtype: float64"
      ]
     },
     "execution_count": 151,
     "metadata": {},
     "output_type": "execute_result"
    }
   ],
   "source": [
    "iris.sepal_length.map(lambda x : x+1).head()\n",
    "## predict할 때도 똑같이 바꿔줘야 한다."
   ]
  },
  {
   "cell_type": "code",
   "execution_count": 158,
   "metadata": {
    "ExecuteTime": {
     "end_time": "2019-07-26T03:39:01.467181Z",
     "start_time": "2019-07-26T03:39:01.462191Z"
    }
   },
   "outputs": [],
   "source": [
    "## 학습이 잘 됬나???\n",
    "from sklearn.model_selection import learning_curve, validation_curve"
   ]
  },
  {
   "cell_type": "code",
   "execution_count": 154,
   "metadata": {
    "ExecuteTime": {
     "end_time": "2019-07-26T03:33:52.559722Z",
     "start_time": "2019-07-26T03:33:52.264892Z"
    }
   },
   "outputs": [
    {
     "name": "stderr",
     "output_type": "stream",
     "text": [
      "C:\\Users\\skarn\\Anaconda3\\envs\\data_campus\\lib\\site-packages\\sklearn\\model_selection\\_split.py:1978: FutureWarning: The default value of cv will change from 3 to 5 in version 0.22. Specify it explicitly to silence this warning.\n",
      "  warnings.warn(CV_WARNING, FutureWarning)\n"
     ]
    }
   ],
   "source": [
    "train_size, train_score, test_score = learning_curve(KNeighborsClassifier(), iris.iloc[:,:-1],iris.iloc[:,-1])"
   ]
  },
  {
   "cell_type": "code",
   "execution_count": 155,
   "metadata": {
    "ExecuteTime": {
     "end_time": "2019-07-26T03:34:20.640674Z",
     "start_time": "2019-07-26T03:34:20.396815Z"
    }
   },
   "outputs": [],
   "source": [
    "import sklearn_evaluation"
   ]
  },
  {
   "cell_type": "code",
   "execution_count": 156,
   "metadata": {
    "ExecuteTime": {
     "end_time": "2019-07-26T03:34:46.852694Z",
     "start_time": "2019-07-26T03:34:46.413962Z"
    }
   },
   "outputs": [
    {
     "data": {
      "text/plain": [
       "<matplotlib.axes._subplots.AxesSubplot at 0x26b184cd940>"
      ]
     },
     "execution_count": 156,
     "metadata": {},
     "output_type": "execute_result"
    },
    {
     "data": {
      "image/png": "[encoded data removed]",
      "text/plain": [
       "<Figure size 432x288 with 1 Axes>"
      ]
     },
     "metadata": {
      "needs_background": "light"
     },
     "output_type": "display_data"
    }
   ],
   "source": [
    "sklearn_evaluation.plot.learning_curve(train_score, test_score, train_size)\n"
   ]
  },
  {
   "cell_type": "markdown",
   "metadata": {
    "ExecuteTime": {
     "end_time": "2019-07-26T03:38:32.391800Z",
     "start_time": "2019-07-26T03:38:32.377806Z"
    }
   },
   "source": [
    "\n",
    "- 수렴하는 그래프가 있어야 데이터가 충분하다고 볼 수 있다.\n",
    "- 지금 그래프는 우상향중이기때문에 데이터 더 필요하다\n",
    "\n",
    "\n",
    "- 전처리가 잘못된 경우거나 학습 자체가 불가능한 데이텅 경우 스코어가 상승하지 않는다.\n",
    "\n",
    "\n",
    "- 딥러닝의 경우 데이터가 많아질수록 그냥 성능이 좋아진다.. 계속 상승하는 커브\n"
   ]
  },
  {
   "cell_type": "code",
   "execution_count": 176,
   "metadata": {
    "ExecuteTime": {
     "end_time": "2019-07-26T03:49:18.751510Z",
     "start_time": "2019-07-26T03:49:17.922988Z"
    }
   },
   "outputs": [],
   "source": [
    "training_score, test_score= validation_curve(KNeighborsClassifier(), iris.iloc[:,:-1],iris.iloc[:,-1], \n",
    "                                             param_name='n_neighbors', param_range=range(3,11),cv=10, n_jobs=-1)"
   ]
  },
  {
   "cell_type": "code",
   "execution_count": 177,
   "metadata": {
    "ExecuteTime": {
     "end_time": "2019-07-26T03:49:20.992228Z",
     "start_time": "2019-07-26T03:49:20.596455Z"
    }
   },
   "outputs": [
    {
     "data": {
      "text/plain": [
       "<matplotlib.axes._subplots.AxesSubplot at 0x26b1a6c2470>"
      ]
     },
     "execution_count": 177,
     "metadata": {},
     "output_type": "execute_result"
    },
    {
     "data": {
      "image/png": "[encoded data removed]",
      "text/plain": [
       "<Figure size 432x288 with 1 Axes>"
      ]
     },
     "metadata": {
      "needs_background": "light"
     },
     "output_type": "display_data"
    }
   ],
   "source": [
    "sklearn_evaluation.plot.validation_curve(training_score, test_score,param_range=range(3,11))"
   ]
  },
  {
   "cell_type": "code",
   "execution_count": 175,
   "metadata": {
    "ExecuteTime": {
     "end_time": "2019-07-26T03:49:09.049055Z",
     "start_time": "2019-07-26T03:49:09.045057Z"
    }
   },
   "outputs": [],
   "source": [
    "from sklearn.metrics import confusion_matrix"
   ]
  },
  {
   "cell_type": "code",
   "execution_count": 178,
   "metadata": {
    "ExecuteTime": {
     "end_time": "2019-07-26T03:49:41.607449Z",
     "start_time": "2019-07-26T03:49:41.586458Z"
    }
   },
   "outputs": [
    {
     "data": {
      "text/plain": [
       "array([[12,  0,  0],\n",
       "       [ 0, 12,  3],\n",
       "       [ 0,  0, 11]], dtype=int64)"
      ]
     },
     "execution_count": 178,
     "metadata": {},
     "output_type": "execute_result"
    }
   ],
   "source": [
    "confusion_matrix(y_test, knn.predict(X_test))"
   ]
  },
  {
   "cell_type": "code",
   "execution_count": 179,
   "metadata": {
    "ExecuteTime": {
     "end_time": "2019-07-26T03:50:23.830319Z",
     "start_time": "2019-07-26T03:50:23.383572Z"
    }
   },
   "outputs": [
    {
     "data": {
      "text/plain": [
       "<matplotlib.axes._subplots.AxesSubplot at 0x26b1aa90d30>"
      ]
     },
     "execution_count": 179,
     "metadata": {},
     "output_type": "execute_result"
    },
    {
     "data": {
      "image/png": "[encoded data removed]",
      "text/plain": [
       "<Figure size 432x288 with 2 Axes>"
      ]
     },
     "metadata": {
      "needs_background": "light"
     },
     "output_type": "display_data"
    }
   ],
   "source": [
    "sklearn_evaluation.plot.confusion_matrix(y_test,knn.predict(X_test))"
   ]
  },
  {
   "cell_type": "code",
   "execution_count": 180,
   "metadata": {
    "ExecuteTime": {
     "end_time": "2019-07-26T03:52:16.229080Z",
     "start_time": "2019-07-26T03:52:16.224083Z"
    }
   },
   "outputs": [],
   "source": [
    "from sklearn.metrics import classification_report"
   ]
  },
  {
   "cell_type": "code",
   "execution_count": 182,
   "metadata": {
    "ExecuteTime": {
     "end_time": "2019-07-26T03:52:45.748214Z",
     "start_time": "2019-07-26T03:52:45.723228Z"
    }
   },
   "outputs": [
    {
     "name": "stdout",
     "output_type": "stream",
     "text": [
      "              precision    recall  f1-score   support\n",
      "\n",
      "           0       1.00      1.00      1.00        12\n",
      "           1       1.00      0.80      0.89        15\n",
      "           2       0.79      1.00      0.88        11\n",
      "\n",
      "    accuracy                           0.92        38\n",
      "   macro avg       0.93      0.93      0.92        38\n",
      "weighted avg       0.94      0.92      0.92        38\n",
      "\n"
     ]
    }
   ],
   "source": [
    "print(classification_report(y_test,knn.predict(X_test)))"
   ]
  },
  {
   "cell_type": "code",
   "execution_count": 183,
   "metadata": {
    "ExecuteTime": {
     "end_time": "2019-07-26T03:54:26.181061Z",
     "start_time": "2019-07-26T03:54:25.628364Z"
    }
   },
   "outputs": [],
   "source": [
    "import pandas_profiling"
   ]
  },
  {
   "cell_type": "code",
   "execution_count": 184,
   "metadata": {
    "ExecuteTime": {
     "end_time": "2019-07-26T03:54:30.032846Z",
     "start_time": "2019-07-26T03:54:30.018855Z"
    }
   },
   "outputs": [
    {
     "data": {
      "text/plain": [
       "['DEFAULT_OUTPUTFILE',\n",
       " 'NO_OUTPUTFILE',\n",
       " 'ProfileReport',\n",
       " '__builtins__',\n",
       " '__cached__',\n",
       " '__doc__',\n",
       " '__file__',\n",
       " '__loader__',\n",
       " '__name__',\n",
       " '__package__',\n",
       " '__path__',\n",
       " '__spec__',\n",
       " 'base',\n",
       " 'codecs',\n",
       " 'describe',\n",
       " 'formatters',\n",
       " 'plot',\n",
       " 'report',\n",
       " 'templates',\n",
       " 'to_html']"
      ]
     },
     "execution_count": 184,
     "metadata": {},
     "output_type": "execute_result"
    }
   ],
   "source": [
    "dir(pandas_profiling)"
   ]
  },
  {
   "cell_type": "code",
   "execution_count": 185,
   "metadata": {
    "ExecuteTime": {
     "end_time": "2019-07-26T03:55:17.789552Z",
     "start_time": "2019-07-26T03:55:10.013996Z"
    },
    "scrolled": false
   },
   "outputs": [
    {
     "data": {
      "text/html": [
       "<meta charset=\"UTF-8\">\n",
       "\n",
       "<style>\n",
       "\n",
       "        .variablerow {\n",
       "            border: 1px solid #e1e1e8;\n",
       "            border-top: hidden;\n",
       "            padding-top: 2em;\n",
       "            padding-bottom: 2em;\n",
       "            padding-left: 1em;\n",
       "            padding-right: 1em;\n",
       "        }\n",
       "\n",
       "        .headerrow {\n",
       "            border: 1px solid #e1e1e8;\n",
       "            background-color: #f5f5f5;\n",
       "            padding: 2em;\n",
       "        }\n",
       "        .namecol {\n",
       "            margin-top: -1em;\n",
       "            overflow-x: auto;\n",
       "        }\n",
       "\n",
       "        .dl-horizontal dt {\n",
       "            text-align: left;\n",
       "            padding-right: 1em;\n",
       "            white-space: normal;\n",
       "        }\n",
       "\n",
       "        .dl-horizontal dd {\n",
       "            margin-left: 0;\n",
       "        }\n",
       "\n",
       "        .ignore {\n",
       "            opacity: 0.4;\n",
       "        }\n",
       "\n",
       "        .container.pandas-profiling {\n",
       "            max-width:975px;\n",
       "        }\n",
       "\n",
       "        .col-md-12 {\n",
       "            padding-left: 2em;\n",
       "        }\n",
       "\n",
       "        .indent {\n",
       "            margin-left: 1em;\n",
       "        }\n",
       "\n",
       "        .center-img {\n",
       "            margin-left: auto !important;\n",
       "            margin-right: auto !important;\n",
       "            display: block;\n",
       "        }\n",
       "\n",
       "        /* Table example_values */\n",
       "            table.example_values {\n",
       "                border: 0;\n",
       "            }\n",
       "\n",
       "            .example_values th {\n",
       "                border: 0;\n",
       "                padding: 0 ;\n",
       "                color: #555;\n",
       "                font-weight: 600;\n",
       "            }\n",
       "\n",
       "            .example_values tr, .example_values td{\n",
       "                border: 0;\n",
       "                padding: 0;\n",
       "                color: #555;\n",
       "            }\n",
       "\n",
       "        /* STATS */\n",
       "            table.stats {\n",
       "                border: 0;\n",
       "            }\n",
       "\n",
       "            .stats th {\n",
       "                border: 0;\n",
       "                padding: 0 2em 0 0;\n",
       "                color: #555;\n",
       "                font-weight: 600;\n",
       "            }\n",
       "\n",
       "            .stats tr {\n",
       "                border: 0;\n",
       "            }\n",
       "\n",
       "            .stats td{\n",
       "                color: #555;\n",
       "                padding: 1px;\n",
       "                border: 0;\n",
       "            }\n",
       "\n",
       "\n",
       "        /* Sample table */\n",
       "            table.sample {\n",
       "                border: 0;\n",
       "                margin-bottom: 2em;\n",
       "                margin-left:1em;\n",
       "            }\n",
       "            .sample tr {\n",
       "                border:0;\n",
       "            }\n",
       "            .sample td, .sample th{\n",
       "                padding: 0.5em;\n",
       "                white-space: nowrap;\n",
       "                border: none;\n",
       "\n",
       "            }\n",
       "\n",
       "            .sample thead {\n",
       "                border-top: 0;\n",
       "                border-bottom: 2px solid #ddd;\n",
       "            }\n",
       "\n",
       "            .sample td {\n",
       "                width:100%;\n",
       "            }\n",
       "\n",
       "\n",
       "        /* There is no good solution available to make the divs equal height and then center ... */\n",
       "            .histogram {\n",
       "                margin-top: 3em;\n",
       "            }\n",
       "        /* Freq table */\n",
       "\n",
       "            table.freq {\n",
       "                margin-bottom: 2em;\n",
       "                border: 0;\n",
       "            }\n",
       "            table.freq th, table.freq tr, table.freq td {\n",
       "                border: 0;\n",
       "                padding: 0;\n",
       "            }\n",
       "\n",
       "            .freq thead {\n",
       "                font-weight: 600;\n",
       "                white-space: nowrap;\n",
       "                overflow: hidden;\n",
       "                text-overflow: ellipsis;\n",
       "\n",
       "            }\n",
       "\n",
       "            td.fillremaining{\n",
       "                width:auto;\n",
       "                max-width: none;\n",
       "            }\n",
       "\n",
       "            td.number, th.number {\n",
       "                text-align:right ;\n",
       "            }\n",
       "\n",
       "        /* Freq mini */\n",
       "            .freq.mini td{\n",
       "                width: 50%;\n",
       "                padding: 1px;\n",
       "                font-size: 12px;\n",
       "\n",
       "            }\n",
       "            table.freq.mini {\n",
       "                 width:100%;\n",
       "            }\n",
       "            .freq.mini th {\n",
       "                overflow: hidden;\n",
       "                text-overflow: ellipsis;\n",
       "                white-space: nowrap;\n",
       "                max-width: 5em;\n",
       "                font-weight: 400;\n",
       "                text-align:right;\n",
       "                padding-right: 0.5em;\n",
       "            }\n",
       "\n",
       "            .missing {\n",
       "                color: #a94442;\n",
       "            }\n",
       "            .alert, .alert > th, .alert > td {\n",
       "                color: #a94442;\n",
       "            }\n",
       "\n",
       "\n",
       "        /* Bars in tables */\n",
       "            .freq .bar{\n",
       "                float: left;\n",
       "                width: 0;\n",
       "                height: 100%;\n",
       "                line-height: 20px;\n",
       "                color: #fff;\n",
       "                text-align: center;\n",
       "                background-color: #337ab7;\n",
       "                border-radius: 3px;\n",
       "                margin-right: 4px;\n",
       "            }\n",
       "            .other .bar {\n",
       "                background-color: #999;\n",
       "            }\n",
       "            .missing .bar{\n",
       "                background-color: #a94442;\n",
       "            }\n",
       "            .tooltip-inner {\n",
       "                width: 100%;\n",
       "                white-space: nowrap;\n",
       "                text-align:left;\n",
       "            }\n",
       "\n",
       "            .extrapadding{\n",
       "                padding: 2em;\n",
       "            }\n",
       "\n",
       "            .pp-anchor{\n",
       "\n",
       "            }\n",
       "\n",
       "</style>\n",
       "\n",
       "<div class=\"container pandas-profiling\">\n",
       "    <div class=\"row headerrow highlight\">\n",
       "        <h1>Overview</h1>\n",
       "    </div>\n",
       "    <div class=\"row variablerow\">\n",
       "    <div class=\"col-md-6 namecol\">\n",
       "        <p class=\"h4\">Dataset info</p>\n",
       "        <table class=\"stats\" style=\"margin-left: 1em;\">\n",
       "            <tbody>\n",
       "            <tr>\n",
       "                <th>Number of variables</th>\n",
       "                <td>5 </td>\n",
       "            </tr>\n",
       "            <tr>\n",
       "                <th>Number of observations</th>\n",
       "                <td>150 </td>\n",
       "            </tr>\n",
       "            <tr>\n",
       "                <th>Total Missing (%)</th>\n",
       "                <td>0.0% </td>\n",
       "            </tr>\n",
       "            <tr>\n",
       "                <th>Total size in memory</th>\n",
       "                <td>5.9 KiB </td>\n",
       "            </tr>\n",
       "            <tr>\n",
       "                <th>Average record size in memory</th>\n",
       "                <td>40.5 B </td>\n",
       "            </tr>\n",
       "            </tbody>\n",
       "        </table>\n",
       "    </div>\n",
       "    <div class=\"col-md-6 namecol\">\n",
       "        <p class=\"h4\">Variables types</p>\n",
       "        <table class=\"stats\" style=\"margin-left: 1em;\">\n",
       "            <tbody>\n",
       "            <tr>\n",
       "                <th>Numeric</th>\n",
       "                <td>3 </td>\n",
       "            </tr>\n",
       "            <tr>\n",
       "                <th>Categorical</th>\n",
       "                <td>1 </td>\n",
       "            </tr>\n",
       "            <tr>\n",
       "                <th>Boolean</th>\n",
       "                <td>0 </td>\n",
       "            </tr>\n",
       "            <tr>\n",
       "                <th>Date</th>\n",
       "                <td>0 </td>\n",
       "            </tr>\n",
       "            <tr>\n",
       "                <th>Text (Unique)</th>\n",
       "                <td>0 </td>\n",
       "            </tr>\n",
       "            <tr>\n",
       "                <th>Rejected</th>\n",
       "                <td>1 </td>\n",
       "            </tr>\n",
       "            <tr>\n",
       "                <th>Unsupported</th>\n",
       "                <td>0 </td>\n",
       "            </tr>\n",
       "            </tbody>\n",
       "        </table>\n",
       "    </div>\n",
       "    <div class=\"col-md-12\" style=\"padding-left: 1em;\">\n",
       "        \n",
       "        <p class=\"h4\">Warnings</p>\n",
       "        <ul class=\"list-unstyled\"><li><a href=\"#pp_var_petal_width\"><code>petal_width</code></a> is highly correlated with <a href=\"#pp_var_petal_length\"><code>petal_length</code></a> (ρ = 0.96287) <span class=\"label label-primary\">Rejected</span></li><li>Dataset has 1 duplicate rows <span class=\"label label-warning\">Warning</span></li> </ul>\n",
       "    </div>\n",
       "</div>\n",
       "    <div class=\"row headerrow highlight\">\n",
       "        <h1>Variables</h1>\n",
       "    </div>\n",
       "    <div class=\"row variablerow\">\n",
       "    <div class=\"col-md-3 namecol\">\n",
       "        <p class=\"h4 pp-anchor\" id=\"pp_var_petal_length\">petal_length<br/>\n",
       "            <small>Numeric</small>\n",
       "        </p>\n",
       "    </div><div class=\"col-md-6\">\n",
       "    <div class=\"row\">\n",
       "        <div class=\"col-sm-6\">\n",
       "            <table class=\"stats \">\n",
       "                <tr>\n",
       "                    <th>Distinct count</th>\n",
       "                    <td>43</td>\n",
       "                </tr>\n",
       "                <tr>\n",
       "                    <th>Unique (%)</th>\n",
       "                    <td>28.7%</td>\n",
       "                </tr>\n",
       "                <tr class=\"ignore\">\n",
       "                    <th>Missing (%)</th>\n",
       "                    <td>0.0%</td>\n",
       "                </tr>\n",
       "                <tr class=\"ignore\">\n",
       "                    <th>Missing (n)</th>\n",
       "                    <td>0</td>\n",
       "                </tr>\n",
       "                <tr class=\"ignore\">\n",
       "                    <th>Infinite (%)</th>\n",
       "                    <td>0.0%</td>\n",
       "                </tr>\n",
       "                <tr class=\"ignore\">\n",
       "                    <th>Infinite (n)</th>\n",
       "                    <td>0</td>\n",
       "                </tr>\n",
       "            </table>\n",
       "\n",
       "        </div>\n",
       "        <div class=\"col-sm-6\">\n",
       "            <table class=\"stats \">\n",
       "\n",
       "                <tr>\n",
       "                    <th>Mean</th>\n",
       "                    <td>3.758</td>\n",
       "                </tr>\n",
       "                <tr>\n",
       "                    <th>Minimum</th>\n",
       "                    <td>1</td>\n",
       "                </tr>\n",
       "                <tr>\n",
       "                    <th>Maximum</th>\n",
       "                    <td>6.9</td>\n",
       "                </tr>\n",
       "                <tr class=\"ignore\">\n",
       "                    <th>Zeros (%)</th>\n",
       "                    <td>0.0%</td>\n",
       "                </tr>\n",
       "            </table>\n",
       "        </div>\n",
       "    </div>\n",
       "</div>\n",
       "<div class=\"col-md-3 collapse in\" id=\"minihistogram6065603104451948969\">\n",
       "    <img src=\"data:image/png;base64,iVBORw0KGgoAAAANSUhEUgAAAMgAAABLCAYAAAA1fMjoAAAABHNCSVQICAgIfAhkiAAAAAlwSFlzAAAPYQAAD2EBqD%2BnaQAAADh0RVh0U29mdHdhcmUAbWF0cGxvdGxpYiB2ZXJzaW9uMy4xLjAsIGh0dHA6Ly9tYXRwbG90bGliLm9yZy%2B17YcXAAAB1ElEQVR4nO3cQW7aUBSG0WvUqb0AhHfRRXRPHXdPXUR3YYsFgDrooLiDlk4S/U2q8BzDOcMg5RrhT%2B/ZWHTLsizV2DzPNY5j67Fs3DRNdTgcms780HTaH33fV9XvNzwMwxqHwIacTqcax/HvedPSKoF0XVdVVcMwPAnk4%2Bevr/5/3758epPj4n27njct7ZpPhA0RCAQCgUAgEAgEAoFAIBAIBAKBQCBY5Zt03tZrnz7w5MHLWUEgEAgEAoHANcg78z9PM3M7VhAIBAKBQCAQCAQCgUAgEAgEAoFAIBAIfJP%2BgPz22MtZQSAQCAQCgUAgEAgEgru4i%2BWuDLdiBYFAIBDcxRaL23vUbawVBAKBQCAQCFyD3JCf8Nk%2BKwgEAoHAFoubuYdbw1YQCAQCgS3WK7gr9XisIBAIBIJVtljLslRV1el0evLazx/fmxzDc7P/pdWxPbLnPpfr367nTUvdssLUeZ5rHMfWY9m4aZrqcDg0nblKIJfLpY7HY/V9X13XtR7PxizLUufzufb7fe12ba8KVgkEtsJFOgQCgUAgEAgEAoFAIBAIBAKBQCAQCAQCgUAgEAgEAoFAIBAIBAKBQCAQCAQCgUAgEAgEAoFAIBAIBALBL7kaXJ6Wvq5mAAAAAElFTkSuQmCC\">\n",
       "\n",
       "</div>\n",
       "<div class=\"col-md-12 text-right\">\n",
       "    <a role=\"button\" data-toggle=\"collapse\" data-target=\"#descriptives6065603104451948969,#minihistogram6065603104451948969\"\n",
       "       aria-expanded=\"false\" aria-controls=\"collapseExample\">\n",
       "        Toggle details\n",
       "    </a>\n",
       "</div>\n",
       "<div class=\"row collapse col-md-12\" id=\"descriptives6065603104451948969\">\n",
       "    <ul class=\"nav nav-tabs\" role=\"tablist\">\n",
       "        <li role=\"presentation\" class=\"active\"><a href=\"#quantiles6065603104451948969\"\n",
       "                                                  aria-controls=\"quantiles6065603104451948969\" role=\"tab\"\n",
       "                                                  data-toggle=\"tab\">Statistics</a></li>\n",
       "        <li role=\"presentation\"><a href=\"#histogram6065603104451948969\" aria-controls=\"histogram6065603104451948969\"\n",
       "                                   role=\"tab\" data-toggle=\"tab\">Histogram</a></li>\n",
       "        <li role=\"presentation\"><a href=\"#common6065603104451948969\" aria-controls=\"common6065603104451948969\"\n",
       "                                   role=\"tab\" data-toggle=\"tab\">Common Values</a></li>\n",
       "        <li role=\"presentation\"><a href=\"#extreme6065603104451948969\" aria-controls=\"extreme6065603104451948969\"\n",
       "                                   role=\"tab\" data-toggle=\"tab\">Extreme Values</a></li>\n",
       "\n",
       "    </ul>\n",
       "\n",
       "    <div class=\"tab-content\">\n",
       "        <div role=\"tabpanel\" class=\"tab-pane active row\" id=\"quantiles6065603104451948969\">\n",
       "            <div class=\"col-md-4 col-md-offset-1\">\n",
       "                <p class=\"h4\">Quantile statistics</p>\n",
       "                <table class=\"stats indent\">\n",
       "                    <tr>\n",
       "                        <th>Minimum</th>\n",
       "                        <td>1</td>\n",
       "                    </tr>\n",
       "                    <tr>\n",
       "                        <th>5-th percentile</th>\n",
       "                        <td>1.3</td>\n",
       "                    </tr>\n",
       "                    <tr>\n",
       "                        <th>Q1</th>\n",
       "                        <td>1.6</td>\n",
       "                    </tr>\n",
       "                    <tr>\n",
       "                        <th>Median</th>\n",
       "                        <td>4.35</td>\n",
       "                    </tr>\n",
       "                    <tr>\n",
       "                        <th>Q3</th>\n",
       "                        <td>5.1</td>\n",
       "                    </tr>\n",
       "                    <tr>\n",
       "                        <th>95-th percentile</th>\n",
       "                        <td>6.1</td>\n",
       "                    </tr>\n",
       "                    <tr>\n",
       "                        <th>Maximum</th>\n",
       "                        <td>6.9</td>\n",
       "                    </tr>\n",
       "                    <tr>\n",
       "                        <th>Range</th>\n",
       "                        <td>5.9</td>\n",
       "                    </tr>\n",
       "                    <tr>\n",
       "                        <th>Interquartile range</th>\n",
       "                        <td>3.5</td>\n",
       "                    </tr>\n",
       "                </table>\n",
       "            </div>\n",
       "            <div class=\"col-md-4 col-md-offset-2\">\n",
       "                <p class=\"h4\">Descriptive statistics</p>\n",
       "                <table class=\"stats indent\">\n",
       "                    <tr>\n",
       "                        <th>Standard deviation</th>\n",
       "                        <td>1.7653</td>\n",
       "                    </tr>\n",
       "                    <tr>\n",
       "                        <th>Coef of variation</th>\n",
       "                        <td>0.46974</td>\n",
       "                    </tr>\n",
       "                    <tr>\n",
       "                        <th>Kurtosis</th>\n",
       "                        <td>-1.4021</td>\n",
       "                    </tr>\n",
       "                    <tr>\n",
       "                        <th>Mean</th>\n",
       "                        <td>3.758</td>\n",
       "                    </tr>\n",
       "                    <tr>\n",
       "                        <th>MAD</th>\n",
       "                        <td>1.5627</td>\n",
       "                    </tr>\n",
       "                    <tr class=\"\">\n",
       "                        <th>Skewness</th>\n",
       "                        <td>-0.27488</td>\n",
       "                    </tr>\n",
       "                    <tr>\n",
       "                        <th>Sum</th>\n",
       "                        <td>563.7</td>\n",
       "                    </tr>\n",
       "                    <tr>\n",
       "                        <th>Variance</th>\n",
       "                        <td>3.1163</td>\n",
       "                    </tr>\n",
       "                    <tr>\n",
       "                        <th>Memory size</th>\n",
       "                        <td>1.2 KiB</td>\n",
       "                    </tr>\n",
       "                </table>\n",
       "            </div>\n",
       "        </div>\n",
       "        <div role=\"tabpanel\" class=\"tab-pane col-md-8 col-md-offset-2\" id=\"histogram6065603104451948969\">\n",
       "            <img src=\"data:image/png;base64,iVBORw0KGgoAAAANSUhEUgAAAlgAAAGQCAYAAAByNR6YAAAABHNCSVQICAgIfAhkiAAAAAlwSFlzAAAPYQAAD2EBqD%2BnaQAAADh0RVh0U29mdHdhcmUAbWF0cGxvdGxpYiB2ZXJzaW9uMy4xLjAsIGh0dHA6Ly9tYXRwbG90bGliLm9yZy%2B17YcXAAAgAElEQVR4nO3deXAUZeLG8WdMyHCYREPIZUbMIh4QYIFQGvCIoNGoeLAeLIpBkRU3RjHgESg17AphvVE0JawiXhvcckEsNRgsCVgsSgIIRAujoEZJOFzIVTBc/fvDH7PMJkig3qS7me%2Bnqqvot3s6T1pWn337nRmPZVmWAAAAYMxJdgcAAAA40VCwAAAADKNgAQAAGEbBAgAAMIyCBQAAYBgFCwAAwDAKFgAAgGEULAAAAMMoWAAAAIZRsAAAAAyjYAEAABhGwQIAADCMggUAAGAYBQsAAMAwChYAAIBhFCwAAADDKFgAAACGUbAAAAAMo2ABAAAYRsECAAAwjIIFAABgGAULAADAMAoWAACAYRQsAAAAwyhYAAAAhlGwAAAADKNgAQAAGEbBAgAAMIyCBQAAYBgFCwAAwDAKFgAAgGEULAAAAMMoWAAAAIZRsAAAAAyjYAEAABhGwQIAADCMggUAAGAYBQsAAMCwcLsDhIKDBw9qy5YtioyMlMfjsTsOAAAhwbIsNTQ0KCkpSSed1L5zShSsdrBlyxb5fD67YwAAEJKqq6uVnJzcrj%2BTgtUOIiMjJf36DzgqKsrmNAAAhIb6%2Bnr5fL7Af4fbEwWrHRx6LBgVFUXBAgCgndmxPIdF7gAAAIZRsAAAAAyjYAEAABhGwQIAADCMggUAAGAYBQsAAMAwChYAAIBhFCwAAADDKFgAAACGUbAAAAAMo2ABAAAYRsECAAAwjC97drm0KSV2R2i18mlX2B0BAIB2wQwWAACAYRQsAAAAwyhYAAAAhlGwAAAADKNgAQAAGEbBAgAAMIyCBQAAYBgFCwAAwDAKFgAAgGEULAAAAMMoWAAAAIaFfMEqKipS3759FRUVpaioKKWnp%2Bujjz4KHM/IyJDH4wnaRo4caWNiAADgdCH/Zc/JycmaMWOGzjzzTEnSvHnzdO2112rNmjXq3bu3JGncuHH6y1/%2BEnhNp06dbMkKAADcIeQL1vDhw4P2p02bpqKiIq1cuTJQsDp37qyEhAQ74gEAABcK%2BUeEhztw4ICKi4vV1NSk9PT0wPhbb72l2NhY9e7dW5MmTVJDQ4ONKQEAgNOF/AyWJK1fv17p6enas2ePTj75ZC1YsEC9evWSJN1yyy1KSUlRQkKCNmzYoPz8fH355ZcqLS094vX8fr/8fn9gv76%2Bvs1/BwAA4BwULElnn3221q5dq127dundd99Vdna2ysrK1KtXL40bNy5wXmpqqnr27Km0tDStXr1aAwYMaPF6hYWFmjp1anvFBwAADsMjQkkRERE688wzlZaWpsLCQvXr108zZ85s8dwBAwaoQ4cOqqqqOuL18vPzVVdXF9iqq6vbKjoAAHAgZrBaYFlW0CO%2Bw1VWVmrfvn1KTEw84uu9Xq%2B8Xm9bxQMAAA4X8gVr8uTJysrKks/nU0NDg4qLi7V06VKVlJTou%2B%2B%2B01tvvaUrr7xSsbGx%2BuqrrzRx4kT1799fQ4YMsTs6AABwqJAvWFu3btXo0aNVU1Oj6Oho9e3bVyUlJbrssstUXV2tTz75RDNnzlRjY6N8Pp%2BuuuoqPfbYYwoLC7M7OgAAcKiQL1ivvPLKEY/5fD6VlZW1YxoAAHAiYJE7AACAYRQsAAAAwyhYAAAAhlGwAAAADKNgAQAAGEbBAgAAMIyCBQAAYBgFCwAAwDAKFgAAgGEULAAAAMMoWAAAAIZRsAAAAAyjYAEAABhGwQIAADCMggUAAGAYBQsAAMAwChYAAIBhFCwAAADDKFgAAACGUbAAAAAMo2ABAAAYRsECAAAwjIIFAABgGAULAADAMAoWAACAYRQsAAAAwyhYAAAAhlGwAAAADKNgAQAAGEbBAgAAMCzkC1ZRUZH69u2rqKgoRUVFKT09XR999FHguN/vV25urmJjY9WlSxddc801%2Bumnn2xMDAAAnC7kC1ZycrJmzJih8vJylZeXa%2BjQobr22mtVWVkpSZowYYIWLFig4uJiffbZZ2psbNTVV1%2BtAwcO2JwcAAA4lceyLMvuEE4TExOjJ598UjfccIO6deumN954QzfffLMkacuWLfL5fPrwww91%2BeWXt%2Bp69fX1io6OVl1dnaKiooxmTZtSYvR6bal82hV2RwAAhJC2/O/v0YT8DNbhDhw4oOLiYjU1NSk9PV0VFRXat2%2BfMjMzA%2BckJSUpNTVVK1assDEpAABwsnC7AzjB%2BvXrlZ6erj179ujkk0/WggUL1KtXL61du1YRERE69dRTg86Pj49XbW3tEa/n9/vl9/sD%2B/X19W2WHQAAOA8zWJLOPvtsrV27VitXrtTdd9%2Bt7OxsffXVV0c837IseTyeIx4vLCxUdHR0YPP5fG0RGwAAOBQFS1JERITOPPNMpaWlqbCwUP369dPMmTOVkJCgvXv3aufOnUHnb9u2TfHx8Ue8Xn5%2Bvurq6gJbdXV1W/8KAADAQShYLbAsS36/XwMHDlSHDh1UWloaOFZTU6MNGzZo8ODBR3y91%2BsNfOzDoQ0AAISOkF%2BDNXnyZGVlZcnn86mhoUHFxcVaunSpSkpKFB0drbFjx2rixInq2rWrYmJiNGnSJPXp00eXXnqp3dEBAIBDhXzB2rp1q0aPHq2amhpFR0erb9%2B%2BKikp0WWXXSZJevbZZxUeHq6bbrpJu3fv1rBhw/Taa68pLCzM5uQAAMCp%2BBysdsDnYP2Kz8ECALQnPgcLAADgBELBAgAAMCzk12ABwImGpQOA/ZjBAgAAMIyCBQAAYBgFCwAAwDAKFgAAgGEULAAAAMMoWAAAAIZRsAAAAAyjYAEAABhGwQIAADCMggUAAGAYBQsAAMAwChYAAIBhFCwAAADDKFgAAACGUbAAAAAMo2ABAAAYRsECAAAwjIIFAABgGAULAADAMAoWAACAYRQsAAAAwyhYAAAAhlGwAAAADKNgAQAAGBZudwAAcLq0KSV2RwDgMsxgAQAAGEbBAgAAMIyCBQAAYFjIF6zCwkINGjRIkZGRiouL03XXXaeNGzcGnZORkSGPxxO0jRw50qbEAADA6UK%2BYJWVlSknJ0crV65UaWmp9u/fr8zMTDU1NQWdN27cONXU1AS2l19%2B2abEAADA6UL%2BXYQlJcHvDpo7d67i4uJUUVGhiy66KDDeuXNnJSQktHc8AADgQiE/g/W/6urqJEkxMTFB42%2B99ZZiY2PVu3dvTZo0SQ0NDUe8ht/vV319fdAGAABCR8jPYB3Osizl5eXpggsuUGpqamD8lltuUUpKihISErRhwwbl5%2Bfryy%2B/VGlpaYvXKSws1NSpU9srNgAAcBgK1mHuuecerVu3Tp999lnQ%2BLhx4wJ/Tk1NVc%2BePZWWlqbVq1drwIABza6Tn5%2BvvLy8wH59fb18Pl/bBQcAAI5Cwfp/ubm5WrRokZYtW6bk5OTfPHfAgAHq0KGDqqqqWixYXq9XXq%2B3raICAACHC/mCZVmWcnNztWDBAi1dulQpKSlHfU1lZaX27dunxMTEdkgIAADcJuQLVk5Ojt5%2B%2B2299957ioyMVG1trSQpOjpanTp10nfffae33npLV155pWJjY/XVV19p4sSJ6t%2B/v4YMGWJzegAA4EQh/y7CoqIi1dXVKSMjQ4mJiYFt/vz5kqSIiAh98sknuvzyy3X22Wfr3nvvVWZmppYsWaKwsDCb0wMAACcK%2BRksy7J%2B87jP51NZWVk7pQEAACeCkJ/BAgAAMI2CBQAAYBgFCwAAwDAKFgAAgGEULAAAAMNcW7DefPNN7dmzx%2B4YAAAAzbi2YOXl5SkhIUF33XWXvvjiC7vjAAAABLi2YG3ZskWvvvqqampqdMEFF6h37956%2BumntX37drujAQCAEOfaghUeHq4RI0Zo0aJF%2BvHHH5Wdna1XX31VycnJGjFihD744IOjfogoAABAW3BtwTpcQkKChg0bpoyMDHk8HpWXl2vUqFHq2bOnli9fbnc8AAAQYlxdsHbs2KHnnntO/fr105AhQ7Rt2zYtXLhQP/zwg37%2B%2BWddffXVuu222%2ByOCQAAQoxrv4vw%2Buuv14cffqiUlBTdeeedys7OVrdu3QLHTz75ZD344IN6/vnnbUwJAABCkWsLVlRUlJYsWaILL7zwiOckJiaqqqqqHVMBAAC4uGDNmzfvqOd4PB716NGjHdIAAAD8l2vXYN1///2aNWtWs/EXX3xREydOtCERAADAr1xbsP75z3/q/PPPbzaenp6u%2BfPn25AIAADgV64tWDt27NCpp57abDwqKko7duywIREAAMCvXFuwevToocWLFzcbX7x4sVJSUmxIBAAA8CvXLnKfMGGCJkyYoF9%2B%2BUVDhw6VJH3yySd64okn9NRTT9mcDgAAhDLXFqxx48Zpz549mj59uh577DFJUnJysp5//nndcccdNqcDAAChzLUFS5Jyc3OVm5urmpoaderUSaeccordkQAAANxdsA5JTEy0OwIAAECAaxe5b9%2B%2BXbfffrtOP/10dezYUREREUEbAACAXVw7gzVmzBh99913euCBB5SYmCiPx2N3JAAAAEkuLljLli3TsmXL1L9/f7ujAAAABHHtI8Lk5GRmrQAAgCO5tmA9%2B%2Byzys/P108//WR3FAAAgCCufUQ4evRoNTQ0qHv37oqKilKHDh2Cjm/bts2mZAAAINS5tmDNmDHD7ggAAAAtcm3BGjt2rN0RAAAAWuTaNViS9P3336ugoECjR48OPBL8%2BOOP9fXXX7f6GoWFhRo0aJAiIyMVFxen6667Ths3bgw6x%2B/3Kzc3V7GxserSpYuuueYa1n4BAIAjcm3BWr58uXr37q2ysjK98847amxslCStXr1ajz76aKuvU1ZWppycHK1cuVKlpaXav3%2B/MjMz1dTUFDhnwoQJWrBggYqLi/XZZ5%2BpsbFRV199tQ4cOGD89wIAAO7n2keEDz30kAoKCvTAAw8oMjIyMD506FC9%2BOKLrb5OSUlJ0P7cuXMVFxeniooKXXTRRaqrq9Mrr7yiN954Q5deeqkk6c0335TP59OSJUt0%2BeWXm/mFAADACcO1M1jr1q3TDTfc0Gw8Li5O27dvP%2B7r1tXVSZJiYmIkSRUVFdq3b58yMzMD5yQlJSk1NVUrVqxo8Rp%2Bv1/19fVBGwAACB2uLVinnHKKamtrm42vXbtWp5122nFd07Is5eXl6YILLlBqaqokqba2VhERETr11FODzo2Pj2/x50u/ruuKjo4ObD6f77jyAAAAd3JtwRo5cqQefvhhbd%2B%2BPfCJ7p9//rkmTZqkW2%2B99biuec8992jdunX6xz/%2BcdRzLcs64ifJ5%2Bfnq66uLrBVV1cfVx4AAOBOri1Y06dPV0JCghITE9XY2KhevXpp8ODBGjRokB555JFjvl5ubq4WLVqkTz/9VMnJyYHxhIQE7d27Vzt37gw6f9u2bYqPj2/xWl6vV1FRUUEbAAAIHa5d5B4REaH58%2Bfrm2%2B%2B0erVq3Xw4EENGDBA55xzzjFdx7Is5ebmasGCBVq6dKlSUlKCjg8cOFAdOnRQaWmpbrrpJklSTU2NNmzYoCeeeMLY7wMAAE4cri1Yh5x11lk666yzjvv1OTk5evvtt/Xee%2B8pMjIysK4qOjpanTp1UnR0tMaOHauJEyeqa9euiomJ0aRJk9SnT5/AuwoBAAAO59qC9ac//ek3j8%2BePbtV1ykqKpIkZWRkBI3PnTtXY8aMkfTrF0uHh4frpptu0u7duzVs2DC99tprCgsLO%2BbcAADgxOfaglVTUxO0v2/fPlVWVqqhoUEXXXRRq69jWdZRz%2BnYsaNeeOEFvfDCC8ecEwAAhB7XFqz333%2B/2dj%2B/ft1991369xzz7UhEQAAwK9c%2By7CloSHh2vSpEl68skn7Y4CAABC2AlVsCRp06ZN2rdvn90xAABACHPtI8IHH3wwaN%2ByLNXU1GjRokW65ZZbbEoFAADg4oL173//O2j/pJNOUrdu3TRjxgyNGzfOplQAAAAuLljLly%2B3OwIAAECLTrg1WAAAAHZz7QzWoEGDjvhly//riy%2B%2BaOM0AAAA/%2BXagnXJJZfo5Zdf1llnnaX09HRJ0sqVK7Vx40bddddd8nq9NicEAAChyrUFa9euXcrJydH06dODxqdMmaKtW7fq73//u03JAABAqHNtwXrnnXe0atWqZuNjxoxRWloaBQsAXCBtSondEY5J%2BbQr7I4Al3DtInev16sVK1Y0G1%2BxYgWPBwEAgK1cO4N17733avz48VqzZo3OP/98Sb%2BuwZozZ44mT55sczoAABDKXFuwpkyZopSUFM2cOVOvvvqqJOncc8/VnDlzNGrUKJvTAQCAUObagiVJo0aNokwBAADHce0aLEmqr6/Xa6%2B9pkcffVQ7d%2B6UJH355ZeqqamxORkAAAhlrp3B2rBhgy699FJ17txZ1dXVGjNmjE499VS98847%2BumnnzRv3jy7IwIAgBDl2hms%2B%2B%2B/X6NGjdJ3332njh07BsavuuoqLVu2zMZkAAAg1Ll2BmvVqlUqKipq9nU5p512Go8IAQCArVw7gxUREaHGxsZm41VVVYqNjbUhEQAAwK9cW7CuueYa/fWvf9X%2B/fslSR6PRz///LMefvhhjRgxwuZ0AAAglLm2YD399NPasmWLEhIStHv3bg0dOlS/%2B93v1LFjx2bfTwgAANCeXLsGKzo6WitWrFBpaalWr16tgwcPasCAAbr88subrcsCAABoT64sWPv27dOVV16pl156SZmZmcrMzLQ7EgAAQIArHxF26NBBa9asYaYKAAA4kisLliTdeuutmjt3rt0xAAAAmnHlI8JDZs2apSVLligtLU1dunQJOvbEE0/YlAoAAIQ61xasiooK9e3bV5K0bt26oGM8OgQAAHZyXcHatGmTUlJStHz5crujAAAAtMh1a7B69uyp7du3B/Zvvvlmbd261cZEAAAAwVxXsCzLCtr/8MMP1dTUdNzXW7ZsmYYPH66kpCR5PB4tXLgw6PiYMWPk8XiCtvPPP/%2B4fx4AADjxua5gmdbU1KR%2B/fpp1qxZRzzniiuuUE1NTWD78MMP2zEhAABwG9etwTo0i/S/Y8crKytLWVlZv3mO1%2BtVQkLCcf8MAAAQWlxXsCzL0pgxY%2BT1eiVJe/bs0fjx45t9TMO//vUvYz9z6dKliouL0ymnnKKLL75Y06ZNU1xc3BHP9/v98vv9gf36%2BnpjWQAAgPO5rmBlZ2cH7d96661t%2BvOysrJ04403qnv37tq8ebMeeeQRDR06VBUVFYGS978KCws1derUNs0FAACcy3UFq70/vf3mm28O/Dk1NVVpaWnq3r27PvjgA40YMaLF1%2BTn5ysvLy%2BwX19fL5/P1%2BZZAQCAM7iuYNktMTFR3bt3V1VV1RHP8Xq9R5zdAgAAJ76Qfxfhsfrll19UXV2txMREu6MAAACHCvkZrMbGRn377beB/c2bN2vt2rWKiYlRTEyMCgoK9Ic//EGJiYn6/vvvNXnyZMXGxur666%2B3MTUAAHCykC9Y5eXluuSSSwL7h9ZOZWdnq6ioSOvXr9frr7%2BuXbt2KTExUZdcconmz5%2BvyMhIuyIDAACHC/mClZGR0ezT4Q%2B3ePHidkwDAABOBKzBAgAAMIyCBQAAYBgFCwAAwDAKFgAAgGEULAAAAMMoWAAAAIZRsAAAAAyjYAEAABhGwQIAADCMggUAAGBYyH9VDtpP2pQSuyMck/JpV9gdAQDgUsxgAQAAGEbBAgAAMIyCBQAAYBgFCwAAwDAKFgAAgGEULAAAAMMoWAAAAIZRsAAAAAyjYAEAABhGwQIAADCMggUAAGAYBQsAAMAwChYAAIBhFCwAAADDKFgAAACGhdsdAAAAt0ibUmJ3hGNSPu0KuyOELGawAAAADKNgAQAAGEbBAgAAMCzkC9ayZcs0fPhwJSUlyePxaOHChUHHLctSQUGBkpKS1KlTJ2VkZKiystKmtAAAwA1CvmA1NTWpX79%2BmjVrVovHn3jiCT3zzDOaNWuWVq1apYSEBF122WVqaGho56QAAMAtQv5dhFlZWcrKymrxmGVZeu655zRlyhSNGDFCkjRv3jzFx8fr7bff1l133dWeUQEAgEuE/AzWb9m8ebNqa2uVmZkZGPN6vbr44ou1YsUKG5MBAAAnC/kZrN9SW1srSYqPjw8aj4%2BP1w8//HDE1/n9fvn9/sB%2BfX192wQEAACOxAxWK3g8nqB9y7KajR2usLBQ0dHRgc3n87V1RAAA4CAUrN%2BQkJAg6b8zWYds27at2azW4fLz81VXVxfYqqur2zQnAABwFgrWb0hJSVFCQoJKS0sDY3v37lVZWZkGDx58xNd5vV5FRUUFbQAAIHSE/BqsxsZGffvtt4H9zZs3a%2B3atYqJidHpp5%2BuCRMmaPr06erZs6d69uyp6dOnq3Pnzho1apSNqQEAgJOFfMEqLy/XJZdcEtjPy8uTJGVnZ%2Bu1117Tgw8%2BqN27d%2BvPf/6zdu7cqfPOO08ff/yxIiMj7YoMAAAcLuQLVkZGhizLOuJxj8ejgoICFRQUtF8oAADgaqzBAgAAMIyCBQAAYBgFCwAAwDAKFgAAgGEULAAAAMMoWAAAAIZRsAAAAAyjYAEAABhGwQIAADCMggUAAGBYyH9VDoD2lzalxO4IANCmmMECAAAwjIIFAABgGAULAADAMAoWAACAYRQsAAAAwyhYAAAAhlGwAAAADKNgAQAAGEbBAgAAMIyCBQAAYBgFCwAAwDAKFgAAgGEULAAAAMMoWAAAAIZRsAAAAAyjYAEAABhGwQIAADCMggUAAGAYBQsAAMAwCtZRFBQUyOPxBG0JCQl2xwIAAA4WbncAN%2Bjdu7eWLFkS2A8LC7MxDQAAcDoKViuEh4czawUAAFqNR4StUFVVpaSkJKWkpGjkyJHatGmT3ZEAAICDMYN1FOedd55ef/11nXXWWdq6dasef/xxDR48WJWVleratWuLr/H7/fL7/YH9%2Bvr69ooLAAAcgIJ1FFlZWYE/9%2BnTR%2Bnp6erRo4fmzZunvLy8Fl9TWFioqVOntldEAABalDalxO4IrVY%2B7Qq7IxjFI8Jj1KVLF/Xp00dVVVVHPCc/P191dXWBrbq6uh0TAgAAuzGDdYz8fr%2B%2B/vprXXjhhUc8x%2Bv1yuv1tmMqAADgJMxgHcWkSZNUVlamzZs36/PPP9cNN9yg%2Bvp6ZWdn2x0NAAA4FDNYR/HTTz/pj3/8o3bs2KFu3brp/PPP18qVK9W9e3e7owEAAIeiYB1FcXGx3REAAIDL8IgQAADAMAoWAACAYRQsAAAAwyhYAAAAhlGwAAAADKNgAQAAGEbBAgAAMIyCBQAAYBgFCwAAwDAKFgAAgGF8VQ5wgkibUmJ3BADA/2MGCwAAwDAKFgAAgGEULAAAAMMoWAAAAIZRsAAAAAyjYAEAABhGwQIAADCMggUAAGAYBQsAAMAwChYAAIBhFCwAAADDKFgAAACGUbAAAAAMo2ABAAAYRsECAAAwjIIFAABgGAULAADAMAoWAACAYRQsAAAAwyhYAAAAhlGwWumll15SSkqKOnbsqIEDB2r58uV2RwIAAA5FwWqF%2BfPna8KECZoyZYrWrFmjCy%2B8UFlZWfrxxx/tjgYAAByIgtUKzzzzjMaOHas777xT5557rp577jn5fD4VFRXZHQ0AADhQuN0BnG7v3r2qqKjQww8/HDSemZmpFStWtPgav98vv98f2K%2Brq5Mk1dfXG893wN9k/Jr4VVv882pL/F0A4GZt8e/cQ9e0LMv4tY%2BGgnUUO3bs0IEDBxQfHx80Hh8fr9ra2hZfU1hYqKlTpzYb9/l8bZIRbSP6absTAEDoaMt/5zY0NCg6OrrtfkALKFit5PF4gvYty2o2dkh%2Bfr7y8vIC%2BwcPHtR//vMfde3a9YivOR719fXy%2BXyqrq5WVFSUseueaLhPrcN9ah3uU%2Btwn1qH%2B9Q6x3ufLMtSQ0ODkpKS2jBdyyhYRxEbG6uwsLBms1Xbtm1rNqt1iNfrldfrDRo75ZRT2ixjVFQU/8NsBe5T63CfWof71Drcp9bhPrXO8dyn9p65OoRF7kcRERGhgQMHqrS0NGi8tLRUgwcPtikVAABwMmawWiEvL0%2BjR49WWlqa0tPTNXv2bP34448aP3683dEAAIADhRUUFBTYHcLpUlNT1bVrV02fPl1PPfWUdu/erTfeeEP9%2BvWzO5rCwsKUkZGh8HC68m/hPrUO96l1uE%2Btw31qHe5T67jtPnksO967CAAAcAJjDRYAAIBhFCwAAADDKFgAAACGUbAAAAAMo2C50LJlyzR8%2BHAlJSXJ4/Fo4cKFdkdynMLCQg0aNEiRkZGKi4vTddddp40bN9ody3GKiorUt2/fwIf3paen66OPPrI7luMVFhbK4/FowoQJdkdxlIKCAnk8nqAtISHB7liO9PPPP%2BvWW29V165d1blzZ/3%2B979XRUWF3bEc5Ywzzmj298nj8SgnJ8fuaK1CwXKhpqYm9evXT7NmzbI7imOVlZUpJydHK1euVGlpqfbv36/MzEw1NfGFyIdLTk7WjBkzVF5ervLycg0dOlTXXnutKisr7Y7mWKtWrdLs2bPVt29fu6M4Uu/evVVTUxPY1q9fb3ckx9m5c6eGDBmiDh066KOPPtJXX32lp59%2Buk2/8cONVq1aFfR36dAHft944402J2sdd3yYBIJkZWUpKyvL7hiOVlJSErQ/d%2B5cxcXFqaKiQhdddJFNqZxn%2BPDhQfvTpk1TUVGRVq5cqd69e9uUyrkaGxt1yy23aM6cOXr88cftjuNI4eHhzFodxd/%2B9jf5fD7NnTs3MHbGGWfYF8ihunXrFrQ/Y8YM9ejRQxdffLFNiY4NM1gICXV1dZKkmJgYm5M414EDB1RcXKympialp6fbHceRcnJydNVVV%2BnSSy%2B1O4pjVVVVKSkpSSkpKRo5cqQ2bdpkdyTHWbRokdLS0nTjjTcqLi5O/fv315w5c%2ByO5Wh79%2B7Vm2%2B%2BqTvuuEMej8fuOK1CwcIJzwU1pScAAAOwSURBVLIs5eXl6YILLlBqaqrdcRxn/fr1Ovnkk%2BX1ejV%2B/HgtWLBAvXr1sjuW4xQXF6uiokKFhYV2R3Gs8847T6%2B//roWL16sOXPmqLa2VoMHD9Yvv/xidzRH2bRpk4qKitSzZ08tXrxY48eP17333qvXX3/d7miOtXDhQu3atUtjxoyxO0qr8YgQJ7x77rlH69at02effWZ3FEc6%2B%2ByztXbtWu3atUvvvvuusrOzVVZWRsk6THV1te677z59/PHH6tixo91xHOvwpQt9%2BvRRenq6evTooXnz5ikvL8/GZM5y8OBBpaWlafr06ZKk/v37q7KyUkVFRbrttttsTudMr7zyirKyspSUlGR3lFZjBgsntNzcXC1atEiffvqpkpOT7Y7jSBERETrzzDOVlpamwsJC9evXTzNnzrQ7lqNUVFRo27ZtGjhwoMLDwxUeHq6ysjI9//zzCg8P14EDB%2ByO6EhdunRRnz59VFVVZXcUR0lMTGz2f2DOPfdc/fjjjzYlcrYffvhBS5Ys0Z133ml3lGPCDBZOSJZlKTc3VwsWLNDSpUuVkpJidyTXsCxLfr/f7hiOMmzYsGbvhrv99tt1zjnn6KGHHlJYWJhNyZzN7/fr66%2B/1oUXXmh3FEcZMmRIs4%2BN%2Beabb9S9e3ebEjnboTcpXXXVVXZHOSYULBdqbGzUt99%2BG9jfvHmz1q5dq5iYGJ1%2B%2Buk2JnOOnJwcvf3223rvvfcUGRmp2tpaSVJ0dLQ6depkczrnmDx5srKysuTz%2BdTQ0KDi4mItXbq02bswQ11kZGSz9XtdunRR165dWdd3mEmTJmn48OE6/fTTtW3bNj3%2B%2BOOqr69Xdna23dEc5f7779fgwYM1ffp03XTTTfriiy80e/ZszZ492%2B5ojnPw4EHNnTtX2dnZCg93WWWx4DqffvqpJanZlp2dbXc0x2jp/kiy5s6da3c0R7njjjus7t27WxEREVa3bt2sYcOGWR9//LHdsVzh4osvtu677z67YzjKzTffbCUmJlodOnSwkpKSrBEjRliVlZV2x3Kk999/30pNTbW8Xq91zjnnWLNnz7Y7kiMtXrzYkmRt3LjR7ijHzGNZlmVPtQMAADgxscgdAADAMAoWAACAYRQsAAAAwyhYAAAAhlGwAAAADKNgAQAAGEbBAgAAMIyCBQAAYBgFCwAAwDAKFgAAgGEULAAAAMMoWAAAAIZRsAAAAAyjYAEAABhGwQIAADCMggUAAGAYBQsAAMAwChYAAIBh/wdK3bjL8xccbgAAAABJRU5ErkJggg%3D%3D\"/>\n",
       "        </div>\n",
       "        <div role=\"tabpanel\" class=\"tab-pane col-md-12\" id=\"common6065603104451948969\">\n",
       "            \n",
       "<table class=\"freq table table-hover\">\n",
       "    <thead>\n",
       "    <tr>\n",
       "        <td class=\"fillremaining\">Value</td>\n",
       "        <td class=\"number\">Count</td>\n",
       "        <td class=\"number\">Frequency (%)</td>\n",
       "        <td style=\"min-width:200px\">&nbsp;</td>\n",
       "    </tr>\n",
       "    </thead>\n",
       "    <tr class=\"\">\n",
       "        <td class=\"fillremaining\">1.5</td>\n",
       "        <td class=\"number\">13</td>\n",
       "        <td class=\"number\">8.7%</td>\n",
       "        <td>\n",
       "            <div class=\"bar\" style=\"width:18%\">&nbsp;</div>\n",
       "        </td>\n",
       "</tr><tr class=\"\">\n",
       "        <td class=\"fillremaining\">1.4</td>\n",
       "        <td class=\"number\">13</td>\n",
       "        <td class=\"number\">8.7%</td>\n",
       "        <td>\n",
       "            <div class=\"bar\" style=\"width:18%\">&nbsp;</div>\n",
       "        </td>\n",
       "</tr><tr class=\"\">\n",
       "        <td class=\"fillremaining\">5.1</td>\n",
       "        <td class=\"number\">8</td>\n",
       "        <td class=\"number\">5.3%</td>\n",
       "        <td>\n",
       "            <div class=\"bar\" style=\"width:11%\">&nbsp;</div>\n",
       "        </td>\n",
       "</tr><tr class=\"\">\n",
       "        <td class=\"fillremaining\">4.5</td>\n",
       "        <td class=\"number\">8</td>\n",
       "        <td class=\"number\">5.3%</td>\n",
       "        <td>\n",
       "            <div class=\"bar\" style=\"width:11%\">&nbsp;</div>\n",
       "        </td>\n",
       "</tr><tr class=\"\">\n",
       "        <td class=\"fillremaining\">1.3</td>\n",
       "        <td class=\"number\">7</td>\n",
       "        <td class=\"number\">4.7%</td>\n",
       "        <td>\n",
       "            <div class=\"bar\" style=\"width:10%\">&nbsp;</div>\n",
       "        </td>\n",
       "</tr><tr class=\"\">\n",
       "        <td class=\"fillremaining\">1.6</td>\n",
       "        <td class=\"number\">7</td>\n",
       "        <td class=\"number\">4.7%</td>\n",
       "        <td>\n",
       "            <div class=\"bar\" style=\"width:10%\">&nbsp;</div>\n",
       "        </td>\n",
       "</tr><tr class=\"\">\n",
       "        <td class=\"fillremaining\">5.6</td>\n",
       "        <td class=\"number\">6</td>\n",
       "        <td class=\"number\">4.0%</td>\n",
       "        <td>\n",
       "            <div class=\"bar\" style=\"width:9%\">&nbsp;</div>\n",
       "        </td>\n",
       "</tr><tr class=\"\">\n",
       "        <td class=\"fillremaining\">4.0</td>\n",
       "        <td class=\"number\">5</td>\n",
       "        <td class=\"number\">3.3%</td>\n",
       "        <td>\n",
       "            <div class=\"bar\" style=\"width:7%\">&nbsp;</div>\n",
       "        </td>\n",
       "</tr><tr class=\"\">\n",
       "        <td class=\"fillremaining\">4.9</td>\n",
       "        <td class=\"number\">5</td>\n",
       "        <td class=\"number\">3.3%</td>\n",
       "        <td>\n",
       "            <div class=\"bar\" style=\"width:7%\">&nbsp;</div>\n",
       "        </td>\n",
       "</tr><tr class=\"\">\n",
       "        <td class=\"fillremaining\">4.7</td>\n",
       "        <td class=\"number\">5</td>\n",
       "        <td class=\"number\">3.3%</td>\n",
       "        <td>\n",
       "            <div class=\"bar\" style=\"width:7%\">&nbsp;</div>\n",
       "        </td>\n",
       "</tr><tr class=\"other\">\n",
       "        <td class=\"fillremaining\">Other values (33)</td>\n",
       "        <td class=\"number\">73</td>\n",
       "        <td class=\"number\">48.7%</td>\n",
       "        <td>\n",
       "            <div class=\"bar\" style=\"width:100%\">&nbsp;</div>\n",
       "        </td>\n",
       "</tr>\n",
       "</table>\n",
       "        </div>\n",
       "        <div role=\"tabpanel\" class=\"tab-pane col-md-12\"  id=\"extreme6065603104451948969\">\n",
       "            <p class=\"h4\">Minimum 5 values</p>\n",
       "            \n",
       "<table class=\"freq table table-hover\">\n",
       "    <thead>\n",
       "    <tr>\n",
       "        <td class=\"fillremaining\">Value</td>\n",
       "        <td class=\"number\">Count</td>\n",
       "        <td class=\"number\">Frequency (%)</td>\n",
       "        <td style=\"min-width:200px\">&nbsp;</td>\n",
       "    </tr>\n",
       "    </thead>\n",
       "    <tr class=\"\">\n",
       "        <td class=\"fillremaining\">1.0</td>\n",
       "        <td class=\"number\">1</td>\n",
       "        <td class=\"number\">0.7%</td>\n",
       "        <td>\n",
       "            <div class=\"bar\" style=\"width:8%\">&nbsp;</div>\n",
       "        </td>\n",
       "</tr><tr class=\"\">\n",
       "        <td class=\"fillremaining\">1.1</td>\n",
       "        <td class=\"number\">1</td>\n",
       "        <td class=\"number\">0.7%</td>\n",
       "        <td>\n",
       "            <div class=\"bar\" style=\"width:8%\">&nbsp;</div>\n",
       "        </td>\n",
       "</tr><tr class=\"\">\n",
       "        <td class=\"fillremaining\">1.2</td>\n",
       "        <td class=\"number\">2</td>\n",
       "        <td class=\"number\">1.3%</td>\n",
       "        <td>\n",
       "            <div class=\"bar\" style=\"width:16%\">&nbsp;</div>\n",
       "        </td>\n",
       "</tr><tr class=\"\">\n",
       "        <td class=\"fillremaining\">1.3</td>\n",
       "        <td class=\"number\">7</td>\n",
       "        <td class=\"number\">4.7%</td>\n",
       "        <td>\n",
       "            <div class=\"bar\" style=\"width:54%\">&nbsp;</div>\n",
       "        </td>\n",
       "</tr><tr class=\"\">\n",
       "        <td class=\"fillremaining\">1.4</td>\n",
       "        <td class=\"number\">13</td>\n",
       "        <td class=\"number\">8.7%</td>\n",
       "        <td>\n",
       "            <div class=\"bar\" style=\"width:100%\">&nbsp;</div>\n",
       "        </td>\n",
       "</tr>\n",
       "</table>\n",
       "            <p class=\"h4\">Maximum 5 values</p>\n",
       "            \n",
       "<table class=\"freq table table-hover\">\n",
       "    <thead>\n",
       "    <tr>\n",
       "        <td class=\"fillremaining\">Value</td>\n",
       "        <td class=\"number\">Count</td>\n",
       "        <td class=\"number\">Frequency (%)</td>\n",
       "        <td style=\"min-width:200px\">&nbsp;</td>\n",
       "    </tr>\n",
       "    </thead>\n",
       "    <tr class=\"\">\n",
       "        <td class=\"fillremaining\">6.3</td>\n",
       "        <td class=\"number\">1</td>\n",
       "        <td class=\"number\">0.7%</td>\n",
       "        <td>\n",
       "            <div class=\"bar\" style=\"width:50%\">&nbsp;</div>\n",
       "        </td>\n",
       "</tr><tr class=\"\">\n",
       "        <td class=\"fillremaining\">6.4</td>\n",
       "        <td class=\"number\">1</td>\n",
       "        <td class=\"number\">0.7%</td>\n",
       "        <td>\n",
       "            <div class=\"bar\" style=\"width:50%\">&nbsp;</div>\n",
       "        </td>\n",
       "</tr><tr class=\"\">\n",
       "        <td class=\"fillremaining\">6.6</td>\n",
       "        <td class=\"number\">1</td>\n",
       "        <td class=\"number\">0.7%</td>\n",
       "        <td>\n",
       "            <div class=\"bar\" style=\"width:50%\">&nbsp;</div>\n",
       "        </td>\n",
       "</tr><tr class=\"\">\n",
       "        <td class=\"fillremaining\">6.7</td>\n",
       "        <td class=\"number\">2</td>\n",
       "        <td class=\"number\">1.3%</td>\n",
       "        <td>\n",
       "            <div class=\"bar\" style=\"width:100%\">&nbsp;</div>\n",
       "        </td>\n",
       "</tr><tr class=\"\">\n",
       "        <td class=\"fillremaining\">6.9</td>\n",
       "        <td class=\"number\">1</td>\n",
       "        <td class=\"number\">0.7%</td>\n",
       "        <td>\n",
       "            <div class=\"bar\" style=\"width:50%\">&nbsp;</div>\n",
       "        </td>\n",
       "</tr>\n",
       "</table>\n",
       "        </div>\n",
       "    </div>\n",
       "</div>\n",
       "</div><div class=\"row variablerow ignore\">\n",
       "    <div class=\"col-md-3 namecol\">\n",
       "        <p class=\"h4 pp-anchor\" id=\"pp_var_petal_width\"><s>petal_width</s><br/>\n",
       "            <small>Highly correlated</small>\n",
       "        </p>\n",
       "    </div><div class=\"col-md-3\">\n",
       "    <p><em>This variable is highly correlated with <a href=\"#pp_var_petal_length\"><code>petal_length</code></a> and should be ignored for analysis</em></p>\n",
       "</div>\n",
       "<div class=\"col-md-6\">\n",
       "    <table class=\"stats \">\n",
       "        <tr>\n",
       "            <th>Correlation</th>\n",
       "            <td>0.96287</td>\n",
       "        </tr>\n",
       "    </table>\n",
       "</div>\n",
       "</div><div class=\"row variablerow\">\n",
       "    <div class=\"col-md-3 namecol\">\n",
       "        <p class=\"h4 pp-anchor\" id=\"pp_var_sepal_length\">sepal_length<br/>\n",
       "            <small>Numeric</small>\n",
       "        </p>\n",
       "    </div><div class=\"col-md-6\">\n",
       "    <div class=\"row\">\n",
       "        <div class=\"col-sm-6\">\n",
       "            <table class=\"stats \">\n",
       "                <tr>\n",
       "                    <th>Distinct count</th>\n",
       "                    <td>35</td>\n",
       "                </tr>\n",
       "                <tr>\n",
       "                    <th>Unique (%)</th>\n",
       "                    <td>23.3%</td>\n",
       "                </tr>\n",
       "                <tr class=\"ignore\">\n",
       "                    <th>Missing (%)</th>\n",
       "                    <td>0.0%</td>\n",
       "                </tr>\n",
       "                <tr class=\"ignore\">\n",
       "                    <th>Missing (n)</th>\n",
       "                    <td>0</td>\n",
       "                </tr>\n",
       "                <tr class=\"ignore\">\n",
       "                    <th>Infinite (%)</th>\n",
       "                    <td>0.0%</td>\n",
       "                </tr>\n",
       "                <tr class=\"ignore\">\n",
       "                    <th>Infinite (n)</th>\n",
       "                    <td>0</td>\n",
       "                </tr>\n",
       "            </table>\n",
       "\n",
       "        </div>\n",
       "        <div class=\"col-sm-6\">\n",
       "            <table class=\"stats \">\n",
       "\n",
       "                <tr>\n",
       "                    <th>Mean</th>\n",
       "                    <td>5.8433</td>\n",
       "                </tr>\n",
       "                <tr>\n",
       "                    <th>Minimum</th>\n",
       "                    <td>4.3</td>\n",
       "                </tr>\n",
       "                <tr>\n",
       "                    <th>Maximum</th>\n",
       "                    <td>7.9</td>\n",
       "                </tr>\n",
       "                <tr class=\"ignore\">\n",
       "                    <th>Zeros (%)</th>\n",
       "                    <td>0.0%</td>\n",
       "                </tr>\n",
       "            </table>\n",
       "        </div>\n",
       "    </div>\n",
       "</div>\n",
       "<div class=\"col-md-3 collapse in\" id=\"minihistogram5300775733286102475\">\n",
       "    <img src=\"data:image/png;base64,iVBORw0KGgoAAAANSUhEUgAAAMgAAABLCAYAAAA1fMjoAAAABHNCSVQICAgIfAhkiAAAAAlwSFlzAAAPYQAAD2EBqD%2BnaQAAADh0RVh0U29mdHdhcmUAbWF0cGxvdGxpYiB2ZXJzaW9uMy4xLjAsIGh0dHA6Ly9tYXRwbG90bGliLm9yZy%2B17YcXAAAB2UlEQVR4nO3cQa7SUBiG4b/EKTAndBcuwj05duh%2BXIS7gLCANg4cSB0oTvR%2BudekpxSeZwgkpyR983MotJumaarGzudz9X3fellW7nQ61fF4bLrmu6ar/bbdbqvq1xve7XZLHAIrMgxD9X3/57xpaZFAuq6rqqrdbreqQN5//PKm13/99GGmI3lOt/OmpU3zFWFFFpkgvOytU6rKpJqTCQKBQCAQCAQCgeAhNuk2tszFBIFAIBAIBAKBQCAQCAQCgUAgEAgED3Gh8Nn5n8p8TBAIBAKBj1gz%2Bp/fiHFfTBAIBAKBQCB42j2I/QGvYYJAIBAIBAKBQCAQCAQCgUAgENzddRDXJ7gnJggEAoFAIBAIBIK726Qzv1Y3%2B36Em4qbIBCYILzKs379boJAIBAIBAKBQCAQCAQCgUAgECxyHWSapqqqGobhr%2Bd%2BfP/W%2BnC4I/86J26P3c6blhYJZBzHqqrq%2B36J5blj%2B88vPzeOY%2B33%2B3YHU1XdtECW1%2Bu1LpdLbbfb6rqu9fKszDRNNY5jHQ6H2mza7goWCQTWwiYdAoFAIBAIBAKBQCAQCAQCgUAgEAgEAoFAIBAIBAKBQCAQCAQCgUAgEAgEAoFAIBAIBAKBQCAQCAQCgeAn6xFVHbCbjgAAAAAASUVORK5CYII%3D\">\n",
       "\n",
       "</div>\n",
       "<div class=\"col-md-12 text-right\">\n",
       "    <a role=\"button\" data-toggle=\"collapse\" data-target=\"#descriptives5300775733286102475,#minihistogram5300775733286102475\"\n",
       "       aria-expanded=\"false\" aria-controls=\"collapseExample\">\n",
       "        Toggle details\n",
       "    </a>\n",
       "</div>\n",
       "<div class=\"row collapse col-md-12\" id=\"descriptives5300775733286102475\">\n",
       "    <ul class=\"nav nav-tabs\" role=\"tablist\">\n",
       "        <li role=\"presentation\" class=\"active\"><a href=\"#quantiles5300775733286102475\"\n",
       "                                                  aria-controls=\"quantiles5300775733286102475\" role=\"tab\"\n",
       "                                                  data-toggle=\"tab\">Statistics</a></li>\n",
       "        <li role=\"presentation\"><a href=\"#histogram5300775733286102475\" aria-controls=\"histogram5300775733286102475\"\n",
       "                                   role=\"tab\" data-toggle=\"tab\">Histogram</a></li>\n",
       "        <li role=\"presentation\"><a href=\"#common5300775733286102475\" aria-controls=\"common5300775733286102475\"\n",
       "                                   role=\"tab\" data-toggle=\"tab\">Common Values</a></li>\n",
       "        <li role=\"presentation\"><a href=\"#extreme5300775733286102475\" aria-controls=\"extreme5300775733286102475\"\n",
       "                                   role=\"tab\" data-toggle=\"tab\">Extreme Values</a></li>\n",
       "\n",
       "    </ul>\n",
       "\n",
       "    <div class=\"tab-content\">\n",
       "        <div role=\"tabpanel\" class=\"tab-pane active row\" id=\"quantiles5300775733286102475\">\n",
       "            <div class=\"col-md-4 col-md-offset-1\">\n",
       "                <p class=\"h4\">Quantile statistics</p>\n",
       "                <table class=\"stats indent\">\n",
       "                    <tr>\n",
       "                        <th>Minimum</th>\n",
       "                        <td>4.3</td>\n",
       "                    </tr>\n",
       "                    <tr>\n",
       "                        <th>5-th percentile</th>\n",
       "                        <td>4.6</td>\n",
       "                    </tr>\n",
       "                    <tr>\n",
       "                        <th>Q1</th>\n",
       "                        <td>5.1</td>\n",
       "                    </tr>\n",
       "                    <tr>\n",
       "                        <th>Median</th>\n",
       "                        <td>5.8</td>\n",
       "                    </tr>\n",
       "                    <tr>\n",
       "                        <th>Q3</th>\n",
       "                        <td>6.4</td>\n",
       "                    </tr>\n",
       "                    <tr>\n",
       "                        <th>95-th percentile</th>\n",
       "                        <td>7.255</td>\n",
       "                    </tr>\n",
       "                    <tr>\n",
       "                        <th>Maximum</th>\n",
       "                        <td>7.9</td>\n",
       "                    </tr>\n",
       "                    <tr>\n",
       "                        <th>Range</th>\n",
       "                        <td>3.6</td>\n",
       "                    </tr>\n",
       "                    <tr>\n",
       "                        <th>Interquartile range</th>\n",
       "                        <td>1.3</td>\n",
       "                    </tr>\n",
       "                </table>\n",
       "            </div>\n",
       "            <div class=\"col-md-4 col-md-offset-2\">\n",
       "                <p class=\"h4\">Descriptive statistics</p>\n",
       "                <table class=\"stats indent\">\n",
       "                    <tr>\n",
       "                        <th>Standard deviation</th>\n",
       "                        <td>0.82807</td>\n",
       "                    </tr>\n",
       "                    <tr>\n",
       "                        <th>Coef of variation</th>\n",
       "                        <td>0.14171</td>\n",
       "                    </tr>\n",
       "                    <tr>\n",
       "                        <th>Kurtosis</th>\n",
       "                        <td>-0.55206</td>\n",
       "                    </tr>\n",
       "                    <tr>\n",
       "                        <th>Mean</th>\n",
       "                        <td>5.8433</td>\n",
       "                    </tr>\n",
       "                    <tr>\n",
       "                        <th>MAD</th>\n",
       "                        <td>0.68756</td>\n",
       "                    </tr>\n",
       "                    <tr class=\"\">\n",
       "                        <th>Skewness</th>\n",
       "                        <td>0.31491</td>\n",
       "                    </tr>\n",
       "                    <tr>\n",
       "                        <th>Sum</th>\n",
       "                        <td>876.5</td>\n",
       "                    </tr>\n",
       "                    <tr>\n",
       "                        <th>Variance</th>\n",
       "                        <td>0.68569</td>\n",
       "                    </tr>\n",
       "                    <tr>\n",
       "                        <th>Memory size</th>\n",
       "                        <td>1.2 KiB</td>\n",
       "                    </tr>\n",
       "                </table>\n",
       "            </div>\n",
       "        </div>\n",
       "        <div role=\"tabpanel\" class=\"tab-pane col-md-8 col-md-offset-2\" id=\"histogram5300775733286102475\">\n",
       "            <img src=\"data:image/png;base64,iVBORw0KGgoAAAANSUhEUgAAAlgAAAGQCAYAAAByNR6YAAAABHNCSVQICAgIfAhkiAAAAAlwSFlzAAAPYQAAD2EBqD%2BnaQAAADh0RVh0U29mdHdhcmUAbWF0cGxvdGxpYiB2ZXJzaW9uMy4xLjAsIGh0dHA6Ly9tYXRwbG90bGliLm9yZy%2B17YcXAAAgAElEQVR4nO3deXRU5cHH8d%2BYhAnQJKzZTMDAAZFFCoTDqqBokEWrWAURGlApVEQxIou8aqyVoHWrUlGsAor7gmJVMFgIYEAhgAhSiIASJRGwmIVC2J73D1/mdUwCAZ/Mnct8P%2Bfcc7zb5Pd4T8afz72Z8RhjjAAAAGDNWU4HAAAAONNQsAAAACyjYAEAAFhGwQIAALCMggUAAGAZBQsAAMAyChYAAIBlFCwAAADLKFgAAACWUbAAAAAso2ABAABYRsECAACwjIIFAABgGQULAADAMgoWAACAZRQsAAAAyyhYAAAAllGwAAAALKNgAQAAWEbBAgAAsIyCBQAAYBkFCwAAwDIKFgAAgGUULAAAAMsoWAAAAJZRsAAAACyjYAEAAFhGwQIAALCMggUAAGAZBQsAAMAyChYAAIBlFCwAAADLKFgAAACWUbAAAAAso2ABAABYRsECAACwjIIFAABgGQULAADAsnCnA4SCY8eOadeuXYqKipLH43E6DgAAIcEYo9LSUiUmJuqsswI7p0TBCoBdu3YpOTnZ6RgAAISkgoICJSUlBfRnUrACICoqStJPFzg6OtrhNAAAhIaSkhIlJyf7/jscSBSsADh%2BWzA6OpqCBQBAgDnxeA4PuQMAAFhGwQIAALCMggUAAGAZBQsAAMAyChYAAIBlFCwAAADLKFgAAACWUbAAAAAso2ABAABYRsECAACwjIIFAABgGQULAADAMr7sGThDpE5d6HSEalvzwGVORwCAGsUMFgAAgGUULAAAAMsoWAAAAJZRsAAAACyjYAEAAFhGwQIAALCMggUAAGAZBQsAAMAyChYAAIBlFCwAAADLKFgAAACW8V2EAHASbvqeR4nvegSCATNYAAAAllGwAAAALKNgAQAAWEbBAgAAsIyCBQAAYFnIF6ysrCx17txZUVFRio2N1ZVXXqktW7b4HdO7d295PB6/ZciQIQ4lBgAAwS7kC1ZOTo7Gjh2rVatWKTs7W0eOHFFaWpr279/vd9yoUaNUWFjoW5555hmHEgMAgGAX8p%2BDtXCh/%2BfbzJ49W7GxscrLy9OFF17o216nTh3Fx8cHOh4AAHChkJ/B%2BqXi4mJJUoMGDfy2v/TSS2rUqJHatGmjCRMmqLS01Il4AADABUJ%2BBuvnjDHKyMhQz5491bZtW9/266%2B/XikpKYqPj9fGjRs1ZcoUff7558rOzq70dcrLy1VeXu5bLykpqfHsAAAgeFCwfuaWW27Rhg0btGLFCr/to0aN8v1z27Zt1aJFC6Wmpmrt2rXq2LFjhdfJysrSfffdV%2BN5AQBAcOIW4f8ZN26cFixYoCVLligpKemEx3bs2FERERHKz8%2BvdP%2BUKVNUXFzsWwoKCmoiMgAACFIhP4NljNG4ceM0f/58LV26VCkpKSc9Z9OmTTp8%2BLASEhIq3e/1euX1em1HBQAALhHyBWvs2LF6%2BeWX9e677yoqKkpFRUWSpJiYGNWuXVvbtm3TSy%2B9pP79%2B6tRo0b68ssvdccdd6hDhw7q0aOHw%2BkBAEAwCvlbhDNnzlRxcbF69%2B6thIQE3/Laa69JkmrVqqWPP/5Yffv21bnnnqtbb71VaWlpWrx4scLCwhxODwAAglHIz2AZY064Pzk5WTk5OQFKAwAAzgQhP4MFAABgGwULAADAMgoWAACAZRQsAAAAyyhYAAAAllGwAAAALKNgAQAAWEbBAgAAsIyCBQAAYBkFCwAAwDIKFgAAgGUULAAAAMsoWAAAAJZRsAAAACyjYAEAAFhGwQIAALAs3OkACB2pUxc6HeGUrHngMqcjAABcihksAAAAyyhYAAAAllGwAAAALKNgAQAAWEbBAgAAsIyCBQAAYBkFCwAAwDIKFgAAgGUULAAAAMsoWAAAAJZRsAAAACyjYAEAAFhGwQIAALCMggUAAGAZBQsAAMAyChYAAIBlFCwAAADLKFgAAACWUbAAAAAso2ABAABYRsECAACwjIIFAABgGQULAADAMgoWAACAZRQsAAAAyyhYAAAAllGwAAAALKNgAQAAWEbBAgAAsCzkC1ZWVpY6d%2B6sqKgoxcbG6sorr9SWLVv8jikvL9e4cePUqFEj1a1bV1dccYW%2B/fZbhxIDAIBgF/IFKycnR2PHjtWqVauUnZ2tI0eOKC0tTfv37/cdM378eM2fP1%2BvvvqqVqxYobKyMg0cOFBHjx51MDkAAAhW4U4HcNrChQv91mfPnq3Y2Fjl5eXpwgsvVHFxsZ577jm9%2BOKLuuSSSyRJ8%2BbNU3JyshYvXqy%2Bffs6ERsAAASxkJ/B%2BqXi4mJJUoMGDSRJeXl5Onz4sNLS0nzHJCYmqm3btsrNza30NcrLy1VSUuK3AACA0EHB%2BhljjDIyMtSzZ0%2B1bdtWklRUVKRatWqpfv36fsfGxcWpqKio0tfJyspSTEyMb0lOTq7x7AAAIHhQsH7mlltu0YYNG/TKK6%2Bc9FhjjDweT6X7pkyZouLiYt9SUFBgOyoAAAhiFKz/M27cOC1YsEBLlixRUlKSb3t8fLwOHTqkffv2%2BR2/e/duxcXFVfpaXq9X0dHRfgsAAAgdIV%2BwjDG65ZZb9Pbbb%2Btf//qXUlJS/PZ36tRJERERys7O9m0rLCzUxo0b1b1790DHBQAALhDyf0U4duxYvfzyy3r33XcVFRXle64qJiZGtWvXVkxMjG688UbdcccdatiwoRo0aKAJEyaoXbt2vr8qBAAA%2BLmQL1gzZ86UJPXu3dtv%2B%2BzZszVixAhJ0mOPPabw8HBde%2B21OnDggPr06aM5c%2BYoLCwswGkBAIAbhHzBMsac9JjIyEg9%2BeSTevLJJwOQCAAAuF3IP4MFAABgGwULAADAMgoWAACAZRQsAAAAyyhYAAAAllGwAAAALKNgAQAAWEbBAgAAsIyCBQAAYBkFCwAAwDIKFgAAgGUULAAAAMsoWAAAAJZRsAAAACyjYAEAAFhGwQIAALAs3OkAAAC7UqcudDpCta154DKnIwA1ghksAAAAyyhYAAAAllGwAAAALKNgAQAAWEbBAgAAsIyCBQAAYBkFCwAAwDIKFgAAgGWuLVjz5s3TwYMHnY4BAABQgWsLVkZGhuLj4zV69Gh99tlnTscBAADwcW3B2rVrl55//nkVFhaqZ8%2BeatOmjR555BHt2bPH6WgAACDEubZghYeHa9CgQVqwYIF27typ9PR0Pf/880pKStKgQYP0/vvvyxjjdEwAABCCXFuwfi4%2BPl59%2BvRR79695fF4tGbNGg0dOlQtWrTQ8uXLnY4HAABCjKsL1t69e/X444%2Brffv26tGjh3bv3q133nlH33zzjb777jsNHDhQf/jDH5yOCQAAQky40wFO11VXXaUPPvhAKSkpuummm5Senq7GjRv79v/mN7/RxIkT9cQTTziYEgAAhCLXFqzo6GgtXrxYF1xwQZXHJCQkKD8/P4CpAAAAXFyw5s6de9JjPB6PmjdvHoA0AAAA/8%2B1z2DdfvvtmjFjRoXtf//733XHHXc4kAgAAOAnri1Yb7zxhrp27Vphe7du3fTaa685kAgAAOAnri1Ye/fuVf369Stsj46O1t69ex1IBAAA8BPXFqzmzZtr0aJFFbYvWrRIKSkpDiQCAAD4iWsfch8/frzGjx%2BvH374QRdffLEk6eOPP9ZDDz2khx9%2B2OF0AE4kdepCpyMAQI1ybcEaNWqUDh48qGnTpunee%2B%2BVJCUlJemJJ57QDTfc4HA6AAAQylxbsCRp3LhxGjdunAoLC1W7dm3Vq1fP6UgAAADuLljHJSQkOB0BAADAx7UPue/Zs0cjR45UkyZNFBkZqVq1avktAAAATnHtDNaIESO0bds23XnnnUpISJDH43E6EgAAgCQXF6xly5Zp2bJl6tChg9NRAAAA/Lj2FmFSUpKVWatly5bp8ssvV2Jiojwej9555x2//SNGjJDH4/FbKvsEeQAAgONcW7Aee%2BwxTZkyRd9%2B%2B%2B2vep39%2B/erffv2lX6v4XGXXXaZCgsLfcsHH3zwq34mAAA4s7n2FuHw4cNVWlqqpk2bKjo6WhEREX77d%2B/eXa3X6devn/r163fCY7xer%2BLj4087KwAACC2uLVjTp08P2M9aunSpYmNjVa9ePfXq1UsPPPCAYmNjA/bzAQCAu7i2YN14440B%2BTn9%2BvXTNddco6ZNm2rHjh26%2B%2B67dfHFFysvL09er7fSc8rLy1VeXu5bLykpCUhWAAAQHFz7DJYkff3118rMzNTw4cN9twQ/%2Bugjbd682drPGDx4sAYMGKC2bdvq8ssv14cffqitW7fq/fffr/KcrKwsxcTE%2BJbk5GRreQAAQPBzbcFavny52rRpo5ycHL3%2B%2BusqKyuTJK1du1b33HNPjf3chIQENW3aVPn5%2BVUeM2XKFBUXF/uWgoKCGssDAACCj2sL1qRJk5SZmaklS5b4fXL7xRdfrFWrVtXYz/3hhx9UUFBwwq/n8Xq9io6O9lsAAEDocO0zWBs2bNBLL71UYXtsbKz27NlT7dcpKyvTV1995VvfsWOH1q9frwYNGqhBgwbKzMzU1VdfrYSEBH399de666671KhRI1111VVWxgEAAM48rp3BqlevnoqKiipsX79%2Bvc4%2B%2B%2Bxqv86aNWvUoUMH3yfCZ2RkqEOHDrrnnnsUFhamL774Qr/73e/UsmVLpaenq2XLllq5cqWioqKsjQUAAJxZXDuDNWTIEE2ePFlvvvmm7xPdP/30U02YMEHDhg2r9uv07t1bxpgq9y9atOhXZwUAAKHFtTNY06ZNU3x8vBISElRWVqbWrVure/fu6ty5s%2B6%2B%2B26n4wEAgBDm2hmsWrVq6bXXXtPWrVu1du1aHTt2TB07dlSrVq2cjgYAAEKcawvWcS1btlTLli2djgEAAODj2oL1xz/%2B8YT7Z82aFaAkAAAA/lxbsAoLC/3WDx8%2BrE2bNqm0tFQXXnihQ6kAAABcXLDee%2B%2B9CtuOHDmiP/3pTzrvvPMcSIQzTerUhU5HAAC4lGv/irAy4eHhmjBhgv761786HQUAAISwM6pgSdL27dt1%2BPBhp2MAAIAQ5tpbhBMnTvRbN8aosLBQCxYs0PXXX%2B9QKgAAABcXrJUrV/qtn3XWWWrcuLGmT5%2BuUaNGOZQKAADAxQVr%2BfLlTkcAAACo1Bn3DBYAAIDTXDuD1blzZ9%2BXPJ/MZ599VsNpAAAA/p9rC9ZFF12kZ555Ri1btlS3bt0kSatWrdKWLVs0evRoeb1ehxMCAIBQ5dqC9eOPP2rs2LGaNm2a3/apU6fq%2B%2B%2B/1z/%2B8Q%2BHkgEAgFDn2mewXn/9dY0cObLC9hEjRuiNN95wIBEAAMBPXFuwvF6vcnNzK2zPzc3l9iAAAHCUa28R3nrrrRozZozWrVunrl27SvrpGaxnn31Wd911l8PpAABAKHNtwZo6dapSUlL0t7/9Tc8//7wk6bzzztOzzz6roUOHOpwOAACEMtcWLEkaOnQoZQoAAAQd1z6DJUklJSWaM2eO7rnnHu3bt0%2BS9Pnnn6uwsNDhZAAAIJS5dgZr48aNuuSSS1SnTh0VFBRoxIgRql%2B/vl5//XV9%2B%2B23mjt3rtMRAQBAiHLtDNbtt9%2BuoUOHatu2bYqMjPRtHzBggJYtW%2BZgMgAAEOpcO4O1evVqzZw5s8LX5Zx99tncIgQAAI5y7QxWrVq1VFZWVmF7fn6%2BGjVq5EAiAACAn7i2YF1xxRW6//77deTIEUmSx%2BPRd999p8mTJ2vQoEEOpwMAAKHMtQXrkUce0a5duxQfH68DBw7o4osvVrNmzRQZGVnh%2BwkBAAACybXPYMXExCg3N1fZ2dlau3atjh07po4dO6pv374VnssCAAAIJFcWrMOHD6t///566qmnlJaWprS0NKcjAQAA%2BLjyFmFERITWrVvHTBUAAAhKrixYkjRs2DDNnj3b6RgAAAAVuPIW4XEzZszQ4sWLlZqaqrp16/rte%2BihhxxKBQAAQp1rC1ZeXp7OP/98SdKGDRv89nHrEAAAOMl1BWv79u1KSUnR8uXLnY4CAABQKdc9g9WiRQvt2bPHtz548GB9//33DiYCAADw57qCZYzxW//ggw%2B0f/9%2Bh9IAAABU5LqCBQAAEOxcV7A8Hk%2BFh9h5qB0AAAQT1z3kbozRiBEj5PV6JUkHDx7UmDFjKnxMw9tvv%2B1EPAAAAPcVrPT0dL/1YcOGOZQEAACgcq4rWHx6OwAACHauewYLAAAg2FGwAAAALKNgAQAAWEbBAgAAsIyCBQAAYFnIF6xly5bp8ssvV2Jiojwej9555x2//cYYZWZmKjExUbVr11bv3r21adMmh9ICAAA3CPmCtX//frVv314zZsyodP9DDz2kRx99VDNmzNDq1asVHx%2BvSy%2B9VKWlpQFOCgAA3MJ1n4NlW79%2B/dSvX79K9xlj9Pjjj2vq1KkaNGiQJGnu3LmKi4vTyy%2B/rNGjRwcyKgAAcImQn8E6kR07dqioqEhpaWm%2BbV6vV7169VJubm6V55WXl6ukpMRvAQAAoYOCdQJFRUWSpLi4OL/tcXFxvn2VycrKUkxMjG9JTk6u0ZwAACC4ULCqwePx%2BK0bYyps%2B7kpU6aouLjYtxQUFNR0RAAAEERC/hmsE4mPj5f000xWQkKCb/vu3bsrzGr9nNfrldfrrfF8AAAgODGDdQIpKSmKj49Xdna2b9uhQ4eUk5Oj7t27O5gMAAAEs5CfwSorK9NXX33lW9%2BxY4fWr1%2BvBg0aqEmTJho/frymTZumFi1aqEWLFpo2bZrq1KmjoUOHOpgaAAAEs5AvWGvWrNFFF13kW8/IyJAkpaena86cOZo4caIOHDigm2%2B%2BWfv27VOXLl300UcfKSoqyqnIAAAgyHmMMcbpEGe6kpISxcTEqLi4WNHR0U7HcUzq1IVORwAQZNY8cJnTEXAGc/K/vzyDBQAAYBkFCwAAwDIKFgAAgGUULAAAAMtC/q8I3Y4HxwEACD7MYAEAAFhGwQIAALCMggUAAGAZBQsAAMAyChYAAIBlFCwAAADLKFgAAACWUbAAAAAso2ABAABYRsECAACwjIIFAABgGQULAADAMgoWAACAZRQsAAAAyyhYAAAAllGwAAAALKNgAQAAWEbBAgAAsIyCBQAAYBkFCwAAwDIKFgAAgGUULAAAAMsoWAAAAJZRsAAAACyjYAEAAFhGwQIAALCMggUAAGAZBQsAAMAyChYAAIBlFCwAAADLKFgAAACWUbAAAAAso2ABAABYFu50AABA6EqdutDpCKdkzQOXOR3hlLjp36/b/t2eDDNYAAAAllGwAAAALKNgAQAAWEbBAgAAsIyCBQAAYBkFCwAAwDIK1klkZmbK4/H4LfHx8U7HAgAAQYzPwaqGNm3aaPHixb71sLAwB9MAAIBgR8GqhvDwcGatAABAtXGLsBry8/OVmJiolJQUDRkyRNu3b3c6EgAACGLMYJ1Ely5d9MILL6hly5b6/vvv9Ze//EXdu3fXpk2b1LBhw0rPKS8vV3l5uW%2B9pKQkUHEBAEAQoGCdRL9%2B/Xz/3K5dO3Xr1k3NmzfX3LlzlZGRUek5WVlZuu%2B%2B%2BwIVEQAQIG76bj84i1uEp6hu3bpq166d8vPzqzxmypQpKi4u9i0FBQUBTAgAAJzGDNYpKi8v1%2BbNm3XBBRdUeYzX65XX6w1gKgAAEEyYwTqJCRMmKCcnRzt27NCnn36q3//%2B9yopKVF6errT0QAAQJBiBuskvv32W1133XXau3evGjdurK5du2rVqlVq2rSp09EAAECQomCdxKuvvup0BAAA4DLcIgQAALCMggUAAGAZBQsAAMAyChYAAIBlFCwAAADLKFgAAACWUbAAAAAso2ABAABYRsECAACwjIIFAABgGQULAADAMgoWAACAZRQsAAAAyyhYAAAAllGwAAAALKNgAQAAWEbBAgAAsIyCBQAAYBkFCwAAwDIKFgAAgGUULAAAAMsoWAAAAJZRsAAAACyjYAEAAFhGwQIAALCMggUAAGAZBQsAAMAyChYAAIBlFCwAAADLKFgAAACWUbAAAAAso2ABAABYRsECAACwjIIFAABgGQULAADAMgoWAACAZRQsAAAAyyhYAAAAllGwAAAALKNgAQAAWEbBAgAAsIyCBQAAYBkFCwAAwDIKFgAAgGUULAAAAMsoWAAAAJZRsKrpqaeeUkpKiiIjI9WpUyctX77c6UgAACBIUbCq4bXXXtP48eM1depUrVu3ThdccIH69eunnTt3Oh0NAAAEIQpWNTz66KO68cYbddNNN%2Bm8887T448/ruTkZM2cOdPpaAAAIAiFOx0g2B06dEh5eXmaPHmy3/a0tDTl5uZWek55ebnKy8t968XFxZKkkpIS6/mOlu%2B3/poAAARaTfw38vhrGmOsv/bJULBOYu/evTp69Kji4uL8tsfFxamoqKjSc7KysnTfffdV2J6cnFwjGQEAcLuYR2rutUtLSxUTE1NzP6ASFKxq8ng8fuvGmArbjpsyZYoyMjJ868eOHdN//vMfNWzYsMpzglFJSYmSk5NVUFCg6Ohop%2BMERKiNOdTGK4XemENtvBJjDoUxV3e8xhiVlpYqMTExgOl%2BQsE6iUaNGiksLKzCbNXu3bsrzGod5/V65fV6/bbVq1evxjLWtOjo6JD4hf25UBtzqI1XCr0xh9p4JcYcCqoz3kDPXB3HQ%2B4nUatWLXXq1EnZ2dl%2B27Ozs9W9e3eHUgEAgGDGDFY1ZGRkaPjw4UpNTVW3bt00a9Ys7dy5U2PGjHE6GgAACEJhmZmZmU6HCHZt27ZVw4YNNW3aND388MM6cOCAXnzxRbVv397paDUuLCxMvXv3Vnh46HTxUBtzqI1XCr0xh9p4JcYcCoJ9vB7jxN8uAgAAnMF4BgsAAMAyChYAAIBlFCwAAADLKFgAAACWUbAg6aev9/F4PBo/fnyVx8yZM0cej6fCcvDgwQAmPX2ZmZkVssfHx5/wnJycHHXq1EmRkZFq1qyZnn766QCl/fVOdbxLly6t9Pr%2B%2B9//DmDqX%2B%2B7777TsGHD1LBhQ9WpU0e//e1vlZeXd8Jz3HydT3W8br/O55xzTqX5x44dW%2BU5b731llq3bi2v16vWrVtr/vz5AUz8653qmN3%2BXn3kyBH9z//8j1JSUlS7dm01a9ZMf/7zn3Xs2LETnhdsv8fB%2BbeNCKjVq1dr1qxZOv/88096bHR0tLZs2eK3LTIysqaiWdemTRstXrzYtx4WFlblsTt27FD//v01atQozZs3T5988oluvvlmNW7cWFdffXUg4v5qpzLe47Zs2eL3yciNGzeukWw1Yd%2B%2BferRo4cuuugiffjhh4qNjdW2bdtO%2BE0Kbr7OpzPe49x6nVevXq2jR4/61jdu3KhLL71U11xzTaXHr1y5UoMHD9b999%2Bvq666SvPnz9e1116rFStWqEuXLoGK/auc6pgld79XP/jgg3r66ac1d%2B5ctWnTRmvWrNHIkSMVExOj2267rdJzgvL32CCklZaWmhYtWpjs7GzTq1cvc9ttt1V57OzZs01MTEwA09l17733mvbt21f7%2BIkTJ5pWrVr5bRs9erTp2rWr7Wg14lTHu2TJEiPJ7Nu3rwZT1axJkyaZnj17ntI5br7OpzPeM%2BE6/9xtt91mmjdvbo4dO1bp/muvvdZcdtllftv69u1rhgwZEoh4NeJkY3b7e/WAAQPMDTfc4Ldt0KBBZtiwYVWeE4y/x9wiDHFjx47VgAEDdMkll1Tr%2BLKyMjVt2lRJSUkaOHCg1q1bV8MJ7crPz1diYqJSUlI0ZMgQbd%2B%2BvcpjV65cqbS0NL9tffv21Zo1a3T48OGajmrFqYz3uA4dOighIUF9%2BvTRkiVLApDSngULFig1NVXXXHONYmNj1aFDBz377LMnPMfN1/l0xnucm6/zcYcOHdK8efN0ww03yOPxVHpMVdc3Nzc3EBGtq86YJXe/V/fs2VMff/yxtm7dKkn6/PPPtWLFCvXv37/Kc4Lx95iCFcJeffVV5eXlKSsrq1rHt2rVSnPmzNGCBQv0yiuvKDIyUj169FB%2Bfn4NJ7WjS5cueuGFF7Ro0SI9%2B%2ByzKioqUvfu3fXDDz9UenxRUVGFL/SOi4vTkSNHtHfv3kBE/lVOdbwJCQmaNWuW3nrrLb399ts699xz1adPHy1btizAyU/f9u3bNXPmTLVo0UKLFi3SmDFjdOutt%2BqFF16o8hw3X%2BfTGe%2BZcJ2Pe%2Bedd/Tjjz9qxIgRVR5T1fUtKiqq4XQ1ozpjdvt79aRJk3TdddepVatWioiIUIcOHTR%2B/Hhdd911VZ4TlL/Hjs2dwVE7d%2B40sbGxZv369b5tJ7tF%2BEtHjx417du3N%2BPGjauJiDWurKzMxMXFmUceeaTS/S1atDDTpk3z27ZixQojyRQWFgYiolUnG29lBg4caC6//PIaTGVXRESE6datm9%2B2cePGnfA2gZuv8%2BmMtzJuu87HpaWlmYEDB57wmIiICPPyyy/7bZs3b57xer01Ga3GVGfMv%2BS29%2BpXXnnFJCUlmVdeecVs2LDBvPDCC6ZBgwZmzpw5VZ4TjL/HzGCFqLy8PO3evVudOnVSeHi4wsPDlZOToyeeeELh4eF%2BD1RW5ayzzlLnzp1d839Fv1S3bl21a9euyvzx8fEV/i939%2B7dCg8PV8OGDQMR0aqTjbcyXbt2ddX1TUhIUOvWrf22nXfeedq5c2eV57j5Op/OeCvjtussSd98840WL16sm2666YTHVXV9fznb4QbVHfMvue29%2Bs4779TkyZM1ZMgQtWvXTsOHD9ftt99%2Bwrstwfh7TMEKUX369NEXX3yh9evX%2B5bU1FRdf/31Wr9%2BfbX%2B2swYo/Xr1yshISEAie0rLy/X5s2bq8zfrVs3ZWdn%2B2376KOPlJqaqoiIiEBEtOpk463MunXrXHV9e/ToUeEvp7Zu3aqmTZtWeY6br/PpjLcybrvOkjR79mzFxsZqwIABJzyuquvbvXv3moxXI6o75l9y23v1f//7XwJqYwQAAAKXSURBVJ11ln89CQsLO%2BHHNATl77Ej82YISr%2B8RTh8%2BHAzefJk33pmZqZZuHCh2bZtm1m3bp0ZOXKkCQ8PN59%2B%2BqkTcU/ZHXfcYZYuXWq2b99uVq1aZQYOHGiioqLM119/bYwxZvLkyWb48OG%2B47dv327q1Kljbr/9dvPll1%2Ba5557zkRERJg333zTqSGcklMd72OPPWbmz59vtm7dajZu3GgmT55sJJm33nrLqSGcss8%2B%2B8yEh4ebBx54wOTn55uXXnrJ1KlTx8ybN893zJl0nU9nvGfCdT569Khp0qSJmTRpUoV9v3zf%2BuSTT0xYWJiZPn262bx5s5k%2BfboJDw83q1atCmTkX%2B1Uxuz29%2Br09HRz9tlnm3/%2B859mx44d5u233zaNGjUyEydO9B3jht9jChZ8flmwevXqZdLT033r48ePN02aNDG1atUyjRs3NmlpaSY3N9eBpKdn8ODBJiEhwURERJjExEQzaNAgs2nTJt/%2B9PR006tXL79zli5dajp06GBq1aplzjnnHDNz5swApz59pzreBx980DRv3txERkaa%2BvXrm549e5r333/fgeS/znvvvWfatm1rvF6vadWqlZk1a5bf/jPtOp/qeM%2BE67xo0SIjyWzZsqXCvl%2B%2BbxljzBtvvGHOPfdcExERYVq1auWqMnncqYzZ7e/VJSUl5rbbbjNNmjQxkZGRplmzZmbq1KmmvLzcd4wbfo89xhjjzNwZAADAmYlnsAAAACyjYAEAAFhGwQIAALCMggUAAGAZBQsAAMAyChYAAIBlFCwAAADLKFgAAACWUbAAAAAso2ABAABYRsECAACwjIIFAABgGQULAADAMgoWAACAZRQsAAAAyyhYAAAAllGwAAAALKNgAQAAWPa/T85bM/2b38QAAAAASUVORK5CYII%3D\"/>\n",
       "        </div>\n",
       "        <div role=\"tabpanel\" class=\"tab-pane col-md-12\" id=\"common5300775733286102475\">\n",
       "            \n",
       "<table class=\"freq table table-hover\">\n",
       "    <thead>\n",
       "    <tr>\n",
       "        <td class=\"fillremaining\">Value</td>\n",
       "        <td class=\"number\">Count</td>\n",
       "        <td class=\"number\">Frequency (%)</td>\n",
       "        <td style=\"min-width:200px\">&nbsp;</td>\n",
       "    </tr>\n",
       "    </thead>\n",
       "    <tr class=\"\">\n",
       "        <td class=\"fillremaining\">5.0</td>\n",
       "        <td class=\"number\">10</td>\n",
       "        <td class=\"number\">6.7%</td>\n",
       "        <td>\n",
       "            <div class=\"bar\" style=\"width:14%\">&nbsp;</div>\n",
       "        </td>\n",
       "</tr><tr class=\"\">\n",
       "        <td class=\"fillremaining\">6.3</td>\n",
       "        <td class=\"number\">9</td>\n",
       "        <td class=\"number\">6.0%</td>\n",
       "        <td>\n",
       "            <div class=\"bar\" style=\"width:13%\">&nbsp;</div>\n",
       "        </td>\n",
       "</tr><tr class=\"\">\n",
       "        <td class=\"fillremaining\">5.1</td>\n",
       "        <td class=\"number\">9</td>\n",
       "        <td class=\"number\">6.0%</td>\n",
       "        <td>\n",
       "            <div class=\"bar\" style=\"width:13%\">&nbsp;</div>\n",
       "        </td>\n",
       "</tr><tr class=\"\">\n",
       "        <td class=\"fillremaining\">6.7</td>\n",
       "        <td class=\"number\">8</td>\n",
       "        <td class=\"number\">5.3%</td>\n",
       "        <td>\n",
       "            <div class=\"bar\" style=\"width:11%\">&nbsp;</div>\n",
       "        </td>\n",
       "</tr><tr class=\"\">\n",
       "        <td class=\"fillremaining\">5.7</td>\n",
       "        <td class=\"number\">8</td>\n",
       "        <td class=\"number\">5.3%</td>\n",
       "        <td>\n",
       "            <div class=\"bar\" style=\"width:11%\">&nbsp;</div>\n",
       "        </td>\n",
       "</tr><tr class=\"\">\n",
       "        <td class=\"fillremaining\">5.5</td>\n",
       "        <td class=\"number\">7</td>\n",
       "        <td class=\"number\">4.7%</td>\n",
       "        <td>\n",
       "            <div class=\"bar\" style=\"width:10%\">&nbsp;</div>\n",
       "        </td>\n",
       "</tr><tr class=\"\">\n",
       "        <td class=\"fillremaining\">5.8</td>\n",
       "        <td class=\"number\">7</td>\n",
       "        <td class=\"number\">4.7%</td>\n",
       "        <td>\n",
       "            <div class=\"bar\" style=\"width:10%\">&nbsp;</div>\n",
       "        </td>\n",
       "</tr><tr class=\"\">\n",
       "        <td class=\"fillremaining\">6.4</td>\n",
       "        <td class=\"number\">7</td>\n",
       "        <td class=\"number\">4.7%</td>\n",
       "        <td>\n",
       "            <div class=\"bar\" style=\"width:10%\">&nbsp;</div>\n",
       "        </td>\n",
       "</tr><tr class=\"\">\n",
       "        <td class=\"fillremaining\">6.0</td>\n",
       "        <td class=\"number\">6</td>\n",
       "        <td class=\"number\">4.0%</td>\n",
       "        <td>\n",
       "            <div class=\"bar\" style=\"width:9%\">&nbsp;</div>\n",
       "        </td>\n",
       "</tr><tr class=\"\">\n",
       "        <td class=\"fillremaining\">4.9</td>\n",
       "        <td class=\"number\">6</td>\n",
       "        <td class=\"number\">4.0%</td>\n",
       "        <td>\n",
       "            <div class=\"bar\" style=\"width:9%\">&nbsp;</div>\n",
       "        </td>\n",
       "</tr><tr class=\"other\">\n",
       "        <td class=\"fillremaining\">Other values (25)</td>\n",
       "        <td class=\"number\">73</td>\n",
       "        <td class=\"number\">48.7%</td>\n",
       "        <td>\n",
       "            <div class=\"bar\" style=\"width:100%\">&nbsp;</div>\n",
       "        </td>\n",
       "</tr>\n",
       "</table>\n",
       "        </div>\n",
       "        <div role=\"tabpanel\" class=\"tab-pane col-md-12\"  id=\"extreme5300775733286102475\">\n",
       "            <p class=\"h4\">Minimum 5 values</p>\n",
       "            \n",
       "<table class=\"freq table table-hover\">\n",
       "    <thead>\n",
       "    <tr>\n",
       "        <td class=\"fillremaining\">Value</td>\n",
       "        <td class=\"number\">Count</td>\n",
       "        <td class=\"number\">Frequency (%)</td>\n",
       "        <td style=\"min-width:200px\">&nbsp;</td>\n",
       "    </tr>\n",
       "    </thead>\n",
       "    <tr class=\"\">\n",
       "        <td class=\"fillremaining\">4.3</td>\n",
       "        <td class=\"number\">1</td>\n",
       "        <td class=\"number\">0.7%</td>\n",
       "        <td>\n",
       "            <div class=\"bar\" style=\"width:25%\">&nbsp;</div>\n",
       "        </td>\n",
       "</tr><tr class=\"\">\n",
       "        <td class=\"fillremaining\">4.4</td>\n",
       "        <td class=\"number\">3</td>\n",
       "        <td class=\"number\">2.0%</td>\n",
       "        <td>\n",
       "            <div class=\"bar\" style=\"width:75%\">&nbsp;</div>\n",
       "        </td>\n",
       "</tr><tr class=\"\">\n",
       "        <td class=\"fillremaining\">4.5</td>\n",
       "        <td class=\"number\">1</td>\n",
       "        <td class=\"number\">0.7%</td>\n",
       "        <td>\n",
       "            <div class=\"bar\" style=\"width:25%\">&nbsp;</div>\n",
       "        </td>\n",
       "</tr><tr class=\"\">\n",
       "        <td class=\"fillremaining\">4.6</td>\n",
       "        <td class=\"number\">4</td>\n",
       "        <td class=\"number\">2.7%</td>\n",
       "        <td>\n",
       "            <div class=\"bar\" style=\"width:100%\">&nbsp;</div>\n",
       "        </td>\n",
       "</tr><tr class=\"\">\n",
       "        <td class=\"fillremaining\">4.7</td>\n",
       "        <td class=\"number\">2</td>\n",
       "        <td class=\"number\">1.3%</td>\n",
       "        <td>\n",
       "            <div class=\"bar\" style=\"width:50%\">&nbsp;</div>\n",
       "        </td>\n",
       "</tr>\n",
       "</table>\n",
       "            <p class=\"h4\">Maximum 5 values</p>\n",
       "            \n",
       "<table class=\"freq table table-hover\">\n",
       "    <thead>\n",
       "    <tr>\n",
       "        <td class=\"fillremaining\">Value</td>\n",
       "        <td class=\"number\">Count</td>\n",
       "        <td class=\"number\">Frequency (%)</td>\n",
       "        <td style=\"min-width:200px\">&nbsp;</td>\n",
       "    </tr>\n",
       "    </thead>\n",
       "    <tr class=\"\">\n",
       "        <td class=\"fillremaining\">7.3</td>\n",
       "        <td class=\"number\">1</td>\n",
       "        <td class=\"number\">0.7%</td>\n",
       "        <td>\n",
       "            <div class=\"bar\" style=\"width:25%\">&nbsp;</div>\n",
       "        </td>\n",
       "</tr><tr class=\"\">\n",
       "        <td class=\"fillremaining\">7.4</td>\n",
       "        <td class=\"number\">1</td>\n",
       "        <td class=\"number\">0.7%</td>\n",
       "        <td>\n",
       "            <div class=\"bar\" style=\"width:25%\">&nbsp;</div>\n",
       "        </td>\n",
       "</tr><tr class=\"\">\n",
       "        <td class=\"fillremaining\">7.6</td>\n",
       "        <td class=\"number\">1</td>\n",
       "        <td class=\"number\">0.7%</td>\n",
       "        <td>\n",
       "            <div class=\"bar\" style=\"width:25%\">&nbsp;</div>\n",
       "        </td>\n",
       "</tr><tr class=\"\">\n",
       "        <td class=\"fillremaining\">7.7</td>\n",
       "        <td class=\"number\">4</td>\n",
       "        <td class=\"number\">2.7%</td>\n",
       "        <td>\n",
       "            <div class=\"bar\" style=\"width:100%\">&nbsp;</div>\n",
       "        </td>\n",
       "</tr><tr class=\"\">\n",
       "        <td class=\"fillremaining\">7.9</td>\n",
       "        <td class=\"number\">1</td>\n",
       "        <td class=\"number\">0.7%</td>\n",
       "        <td>\n",
       "            <div class=\"bar\" style=\"width:25%\">&nbsp;</div>\n",
       "        </td>\n",
       "</tr>\n",
       "</table>\n",
       "        </div>\n",
       "    </div>\n",
       "</div>\n",
       "</div><div class=\"row variablerow\">\n",
       "    <div class=\"col-md-3 namecol\">\n",
       "        <p class=\"h4 pp-anchor\" id=\"pp_var_sepal_width\">sepal_width<br/>\n",
       "            <small>Numeric</small>\n",
       "        </p>\n",
       "    </div><div class=\"col-md-6\">\n",
       "    <div class=\"row\">\n",
       "        <div class=\"col-sm-6\">\n",
       "            <table class=\"stats \">\n",
       "                <tr>\n",
       "                    <th>Distinct count</th>\n",
       "                    <td>23</td>\n",
       "                </tr>\n",
       "                <tr>\n",
       "                    <th>Unique (%)</th>\n",
       "                    <td>15.3%</td>\n",
       "                </tr>\n",
       "                <tr class=\"ignore\">\n",
       "                    <th>Missing (%)</th>\n",
       "                    <td>0.0%</td>\n",
       "                </tr>\n",
       "                <tr class=\"ignore\">\n",
       "                    <th>Missing (n)</th>\n",
       "                    <td>0</td>\n",
       "                </tr>\n",
       "                <tr class=\"ignore\">\n",
       "                    <th>Infinite (%)</th>\n",
       "                    <td>0.0%</td>\n",
       "                </tr>\n",
       "                <tr class=\"ignore\">\n",
       "                    <th>Infinite (n)</th>\n",
       "                    <td>0</td>\n",
       "                </tr>\n",
       "            </table>\n",
       "\n",
       "        </div>\n",
       "        <div class=\"col-sm-6\">\n",
       "            <table class=\"stats \">\n",
       "\n",
       "                <tr>\n",
       "                    <th>Mean</th>\n",
       "                    <td>3.0573</td>\n",
       "                </tr>\n",
       "                <tr>\n",
       "                    <th>Minimum</th>\n",
       "                    <td>2</td>\n",
       "                </tr>\n",
       "                <tr>\n",
       "                    <th>Maximum</th>\n",
       "                    <td>4.4</td>\n",
       "                </tr>\n",
       "                <tr class=\"ignore\">\n",
       "                    <th>Zeros (%)</th>\n",
       "                    <td>0.0%</td>\n",
       "                </tr>\n",
       "            </table>\n",
       "        </div>\n",
       "    </div>\n",
       "</div>\n",
       "<div class=\"col-md-3 collapse in\" id=\"minihistogram7045091271999931534\">\n",
       "    <img src=\"data:image/png;base64,iVBORw0KGgoAAAANSUhEUgAAAMgAAABLCAYAAAA1fMjoAAAABHNCSVQICAgIfAhkiAAAAAlwSFlzAAAPYQAAD2EBqD%2BnaQAAADh0RVh0U29mdHdhcmUAbWF0cGxvdGxpYiB2ZXJzaW9uMy4xLjAsIGh0dHA6Ly9tYXRwbG90bGliLm9yZy%2B17YcXAAAB1ElEQVR4nO3cQa7SUBiG4b/EKWVO6C5chHty7ND9uAh3AWEBNA4cSB0oTvR%2BudeE0xaeZ0hDTkn65u9JG7ppmqZq7HQ61TAMrZdl5Y7HYx0Oh6Zrvmu62m/b7baqfv3gvu/nOAVW5HK51DAMf66blmYJpOu6qqrq%2B/6hA3n/8cubv/P104c7nMljuF03LW2arwgrIhAIBAKBQCAQCAQCgUAgEMzyHISXeXayLCYIBAKBQCAQCAQCgUAgEAgEAoFAIPCg8A3%2B5yEe62aCQPC0E8Q04DVMEAgEAoFAIBAIBAKBQCAQCAQCgUAgEAgEAoFAIBAIBAKB4Gnf5n1m/pzu9QTyALy6fz9usSAQCAQCgeAh9iDuwbkXEwQCgUAgEAgWtwexn2BJTBAIFjdBWKZWk31pr7SYIBDMMkGmaaqqqsvl8texH9%2B/tT4dFuRf18Tts9t109IsgYzjWFVVwzDMsTwLtvv88rFxHGu327U7marqphmyvF6vdT6fa7vdVtd1rZdnZaZpqnEca7/f12bTdlcwSyCwFjbpEAgEAoFAIBAIBAKBQCAQCAQCgUAgEAgEAoFAIBAIBAKBQCAQCAQCgUAgEAgEAoFAIBAIBAKBQCAQCAQ/AS1ZUIT%2Bvg3cAAAAAElFTkSuQmCC\">\n",
       "\n",
       "</div>\n",
       "<div class=\"col-md-12 text-right\">\n",
       "    <a role=\"button\" data-toggle=\"collapse\" data-target=\"#descriptives7045091271999931534,#minihistogram7045091271999931534\"\n",
       "       aria-expanded=\"false\" aria-controls=\"collapseExample\">\n",
       "        Toggle details\n",
       "    </a>\n",
       "</div>\n",
       "<div class=\"row collapse col-md-12\" id=\"descriptives7045091271999931534\">\n",
       "    <ul class=\"nav nav-tabs\" role=\"tablist\">\n",
       "        <li role=\"presentation\" class=\"active\"><a href=\"#quantiles7045091271999931534\"\n",
       "                                                  aria-controls=\"quantiles7045091271999931534\" role=\"tab\"\n",
       "                                                  data-toggle=\"tab\">Statistics</a></li>\n",
       "        <li role=\"presentation\"><a href=\"#histogram7045091271999931534\" aria-controls=\"histogram7045091271999931534\"\n",
       "                                   role=\"tab\" data-toggle=\"tab\">Histogram</a></li>\n",
       "        <li role=\"presentation\"><a href=\"#common7045091271999931534\" aria-controls=\"common7045091271999931534\"\n",
       "                                   role=\"tab\" data-toggle=\"tab\">Common Values</a></li>\n",
       "        <li role=\"presentation\"><a href=\"#extreme7045091271999931534\" aria-controls=\"extreme7045091271999931534\"\n",
       "                                   role=\"tab\" data-toggle=\"tab\">Extreme Values</a></li>\n",
       "\n",
       "    </ul>\n",
       "\n",
       "    <div class=\"tab-content\">\n",
       "        <div role=\"tabpanel\" class=\"tab-pane active row\" id=\"quantiles7045091271999931534\">\n",
       "            <div class=\"col-md-4 col-md-offset-1\">\n",
       "                <p class=\"h4\">Quantile statistics</p>\n",
       "                <table class=\"stats indent\">\n",
       "                    <tr>\n",
       "                        <th>Minimum</th>\n",
       "                        <td>2</td>\n",
       "                    </tr>\n",
       "                    <tr>\n",
       "                        <th>5-th percentile</th>\n",
       "                        <td>2.345</td>\n",
       "                    </tr>\n",
       "                    <tr>\n",
       "                        <th>Q1</th>\n",
       "                        <td>2.8</td>\n",
       "                    </tr>\n",
       "                    <tr>\n",
       "                        <th>Median</th>\n",
       "                        <td>3</td>\n",
       "                    </tr>\n",
       "                    <tr>\n",
       "                        <th>Q3</th>\n",
       "                        <td>3.3</td>\n",
       "                    </tr>\n",
       "                    <tr>\n",
       "                        <th>95-th percentile</th>\n",
       "                        <td>3.8</td>\n",
       "                    </tr>\n",
       "                    <tr>\n",
       "                        <th>Maximum</th>\n",
       "                        <td>4.4</td>\n",
       "                    </tr>\n",
       "                    <tr>\n",
       "                        <th>Range</th>\n",
       "                        <td>2.4</td>\n",
       "                    </tr>\n",
       "                    <tr>\n",
       "                        <th>Interquartile range</th>\n",
       "                        <td>0.5</td>\n",
       "                    </tr>\n",
       "                </table>\n",
       "            </div>\n",
       "            <div class=\"col-md-4 col-md-offset-2\">\n",
       "                <p class=\"h4\">Descriptive statistics</p>\n",
       "                <table class=\"stats indent\">\n",
       "                    <tr>\n",
       "                        <th>Standard deviation</th>\n",
       "                        <td>0.43587</td>\n",
       "                    </tr>\n",
       "                    <tr>\n",
       "                        <th>Coef of variation</th>\n",
       "                        <td>0.14256</td>\n",
       "                    </tr>\n",
       "                    <tr>\n",
       "                        <th>Kurtosis</th>\n",
       "                        <td>0.22825</td>\n",
       "                    </tr>\n",
       "                    <tr>\n",
       "                        <th>Mean</th>\n",
       "                        <td>3.0573</td>\n",
       "                    </tr>\n",
       "                    <tr>\n",
       "                        <th>MAD</th>\n",
       "                        <td>0.33678</td>\n",
       "                    </tr>\n",
       "                    <tr class=\"\">\n",
       "                        <th>Skewness</th>\n",
       "                        <td>0.31897</td>\n",
       "                    </tr>\n",
       "                    <tr>\n",
       "                        <th>Sum</th>\n",
       "                        <td>458.6</td>\n",
       "                    </tr>\n",
       "                    <tr>\n",
       "                        <th>Variance</th>\n",
       "                        <td>0.18998</td>\n",
       "                    </tr>\n",
       "                    <tr>\n",
       "                        <th>Memory size</th>\n",
       "                        <td>1.2 KiB</td>\n",
       "                    </tr>\n",
       "                </table>\n",
       "            </div>\n",
       "        </div>\n",
       "        <div role=\"tabpanel\" class=\"tab-pane col-md-8 col-md-offset-2\" id=\"histogram7045091271999931534\">\n",
       "            <img src=\"data:image/png;base64,iVBORw0KGgoAAAANSUhEUgAAAlgAAAGQCAYAAAByNR6YAAAABHNCSVQICAgIfAhkiAAAAAlwSFlzAAAPYQAAD2EBqD%2BnaQAAADh0RVh0U29mdHdhcmUAbWF0cGxvdGxpYiB2ZXJzaW9uMy4xLjAsIGh0dHA6Ly9tYXRwbG90bGliLm9yZy%2B17YcXAAAgAElEQVR4nO3df1RUdeL/8dcIMloxo4gCxuShtB/%2BPCluov0gM5R%2BZ625Fqtt2Y81ytQ6oZ9Kd1fx9Nty4/RjU2trsU5R7slIalewNStI/FWnNbOiBNE2GWB1UrvfP/w22wgo0pu5c5nn45z7x73znsuLd7fDy/e9DC7LsiwBAADAmE52BwAAAOhoKFgAAACGUbAAAAAMo2ABAAAYRsECAAAwjIIFAABgGAULAADAMAoWAACAYRQsAAAAwyhYAAAAhlGwAAAADKNgAQAAGEbBAgAAMIyCBQAAYBgFCwAAwDAKFgAAgGEULAAAAMMoWAAAAIZRsAAAAAyjYAEAABhGwQIAADCMggUAAGAYBQsAAMAwChYAAIBhFCwAAADDKFgAAACGUbAAAAAMo2ABAAAYRsECAAAwjIIFAABgGAULAADAMAoWAACAYRQsAAAAwyhYAAAAhlGwAAAADKNgAQAAGEbBAgAAMIyCBQAAYFis3QGiwY8//qgdO3YoPj5eLpfL7jgAAEQFy7JUX1%2Bv3r17q1On8K4pUbDCYMeOHfL5fHbHAAAgKlVVVSk1NTWsX5OCFQbx8fGSDv0H9ng8NqcBACA6%2BP1%2B%2BXy%2B4M/hcKJghcFPtwU9Hg8FCwCAMLPj8RwecgcAADCMggUAAGAYBQsAAMAwChYAAIBhFCwAAADDKFgAAACGUbAAAAAMo2ABAAAYRsECAAAwjIIFAABgGAULAADAMAoWAACAYfyxZwBhlz6n2O4Ix6R8/ji7IwBwGFawAAAADKNgAQAAGEbBAgAAMIyCBQAAYBgFCwAAwDAKFgAAgGEULAAAAMMoWAAAAIZRsAAAAAyjYAEAABhGwQIAADAs6gtWQUGBBg8eLI/HI4/Ho4yMDL311lvB1zMzM%2BVyuUK2iRMn2pgYAABEuqj/Y8%2BpqalauHCh%2BvbtK0latmyZLr/8cq1fv14DBgyQJE2dOlV/%2BMMfgu/p2rWrLVkBAIAzRH3BuvTSS0P258%2Bfr4KCAq1bty5YsI477jglJyfbEQ8AADhQ1N8i/LmDBw%2BqsLBQjY2NysjICB5/8cUXlZiYqAEDBmjWrFmqr6%2B3MSUAAIh0Ub%2BCJUmbNm1SRkaG9u3bpxNOOEFFRUXq37%2B/JOnaa69VWlqakpOTtXnzZuXl5WnDhg0qKSlp8XyBQECBQCC47/f72/17AAAAkYOCJem0005TZWWl9uzZo1dffVWTJ09WaWmp%2Bvfvr6lTpwbHDRw4UP369VN6ero%2B/vhjDR06tNnz5efna968eeGKDwAAIgy3CCXFxcWpb9%2B%2BSk9PV35%2BvoYMGaJFixY1O3bo0KHq3Lmztm7d2uL58vLyVFdXF9yqqqraKzoAAIhArGA1w7KskFt8P7dlyxbt379fKSkpLb7f7XbL7Xa3VzwAABDhor5gzZ49W9nZ2fL5fKqvr1dhYaFWr16t4uJibdu2TS%2B%2B%2BKIuuugiJSYm6pNPPtHMmTN15plnatSoUXZHBwAAESrqC9bOnTuVk5Oj6upqeb1eDR48WMXFxbrwwgtVVVWld999V4sWLVJDQ4N8Pp8uvvhi3X///YqJibE7OgAAiFBRX7D%2B8pe/tPiaz%2BdTaWlpGNMAAICOgIfcAQAADKNgAQAAGEbBAgAAMIyCBQAAYBgFCwAAwDAKFgAAgGEULAAAAMMoWAAAAIZRsAAAAAyjYAEAABhGwQIAADCMggUAAGAYBQsAAMAwChYAAIBhFCwAAADDKFgAAACGUbAAAAAMo2ABAAAYRsECAAAwjIIFAABgGAULAADAMAoWAACAYRQsAAAAwyhYAAAAhlGwAAAADKNgAQAAGEbBAgAAMCzW7gAAEOnS5xTbHeGYlM8fZ3cEIOqxggUAAGAYBQsAAMCwqC9YBQUFGjx4sDwejzwejzIyMvTWW28FXw8EAsrNzVViYqKOP/54XXbZZfrmm29sTAwAACJd1Bes1NRULVy4UOXl5SovL9fo0aN1%2BeWXa8uWLZKk6dOnq6ioSIWFhXrvvffU0NCgSy65RAcPHrQ5OQAAiFQuy7Isu0NEmoSEBD344IO6%2Buqr1bNnT73wwgu65pprJEk7duyQz%2BfTypUrNXbs2Fadz%2B/3y%2Bv1qq6uTh6Ppz2jA47gtIfGnYaH3IFD7Pz5G/UrWD938OBBFRYWqrGxURkZGaqoqND%2B/fuVlZUVHNO7d28NHDhQa9eutTEpAACIZHxMg6RNmzYpIyND%2B/bt0wknnKCioiL1799flZWViouLU/fu3UPGJyUlqaampsXzBQIBBQKB4L7f72%2B37AAAIPKwgiXptNNOU2VlpdatW6dbb71VkydP1ieffNLieMuy5HK5Wnw9Pz9fXq83uPl8vvaIDQAAIhQFS1JcXJz69u2r9PR05efna8iQIVq0aJGSk5P1ww8/6Pvvvw8ZX1tbq6SkpBbPl5eXp7q6uuBWVVXV3t8CAACIIBSsZliWpUAgoGHDhqlz584qKSkJvlZdXa3Nmzdr5MiRLb7f7XYHP/bhpw0AAESPqH8Ga/bs2crOzpbP51N9fb0KCwu1evVqFRcXy%2Bv16oYbbtDMmTPVo0cPJSQkaNasWRo0aJDGjBljd3QAABChor5g7dy5Uzk5OaqurpbX69XgwYNVXFysCy%2B8UJL06KOPKjY2VhMmTNDevXt1wQUXaOnSpYqJibE5OQAAiFR8DlYY8DlYQCg%2BB6t98TlYwCF8DhYAAEAHQsECAAAwjIIFAABgGAULAADAMAoWAACAYRQsAAAAwyhYAAAAhlGwAAAADKNgAQAAGEbBAgAAMIyCBQAAYBgFCwAAwDAKFgAAgGEULAAAAMMoWAAAAIZRsAAAAAyjYAEAABhGwQIAADCMggUAAGAYBQsAAMAwChYAAIBhFCwAAADDKFgAAACGUbAAAAAMo2ABAAAYRsECAAAwjIIFAABgGAULAADAMAoWAACAYRQsAAAAwyhYAAAAhkV9wcrPz9fw4cMVHx%2BvXr166YorrtBnn30WMiYzM1Mulytkmzhxok2JAQBApIv6glVaWqpp06Zp3bp1Kikp0YEDB5SVlaXGxsaQcVOnTlV1dXVwe%2Bqpp2xKDAAAIl2s3QHsVlxcHLK/ZMkS9erVSxUVFTr33HODx4877jglJyeHOx4AAHCgqF/BOlxdXZ0kKSEhIeT4iy%2B%2BqMTERA0YMECzZs1SfX19i%2BcIBALy%2B/0hGwAAiB5Rv4L1c5ZlacaMGTr77LM1cODA4PFrr71WaWlpSk5O1ubNm5WXl6cNGzaopKSk2fPk5%2Bdr3rx54YoNAAAijMuyLMvuEJFi2rRpevPNN/Xee%2B8pNTW1xXEVFRVKT09XRUWFhg4d2uT1QCCgQCAQ3Pf7/fL5fKqrq5PH42mX7ICTpM8pPvogtFn5/HF2RwAigt/vl9frteXnLytY/19ubq5WrFihsrKyI5YrSRo6dKg6d%2B6srVu3Nluw3G633G53e0UFAAARLuoLlmVZys3NVVFRkVavXq20tLSjvmfLli3av3%2B/UlJSwpAQAAA4TdQXrGnTpumll17SG2%2B8ofj4eNXU1EiSvF6vunbtqm3btunFF1/URRddpMTERH3yySeaOXOmzjzzTI0aNcrm9AAAIBJF/W8RFhQUqK6uTpmZmUpJSQluy5cvlyTFxcXp3Xff1dixY3Xaaafp9ttvV1ZWlt555x3FxMTYnB4AAESiqF/BOtoz/j6fT6WlpWFKAwAAOoKoX8ECAAAwLepXsICOgo8%2BAIDIwQoWAACAYRQsAAAAwyhYAAAAhjm2YP31r3/Vvn377I4BAADQhGML1owZM5ScnKybb75ZH374od1xAAAAghxbsHbs2KHnnntO1dXVOvvsszVgwAA9/PDD2rVrl93RAABAlHNswYqNjdX48eO1YsUKff3115o8ebKee%2B45paamavz48XrzzTeP%2BiGiAAAA7cGxBevnkpOTdcEFFygzM1Mul0vl5eWaNGmS%2BvXrpzVr1tgdDwAARBlHF6zdu3frscce05AhQzRq1CjV1tbq9ddf11dffaVvv/1Wl1xyiX7729/aHRMAAEQZx36S%2B5VXXqmVK1cqLS1NN954oyZPnqyePXsGXz/hhBN099136/HHH7cxJQAAiEaOLVgej0fvvPOOzjnnnBbHpKSkaOvWrWFMBQAA4OCCtWzZsqOOcblcOuWUU8KQBgAA4H8c%2BwzWnXfeqcWLFzc5/uc//1kzZ860IREAAMAhji1Yr7zyikaMGNHkeEZGhpYvX25DIgAAgEMcW7B2796t7t27Nznu8Xi0e/duGxIBAAAc4tiCdcopp%2Bjtt99ucvztt99WWlqaDYkAAAAOcexD7tOnT9f06dP13XffafTo0ZKkd999Vw888IAeeughm9OhI0ifU2x3BACAQzm2YE2dOlX79u3TggULdP/990uSUlNT9fjjj%2Bt3v/udzekAAEA0c2zBkqTc3Fzl5uaqurpaXbt2Vbdu3eyOBAAA4OyC9ZOUlBS7IwAAAAQ59iH3Xbt26frrr9dJJ52kLl26KC4uLmQDAACwi2NXsKZMmaJt27bprrvuUkpKilwul92RAAAAJDm4YJWVlamsrExnnnmm3VEAAABCOPYWYWpqKqtWAAAgIjm2YD366KPKy8vTN998Y3cUAACAEI69RZiTk6P6%2Bnr16dNHHo9HnTt3Dnm9trbWpmQAACDaObZgLVy40O4IAAAAzXJswbrhhhvsjgAAANAsxz6DJUlffvml5s6dq5ycnOAtwVWrVunTTz9t9Tny8/M1fPhwxcfHq1evXrriiiv02WefhYwJBALKzc1VYmKijj/%2BeF122WU8%2BwUAAFrk2IK1Zs0aDRgwQKWlpXr55ZfV0NAgSfr444913333tfo8paWlmjZtmtatW6eSkhIdOHBAWVlZamxsDI6ZPn26ioqKVFhYqPfee08NDQ265JJLdPDgQePfFwAAcD6XZVmW3SHaYuTIkbryyit11113KT4%2BXhs2bNDJJ5%2BsDz/8UFdddZWqqqradN5du3apV69eKi0t1bnnnqu6ujr17NlTL7zwgq655hpJ0o4dO%2BTz%2BbRy5UqNHTv2qOf0%2B/3yer2qq6uTx%2BNpUy6EX/qcYrsjAG1SPn%2Bc3RGAiGDnz1/HrmBt3LhRV199dZPjvXr10q5du9p83rq6OklSQkKCJKmiokL79%2B9XVlZWcEzv3r01cOBArV27ttlzBAIB%2Bf3%2BkA0AAEQPxxasbt26qaampsnxyspKnXjiiW06p2VZmjFjhs4%2B%2B2wNHDhQklRTU6O4uDh17949ZGxSUlKzX1869FyX1%2BsNbj6fr015AACAMzm2YE2cOFH33HOPdu3aFfxE9w8%2B%2BECzZs3Sdddd16Zz3nbbbdq4caP%2B9re/HXWsZVktfpJ8Xl6e6urqgltbb1cCAABncmzBWrBggZKTk5WSkqKGhgb1799fI0eO1PDhw3Xvvfce8/lyc3O1YsUK/fOf/1RqamrweHJysn744Qd9//33IeNra2uVlJTU7Lncbrc8Hk/IBgAAoodjPwcrLi5Oy5cv17///W99/PHH%2BvHHHzV06FCdfvrpx3Qey7KUm5uroqIirV69WmlpaSGvDxs2TJ07d1ZJSYkmTJggSaqurtbmzZv1wAMPGPt%2BAABAx%2BHYgvWTU089Vaeeemqb3z9t2jS99NJLeuONNxQfHx98rsrr9apr167yer264YYbNHPmTPXo0UMJCQmaNWuWBg0apDFjxpj6NgAAQAfi2IJ10003HfH1p59%2BulXnKSgokCRlZmaGHF%2ByZImmTJki6dAflo6NjdWECRO0d%2B9eXXDBBVq6dKliYmKOOTcAAOj4HFuwqqurQ/b379%2BvLVu2qL6%2BXueee26rz9OajwHr0qWLnnjiCT3xxBPHnBMAAEQfxxasv//9702OHThwQLfeeqvOOOMMGxIBAAAc4tjfImxObGysZs2apQcffNDuKAAAIIp1qIIlSV988YX2799vdwwAABDFHHuL8O677w7ZtyxL1dXVWrFiha699lqbUgEAADi4YL3//vsh%2B506dVLPnj21cOFCTZ061aZUAAAADi5Ya9assTsCAABAszrcM1gAAAB2c%2BwK1vDhw1v8Y8uH%2B/DDD9s5DQAAwP84tmCdf/75euqpp3TqqacqIyNDkrRu3Tp99tlnuvnmm%2BV2u21OCAAAopVjC9aePXs0bdo0LViwIOT4nDlztHPnTj377LM2JQMAANHOsc9gvfzyy7r%2B%2BuubHJ8yZYpeeeUVGxIBAAAc4tiC5Xa7tXbt2ibH165dy%2B1BAABgK8feIrz99tt1yy23aP369RoxYoSkQ89gPfPMM5o9e7bN6QAAQDRzbMGaM2eO0tLStGjRIj333HOSpDPOOEPPPPOMJk2aZHM6AAAQzRxbsCRp0qRJlCkAABBxHPsMliT5/X4tXbpU9913n77//ntJ0oYNG1RdXW1zMgAAEM0cu4K1efNmjRkzRscdd5yqqqo0ZcoUde/eXS%2B//LK%2B%2BeYbLVu2zO6IAAAgSjl2BevOO%2B/UpEmTtG3bNnXp0iV4/OKLL1ZZWZmNyQAAQLRz7ArWRx99pIKCgiZ/LufEE0/kFiEAALCVY1ew4uLi1NDQ0OT41q1blZiYaEMiAACAQxxbsC677DL98Y9/1IEDByRJLpdL3377re655x6NHz/e5nQAACCaObZgPfzww9qxY4eSk5O1d%2B9ejR49WieffLK6dOnS5O8TAgAAhJNjn8Hyer1au3atSkpK9PHHH%2BvHH3/U0KFDNXbs2CbPZQEAAISTIwvW/v37ddFFF%2BnJJ59UVlaWsrKy7I4EAAAQ5MhbhJ07d9b69etZqQIAABHJkQVLkq677jotWbLE7hgAAABNOPIW4U8WL16sd955R%2Bnp6Tr%2B%2BONDXnvggQdsSgUAAKKdYwtWRUWFBg8eLEnauHFjyGvcOgQAAHZyXMH64osvlJaWpjVr1tgdBQAAoFmOewarX79%2B2rVrV3D/mmuu0c6dO21MBAAAEMpxBcuyrJD9lStXqrGxsc3nKysr06WXXqrevXvL5XLp9ddfD3l9ypQpcrlcIduIESPa/PUAAEDH57iCZVpjY6OGDBmixYsXtzhm3Lhxqq6uDm4rV64MY0IAAOA0jnsG66dVpMOPtVV2drays7OPOMbtdis5ObnNXwMAAEQXxxUsy7I0ZcoUud1uSdK%2Bfft0yy23NPmYhtdee83Y11y9erV69eqlbt266bzzztP8%2BfPVq1evFscHAgEFAoHgvt/vN5YFAABEPscVrMmTJ4fsX3fdde369bKzs/XrX/9affr00fbt23Xvvfdq9OjRqqioCJa8w%2BXn52vevHntmgsAAEQul3X4U%2BNRzOVyqaioSFdccUWLY6qrq9WnTx8VFhZq/PjxzY5pbgXL5/Oprq5OHo/HeG60j/Q5xXZHANqkfP44uyMAEcHv98vr9dry89dxK1h2S0lJUZ8%2BfbR169YWx7jd7hZXtwAAQMcX9b9FeKy%2B%2B%2B47VVVVKSUlxe4oAAAgQkX9ClZDQ4M%2B//zz4P727dtVWVmphIQEJSQkaO7cubrqqquUkpKiL7/8UrNnz1ZiYqKuvPJKG1MDAIBIFvUFq7y8XOeff35wf8aMGZIOPUxfUFCgTZs26fnnn9eePXuUkpKi888/X8uXL1d8fLxdkQEAQISL%2BoKVmZnZ5NPhf%2B7tt98OYxoAANAR8AwWAACAYRQsAAAAwyhYAAAAhlGwAAAADKNgAQAAGEbBAgAAMIyCBQAAYBgFCwAAwDAKFgAAgGEULAAAAMMoWAAAAIZRsAAAAAyjYAEAABhGwQIAADCMggUAAGAYBQsAAMAwChYAAIBhFCwAAADDKFgAAACGUbAAAAAMo2ABAAAYRsECAAAwjIIFAABgGAULAADAMAoWAACAYRQsAAAAw2LtDgAAiF7pc4rtjnBMyuePszsCHIIVLAAAAMMoWAAAAIZRsAAAAAyL%2BoJVVlamSy%2B9VL1795bL5dLrr78e8rplWZo7d6569%2B6trl27KjMzU1u2bLEpLQAAcIKoL1iNjY0aMmSIFi9e3OzrDzzwgB555BEtXrxYH330kZKTk3XhhReqvr4%2BzEkBAIBTRP1vEWZnZys7O7vZ1yzL0mOPPaY5c%2BZo/PjxkqRly5YpKSlJL730km6%2B%2BeZwRgUAAA4R9StYR7J9%2B3bV1NQoKysreMztduu8887T2rVrbUwGAAAiWdSvYB1JTU2NJCkpKSnkeFJSkr766qsW3xcIBBQIBIL7fr%2B/fQICAICIRMFqBZfLFbJvWVaTYz%2BXn5%2BvefPmtXcsAGiW0z68E%2BiIuEV4BMnJyZL%2Bt5L1k9ra2iarWj%2BXl5enurq64FZVVdWuOQEAQGShYB1BWlqakpOTVVJSEjz2ww8/qLS0VCNHjmzxfW63Wx6PJ2QDAADRI%2BpvETY0NOjzzz8P7m/fvl2VlZVKSEjQSSedpOnTp2vBggXq16%2Bf%2BvXrpwULFui4447TpEmTbEwNAAAiWdQXrPLycp1//vnB/RkzZkiSJk%2BerKVLl%2Bruu%2B/W3r179fvf/17ff/%2B9zjrrLK1atUrx8fF2RQYAABHOZVmWZXeIjs7v98vr9aquro7bhQ7Cg8IADlc%2Bf5zdEXAM7Pz5yzNYAAAAhlGwAAAADKNgAQAAGEbBAgAAMIyCBQAAYBgFCwAAwDAKFgAAgGEULAAAAMMoWAAAAIZRsAAAAAyjYAEAABhGwQIAADCMggUAAGAYBQsAAMAwChYAAIBhFCwAAADDKFgAAACGUbAAAAAMi7U7AKJH%2BpxiuyMAABAWrGABAAAYRsECAAAwjIIFAABgGAULAADAMAoWAACAYRQsAAAAwyhYAAAAhlGwAAAADKNgAQAAGEbBAgAAMIyCBQAAYBgF6yjmzp0rl8sVsiUnJ9sdCwAARDD%2B2HMrDBgwQO%2B8805wPyYmxsY0AAAg0lGwWiE2NpZVKwAA0GrcImyFrVu3qnfv3kpLS9PEiRP1xRdf2B0JAABEMFawjuKss87S888/r1NPPVU7d%2B7Un/70J40cOVJbtmxRjx49mn1PIBBQIBAI7vv9/nDFBQAAEYAVrKPIzs7WVVddpUGDBmnMmDF68803JUnLli1r8T35%2Bfnyer3BzefzhSsuAACIABSsY3T88cdr0KBB2rp1a4tj8vLyVFdXF9yqqqrCmBAAANiNW4THKBAI6NNPP9U555zT4hi32y232x3GVAAAIJKwgnUUs2bNUmlpqbZv364PPvhAV199tfx%2BvyZPnmx3NAAAEKFYwTqKb775Rr/5zW%2B0e/du9ezZUyNGjNC6devUp08fu6MBAIAIRcE6isLCQrsjAAAAh%2BEWIQAAgGEULAAAAMO4Rehw6XOK7Y4AAAAOwwoWAACAYRQsAAAAwyhYAAAAhlGwAAAADKNgAQAAGEbBAgAAMIyCBQAAYBgFCwAAwDAKFgAAgGEULAAAAMMoWAAAAIZRsAAAAAyjYAEAABhGwQIAADCMggUAAGAYBQsAAMCwWLsDAADgFOlziu2O0GGVzx9ndwSjWMECAAAwjIIFAABgGAULAADAMAoWAACAYRQsAAAAwyhYAAAAhlGwAAAADKNgAQAAGEbBAgAAMIyCBQAAYBgFCwAAwDAKVis9%2BeSTSktLU5cuXTRs2DCtWbPG7kgAACBCUbBaYfny5Zo%2BfbrmzJmj9evX65xzzlF2dra%2B/vpru6MBAIAIRMFqhUceeUQ33HCDbrzxRp1xxhl67LHH5PP5VFBQYHc0AAAQgWLtDhDpfvjhB1VUVOiee%2B4JOZ6VlaW1a9c2%2B55AIKBAIBDcr6urkyT5/X7j%2BQ4GGo2fEwCAcGuPn5E/ndOyLOPnPhoK1lHs3r1bBw8eVFJSUsjxpKQk1dTUNPue/Px8zZs3r8lxn8/XLhkBAHA678Ptd%2B76%2Bnp5vd72%2BwLNoGC1ksvlCtm3LKvJsZ/k5eVpxowZwf0ff/xR//nPf9SjR48W39MWfr9fPp9PVVVV8ng8xs6Lppjr8GGuw4e5Dg/mOXwOn2vLslRfX6/evXuHPQsF6ygSExMVExPTZLWqtra2yarWT9xut9xud8ixbt26tVtGj8fD/7RhwlyHD3MdPsx1eDDP4fPzuQ73ytVPeMj9KOLi4jRs2DCVlJSEHC8pKdHIkSNtSgUAACIZK1itMGPGDOXk5Cg9PV0ZGRl6%2Bumn9fXXX%2BuWW26xOxoAAIhAMXPnzp1rd4hIN3DgQPXo0UMLFizQQw89pL179%2BqFF17QkCFD7I6mmJgYZWZmKjaWrtzemOvwYa7Dh7kOD%2BY5fCJlrl2WHb%2B7CAAA0IHxDBYAAIBhFCwAAADDKFgAAACGUbAAAAAMo2BFqPz8fA0fPlzx8fHq1auXrrjiCn322WdHfd%2Brr76q/v37y%2B12q3///ioqKgpDWmdry1wvXbpULperybZv374wpXamgoICDR48OPghgBkZGXrrrbeO%2BB6u6bY51rnmmjYjPz9fLpdL06dPP%2BI4rutfrjVzbed1TcGKUKWlpZo2bZrWrVunkpISHThwQFlZWWpsbPmPO7///vu65pprlJOTow0bNignJ0cTJkzQBx98EMbkztOWuZYOfVJwdXV1yNalS5cwpXam1NRULVy4UOXl5SovL9fo0aN1%2BeWXa8uWLc2O55puu2Oda4lr%2Bpf66KOP9PTTT2vw4MFHHMd1/cu1dq4lG69rC45QW1trSbJKS0tbHDNhwgRr3LhxIcfGjh1rTZw4sb3jdSitmeslS5ZYXq83jKk6ru7du1vPPvtss69xTZt1pLnmmv5l6uvrrX79%2BlklJSXWeeedZ91xxx0tjuW6/mWOZa7tvK5ZwXKIuro6SVJCQkKLY95//31lZWWFHBs7dqzWrl3brtk6mtbMtSQ1NDSoT58%2BSk1N1SWXXKL169eHI16HcfDgQRUWFqqxsVEZGRnNjuGaNqM1cy1xTf8S06ZN08UXX6wxY8YcdSzX9S9zLEGNypQAAAOjSURBVHMt2Xdd85GyDmBZlmbMmKGzzz5bAwcObHFcTU1Nkz9AnZSU1OQPVaNlrZ3r008/XUuXLtWgQYPk9/u1aNEijRo1Shs2bFC/fv3CmNh5Nm3apIyMDO3bt08nnHCCioqK1L9//2bHck3/Mscy11zTbVdYWKiKigqVl5e3ajzXddsd61zbeV1TsBzgtttu08aNG/Xee%2B8ddazL5QrZtyyryTG0rLVzPWLECI0YMSK4P2rUKA0dOlRPPPGEHn/88faO6WinnXaaKisrtWfPHr366quaPHmySktLW/zBzzXddscy11zTbVNVVaU77rhDq1atOqbneriuj11b5trO65qCFeFyc3O1YsUKlZWVKTU19Yhjk5OTm/wLqLa2tsm/lNC8Y5nrw3Xq1EnDhw/X1q1b2yldxxEXF6e%2BfftKktLT0/XRRx9p0aJFeuqpp5qM5Zr%2BZY5lrg/HNd06FRUVqq2t1bBhw4LHDh48qLKyMi1evFiBQEAxMTEh7%2BG6bpu2zPXhwnld8wxWhLIsS7fddptee%2B01/eMf/1BaWtpR35ORkaGSkpKQY6tWrdLIkSPbK2aH0Ja5bu4clZWVSklJaYeEHZtlWQoEAs2%2BxjVt1pHmurmxXNNHd8EFF2jTpk2qrKwMbunp6br22mtVWVnZ7A98ruu2actcHy6s17Utj9bjqG699VbL6/Vaq1evtqqrq4Pbf//73%2BCYnJwc65577gnu/%2Btf/7JiYmKshQsXWp9%2B%2Bqm1cOFCKzY21lq3bp0d34JjtGWu586daxUXF1vbtm2z1q9fb11//fVWbGys9cEHH9jxLThGXl6eVVZWZm3fvt3auHGjNXv2bKtTp07WqlWrLMvimjbpWOeaa9qcw3%2Bzjeu6/Rxtru28rrlFGKEKCgokSZmZmSHHlyxZoilTpkiSvv76a3Xq9L9FyJEjR6qwsFD/93//p3vvvVennHKKli9frrPOOitcsR2pLXO9Z88e3XTTTaqpqZHX69WZZ56psrIy/epXvwpXbEfauXOncnJyVF1dLa/Xq8GDB6u4uFgXXnihJK5pk451rrmm2w/XdfhE0nXtsizLavevAgAAEEV4BgsAAMAwChYAAIBhFCwAAADDKFgAAACGUbAAAAAMo2ABAAAYRsECAAAwjIIFAABgGAULAADAMAoWAACAYRQsAAAAwyhYAAAAhlGwAAAADKNgAQAAGEbBAgAAMIyCBQAAYBgFCwAAwDAKFgAAgGH/D1F/HaTqRhSOAAAAAElFTkSuQmCC\"/>\n",
       "        </div>\n",
       "        <div role=\"tabpanel\" class=\"tab-pane col-md-12\" id=\"common7045091271999931534\">\n",
       "            \n",
       "<table class=\"freq table table-hover\">\n",
       "    <thead>\n",
       "    <tr>\n",
       "        <td class=\"fillremaining\">Value</td>\n",
       "        <td class=\"number\">Count</td>\n",
       "        <td class=\"number\">Frequency (%)</td>\n",
       "        <td style=\"min-width:200px\">&nbsp;</td>\n",
       "    </tr>\n",
       "    </thead>\n",
       "    <tr class=\"\">\n",
       "        <td class=\"fillremaining\">3.0</td>\n",
       "        <td class=\"number\">26</td>\n",
       "        <td class=\"number\">17.3%</td>\n",
       "        <td>\n",
       "            <div class=\"bar\" style=\"width:74%\">&nbsp;</div>\n",
       "        </td>\n",
       "</tr><tr class=\"\">\n",
       "        <td class=\"fillremaining\">2.8</td>\n",
       "        <td class=\"number\">14</td>\n",
       "        <td class=\"number\">9.3%</td>\n",
       "        <td>\n",
       "            <div class=\"bar\" style=\"width:40%\">&nbsp;</div>\n",
       "        </td>\n",
       "</tr><tr class=\"\">\n",
       "        <td class=\"fillremaining\">3.2</td>\n",
       "        <td class=\"number\">13</td>\n",
       "        <td class=\"number\">8.7%</td>\n",
       "        <td>\n",
       "            <div class=\"bar\" style=\"width:37%\">&nbsp;</div>\n",
       "        </td>\n",
       "</tr><tr class=\"\">\n",
       "        <td class=\"fillremaining\">3.4</td>\n",
       "        <td class=\"number\">12</td>\n",
       "        <td class=\"number\">8.0%</td>\n",
       "        <td>\n",
       "            <div class=\"bar\" style=\"width:34%\">&nbsp;</div>\n",
       "        </td>\n",
       "</tr><tr class=\"\">\n",
       "        <td class=\"fillremaining\">3.1</td>\n",
       "        <td class=\"number\">11</td>\n",
       "        <td class=\"number\">7.3%</td>\n",
       "        <td>\n",
       "            <div class=\"bar\" style=\"width:32%\">&nbsp;</div>\n",
       "        </td>\n",
       "</tr><tr class=\"\">\n",
       "        <td class=\"fillremaining\">2.9</td>\n",
       "        <td class=\"number\">10</td>\n",
       "        <td class=\"number\">6.7%</td>\n",
       "        <td>\n",
       "            <div class=\"bar\" style=\"width:29%\">&nbsp;</div>\n",
       "        </td>\n",
       "</tr><tr class=\"\">\n",
       "        <td class=\"fillremaining\">2.7</td>\n",
       "        <td class=\"number\">9</td>\n",
       "        <td class=\"number\">6.0%</td>\n",
       "        <td>\n",
       "            <div class=\"bar\" style=\"width:26%\">&nbsp;</div>\n",
       "        </td>\n",
       "</tr><tr class=\"\">\n",
       "        <td class=\"fillremaining\">2.5</td>\n",
       "        <td class=\"number\">8</td>\n",
       "        <td class=\"number\">5.3%</td>\n",
       "        <td>\n",
       "            <div class=\"bar\" style=\"width:23%\">&nbsp;</div>\n",
       "        </td>\n",
       "</tr><tr class=\"\">\n",
       "        <td class=\"fillremaining\">3.5</td>\n",
       "        <td class=\"number\">6</td>\n",
       "        <td class=\"number\">4.0%</td>\n",
       "        <td>\n",
       "            <div class=\"bar\" style=\"width:17%\">&nbsp;</div>\n",
       "        </td>\n",
       "</tr><tr class=\"\">\n",
       "        <td class=\"fillremaining\">3.8</td>\n",
       "        <td class=\"number\">6</td>\n",
       "        <td class=\"number\">4.0%</td>\n",
       "        <td>\n",
       "            <div class=\"bar\" style=\"width:17%\">&nbsp;</div>\n",
       "        </td>\n",
       "</tr><tr class=\"other\">\n",
       "        <td class=\"fillremaining\">Other values (13)</td>\n",
       "        <td class=\"number\">35</td>\n",
       "        <td class=\"number\">23.3%</td>\n",
       "        <td>\n",
       "            <div class=\"bar\" style=\"width:100%\">&nbsp;</div>\n",
       "        </td>\n",
       "</tr>\n",
       "</table>\n",
       "        </div>\n",
       "        <div role=\"tabpanel\" class=\"tab-pane col-md-12\"  id=\"extreme7045091271999931534\">\n",
       "            <p class=\"h4\">Minimum 5 values</p>\n",
       "            \n",
       "<table class=\"freq table table-hover\">\n",
       "    <thead>\n",
       "    <tr>\n",
       "        <td class=\"fillremaining\">Value</td>\n",
       "        <td class=\"number\">Count</td>\n",
       "        <td class=\"number\">Frequency (%)</td>\n",
       "        <td style=\"min-width:200px\">&nbsp;</td>\n",
       "    </tr>\n",
       "    </thead>\n",
       "    <tr class=\"\">\n",
       "        <td class=\"fillremaining\">2.0</td>\n",
       "        <td class=\"number\">1</td>\n",
       "        <td class=\"number\">0.7%</td>\n",
       "        <td>\n",
       "            <div class=\"bar\" style=\"width:13%\">&nbsp;</div>\n",
       "        </td>\n",
       "</tr><tr class=\"\">\n",
       "        <td class=\"fillremaining\">2.2</td>\n",
       "        <td class=\"number\">3</td>\n",
       "        <td class=\"number\">2.0%</td>\n",
       "        <td>\n",
       "            <div class=\"bar\" style=\"width:38%\">&nbsp;</div>\n",
       "        </td>\n",
       "</tr><tr class=\"\">\n",
       "        <td class=\"fillremaining\">2.3</td>\n",
       "        <td class=\"number\">4</td>\n",
       "        <td class=\"number\">2.7%</td>\n",
       "        <td>\n",
       "            <div class=\"bar\" style=\"width:50%\">&nbsp;</div>\n",
       "        </td>\n",
       "</tr><tr class=\"\">\n",
       "        <td class=\"fillremaining\">2.4</td>\n",
       "        <td class=\"number\">3</td>\n",
       "        <td class=\"number\">2.0%</td>\n",
       "        <td>\n",
       "            <div class=\"bar\" style=\"width:38%\">&nbsp;</div>\n",
       "        </td>\n",
       "</tr><tr class=\"\">\n",
       "        <td class=\"fillremaining\">2.5</td>\n",
       "        <td class=\"number\">8</td>\n",
       "        <td class=\"number\">5.3%</td>\n",
       "        <td>\n",
       "            <div class=\"bar\" style=\"width:100%\">&nbsp;</div>\n",
       "        </td>\n",
       "</tr>\n",
       "</table>\n",
       "            <p class=\"h4\">Maximum 5 values</p>\n",
       "            \n",
       "<table class=\"freq table table-hover\">\n",
       "    <thead>\n",
       "    <tr>\n",
       "        <td class=\"fillremaining\">Value</td>\n",
       "        <td class=\"number\">Count</td>\n",
       "        <td class=\"number\">Frequency (%)</td>\n",
       "        <td style=\"min-width:200px\">&nbsp;</td>\n",
       "    </tr>\n",
       "    </thead>\n",
       "    <tr class=\"\">\n",
       "        <td class=\"fillremaining\">3.9</td>\n",
       "        <td class=\"number\">2</td>\n",
       "        <td class=\"number\">1.3%</td>\n",
       "        <td>\n",
       "            <div class=\"bar\" style=\"width:100%\">&nbsp;</div>\n",
       "        </td>\n",
       "</tr><tr class=\"\">\n",
       "        <td class=\"fillremaining\">4.0</td>\n",
       "        <td class=\"number\">1</td>\n",
       "        <td class=\"number\">0.7%</td>\n",
       "        <td>\n",
       "            <div class=\"bar\" style=\"width:50%\">&nbsp;</div>\n",
       "        </td>\n",
       "</tr><tr class=\"\">\n",
       "        <td class=\"fillremaining\">4.1</td>\n",
       "        <td class=\"number\">1</td>\n",
       "        <td class=\"number\">0.7%</td>\n",
       "        <td>\n",
       "            <div class=\"bar\" style=\"width:50%\">&nbsp;</div>\n",
       "        </td>\n",
       "</tr><tr class=\"\">\n",
       "        <td class=\"fillremaining\">4.2</td>\n",
       "        <td class=\"number\">1</td>\n",
       "        <td class=\"number\">0.7%</td>\n",
       "        <td>\n",
       "            <div class=\"bar\" style=\"width:50%\">&nbsp;</div>\n",
       "        </td>\n",
       "</tr><tr class=\"\">\n",
       "        <td class=\"fillremaining\">4.4</td>\n",
       "        <td class=\"number\">1</td>\n",
       "        <td class=\"number\">0.7%</td>\n",
       "        <td>\n",
       "            <div class=\"bar\" style=\"width:50%\">&nbsp;</div>\n",
       "        </td>\n",
       "</tr>\n",
       "</table>\n",
       "        </div>\n",
       "    </div>\n",
       "</div>\n",
       "</div><div class=\"row variablerow\">\n",
       "    <div class=\"col-md-3 namecol\">\n",
       "        <p class=\"h4 pp-anchor\" id=\"pp_var_species\">species<br/>\n",
       "            <small>Categorical</small>\n",
       "        </p>\n",
       "    </div><div class=\"col-md-3\">\n",
       "    <table class=\"stats \">\n",
       "        <tr class=\"\">\n",
       "            <th>Distinct count</th>\n",
       "            <td>3</td>\n",
       "        </tr>\n",
       "        <tr>\n",
       "            <th>Unique (%)</th>\n",
       "            <td>2.0%</td>\n",
       "        </tr>\n",
       "        <tr class=\"ignore\">\n",
       "            <th>Missing (%)</th>\n",
       "            <td>0.0%</td>\n",
       "        </tr>\n",
       "        <tr class=\"ignore\">\n",
       "            <th>Missing (n)</th>\n",
       "            <td>0</td>\n",
       "        </tr>\n",
       "    </table>\n",
       "</div>\n",
       "<div class=\"col-md-6 collapse in\" id=\"minifreqtable-2944158371623660882\">\n",
       "    <table class=\"mini freq\">\n",
       "        <tr class=\"\">\n",
       "    <th>versicolor</th>\n",
       "    <td>\n",
       "        <div class=\"bar\" style=\"width:100%\" data-toggle=\"tooltip\" data-placement=\"right\" data-html=\"true\"\n",
       "             data-delay=500 title=\"Percentage: 33.3%\">\n",
       "            50\n",
       "        </div>\n",
       "        \n",
       "    </td>\n",
       "</tr><tr class=\"\">\n",
       "    <th>setosa</th>\n",
       "    <td>\n",
       "        <div class=\"bar\" style=\"width:100%\" data-toggle=\"tooltip\" data-placement=\"right\" data-html=\"true\"\n",
       "             data-delay=500 title=\"Percentage: 33.3%\">\n",
       "            50\n",
       "        </div>\n",
       "        \n",
       "    </td>\n",
       "</tr><tr class=\"\">\n",
       "    <th>virginica</th>\n",
       "    <td>\n",
       "        <div class=\"bar\" style=\"width:100%\" data-toggle=\"tooltip\" data-placement=\"right\" data-html=\"true\"\n",
       "             data-delay=500 title=\"Percentage: 33.3%\">\n",
       "            50\n",
       "        </div>\n",
       "        \n",
       "    </td>\n",
       "</tr>\n",
       "    </table>\n",
       "</div>\n",
       "<div class=\"col-md-12 text-right\">\n",
       "    <a role=\"button\" data-toggle=\"collapse\" data-target=\"#freqtable-2944158371623660882, #minifreqtable-2944158371623660882\"\n",
       "       aria-expanded=\"true\" aria-controls=\"collapseExample\">\n",
       "        Toggle details\n",
       "    </a>\n",
       "</div>\n",
       "<div class=\"col-md-12 extrapadding collapse\" id=\"freqtable-2944158371623660882\">\n",
       "    \n",
       "<table class=\"freq table table-hover\">\n",
       "    <thead>\n",
       "    <tr>\n",
       "        <td class=\"fillremaining\">Value</td>\n",
       "        <td class=\"number\">Count</td>\n",
       "        <td class=\"number\">Frequency (%)</td>\n",
       "        <td style=\"min-width:200px\">&nbsp;</td>\n",
       "    </tr>\n",
       "    </thead>\n",
       "    <tr class=\"\">\n",
       "        <td class=\"fillremaining\">versicolor</td>\n",
       "        <td class=\"number\">50</td>\n",
       "        <td class=\"number\">33.3%</td>\n",
       "        <td>\n",
       "            <div class=\"bar\" style=\"width:100%\">&nbsp;</div>\n",
       "        </td>\n",
       "</tr><tr class=\"\">\n",
       "        <td class=\"fillremaining\">setosa</td>\n",
       "        <td class=\"number\">50</td>\n",
       "        <td class=\"number\">33.3%</td>\n",
       "        <td>\n",
       "            <div class=\"bar\" style=\"width:100%\">&nbsp;</div>\n",
       "        </td>\n",
       "</tr><tr class=\"\">\n",
       "        <td class=\"fillremaining\">virginica</td>\n",
       "        <td class=\"number\">50</td>\n",
       "        <td class=\"number\">33.3%</td>\n",
       "        <td>\n",
       "            <div class=\"bar\" style=\"width:100%\">&nbsp;</div>\n",
       "        </td>\n",
       "</tr>\n",
       "</table>\n",
       "</div>\n",
       "</div>\n",
       "    <div class=\"row headerrow highlight\">\n",
       "        <h1>Correlations</h1>\n",
       "    </div>\n",
       "    <div class=\"row variablerow\">\n",
       "    <img src=\"data:image/png;base64,iVBORw0KGgoAAAANSUhEUgAAAn4AAAIzCAYAAACeFhTSAAAABHNCSVQICAgIfAhkiAAAAAlwSFlzAAAPYQAAD2EBqD%2BnaQAAADh0RVh0U29mdHdhcmUAbWF0cGxvdGxpYiB2ZXJzaW9uMy4xLjAsIGh0dHA6Ly9tYXRwbG90bGliLm9yZy%2B17YcXAAAgAElEQVR4nOzde3yMd97/8XcQEoIgcaYIiZZqIiHOS8Ttdu6WFatVh9JqSEIderBdWmVptd1KtLebtFrtVlRpnX5lq61qV5OqsIqoODVIk0goOTWn%2Bf1hzW0qCNfEuDKv5%2BMxj5jr%2Bl7XfOarNZ%2B8v9fMuFgsFosAAABQ4VVydAEAAAC4M2j8AAAAnASNHwAAgJOg8QMAAHASNH4AAABOgsYPAADASdD4AQAAOAkaPwAAACdB4wcAAOAkqji6AADmdPr0afXt2/e6%2B11dXeXh4aEWLVqod%2B/eeuSRR%2BTh4XEHKwQA/J4LX9kG4HZc3fj5%2Bvpe09QVFhYqKytLZ86ckSQ1btxYq1at0j333HPHawUAXEbjB%2BC2XN34vffeewoODi51XHx8vMLDw5Wdna2AgACtWbPmTpYJALgK1/gBKFfBwcF66qmnJEmJiYn68ccfHVwRADgvGj8A5a5fv37WP%2B/fv9%2BBlQCAc%2BPNHQDKXc2aNa1/zsnJsdn3/fffa/Xq1dq7d68uXLigWrVqyd/fX2PGjFHXrl1LPd/Fixe1Zs0a7dy5U8nJycrOzpa7u7uaN2%2BuPn366NFHH1Xt2rVtjvHz85Mkffvtt1q0aJF27NihSpUqqV27dnr77bdVpUoV7d%2B/X6tWrdKhQ4eUmpqqatWqqWXLlgoNDdXo0aNLfXNKfn6%2B1qxZo61btyo5OVmFhYVq0KCBunXrpgkTJqhFixY24%2BPj4/Xoo4/qgQce0AcffKDVq1frk08%2B0alTp%2BTq6qp27dppzJgxCg0NvZ2pBoAbovEDUO5OnTpl/XPDhg2tf16yZIlWrFghSapdu7Z8fX2Vnp6uHTt2aMeOHZo4caJmzZplc66TJ09q3LhxSk1NVZUqVdS8eXM1adJEZ86c0cGDB3Xw4EFt2bJFH3/8sWrUqHFNLREREUpMTJSvr6%2BysrLk7e2tKlWqaPv27Zo%2BfbqKiopUp04dtW7dWjk5Ofr3v/%2Bt/fv3a%2BPGjVqzZo1N8/fLL79o/PjxOn78uCSpRYsWqlGjho4dO6a4uDh98sknWrRokQYOHHhNHYWFhZo0aZJ2796tOnXqyMfHRydOnNB3332n7777TvPmzdOf//xnYxMPAL9nAYDbkJKSYvH19bX4%2BvpavvvuuxuOnT17tsXX19fSrl07S0ZGhsVisVg%2B/PBDi6%2BvryUoKMjy6aefWseWlJRYtmzZYvH397f4%2Bvpa1q5da3OuRx55xOLr62sZOXKkJS0tzea4DRs2WNq2bWvx9fW1vP/%2B%2BzbHXam1ffv2loSEBIvFYrEUFxdbzp8/bykuLrZ0797d4uvra1mxYoWlqKjIetyPP/5o6dKli8XX19eyfPly6/aioiLLsGHDLL6%2Bvpb%2B/ftbDh8%2BbN136dIly5w5c6zPed%2B%2BfdZ93333nbUWf39/y8aNG637Ll68aBk7dqzF19fX0rlzZ0thYeEN5xUAbhXX%2BAEoF/n5%2BTp06JDmzp2rTz75RJI0btw4eXl5qaCgQNHR0ZKkhQsXaujQodbjXFxcNHDgQGvSFx0draKiIklSZmamjh49KkmaP3%2B%2B6tevb3Pcgw8%2BqM6dO0uSjhw5UmpdAwYMUKdOnSRJlSpVkqenp7KyspSRkSFJGjlypCpXrmwd365dO02fPl2hoaHy9PS0bv/ss890%2BPBhVatWTStWrFDbtm2t%2Bzw8PPTSSy%2BpZ8%2BeKiws1Ouvv15qLZGRkRoyZIj1fs2aNa3P%2B8KFCzpx4sR1ZhcAbg9LvQAMe/TRR2865k9/%2BpOioqIkXX5377lz51SjRo3rfgj00KFDNX/%2BfKWlpenQoUPq0KGD6tWrp%2B%2B%2B%2B075%2Bflyc3O75pji4mLrUmx%2Bfn6p5w0MDLxmW506dVS7dm39%2Buuvmjlzpp588kk98MADqlTp8u/GI0eO1MiRI22O%2BeKLLyRJISEhatasWamPNX78eO3atUsJCQm6dOmSzbWOktSnT59rjvHx8bH%2B%2BeLFi6WeFwBuF40fAMN%2B/wHOLi4uqlatmjw9PeXn56fQ0FC1bt3auv9KaldYWKiHH374uuetXLmySkpKdPz4cXXo0MG63c3NTampqdq/f79%2B/vlnpaSk6NixYzp8%2BLByc3MlSSUlJaWe09vbu9THmTlzpp5//nnt3LlTO3fuVO3atRUcHKzu3burd%2B/eNtcmSrKmce3atbtu/Vf2FRcX69SpU2rfvr3N/gYNGlxzzNUNbXFx8XXPDQC3g8YPgGF/%2BctfrvsBzqW5dOmSJKmgoEB79%2B696firk6/jx4/r5Zdf1s6dO22aOw8PDwUFBSk9PV1JSUnXPVdpSaF0OdW755579M477%2Bhf//qXfv31V23fvl3bt2%2BXi4uLevfurXnz5lkbwOzsbEm6JsW72tXN8O/fzSxd/lq7G7Hw%2BfoA7IzGD8Ad5%2B7uLulyIrZ%2B/foyH5eZmalHHnlEmZmZaty4sUaOHKn77rtPrVq1UtOmTeXi4qIZM2bcsPG7keDgYAUHBys/P1979uzR999/r127dungwYP68ssvlZqaqk8%2B%2BUQuLi7WdwxfaWJLc3XDWto7jAHgTqPxA3DHtWzZUtLlj2YpKipSlSrX/lNksVgUHx%2Bvhg0bqnHjxqpatao%2B/vhjZWZmytPTUx9//LHq1q17zXFpaWm3XE9BQYFSUlKUnZ2tBx54QG5uburRo4d69Oih6dOna8uWLXrqqaeUlJSkI0eOqG3btmrVqpUOHTqkgwcPXve8Bw4ckHR56bt58%2Ba3XBcA2Bvv6gVwx3Xq1Ek1a9ZUTk7OdRO/TZs2aezYsRowYIB%2B%2BeUXSZe/H1iSGjduXGrTl5ycrH379km6tevjvv76aw0cOFCPP/64CgoKrtnfrVs365%2BvnPfKGzO%2B%2BOILpaSklHre9957T5Lk7%2B%2BvWrVqlbkeACgvNH4A7rjq1avr8ccflyQtWLBAH3/8sc31ep9//rnmzp0r6fLHr1xJy1q1aiVJSkpK0rZt26zjLRaLvv76a02cOFGFhYWSpLy8vDLX06tXL9WpU0cXLlzQ008/rQsXLlj35eTkaPHixZKkRo0aqU2bNpKk//7v/5afn59%2B%2B%2B03TZo0yWZ5OTs7W88//7y%2B%2BeYbValSRTNnziz75ABAOWKpF4BDTJo0SSkpKVq7dq2ee%2B45vfLKK2ratKnS0tKUnp4uSerYsaNeeukl6zEjRozQP/7xD506dUqRkZFq0qSJ6tSpo9TUVGVmZsrV1VWdO3dWQkLCLS35Vq1aVW%2B88YYee%2Bwxbd26VTt27FDz5s1VqVIlpaSkKDc3V%2B7u7lq0aJGqVq0qSapSpYrefPNNTZo0ScePH9ewYcNsvrnjykfOvPDCCwoKCrLv5AHAbaLxA%2BAQLi4umj9/vvr37681a9Zo37591g9E9vf31%2BDBgxUWFmZttKTL75Jdt26dVqxYoS%2B//FKnT5/WuXPn1LBhQ/Xu3Vtjx45V9erVFRoaqqSkJJ09e1aNGzcuUz3BwcH66KOP9M477%2BiHH37QyZMnVaVKFTVs2FA9evTQhAkTrjlX06ZN9fHHH%2BvDDz/UZ599pmPHjumXX35Ro0aN1LNnTz388MPXfFcvADiSi4XPCwAAAHAKXOMHAADgJGj8AAAAnASNHwAAgJOg8QMAALCDrKws9evXT/Hx8dcds3PnTg0ZMkT%2B/v4aMGCAvvzyS5v9K1asUK9eveTv768xY8bo%2BPHjdq2Rxg8AAMCgH374QWFhYfr555%2BvO%2BbkyZOKiIhQVFSU9uzZo4iICE2bNs368VMbNmzQ6tWrFRsbq/j4eLVr106RkZF2/d5uGj8AAAADNmzYoJkzZ2r69Ok3HRcUFKTQ0FBVqVJFAwcOVKdOnRQXFydJWrt2rUaPHq02bdqoWrVqmjFjhs6ePXvDBPFW0fgBAACnlp6eroMHD9rcrnyQfFn06NFD//znPzVw4MAbjktOTpavr6/NttatW1u/%2Bef3%2B11dXdWiRQubbwYyig9wvpu5uDi6Avtq2VI6elRq00Y6ccLR1djNqZMV66Mwq1SRGjeWzp6VioocXY393NO7paNLsK9mzaQvv5T69JGu813BplTRvtO4SRNp0yZpyBDpzBlHV2M/%2B/c77rHL4bUxbulSxcTE2GybOnWqIiIiynS8t7d3mcbl5OTI3d3dZpubm5tyc3PLtN8eaPxw53h6SpUrX/6Ju1alSpf/Xa3EesDdrVaty/8/VbRGqaKpWfPy31PNmo6uBDcQFhamkJAQm21lbeZuhbu7u/Lz82225efnq0aNGmXabw80fgAAwDzK4bfS%2BvXrq379%2BnY/7%2B/5%2Bvrq4MGDNtuSk5PVvn17SVKbNm109OhR9enTR5JUWFiokydPXrM8bAS/0wMAANwBQ4cOVUJCgrZu3aqioiJt3bpVCQkJGjZsmCRp%2BPDhev/995WUlKTffvtNr776qry8vBQUFGS3Gkj8AACAeZjsOpSAgAC98MILGjp0qHx8fLRs2TItWbJEc%2BbMUZMmTRQdHa2WLS9fgzxixAhdunRJU6ZMUVZWlu6//34tX75crq6udquHxg8AAMBOjhw5YnM/MTHR5n7Pnj3Vs2fPUo91cXHRhAkTNGHChHKrj8YPAACYh8kSv7sNjR8AADAPGj9DmD0AAAAnQeIHAADMg8TPEBo/AABgHjR%2BhjB7AAAAToLEDwAAmAeJnyHMHgAAgJMg8QMAAOZB4mcIjR8AADAPGj9DmD0AAAAnQeIHAADMg8TPEGYPAADASZD4AQAA8yDxM4TGDwAAmAeNnyHMHgAAgJMg8QMAAOZB4mcIswcAAOAkSPwAAIB5kPgZQuMHAADMg8bPEGYPAADASZD4AQAA8yDxM4TZAwAAcBIkfgAAwDxI/Ayh8QMAAOZB42cIswcAAOAkSPwAAIB5kPgZwuwBAAA4CRI/AABgHiR%2BhtD4AQAA86DxM4TZAwAAcBIkfgAAwDxI/Axh9gAAAJwEiR8AADAPEj9DaPwAAIB50PgZwuwBAAA4CRI/AABgHiR%2BhjB7AAAAToLEDwAAmAeJnyE0fgAAwDxo/Axh9gAAAJwEiR8AADAPEj9DmL3bdOrUKUeXAAAAcEvu6sbv9OnT8vPz0%2BnTp286Nj4%2BXn5%2BfnegKmnx4sV66623rPf9/PwUHx9/Rx4bAACnVqmS/W8GZWZmKjw8XEFBQQoODtaCBQtUVFR0zbiJEycqICDA5ubn56e//vWvkqRz587Jz8/PZn9ISIjh%2Bq7GUu9tOH/%2BvKNLAADAOd2FS73Tpk1TgwYNtGvXLp07d05PPvmkVq1apYkTJ9qMW7lypc39devWKSYmRlOnTpUkHThwQE2aNNEXX3xRbrXeUuMXHR2tdevWKS8vT82aNVN4eLj69u2rgwcPatGiRUpKSlKdOnU0evRojR07Vi4uLoqOjtbhw4dVuXJl7dq1S3Xr1tUTTzyhsLAwSdKxY8f08ssv68iRI8rKylLTpk01a9Ys9enTx9AT%2B/nnn7Vw4UIlJiaqevXqGjp0qKZMmaKqVatq/fr1%2Buijj9SuXTtt3rxZLi4uCgkJ0bx58%2BTq6qri4mJFR0fro48%2BksViUb9%2B/XTkyBGNHDlSqamp2rRpkyTp0KFD2rhxoyTp22%2B/1cKFC/Xzzz/Lx8dHCxculK%2Bvr6HnAAAA7m6nTp1SQkKCvv76a7m7u1v7o1deeeWaxu9qx48f1/z58xUbG6v69etLutz4tW/fvlzrLXPj99133ykuLk7r16%2BXt7e34uLiNGfOHLVt21Zjx47V9OnT9fbbb%2BvUqVMKDw%2BXm5ubRo0aJUnasWOHnnnmGb322muKj4/X5MmT1bx5c3Xt2lURERHq27evYmJiZLFYtGTJEs2bN89Q45ebm6tx48Zp0KBBeuONN5SVlaXIyEiVlJRoxowZkqS9e/eqV69e2rVrlw4fPqyxY8eqW7duGjRokGJjY7Vx40a9%2B%2B67at68uaKjo5WYmKiRI0dqypQpSklJkSQtWrTI%2BpgJCQmKjY2Vh4eHIiIitHjxYsXGxpa55vT0dGVkZNhs827ZUvU9PW97Hu46bdva/qwgqlZ1dAX2VaWK7c8Ko107R1dgXz4%2Btj8riho1HF2BfbVsafsTxpVD4lfqa7C3t7Uhu5GjR4/K09NTDRo0sG7z8fHR2bNndfHiRdWqVavU41544QU9%2BOCDCgoKsm47cOCAfv31Vw0ePFjnzp3T/fffr6efflqtW7e%2BzWd2rTL/016tWjX9%2BuuvWrt2rfr06aM//elPCgsL08qVK%2BXj46OHH35YktS6dWs99thjev/9962Nn5%2Bfn8aPHy9J6tGjh/r3769PP/1UXbt21fLly9WgQQNZLBadOXNGtWrVUlpamqEn9dVXX6mgoEBPPfWUXFxc1KhRI0VFRSkyMtLa%2BLm5uWny5MlycXFRhw4d5OfnpxMnTki6HL0%2B/vjj1omeNm2aNmzYcMPHHD9%2BvLy8vCRJoaGh18S5NxMXF6eYmBibbVOjohQRFXVL5zGFf/zD0RXYVSNHF1BOvL0dXYGdbd7s6ArKxxtvOLoClMVVQQEMKofGr9TX4KlTFRERcdNjc3Jy5O7ubrPtyv3c3NxSG789e/Zo//79WrJkic32WrVqqXXr1po0aZKqVq2qN954Q%2BPHj9fWrVtVs2bNW31apSpz4xcQEKDo6GitXr1aK1eulJubm8aMGaOMjAwdPHjQpmMtKSlR5cqVrfdbtGhhc65GjRrp8OHDkqSkpCSFh4crIyNDPj4%2Bqlu3riwWi6EndebMGWVlZalTp07WbRaLRYWFhcrMzJQk1atXTy4uLtb9rq6u1sdNTU1VkyZNrPsqV66sxo0b3/AxPa9K5q4sF9%2BKsLCway7g9B4yRHr33Vs6z12tbdvLTd/o0VJSkqOrsZvULXsdXYJdValyuenLyJBKuTbZtBpNGuzoEuzLx%2Bdy0xcVJR075uhq7KciJn6LFknPPCP9J1yoEOLiHF2BXZX6GlzG336rV6%2BuvLw8m21X7te4zn/PcXFxGjBgwDWP8eqrr9rcf/bZZ/Xxxx9rz549hi%2BBu6LMjd/Zs2dVr149xcbGqqCgQLt379bUqVMVHh6u4OBgm2XN8%2BfPKycnx3r/9wne6dOn1ahRI6WlpSkqKkoxMTHWCd%2B2bZu2b99u6Ek1bNhQzZs312effWbdlp2drczMTNWtW/emxzdu3Fhnz5613rdYLEpNTTVU083Ur1//2ki5Iv0jcbWkJCkx0dFV2E1BgaMrKB9FRRXsuR086OgKysexYxXruV1nWcz0TpyoUL/wOlQ5JH6lvgaXUZs2bXThwgWdO3fOuvJ37NgxNWzYsNSUrqioSDt27NCyZctstmdnZ2vZsmV65JFHrOFTcXGxioqK5Obmdlu1labMs3fgwAFNnDhRSUlJqlq1qurVqydJCgwM1L59%2B7Rx40YVFRUpPT1dkydPtrn%2Bbd%2B%2Bffr0009VXFysnTt3aseOHRo%2BfLhycnJUXFxsjUSTk5OtE1Fg4BWnT58%2BysnJ0cqVK1VQUKCLFy/q6aef1vTp021SvusJCwvT22%2B/rRMnTqigoEDLli1Tenq6dX/VqlV16dKl264PAABUDC1atFBgYKAWLlyo7OxspaSk6M0339SIESNKHX/kyBH99ttv6tixo812Dw8P/etf/9LixYt16dIl5eTkaP78%2BWratKnNqqpRZW78%2BvfvrwkTJujJJ5%2BUv7%2B/oqKi9Nxzz6lz585auXKl4uLi1K1bNw0bNkytWrWyafzuvfde7dixQ126dNGiRYv0yiuvKCAgQK1atdLs2bM1a9YsBQYGKioqSsOHD5erq6t%2B%2Bumn235SHh4eWrVqleLj49WrVy%2BFhoaqUqVKNp%2B9dyNjx45VSEiIRo0apd69e%2BvChQtq2LChXF1dJUkDBw7U3r171bt379uuEQAA3Ia78HP8li5dqqKiIvXt21cjR45Uz549FR4eLunypXJXPgFEklJSUlS7dm1Vq1btmvO8%2BeabKikpUWhoqHr27KmMjAytWLHC2n/Yg4vF6AV1NxEdHa2EhAStXr26PB/Grvbv368mTZpYI1uLxaIuXbrotddeU/fu3e9cIWVIJ00lIEDau1fq2LFCLfWeOlmu/wvdcVWrSo0aSampFWup957eFexdle3aXX7DyuDBLPXezdq2vXw9XFhYxVrq3b/fcY/dv7/9z7ltm/3PeZe6%2Bz4F8S6wadMmzZ49W5cuXVJRUZHeeecdSZK/v7%2BDKwMAALh9pvikrszMTIWGht5wTKIdE6Rp06bpxRdfVL9%2B/VRQUKB27dopNjb2uu/OAQAAd8hd%2BM0dZlLujV9ZPgPnZurVq2fXxu5mPDw89PLLL9%2BxxwMAALgTTJH4AQAASCLxM4jGDwAAmAeNnyHMHgAAgJMg8QMAAOZB4mcIswcAAOAkSPwAAIB5kPgZQuMHAADMg8bPEGYPAADASZD4AQAA8yDxM4TZAwAAcBIkfgAAwDxI/Ayh8QMAAOZB42cIswcAAOAkSPwAAIB5kPgZwuwBAAA4CRI/AABgHiR%2BhtD4AQAA86DxM4TZAwAAcBIkfgAAwDxI/Axh9gAAAJwEiR8AADAPEj9DaPwAAIB50PgZwuwBAAA4CRI/AABgHiR%2BhjB7AAAAToLEDwAAmAeJnyE0fgAAwDxo/Axh9gAAAJwEiR8AADAPEj9DmD0AAAAnQeIHAADMg8TPEBo/AABgHjR%2BhjB7AAAAToLEDwAAmAeJnyE0fgAAwDxo/Axh9gAAAJwEiR8AADAPEj9DmD0AAAAnQeIHAADMg8TPEBo/AABgHjR%2BhjB7AAAABmRmZio8PFxBQUEKDg7WggULVFRUVOrYiRMn6v7771dAQID19vXXX0uSiouLtXjxYnXr1k0BAQF68sknlZ6ebtdaafwAAIB5VKpk/5tB06ZNU/Xq1bVr1y6tW7dOu3fv1qpVq0od%2B%2BOPPyo2NlaJiYnWW69evSRJb731lr799lt9/PHH2rVrl9zc3PSXv/zFcH1Xo/EDAAC4TadOnVJCQoJmzZold3d3NWvWTOHh4frggw%2BuGZuSkqJff/1V9913X6nn%2BuijjzRp0iQ1atRIHh4emjNnjr7%2B%2BmulpKTYrV6u8QMAAOZRDtf4paenKyMjw2abt7e36tevf9Njjx49Kk9PTzVo0MC6zcfHR2fPntXFixdVq1Yt6/YDBw6oRo0amj59ug4cOCAvLy%2BNGzdOI0aM0KVLl/TLL7/I19fXOt7Ly0u1a9fWkSNH1KxZMzs8Uxq/u9qpkxZHl2BXVatKjSSlbtmrggJHV2M/97RwcXQJ9hUQIO3dq0aDOkqJiY6uxm6il1as/5%2B8vaVRktY8slm/e70yNU9PR1dgX3XrSoMkbXk0TllZjq7GfsY48sHLofGLi4tTTEyMzbapU6cqIiLipsfm5OTI3d3dZtuV%2B7m5uTaNX0FBgfz9/TV9%2BnS1adNG8fHxioiIUI0aNRQQECBJql69us253NzclJOTc1vPqzQ0fgAAwKmFhYUpJCTEZpu3t3eZjq1evbry8vJstl25X6NGDZvtDz74oB588EHr/R49eujBBx/U//t//0/dunWzOfaK/Pz8a85jBI0fAAAwj3JI/OrXr1%2BmZd3StGnTRhcuXNC5c%2Bfk5eUlSTp27JgaNmyomjVr2oxdt26datSooQEDBli3FRQUqFq1aqpdu7YaNGig5ORk63JvRkaGLly4YLP8axRv7gAAALhNLVq0UGBgoBYuXKjs7GylpKTozTff1IgRI64Zm52drfnz5%2BvQoUMqKSnRV199pc2bNyssLEyS9NBDD%2Bmtt95SSkqKsrOztXDhQnXu3FnNmze3W70kfgAAwDzuwg9wXrp0qV588UX17dtXlSpV0oMPPqjw8HBJUkBAgF544QUNHTpUY8eOVW5urqZOnarMzEw1a9ZMixcvVlBQkCRpypQpKioq0sMPP6ycnBwFBwfr73//u11rpfEDAADmcRc2fl5eXlq6dGmp%2BxKvepOci4uLwsPDrU3h77m6umrmzJmaOXNmudQpsdQLAADgNEj8AACAedyFiZ%2BZMHsAAABOgsQPAACYB4mfITR%2BAADAPGj8DGH2AAAAnASJHwAAMA8SP0OYPQAAACdB4gcAAMyDxM8QGj8AAGAeNH6GMHsAAABOgsQPAACYB4mfIcweAACAkyDxAwAA5kHiZwiNHwAAMA8aP0OYPQAAACdB4gcAAMyDxM8QZg8AAMBJkPgBAADzIPEzhMYPAACYB42fIcweAACAkyDxAwAA5kHiZwizBwAA4CRI/AAAgHmQ%2BBlC4wcAAMyDxs8QZg8AAMBJkPgBAADzIPEzhNkDAABwEiR%2BAADAPEj8DKHxAwAA5kHjZwizBwAA4CRI/AAAgHmQ%2BBlC4wcAAMyDxs8QZg8AAMBJkPgBAADzIPEzhNkDAABwEiR%2BAADAPEj8DKHxAwAA5kHjZwizBwAA4CRI/AAAgHmQ%2BBnC7AEAADgJEj8AAGAeJH6G0PjdpvT0dHl4eKh69eqOLgUAAOdB42eIKWfv9OnT8vPz0%2BnTp%2B12zj179iggIOC6%2B6OjozVmzBhJ0rlz59S/f39lZWVdsw8AADiXzMxMhYeHKygoSMHBwVqwYIGKiopKHfvhhx%2Bqf//%2BCggIUP/%2B/fXBBx9Y95WUlCggIED%2B/v4KCAiw3nJzc%2B1WK4nffwQFBSkxMbFMY/Pz8%2B36lwAAAMroLkz8pk2bpgYNGmjXrl06d%2B6cnnzySa1atUoTJ060Gff555/rtdde04oVK/TAAw9o3759evzxx%2BXl5aX%2B/fsrOTlZhYWF2rt3r6pWrVoutdpl9qKjo/WHP/xBnTt31vDhw7Vjxw5J0sGDBzVmzBh16tRJ//Vf/6VVq1bJYrFYjwkPD1dERIT8/f0VEhKiuLg46zmPHTumJ554Qr1791aHDh00cOBAffnll7dUV0lJibp166bPP//cui0kJETTpk2z3l%2B8eLFmz56t%2BEd0bbkAACAASURBVPh4%2Bfn5Wbfv3btXw4cPl7%2B/v0aNGmVNF4uLizV48GBJ0uDBg7V161ZJUk5Ojv7yl7%2BoR48eCg4O1uuvv35LtQIAAPM5deqUEhISNGvWLLm7u6tZs2YKDw%2B3SfKuSEtL06RJk%2BTv7y8XFxcFBAQoODhY33//vSTpwIED8vPzK7emT7JD4vfdd98pLi5O69evl7e3t%2BLi4jRnzhy1bdtWY8eO1fTp0/X222/r1KlTCg8Pl5ubm0aNGiVJ2rFjh5555hm99tprio%2BP1%2BTJk9W8eXN17dpVERER6tu3r2JiYmSxWLRkyRLNmzdPffr0KXNtlSpVUkhIiL7%2B%2BmuFhobq%2BPHjyszM1O7du2WxWOTi4qIvvvhCs2bNsjnu/PnzeuKJJzRp0iSNHz9e//73v/X444/rvvvuU%2BXKlbV582b17dtXmzdvVtOmTRUdHa1Dhw5p7Nixmj9/vuLj4zVu3Dj17t37hsvHV0tPT1dGRobNtuJib3l71y/z873bVali%2B7PCKOPfsWm0bWv7s4Lw9nZ0BfZVp47tz4qiZk1HV2BftWrZ/oQdlEPiV9prsLe3t%2BrXv/lr8NGjR%2BXp6akGDRpYt/n4%2BOjs2bO6ePGial31l//www/bHJuZmanvv/9ezz77rKTLjd9vv/2m4cOH68yZM/Lx8dGMGTPUsWNHI0/PhuGX4GrVqunXX3/V2rVr1adPH/3pT39SWFiYVq5cKR8fH%2BuTbN26tR577DG9//771sbPz89P48ePlyT16NFD/fv316effqquXbtq%2BfLlatCggSwWi86cOaNatWopLS3tlusLDQ3VvHnzJEnffPONBg4cqM8//1yHDh2Sm5ub0tPT1aNHD%2B3fv996zFdffSV3d3dNmjRJLi4uCgwM1PDhw3X48OHrPk6bNm00bNgwSVKXLl3k5eWln3/%2BucyNX1xcnGJiYmy2TZkyVZGREbf4jO9%2BFe0FWHv3OrqC8vGPfzi6Arsa5egCykn//o6uAGXRs6ejK6hAyqHxK%2B01eOrUqYqIuPlrcE5Ojtzd3W22Xbmfm5tr0/hdLSMjQ0888YTat29vXUl0c3NThw4dFBUVpdq1a%2BuDDz7QY489po0bN6pZs2a389SuYbjxCwgIUHR0tFavXq2VK1fKzc1NY8aMUUZGhg4ePKigoCDr2JKSElWuXNl6v0WLFjbnatSokbW5SkpKUnh4uDIyMuTj46O6detal4lvRbdu3XTx4kUdPXpUu3bt0h//%2BEddvHhR//rXv2SxWNSzZ0%2B5ubnZHJOWlqZGjRrJxcXFuq158%2BY3bPw8PT1t7letWlXFxcVlrjMsLEwhISE224qLvZWaWuZT3PWqVLnc9GVkSNe55tWUGg2y329id4W2bS83faNHS0lJjq7GbtbMrlgNep06l5u%2Bbduk8%2BcdXY39VMTEr2dPadcu6eJFR1djP4MGOboC%2ByrtNdi7jClF9erVlZeXZ7Ptyv0aNWqUesy%2BffsUFRWloKAg/e1vf1OV/yyFPfPMMzbjHnvsMa1fv147d%2B7UI488UqZ6bsZw43f27FnVq1dPsbGxKigo0O7duzV16lSFh4crODhYsbGx1rHnz59XTk6O9f7vE7zTp0%2BrUaNGSktLU1RUlGJiYqx/Edu2bdP27dtvub6qVauqZ8%2Be2rFjh3744QctXrxYv/76q/75z38qLy/vmthVkho2bKgzZ86opKRElf7zm8Uvv/xyy499K%2BrXr39NpHzqlFRQUK4P6xBFRRXseZXxTUGmk5RUoZ7b71ZxKozz5yvWcyssdHQF5ePiRek/HwQBo8oh8SvtNbis2rRpowsXLujcuXPy8vKSdPl9Cg0bNlTNUn6TWbdunV566SVFRkZqwoQJNvtef/119e/fX/fdd591W0FBgapVq3ZbtZXG8OwdOHBAEydOVFJSkqpWrap69epJkgIDA7Vv3z5t3LhRRUVFSk9P1%2BTJk7Vo0SLrsfv27dOnn36q4uJi7dy5Uzt27NDw4cOVk5Oj4uJia1SanJysZcuWSbo8AbeqX79%2BWrVqlVq0aKG6deuqR48e2rNnjw4dOqTevXtfMz4kJEQWi0XR0dEqKCjQjz/%2BqI8%2B%2Bsi6/8pfQHZ29i3XAgAAKo4WLVooMDBQCxcuVHZ2tlJSUvTmm29qxIgR14zdtm2b5s2bp%2Bjo6GuaPkn66aeftGDBAmVkZKigoEAxMTHKzs5Wv3797Fav4cavf//%2BmjBhgp588kn5%2B/srKipKzz33nDp37qyVK1cqLi5O3bp107Bhw9SqVSubxu/ee%2B/Vjh071KVLFy1atEivvPKKAgIC1KpVK82ePVuzZs1SYGCgoqKiNHz4cLm6uuqnn3665Rp79%2B6t7Oxs9ejRQ5LUrFkzNWzYUMHBwfLw8LhmfK1atRQbG6vdu3erc%2BfOmjNnjvpfdSGNl5eX%2BvXrp7CwMH344Ye3MWsAAOC2VKpk/5tBS5cuVVFRkfr27auRI0eqZ8%2BeCg8Pl3T5kriNGzdKkmJiYlRcXKzIyEibz%2Bn761//Kkn629/%2BpubNm2vYsGEKDg5WQkKC3nnnnWsuJzPCxXI7F87ZQXR0tBISErR69WpHPLwpnDrl6Arsq2pVqVEjKTW1Yi313tPC5eaDzCQg4PIbVjp2rFBLvdFLHfJPXbnx9pZGjZLWrKlYS712fH27K9Ste/l6uC1bKtZSr0O/s2D3bvufs2tX%2B5/zLnX3fQoiAAAAyoWpP1EtMzNToaGhNxxT1m/jAAAAJnAXfnOHmTis8SvLZ%2BPcTL169WjsAAAAysjUiR8AAHAyJH6G0PgBAADzoPEzhNkDAABwEiR%2BAADAPEj8DGH2AAAAnASJHwAAMA8SP0No/AAAgHnQ%2BBnC7AEAADgJEj8AAGAeJH6GMHsAAABOgsQPAACYB4mfITR%2BAADAPGj8DGH2AAAAnASJHwAAMA8SP0OYPQAAACdB4gcAAMyDxM8QGj8AAGAeNH6GMHsAAABOgsQPAACYB4mfITR%2BAADAPGj8DGH2AAAAnASJHwAAMA8SP0OYPQAAACdB4gcAAMyDxM8QGj8AAGAeNH6GMHsAAABOgsQPAACYB4mfIcweAACAkyDxAwAA5kHiZwiNHwAAMA8aP0OYPQAAACdB4gcAAMyDxM8QZg8AAMBJkPgBAADzIPEzhMYPAACYB42fIcweAACAkyDxAwAA5kHiZwizBwAA4CRI/AAAgHmQ%2BBlC4wcAAMyDxs8QZg8AAMCAzMxMhYeHKygoSMHBwVqwYIGKiopKHbtz504NGTJE/v7%2BGjBggL788kub/StWrFCvXr3k7%2B%2BvMWPG6Pjx43atlcYPAACYR6VK9r8ZNG3aNFWvXl27du3SunXrtHv3bq1ateqacSdPnlRERISioqK0Z88eRUREaNq0aUpLS5MkbdiwQatXr1ZsbKzi4%2BPVrl07RUZGymKxGK7xCho/AACA23Tq1CklJCRo1qxZcnd3V7NmzRQeHq4PPvjgmrEbNmxQUFCQQkNDVaVKFQ0cOFCdOnVSXFycJGnt2rUaPXq02rRpo2rVqmnGjBk6e/as4uPj7VYv1/gBAADzKIdr/NLT05WRkWGzzdvbW/Xr17/psUePHpWnp6caNGhg3ebj46OzZ8/q4sWLqlWrlnV7cnKyfH19bY5v3bq1kpKSrPsnTZpk3efq6qoWLVooKSlJXbp0ua3n9ns0fnexe3q3dHQJ9tWunbR5sxpNGiwdPOjoauwmeqn9Ivi7gbe3NErSmtl79bt/B00tItLF0SXYV0CANGqvRr3cUUpMdHQ19uPm5ugK7MvfXxq0W4Ne6irt2%2BfoauxnTJ7DHtoi%2B/%2B/HBcXp5iYGJttU6dOVURExE2PzcnJkbu7u822K/dzc3NtGr/Sxrq5uSk3N7dM%2B%2B2Bxg8AADi1sLAwhYSE2Gzz9vYu07HVq1dXXp5tI3zlfo0aNWy2u7u7Kz8/32Zbfn6%2BddzN9tsDjR8AADCNkhL7n7N%2B/fplWtYtTZs2bXThwgWdO3dOXl5ekqRjx46pYcOGqlmzps1YX19fHfzdildycrLat29vPdfRo0fVp08fSVJhYaFOnjx5zfKwEby5AwAA4Da1aNFCgYGBWrhwobKzs5WSkqI333xTI0aMuGbs0KFDlZCQoK1bt6qoqEhbt25VQkKChg0bJkkaPny43n//fSUlJem3337Tq6%2B%2BKi8vLwUFBdmtXho/AABgGiUl9r8ZtXTpUhUVFalv374aOXKkevbsqfDwcElSQECANm7cKOnymz6WLVum5cuXq1OnTnrzzTcVHR2tli0vX9M/YsQIjRs3TlOmTFGXLl106NAhLV%2B%2BXK6ursaL/A%2BWegEAgGmUx1KvUV5eXlq6dGmp%2BxJ/9%2Barnj17qmfPnqWOdXFx0YQJEzRhwgS713gFiR8AAICTIPEDAACmcTcmfmZC4gcAAOAkSPwAAIBpkPgZQ%2BMHAABMg8bPGJZ6AQAAnASJHwAAMA0SP2NI/AAAAJwEiR8AADANEj9jaPwAAIBp0PgZw1IvAACAkyDxAwAApkHiZwyNHwAAMA0aP2NY6gUAAHASJH4AAMA0SPyMIfEDAABwEiR%2BAADANEj8jKHxAwAApkHjZwxLvQAAAE6CxA8AAJgGiZ8xJH4AAABOgsQPAACYBomfMTR%2BAADANGj8jGGpFwAAwEmQ%2BAEAANMg8TOGxA8AAMBJkPgBAADTIPEzhsYPAACYBo2fMSz1AgAAOAkSPwAAYBokfsaQ%2BAEAADgJEj8AAGAaJH7G0PgBAADToPEzhqVeAAAAJ0HiBwAATIPEzxgSPwAAACdB4gcAAEyDxM8YGj8AAGAaNH7GsNQLAADgJEj8AACAaZD4GUPiBwAA4CRI/AAAgGmQ%2BBnjsMTv5MmTjnpouzl16pSjSwAAwKmUlNj/5kwc0vh98MEHev7558s09vTp0/Lz89Pp06dvOjY%2BPl5%2Bfn5GyyuTxYsX66233rLe9/PzU3x8/B15bAAAYA65ubl69tlnFRwcrMDAQM2ePVs5OTnXHb9t2zYNGzZMHTt2VEhIiGJiYlRyVXc6YMAAPfDAAwoICLDejh07VuZ6HLLUm5WV5YiHtavz5887ugQAAJyO2RK6%2BfPnKzU1Vdu2bVNxcbGmTZumJUuWaO7cudeM/fHHHzV79mz9/e9/1x/%2B8AedOHFCkyZNUvXq1TVhwgRlZ2frxIkT2rFjh5o0aXJb9dx24ncliVu9erW6d%2B%2BuwMBAzZo1S9nZ2ZKkLVu2aMiQIQoMDNRDDz2kb775RpK0YcMGLV%2B%2BXHv27FFQUJAk6dixY3riiSfUu3dvdejQQQMHDtSXX355u6VZ/fzzz5o8ebKCg4PVp08fvf766yooKJAkrV%2B/Xn/%2B85/10ksvqUuXLuratavmzJmjwsJCSVJxcbH%2B/ve/q3v37urWrZvmzp2rUaNGaf369Vq2bJk2bdqkTZs2aejQodbH%2B/bbbzVs2DAFBARoxIgR%2Bumnnww/BwAAYE55eXnatGmTIiMj5enpqXr16mnmzJlav3698vLyrhl/5swZjRo1Sn369FGlSpXk4%2BOjfv366fvvv5d0uTH09PS87aZPskPit337dm3atEnFxcWaMmWKXnjhBQ0ePFhz587VW2%2B9pY4dO%2Brrr79WRESE1q5dqz/%2B8Y86ffq0EhIStHr1aklSRESE%2Bvbtq5iYGFksFi1ZskTz5s1Tnz59bruu3NxcjRs3ToMGDdIbb7yhrKwsRUZGqqSkRDNmzJAk7d27V7169dKuXbt0%2BPBhjR07Vt26ddOgQYMUGxurjRs36t1331Xz5s0VHR2txMREjRw5UlOmTFFKSookadGiRdbHTEhIUGxsrDw8PBQREaHFixcrNja2TPWmp6crIyPDZpt348aqX6fObc/BXcfHx/ZnBeHt7egK7OvKf3IV6T89SVJAgKMrsK%2B2bW1/VhTVqjm6Avvy9bX9CcPKI/Er9TXY21v169e/6bH5%2BflKS0srdV9eXp4KCwvle9Xfv4%2BPj/Lz83Xy5Ende%2B%2B9NuP79%2B%2Bv/v3725z7q6%2B%2B0pAhQyRJBw4ckLu7ux555BEdPXpUTZo0UURExC31S4Ybv2effVZ169aVJEVGRurJJ5/U%2BfPn9ec//1mdOnWSJPXp00chISFas2ZNqdf2LV%2B%2BXA0aNJDFYtGZM2dUq1at605iWX311VcqKCjQU089JRcXFzVq1EhRUVGKjIy0Nn5ubm6aPHmyXFxc1KFDB/n5%2BenEiROSpHXr1unxxx9X69atJUnTpk3Thg0bbviY48ePl5eXlyQpNDRUK1euLHO9cXFxiomJsdk2NTxcEVFRZT6HabzxhqMrsKtRji6gnFz1b0/FMGqvoysoH//4h6MrQFm8%2B66jK6gwyqPxK/U1eOpURURE3PTY/fv369FHHy11X9R/XsOrV69u3ebu7i5JN7zOT5Kys7MVFRUlNzc3jRs3TpLk4uKi%2B%2B%2B/X0899ZQaN26szz77TBEREXr//ffl7%2B9/01olOzR%2B99xzj/XPjRo1UkFBgY4fP67vv/9eH374oXVfcXGxunTpUuo5kpKSFB4eroyMDPn4%2BKhu3bqyWCyG6jpz5oyysrKszackWSwWFRYWKjMzU5JUr149ubi4WPe7urpaHzc1NdUmSq1cubIaN258w8f09PS0OVdxcXGZ6w0LC1NISIjNNu/HH5f%2B%2Bc8yn%2BOu5%2BNzuemLipJu4ULUu92aRzY7ugS7qlPnctO3bZtUkS5lHfVyR0eXYF9t215u%2BkaPlpKSHF2N/VTExO/dd6WxY6WKdPnP7t2OrsCuSn0NLuNyTnBwsI4cOVLqvkOHDumNN95QXl6eatSoIUnWJV4PD4/rnvP48eOKjIxUvXr19N5771nHTpw40Wbc0KFDtXnzZm3btu3ONX5paWlq1aqVpMvX/bm7u6tJkyYaNWqUHn/8ceu4s2fPys3NrdTjo6KiFBMTY530bdu2afv27YbqatiwoZo3b67PPvvMui07O1uZmZnWhPJGGjdurLNnz1rvWywWpaamGqrpRurXr39tpHz27OVbRXPsmHTwoKOrsJvfrQ5UGOfPV7Dnlpjo6ArKR1JSxXpupbxOVAg//STt2%2BfoKiqE8kj8Sn0NtoOWLVvK1dVVycnJeuCBByRdfl%2BDq6urWrRoUeoxO3fu1FNPPaWRI0dqxowZqlLl/1q12NhY3Xffferatat1W0FBgardwi9Mhj/O5dVXX1V2drbS0tK0dOlSDRs2TA8//LDee%2B89/fvf/5Z0eU36oYce0ubNl5ORatWqKTs7WxaLRTk5OSouLrZGn8nJyVq2bJn1ydyuPn36KCcnRytXrlRBQYEuXryop59%2BWtOnT7dJ%2Ba4nLCxMb7/9tk6cOKGCggItW7ZM6enp1v1Vq1bVpUuXbrs%2BAABQsbm7u2vAgAFasmSJsrKylJWVpSVLlmjw4MGlhmH79u3TlClT9Oyzz%2Brpp5%2B2afqky6uRL7zwglJSUlRUVKR169YpMTFRf/zjH8tck%2BHEr3nz5ho8eLDy8vI0ZMgQzZo1S9WqVVNubq6ee%2B45nT17Vp6enho3bpzGjBkj6XJT9uGHHyowMFBfffWVZs%2BerVmzZikvL08NGzbUyJEj9corr%2Binn36yWT69FR4eHlq1apUWLVqklStXqqSkRMHBwTafvXcjY8eOVUZGhkaNGqXKlStr4MCBatiwoVxdXSVJAwcO1PTp09W7d2999dVXt1UjAAC4NWb7OJe5c%2Bdq8eLFGjJkiAoLC9W3b1%2Bb9zsMGjRIQ4YM0eTJk/U///M/Kioq0oIFC7RgwQLrmMDAQK1cuVKzZ89WpUqVNHr0aF26dEmtW7fW//7v/9pcdnczLpbbvJju9OnT6tu3r3bs2KGmTZvezinuavv371eTJk2sb9awWCzq0qWLXnvtNXXv3v3OFNGy5Z15nDulXTtp82Zp8OAKtdQb/dQJR5dgV97e0qhR0po1FWupNyLy5km/qQQESHv3Sh07stR7N/P3v3w9XNeuFWupt5SPIrlTtm2z/zkr3JvZbsBhX9l2t9u0aZNmz56tS5cuqaioSO%2B8844klfniSQAAgLuNQ76543ZkZmYqNDT0hmMS7fhb77Rp0/Tiiy%2BqX79%2BKigoULt27RQbG2t9Vw4AALjzzLbUe7e57cavadOm1337cnmoV6%2BeXRu7m/Hw8NDLL798xx4PAADcHI2fMSz1AgAAOAnTLPUCAACQ%2BBlD4gcAAOAkSPwAAIBpkPgZQ%2BMHAABMg8bPGJZ6AQAAnASJHwAAMA0SP2NI/AAAAJwEiR8AADANEj9jaPwAAIBp0PgZw1IvAACAkyDxAwAApkHiZwyJHwAAgJMg8QMAAKZB4mcMjR8AADANGj9jWOoFAABwEiR%2BAADANEj8jCHxAwAAcBIkfgAAwDRI/Iyh8QMAAKZB42cMS70AAABOgsQPAACYBomfMSR%2BAAAAToLEDwAAmAaJnzE0fgAAwDRo/IxhqRcAAMBJkPgBAADTIPEzhsQPAADASZD4AQAA0yDxM4bGDwAAmAaNnzEs9QIAADgJEj8AAGAaJH7GkPgBAAA4CRI/AABgGiR%2BxtD4AQAA06DxM4alXgAAACdB4gcAAEyDxM8YEj8AAAAnQeIHAABMg8TPGBI/AABgGiUl9r%2BVp9zcXD377LMKDg5WYGCgZs%2BerZycnOuOnzt3rtq3b6%2BAgADrLS4uzrp/xYoV6tWrl/z9/TVmzBgdP378luqh8QMAACgn8%2BfPV2pqqrZt26bt27crNTVVS5Ysue74AwcOaP78%2BUpMTLTewsLCJEkbNmzQ6tWrFRsbq/j4eLVr106RkZGyWCxlrofGDwAAmIaZEr%2B8vDxt2rRJkZGR8vT0VL169TRz5kytX79eeXl514wvKCjQTz/9pPbt25d6vrVr12r06NFq06aNqlWrphkzZujs2bOKj48vc01c4wcAAHCb8vPzlZaWVuq%2BvLw8FRYWytfX17rNx8dH%2Bfn5OnnypO69916b8UlJSSoqKtLSpUv1ww8/qGbNmho%2BfLgmTpyoSpUqKTk5WZMmTbKOd3V1VYsWLZSUlKQuXbqUqV4aPwAAYBrlkdClp6crIyPDZpu3t7fq169/02P379%2BvRx99tNR9UVFRkqTq1atbt7m7u0tSqdf5Xbp0SZ07d9aYMWP02muv6fDhw5oyZYoqVaqkiRMnKicnx3r8FW5ubsrNzb1pnVfQ%2BN3NatVydAX2VaPG//2sQM/N09PRFdhXzZr/97Ow0LG12JWbm6MrsK9q1f7vZ0V6bvn5jq7Avn777f9%2BVrTn5iDl0fjFxcUpJibGZtvUqVMVERFx02ODg4N15MiRUvcdOnRIb7zxhvLy8lTjP6%2BBV5Z4PTw8rhnfvXt3de/e3Xq/Q4cOGjt2rLZu3aqJEyfK3d1d%2Bb/77yg/P9967rKg8QMAAE4tLCxMISEhNtu8vb0Nn7dly5ZydXVVcnKyHnjgAUnSsWPHrEu0v/f555/r3LlzGjVqlHVbQUGB3P7zy12bNm109OhR9enTR5JUWFiokydP2iwl3wxv7gAAAKZRHm/uqF%2B/vtq1a2dzK8sy7824u7trwIABWrJkibKyspSVlaUlS5Zo8ODB1mbuahaLRX/729%2B0e/duWSwWJSYm6r333rO%2Bq3f48OF6//33lZSUpN9%2B%2B02vvvqqvLy8FBQUVOaaSPwAAIBpmO0DnOfOnavFixdryJAhKiwsVN%2B%2BffX8889b9w8aNEhDhgzR5MmT1a9fPz377LOaN2%2Be0tLS5OXlpYiICA0bNkySNGLECF26dElTpkxRVlaW7r//fi1fvlyurq5lrofGDwAAoJx4eHho/vz5mj9/fqn7t2zZYnN/1KhRNku9V3NxcdGECRM0YcKE266Hxg8AAJiG2RK/uw3X%2BAEAADgJEj8AAGAaJH7G0PgBAADToPEzhqVeAAAAJ0HiBwAATIPEzxgSPwAAACdB4gcAAEyDxM8YGj8AAGAaNH7GsNQLAADgJEj8AACAaZD4GUPiBwAA4CRI/AAAgGmQ%2BBlD4wcAAEyDxs8YlnoBAACcBIkfAAAwDRI/Y0j8AAAAnASJHwAAMA0SP2No/AAAgGnQ%2BBnDUi8AAICTIPEDAACmQeJnDIkfAACAkyDxAwAApkHiZwyNHwAAMA0aP2NY6gUAAHASJH4AAMA0SPyMIfEDAABwEiR%2BAADANEj8jKHxAwAApkHjZwxLvQAAAE6CxA8AAJgGiZ8xJH4AAABOgsQPAACYBomfMTR%2BAADANGj8jGGpFwAAwEmQ%2BAEAANMg8TOGxA8AAMBJkPgBAADTIPEzhsYPAACYBo2fMSz1AgAAOAkSPwAAYBokfsbQ%2BAEAANOg8TOGpV4AAAAncVclfidPnlSLFi0cXUaZpKeny8PDQ9WrV3d0KQAAOA2zJX65ubmaP3%2B%2BvvjiCxUVFalv376aO3euatSocc3Yv/71r9q0aZPNtvz8fHXr1k2xsbEqKSlRYGCgLBaLXFxcrGO%2B/fbbMvcjd03i98EHH%2Bj5558v09jTp0/Lz89Pp0%2Bfttvj79mzRwEBAdfdHx0drTFjxkiSzp07p/79%2BysrK%2BuafQAAAFfMnz9fqamp2rZtm7Zv367U1FQtWbKk1LEvvviiEhMTrbfo6GjVqlVLzzzzjCQpOTlZhYWFSkhIsBl3KyHUXdP4XWmiHCUoKEiJiYllGpufn6/c3NxyrggAAPxeSYn9b%2BUlLy9PmzZtUmRkpDw9PVWvXj3NnDlT69evV15e3g2PzcrK0syZMzVnzhy1adNGknTgwAH5%2BfmpatWqt12TXRu/K0nc6tWr1b17dwUGBmrWrFnKzs6WJG3ZskVDhgxRYGCgHnroIX3zzTeSpA0bNmj58uXas2ePgoKCJEnHjh3TE088od69e6tDhw4aOHCgvvzyy1uqp6SkRN26ddPnn39u3RYSEqJp06ZZ7y9evFizZ89WfHy8/Pz8rNv37t2r4cOHyrMkxQAAHQpJREFUy9/fX6NGjbKmi8XFxRo8eLAk6f%2B3d%2BdhVdb5/8df4IKMjguIIpiWpkKNo4aBC6YexcolcaUiU7PMzHWunzU6ljY2l86MZQYu2SJftTF1ykxxGhtALfdlRL3EBXPBKCDGyUBIhfP7QzlxEhAHjvd9c56P6%2BIy7vucw8uOb8/bz3Lf/fv31%2BbNmyVJubm5mjlzpsLDwxUWFqYFCxbc7v8%2BAABwC2Zr/PLz83Xu3LlSv65evarWrVs7Ht%2ByZUvl5%2Bfr7NmzZb7u/Pnz9Zvf/EaPPfaY49iRI0f0008/aciQIerUqZOio6N18ODB28rrkjV%2BW7Zs0caNG1VQUKAXX3xRr732mvr3769Zs2ZpyZIleuCBB7R9%2B3ZNnDhRa9eu1aBBg3ThwgXt3btXK1eulCRNnDhRvXr1UmxsrOx2u%2BbPn6/Zs2erZ8%2Be5c7h6ekpm82m7du3q3fv3vr666%2BVnZ2tXbt2OebHExMTNW3aNKfnXbx4Uc8//7yee%2B45jR49WocPH9bYsWN13333qVq1atq0aZN69eqlTZs2qWnTpoqJidGxY8c0cuRIzZkzR3v27NGoUaPUo0ePMqePi8vMzFRWVpbTMb/GjdWoQYNy/35N7557nH%2BtInx8jE5QuerWdf61ymjf3ugElavog6TYB0qV8NNPRieoXEFBzr/ClEr8DPbzU6NGjW753OTkZD399NMlnps8ebIkOU3Fent7S7o%2BYFSatLQ0ffbZZ1q3bp3T8Vq1aum3v/2tJk%2BerHr16unDDz/UmDFj9Nlnn%2Bmuu%2B66ZVbJRY3f9OnT5XPj03DSpEl64YUXdPHiRT3xxBN68MEHJUk9e/aUzWbTRx99VOLavnfeeUeNGzeW3W7XN998o7p16yojI%2BO2s/Tu3VuzZ8%2BWJH311Vfq27ev/vWvf%2BnYsWOqVauWMjMzFR4eruTkZMdztm7dKm9vbz333HPy8PBQSEiIhgwZopSUlFJ/TqtWrTRw4EBJUqdOndSwYUOdP3%2B%2B3I3fmjVrFBsb63RswvjxmnjjD02VMm%2Be0QkqVT%2BjA7hIt25GJ6hk/XYZncA1/u//jE6A8vjb34xOUGW4Ymq2xM/gCRM0ceLEWz43LCxMJ06cKPHcsWPHtHDhQuXl5Tk2cxRN8dapU6fU1/z444/VoUMHBQcHOx0vWutXZMyYMfrkk0%2B0bds2PfXUU7fMKrmo8WvevLnjv5s0aaIrV67o66%2B/1r59%2B7R69WrHuYKCAnXq1KnE1zh%2B/LjGjx%2BvrKwstWzZUj4%2BPrLb7bedpUuXLrp06ZJOnTqlL7/8UoMGDdKlS5e0c%2BdO2e12devWTbVq1XJ6TkZGhpo0aeK0Y6ZZs2ZlNn7169d3%2Br5mzZoqKCgod86oqCjZbDanY35Tp0o7d5b7NUzvnnuuN32//7105ozRaSpN/NNrjI5QqerWvd70ffmldOmS0WkqT7/XOxsdoXK1bn296Rs5Ujp50ug0lacqjvj97W/Sk09Kx48bnaby3Ob0otmV%2BBns51fh173nnntUo0YNpaamql27dpKuL2WrUaNGmVcx2bJli5555pmbji9YsEAPP/yw7rvvPsexK1euyMvLq9yZXNL4ZWRkqEWLFpKur/vz9vZWYGCgHn/8cY0dO9bxuPT09JuarqLnT548WbGxsY43omg3zO2qWbOmunXrpoSEBB04cEB//vOf9cMPP%2BiLL75QXl6eoqOjb3qOv7%2B/vvnmGxUWFsrT8/oyyO%2B%2B%2B%2B62f/btaNSo0c1DyhkZ17%2BqmjNnqtRfgAbvS3KZS5eq2O/t0CGjE7jGyZNV6/eWn290Atc4flwq5wZClM0VI34lfgZXAm9vbz366KOaP3%2B%2BFi5cKOn62r3%2B/fuX2P9I15ebnT592jFDWtzJkye1f/9%2BvfXWW6pXr56WLVumnJwcRURElDuTS3b1vvHGG8rJyVFGRobefvttDRw4UNHR0VqxYoUOHz4s6foCxcGDB2vTpk2SJC8vL%2BXk5Mhutys3N1cFBQWOefDU1FQtWrRI0vXO9nZFREQoLi5Od999t3x8fBQeHq79%2B/fr2LFj6tGjx02Pt9lsstvtiomJ0ZUrV3T06FGnefaizrpo0woAALgzzLa541ZmzZqlu%2B%2B%2BWwMGDNAjjzyipk2b6tVXX3Wc79evn5YuXer4vmgzaePGjW96rblz56pZs2YaOHCgwsLCtHfvXi1fvvymWceyuGTEr1mzZurfv7/y8vI0YMAATZs2TV5eXrp8%2BbJmzJih9PR01a9fX6NGjXJc/65nz55avXq1QkJCtHXrVr300kuaNm2a8vLy5O/vr%2BHDh%2Buvf/2rTp48eVu/QUnq0aOHfv/73ys8PFySdNddd8nf31933313iXPsdevW1fvvv6/Zs2dr%2BfLlat68uR5%2B%2BGGduTE92bBhQ0VERCgqKuqm%2BXYAAIAiderU0Zw5czRnzpwSz8fHxzt937Zt21LXDNavX19z586tUB4P%2B/%2BycK4UFy5cUK9evZSQkKCmTZtW1su6rxvrAaqMoCBpzRopKqpKTfWu/H/Jt36Qhfj4SP36SfHxVWuqd8RYb6MjVK727aVdu6TOnZnqNbMOHa6vh3vggao11Vt5rcNt6%2ByC5bq7qujer5KY5gLOAAAAcC1T3av3dmVnZ6t3795lPqa8d%2BMAAADmZ7V79ZpNpTZ%2BTZs2LXVe2hV8fX1p7AAAcCM0fhXDVC8AAICbsPRULwAAcC%2BM%2BFUMI34AAABughE/AABgGYz4VQyNHwAAsAwav4phqhcAAMBNMOIHAAAsgxG/imHEDwAAwE0w4gcAACyDEb%2BKofEDAACWQeNXMUz1AgAAuAlG/AAAgGUw4lcxjPgBAAC4CUb8AACAZTDiVzE0fgAAwDJo/CqGqV4AAAA3wYgfAACwDEb8KoYRPwAAADfBiB8AALAMRvwqhsYPAABYBo1fxTDVCwAA4CYY8QMAAJbBiF/FMOIHAADgJhjxAwAAlsGIX8XQ%2BAEAAMug8asYpnoBAADcBCN%2BAADAMhjxqxgaPwAAYBk0fhXDVC8AAICbYMQPAABYBiN%2BFcOIHwAAgJtgxA8AAFgGI34VQ%2BMHAAAsg8avYpjqBQAAcBOM%2BAEAAMtgxK9iGPEDAABwE4z4AQAAy2DEr2Jo/AAAgGXQ%2BFUMU70AAABugsYPAABYRmFh5X/dCXl5eYqKitInn3xS5uOSk5M1bNgwdejQQTabTevWrXM6v379ekVERKh9%2B/YaPHiw/v3vf99WDho/AAAAFzp16pSio6N16NChMh/3ww8/aOzYsYqMjNS%2Bffv0pz/9SXPnztXhw4clSXv27NGcOXM0b9487du3T4899pheeOEF5eXllTsLjR8AALAMq4347dq1SyNHjtSgQYMUEBBQ5mO3bNmi%2BvXrKzo6WtWrV1fnzp01YMAAffjhh5KkdevWqV%2B/fgoJCVGNGjU0atQoNWjQQJs3by53HjZ3AAAAyzDb5o78/HxlZGSUeM7Pz09BQUFKSkqSl5eXli9fXuZrnTp1Sq1bt3Y6du%2B99%2Brvf/%2B7JCk1NVVDhgy56fzx48fLnZfGDwAAuLXMzExlZWU5HfPz81OjRo1u%2Bdzk5GQ9/fTTJZ5btGiRevfuXe4cubm58vb2djpWq1YtXb58uVzny4PGz8ySk41OUKkyMzO1JiZGUTEx5SomqxhhdIBKlpmZqZiYNYqKiqpS75NGlH8NjBU46mnDhqr1PlUxjvfp8895nyqJ3V75rxkTs0axsbFOxyZMmKCJEyfe8rlhYWE6ceJEpeTw9vbWjz/%2B6HQsPz9ftWvXdpzPz8%2B/6XyDBg3K/TNo/HDHZGVlKTY2Vjabjb8ATYz3yRp4n6yB98kaoqKiZLPZnI75%2Bfnd8RytW7fWjh07nI6lpqaqVatWkqRWrVrp1KlTN51/6KGHyv0z2NwBAADcWqNGjXT//fc7fRnRqEdEROj7779XXFycrl69qt27d2vjxo2OdX1Dhw7Vxo0btXv3bl29elVxcXHKzs5WREREuX8GjR8AAIBB%2BvXrp6VLl0qSGjRooA8%2B%2BECff/65wsLCNHPmTM2cOVOdOnWSJHXu3FmzZs3S7NmzFRoaqvj4eL377ruqX79%2BuX8eU70AAAB3QGJi4k3H4uPjnb5v27atPvroo1JfY%2BDAgRo4cOD/nKHa7NmzZ//PzwZuU%2B3atRUaGupYqApz4n2yBt4na%2BB9gpl42O2u2B8DAAAAs2GNHwAAgJug8QMAAHATNH4AAABugsYPAADATdD4AQAAuAkaPwAAADdB4wcAAOAmaPwAAADcBI0fAACAm6DxAwAAcBPVjQ6Aqi01NVXz5s1TWlqarl275nQuISHBoFQoSXJyss6fP6%2BCggKn45GRkQYlwi9RT9ZBPcGsaPzgUtOnT1eDBg00ZswY1ahRw%2Bg4KMWCBQu0bNkyNWzY0Ol98vDw4IPKRKgna6CeYGY0fnCp1NRU7dmzRzVr1jQ6Csqwdu1axcXFKSwszOgoKAP1ZA3UE8yMNX5wqebNmysnJ8foGLiFatWq8SFlAdSTNVBPMLNqs2fPnm10CFQ9%2B/btU3p6ujw9PfXee%2B%2BpXr16ys7OVnp6uuMrMDDQ6Ji44cyZM7p8%2BbJat25tdBSUgHqyFuoJZuZht9vtRodA1RMUFFTmeQ8PD6WkpNyhNCjNiBEj5OHhodzcXKWkpOjee%2B9V/fr1nR6zYsUKg9KhCPVkDdQTrIA1fnCJ48ePGx0B5VB8Oqpnz54GJkFZqCdroJ5gBYz4waUiIyP16aef3nTcZrMpMTHRgEQoyT/%2B8Q89%2BuijNx1fs2aNoqKiDEiEklBP1kA9wcwY8UOlO3/%2BvJYsWSLp%2Bi7E6dOnO53PyclRfn6%2BEdFQTF5eni5evChJmjFjhtq3b6/i/w788ccfNW/ePD6oDEY9WQP1BKug8UOla9asmRo0aOD4S/CXfHx8tGDBgjucCr%2BUk5Ojfv36OZoGm83mOGe32%2BXh4aHevXsbFQ83UE/WQD3BKpjqhUstXrxY48ePNzoGSpGdna28vDwNGDBAmzZtcjrn5eWlhg0bGpQMJaGezI16ghXQ%2BMGlSlqPJEk1atSQj4%2BP2rdvL29v7zucCr9UWFgoT08u62l21JM1UE8wM6Z64VJr1qzRoUOH5Ovrq8DAQH377bfKysqSv7%2B/8vLy5OHhoQ8%2B%2BEDBwcFGR3VLRZefKAuXnzAP6sncqCdYARdwhksdPXpUXbp00TvvvKPhw4dr9OjRkqTAwECtWLFCnp6eWrVqlQYNGmRwUvdUdOFfu92uPXv26KGHHlJISIjq1Kmj7du368EHH%2BSyFCZCPZkb9QRLsAMu1LVrV/uVK1ecjl25csXetWtXu91ut1%2B9etUeEhJiRDQU88QTT9gPHDjgdOzIkSP2yMhIgxKhJNSTNVBPMDMWIcDl0tLSnL7/5ptvdO3aNUlSfn6%2BatSoYUQsFJOSkqJ27do5HWvTpo3Onj1rTCCUinoyP%2BoJZkbjB5caOnSoxo4dq3Xr1mnHjh1at26dxo0bp8GDBys7O1uTJ09W9%2B7djY7p9lq2bKm4uDinY0uXLr3lrcJwZ1FP1kA9wczY1QuXKiws1HvvvaePP/5Y3377rQICAhQVFaWRI0fq6NGj2rhxo6ZMmaLatWsbHdWtHTx4UOPGjdOvfvUr%2Bfv7Kz09XYWFhXr//ffVpk0bo%2BPhBurJGqgnmBmNHwBJ0sWLF7V161ZlZmbK399fNptNv/71r42OBVgS9QSzovGDSxUUFOif//ynzp49q8LCQqdzEyZMMCgVYE3UE4CK4jp%2BcKlZs2YpPj5eQUFBql795z9ut7rWFe6MBx54QAcPHlRQUFCp70lKSsodToXSUE/mRj3BCmj84FJJSUlasWKF2rZta3QUlGDZsmWSuKisVVBP5kY9wQpo/OBShYWFuu%2B%2B%2B4yOgVJ07NhRkvTJJ5%2BoT58%2BCg8PV82aNQ1OhdJQT%2BZGPcEKuHMHXCojI0MnTpxQSEiI0VFQhgMHDujDDz/UwoULlZKSosLCQgUEBPChZTLUkzVQTzAzNnfApZ588kkdPHhQ3t7e8vHxcTqXkJBgUCqU5uuvv1ZCQoKSkpKUkpKisLAwLV261OhYuIF6shbqCWbEVC9catiwYRo2bJjRMVBOP/30kzw8POTt7a3CwkKdOXPG6EgohnqyFuoJZsSIH%2B6Y//znPzeNUsAcfve732nXrl0qLCxUaGiounbtqvDwcDVt2tToaCgF9WRe1BPMjFu2waWuXbumBQsWKCQkRDabTWlpaRoyZIiysrKMjoZiDh06pLy8PPXq1Ut9%2B/bVI488woeUCVFP1kA9wcxo/OBSMTEx2r17txYuXKgaNWrI19dX/v7%2Bev31142OhmISExO1fv16BQcHa/369erdu7eGDh2qt956y%2BhoKIZ6sgbqCWbGVC9cymazafXq1WrcuLFCQ0O1d%2B9eXbp0SREREdqzZ4/R8VCC1NRUJSQkKC4uTrm5uTp8%2BLDRkXAD9WQ91BPMhs0dcKnLly871iEV/RujVq1a8vRksNlMEhIStH37dn355Ze6dOmSunXrppkzZ6p79%2B5GR0Mx1JM1UE8wMxo/uFT79u0VGxurqVOnOm5htHLlSu48YDKvvvqqbDabZs2apc6dO3O9MZOinqyBeoKZMdULl0pLS9PIkSN17do1ZWdnq3nz5srNzdXy5cvVokULo%2BPhBrvdfsv7vRbdhxTGoZ6sgXqCmTHiB5e66667FB8fr6SkJKWnp8vf3189evRQnTp1jI6GYm71ISX9PLUI41BP1kA9wcxo/OBy3t7e6tu3r9ExUEHl%2BTCD61FPVQP1BKPQ%2BMElgoKCbvkXW0pKyh1KA1gb9QSgstD4wSVWrFhhdASgyqCeAFQWGj%2B4RGhoaLkfyyJnoGzUE4DKwsWfYDgWOQOVh3oCUBYaPxiORc7WQENhDdSTNVBPMApTvYAbS09Pv%2BVjAgICJF2/GwGA0lFPsAIaP8CN2Wy2UkeIii5CW7RbtOhWYQBKRj3BCmj8ADfGqANQeagnWAGNH%2BDGAgMDSz137do1nTx5sszHAPgZ9QQroPGD4VjkbLytW7fqtddeU0ZGhtP7Ub16dR05csTAZLhd1JPxqCeYGY0fXIJFztYyf/589enTR3Xr1tWJEyfUv39/LVq0SEOHDjU6GkQ9WQ31BDPzsPPPQ7hAWbeY%2BuUiZxivXbt2OnDggC5cuKBXXnlFK1euVGpqqqZOnaqNGzcaHc/tUU/WQj3BzBjxg0sw6mAtPj4%2B8vT0VEBAgE6fPi1Juvfee/Xdd98ZnAwS9WQ11BPMjMYPLsEiZ2tp06aNFi5cqBdffFG%2Bvr7atm2batWqJS8vL6OjQdST1VBPMDOmeuFSLHK2htOnT2vSpElatmyZjh07pilTpqiwsFAvvfSSRo8ebXQ83EA9WUNp9TRt2jQ988wzRseDm6Pxg0v1799fXbt2LXGR84gRI4yOh1JkZmYqNzdX99xzj9FRUAz1ZE1F9eTn56c6deoYHQdujqleuFRaWpqmTZumCxcuaPfu3erTp49atGihqVOn8kFlMrt379aGDRuUlZWlgIAAdiCaEPVkDaGhodq7d6/j%2B0aNGkmSOnbsqP379xsVC5BE4wcXY5GzNaxdu1Zz5sxRnz59FBwcrAsXLmjEiBGaP3%2B%2BIiIijI6HG6gn8zp37pxeffVV2e125eTk6Omnn3Y6n5OTo7p16xqUDvgZjR9cikXO1rBs2TItXbpUXbt2dRzbtm2b/vKXv9D4mQj1ZF7NmzdXnz59dPHiRR08eFChoaFO52vWrCmbzWZQOuBnrPGDS7FpwBo6dOig/fv3q1q1ao5jhYWF6tSpk9OUFYzFpgFr%2BPTTTxUZGWl0DKBENH64o9g0YE6TJk1SSEiIRo4c6Ti2ceNGJSQk6K233jIwGcrCpgHzOn36tFavXq3vvvtOc%2BbMUXx8vJ566imjYwFM9cL12DRgfgUFBZo3b57Wr1%2Bv5s2bKyMjQ8nJyQoODnZaq7RixQoDU4JNA9awY8cOTZw4UT179tTOnTuVn5%2BvRYsW6fLlyxo7dqzR8eDmGPGDSxXfNBAQEKALFy4oMTGRTQMmExsbW67HTZgwwcVJ8EvFNw3s379fHTt2dDqfk5Oj//73v0pMTDQoIX5pyJAhmjRpkrp3764HH3xQ%2B/bt05EjRzRlyhTuwgLDMeIHl2LTgDXQ0JkXmwas59y5c3rooYckyXGP5bZt2%2BqHH34wMhYgicYPLpadna1OnTo5HevWrZumTZtmUCKUZu3atVq5cqUyMzO1fv16zZs3T3PnzlXt2rWNjub2oqOjJUlNmzZl04AFBAQE6ODBgwoJCXEcO3LkiJo0aWJgKuA6T6MDoGrr1q2bVq1a5XQsPj5eXbp0MSgRShIXF6f3339fI0aMUEFBgWrXrq2MjAzNnTvX6GgoJjIyUqdPn9brr7%2BuCRMm6OLFizfVF4z3/PPPa9y4cVqwYIGuXr2qd999V%2BPHj9eYMWOMjgawxg%2Bu9eKLLyoxMVFt2rS5adNA8V2IbBow1sMPP6zFixerZcuWjg0EmZmZGjRokHbs2GF0PNxQfNNAUlKS4uPjNXjwYI0ePZpNAyazbds2rVq1SmfOnFFgYKCio6PVp08fo2MBTPXCtYKDgxUcHOz4vlWrVgoPDzcwEUpy8eJFxyV2iv4t6Ovrq2vXrhkZC7/w5ptvasGCBY5NA02aNNGyZcs0ZcoUGj8Tyc3NVXx8vPbs2aMrV64oOztbLVu2VI8ePVSzZk2j48HN0fjBpdg0YA1BQUFas2aNnnjiCcdi9M2bN6tVq1YGJ0NxbBqwhtdee03nzp3TkiVL1KRJE6WlpSkmJkbz58/XjBkzjI4HN8caP7jc2rVrNWDAAIWFhSk9PV2TJk1Sbm6u0bFQzMsvv6w333xTjz/%2BuC5fvqznnntOf/zjH9mEYzJFmwaKY9OA%2BSQlJWnx4sXq2rWrWrRooe7du2vRokX67LPPjI4G0PjBtdg0YA3333%2B/NmzYoN69e2vYsGHq2LGjlixZonbt2hkdDcWwacAavLy8nG5/KEm1a9eWt7e3QYmAn9H4waVWr16txYsXa/jw4fL09FS9evUUExOjpKQko6OhmMTERA0dOlTPPvus/Pz8tGjRIo0ZM0Zr1641OhqK6devn%2BbPn69jx47J19dXX331lV555RUu8WIy48aN06RJk3T8%2BHHl5eXp7Nmzmj59uvr27av09HTHF2AE1vjBpdg0YA1LlizRlClTVFhYqFWrVik2NlY%2BPj6aOnWqhg8fbnQ83MCmAWt4/fXXJV2//I6Hh4eKXzzjgw8%2BkN1ul4eHh1JSUoyKCDdG4weXYtOANZw/f17Dhw/XsWPHlJeXpy5duqh69er6/vvvjY6GYtg0YA3clg1mRuMHl3r55Zc1atQobdiwwbFp4NChQ3rvvfeMjoZivL29lZ2drcTERIWEhKh69eo6fvy4GjRoYHQ0FJOUlKTPP/9cvr6%2BkqQWLVooKChIAwcOpPEzkcDAQKMjAKWi8YNLFW0a2Lx5s4KDg%2BXv76/nn3%2BeTQMmM2TIEEVGRurSpUt6%2B%2B23dfToUT377LN65plnjI6GYtg0AKCiuHMHXCoxMVEzZ87Uzp07tXjxYi1dulQeHh76wx/%2BwNoxk9mzZ4%2B8vLzUvn17ffvttzpy5Ah3GjCZVatWacuWLZoxY4bjTjhvvPGGmjVr5rifr3T9si8AUBIaP7jUsGHDNGzYMA0dOlTh4eGaN2%2BeY9PAF198YXQ8wFKCgoIc//3LTQNF37NpAEBZmOqFS7FpAKg8bBoAUFE0fnApNg0AlYdNAwAqisYPLsWmAQAAzIM1fnA5Ng0AAGAONH4AAABugnv1AgAAuAkaPwAAADdB4wcAAOAmaPwAAADcBI0fAACAm6DxAwAAcBM0fgAAAG6Cxg8AAMBN/H/OfF9%2B3%2BjLawAAAABJRU5ErkJggg%3D%3D\" class=\"center-img\">\n",
       "    <img src=\"data:image/png;base64,iVBORw0KGgoAAAANSUhEUgAAAn4AAAIzCAYAAACeFhTSAAAABHNCSVQICAgIfAhkiAAAAAlwSFlzAAAPYQAAD2EBqD%2BnaQAAADh0RVh0U29mdHdhcmUAbWF0cGxvdGxpYiB2ZXJzaW9uMy4xLjAsIGh0dHA6Ly9tYXRwbG90bGliLm9yZy%2B17YcXAAAgAElEQVR4nOzdeViVdf7/8RcqCIhLAu4yGgqWViAo5jaC%2BvXnXumIaeaSlqKAZlrWzLSYpmU1CdY4SmNpNZjLpOVko%2BNWY5CJjhsqrrgMIOTCogic3x/mGU%2Bioveh4815Pq7rXHTu7bzvD%2Bl5%2B/rc9zkuFovFIgAAAFR4lRxdAAAAAH4dNH4AAABOgsYPAADASdD4AQAAOAkaPwAAACdB4wcAAOAkaPwAAACcBI0fAACAk6DxAwAAcBJVHF0AgLtPamqqli1bpq1btyojI0OXLl1S7dq11bx5c3Xp0kUDBw6Uu7u7o8sEANwmF76yDcC15s6dqw8%2B%2BEAlJSXy8vKSn5%2BfXF1dlZWVpVOnTkmS6tevr3nz5qlly5YOrhYAcDto/ABYLV%2B%2BXC%2B%2B%2BKI8PT31xhtvqHv37qpcubJ1/aFDh/Tiiy9qx44duueee7RmzRrVrl3bgRUDAG4H1/gBsPrzn/8sSZo6dar%2B3//7fzZNnyT5%2B/vrgw8%2BkLe3t3766Sd9/PHHjigTAHCHaPwASJLOnz%2Bv48ePS5IeeuihG25Xu3ZtdevWTZL0n//851epDQBgH9zcAUCSVKXK//462LBhg%2B6///4bbhsdHa0nn3xS3t7e1mUvvPCCVq5cqWnTpqlTp05699139cMPP6iwsFC/%2Bc1v9Oijj2rw4MGqWrVqqcf84YcftHjxYm3fvl1nz55VjRo1FBQUpGHDhunhhx8udZ/z58/rb3/7mzZt2qS0tDTl5ubKw8NDfn5%2BCg8P15NPPqmaNWva7BMYGChJ%2Bu677zRr1iytX79elSpVUsuWLfXhhx/q97//vVauXKnXX39dbdq0UVxcnL7//ntduHBBjRo10u9%2B9zuNGDFCLi4u%2Buabb/TRRx9p3759KikpUYsWLTRu3Dj99re/va7Wixcvavny5Vq3bp3279%2Bv8%2BfPy83NTQ0aNFDHjh01cuRI1a1b12afiIgInTx5UmvWrFF2drYWLlyonTt3Kj8/X40aNVLPnj311FNPqVq1ajf8XQHAtbjGD4DV448/ru3bt8vFxUX9%2B/fXwIED1bp16%2BumfEtztfF77LHHtHbtWuXn56t58%2BYqKirS4cOHJUkhISGaP3%2B%2BqlevbrPvnDlztGDBAklSzZo11ahRI2VmZiorK0uSNHr0aE2ZMsVmn6NHj2rEiBE6ffq0qlSpIj8/P3l4eOjkyZM6e/asJKlp06Zavny5TWN0tfFr3bq1UlJSFBAQoJycHIWFhentt9%2B2OY9//OMfKioqkr%2B/v7Kzs631PP3003JxcdH8%2BfNVo0YNNW7cWEeOHFF%2Bfr5cXFz0l7/8RZ07d7a%2BZk5OjoYPH64DBw7IxcVFfn5%2Bql69ujIyMqzH9Pb21ooVK1SvXj3rflcbv5EjR2rRokVyc3NTkyZNdO7cOf33v/%2BVJAUHB%2BuTTz4p0%2B8IAGQBgJ/t2bPHEhQUZAkICLA%2BWrdubRkzZoxl/vz5lh07dliKi4tL3ff555%2B37hMeHm7Zu3evdd327dst7du3twQEBFj%2B8Ic/2Oz32WefWQICAiyhoaGWL774wrq8pKTE8tVXX1nrWbp0qc1%2BTzzxhCUgIMAyaNAgS0ZGhs1%2BK1eutLRo0cISEBBgWbJkic1%2BV2ts1aqVJTk52WKxWCzFxcWWn3766brzePzxxy2ZmZnWbV544QVLQECApUWLFpbAwEBLQkKCdTxycnIsjzzyiCUgIMDyxBNPlDo23bt3txw5csRm3ebNmy0PPfSQJSAgwDJr1iybdeHh4dZaXnjhBcv58%2Bet57hkyRLrun/%2B85%2Bl/k4A4Je4xg%2BA1f3336/PP/9cISEh1mW5ubnatGmT3n77bQ0aNEgdO3bUu%2B%2B%2Bq4KCglKPUalSJb3//vu67777rMuCg4M1e/ZsSdLnn3%2BujIwMSVJhYaHi4uIkSTNnzlS/fv2s%2B7i4uKhXr17WpC8uLk5FRUWSpOzsbB08eFCSNH36dNWpU8dmv0ceeURt27aVJO3fv7/UOnv27Kk2bdpYa65Vq5bN%2BipVquidd96Rr6%2BvdZunn35aklRSUqL%2B/ftr1KhRqlTpyl%2Bj99xzj5588klJ0t69e63HKSoq0rZt2%2BTi4qJp06apSZMmNq/TqVMn9erVS5J04MCBUmtt0aKFZs6caU1KXVxcNHToUGt6%2BeOPP5a6HwD8Eo0fABvNmjXTp59%2Bqr///e%2BaMGGCgoOD5erqal2fnZ2tP//5z%2BrXr591uvFa7dq1U4sWLa5b3rFjRzVq1EglJSXasGGDJCklJUVnzpxRtWrV1LVr11Lr6devnypVqqSMjAxrQ%2BXt7a3vv/9eO3fuVEBAwHX7FBcXy8vLS9KVa%2BtKc21zW5rAwECbaVdJatiwofW/S7uO72oDmpuba11WpUoVrVu3Tjt37lSXLl2u28discjT0/OmtXbp0kUuLi7XLb/33nslSRcuXLjpuQDAVdzcAaBU9913n%2B677z5FR0eroKBA27dv17fffqsvvvhC2dnZOn78uGJjY5WYmGiz34MPPnjDYwYGBurEiRM6evSoJFlTu8uXL2vo0KE33K9y5coqKSnR4cOHbY7v7u6u06dPa%2BfOnTp%2B/LjS09N16NAh7du3T/n5%2BZKupHOluZrk3Uj9%2BvWvW%2Bbm5mb973vuuee69dfeIPNLVatWVXZ2tnbs2KGjR4/qxIkTOnz4sPbt26dz587dtNZrE81rXf32lOLi4hufCABcg8YPwC15eHioQ4cO6tChg2JjY/Xiiy/qq6%2B%2B0o4dO7Rnzx6bb/D45V2017qabJ0/f17S/5KqwsJCbd%2B%2B/ZZ1XN1Pkg4fPqw333xTmzZtsmmYvLy8FBoaqszMTKWmpt7wWLf6yjkPD4%2Bbrr86xVsWWVlZmj17tr7%2B%2BmtdvnzZ5jUeeOABFRcX33S69tqGszQW7tEDUEY0fgAkSX/84x/1/fff69FHH9W4ceNuuJ27u7tee%2B01ffPNN7p8%2BbKOHDli0/hdTdpKc3UK9OrHwFxtrlq2bKkVK1aUudbs7Gw98cQTys7OVoMGDTRo0CDdf//9uvfee9WoUSO5uLho8uTJN238fi2XLl3S8OHDdejQIdWqVUuPP/64WrVqJX9/f/n5%2Baly5cp69913uU4PwK%2BCxg%2BApCsNyrFjx7Ru3bqbNn7SlVStWrVqOnv27HVf2XZ1%2BrY0VxuxZs2aSbrycSvSlY9mKSoqKnWq1GKxKCkpSfXq1VODBg3k5uam5cuXKzs7W7Vq1dLy5ctL/dq4qzeQONq6det06NAhValSRYmJidfd3CGp1GslAaA8cHMHAEmy3lG7e/fuW6Zv3377rc6ePatatWpd9y0fmzdvtn423bU2bNig06dPy83NTREREZKkNm3aqHr16srLy7vha65evVrDhw9Xz549rQ3SiRMnJEkNGjQotelLS0vTjh07JDn%2B%2BrertVarVq3Upu/MmTPauHGjJMfXCqDio/EDIEnq0KGDevToIUn6/e9/rxkzZliblqsuXbqk5cuXa%2BLEiZKk2NjY6741Ij8/X1FRUTp9%2BrR1WVJSkqZNmybpyocfX/1YEk9PT%2BtHpMyYMUPLly%2B3uV5v3bp1evnllyVd%2BfgVPz8/Sf%2B7mzU1NVVr1661bm%2BxWLR582aNHj3aei3djT525tdytdZz587po48%2Bsrkeb8eOHRo5cqT1A6cdXSuAio%2BpXgBWc%2BbMkaenp/7%2B97/r448/1scff6wGDRrI29tbly5d0tGjR1VYWChXV1dNnjxZQ4YMue4YTZo00b59%2B9StWzcFBAQoPz/fehdvnz599Mwzz9hsP2bMGKWnp2vp0qV68cUX9dZbb6lRo0bKyMhQZmampCvfsvH6669b9xk4cKA%2B/fRTHTt2TDExMWrYsKHuuecenT59WtnZ2XJ1dVXbtm2VnJzs8CnfiIgIBQcHKyUlRTNnztSCBQtUt25dZWVlKSMjQy4uLmrfvr3%2B/e9/KzMzUxaLpdSPbgEAe6DxA2Dl5uamWbNmaejQoVqzZo2SkpKUkZGh1NRUeXh4qGnTpurYsaMGDhxoTbJ%2B6YEHHtCcOXM0d%2B5c/fjjj6pSpYratm2rxx9/3PpBxddycXHR9OnT1aNHD/3tb3/Tjh07tG/fPlWtWlVBQUHq06ePIiMjbe5s9fLy0rJly7RgwQJt2LBBJ06c0JkzZ1SvXj116dJFw4cPl6enp7p166bU1FSdOnVKDRo0KLdxu5nKlStr0aJFWrx4sb766iulp6frwIED8vX1Va9evTR06FC1bNlSYWFhOnv2rLZv337LzxgEgDvFd/UCsIur33Hbt29fzZkzx9HlAABKwTV%2BAAAAToLGDwAAwEnQ%2BAEAADgJGj8AAAA7yMnJUffu3ZWUlHTDbTZt2qS%2BffsqKChIPXv21IYNG2zWL1iwQJ07d1ZQUJCGDRumw4cP27VGGj8AdjFr1izt37%2BfGzsAOKUff/xRkZGROn78%2BA23OXr0qKKjoxUbG6tt27YpOjpaEydOtH7s1MqVK7V48WIlJCQoKSlJLVu2VExMjF2/j5vGDwAAwICVK1fqueee06RJk265XWhoqLp166YqVaqoV69eatOmjRITEyVJS5cu1ZAhQ9S8eXNVrVpVkydP1qlTp26aIN4uGj8AAODUMjMztWfPHpvH1Q%2BQL4uOHTvqn//8Z6mfVXqttLQ0BQQE2Cxr1qyZ9XvMf7ne1dVVTZo0sa63Bz7A%2BW5W0T69v2lT6eBBqXlz6cgRR1djN7t3VayPwnR1lQICpAMHpJ%2B/9axCaNX7N44uwb4aN5Y2bZJ%2B%2B1spPd3R1djPL74C0PQaNZL%2B8Q%2BpZ0/pF1%2BBaGp79zrutcvhvTFx7lzFx8fbLJswYYKio6PLtL%2Bvr2%2BZtsvLy5OHh4fNMnd3d%2BXn55dpvT3Q%2BOHXU6uWVLnylZ%2B4a1WufOXv1cqVK1bjV%2BHUrHnll1SzZsVq/Cqa6tWv/J5%2B/n5q3J0iIyMVERFhs6yszdzt8PDw0MWLF22WXbx40fqd57dabw80fgAAwDwq2f8qtTp16qhOnTp2P%2B4vBQQEaM%2BePTbL0tLS1KpVK0lS8%2BbNdfDgQYWHh0uSLl%2B%2BrKNHj143PWwE1/gBAAD8Cvr166fk5GStWbNGRUVFWrNmjZKTk9W/f39J0oABA7RkyRKlpqbq0qVLevvtt%2BXj46PQ0FC71UDiBwAAzKMcEr/yFBwcrFdffVX9%2BvWTv7%2B/5s2bpzlz5uill15Sw4YNFRcXp6ZNm0qSBg4cqAsXLmj8%2BPHKycnRAw88oPnz58vV1dVu9dD4AQAA2Mn%2B/fttnqekpNg879Spkzp16lTqvi4uLho1apRGjRpVbvXR%2BAEAAPMwWeJ3t6HxAwAA5kHjZwijBwAA4CRI/AAAgHmQ%2BBlC4wcAAMyDxs8QRg8AAMBJkPgBAADzIPEzhNEDAABwEiR%2BAADAPEj8DKHxAwAA5kHjZwijBwAA4CRI/AAAgHmQ%2BBnC6AEAADgJEj8AAGAeJH6G0PgBAADzoPEzhNEDAABwEiR%2BAADAPEj8DGH0AAAAnASJHwAAMA8SP0No/AAAgHnQ%2BBnC6AEAADgJEj8AAGAeJH6GMHoAAABOgsQPAACYB4mfITR%2BAADAPGj8DGH0AAAAnASJHwAAMA8SP0MYPQAAACdB4gcAAMyDxM8QGj8AAGAeNH6GMHoAAABOgsQPAACYB4mfIYweAACAkyDxAwAA5kHiZwiNHwAAMA8aP0MYPQAAACdB4gcAAMyDxM8QRg8AAMBJkPgBAADzIPEzhMYPAACYB42fIYweAACAkyDxAwAA5kHiZwijd4eOHTvm6BIAAABuy13d%2BJ04cUKBgYE6ceLELbdNSkpSYGDgr1CVNHv2bH3wwQfW54GBgUpKSvpVXhsAAKdWqZL9HwZlZ2crKipKoaGhCgsL04wZM1RUVHTddqNHj1ZwcLDNIzAwUH/84x8lSWfOnFFgYKDN%2BoiICMP1XYup3jvw008/OboEAACc01041Ttx4kTVrVtXW7Zs0ZkzZzRu3DgtWrRIo0ePttlu4cKFNs%2BXLVum%2BPh4TZgwQZK0a9cuNWzYUP/617/Krdbbavzi4uK0bNkyFRQUqHHjxoqKilLXrl21Z88ezZo1S6mpqbrnnns0ZMgQDR8%2BXC4uLoqLi9O%2BfftUuXJlbdmyRbVr19YzzzyjyMhISdKhQ4f05ptvav/%2B/crJyVGjRo00ZcoUhYeHGzqx48ePa%2BbMmUpJSZGnp6f69eun8ePHy83NTStWrNDnn3%2Buli1b6ssvv5SLi4siIiL0yiuvyNXVVcXFxYqLi9Pnn38ui8Wi7t27a//%2B/Ro0aJBOnz6t1atXS5L27t2rVatWSZK%2B%2B%2B47zZw5U8ePH5e/v79mzpypgIAAQ%2BcAAADubseOHVNycrI2b94sDw8Pa3/01ltvXdf4Xevw4cOaPn26EhISVKdOHUlXGr9WrVqVa71lbvy%2B//57JSYmasWKFfL19VViYqJeeukltWjRQsOHD9ekSZP04Ycf6tixY4qKipK7u7sGDx4sSVq/fr1eeOEFvfPOO0pKStLYsWPl5%2Benhx9%2BWNHR0eratavi4%2BNlsVg0Z84cvfLKK4Yav/z8fI0YMUK9e/fWe%2B%2B9p5ycHMXExKikpESTJ0%2BWJG3fvl2dO3fWli1btG/fPg0fPlzt27dX7969lZCQoFWrVumjjz6Sn5%2Bf4uLilJKSokGDBmn8%2BPFKT0%2BXJM2aNcv6msnJyUpISJCXl5eio6M1e/ZsJSQklLnmzMxMZWVl2SzzbdpUdWrVuuNxuOu0aGH7s4Jwd3d0BfZVtartzwqjnP8y/dX5%2B9v%2BrCgq2h%2Bopk1tf8K4ckj8Sn0P9vW1NmQ3c/DgQdWqVUt169a1LvP399epU6d0/vx51ahRo9T9Xn31VT3yyCMKDQ21Ltu1a5fOnTunPn366MyZM3rggQf0/PPPq1mzZnd4Ztcrc%2BNXtWpVnTt3TkuXLlV4eLh%2B97vfKTIyUgsXLpS/v7%2BGDh0qSWrWrJmeeuopLVmyxNr4BQYGauTIkZKkjh07qkePHvriiy/08MMPa/78%2Bapbt64sFotOnjypGjVqKCMjw9BJbdy4UYWFhXr22Wfl4uKi%2BvXrKzY2VjExMdbGz93dXWPHjpWLi4sefPBBBQYG6siRI5KuRK9PP/20daAnTpyolStX3vQ1R44cKR8fH0lSt27drotzbyUxMVHx8fE2yybExio6Nva2jmMKn37q6Arsyn5/HO8ujRs7ugI7%2B%2BorR1dQPubOdXQFKIs5cxxdQcVRDo1fqe/BEyYoOjr6lvvm5eXJw8PDZtnV5/n5%2BaU2ftu2bdPOnTs15xf/X9SoUUPNmjXTmDFj5Obmpvfee08jR47UmjVrVL169ds9rVKVufELDg5WXFycFi9erIULF8rd3V3Dhg1TVlaW9uzZY9OxlpSUqHLlytbnTZo0sTlW/fr1tW/fPklSamqqoqKilJWVJX9/f9WuXVsWi8XQSZ08eVI5OTlq06aNdZnFYtHly5eVnZ0tSfL29paLi4t1vaurq/V1T58%2BrYYNG1rXVa5cWQ0aNLjpa9a6Jpm7Ol18OyIjI6%2B7gNO3b1/po49u6zh3tRYtrjR9Q4ZIqamOrsZu0pZud3QJdlW16pWmLz1dunTJ0dXYT7PY3o4uwb78/a80fTEx0qFDjq7Gfipi4jdnjvTcc9LP4UKFsHy5oyuwq1Lfg319y7Svp6enCgoKbJZdfV6tWrVS90lMTFTPnj2ve423337b5vm0adO0fPlybdu2zfAlcFeVufE7deqUvL29lZCQoMLCQm3dulUTJkxQVFSUwsLCbKY1f/rpJ%2BXl5Vmf/zLBO3HihOrXr6%2BMjAzFxsYqPj7eOuBr167VN998Y%2Bik6tWrJz8/P3399dfWZbm5ucrOzlbt2rVvuX%2BDBg106tQp63OLxaLTp08bqulW6tSpc32kXJH%2BkrhWaqqUkuLoKuzm4kVHV1A%2BLl2qYOe2e7ejKygfhw5VrHO7wRul6R05Iv0ceMCgckj8Sn0PLqPmzZvr7NmzOnPmjHXm79ChQ6pXr16pKV1RUZHWr1%2BvefPm2SzPzc3VvHnz9MQTT1jDp%2BLiYhUVFcndjv8gKvPo7dq1S6NHj1Zqaqrc3Nzk7e0tSQoJCdGOHTu0atUqFRUVKTMzU2PHjrW5/m3Hjh364osvVFxcrE2bNmn9%2BvUaMGCA8vLyVFxcbI1E09LSrANRWFh4xycVHh6uvLw8LVy4UIWFhTp//ryef/55TZo0ySblu5HIyEh9%2BOGHOnLkiAoLCzVv3jxlZmZa17u5uenChQt3XB8AAKgYmjRpopCQEM2cOVO5ublKT0/X%2B%2B%2B/r4EDB5a6/f79%2B3Xp0iW1bt3aZrmXl5f%2B/e9/a/bs2bpw4YLy8vI0ffp0NWrUyGZW1agyN349evTQqFGjNG7cOAUFBSk2NlYvvvii2rZtq4ULFyoxMVHt27dX//79de%2B999o0fvfdd5/Wr1%2Bvdu3aadasWXrrrbcUHByse%2B%2B9V1OnTtWUKVMUEhKi2NhYDRgwQK6urjpw4MAdn5SXl5cWLVqkpKQkde7cWd26dVOlSpVsPnvvZoYPH66IiAgNHjxYXbp00dmzZ1WvXj25urpKknr16qXt27erS5cud1wjAAC4A3fh5/jNnTtXRUVF6tq1qwYNGqROnTopKipK0pVL5a5%2BAogkpaenq2bNmqpayh1077//vkpKStStWzd16tRJWVlZWrBggbX/sAcXi9EL6m4hLi5OycnJWrx4cXm%2BjF3t3LlTDRs2tEa2FotF7dq10zvvvKMOHTr8eoWUIZ00leBgaft2qXXrCjXVu3tXuf4R%2BtW5u0vNmklpaRVrqrdV7984ugT7atXqyg0rvXsz1Xs3u%2B%2B%2BK9fDDRhQsaZ69%2B513Gv36GH/Y65da/9j3qXuvk9BvAusXr1aU6dO1YULF1RUVKS//vWvkqSgoCAHVwYAAHDnTPHNHdnZ2erWrdtNt0mxY4I0ceJEvfbaa%2BrevbsKCwvVsmVLJSQk3PDuHAAA8Cu5C7%2B5w0zKvfEry2fg3Iq3t7ddG7tb8fLy0ptvvvmrvR4AAMCvwRSJHwAAgCQSP4No/AAAgHnQ%2BBnC6AEAADgJEj8AAGAeJH6GMHoAAABOgsQPAACYB4mfITR%2BAADAPGj8DGH0AAAAnASJHwAAMA8SP0MYPQAAACdB4gcAAMyDxM8QGj8AAGAeNH6GMHoAAABOgsQPAACYB4mfIYweAACAkyDxAwAA5kHiZwiNHwAAMA8aP0MYPQAAACdB4gcAAMyDxM8QRg8AAMBJkPgBAADzIPEzhMYPAACYB42fIYweAACAkyDxAwAA5kHiZwijBwAA4CRI/AAAgHmQ%2BBlC4wcAAMyDxs8QRg8AAMBJkPgBAADzIPEzhNEDAABwEiR%2BAADAPEj8DKHxAwAA5kHjZwijBwAA4CRI/AAAgHmQ%2BBlC4wcAAMyDxs8QRg8AAMBJkPgBAADzIPEzhNEDAABwEiR%2BAADAPEj8DKHxAwAA5kHjZwijBwAAYEB2draioqIUGhqqsLAwzZgxQ0VFRaVuO3r0aD3wwAMKDg62PjZv3ixJKi4u1uzZs9W%2BfXsFBwdr3LhxyszMtGutNH4AAMA8KlWy/8OgiRMnytPTU1u2bNGyZcu0detWLVq0qNRtd%2B/erYSEBKWkpFgfnTt3liR98MEH%2Bu6777R8%2BXJt2bJF7u7u%2Bv3vf2%2B4vmvR%2BAEAANyhY8eOKTk5WVOmTJGHh4caN26sqKgoffLJJ9dtm56ernPnzun%2B%2B%2B8v9Viff/65xowZo/r168vLy0svvfSSNm/erPT0dLvVyzV%2BAADAPMrhGr/MzExlZWXZLPP19VWdOnVuue/BgwdVq1Yt1a1b17rM399fp06d0vnz51WjRg3r8l27dqlatWqaNGmSdu3aJR8fH40YMUIDBw7UhQsX9N///lcBAQHW7X18fFSzZk3t379fjRs3tsOZ0vjd1Xbvsji6BLtyd5eaSUpbul0XLzq6Gvtp9YCLo0uwr%2BBgaft2NRvUWkpJcXQ1dvPF3yvWn6eaNaUukjZO%2BUrnzjm6Gvtxc3N0BfZVo4bUQdJ3zy7X%2BfOOrsZ%2Bejryxcuh8UtMTFR8fLzNsgkTJig6OvqW%2B%2Bbl5cnDw8Nm2dXn%2Bfn5No1fYWGhgoKCNGnSJDVv3lxJSUmKjo5WtWrVFBwcLEny9PS0OZa7u7vy8vLu6LxKQ%2BMHAACcWmRkpCIiImyW%2Bfr6lmlfT09PFRQU2Cy7%2BrxatWo2yx955BE98sgj1ucdO3bUI488on/84x9q3769zb5XXbx48brjGEHjBwAAzKMcEr86deqUaVq3NM2bN9fZs2d15swZ%2Bfj4SJIOHTqkevXqqXr16jbbLlu2TNWqVVPPnv/LTAsLC1W1alXVrFlTdevWVVpamnW6NysrS2fPnrWZ/jWKmzsAAADuUJMmTRQSEqKZM2cqNzdX6enpev/99zVw4MDrts3NzdX06dO1d%2B9elZSUaOPGjfryyy8VGRkpSXrsscf0wQcfKD09Xbm5uZo5c6batm0rPz8/u9VL4gcAAMzjLvwA57lz5%2Bq1115T165dValSJT3yyCOKioqSJAUHB%2BvVV19Vv379NHz4cOXn52vChAnKzs5W48aNNXv2bIWGhkqSxo8fr6KiIg0dOlR5eXkKCwvTn/70J7vWSuMHAADM4y5s/Hx8fDR37txS16Vcc5Oci4uLoqKirE3hL7m6uuq5557Tc889Vy51Skz1AgAAOA0SPwAAYB53YeJnJoweAACAkyDxAwAA5kHiZwiNHwAAMA8aP0MYPQAAACdB4gcAAMyDxM8QRg8AAMBJkPgBAADzIPEzhMYPAACYB42fIYweAACAkyDxAwAA5kHiZwijBwAA4CRI/AAAgHmQ%2BBlC4wcAAMyDxs8QRg8AAMBJkPgBAADzIPEzhNEDAABwEiR%2BAADAPEj8DKHxAwAA5rBTLUkAACAASURBVEHjZwijBwAA4CRI/AAAgHmQ%2BBnC6AEAADgJEj8AAGAeJH6G0PgBAADzoPEzhNEDAABwEiR%2BAADAPEj8DGH0AAAAnASJHwAAMA8SP0No/AAAgHnQ%2BBnC6AEAADgJEj8AAGAeJH6G0PgBAADzoPEzhNEDAABwEiR%2BAADAPEj8DGH0AAAAnASJHwAAMA8SP0No/AAAgHnQ%2BBnC6AEAADgJEj8AAGAeJH6GMHoAAABOgsQPAACYB4mfITR%2BdygzM1NeXl7y9PR0dCkAADgPGj9DTDl6J06cUGBgoE6cOGG3Y27btk3BwcE3XB8XF6dhw4ZJks6cOaMePXooJyfnunUAAMC5ZGdnKyoqSqGhoQoLC9OMGTNUVFRU6rafffaZevTooeDgYPXo0UOffPKJdV1JSYmCg4MVFBSk4OBg6yM/P99utZL4/Sw0NFQpKSll2vbixYt2/SUAAIAyugsTv4kTJ6pu3brasmWLzpw5o3HjxmnRokUaPXq0zXbr1q3TO%2B%2B8owULFuihhx7Sjh079PTTT8vHx0c9evRQWlqaLl%2B%2BrO3bt8vNza1carXL6MXFxem3v/2t2rZtqwEDBmj9%2BvWSpD179mjYsGFq06aN/u///k%2BLFi2SxWKx7hMVFaXo6GgFBQUpIiJCiYmJ1mMeOnRIzzzzjLp06aIHH3xQvXr10oYNG26rrpKSErVv317r1q2zLouIiNDEiROtz2fPnq2pU6cqKSlJgYGB1uXbt2/XgAEDFBQUpMGDB1vTxeLiYvXp00eS1KdPH61Zs0aSlJeXp9///vfq2LGjwsLC9O67795WrQAAwHyOHTum5ORkTZkyRR4eHmrcuLGioqJskryrMjIyNGbMGAUFBcnFxUXBwcEKCwvTDz/8IEnatWuXAgMDy63pk%2ByQ%2BH3//fdKTEzUihUr5Ovrq8TERL300ktq0aKFhg8frkmTJunDDz/UsWPHFBUVJXd3dw0ePFiStH79er3wwgt65513lJSUpLFjx8rPz08PP/ywoqOj1bVrV8XHx8tisWjOnDl65ZVXFB4eXubaKlWqpIiICG3evFndunXT4cOHlZ2dra1bt8piscjFxUX/%2Bte/NGXKFJv9fvrpJz3zzDMaM2aMRo4cqf/85z96%2Bumndf/996ty5cr68ssv1bVrV3355Zdq1KiR4uLitHfvXg0fPlzTp09XUlKSRowYoS5dutx0%2BvhamZmZysrKsll24YKvfH3rlPl873ZVq9r%2BrDDK%2BDs2jRYtbH9WEDVrOroC%2B/Lysv1ZUbi6OroC%2B6pWzfYn7KAcEr/S3oN9fX1Vp86t34MPHjyoWrVqqW7dutZl/v7%2BOnXqlM6fP68aNWpYlw8dOtRm3%2BzsbP3www%2BaNm2apCuN36VLlzRgwACdPHlS/v7%2Bmjx5slq3bm3k9GwYbvyqVq2qc%2BfOaenSpQoPD9fvfvc7RUZGauHChfL397eeZLNmzfTUU09pyZIl1sYvMDBQI0eOlCR17NhRPXr00BdffKGHH35Y8%2BfPV926dWWxWHTy5EnVqFFDGRkZt11ft27d9Morr0iSvv32W/Xq1Uvr1q3T3r175e7urszMTHXs2FE7d%2B607rNx40Z5eHhozJgxcnFxUUhIiAYMGKB9%2B/bd8HWaN2%2Bu/v37S5LatWsnHx8fHT9%2BvMyNX2JiouLj422WjR8/QTEx0bd5xne/xo0dXYGdbd/u6ArKx6efOroCu%2Bri6ALKSWiooytAWQQFObqCCqQcGr/S3oMnTJig6Ohbvwfn5eXJw8PDZtnV5/n5%2BTaN37WysrL0zDPPqFWrVtaZRHd3dz344IOKjY1VzZo19cknn%2Bipp57SqlWr1NhOb56GG7/g4GDFxcVp8eLFWrhwodzd3TVs2DBlZWVpz549Cr3mb6WSkhJVrlzZ%2BrxJkyY2x6pfv761uUpNTVVUVJSysrLk7%2B%2Bv2rVrW6eJb0f79u11/vx5HTx4UFu2bNGjjz6q8%2BfP69///rcsFos6deokd3d3m30yMjJUv359ubi4WJf5%2BfndtPGrVauWzXM3NzcVFxeXuc7IyEhFRETYLDt/3ldpaWU%2BxF2vatUrTV96unTpkqOrsZ9mg%2Bz3L7G7QosWV5q%2BIUOk1FRHV2M3G9%2BpWA26l9eVpm/bNik319HV2E9FTPyCgqQdO6S8PEdXYz8dOji6Avsq7T3Y19e3TPt6enqqoKDAZtnV59VuEPXu2LFDsbGxCg0N1RtvvKEqVa60Yy%2B88ILNdk899ZRWrFihTZs26YknnihTPbdiuPE7deqUvL29lZCQoMLCQm3dulUTJkxQVFSUwsLClJCQYN32p59%2BUt41/%2Bf/MsE7ceKE6tevr4yMDMXGxio%2BPt76i1i7dq2%2B%2Beab267Pzc1NnTp10vr16/Xjjz9q9uzZOnfunP75z3%2BqoKDguthVkurVq6eTJ0%2BqpKRElX7%2Bl8V///vf237t21GnTp3rIuXdu6WLF8v1ZR3i0qUKdl5lvCnIdFJTK9S5nTvn6ArKR25uxTq3cry0yaHy8qTz5x1dRQVRDolfae/BZdW8eXOdPXtWZ86ckY%2BPj6Qr9ynUq1dP1atXv277ZcuW6fXXX1dMTIxGjRpls%2B7dd99Vjx49dP/991uXFRYWqqodr5EyPHq7du3S6NGjlZqaKjc3N3l7e0uSQkJCtGPHDq1atUpFRUXKzMzU2LFjNWvWLOu%2BO3bs0BdffKHi4mJt2rRJ69ev14ABA5SXl6fi4mJrVJqWlqZ58%2BZJujIAt6t79%2B5atGiRmjRpotq1a6tjx47atm2b9u7dqy5duly3fUREhCwWi%2BLi4lRYWKjdu3fr888/t66/%2BgvIrUj/zAYAALetSZMmCgkJ0cyZM5Wbm6v09HS9//77Gjhw4HXbrl27Vq%2B88ori4uKua/ok6cCBA5oxY4aysrJUWFio%2BPh45ebmqnv37nar13Dj16NHD40aNUrjxo1TUFCQYmNj9eKLL6pt27ZauHChEhMT1b59e/Xv31/33nuvTeN33333af369WrXrp1mzZqlt956S8HBwbr33ns1depUTZkyRSEhIYqNjdWAAQPk6uqqAwcO3HaNXbp0UW5urjp27ChJaty4serVq6ewsDB5lXJldI0aNZSQkKCtW7eqbdu2eumll9SjRw/reh8fH3Xv3l2RkZH67LPP7mDUAADAHalUyf4Pg%2BbOnauioiJ17dpVgwYNUqdOnRQVFSXpyiVxq1atkiTFx8eruLhYMTExNp/T98c//lGS9MYbb8jPz0/9%2B/dXWFiYkpOT9de//vW6y8mMcLHcyYVzdhAXF6fk5GQtXrzYES9vCrt3O7oC%2B3J3l5o1k9LSKtZUb6sHXG69kZkEB1%2B5YaV16wo11fvF3x3yV125qVlT6tJF2riRqd67WY0aV66H%2B%2B67ijXV27OnA19861b7H/Phh%2B1/zLvU3fcpiAAAACgXpv7mjuzsbHXr1u2m25T12zgAAIAJ3IXf3GEmDmv8yvLZOLfi7e1NYwcAAFBGpk78AACAkyHxM4TGDwAAmAeNnyGMHgAAgJMg8QMAAOZB4mcIowcAAOAkSPwAAIB5kPgZQuMHAADMg8bPEEYPAADASZD4AQAA8yDxM4TRAwAAcBIkfgAAwDxI/Ayh8QMAAOZB42cIowcAAOAkSPwAAIB5kPgZwugBAAA4CRI/AABgHiR%2BhtD4AQAA86DxM4TRAwAAcBIkfgAAwDxI/Ayh8QMAAOZB42cIowcAAOAkSPwAAIB5kPgZwugBAAA4CRI/AABgHiR%2BhtD4AQAA86DxM4TRAwAAcBIkfgAAwDxI/Axh9AAAAJwEiR8AADAPEj9DaPwAAIB50PgZwugBAAA4CRI/AABgHiR%2BhjB6AAAAToLEDwAAmAeJnyE0fgAAwDxo/Axh9AAAAJwEiR8AADAPEj9DGD0AAAAnQeIHAADMg8TPEBo/AABgHjR%2BhjB6AAAABmRnZysqKkqhoaEKCwvTjBkzVFRUVOq2mzZtUt%2B%2BfRUUFKSePXtqw4YNNusXLFigzp07KygoSMOGDdPhw4ftWiuNHwAAMI9Klez/MGjixIny9PTUli1btGzZMm3dulWLFi26brujR48qOjpasbGx2rZtm6KjozVx4kRlZGRIklauXKnFixcrISFBSUlJatmypWJiYmSxWAzXeBWNHwAAwB06duyYkpOTNWXKFHl4eKhx48aKiorSJ598ct22K1euVGhoqLp166YqVaqoV69eatOmjRITEyVJS5cu1ZAhQ9S8eXNVrVpVkydP1qlTp5SUlGS3ernGDwAAmEc5XOOXmZmprKwsm2W%2Bvr6qU6fOLfc9ePCgatWqpbp161qX%2Bfv769SpUzp//rxq1KhhXZ6WlqaAgACb/Zs1a6bU1FTr%2BjFjxljXubq6qkmTJkpNTVW7du3u6Nx%2BicbvLtaq928cXYJ9tWolffWVmsX2lnbvdnQ1dvPF3%2B0Xwd8NataUukja%2BM52nTvn6Grsp/8jLo4uwb6Cg6Xt29Xl2dZSSoqjq7Gfa94kK4SHHpI2b1aHaZ2lnTsdXY39OPAvB4vs/2c5MTFR8fHxNssmTJig6OjoW%2B6bl5cnDw8Pm2VXn%2Bfn59s0fqVt6%2B7urvz8/DKttwcaPwAA4NQiIyMVERFhs8zX17dM%2B3p6eqqgoMBm2dXn1apVs1nu4eGhixcv2iy7ePGidbtbrbcHGj8AAGAaJSX2P2adOnXKNK1bmubNm%2Bvs2bM6c%2BaMfHx8JEmHDh1SvXr1VL16dZttAwICtGfPHptlaWlpatWqlfVYBw8eVHh4uCTp8uXLOnr06HXTw0ZwcwcAAMAdatKkiUJCQjRz5kzl5uYqPT1d77//vgYOHHjdtv369VNycrLWrFmjoqIirVmzRsnJyerfv78kacCAAVqyZIlSU1N16dIlvf322/Lx8VFoaKjd6qXxAwAAplFSYv%2BHUXPnzlVRUZG6du2qQYMGqVOnToqKipIkBQcHa9WqVZKu3PQxb948zZ8/X23atNH777%2BvuLg4NW3aVJI0cOBAjRgxQuPHj1e7du20d%2B9ezZ8/X66ursaL/BlTvQAAwDTKY6rXKB8fH82dO7fUdSm/uPmqU6dO6tSpU6nburi4aNSoURo1apTda7yKxA8AAMBJkPgBAADTuBsTPzMh8QMAAHASJH4AAMA0SPyMofEDAACmQeNnDFO9AAAAToLEDwAAmAaJnzEkfgAAAE6CxA8AAJgGiZ8xNH4AAMA0aPyMYaoXAADASZD4AQAA0yDxM4bGDwAAmAaNnzFM9QIAADgJEj8AAGAaJH7GkPgBAAA4CRI/AABgGiR%2BxtD4AQAA06DxM4apXgAAACdB4gcAAEyDxM8YEj8AAAAnQeIHAABMg8TPGBo/AABgGjR%2BxjDVCwAA4CRI/AAAgGmQ%2BBlD4gcAAOAkSPwAAIBpkPgZQ%2BMHAABMg8bPGKZ6AQAAnASJHwAAMA0SP2NI/AAAAJwEiR8AADANEj9jaPwAAIBp0PgZw1QvAACAkyDxAwAApkHiZwyJHwAAgJMg8QMAAKZB4mcMjR8AADANGj9jmOoFAABwEiR%2BAADANEj8jCHxAwAAcBIkfgAAwDRI/IxxWOJ39OhRR7203Rw7dszRJQAA4FRKSuz/cCYOafw%2B%2BeQT/eEPfyjTtidOnFBgYKBOnDhxy22TkpIUGBhotLwymT17tj744APr88DAQCUlJf0qrw0AAMwhPz9f06ZNU1hYmEJCQjR16lTl5eXdcPu1a9eqf//%2Bat26tSIiIhQfH6%2BSa7rTnj176qGHHlJwcLD1cejQoTLX45Cp3pycHEe8rF399NNPji4BAACnY7aEbvr06Tp9%2BrTWrl2r4uJiTZw4UXPmzNHLL7983ba7d%2B/W1KlT9ac//Um//e1vdeTIEY0ZM0aenp4aNWqUcnNzdeTIEa1fv14NGza8o3ruOPG7msQtXrxYHTp0UEhIiKZMmaLc3FxJ0ldffaW%2BffsqJCREjz32mL799ltJ0sqVKzV//nxt27ZNoaGhkqRDhw7pmWeeUZcuXfTggw%2BqV69e2rBhw52WZnX8%2BHGNHTtWYWFhCg8P17vvvqvCwkJJ0ooVK/T444/r9ddfV7t27fTwww/rpZde0uXLlyVJxcXF%2BtOf/qQOHTqoffv2evnllzV48GCtWLFC8%2BbN0%2BrVq7V69Wr169fP%2Bnrfffed%2Bvfvr%2BDgYA0cOFAHDhwwfA4AAMCcCgoKtHr1asXExKhWrVry9vbWc889pxUrVqigoOC67U%2BePKnBgwcrPDxclSpVkr%2B/v7p3764ffvhB0pXGsFatWnfc9El2SPy%2B%2BeYbrV69WsXFxRo/frxeffVV9enTRy%2B//LI%2B%2BOADtW7dWps3b1Z0dLSWLl2qRx99VCdOnFBycrIWL14sSYqOjlbXrl0VHx8vi8WiOXPm6JVXXlF4ePgd15Wfn68RI0aod%2B/eeu%2B995STk6OYmBiVlJRo8uTJkqTt27erc%2BfO2rJli/bt26fhw4erffv26t27txISErRq1Sp99NFH8vPzU1xcnFJSUjRo0CCNHz9e6enpkqRZs2ZZXzM5OVkJCQny8vJSdHS0Zs%2BerYSEhDLVm5mZqaysLJtlvg0aqE7t2nc8Bncdf3/bnxVEzZqOrsC%2BvLxsf1YYwcGOrsC%2BWrSw/VlRVLT/8QICbH/CsPJI/Ep9D/b1VZ06dW6578WLF5WRkVHquoKCAl2%2BfFkB1/z%2B/f39dfHiRR09elT33XefzfY9evRQjx49bI69ceNG9e3bV5K0a9cueXh46IknntDBgwfVsGFDRUdH31a/ZLjxmzZtmmr/3JzExMRo3Lhx%2Bumnn/T444%2BrTZs2kqTw8HBFRETob3/7W6nX9s2fP19169aVxWLRyZMnVaNGjRsOYllt3LhRhYWFevbZZ%2BXi4qL69esrNjZWMTEx1sbP3d1dY8eOlYuLix588EEFBgbqyJEjkqRly5bp6aefVrNmzSRJEydO1MqVK2/6miNHjpSPj48kqVu3blq4cGGZ601MTFR8fLzNsglRUYqOjS3zMUxj7lxHV2BXXRxdQDn5OZCvOLZvd3QF5ePTTx1dAcriNt4PcHPl0fiV%2Bh48YYKio6Nvue/OnTv15JNPlrou9uf3cE9PT%2BsyDw8PSbrpdX6SlJubq9jYWLm7u2vEiBGSJBcXFz3wwAN69tln1aBBA3399deKjo7WkiVLFBQUdMtaJTs0fr/5zW%2Bs/12/fn0VFhbq8OHD%2BuGHH/TZZ59Z1xUXF6tdu3alHiM1NVVRUVHKysqSv7%2B/ateuLYvFYqiukydPKicnx9p8SpLFYtHly5eVnZ0tSfL29paLi4t1vaurq/V1T58%2BbROlVq5cWQ0aNLjpa9aqVcvmWMXFxWWuNzIyUhERETbLfEePlr75pszHuOv5%2B19p%2BmJipNu4EPVut3HKV44uwa68vK40fdu2ST9fuVEhdHm2taNLsK8WLa40fUOGSKmpjq7Gfipi4rdwoTR6tFSRLv/ZvNnRFdhVqe/Bvr5l2jcsLEz79%2B8vdd3evXv13nvvqaCgQNWqVZMk6xSv103%2BXz98%2BLBiYmLk7e2tjz/%2B2Lrt6NGjbbbr16%2BfvvzyS61du/bXa/wyMjJ07733Srpy3Z%2BHh4caNmyowYMH6%2Bmnn7Zud%2BrUKbm7u5e6f2xsrOLj462DvnbtWn1jsOGpV6%2Be/Pz89PXXX1uX5ebmKjs725pQ3kyDBg106tQp63OLxaLTp08bqulm6tSpc32kfOrUlUdFc%2BiQtHu3o6uwm3PnHF1B%2BcjNrWDnlpLi6ArKR2pqxTq3GjUcXUH5OHBA2rnT0VVUCOWR%2BJX6HmwHTZs2laurq9LS0vTQQw9JunJfg6urq5o0aVLqPps2bdKzzz6rQYMGafLkyapS5X%2BtWkJCgu6//349/PDD1mWFhYWqWrVqmWsy/HEub7/9tnJzc5WRkaG5c%2Beqf//%2BGjp0qD7%2B%2BGP95z//kXRlTvqxxx7Tl19%2BKUmqWrWqcnNzZbFYlJeXp%2BLiYmv0mZaWpnnz5llP5k6Fh4crLy9PCxcuVGFhoc6fP6/nn39ekyZNskn5biQyMlIffvihjhw5osLCQs2bN0%2BZmZnW9W5ubrpw4cId1wcAACo2Dw8P9ezZU3PmzFFOTo5ycnI0Z84c9enTp9QwbMeOHRo/frymTZum559/3qbpk67MRr766qtKT09XUVGRli1bppSUFD366KNlrslw4ufn56c%2BffqooKBAffv21ZQpU1S1alXl5%2BfrxRdf1KlTp1SrVi2NGDFCw4YNk3SlKfvss88UEhKijRs3aurUqZoyZYoKCgpUr149DRo0SG%2B99ZYOHDhgM316O7y8vLRo0SLNmjVLCxcuVElJicLCwmw%2Be%2B9mhg8frqysLA0ePFiVK1dWr169VK9ePbm6ukqSevXqpUmTJqlLly7auHHjHdUIAABuj9k%2BzuXll1/W7Nmz1bdvX12%2BfFldu3a1ud%2Bhd%2B/e6tu3r8aOHas///nPKioq0owZMzRjxgzrNiEhIVq4cKGmTp2qSpUqaciQIbpw4YKaNWumv/zlLzaX3d2Ki%2BUOL6Y7ceKEunbtqvXr16tRo0Z3coi72s6dO9WwYUPrzRoWi0Xt2rXTO%2B%2B8ow4dOvw6RdzGL9IUWrWSvvpK6t27Qk31fjG3Yn2DS82aUpcu0saNFWuqt/8jt076TSU4%2BMoNK61bM9V7N3vooSvXw3XuXLGmeh34l8PatfY/5jU30lZ4DvvKtrvd6tWrNXXqVF24cEFFRUX661//KkllvngSAADgbuOQb%2B64E9nZ2erWrdtNt0mx4796J06cqNdee03du3dXYWGhWrZsqYSEBOtdOQAA4Ndntqneu80dN36NGjW64e3L5cHb29uujd2teHl56c033/zVXg8AANwajZ8xTPUCAAA4CdNM9QIAAJD4GUPiBwAA4CRI/AAAgGmQ%2BBlD4wcAAEyDxs8YpnoBAACcBIkfAAAwDRI/Y0j8AAAAnASJHwAAMA0SP2No/AAAgGnQ%2BBnDVC8AAICTIPEDAACmQeJnDIkfAACAkyDxAwAApkHiZwyNHwAAMA0aP2OY6gUAAHASJH4AAMA0SPyMIfEDAABwEiR%2BAADANEj8jKHxAwAApkHjZwxTvQAAAE6CxA8AAJgGiZ8xJH4AAABOgsQPAACYBomfMTR%2BAADANGj8jGGqFwAAwEmQ%2BAEAANMg8TOGxA8AAMBJkPgBAADTIPEzhsYPAACYBo2fMUz1AgAAOAkSPwAAYBokfsaQ%2BAEAADgJEj8AAGAaJH7G0PgBAADToPEzhqleAAAAJ0HiBwAATIPEzxgSPwAAACdB4gcAAEyDxM8YEj8AAGAaJSX2f5Sn/Px8TZs2TWFhYQoJCdHUqVOVl5d3w%2B1ffvlltWrVSsHBwdZHYmKidf2CBQvUuXNnBQUFadiwYTp8%2BPBt1UPjBwAAUE6mT5%2Bu06dPa%2B3atfrmm290%2BvRpzZkz54bb79q1S9OnT1dKSor1ERkZKUlauXKlFi9erISEBCUlJally5aKiYmRxWIpcz00fgAAwDTMlPgVFBRo9erViomJUa1ateTt7a3nnntOK1asUEFBwXXbFxYW6sCBA2rVqlWpx1u6dKmGDBmi5s2bq2rVqpo8ebJOnTqlpKSkMtfENX4AAAB36OLFi8rIyCh1XUFBgS5fvqyAgADrMn9/f128eFFHjx7VfffdZ7N9amqqioqKNHfuXP3444%2BqXr26BgwYoNGjR6tSpUpKS0vTmDFjrNu7urqqSZMmSk1NVbt27cpUL40fAAAwjfJI6DIzM5WVlWWzzNfXV3Xq1Lnlvjt37tSTTz5Z6rrY2FhJkqenp3WZh4eHJJV6nd%2BFCxfUtm1bDRs2TO%2B884727dun8ePHq1KlSho9erTy8vKs%2B1/l7u6u/Pz8W9Z5FY3f3axaNUdXYF/u7v/7WYHOzc3N0RXYl6vr/35WqHOrUcPRFdiXl9f/flakczt/3tEV2Fdu7v9%2BVrRzc5DyaPwSExMVHx9vs2zChAmKjo6%2B5b5hYWHav39/qev27t2r9957TwUFBar28/ve1Sler6t/hq/RoUMHdejQwfr8wQcf1PDhw7VmzRqNHj1aHh4eunjxos0%2BFy9etB67LGj8AACAU4uMjFRERITNMl9fX8PHbdq0qVxdXZWWlqaHHnpIknTo0CHrFO0vrVu3TmfOnNHgwYOtywoLC%2BX%2Bc3DSvHlzHTx4UOHh4ZKky5cv6%2BjRozZTybfCzR0AAMA0yuPmjjp16qhly5Y2j7JM896Kh4eHevbsqTlz5ignJ0c5OTmaM2eO%2BvTpY23mrmWxWPTGG29o69atslgsSklJ0ccff2y9q3fAgAFasmSJUlNTdenSJb399tvy8fFRaGhomWsi8QMAAKZhtg9wfvnllzV79mz17dtXly9fVteuXfWHP/zBur53797q27evxo4dq%2B7du2vatGl65ZVXlJGRIR8fH0VHR6t///6SpIEDB%2BrChQsaP368cnJy9MADD2j%2B/PlyvXqNThnQ%2BAEAAJQTLy8vTZ8%2BXdOnTy91/VdffWXzfPDgwTZTvddycXHRqFGjNGrUqDuuh8YPAACYhtkSv7sN1/gBAAA4CRI/AABgGiR%2BxtD4AQAA06DxM4apXgAAACdB4gcAAEyDxM8YEj8AAAAnQeIHAABMg8TPGBo/AABgGjR%2BxjDVCwAA4CRI/AAAgGmQ%2BBlD4gcAAOAkSPwAAIBpkPgZQ%2BMHAABMg8bPGKZ6AQAAnASJHwAAMA0SP2NI/AAAAJwEiR8AADANEj9jaPwAAIBp0PgZw1QvAACAkyDxAwAApkHiZwyJHwAAgJMg8QMAAKZB4mcMjR8AADANGj9jmOoFAABwEiR%2BAADANEj8jCHxAwAAcBIkfgAAwDRI/Iyh8QMAAKZB42cMU70AAABOgsQPAACYBomfMSR%2BAAAAToLEDwAAmAaJnzE0fgAAwDRo/Ixhd/XuVgAAHxtJREFUqhcAAMBJkPgBAADTIPEzhsQPAADASZD4AQAA0yDxM4bGDwAAmAaNnzFM9QIAADgJEj8AAGAaJH7G0PgBAADToPEzhqne/9/enYdFVe9/AH8PCkj4QxZRBPcNsGtio6CC2whaiomiopF7Lrmg3icszRTD%2B2j3UmjgmguPyzU1NUW8ZQFqbijigg%2BgghuIAiJXA4YUZn5/KBMji3jheM5h3q/n4SnOmRneNn6aD9/lHCIiIiIDIakRv9u3b6N169Zix6iW7OxsNGzYEG%2B99ZbYUYiIiAyG3Eb8CgsLERwcjJiYGBQXF2PAgAFYunQpzM3Nyz12yZIliIyM1DtWVFSEXr16YfPmzdBoNFAqldBqtVAoFLrHnDp1qtr9iGRG/Hbu3Ikvv/yyWo/NyMiAo6MjMjIyau3nx8fHo2vXrpWeDwsLw7hx4wAADx8%2BxKBBg/Do0aNy54iIiIhKBQcH4/79%2B/jll19w9OhR3L9/HyEhIRU%2B9quvvsLFixd1X2FhYbCwsMDnn38OAEhNTcWzZ89w7tw5vce9ziCUZBq/0iZKLN26dcPFixer9diioiIUFhYKnIiIiIheptHU/pdQ1Go1IiMjERAQAEtLS9jY2ODTTz/F/v37oVarq3zuo0eP8Omnn%2BKLL75Ahw4dAACJiYlwdHSEiYnJ/5ypVhu/0pG47du3w93dHUqlEoGBgcjPzwcAREVFYejQoVAqlRgxYgROnjwJADhw4AA2bNiA%2BPh4dOvWDQCQlpaG6dOno1%2B/fnjnnXcwePBgxMbGvlYejUaDXr164bffftMdU6lUmDdvnu77r7/%2BGgsWLEBcXBwcHR11xxMSEuDr6wsXFxeMGTNGN7pYUlICb29vAIC3tzeOHDkCACgoKMDixYvh4eEBNzc3hIaGvu5/PiIiInoFqTV%2BRUVFuHPnTqVfz549Q8eOHXWPb9euHYqKinD79u0qXzckJAR/%2B9vf8MEHH%2BiOJSYm4s8//4Svry969OgBf39/JCQkvFZeQdb4HT16FJGRkSgpKcGsWbOwbNkyeHt7Y%2BnSpVi3bh3effddnDhxAnPmzMGePXswfPhwZGRk4Ny5c9i%2BfTsAYM6cORgwYADCw8Oh1WoREhKCoKAg9O/fv9o5jIyMoFKpcOLECXh6euLmzZvIzc3FmTNndPPjMTExCAwM1HteXl4epk%2BfjqlTp2LSpEm4cuUKpk2bhk6dOqFevXo4fPgwBgwYgMOHD6N58%2BYICwtDUlISJkyYgODgYMTFxWHixIno169fldPHZWVnZyMnJ0fvmK2dHZpYWVX7zyt5bdro/7OOsLAQO0HtKl12UsHyE3nr0kXsBLWr9IOkzAdKnfBioKDOcHLS/ydJUoWfwba2aNKkySufe/nyZYwfP77Cc3PnzgUAvalYMzMzAM8HjCqTnp6OQ4cOYe/evXrHGzRogHfeeQdz585Fo0aNsHPnTkyZMgWHDh1CixYtXpkVEKjxW7hwIaytrQEAAQEB%2BOSTT5CXl4exY8eie/fuAID%2B/ftDpVLhhx9%2BqHBt34YNG9C0aVNotVrcu3cPFhYWyMrKeu0snp6eCAoKAgCcPHkSgwcPxm%2B//YakpCQ0aNAA2dnZ8PDwwOXLl3XPOXbsGMzMzDB16lQoFAoolUr4%2BvoiOTm50p/ToUMHDBs2DADQo0cPNG7cGHfv3q1247d7926Eh4frHZs9cybmvPhLU6dUsrZBrtzFDiAQFxexE9SyEyfETiCMTZvETkDV8e9/i52gzhBiarbCz%2BDZszFnzpxXPtfNzQ3Xrl2r8FxSUhJWr14NtVqt28xROsXbsGHDSl9z37596Nq1K5ydnfWOl671KzVlyhTs378fx48fx0cfffTKrIBAjV%2BrVq10/96sWTM8ffoUN2/exPnz57Fr1y7duZKSEvTo0aPC10hJScHMmTORk5ODdu3awdraGlqt9rWz9OrVC0%2BePMGNGzfw%2B%2B%2B/Y/jw4Xjy5AlOnz4NrVaL3r17o0GDBnrPycrKQrNmzfR2zLRs2bLKxs/S0lLvexMTE5SUlFQ7p5%2BfH1Qqld4x2zlz6taHVZs2z5u%2BTz8Fbt0SO02tOfX3fWJHqFXm5s%2BbvkuXgCp%2BIZUd94V9xI5Quzp2fN70ffwxcP262GlqT10c8fv3v4EPPwRSUsROU3tec3pR6ir8DLa1rfHrtmnTBsbGxkhNTUWXF7MOaWlpMDY2rvIqJkePHsXkyZPLHQ8NDcWgQYPQqVMn3bGnT5/C1NS02pkEafyysrLQtm1bAM/X/ZmZmcHBwQFjxozBtGnTdI/LzMws13SVPn/u3LkIDw/XvRGlu2Fel4mJCXr37o3o6GhcuHABX3/9NR4/foxff/0VarUa/v7%2B5Z5jZ2eHe/fuQaPRwMjo%2BTLIBw8evPbPfh1NmjQpP6T84MHzr7rm1i2giiZabp48ETuBMAoK6tifrcyofp1y/Xrd%2BrPVqb90ZaSkANXcQEhVE2LEr8LP4FpgZmaG999/HyEhIVi9ejWA52v3vL29K%2Bx/gOfLzdLS0nQzpGVdv34d8fHxWLVqFRo1aoSNGzciPz8fXl5e1c4kyK7eb775Bvn5%2BcjKysJ3332HYcOGwd/fH9u2bcOVK1cAPF%2BgOGLECBw%2BfBgAYGpqivz8fGi1WhQUFKCkpEQ3D56amoo1a9YAeN7Zvi4vLy9ERESgdevWsLa2hoeHB%2BLj45GUlIR%2B/fqVe7xKpYJWq0VYWBiePn2Kq1ev6s2zl3bW%2BXXtN1MiIiKJk9rmjldZunQpWrdujaFDh%2BK9995D8%2BbNsWTJEt35IUOGYP369brvSzeTNm3atNxrrVixAi1btsSwYcPg5uaGc%2BfOYevWreVmHasiyIhfy5Yt4e3tDbVajaFDhyIwMBCmpqYoLCzEokWLkJmZCUtLS0ycOFF3/bv%2B/ftj165dUCqVOHbsGBYsWIDAwECo1WrY2dlh9OjR%2BNe//oXr16%2B/1h8QAPr164fPP/8cHh4eAIAWLVrAzs4OrVu3rnCO3cLCAps3b0ZQUBC2bt2KVq1aYdCgQbj1YnqycePG8PLygp%2BfX7n5diIiIqJSDRs2RHBwMIKDgys8HxUVpfd9586dK10zaGlpiRUrVtQoj0L7vyycq0RGRgYGDBiA6OhoNG/evLZe1nCVmcOvE5ydgX37AF/fOjXV%2B59vksSOUKssLAB3d%2BDUqbo16/b%2BmEZiR6hdXbo8XwPcpw%2BneqWsa9fn6%2BHefbduTfXWXuvw2nr2rP3XPHOm9l9TqiRzAWciIiIiEpak7tX7unJzc%2BHp6VnlY6p7Nw4iIiKSPrndq1dqarXxa968eaXz0kKwsbFhY0dERGRA2PjVDKd6iYiIiAyErKd6iYiIyLBwxK9mOOJHREREZCA44kdERESywRG/mmHjR0RERLLBxq9mONVLREREZCA44kdERESywRG/muGIHxEREZGB4IgfERERyQZH/GqGjR8RERHJBhu/muFULxEREZGB4IgfERERyQZH/GqGI35EREREBoIjfkRERCQbHPGrGTZ%2BREREJBts/GqGU71EREREBoIjfkRERCQbHPGrGY74ERERERkIjvgRERGRbHDEr2bY%2BBEREZFssPGrGU71EhERERkIjvgRERGRbHDEr2Y44kdERERkIDjiR0RERLLBEb%2BaYeNHREREssHGr2Y41UtERERkIDjiR0RERLLBEb%2BaYeNHREREssHGr2Y41UtERERkIDjiR0RERLLBEb%2Ba4YgfERERkYHgiB8RERHJBkf8aoaNHxEREckGG7%2Ba4VQvERERkYHgiB8RERHJBkf8aoYjfkREREQGgiN%2BREREJBsc8asZNn5EREQkG2z8aoZTvUREREQGgo0fERERyYZGU/tfb4JarYafnx/2799f5eMuX76MUaNGoWvXrlCpVNi7d6/e%2BQMHDsDLywsuLi4YMWIELl68%2BFo52PgRERERCejGjRvw9/fHpUuXqnzc48ePMW3aNPj4%2BOD8%2BfP4xz/%2BgRUrVuDKlSsAgLi4OAQHB2PlypU4f/48PvjgA3zyySdQq9XVzsLGj4iIiGRDbiN%2BZ86cwYQJEzB8%2BHDY29tX%2BdijR4/C0tIS/v7%2BqF%2B/Pnr27ImhQ4di586dAIC9e/diyJAhUCqVMDY2xsSJE2FlZYUjR45UOw83dxAREZFsSG1zR1FREbKysio8Z2trCycnJ8TGxsLU1BRbt26t8rVu3LiBjh076h1r3749fvzxRwBAamoqfH19y51PSUmpdl42fkRERGTQsrOzkZOTo3fM1tYWTZo0eeVzL1%2B%2BjPHjx1d4bs2aNfD09Kx2joKCApiZmekda9CgAQoLC6t1vjrY%2BElZUpLYCWpVdnY2doeFwW/dumoVk1y8L3aAWpadnY2wsN3w8/OrU%2B8THj8WO0Gt0tXTjz/WrfepjtG9Tz//zPeplmi1tf%2BaYWG7ER4ernds9uzZmDNnziuf6%2BbmhmvXrtVKDjMzM/zxxx96x4qKimBubq47X1RUVO68lZVVtX8GGz96Y3JychAeHg6VSsX/AUoY3yd54PskD3yf5MHPzw8qlUrvmK2t7RvP0bFjR5w6dUrvWGpqKjp06AAA6NChA27cuFHufJ8%2Bfar9M7i5g4iIiAxakyZN8Pbbb%2Bt9idGoe3l54eHDh4iIiMCzZ89w9uxZREZG6tb1jRw5EpGRkTh79iyePXuGiIgI5ObmwsvLq9o/g40fERERkUiGDBmC9evXAwCsrKywZcsW/Pzzz3Bzc8PixYuxePFi9OjRAwDQs2dPLF26FEFBQXB1dUVUVBS%2B//57WFpaVvvncaqXiIiI6A2IiYkpdywqKkrv%2B86dO%2BOHH36o9DWGDRuGYcOG/c8Z6gUFBQX9z88mek3m5uZwdXXVLVQlaeL7JA98n%2BSB7xNJiUKrFWJ/DBERERFJDdf4ERERERkINn5EREREBoKNHxEREZGBYONHREREZCDY%2BBEREREZCDZ%2BRERERAaCjR8RERGRgWDjR0RERGQg2PgRERERGQg2fkREREQGor7YAahuS01NxcqVK5Geno7i4mK9c9HR0SKloopcvnwZd%2B/eRUlJid5xHx8fkRLRy1hP8sF6Iqli40eCWrhwIaysrDBlyhQYGxuLHYcqERoaio0bN6Jx48Z675NCoeAHlYSwnuSB9URSxsaPBJWamoq4uDiYmJiIHYWqsGfPHkRERMDNzU3sKFQF1pM8sJ5IyrjGjwTVqlUr5Ofnix2DXqFevXr8kJIB1pM8sJ5IyuoFBQUFiR2C6p7z588jMzMTRkZG2LRpExo1aoTc3FxkZmbqvhwcHMSOSS/cunULhYWF6Nixo9hRqAKsJ3lhPZGUKbRarVbsEFT3ODk5VXleoVAgOTn5DaWhyowbNw4KhQIFBQVITk5G%2B/btYWlpqfeYbdu2iZSOSrGe5IH1RHLANX4kiJSUFLEjUDWUnY7q37%2B/iEmoKqwneWA9kRxwxI8E5ePjg59%2B%2BqnccZVKhZiYGBESUUX%2B85//4P333y93fPfu3fDz8xMhEVWE9SQPrCeSMo74Ua27e/cu1q1bB%2BD5LsSFCxfqnc/Pz0dRUZEY0agMtVqNvLw8AMCiRYvg4uKCsr8H/vHHH1i5ciU/qETGepIH1hPJBRs/qnUtW7aElZWV7n%2BCL7O2tkZoaOgbTkUvy8/Px5AhQ3RNg0ql0p3TarVQKBTw9PQUKx69wHqSB9YTyQWneklQa9euxcyZM8WOQZXIzc2FWq3G0KFDcfjwYb1zpqamaNy4sUjJqCKsJ2ljPZEcsPEjQVW0HgkAjI2NYW1tDRcXF5iZmb3hVPQyjUYDIyNe1lPqWE/ywHoiKeNULwlq9%2B7duHTpEmxsbODg4ID79%2B8jJycHdnZ2UKvVUCgU2LJlC5ydncWOapBKLz9RFV5%2BQjpYT9LGeiI54AWcSVBXr15Fr169sGHDBowePRqTJk0CADg4OGDbtm0wMjLCjh07MHz4cJGTGqbSC/9qtVrExcWhT58%2BUCqVaNiwIU6cOIHu3bvzshQSwnqSNtYTyYKWSEDu7u7ap0%2Bf6h17%2BvSp1t3dXavVarXPnj3TKpVKMaJRGWPHjtVeuHBB71hiYqLWx8dHpERUEdaTPLCeSMq4CIEEl56ervf9vXv3UFxcDAAoKiqCsbGxGLGojOTkZHTp0kXvmKOjI27fvi1OIKoU60n6WE8kZWz8SFAjR47EtGnTsHfvXpw6dQp79%2B7FjBkzMGLECOTm5mLu3Lno27ev2DENXrt27RAREaF3bP369a%2B8VRi9WawneWA9kZRxVy8JSqPRYNOmTdi3bx/u378Pe3t7%2BPn5YcKECbh69SoiIyMxb948mJubix3VoCUkJGDGjBl46623YGdnh8zMTGg0GmzevBmOjo5ix6MXWE/ywHoiKWPjR0QAgLy8PBw7dgzZ2dmws7ODSqXC//3f/4kdi0iWWE8kVWz8SFAlJSX45ZdfcPv2bWg0Gr1zs2fPFikVkTyxnoiopngdPxLU0qVLERUVBScnJ9Sv/9dft1dd64rejHfffRcJCQlwcnKq9D1JTk5%2Bw6moMqwnaWM9kRyw8SNBxcbGYtu2bejcubPYUagCGzduBMCLysoF60naWE8kB2z8SFAajQadOnUSOwZVolu3bgCA/fv3Y%2BDAgfDw8ICJiYnIqagyrCdpYz2RHPDOHSSorKwsXLt2DUqlUuwoVIULFy5g586dWL16NZKTk6HRaGBvb88PLYlhPckD64mkjJs7SFAffvghEhISYGZmBmtra71z0dHRIqWiyty8eRPR0dGIjY1FcnIy3NzcsH79erFj0QusJ3lhPZEUcaqXBDVq1CiMGjVK7BhUTX/%2B%2BScUCgXMzMyg0Whw69YtsSNRGawneWE9kRRxxI/emEePHpUbpSBp%2BPvf/44zZ85Ao9HA1dUV7u7u8PDwQPPmzcWORpVgPUkX64mkjLdsI0EVFxcjNDQUSqUSKpUK6enp8PX1RU5OjtjRqIxLly5BrVZjwIABGDx4MN577z1%2BSEkQ60keWE8kZWz8SFBhYWE4e/YsVq9eDWNjY9jY2MDOzg7Lly8XOxqVERMTgwMHDsDZ2RkHDhyAp6cnRo4ciVWrVokdjcpgPckD64mkjFO9JCiVSoVdu3ahadOmcHV1xblz5/DkyRN4eXkhLi5O7HhUgdTUVERHRyMiIgIFBQW4cuWK2JHoBdaT/LCeSGq4uYMEVVhYqFuHVPo7RoMGDWBkxMFmKYmOjsaJEyfw%2B%2B%2B/48mTJ%2BjduzcWL16Mvn37ih2NymA9yQPriaSMjR8JysXFBeHh4Zg/f77uFkbbt2/nnQckZsmSJVCpVFi6dCl69uzJ641JFOtJHlhPJGWc6iVBpaenY8KECSguLkZubi5atWqFgoICbN26FW3bthU7Hr2g1Wpfeb/X0vuQknhYT/LAeiIp44gfCapFixaIiopCbGwsMjMzYWdnh379%2BqFhw4ZiR6MyXvUhBfw1tUjiYT3JA%2BuJpIyNHwnOzMwMgwcPFjsG1VB1PsxIeKynuoH1RGJh40eCcHJyeuX/2JKTk99QGiJ5Yz0RUW1h40eC2LZtm9gRiOoM1hMR1RY2fiQIV1fXaj%2BWi5yJqsZ6IqLawos/kei4yJmo9rCeiKgqbPxIdFzkLA9sKOSB9SQPrCcSC6d6iQxYZmbmKx9jb28P4PndCIiocqwnkgM2fkQGTKVSVTpCVHoR2tLdoqW3CiOiirGeSA7Y%2BBEZMI46ENUe1hPJARs/IgPm4OBQ6bni4mJcv369yscQ0V9YTyQHbPxIdFzkLL5jx45h2bJlyMrK0ns/6tevj8TERBGT0etiPYmP9URSxsaPBMFFzvISEhKCgQMHwsLCAteuXYO3tzfWrFmDkSNHih2NwHqSG9YTSZlCy18PSQBV3WLq5UXOJL4uXbrgwoULyMjIwJdffont27cjNTUV8%2BfPR2RkpNjxDB7rSV5YTyRlHPEjQXDUQV6sra1hZGQEe3t7pKWlAQDat2%2BPBw8eiJyMANaT3LCeSMrY%2BJEguMhZXhwdHbF69WrMmjULNjY2OH78OBo0aABTU1OxoxFYT3LDeiIp41QvCYqLnOUhLS0NAQEB2LhxI5KSkjBv3jxoNBosWLAAkyZNEjsevcB6kofK6ikwMBCTJ08WOx4ZODZ%2BJChvb2%2B4u7tXuMh53LhxYsejSmRnZ6OgoABt2rQROwqVwXqSp9J6srW1RcOGDcWOQwaOU70kqPT0dAQGBiIjIwNnz57FwIED0bZtW8yfP58fVBJz9uxZHDx4EDk5ObC3t%2BcORAliPcmDq6srzp07p/u%2BSZMmAIBu3bohPj5erFhEANj4kcC4yFke9uzZg%2BDgYAwcOBDOzs7IyMjAuHHjEBISAi8vL7Hj0QusJ%2Bm6c%2BcOlixZAq1Wi/z8fIwfP17vfH5%2BPiwsLERKR/QXNn4kKC5yloeNGzdi/fr1cHd31x07fvw4/vnPf7LxkxDWk3S1atUKAwcORF5eHhISEuDq6qp33sTEBCqVSqR0RH/hGj8SFDcNyEPXrl0RHx%2BPevXq6Y5pNBr06NFDb8qKxMVNA/Lw008/wcfHR%2BwYRBVi40dvFDcNSFNAQACUSiUmTJigOxYZGYno6GisWrVKxGRUFW4akK60tDTs2rULDx48QHBwMKKiovDRRx%2BJHYuIU70kPG4akL6SkhKsXLkSBw4cQKtWrZCVlYXLly/D2dlZb63Stm3bRExJ3DQgD6dOncKcOXPQv39/nD59GkVFRVizZg0KCwsxbdo0seORgeOIHwmq7KYBe3t7ZGRkICYmhpsGJCY8PLxaj5s9e7bASehlZTcNxMfHo1u3bnrn8/Pz8d///hcxMTEiJaSX%2Bfr6IiAgAH379kX37t1x/vx5JCYmYt68ebwLC4mOI34kKG4akAc2dNLFTQPyc%2BfOHfTp0wcAdPdY7ty5Mx4/fixmLCIAbPxIYLm5uejRo4fesd69eyMwMFCkRFSZPXv2YPv27cjOzsaBAwewcuVKrFixAubm5mJHM3j%2B/v4AgObNm3PTgAzY29sjISEBSqVSdywxMRHNmjUTMRXRc0ZiB6C6rXfv3tixY4fesaioKPTq1UukRFSRiIgIbN68GePGjUNJSQnMzc2RlZWFFStWiB2NyvDx8UFaWhqWL1%2BO2bNnIy8vr1x9kfimT5%2BOGTNmIDQ0FM%2BePcP333%2BPmTNnYsqUKWJHI%2BIaPxLWrFmzEBMTA0dHx3KbBsruQuSmAXENGjQIa9euRbt27XQbCLKzszF8%2BHCcOnVK7Hj0QtlNA7GxsYiKisKIESMwadIkbhqQmOPHj2PHjh24desWHBwc4O/vj4EDB4odi4hTvSQsZ2dnODs7677v0KEDPDw8RExEFcnLy9NdYqf0d0EbGxsUFxeLGYte8u233yI0NFS3aaBZs2bYuHEj5s2bx8ZPQgoKChAVFYW4uDg8ffoUubm5aNeuHfr16wcTExOx45GBY%2BNHguKmAXlwcnLC7t27MXbsWN1i9CNHjqBDhw4iJ6OyuGlAHpYtW4Y7d%2B5g3bp1aNasGdLT0xEWFoaQkBAsWrRI7Hhk4LjGjwS3Z88eDB06FG5ubsjMzERAQAAKCgrEjkVlfPbZZ/j2228xZswYFBYWYurUqfjqq6%2B4CUdiSjcNlMVNA9ITGxuLtWvXwt3dHW3btkXfvn2xZs0aHDp0SOxoRGz8SFjcNCAPb7/9Ng4ePAhPT0%2BMGjUK3bp1w7p169ClSxexo1EZ3DQgD6ampnq3PwQAc3NzmJmZiZSI6C9s/EhQu3btwtq1azF69GgYGRmhUaNGCAsLQ2xsrNjRqIyYmBiMHDkSH3/8MWxtbbFmzRpMmTIFe/bsETsalTFkyBCEhIQgKSkJNjY2OHnyJL788kte4kViZsyYgYCAAKSkpECtVuP27dtYuHAhBg8ejMzMTN0XkRi4xo8ExU0D8rBu3TrMmzcPGo0GO3bsQHh4OKytrTF//nyMHj1a7Hj0AjcNyMPy5csBPL/8jkKhQNmLZ2zZsgVarRYKhQLJycliRSQDxsaPBMVNA/Jw9%2B5djB49GklJSVCr1ejVqxfq16%2BPhw8fih2NyuCmAXngbdlIytj4kaA%2B%2B%2BwzTJw4EQcPHtRtGrh06RI2bdokdjQqw8zMDLm5uYiJiYFSqUT9%2BvWRkpICKysrsaNRGbGxsfj5559hY2MDAGjbti2cnJwwbNgwNn4S4uDgIHYEokqx8SNBlW4aOHLkCJydnWFnZ4fp06dz04DE%2BPr6wsfHB0%2BePMF3332Hq1ev4uOPP8bkyZPFjkZlcNMAEdUU79xBgoqJicHixYtx%2BvRprF27FuvXr4dCocAXX3zBtWMSExcXB1NTU7i4uOD%2B/ftITEzknQYkZseOHTh69CgWLVqkuxPON998g5YtW%2Bru5ws8v%2BwLEVFF2PiRoEaNGoVRo0Zh5MiR8PDwwMqVK3WbBn799Vex4xHJipOTk%2B7fX940UPo9Nw0QUVU41UuC4qYBotrDTQNEVFNs/EhQ3DRAVHu4aYCIaoqNHwmKmwaIiIikg2v8SHDcNEBERCQNbPyIiIiIDATv1UtERERkINj4ERERERkINn5EREREBoKNHxEREZGBYONHREREZCDY%2BBEREREZCDZ%2BRERERAaCjR8RERGRgfh/rBMkeHVtZRUAAAAASUVORK5CYII%3D\" class=\"center-img\">\n",
       "</div>\n",
       "    <div class=\"row headerrow highlight\">\n",
       "        <h1>Sample</h1>\n",
       "    </div>\n",
       "    <div class=\"row variablerow\">\n",
       "    <div class=\"col-md-12\" style=\"overflow:scroll; width: 100%%; overflow-y: hidden;\">\n",
       "        <table border=\"1\" class=\"dataframe sample\">\n",
       "  <thead>\n",
       "    <tr style=\"text-align: right;\">\n",
       "      <th></th>\n",
       "      <th>sepal_length</th>\n",
       "      <th>sepal_width</th>\n",
       "      <th>petal_length</th>\n",
       "      <th>petal_width</th>\n",
       "      <th>species</th>\n",
       "    </tr>\n",
       "  </thead>\n",
       "  <tbody>\n",
       "    <tr>\n",
       "      <th>0</th>\n",
       "      <td>5.1</td>\n",
       "      <td>3.5</td>\n",
       "      <td>1.4</td>\n",
       "      <td>0.2</td>\n",
       "      <td>setosa</td>\n",
       "    </tr>\n",
       "    <tr>\n",
       "      <th>1</th>\n",
       "      <td>4.9</td>\n",
       "      <td>3.0</td>\n",
       "      <td>1.4</td>\n",
       "      <td>0.2</td>\n",
       "      <td>setosa</td>\n",
       "    </tr>\n",
       "    <tr>\n",
       "      <th>2</th>\n",
       "      <td>4.7</td>\n",
       "      <td>3.2</td>\n",
       "      <td>1.3</td>\n",
       "      <td>0.2</td>\n",
       "      <td>setosa</td>\n",
       "    </tr>\n",
       "    <tr>\n",
       "      <th>3</th>\n",
       "      <td>4.6</td>\n",
       "      <td>3.1</td>\n",
       "      <td>1.5</td>\n",
       "      <td>0.2</td>\n",
       "      <td>setosa</td>\n",
       "    </tr>\n",
       "    <tr>\n",
       "      <th>4</th>\n",
       "      <td>5.0</td>\n",
       "      <td>3.6</td>\n",
       "      <td>1.4</td>\n",
       "      <td>0.2</td>\n",
       "      <td>setosa</td>\n",
       "    </tr>\n",
       "  </tbody>\n",
       "</table>\n",
       "    </div>\n",
       "</div>\n",
       "</div>"
      ],
      "text/plain": [
       "<pandas_profiling.ProfileReport at 0x26b1ab48c50>"
      ]
     },
     "execution_count": 185,
     "metadata": {},
     "output_type": "execute_result"
    }
   ],
   "source": [
    "pandas_profiling.ProfileReport(iris)"
   ]
  },
  {
   "cell_type": "code",
   "execution_count": null,
   "metadata": {},
   "outputs": [],
   "source": [
    "pandas_profiling.ProfileReport(iris).to_file()"
   ]
  }
 ],
 "metadata": {
  "kernelspec": {
   "display_name": "Python 3",
   "language": "python",
   "name": "python3"
  },
  "language_info": {
   "codemirror_mode": {
    "name": "ipython",
    "version": 3
   },
   "file_extension": ".py",
   "mimetype": "text/x-python",
   "name": "python",
   "nbconvert_exporter": "python",
   "pygments_lexer": "ipython3",
   "version": "3.7.3"
  },
  "toc": {
   "base_numbering": 1,
   "nav_menu": {},
   "number_sections": true,
   "sideBar": true,
   "skip_h1_title": false,
   "title_cell": "Table of Contents",
   "title_sidebar": "Contents",
   "toc_cell": false,
   "toc_position": {},
   "toc_section_display": true,
   "toc_window_display": false
  }
 },
 "nbformat": 4,
 "nbformat_minor": 2
}

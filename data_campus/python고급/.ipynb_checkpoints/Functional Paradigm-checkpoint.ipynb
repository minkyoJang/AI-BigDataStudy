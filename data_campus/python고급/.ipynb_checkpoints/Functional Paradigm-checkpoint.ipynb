{
 "cells": [
  {
   "cell_type": "markdown",
   "metadata": {},
   "source": [
    "# 함수형 패러다임\n",
    "- 최근 빅데이터 처리로 필요성이 올라감\n",
    "- java에서도 함수형 패러다임을 지원\n",
    "- 아주 유연한 기법\n",
    "- pasdas 내부구조에 많이 들어있음\n",
    "- vectorize 프로그래밍과 유사\n",
    "- `모든 프로그래밍을 함수 기반으로`\n",
    "- 파이썬은 순수 함수형 패러다임이 아니다"
   ]
  },
  {
   "cell_type": "code",
   "execution_count": 3,
   "metadata": {},
   "outputs": [
    {
     "name": "stdout",
     "output_type": "stream",
     "text": [
      "3\n"
     ]
    }
   ],
   "source": [
    "# 절차적 패러다임\n",
    "a = input()\n",
    "a = int(a)"
   ]
  },
  {
   "cell_type": "code",
   "execution_count": 4,
   "metadata": {},
   "outputs": [
    {
     "name": "stdout",
     "output_type": "stream",
     "text": [
      "3\n"
     ]
    }
   ],
   "source": [
    "# 함수형 패러다임\n",
    "a = int(input())"
   ]
  },
  {
   "cell_type": "code",
   "execution_count": 5,
   "metadata": {},
   "outputs": [],
   "source": [
    "import time\n",
    "def x(a=time.time()):\n",
    "    return a"
   ]
  },
  {
   "cell_type": "code",
   "execution_count": 6,
   "metadata": {},
   "outputs": [
    {
     "data": {
      "text/plain": [
       "1562116767.9014325"
      ]
     },
     "execution_count": 6,
     "metadata": {},
     "output_type": "execute_result"
    }
   ],
   "source": [
    "time.time()"
   ]
  },
  {
   "cell_type": "markdown",
   "metadata": {},
   "source": [
    "## iterator\n",
    "- 전체 중 하나씩 뽑는다\n",
    "### `lazy`하다"
   ]
  },
  {
   "cell_type": "code",
   "execution_count": 1,
   "metadata": {
    "ExecuteTime": {
     "end_time": "2019-07-03T01:31:00.053493Z",
     "start_time": "2019-07-03T01:31:00.039019Z"
    }
   },
   "outputs": [
    {
     "name": "stdout",
     "output_type": "stream",
     "text": [
      "1\n",
      "2\n",
      "3\n"
     ]
    }
   ],
   "source": [
    "# in 다음에 iterable 올 수 있다.\n",
    "# [1,2,3] 을 순회하며 하나씩 뽑아서 i로 전달\n",
    "for i in [1,2,3]:\n",
    "    print(i)"
   ]
  },
  {
   "cell_type": "code",
   "execution_count": 2,
   "metadata": {
    "ExecuteTime": {
     "end_time": "2019-07-03T01:31:15.377924Z",
     "start_time": "2019-07-03T01:31:15.359457Z"
    }
   },
   "outputs": [
    {
     "data": {
      "text/plain": [
       "list_iterator"
      ]
     },
     "execution_count": 2,
     "metadata": {},
     "output_type": "execute_result"
    }
   ],
   "source": [
    "a = [1,2,3]\n",
    "b = iter(a)\n",
    "type(b)"
   ]
  },
  {
   "cell_type": "code",
   "execution_count": 3,
   "metadata": {
    "ExecuteTime": {
     "end_time": "2019-07-03T01:31:28.894033Z",
     "start_time": "2019-07-03T01:31:28.886051Z"
    }
   },
   "outputs": [
    {
     "data": {
      "text/plain": [
       "1"
      ]
     },
     "execution_count": 3,
     "metadata": {},
     "output_type": "execute_result"
    }
   ],
   "source": [
    "next(b)"
   ]
  },
  {
   "cell_type": "code",
   "execution_count": 4,
   "metadata": {
    "ExecuteTime": {
     "end_time": "2019-07-03T01:31:42.805202Z",
     "start_time": "2019-07-03T01:31:42.796718Z"
    }
   },
   "outputs": [
    {
     "data": {
      "text/plain": [
       "2"
      ]
     },
     "execution_count": 4,
     "metadata": {},
     "output_type": "execute_result"
    }
   ],
   "source": [
    "next(b)"
   ]
  },
  {
   "cell_type": "code",
   "execution_count": 5,
   "metadata": {
    "ExecuteTime": {
     "end_time": "2019-07-03T01:31:45.571892Z",
     "start_time": "2019-07-03T01:31:45.564405Z"
    }
   },
   "outputs": [
    {
     "data": {
      "text/plain": [
       "3"
      ]
     },
     "execution_count": 5,
     "metadata": {},
     "output_type": "execute_result"
    }
   ],
   "source": [
    "next(b)"
   ]
  },
  {
   "cell_type": "code",
   "execution_count": 6,
   "metadata": {
    "ExecuteTime": {
     "end_time": "2019-07-03T01:31:48.323879Z",
     "start_time": "2019-07-03T01:31:48.306415Z"
    }
   },
   "outputs": [
    {
     "ename": "StopIteration",
     "evalue": "",
     "output_type": "error",
     "traceback": [
      "\u001b[1;31m---------------------------------------------------------------------------\u001b[0m",
      "\u001b[1;31mStopIteration\u001b[0m                             Traceback (most recent call last)",
      "\u001b[1;32m<ipython-input-6-adb3e17b0219>\u001b[0m in \u001b[0;36m<module>\u001b[1;34m\u001b[0m\n\u001b[1;32m----> 1\u001b[1;33m \u001b[0mnext\u001b[0m\u001b[1;33m(\u001b[0m\u001b[0mb\u001b[0m\u001b[1;33m)\u001b[0m\u001b[1;33m\u001b[0m\u001b[1;33m\u001b[0m\u001b[0m\n\u001b[0m",
      "\u001b[1;31mStopIteration\u001b[0m: "
     ]
    }
   ],
   "source": [
    "next(b)"
   ]
  },
  {
   "cell_type": "markdown",
   "metadata": {},
   "source": [
    "iterator 는 `lazy` 하다\n",
    "- 실행 전 메모리상에 없다\n",
    "- 실행될 때 하나씩 뽑아 메모리 상에 올린다\n",
    "- 대신 속도는 약간 느리다 -> 파이썬은 속도도 좋아!"
   ]
  },
  {
   "cell_type": "code",
   "execution_count": 7,
   "metadata": {
    "ExecuteTime": {
     "end_time": "2019-07-03T01:35:54.957405Z",
     "start_time": "2019-07-03T01:35:54.947423Z"
    }
   },
   "outputs": [
    {
     "data": {
      "text/plain": [
       "<list_iterator at 0x205bc2c9dd8>"
      ]
     },
     "execution_count": 7,
     "metadata": {},
     "output_type": "execute_result"
    }
   ],
   "source": [
    "# 중간 객체는 확인 불가능\n",
    "b"
   ]
  },
  {
   "cell_type": "code",
   "execution_count": 9,
   "metadata": {
    "ExecuteTime": {
     "end_time": "2019-07-03T01:38:00.505475Z",
     "start_time": "2019-07-03T01:38:00.476518Z"
    }
   },
   "outputs": [
    {
     "data": {
      "text/plain": [
       "[]"
      ]
     },
     "execution_count": 9,
     "metadata": {},
     "output_type": "execute_result"
    }
   ],
   "source": [
    "# 원래 구조 자체도 변해! -> 메모리가 굉장히 효울적\n",
    "# pop과 유사하다. pop은 뒤에서부터 뽑는다.\n",
    "# iterator는 앞에서부터. 내부 최적화 되어있어서 굉장히 빠름\n",
    "list(b)"
   ]
  },
  {
   "cell_type": "markdown",
   "metadata": {},
   "source": [
    "함수형 패러다임은\n",
    "- 한꺼번에 여러개를 동시에 처리해야함.\n",
    "- 한 개씩 뽑아내기 위해서는 iterator 가 필요하다."
   ]
  },
  {
   "cell_type": "markdown",
   "metadata": {},
   "source": [
    "### 내부 구조를 알아보자"
   ]
  },
  {
   "cell_type": "code",
   "execution_count": 11,
   "metadata": {
    "ExecuteTime": {
     "end_time": "2019-07-03T01:40:35.364460Z",
     "start_time": "2019-07-03T01:40:35.359968Z"
    }
   },
   "outputs": [],
   "source": [
    "## disassemble : 분해\n",
    "import dis"
   ]
  },
  {
   "cell_type": "code",
   "execution_count": 12,
   "metadata": {
    "ExecuteTime": {
     "end_time": "2019-07-03T01:41:11.494173Z",
     "start_time": "2019-07-03T01:41:11.488700Z"
    }
   },
   "outputs": [],
   "source": [
    "def iterator_exam():\n",
    "    for i in [1,2,3]:\n",
    "        print(i)"
   ]
  },
  {
   "cell_type": "code",
   "execution_count": 13,
   "metadata": {
    "ExecuteTime": {
     "end_time": "2019-07-03T01:41:16.107075Z",
     "start_time": "2019-07-03T01:41:16.099590Z"
    }
   },
   "outputs": [
    {
     "name": "stdout",
     "output_type": "stream",
     "text": [
      "  2           0 SETUP_LOOP              20 (to 22)\n",
      "              2 LOAD_CONST               4 ((1, 2, 3))\n",
      "              4 GET_ITER\n",
      "        >>    6 FOR_ITER                12 (to 20)\n",
      "              8 STORE_FAST               0 (i)\n",
      "\n",
      "  3          10 LOAD_GLOBAL              0 (print)\n",
      "             12 LOAD_FAST                0 (i)\n",
      "             14 CALL_FUNCTION            1\n",
      "             16 POP_TOP\n",
      "             18 JUMP_ABSOLUTE            6\n",
      "        >>   20 POP_BLOCK\n",
      "        >>   22 LOAD_CONST               0 (None)\n",
      "             24 RETURN_VALUE\n"
     ]
    }
   ],
   "source": [
    "dis.dis(iterator_exam)"
   ]
  },
  {
   "cell_type": "markdown",
   "metadata": {},
   "source": [
    "GET_ITER / FOR ITER : 내부적으로 iterator로 바꾼다"
   ]
  },
  {
   "cell_type": "markdown",
   "metadata": {},
   "source": [
    "### iterator type\n",
    "- iterale은 모드 iterator 될 수 있다"
   ]
  },
  {
   "cell_type": "code",
   "execution_count": 14,
   "metadata": {
    "ExecuteTime": {
     "end_time": "2019-07-03T01:44:18.599068Z",
     "start_time": "2019-07-03T01:44:18.591085Z"
    }
   },
   "outputs": [
    {
     "data": {
      "text/plain": [
       "list_iterator"
      ]
     },
     "execution_count": 14,
     "metadata": {},
     "output_type": "execute_result"
    }
   ],
   "source": [
    "a = [1,2,3]\n",
    "b = iter(a)\n",
    "type(b)"
   ]
  },
  {
   "cell_type": "code",
   "execution_count": 15,
   "metadata": {
    "ExecuteTime": {
     "end_time": "2019-07-03T01:44:30.015129Z",
     "start_time": "2019-07-03T01:44:30.007143Z"
    }
   },
   "outputs": [
    {
     "data": {
      "text/plain": [
       "set_iterator"
      ]
     },
     "execution_count": 15,
     "metadata": {},
     "output_type": "execute_result"
    }
   ],
   "source": [
    "a = {1,2,3}\n",
    "b = iter(a)\n",
    "type(b)"
   ]
  },
  {
   "cell_type": "code",
   "execution_count": 16,
   "metadata": {
    "ExecuteTime": {
     "end_time": "2019-07-03T01:45:34.350899Z",
     "start_time": "2019-07-03T01:45:34.342413Z"
    }
   },
   "outputs": [
    {
     "data": {
      "text/plain": [
       "str_iterator"
      ]
     },
     "execution_count": 16,
     "metadata": {},
     "output_type": "execute_result"
    }
   ],
   "source": [
    "a = '1,2,3'\n",
    "b = iter(a)\n",
    "type(b)"
   ]
  },
  {
   "cell_type": "markdown",
   "metadata": {},
   "source": [
    "## 형변환 기법의 차이\n",
    "1. list, float는 기호가 붙어 있다. 기호를 내부적으로 check. 이러한 기호를 `literal`이라 한다\n",
    "2. 인스턴스 방식"
   ]
  },
  {
   "cell_type": "code",
   "execution_count": 17,
   "metadata": {
    "ExecuteTime": {
     "end_time": "2019-07-03T01:47:08.514782Z",
     "start_time": "2019-07-03T01:47:08.505295Z"
    }
   },
   "outputs": [
    {
     "data": {
      "text/plain": [
       "<function iter>"
      ]
     },
     "execution_count": 17,
     "metadata": {},
     "output_type": "execute_result"
    }
   ],
   "source": [
    "iter ## function"
   ]
  },
  {
   "cell_type": "code",
   "execution_count": 18,
   "metadata": {
    "ExecuteTime": {
     "end_time": "2019-07-03T01:47:10.445376Z",
     "start_time": "2019-07-03T01:47:10.437890Z"
    }
   },
   "outputs": [
    {
     "data": {
      "text/plain": [
       "int"
      ]
     },
     "execution_count": 18,
     "metadata": {},
     "output_type": "execute_result"
    }
   ],
   "source": [
    "int ## class"
   ]
  },
  {
   "cell_type": "markdown",
   "metadata": {},
   "source": [
    "### 리터럴"
   ]
  },
  {
   "cell_type": "code",
   "execution_count": 24,
   "metadata": {
    "ExecuteTime": {
     "end_time": "2019-07-03T01:51:14.912408Z",
     "start_time": "2019-07-03T01:51:14.905421Z"
    }
   },
   "outputs": [
    {
     "data": {
      "text/plain": [
       "1"
      ]
     },
     "execution_count": 24,
     "metadata": {},
     "output_type": "execute_result"
    }
   ],
   "source": [
    "# 이진수\n",
    "a = 0b1\n",
    "a"
   ]
  },
  {
   "cell_type": "code",
   "execution_count": 25,
   "metadata": {
    "ExecuteTime": {
     "end_time": "2019-07-03T01:51:16.930178Z",
     "start_time": "2019-07-03T01:51:16.921694Z"
    }
   },
   "outputs": [
    {
     "data": {
      "text/plain": [
       "20.0"
      ]
     },
     "execution_count": 25,
     "metadata": {},
     "output_type": "execute_result"
    }
   ],
   "source": [
    "# 부동소수점\n",
    "a = 2e1\n",
    "a"
   ]
  },
  {
   "cell_type": "code",
   "execution_count": 27,
   "metadata": {
    "ExecuteTime": {
     "end_time": "2019-07-03T01:51:54.376796Z",
     "start_time": "2019-07-03T01:51:54.370306Z"
    }
   },
   "outputs": [
    {
     "name": "stdout",
     "output_type": "stream",
     "text": [
      "ab\\n\n"
     ]
    }
   ],
   "source": [
    "# raw형 unicode\n",
    "a = r'ab\\n'\n",
    "print(a)"
   ]
  },
  {
   "cell_type": "code",
   "execution_count": 30,
   "metadata": {
    "ExecuteTime": {
     "end_time": "2019-07-03T01:52:22.330642Z",
     "start_time": "2019-07-03T01:52:22.324153Z"
    }
   },
   "outputs": [
    {
     "name": "stdout",
     "output_type": "stream",
     "text": [
      "b'ab\\n'\n"
     ]
    }
   ],
   "source": [
    "# byte형\n",
    "a = b'ab\\n'\n",
    "print(a)"
   ]
  },
  {
   "cell_type": "code",
   "execution_count": 31,
   "metadata": {
    "ExecuteTime": {
     "end_time": "2019-07-03T01:53:38.233404Z",
     "start_time": "2019-07-03T01:53:38.225918Z"
    }
   },
   "outputs": [
    {
     "name": "stdout",
     "output_type": "stream",
     "text": [
      "ab\n",
      "\n"
     ]
    }
   ],
   "source": [
    "# 형\n",
    "a = f'ab\\n'\n",
    "print(a)"
   ]
  },
  {
   "cell_type": "markdown",
   "metadata": {},
   "source": [
    "### 인스턴스 방식\n",
    "객체 생성 가이드라인\n",
    "- 내가 만든 클래스 : 객체 첫글자 소문자\n",
    "- 남이 만든 클래스 : 객체 첫글자 대문자"
   ]
  },
  {
   "cell_type": "code",
   "execution_count": 32,
   "metadata": {
    "ExecuteTime": {
     "end_time": "2019-07-03T01:56:18.623111Z",
     "start_time": "2019-07-03T01:56:18.615129Z"
    }
   },
   "outputs": [
    {
     "data": {
      "text/plain": [
       "int"
      ]
     },
     "execution_count": 32,
     "metadata": {},
     "output_type": "execute_result"
    }
   ],
   "source": [
    "a = 1\n",
    "type(a) # 나오는 애가 클래스 이름"
   ]
  },
  {
   "cell_type": "code",
   "execution_count": 33,
   "metadata": {
    "ExecuteTime": {
     "end_time": "2019-07-03T01:57:50.500070Z",
     "start_time": "2019-07-03T01:57:50.493084Z"
    }
   },
   "outputs": [
    {
     "data": {
      "text/plain": [
       "0"
      ]
     },
     "execution_count": 33,
     "metadata": {},
     "output_type": "execute_result"
    }
   ],
   "source": [
    "a = int() # 인자 없으면 false 되는 값 return\n",
    "a"
   ]
  },
  {
   "cell_type": "code",
   "execution_count": 34,
   "metadata": {
    "ExecuteTime": {
     "end_time": "2019-07-03T01:58:42.821937Z",
     "start_time": "2019-07-03T01:58:42.813951Z"
    }
   },
   "outputs": [
    {
     "data": {
      "text/plain": [
       "0.0"
      ]
     },
     "execution_count": 34,
     "metadata": {},
     "output_type": "execute_result"
    }
   ],
   "source": [
    "b = float()\n",
    "b"
   ]
  },
  {
   "cell_type": "code",
   "execution_count": 35,
   "metadata": {
    "ExecuteTime": {
     "end_time": "2019-07-03T01:58:51.775224Z",
     "start_time": "2019-07-03T01:58:51.768237Z"
    }
   },
   "outputs": [
    {
     "data": {
      "text/plain": [
       "[]"
      ]
     },
     "execution_count": 35,
     "metadata": {},
     "output_type": "execute_result"
    }
   ],
   "source": [
    "b = list()\n",
    "b"
   ]
  },
  {
   "cell_type": "code",
   "execution_count": 39,
   "metadata": {
    "ExecuteTime": {
     "end_time": "2019-07-03T02:00:58.795060Z",
     "start_time": "2019-07-03T02:00:58.788073Z"
    }
   },
   "outputs": [
    {
     "data": {
      "text/plain": [
       "{}"
      ]
     },
     "execution_count": 39,
     "metadata": {},
     "output_type": "execute_result"
    }
   ],
   "source": [
    "b = dict()\n",
    "b"
   ]
  },
  {
   "cell_type": "code",
   "execution_count": 40,
   "metadata": {
    "ExecuteTime": {
     "end_time": "2019-07-03T02:00:59.043598Z",
     "start_time": "2019-07-03T02:00:59.035113Z"
    }
   },
   "outputs": [
    {
     "data": {
      "text/plain": [
       "set()"
      ]
     },
     "execution_count": 40,
     "metadata": {},
     "output_type": "execute_result"
    }
   ],
   "source": [
    "## set은 다르다 원래 없었기 때문\n",
    "b = set()\n",
    "b"
   ]
  },
  {
   "cell_type": "markdown",
   "metadata": {
    "ExecuteTime": {
     "end_time": "2019-07-03T02:00:53.172602Z",
     "start_time": "2019-07-03T02:00:53.166116Z"
    }
   },
   "source": [
    "파이썬에서는 타입을 변환해주는 기능이 없다. 인스턴스를 새로 만드는 것\n",
    "> iter() 는 예외적이다"
   ]
  },
  {
   "cell_type": "markdown",
   "metadata": {},
   "source": [
    "## 제너레이터\n",
    "### iterator와 유사"
   ]
  },
  {
   "cell_type": "code",
   "execution_count": 41,
   "metadata": {
    "ExecuteTime": {
     "end_time": "2019-07-03T02:15:50.623114Z",
     "start_time": "2019-07-03T02:15:50.615626Z"
    }
   },
   "outputs": [],
   "source": [
    "def generator_exam():\n",
    "    yield 1\n",
    "    yield 2\n",
    "    yield 3"
   ]
  },
  {
   "cell_type": "code",
   "execution_count": 42,
   "metadata": {
    "ExecuteTime": {
     "end_time": "2019-07-03T02:16:01.941677Z",
     "start_time": "2019-07-03T02:16:01.934692Z"
    }
   },
   "outputs": [
    {
     "data": {
      "text/plain": [
       "generator"
      ]
     },
     "execution_count": 42,
     "metadata": {},
     "output_type": "execute_result"
    }
   ],
   "source": [
    "x = generator_exam()\n",
    "type(x)"
   ]
  },
  {
   "cell_type": "code",
   "execution_count": 43,
   "metadata": {
    "ExecuteTime": {
     "end_time": "2019-07-03T02:16:29.691001Z",
     "start_time": "2019-07-03T02:16:29.683516Z"
    }
   },
   "outputs": [
    {
     "data": {
      "text/plain": [
       "1"
      ]
     },
     "execution_count": 43,
     "metadata": {},
     "output_type": "execute_result"
    }
   ],
   "source": [
    "next(x)"
   ]
  },
  {
   "cell_type": "code",
   "execution_count": 44,
   "metadata": {
    "ExecuteTime": {
     "end_time": "2019-07-03T02:16:33.539011Z",
     "start_time": "2019-07-03T02:16:33.530525Z"
    }
   },
   "outputs": [
    {
     "data": {
      "text/plain": [
       "2"
      ]
     },
     "execution_count": 44,
     "metadata": {},
     "output_type": "execute_result"
    }
   ],
   "source": [
    "next(x)"
   ]
  },
  {
   "cell_type": "code",
   "execution_count": 45,
   "metadata": {
    "ExecuteTime": {
     "end_time": "2019-07-03T02:16:34.390810Z",
     "start_time": "2019-07-03T02:16:34.383325Z"
    }
   },
   "outputs": [
    {
     "data": {
      "text/plain": [
       "3"
      ]
     },
     "execution_count": 45,
     "metadata": {},
     "output_type": "execute_result"
    }
   ],
   "source": [
    "next(x)"
   ]
  },
  {
   "cell_type": "code",
   "execution_count": 46,
   "metadata": {
    "ExecuteTime": {
     "end_time": "2019-07-03T02:16:35.322687Z",
     "start_time": "2019-07-03T02:16:35.304720Z"
    }
   },
   "outputs": [
    {
     "ename": "StopIteration",
     "evalue": "",
     "output_type": "error",
     "traceback": [
      "\u001b[1;31m---------------------------------------------------------------------------\u001b[0m",
      "\u001b[1;31mStopIteration\u001b[0m                             Traceback (most recent call last)",
      "\u001b[1;32m<ipython-input-46-92de4e9f6b1e>\u001b[0m in \u001b[0;36m<module>\u001b[1;34m\u001b[0m\n\u001b[1;32m----> 1\u001b[1;33m \u001b[0mnext\u001b[0m\u001b[1;33m(\u001b[0m\u001b[0mx\u001b[0m\u001b[1;33m)\u001b[0m\u001b[1;33m\u001b[0m\u001b[1;33m\u001b[0m\u001b[0m\n\u001b[0m",
      "\u001b[1;31mStopIteration\u001b[0m: "
     ]
    }
   ],
   "source": [
    "next(x)"
   ]
  },
  {
   "cell_type": "code",
   "execution_count": 47,
   "metadata": {
    "ExecuteTime": {
     "end_time": "2019-07-03T02:17:48.391630Z",
     "start_time": "2019-07-03T02:17:48.386141Z"
    }
   },
   "outputs": [],
   "source": [
    "# from\n",
    "def generator_exam():\n",
    "    yield from [1,2,3,4]"
   ]
  },
  {
   "cell_type": "markdown",
   "metadata": {},
   "source": [
    "`yield` 를 쓰면 `generator` 가 된다 내맘대로 `next` 쓸 수 있음\n",
    "- `lazy` 한 장점! 속도, 메모리 효율적!"
   ]
  },
  {
   "cell_type": "markdown",
   "metadata": {},
   "source": [
    "### 함수 외 또 다른 방법 : 제너레이터 반복식!"
   ]
  },
  {
   "cell_type": "markdown",
   "metadata": {},
   "source": [
    "##### Comprehension\n",
    "- 하스켈에서 베낌 ㅋㅅㅋ\n",
    "- 반복식이라고도 함"
   ]
  },
  {
   "cell_type": "code",
   "execution_count": 48,
   "metadata": {
    "ExecuteTime": {
     "end_time": "2019-07-03T02:22:16.085497Z",
     "start_time": "2019-07-03T02:22:16.077013Z"
    }
   },
   "outputs": [
    {
     "data": {
      "text/plain": [
       "[0, 1, 2, 3, 4, 5, 6, 7, 8, 9]"
      ]
     },
     "execution_count": 48,
     "metadata": {},
     "output_type": "execute_result"
    }
   ],
   "source": [
    "[x for x in range(10)]"
   ]
  },
  {
   "cell_type": "code",
   "execution_count": 49,
   "metadata": {
    "ExecuteTime": {
     "end_time": "2019-07-03T02:24:04.220803Z",
     "start_time": "2019-07-03T02:23:54.096600Z"
    }
   },
   "outputs": [
    {
     "name": "stdout",
     "output_type": "stream",
     "text": [
      "1.22 µs ± 110 ns per loop (mean ± std. dev. of 7 runs, 1000000 loops each)\n"
     ]
    }
   ],
   "source": [
    "## 여러번 실행해서 평균값 측정\n",
    "%timeit [x for x in range(10)]"
   ]
  },
  {
   "cell_type": "code",
   "execution_count": 59,
   "metadata": {
    "ExecuteTime": {
     "end_time": "2019-07-03T02:26:03.226930Z",
     "start_time": "2019-07-03T02:26:00.662692Z"
    }
   },
   "outputs": [
    {
     "name": "stdout",
     "output_type": "stream",
     "text": [
      "3 µs ± 1.2 µs per loop (mean ± std. dev. of 7 runs, 100000 loops each)\n"
     ]
    }
   ],
   "source": [
    "%%timeit\n",
    "temp = []\n",
    "for i in range(10):\n",
    "    temp.append(i)\n",
    "## %% 두개면 셀 전체 시간측정"
   ]
  },
  {
   "cell_type": "markdown",
   "metadata": {},
   "source": [
    ">컴프리헨션이 더 빠르다"
   ]
  },
  {
   "cell_type": "code",
   "execution_count": 60,
   "metadata": {
    "ExecuteTime": {
     "end_time": "2019-07-03T02:26:42.506774Z",
     "start_time": "2019-07-03T02:26:42.497293Z"
    }
   },
   "outputs": [
    {
     "data": {
      "text/plain": [
       "['0', '1', '2', '3', '4', '5', '6', '7', '8', '9']"
      ]
     },
     "execution_count": 60,
     "metadata": {},
     "output_type": "execute_result"
    }
   ],
   "source": [
    "[str(x) for x in range(10)]"
   ]
  },
  {
   "cell_type": "code",
   "execution_count": 66,
   "metadata": {
    "ExecuteTime": {
     "end_time": "2019-07-03T02:29:55.332464Z",
     "start_time": "2019-07-03T02:29:55.323497Z"
    }
   },
   "outputs": [
    {
     "data": {
      "text/plain": [
       "['0', '2', '4', '6', '8']"
      ]
     },
     "execution_count": 66,
     "metadata": {},
     "output_type": "execute_result"
    }
   ],
   "source": [
    "[str(x) for x in range(10) if x%2==0]\n",
    "# else가 없음"
   ]
  },
  {
   "cell_type": "markdown",
   "metadata": {},
   "source": [
    "파이썬은 왼쪽에서 오른쪽으로 계산해요"
   ]
  },
  {
   "cell_type": "code",
   "execution_count": 65,
   "metadata": {
    "ExecuteTime": {
     "end_time": "2019-07-03T02:29:48.975919Z",
     "start_time": "2019-07-03T02:29:48.967437Z"
    }
   },
   "outputs": [
    {
     "data": {
      "text/plain": [
       "[0, 3, 2, 3, 4, 3, 6, 3, 8, 3]"
      ]
     },
     "execution_count": 65,
     "metadata": {},
     "output_type": "execute_result"
    }
   ],
   "source": [
    "[x if x%2==0 else 3 for x in range(10)]\n",
    "## else가 꼭 있어야 함"
   ]
  },
  {
   "cell_type": "code",
   "execution_count": 67,
   "metadata": {
    "ExecuteTime": {
     "end_time": "2019-07-03T02:30:28.857450Z",
     "start_time": "2019-07-03T02:30:28.846969Z"
    }
   },
   "outputs": [
    {
     "data": {
      "text/plain": [
       "[(0, 0),\n",
       " (0, 1),\n",
       " (0, 2),\n",
       " (0, 3),\n",
       " (0, 4),\n",
       " (1, 0),\n",
       " (1, 1),\n",
       " (1, 2),\n",
       " (1, 3),\n",
       " (1, 4),\n",
       " (2, 0),\n",
       " (2, 1),\n",
       " (2, 2),\n",
       " (2, 3),\n",
       " (2, 4),\n",
       " (3, 0),\n",
       " (3, 1),\n",
       " (3, 2),\n",
       " (3, 3),\n",
       " (3, 4),\n",
       " (4, 0),\n",
       " (4, 1),\n",
       " (4, 2),\n",
       " (4, 3),\n",
       " (4, 4)]"
      ]
     },
     "execution_count": 67,
     "metadata": {},
     "output_type": "execute_result"
    }
   ],
   "source": [
    "[(x,y) for x in range(5) for y in range(5)]"
   ]
  },
  {
   "cell_type": "markdown",
   "metadata": {},
   "source": [
    "값을 초기화할 때 `comprehension` 쓴다\n",
    "- list\n",
    "- set\n",
    "- dict\n",
    "- tuple은 generator 생성"
   ]
  },
  {
   "cell_type": "code",
   "execution_count": 68,
   "metadata": {
    "ExecuteTime": {
     "end_time": "2019-07-03T02:32:12.770825Z",
     "start_time": "2019-07-03T02:32:12.761340Z"
    }
   },
   "outputs": [
    {
     "data": {
      "text/plain": [
       "<generator object <genexpr> at 0x00000205BC3C8678>"
      ]
     },
     "execution_count": 68,
     "metadata": {},
     "output_type": "execute_result"
    }
   ],
   "source": [
    "((x,y) for x in range(5) for y in range(5))"
   ]
  },
  {
   "cell_type": "code",
   "execution_count": 69,
   "metadata": {
    "ExecuteTime": {
     "end_time": "2019-07-03T02:32:46.465437Z",
     "start_time": "2019-07-03T02:32:46.456951Z"
    }
   },
   "outputs": [
    {
     "data": {
      "text/plain": [
       "{0, 1, 2, 3, 4}"
      ]
     },
     "execution_count": 69,
     "metadata": {},
     "output_type": "execute_result"
    }
   ],
   "source": [
    "{x for x in range(5)}"
   ]
  },
  {
   "cell_type": "code",
   "execution_count": 70,
   "metadata": {
    "ExecuteTime": {
     "end_time": "2019-07-03T02:33:04.640392Z",
     "start_time": "2019-07-03T02:33:04.632403Z"
    }
   },
   "outputs": [
    {
     "data": {
      "text/plain": [
       "{0: 1, 1: 1, 2: 1, 3: 1, 4: 1}"
      ]
     },
     "execution_count": 70,
     "metadata": {},
     "output_type": "execute_result"
    }
   ],
   "source": [
    "{x:1 for x in range(5)}"
   ]
  },
  {
   "cell_type": "markdown",
   "metadata": {},
   "source": [
    "- 함수형 패러다임 언어에서는 `muttable` 이 없다.\n",
    "- `immutable` 수학적으로 변경되면 안됨! -> tuple사용"
   ]
  },
  {
   "cell_type": "code",
   "execution_count": 72,
   "metadata": {
    "ExecuteTime": {
     "end_time": "2019-07-03T02:35:43.860336Z",
     "start_time": "2019-07-03T02:35:43.851851Z"
    }
   },
   "outputs": [
    {
     "data": {
      "text/plain": [
       "0"
      ]
     },
     "execution_count": 72,
     "metadata": {},
     "output_type": "execute_result"
    }
   ],
   "source": [
    "a = (x for x in range(5))\n",
    "next(a)"
   ]
  },
  {
   "cell_type": "markdown",
   "metadata": {},
   "source": [
    "##### for 를 쓰지 않는 기법\n",
    "\n",
    "1. iterator / generator\n",
    "2. for 문을 쓰지 않고 동시에 여러개를 처리 : 컴프리헨션의 for문은 for문이 아니다\n",
    "3. 재귀\n",
    "4. map, filter, reduce"
   ]
  },
  {
   "cell_type": "code",
   "execution_count": 75,
   "metadata": {
    "ExecuteTime": {
     "end_time": "2019-07-03T02:43:13.874015Z",
     "start_time": "2019-07-03T02:43:11.833803Z"
    }
   },
   "outputs": [
    {
     "name": "stdout",
     "output_type": "stream",
     "text": [
      "2.4 µs ± 683 ns per loop (mean ± std. dev. of 7 runs, 100000 loops each)\n"
     ]
    }
   ],
   "source": [
    "%%timeit\n",
    "temp = []\n",
    "for i in range(10):\n",
    "    temp.append(i)"
   ]
  },
  {
   "cell_type": "code",
   "execution_count": 76,
   "metadata": {
    "ExecuteTime": {
     "end_time": "2019-07-03T02:43:15.564874Z",
     "start_time": "2019-07-03T02:43:13.881999Z"
    }
   },
   "outputs": [
    {
     "name": "stdout",
     "output_type": "stream",
     "text": [
      "1.89 µs ± 120 ns per loop (mean ± std. dev. of 7 runs, 100000 loops each)\n"
     ]
    }
   ],
   "source": [
    "%%timeit\n",
    "temp = []\n",
    "for i in iter(range(10)):\n",
    "    temp.append(i)"
   ]
  },
  {
   "cell_type": "markdown",
   "metadata": {},
   "source": [
    "거의 차이가 없다 iter()로 만드는 cost가 적다!"
   ]
  },
  {
   "cell_type": "code",
   "execution_count": 77,
   "metadata": {
    "ExecuteTime": {
     "end_time": "2019-07-03T02:45:13.657014Z",
     "start_time": "2019-07-03T02:45:13.652025Z"
    }
   },
   "outputs": [],
   "source": [
    "from collections.abc import Iterable\n",
    "from collections.abc import Iterator"
   ]
  },
  {
   "cell_type": "code",
   "execution_count": 82,
   "metadata": {
    "ExecuteTime": {
     "end_time": "2019-07-03T02:46:29.130773Z",
     "start_time": "2019-07-03T02:46:29.123790Z"
    }
   },
   "outputs": [
    {
     "data": {
      "text/plain": [
       "{'__next__'}"
      ]
     },
     "execution_count": 82,
     "metadata": {},
     "output_type": "execute_result"
    }
   ],
   "source": [
    "set(dir(Iterator)) - set(dir(Iterable))\n",
    "# iterable 써야하는 곳에 iterator 쓸 수 있다"
   ]
  },
  {
   "cell_type": "markdown",
   "metadata": {},
   "source": [
    "## 결론\n",
    "- 꼭 이거 쓸 필요 없다.\n",
    "- 내가 필요할 때 사용하면 됨"
   ]
  },
  {
   "cell_type": "code",
   "execution_count": 87,
   "metadata": {
    "ExecuteTime": {
     "end_time": "2019-07-03T04:06:52.567502Z",
     "start_time": "2019-07-03T04:06:49.037062Z"
    }
   },
   "outputs": [
    {
     "name": "stdout",
     "output_type": "stream",
     "text": [
      "421 ns ± 143 ns per loop (mean ± std. dev. of 7 runs, 1000000 loops each)\n"
     ]
    }
   ],
   "source": [
    "%timeit sum((1,2,3,4,5,6,7,8,9,10))\n",
    "# 만들 필요 없음"
   ]
  },
  {
   "cell_type": "code",
   "execution_count": 88,
   "metadata": {
    "ExecuteTime": {
     "end_time": "2019-07-03T04:06:54.350190Z",
     "start_time": "2019-07-03T04:06:52.573490Z"
    }
   },
   "outputs": [
    {
     "name": "stdout",
     "output_type": "stream",
     "text": [
      "2.02 µs ± 189 ns per loop (mean ± std. dev. of 7 runs, 100000 loops each)\n"
     ]
    }
   ],
   "source": [
    "%timeit sum((x for x in range(1,11)))\n",
    "# 만들어서 계산 -> 느리다"
   ]
  },
  {
   "cell_type": "code",
   "execution_count": 89,
   "metadata": {
    "ExecuteTime": {
     "end_time": "2019-07-03T04:06:56.330507Z",
     "start_time": "2019-07-03T04:06:54.354679Z"
    }
   },
   "outputs": [
    {
     "name": "stdout",
     "output_type": "stream",
     "text": [
      "2.36 µs ± 408 ns per loop (mean ± std. dev. of 7 runs, 100000 loops each)\n"
     ]
    }
   ],
   "source": [
    "# generator가 함수에 들어갈 때 괄호 생략 가능\n",
    "%timeit sum(x for x in range(1,11))"
   ]
  },
  {
   "cell_type": "markdown",
   "metadata": {},
   "source": [
    "## 재귀\n",
    "- 함수형 패러다임은 재귀를 좋아한다\n",
    "- 수학적으로 점화식로 표현할수 있으면\n",
    "- 모두 재귀함수로 표현할 수 있다."
   ]
  },
  {
   "cell_type": "code",
   "execution_count": 90,
   "metadata": {
    "ExecuteTime": {
     "end_time": "2019-07-03T04:17:07.508345Z",
     "start_time": "2019-07-03T04:17:07.500876Z"
    }
   },
   "outputs": [],
   "source": [
    "## 피보나치 수열\n",
    "def fibo(n):\n",
    "    if n<3:\n",
    "        return 1\n",
    "    return fibo(n-1) + fibo(n-2)"
   ]
  },
  {
   "cell_type": "code",
   "execution_count": 101,
   "metadata": {
    "ExecuteTime": {
     "end_time": "2019-07-03T04:18:17.717333Z",
     "start_time": "2019-07-03T04:18:17.709347Z"
    }
   },
   "outputs": [
    {
     "data": {
      "text/plain": [
       "5"
      ]
     },
     "execution_count": 101,
     "metadata": {},
     "output_type": "execute_result"
    }
   ],
   "source": [
    "fibo(5)"
   ]
  },
  {
   "cell_type": "markdown",
   "metadata": {},
   "source": [
    "꼬리 재귀\n",
    "- 재귀를 하면서 쌓이는 스택을 일렬로 만들어\n",
    "- 중복 연산을 재거하여 속도가 높어짐\n",
    "- Haskell은 제공한다\n",
    "- python은 제공하지 않는다."
   ]
  },
  {
   "cell_type": "code",
   "execution_count": 102,
   "metadata": {
    "ExecuteTime": {
     "end_time": "2019-07-03T04:37:48.117226Z",
     "start_time": "2019-07-03T04:37:48.112236Z"
    }
   },
   "outputs": [],
   "source": [
    "fibo.x = 3"
   ]
  },
  {
   "cell_type": "code",
   "execution_count": 103,
   "metadata": {
    "ExecuteTime": {
     "end_time": "2019-07-03T04:37:55.383623Z",
     "start_time": "2019-07-03T04:37:55.377151Z"
    }
   },
   "outputs": [],
   "source": [
    "## 피보나치 수열\n",
    "def fibo(n):\n",
    "    if n<3:\n",
    "        return 1\n",
    "    return fibo(n-1) + fibo(n-2) + x"
   ]
  },
  {
   "cell_type": "markdown",
   "metadata": {},
   "source": [
    "## 내장 함수\n",
    "1. `map`\n",
    "2. `filter`\n",
    "3. `reduce`"
   ]
  },
  {
   "cell_type": "markdown",
   "metadata": {},
   "source": [
    "### Map\n",
    "- 데이터를 한번에 바꾸기 유용"
   ]
  },
  {
   "cell_type": "code",
   "execution_count": 104,
   "metadata": {
    "ExecuteTime": {
     "end_time": "2019-07-03T04:44:55.547356Z",
     "start_time": "2019-07-03T04:44:55.540872Z"
    }
   },
   "outputs": [],
   "source": [
    "def add_one(x):\n",
    "    return x+1"
   ]
  },
  {
   "cell_type": "code",
   "execution_count": 110,
   "metadata": {
    "ExecuteTime": {
     "end_time": "2019-07-03T04:45:33.107793Z",
     "start_time": "2019-07-03T04:45:33.099305Z"
    }
   },
   "outputs": [
    {
     "data": {
      "text/plain": [
       "[2, 3, 4, 5, 6]"
      ]
     },
     "execution_count": 110,
     "metadata": {},
     "output_type": "execute_result"
    }
   ],
   "source": [
    "list(map(add_one, [1,2,3,4,5]))"
   ]
  },
  {
   "cell_type": "code",
   "execution_count": 121,
   "metadata": {
    "ExecuteTime": {
     "end_time": "2019-07-03T04:51:11.112913Z",
     "start_time": "2019-07-03T04:51:09.010321Z"
    }
   },
   "outputs": [
    {
     "name": "stdout",
     "output_type": "stream",
     "text": [
      "2.56 µs ± 982 ns per loop (mean ± std. dev. of 7 runs, 100000 loops each)\n"
     ]
    }
   ],
   "source": [
    "%timeit list(map(lambda x: x+1, [1,2,3,4,5]))"
   ]
  },
  {
   "cell_type": "code",
   "execution_count": 122,
   "metadata": {
    "ExecuteTime": {
     "end_time": "2019-07-03T04:51:19.675710Z",
     "start_time": "2019-07-03T04:51:14.204362Z"
    }
   },
   "outputs": [
    {
     "name": "stdout",
     "output_type": "stream",
     "text": [
      "649 ns ± 15.4 ns per loop (mean ± std. dev. of 7 runs, 1000000 loops each)\n"
     ]
    }
   ],
   "source": [
    "%timeit [x+1 for x in [1,2,3,4,5]]"
   ]
  },
  {
   "cell_type": "code",
   "execution_count": 120,
   "metadata": {
    "ExecuteTime": {
     "end_time": "2019-07-03T04:50:20.853701Z",
     "start_time": "2019-07-03T04:50:13.646575Z"
    }
   },
   "outputs": [
    {
     "name": "stdout",
     "output_type": "stream",
     "text": [
      "902 ns ± 282 ns per loop (mean ± std. dev. of 7 runs, 1000000 loops each)\n"
     ]
    }
   ],
   "source": [
    "%%timeit\n",
    "temp = []\n",
    "for i in [1,2,3,4,5]:\n",
    "    temp.append(i)"
   ]
  },
  {
   "cell_type": "code",
   "execution_count": 126,
   "metadata": {
    "ExecuteTime": {
     "end_time": "2019-07-03T04:52:39.193523Z",
     "start_time": "2019-07-03T04:52:39.186038Z"
    }
   },
   "outputs": [
    {
     "data": {
      "text/plain": [
       "['__class__',\n",
       " '__delattr__',\n",
       " '__dir__',\n",
       " '__doc__',\n",
       " '__eq__',\n",
       " '__format__',\n",
       " '__ge__',\n",
       " '__getattribute__',\n",
       " '__gt__',\n",
       " '__hash__',\n",
       " '__init__',\n",
       " '__init_subclass__',\n",
       " '__iter__',\n",
       " '__le__',\n",
       " '__lt__',\n",
       " '__ne__',\n",
       " '__new__',\n",
       " '__next__',\n",
       " '__reduce__',\n",
       " '__reduce_ex__',\n",
       " '__repr__',\n",
       " '__setattr__',\n",
       " '__sizeof__',\n",
       " '__str__',\n",
       " '__subclasshook__']"
      ]
     },
     "execution_count": 126,
     "metadata": {},
     "output_type": "execute_result"
    }
   ],
   "source": [
    "dir(map)\n",
    "## iterable"
   ]
  },
  {
   "cell_type": "markdown",
   "metadata": {},
   "source": [
    "### Filter "
   ]
  },
  {
   "cell_type": "code",
   "execution_count": 127,
   "metadata": {
    "ExecuteTime": {
     "end_time": "2019-07-03T04:55:22.149687Z",
     "start_time": "2019-07-03T04:55:22.142702Z"
    }
   },
   "outputs": [
    {
     "data": {
      "text/plain": [
       "filter"
      ]
     },
     "execution_count": 127,
     "metadata": {},
     "output_type": "execute_result"
    }
   ],
   "source": [
    "filter\n",
    "# 조건이 True or False"
   ]
  },
  {
   "cell_type": "markdown",
   "metadata": {},
   "source": [
    "##### predicate\n",
    "True 또는 False를 반환하는 함수"
   ]
  },
  {
   "cell_type": "code",
   "execution_count": 130,
   "metadata": {
    "ExecuteTime": {
     "end_time": "2019-07-03T05:10:15.003073Z",
     "start_time": "2019-07-03T05:10:14.995090Z"
    }
   },
   "outputs": [
    {
     "data": {
      "text/plain": [
       "(4, 5, 6)"
      ]
     },
     "execution_count": 130,
     "metadata": {},
     "output_type": "execute_result"
    }
   ],
   "source": [
    "tuple(filter(lambda x : x>3 , [1,2,3,4,5,6]))"
   ]
  },
  {
   "cell_type": "markdown",
   "metadata": {},
   "source": [
    "### Reduce"
   ]
  },
  {
   "cell_type": "code",
   "execution_count": 131,
   "metadata": {
    "ExecuteTime": {
     "end_time": "2019-07-03T05:12:27.779472Z",
     "start_time": "2019-07-03T05:12:27.774978Z"
    }
   },
   "outputs": [],
   "source": [
    "from functools import reduce"
   ]
  },
  {
   "cell_type": "code",
   "execution_count": 132,
   "metadata": {
    "ExecuteTime": {
     "end_time": "2019-07-03T05:13:03.798324Z",
     "start_time": "2019-07-03T05:13:03.791836Z"
    }
   },
   "outputs": [
    {
     "data": {
      "text/plain": [
       "<function _functools.reduce>"
      ]
     },
     "execution_count": 132,
     "metadata": {},
     "output_type": "execute_result"
    }
   ],
   "source": [
    "reduce\n",
    "## squence : 순서가 있어야 함."
   ]
  },
  {
   "cell_type": "code",
   "execution_count": 133,
   "metadata": {
    "ExecuteTime": {
     "end_time": "2019-07-03T05:13:26.123117Z",
     "start_time": "2019-07-03T05:13:26.114635Z"
    }
   },
   "outputs": [
    {
     "data": {
      "text/plain": [
       "15"
      ]
     },
     "execution_count": 133,
     "metadata": {},
     "output_type": "execute_result"
    }
   ],
   "source": [
    "reduce(lambda x,y : x+y, [1,2,3,4,5])"
   ]
  },
  {
   "cell_type": "markdown",
   "metadata": {},
   "source": [
    "### enumulator"
   ]
  },
  {
   "cell_type": "code",
   "execution_count": 134,
   "metadata": {
    "ExecuteTime": {
     "end_time": "2019-07-03T05:21:15.163014Z",
     "start_time": "2019-07-03T05:21:15.156525Z"
    }
   },
   "outputs": [
    {
     "name": "stdout",
     "output_type": "stream",
     "text": [
      "0 문\n",
      "1 근\n",
      "2 영\n",
      "3  \n",
      "4 예\n",
      "5 뻐\n",
      "6 요\n"
     ]
    }
   ],
   "source": [
    "a = '문근영 예뻐요'\n",
    "for i,v in enumerate(a):\n",
    "    print(i, v)"
   ]
  },
  {
   "cell_type": "code",
   "execution_count": 136,
   "metadata": {
    "ExecuteTime": {
     "end_time": "2019-07-03T05:22:40.278487Z",
     "start_time": "2019-07-03T05:22:40.270518Z"
    }
   },
   "outputs": [
    {
     "name": "stdout",
     "output_type": "stream",
     "text": [
      "1 문\n",
      "2 근\n",
      "3 영\n",
      "4  \n",
      "5 예\n",
      "6 뻐\n",
      "7 요\n"
     ]
    }
   ],
   "source": [
    "for i,v in enumerate(a,1):\n",
    "    print(i, v)"
   ]
  },
  {
   "cell_type": "code",
   "execution_count": null,
   "metadata": {},
   "outputs": [],
   "source": []
  }
 ],
 "metadata": {
  "kernelspec": {
   "display_name": "Python 3",
   "language": "python",
   "name": "python3"
  },
  "language_info": {
   "codemirror_mode": {
    "name": "ipython",
    "version": 3
   },
   "file_extension": ".py",
   "mimetype": "text/x-python",
   "name": "python",
   "nbconvert_exporter": "python",
   "pygments_lexer": "ipython3",
   "version": "3.6.7"
  },
  "toc": {
   "base_numbering": 1,
   "nav_menu": {},
   "number_sections": true,
   "sideBar": true,
   "skip_h1_title": false,
   "title_cell": "Table of Contents",
   "title_sidebar": "Contents",
   "toc_cell": false,
   "toc_position": {
    "height": "574.4px",
    "left": "726px",
    "top": "110.8px",
    "width": "241.6px"
   },
   "toc_section_display": true,
   "toc_window_display": true
  }
 },
 "nbformat": 4,
 "nbformat_minor": 2
}

{
 "cells": [
  {
   "cell_type": "code",
   "execution_count": 9,
   "metadata": {
    "ExecuteTime": {
     "end_time": "2019-07-18T04:22:05.444597Z",
     "start_time": "2019-07-18T04:22:05.438602Z"
    }
   },
   "outputs": [],
   "source": [
    "from bs4 import BeautifulSoup\n",
    "import requests\n",
    "import time\n",
    "import re\n",
    "import sqlite3\n",
    "from selenium import webdriver\n",
    "import json"
   ]
  },
  {
   "cell_type": "code",
   "execution_count": 157,
   "metadata": {
    "ExecuteTime": {
     "end_time": "2019-07-18T06:24:00.321278Z",
     "start_time": "2019-07-18T06:23:54.616545Z"
    }
   },
   "outputs": [],
   "source": [
    "driver = webdriver.Chrome()"
   ]
  },
  {
   "cell_type": "code",
   "execution_count": 320,
   "metadata": {
    "ExecuteTime": {
     "end_time": "2019-07-18T07:52:20.553361Z",
     "start_time": "2019-07-18T07:52:10.295784Z"
    }
   },
   "outputs": [],
   "source": [
    "driver.get('http://ticket.interpark.com/')"
   ]
  },
  {
   "cell_type": "markdown",
   "metadata": {},
   "source": [
    "로그인\n",
    "--------------------"
   ]
  },
  {
   "cell_type": "code",
   "execution_count": 11,
   "metadata": {
    "ExecuteTime": {
     "end_time": "2019-07-18T04:22:39.025389Z",
     "start_time": "2019-07-18T04:22:39.007397Z"
    }
   },
   "outputs": [
    {
     "name": "stdout",
     "output_type": "stream",
     "text": [
      "Overwriting interpark.json\n"
     ]
    }
   ],
   "source": [
    "%%writefile interpark.json\n"
   ]
  },
  {
   "cell_type": "code",
   "execution_count": 159,
   "metadata": {
    "ExecuteTime": {
     "end_time": "2019-07-18T06:24:08.827947Z",
     "start_time": "2019-07-18T06:24:08.816955Z"
    }
   },
   "outputs": [],
   "source": [
    "with open('interpark.json','r') as  fp:\n",
    "    account = json.load(fp)"
   ]
  },
  {
   "cell_type": "code",
   "execution_count": 160,
   "metadata": {
    "ExecuteTime": {
     "end_time": "2019-07-18T06:24:09.170752Z",
     "start_time": "2019-07-18T06:24:09.160757Z"
    }
   },
   "outputs": [],
   "source": [
    "session = requests.Session()"
   ]
  },
  {
   "cell_type": "code",
   "execution_count": 46,
   "metadata": {
    "ExecuteTime": {
     "end_time": "2019-07-18T04:44:03.354691Z",
     "start_time": "2019-07-18T04:44:03.293723Z"
    }
   },
   "outputs": [
    {
     "data": {
      "text/plain": [
       "45"
      ]
     },
     "execution_count": 46,
     "metadata": {},
     "output_type": "execute_result"
    }
   ],
   "source": [
    "len([cookie['name'] for cookie in driver.get_cookies()]) # 로그인 전 쿠키 확인"
   ]
  },
  {
   "cell_type": "code",
   "execution_count": 37,
   "metadata": {
    "ExecuteTime": {
     "end_time": "2019-07-18T04:40:16.607843Z",
     "start_time": "2019-07-18T04:40:16.598855Z"
    }
   },
   "outputs": [],
   "source": [
    "def login(account, method='login'):\n",
    "    try:\n",
    "        login = driver.find_element_by_css_selector('#logstatus > a') # 로그인 버튼 클릭\n",
    "        if method == 'login':\n",
    "            if login and login.get_attribute('id') == 'aLogin':\n",
    "                driver.get(login.get_attribute('href'))\n",
    "                driver.find_element_by_id('UID').send_keys(account['id']) # id 입력\n",
    "                driver.find_element_by_id('PWD').send_keys(account['pw']) # pw 입력\n",
    "                driver.find_element_by_css_selector('.loginBtn .btnRed').click()\n",
    "        elif method == 'logout':\n",
    "            login.click()\n",
    "    except:\n",
    "        return False\n",
    "    return True"
   ]
  },
  {
   "cell_type": "code",
   "execution_count": 161,
   "metadata": {
    "ExecuteTime": {
     "end_time": "2019-07-18T06:24:18.977142Z",
     "start_time": "2019-07-18T06:24:14.262838Z"
    }
   },
   "outputs": [
    {
     "data": {
      "text/plain": [
       "True"
      ]
     },
     "execution_count": 161,
     "metadata": {},
     "output_type": "execute_result"
    }
   ],
   "source": [
    "login(account, method='login')"
   ]
  },
  {
   "cell_type": "code",
   "execution_count": 44,
   "metadata": {
    "ExecuteTime": {
     "end_time": "2019-07-18T04:43:39.946727Z",
     "start_time": "2019-07-18T04:43:39.914750Z"
    }
   },
   "outputs": [
    {
     "data": {
      "text/plain": [
       "51"
      ]
     },
     "execution_count": 44,
     "metadata": {},
     "output_type": "execute_result"
    }
   ],
   "source": [
    "len([cookie['name'] for cookie in driver.get_cookies()]) # 로그인 후 쿠키 확인"
   ]
  },
  {
   "cell_type": "code",
   "execution_count": 51,
   "metadata": {
    "ExecuteTime": {
     "end_time": "2019-07-18T04:49:20.105193Z",
     "start_time": "2019-07-18T04:49:15.499828Z"
    }
   },
   "outputs": [],
   "source": [
    "## 세션 값만 보고 login, out 결정한다.\n",
    "if 'ISession%5FID' not in [cookie['name'] for cookie in driver.get_cookies()]:\n",
    "    login(account)\n",
    "else:\n",
    "    login(None, 'logout')"
   ]
  },
  {
   "cell_type": "markdown",
   "metadata": {},
   "source": [
    "공연 검색\n",
    "-----------------------"
   ]
  },
  {
   "cell_type": "code",
   "execution_count": 72,
   "metadata": {
    "ExecuteTime": {
     "end_time": "2019-07-18T05:09:41.928952Z",
     "start_time": "2019-07-18T05:09:41.917962Z"
    }
   },
   "outputs": [],
   "source": [
    "def gnbbtns(category='콘서트'):\n",
    "    links = [_ for _ in driver.find_elements_by_css_selector('ul.gnbBtns a[class^=btn]')]\n",
    "    titles = [_.find_element_by_css_selector('img').get_attribute('alt') for _ in links]\n",
    "    \n",
    "    if category in titles:\n",
    "        return links[titles.index(category)].get_attribute('href')\n",
    "    return False"
   ]
  },
  {
   "cell_type": "code",
   "execution_count": 321,
   "metadata": {
    "ExecuteTime": {
     "end_time": "2019-07-18T07:52:29.169430Z",
     "start_time": "2019-07-18T07:52:20.561356Z"
    }
   },
   "outputs": [],
   "source": [
    "url = gnbbtns('콘서트') \n",
    "if url:\n",
    "    driver.get(url) # 해당 카테고리 페이지로 이동"
   ]
  },
  {
   "cell_type": "code",
   "execution_count": 90,
   "metadata": {
    "ExecuteTime": {
     "end_time": "2019-07-18T05:20:35.734919Z",
     "start_time": "2019-07-18T05:20:35.724921Z"
    }
   },
   "outputs": [],
   "source": [
    "## 공연 리스트 가져오기 \n",
    "def hotIssue(issue=None):\n",
    "    issues = [_ for _ in driver.find_elements_by_css_selector('.issue .list > dt.issue_obj > a')]\n",
    "    title = [_.find_element_by_css_selector('span.txt1').text for _ in issues]\n",
    "    \n",
    "    if issue in title:\n",
    "        return issues[title.index(issue)].get_attribute('href') # 찾는 공연 주소 return\n",
    "    else:\n",
    "        return issues[0].get_attribute('href')  # 찾는 공연 없으면 제일 앞에꺼 return"
   ]
  },
  {
   "cell_type": "code",
   "execution_count": 322,
   "metadata": {
    "ExecuteTime": {
     "end_time": "2019-07-18T07:52:39.028389Z",
     "start_time": "2019-07-18T07:52:29.177427Z"
    }
   },
   "outputs": [],
   "source": [
    "driver.get(hotIssue('박정현'))"
   ]
  },
  {
   "cell_type": "code",
   "execution_count": 208,
   "metadata": {
    "ExecuteTime": {
     "end_time": "2019-07-18T06:42:29.865009Z",
     "start_time": "2019-07-18T06:42:29.852032Z"
    }
   },
   "outputs": [],
   "source": [
    "def bookWindow(options=None):\n",
    "    if options:\n",
    "        calenderFrame = driver.find_element_by_css_selector('#ifrCalendar')\n",
    "        if calenderFrame:\n",
    "            driver.switch_to.frame(calenderFrame)\n",
    "            ables = [_ for _ in driver.find_elements_by_css_selector('.cal_Table .able > a')]\n",
    "            title = [_.text for _ in ables]\n",
    "\n",
    "        if options in title:\n",
    "            driver.execute_script(ables[title.index(options)].get_attribute('onclick'))\n",
    "        else:\n",
    "            print(ables[title.index(options)].text)\n",
    "            driver.execute_script(ables[0].get_attribute('onclick'))\n",
    "\n",
    "\n",
    "        driver.switch_to_default_content()\n",
    "        \n",
    "    driver.find_element_by_class_name('btn_rev').click()\n",
    "    driver.switch_to.window(driver.window_handles[-1])"
   ]
  },
  {
   "cell_type": "code",
   "execution_count": 344,
   "metadata": {
    "ExecuteTime": {
     "end_time": "2019-07-18T08:10:36.492781Z",
     "start_time": "2019-07-18T08:10:30.336733Z"
    }
   },
   "outputs": [
    {
     "name": "stdout",
     "output_type": "stream",
     "text": [
      "['2', '3', '4', '9', '10', '11']\n",
      "fnSelectPlayDate(4, '20190810')\n"
     ]
    },
    {
     "name": "stderr",
     "output_type": "stream",
     "text": [
      "C:\\Users\\skarn\\Anaconda3\\lib\\site-packages\\ipykernel_launcher.py:18: DeprecationWarning: use driver.switch_to.default_content instead\n"
     ]
    }
   ],
   "source": []
  },
  {
   "cell_type": "code",
   "execution_count": 324,
   "metadata": {
    "ExecuteTime": {
     "end_time": "2019-07-18T07:52:42.755874Z",
     "start_time": "2019-07-18T07:52:40.727956Z"
    }
   },
   "outputs": [],
   "source": []
  },
  {
   "cell_type": "code",
   "execution_count": 168,
   "metadata": {
    "ExecuteTime": {
     "end_time": "2019-07-18T06:27:18.772502Z",
     "start_time": "2019-07-18T06:27:18.765506Z"
    }
   },
   "outputs": [],
   "source": [
    "def safeClose():\n",
    "    if len(driver.window_handles) > 1:\n",
    "        for _ in driver.window_handles[1:]:\n",
    "            driver.switch_to.window(_)\n",
    "            driver.close()\n",
    "    driver.switch_to_window(driver.window_handles[0])\n",
    "    driver.switch_to_default_content()"
   ]
  },
  {
   "cell_type": "code",
   "execution_count": 395,
   "metadata": {
    "ExecuteTime": {
     "end_time": "2019-07-18T08:39:45.059882Z",
     "start_time": "2019-07-18T08:39:34.845723Z"
    }
   },
   "outputs": [
    {
     "name": "stdout",
     "output_type": "stream",
     "text": [
      "['2', '3', '4', '9', '10', '11']\n",
      "fnSelectPlayDate(5, '20190811')\n"
     ]
    },
    {
     "name": "stderr",
     "output_type": "stream",
     "text": [
      "C:\\Users\\skarn\\Anaconda3\\lib\\site-packages\\ipykernel_launcher.py:18: DeprecationWarning: use driver.switch_to.default_content instead\n",
      "C:\\Users\\skarn\\Anaconda3\\lib\\site-packages\\ipykernel_launcher.py:7: DeprecationWarning: use driver.switch_to.frame instead\n",
      "  import sys\n",
      "C:\\Users\\skarn\\Anaconda3\\lib\\site-packages\\ipykernel_launcher.py:8: DeprecationWarning: use driver.switch_to.frame instead\n",
      "  \n",
      "C:\\Users\\skarn\\Anaconda3\\lib\\site-packages\\ipykernel_launcher.py:17: DeprecationWarning: use driver.switch_to.default_content instead\n",
      "C:\\Users\\skarn\\Anaconda3\\lib\\site-packages\\ipykernel_launcher.py:18: DeprecationWarning: use driver.switch_to.frame instead\n",
      "C:\\Users\\skarn\\Anaconda3\\lib\\site-packages\\ipykernel_launcher.py:24: DeprecationWarning: use driver.switch_to.default_content instead\n",
      "C:\\Users\\skarn\\Anaconda3\\lib\\site-packages\\ipykernel_launcher.py:25: DeprecationWarning: use driver.switch_to.frame instead\n",
      "C:\\Users\\skarn\\Anaconda3\\lib\\site-packages\\ipykernel_launcher.py:27: DeprecationWarning: use driver.switch_to.default_content instead\n",
      "C:\\Users\\skarn\\Anaconda3\\lib\\site-packages\\ipykernel_launcher.py:33: DeprecationWarning: use driver.switch_to.default_content instead\n",
      "C:\\Users\\skarn\\Anaconda3\\lib\\site-packages\\ipykernel_launcher.py:34: DeprecationWarning: use driver.switch_to.frame instead\n",
      "C:\\Users\\skarn\\Anaconda3\\lib\\site-packages\\ipykernel_launcher.py:39: DeprecationWarning: use driver.switch_to.default_content instead\n",
      "C:\\Users\\skarn\\Anaconda3\\lib\\site-packages\\ipykernel_launcher.py:42: DeprecationWarning: use driver.switch_to.default_content instead\n",
      "C:\\Users\\skarn\\Anaconda3\\lib\\site-packages\\ipykernel_launcher.py:43: DeprecationWarning: use driver.switch_to.frame instead\n",
      "C:\\Users\\skarn\\Anaconda3\\lib\\site-packages\\ipykernel_launcher.py:46: DeprecationWarning: use driver.switch_to.default_content instead\n"
     ]
    }
   ],
   "source": [
    "#### 일정 선택\n",
    "bookWindow('11')\n",
    "driver.execute_script(\"fnNextStep('P')\")\n",
    "\n",
    "\n",
    "############# 좌석 선택 ##############\n",
    "driver.switch_to_frame(driver.find_element_by_css_selector('#ifrmSeat'))\n",
    "driver.switch_to_frame(driver.find_element_by_css_selector('#ifrmSeatDetail'))\n",
    "# position = [_.get_attribute('style') for _ in driver.find_elements_by_css_selector('.stySeat')]\n",
    "# [_.get_attribute('onclick') for _ in driver.find_elements_by_css_selector('.stySeat')]\n",
    "# [__ for __ in position]\n",
    "selects = [_.get_attribute('onclick') for _ in driver.find_elements_by_css_selector('.stySeat')][:2] # 2개 선택\n",
    "for _ in selects:\n",
    "    driver.execute_script(_) \n",
    "    \n",
    "###  다음 단계로 넘어감\n",
    "driver.switch_to_default_content()\n",
    "driver.switch_to_frame(driver.find_element_by_css_selector('#ifrmSeat'))\n",
    "driver.execute_script(driver.find_element_by_css_selector('.btnWrap > a').get_attribute('onclick')) \n",
    "\n",
    "\n",
    "############ 가격 / 할인선택 ###############\n",
    "\n",
    "driver.switch_to_default_content()\n",
    "driver.switch_to_frame(driver.find_element_by_css_selector('#ifrmBookStep'))\n",
    "driver.find_element_by_css_selector('.taL > select > option[value=\"2\"]').click() ## 매수 선택\n",
    "driver.switch_to_default_content()\n",
    "driver.find_element_by_id('SmallNextBtnLink').click() # 다음 단계로 넘어감\n",
    "\n",
    "\n",
    "########## 배송선택 / 주문자확인 ##################\n",
    "\n",
    "driver.switch_to_default_content()\n",
    "driver.switch_to_frame(driver.find_element_by_css_selector('#ifrmBookStep'))\n",
    "# driver.find_element_by_css_selector('#Delivery_24001 #Delivery').click()\n",
    "driver.find_element_by_id('YYMMDD').send_keys('951118')\n",
    "# driver.find_element_by_id('chkSyncAddress').click()\n",
    "\n",
    "driver.switch_to_default_content()\n",
    "driver.find_element_by_id('SmallNextBtnLink').click() # 다음 단계로 넘어감\n",
    "\n",
    "driver.switch_to_default_content()\n",
    "driver.switch_to_frame(driver.find_element_by_css_selector('#ifrmBookStep'))\n",
    "driver.find_element_by_css_selector('#Payment_22004 .chk').click()\n",
    "driver.find_element_by_css_selector('#BankCode option[value=\"38051\"]').click() ## 은행 선택\n",
    "driver.switch_to_default_content()\n",
    "driver.find_element_by_id('SmallNextBtnLink').click() # 다음 단계로 넘어감\n",
    "\n",
    "# driver.switch_to_default_content()\n",
    "# driver.switch_to_frame(driver.find_element_by_css_selector('#ifrmBookStep'))\n",
    "# driver.find_element_by_css_selector('#CancelAgree').click()\n",
    "# driver.find_element_by_css_selector('#CancelAgree2').click()\n",
    "# driver.switch_to_default_content()\n",
    "# driver.find_element_by_id('LargeNextBtnLink').click() # 다음 단계로 넘어감"
   ]
  },
  {
   "cell_type": "code",
   "execution_count": 394,
   "metadata": {
    "ExecuteTime": {
     "end_time": "2019-07-18T08:39:26.773342Z",
     "start_time": "2019-07-18T08:39:19.411556Z"
    }
   },
   "outputs": [
    {
     "name": "stderr",
     "output_type": "stream",
     "text": [
      "C:\\Users\\skarn\\Anaconda3\\lib\\site-packages\\ipykernel_launcher.py:6: DeprecationWarning: use driver.switch_to.window instead\n",
      "  \n",
      "C:\\Users\\skarn\\Anaconda3\\lib\\site-packages\\ipykernel_launcher.py:7: DeprecationWarning: use driver.switch_to.default_content instead\n",
      "  import sys\n",
      "C:\\Users\\skarn\\Anaconda3\\lib\\site-packages\\ipykernel_launcher.py:2: DeprecationWarning: use driver.switch_to.window instead\n",
      "  \n"
     ]
    }
   ],
   "source": [
    "safeClose()\n",
    "driver.switch_to_window(driver.window_handles[0])\n",
    "driver.refresh()"
   ]
  },
  {
   "cell_type": "markdown",
   "metadata": {},
   "source": [
    "선생님 좌석선택 알고리즘\n",
    "-------------------"
   ]
  },
  {
   "cell_type": "code",
   "execution_count": null,
   "metadata": {},
   "outputs": [],
   "source": []
  }
 ],
 "metadata": {
  "kernelspec": {
   "display_name": "Python 3",
   "language": "python",
   "name": "python3"
  },
  "language_info": {
   "codemirror_mode": {
    "name": "ipython",
    "version": 3
   },
   "file_extension": ".py",
   "mimetype": "text/x-python",
   "name": "python",
   "nbconvert_exporter": "python",
   "pygments_lexer": "ipython3",
   "version": "3.6.7"
  },
  "toc": {
   "base_numbering": 1,
   "nav_menu": {},
   "number_sections": true,
   "sideBar": true,
   "skip_h1_title": false,
   "title_cell": "Table of Contents",
   "title_sidebar": "Contents",
   "toc_cell": false,
   "toc_position": {},
   "toc_section_display": true,
   "toc_window_display": false
  }
 },
 "nbformat": 4,
 "nbformat_minor": 2
}

{
 "cells": [
  {
   "cell_type": "markdown",
   "metadata": {},
   "source": [
    "# Selector"
   ]
  },
  {
   "cell_type": "code",
   "execution_count": 1,
   "metadata": {
    "ExecuteTime": {
     "end_time": "2019-07-12T07:18:03.479497Z",
     "start_time": "2019-07-12T07:18:03.474503Z"
    }
   },
   "outputs": [],
   "source": [
    "from bs4 import BeautifulSoup"
   ]
  },
  {
   "cell_type": "code",
   "execution_count": 2,
   "metadata": {
    "ExecuteTime": {
     "end_time": "2019-07-12T07:18:06.322872Z",
     "start_time": "2019-07-12T07:18:06.315876Z"
    }
   },
   "outputs": [],
   "source": [
    "html =\"\"\"\n",
    "<html>\n",
    "    <head></head>\n",
    "        <body>\n",
    "            <div id='result'>\n",
    "                <p class='row'>\n",
    "                    <a href='https://www.naver.com' class='red'>go to page1</a>\n",
    "                    <a href='https://www.google.com' class='blue'>go to page2</a>\n",
    "                        <div class='blue'><a href='asdas' class='red'>asda</a></div>\n",
    "                    <a href='https://www.google.com' class='yellow'>go to page3</a>\n",
    "                </p>\n",
    "            </div>\n",
    "        </body>\n",
    "</html>\n",
    "\"\"\"\n",
    "dom = BeautifulSoup(html, 'html.parser') #파서 바꿔보자 `html.parser`"
   ]
  },
  {
   "cell_type": "code",
   "execution_count": null,
   "metadata": {},
   "outputs": [],
   "source": [
    "dom.select() # 자`손`을 찾는다, recursive 없음...."
   ]
  },
  {
   "cell_type": "markdown",
   "metadata": {},
   "source": [
    "- ID : `#어쩌고`\n",
    "- CLASS :`.어쩌고`\n",
    "- 태그 : 태그\n",
    "- 자손 : 공백\n",
    "- 자식 : `>`\n",
    "```css\n",
    "selector('div') : 2\n",
    "selector('div#result\") : 1\n",
    "selector('#result') : 1\n",
    "selector('#.red' : 2\n",
    "selector(body div) : 2 # 자손까지 가져옴\n",
    "selector(body>div) : 2 # 자식만 가져옴\n",
    "```"
   ]
  },
  {
   "cell_type": "markdown",
   "metadata": {},
   "source": [
    "--------------------\n",
    "예제 - 구글\n",
    "-------------------"
   ]
  },
  {
   "cell_type": "code",
   "execution_count": 141,
   "metadata": {
    "ExecuteTime": {
     "end_time": "2019-07-12T08:21:52.008366Z",
     "start_time": "2019-07-12T08:21:52.003386Z"
    }
   },
   "outputs": [],
   "source": [
    "from download import download\n",
    "import requests"
   ]
  },
  {
   "cell_type": "code",
   "execution_count": 170,
   "metadata": {
    "ExecuteTime": {
     "end_time": "2019-07-12T08:27:29.776336Z",
     "start_time": "2019-07-12T08:27:29.015653Z"
    }
   },
   "outputs": [],
   "source": [
    "url = \"https://www.google.com/search\"\n",
    "header = {\"user-agent\": \"Mozilla/5.0 (Windows NT 10.0; Win64; x64) AppleWebKit/537.36 (KHTML, like Gecko) Chrome/75.0.3770.100 Safari/537.36\"}\n",
    "param = {\n",
    "    \"q\" : \"박보영\"\n",
    "}\n",
    "resp = download('get', url, param=param, header=header)"
   ]
  },
  {
   "cell_type": "code",
   "execution_count": 171,
   "metadata": {
    "ExecuteTime": {
     "end_time": "2019-07-12T08:27:29.788210Z",
     "start_time": "2019-07-12T08:27:29.781216Z"
    }
   },
   "outputs": [
    {
     "data": {
      "text/plain": [
       "'https://www.google.com/search?q=%EB%B0%95%EB%B3%B4%EC%98%81'"
      ]
     },
     "execution_count": 171,
     "metadata": {},
     "output_type": "execute_result"
    }
   ],
   "source": [
    "resp.url"
   ]
  },
  {
   "cell_type": "code",
   "execution_count": 172,
   "metadata": {
    "ExecuteTime": {
     "end_time": "2019-07-12T08:27:29.907142Z",
     "start_time": "2019-07-12T08:27:29.792208Z"
    }
   },
   "outputs": [],
   "source": [
    "dom = BeautifulSoup(resp.text, 'lxml')"
   ]
  },
  {
   "cell_type": "code",
   "execution_count": 177,
   "metadata": {
    "ExecuteTime": {
     "end_time": "2019-07-12T08:29:18.916259Z",
     "start_time": "2019-07-12T08:29:18.900285Z"
    },
    "scrolled": false
   },
   "outputs": [
    {
     "data": {
      "text/plain": [
       "['https://namu.wiki/w/%EB%B0%95%EB%B3%B4%EC%98%81',\n",
       " 'https://ko.wikipedia.org/wiki/%EB%B0%95%EB%B3%B4%EC%98%81',\n",
       " 'https://webcache.googleusercontent.com/search?q=cache:gv9t4wBBoSMJ:https://ko.wikipedia.org/wiki/%25EB%25B0%2595%25EB%25B3%25B4%25EC%2598%2581+&cd=12&hl=ko&ct=clnk&gl=kr',\n",
       " 'https://ko.wikipedia.org/wiki/%EB%B0%95%EB%B3%B4%EC%98%81%EC%9D%98_%EC%9E%91%ED%92%88_%EB%AA%A9%EB%A1%9D',\n",
       " 'https://webcache.googleusercontent.com/search?q=cache:VhhxhBJ2kukJ:https://ko.wikipedia.org/wiki/%25EB%25B0%2595%25EB%25B3%25B4%25EC%2598%2581%25EC%259D%2598_%25EC%259E%2591%25ED%2592%2588_%25EB%25AA%25A9%25EB%25A1%259D+&cd=13&hl=ko&ct=clnk&gl=kr',\n",
       " 'https://news.joins.com/article/22895953',\n",
       " 'https://webcache.googleusercontent.com/search?q=cache:C8ZtkDOVE_cJ:https://news.joins.com/article/22895953+&cd=14&hl=ko&ct=clnk&gl=kr',\n",
       " 'https://movie.daum.net/person/main?personId=105244',\n",
       " 'https://webcache.googleusercontent.com/search?q=cache:ahd-t4CdgoAJ:https://movie.daum.net/person/main%3FpersonId%3D105244+&cd=15&hl=ko&ct=clnk&gl=kr',\n",
       " 'http://m.cafe.daum.net/parkboyoungfd',\n",
       " 'http://webcache.googleusercontent.com/search?q=cache:qmzSNliHkPMJ:m.cafe.daum.net/parkboyoungfd+&cd=17&hl=ko&ct=clnk&gl=kr',\n",
       " 'https://www.msn.com/ko-kr/entertainment/news/%EB%B0%95%EB%B3%B4%EC%98%81-tvn-%EB%93%9C%EB%9D%BC%EB%A7%88-%EC%96%B4%EB%B9%84%EC%8A%A4-%EC%97%AC%EC%A3%BC%EC%9D%B8%EA%B3%B5/ar-BBLZzVh',\n",
       " 'https://webcache.googleusercontent.com/search?q=cache:9ScdGCkuTJgJ:https://www.msn.com/ko-kr/entertainment/news/%25EB%25B0%2595%25EB%25B3%25B4%25EC%2598%2581-tvn-%25EB%2593%259C%25EB%259D%25BC%25EB%25A7%2588-%25EC%2596%25B4%25EB%25B9%2584%25EC%258A%25A4-%25EC%2597%25AC%25EC%25A3%25BC%25EC%259D%25B8%25EA%25B3%25B5/ar-BBLZzVh+&cd=18&hl=ko&ct=clnk&gl=kr',\n",
       " 'https://www.msn.com/ko-kr/entertainment/tv/hd%EC%8A%A4%ED%86%A0%EB%A6%AC-%EC%9E%91%EC%9D%80-%EA%B1%B0%EC%9D%B8-%EB%B0%95%EB%B3%B4%EC%98%81%E2%80%A6%EA%B7%B8%EC%9D%98-%EC%97%B0%EA%B8%B0%EC%97%90-%EB%8C%80%ED%95%9C-%ED%9D%94%EC%A0%81%EB%93%A4/ar-BBUvL0V',\n",
       " 'https://webcache.googleusercontent.com/search?q=cache:RAs5n2AiYIsJ:https://www.msn.com/ko-kr/entertainment/tv/hd%25EC%258A%25A4%25ED%2586%25A0%25EB%25A6%25AC-%25EC%259E%2591%25EC%259D%2580-%25EA%25B1%25B0%25EC%259D%25B8-%25EB%25B0%2595%25EB%25B3%25B4%25EC%2598%2581%25E2%2580%25A6%25EA%25B7%25B8%25EC%259D%2598-%25EC%2597%25B0%25EA%25B8%25B0%25EC%2597%2590-%25EB%258C%2580%25ED%2595%259C-%25ED%259D%2594%25EC%25A0%2581%25EB%2593%25A4/ar-BBUvL0V+&cd=19&hl=ko&ct=clnk&gl=kr']"
      ]
     },
     "execution_count": 177,
     "metadata": {},
     "output_type": "execute_result"
    }
   ],
   "source": [
    "[_['href'] for _ in dom.select('#rso .rc > .r a[href^=http]')]"
   ]
  },
  {
   "cell_type": "markdown",
   "metadata": {},
   "source": [
    "-------------------\n",
    "예제-네이버\n",
    "--------------------"
   ]
  },
  {
   "cell_type": "code",
   "execution_count": null,
   "metadata": {},
   "outputs": [],
   "source": [
    "url = \"https://search.naver.com/search.naver\"\n",
    "param = {\n",
    "    \"query\" : \"박보영\"\n",
    "}\n",
    "resp = download('get', url, param=param)"
   ]
  },
  {
   "cell_type": "code",
   "execution_count": 89,
   "metadata": {
    "ExecuteTime": {
     "end_time": "2019-07-12T07:59:44.648843Z",
     "start_time": "2019-07-12T07:59:44.443944Z"
    }
   },
   "outputs": [],
   "source": [
    "dom = BeautifulSoup(resp.text, 'lxml')"
   ]
  },
  {
   "cell_type": "code",
   "execution_count": 104,
   "metadata": {
    "ExecuteTime": {
     "end_time": "2019-07-12T08:06:11.403116Z",
     "start_time": "2019-07-12T08:06:11.386127Z"
    }
   },
   "outputs": [
    {
     "data": {
      "text/plain": [
       "['http://www.upkorea.net/news/articleView.html?idxno=594716',\n",
       " 'http://www.lecturernews.com/news/articleView.html?idxno=21949',\n",
       " 'http://www.incheonilbo.com/news/articleView.html?idxno=961581',\n",
       " 'http://viewers.heraldcorp.com/news/articleView.html?idxno=39209']"
      ]
     },
     "execution_count": 104,
     "metadata": {},
     "output_type": "execute_result"
    }
   ],
   "source": [
    "[_['href'] for _ in dom.select('._prs_nws_all ._sp_each_url._sp_each_title')]"
   ]
  },
  {
   "cell_type": "markdown",
   "metadata": {},
   "source": [
    "## 예제-다음"
   ]
  },
  {
   "cell_type": "code",
   "execution_count": 159,
   "metadata": {
    "ExecuteTime": {
     "end_time": "2019-07-12T08:26:03.667727Z",
     "start_time": "2019-07-12T08:26:03.486828Z"
    }
   },
   "outputs": [],
   "source": [
    "url = \"https://search.daum.net/search\"\n",
    "param = {\n",
    "    'w' : 'tot',\n",
    "    \"q\" : \"박보영\"\n",
    "}\n",
    "resp = download('get', url, param=param)"
   ]
  },
  {
   "cell_type": "code",
   "execution_count": 160,
   "metadata": {
    "ExecuteTime": {
     "end_time": "2019-07-12T08:26:03.862615Z",
     "start_time": "2019-07-12T08:26:03.671723Z"
    }
   },
   "outputs": [],
   "source": [
    "dom = BeautifulSoup(resp.text, 'lxml')"
   ]
  },
  {
   "cell_type": "code",
   "execution_count": 168,
   "metadata": {
    "ExecuteTime": {
     "end_time": "2019-07-12T08:26:55.231262Z",
     "start_time": "2019-07-12T08:26:55.216269Z"
    }
   },
   "outputs": [
    {
     "data": {
      "text/plain": [
       "['https://cp.news.search.daum.net/p/81861100',\n",
       " 'http://v.media.daum.net/v/20190625224946276?f=o',\n",
       " 'http://v.media.daum.net/v/20190623184500942?f=o',\n",
       " 'http://v.media.daum.net/v/20190623110804553?f=o']"
      ]
     },
     "execution_count": 168,
     "metadata": {},
     "output_type": "execute_result"
    }
   ],
   "source": [
    "[_['href'] for _ in dom.select('#clusterResultUL .f_link_b')]"
   ]
  },
  {
   "cell_type": "code",
   "execution_count": null,
   "metadata": {},
   "outputs": [],
   "source": []
  }
 ],
 "metadata": {
  "kernelspec": {
   "display_name": "Python 3",
   "language": "python",
   "name": "python3"
  },
  "language_info": {
   "codemirror_mode": {
    "name": "ipython",
    "version": 3
   },
   "file_extension": ".py",
   "mimetype": "text/x-python",
   "name": "python",
   "nbconvert_exporter": "python",
   "pygments_lexer": "ipython3",
   "version": "3.6.7"
  },
  "toc": {
   "base_numbering": 1,
   "nav_menu": {},
   "number_sections": true,
   "sideBar": true,
   "skip_h1_title": false,
   "title_cell": "Table of Contents",
   "title_sidebar": "Contents",
   "toc_cell": false,
   "toc_position": {},
   "toc_section_display": true,
   "toc_window_display": false
  }
 },
 "nbformat": 4,
 "nbformat_minor": 2
}

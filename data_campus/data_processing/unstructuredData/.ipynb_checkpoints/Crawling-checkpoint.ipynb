{
 "cells": [
  {
   "cell_type": "markdown",
   "metadata": {},
   "source": [
    "## focused crawling"
   ]
  },
  {
   "cell_type": "code",
   "execution_count": 1,
   "metadata": {
    "ExecuteTime": {
     "end_time": "2019-07-16T08:38:56.043761Z",
     "start_time": "2019-07-16T08:38:55.102230Z"
    }
   },
   "outputs": [],
   "source": [
    "from download import download\n",
    "from bs4 import BeautifulSoup\n",
    "import requests\n",
    "import time\n",
    "import re\n",
    "import lxml"
   ]
  },
  {
   "cell_type": "code",
   "execution_count": 2,
   "metadata": {
    "ExecuteTime": {
     "end_time": "2019-07-15T01:31:36.947871Z",
     "start_time": "2019-07-15T01:31:36.369205Z"
    }
   },
   "outputs": [],
   "source": [
    "# request\n",
    "url = \"http://example.webscraping.com/places/default/index\"\n",
    "\n",
    "html = download('get', url)"
   ]
  },
  {
   "cell_type": "code",
   "execution_count": 3,
   "metadata": {
    "ExecuteTime": {
     "end_time": "2019-07-15T01:31:57.266207Z",
     "start_time": "2019-07-15T01:31:57.242221Z"
    }
   },
   "outputs": [],
   "source": [
    "# link extractor\n",
    "dom = BeautifulSoup(html.text, 'lxml')"
   ]
  },
  {
   "cell_type": "code",
   "execution_count": 4,
   "metadata": {
    "ExecuteTime": {
     "end_time": "2019-07-15T01:32:19.257871Z",
     "start_time": "2019-07-15T01:32:19.241881Z"
    },
    "collapsed": true
   },
   "outputs": [
    {
     "data": {
      "text/plain": [
       "['#',\n",
       " '/places/default/user/register?_next=/places/default/index',\n",
       " '/places/default/user/login?_next=/places/default/index',\n",
       " '/places/default/index',\n",
       " '/places/default/search',\n",
       " '/places/default/view/Afghanistan-1',\n",
       " '/places/default/view/Aland-Islands-2',\n",
       " '/places/default/view/Albania-3',\n",
       " '/places/default/view/Algeria-4',\n",
       " '/places/default/view/American-Samoa-5',\n",
       " '/places/default/view/Andorra-6',\n",
       " '/places/default/view/Angola-7',\n",
       " '/places/default/view/Anguilla-8',\n",
       " '/places/default/view/Antarctica-9',\n",
       " '/places/default/view/Antigua-and-Barbuda-10',\n",
       " '/places/default/index/1']"
      ]
     },
     "execution_count": 4,
     "metadata": {},
     "output_type": "execute_result"
    }
   ],
   "source": [
    "[_['href'] for _ in dom.find_all('a')]"
   ]
  },
  {
   "cell_type": "code",
   "execution_count": 7,
   "metadata": {
    "ExecuteTime": {
     "end_time": "2019-07-15T01:34:53.389035Z",
     "start_time": "2019-07-15T01:34:53.374047Z"
    },
    "collapsed": true
   },
   "outputs": [
    {
     "data": {
      "text/plain": [
       "['http://example.webscraping.com/places/default/user/register?_next=/places/default/index',\n",
       " 'http://example.webscraping.com/places/default/user/login?_next=/places/default/index',\n",
       " 'http://example.webscraping.com/places/default/index',\n",
       " 'http://example.webscraping.com/places/default/search',\n",
       " 'http://example.webscraping.com/places/default/view/Afghanistan-1',\n",
       " 'http://example.webscraping.com/places/default/view/Aland-Islands-2',\n",
       " 'http://example.webscraping.com/places/default/view/Albania-3',\n",
       " 'http://example.webscraping.com/places/default/view/Algeria-4',\n",
       " 'http://example.webscraping.com/places/default/view/American-Samoa-5',\n",
       " 'http://example.webscraping.com/places/default/view/Andorra-6',\n",
       " 'http://example.webscraping.com/places/default/view/Angola-7',\n",
       " 'http://example.webscraping.com/places/default/view/Anguilla-8',\n",
       " 'http://example.webscraping.com/places/default/view/Antarctica-9',\n",
       " 'http://example.webscraping.com/places/default/view/Antigua-and-Barbuda-10',\n",
       " 'http://example.webscraping.com/places/default/index/1']"
      ]
     },
     "execution_count": 7,
     "metadata": {},
     "output_type": "execute_result"
    }
   ],
   "source": [
    "# url normalization , url filter\n",
    "[requests.compat.urljoin(url, _['href']) for _ in dom.find_all('a') if len(_['href']) > 3]"
   ]
  },
  {
   "cell_type": "code",
   "execution_count": 71,
   "metadata": {
    "ExecuteTime": {
     "end_time": "2019-07-15T04:58:30.989374Z",
     "start_time": "2019-07-15T04:58:30.977387Z"
    }
   },
   "outputs": [],
   "source": [
    "# 그림과 같이 하나의 프로세스로 만들자\n",
    "def parseURL(seed):\n",
    "    html = download('get', seed)\n",
    "    dom = BeautifulSoup(html.text, 'lxml')\n",
    "    \n",
    "    if len(dom.select('#mainFrame')) < 1:\n",
    "        return []\n",
    "    \n",
    "    seed = requests.compat.urljoin(seed, dom.select(\"#mainFrame\")[0]['src']) # 네이버에서는 트릭써서  숨겨놓는다\n",
    "    \n",
    "    html = download('get', seed)\n",
    "    dom = BeautifulSoup(html.text, 'lxml')\n",
    "\n",
    "    return [requests.compat.urljoin(seed, _['href']) for _ in dom.find_all('a') \n",
    "            if _.has_attr('href') and not _['href'].startswith('#') and checkBlog(requests.compat.urljoin(seed, _['href']))]"
   ]
  },
  {
   "cell_type": "code",
   "execution_count": 14,
   "metadata": {
    "ExecuteTime": {
     "end_time": "2019-07-15T02:07:44.669403Z",
     "start_time": "2019-07-15T02:05:17.071580Z"
    },
    "collapsed": true
   },
   "outputs": [
    {
     "name": "stdout",
     "output_type": "stream",
     "text": [
      "Queue : 14, Seen : 1\n",
      "Queue : 15, Seen : 2\n",
      "Queue : 14, Seen : 3\n",
      "Queue : 15, Seen : 4\n",
      "Queue : 24, Seen : 5\n",
      "Queue : 28, Seen : 6\n",
      "Queue : 36, Seen : 7\n",
      "Queue : 46, Seen : 8\n",
      "Queue : 49, Seen : 9\n",
      "Queue : 53, Seen : 10\n",
      "Queue : 59, Seen : 11\n",
      "Queue : 62, Seen : 12\n",
      "Queue : 65, Seen : 13\n",
      "Queue : 67, Seen : 14\n",
      "Queue : 80, Seen : 15\n",
      "Queue : 79, Seen : 16\n",
      "Queue : 78, Seen : 17\n",
      "Queue : 77, Seen : 18\n",
      "Queue : 76, Seen : 19\n",
      "Queue : 75, Seen : 20\n",
      "Queue : 74, Seen : 21\n",
      "Queue : 122, Seen : 22\n",
      "Queue : 126, Seen : 23\n",
      "Queue : 138, Seen : 24\n",
      "Queue : 144, Seen : 25\n",
      "Queue : 146, Seen : 26\n",
      "Queue : 148, Seen : 27\n",
      "Queue : 150, Seen : 28\n",
      "Queue : 149, Seen : 29\n",
      "Queue : 148, Seen : 30\n",
      "Queue : 147, Seen : 31\n",
      "Queue : 198, Seen : 32\n",
      "Queue : 197, Seen : 33\n",
      "Queue : 196, Seen : 34\n",
      "Queue : 195, Seen : 35\n",
      "Queue : 194, Seen : 36\n",
      "Queue : 198, Seen : 37\n",
      "Queue : 200, Seen : 38\n",
      "Queue : 206, Seen : 39\n",
      "Queue : 208, Seen : 40\n",
      "Queue : 210, Seen : 41\n",
      "Queue : 212, Seen : 42\n",
      "Queue : 211, Seen : 43\n",
      "Queue : 210, Seen : 44\n",
      "Queue : 209, Seen : 45\n",
      "Queue : 266, Seen : 46\n",
      "Queue : 273, Seen : 47\n",
      "Queue : 275, Seen : 48\n",
      "Queue : 279, Seen : 49\n",
      "Queue : 282, Seen : 50\n",
      "Queue : 284, Seen : 51\n",
      "Queue : 286, Seen : 52\n",
      "Queue : 290, Seen : 53\n",
      "Queue : 289, Seen : 54\n",
      "Queue : 288, Seen : 55\n",
      "Queue : 287, Seen : 56\n",
      "Queue : 312, Seen : 57\n",
      "Queue : 311, Seen : 58\n",
      "Queue : 310, Seen : 59\n",
      "Queue : 309, Seen : 60\n",
      "Queue : 314, Seen : 61\n",
      "Queue : 322, Seen : 62\n",
      "Queue : 321, Seen : 63\n",
      "Queue : 320, Seen : 64\n",
      "Queue : 319, Seen : 65\n",
      "Queue : 328, Seen : 66\n",
      "Queue : 332, Seen : 67\n",
      "Queue : 337, Seen : 68\n",
      "Queue : 341, Seen : 69\n",
      "Queue : 340, Seen : 70\n",
      "Queue : 339, Seen : 71\n",
      "Queue : 338, Seen : 72\n",
      "Queue : 376, Seen : 73\n",
      "Queue : 375, Seen : 74\n",
      "Queue : 374, Seen : 75\n",
      "Queue : 373, Seen : 76\n",
      "Queue : 377, Seen : 77\n",
      "Queue : 376, Seen : 78\n",
      "Queue : 375, Seen : 79\n",
      "Queue : 374, Seen : 80\n",
      "Queue : 373, Seen : 81\n",
      "Queue : 372, Seen : 82\n",
      "Queue : 371, Seen : 83\n",
      "Queue : 379, Seen : 84\n"
     ]
    },
    {
     "ename": "KeyboardInterrupt",
     "evalue": "",
     "output_type": "error",
     "traceback": [
      "\u001b[1;31m---------------------------------------------------------------------------\u001b[0m",
      "\u001b[1;31mKeyboardInterrupt\u001b[0m                         Traceback (most recent call last)",
      "\u001b[1;32m<ipython-input-14-9c03f5f30dd3>\u001b[0m in \u001b[0;36m<module>\u001b[1;34m\u001b[0m\n\u001b[0;32m      8\u001b[0m     \u001b[0mseen\u001b[0m\u001b[1;33m.\u001b[0m\u001b[0mappend\u001b[0m\u001b[1;33m(\u001b[0m\u001b[0mbaseURL\u001b[0m\u001b[1;33m)\u001b[0m\u001b[1;33m\u001b[0m\u001b[1;33m\u001b[0m\u001b[0m\n\u001b[0;32m      9\u001b[0m     \u001b[1;31m# sleep하여 request 시간 간격 준다\u001b[0m\u001b[1;33m\u001b[0m\u001b[1;33m\u001b[0m\u001b[1;33m\u001b[0m\u001b[0m\n\u001b[1;32m---> 10\u001b[1;33m     \u001b[0mtime\u001b[0m\u001b[1;33m.\u001b[0m\u001b[0msleep\u001b[0m\u001b[1;33m(\u001b[0m\u001b[1;36m1\u001b[0m\u001b[1;33m)\u001b[0m\u001b[1;33m\u001b[0m\u001b[1;33m\u001b[0m\u001b[0m\n\u001b[0m\u001b[0;32m     11\u001b[0m     \u001b[0mlinkList\u001b[0m \u001b[1;33m=\u001b[0m \u001b[0mparseURL\u001b[0m\u001b[1;33m(\u001b[0m\u001b[0mbaseURL\u001b[0m\u001b[1;33m)\u001b[0m\u001b[1;33m\u001b[0m\u001b[1;33m\u001b[0m\u001b[0m\n\u001b[0;32m     12\u001b[0m     \u001b[1;31m# queue 안에 중복되는 url? , url- seen?\u001b[0m\u001b[1;33m\u001b[0m\u001b[1;33m\u001b[0m\u001b[1;33m\u001b[0m\u001b[0m\n",
      "\u001b[1;31mKeyboardInterrupt\u001b[0m: "
     ]
    }
   ],
   "source": [
    "# 시드를 주는 queue 생성\n",
    "queue = list()\n",
    "queue.append(\"http://example.webscraping.com/places/default/index\")\n",
    "# URL - Seen?\n",
    "seen = list()\n",
    "while queue:\n",
    "    baseURL = queue.pop(0) # FIFO\n",
    "    seen.append(baseURL)\n",
    "    # sleep하여 request 시간 간격 준다\n",
    "    time.sleep(1)\n",
    "    linkList = parseURL(baseURL)\n",
    "    # queue 안에 중복되는 url? , url- seen?\n",
    "    for link in linkList:\n",
    "        if link not in queue and link not in seen:\n",
    "            queue.append(link)\n",
    "    print(\"Queue : {0}, Seen : {1}\".format(len(queue), len(seen)))\n",
    "#     queue.extend(linkList)"
   ]
  },
  {
   "cell_type": "markdown",
   "metadata": {},
   "source": [
    "### Google"
   ]
  },
  {
   "cell_type": "code",
   "execution_count": 15,
   "metadata": {
    "ExecuteTime": {
     "end_time": "2019-07-15T02:11:00.794942Z",
     "start_time": "2019-07-15T02:07:46.407407Z"
    },
    "collapsed": true
   },
   "outputs": [
    {
     "name": "stdout",
     "output_type": "stream",
     "text": [
      "Queue : 97, Seen : 1\n",
      "Queue : 111, Seen : 2\n",
      "Queue : 112, Seen : 3\n",
      "Queue : 113, Seen : 4\n",
      "Queue : 114, Seen : 5\n",
      "Queue : 115, Seen : 6\n",
      "Queue : 116, Seen : 7\n",
      "Queue : 116, Seen : 8\n",
      "Queue : 117, Seen : 9\n",
      "Queue : 118, Seen : 10\n",
      "Queue : 119, Seen : 11\n",
      "Queue : 120, Seen : 12\n",
      "Queue : 121, Seen : 13\n",
      "Queue : 122, Seen : 14\n",
      "Queue : 123, Seen : 15\n",
      "Queue : 124, Seen : 16\n",
      "Queue : 125, Seen : 17\n",
      "Queue : 126, Seen : 18\n",
      "Queue : 127, Seen : 19\n",
      "Queue : 128, Seen : 20\n",
      "Queue : 129, Seen : 21\n",
      "Queue : 130, Seen : 22\n",
      "Queue : 131, Seen : 23\n",
      "Queue : 132, Seen : 24\n",
      "Queue : 133, Seen : 25\n",
      "Queue : 134, Seen : 26\n",
      "Queue : 135, Seen : 27\n",
      "Queue : 136, Seen : 28\n",
      "Queue : 137, Seen : 29\n",
      "Queue : 138, Seen : 30\n",
      "Queue : 139, Seen : 31\n",
      "Queue : 140, Seen : 32\n",
      "Queue : 141, Seen : 33\n",
      "Queue : 142, Seen : 34\n",
      "Queue : 143, Seen : 35\n",
      "Queue : 144, Seen : 36\n",
      "Queue : 145, Seen : 37\n",
      "Queue : 146, Seen : 38\n",
      "Queue : 147, Seen : 39\n",
      "Queue : 148, Seen : 40\n",
      "Queue : 149, Seen : 41\n",
      "Queue : 150, Seen : 42\n",
      "Queue : 151, Seen : 43\n",
      "Queue : 152, Seen : 44\n",
      "Queue : 153, Seen : 45\n",
      "Queue : 154, Seen : 46\n",
      "Queue : 155, Seen : 47\n",
      "Queue : 156, Seen : 48\n",
      "Queue : 157, Seen : 49\n",
      "Queue : 158, Seen : 50\n",
      "Queue : 159, Seen : 51\n",
      "Queue : 160, Seen : 52\n",
      "Queue : 161, Seen : 53\n",
      "Queue : 236, Seen : 54\n",
      "Queue : 292, Seen : 55\n",
      "Queue : 293, Seen : 56\n",
      "Queue : 294, Seen : 57\n",
      "Queue : 295, Seen : 58\n",
      "Queue : 296, Seen : 59\n",
      "Queue : 297, Seen : 60\n",
      "Queue : 298, Seen : 61\n",
      "Queue : 354, Seen : 62\n",
      "Queue : 355, Seen : 63\n",
      "Queue : 356, Seen : 64\n",
      "Queue : 357, Seen : 65\n",
      "Queue : 358, Seen : 66\n",
      "Queue : 359, Seen : 67\n",
      "Queue : 360, Seen : 68\n",
      "Queue : 361, Seen : 69\n",
      "Queue : 362, Seen : 70\n",
      "Queue : 363, Seen : 71\n",
      "Queue : 364, Seen : 72\n",
      "Queue : 365, Seen : 73\n",
      "Queue : 366, Seen : 74\n",
      "Queue : 367, Seen : 75\n",
      "Queue : 368, Seen : 76\n",
      "Queue : 369, Seen : 77\n",
      "Queue : 370, Seen : 78\n",
      "Queue : 371, Seen : 79\n",
      "Queue : 372, Seen : 80\n",
      "Queue : 373, Seen : 81\n",
      "Queue : 374, Seen : 82\n",
      "Queue : 375, Seen : 83\n",
      "Queue : 376, Seen : 84\n",
      "Queue : 377, Seen : 85\n",
      "Queue : 378, Seen : 86\n",
      "Queue : 379, Seen : 87\n",
      "Queue : 380, Seen : 88\n",
      "Queue : 381, Seen : 89\n",
      "Queue : 382, Seen : 90\n",
      "Queue : 383, Seen : 91\n",
      "Queue : 384, Seen : 92\n",
      "Queue : 385, Seen : 93\n",
      "Queue : 386, Seen : 94\n",
      "Queue : 387, Seen : 95\n",
      "Queue : 399, Seen : 96\n",
      "Queue : 399, Seen : 97\n",
      "Queue : 399, Seen : 98\n",
      "Queue : 400, Seen : 99\n",
      "Queue : 399, Seen : 100\n",
      "Queue : 398, Seen : 101\n",
      "Queue : 399, Seen : 102\n",
      "Queue : 408, Seen : 103\n",
      "Queue : 412, Seen : 104\n",
      "Queue : 420, Seen : 105\n",
      "Queue : 430, Seen : 106\n",
      "Queue : 433, Seen : 107\n",
      "Queue : 437, Seen : 108\n",
      "Queue : 443, Seen : 109\n",
      "Queue : 446, Seen : 110\n",
      "Queue : 449, Seen : 111\n",
      "Queue : 451, Seen : 112\n",
      "Queue : 464, Seen : 113\n",
      "Queue : 463, Seen : 114\n",
      "Queue : 462, Seen : 115\n",
      "Queue : 461, Seen : 116\n",
      "Queue : 460, Seen : 117\n",
      "Queue : 459, Seen : 118\n",
      "Queue : 458, Seen : 119\n",
      "Queue : 457, Seen : 120\n",
      "Queue : 456, Seen : 121\n",
      "Queue : 455, Seen : 122\n",
      "Queue : 454, Seen : 123\n"
     ]
    },
    {
     "ename": "KeyError",
     "evalue": "'href'",
     "output_type": "error",
     "traceback": [
      "\u001b[1;31m---------------------------------------------------------------------------\u001b[0m",
      "\u001b[1;31mKeyError\u001b[0m                                  Traceback (most recent call last)",
      "\u001b[1;32m<ipython-input-15-6f7b62371eaf>\u001b[0m in \u001b[0;36m<module>\u001b[1;34m\u001b[0m\n\u001b[0;32m      9\u001b[0m     \u001b[1;31m# sleep하여 request 시간 간격 준다\u001b[0m\u001b[1;33m\u001b[0m\u001b[1;33m\u001b[0m\u001b[1;33m\u001b[0m\u001b[0m\n\u001b[0;32m     10\u001b[0m     \u001b[0mtime\u001b[0m\u001b[1;33m.\u001b[0m\u001b[0msleep\u001b[0m\u001b[1;33m(\u001b[0m\u001b[1;36m1\u001b[0m\u001b[1;33m)\u001b[0m\u001b[1;33m\u001b[0m\u001b[1;33m\u001b[0m\u001b[0m\n\u001b[1;32m---> 11\u001b[1;33m     \u001b[0mlinkList\u001b[0m \u001b[1;33m=\u001b[0m \u001b[0mparseURL\u001b[0m\u001b[1;33m(\u001b[0m\u001b[0mbaseURL\u001b[0m\u001b[1;33m)\u001b[0m\u001b[1;33m\u001b[0m\u001b[1;33m\u001b[0m\u001b[0m\n\u001b[0m\u001b[0;32m     12\u001b[0m     \u001b[1;31m# queue 안에 중복되는 url? , url- seen?\u001b[0m\u001b[1;33m\u001b[0m\u001b[1;33m\u001b[0m\u001b[1;33m\u001b[0m\u001b[0m\n\u001b[0;32m     13\u001b[0m     \u001b[1;32mfor\u001b[0m \u001b[0mlink\u001b[0m \u001b[1;32min\u001b[0m \u001b[0mlinkList\u001b[0m\u001b[1;33m:\u001b[0m\u001b[1;33m\u001b[0m\u001b[1;33m\u001b[0m\u001b[0m\n",
      "\u001b[1;32m<ipython-input-13-22bb582cde6b>\u001b[0m in \u001b[0;36mparseURL\u001b[1;34m(seed)\u001b[0m\n\u001b[0;32m      6\u001b[0m     \u001b[0mdom\u001b[0m \u001b[1;33m=\u001b[0m \u001b[0mBeautifulSoup\u001b[0m\u001b[1;33m(\u001b[0m\u001b[0mhtml\u001b[0m\u001b[1;33m.\u001b[0m\u001b[0mtext\u001b[0m\u001b[1;33m,\u001b[0m \u001b[1;34m'lxml'\u001b[0m\u001b[1;33m)\u001b[0m\u001b[1;33m\u001b[0m\u001b[1;33m\u001b[0m\u001b[0m\n\u001b[0;32m      7\u001b[0m \u001b[1;33m\u001b[0m\u001b[0m\n\u001b[1;32m----> 8\u001b[1;33m     \u001b[1;32mreturn\u001b[0m \u001b[1;33m[\u001b[0m\u001b[0mrequests\u001b[0m\u001b[1;33m.\u001b[0m\u001b[0mcompat\u001b[0m\u001b[1;33m.\u001b[0m\u001b[0murljoin\u001b[0m\u001b[1;33m(\u001b[0m\u001b[0murl\u001b[0m\u001b[1;33m,\u001b[0m \u001b[0m_\u001b[0m\u001b[1;33m[\u001b[0m\u001b[1;34m'href'\u001b[0m\u001b[1;33m]\u001b[0m\u001b[1;33m)\u001b[0m \u001b[1;32mfor\u001b[0m \u001b[0m_\u001b[0m \u001b[1;32min\u001b[0m \u001b[0mdom\u001b[0m\u001b[1;33m.\u001b[0m\u001b[0mfind_all\u001b[0m\u001b[1;33m(\u001b[0m\u001b[1;34m'a'\u001b[0m\u001b[1;33m)\u001b[0m \u001b[1;32mif\u001b[0m \u001b[0mlen\u001b[0m\u001b[1;33m(\u001b[0m\u001b[0m_\u001b[0m\u001b[1;33m[\u001b[0m\u001b[1;34m'href'\u001b[0m\u001b[1;33m]\u001b[0m\u001b[1;33m)\u001b[0m \u001b[1;33m>\u001b[0m \u001b[1;36m3\u001b[0m\u001b[1;33m]\u001b[0m\u001b[1;33m\u001b[0m\u001b[1;33m\u001b[0m\u001b[0m\n\u001b[0m",
      "\u001b[1;32m<ipython-input-13-22bb582cde6b>\u001b[0m in \u001b[0;36m<listcomp>\u001b[1;34m(.0)\u001b[0m\n\u001b[0;32m      6\u001b[0m     \u001b[0mdom\u001b[0m \u001b[1;33m=\u001b[0m \u001b[0mBeautifulSoup\u001b[0m\u001b[1;33m(\u001b[0m\u001b[0mhtml\u001b[0m\u001b[1;33m.\u001b[0m\u001b[0mtext\u001b[0m\u001b[1;33m,\u001b[0m \u001b[1;34m'lxml'\u001b[0m\u001b[1;33m)\u001b[0m\u001b[1;33m\u001b[0m\u001b[1;33m\u001b[0m\u001b[0m\n\u001b[0;32m      7\u001b[0m \u001b[1;33m\u001b[0m\u001b[0m\n\u001b[1;32m----> 8\u001b[1;33m     \u001b[1;32mreturn\u001b[0m \u001b[1;33m[\u001b[0m\u001b[0mrequests\u001b[0m\u001b[1;33m.\u001b[0m\u001b[0mcompat\u001b[0m\u001b[1;33m.\u001b[0m\u001b[0murljoin\u001b[0m\u001b[1;33m(\u001b[0m\u001b[0murl\u001b[0m\u001b[1;33m,\u001b[0m \u001b[0m_\u001b[0m\u001b[1;33m[\u001b[0m\u001b[1;34m'href'\u001b[0m\u001b[1;33m]\u001b[0m\u001b[1;33m)\u001b[0m \u001b[1;32mfor\u001b[0m \u001b[0m_\u001b[0m \u001b[1;32min\u001b[0m \u001b[0mdom\u001b[0m\u001b[1;33m.\u001b[0m\u001b[0mfind_all\u001b[0m\u001b[1;33m(\u001b[0m\u001b[1;34m'a'\u001b[0m\u001b[1;33m)\u001b[0m \u001b[1;32mif\u001b[0m \u001b[0mlen\u001b[0m\u001b[1;33m(\u001b[0m\u001b[0m_\u001b[0m\u001b[1;33m[\u001b[0m\u001b[1;34m'href'\u001b[0m\u001b[1;33m]\u001b[0m\u001b[1;33m)\u001b[0m \u001b[1;33m>\u001b[0m \u001b[1;36m3\u001b[0m\u001b[1;33m]\u001b[0m\u001b[1;33m\u001b[0m\u001b[1;33m\u001b[0m\u001b[0m\n\u001b[0m",
      "\u001b[1;32m~\\Anaconda3\\lib\\site-packages\\bs4\\element.py\u001b[0m in \u001b[0;36m__getitem__\u001b[1;34m(self, key)\u001b[0m\n\u001b[0;32m   1069\u001b[0m         \"\"\"tag[key] returns the value of the 'key' attribute for the tag,\n\u001b[0;32m   1070\u001b[0m         and throws an exception if it's not there.\"\"\"\n\u001b[1;32m-> 1071\u001b[1;33m         \u001b[1;32mreturn\u001b[0m \u001b[0mself\u001b[0m\u001b[1;33m.\u001b[0m\u001b[0mattrs\u001b[0m\u001b[1;33m[\u001b[0m\u001b[0mkey\u001b[0m\u001b[1;33m]\u001b[0m\u001b[1;33m\u001b[0m\u001b[1;33m\u001b[0m\u001b[0m\n\u001b[0m\u001b[0;32m   1072\u001b[0m \u001b[1;33m\u001b[0m\u001b[0m\n\u001b[0;32m   1073\u001b[0m     \u001b[1;32mdef\u001b[0m \u001b[0m__iter__\u001b[0m\u001b[1;33m(\u001b[0m\u001b[0mself\u001b[0m\u001b[1;33m)\u001b[0m\u001b[1;33m:\u001b[0m\u001b[1;33m\u001b[0m\u001b[1;33m\u001b[0m\u001b[0m\n",
      "\u001b[1;31mKeyError\u001b[0m: 'href'"
     ]
    }
   ],
   "source": [
    "# 시드를 주는 queue 생성\n",
    "queue = list()\n",
    "queue.append(\"https://www.google.com/search?q=%EC%84%9C%ED%98%84%EC%A7%84\")\n",
    "# URL - Seen?\n",
    "seen = list()\n",
    "while queue:\n",
    "    baseURL = queue.pop(0) # FIFO\n",
    "    seen.append(baseURL)\n",
    "    # sleep하여 request 시간 간격 준다\n",
    "    time.sleep(1)\n",
    "    linkList = parseURL(baseURL)\n",
    "    # queue 안에 중복되는 url? , url- seen?\n",
    "    for link in linkList:\n",
    "        if link not in queue and link not in seen:\n",
    "            queue.append(link)\n",
    "    print(\"Queue : {0}, Seen : {1}\".format(len(queue), len(seen)))\n",
    "#     queue.extend(linkList)"
   ]
  },
  {
   "cell_type": "code",
   "execution_count": 3,
   "metadata": {
    "ExecuteTime": {
     "end_time": "2019-07-15T02:36:29.476425Z",
     "start_time": "2019-07-15T02:36:28.771821Z"
    },
    "scrolled": true
   },
   "outputs": [],
   "source": [
    "url = \"https://www.google.com/search\"\n",
    "param = {\n",
    "    \"q\" : \"박보영\"\n",
    "}\n",
    "header = {\"user-agent\": \"Mozilla/5.0 (Windows NT 10.0; Win64; x64) AppleWebKit/537.36 (KHTML, like Gecko) Chrome/75.0.3770.100 Safari/537.36\"}\n",
    "html = download(\"get\", url, param=param, header=header)\n",
    "dom = BeautifulSoup(html.text, \"lxml\")"
   ]
  },
  {
   "cell_type": "code",
   "execution_count": 27,
   "metadata": {
    "ExecuteTime": {
     "end_time": "2019-07-15T02:48:20.153360Z",
     "start_time": "2019-07-15T02:48:20.143365Z"
    }
   },
   "outputs": [
    {
     "data": {
      "text/plain": [
       "8"
      ]
     },
     "execution_count": 27,
     "metadata": {},
     "output_type": "execute_result"
    }
   ],
   "source": [
    "len([_.find_parent()['href'] for _ in dom.select('.LC20lb')])"
   ]
  },
  {
   "cell_type": "code",
   "execution_count": 44,
   "metadata": {
    "ExecuteTime": {
     "end_time": "2019-07-15T03:57:26.226882Z",
     "start_time": "2019-07-15T03:55:43.986604Z"
    },
    "collapsed": true
   },
   "outputs": [
    {
     "name": "stdout",
     "output_type": "stream",
     "text": [
      "Queue : 614, Seen : 1\n",
      "Queue : 866, Seen : 2\n",
      "Queue : 1715, Seen : 3\n",
      "Queue : 1831, Seen : 4\n",
      "Queue : 1847, Seen : 5\n",
      "Queue : 1851, Seen : 6\n",
      "Queue : 1899, Seen : 7\n",
      "Queue : 1964, Seen : 8\n",
      "404\n",
      "Not Found\n",
      "Queue : 1963, Seen : 9\n",
      "404\n",
      "Not Found\n",
      "Queue : 1962, Seen : 10\n",
      "404\n",
      "Not Found\n",
      "Queue : 1961, Seen : 11\n",
      "404\n",
      "Not Found\n",
      "Queue : 1960, Seen : 12\n",
      "404\n",
      "Not Found\n",
      "Queue : 1959, Seen : 13\n",
      "404\n",
      "Not Found\n",
      "Queue : 1958, Seen : 14\n",
      "404\n",
      "Not Found\n",
      "Queue : 1957, Seen : 15\n",
      "404\n",
      "Not Found\n",
      "Queue : 1956, Seen : 16\n",
      "404\n",
      "Not Found\n",
      "Queue : 1955, Seen : 17\n",
      "404\n",
      "Not Found\n",
      "Queue : 1954, Seen : 18\n",
      "404\n",
      "Not Found\n",
      "Queue : 1953, Seen : 19\n",
      "404\n",
      "Not Found\n",
      "Queue : 1952, Seen : 20\n",
      "Queue : 1951, Seen : 21\n",
      "404\n",
      "Not Found\n",
      "Queue : 1950, Seen : 22\n",
      "404\n",
      "Not Found\n",
      "Queue : 1949, Seen : 23\n",
      "404\n",
      "Not Found\n",
      "Queue : 1948, Seen : 24\n",
      "404\n",
      "Not Found\n",
      "Queue : 1947, Seen : 25\n",
      "404\n",
      "Not Found\n",
      "Queue : 1946, Seen : 26\n",
      "404\n",
      "Not Found\n",
      "Queue : 1945, Seen : 27\n",
      "404\n",
      "Not Found\n",
      "Queue : 1944, Seen : 28\n",
      "404\n",
      "Not Found\n",
      "Queue : 1943, Seen : 29\n",
      "404\n",
      "Not Found\n",
      "Queue : 1942, Seen : 30\n",
      "404\n",
      "Not Found\n",
      "Queue : 1941, Seen : 31\n",
      "404\n",
      "Not Found\n",
      "Queue : 1940, Seen : 32\n",
      "404\n",
      "Not Found\n",
      "Queue : 1939, Seen : 33\n",
      "404\n",
      "Not Found\n",
      "Queue : 1938, Seen : 34\n",
      "404\n",
      "Not Found\n",
      "Queue : 1937, Seen : 35\n",
      "404\n",
      "Not Found\n",
      "Queue : 1936, Seen : 36\n",
      "404\n",
      "Not Found\n",
      "Queue : 1935, Seen : 37\n",
      "404\n",
      "Not Found\n",
      "Queue : 1934, Seen : 38\n",
      "404\n",
      "Not Found\n",
      "Queue : 1933, Seen : 39\n",
      "404\n",
      "Not Found\n",
      "Queue : 1932, Seen : 40\n",
      "404\n",
      "Not Found\n",
      "Queue : 1931, Seen : 41\n",
      "404\n",
      "Not Found\n",
      "Queue : 1930, Seen : 42\n",
      "404\n",
      "Not Found\n",
      "Queue : 1929, Seen : 43\n",
      "404\n",
      "Not Found\n",
      "Queue : 1928, Seen : 44\n",
      "404\n",
      "Not Found\n",
      "Queue : 1927, Seen : 45\n",
      "404\n",
      "Not Found\n",
      "Queue : 1926, Seen : 46\n",
      "404\n",
      "Not Found\n",
      "Queue : 1925, Seen : 47\n",
      "404\n",
      "Not Found\n",
      "Queue : 1924, Seen : 48\n",
      "404\n",
      "Not Found\n",
      "Queue : 1923, Seen : 49\n",
      "404\n",
      "Not Found\n",
      "Queue : 1922, Seen : 50\n",
      "404\n",
      "Not Found\n",
      "Queue : 1921, Seen : 51\n",
      "404\n",
      "Not Found\n",
      "Queue : 1920, Seen : 52\n",
      "404\n",
      "Not Found\n",
      "Queue : 1919, Seen : 53\n",
      "404\n",
      "Not Found\n",
      "Queue : 1918, Seen : 54\n",
      "404\n",
      "Not Found\n",
      "Queue : 1917, Seen : 55\n",
      "404\n",
      "Not Found\n",
      "Queue : 1916, Seen : 56\n",
      "404\n",
      "Not Found\n",
      "Queue : 1915, Seen : 57\n",
      "404\n",
      "Not Found\n",
      "Queue : 1914, Seen : 58\n",
      "404\n",
      "Not Found\n",
      "Queue : 1913, Seen : 59\n",
      "404\n",
      "Not Found\n",
      "Queue : 1912, Seen : 60\n",
      "404\n",
      "Not Found\n",
      "Queue : 1911, Seen : 61\n",
      "404\n",
      "Not Found\n",
      "Queue : 1910, Seen : 62\n",
      "404\n",
      "Not Found\n",
      "Queue : 1909, Seen : 63\n",
      "404\n",
      "Not Found\n",
      "Queue : 1908, Seen : 64\n",
      "404\n",
      "Not Found\n",
      "Queue : 1907, Seen : 65\n",
      "404\n",
      "Not Found\n",
      "Queue : 1906, Seen : 66\n",
      "404\n",
      "Not Found\n",
      "Queue : 1905, Seen : 67\n",
      "404\n",
      "Not Found\n",
      "Queue : 1904, Seen : 68\n",
      "404\n",
      "Not Found\n",
      "Queue : 1903, Seen : 69\n",
      "404\n",
      "Not Found\n",
      "Queue : 1902, Seen : 70\n",
      "404\n",
      "Not Found\n",
      "Queue : 1901, Seen : 71\n",
      "404\n",
      "Not Found\n",
      "Queue : 1900, Seen : 72\n",
      "404\n",
      "Not Found\n",
      "Queue : 1899, Seen : 73\n",
      "404\n",
      "Not Found\n",
      "Queue : 1898, Seen : 74\n",
      "404\n",
      "Not Found\n",
      "Queue : 1897, Seen : 75\n",
      "404\n",
      "Not Found\n",
      "Queue : 1896, Seen : 76\n",
      "404\n",
      "Not Found\n",
      "Queue : 1895, Seen : 77\n",
      "404\n",
      "Not Found\n",
      "Queue : 1894, Seen : 78\n",
      "404\n",
      "Not Found\n",
      "Queue : 1893, Seen : 79\n",
      "404\n",
      "Not Found\n",
      "Queue : 1892, Seen : 80\n",
      "404\n",
      "Not Found\n",
      "Queue : 1891, Seen : 81\n",
      "404\n",
      "Not Found\n",
      "Queue : 1890, Seen : 82\n",
      "404\n",
      "Not Found\n",
      "Queue : 1889, Seen : 83\n",
      "404\n",
      "Not Found\n",
      "Queue : 1888, Seen : 84\n",
      "404\n",
      "Not Found\n",
      "Queue : 1887, Seen : 85\n",
      "404\n",
      "Not Found\n",
      "Queue : 1886, Seen : 86\n",
      "404\n",
      "Not Found\n",
      "Queue : 1885, Seen : 87\n",
      "404\n",
      "Not Found\n",
      "Queue : 1884, Seen : 88\n",
      "404\n",
      "Not Found\n",
      "Queue : 1883, Seen : 89\n",
      "404\n",
      "Not Found\n",
      "Queue : 1882, Seen : 90\n",
      "404\n",
      "Not Found\n",
      "Queue : 1881, Seen : 91\n",
      "404\n",
      "Not Found\n",
      "Queue : 1880, Seen : 92\n",
      "404\n",
      "Not Found\n",
      "Queue : 1879, Seen : 93\n",
      "404\n",
      "Not Found\n",
      "Queue : 1878, Seen : 94\n",
      "404\n",
      "Not Found\n",
      "Queue : 1877, Seen : 95\n",
      "404\n",
      "Not Found\n",
      "Queue : 1876, Seen : 96\n",
      "404\n",
      "Not Found\n",
      "Queue : 1875, Seen : 97\n",
      "404\n",
      "Not Found\n",
      "Queue : 1874, Seen : 98\n",
      "404\n",
      "Not Found\n",
      "Queue : 1873, Seen : 99\n",
      "404\n",
      "Not Found\n",
      "Queue : 1872, Seen : 100\n",
      "404\n",
      "Not Found\n",
      "Queue : 1871, Seen : 101\n",
      "404\n",
      "Not Found\n",
      "Queue : 1870, Seen : 102\n",
      "404\n",
      "Not Found\n",
      "Queue : 1869, Seen : 103\n",
      "404\n",
      "Not Found\n",
      "Queue : 1868, Seen : 104\n",
      "404\n",
      "Not Found\n",
      "Queue : 1867, Seen : 105\n",
      "404\n",
      "Not Found\n",
      "Queue : 1866, Seen : 106\n",
      "404\n",
      "Not Found\n",
      "Queue : 1865, Seen : 107\n",
      "404\n",
      "Not Found\n",
      "Queue : 1864, Seen : 108\n",
      "404\n",
      "Not Found\n",
      "Queue : 1863, Seen : 109\n",
      "404\n",
      "Not Found\n",
      "Queue : 1862, Seen : 110\n",
      "404\n",
      "Not Found\n",
      "Queue : 1861, Seen : 111\n",
      "404\n",
      "Not Found\n",
      "Queue : 1860, Seen : 112\n",
      "404\n",
      "Not Found\n",
      "Queue : 1859, Seen : 113\n",
      "Queue : 2033, Seen : 114\n",
      "Queue : 2034, Seen : 115\n",
      "Queue : 2148, Seen : 116\n",
      "Queue : 2151, Seen : 117\n",
      "Queue : 2203, Seen : 118\n",
      "Queue : 2202, Seen : 119\n",
      "Queue : 2221, Seen : 120\n",
      "Queue : 2231, Seen : 121\n",
      "Queue : 2249, Seen : 122\n",
      "Queue : 2261, Seen : 123\n",
      "Queue : 2260, Seen : 124\n",
      "Queue : 2337, Seen : 125\n",
      "Queue : 2376, Seen : 126\n",
      "Queue : 2377, Seen : 127\n",
      "Queue : 2392, Seen : 128\n",
      "Queue : 2429, Seen : 129\n"
     ]
    },
    {
     "ename": "ConnectionError",
     "evalue": "HTTPConnectionPool(host='www.ceci.co.kr', port=80): Max retries exceeded with url: /article/article_detail.do?idx=1464&rtag= (Caused by NewConnectionError('<urllib3.connection.HTTPConnection object at 0x0000016DE9F4D128>: Failed to establish a new connection: [WinError 10060] 연결된 구성원으로부터 응답이 없어 연결하지 못했거나, 호스트로부터 응답이 없어 연결이 끊어졌습니다',))",
     "output_type": "error",
     "traceback": [
      "\u001b[1;31m---------------------------------------------------------------------------\u001b[0m",
      "\u001b[1;31mTimeoutError\u001b[0m                              Traceback (most recent call last)",
      "\u001b[1;32m~\\Anaconda3\\lib\\site-packages\\urllib3\\connection.py\u001b[0m in \u001b[0;36m_new_conn\u001b[1;34m(self)\u001b[0m\n\u001b[0;32m    170\u001b[0m             conn = connection.create_connection(\n\u001b[1;32m--> 171\u001b[1;33m                 (self._dns_host, self.port), self.timeout, **extra_kw)\n\u001b[0m\u001b[0;32m    172\u001b[0m \u001b[1;33m\u001b[0m\u001b[0m\n",
      "\u001b[1;32m~\\Anaconda3\\lib\\site-packages\\urllib3\\util\\connection.py\u001b[0m in \u001b[0;36mcreate_connection\u001b[1;34m(address, timeout, source_address, socket_options)\u001b[0m\n\u001b[0;32m     78\u001b[0m     \u001b[1;32mif\u001b[0m \u001b[0merr\u001b[0m \u001b[1;32mis\u001b[0m \u001b[1;32mnot\u001b[0m \u001b[1;32mNone\u001b[0m\u001b[1;33m:\u001b[0m\u001b[1;33m\u001b[0m\u001b[1;33m\u001b[0m\u001b[0m\n\u001b[1;32m---> 79\u001b[1;33m         \u001b[1;32mraise\u001b[0m \u001b[0merr\u001b[0m\u001b[1;33m\u001b[0m\u001b[1;33m\u001b[0m\u001b[0m\n\u001b[0m\u001b[0;32m     80\u001b[0m \u001b[1;33m\u001b[0m\u001b[0m\n",
      "\u001b[1;32m~\\Anaconda3\\lib\\site-packages\\urllib3\\util\\connection.py\u001b[0m in \u001b[0;36mcreate_connection\u001b[1;34m(address, timeout, source_address, socket_options)\u001b[0m\n\u001b[0;32m     68\u001b[0m                 \u001b[0msock\u001b[0m\u001b[1;33m.\u001b[0m\u001b[0mbind\u001b[0m\u001b[1;33m(\u001b[0m\u001b[0msource_address\u001b[0m\u001b[1;33m)\u001b[0m\u001b[1;33m\u001b[0m\u001b[1;33m\u001b[0m\u001b[0m\n\u001b[1;32m---> 69\u001b[1;33m             \u001b[0msock\u001b[0m\u001b[1;33m.\u001b[0m\u001b[0mconnect\u001b[0m\u001b[1;33m(\u001b[0m\u001b[0msa\u001b[0m\u001b[1;33m)\u001b[0m\u001b[1;33m\u001b[0m\u001b[1;33m\u001b[0m\u001b[0m\n\u001b[0m\u001b[0;32m     70\u001b[0m             \u001b[1;32mreturn\u001b[0m \u001b[0msock\u001b[0m\u001b[1;33m\u001b[0m\u001b[1;33m\u001b[0m\u001b[0m\n",
      "\u001b[1;31mTimeoutError\u001b[0m: [WinError 10060] 연결된 구성원으로부터 응답이 없어 연결하지 못했거나, 호스트로부터 응답이 없어 연결이 끊어졌습니다",
      "\nDuring handling of the above exception, another exception occurred:\n",
      "\u001b[1;31mNewConnectionError\u001b[0m                        Traceback (most recent call last)",
      "\u001b[1;32m~\\Anaconda3\\lib\\site-packages\\urllib3\\connectionpool.py\u001b[0m in \u001b[0;36murlopen\u001b[1;34m(self, method, url, body, headers, retries, redirect, assert_same_host, timeout, pool_timeout, release_conn, chunked, body_pos, **response_kw)\u001b[0m\n\u001b[0;32m    599\u001b[0m                                                   \u001b[0mbody\u001b[0m\u001b[1;33m=\u001b[0m\u001b[0mbody\u001b[0m\u001b[1;33m,\u001b[0m \u001b[0mheaders\u001b[0m\u001b[1;33m=\u001b[0m\u001b[0mheaders\u001b[0m\u001b[1;33m,\u001b[0m\u001b[1;33m\u001b[0m\u001b[1;33m\u001b[0m\u001b[0m\n\u001b[1;32m--> 600\u001b[1;33m                                                   chunked=chunked)\n\u001b[0m\u001b[0;32m    601\u001b[0m \u001b[1;33m\u001b[0m\u001b[0m\n",
      "\u001b[1;32m~\\Anaconda3\\lib\\site-packages\\urllib3\\connectionpool.py\u001b[0m in \u001b[0;36m_make_request\u001b[1;34m(self, conn, method, url, timeout, chunked, **httplib_request_kw)\u001b[0m\n\u001b[0;32m    353\u001b[0m         \u001b[1;32melse\u001b[0m\u001b[1;33m:\u001b[0m\u001b[1;33m\u001b[0m\u001b[1;33m\u001b[0m\u001b[0m\n\u001b[1;32m--> 354\u001b[1;33m             \u001b[0mconn\u001b[0m\u001b[1;33m.\u001b[0m\u001b[0mrequest\u001b[0m\u001b[1;33m(\u001b[0m\u001b[0mmethod\u001b[0m\u001b[1;33m,\u001b[0m \u001b[0murl\u001b[0m\u001b[1;33m,\u001b[0m \u001b[1;33m**\u001b[0m\u001b[0mhttplib_request_kw\u001b[0m\u001b[1;33m)\u001b[0m\u001b[1;33m\u001b[0m\u001b[1;33m\u001b[0m\u001b[0m\n\u001b[0m\u001b[0;32m    355\u001b[0m \u001b[1;33m\u001b[0m\u001b[0m\n",
      "\u001b[1;32m~\\Anaconda3\\lib\\http\\client.py\u001b[0m in \u001b[0;36mrequest\u001b[1;34m(self, method, url, body, headers, encode_chunked)\u001b[0m\n\u001b[0;32m   1238\u001b[0m         \u001b[1;34m\"\"\"Send a complete request to the server.\"\"\"\u001b[0m\u001b[1;33m\u001b[0m\u001b[1;33m\u001b[0m\u001b[0m\n\u001b[1;32m-> 1239\u001b[1;33m         \u001b[0mself\u001b[0m\u001b[1;33m.\u001b[0m\u001b[0m_send_request\u001b[0m\u001b[1;33m(\u001b[0m\u001b[0mmethod\u001b[0m\u001b[1;33m,\u001b[0m \u001b[0murl\u001b[0m\u001b[1;33m,\u001b[0m \u001b[0mbody\u001b[0m\u001b[1;33m,\u001b[0m \u001b[0mheaders\u001b[0m\u001b[1;33m,\u001b[0m \u001b[0mencode_chunked\u001b[0m\u001b[1;33m)\u001b[0m\u001b[1;33m\u001b[0m\u001b[1;33m\u001b[0m\u001b[0m\n\u001b[0m\u001b[0;32m   1240\u001b[0m \u001b[1;33m\u001b[0m\u001b[0m\n",
      "\u001b[1;32m~\\Anaconda3\\lib\\http\\client.py\u001b[0m in \u001b[0;36m_send_request\u001b[1;34m(self, method, url, body, headers, encode_chunked)\u001b[0m\n\u001b[0;32m   1284\u001b[0m             \u001b[0mbody\u001b[0m \u001b[1;33m=\u001b[0m \u001b[0m_encode\u001b[0m\u001b[1;33m(\u001b[0m\u001b[0mbody\u001b[0m\u001b[1;33m,\u001b[0m \u001b[1;34m'body'\u001b[0m\u001b[1;33m)\u001b[0m\u001b[1;33m\u001b[0m\u001b[1;33m\u001b[0m\u001b[0m\n\u001b[1;32m-> 1285\u001b[1;33m         \u001b[0mself\u001b[0m\u001b[1;33m.\u001b[0m\u001b[0mendheaders\u001b[0m\u001b[1;33m(\u001b[0m\u001b[0mbody\u001b[0m\u001b[1;33m,\u001b[0m \u001b[0mencode_chunked\u001b[0m\u001b[1;33m=\u001b[0m\u001b[0mencode_chunked\u001b[0m\u001b[1;33m)\u001b[0m\u001b[1;33m\u001b[0m\u001b[1;33m\u001b[0m\u001b[0m\n\u001b[0m\u001b[0;32m   1286\u001b[0m \u001b[1;33m\u001b[0m\u001b[0m\n",
      "\u001b[1;32m~\\Anaconda3\\lib\\http\\client.py\u001b[0m in \u001b[0;36mendheaders\u001b[1;34m(self, message_body, encode_chunked)\u001b[0m\n\u001b[0;32m   1233\u001b[0m             \u001b[1;32mraise\u001b[0m \u001b[0mCannotSendHeader\u001b[0m\u001b[1;33m(\u001b[0m\u001b[1;33m)\u001b[0m\u001b[1;33m\u001b[0m\u001b[1;33m\u001b[0m\u001b[0m\n\u001b[1;32m-> 1234\u001b[1;33m         \u001b[0mself\u001b[0m\u001b[1;33m.\u001b[0m\u001b[0m_send_output\u001b[0m\u001b[1;33m(\u001b[0m\u001b[0mmessage_body\u001b[0m\u001b[1;33m,\u001b[0m \u001b[0mencode_chunked\u001b[0m\u001b[1;33m=\u001b[0m\u001b[0mencode_chunked\u001b[0m\u001b[1;33m)\u001b[0m\u001b[1;33m\u001b[0m\u001b[1;33m\u001b[0m\u001b[0m\n\u001b[0m\u001b[0;32m   1235\u001b[0m \u001b[1;33m\u001b[0m\u001b[0m\n",
      "\u001b[1;32m~\\Anaconda3\\lib\\http\\client.py\u001b[0m in \u001b[0;36m_send_output\u001b[1;34m(self, message_body, encode_chunked)\u001b[0m\n\u001b[0;32m   1025\u001b[0m         \u001b[1;32mdel\u001b[0m \u001b[0mself\u001b[0m\u001b[1;33m.\u001b[0m\u001b[0m_buffer\u001b[0m\u001b[1;33m[\u001b[0m\u001b[1;33m:\u001b[0m\u001b[1;33m]\u001b[0m\u001b[1;33m\u001b[0m\u001b[1;33m\u001b[0m\u001b[0m\n\u001b[1;32m-> 1026\u001b[1;33m         \u001b[0mself\u001b[0m\u001b[1;33m.\u001b[0m\u001b[0msend\u001b[0m\u001b[1;33m(\u001b[0m\u001b[0mmsg\u001b[0m\u001b[1;33m)\u001b[0m\u001b[1;33m\u001b[0m\u001b[1;33m\u001b[0m\u001b[0m\n\u001b[0m\u001b[0;32m   1027\u001b[0m \u001b[1;33m\u001b[0m\u001b[0m\n",
      "\u001b[1;32m~\\Anaconda3\\lib\\http\\client.py\u001b[0m in \u001b[0;36msend\u001b[1;34m(self, data)\u001b[0m\n\u001b[0;32m    963\u001b[0m             \u001b[1;32mif\u001b[0m \u001b[0mself\u001b[0m\u001b[1;33m.\u001b[0m\u001b[0mauto_open\u001b[0m\u001b[1;33m:\u001b[0m\u001b[1;33m\u001b[0m\u001b[1;33m\u001b[0m\u001b[0m\n\u001b[1;32m--> 964\u001b[1;33m                 \u001b[0mself\u001b[0m\u001b[1;33m.\u001b[0m\u001b[0mconnect\u001b[0m\u001b[1;33m(\u001b[0m\u001b[1;33m)\u001b[0m\u001b[1;33m\u001b[0m\u001b[1;33m\u001b[0m\u001b[0m\n\u001b[0m\u001b[0;32m    965\u001b[0m             \u001b[1;32melse\u001b[0m\u001b[1;33m:\u001b[0m\u001b[1;33m\u001b[0m\u001b[1;33m\u001b[0m\u001b[0m\n",
      "\u001b[1;32m~\\Anaconda3\\lib\\site-packages\\urllib3\\connection.py\u001b[0m in \u001b[0;36mconnect\u001b[1;34m(self)\u001b[0m\n\u001b[0;32m    195\u001b[0m     \u001b[1;32mdef\u001b[0m \u001b[0mconnect\u001b[0m\u001b[1;33m(\u001b[0m\u001b[0mself\u001b[0m\u001b[1;33m)\u001b[0m\u001b[1;33m:\u001b[0m\u001b[1;33m\u001b[0m\u001b[1;33m\u001b[0m\u001b[0m\n\u001b[1;32m--> 196\u001b[1;33m         \u001b[0mconn\u001b[0m \u001b[1;33m=\u001b[0m \u001b[0mself\u001b[0m\u001b[1;33m.\u001b[0m\u001b[0m_new_conn\u001b[0m\u001b[1;33m(\u001b[0m\u001b[1;33m)\u001b[0m\u001b[1;33m\u001b[0m\u001b[1;33m\u001b[0m\u001b[0m\n\u001b[0m\u001b[0;32m    197\u001b[0m         \u001b[0mself\u001b[0m\u001b[1;33m.\u001b[0m\u001b[0m_prepare_conn\u001b[0m\u001b[1;33m(\u001b[0m\u001b[0mconn\u001b[0m\u001b[1;33m)\u001b[0m\u001b[1;33m\u001b[0m\u001b[1;33m\u001b[0m\u001b[0m\n",
      "\u001b[1;32m~\\Anaconda3\\lib\\site-packages\\urllib3\\connection.py\u001b[0m in \u001b[0;36m_new_conn\u001b[1;34m(self)\u001b[0m\n\u001b[0;32m    179\u001b[0m             raise NewConnectionError(\n\u001b[1;32m--> 180\u001b[1;33m                 self, \"Failed to establish a new connection: %s\" % e)\n\u001b[0m\u001b[0;32m    181\u001b[0m \u001b[1;33m\u001b[0m\u001b[0m\n",
      "\u001b[1;31mNewConnectionError\u001b[0m: <urllib3.connection.HTTPConnection object at 0x0000016DE9F4D128>: Failed to establish a new connection: [WinError 10060] 연결된 구성원으로부터 응답이 없어 연결하지 못했거나, 호스트로부터 응답이 없어 연결이 끊어졌습니다",
      "\nDuring handling of the above exception, another exception occurred:\n",
      "\u001b[1;31mMaxRetryError\u001b[0m                             Traceback (most recent call last)",
      "\u001b[1;32m~\\Anaconda3\\lib\\site-packages\\requests\\adapters.py\u001b[0m in \u001b[0;36msend\u001b[1;34m(self, request, stream, timeout, verify, cert, proxies)\u001b[0m\n\u001b[0;32m    448\u001b[0m                     \u001b[0mretries\u001b[0m\u001b[1;33m=\u001b[0m\u001b[0mself\u001b[0m\u001b[1;33m.\u001b[0m\u001b[0mmax_retries\u001b[0m\u001b[1;33m,\u001b[0m\u001b[1;33m\u001b[0m\u001b[1;33m\u001b[0m\u001b[0m\n\u001b[1;32m--> 449\u001b[1;33m                     \u001b[0mtimeout\u001b[0m\u001b[1;33m=\u001b[0m\u001b[0mtimeout\u001b[0m\u001b[1;33m\u001b[0m\u001b[1;33m\u001b[0m\u001b[0m\n\u001b[0m\u001b[0;32m    450\u001b[0m                 )\n",
      "\u001b[1;32m~\\Anaconda3\\lib\\site-packages\\urllib3\\connectionpool.py\u001b[0m in \u001b[0;36murlopen\u001b[1;34m(self, method, url, body, headers, retries, redirect, assert_same_host, timeout, pool_timeout, release_conn, chunked, body_pos, **response_kw)\u001b[0m\n\u001b[0;32m    637\u001b[0m             retries = retries.increment(method, url, error=e, _pool=self,\n\u001b[1;32m--> 638\u001b[1;33m                                         _stacktrace=sys.exc_info()[2])\n\u001b[0m\u001b[0;32m    639\u001b[0m             \u001b[0mretries\u001b[0m\u001b[1;33m.\u001b[0m\u001b[0msleep\u001b[0m\u001b[1;33m(\u001b[0m\u001b[1;33m)\u001b[0m\u001b[1;33m\u001b[0m\u001b[1;33m\u001b[0m\u001b[0m\n",
      "\u001b[1;32m~\\Anaconda3\\lib\\site-packages\\urllib3\\util\\retry.py\u001b[0m in \u001b[0;36mincrement\u001b[1;34m(self, method, url, response, error, _pool, _stacktrace)\u001b[0m\n\u001b[0;32m    397\u001b[0m         \u001b[1;32mif\u001b[0m \u001b[0mnew_retry\u001b[0m\u001b[1;33m.\u001b[0m\u001b[0mis_exhausted\u001b[0m\u001b[1;33m(\u001b[0m\u001b[1;33m)\u001b[0m\u001b[1;33m:\u001b[0m\u001b[1;33m\u001b[0m\u001b[1;33m\u001b[0m\u001b[0m\n\u001b[1;32m--> 398\u001b[1;33m             \u001b[1;32mraise\u001b[0m \u001b[0mMaxRetryError\u001b[0m\u001b[1;33m(\u001b[0m\u001b[0m_pool\u001b[0m\u001b[1;33m,\u001b[0m \u001b[0murl\u001b[0m\u001b[1;33m,\u001b[0m \u001b[0merror\u001b[0m \u001b[1;32mor\u001b[0m \u001b[0mResponseError\u001b[0m\u001b[1;33m(\u001b[0m\u001b[0mcause\u001b[0m\u001b[1;33m)\u001b[0m\u001b[1;33m)\u001b[0m\u001b[1;33m\u001b[0m\u001b[1;33m\u001b[0m\u001b[0m\n\u001b[0m\u001b[0;32m    399\u001b[0m \u001b[1;33m\u001b[0m\u001b[0m\n",
      "\u001b[1;31mMaxRetryError\u001b[0m: HTTPConnectionPool(host='www.ceci.co.kr', port=80): Max retries exceeded with url: /article/article_detail.do?idx=1464&rtag= (Caused by NewConnectionError('<urllib3.connection.HTTPConnection object at 0x0000016DE9F4D128>: Failed to establish a new connection: [WinError 10060] 연결된 구성원으로부터 응답이 없어 연결하지 못했거나, 호스트로부터 응답이 없어 연결이 끊어졌습니다',))",
      "\nDuring handling of the above exception, another exception occurred:\n",
      "\u001b[1;31mConnectionError\u001b[0m                           Traceback (most recent call last)",
      "\u001b[1;32m<ipython-input-44-502e88c8d69b>\u001b[0m in \u001b[0;36m<module>\u001b[1;34m\u001b[0m\n\u001b[0;32m      9\u001b[0m     \u001b[1;31m# sleep하여 request 시간 간격 준다\u001b[0m\u001b[1;33m\u001b[0m\u001b[1;33m\u001b[0m\u001b[1;33m\u001b[0m\u001b[0m\n\u001b[0;32m     10\u001b[0m     \u001b[0mtime\u001b[0m\u001b[1;33m.\u001b[0m\u001b[0msleep\u001b[0m\u001b[1;33m(\u001b[0m\u001b[1;36m0.4\u001b[0m\u001b[1;33m)\u001b[0m\u001b[1;33m\u001b[0m\u001b[1;33m\u001b[0m\u001b[0m\n\u001b[1;32m---> 11\u001b[1;33m     \u001b[0mlinkList\u001b[0m \u001b[1;33m=\u001b[0m \u001b[0mparseURL\u001b[0m\u001b[1;33m(\u001b[0m\u001b[0mbaseURL\u001b[0m\u001b[1;33m)\u001b[0m\u001b[1;33m\u001b[0m\u001b[1;33m\u001b[0m\u001b[0m\n\u001b[0m\u001b[0;32m     12\u001b[0m     \u001b[1;31m# queue 안에 중복되는 url? , url- seen?\u001b[0m\u001b[1;33m\u001b[0m\u001b[1;33m\u001b[0m\u001b[1;33m\u001b[0m\u001b[0m\n\u001b[0;32m     13\u001b[0m     \u001b[1;32mfor\u001b[0m \u001b[0mlink\u001b[0m \u001b[1;32min\u001b[0m \u001b[0mlinkList\u001b[0m\u001b[1;33m:\u001b[0m\u001b[1;33m\u001b[0m\u001b[1;33m\u001b[0m\u001b[0m\n",
      "\u001b[1;32m<ipython-input-43-99c4799cdbf8>\u001b[0m in \u001b[0;36mparseURL\u001b[1;34m(seed)\u001b[0m\n\u001b[0;32m      3\u001b[0m     \u001b[0murlList\u001b[0m \u001b[1;33m=\u001b[0m \u001b[0mlist\u001b[0m\u001b[1;33m(\u001b[0m\u001b[1;33m)\u001b[0m\u001b[1;33m\u001b[0m\u001b[1;33m\u001b[0m\u001b[0m\n\u001b[0;32m      4\u001b[0m \u001b[1;33m\u001b[0m\u001b[0m\n\u001b[1;32m----> 5\u001b[1;33m     \u001b[0mhtml\u001b[0m \u001b[1;33m=\u001b[0m \u001b[0mdownload\u001b[0m\u001b[1;33m(\u001b[0m\u001b[1;34m'get'\u001b[0m\u001b[1;33m,\u001b[0m \u001b[0mseed\u001b[0m\u001b[1;33m)\u001b[0m\u001b[1;33m\u001b[0m\u001b[1;33m\u001b[0m\u001b[0m\n\u001b[0m\u001b[0;32m      6\u001b[0m     \u001b[0mdom\u001b[0m \u001b[1;33m=\u001b[0m \u001b[0mBeautifulSoup\u001b[0m\u001b[1;33m(\u001b[0m\u001b[0mhtml\u001b[0m\u001b[1;33m.\u001b[0m\u001b[0mtext\u001b[0m\u001b[1;33m,\u001b[0m \u001b[1;34m'lxml'\u001b[0m\u001b[1;33m)\u001b[0m\u001b[1;33m\u001b[0m\u001b[1;33m\u001b[0m\u001b[0m\n\u001b[0;32m      7\u001b[0m \u001b[1;33m\u001b[0m\u001b[0m\n",
      "\u001b[1;32mE:\\data_campus\\data_processing\\unstructuredData\\download.py\u001b[0m in \u001b[0;36mdownload\u001b[1;34m(method, url, header, param, data, timeout, maxretries)\u001b[0m\n\u001b[0;32m      2\u001b[0m \u001b[1;32mdef\u001b[0m \u001b[0mdownload\u001b[0m\u001b[1;33m(\u001b[0m\u001b[0mmethod\u001b[0m\u001b[1;33m,\u001b[0m \u001b[0murl\u001b[0m\u001b[1;33m,\u001b[0m \u001b[0mheader\u001b[0m\u001b[1;33m=\u001b[0m\u001b[1;32mNone\u001b[0m\u001b[1;33m,\u001b[0m \u001b[0mparam\u001b[0m\u001b[1;33m=\u001b[0m\u001b[1;32mNone\u001b[0m\u001b[1;33m,\u001b[0m \u001b[0mdata\u001b[0m\u001b[1;33m=\u001b[0m\u001b[1;32mNone\u001b[0m\u001b[1;33m,\u001b[0m \u001b[0mtimeout\u001b[0m\u001b[1;33m=\u001b[0m\u001b[1;36m1\u001b[0m\u001b[1;33m,\u001b[0m \u001b[0mmaxretries\u001b[0m\u001b[1;33m=\u001b[0m\u001b[1;36m3\u001b[0m\u001b[1;33m)\u001b[0m\u001b[1;33m:\u001b[0m\u001b[1;33m\u001b[0m\u001b[1;33m\u001b[0m\u001b[0m\n\u001b[0;32m      3\u001b[0m     \u001b[1;32mtry\u001b[0m\u001b[1;33m:\u001b[0m\u001b[1;33m\u001b[0m\u001b[1;33m\u001b[0m\u001b[0m\n\u001b[1;32m----> 4\u001b[1;33m         \u001b[0mresp\u001b[0m \u001b[1;33m=\u001b[0m \u001b[0mrequests\u001b[0m\u001b[1;33m.\u001b[0m\u001b[0mrequest\u001b[0m\u001b[1;33m(\u001b[0m\u001b[0mmethod\u001b[0m\u001b[1;33m,\u001b[0m \u001b[0murl\u001b[0m\u001b[1;33m,\u001b[0m \u001b[0mheaders\u001b[0m\u001b[1;33m=\u001b[0m\u001b[0mheader\u001b[0m\u001b[1;33m,\u001b[0m \u001b[0mparams\u001b[0m\u001b[1;33m=\u001b[0m\u001b[0mparam\u001b[0m\u001b[1;33m,\u001b[0m \u001b[0mdata\u001b[0m\u001b[1;33m=\u001b[0m\u001b[0mdata\u001b[0m\u001b[1;33m)\u001b[0m\u001b[1;33m\u001b[0m\u001b[1;33m\u001b[0m\u001b[0m\n\u001b[0m\u001b[0;32m      5\u001b[0m         \u001b[0mresp\u001b[0m\u001b[1;33m.\u001b[0m\u001b[0mraise_for_status\u001b[0m\u001b[1;33m(\u001b[0m\u001b[1;33m)\u001b[0m\u001b[1;33m\u001b[0m\u001b[1;33m\u001b[0m\u001b[0m\n\u001b[0;32m      6\u001b[0m     \u001b[1;32mexcept\u001b[0m \u001b[0mrequests\u001b[0m\u001b[1;33m.\u001b[0m\u001b[0mexceptions\u001b[0m\u001b[1;33m.\u001b[0m\u001b[0mHTTPError\u001b[0m \u001b[1;32mas\u001b[0m \u001b[0me\u001b[0m\u001b[1;33m:\u001b[0m\u001b[1;33m\u001b[0m\u001b[1;33m\u001b[0m\u001b[0m\n",
      "\u001b[1;32m~\\Anaconda3\\lib\\site-packages\\requests\\api.py\u001b[0m in \u001b[0;36mrequest\u001b[1;34m(method, url, **kwargs)\u001b[0m\n\u001b[0;32m     58\u001b[0m     \u001b[1;31m# cases, and look like a memory leak in others.\u001b[0m\u001b[1;33m\u001b[0m\u001b[1;33m\u001b[0m\u001b[1;33m\u001b[0m\u001b[0m\n\u001b[0;32m     59\u001b[0m     \u001b[1;32mwith\u001b[0m \u001b[0msessions\u001b[0m\u001b[1;33m.\u001b[0m\u001b[0mSession\u001b[0m\u001b[1;33m(\u001b[0m\u001b[1;33m)\u001b[0m \u001b[1;32mas\u001b[0m \u001b[0msession\u001b[0m\u001b[1;33m:\u001b[0m\u001b[1;33m\u001b[0m\u001b[1;33m\u001b[0m\u001b[0m\n\u001b[1;32m---> 60\u001b[1;33m         \u001b[1;32mreturn\u001b[0m \u001b[0msession\u001b[0m\u001b[1;33m.\u001b[0m\u001b[0mrequest\u001b[0m\u001b[1;33m(\u001b[0m\u001b[0mmethod\u001b[0m\u001b[1;33m=\u001b[0m\u001b[0mmethod\u001b[0m\u001b[1;33m,\u001b[0m \u001b[0murl\u001b[0m\u001b[1;33m=\u001b[0m\u001b[0murl\u001b[0m\u001b[1;33m,\u001b[0m \u001b[1;33m**\u001b[0m\u001b[0mkwargs\u001b[0m\u001b[1;33m)\u001b[0m\u001b[1;33m\u001b[0m\u001b[1;33m\u001b[0m\u001b[0m\n\u001b[0m\u001b[0;32m     61\u001b[0m \u001b[1;33m\u001b[0m\u001b[0m\n\u001b[0;32m     62\u001b[0m \u001b[1;33m\u001b[0m\u001b[0m\n",
      "\u001b[1;32m~\\Anaconda3\\lib\\site-packages\\requests\\sessions.py\u001b[0m in \u001b[0;36mrequest\u001b[1;34m(self, method, url, params, data, headers, cookies, files, auth, timeout, allow_redirects, proxies, hooks, stream, verify, cert, json)\u001b[0m\n\u001b[0;32m    522\u001b[0m         }\n\u001b[0;32m    523\u001b[0m         \u001b[0msend_kwargs\u001b[0m\u001b[1;33m.\u001b[0m\u001b[0mupdate\u001b[0m\u001b[1;33m(\u001b[0m\u001b[0msettings\u001b[0m\u001b[1;33m)\u001b[0m\u001b[1;33m\u001b[0m\u001b[1;33m\u001b[0m\u001b[0m\n\u001b[1;32m--> 524\u001b[1;33m         \u001b[0mresp\u001b[0m \u001b[1;33m=\u001b[0m \u001b[0mself\u001b[0m\u001b[1;33m.\u001b[0m\u001b[0msend\u001b[0m\u001b[1;33m(\u001b[0m\u001b[0mprep\u001b[0m\u001b[1;33m,\u001b[0m \u001b[1;33m**\u001b[0m\u001b[0msend_kwargs\u001b[0m\u001b[1;33m)\u001b[0m\u001b[1;33m\u001b[0m\u001b[1;33m\u001b[0m\u001b[0m\n\u001b[0m\u001b[0;32m    525\u001b[0m \u001b[1;33m\u001b[0m\u001b[0m\n\u001b[0;32m    526\u001b[0m         \u001b[1;32mreturn\u001b[0m \u001b[0mresp\u001b[0m\u001b[1;33m\u001b[0m\u001b[1;33m\u001b[0m\u001b[0m\n",
      "\u001b[1;32m~\\Anaconda3\\lib\\site-packages\\requests\\sessions.py\u001b[0m in \u001b[0;36msend\u001b[1;34m(self, request, **kwargs)\u001b[0m\n\u001b[0;32m    635\u001b[0m \u001b[1;33m\u001b[0m\u001b[0m\n\u001b[0;32m    636\u001b[0m         \u001b[1;31m# Send the request\u001b[0m\u001b[1;33m\u001b[0m\u001b[1;33m\u001b[0m\u001b[1;33m\u001b[0m\u001b[0m\n\u001b[1;32m--> 637\u001b[1;33m         \u001b[0mr\u001b[0m \u001b[1;33m=\u001b[0m \u001b[0madapter\u001b[0m\u001b[1;33m.\u001b[0m\u001b[0msend\u001b[0m\u001b[1;33m(\u001b[0m\u001b[0mrequest\u001b[0m\u001b[1;33m,\u001b[0m \u001b[1;33m**\u001b[0m\u001b[0mkwargs\u001b[0m\u001b[1;33m)\u001b[0m\u001b[1;33m\u001b[0m\u001b[1;33m\u001b[0m\u001b[0m\n\u001b[0m\u001b[0;32m    638\u001b[0m \u001b[1;33m\u001b[0m\u001b[0m\n\u001b[0;32m    639\u001b[0m         \u001b[1;31m# Total elapsed time of the request (approximately)\u001b[0m\u001b[1;33m\u001b[0m\u001b[1;33m\u001b[0m\u001b[1;33m\u001b[0m\u001b[0m\n",
      "\u001b[1;32m~\\Anaconda3\\lib\\site-packages\\requests\\adapters.py\u001b[0m in \u001b[0;36msend\u001b[1;34m(self, request, stream, timeout, verify, cert, proxies)\u001b[0m\n\u001b[0;32m    514\u001b[0m                 \u001b[1;32mraise\u001b[0m \u001b[0mSSLError\u001b[0m\u001b[1;33m(\u001b[0m\u001b[0me\u001b[0m\u001b[1;33m,\u001b[0m \u001b[0mrequest\u001b[0m\u001b[1;33m=\u001b[0m\u001b[0mrequest\u001b[0m\u001b[1;33m)\u001b[0m\u001b[1;33m\u001b[0m\u001b[1;33m\u001b[0m\u001b[0m\n\u001b[0;32m    515\u001b[0m \u001b[1;33m\u001b[0m\u001b[0m\n\u001b[1;32m--> 516\u001b[1;33m             \u001b[1;32mraise\u001b[0m \u001b[0mConnectionError\u001b[0m\u001b[1;33m(\u001b[0m\u001b[0me\u001b[0m\u001b[1;33m,\u001b[0m \u001b[0mrequest\u001b[0m\u001b[1;33m=\u001b[0m\u001b[0mrequest\u001b[0m\u001b[1;33m)\u001b[0m\u001b[1;33m\u001b[0m\u001b[1;33m\u001b[0m\u001b[0m\n\u001b[0m\u001b[0;32m    517\u001b[0m \u001b[1;33m\u001b[0m\u001b[0m\n\u001b[0;32m    518\u001b[0m         \u001b[1;32mexcept\u001b[0m \u001b[0mClosedPoolError\u001b[0m \u001b[1;32mas\u001b[0m \u001b[0me\u001b[0m\u001b[1;33m:\u001b[0m\u001b[1;33m\u001b[0m\u001b[1;33m\u001b[0m\u001b[0m\n",
      "\u001b[1;31mConnectionError\u001b[0m: HTTPConnectionPool(host='www.ceci.co.kr', port=80): Max retries exceeded with url: /article/article_detail.do?idx=1464&rtag= (Caused by NewConnectionError('<urllib3.connection.HTTPConnection object at 0x0000016DE9F4D128>: Failed to establish a new connection: [WinError 10060] 연결된 구성원으로부터 응답이 없어 연결하지 못했거나, 호스트로부터 응답이 없어 연결이 끊어졌습니다',))"
     ]
    }
   ],
   "source": [
    "queue = list()\n",
    "queue.extend([_.find_parent()['href'] for _ in dom.select('.LC20lb')])\n",
    "\n",
    "# URL - Seen?\n",
    "seen = list()\n",
    "while queue:\n",
    "    baseURL = queue.pop(0) # FIFO\n",
    "    seen.append(baseURL)\n",
    "    # sleep하여 request 시간 간격 준다\n",
    "    time.sleep(0.4)\n",
    "    linkList = parseURL(baseURL)\n",
    "    # queue 안에 중복되는 url? , url- seen?\n",
    "    for link in linkList:\n",
    "        if link not in queue and link not in seen:\n",
    "            queue.append(link)\n",
    "    print(\"Queue : {0}, Seen : {1}\".format(len(queue), len(seen)))"
   ]
  },
  {
   "cell_type": "markdown",
   "metadata": {},
   "source": [
    "### 네이버 "
   ]
  },
  {
   "cell_type": "code",
   "execution_count": 63,
   "metadata": {
    "ExecuteTime": {
     "end_time": "2019-07-15T04:37:52.666688Z",
     "start_time": "2019-07-15T04:37:51.980956Z"
    }
   },
   "outputs": [],
   "source": [
    "url = \"https://search.naver.com/search.naver\"\n",
    "param = {\n",
    "    \"query\" : \"박보영\"\n",
    "}\n",
    "resp = download('get', url, param=param)"
   ]
  },
  {
   "cell_type": "code",
   "execution_count": 64,
   "metadata": {
    "ExecuteTime": {
     "end_time": "2019-07-15T04:37:52.846461Z",
     "start_time": "2019-07-15T04:37:52.670562Z"
    }
   },
   "outputs": [],
   "source": [
    "dom =BeautifulSoup(resp.text, 'lxml')"
   ]
  },
  {
   "cell_type": "code",
   "execution_count": 65,
   "metadata": {
    "ExecuteTime": {
     "end_time": "2019-07-15T04:37:52.887437Z",
     "start_time": "2019-07-15T04:37:52.853458Z"
    }
   },
   "outputs": [
    {
     "data": {
      "text/plain": [
       "['https://blog.naver.com/imagetech1?Redirect=Log&logNo=221530358950',\n",
       " 'https://asovc7777.blog.me/221548676988',\n",
       " 'http://hshlog.com/221559890110',\n",
       " 'https://blog.naver.com/js2y86?Redirect=Log&logNo=221530397718',\n",
       " 'https://blog.naver.com/dlqlwm14?Redirect=Log&logNo=221529807195']"
      ]
     },
     "execution_count": 65,
     "metadata": {},
     "output_type": "execute_result"
    }
   ],
   "source": [
    "[_['href'] for _ in dom.select('.sh_blog_title._sp_each_url._sp_each_title')]"
   ]
  },
  {
   "cell_type": "code",
   "execution_count": 72,
   "metadata": {
    "ExecuteTime": {
     "end_time": "2019-07-15T04:59:29.232801Z",
     "start_time": "2019-07-15T04:58:37.131848Z"
    },
    "collapsed": true
   },
   "outputs": [
    {
     "name": "stdout",
     "output_type": "stream",
     "text": [
      "Queue : 16, Seen : 1\n",
      "Queue : 15, Seen : 2\n",
      "Queue : 14, Seen : 3\n",
      "Queue : 26, Seen : 4\n",
      "Queue : 39, Seen : 5\n",
      "Queue : 38, Seen : 6\n",
      "Queue : 37, Seen : 7\n",
      "Queue : 36, Seen : 8\n",
      "Queue : 35, Seen : 9\n",
      "Queue : 34, Seen : 10\n",
      "Queue : 33, Seen : 11\n",
      "Queue : 32, Seen : 12\n",
      "Queue : 31, Seen : 13\n",
      "Queue : 30, Seen : 14\n",
      "Queue : 54, Seen : 15\n",
      "Queue : 53, Seen : 16\n",
      "404\n",
      "Not Found\n",
      "Queue : 52, Seen : 17\n",
      "Queue : 51, Seen : 18\n",
      "Queue : 50, Seen : 19\n",
      "Queue : 49, Seen : 20\n",
      "Queue : 48, Seen : 21\n",
      "Queue : 47, Seen : 22\n",
      "Queue : 46, Seen : 23\n",
      "Queue : 45, Seen : 24\n",
      "Queue : 44, Seen : 25\n",
      "Queue : 43, Seen : 26\n",
      "Queue : 42, Seen : 27\n",
      "Queue : 41, Seen : 28\n",
      "Queue : 54, Seen : 29\n",
      "Queue : 53, Seen : 30\n",
      "Queue : 52, Seen : 31\n",
      "Queue : 51, Seen : 32\n",
      "Queue : 50, Seen : 33\n",
      "Queue : 49, Seen : 34\n",
      "Queue : 48, Seen : 35\n",
      "Queue : 47, Seen : 36\n",
      "Queue : 46, Seen : 37\n",
      "Queue : 45, Seen : 38\n",
      "Queue : 44, Seen : 39\n",
      "Queue : 43, Seen : 40\n",
      "Queue : 42, Seen : 41\n",
      "Queue : 41, Seen : 42\n",
      "Queue : 42, Seen : 43\n",
      "Queue : 41, Seen : 44\n",
      "Queue : 40, Seen : 45\n",
      "Queue : 39, Seen : 46\n",
      "Queue : 38, Seen : 47\n",
      "Queue : 37, Seen : 48\n",
      "Queue : 36, Seen : 49\n",
      "Queue : 35, Seen : 50\n",
      "Queue : 34, Seen : 51\n",
      "Queue : 33, Seen : 52\n",
      "Queue : 32, Seen : 53\n",
      "Queue : 31, Seen : 54\n",
      "Queue : 30, Seen : 55\n",
      "Queue : 29, Seen : 56\n",
      "Queue : 28, Seen : 57\n",
      "Queue : 27, Seen : 58\n",
      "Queue : 26, Seen : 59\n",
      "Queue : 25, Seen : 60\n",
      "Queue : 24, Seen : 61\n",
      "Queue : 23, Seen : 62\n",
      "Queue : 22, Seen : 63\n",
      "Queue : 21, Seen : 64\n",
      "Queue : 20, Seen : 65\n",
      "Queue : 19, Seen : 66\n",
      "Queue : 18, Seen : 67\n",
      "Queue : 17, Seen : 68\n",
      "404\n",
      "Not Found\n",
      "Queue : 16, Seen : 69\n",
      "Queue : 15, Seen : 70\n",
      "Queue : 14, Seen : 71\n",
      "Queue : 13, Seen : 72\n",
      "Queue : 12, Seen : 73\n",
      "Queue : 11, Seen : 74\n",
      "Queue : 10, Seen : 75\n",
      "Queue : 9, Seen : 76\n",
      "Queue : 8, Seen : 77\n",
      "Queue : 7, Seen : 78\n",
      "Queue : 6, Seen : 79\n",
      "Queue : 5, Seen : 80\n",
      "Queue : 4, Seen : 81\n",
      "Queue : 3, Seen : 82\n",
      "Queue : 2, Seen : 83\n",
      "Queue : 1, Seen : 84\n",
      "Queue : 0, Seen : 85\n"
     ]
    }
   ],
   "source": [
    "queue = list()\n",
    "queue.extend([_['href'] for _ in dom.select('.sh_blog_title._sp_each_url._sp_each_title')])\n",
    "\n",
    "# URL - Seen?\n",
    "seen = list()\n",
    "while queue:\n",
    "    baseURL = queue.pop(0) # FIFO\n",
    "    seen.append(baseURL)\n",
    "    # sleep하여 request 시간 간격 준다\n",
    "    time.sleep(0.4)\n",
    "    linkList = parseURL(baseURL)\n",
    "    # queue 안에 중복되는 url? , url- seen?\n",
    "    for link in linkList:\n",
    "        if link not in queue and link not in seen:\n",
    "            queue.append(link)\n",
    "    print(\"Queue : {0}, Seen : {1}\".format(len(queue), len(seen)))"
   ]
  },
  {
   "cell_type": "code",
   "execution_count": 61,
   "metadata": {
    "ExecuteTime": {
     "end_time": "2019-07-15T04:34:08.150153Z",
     "start_time": "2019-07-15T04:34:08.145154Z"
    }
   },
   "outputs": [],
   "source": [
    "def checkBlog(url):\n",
    "    return requests.compat.urlparse(url)[1] == \"blog.naver.com\""
   ]
  },
  {
   "cell_type": "markdown",
   "metadata": {},
   "source": [
    "### Daum"
   ]
  },
  {
   "cell_type": "code",
   "execution_count": 162,
   "metadata": {
    "ExecuteTime": {
     "end_time": "2019-07-15T05:43:07.957354Z",
     "start_time": "2019-07-15T05:43:07.720364Z"
    }
   },
   "outputs": [],
   "source": [
    "url = \"https://search.daum.net/search\"\n",
    "param = {\n",
    "    'w' : 'tot',\n",
    "    \"q\" : \"박보영\"\n",
    "}\n",
    "header = {\"user-agent\": \"Mozilla/5.0 (Windows NT 10.0; Win64; x64) AppleWebKit/537.36 (KHTML, like Gecko) Chrome/75.0.3770.100 Safari/537.36\"}\n",
    "resp = download('get', url, param=param, header=header)"
   ]
  },
  {
   "cell_type": "code",
   "execution_count": 163,
   "metadata": {
    "ExecuteTime": {
     "end_time": "2019-07-15T05:43:09.828155Z",
     "start_time": "2019-07-15T05:43:09.637263Z"
    }
   },
   "outputs": [],
   "source": [
    "dom = BeautifulSoup(resp.text, 'lxml')"
   ]
  },
  {
   "cell_type": "code",
   "execution_count": 164,
   "metadata": {
    "ExecuteTime": {
     "end_time": "2019-07-15T05:43:09.854153Z",
     "start_time": "2019-07-15T05:43:09.832151Z"
    }
   },
   "outputs": [
    {
     "data": {
      "text/plain": [
       "['http://adam24eve.tistory.com/858',\n",
       " 'http://cscs0717.tistory.com/27',\n",
       " 'http://listup.tistory.com/248',\n",
       " 'http://34344541.tistory.com/43']"
      ]
     },
     "execution_count": 164,
     "metadata": {},
     "output_type": "execute_result"
    }
   ],
   "source": [
    "[_['href'] for _ in dom.select('#blogColl a.f_link_b')]"
   ]
  },
  {
   "cell_type": "code",
   "execution_count": 178,
   "metadata": {
    "ExecuteTime": {
     "end_time": "2019-07-15T05:59:06.991703Z",
     "start_time": "2019-07-15T05:57:51.122040Z"
    },
    "collapsed": true
   },
   "outputs": [
    {
     "name": "stdout",
     "output_type": "stream",
     "text": [
      "Queue : 47, Seen : 1\n",
      "Queue : 75, Seen : 2\n",
      "Queue : 98, Seen : 3\n",
      "Queue : 119, Seen : 4\n",
      "Queue : 118, Seen : 5\n",
      "Queue : 117, Seen : 6\n",
      "Queue : 116, Seen : 7\n",
      "Queue : 115, Seen : 8\n",
      "Queue : 114, Seen : 9\n",
      "Queue : 113, Seen : 10\n",
      "Queue : 112, Seen : 11\n",
      "Queue : 111, Seen : 12\n",
      "Queue : 110, Seen : 13\n",
      "Queue : 109, Seen : 14\n",
      "Queue : 108, Seen : 15\n",
      "Queue : 107, Seen : 16\n",
      "Queue : 106, Seen : 17\n",
      "Queue : 105, Seen : 18\n",
      "Queue : 104, Seen : 19\n",
      "Queue : 103, Seen : 20\n",
      "Queue : 102, Seen : 21\n",
      "Queue : 101, Seen : 22\n",
      "Queue : 100, Seen : 23\n",
      "Queue : 99, Seen : 24\n",
      "Queue : 98, Seen : 25\n",
      "Queue : 97, Seen : 26\n",
      "Queue : 96, Seen : 27\n",
      "Queue : 95, Seen : 28\n",
      "Queue : 94, Seen : 29\n",
      "Queue : 93, Seen : 30\n",
      "Queue : 92, Seen : 31\n",
      "Queue : 91, Seen : 32\n",
      "Queue : 90, Seen : 33\n",
      "Queue : 89, Seen : 34\n",
      "Queue : 88, Seen : 35\n",
      "Queue : 87, Seen : 36\n",
      "Queue : 86, Seen : 37\n",
      "Queue : 85, Seen : 38\n",
      "Queue : 84, Seen : 39\n",
      "Queue : 83, Seen : 40\n",
      "Queue : 82, Seen : 41\n",
      "Queue : 81, Seen : 42\n",
      "Queue : 80, Seen : 43\n",
      "Queue : 79, Seen : 44\n",
      "Queue : 78, Seen : 45\n",
      "Queue : 77, Seen : 46\n",
      "Queue : 76, Seen : 47\n",
      "Queue : 75, Seen : 48\n",
      "Queue : 74, Seen : 49\n",
      "Queue : 73, Seen : 50\n",
      "Queue : 72, Seen : 51\n",
      "Queue : 71, Seen : 52\n",
      "Queue : 70, Seen : 53\n",
      "Queue : 69, Seen : 54\n",
      "Queue : 68, Seen : 55\n",
      "Queue : 67, Seen : 56\n",
      "Queue : 66, Seen : 57\n",
      "Queue : 65, Seen : 58\n",
      "Queue : 64, Seen : 59\n",
      "Queue : 63, Seen : 60\n",
      "Queue : 62, Seen : 61\n",
      "Queue : 61, Seen : 62\n",
      "Queue : 60, Seen : 63\n",
      "Queue : 59, Seen : 64\n",
      "Queue : 58, Seen : 65\n",
      "Queue : 57, Seen : 66\n",
      "Queue : 56, Seen : 67\n",
      "Queue : 55, Seen : 68\n",
      "Queue : 54, Seen : 69\n",
      "Queue : 53, Seen : 70\n",
      "Queue : 52, Seen : 71\n",
      "Queue : 51, Seen : 72\n",
      "Queue : 50, Seen : 73\n",
      "Queue : 49, Seen : 74\n",
      "Queue : 48, Seen : 75\n",
      "Queue : 47, Seen : 76\n",
      "Queue : 46, Seen : 77\n",
      "Queue : 45, Seen : 78\n",
      "Queue : 44, Seen : 79\n",
      "Queue : 43, Seen : 80\n",
      "Queue : 42, Seen : 81\n",
      "Queue : 41, Seen : 82\n",
      "Queue : 40, Seen : 83\n",
      "Queue : 39, Seen : 84\n",
      "Queue : 38, Seen : 85\n",
      "Queue : 37, Seen : 86\n",
      "Queue : 36, Seen : 87\n",
      "Queue : 35, Seen : 88\n",
      "Queue : 34, Seen : 89\n",
      "Queue : 33, Seen : 90\n",
      "Queue : 32, Seen : 91\n",
      "Queue : 31, Seen : 92\n",
      "Queue : 30, Seen : 93\n",
      "Queue : 29, Seen : 94\n",
      "Queue : 28, Seen : 95\n",
      "Queue : 27, Seen : 96\n",
      "Queue : 26, Seen : 97\n",
      "Queue : 25, Seen : 98\n",
      "Queue : 24, Seen : 99\n",
      "Queue : 23, Seen : 100\n",
      "Queue : 22, Seen : 101\n",
      "Queue : 21, Seen : 102\n",
      "Queue : 20, Seen : 103\n",
      "Queue : 19, Seen : 104\n",
      "Queue : 18, Seen : 105\n",
      "Queue : 17, Seen : 106\n",
      "Queue : 16, Seen : 107\n",
      "Queue : 15, Seen : 108\n",
      "Queue : 14, Seen : 109\n",
      "Queue : 13, Seen : 110\n",
      "Queue : 12, Seen : 111\n",
      "Queue : 11, Seen : 112\n",
      "Queue : 10, Seen : 113\n",
      "Queue : 9, Seen : 114\n",
      "Queue : 8, Seen : 115\n",
      "Queue : 7, Seen : 116\n",
      "Queue : 6, Seen : 117\n",
      "Queue : 5, Seen : 118\n",
      "Queue : 4, Seen : 119\n",
      "Queue : 3, Seen : 120\n",
      "Queue : 2, Seen : 121\n",
      "Queue : 1, Seen : 122\n",
      "Queue : 0, Seen : 123\n"
     ]
    }
   ],
   "source": [
    "queue = list()\n",
    "queue.extend([(_['href'], 1) for _ in dom.select('#blogColl a.f_link_b') if checkBlog(_['href'])])\n",
    "\n",
    "# URL - Seen?\n",
    "seen = list()\n",
    "while queue:\n",
    "    baseURL = queue.pop(0) # FIFO\n",
    "    seen.append(baseURL[0])\n",
    "    # sleep하여 request 시간 간격 준다\n",
    "    time.sleep(0.4)\n",
    "    linkList = parseURL(baseURL)\n",
    "    # queue 안에 중복되는 url? , url- seen?\n",
    "    for link in linkList:\n",
    "        if link not in queue and link not in seen:\n",
    "            queue.append(link)\n",
    "    print(\"Queue : {0}, Seen : {1}\".format(len(queue), len(seen)))"
   ]
  },
  {
   "cell_type": "code",
   "execution_count": 91,
   "metadata": {
    "ExecuteTime": {
     "end_time": "2019-07-15T05:10:52.952997Z",
     "start_time": "2019-07-15T05:10:52.947005Z"
    }
   },
   "outputs": [],
   "source": [
    "def checkCafe(url):\n",
    "    return requests.compat.urlparse(url)[1] == \"cafe.daum.net\""
   ]
  },
  {
   "cell_type": "code",
   "execution_count": 177,
   "metadata": {
    "ExecuteTime": {
     "end_time": "2019-07-15T05:57:49.287091Z",
     "start_time": "2019-07-15T05:57:49.282098Z"
    }
   },
   "outputs": [],
   "source": [
    "def checkBlog(url):\n",
    "    return re.findall(r'.*?\\.tistory\\.com', requests.compat.urlparse(url)[1]) != []"
   ]
  },
  {
   "cell_type": "code",
   "execution_count": 186,
   "metadata": {
    "ExecuteTime": {
     "end_time": "2019-07-15T06:31:55.635382Z",
     "start_time": "2019-07-15T06:31:55.620391Z"
    }
   },
   "outputs": [],
   "source": [
    "# 그림과 같이 하나의 프로세스로 만들자\n",
    "def parseURL(seed):\n",
    "    html = download('get', seed[0], header=header)\n",
    "    dom = BeautifulSoup(html.text, 'lxml')\n",
    "    \n",
    "#     if len(dom.select('#mainFrame')) < 1:\n",
    "#         return []\n",
    "    \n",
    "#     seed = requests.compat.urljoin(seed, dom.select(\"#mainFrame\")[0]['src'])\n",
    "    \n",
    "#     html = download('get', seed)\n",
    "#     dom = BeautifulSoup(html.text, 'lxml')\n",
    "\n",
    "    return [(requests.compat.urljoin(seed[0], _['href']), seed[1]+1) for _ in dom.find_all('a') \n",
    "            if seed[1] < 2 and _.has_attr('href') and not _['href'].startswith('#') and checkBlog(requests.compat.urljoin(seed[0], _['href']))]"
   ]
  },
  {
   "cell_type": "markdown",
   "metadata": {},
   "source": [
    "## DB를 붙여보조 \n",
    "- **절대 PK값에 문자열 붙이면 안되요!**\n",
    "- 해시값을 못만들어요\n",
    "\n",
    "> table 1\n",
    "\n",
    "| id                | path              |param          | seen              | date              |\n",
    "| ----------------- | ----------------- |---------------|----------------- | ----------------- |\n",
    "|       -            | - | - | - | - |\n",
    "> table 2\n",
    "\n",
    "| id            | netloc| date|\n",
    "| ----------------- | ----------------- |-----------| \n",
    "|        -         | focused crawl 시 이것만 수정 | - |\n",
    "\n",
    "- `url = netloc + path + param`\n",
    "\n"
   ]
  },
  {
   "cell_type": "code",
   "execution_count": 231,
   "metadata": {
    "ExecuteTime": {
     "end_time": "2019-07-15T08:12:54.610094Z",
     "start_time": "2019-07-15T08:12:54.603099Z"
    }
   },
   "outputs": [],
   "source": [
    "con = sqlite3.connect(\"bot.db\")\n",
    "cur = con.cursor()"
   ]
  },
  {
   "cell_type": "code",
   "execution_count": 236,
   "metadata": {
    "ExecuteTime": {
     "end_time": "2019-07-15T08:15:39.103086Z",
     "start_time": "2019-07-15T08:15:39.061111Z"
    }
   },
   "outputs": [],
   "source": [
    "cur.executescript(''' \n",
    "    DROP TABLE IF EXISTS table1;\n",
    "    CREATE TABLE table1(\n",
    "            id INTEGER PRIMARY KEY AUTOINCREMENT NOT NULL,\n",
    "            table2_id INTEGER NOT NULL, \n",
    "            path TEXT NOT NULL,\n",
    "            param TEXT,\n",
    "            depth INTEGER NOT NULL,\n",
    "            inbound INTEGER NOT NULL,\n",
    "            seen BOOLEAN DEFAULT FALSE NOT NULL,\n",
    "            date TIMESTAMP DEFAULT CURRENT_TIMESTAMP NOT NULL\n",
    "    );\n",
    "\n",
    "    DROP TABLE IF EXISTS table2;\n",
    "    \n",
    "    CREATE TABLE table2(\n",
    "            id INTEGER PRIMARY KEY AUTOINCREMENT NOT NULL,            \n",
    "            netloc TEXT NOT NULL ,\n",
    "            date TIMESTAMP DEFAULT CURRENT_TIMESTAMP NOT NULL\n",
    "    );\n",
    "''')\n",
    "con.commit()"
   ]
  },
  {
   "cell_type": "code",
   "execution_count": 237,
   "metadata": {
    "ExecuteTime": {
     "end_time": "2019-07-15T08:15:40.092514Z",
     "start_time": "2019-07-15T08:15:39.301970Z"
    }
   },
   "outputs": [],
   "source": [
    "url = \"https://www.google.com/search\"\n",
    "param = {\n",
    "    \"q\" : \"박보영\"\n",
    "}\n",
    "header = {\"user-agent\": \"Mozilla/5.0 (Windows NT 10.0; Win64; x64) AppleWebKit/537.36 (KHTML, like Gecko) Chrome/75.0.3770.100 Safari/537.36\"}\n",
    "html = download(\"get\", url, param=param, header=header)\n",
    "dom = BeautifulSoup(html.text, \"lxml\")"
   ]
  },
  {
   "cell_type": "code",
   "execution_count": 238,
   "metadata": {
    "ExecuteTime": {
     "end_time": "2019-07-15T08:15:40.300395Z",
     "start_time": "2019-07-15T08:15:40.096513Z"
    }
   },
   "outputs": [],
   "source": [
    "## seed URLs -> DB INSERT\n",
    "for href in [_.find_parent()['href'] for _ in dom.select('.LC20lb')]:\n",
    "    _urlparse = requests.compat.urlparse(href)\n",
    "    netloc = \"://\".join(_urlparse[:2])\n",
    "    cur.execute(\"SELECT id FROM table2 WHERE netloc=? LIMIT 0,1\", (netloc,)) # LIMIT 으로 한개만 받아온다.\n",
    "    netlocID = cur.fetchone()\n",
    "    if not netlocID:\n",
    "        cur.execute(\"INSERT INTO table2 (netloc) VALUES(?)\", (netloc,))\n",
    "        con.commit()\n",
    "        \n",
    "        cur.execute(\"SELECT id FROM table2 WHERE netloc=? LIMIT 0,1\", (netloc,)) # LIMIT 으로 한개만 받아온다.\n",
    "        netlocID = cur.fetchone()\n",
    "    \n",
    "    cur.execute(\"INSERT INTO table1(table2_id, path, param, depth, inbound) VALUES(?, ?, ?, ?, ?)\", [netlocID[0], _urlparse[2], _urlparse[4], 1, 0])\n",
    "    con.commit()"
   ]
  },
  {
   "cell_type": "code",
   "execution_count": 239,
   "metadata": {
    "ExecuteTime": {
     "end_time": "2019-07-15T08:31:43.228554Z",
     "start_time": "2019-07-15T08:17:10.159131Z"
    }
   },
   "outputs": [
    {
     "name": "stdout",
     "output_type": "stream",
     "text": [
      "404\n",
      "Not Found\n",
      "404\n",
      "Not Found\n"
     ]
    },
    {
     "ename": "KeyboardInterrupt",
     "evalue": "",
     "output_type": "error",
     "traceback": [
      "\u001b[1;31m---------------------------------------------------------------------------\u001b[0m",
      "\u001b[1;31mKeyboardInterrupt\u001b[0m                         Traceback (most recent call last)",
      "\u001b[1;32m<ipython-input-239-aecbc6ad81ff>\u001b[0m in \u001b[0;36m<module>\u001b[1;34m\u001b[0m\n\u001b[0;32m     33\u001b[0m \u001b[1;33m\u001b[0m\u001b[0m\n\u001b[0;32m     34\u001b[0m         \u001b[0mcur\u001b[0m\u001b[1;33m.\u001b[0m\u001b[0mexecute\u001b[0m\u001b[1;33m(\u001b[0m\u001b[1;34m\"INSERT INTO table1(table2_id, path, param, depth, inbound) VALUES(?, ?, ?, ?, ?)\"\u001b[0m\u001b[1;33m,\u001b[0m \u001b[1;33m[\u001b[0m\u001b[0mnetlocID\u001b[0m\u001b[1;33m[\u001b[0m\u001b[1;36m0\u001b[0m\u001b[1;33m]\u001b[0m\u001b[1;33m,\u001b[0m \u001b[0m_urlparse\u001b[0m\u001b[1;33m[\u001b[0m\u001b[1;36m2\u001b[0m\u001b[1;33m]\u001b[0m\u001b[1;33m,\u001b[0m \u001b[0m_urlparse\u001b[0m\u001b[1;33m[\u001b[0m\u001b[1;36m4\u001b[0m\u001b[1;33m]\u001b[0m\u001b[1;33m,\u001b[0m \u001b[0mseed\u001b[0m\u001b[1;33m[\u001b[0m\u001b[1;36m4\u001b[0m\u001b[1;33m]\u001b[0m\u001b[1;33m+\u001b[0m\u001b[1;36m1\u001b[0m\u001b[1;33m,\u001b[0m \u001b[0mseed\u001b[0m\u001b[1;33m[\u001b[0m\u001b[1;36m5\u001b[0m\u001b[1;33m]\u001b[0m\u001b[1;33m]\u001b[0m\u001b[1;33m)\u001b[0m\u001b[1;33m\u001b[0m\u001b[1;33m\u001b[0m\u001b[0m\n\u001b[1;32m---> 35\u001b[1;33m         \u001b[0mcon\u001b[0m\u001b[1;33m.\u001b[0m\u001b[0mcommit\u001b[0m\u001b[1;33m(\u001b[0m\u001b[1;33m)\u001b[0m\u001b[1;33m\u001b[0m\u001b[1;33m\u001b[0m\u001b[0m\n\u001b[0m",
      "\u001b[1;31mKeyboardInterrupt\u001b[0m: "
     ]
    }
   ],
   "source": [
    "# table1에 FALSE 되어있는 값을 탐색하자.\n",
    "i = 0\n",
    "while True:\n",
    "    cur.execute('''SELECT table1.id, table2.netloc, table1.path, table1.param, table1.depth, table2.id\n",
    "                FROM table1\n",
    "                JOIN table2 ON table1.table2_id = table2.id\n",
    "                WHERE table1.seen='FALSE' and table1.depth < 3\n",
    "                ORDER BY table1.date ASC\n",
    "                LIMIT 0, 1;''')\n",
    "    seed = cur.fetchone()\n",
    "    if not seed or i > 1000:\n",
    "        break;\n",
    "    i += 1\n",
    "    cur.execute('''\n",
    "        UPDATE table1\n",
    "        SET seen='TRUE'\n",
    "        WHERE id =?\n",
    "    ''', (seed[0],))\n",
    "    con.commit()\n",
    "\n",
    "    baseURL = '{0}{1}?{2}'.format(seed[1], seed[2], seed[3])\n",
    "    for href in parseURL(baseURL):\n",
    "        _urlparse = requests.compat.urlparse(href)\n",
    "        netloc = '://'.join(_urlparse[:2])\n",
    "        cur.execute(\"SELECT id FROM table2 WHERE netloc=? LIMIT 0, 1\", (netloc,))\n",
    "        netlocID = cur.fetchone()\n",
    "        if not netlocID:\n",
    "            cur.execute('INSERT INTO table2(netloc) VALUES(?)', (netloc,))\n",
    "            con.commit\n",
    "\n",
    "            cur.execute('SELECT id FROM table2 WHERE netloc =(?)', (netloc, ))\n",
    "            netlocID = cur.fetchone()\n",
    "\n",
    "        cur.execute(\"INSERT INTO table1(table2_id, path, param, depth, inbound) VALUES(?, ?, ?, ?, ?)\", [netlocID[0], _urlparse[2], _urlparse[4], seed[4]+1, seed[5]])\n",
    "        con.commit()\n"
   ]
  },
  {
   "cell_type": "code",
   "execution_count": 241,
   "metadata": {
    "ExecuteTime": {
     "end_time": "2019-07-15T08:32:07.475908Z",
     "start_time": "2019-07-15T08:32:07.438932Z"
    }
   },
   "outputs": [
    {
     "data": {
      "text/plain": [
       "[(0, 1), (1, 2), (5, 51)]"
      ]
     },
     "execution_count": 241,
     "metadata": {},
     "output_type": "execute_result"
    }
   ],
   "source": [
    "cur.execute('''SELECT inbound, count(inbound)\n",
    "    FROM table1\n",
    "    WHERE table2_id = 5 group by inbound;'''\n",
    ")\n",
    "cur.fetchall()\n",
    "## (x, y) : x로부터 5로 들어오는 링크가 y개이다."
   ]
  },
  {
   "cell_type": "code",
   "execution_count": 242,
   "metadata": {
    "ExecuteTime": {
     "end_time": "2019-07-15T08:34:31.219232Z",
     "start_time": "2019-07-15T08:34:31.179253Z"
    }
   },
   "outputs": [
    {
     "data": {
      "text/plain": [
       "[(63614,)]"
      ]
     },
     "execution_count": 242,
     "metadata": {},
     "output_type": "execute_result"
    }
   ],
   "source": [
    "cur.execute('''SELECT count(inbound)\n",
    "    FROM table1\n",
    "    WHERE inbound = 1;'''\n",
    ")\n",
    "cur.fetchall()\n",
    "## (x, ) : 1로부터 들어온 링크는 총 x개이다.\n",
    "## 따라서 1에서 5로의 페이지랭크는 2 / 63614 이다."
   ]
  },
  {
   "cell_type": "code",
   "execution_count": 230,
   "metadata": {
    "ExecuteTime": {
     "end_time": "2019-07-15T08:12:48.518593Z",
     "start_time": "2019-07-15T08:12:48.498606Z"
    }
   },
   "outputs": [],
   "source": [
    "cur.close()\n",
    "con.close()"
   ]
  }
 ],
 "metadata": {
  "kernelspec": {
   "display_name": "Python 3",
   "language": "python",
   "name": "python3"
  },
  "language_info": {
   "codemirror_mode": {
    "name": "ipython",
    "version": 3
   },
   "file_extension": ".py",
   "mimetype": "text/x-python",
   "name": "python",
   "nbconvert_exporter": "python",
   "pygments_lexer": "ipython3",
   "version": "3.6.7"
  },
  "toc": {
   "base_numbering": 1,
   "nav_menu": {},
   "number_sections": true,
   "sideBar": true,
   "skip_h1_title": false,
   "title_cell": "Table of Contents",
   "title_sidebar": "Contents",
   "toc_cell": false,
   "toc_position": {},
   "toc_section_display": true,
   "toc_window_display": false
  }
 },
 "nbformat": 4,
 "nbformat_minor": 2
}

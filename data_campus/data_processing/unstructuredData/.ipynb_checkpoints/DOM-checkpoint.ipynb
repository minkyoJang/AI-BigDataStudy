{
 "cells": [
  {
   "cell_type": "markdown",
   "metadata": {},
   "source": [
    "# BeautifulSoup"
   ]
  },
  {
   "cell_type": "code",
   "execution_count": 11,
   "metadata": {
    "ExecuteTime": {
     "end_time": "2019-07-12T01:54:59.109279Z",
     "start_time": "2019-07-12T01:54:55.589291Z"
    }
   },
   "outputs": [
    {
     "name": "stdout",
     "output_type": "stream",
     "text": [
      "Name: beautifulsoup4\n",
      "Version: 4.6.3\n",
      "Summary: Screen-scraping library\n",
      "Home-page: http://www.crummy.com/software/BeautifulSoup/bs4/\n",
      "Author: Leonard Richardson\n",
      "Author-email: leonardr@segfault.org\n",
      "License: MIT\n",
      "Location: c:\\users\\skarn\\anaconda3\\lib\\site-packages\n",
      "Requires: \n",
      "Required-by: conda-build\n"
     ]
    }
   ],
   "source": [
    "!pip show beautifulsoup4"
   ]
  },
  {
   "cell_type": "code",
   "execution_count": 13,
   "metadata": {
    "ExecuteTime": {
     "end_time": "2019-07-12T02:04:13.836324Z",
     "start_time": "2019-07-12T02:04:13.831334Z"
    }
   },
   "outputs": [],
   "source": [
    "from bs4 import BeautifulSoup"
   ]
  },
  {
   "cell_type": "code",
   "execution_count": 12,
   "metadata": {
    "ExecuteTime": {
     "end_time": "2019-07-12T02:03:46.407001Z",
     "start_time": "2019-07-12T02:03:46.402003Z"
    }
   },
   "outputs": [],
   "source": [
    "## well-formed HTML\n",
    "html =\"\"\"\n",
    "<html>\n",
    "    <head></head>\n",
    "        <body>\n",
    "            <div>\n",
    "                <p>\n",
    "                    <a>go to page</a>\n",
    "                </p>\n",
    "            </div>\n",
    "        </body>\n",
    "</html>\n",
    "\"\"\""
   ]
  },
  {
   "cell_type": "code",
   "execution_count": 14,
   "metadata": {
    "ExecuteTime": {
     "end_time": "2019-07-12T02:05:27.731285Z",
     "start_time": "2019-07-12T02:05:27.716277Z"
    }
   },
   "outputs": [],
   "source": [
    "dom = BeautifulSoup(html, 'lxml')"
   ]
  },
  {
   "cell_type": "code",
   "execution_count": 18,
   "metadata": {
    "ExecuteTime": {
     "end_time": "2019-07-12T02:06:01.612485Z",
     "start_time": "2019-07-12T02:06:01.596493Z"
    }
   },
   "outputs": [
    {
     "data": {
      "text/plain": [
       "<html>\n",
       "<head></head>\n",
       "<body>\n",
       "<div>\n",
       "<p>\n",
       "<a>go to page</a>\n",
       "</p>\n",
       "</div>\n",
       "</body>\n",
       "</html>"
      ]
     },
     "execution_count": 18,
     "metadata": {},
     "output_type": "execute_result"
    }
   ],
   "source": [
    "dom"
   ]
  },
  {
   "cell_type": "code",
   "execution_count": 22,
   "metadata": {
    "ExecuteTime": {
     "end_time": "2019-07-12T02:07:13.593228Z",
     "start_time": "2019-07-12T02:07:13.584239Z"
    }
   },
   "outputs": [
    {
     "data": {
      "text/plain": [
       "<a>go to page</a>"
      ]
     },
     "execution_count": 22,
     "metadata": {},
     "output_type": "execute_result"
    }
   ],
   "source": [
    "dom.html.body.div.p.a"
   ]
  },
  {
   "cell_type": "code",
   "execution_count": 23,
   "metadata": {
    "ExecuteTime": {
     "end_time": "2019-07-12T02:07:37.796396Z",
     "start_time": "2019-07-12T02:07:37.789401Z"
    }
   },
   "outputs": [
    {
     "data": {
      "text/plain": [
       "<a>go to page</a>"
      ]
     },
     "execution_count": 23,
     "metadata": {},
     "output_type": "execute_result"
    }
   ],
   "source": [
    "# element 들은 독립적이다. 서로 연결되어 있을 뿐이다.\n",
    "dom.a"
   ]
  },
  {
   "cell_type": "code",
   "execution_count": 24,
   "metadata": {
    "ExecuteTime": {
     "end_time": "2019-07-12T02:09:15.605919Z",
     "start_time": "2019-07-12T02:09:15.600922Z"
    }
   },
   "outputs": [],
   "source": [
    "## well-formed HTML\n",
    "html =\"\"\"\n",
    "<html>\n",
    "    <head></head>\n",
    "        <body>\n",
    "            <div>\n",
    "                <p>\n",
    "                    <a>go to page</a>\n",
    "                    <a>gone to page</a>\n",
    "                </p>\n",
    "            </div>\n",
    "        </body>\n",
    "</html>\n",
    "\"\"\""
   ]
  },
  {
   "cell_type": "code",
   "execution_count": 25,
   "metadata": {
    "ExecuteTime": {
     "end_time": "2019-07-12T02:09:23.692298Z",
     "start_time": "2019-07-12T02:09:23.685301Z"
    }
   },
   "outputs": [],
   "source": [
    "dom = BeautifulSoup(html, 'lxml')"
   ]
  },
  {
   "cell_type": "code",
   "execution_count": 26,
   "metadata": {
    "ExecuteTime": {
     "end_time": "2019-07-12T02:09:27.219283Z",
     "start_time": "2019-07-12T02:09:27.210287Z"
    }
   },
   "outputs": [
    {
     "data": {
      "text/plain": [
       "<a>go to page</a>"
      ]
     },
     "execution_count": 26,
     "metadata": {},
     "output_type": "execute_result"
    }
   ],
   "source": [
    "dom.a # 두 번째 a 가져오지 못한다 -> id, class 필요"
   ]
  },
  {
   "cell_type": "markdown",
   "metadata": {
    "ExecuteTime": {
     "end_time": "2019-07-12T02:10:02.846016Z",
     "start_time": "2019-07-12T02:10:02.836021Z"
    }
   },
   "source": [
    "## ID, Class"
   ]
  },
  {
   "cell_type": "code",
   "execution_count": 32,
   "metadata": {
    "ExecuteTime": {
     "end_time": "2019-07-12T02:14:08.504269Z",
     "start_time": "2019-07-12T02:14:08.498289Z"
    }
   },
   "outputs": [],
   "source": [
    "## well-formed HTML\n",
    "html =\"\"\"\n",
    "<html>\n",
    "    <head></head>\n",
    "        <body>\n",
    "            <div id='result'>\n",
    "                <p class='row'>\n",
    "                    <a class='red'>go to page1</a>\n",
    "                    <a class='blue'>go to page2</a>\n",
    "                </p>\n",
    "            </div>\n",
    "        </body>\n",
    "</html>\n",
    "\"\"\""
   ]
  },
  {
   "cell_type": "code",
   "execution_count": 58,
   "metadata": {
    "ExecuteTime": {
     "end_time": "2019-07-12T02:22:57.320920Z",
     "start_time": "2019-07-12T02:22:57.313925Z"
    }
   },
   "outputs": [],
   "source": [
    "dom = BeautifulSoup(html, 'lxml')"
   ]
  },
  {
   "cell_type": "code",
   "execution_count": 34,
   "metadata": {
    "ExecuteTime": {
     "end_time": "2019-07-12T02:14:38.571087Z",
     "start_time": "2019-07-12T02:14:38.565088Z"
    }
   },
   "outputs": [
    {
     "name": "stdout",
     "output_type": "stream",
     "text": [
      "\n",
      "\n",
      "<a class=\"red\">go to page1</a>\n",
      "\n",
      "\n",
      "<a class=\"blue\">go to page2</a>\n",
      "\n",
      "\n"
     ]
    }
   ],
   "source": [
    "for i in dom.p.children: # list iterator\n",
    "    print(i)"
   ]
  },
  {
   "cell_type": "code",
   "execution_count": 37,
   "metadata": {
    "ExecuteTime": {
     "end_time": "2019-07-12T02:17:21.597822Z",
     "start_time": "2019-07-12T02:17:21.590823Z"
    }
   },
   "outputs": [
    {
     "data": {
      "text/plain": [
       "'result'"
      ]
     },
     "execution_count": 37,
     "metadata": {},
     "output_type": "execute_result"
    }
   ],
   "source": [
    "dom.div['id']"
   ]
  },
  {
   "cell_type": "code",
   "execution_count": 38,
   "metadata": {
    "ExecuteTime": {
     "end_time": "2019-07-12T02:17:31.001444Z",
     "start_time": "2019-07-12T02:17:30.993448Z"
    }
   },
   "outputs": [
    {
     "data": {
      "text/plain": [
       "['row']"
      ]
     },
     "execution_count": 38,
     "metadata": {},
     "output_type": "execute_result"
    }
   ],
   "source": [
    "dom.p['class']"
   ]
  },
  {
   "cell_type": "code",
   "execution_count": 39,
   "metadata": {
    "ExecuteTime": {
     "end_time": "2019-07-12T02:17:44.799559Z",
     "start_time": "2019-07-12T02:17:44.791563Z"
    }
   },
   "outputs": [
    {
     "data": {
      "text/plain": [
       "['red']"
      ]
     },
     "execution_count": 39,
     "metadata": {},
     "output_type": "execute_result"
    }
   ],
   "source": [
    "dom.a['class']"
   ]
  },
  {
   "cell_type": "code",
   "execution_count": 94,
   "metadata": {
    "ExecuteTime": {
     "end_time": "2019-07-12T02:31:41.239285Z",
     "start_time": "2019-07-12T02:31:41.230292Z"
    }
   },
   "outputs": [
    {
     "name": "stdout",
     "output_type": "stream",
     "text": [
      "['red']\n",
      "['blue']\n"
     ]
    }
   ],
   "source": [
    "for i in dom.p.children: # list iterator\n",
    "    if i != '\\n':\n",
    "        print(i['class'])"
   ]
  },
  {
   "cell_type": "code",
   "execution_count": 76,
   "metadata": {
    "ExecuteTime": {
     "end_time": "2019-07-12T02:24:20.878400Z",
     "start_time": "2019-07-12T02:24:20.873405Z"
    }
   },
   "outputs": [],
   "source": [
    "html =\"\"\"\n",
    "<html>\n",
    "    <head></head>\n",
    "        <body>\n",
    "            <div id='result'>\n",
    "                <p class='row'>\n",
    "                    <a href='https://www.naver.com' class='red'>go to page1</a>\n",
    "                    <a href='https://www.google.com' class='blue'>go to page2</a>\n",
    "                </p>\n",
    "            </div>\n",
    "        </body>\n",
    "</html>\n",
    "\"\"\""
   ]
  },
  {
   "cell_type": "code",
   "execution_count": 77,
   "metadata": {
    "ExecuteTime": {
     "end_time": "2019-07-12T02:24:21.007326Z",
     "start_time": "2019-07-12T02:24:21.000332Z"
    }
   },
   "outputs": [],
   "source": [
    "dom = BeautifulSoup(html, 'lxml')"
   ]
  },
  {
   "cell_type": "code",
   "execution_count": 78,
   "metadata": {
    "ExecuteTime": {
     "end_time": "2019-07-12T02:24:21.383111Z",
     "start_time": "2019-07-12T02:24:21.372135Z"
    }
   },
   "outputs": [
    {
     "data": {
      "text/plain": [
       "<p class=\"row\">\n",
       "<a class=\"red\" href=\"https://www.naver.com\">go to page1</a>\n",
       "<a class=\"blue\" href=\"https://www.google.com\">go to page2</a>\n",
       "</p>"
      ]
     },
     "execution_count": 78,
     "metadata": {},
     "output_type": "execute_result"
    }
   ],
   "source": [
    "dom.p"
   ]
  },
  {
   "cell_type": "code",
   "execution_count": 83,
   "metadata": {
    "ExecuteTime": {
     "end_time": "2019-07-12T02:25:56.971042Z",
     "start_time": "2019-07-12T02:25:56.963050Z"
    }
   },
   "outputs": [
    {
     "data": {
      "text/plain": [
       "{'href': 'https://www.naver.com', 'class': ['red']}"
      ]
     },
     "execution_count": 83,
     "metadata": {},
     "output_type": "execute_result"
    }
   ],
   "source": [
    "dom.a.attrs"
   ]
  },
  {
   "cell_type": "markdown",
   "metadata": {},
   "source": [
    "## find, findall "
   ]
  },
  {
   "cell_type": "code",
   "execution_count": 96,
   "metadata": {
    "ExecuteTime": {
     "end_time": "2019-07-12T02:32:28.810410Z",
     "start_time": "2019-07-12T02:32:28.800415Z"
    }
   },
   "outputs": [
    {
     "data": {
      "text/plain": [
       "[<a class=\"red\" href=\"https://www.naver.com\">go to page1</a>,\n",
       " <a class=\"blue\" href=\"https://www.google.com\">go to page2</a>]"
      ]
     },
     "execution_count": 96,
     "metadata": {},
     "output_type": "execute_result"
    }
   ],
   "source": [
    "dom.find_all('a')"
   ]
  },
  {
   "cell_type": "code",
   "execution_count": 99,
   "metadata": {
    "ExecuteTime": {
     "end_time": "2019-07-12T02:33:17.034509Z",
     "start_time": "2019-07-12T02:33:17.025524Z"
    }
   },
   "outputs": [
    {
     "data": {
      "text/plain": [
       "[{'href': 'https://www.naver.com', 'class': ['red']},\n",
       " {'href': 'https://www.google.com', 'class': ['blue']}]"
      ]
     },
     "execution_count": 99,
     "metadata": {},
     "output_type": "execute_result"
    }
   ],
   "source": [
    "[_.attrs for _ in dom.find_all('a')]"
   ]
  },
  {
   "cell_type": "code",
   "execution_count": 97,
   "metadata": {
    "ExecuteTime": {
     "end_time": "2019-07-12T02:32:33.302842Z",
     "start_time": "2019-07-12T02:32:33.293843Z"
    }
   },
   "outputs": [
    {
     "data": {
      "text/plain": [
       "<a class=\"red\" href=\"https://www.naver.com\">go to page1</a>"
      ]
     },
     "execution_count": 97,
     "metadata": {},
     "output_type": "execute_result"
    }
   ],
   "source": [
    "dom.find('a')"
   ]
  },
  {
   "cell_type": "code",
   "execution_count": 100,
   "metadata": {
    "ExecuteTime": {
     "end_time": "2019-07-12T02:34:07.274805Z",
     "start_time": "2019-07-12T02:34:07.266809Z"
    }
   },
   "outputs": [
    {
     "data": {
      "text/plain": [
       "[<a class=\"red\" href=\"https://www.naver.com\">go to page1</a>]"
      ]
     },
     "execution_count": 100,
     "metadata": {},
     "output_type": "execute_result"
    }
   ],
   "source": [
    "dom.find_all('', attrs={'class':'red'})"
   ]
  },
  {
   "cell_type": "code",
   "execution_count": 102,
   "metadata": {
    "ExecuteTime": {
     "end_time": "2019-07-12T02:35:22.996334Z",
     "start_time": "2019-07-12T02:35:22.986338Z"
    }
   },
   "outputs": [
    {
     "data": {
      "text/plain": [
       "[]"
      ]
     },
     "execution_count": 102,
     "metadata": {},
     "output_type": "execute_result"
    }
   ],
   "source": [
    "dom.find_all('a', recursive=False) # 자식만 찾는다."
   ]
  },
  {
   "cell_type": "code",
   "execution_count": 108,
   "metadata": {
    "ExecuteTime": {
     "end_time": "2019-07-12T04:11:35.923488Z",
     "start_time": "2019-07-12T04:11:35.914491Z"
    }
   },
   "outputs": [
    {
     "data": {
      "text/plain": [
       "[<a class=\"red\" href=\"https://www.naver.com\">go to page1</a>,\n",
       " <a class=\"blue\" href=\"https://www.google.com\">go to page2</a>]"
      ]
     },
     "execution_count": 108,
     "metadata": {},
     "output_type": "execute_result"
    }
   ],
   "source": [
    "dom.p.find_all('a', recursive=False) # 1촌 자식만 찾는다."
   ]
  },
  {
   "cell_type": "code",
   "execution_count": 103,
   "metadata": {
    "ExecuteTime": {
     "end_time": "2019-07-12T02:37:37.521716Z",
     "start_time": "2019-07-12T02:37:37.513737Z"
    }
   },
   "outputs": [
    {
     "data": {
      "text/plain": [
       "['go to page1']"
      ]
     },
     "execution_count": 103,
     "metadata": {},
     "output_type": "execute_result"
    }
   ],
   "source": [
    "dom.find_all(text='go to page1')"
   ]
  },
  {
   "cell_type": "code",
   "execution_count": 104,
   "metadata": {
    "ExecuteTime": {
     "end_time": "2019-07-12T02:37:50.466318Z",
     "start_time": "2019-07-12T02:37:50.456323Z"
    }
   },
   "outputs": [
    {
     "data": {
      "text/plain": [
       "[<a class=\"red\" href=\"https://www.naver.com\">go to page1</a>]"
      ]
     },
     "execution_count": 104,
     "metadata": {},
     "output_type": "execute_result"
    }
   ],
   "source": [
    "dom.find_all('a', limit=1)"
   ]
  },
  {
   "cell_type": "code",
   "execution_count": 110,
   "metadata": {
    "ExecuteTime": {
     "end_time": "2019-07-12T04:12:18.437736Z",
     "start_time": "2019-07-12T04:12:18.419744Z"
    }
   },
   "outputs": [
    {
     "data": {
      "text/plain": [
       "<a class=\"blue\" href=\"https://www.google.com\">go to page2</a>"
      ]
     },
     "execution_count": 110,
     "metadata": {},
     "output_type": "execute_result"
    }
   ],
   "source": [
    "dom.a.findNextSibling() # 형제 노드를 찾는다"
   ]
  },
  {
   "cell_type": "code",
   "execution_count": 111,
   "metadata": {
    "ExecuteTime": {
     "end_time": "2019-07-12T04:12:37.863633Z",
     "start_time": "2019-07-12T04:12:37.853639Z"
    }
   },
   "outputs": [
    {
     "data": {
      "text/plain": [
       "[<a class=\"blue\" href=\"https://www.google.com\">go to page2</a>]"
      ]
     },
     "execution_count": 111,
     "metadata": {},
     "output_type": "execute_result"
    }
   ],
   "source": [
    "dom.a.findNextSiblings()"
   ]
  },
  {
   "cell_type": "code",
   "execution_count": 134,
   "metadata": {
    "ExecuteTime": {
     "end_time": "2019-07-12T04:21:20.416683Z",
     "start_time": "2019-07-12T04:21:20.407686Z"
    }
   },
   "outputs": [],
   "source": [
    "html =\"\"\"\n",
    "<html>\n",
    "    <head></head>\n",
    "        <body>\n",
    "            <div id='result'>\n",
    "                <p class='row'>\n",
    "                    <a href='https://www.naver.com' class='red'>go to page1</a>\n",
    "                    <a href='https://www.google.com' class='blue'>go to page2\n",
    "                        <div><a href='asdas'>asda</a></div>\n",
    "                    </a>\n",
    "                </p>\n",
    "            </div>\n",
    "        </body>\n",
    "</html>\n",
    "\"\"\"\n",
    "dom = BeautifulSoup(html, 'lxml') #파서 바꿔보자 `html.parser`"
   ]
  },
  {
   "cell_type": "code",
   "execution_count": 135,
   "metadata": {
    "ExecuteTime": {
     "end_time": "2019-07-12T04:21:20.730501Z",
     "start_time": "2019-07-12T04:21:20.718507Z"
    }
   },
   "outputs": [
    {
     "data": {
      "text/plain": [
       "[<a class=\"red\" href=\"https://www.naver.com\">go to page1</a>,\n",
       " <a class=\"blue\" href=\"https://www.google.com\">go to page2\n",
       "                         <div><a href=\"asdas\">asda</a></div>\n",
       " </a>]"
      ]
     },
     "execution_count": 135,
     "metadata": {},
     "output_type": "execute_result"
    }
   ],
   "source": [
    "dom.p.findAll('a', recursive=False)"
   ]
  },
  {
   "cell_type": "code",
   "execution_count": 136,
   "metadata": {
    "ExecuteTime": {
     "end_time": "2019-07-12T04:21:22.116711Z",
     "start_time": "2019-07-12T04:21:22.109712Z"
    }
   },
   "outputs": [
    {
     "data": {
      "text/plain": [
       "[<a class=\"red\" href=\"https://www.naver.com\">go to page1</a>,\n",
       " <a class=\"blue\" href=\"https://www.google.com\">go to page2\n",
       "                         <div><a href=\"asdas\">asda</a></div>\n",
       " </a>,\n",
       " <a href=\"asdas\">asda</a>]"
      ]
     },
     "execution_count": 136,
     "metadata": {},
     "output_type": "execute_result"
    }
   ],
   "source": [
    "dom.p.findAll('a')"
   ]
  },
  {
   "cell_type": "code",
   "execution_count": 137,
   "metadata": {
    "ExecuteTime": {
     "end_time": "2019-07-12T04:24:40.971793Z",
     "start_time": "2019-07-12T04:24:40.962814Z"
    }
   },
   "outputs": [],
   "source": [
    "html =\"\"\"\n",
    "<html>\n",
    "    <head></head>\n",
    "        <body>\n",
    "            <div id='result'>\n",
    "                <p class='row'>\n",
    "                    <a href='https://www.naver.com' class='red'>go to page1</a>\n",
    "                    <a href='https://www.google.com' class='blue'>go to page2\n",
    "                        <div><a href='asdas'>asda</a></div>\n",
    "                    </a>\n",
    "                </p>\n",
    "            </div>\n",
    "        </body>\n",
    "</html>\n",
    "\"\"\"\n",
    "dom = BeautifulSoup(html, 'html.parser') #파서 바꿔보자 `html.parser`"
   ]
  },
  {
   "cell_type": "code",
   "execution_count": 138,
   "metadata": {
    "ExecuteTime": {
     "end_time": "2019-07-12T04:24:44.480789Z",
     "start_time": "2019-07-12T04:24:44.470794Z"
    }
   },
   "outputs": [
    {
     "data": {
      "text/plain": [
       "<a class=\"red\" href=\"https://www.naver.com\">go to page1</a>"
      ]
     },
     "execution_count": 138,
     "metadata": {},
     "output_type": "execute_result"
    }
   ],
   "source": [
    "dom.div.a"
   ]
  },
  {
   "cell_type": "code",
   "execution_count": 156,
   "metadata": {
    "ExecuteTime": {
     "end_time": "2019-07-12T04:28:19.416646Z",
     "start_time": "2019-07-12T04:28:19.408666Z"
    }
   },
   "outputs": [
    {
     "data": {
      "text/plain": [
       "'div'"
      ]
     },
     "execution_count": 156,
     "metadata": {},
     "output_type": "execute_result"
    }
   ],
   "source": [
    "dom.p.div.a.find_parent().name"
   ]
  },
  {
   "cell_type": "code",
   "execution_count": 150,
   "metadata": {
    "ExecuteTime": {
     "end_time": "2019-07-12T04:27:04.045269Z",
     "start_time": "2019-07-12T04:27:04.033293Z"
    }
   },
   "outputs": [
    {
     "data": {
      "text/plain": [
       "[<div><a href=\"asdas\">asda</a></div>,\n",
       " <a class=\"blue\" href=\"https://www.google.com\">go to page2\n",
       "                         <div><a href=\"asdas\">asda</a></div>\n",
       " </a>,\n",
       " <p class=\"row\">\n",
       " <a class=\"red\" href=\"https://www.naver.com\">go to page1</a>\n",
       " <a class=\"blue\" href=\"https://www.google.com\">go to page2\n",
       "                         <div><a href=\"asdas\">asda</a></div>\n",
       " </a>\n",
       " </p>,\n",
       " <div id=\"result\">\n",
       " <p class=\"row\">\n",
       " <a class=\"red\" href=\"https://www.naver.com\">go to page1</a>\n",
       " <a class=\"blue\" href=\"https://www.google.com\">go to page2\n",
       "                         <div><a href=\"asdas\">asda</a></div>\n",
       " </a>\n",
       " </p>\n",
       " </div>,\n",
       " <body>\n",
       " <div id=\"result\">\n",
       " <p class=\"row\">\n",
       " <a class=\"red\" href=\"https://www.naver.com\">go to page1</a>\n",
       " <a class=\"blue\" href=\"https://www.google.com\">go to page2\n",
       "                         <div><a href=\"asdas\">asda</a></div>\n",
       " </a>\n",
       " </p>\n",
       " </div>\n",
       " </body>,\n",
       " <html>\n",
       " <head></head>\n",
       " <body>\n",
       " <div id=\"result\">\n",
       " <p class=\"row\">\n",
       " <a class=\"red\" href=\"https://www.naver.com\">go to page1</a>\n",
       " <a class=\"blue\" href=\"https://www.google.com\">go to page2\n",
       "                         <div><a href=\"asdas\">asda</a></div>\n",
       " </a>\n",
       " </p>\n",
       " </div>\n",
       " </body>\n",
       " </html>,\n",
       " \n",
       " <html>\n",
       " <head></head>\n",
       " <body>\n",
       " <div id=\"result\">\n",
       " <p class=\"row\">\n",
       " <a class=\"red\" href=\"https://www.naver.com\">go to page1</a>\n",
       " <a class=\"blue\" href=\"https://www.google.com\">go to page2\n",
       "                         <div><a href=\"asdas\">asda</a></div>\n",
       " </a>\n",
       " </p>\n",
       " </div>\n",
       " </body>\n",
       " </html>]"
      ]
     },
     "execution_count": 150,
     "metadata": {},
     "output_type": "execute_result"
    }
   ],
   "source": [
    "dom.p.div.a.find_parents()"
   ]
  },
  {
   "cell_type": "code",
   "execution_count": 174,
   "metadata": {
    "ExecuteTime": {
     "end_time": "2019-07-12T04:32:43.448443Z",
     "start_time": "2019-07-12T04:32:43.443444Z"
    }
   },
   "outputs": [],
   "source": [
    "html =\"\"\"\n",
    "<html>\n",
    "    <head></head>\n",
    "        <body>\n",
    "            <div id='result'>\n",
    "                <p class='row'>\n",
    "                    <a href='https://www.naver.com' class='red'>go to page1</a>\n",
    "                    <a href='https://www.google.com' class='blue'>go to page2</a>\n",
    "                        <div><a href='asdas'>asda</a></div>\n",
    "                    <a href='https://www.google.com' class='yellow'>go to page3</a>\n",
    "                </p>\n",
    "            </div>\n",
    "        </body>\n",
    "</html>\n",
    "\"\"\"\n",
    "dom = BeautifulSoup(html, 'html.parser') #파서 바꿔보자 `html.parser`"
   ]
  },
  {
   "cell_type": "code",
   "execution_count": 175,
   "metadata": {
    "ExecuteTime": {
     "end_time": "2019-07-12T04:32:43.585364Z",
     "start_time": "2019-07-12T04:32:43.575370Z"
    }
   },
   "outputs": [
    {
     "data": {
      "text/plain": [
       "<div><a href=\"asdas\">asda</a></div>"
      ]
     },
     "execution_count": 175,
     "metadata": {},
     "output_type": "execute_result"
    }
   ],
   "source": [
    "tmp = dom.p.div.a.findParent()\n",
    "tmp"
   ]
  },
  {
   "cell_type": "code",
   "execution_count": 176,
   "metadata": {
    "ExecuteTime": {
     "end_time": "2019-07-12T04:32:43.711293Z",
     "start_time": "2019-07-12T04:32:43.702298Z"
    }
   },
   "outputs": [
    {
     "data": {
      "text/plain": [
       "<a class=\"blue\" href=\"https://www.google.com\">go to page2</a>"
      ]
     },
     "execution_count": 176,
     "metadata": {},
     "output_type": "execute_result"
    }
   ],
   "source": [
    "tmp.find_previous_sibling()"
   ]
  },
  {
   "cell_type": "markdown",
   "metadata": {},
   "source": [
    "## 예제 "
   ]
  },
  {
   "cell_type": "code",
   "execution_count": 1,
   "metadata": {
    "ExecuteTime": {
     "end_time": "2019-07-12T05:29:57.381514Z",
     "start_time": "2019-07-12T05:29:56.908791Z"
    }
   },
   "outputs": [],
   "source": [
    "from bs4 import BeautifulSoup"
   ]
  },
  {
   "cell_type": "code",
   "execution_count": 2,
   "metadata": {
    "ExecuteTime": {
     "end_time": "2019-07-12T05:29:58.104104Z",
     "start_time": "2019-07-12T05:29:57.398505Z"
    }
   },
   "outputs": [],
   "source": [
    "from download import download ## 다운로드 함수 import"
   ]
  },
  {
   "cell_type": "code",
   "execution_count": 3,
   "metadata": {
    "ExecuteTime": {
     "end_time": "2019-07-12T05:29:58.722767Z",
     "start_time": "2019-07-12T05:29:58.106100Z"
    }
   },
   "outputs": [],
   "source": [
    "res = download('get', 'http://pythonscraping.com/pages/page3.html')"
   ]
  },
  {
   "cell_type": "code",
   "execution_count": 4,
   "metadata": {
    "ExecuteTime": {
     "end_time": "2019-07-12T05:29:58.738738Z",
     "start_time": "2019-07-12T05:29:58.724747Z"
    }
   },
   "outputs": [],
   "source": [
    "dom = BeautifulSoup(res.text, 'lxml')"
   ]
  },
  {
   "cell_type": "code",
   "execution_count": 5,
   "metadata": {
    "ExecuteTime": {
     "end_time": "2019-07-12T05:29:58.776718Z",
     "start_time": "2019-07-12T05:29:58.744735Z"
    }
   },
   "outputs": [],
   "source": [
    "tmp = dom.find('div', {'id':'footer'})"
   ]
  },
  {
   "cell_type": "code",
   "execution_count": 6,
   "metadata": {
    "ExecuteTime": {
     "end_time": "2019-07-12T05:29:58.819692Z",
     "start_time": "2019-07-12T05:29:58.782713Z"
    }
   },
   "outputs": [
    {
     "data": {
      "text/plain": [
       "['table', 'div', 'h1', 'img']"
      ]
     },
     "execution_count": 6,
     "metadata": {},
     "output_type": "execute_result"
    }
   ],
   "source": [
    "[_.name for _ in tmp.find_previous_siblings()]"
   ]
  },
  {
   "cell_type": "code",
   "execution_count": 7,
   "metadata": {
    "ExecuteTime": {
     "end_time": "2019-07-12T05:29:59.291422Z",
     "start_time": "2019-07-12T05:29:59.279433Z"
    }
   },
   "outputs": [
    {
     "data": {
      "text/plain": [
       "['img', 'h1', 'div', 'table', 'div']"
      ]
     },
     "execution_count": 7,
     "metadata": {},
     "output_type": "execute_result"
    }
   ],
   "source": [
    "[_.name for _ in tmp.find_parent().find_all(recursive=False)]"
   ]
  },
  {
   "cell_type": "markdown",
   "metadata": {},
   "source": [
    "-------------"
   ]
  },
  {
   "cell_type": "code",
   "execution_count": 8,
   "metadata": {
    "ExecuteTime": {
     "end_time": "2019-07-12T05:30:00.578693Z",
     "start_time": "2019-07-12T05:30:00.560714Z"
    }
   },
   "outputs": [],
   "source": [
    "footer = dom.find('div', {'id':'footer'})"
   ]
  },
  {
   "cell_type": "code",
   "execution_count": 9,
   "metadata": {
    "ExecuteTime": {
     "end_time": "2019-07-12T05:30:02.580995Z",
     "start_time": "2019-07-12T05:30:02.571000Z"
    }
   },
   "outputs": [
    {
     "data": {
      "text/plain": [
       "<img src=\"../img/gifts/img2.jpg\"/>"
      ]
     },
     "execution_count": 9,
     "metadata": {},
     "output_type": "execute_result"
    }
   ],
   "source": [
    "footer.find_previous_sibling('table').find('tr', {'id':'gift2'}).find('img')"
   ]
  },
  {
   "cell_type": "code",
   "execution_count": 63,
   "metadata": {
    "ExecuteTime": {
     "end_time": "2019-07-12T05:57:01.730286Z",
     "start_time": "2019-07-12T05:57:01.723290Z"
    }
   },
   "outputs": [],
   "source": [
    "img = footer.find_previous_sibling('table').find_all('img')"
   ]
  },
  {
   "cell_type": "code",
   "execution_count": 64,
   "metadata": {
    "ExecuteTime": {
     "end_time": "2019-07-12T05:57:02.275975Z",
     "start_time": "2019-07-12T05:57:02.265985Z"
    }
   },
   "outputs": [
    {
     "data": {
      "text/plain": [
       "[<img src=\"../img/gifts/img1.jpg\"/>,\n",
       " <img src=\"../img/gifts/img2.jpg\"/>,\n",
       " <img src=\"../img/gifts/img3.jpg\"/>,\n",
       " <img src=\"../img/gifts/img4.jpg\"/>,\n",
       " <img src=\"../img/gifts/img6.jpg\"/>]"
      ]
     },
     "execution_count": 64,
     "metadata": {},
     "output_type": "execute_result"
    }
   ],
   "source": [
    "img"
   ]
  },
  {
   "cell_type": "code",
   "execution_count": 65,
   "metadata": {
    "ExecuteTime": {
     "end_time": "2019-07-12T05:57:02.810669Z",
     "start_time": "2019-07-12T05:57:02.806671Z"
    }
   },
   "outputs": [],
   "source": [
    "img = [_['src'] for _ in img]"
   ]
  },
  {
   "cell_type": "code",
   "execution_count": 17,
   "metadata": {
    "ExecuteTime": {
     "end_time": "2019-07-12T05:32:38.657202Z",
     "start_time": "2019-07-12T05:32:38.653203Z"
    }
   },
   "outputs": [],
   "source": [
    "import requests"
   ]
  },
  {
   "cell_type": "code",
   "execution_count": 18,
   "metadata": {
    "ExecuteTime": {
     "end_time": "2019-07-12T05:32:39.644637Z",
     "start_time": "2019-07-12T05:32:39.635642Z"
    }
   },
   "outputs": [
    {
     "data": {
      "text/plain": [
       "['http://pythonscraping.com/img/gifts/img1.jpg',\n",
       " 'http://pythonscraping.com/img/gifts/img2.jpg',\n",
       " 'http://pythonscraping.com/img/gifts/img3.jpg',\n",
       " 'http://pythonscraping.com/img/gifts/img4.jpg',\n",
       " 'http://pythonscraping.com/img/gifts/img6.jpg']"
      ]
     },
     "execution_count": 18,
     "metadata": {},
     "output_type": "execute_result"
    }
   ],
   "source": [
    "url = 'http://pythonscraping.com/pages/page3.html'\n",
    "[requests.compat.urljoin(url, _) for _ in img]"
   ]
  },
  {
   "cell_type": "code",
   "execution_count": 24,
   "metadata": {
    "ExecuteTime": {
     "end_time": "2019-07-12T05:37:35.539850Z",
     "start_time": "2019-07-12T05:37:28.344946Z"
    }
   },
   "outputs": [],
   "source": [
    "# download 사진\n",
    "jpegs = [download('get',urls) for urls in [requests.compat.urljoin(url, _) for _ in img]]"
   ]
  },
  {
   "cell_type": "code",
   "execution_count": 58,
   "metadata": {
    "ExecuteTime": {
     "end_time": "2019-07-12T05:55:46.527267Z",
     "start_time": "2019-07-12T05:55:46.517270Z"
    }
   },
   "outputs": [
    {
     "data": {
      "text/plain": [
       "'jpeg'"
      ]
     },
     "execution_count": 58,
     "metadata": {},
     "output_type": "execute_result"
    }
   ],
   "source": [
    "# 받아오는 content-type이 중요하다\n",
    "jpegs[0].headers['Content-Type'].split('/')[-1]"
   ]
  },
  {
   "cell_type": "code",
   "execution_count": 72,
   "metadata": {
    "ExecuteTime": {
     "end_time": "2019-07-12T05:59:43.091069Z",
     "start_time": "2019-07-12T05:59:43.079075Z"
    }
   },
   "outputs": [
    {
     "data": {
      "text/plain": [
       "['img1.jpg', 'img2.jpg', 'img3.jpg', 'img4.jpg', 'img6.jpg']"
      ]
     },
     "execution_count": 72,
     "metadata": {},
     "output_type": "execute_result"
    }
   ],
   "source": [
    "filenames = [_.split('/')[-1] for _ in img]\n",
    "filenames"
   ]
  },
  {
   "cell_type": "code",
   "execution_count": 74,
   "metadata": {
    "ExecuteTime": {
     "end_time": "2019-07-12T06:01:23.660933Z",
     "start_time": "2019-07-12T06:01:23.605947Z"
    }
   },
   "outputs": [],
   "source": [
    "for filename, jpg in zip(filenames, jpegs):\n",
    "    with open(filename, 'wb') as img:\n",
    "        img.write(jpg.content)"
   ]
  },
  {
   "cell_type": "code",
   "execution_count": 95,
   "metadata": {
    "ExecuteTime": {
     "end_time": "2019-07-12T06:07:53.954853Z",
     "start_time": "2019-07-12T06:07:53.844883Z"
    }
   },
   "outputs": [],
   "source": [
    "tmp = [image.imread(f) for f in filenames]"
   ]
  },
  {
   "cell_type": "code",
   "execution_count": 94,
   "metadata": {
    "ExecuteTime": {
     "end_time": "2019-07-12T06:07:21.329465Z",
     "start_time": "2019-07-12T06:07:21.324465Z"
    }
   },
   "outputs": [],
   "source": [
    "from matplotlib import image"
   ]
  },
  {
   "cell_type": "code",
   "execution_count": 134,
   "metadata": {
    "ExecuteTime": {
     "end_time": "2019-07-12T06:19:04.467983Z",
     "start_time": "2019-07-12T06:19:03.609475Z"
    }
   },
   "outputs": [
    {
     "data": {
      "image/png": "[encoded data removed]",
      "text/plain": [
       "<Figure size 432x288 with 5 Axes>"
      ]
     },
     "metadata": {
      "needs_background": "light"
     },
     "output_type": "display_data"
    }
   ],
   "source": [
    "for i, _ in enumerate(tmp):\n",
    "    plt.subplot(2, 3, i+1)\n",
    "    plt.imshow(_)"
   ]
  },
  {
   "cell_type": "code",
   "execution_count": 136,
   "metadata": {
    "ExecuteTime": {
     "end_time": "2019-07-12T06:25:10.942043Z",
     "start_time": "2019-07-12T06:25:10.938050Z"
    }
   },
   "outputs": [],
   "source": [
    "import re"
   ]
  },
  {
   "cell_type": "code",
   "execution_count": 138,
   "metadata": {
    "ExecuteTime": {
     "end_time": "2019-07-12T06:25:17.798124Z",
     "start_time": "2019-07-12T06:25:17.788130Z"
    }
   },
   "outputs": [
    {
     "data": {
      "text/plain": [
       "['../img/gifts/img1.jpg',\n",
       " '../img/gifts/img2.jpg',\n",
       " '../img/gifts/img3.jpg',\n",
       " '../img/gifts/img4.jpg',\n",
       " '../img/gifts/img6.jpg']"
      ]
     },
     "execution_count": 138,
     "metadata": {},
     "output_type": "execute_result"
    }
   ],
   "source": [
    "re.findall(r'<td>\\s<img src=\"(.+?)\">', res.text) ## 정규식 방법"
   ]
  },
  {
   "cell_type": "code",
   "execution_count": 140,
   "metadata": {
    "ExecuteTime": {
     "end_time": "2019-07-12T06:27:34.479179Z",
     "start_time": "2019-07-12T06:27:34.461188Z"
    }
   },
   "outputs": [
    {
     "data": {
      "text/plain": [
       "['../img/gifts/img1.jpg',\n",
       " '../img/gifts/img2.jpg',\n",
       " '../img/gifts/img3.jpg',\n",
       " '../img/gifts/img4.jpg',\n",
       " '../img/gifts/img6.jpg']"
      ]
     },
     "execution_count": 140,
     "metadata": {},
     "output_type": "execute_result"
    }
   ],
   "source": [
    "dom = BeautifulSoup(res.text, 'lxml')\n",
    "[_['src'] for _ in dom.table.find_all('img')] ## DOM 방법"
   ]
  },
  {
   "cell_type": "markdown",
   "metadata": {
    "ExecuteTime": {
     "end_time": "2019-07-12T06:27:38.664785Z",
     "start_time": "2019-07-12T06:27:38.656795Z"
    }
   },
   "source": [
    "------------------------\n",
    "박보영 사진 가져오기\n",
    "------------------------\n",
    "### with DOM"
   ]
  },
  {
   "cell_type": "code",
   "execution_count": 143,
   "metadata": {
    "ExecuteTime": {
     "end_time": "2019-07-12T06:29:47.436184Z",
     "start_time": "2019-07-12T06:29:47.430192Z"
    }
   },
   "outputs": [],
   "source": [
    "url = 'https://search.naver.com/search.naver'\n",
    "params = {'where':'image', 'query':'박보영'}"
   ]
  },
  {
   "cell_type": "code",
   "execution_count": 144,
   "metadata": {
    "ExecuteTime": {
     "end_time": "2019-07-12T06:30:14.707854Z",
     "start_time": "2019-07-12T06:30:14.473948Z"
    }
   },
   "outputs": [],
   "source": [
    "res = download('get', url, param=params)"
   ]
  },
  {
   "cell_type": "code",
   "execution_count": 146,
   "metadata": {
    "ExecuteTime": {
     "end_time": "2019-07-12T06:36:11.364525Z",
     "start_time": "2019-07-12T06:36:11.090636Z"
    }
   },
   "outputs": [],
   "source": [
    "dom = BeautifulSoup(res.text, 'lxml')"
   ]
  },
  {
   "cell_type": "code",
   "execution_count": 171,
   "metadata": {
    "ExecuteTime": {
     "end_time": "2019-07-12T06:47:18.643727Z",
     "start_time": "2019-07-12T06:47:18.622739Z"
    }
   },
   "outputs": [
    {
     "data": {
      "text/plain": [
       "'여기 박보영빠돌이있지않음?? | 카페'"
      ]
     },
     "execution_count": 171,
     "metadata": {},
     "output_type": "execute_result"
    }
   ],
   "source": [
    "dom.find('div',{'class':'photo_grid _box'}).find_all('img')[0]['alt']"
   ]
  },
  {
   "cell_type": "code",
   "execution_count": 172,
   "metadata": {
    "ExecuteTime": {
     "end_time": "2019-07-12T06:47:28.244242Z",
     "start_time": "2019-07-12T06:47:28.216256Z"
    }
   },
   "outputs": [
    {
     "data": {
      "text/plain": [
       "'https://search.pstatic.net/common/?src=http%3A%2F%2Fcafefiles.naver.net%2F20140419_115%2Falsdnr4721_1397918757998zpEC6_JPEG%2F-1042080401.jpg&type=b400'"
      ]
     },
     "execution_count": 172,
     "metadata": {},
     "output_type": "execute_result"
    }
   ],
   "source": [
    "dom.find('div',{'class':'photo_grid _box'}).find_all('img')[0]['data-source']"
   ]
  },
  {
   "cell_type": "code",
   "execution_count": 175,
   "metadata": {
    "ExecuteTime": {
     "end_time": "2019-07-12T06:49:01.688214Z",
     "start_time": "2019-07-12T06:49:01.668207Z"
    }
   },
   "outputs": [],
   "source": [
    "result = [(_['alt'], _['data-source']) for _ in dom.find('div',{'class':'photo_grid _box'}).find_all('img')]"
   ]
  },
  {
   "cell_type": "markdown",
   "metadata": {},
   "source": [
    "### with RE"
   ]
  },
  {
   "cell_type": "code",
   "execution_count": 176,
   "metadata": {
    "ExecuteTime": {
     "end_time": "2019-07-12T06:51:27.798693Z",
     "start_time": "2019-07-12T06:51:27.780704Z"
    },
    "collapsed": true
   },
   "outputs": [
    {
     "data": {
      "text/plain": [
       "[('여기 박보영빠돌이있지않음?? | 카페',\n",
       "  'https://search.pstatic.net/common/?src=http%3A%2F%2Fcafefiles.naver.net%2F20140419_115%2Falsdnr4721_1397918757998zpEC6_JPEG%2F-1042080401.jpg&type=b400'),\n",
       " (\"박보영 '요정이 눈 앞에'[엑's HD포토] | 포토뉴스\",\n",
       "  'https://search.pstatic.net/common/?src=http%3A%2F%2Fimgnews.naver.net%2Fimage%2F311%2F2019%2F04%2F30%2F0000985275_001_20190430071110015.jpg&type=b400'),\n",
       " ('박보영 : 힘쎈여자도봉순 도봉순 | 블로그',\n",
       "  'https://search.pstatic.net/common/?src=http%3A%2F%2Fblogfiles.naver.net%2FMjAxODA3MDRfMTQ4%2FMDAxNTMwNjY3NjY3NjEz.zj9Umgo5orK-9sGr3r5yWQBn9HIYKJY3YVzz4Gzk1bsg.cstJdYVKQm2SFg5M9o0TVOKPaMBM5ud-Rag1IaPZ9Lkg.JPEG.js2y86%2Fqkrqhdud14.jpg&type=b400'),\n",
       " ('박보영 사진 모음 #1 (스왑주의) | 블로그',\n",
       "  'https://search.pstatic.net/common/?src=http%3A%2F%2Fblogfiles.naver.net%2FMjAxODEwMTBfMTA1%2FMDAxNTM5MTc2ODM0MDI5.mlRvQ8JGvq5N4tNpgT_wWgPrxlMg6cHXpGDGISJ9iskg.i0sOEaB-ad78ykWXzDiHA33UAqp-g-Mr2ZqPrkD_tZ0g.JPEG.angel000429%2F1539176666436.jpg&type=b400'),\n",
       " (\"'열정같은소리하고있네' 박보영·정재영, 겨울 패션 화보 공개 | 블로그\",\n",
       "  'https://search.pstatic.net/common/?src=http%3A%2F%2Fblogfiles.naver.net%2F20151123_272%2Fqazwsx2002_1448267051132FmL3G_JPEG%2F002.jpg&type=b400'),\n",
       " ('박보영 에스콰이어 화보  | 블로그',\n",
       "  'https://search.pstatic.net/common/?src=http%3A%2F%2Fblogfiles.naver.net%2F20130115_197%2Fmeem1234_1358224908968XtlPr_JPEG%2F616134414dc99047d8b5cd8114e9118d_789NWL7Emre4gBcdWhB5lvIS.jpg&type=b400'),\n",
       " ('최근 박보영 새로운 화보 | 블로그',\n",
       "  'https://search.pstatic.net/common/?src=http%3A%2F%2Fblogfiles.naver.net%2F20110525_18%2Fpjh34091_1306290554589AVmww_JPEG%2F%25B9%25DA%25BA%25B8%25BF%25B5_%25BB%25F5%25B7%25CE%25BF%25EE_%25C8%25AD%25BA%25B8_0.jpg&type=b400'),\n",
       " ('박보영 심경 &quot;원래 징징대는 편인데…&quot; 김상유 대표 글 논란 해명? | 포토뉴스',\n",
       "  'https://search.pstatic.net/common/?src=http%3A%2F%2Fimgnews.naver.net%2Fimage%2F5079%2F2013%2F02%2F12%2F766713_0_m500679_58628_59_20130212133540.jpg&type=b400'),\n",
       " ('이제야 밝혀지는 두 사람의 진실?! 박보영, 김영광 인터뷰! | 동영상',\n",
       "  'https://search.pstatic.net/common/?src=https%3A%2F%2Fphinf.pstatic.net%2Ftvcast%2F20180823_97%2F7AbLf_1534989707099rBIu4_PNG%2Fzf8rcG9madjv.png&type=b400'),\n",
       " (\"[엑's HD화보] '뽀블리' 박보영 '야구장에서도 러블리~' | 포토뉴스\",\n",
       "  'https://search.pstatic.net/common/?src=http%3A%2F%2Fimgnews.naver.net%2Fimage%2F311%2F2018%2F07%2F26%2F0000881291_002_20180726205533782.jpg&type=b400'),\n",
       " ('인터뷰 박보영 패션 옷 #써스데이아일랜드 쉬폰 블라우스_여자 여름 블라우스 | 블로그',\n",
       "  'https://search.pstatic.net/common/?src=http%3A%2F%2Fblogfiles.naver.net%2FMjAxODA4MTRfMTUz%2FMDAxNTM0MjIyMzAxMjU2.1J2e9Fy5EX_VLf367oeDAv28iL6v05bXV3hP2OkwgxMg.I1NMx1RH--8Yb0yx3j4EybMZUKVFHTf6lijc4R5LFJog.JPEG.imsung_cho%2F1533953928_1383617.jpg&type=b400'),\n",
       " ('[4K직캠] 박보영(Park Bo Young), 진짜 봄이 왔네요(190429) | 포스트',\n",
       "  'https://search.pstatic.net/common/?src=http%3A%2F%2Fpost.phinf.naver.net%2FMjAxOTA0MjlfMTA3%2FMDAxNTU2NTA0MzA2MzE4.0UAFhPY7p0odl0sTrtap8gh1ti63KbjaCRERw_8qyzwg.lheAC4SgbJ26pQtbPEoLpKq8f5QIPUtpMnz850vzzWMg.JPEG%2FIMBvaNWUWeK6v2onENvaworTmtAE.jpg&type=b400'),\n",
       " ('[인터뷰①] 박보영 &quot;데뷔 이래 가장 나쁜女..♥ 참 어렵더라&quot; | 포토뉴스',\n",
       "  'https://search.pstatic.net/common/?src=http%3A%2F%2Fimgnews.naver.net%2Fimage%2F076%2F2018%2F08%2F09%2F2018081001000825000059711_20180809115327017.jpg&type=b400'),\n",
       " (\"'어비스' 박보영 &quot;외모 관련 대사, 불편할까 걱정돼 수정 노력&quot; | 포토뉴스\",\n",
       "  'https://search.pstatic.net/common/?src=http%3A%2F%2Fimgnews.naver.net%2Fimage%2F076%2F2019%2F05%2F03%2F2019050401000298400016991_20190503160106821.jpg&type=b400'),\n",
       " (\"[티저]'엄마야!' 거울 보고 깜짝 놀란 박보영 tvN [어비스-영혼소생구슬] | 동영상\",\n",
       "  'https://search.pstatic.net/common/?src=http%3A%2F%2Fhol.phinf.naver.net%2F00%2F662%2F354%2F66235414_1.jpg&type=b400'),\n",
       " (\"'이 정도면 장기근속'… 박보영, 토레타 모델 발탁 | 포토뉴스\",\n",
       "  'https://search.pstatic.net/common/?src=http%3A%2F%2Fimgnews.naver.net%2Fimage%2F5582%2F2019%2F03%2F26%2F0000035400_001_20190326111013364.jpg&type=b400'),\n",
       " ('박보영 폰 배경사진 고화질로 많이많이 | 지식iN',\n",
       "  'https://search.pstatic.net/common/?src=http%3A%2F%2Fkinimage.naver.net%2F20181216_209%2F15449260677587Ll86_JPEG%2F1544926067429.jpg&type=b400'),\n",
       " (\"[화보] 박보영, 인형외모에 우윳빛 각선미 '섹시' - 세계일보 | 웹\",\n",
       "  'https://search.pstatic.net/sunny/?src=http%3A%2F%2Fimg.segye.com%2Fcontent%2Fimage%2F2015%2F10%2F17%2F20151017503314.jpg&type=b400'),\n",
       " (\"[시크포토]박보영, '클로즈업 부르는 미모' | 포토뉴스\",\n",
       "  'https://search.pstatic.net/common/?src=http%3A%2F%2Fimgnews.naver.net%2Fimage%2F5349%2F2018%2F08%2F07%2F1533628848_205383_20180807165840982.jpg&type=b400'),\n",
       " (\"[TEN PHOTO]박보영 '굿 모닝~' | 포토뉴스\",\n",
       "  'https://search.pstatic.net/common/?src=http%3A%2F%2Fimgnews.naver.net%2Fimage%2F312%2F2019%2F04%2F29%2F0000385085_001_20190429111506300.jpg&type=b400'),\n",
       " (\"'런닝맨' 박보영, 깜짝출연...절친 선배 송지효와 민낯대결 | 포토뉴스\",\n",
       "  'https://search.pstatic.net/common/?src=http%3A%2F%2Fimgnews.naver.net%2Fimage%2F5575%2F2019%2F03%2F03%2F0000033175_001_20190303115605887.jpg&type=b400'),\n",
       " ('탐정 홍길동 시사회에서 | 블로그',\n",
       "  'https://search.pstatic.net/common/?src=http%3A%2F%2Fblogfiles.naver.net%2F20160506_156%2Fbismuth083_1462537897447sdsOj_JPEG%2FFB_IMG_1462446137505.jpg&type=b400'),\n",
       " (\"♥♥♥♥♥박보영♥'영화'노브레싱 VIP시사회 초대 인터뷰♥♥♥♥♥ | 블로그\",\n",
       "  'https://search.pstatic.net/common/?src=http%3A%2F%2Fblogfiles.naver.net%2F20131111_212%2Fpapa77ma_1384121301256kovyM_JPEG%2F%25A2%25BD%25B9%25DA%25BA%25B8%25BF%25B5%25A2%25BD.jpg&type=b400'),\n",
       " (\"[TEN PHOTO]박보영 '가만히 있어도 미모가 반짝' | 포토뉴스\",\n",
       "  'https://search.pstatic.net/common/?src=http%3A%2F%2Fimgnews.naver.net%2Fimage%2F312%2F2018%2F08%2F09%2F0000342601_001_20180809170227017.jpg&type=b400'),\n",
       " (\"'오나귀'→'어비스' 박보영, 어게인 '뽀블리' 매직 자신감(종합)[Oh!쎈 현장] | 포토뉴스\",\n",
       "  'https://search.pstatic.net/common/?src=http%3A%2F%2Fimgnews.naver.net%2Fimage%2F109%2F2019%2F05%2F03%2F0004002600_002_20190503164807188.jpg&type=b400'),\n",
       " (\"'피끓는 청춘' 박보영, 일진 연기 &quot;학생들이 따라할까 걱정&quot; | 포토뉴스\",\n",
       "  'https://search.pstatic.net/common/?src=http%3A%2F%2Fimgnews.naver.net%2Fimage%2F5268%2F2014%2F01%2F21%2F927889_0-550827_47544_59_20140121145003.jpg&type=b400'),\n",
       " (\"[TEN PHOTO]박보영 '꽃내음 가득한 매력' | 포토뉴스\",\n",
       "  'https://search.pstatic.net/common/?src=http%3A%2F%2Fimgnews.naver.net%2Fimage%2F312%2F2019%2F04%2F29%2F0000385092_001_20190429112508757.jpg&type=b400'),\n",
       " ('tvN ‘어비스’ 25일 마지막 회.. 박보영 &quot;내가 너 지켜줄게” | 포토뉴스',\n",
       "  'https://search.pstatic.net/common/?src=http%3A%2F%2Fimgnews.naver.net%2Fimage%2F5503%2F2019%2F06%2F25%2F0000030512_001_20190625145841663.JPG&type=b400'),\n",
       " ('[#별별샷] 배우 박보영, 청순한 방부제 미모로 ‘시선강탈’ | 포토뉴스',\n",
       "  'https://search.pstatic.net/common/?src=http%3A%2F%2Fimgnews.naver.net%2Fimage%2F5339%2F2018%2F12%2F07%2F2018120636294797_20181207000910239.jpg&type=b400'),\n",
       " (\"'어비스' 박보영, 안효섭과 애틋한 사랑...해피엔딩 기대감 up | 포토뉴스\",\n",
       "  'https://search.pstatic.net/common/?src=http%3A%2F%2Fimgnews.naver.net%2Fimage%2F5567%2F2019%2F06%2F25%2F0000008181_001_20190625110648024.jpg&type=b400'),\n",
       " (\"박보영 컬투 얼굴 비교 &quot;컬투 머리크기 반밖에 안되는 '소두 종결자'&quot; | 포토뉴스\",\n",
       "  'https://search.pstatic.net/common/?src=http%3A%2F%2Fimgnews.naver.net%2Fimage%2F5043%2F2012%2F10%2F30%2F2012103015504813_59_20121030092011.jpg&type=b400'),\n",
       " (\"'어비스' 박보영♥안효섭, 심쿵 키스‥권수현, 박보영 살인 사주(종합) | 포토뉴스\",\n",
       "  'https://search.pstatic.net/common/?src=http%3A%2F%2Fimgnews.naver.net%2Fimage%2F112%2F2019%2F05%2F28%2F201905282207245443380_20190528224138_01_20190528224209210.jpg&type=b400'),\n",
       " ('[포토] ‘어비스’ ‘뽀블리’ 박보영 ‘아름답다’ | 포토뉴스',\n",
       "  'https://search.pstatic.net/common/?src=http%3A%2F%2Fimgnews.naver.net%2Fimage%2F382%2F2019%2F05%2F03%2F0000729116_001_20190503153611843.jpg&type=b400'),\n",
       " ('tvN ‘어비스’ 로맨틱가이 안효섭,  박보영에게 ‘테디베어’ 목걸이 깜짝 선물! | 포토뉴스',\n",
       "  'https://search.pstatic.net/common/?src=http%3A%2F%2Fimgnews.naver.net%2Fimage%2F5696%2F2019%2F06%2F12%2F0000014463_001_20190612155651670.jpg&type=b400'),\n",
       " (\"'어비스' 박보영♥안효섭, 본격 동거시작 '초밀착 껌딱지' | 포토뉴스\",\n",
       "  'https://search.pstatic.net/common/?src=http%3A%2F%2Fimgnews.naver.net%2Fimage%2F117%2F2019%2F06%2F04%2F201906041529224634_1_20190604153311103.jpg&type=b400'),\n",
       " (\"박보영 &quot;이소라 박효신 듀엣곡 받쓰, '소울트리'인데 속상하다&quot; | 포토뉴스\",\n",
       "  'https://search.pstatic.net/common/?src=http%3A%2F%2Fimgnews.naver.net%2Fimage%2F5575%2F2019%2F05%2F04%2F0000042593_001_20190504202221714.jpg&type=b400'),\n",
       " ('‘어비스’ 박보영-안효섭-이시언, 권수현 처단 막판 스퍼트[오늘TV] | 포토뉴스',\n",
       "  'https://search.pstatic.net/common/?src=http%3A%2F%2Fimgnews.naver.net%2Fimage%2F609%2F2019%2F06%2F24%2F201906241301272410_2_20190624130727191.jpg&type=b400'),\n",
       " ('박보영 &#39;운동 셀카&#39; 공개, &#34;너무 예쁘다!&#34; 네티즌 극찬 | 포토뉴스',\n",
       "  'https://search.pstatic.net/common/?src=http%3A%2F%2Fimgnews.naver.net%2Fimage%2F5092%2F2011%2F06%2F20%2F1308560965_600.jpg&type=b400'),\n",
       " (\"박보영 '어비스', 프로페셔널 검사 스타일링 눈길 | 포토뉴스\",\n",
       "  'https://search.pstatic.net/common/?src=http%3A%2F%2Fimgnews.naver.net%2Fimage%2F5567%2F2019%2F05%2F29%2F0000007370_001_20190529103635685.jpg&type=b400'),\n",
       " ('‘어비스’ 안효섭, 박보영 위한 특급 배려…다정보스 등극 | 포토뉴스',\n",
       "  'https://search.pstatic.net/common/?src=http%3A%2F%2Fimgnews.naver.net%2Fimage%2F015%2F2019%2F06%2F11%2F0004156850_001_20190611134604695.jpg&type=b400'),\n",
       " (\"[사진]박보영,'백옥같은 피부' | 포토뉴스\",\n",
       "  'https://search.pstatic.net/common/?src=http%3A%2F%2Fimgnews.naver.net%2Fimage%2F109%2F2008%2F10%2F27%2F200810271211252300_1.jpg&type=b400'),\n",
       " (\"'어비스' 제작진 &quot;박보영-안효섭 '애틋 로맨스' 무르익는다&quot; | 포토뉴스\",\n",
       "  'https://search.pstatic.net/common/?src=http%3A%2F%2Fimgnews.naver.net%2Fimage%2F468%2F2019%2F06%2F09%2F0000517985_001_20190609094022835.jpg&type=b400'),\n",
       " (\"'어비스' 박보영X안효섭, 현실에서도 껌딱지 모드…초밀착 케미폭발 비하인드 공개 | 포토뉴스\",\n",
       "  'https://search.pstatic.net/common/?src=http%3A%2F%2Fimgnews.naver.net%2Fimage%2F468%2F2019%2F05%2F19%2F0000509577_001_20190519134517159.jpg&type=b400'),\n",
       " ('[스타패션] 박보영, 가을 여인으로 변신해 반전 매력 발산 | 포토뉴스',\n",
       "  'https://search.pstatic.net/common/?src=http%3A%2F%2Fimgnews.naver.net%2Fimage%2F144%2F2015%2F09%2F16%2Fl_2015091602001330300222841_99_20150916141402.jpg&type=b400'),\n",
       " ('박보영, 셀카로 근황 공개 &quot;역시 국민여동생&quot; | 포토뉴스',\n",
       "  'https://search.pstatic.net/common/?src=http%3A%2F%2Fimgnews.naver.net%2Fimage%2F5138%2F2011%2F04%2F04%2F201104040931099660385-2-25339.jpg&type=b400'),\n",
       " (\"[MD포토] 박보영 '한화 유니폼 입고 야구장 왔어요' | 포토뉴스\",\n",
       "  'https://search.pstatic.net/common/?src=http%3A%2F%2Fimgnews.naver.net%2Fimage%2F117%2F2016%2F08%2F30%2F201608301954891116_1_99_20160830195503.jpg&type=b400'),\n",
       " ('레스포색, 새 뮤즈 박보영 발탁 | 포토뉴스',\n",
       "  'https://search.pstatic.net/common/?src=http%3A%2F%2Fimgnews.naver.net%2Fimage%2F5090%2F2013%2F02%2F17%2F20130217000088_0_59_20130217140812.jpg&type=b400'),\n",
       " ('박보영 &quot;스타덤? 친구들도 어색하다고 놀려요&quot;(인터뷰) | 포토뉴스',\n",
       "  'https://search.pstatic.net/common/?src=http%3A%2F%2Fimgnews.naver.net%2Fimage%2F108%2F2008%2F12%2F16%2F2008121610173266362_1.jpg&type=b400'),\n",
       " ('박보영 에스콰이어 화보  | 블로그',\n",
       "  'https://search.pstatic.net/common/?src=http%3A%2F%2Fblogfiles.naver.net%2F20130115_176%2Fmeem1234_13582249143180FEUm_PNG%2F616134414dc99047d8b5cd8114e9118d_tlLpEK3D7gyeZn5fv.png&type=b400'),\n",
       " ('박보영 : 힘쎈여자도봉순 도봉순 | 블로그',\n",
       "  'https://search.pstatic.net/common/?src=http%3A%2F%2Fblogfiles.naver.net%2FMjAxODA3MDRfMTkx%2FMDAxNTMwNjY2OTg4MjQ3.jGIjWJ2Q48xxoz37vJRZDsL3hPkRyYeU8yMeB_rS1KQg.YldJcuFtuDxDeyHf4q8WAKjE-jOqa4IsVgylD1nh4PYg.JPEG.js2y86%2F%25BB%25CD%25BC%25F6%25B4%25CF10.jpg&type=b400')]"
      ]
     },
     "execution_count": 176,
     "metadata": {},
     "output_type": "execute_result"
    }
   ],
   "source": [
    "re.findall('<img src=\".+?\" class=\"_img\" alt=\"(.+?)\" onerror=\".+?\" data-source=\"(.+?)\" data-width=\"\\d+?\" data-height=\"\\d+\">', res.text)"
   ]
  },
  {
   "cell_type": "code",
   "execution_count": 218,
   "metadata": {
    "ExecuteTime": {
     "end_time": "2019-07-12T07:07:37.413821Z",
     "start_time": "2019-07-12T07:07:37.290891Z"
    }
   },
   "outputs": [
    {
     "name": "stdout",
     "output_type": "stream",
     "text": [
      "[MD포토] 박보영 '한화 유니폼 입고 야구장 왔어요' | 포토뉴스\n"
     ]
    },
    {
     "data": {
      "image/jpeg": "[encoded data removed]",
      "text/plain": [
       "<IPython.core.display.Image object>"
      ]
     },
     "execution_count": 218,
     "metadata": {},
     "output_type": "execute_result"
    }
   ],
   "source": [
    "print(result[45][0])\n",
    "Image(download('get', result[45][1]).content)"
   ]
  },
  {
   "cell_type": "markdown",
   "metadata": {},
   "source": [
    "# Selector"
   ]
  },
  {
   "cell_type": "code",
   "execution_count": null,
   "metadata": {},
   "outputs": [],
   "source": []
  }
 ],
 "metadata": {
  "kernelspec": {
   "display_name": "Python 3",
   "language": "python",
   "name": "python3"
  },
  "language_info": {
   "codemirror_mode": {
    "name": "ipython",
    "version": 3
   },
   "file_extension": ".py",
   "mimetype": "text/x-python",
   "name": "python",
   "nbconvert_exporter": "python",
   "pygments_lexer": "ipython3",
   "version": "3.6.7"
  },
  "toc": {
   "base_numbering": 1,
   "nav_menu": {},
   "number_sections": true,
   "sideBar": true,
   "skip_h1_title": false,
   "title_cell": "Table of Contents",
   "title_sidebar": "Contents",
   "toc_cell": false,
   "toc_position": {},
   "toc_section_display": true,
   "toc_window_display": false
  }
 },
 "nbformat": 4,
 "nbformat_minor": 2
}

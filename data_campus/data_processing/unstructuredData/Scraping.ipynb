{
 "cells": [
  {
   "cell_type": "markdown",
   "metadata": {},
   "source": [
    "## Scraping vs Crawling"
   ]
  },
  {
   "cell_type": "markdown",
   "metadata": {},
   "source": [
    "| Data Scraping | Data Crawling |\n",
    "---------------------- | --------------------\n",
    "scale을 결정할 수 있다. | 대부분 large scale\n",
    "필요에 따라 다르다 | 웹페이지를 통으로 저장해야 한다.(Deduplication)\n",
    " crwal agent와 parser가 필요함 | crawl agent가 필요함"
   ]
  },
  {
   "cell_type": "markdown",
   "metadata": {},
   "source": [
    "Scraper는 특정 목적에 맞는 정보만 가져옴. 크롤링과는 차이가 있다."
   ]
  },
  {
   "cell_type": "markdown",
   "metadata": {},
   "source": [
    "## exercises"
   ]
  },
  {
   "cell_type": "code",
   "execution_count": 1,
   "metadata": {
    "ExecuteTime": {
     "end_time": "2019-07-17T01:15:23.008048Z",
     "start_time": "2019-07-17T01:15:21.995613Z"
    }
   },
   "outputs": [],
   "source": [
    "from download import download\n",
    "from bs4 import BeautifulSoup\n",
    "import requests\n",
    "import time\n",
    "import re\n",
    "import sqlite3"
   ]
  },
  {
   "cell_type": "code",
   "execution_count": 48,
   "metadata": {
    "ExecuteTime": {
     "end_time": "2019-07-16T05:48:57.658970Z",
     "start_time": "2019-07-16T05:48:57.115288Z"
    }
   },
   "outputs": [],
   "source": [
    "url = \"http://www.ppomppu.co.kr/zboard/zboard.php\"\n",
    "param = {'id':'ppomppu'}\n",
    "header = {'user-agent' : 'Mozilla/5.0 (Windows NT 10.0; Win64; x64) AppleWebKit/537.36 (KHTML, like Gecko) Chrome/75.0.3770.100 Safari/537.36'}\n",
    "html = download('get', url, param=paramm header=)\n",
    "\n",
    "# link extractor\n",
    "dom = BeautifulSoup(html.text, 'html.parser')"
   ]
  },
  {
   "cell_type": "code",
   "execution_count": 8,
   "metadata": {
    "ExecuteTime": {
     "end_time": "2019-07-16T05:38:39.961527Z",
     "start_time": "2019-07-16T05:38:39.948534Z"
    }
   },
   "outputs": [
    {
     "data": {
      "text/plain": [
       "['http://www.ppomppu.co.kr/zboard/zboard.php?id=ppomppu',\n",
       " 'http://www.ppomppu.co.kr/zboard/zboard.php?id=event',\n",
       " 'http://www.ppomppu.co.kr/zboard/zboard.php?id=buy',\n",
       " 'http://www.ppomppu.co.kr/zboard/zboard.php?id=help',\n",
       " 'http://www.ppomppu.co.kr/zboard/zboard.php?id=freeboard',\n",
       " 'http://www.ppomppu.co.kr/zboard/zboard.php?id=etc_info',\n",
       " 'http://www.ppomppu.co.kr/zboard/zboard.php?id=free_picture',\n",
       " 'http://www.ppomppu.co.kr/zboard/zboard.php?id=news2',\n",
       " 'http://www.ppomppu.co.kr/zboard/zboard.php?id=review',\n",
       " 'http://www.ppomppu.co.kr/recent_main_article.php?type=market',\n",
       " 'http://www.ppomppu.co.kr/myinfo/env.php?cmd=env',\n",
       " 'http://www.ppomppu.co.kr/myinfo/member_bookmark.php',\n",
       " 'http://www.ppomppu.co.kr/index.php',\n",
       " '/zboard/zboard.php?id=ppomppu',\n",
       " 'http://www.ppomppu.co.kr/zboard/zboard.php?id=ppomppu',\n",
       " 'http://www.ppomppu.co.kr/zboard/zboard.php?id=ppomppu',\n",
       " 'http://www.ppomppu.co.kr/zboard/zboard.php?id=ppomppu2',\n",
       " 'http://www.ppomppu.co.kr/zboard/zboard.php?id=ppomppu4',\n",
       " 'http://www.ppomppu.co.kr/zboard/zboard.php?id=ppomppu3',\n",
       " 'http://www.ppomppu.co.kr/zboard/zboard.php?id=ppomppu5',\n",
       " 'http://www.ppomppu.co.kr/zboard/zboard.php?id=ppomppu7',\n",
       " 'http://www.ppomppu.co.kr/zboard/zboard.php?id=ppomppu6',\n",
       " 'http://www.ppomppu.co.kr/zboard/zboard.php?id=pmarket',\n",
       " 'http://www.ppomppu.co.kr/zboard/zboard.php?id=pmarket2',\n",
       " 'http://www.ppomppu.co.kr/zboard/zboard.php?id=pmarket3',\n",
       " 'http://www.ppomppu.co.kr/zboard/zboard.php?id=card_market',\n",
       " 'http://www.ppomppu.co.kr/zboard/zboard.php?id=pmarket7',\n",
       " 'http://www.ppomppu.co.kr/books/index.php',\n",
       " 'http://www.ppomppu.co.kr/hot.php',\n",
       " 'http://www.ppomppu.co.kr/hot_comment.php',\n",
       " 'http://www.ppomppu.co.kr/recent_main_article.php?type=event',\n",
       " 'http://www.ppomppu.co.kr/zboard/zboard.php?id=event',\n",
       " 'http://www.ppomppu.co.kr/zboard/zboard.php?id=coupon',\n",
       " 'http://www.ppomppu.co.kr/zboard/zboard.php?id=mobile',\n",
       " 'http://www.ppomppu.co.kr/zboard/zboard.php?id=experience',\n",
       " 'http://www.ppomppu.co.kr/zboard/zboard.php?id=wcoupon',\n",
       " 'http://www.ppomppu.co.kr/zboard/zboard.php?id=wow',\n",
       " 'http://www.ppomppu.co.kr/zboard/zboard.php?id=event_ppomppu',\n",
       " 'http://www.ppomppu.co.kr/recent_main_article.php?type=info',\n",
       " 'http://www.ppomppu.co.kr/zboard/zboard.php?id=etc_info',\n",
       " 'http://www.ppomppu.co.kr/zboard/zboard.php?id=ppomapp',\n",
       " 'http://www.ppomppu.co.kr/zboard/zboard.php?id=review',\n",
       " 'http://www.ppomppu.co.kr/zboard/zboard.php?id=agentnews',\n",
       " 'http://www.ppomppu.co.kr/zboard/zboard.php?id=receive',\n",
       " 'http://www.ppomppu.co.kr/zboard/zboard.php?id=buy',\n",
       " '/fortune/index.html',\n",
       " 'http://www.ppomppu.co.kr/zboard/zboard.php?id=flash_game',\n",
       " 'http://www.ppomppu.co.kr/zboard/zboard.php?id=freeboard',\n",
       " 'http://www.ppomppu.co.kr/zboard/zboard.php?id=freeboard',\n",
       " 'http://www.ppomppu.co.kr/zboard/zboard.php?id=issue',\n",
       " 'http://www.ppomppu.co.kr/zboard/zboard.php?id=humor',\n",
       " 'http://www.ppomppu.co.kr/zboard/zboard.php?id=help',\n",
       " 'http://www.ppomppu.co.kr/zboard/zboard.php?id=grade',\n",
       " 'http://www.ppomppu.co.kr/chat',\n",
       " 'http://www.ppomppu.co.kr/zboard/zboard.php?id=campaign',\n",
       " 'http://www.ppomppu.co.kr/zboard/zboard.php?id=free_picture',\n",
       " 'http://www.ppomppu.co.kr/zboard/zboard.php?id=free_picture',\n",
       " 'http://www.ppomppu.co.kr/zboard/zboard.php?id=mobile_gallery',\n",
       " 'http://www.ppomppu.co.kr/zboard/zboard.php?id=star',\n",
       " 'http://www.ppomppu.co.kr/zboard/zboard.php?id=sketch_gallery',\n",
       " 'http://www.ppomppu.co.kr/zboard/zboard.php?id=bg_gallery',\n",
       " 'http://www.ppomppu.co.kr/zboard/zboard.php?id=jjalbang',\n",
       " 'http://www.ppomppu.co.kr/zboard/zboard.php?id=review_gallery',\n",
       " 'http://www.ppomppu.co.kr/recent_main_article.php?type=market',\n",
       " 'http://www.ppomppu.co.kr/zboard/zboard.php?id=market',\n",
       " 'http://www.ppomppu.co.kr/zboard/zboard.php?id=market_phone',\n",
       " 'http://www.ppomppu.co.kr/zboard/zboard.php?id=market_data',\n",
       " 'http://www.ppomppu.co.kr/zboard/zboard.php?id=cmarket',\n",
       " 'http://www.ppomppu.co.kr/zboard/zboard.php?id=onmarket',\n",
       " 'http://www.ppomppu.co.kr/zboard/zboard.php?id=market_social',\n",
       " 'http://www.ppomppu.co.kr/zboard/zboard.php?id=market_oversea',\n",
       " 'http://www.ppomppu.co.kr/zboard/zboard.php?id=market_item',\n",
       " 'http://www.ppomppu.co.kr/zboard/zboard.php?id=market_talent',\n",
       " 'http://www.ppomppu.co.kr/zboard/zboard.php?id=market_bike',\n",
       " 'http://www.ppomppu.co.kr/zboard/zboard.php?id=market_ecig',\n",
       " 'http://www.ppomppu.co.kr/zboard/zboard.php?id=market_car',\n",
       " 'http://www.ppomppu.co.kr/zboard/zboard.php?id=market_camping',\n",
       " 'http://www.ppomppu.co.kr/zboard/zboard.php?id=gonggu',\n",
       " 'http://www.ppomppu.co.kr/zboard/zboard.php?id=gonggu_request',\n",
       " 'http://www.ppomppu.co.kr/zboard/zboard.php?id=market_agent',\n",
       " 'http://www.ppomppu.co.kr/zboard/zboard.php?id=guin',\n",
       " 'http://www.ppomppu.co.kr/zboard/zboard.php?id=market_story',\n",
       " 'http://www.ppomppu.co.kr/zboard/zboard.php?id=relay',\n",
       " 'http://www.ppomppu.co.kr/zboard/zboard.php?id=love',\n",
       " 'http://www.ppomppu.co.kr/recent_forum_article.php',\n",
       " 'http://www.ppomppu.co.kr/zboard/zboard.php?id=phone',\n",
       " 'http://www.ppomppu.co.kr/zboard/zboard.php?id=phone3',\n",
       " 'http://www.ppomppu.co.kr/zboard/zboard.php?id=phone2',\n",
       " 'http://www.ppomppu.co.kr/zboard/zboard.php?id=iphone',\n",
       " 'http://www.ppomppu.co.kr/zboard/zboard.php?id=tablet',\n",
       " 'http://www.ppomppu.co.kr/zboard/zboard.php?id=android',\n",
       " 'http://www.ppomppu.co.kr/zboard/zboard.php?id=androidtab',\n",
       " 'http://www.ppomppu.co.kr/zboard/zboard.php?id=wintab',\n",
       " 'http://www.ppomppu.co.kr/zboard/zboard.php?id=smartphone',\n",
       " 'http://www.ppomppu.co.kr/zboard/zboard.php?id=av',\n",
       " 'http://www.ppomppu.co.kr/zboard/zboard.php?id=mini',\n",
       " 'http://www.ppomppu.co.kr/zboard/zboard.php?id=computer',\n",
       " 'http://www.ppomppu.co.kr/zboard/zboard.php?id=nas',\n",
       " 'http://www.ppomppu.co.kr/zboard/zboard.php?id=macintosh',\n",
       " 'http://www.ppomppu.co.kr/zboard/zboard.php?id=golf',\n",
       " 'http://www.ppomppu.co.kr/zboard/zboard.php?id=fishing',\n",
       " 'http://www.ppomppu.co.kr/zboard/zboard.php?id=basketball',\n",
       " 'http://www.ppomppu.co.kr/zboard/zboard.php?id=climb',\n",
       " 'http://www.ppomppu.co.kr/zboard/zboard.php?id=motorbike',\n",
       " 'http://www.ppomppu.co.kr/zboard/zboard.php?id=lifesports',\n",
       " 'http://www.ppomppu.co.kr/zboard/zboard.php?id=swim',\n",
       " 'http://www.ppomppu.co.kr/zboard/zboard.php?id=ski',\n",
       " 'http://www.ppomppu.co.kr/zboard/zboard.php?id=scuba',\n",
       " 'http://www.ppomppu.co.kr/zboard/zboard.php?id=sports',\n",
       " 'http://www.ppomppu.co.kr/zboard/zboard.php?id=baseball',\n",
       " 'http://www.ppomppu.co.kr/zboard/zboard.php?id=ppom_baseball_team',\n",
       " 'http://www.ppomppu.co.kr/zboard/zboard.php?id=car',\n",
       " 'http://www.ppomppu.co.kr/zboard/zboard.php?id=bike',\n",
       " 'http://www.ppomppu.co.kr/zboard/zboard.php?id=soccer',\n",
       " 'http://www.ppomppu.co.kr/zboard/zboard.php?id=camping',\n",
       " 'http://www.ppomppu.co.kr/zboard/zboard.php?id=tennis',\n",
       " 'http://www.ppomppu.co.kr/zboard/zboard.php?id=health',\n",
       " 'http://www.ppomppu.co.kr/zboard/zboard.php?id=money',\n",
       " 'http://www.ppomppu.co.kr/zboard/zboard.php?id=social',\n",
       " 'http://www.ppomppu.co.kr/zboard/zboard.php?id=insurance',\n",
       " 'http://www.ppomppu.co.kr/zboard/zboard.php?id=stock',\n",
       " 'http://www.ppomppu.co.kr/zboard/zboard.php?id=soho',\n",
       " 'http://www.ppomppu.co.kr/zboard/zboard.php?id=bitcoin',\n",
       " 'http://www.ppomppu.co.kr/zboard/zboard.php?id=info_ico',\n",
       " 'http://www.ppomppu.co.kr/zboard/zboard.php?id=recommend',\n",
       " 'http://www.ppomppu.co.kr/zboard/zboard.php?id=lotto',\n",
       " 'http://www.ppomppu.co.kr/zboard/zboard.php?id=toto',\n",
       " 'http://www.ppomppu.co.kr/zboard/zboard.php?id=house',\n",
       " 'http://www.ppomppu.co.kr/zboard/zboard.php?id=offline',\n",
       " 'http://www.ppomppu.co.kr/zboard/zboard.php?id=country',\n",
       " 'http://www.ppomppu.co.kr/zboard/zboard.php?id=oversea',\n",
       " 'http://www.ppomppu.co.kr/zboard/zboard.php?id=china',\n",
       " 'http://www.ppomppu.co.kr/zboard/zboard.php?id=wedding',\n",
       " 'http://www.ppomppu.co.kr/zboard/zboard.php?id=problem',\n",
       " 'http://www.ppomppu.co.kr/zboard/zboard.php?id=nonsmoking',\n",
       " 'http://www.ppomppu.co.kr/zboard/zboard.php?id=e_cig',\n",
       " 'http://www.ppomppu.co.kr/zboard/zboard.php?id=publictransport',\n",
       " 'http://www.ppomppu.co.kr/zboard/zboard.php?id=diabetes',\n",
       " 'http://www.ppomppu.co.kr/zboard/zboard.php?id=pet',\n",
       " 'http://www.ppomppu.co.kr/zboard/zboard.php?id=mart',\n",
       " 'http://www.ppomppu.co.kr/zboard/zboard.php?id=restaurant',\n",
       " 'http://www.ppomppu.co.kr/zboard/zboard.php?id=medical',\n",
       " 'http://www.ppomppu.co.kr/zboard/zboard.php?id=delivery_food',\n",
       " 'http://www.ppomppu.co.kr/zboard/zboard.php?id=tour',\n",
       " 'http://www.ppomppu.co.kr/zboard/zboard.php?id=couple',\n",
       " 'http://www.ppomppu.co.kr/zboard/zboard.php?id=nutrients',\n",
       " 'http://www.ppomppu.co.kr/zboard/zboard.php?id=recipe',\n",
       " 'http://www.ppomppu.co.kr/zboard/zboard.php?id=baby',\n",
       " 'http://www.ppomppu.co.kr/zboard/zboard.php?id=alone',\n",
       " 'http://www.ppomppu.co.kr/zboard/zboard.php?id=alopecia',\n",
       " 'http://www.ppomppu.co.kr/zboard/zboard.php?id=gameforum',\n",
       " 'http://www.ppomppu.co.kr/zboard/zboard.php?id=gamer',\n",
       " 'http://www.ppomppu.co.kr/zboard/zboard.php?id=boardgame',\n",
       " 'http://www.ppomppu.co.kr/zboard/zboard.php?id=mobile_game',\n",
       " 'http://www.ppomppu.co.kr/zboard/zboard.php?id=dra']"
      ]
     },
     "execution_count": 8,
     "metadata": {},
     "output_type": "execute_result"
    }
   ],
   "source": [
    "[_['href'] for _ in dom.find_all('a') if _.has_attr('href')]"
   ]
  },
  {
   "cell_type": "code",
   "execution_count": 81,
   "metadata": {
    "ExecuteTime": {
     "end_time": "2019-07-16T06:08:30.501984Z",
     "start_time": "2019-07-16T06:08:30.482998Z"
    }
   },
   "outputs": [
    {
     "data": {
      "text/plain": [
       "['zboard.php?id=ppomppu&page=1&divpage=56&no=323877',\n",
       " 'zboard.php?id=ppomppu&page=1&divpage=56&no=323876',\n",
       " 'zboard.php?id=ppomppu&page=1&divpage=56&no=323875',\n",
       " 'zboard.php?id=ppomppu&page=1&divpage=56&no=323874',\n",
       " 'zboard.php?id=ppomppu&page=1&divpage=56&no=323872',\n",
       " 'zboard.php?id=ppomppu&page=1&divpage=56&no=323871',\n",
       " 'zboard.php?id=ppomppu&page=1&divpage=56&no=323870',\n",
       " 'zboard.php?id=ppomppu&page=1&divpage=56&no=323869',\n",
       " 'zboard.php?id=ppomppu&page=1&divpage=56&no=323868',\n",
       " 'zboard.php?id=ppomppu&page=1&divpage=56&no=323866',\n",
       " 'zboard.php?id=ppomppu&page=1&divpage=56&no=323865',\n",
       " 'zboard.php?id=ppomppu&page=1&divpage=56&no=323864',\n",
       " 'zboard.php?id=ppomppu&page=1&divpage=56&no=323862',\n",
       " 'zboard.php?id=ppomppu&page=1&divpage=56&no=323861',\n",
       " 'zboard.php?id=ppomppu&page=1&divpage=56&no=323860',\n",
       " 'zboard.php?id=ppomppu&page=1&divpage=56&no=323859',\n",
       " 'zboard.php?id=ppomppu&page=1&divpage=56&no=323858',\n",
       " 'zboard.php?id=ppomppu&page=1&divpage=56&no=323873',\n",
       " 'zboard.php?id=ppomppu&page=1&divpage=56&no=323867',\n",
       " 'zboard.php?id=ppomppu&page=1&divpage=56&no=323863']"
      ]
     },
     "execution_count": 81,
     "metadata": {},
     "output_type": "execute_result"
    }
   ],
   "source": [
    "[_.find_parent()['href'] for _ in (dom.select('font.list_title, font[color]'))]"
   ]
  },
  {
   "cell_type": "code",
   "execution_count": 118,
   "metadata": {
    "ExecuteTime": {
     "end_time": "2019-07-16T06:29:54.084047Z",
     "start_time": "2019-07-16T06:29:54.047065Z"
    }
   },
   "outputs": [
    {
     "name": "stdout",
     "output_type": "stream",
     "text": [
      "http://cdn.ppomppu.co.kr/zboard/data/_thumb/ppomppu/7/small_323877.jpg?t=20190716144040\n",
      "[11번가] 리스테린 그린티 마일드 750mlx2+250mlx2  (13,500/무료배송)\n",
      "(0, 0)\n",
      "90\n",
      "http://cdn.ppomppu.co.kr/zboard/data/_thumb/ppomppu/6/small_323876.jpg?t=20190716134948\n",
      "[Gsuite] Gsuite Basic India (3700원(월) / 무료)\n",
      "(3, 0)\n",
      "4260\n",
      "http://cdn.ppomppu.co.kr/zboard/data/_thumb/ppomppu/5/small_323875.jpg?t=20190716133713\n",
      "[하이마트몰] 갤럭시버즈 (138,500원 / 무배) 오너스 첫달 무료체험시, 최대 50% 페이백\n",
      "(9, 5)\n",
      "6628\n",
      "http://cdn.ppomppu.co.kr/zboard/data/_thumb/ppomppu/4/small_323874.jpg?t=20190716133521\n",
      "[옥션] 식사에반하다25개입 (26,530원 / 무배)\n",
      "(0, 0)\n",
      "4064\n",
      "http://cdn.ppomppu.co.kr/zboard/data/_thumb/ppomppu/3/small_323873.jpg?t=20190716130113\n",
      "[옥션](스마일클럽전용딜) 생활공작소 제습제 520ml*12개*2 ->24개 (14,280원/무료) 하나/NH농협/KB국민/비씨/현대/신한 12,300원\n",
      "(9, 0)\n",
      "2206\n",
      "http://cdn.ppomppu.co.kr/zboard/data/_thumb/ppomppu/2/small_323872.jpg?t=20190716123402\n",
      "[티몬] (티몬페이전용)해피머니 10만원권 3장(271,500원/쿠폰적용시 269,900원)\n",
      "(34, 0)\n",
      "8532\n",
      "http://cdn.ppomppu.co.kr/zboard/data/_thumb/ppomppu/1/small_323871.jpg?t=20190716121801\n",
      "[티몬] 해피머니 10만원권 (90,900원/0원)\n",
      "(78, 0)\n",
      "12404\n",
      "http://cdn.ppomppu.co.kr/zboard/data/_thumb/ppomppu/0/small_323870.jpg?t=20190716121542\n",
      "[티몬] 1등급 한돈 삼겹살 600g (6,500/무료배송)\n",
      "(1, 0)\n",
      "5259\n",
      "http://cdn.ppomppu.co.kr/zboard/data/_thumb/ppomppu/9/small_323869.jpg?t=20190716114613\n",
      "[우체국쇼핑] 진안 매콤화끈 중독의맛 뼈없는 직화불닭발 1+1(2팩)(8500/무료) 쿠폰적용시7650\n",
      "(6, 0)\n",
      "4015\n",
      "http://cdn.ppomppu.co.kr/zboard/data/_thumb/ppomppu/8/small_323868.jpg?t=20190716114856\n",
      "[유튜브] 유튜브프리미엄 인도 ( 2200원(월), 3200원(월)6명 / 무료)\n",
      "(77, 16)\n",
      "35930\n",
      "http://cdn.ppomppu.co.kr/zboard/data/_thumb/ppomppu/7/small_323867.jpg?t=20190716112037\n",
      "[KW 주식회사 ] 휴대용 미니 선풍기 ( 5,900~8,900 / 무료)\n",
      "(0, 1)\n",
      "2416\n",
      "http://cdn.ppomppu.co.kr/zboard/data/_thumb/ppomppu/6/small_323866.jpg?t=20190716111807\n",
      "[11번가] 벨킨 스마트폰 전기종 호환 충전케이블(9,900/무배)\n",
      "(3, 0)\n",
      "3260\n",
      "http://cdn.ppomppu.co.kr/zboard/data/_thumb/ppomppu/5/small_323865.jpg?t=20190716111521\n",
      "[네이버스토어팜] 뉴발란스 잔테v3 (49,800원/무료)\n",
      "(10, 0)\n",
      "9300\n",
      "http://cdn.ppomppu.co.kr/zboard/data/_thumb/ppomppu/4/small_323864.jpg?t=20190716110141\n",
      "[LG생활건강] 홈스타 뿌리는 곰팡이 (9,900/무료)\n",
      "(3, 0)\n",
      "2210\n",
      "http://cdn.ppomppu.co.kr/zboard/data/_thumb/ppomppu/3/small_323863.jpg?t=20190716104522\n",
      "[네이버쇼핑] 잘만 CNPS10X OPTIMA II 블랙 CPU쿨러 (19,900/2500)\n",
      "(1, 0)\n",
      "3122\n",
      "http://static.ppomppu.co.kr/www/img/noimage/noimage_60x50.jpg\n",
      "[Gsshop] 본이트츄잉캔디(12900/무배)\n",
      "(0, 0)\n",
      "1312\n",
      "http://cdn.ppomppu.co.kr/zboard/data/_thumb/ppomppu/1/small_323861.jpg?t=20190716103430\n",
      "[11번가] LG 식기세척기 DFB22W (1,119,000/무료배송)\n",
      "(0, 0)\n",
      "2417\n",
      "http://cdn.ppomppu.co.kr/zboard/data/_thumb/ppomppu/0/small_323860.jpg?t=20190716102757\n",
      "[옥션] 유니온 135c 55인치 UHDTV  (299,000/무료)\n",
      "(2, 2)\n",
      "5605\n",
      "http://cdn.ppomppu.co.kr/zboard/data/_thumb/ppomppu/9/small_323859.jpg?t=20190716101607\n",
      "[G9] 토니모리 에너지24 맨즈 올인원 모이스처 에센스 1+1 (11,000/무료배송)\n",
      "(14, 0)\n",
      "9550\n",
      "http://cdn.ppomppu.co.kr/zboard/data/_thumb/ppomppu/8/small_323858.jpg?t=20190716101452\n",
      "[티몬] 초코무쵸 27g 40봉 (7,900원/무료)\n",
      "(13, 0)\n",
      "2376\n"
     ]
    }
   ],
   "source": [
    "for tr in dom.select('tr[class^=list]')[1:]:\n",
    "    td = tr.find_all('td', recursive=False)\n",
    "    print(requests.compat.urljoin(url, td[3].a.img['src']))\n",
    "    print(td[3].select('td[valign=middle] > a')[0].text)\n",
    "    temp = tuple([_.strip() for _ in td[5].text.split('-')])\n",
    "    print((0,0) if len(temp) < 2 else tuple(int(_) for _ in temp))\n",
    "    print(td[6].text.strip())"
   ]
  },
  {
   "cell_type": "markdown",
   "metadata": {},
   "source": [
    "-------------------------------\n",
    "1. 뽐뿌 자유게시판 10개 페이지\n",
    "2. 글의 제목, 내용, 댓글 가져오기"
   ]
  },
  {
   "cell_type": "code",
   "execution_count": 2,
   "metadata": {
    "ExecuteTime": {
     "end_time": "2019-07-16T11:32:34.099652Z",
     "start_time": "2019-07-16T11:32:34.089658Z"
    }
   },
   "outputs": [],
   "source": [
    "def parseURL(seed):\n",
    "    html = download('get', seed)\n",
    "    dom = BeautifulSoup(html.text, 'html.parser')\n",
    "    \n",
    "    return [requests.compat.urljoin(seed, _.find_parent()['href'])\n",
    "           for _ in dom.select('font.list_title')\n",
    "           if _.find_parent() and _.find_parent().has_attr('href')]"
   ]
  },
  {
   "cell_type": "code",
   "execution_count": 3,
   "metadata": {
    "ExecuteTime": {
     "end_time": "2019-07-16T11:32:34.555391Z",
     "start_time": "2019-07-16T11:32:34.547397Z"
    }
   },
   "outputs": [],
   "source": [
    "def parseContent(url):\n",
    "    html = download('get', url)\n",
    "    dom = BeautifulSoup(html.text, 'html.parser')\n",
    "    \n",
    "    return {'title': dom.select_one('font.view_title2').text.strip(),\n",
    "           'body' : ' '.join([_.text.strip() for _ in dom.select('td.han > p')]),\n",
    "           'comments' : [_.text.strip() for _ in dom.select('#quote .comment_line .han')]}"
   ]
  },
  {
   "cell_type": "code",
   "execution_count": 4,
   "metadata": {
    "ExecuteTime": {
     "end_time": "2019-07-16T11:32:39.976277Z",
     "start_time": "2019-07-16T11:32:34.676321Z"
    }
   },
   "outputs": [
    {
     "name": "stdout",
     "output_type": "stream",
     "text": [
      "Queue : 30, Seen : 1\n",
      "Queue : 60, Seen : 2\n",
      "Queue : 90, Seen : 3\n",
      "Queue : 120, Seen : 4\n",
      "Queue : 150, Seen : 5\n",
      "Queue : 180, Seen : 6\n",
      "Queue : 210, Seen : 7\n",
      "Queue : 240, Seen : 8\n",
      "Queue : 270, Seen : 9\n",
      "Queue : 300, Seen : 10\n"
     ]
    }
   ],
   "source": [
    "url = \"http://www.ppomppu.co.kr/zboard/zboard.php\"\n",
    "html = download('get', url, param={'id':'freeboard'})\n",
    "dom = BeautifulSoup(html.text, 'html.parser')\n",
    "\n",
    "seed = list()\n",
    "seed.extend([requests.compat.urljoin(url, _['href']) for _ in dom.select('#page_list a')])\n",
    "seen = list()\n",
    "\n",
    "queue = list()\n",
    "\n",
    "while seed:\n",
    "    baseURL = seed.pop(0)\n",
    "    seen.append(baseURL)\n",
    "    linkList = parseURL(baseURL)\n",
    "    \n",
    "    for link in linkList:\n",
    "        if link not in queue and link not in seen:\n",
    "            queue.append(link)\n",
    "    print(\"Queue : {0}, Seen : {1}\".format(len(queue), len(seen)))"
   ]
  },
  {
   "cell_type": "markdown",
   "metadata": {},
   "source": [
    "---------------------"
   ]
  },
  {
   "cell_type": "code",
   "execution_count": 6,
   "metadata": {
    "ExecuteTime": {
     "end_time": "2019-07-16T11:32:47.721833Z",
     "start_time": "2019-07-16T11:32:47.716840Z"
    }
   },
   "outputs": [],
   "source": [
    "# cur.close()\n",
    "# conn.close()\n",
    "\n",
    "conn = sqlite3.connect('ppomppu.db')\n",
    "cur = conn.cursor()"
   ]
  },
  {
   "cell_type": "code",
   "execution_count": 7,
   "metadata": {
    "ExecuteTime": {
     "end_time": "2019-07-16T11:32:49.662717Z",
     "start_time": "2019-07-16T11:32:49.614745Z"
    }
   },
   "outputs": [],
   "source": [
    "cur.executescript(''' \n",
    "    DROP TABLE IF EXISTS table3;\n",
    "    CREATE TABLE table3(\n",
    "            id INTEGER PRIMARY KEY AUTOINCREMENT NOT NULL,\n",
    "            title TEXT NOT NULL,\n",
    "            content TEXT NOT NULL,\n",
    "            date TIMESTAMP DEFAULT CURRENT_TIMESTAMP NOT NULL\n",
    "    );\n",
    "\n",
    "    DROP TABLE IF EXISTS table4;\n",
    "    \n",
    "    CREATE TABLE table4(\n",
    "            id INTEGER PRIMARY KEY AUTOINCREMENT NOT NULL,            \n",
    "            table3_id INTEGER NOT NULL ,\n",
    "            comment TEXT NOT NULL\n",
    "    );\n",
    "''')\n",
    "conn.commit()"
   ]
  },
  {
   "cell_type": "code",
   "execution_count": 8,
   "metadata": {
    "ExecuteTime": {
     "end_time": "2019-07-16T11:36:11.232327Z",
     "start_time": "2019-07-16T11:32:52.936839Z"
    }
   },
   "outputs": [],
   "source": [
    "# INSERT\n",
    "while queue:\n",
    "    baseURL = queue.pop(0)\n",
    "    seen.append(baseURL)\n",
    "    content = parseContent(baseURL)\n",
    "    cur.execute('''\n",
    "        INSERT INTO table3\n",
    "        (title, content)\n",
    "        VALUES (?, ?)\n",
    "        ''', (content['title'], content['body']))\n",
    "    conn.commit()\n",
    "    \n",
    "    cur.execute('''\n",
    "        SELECT id\n",
    "        FROM table3\n",
    "        WHERE title=? AND content=?\n",
    "    ''', (content['title'], content['body']))\n",
    "    \n",
    "    table3_id = cur.fetchone()[0]\n",
    "    \n",
    "    for comment in content['comments']:\n",
    "        cur.execute('''\n",
    "            INSERT INTO table4\n",
    "            (table3_id, comment)\n",
    "            VALUES (?,?)\n",
    "        ''', (table3_id, comment))\n",
    "    conn.commit()"
   ]
  },
  {
   "cell_type": "code",
   "execution_count": null,
   "metadata": {
    "ExecuteTime": {
     "end_time": "2019-07-16T08:52:12.441138Z",
     "start_time": "2019-07-16T08:49:41.571Z"
    }
   },
   "outputs": [],
   "source": [
    "url = 'http://www.ppomppu.co.kr/zboard/zboard.php?id=freeboard&page=1&divpage=1221&no=6543154'\n",
    "html = download('get', url, header=header)\n",
    "dom = BeautifulSoup(html.text, 'html.parser')\n",
    "\n",
    "# {'title': dom.select_one('font.view_title2').text.strip(),\n",
    "#        'body' : dom.select_one('td.board-contents').text.strip(),\n",
    "#        'comments' : [_.text.strip() for _ in dom.select('#quote .comment_line .han')]}\n",
    "' '.join([_.text.strip() for _ in dom.select('td.han > p')])"
   ]
  },
  {
   "cell_type": "code",
   "execution_count": null,
   "metadata": {},
   "outputs": [],
   "source": []
  }
 ],
 "metadata": {
  "kernelspec": {
   "display_name": "Python 3",
   "language": "python",
   "name": "python3"
  },
  "language_info": {
   "codemirror_mode": {
    "name": "ipython",
    "version": 3
   },
   "file_extension": ".py",
   "mimetype": "text/x-python",
   "name": "python",
   "nbconvert_exporter": "python",
   "pygments_lexer": "ipython3",
   "version": "3.6.7"
  },
  "toc": {
   "base_numbering": 1,
   "nav_menu": {},
   "number_sections": true,
   "sideBar": true,
   "skip_h1_title": false,
   "title_cell": "Table of Contents",
   "title_sidebar": "Contents",
   "toc_cell": false,
   "toc_position": {},
   "toc_section_display": true,
   "toc_window_display": false
  }
 },
 "nbformat": 4,
 "nbformat_minor": 2
}

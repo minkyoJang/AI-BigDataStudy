{
 "cells": [
  {
   "cell_type": "code",
   "execution_count": 1,
   "metadata": {
    "ExecuteTime": {
     "end_time": "2019-07-08T05:12:05.147243Z",
     "start_time": "2019-07-08T05:12:05.142754Z"
    }
   },
   "outputs": [],
   "source": [
    "import sqlite3"
   ]
  },
  {
   "cell_type": "code",
   "execution_count": 2,
   "metadata": {
    "ExecuteTime": {
     "end_time": "2019-07-08T05:12:13.478903Z",
     "start_time": "2019-07-08T05:12:13.461435Z"
    }
   },
   "outputs": [
    {
     "data": {
      "text/plain": [
       "'2.6.0'"
      ]
     },
     "execution_count": 2,
     "metadata": {},
     "output_type": "execute_result"
    }
   ],
   "source": [
    "sqlite3.version"
   ]
  },
  {
   "cell_type": "code",
   "execution_count": 4,
   "metadata": {
    "ExecuteTime": {
     "end_time": "2019-07-08T05:12:32.483095Z",
     "start_time": "2019-07-08T05:12:32.476111Z"
    }
   },
   "outputs": [
    {
     "data": {
      "text/plain": [
       "'3.21.0'"
      ]
     },
     "execution_count": 4,
     "metadata": {},
     "output_type": "execute_result"
    }
   ],
   "source": [
    "sqlite3.sqlite_version"
   ]
  },
  {
   "cell_type": "markdown",
   "metadata": {},
   "source": [
    "## Database 연결(생성)"
   ]
  },
  {
   "cell_type": "code",
   "execution_count": 9,
   "metadata": {
    "ExecuteTime": {
     "end_time": "2019-07-08T05:16:13.034502Z",
     "start_time": "2019-07-08T05:16:13.028018Z"
    }
   },
   "outputs": [],
   "source": [
    "# conn = sqlite3.connect('경로/이름' or ':memory:')\n",
    "conn = sqlite3.connect('./sqlite')"
   ]
  },
  {
   "cell_type": "code",
   "execution_count": 16,
   "metadata": {
    "ExecuteTime": {
     "end_time": "2019-07-08T05:18:46.954321Z",
     "start_time": "2019-07-08T05:18:46.943841Z"
    }
   },
   "outputs": [
    {
     "data": {
      "text/plain": [
       "['DataError',\n",
       " 'DatabaseError',\n",
       " 'Error',\n",
       " 'IntegrityError',\n",
       " 'InterfaceError',\n",
       " 'InternalError',\n",
       " 'NotSupportedError',\n",
       " 'OperationalError',\n",
       " 'ProgrammingError',\n",
       " 'Warning',\n",
       " '__call__',\n",
       " '__class__',\n",
       " '__delattr__',\n",
       " '__dir__',\n",
       " '__doc__',\n",
       " '__enter__',\n",
       " '__eq__',\n",
       " '__exit__',\n",
       " '__format__',\n",
       " '__ge__',\n",
       " '__getattribute__',\n",
       " '__gt__',\n",
       " '__hash__',\n",
       " '__init__',\n",
       " '__init_subclass__',\n",
       " '__le__',\n",
       " '__lt__',\n",
       " '__ne__',\n",
       " '__new__',\n",
       " '__reduce__',\n",
       " '__reduce_ex__',\n",
       " '__repr__',\n",
       " '__setattr__',\n",
       " '__sizeof__',\n",
       " '__str__',\n",
       " '__subclasshook__',\n",
       " 'close',\n",
       " 'commit',\n",
       " 'create_aggregate',\n",
       " 'create_collation',\n",
       " 'create_function',\n",
       " 'cursor',\n",
       " 'enable_load_extension',\n",
       " 'execute',\n",
       " 'executemany',\n",
       " 'executescript',\n",
       " 'in_transaction',\n",
       " 'interrupt',\n",
       " 'isolation_level',\n",
       " 'iterdump',\n",
       " 'load_extension',\n",
       " 'rollback',\n",
       " 'row_factory',\n",
       " 'set_authorizer',\n",
       " 'set_progress_handler',\n",
       " 'set_trace_callback',\n",
       " 'text_factory',\n",
       " 'total_changes']"
      ]
     },
     "execution_count": 16,
     "metadata": {},
     "output_type": "execute_result"
    }
   ],
   "source": [
    "dir(conn) # 임시로 cursor를 생성. conn객체로 사용하지 말자."
   ]
  },
  {
   "cell_type": "markdown",
   "metadata": {
    "ExecuteTime": {
     "end_time": "2019-07-08T05:16:49.832939Z",
     "start_time": "2019-07-08T05:16:49.823460Z"
    }
   },
   "source": [
    "## Cursor 생성"
   ]
  },
  {
   "cell_type": "code",
   "execution_count": 13,
   "metadata": {
    "ExecuteTime": {
     "end_time": "2019-07-08T05:17:23.471218Z",
     "start_time": "2019-07-08T05:17:23.466730Z"
    }
   },
   "outputs": [],
   "source": [
    "cur = conn.cursor()"
   ]
  },
  {
   "cell_type": "code",
   "execution_count": 14,
   "metadata": {
    "ExecuteTime": {
     "end_time": "2019-07-08T05:17:36.946873Z",
     "start_time": "2019-07-08T05:17:36.936891Z"
    }
   },
   "outputs": [
    {
     "data": {
      "text/plain": [
       "['__class__',\n",
       " '__delattr__',\n",
       " '__dir__',\n",
       " '__doc__',\n",
       " '__eq__',\n",
       " '__format__',\n",
       " '__ge__',\n",
       " '__getattribute__',\n",
       " '__gt__',\n",
       " '__hash__',\n",
       " '__init__',\n",
       " '__init_subclass__',\n",
       " '__iter__',\n",
       " '__le__',\n",
       " '__lt__',\n",
       " '__ne__',\n",
       " '__new__',\n",
       " '__next__',\n",
       " '__reduce__',\n",
       " '__reduce_ex__',\n",
       " '__repr__',\n",
       " '__setattr__',\n",
       " '__sizeof__',\n",
       " '__str__',\n",
       " '__subclasshook__',\n",
       " 'arraysize',\n",
       " 'close',\n",
       " 'connection',\n",
       " 'description',\n",
       " 'execute',\n",
       " 'executemany',\n",
       " 'executescript',\n",
       " 'fetchall',\n",
       " 'fetchmany',\n",
       " 'fetchone',\n",
       " 'lastrowid',\n",
       " 'row_factory',\n",
       " 'rowcount',\n",
       " 'setinputsizes',\n",
       " 'setoutputsize']"
      ]
     },
     "execution_count": 14,
     "metadata": {},
     "output_type": "execute_result"
    }
   ],
   "source": [
    "type(cur)\n",
    "dir(cur)"
   ]
  },
  {
   "cell_type": "code",
   "execution_count": 18,
   "metadata": {
    "ExecuteTime": {
     "end_time": "2019-07-08T05:23:38.800612Z",
     "start_time": "2019-07-08T05:23:38.790631Z"
    }
   },
   "outputs": [
    {
     "data": {
      "text/plain": [
       "<sqlite3.Cursor at 0x1816b318500>"
      ]
     },
     "execution_count": 18,
     "metadata": {},
     "output_type": "execute_result"
    }
   ],
   "source": [
    "cur.execute('''SELECT sqlite_version()''') # execute()는 하나의 statement만 실행해서 ';' 없어도 실행가능"
   ]
  },
  {
   "cell_type": "code",
   "execution_count": 20,
   "metadata": {
    "ExecuteTime": {
     "end_time": "2019-07-08T05:23:46.790755Z",
     "start_time": "2019-07-08T05:23:46.782771Z"
    }
   },
   "outputs": [
    {
     "data": {
      "text/plain": [
       "[('3.21.0',)]"
      ]
     },
     "execution_count": 20,
     "metadata": {},
     "output_type": "execute_result"
    }
   ],
   "source": [
    "cur.fetchall()"
   ]
  },
  {
   "cell_type": "code",
   "execution_count": 21,
   "metadata": {
    "ExecuteTime": {
     "end_time": "2019-07-08T05:26:22.769384Z",
     "start_time": "2019-07-08T05:26:22.762394Z"
    }
   },
   "outputs": [
    {
     "data": {
      "text/plain": [
       "False"
      ]
     },
     "execution_count": 21,
     "metadata": {},
     "output_type": "execute_result"
    }
   ],
   "source": [
    "sqlite3.complete_statement('''SELECT sqlite_version()''') # SQL 구문을 올바르게 작성했는지 check\n",
    "# 세미콜론 없기 때문에 false"
   ]
  },
  {
   "cell_type": "markdown",
   "metadata": {},
   "source": [
    "## Execute"
   ]
  },
  {
   "cell_type": "code",
   "execution_count": 24,
   "metadata": {
    "ExecuteTime": {
     "end_time": "2019-07-08T05:33:19.145115Z",
     "start_time": "2019-07-08T05:33:19.118168Z"
    }
   },
   "outputs": [
    {
     "name": "stdout",
     "output_type": "stream",
     "text": [
      "('Yeltsin', 72)\n"
     ]
    }
   ],
   "source": [
    "cur.execute('''CREATE table people (name_last, age)''')\n",
    "\n",
    "who = \"Yeltsin\"\n",
    "age = 72\n",
    "\n",
    "# qmark style\n",
    "cur.execute('''INSERT into people VALUES (?, ?)''', (who, age))\n",
    "conn.commit()\n",
    "# named style\n",
    "cur.execute('''SELECT * FROM people WHERE name_last =:who AND age=:age''', {\"who\":who, \"age\":age})\n",
    "conn.commit()\n",
    "\n",
    "print(cur.fetchone())"
   ]
  },
  {
   "cell_type": "markdown",
   "metadata": {},
   "source": [
    "### excutemany"
   ]
  },
  {
   "cell_type": "code",
   "execution_count": 27,
   "metadata": {
    "ExecuteTime": {
     "end_time": "2019-07-08T05:36:47.911488Z",
     "start_time": "2019-07-08T05:36:47.899510Z"
    }
   },
   "outputs": [
    {
     "data": {
      "text/plain": [
       "<sqlite3.Cursor at 0x1816b318500>"
      ]
     },
     "execution_count": 27,
     "metadata": {},
     "output_type": "execute_result"
    }
   ],
   "source": [
    "sql = '''INSERT INTO people VALUES (?,?)'''\n",
    "curData = [('A',1), ('B',2), ('C',3)]\n",
    "\n",
    "cur.executemany(sql, curData)"
   ]
  },
  {
   "cell_type": "code",
   "execution_count": 41,
   "metadata": {
    "ExecuteTime": {
     "end_time": "2019-07-08T05:51:39.967431Z",
     "start_time": "2019-07-08T05:51:39.956951Z"
    }
   },
   "outputs": [
    {
     "data": {
      "text/plain": [
       "<sqlite3.Cursor at 0x1816b318500>"
      ]
     },
     "execution_count": 41,
     "metadata": {},
     "output_type": "execute_result"
    }
   ],
   "source": [
    "# named style\n",
    "dataDict = [{\"who\":\"E\", \"age\":1}, {\"who\":\"F\", \"age\":2}]\n",
    "sql = '''INSERT INTO people VALUES (:who, :age)'''\n",
    "\n",
    "cur.executemany(sql, dataDict)"
   ]
  },
  {
   "cell_type": "code",
   "execution_count": 43,
   "metadata": {
    "ExecuteTime": {
     "end_time": "2019-07-08T05:51:58.025652Z",
     "start_time": "2019-07-08T05:51:58.015169Z"
    }
   },
   "outputs": [
    {
     "data": {
      "text/plain": [
       "[('Yeltsin', 72), ('A', 1), ('B', 2), ('C', 3), ('E', 1), ('F', 2)]"
      ]
     },
     "execution_count": 43,
     "metadata": {},
     "output_type": "execute_result"
    }
   ],
   "source": [
    "cur.execute(\"SELECT * FROM people\")\n",
    "cur.fetchall()"
   ]
  },
  {
   "cell_type": "code",
   "execution_count": 44,
   "metadata": {
    "ExecuteTime": {
     "end_time": "2019-07-08T05:52:12.554257Z",
     "start_time": "2019-07-08T05:52:12.534290Z"
    }
   },
   "outputs": [],
   "source": [
    "conn.commit()"
   ]
  },
  {
   "cell_type": "markdown",
   "metadata": {},
   "source": [
    "### excutescript "
   ]
  },
  {
   "cell_type": "code",
   "execution_count": 59,
   "metadata": {
    "ExecuteTime": {
     "end_time": "2019-07-08T06:08:54.430477Z",
     "start_time": "2019-07-08T06:08:54.387056Z"
    }
   },
   "outputs": [
    {
     "data": {
      "text/plain": [
       "<sqlite3.Cursor at 0x1816b318500>"
      ]
     },
     "execution_count": 59,
     "metadata": {},
     "output_type": "execute_result"
    }
   ],
   "source": [
    "## commit후에 실행된다.\n",
    "cur.executescript('''\n",
    "    CREATE table person(\n",
    "        first_name text PRIMARY KEY,\n",
    "        last_name text NOT NULL\n",
    "    );\n",
    "        \n",
    "    INSERT INTO person VALUES (\"name\", \"kim\");''')"
   ]
  },
  {
   "cell_type": "code",
   "execution_count": 60,
   "metadata": {
    "ExecuteTime": {
     "end_time": "2019-07-08T06:08:55.379281Z",
     "start_time": "2019-07-08T06:08:55.371295Z"
    }
   },
   "outputs": [
    {
     "name": "stdout",
     "output_type": "stream",
     "text": [
      "[('name', 'kim')]\n"
     ]
    }
   ],
   "source": [
    "cur.execute('''SELECT * FROM person''')\n",
    "print(cur.fetchall())"
   ]
  },
  {
   "cell_type": "code",
   "execution_count": 61,
   "metadata": {
    "ExecuteTime": {
     "end_time": "2019-07-08T06:15:27.383691Z",
     "start_time": "2019-07-08T06:15:27.375711Z"
    }
   },
   "outputs": [],
   "source": [
    "cur.close()\n",
    "conn.commit()\n",
    "conn.close()"
   ]
  },
  {
   "cell_type": "markdown",
   "metadata": {},
   "source": [
    "## DML\n",
    "### CREATE"
   ]
  },
  {
   "cell_type": "code",
   "execution_count": 97,
   "metadata": {
    "ExecuteTime": {
     "end_time": "2019-07-08T07:06:30.173227Z",
     "start_time": "2019-07-08T07:06:30.153764Z"
    }
   },
   "outputs": [
    {
     "name": "stdout",
     "output_type": "stream",
     "text": [
      "open db successfully\n",
      "Table created successfully\n"
     ]
    }
   ],
   "source": [
    "conn = sqlite3.connect('./create.db')\n",
    "print(\"open db successfully\")\n",
    "curr = conn.cursor()\n",
    "curr.execute('''\n",
    "    CREATE TABLE company(\n",
    "        ID INT PRIMARY KEY NOT NULL,\n",
    "        NAME TEXT NOT NULL,\n",
    "        AGE INT NOT NULL,\n",
    "        ADDRESS CHAR(50),\n",
    "        SALARY REAL);\n",
    "    ''')\n",
    "\n",
    "print(\"Table created successfully\")"
   ]
  },
  {
   "cell_type": "markdown",
   "metadata": {},
   "source": [
    "### INSERT"
   ]
  },
  {
   "cell_type": "code",
   "execution_count": 98,
   "metadata": {
    "ExecuteTime": {
     "end_time": "2019-07-08T07:06:38.259070Z",
     "start_time": "2019-07-08T07:06:38.244100Z"
    }
   },
   "outputs": [
    {
     "data": {
      "text/plain": [
       "<sqlite3.Cursor at 0x1816b4cd9d0>"
      ]
     },
     "execution_count": 98,
     "metadata": {},
     "output_type": "execute_result"
    }
   ],
   "source": [
    "curr.execute(\"\"\"\n",
    "    INSERT INTO COMPANY (ID,NAME,AGE,ADDRESS,SALARY)\n",
    "    VALUES (1, 'Paul', 32, 'California', 20000.00);\n",
    "\"\"\")\n",
    "\n",
    "curr.execute(\"\"\"\n",
    "    INSERT INTO COMPANY (ID,NAME,AGE,ADDRESS,SALARY)\n",
    "    VALUES (:id, :name, :age, :address, :salary);\n",
    "\"\"\", {\"id\":2, \"name\":\"Allen\", \"age\":25, \"address\":\"Texas\", \"salary\":15000.00})\n",
    "\n",
    "data = [(3, 'Teddy', 23, 'Norway', 200000.00),\n",
    "       (4, 'Mark', 25, 'Rich-Mond', 65000.00)]\n",
    "\n",
    "curr.executemany(\"\"\"\n",
    "    INSERT INTO company (ID, NAME, AGE, ADDRESS, SALARY)\n",
    "    VALUES (?, ?, ?, ?, ?)\n",
    "\"\"\", data)"
   ]
  },
  {
   "cell_type": "code",
   "execution_count": 99,
   "metadata": {
    "ExecuteTime": {
     "end_time": "2019-07-08T07:06:40.900988Z",
     "start_time": "2019-07-08T07:06:40.893502Z"
    },
    "scrolled": true
   },
   "outputs": [
    {
     "data": {
      "text/plain": [
       "(2, 4)"
      ]
     },
     "execution_count": 99,
     "metadata": {},
     "output_type": "execute_result"
    }
   ],
   "source": [
    "curr.lastrowid, conn.total_changes"
   ]
  },
  {
   "cell_type": "code",
   "execution_count": 100,
   "metadata": {
    "ExecuteTime": {
     "end_time": "2019-07-08T07:07:09.183357Z",
     "start_time": "2019-07-08T07:07:09.148918Z"
    }
   },
   "outputs": [
    {
     "data": {
      "text/plain": [
       "<sqlite3.Cursor at 0x1816b4cd9d0>"
      ]
     },
     "execution_count": 100,
     "metadata": {},
     "output_type": "execute_result"
    }
   ],
   "source": [
    "curr.executescript(\"\"\"\n",
    "    INSERT INTO COMPANY (ID,NAME,AGE,ADDRESS,SALARY)\n",
    "    VALUES (5, 'Mark1', 25, 'Rich-Mond', 65000.00);\n",
    "    \n",
    "    INSERT INTO COMPANY (ID,NAME,AGE,ADDRESS,SALARY)\n",
    "    VALUES (6, 'Mark2', 25, 'Rich-Mond', 65000.00);\n",
    "\"\"\")"
   ]
  },
  {
   "cell_type": "code",
   "execution_count": 101,
   "metadata": {
    "ExecuteTime": {
     "end_time": "2019-07-08T07:07:10.226047Z",
     "start_time": "2019-07-08T07:07:10.217063Z"
    },
    "scrolled": true
   },
   "outputs": [
    {
     "data": {
      "text/plain": [
       "(2, 6)"
      ]
     },
     "execution_count": 101,
     "metadata": {},
     "output_type": "execute_result"
    }
   ],
   "source": [
    "curr.lastrowid, conn.total_changes"
   ]
  },
  {
   "cell_type": "code",
   "execution_count": 104,
   "metadata": {
    "ExecuteTime": {
     "end_time": "2019-07-08T07:09:47.902434Z",
     "start_time": "2019-07-08T07:09:47.892954Z"
    }
   },
   "outputs": [
    {
     "data": {
      "text/plain": [
       "<sqlite3.Cursor at 0x1816b4cd9d0>"
      ]
     },
     "execution_count": 104,
     "metadata": {},
     "output_type": "execute_result"
    }
   ],
   "source": [
    "curr.execute(\"SELECT id, name, address, salary FROM company\")"
   ]
  },
  {
   "cell_type": "code",
   "execution_count": 105,
   "metadata": {
    "ExecuteTime": {
     "end_time": "2019-07-08T07:09:49.723730Z",
     "start_time": "2019-07-08T07:09:49.711253Z"
    }
   },
   "outputs": [
    {
     "name": "stdout",
     "output_type": "stream",
     "text": [
      "ID =  1 <class 'int'>\n",
      "NAME =  Paul <class 'str'>\n",
      "ADDRESS =  California <class 'str'>\n",
      "SALARY =  20000.0 <class 'float'>\n",
      "\n",
      "ID =  2 <class 'int'>\n",
      "NAME =  Allen <class 'str'>\n",
      "ADDRESS =  Texas <class 'str'>\n",
      "SALARY =  15000.0 <class 'float'>\n",
      "\n",
      "ID =  3 <class 'int'>\n",
      "NAME =  Teddy <class 'str'>\n",
      "ADDRESS =  Norway <class 'str'>\n",
      "SALARY =  200000.0 <class 'float'>\n",
      "\n",
      "ID =  4 <class 'int'>\n",
      "NAME =  Mark <class 'str'>\n",
      "ADDRESS =  Rich-Mond <class 'str'>\n",
      "SALARY =  65000.0 <class 'float'>\n",
      "\n",
      "ID =  5 <class 'int'>\n",
      "NAME =  Mark1 <class 'str'>\n",
      "ADDRESS =  Rich-Mond <class 'str'>\n",
      "SALARY =  65000.0 <class 'float'>\n",
      "\n",
      "ID =  6 <class 'int'>\n",
      "NAME =  Mark2 <class 'str'>\n",
      "ADDRESS =  Rich-Mond <class 'str'>\n",
      "SALARY =  65000.0 <class 'float'>\n",
      "\n",
      "Operation done!\n"
     ]
    }
   ],
   "source": [
    "for row in curr:\n",
    "    print('ID = ',row[0], type(row[0]))\n",
    "    print('NAME = ',row[1], type(row[1]))\n",
    "    print('ADDRESS = ',row[2], type(row[2]))\n",
    "    print('SALARY = ',row[3], type(row[3]), end='\\n\\n')\n",
    "\n",
    "print(\"Operation done!\")"
   ]
  },
  {
   "cell_type": "code",
   "execution_count": 106,
   "metadata": {
    "ExecuteTime": {
     "end_time": "2019-07-08T07:09:50.152553Z",
     "start_time": "2019-07-08T07:09:50.145563Z"
    }
   },
   "outputs": [
    {
     "data": {
      "text/plain": [
       "(6, 6)"
      ]
     },
     "execution_count": 106,
     "metadata": {},
     "output_type": "execute_result"
    }
   ],
   "source": [
    "curr.lastrowid, conn.total_changes"
   ]
  },
  {
   "cell_type": "markdown",
   "metadata": {},
   "source": [
    "### UPDATE"
   ]
  },
  {
   "cell_type": "code",
   "execution_count": 107,
   "metadata": {
    "ExecuteTime": {
     "end_time": "2019-07-08T07:11:39.195201Z",
     "start_time": "2019-07-08T07:11:39.185219Z"
    }
   },
   "outputs": [
    {
     "data": {
      "text/plain": [
       "<sqlite3.Cursor at 0x1816b4cd9d0>"
      ]
     },
     "execution_count": 107,
     "metadata": {},
     "output_type": "execute_result"
    }
   ],
   "source": [
    "cid = 1\n",
    "curr.execute(\"\"\"UPDATE company SET salary = 25000.00 WHERE id = :id\"\"\", {'id':cid})"
   ]
  },
  {
   "cell_type": "code",
   "execution_count": 108,
   "metadata": {
    "ExecuteTime": {
     "end_time": "2019-07-08T07:11:58.075383Z",
     "start_time": "2019-07-08T07:11:58.066900Z"
    }
   },
   "outputs": [
    {
     "data": {
      "text/plain": [
       "(6, 7)"
      ]
     },
     "execution_count": 108,
     "metadata": {},
     "output_type": "execute_result"
    }
   ],
   "source": [
    "curr.lastrowid, conn.total_changes"
   ]
  },
  {
   "cell_type": "code",
   "execution_count": 109,
   "metadata": {
    "ExecuteTime": {
     "end_time": "2019-07-08T07:12:13.924868Z",
     "start_time": "2019-07-08T07:12:13.911393Z"
    }
   },
   "outputs": [],
   "source": [
    "conn.commit()"
   ]
  },
  {
   "cell_type": "code",
   "execution_count": 110,
   "metadata": {
    "ExecuteTime": {
     "end_time": "2019-07-08T07:12:20.325857Z",
     "start_time": "2019-07-08T07:12:20.317373Z"
    }
   },
   "outputs": [
    {
     "data": {
      "text/plain": [
       "(6, 7)"
      ]
     },
     "execution_count": 110,
     "metadata": {},
     "output_type": "execute_result"
    }
   ],
   "source": [
    "curr.lastrowid, conn.total_changes"
   ]
  },
  {
   "cell_type": "markdown",
   "metadata": {},
   "source": [
    "### DELETE"
   ]
  },
  {
   "cell_type": "code",
   "execution_count": 111,
   "metadata": {
    "ExecuteTime": {
     "end_time": "2019-07-08T07:16:11.432010Z",
     "start_time": "2019-07-08T07:16:11.418535Z"
    }
   },
   "outputs": [
    {
     "name": "stdout",
     "output_type": "stream",
     "text": [
      "Total number of rows deleted : 8\n",
      "ID =  1\n",
      "ID =  3\n",
      "ID =  4\n",
      "ID =  5\n",
      "ID =  6\n"
     ]
    }
   ],
   "source": [
    "curr.execute(\"\"\"DELETE FROM company WHERE id = 2;\"\"\")\n",
    "\n",
    "print(\"Total number of rows deleted :\", conn.total_changes)\n",
    "\n",
    "curr.execute(\"\"\"SELECT id, name, address, salary FROM company\"\"\")\n",
    "\n",
    "for row in curr:\n",
    "    print(\"ID = \", row[0])"
   ]
  },
  {
   "cell_type": "code",
   "execution_count": 112,
   "metadata": {
    "ExecuteTime": {
     "end_time": "2019-07-08T07:16:29.561298Z",
     "start_time": "2019-07-08T07:16:29.549324Z"
    }
   },
   "outputs": [],
   "source": [
    "conn.commit()"
   ]
  },
  {
   "cell_type": "markdown",
   "metadata": {},
   "source": [
    "## 예제 "
   ]
  },
  {
   "cell_type": "markdown",
   "metadata": {},
   "source": [
    "### Table 생성\n",
    "### INSERT\n"
   ]
  },
  {
   "cell_type": "code",
   "execution_count": 153,
   "metadata": {
    "ExecuteTime": {
     "end_time": "2019-07-08T08:36:12.824067Z",
     "start_time": "2019-07-08T08:36:12.800110Z"
    }
   },
   "outputs": [],
   "source": [
    "conn = sqlite3.connect('./music.db')\n",
    "curr = conn.cursor()"
   ]
  },
  {
   "cell_type": "code",
   "execution_count": 130,
   "metadata": {
    "ExecuteTime": {
     "end_time": "2019-07-08T08:17:18.582868Z",
     "start_time": "2019-07-08T08:17:18.571384Z"
    }
   },
   "outputs": [
    {
     "data": {
      "text/plain": [
       "<sqlite3.Cursor at 0x1816b5251f0>"
      ]
     },
     "execution_count": 130,
     "metadata": {},
     "output_type": "execute_result"
    }
   ],
   "source": [
    "curr.execute('''\n",
    "    INSERT INTO album (title, artist_id)\n",
    "    VALUES(:album, \n",
    "        (SELECT id\n",
    "        FROM artist\n",
    "        WHERE name = :artist));\n",
    "''',{'album':'앨범이름', 'artist':'Led Zepplin'})"
   ]
  },
  {
   "cell_type": "code",
   "execution_count": 131,
   "metadata": {
    "ExecuteTime": {
     "end_time": "2019-07-08T08:17:21.000769Z",
     "start_time": "2019-07-08T08:17:20.983807Z"
    }
   },
   "outputs": [],
   "source": [
    "conn.commit()"
   ]
  },
  {
   "cell_type": "code",
   "execution_count": 126,
   "metadata": {
    "ExecuteTime": {
     "end_time": "2019-07-08T08:16:55.516489Z",
     "start_time": "2019-07-08T08:16:55.510998Z"
    }
   },
   "outputs": [],
   "source": [
    "curr.close()\n",
    "conn.close()"
   ]
  },
  {
   "cell_type": "code",
   "execution_count": 136,
   "metadata": {
    "ExecuteTime": {
     "end_time": "2019-07-08T08:23:08.458561Z",
     "start_time": "2019-07-08T08:23:08.447100Z"
    }
   },
   "outputs": [
    {
     "data": {
      "text/plain": [
       "<sqlite3.Cursor at 0x1816b5251f0>"
      ]
     },
     "execution_count": 136,
     "metadata": {},
     "output_type": "execute_result"
    }
   ],
   "source": [
    "curr.execute('''\n",
    "    INSERT INTO album (title, artist_id)\n",
    "    VALUES(:album, \n",
    "        (SELECT id\n",
    "        FROM artist\n",
    "        WHERE name = :artist));\n",
    "''',{'album':'IV', 'artist':'Led Zepplin'})"
   ]
  },
  {
   "cell_type": "code",
   "execution_count": 137,
   "metadata": {
    "ExecuteTime": {
     "end_time": "2019-07-08T08:23:30.539606Z",
     "start_time": "2019-07-08T08:23:30.531123Z"
    }
   },
   "outputs": [
    {
     "data": {
      "text/plain": [
       "<sqlite3.Cursor at 0x1816b5251f0>"
      ]
     },
     "execution_count": 137,
     "metadata": {},
     "output_type": "execute_result"
    }
   ],
   "source": [
    "curr.execute('''\n",
    "    INSERT INTO album (title, artist_id)\n",
    "    VALUES(:album, \n",
    "        (SELECT id\n",
    "        FROM artist\n",
    "        WHERE name = :artist));\n",
    "''',{'album':'Who Made Who', 'artist':'AC/DC'})"
   ]
  },
  {
   "cell_type": "code",
   "execution_count": 138,
   "metadata": {
    "ExecuteTime": {
     "end_time": "2019-07-08T08:25:31.284186Z",
     "start_time": "2019-07-08T08:25:31.272709Z"
    }
   },
   "outputs": [],
   "source": [
    "conn.commit()"
   ]
  },
  {
   "cell_type": "code",
   "execution_count": 150,
   "metadata": {
    "ExecuteTime": {
     "end_time": "2019-07-08T08:34:36.002930Z",
     "start_time": "2019-07-08T08:34:35.992446Z"
    }
   },
   "outputs": [
    {
     "data": {
      "text/plain": [
       "<sqlite3.Cursor at 0x1816b5251f0>"
      ]
     },
     "execution_count": 150,
     "metadata": {},
     "output_type": "execute_result"
    }
   ],
   "source": [
    "curr.execute('''\n",
    "    INSERT INTO track (title, rating, length, count, album_id, genre_id)\n",
    "    VALUES(:title, :rating, :length, :count,\n",
    "        (SELECT id\n",
    "        FROM album\n",
    "        WHERE title = :album_title),\n",
    "        :genre_id\n",
    "        );\n",
    "''',{'title':'Stairway', 'rating':5, 'length':482, 'count':0, 'album_title':'IV', 'genre_id':1})"
   ]
  },
  {
   "cell_type": "code",
   "execution_count": 151,
   "metadata": {
    "ExecuteTime": {
     "end_time": "2019-07-08T08:34:36.285957Z",
     "start_time": "2019-07-08T08:34:36.273462Z"
    }
   },
   "outputs": [],
   "source": [
    "conn.commit()"
   ]
  },
  {
   "cell_type": "code",
   "execution_count": 152,
   "metadata": {
    "ExecuteTime": {
     "end_time": "2019-07-08T08:35:01.263156Z",
     "start_time": "2019-07-08T08:35:01.210759Z"
    }
   },
   "outputs": [],
   "source": [
    "curr.close()\n",
    "conn.close()"
   ]
  },
  {
   "cell_type": "code",
   "execution_count": 154,
   "metadata": {
    "ExecuteTime": {
     "end_time": "2019-07-08T08:37:23.615522Z",
     "start_time": "2019-07-08T08:37:23.606036Z"
    }
   },
   "outputs": [
    {
     "data": {
      "text/plain": [
       "<sqlite3.Cursor at 0x1816b525110>"
      ]
     },
     "execution_count": 154,
     "metadata": {},
     "output_type": "execute_result"
    }
   ],
   "source": [
    "curr.execute('''\n",
    "   SELECT album.title, artist.name\n",
    "   FROM album\n",
    "   JOIN artist\n",
    "   ON album.artist_id = Artist.id\n",
    "''')"
   ]
  },
  {
   "cell_type": "code",
   "execution_count": 156,
   "metadata": {
    "ExecuteTime": {
     "end_time": "2019-07-08T08:38:13.916579Z",
     "start_time": "2019-07-08T08:38:13.909592Z"
    }
   },
   "outputs": [
    {
     "name": "stdout",
     "output_type": "stream",
     "text": [
      "('IV', 'Led Zepplin')\n",
      "('Who Made Who', 'AC/DC')\n"
     ]
    }
   ],
   "source": [
    "for row in curr:\n",
    "    print(row)"
   ]
  },
  {
   "cell_type": "code",
   "execution_count": 157,
   "metadata": {
    "ExecuteTime": {
     "end_time": "2019-07-08T08:40:01.513147Z",
     "start_time": "2019-07-08T08:40:01.504163Z"
    }
   },
   "outputs": [
    {
     "data": {
      "text/plain": [
       "<sqlite3.Cursor at 0x1816b525110>"
      ]
     },
     "execution_count": 157,
     "metadata": {},
     "output_type": "execute_result"
    }
   ],
   "source": [
    "curr.execute('''\n",
    "   SELECT track.title, genre.name\n",
    "   FROM track\n",
    "   JOIN genre\n",
    "   ON track.genre_id = genre.id\n",
    "''')"
   ]
  },
  {
   "cell_type": "code",
   "execution_count": 158,
   "metadata": {
    "ExecuteTime": {
     "end_time": "2019-07-08T08:40:04.511941Z",
     "start_time": "2019-07-08T08:40:04.506451Z"
    }
   },
   "outputs": [
    {
     "name": "stdout",
     "output_type": "stream",
     "text": [
      "('Black Dog', 'ROCK')\n",
      "('Stairway', 'ROCK')\n",
      "('About to Rock', 'Metal')\n",
      "('Who Made Who', 'Metal')\n"
     ]
    }
   ],
   "source": [
    "for row in curr:\n",
    "    print(row)"
   ]
  },
  {
   "cell_type": "code",
   "execution_count": 159,
   "metadata": {
    "ExecuteTime": {
     "end_time": "2019-07-08T08:43:31.775889Z",
     "start_time": "2019-07-08T08:43:31.768904Z"
    }
   },
   "outputs": [
    {
     "data": {
      "text/plain": [
       "<sqlite3.Cursor at 0x1816b525110>"
      ]
     },
     "execution_count": 159,
     "metadata": {},
     "output_type": "execute_result"
    }
   ],
   "source": [
    "curr.execute('''\n",
    "   SELECT album.title, track.title\n",
    "   FROM track\n",
    "   JOIN album\n",
    "   ON track.album_id = album.id\n",
    "''')"
   ]
  },
  {
   "cell_type": "code",
   "execution_count": 160,
   "metadata": {
    "ExecuteTime": {
     "end_time": "2019-07-08T08:43:34.398130Z",
     "start_time": "2019-07-08T08:43:34.391145Z"
    }
   },
   "outputs": [
    {
     "name": "stdout",
     "output_type": "stream",
     "text": [
      "('IV', 'Black Dog')\n",
      "('IV', 'Stairway')\n",
      "('Who Made Who', 'About to Rock')\n",
      "('Who Made Who', 'Who Made Who')\n"
     ]
    }
   ],
   "source": [
    "for row in curr:\n",
    "    print(row)"
   ]
  },
  {
   "cell_type": "code",
   "execution_count": 161,
   "metadata": {
    "ExecuteTime": {
     "end_time": "2019-07-08T08:47:55.813803Z",
     "start_time": "2019-07-08T08:47:55.804818Z"
    }
   },
   "outputs": [
    {
     "data": {
      "text/plain": [
       "<sqlite3.Cursor at 0x1816b525110>"
      ]
     },
     "execution_count": 161,
     "metadata": {},
     "output_type": "execute_result"
    }
   ],
   "source": [
    "curr.execute('''\n",
    "   SELECT track.title, artist.name, album.title, genre.name\n",
    "   FROM track\n",
    "   JOIN artist join album join genre\n",
    "       ON track.album_id = album.id\n",
    "       AND track.genre_id = genre.id\n",
    "       AND album.artist_id = artist.id\n",
    "''')"
   ]
  },
  {
   "cell_type": "code",
   "execution_count": 162,
   "metadata": {
    "ExecuteTime": {
     "end_time": "2019-07-08T08:47:58.459235Z",
     "start_time": "2019-07-08T08:47:58.452247Z"
    }
   },
   "outputs": [
    {
     "name": "stdout",
     "output_type": "stream",
     "text": [
      "('Black Dog', 'Led Zepplin', 'IV', 'ROCK')\n",
      "('Stairway', 'Led Zepplin', 'IV', 'ROCK')\n",
      "('About to Rock', 'AC/DC', 'Who Made Who', 'Metal')\n",
      "('Who Made Who', 'AC/DC', 'Who Made Who', 'Metal')\n"
     ]
    }
   ],
   "source": [
    "for row in curr:\n",
    "    print(row)"
   ]
  }
 ],
 "metadata": {
  "kernelspec": {
   "display_name": "Python 3",
   "language": "python",
   "name": "python3"
  },
  "language_info": {
   "codemirror_mode": {
    "name": "ipython",
    "version": 3
   },
   "file_extension": ".py",
   "mimetype": "text/x-python",
   "name": "python",
   "nbconvert_exporter": "python",
   "pygments_lexer": "ipython3",
   "version": "3.6.7"
  },
  "toc": {
   "base_numbering": 1,
   "nav_menu": {},
   "number_sections": true,
   "sideBar": true,
   "skip_h1_title": false,
   "title_cell": "Table of Contents",
   "title_sidebar": "Contents",
   "toc_cell": false,
   "toc_position": {},
   "toc_section_display": true,
   "toc_window_display": true
  }
 },
 "nbformat": 4,
 "nbformat_minor": 2
}

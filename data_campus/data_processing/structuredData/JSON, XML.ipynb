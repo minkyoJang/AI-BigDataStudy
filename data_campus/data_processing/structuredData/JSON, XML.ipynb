{
 "cells": [
  {
   "cell_type": "markdown",
   "metadata": {},
   "source": [
    "# JSON "
   ]
  },
  {
   "cell_type": "markdown",
   "metadata": {},
   "source": [
    "## dump / dumps\n",
    "- dump : 파일에 사용\n",
    "- dumps : 메모리에 사용, 파일 포인터 파라미터 없다"
   ]
  },
  {
   "cell_type": "code",
   "execution_count": 1,
   "metadata": {
    "ExecuteTime": {
     "end_time": "2019-07-10T02:21:17.625518Z",
     "start_time": "2019-07-10T02:21:17.620526Z"
    }
   },
   "outputs": [],
   "source": [
    "import json"
   ]
  },
  {
   "cell_type": "code",
   "execution_count": 7,
   "metadata": {
    "ExecuteTime": {
     "end_time": "2019-07-10T02:28:16.692944Z",
     "start_time": "2019-07-10T02:28:16.684976Z"
    }
   },
   "outputs": [
    {
     "name": "stdout",
     "output_type": "stream",
     "text": [
      "('Kim', 'Lee', 'Park')\n",
      "[30, 28, 31]\n",
      "{'name': 'Kim', 'age': 30, 'car': False}\n"
     ]
    }
   ],
   "source": [
    "name = (\"Kim\", \"Lee\", \"Park\")\n",
    "age = [30, 28, 31]\n",
    "person = {\"name\":\"Kim\", \"age\":30, \"car\":False}\n",
    "print(name)\n",
    "print(age)\n",
    "print(person)"
   ]
  },
  {
   "cell_type": "code",
   "execution_count": 5,
   "metadata": {
    "ExecuteTime": {
     "end_time": "2019-07-10T02:24:40.029734Z",
     "start_time": "2019-07-10T02:24:40.021749Z"
    }
   },
   "outputs": [
    {
     "name": "stdout",
     "output_type": "stream",
     "text": [
      "[\"Kim\", \"Lee\", \"Park\"]\n",
      "[30, 28, 31]\n",
      "{\n",
      " \"name\": \"Kim\",\n",
      " \"age\": 30,\n",
      " \"car\": false\n",
      "}\n"
     ]
    }
   ],
   "source": [
    "nameStr = json.dumps(name)\n",
    "ageStr = json.dumps(age)\n",
    "personStr = json.dumps(person, indent=\" \")\n",
    "print(nameStr)\n",
    "print(ageStr)\n",
    "print(personStr)"
   ]
  },
  {
   "cell_type": "code",
   "execution_count": 4,
   "metadata": {
    "ExecuteTime": {
     "end_time": "2019-07-10T02:23:47.836712Z",
     "start_time": "2019-07-10T02:23:47.823735Z"
    }
   },
   "outputs": [
    {
     "name": "stdout",
     "output_type": "stream",
     "text": [
      "[\"\\uae40\", \"\\uc774\", \"\\ubc15\"]\n",
      "[\"김\", \"이\", \"박\"]\n"
     ]
    }
   ],
   "source": [
    "kname = (\"김\", \"이\", \"박\")\n",
    "knameStr = json.dumps(kname)\n",
    "print(knameStr)\n",
    "\n",
    "knameStr = json.dumps(kname, ensure_ascii=False)\n",
    "print(knameStr)"
   ]
  },
  {
   "cell_type": "markdown",
   "metadata": {},
   "source": [
    "## load / loads\n"
   ]
  },
  {
   "cell_type": "code",
   "execution_count": 6,
   "metadata": {
    "ExecuteTime": {
     "end_time": "2019-07-10T02:27:46.589353Z",
     "start_time": "2019-07-10T02:27:46.566898Z"
    }
   },
   "outputs": [
    {
     "data": {
      "text/plain": [
       "True"
      ]
     },
     "execution_count": 6,
     "metadata": {},
     "output_type": "execute_result"
    }
   ],
   "source": [
    "personObj = json.loads(personStr)\n",
    "person == personObj"
   ]
  },
  {
   "cell_type": "markdown",
   "metadata": {},
   "source": [
    "## with a file "
   ]
  },
  {
   "cell_type": "code",
   "execution_count": 8,
   "metadata": {
    "ExecuteTime": {
     "end_time": "2019-07-10T02:29:29.340541Z",
     "start_time": "2019-07-10T02:29:29.315089Z"
    }
   },
   "outputs": [],
   "source": [
    "person['car'] = [\"레이\", \"모닝\"]\n",
    "\n",
    "with open(\"persion.json\", \"w\") as f:\n",
    "    json.dump(person, f)"
   ]
  },
  {
   "cell_type": "code",
   "execution_count": 9,
   "metadata": {
    "ExecuteTime": {
     "end_time": "2019-07-10T02:30:09.951273Z",
     "start_time": "2019-07-10T02:30:09.938796Z"
    }
   },
   "outputs": [
    {
     "data": {
      "text/plain": [
       "{'name': 'Kim', 'age': 30, 'car': ['레이', '모닝']}"
      ]
     },
     "execution_count": 9,
     "metadata": {},
     "output_type": "execute_result"
    }
   ],
   "source": [
    "with open(\"persion.json\", \"r\") as f:\n",
    "    personObj = json.load(f)\n",
    "    \n",
    "personObj"
   ]
  },
  {
   "cell_type": "markdown",
   "metadata": {},
   "source": [
    "## 예제"
   ]
  },
  {
   "cell_type": "code",
   "execution_count": 10,
   "metadata": {
    "ExecuteTime": {
     "end_time": "2019-07-10T02:31:52.818832Z",
     "start_time": "2019-07-10T02:31:52.812843Z"
    }
   },
   "outputs": [],
   "source": [
    "import urllib.request"
   ]
  },
  {
   "cell_type": "code",
   "execution_count": 12,
   "metadata": {
    "ExecuteTime": {
     "end_time": "2019-07-10T02:42:44.194389Z",
     "start_time": "2019-07-10T02:42:43.538796Z"
    }
   },
   "outputs": [
    {
     "ename": "HTTPError",
     "evalue": "HTTP Error 503: Service Unavailable",
     "output_type": "error",
     "traceback": [
      "\u001b[1;31m---------------------------------------------------------------------------\u001b[0m",
      "\u001b[1;31mHTTPError\u001b[0m                                 Traceback (most recent call last)",
      "\u001b[1;32m<ipython-input-12-b03f3d1bf938>\u001b[0m in \u001b[0;36m<module>\u001b[1;34m\u001b[0m\n\u001b[0;32m      8\u001b[0m     \u001b[1;34m'content-type'\u001b[0m\u001b[1;33m:\u001b[0m\u001b[1;34m'application/json'\u001b[0m\u001b[1;33m\u001b[0m\u001b[1;33m\u001b[0m\u001b[0m\n\u001b[0;32m      9\u001b[0m })\n\u001b[1;32m---> 10\u001b[1;33m \u001b[0mres\u001b[0m \u001b[1;33m=\u001b[0m \u001b[0murllib\u001b[0m\u001b[1;33m.\u001b[0m\u001b[0mrequest\u001b[0m\u001b[1;33m.\u001b[0m\u001b[0murlopen\u001b[0m\u001b[1;33m(\u001b[0m\u001b[0mreq\u001b[0m\u001b[1;33m)\u001b[0m\u001b[1;33m\u001b[0m\u001b[1;33m\u001b[0m\u001b[0m\n\u001b[0m\u001b[0;32m     11\u001b[0m \u001b[1;33m\u001b[0m\u001b[0m\n\u001b[0;32m     12\u001b[0m \u001b[0mresByte\u001b[0m \u001b[1;33m=\u001b[0m \u001b[0mres\u001b[0m\u001b[1;33m.\u001b[0m\u001b[0mread\u001b[0m\u001b[1;33m(\u001b[0m\u001b[1;33m)\u001b[0m\u001b[1;33m\u001b[0m\u001b[1;33m\u001b[0m\u001b[0m\n",
      "\u001b[1;32m~\\Anaconda3\\lib\\urllib\\request.py\u001b[0m in \u001b[0;36murlopen\u001b[1;34m(url, data, timeout, cafile, capath, cadefault, context)\u001b[0m\n\u001b[0;32m    221\u001b[0m     \u001b[1;32melse\u001b[0m\u001b[1;33m:\u001b[0m\u001b[1;33m\u001b[0m\u001b[1;33m\u001b[0m\u001b[0m\n\u001b[0;32m    222\u001b[0m         \u001b[0mopener\u001b[0m \u001b[1;33m=\u001b[0m \u001b[0m_opener\u001b[0m\u001b[1;33m\u001b[0m\u001b[1;33m\u001b[0m\u001b[0m\n\u001b[1;32m--> 223\u001b[1;33m     \u001b[1;32mreturn\u001b[0m \u001b[0mopener\u001b[0m\u001b[1;33m.\u001b[0m\u001b[0mopen\u001b[0m\u001b[1;33m(\u001b[0m\u001b[0murl\u001b[0m\u001b[1;33m,\u001b[0m \u001b[0mdata\u001b[0m\u001b[1;33m,\u001b[0m \u001b[0mtimeout\u001b[0m\u001b[1;33m)\u001b[0m\u001b[1;33m\u001b[0m\u001b[1;33m\u001b[0m\u001b[0m\n\u001b[0m\u001b[0;32m    224\u001b[0m \u001b[1;33m\u001b[0m\u001b[0m\n\u001b[0;32m    225\u001b[0m \u001b[1;32mdef\u001b[0m \u001b[0minstall_opener\u001b[0m\u001b[1;33m(\u001b[0m\u001b[0mopener\u001b[0m\u001b[1;33m)\u001b[0m\u001b[1;33m:\u001b[0m\u001b[1;33m\u001b[0m\u001b[1;33m\u001b[0m\u001b[0m\n",
      "\u001b[1;32m~\\Anaconda3\\lib\\urllib\\request.py\u001b[0m in \u001b[0;36mopen\u001b[1;34m(self, fullurl, data, timeout)\u001b[0m\n\u001b[0;32m    530\u001b[0m         \u001b[1;32mfor\u001b[0m \u001b[0mprocessor\u001b[0m \u001b[1;32min\u001b[0m \u001b[0mself\u001b[0m\u001b[1;33m.\u001b[0m\u001b[0mprocess_response\u001b[0m\u001b[1;33m.\u001b[0m\u001b[0mget\u001b[0m\u001b[1;33m(\u001b[0m\u001b[0mprotocol\u001b[0m\u001b[1;33m,\u001b[0m \u001b[1;33m[\u001b[0m\u001b[1;33m]\u001b[0m\u001b[1;33m)\u001b[0m\u001b[1;33m:\u001b[0m\u001b[1;33m\u001b[0m\u001b[1;33m\u001b[0m\u001b[0m\n\u001b[0;32m    531\u001b[0m             \u001b[0mmeth\u001b[0m \u001b[1;33m=\u001b[0m \u001b[0mgetattr\u001b[0m\u001b[1;33m(\u001b[0m\u001b[0mprocessor\u001b[0m\u001b[1;33m,\u001b[0m \u001b[0mmeth_name\u001b[0m\u001b[1;33m)\u001b[0m\u001b[1;33m\u001b[0m\u001b[1;33m\u001b[0m\u001b[0m\n\u001b[1;32m--> 532\u001b[1;33m             \u001b[0mresponse\u001b[0m \u001b[1;33m=\u001b[0m \u001b[0mmeth\u001b[0m\u001b[1;33m(\u001b[0m\u001b[0mreq\u001b[0m\u001b[1;33m,\u001b[0m \u001b[0mresponse\u001b[0m\u001b[1;33m)\u001b[0m\u001b[1;33m\u001b[0m\u001b[1;33m\u001b[0m\u001b[0m\n\u001b[0m\u001b[0;32m    533\u001b[0m \u001b[1;33m\u001b[0m\u001b[0m\n\u001b[0;32m    534\u001b[0m         \u001b[1;32mreturn\u001b[0m \u001b[0mresponse\u001b[0m\u001b[1;33m\u001b[0m\u001b[1;33m\u001b[0m\u001b[0m\n",
      "\u001b[1;32m~\\Anaconda3\\lib\\urllib\\request.py\u001b[0m in \u001b[0;36mhttp_response\u001b[1;34m(self, request, response)\u001b[0m\n\u001b[0;32m    640\u001b[0m         \u001b[1;32mif\u001b[0m \u001b[1;32mnot\u001b[0m \u001b[1;33m(\u001b[0m\u001b[1;36m200\u001b[0m \u001b[1;33m<=\u001b[0m \u001b[0mcode\u001b[0m \u001b[1;33m<\u001b[0m \u001b[1;36m300\u001b[0m\u001b[1;33m)\u001b[0m\u001b[1;33m:\u001b[0m\u001b[1;33m\u001b[0m\u001b[1;33m\u001b[0m\u001b[0m\n\u001b[0;32m    641\u001b[0m             response = self.parent.error(\n\u001b[1;32m--> 642\u001b[1;33m                 'http', request, response, code, msg, hdrs)\n\u001b[0m\u001b[0;32m    643\u001b[0m \u001b[1;33m\u001b[0m\u001b[0m\n\u001b[0;32m    644\u001b[0m         \u001b[1;32mreturn\u001b[0m \u001b[0mresponse\u001b[0m\u001b[1;33m\u001b[0m\u001b[1;33m\u001b[0m\u001b[0m\n",
      "\u001b[1;32m~\\Anaconda3\\lib\\urllib\\request.py\u001b[0m in \u001b[0;36merror\u001b[1;34m(self, proto, *args)\u001b[0m\n\u001b[0;32m    568\u001b[0m         \u001b[1;32mif\u001b[0m \u001b[0mhttp_err\u001b[0m\u001b[1;33m:\u001b[0m\u001b[1;33m\u001b[0m\u001b[1;33m\u001b[0m\u001b[0m\n\u001b[0;32m    569\u001b[0m             \u001b[0margs\u001b[0m \u001b[1;33m=\u001b[0m \u001b[1;33m(\u001b[0m\u001b[0mdict\u001b[0m\u001b[1;33m,\u001b[0m \u001b[1;34m'default'\u001b[0m\u001b[1;33m,\u001b[0m \u001b[1;34m'http_error_default'\u001b[0m\u001b[1;33m)\u001b[0m \u001b[1;33m+\u001b[0m \u001b[0morig_args\u001b[0m\u001b[1;33m\u001b[0m\u001b[1;33m\u001b[0m\u001b[0m\n\u001b[1;32m--> 570\u001b[1;33m             \u001b[1;32mreturn\u001b[0m \u001b[0mself\u001b[0m\u001b[1;33m.\u001b[0m\u001b[0m_call_chain\u001b[0m\u001b[1;33m(\u001b[0m\u001b[1;33m*\u001b[0m\u001b[0margs\u001b[0m\u001b[1;33m)\u001b[0m\u001b[1;33m\u001b[0m\u001b[1;33m\u001b[0m\u001b[0m\n\u001b[0m\u001b[0;32m    571\u001b[0m \u001b[1;33m\u001b[0m\u001b[0m\n\u001b[0;32m    572\u001b[0m \u001b[1;31m# XXX probably also want an abstract factory that knows when it makes\u001b[0m\u001b[1;33m\u001b[0m\u001b[1;33m\u001b[0m\u001b[1;33m\u001b[0m\u001b[0m\n",
      "\u001b[1;32m~\\Anaconda3\\lib\\urllib\\request.py\u001b[0m in \u001b[0;36m_call_chain\u001b[1;34m(self, chain, kind, meth_name, *args)\u001b[0m\n\u001b[0;32m    502\u001b[0m         \u001b[1;32mfor\u001b[0m \u001b[0mhandler\u001b[0m \u001b[1;32min\u001b[0m \u001b[0mhandlers\u001b[0m\u001b[1;33m:\u001b[0m\u001b[1;33m\u001b[0m\u001b[1;33m\u001b[0m\u001b[0m\n\u001b[0;32m    503\u001b[0m             \u001b[0mfunc\u001b[0m \u001b[1;33m=\u001b[0m \u001b[0mgetattr\u001b[0m\u001b[1;33m(\u001b[0m\u001b[0mhandler\u001b[0m\u001b[1;33m,\u001b[0m \u001b[0mmeth_name\u001b[0m\u001b[1;33m)\u001b[0m\u001b[1;33m\u001b[0m\u001b[1;33m\u001b[0m\u001b[0m\n\u001b[1;32m--> 504\u001b[1;33m             \u001b[0mresult\u001b[0m \u001b[1;33m=\u001b[0m \u001b[0mfunc\u001b[0m\u001b[1;33m(\u001b[0m\u001b[1;33m*\u001b[0m\u001b[0margs\u001b[0m\u001b[1;33m)\u001b[0m\u001b[1;33m\u001b[0m\u001b[1;33m\u001b[0m\u001b[0m\n\u001b[0m\u001b[0;32m    505\u001b[0m             \u001b[1;32mif\u001b[0m \u001b[0mresult\u001b[0m \u001b[1;32mis\u001b[0m \u001b[1;32mnot\u001b[0m \u001b[1;32mNone\u001b[0m\u001b[1;33m:\u001b[0m\u001b[1;33m\u001b[0m\u001b[1;33m\u001b[0m\u001b[0m\n\u001b[0;32m    506\u001b[0m                 \u001b[1;32mreturn\u001b[0m \u001b[0mresult\u001b[0m\u001b[1;33m\u001b[0m\u001b[1;33m\u001b[0m\u001b[0m\n",
      "\u001b[1;32m~\\Anaconda3\\lib\\urllib\\request.py\u001b[0m in \u001b[0;36mhttp_error_default\u001b[1;34m(self, req, fp, code, msg, hdrs)\u001b[0m\n\u001b[0;32m    648\u001b[0m \u001b[1;32mclass\u001b[0m \u001b[0mHTTPDefaultErrorHandler\u001b[0m\u001b[1;33m(\u001b[0m\u001b[0mBaseHandler\u001b[0m\u001b[1;33m)\u001b[0m\u001b[1;33m:\u001b[0m\u001b[1;33m\u001b[0m\u001b[1;33m\u001b[0m\u001b[0m\n\u001b[0;32m    649\u001b[0m     \u001b[1;32mdef\u001b[0m \u001b[0mhttp_error_default\u001b[0m\u001b[1;33m(\u001b[0m\u001b[0mself\u001b[0m\u001b[1;33m,\u001b[0m \u001b[0mreq\u001b[0m\u001b[1;33m,\u001b[0m \u001b[0mfp\u001b[0m\u001b[1;33m,\u001b[0m \u001b[0mcode\u001b[0m\u001b[1;33m,\u001b[0m \u001b[0mmsg\u001b[0m\u001b[1;33m,\u001b[0m \u001b[0mhdrs\u001b[0m\u001b[1;33m)\u001b[0m\u001b[1;33m:\u001b[0m\u001b[1;33m\u001b[0m\u001b[1;33m\u001b[0m\u001b[0m\n\u001b[1;32m--> 650\u001b[1;33m         \u001b[1;32mraise\u001b[0m \u001b[0mHTTPError\u001b[0m\u001b[1;33m(\u001b[0m\u001b[0mreq\u001b[0m\u001b[1;33m.\u001b[0m\u001b[0mfull_url\u001b[0m\u001b[1;33m,\u001b[0m \u001b[0mcode\u001b[0m\u001b[1;33m,\u001b[0m \u001b[0mmsg\u001b[0m\u001b[1;33m,\u001b[0m \u001b[0mhdrs\u001b[0m\u001b[1;33m,\u001b[0m \u001b[0mfp\u001b[0m\u001b[1;33m)\u001b[0m\u001b[1;33m\u001b[0m\u001b[1;33m\u001b[0m\u001b[0m\n\u001b[0m\u001b[0;32m    651\u001b[0m \u001b[1;33m\u001b[0m\u001b[0m\n\u001b[0;32m    652\u001b[0m \u001b[1;32mclass\u001b[0m \u001b[0mHTTPRedirectHandler\u001b[0m\u001b[1;33m(\u001b[0m\u001b[0mBaseHandler\u001b[0m\u001b[1;33m)\u001b[0m\u001b[1;33m:\u001b[0m\u001b[1;33m\u001b[0m\u001b[1;33m\u001b[0m\u001b[0m\n",
      "\u001b[1;31mHTTPError\u001b[0m: HTTP Error 503: Service Unavailable"
     ]
    }
   ],
   "source": [
    "url = \"http://ip.jsontest.com\"\n",
    "\n",
    "obj = {\"name\":\"남궁찬\", \"age\":30}\n",
    "objStr = json.dumps(obj)\n",
    "objByte = objStr.encode(\"utf-8\")\n",
    "\n",
    "req = urllib.request.Request(url, data=objByte, headers={\n",
    "    'content-type':'application/json'\n",
    "})\n",
    "res = urllib.request.urlopen(req)\n",
    "\n",
    "resByte = res.read()\n",
    "resStr = resByte.decode('utf-8')\n",
    "resObj = json.loads(resStr)\n",
    "\n",
    "print(resByte, type(resByte))\n",
    "print(resStr, type(resStr))\n",
    "print(resObj, type(resObj))"
   ]
  },
  {
   "cell_type": "markdown",
   "metadata": {},
   "source": [
    "### Open API"
   ]
  },
  {
   "cell_type": "code",
   "execution_count": 104,
   "metadata": {
    "ExecuteTime": {
     "end_time": "2019-07-10T05:25:00.063956Z",
     "start_time": "2019-07-10T05:24:59.361852Z"
    },
    "scrolled": true
   },
   "outputs": [
    {
     "name": "stdout",
     "output_type": "stream",
     "text": [
      "<class 'str'>\n",
      "<class 'bytes'>\n",
      "<class 'bytes'>\n",
      "<class 'str'>\n",
      "<class 'dict'>\n",
      "<class 'str'>\n"
     ]
    }
   ],
   "source": [
    "url = \"http://openapi.airkorea.or.kr/openapi/services/rest/ArpltnInforInqireSvc/getCtprvnRltmMesureDnsty\"\n",
    "\n",
    "params ={\n",
    "    \"ServiceKey\" : \"C4W9%2Fd8IlGwY%2Bevhcji%2B7%2FvFdLfOATYrbASRCle%2FAfnz%2BnNhefYyUkc1vibsttgJ1vKr8xBTktP%2BjoR35OGHYA%3D%3D\",\n",
    "    \"sidoName\" : \"서울\",\n",
    "    \"_returnType\" : \"JSON\",\n",
    "}\n",
    "params[\"ServiceKey\"] = urllib.parse.unquote(params[\"ServiceKey\"])\n",
    "params = urllib.parse.urlencode(params)\n",
    "print(type(params))\n",
    "params = params.encode('utf-8')\n",
    "print(type(params))\n",
    "\n",
    "req = urllib.request.Request(url, data=params)\n",
    "res = urllib.request.urlopen(req)\n",
    "\n",
    "resStr = res.read()\n",
    "print(type(resStr))\n",
    "resStr = resStr.decode('utf-8')\n",
    "print(type(resStr))\n",
    "resObj = json.loads(resStr)\n",
    "print(type(resObj))\n",
    "resJSON = json.dumps(resObj, indent='\\t', ensure_ascii=False) ## String 으로 변환\n",
    "print(type(resJSON))\n",
    "# print(resJSON)"
   ]
  },
  {
   "cell_type": "code",
   "execution_count": 105,
   "metadata": {
    "ExecuteTime": {
     "end_time": "2019-07-10T05:25:03.331618Z",
     "start_time": "2019-07-10T05:25:03.321636Z"
    }
   },
   "outputs": [
    {
     "data": {
      "text/plain": [
       "dict_keys(['list', 'parm', 'ArpltnInforInqireSvcVo', 'totalCount'])"
      ]
     },
     "execution_count": 105,
     "metadata": {},
     "output_type": "execute_result"
    }
   ],
   "source": [
    "resObj.keys()"
   ]
  },
  {
   "cell_type": "code",
   "execution_count": 106,
   "metadata": {
    "ExecuteTime": {
     "end_time": "2019-07-10T05:25:13.173994Z",
     "start_time": "2019-07-10T05:25:13.154035Z"
    }
   },
   "outputs": [
    {
     "data": {
      "text/plain": [
       "[{'_returnType': 'json',\n",
       "  'coGrade': '1',\n",
       "  'coValue': '0.3',\n",
       "  'dataTerm': '',\n",
       "  'dataTime': '2019-07-10 14:00',\n",
       "  'khaiGrade': '2',\n",
       "  'khaiValue': '54',\n",
       "  'mangName': '도시대기',\n",
       "  'no2Grade': '1',\n",
       "  'no2Value': '0.018',\n",
       "  'numOfRows': '10',\n",
       "  'o3Grade': '2',\n",
       "  'o3Value': '0.035',\n",
       "  'pageNo': '1',\n",
       "  'pm10Grade': '1',\n",
       "  'pm10Grade1h': '1',\n",
       "  'pm10Value': '12',\n",
       "  'pm10Value24': '11',\n",
       "  'pm25Grade': '1',\n",
       "  'pm25Grade1h': '1',\n",
       "  'pm25Value': '8',\n",
       "  'pm25Value24': '6',\n",
       "  'resultCode': '',\n",
       "  'resultMsg': '',\n",
       "  'rnum': 0,\n",
       "  'serviceKey': '',\n",
       "  'sidoName': '',\n",
       "  'so2Grade': '1',\n",
       "  'so2Value': '0.002',\n",
       "  'stationCode': '',\n",
       "  'stationName': '중구',\n",
       "  'totalCount': '',\n",
       "  'ver': ''},\n",
       " {'_returnType': 'json',\n",
       "  'coGrade': '1',\n",
       "  'coValue': '0.3',\n",
       "  'dataTerm': '',\n",
       "  'dataTime': '2019-07-10 14:00',\n",
       "  'khaiGrade': '1',\n",
       "  'khaiValue': '45',\n",
       "  'mangName': '도로변대기',\n",
       "  'no2Grade': '1',\n",
       "  'no2Value': '0.027',\n",
       "  'numOfRows': '10',\n",
       "  'o3Grade': '1',\n",
       "  'o3Value': '0.021',\n",
       "  'pageNo': '1',\n",
       "  'pm10Grade': '1',\n",
       "  'pm10Grade1h': '1',\n",
       "  'pm10Value': '21',\n",
       "  'pm10Value24': '23',\n",
       "  'pm25Grade': '1',\n",
       "  'pm25Grade1h': '1',\n",
       "  'pm25Value': '5',\n",
       "  'pm25Value24': '9',\n",
       "  'resultCode': '',\n",
       "  'resultMsg': '',\n",
       "  'rnum': 0,\n",
       "  'serviceKey': '',\n",
       "  'sidoName': '',\n",
       "  'so2Grade': '1',\n",
       "  'so2Value': '0.004',\n",
       "  'stationCode': '',\n",
       "  'stationName': '한강대로',\n",
       "  'totalCount': '',\n",
       "  'ver': ''},\n",
       " {'_returnType': 'json',\n",
       "  'coGrade': '1',\n",
       "  'coValue': '0.3',\n",
       "  'dataTerm': '',\n",
       "  'dataTime': '2019-07-10 14:00',\n",
       "  'khaiGrade': '2',\n",
       "  'khaiValue': '51',\n",
       "  'mangName': '도시대기',\n",
       "  'no2Grade': '1',\n",
       "  'no2Value': '0.012',\n",
       "  'numOfRows': '10',\n",
       "  'o3Grade': '2',\n",
       "  'o3Value': '0.031',\n",
       "  'pageNo': '1',\n",
       "  'pm10Grade': '1',\n",
       "  'pm10Grade1h': '1',\n",
       "  'pm10Value': '13',\n",
       "  'pm10Value24': '11',\n",
       "  'pm25Grade': '1',\n",
       "  'pm25Grade1h': '1',\n",
       "  'pm25Value': '7',\n",
       "  'pm25Value24': '6',\n",
       "  'resultCode': '',\n",
       "  'resultMsg': '',\n",
       "  'rnum': 0,\n",
       "  'serviceKey': '',\n",
       "  'sidoName': '',\n",
       "  'so2Grade': '1',\n",
       "  'so2Value': '0.002',\n",
       "  'stationCode': '',\n",
       "  'stationName': '종로구',\n",
       "  'totalCount': '',\n",
       "  'ver': ''},\n",
       " {'_returnType': 'json',\n",
       "  'coGrade': '1',\n",
       "  'coValue': '0.6',\n",
       "  'dataTerm': '',\n",
       "  'dataTime': '2019-07-10 14:00',\n",
       "  'khaiGrade': '1',\n",
       "  'khaiValue': '50',\n",
       "  'mangName': '도로변대기',\n",
       "  'no2Grade': '1',\n",
       "  'no2Value': '0.018',\n",
       "  'numOfRows': '10',\n",
       "  'o3Grade': '1',\n",
       "  'o3Value': '0.030',\n",
       "  'pageNo': '1',\n",
       "  'pm10Grade': '1',\n",
       "  'pm10Grade1h': '1',\n",
       "  'pm10Value': '15',\n",
       "  'pm10Value24': '15',\n",
       "  'pm25Grade': '1',\n",
       "  'pm25Grade1h': '1',\n",
       "  'pm25Value': '9',\n",
       "  'pm25Value24': '9',\n",
       "  'resultCode': '',\n",
       "  'resultMsg': '',\n",
       "  'rnum': 0,\n",
       "  'serviceKey': '',\n",
       "  'sidoName': '',\n",
       "  'so2Grade': '1',\n",
       "  'so2Value': '0.003',\n",
       "  'stationCode': '',\n",
       "  'stationName': '청계천로',\n",
       "  'totalCount': '',\n",
       "  'ver': ''},\n",
       " {'_returnType': 'json',\n",
       "  'coGrade': '1',\n",
       "  'coValue': '0.5',\n",
       "  'dataTerm': '',\n",
       "  'dataTime': '2019-07-10 14:00',\n",
       "  'khaiGrade': '2',\n",
       "  'khaiValue': '51',\n",
       "  'mangName': '도로변대기',\n",
       "  'no2Grade': '2',\n",
       "  'no2Value': '0.031',\n",
       "  'numOfRows': '10',\n",
       "  'o3Grade': '1',\n",
       "  'o3Value': '0.023',\n",
       "  'pageNo': '1',\n",
       "  'pm10Grade': '1',\n",
       "  'pm10Grade1h': '1',\n",
       "  'pm10Value': '13',\n",
       "  'pm10Value24': '12',\n",
       "  'pm25Grade': '1',\n",
       "  'pm25Grade1h': '1',\n",
       "  'pm25Value': '5',\n",
       "  'pm25Value24': '4',\n",
       "  'resultCode': '',\n",
       "  'resultMsg': '',\n",
       "  'rnum': 0,\n",
       "  'serviceKey': '',\n",
       "  'sidoName': '',\n",
       "  'so2Grade': '1',\n",
       "  'so2Value': '0.003',\n",
       "  'stationCode': '',\n",
       "  'stationName': '종로',\n",
       "  'totalCount': '',\n",
       "  'ver': ''},\n",
       " {'_returnType': 'json',\n",
       "  'coGrade': '1',\n",
       "  'coValue': '0.2',\n",
       "  'dataTerm': '',\n",
       "  'dataTime': '2019-07-10 14:00',\n",
       "  'khaiGrade': '2',\n",
       "  'khaiValue': '58',\n",
       "  'mangName': '도시대기',\n",
       "  'no2Grade': '1',\n",
       "  'no2Value': '0.007',\n",
       "  'numOfRows': '10',\n",
       "  'o3Grade': '2',\n",
       "  'o3Value': '0.040',\n",
       "  'pageNo': '1',\n",
       "  'pm10Grade': '1',\n",
       "  'pm10Grade1h': '1',\n",
       "  'pm10Value': '6',\n",
       "  'pm10Value24': '5',\n",
       "  'pm25Grade': '1',\n",
       "  'pm25Grade1h': '1',\n",
       "  'pm25Value': '5',\n",
       "  'pm25Value24': '5',\n",
       "  'resultCode': '',\n",
       "  'resultMsg': '',\n",
       "  'rnum': 0,\n",
       "  'serviceKey': '',\n",
       "  'sidoName': '',\n",
       "  'so2Grade': '',\n",
       "  'so2Value': '-',\n",
       "  'stationCode': '',\n",
       "  'stationName': '용산구',\n",
       "  'totalCount': '',\n",
       "  'ver': ''},\n",
       " {'_returnType': 'json',\n",
       "  'coGrade': '1',\n",
       "  'coValue': '0.4',\n",
       "  'dataTerm': '',\n",
       "  'dataTime': '2019-07-10 14:00',\n",
       "  'khaiGrade': '',\n",
       "  'khaiValue': '-',\n",
       "  'mangName': '도시대기',\n",
       "  'no2Grade': '1',\n",
       "  'no2Value': '0.011',\n",
       "  'numOfRows': '10',\n",
       "  'o3Grade': '1',\n",
       "  'o3Value': '0.030',\n",
       "  'pageNo': '1',\n",
       "  'pm10Grade': '',\n",
       "  'pm10Grade1h': '1',\n",
       "  'pm10Value': '12',\n",
       "  'pm10Value24': '-',\n",
       "  'pm25Grade': '1',\n",
       "  'pm25Grade1h': '1',\n",
       "  'pm25Value': '4',\n",
       "  'pm25Value24': '10',\n",
       "  'resultCode': '',\n",
       "  'resultMsg': '',\n",
       "  'rnum': 0,\n",
       "  'serviceKey': '',\n",
       "  'sidoName': '',\n",
       "  'so2Grade': '1',\n",
       "  'so2Value': '0.003',\n",
       "  'stationCode': '',\n",
       "  'stationName': '광진구',\n",
       "  'totalCount': '',\n",
       "  'ver': ''},\n",
       " {'_returnType': 'json',\n",
       "  'coGrade': '1',\n",
       "  'coValue': '0.2',\n",
       "  'dataTerm': '',\n",
       "  'dataTime': '2019-07-10 14:00',\n",
       "  'khaiGrade': '2',\n",
       "  'khaiValue': '58',\n",
       "  'mangName': '도시대기',\n",
       "  'no2Grade': '1',\n",
       "  'no2Value': '0.011',\n",
       "  'numOfRows': '10',\n",
       "  'o3Grade': '2',\n",
       "  'o3Value': '0.039',\n",
       "  'pageNo': '1',\n",
       "  'pm10Grade': '1',\n",
       "  'pm10Grade1h': '1',\n",
       "  'pm10Value': '24',\n",
       "  'pm10Value24': '18',\n",
       "  'pm25Grade': '1',\n",
       "  'pm25Grade1h': '1',\n",
       "  'pm25Value': '7',\n",
       "  'pm25Value24': '8',\n",
       "  'resultCode': '',\n",
       "  'resultMsg': '',\n",
       "  'rnum': 0,\n",
       "  'serviceKey': '',\n",
       "  'sidoName': '',\n",
       "  'so2Grade': '1',\n",
       "  'so2Value': '0.004',\n",
       "  'stationCode': '',\n",
       "  'stationName': '성동구',\n",
       "  'totalCount': '',\n",
       "  'ver': ''},\n",
       " {'_returnType': 'json',\n",
       "  'coGrade': '1',\n",
       "  'coValue': '0.1',\n",
       "  'dataTerm': '',\n",
       "  'dataTime': '2019-07-10 14:00',\n",
       "  'khaiGrade': '2',\n",
       "  'khaiValue': '56',\n",
       "  'mangName': '도로변대기',\n",
       "  'no2Grade': '1',\n",
       "  'no2Value': '0.010',\n",
       "  'numOfRows': '10',\n",
       "  'o3Grade': '2',\n",
       "  'o3Value': '0.037',\n",
       "  'pageNo': '1',\n",
       "  'pm10Grade': '1',\n",
       "  'pm10Grade1h': '1',\n",
       "  'pm10Value': '7',\n",
       "  'pm10Value24': '9',\n",
       "  'pm25Grade': '1',\n",
       "  'pm25Grade1h': '1',\n",
       "  'pm25Value': '3',\n",
       "  'pm25Value24': '4',\n",
       "  'resultCode': '',\n",
       "  'resultMsg': '',\n",
       "  'rnum': 0,\n",
       "  'serviceKey': '',\n",
       "  'sidoName': '',\n",
       "  'so2Grade': '1',\n",
       "  'so2Value': '0.004',\n",
       "  'stationCode': '',\n",
       "  'stationName': '강변북로',\n",
       "  'totalCount': '',\n",
       "  'ver': ''},\n",
       " {'_returnType': 'json',\n",
       "  'coGrade': '1',\n",
       "  'coValue': '0.2',\n",
       "  'dataTerm': '',\n",
       "  'dataTime': '2019-07-10 14:00',\n",
       "  'khaiGrade': '2',\n",
       "  'khaiValue': '56',\n",
       "  'mangName': '도시대기',\n",
       "  'no2Grade': '1',\n",
       "  'no2Value': '0.009',\n",
       "  'numOfRows': '10',\n",
       "  'o3Grade': '2',\n",
       "  'o3Value': '0.037',\n",
       "  'pageNo': '1',\n",
       "  'pm10Grade': '1',\n",
       "  'pm10Grade1h': '1',\n",
       "  'pm10Value': '9',\n",
       "  'pm10Value24': '7',\n",
       "  'pm25Grade': '1',\n",
       "  'pm25Grade1h': '1',\n",
       "  'pm25Value': '8',\n",
       "  'pm25Value24': '6',\n",
       "  'resultCode': '',\n",
       "  'resultMsg': '',\n",
       "  'rnum': 0,\n",
       "  'serviceKey': '',\n",
       "  'sidoName': '',\n",
       "  'so2Grade': '1',\n",
       "  'so2Value': '0.005',\n",
       "  'stationCode': '',\n",
       "  'stationName': '중랑구',\n",
       "  'totalCount': '',\n",
       "  'ver': ''}]"
      ]
     },
     "execution_count": 106,
     "metadata": {},
     "output_type": "execute_result"
    }
   ],
   "source": [
    "resObj['list']"
   ]
  },
  {
   "cell_type": "code",
   "execution_count": 107,
   "metadata": {
    "ExecuteTime": {
     "end_time": "2019-07-10T05:25:39.334801Z",
     "start_time": "2019-07-10T05:25:39.327816Z"
    }
   },
   "outputs": [
    {
     "data": {
      "text/plain": [
       "10"
      ]
     },
     "execution_count": 107,
     "metadata": {},
     "output_type": "execute_result"
    }
   ],
   "source": [
    "len(resObj['list'])"
   ]
  },
  {
   "cell_type": "code",
   "execution_count": 108,
   "metadata": {
    "ExecuteTime": {
     "end_time": "2019-07-10T05:25:40.187068Z",
     "start_time": "2019-07-10T05:25:40.178600Z"
    }
   },
   "outputs": [
    {
     "data": {
      "text/plain": [
       "'8'"
      ]
     },
     "execution_count": 108,
     "metadata": {},
     "output_type": "execute_result"
    }
   ],
   "source": [
    "resObj['list'][0]['pm25Value']"
   ]
  },
  {
   "cell_type": "code",
   "execution_count": 109,
   "metadata": {
    "ExecuteTime": {
     "end_time": "2019-07-10T05:25:41.497562Z",
     "start_time": "2019-07-10T05:25:41.490077Z"
    }
   },
   "outputs": [
    {
     "data": {
      "text/plain": [
       "'중구'"
      ]
     },
     "execution_count": 109,
     "metadata": {},
     "output_type": "execute_result"
    }
   ],
   "source": [
    "resObj['list'][0]['stationName']"
   ]
  },
  {
   "cell_type": "code",
   "execution_count": 112,
   "metadata": {
    "ExecuteTime": {
     "end_time": "2019-07-10T06:24:58.582151Z",
     "start_time": "2019-07-10T06:24:58.545220Z"
    }
   },
   "outputs": [
    {
     "data": {
      "text/plain": [
       "[{'중구': '8'},\n",
       " {'한강대로': '5'},\n",
       " {'종로구': '7'},\n",
       " {'청계천로': '9'},\n",
       " {'종로': '5'},\n",
       " {'용산구': '5'},\n",
       " {'광진구': '4'},\n",
       " {'성동구': '7'},\n",
       " {'강변북로': '3'},\n",
       " {'중랑구': '8'}]"
      ]
     },
     "execution_count": 112,
     "metadata": {},
     "output_type": "execute_result"
    }
   ],
   "source": [
    "[{items['stationName']:items['pm25Value']} for items in resObj['list']]"
   ]
  },
  {
   "cell_type": "markdown",
   "metadata": {},
   "source": [
    "# XML "
   ]
  },
  {
   "cell_type": "markdown",
   "metadata": {},
   "source": [
    "## Create "
   ]
  },
  {
   "cell_type": "code",
   "execution_count": 113,
   "metadata": {
    "ExecuteTime": {
     "end_time": "2019-07-10T06:25:29.734545Z",
     "start_time": "2019-07-10T06:25:29.120668Z"
    }
   },
   "outputs": [],
   "source": [
    "import xml.etree.ElementTree as et\n",
    "from lxml import etree"
   ]
  },
  {
   "cell_type": "code",
   "execution_count": 115,
   "metadata": {
    "ExecuteTime": {
     "end_time": "2019-07-10T06:30:17.689926Z",
     "start_time": "2019-07-10T06:30:17.678448Z"
    }
   },
   "outputs": [
    {
     "name": "stdout",
     "output_type": "stream",
     "text": [
      "<bookstore><book category=\"cooking\"><title lang=\"en\">Everyday Italian</title><author>Giada De Laurentiis</author><year>2005</year><price>30.00</price></book></bookstore>\n"
     ]
    }
   ],
   "source": [
    "bookstore = et.Element(\"bookstore\")\n",
    "\n",
    "book1 = et.Element(\"book\", category=\"cooking\")\n",
    "bookstore.insert(0, book1)\n",
    "\n",
    "title1 = et.Element('title')\n",
    "title1.attrib[\"lang\"] = \"en\"\n",
    "title1.text = \"Everyday Italian\"\n",
    "book1.append(title1)\n",
    "\n",
    "et.SubElement(book1, \"author\").text = \"Giada De Laurentiis\"\n",
    "et.SubElement(book1, \"year\").text = \"2005\"\n",
    "et.SubElement(book1, \"price\").text = \"30.00\"\n",
    "\n",
    "et.dump(bookstore)"
   ]
  },
  {
   "cell_type": "code",
   "execution_count": 116,
   "metadata": {
    "ExecuteTime": {
     "end_time": "2019-07-10T06:32:58.041665Z",
     "start_time": "2019-07-10T06:32:58.029188Z"
    }
   },
   "outputs": [
    {
     "name": "stdout",
     "output_type": "stream",
     "text": [
      "<bookstore><book category=\"cooking\"><title lang=\"en\">Everyday Italian</title><author>Giada De Laurentiis</author><year>2005</year><price>30.00</price><author>Giada De Laurentiis</author><year>2005</year><price>30.00</price></book><book category=\"children\"><title lang=\"en\">Harry Potter</title></book></bookstore>\n"
     ]
    }
   ],
   "source": [
    "book2 = et.Element(\"book\",{\"category\" : \"children\"})\n",
    "bookstore.append(book2)\n",
    "\n",
    "title2 = et.Element(\"title\")\n",
    "title2.attrib[\"lang\"] = title1.get(\"lang\")\n",
    "title2.text = \"Harry Potter\"\n",
    "book2.append(title2)\n",
    "\n",
    "et.SubElement(book1, \"author\").text = \"Giada De Laurentiis\"\n",
    "et.SubElement(book1, \"year\").text = \"2005\"\n",
    "et.SubElement(book1, \"price\").text = \"30.00\"\n",
    "\n",
    "et.dump(bookstore)"
   ]
  },
  {
   "cell_type": "code",
   "execution_count": 127,
   "metadata": {
    "ExecuteTime": {
     "end_time": "2019-07-10T06:34:37.533315Z",
     "start_time": "2019-07-10T06:34:37.525346Z"
    }
   },
   "outputs": [
    {
     "name": "stdout",
     "output_type": "stream",
     "text": [
      "<bookstore><book category=\"cooking\"><title lang=\"en\">Everyday Italian</title><author>Giada De Laurentiis</author><year>2005</year><price>30.00</price><author>Giada De Laurentiis</author><year>2005</year><price>30.00</price></book><book category=\"children\"><title lang=\"en\">Harry Potter</title></book></bookstore>\n"
     ]
    }
   ],
   "source": [
    "et.dump(bookstore)"
   ]
  },
  {
   "cell_type": "markdown",
   "metadata": {},
   "source": [
    "## Parsing"
   ]
  },
  {
   "cell_type": "code",
   "execution_count": 128,
   "metadata": {
    "ExecuteTime": {
     "end_time": "2019-07-10T06:43:30.875999Z",
     "start_time": "2019-07-10T06:43:30.847552Z"
    }
   },
   "outputs": [
    {
     "name": "stdout",
     "output_type": "stream",
     "text": [
      "book cooking\n",
      "book cooking\n",
      "book children\n",
      "<class 'xml.etree.ElementTree.Element'> Everyday Italian\n",
      "['Everyday Italian', 'Harry Potter']\n",
      "<class 'str'> Everyday Italian\n",
      "<Element 'book' at 0x00000247BDE3A908> book\n"
     ]
    }
   ],
   "source": [
    "root = et.XML(et.tostring(bookstore))\n",
    "\n",
    "book = root.find(\"book\")\n",
    "print(book.tag, book.get(\"category\"))\n",
    "\n",
    "bookList = root.findall(\"book\")\n",
    "for book in bookList:\n",
    "    print(book.tag, book.get(\"category\"))\n",
    "    \n",
    "title = root.find(\".//title\")\n",
    "print(type(title), title.text)\n",
    "\n",
    "titleList = root.findall(\".//title\")\n",
    "print([title.text for title in titleList])\n",
    "\n",
    "title = root.findtext(\".//title\")\n",
    "print(type(title), title)\n",
    "\n",
    "book = root.find(\".//book[@category='children']\")\n",
    "print(book, book.tag)"
   ]
  },
  {
   "cell_type": "markdown",
   "metadata": {},
   "source": [
    "## write "
   ]
  },
  {
   "cell_type": "code",
   "execution_count": 131,
   "metadata": {
    "ExecuteTime": {
     "end_time": "2019-07-10T07:07:35.833475Z",
     "start_time": "2019-07-10T07:07:35.806523Z"
    }
   },
   "outputs": [],
   "source": [
    "tree = et.ElementTree(root)\n",
    "tree.write(\"book_xml.xml\", encoding=\"utf-8\", xml_declaration=\"utf-8\")"
   ]
  },
  {
   "cell_type": "code",
   "execution_count": 133,
   "metadata": {
    "ExecuteTime": {
     "end_time": "2019-07-10T07:07:44.197365Z",
     "start_time": "2019-07-10T07:07:44.139972Z"
    }
   },
   "outputs": [
    {
     "name": "stdout",
     "output_type": "stream",
     "text": [
      " E 드라이브의 볼륨: 로컬 디스크\n",
      " 볼륨 일련 번호: 5203-F739\n",
      "\n",
      " E:\\data_campus\\structured_data 디렉터리\n",
      "\n",
      "2019-07-10  오후 04:07    <DIR>          .\n",
      "2019-07-10  오후 04:07    <DIR>          ..\n",
      "2019-07-10  오전 11:19    <DIR>          .ipynb_checkpoints\n",
      "2019-07-10  오전 11:07               213 a.html\n",
      "2019-07-10  오후 01:05           643,589 airkorea_openapi_guide-v1_7_2.docx\n",
      "2019-07-10  오후 04:07               352 book_xml.xml\n",
      "2019-07-08  오후 04:16            12,288 create.db\n",
      "2019-07-10  오후 03:06             8,850 Database.md\n",
      "2019-07-10  오전 11:21         7,548,230 JSON+XML.pdf\n",
      "2019-07-10  오후 04:07            36,731 JSON, XML.ipynb\n",
      "2019-07-08  오후 05:35            40,960 music.db\n",
      "2019-07-09  오후 05:42         6,246,014 ORM(1).pdf\n",
      "2019-07-09  오후 05:42            69,865 ORM, RE.ipynb\n",
      "2019-07-10  오전 11:29                67 persion.json\n",
      "2019-07-08  오후 08:15            31,767 RDBMS.ipynb\n",
      "2019-07-08  오후 06:00         9,342,996 RDBMS.pdf\n",
      "2019-07-09  오전 11:35            12,288 tag.db\n",
      "2019-07-10  오전 11:18                72 Untitled.ipynb\n",
      "              15개 파일          23,994,282 바이트\n",
      "               3개 디렉터리   5,560,799,232 바이트 남음\n"
     ]
    }
   ],
   "source": [
    "!dir"
   ]
  },
  {
   "cell_type": "code",
   "execution_count": 134,
   "metadata": {
    "ExecuteTime": {
     "end_time": "2019-07-10T07:08:39.953960Z",
     "start_time": "2019-07-10T07:08:39.942981Z"
    }
   },
   "outputs": [
    {
     "name": "stdout",
     "output_type": "stream",
     "text": [
      "bookstore None\n",
      "book None\n",
      "title Everyday Italian\n",
      "author Giada De Laurentiis\n",
      "year 2005\n",
      "price 30.00\n",
      "author Giada De Laurentiis\n",
      "year 2005\n",
      "price 30.00\n",
      "book None\n",
      "title Harry Potter\n"
     ]
    }
   ],
   "source": [
    "tree = et.parse(\"book_xml.xml\")\n",
    "root = tree.getroot()\n",
    "\n",
    "for node in root.iter():\n",
    "    print(node.tag, node.text)"
   ]
  },
  {
   "cell_type": "code",
   "execution_count": 146,
   "metadata": {
    "ExecuteTime": {
     "end_time": "2019-07-10T07:11:48.314635Z",
     "start_time": "2019-07-10T07:11:48.305151Z"
    }
   },
   "outputs": [
    {
     "name": "stdout",
     "output_type": "stream",
     "text": [
      "[\"<?xml version='1.0' encoding='utf-8'?>\\n\",\n",
      " '<bookstore><book category=\"cooking\"><title lang=\"en\">Everyday '\n",
      " 'Italian</title><author>Giada De '\n",
      " 'Laurentiis</author><year>2005</year><price>30.00</price><author>Giada De '\n",
      " 'Laurentiis</author><year>2005</year><price>30.00</price></book><book '\n",
      " 'category=\"children\"><title lang=\"en\">Harry Potter</title></book></bookstore>']\n"
     ]
    }
   ],
   "source": [
    "with open('./book_xml.xml') as xml:\n",
    "    pprint.pprint(xml.readlines())"
   ]
  },
  {
   "cell_type": "code",
   "execution_count": 137,
   "metadata": {
    "ExecuteTime": {
     "end_time": "2019-07-10T07:10:24.968491Z",
     "start_time": "2019-07-10T07:10:24.957511Z"
    }
   },
   "outputs": [
    {
     "name": "stdout",
     "output_type": "stream",
     "text": [
      "bookstore None\n",
      "book None\n",
      "title Everyday Italian\n",
      "author Giada De Laurentiis\n",
      "year 2005\n",
      "price 30.00\n",
      "author Giada De Laurentiis\n",
      "year 2005\n",
      "price 30.00\n",
      "book None\n",
      "title Harry Potter\n"
     ]
    }
   ],
   "source": [
    "tree = et.ElementTree(file=\"./book_xml.xml\")\n",
    "root = tree.getroot()\n",
    "for node in root.iter():\n",
    "    print(node.tag, node.text)"
   ]
  },
  {
   "cell_type": "markdown",
   "metadata": {},
   "source": [
    " ## lXML"
   ]
  },
  {
   "cell_type": "code",
   "execution_count": 152,
   "metadata": {
    "ExecuteTime": {
     "end_time": "2019-07-10T07:21:05.719352Z",
     "start_time": "2019-07-10T07:21:05.699389Z"
    }
   },
   "outputs": [
    {
     "name": "stdout",
     "output_type": "stream",
     "text": [
      "4\n",
      "<class 'bytes'> <class 'str'>\n",
      "<bookstore>\n",
      "  <book category=\"cooking\">\n",
      "    <title lang=\"en\">Everyday Italian</title>\n",
      "    <author>Giada De Laurentiis</author>\n",
      "    <year>2005</year>\n",
      "    <price>30.00</price>\n",
      "  </book>\n",
      "  <book category=\"children\">\n",
      "    <title lang=\"en\">Harry Potter</title>\n",
      "    <author>Giada De Laurentiis</author>\n",
      "    <year>2005</year>\n",
      "    <price>30.00</price>\n",
      "  </book>\n",
      "</bookstore>\n"
     ]
    }
   ],
   "source": [
    "bookstore = etree.Element(\"bookstore\")\n",
    "\n",
    "book1 = etree.SubElement(bookstore, \"book\")\n",
    "book2 = etree.SubElement(bookstore, \"book\",attrib={\"category\" : \"children\"})\n",
    "\n",
    "book1.attrib[\"category\"] = \"cooking\"\n",
    "\n",
    "title1 = etree.Element('title',lang=\"en\")\n",
    "title1.text = \"Everyday Italian\"\n",
    "book1.append(title1)\n",
    "\n",
    "etree.SubElement(book1, \"author\").text = \"Giada De Laurentiis\"\n",
    "etree.SubElement(book1, \"year\").text = \"2005\"\n",
    "etree.SubElement(book1, \"price\").text = \"30.00\"\n",
    "\n",
    "title2 = etree.Element(\"title\")\n",
    "title2.set(\"lang\", title1.get(\"lang\"))\n",
    "title2.text = \"Harry Potter\"\n",
    "book2.append(title2)\n",
    "\n",
    "etree.SubElement(book2, \"author\").text = \"Giada De Laurentiis\"\n",
    "etree.SubElement(book2, \"year\").text = \"2005\"\n",
    "book2.insert(3, etree.Element(\"price\"))\n",
    "\n",
    "print(len(book2))\n",
    "book2[-1].text = \"30.00\"\n",
    "\n",
    "xmlBytes = etree.tostring(bookstore, encoding='utf-8', pretty_print=True, xml_declaration=True)\n",
    "xmlStr = etree.tounicode(bookstore, pretty_print=True)\n",
    "print(type(xmlBytes), type(xmlStr))\n",
    "\n",
    "etree.dump(bookstore)"
   ]
  },
  {
   "cell_type": "code",
   "execution_count": 153,
   "metadata": {
    "ExecuteTime": {
     "end_time": "2019-07-10T07:24:50.997648Z",
     "start_time": "2019-07-10T07:24:50.966209Z"
    }
   },
   "outputs": [
    {
     "name": "stdout",
     "output_type": "stream",
     "text": [
      "2\n",
      "book {'category': 'cooking'}\n",
      "book {'category': 'children'}\n"
     ]
    }
   ],
   "source": [
    "xml = etree.XML(etree.tostring(bookstore))\n",
    "xmlTree = etree.ElementTree(xml)\n",
    "xmlRoot = xmlTree.getroot()\n",
    "\n",
    "print(len(xmlRoot))\n",
    "for childNode in xmlRoot:\n",
    "    print(childNode.tag, childNode.attrib)"
   ]
  },
  {
   "cell_type": "markdown",
   "metadata": {},
   "source": [
    "-------------------------"
   ]
  },
  {
   "cell_type": "code",
   "execution_count": 183,
   "metadata": {
    "ExecuteTime": {
     "end_time": "2019-07-10T07:43:47.964749Z",
     "start_time": "2019-07-10T07:43:47.363365Z"
    }
   },
   "outputs": [
    {
     "name": "stdout",
     "output_type": "stream",
     "text": [
      "<class 'str'>\n",
      "<class 'bytes'>\n",
      "<class 'bytes'>\n",
      "<?xml version=\"1.0\" encoding=\"UTF-8\"?>\n",
      "\n",
      "\n",
      "\n",
      "\n",
      "<response>\n",
      "\t<header>\n",
      "\t\t<resultCode>00</resultCode>\n",
      "\t\t<resultMsg>NORMAL SERVICE.</resultMsg>\n",
      "\t</header>\n",
      "\t<body>\n",
      "\t\t<items>\n",
      "\t\t\t\n",
      "\t\t\t\t<item>\n",
      "\t\t\t\t\t<stationName>중구</stationName>\n",
      "\t\t\t\t\t\n",
      "\t\t\t\t\t<dataTime>2019-07-10 16:00</dataTime>\n",
      "\t\t\t\t\t<so2Value>0.002</so2Value>\n",
      "\t\t\t\t\t<coValue>0.3</coValue>\n",
      "\t\t\t\t\t<o3Value>0.029</o3Value>\n",
      "\t\t\t\t\t<no2Value>0.021</no2Value>\n",
      "\t\t\t\t\t<pm10Value>11</pm10Value>\n",
      "\t\t\t\t\t\n",
      "\t\t\t\t\t\n",
      "\t\t\t\t        <pm25Value>6</pm25Value>\n",
      "\t\t\t\t    \n",
      "\t\t\t\t    \n",
      "\t\t\t\t\t<khaiValue>48</khaiValue>\n",
      "\t\t\t\t\t<khaiGrade>1</khaiGrade>\n",
      "\t\t\t\t\t<so2Grade>1</so2Grade>\n",
      "\t\t\t\t\t<coGrade>1</coGrade>\n",
      "\t\t\t\t\t<o3Grade>1</o3Grade>\n",
      "\t\t\t\t\t<no2Grade>1</no2Grade>\n",
      "\t\t\t\t\t<pm10Grade>1</pm10Grade>\n",
      "\t\t\t\t\t\n",
      "\t\t\t\t        <pm25Grade>1</pm25Grade>\n",
      "\t\t\t\t    \n",
      "\t\t\t\t    \n",
      "\t\t\t\t</item>\n",
      "\t\t\t\n",
      "\t\t\t\t<item>\n",
      "\t\t\t\t\t<stationName>한강대로</stationName>\n",
      "\t\t\t\t\t\n",
      "\t\t\t\t\t<dataTime>2019-07-10 16:00</dataTime>\n",
      "\t\t\t\t\t<so2Value>0.003</so2Value>\n",
      "\t\t\t\t\t<coValue>0.3</coValue>\n",
      "\t\t\t\t\t<o3Value>0.018</o3Value>\n",
      "\t\t\t\t\t<no2Value>0.026</no2Value>\n",
      "\t\t\t\t\t<pm10Value>17</pm10Value>\n",
      "\t\t\t\t\t\n",
      "\t\t\t\t\t\n",
      "\t\t\t\t        <pm25Value>5</pm25Value>\n",
      "\t\t\t\t    \n",
      "\t\t\t\t    \n",
      "\t\t\t\t\t<khaiValue>43</khaiValue>\n",
      "\t\t\t\t\t<khaiGrade>1</khaiGrade>\n",
      "\t\t\t\t\t<so2Grade>1</so2Grade>\n",
      "\t\t\t\t\t<coGrade>1</coGrade>\n",
      "\t\t\t\t\t<o3Grade>1</o3Grade>\n",
      "\t\t\t\t\t<no2Grade>1</no2Grade>\n",
      "\t\t\t\t\t<pm10Grade>1</pm10Grade>\n",
      "\t\t\t\t\t\n",
      "\t\t\t\t        <pm25Grade>1</pm25Grade>\n",
      "\t\t\t\t    \n",
      "\t\t\t\t    \n",
      "\t\t\t\t</item>\n",
      "\t\t\t\n",
      "\t\t\t\t<item>\n",
      "\t\t\t\t\t<stationName>종로구</stationName>\n",
      "\t\t\t\t\t\n",
      "\t\t\t\t\t<dataTime>2019-07-10 16:00</dataTime>\n",
      "\t\t\t\t\t<so2Value>0.003</so2Value>\n",
      "\t\t\t\t\t<coValue>0.4</coValue>\n",
      "\t\t\t\t\t<o3Value>0.027</o3Value>\n",
      "\t\t\t\t\t<no2Value>0.012</no2Value>\n",
      "\t\t\t\t\t<pm10Value>12</pm10Value>\n",
      "\t\t\t\t\t\n",
      "\t\t\t\t\t\n",
      "\t\t\t\t        <pm25Value>6</pm25Value>\n",
      "\t\t\t\t    \n",
      "\t\t\t\t    \n",
      "\t\t\t\t\t<khaiValue>45</khaiValue>\n",
      "\t\t\t\t\t<khaiGrade>1</khaiGrade>\n",
      "\t\t\t\t\t<so2Grade>1</so2Grade>\n",
      "\t\t\t\t\t<coGrade>1</coGrade>\n",
      "\t\t\t\t\t<o3Grade>1</o3Grade>\n",
      "\t\t\t\t\t<no2Grade>1</no2Grade>\n",
      "\t\t\t\t\t<pm10Grade>1</pm10Grade>\n",
      "\t\t\t\t\t\n",
      "\t\t\t\t        <pm25Grade>1</pm25Grade>\n",
      "\t\t\t\t    \n",
      "\t\t\t\t    \n",
      "\t\t\t\t</item>\n",
      "\t\t\t\n",
      "\t\t\t\t<item>\n",
      "\t\t\t\t\t<stationName>청계천로</stationName>\n",
      "\t\t\t\t\t\n",
      "\t\t\t\t\t<dataTime>2019-07-10 16:00</dataTime>\n",
      "\t\t\t\t\t<so2Value>0.003</so2Value>\n",
      "\t\t\t\t\t<coValue>0.6</coValue>\n",
      "\t\t\t\t\t<o3Value>0.026</o3Value>\n",
      "\t\t\t\t\t<no2Value>0.023</no2Value>\n",
      "\t\t\t\t\t<pm10Value>14</pm10Value>\n",
      "\t\t\t\t\t\n",
      "\t\t\t\t\t\n",
      "\t\t\t\t        <pm25Value>7</pm25Value>\n",
      "\t\t\t\t    \n",
      "\t\t\t\t    \n",
      "\t\t\t\t\t<khaiValue>43</khaiValue>\n",
      "\t\t\t\t\t<khaiGrade>1</khaiGrade>\n",
      "\t\t\t\t\t<so2Grade>1</so2Grade>\n",
      "\t\t\t\t\t<coGrade>1</coGrade>\n",
      "\t\t\t\t\t<o3Grade>1</o3Grade>\n",
      "\t\t\t\t\t<no2Grade>1</no2Grade>\n",
      "\t\t\t\t\t<pm10Grade>1</pm10Grade>\n",
      "\t\t\t\t\t\n",
      "\t\t\t\t        <pm25Grade>1</pm25Grade>\n",
      "\t\t\t\t    \n",
      "\t\t\t\t    \n",
      "\t\t\t\t</item>\n",
      "\t\t\t\n",
      "\t\t\t\t<item>\n",
      "\t\t\t\t\t<stationName>종로</stationName>\n",
      "\t\t\t\t\t\n",
      "\t\t\t\t\t<dataTime>2019-07-10 16:00</dataTime>\n",
      "\t\t\t\t\t<so2Value>0.003</so2Value>\n",
      "\t\t\t\t\t<coValue>0.5</coValue>\n",
      "\t\t\t\t\t<o3Value>0.018</o3Value>\n",
      "\t\t\t\t\t<no2Value>0.033</no2Value>\n",
      "\t\t\t\t\t<pm10Value>12</pm10Value>\n",
      "\t\t\t\t\t\n",
      "\t\t\t\t\t\n",
      "\t\t\t\t        <pm25Value>5</pm25Value>\n",
      "\t\t\t\t    \n",
      "\t\t\t\t    \n",
      "\t\t\t\t\t<khaiValue>54</khaiValue>\n",
      "\t\t\t\t\t<khaiGrade>2</khaiGrade>\n",
      "\t\t\t\t\t<so2Grade>1</so2Grade>\n",
      "\t\t\t\t\t<coGrade>1</coGrade>\n",
      "\t\t\t\t\t<o3Grade>1</o3Grade>\n",
      "\t\t\t\t\t<no2Grade>2</no2Grade>\n",
      "\t\t\t\t\t<pm10Grade>1</pm10Grade>\n",
      "\t\t\t\t\t\n",
      "\t\t\t\t        <pm25Grade>1</pm25Grade>\n",
      "\t\t\t\t    \n",
      "\t\t\t\t    \n",
      "\t\t\t\t</item>\n",
      "\t\t\t\n",
      "\t\t\t\t<item>\n",
      "\t\t\t\t\t<stationName>용산구</stationName>\n",
      "\t\t\t\t\t\n",
      "\t\t\t\t\t<dataTime>2019-07-10 16:00</dataTime>\n",
      "\t\t\t\t\t<so2Value>-</so2Value>\n",
      "\t\t\t\t\t<coValue>0.2</coValue>\n",
      "\t\t\t\t\t<o3Value>0.037</o3Value>\n",
      "\t\t\t\t\t<no2Value>0.006</no2Value>\n",
      "\t\t\t\t\t<pm10Value>7</pm10Value>\n",
      "\t\t\t\t\t\n",
      "\t\t\t\t\t\n",
      "\t\t\t\t        <pm25Value>6</pm25Value>\n",
      "\t\t\t\t    \n",
      "\t\t\t\t    \n",
      "\t\t\t\t\t<khaiValue>56</khaiValue>\n",
      "\t\t\t\t\t<khaiGrade>2</khaiGrade>\n",
      "\t\t\t\t\t<so2Grade></so2Grade>\n",
      "\t\t\t\t\t<coGrade>1</coGrade>\n",
      "\t\t\t\t\t<o3Grade>2</o3Grade>\n",
      "\t\t\t\t\t<no2Grade>1</no2Grade>\n",
      "\t\t\t\t\t<pm10Grade>1</pm10Grade>\n",
      "\t\t\t\t\t\n",
      "\t\t\t\t        <pm25Grade>1</pm25Grade>\n",
      "\t\t\t\t    \n",
      "\t\t\t\t    \n",
      "\t\t\t\t</item>\n",
      "\t\t\t\n",
      "\t\t\t\t<item>\n",
      "\t\t\t\t\t<stationName>광진구</stationName>\n",
      "\t\t\t\t\t\n",
      "\t\t\t\t\t<dataTime>2019-07-10 16:00</dataTime>\n",
      "\t\t\t\t\t<so2Value>0.003</so2Value>\n",
      "\t\t\t\t\t<coValue>0.4</coValue>\n",
      "\t\t\t\t\t<o3Value>0.026</o3Value>\n",
      "\t\t\t\t\t<no2Value>0.012</no2Value>\n",
      "\t\t\t\t\t<pm10Value>9</pm10Value>\n",
      "\t\t\t\t\t\n",
      "\t\t\t\t\t\n",
      "\t\t\t\t        <pm25Value>-</pm25Value>\n",
      "\t\t\t\t    \n",
      "\t\t\t\t    \n",
      "\t\t\t\t\t<khaiValue>-</khaiValue>\n",
      "\t\t\t\t\t<khaiGrade></khaiGrade>\n",
      "\t\t\t\t\t<so2Grade>1</so2Grade>\n",
      "\t\t\t\t\t<coGrade>1</coGrade>\n",
      "\t\t\t\t\t<o3Grade>1</o3Grade>\n",
      "\t\t\t\t\t<no2Grade>1</no2Grade>\n",
      "\t\t\t\t\t<pm10Grade></pm10Grade>\n",
      "\t\t\t\t\t\n",
      "\t\t\t\t        <pm25Grade>1</pm25Grade>\n",
      "\t\t\t\t    \n",
      "\t\t\t\t    \n",
      "\t\t\t\t</item>\n",
      "\t\t\t\n",
      "\t\t\t\t<item>\n",
      "\t\t\t\t\t<stationName>성동구</stationName>\n",
      "\t\t\t\t\t\n",
      "\t\t\t\t\t<dataTime>2019-07-10 16:00</dataTime>\n",
      "\t\t\t\t\t<so2Value>0.003</so2Value>\n",
      "\t\t\t\t\t<coValue>0.2</coValue>\n",
      "\t\t\t\t\t<o3Value>0.036</o3Value>\n",
      "\t\t\t\t\t<no2Value>0.010</no2Value>\n",
      "\t\t\t\t\t<pm10Value>15</pm10Value>\n",
      "\t\t\t\t\t\n",
      "\t\t\t\t\t\n",
      "\t\t\t\t        <pm25Value>5</pm25Value>\n",
      "\t\t\t\t    \n",
      "\t\t\t\t    \n",
      "\t\t\t\t\t<khaiValue>55</khaiValue>\n",
      "\t\t\t\t\t<khaiGrade>2</khaiGrade>\n",
      "\t\t\t\t\t<so2Grade>1</so2Grade>\n",
      "\t\t\t\t\t<coGrade>1</coGrade>\n",
      "\t\t\t\t\t<o3Grade>2</o3Grade>\n",
      "\t\t\t\t\t<no2Grade>1</no2Grade>\n",
      "\t\t\t\t\t<pm10Grade>1</pm10Grade>\n",
      "\t\t\t\t\t\n",
      "\t\t\t\t        <pm25Grade>1</pm25Grade>\n",
      "\t\t\t\t    \n",
      "\t\t\t\t    \n",
      "\t\t\t\t</item>\n",
      "\t\t\t\n",
      "\t\t\t\t<item>\n",
      "\t\t\t\t\t<stationName>강변북로</stationName>\n",
      "\t\t\t\t\t\n",
      "\t\t\t\t\t<dataTime>2019-07-10 16:00</dataTime>\n",
      "\t\t\t\t\t<so2Value>-</so2Value>\n",
      "\t\t\t\t\t<coValue>-</coValue>\n",
      "\t\t\t\t\t<o3Value>-</o3Value>\n",
      "\t\t\t\t\t<no2Value>-</no2Value>\n",
      "\t\t\t\t\t<pm10Value>9</pm10Value>\n",
      "\t\t\t\t\t\n",
      "\t\t\t\t\t\n",
      "\t\t\t\t        <pm25Value>3</pm25Value>\n",
      "\t\t\t\t    \n",
      "\t\t\t\t    \n",
      "\t\t\t\t\t<khaiValue>-</khaiValue>\n",
      "\t\t\t\t\t<khaiGrade></khaiGrade>\n",
      "\t\t\t\t\t<so2Grade></so2Grade>\n",
      "\t\t\t\t\t<coGrade></coGrade>\n",
      "\t\t\t\t\t<o3Grade></o3Grade>\n",
      "\t\t\t\t\t<no2Grade></no2Grade>\n",
      "\t\t\t\t\t<pm10Grade>1</pm10Grade>\n",
      "\t\t\t\t\t\n",
      "\t\t\t\t        <pm25Grade>1</pm25Grade>\n",
      "\t\t\t\t    \n",
      "\t\t\t\t    \n",
      "\t\t\t\t</item>\n",
      "\t\t\t\n",
      "\t\t\t\t<item>\n",
      "\t\t\t\t\t<stationName>중랑구</stationName>\n",
      "\t\t\t\t\t\n",
      "\t\t\t\t\t<dataTime>2019-07-10 16:00</dataTime>\n",
      "\t\t\t\t\t<so2Value>0.005</so2Value>\n",
      "\t\t\t\t\t<coValue>0.2</coValue>\n",
      "\t\t\t\t\t<o3Value>0.034</o3Value>\n",
      "\t\t\t\t\t<no2Value>0.008</no2Value>\n",
      "\t\t\t\t\t<pm10Value>9</pm10Value>\n",
      "\t\t\t\t\t\n",
      "\t\t\t\t\t\n",
      "\t\t\t\t        <pm25Value>6</pm25Value>\n",
      "\t\t\t\t    \n",
      "\t\t\t\t    \n",
      "\t\t\t\t\t<khaiValue>53</khaiValue>\n",
      "\t\t\t\t\t<khaiGrade>2</khaiGrade>\n",
      "\t\t\t\t\t<so2Grade>1</so2Grade>\n",
      "\t\t\t\t\t<coGrade>1</coGrade>\n",
      "\t\t\t\t\t<o3Grade>2</o3Grade>\n",
      "\t\t\t\t\t<no2Grade>1</no2Grade>\n",
      "\t\t\t\t\t<pm10Grade>1</pm10Grade>\n",
      "\t\t\t\t\t\n",
      "\t\t\t\t        <pm25Grade>1</pm25Grade>\n",
      "\t\t\t\t    \n",
      "\t\t\t\t    \n",
      "\t\t\t\t</item>\n",
      "\t\t\t\n",
      "\t\t</items>\n",
      "\t\t\t<numOfRows>10</numOfRows>\n",
      "\t\t\t<pageNo>1</pageNo>\n",
      "\t\t\t<totalCount>40</totalCount>\n",
      "\t</body>\n",
      "</response>\n",
      "\n"
     ]
    }
   ],
   "source": [
    "url = \"http://openapi.airkorea.or.kr/openapi/services/rest/ArpltnInforInqireSvc/getCtprvnRltmMesureDnsty\"\n",
    "\n",
    "params ={\n",
    "    \"ServiceKey\" : \"C4W9%2Fd8IlGwY%2Bevhcji%2B7%2FvFdLfOATYrbASRCle%2FAfnz%2BnNhefYyUkc1vibsttgJ1vKr8xBTktP%2BjoR35OGHYA%3D%3D\",\n",
    "    \"sidoName\" : \"서울\",\n",
    "    \"ver\":1.0\n",
    "}\n",
    "params[\"ServiceKey\"] = urllib.parse.unquote(params[\"ServiceKey\"])\n",
    "params = urllib.parse.urlencode(params)\n",
    "print(type(params))\n",
    "params = params.encode('utf-8')\n",
    "print(type(params))\n",
    "\n",
    "req = urllib.request.Request(url, data=params)\n",
    "res = urllib.request.urlopen(req)\n",
    "\n",
    "resStr = res.read()\n",
    "print(type(resStr))\n",
    "# resStr = resStr.decode('utf-8')\n",
    "# print(type(resStr))\n",
    "print(resStr.decode('utf-8'))"
   ]
  },
  {
   "cell_type": "code",
   "execution_count": 184,
   "metadata": {
    "ExecuteTime": {
     "end_time": "2019-07-10T07:43:48.005174Z",
     "start_time": "2019-07-10T07:43:47.971736Z"
    }
   },
   "outputs": [
    {
     "name": "stdout",
     "output_type": "stream",
     "text": [
      "response \n",
      "\t\n",
      "header \n",
      "\t\t\n",
      "resultCode 00\n",
      "resultMsg NORMAL SERVICE.\n",
      "body \n",
      "\t\t\n",
      "items \n",
      "\t\t\t\n",
      "\t\t\t\t\n",
      "item \n",
      "\t\t\t\t\t\n",
      "stationName 중구\n",
      "dataTime 2019-07-10 16:00\n",
      "so2Value 0.002\n",
      "coValue 0.3\n",
      "o3Value 0.029\n",
      "no2Value 0.021\n",
      "pm10Value 11\n",
      "pm25Value 6\n",
      "khaiValue 48\n",
      "khaiGrade 1\n",
      "so2Grade 1\n",
      "coGrade 1\n",
      "o3Grade 1\n",
      "no2Grade 1\n",
      "pm10Grade 1\n",
      "pm25Grade 1\n",
      "item \n",
      "\t\t\t\t\t\n",
      "stationName 한강대로\n",
      "dataTime 2019-07-10 16:00\n",
      "so2Value 0.003\n",
      "coValue 0.3\n",
      "o3Value 0.018\n",
      "no2Value 0.026\n",
      "pm10Value 17\n",
      "pm25Value 5\n",
      "khaiValue 43\n",
      "khaiGrade 1\n",
      "so2Grade 1\n",
      "coGrade 1\n",
      "o3Grade 1\n",
      "no2Grade 1\n",
      "pm10Grade 1\n",
      "pm25Grade 1\n",
      "item \n",
      "\t\t\t\t\t\n",
      "stationName 종로구\n",
      "dataTime 2019-07-10 16:00\n",
      "so2Value 0.003\n",
      "coValue 0.4\n",
      "o3Value 0.027\n",
      "no2Value 0.012\n",
      "pm10Value 12\n",
      "pm25Value 6\n",
      "khaiValue 45\n",
      "khaiGrade 1\n",
      "so2Grade 1\n",
      "coGrade 1\n",
      "o3Grade 1\n",
      "no2Grade 1\n",
      "pm10Grade 1\n",
      "pm25Grade 1\n",
      "item \n",
      "\t\t\t\t\t\n",
      "stationName 청계천로\n",
      "dataTime 2019-07-10 16:00\n",
      "so2Value 0.003\n",
      "coValue 0.6\n",
      "o3Value 0.026\n",
      "no2Value 0.023\n",
      "pm10Value 14\n",
      "pm25Value 7\n",
      "khaiValue 43\n",
      "khaiGrade 1\n",
      "so2Grade 1\n",
      "coGrade 1\n",
      "o3Grade 1\n",
      "no2Grade 1\n",
      "pm10Grade 1\n",
      "pm25Grade 1\n",
      "item \n",
      "\t\t\t\t\t\n",
      "stationName 종로\n",
      "dataTime 2019-07-10 16:00\n",
      "so2Value 0.003\n",
      "coValue 0.5\n",
      "o3Value 0.018\n",
      "no2Value 0.033\n",
      "pm10Value 12\n",
      "pm25Value 5\n",
      "khaiValue 54\n",
      "khaiGrade 2\n",
      "so2Grade 1\n",
      "coGrade 1\n",
      "o3Grade 1\n",
      "no2Grade 2\n",
      "pm10Grade 1\n",
      "pm25Grade 1\n",
      "item \n",
      "\t\t\t\t\t\n",
      "stationName 용산구\n",
      "dataTime 2019-07-10 16:00\n",
      "so2Value -\n",
      "coValue 0.2\n",
      "o3Value 0.037\n",
      "no2Value 0.006\n",
      "pm10Value 7\n",
      "pm25Value 6\n",
      "khaiValue 56\n",
      "khaiGrade 2\n",
      "so2Grade None\n",
      "coGrade 1\n",
      "o3Grade 2\n",
      "no2Grade 1\n",
      "pm10Grade 1\n",
      "pm25Grade 1\n",
      "item \n",
      "\t\t\t\t\t\n",
      "stationName 광진구\n",
      "dataTime 2019-07-10 16:00\n",
      "so2Value 0.003\n",
      "coValue 0.4\n",
      "o3Value 0.026\n",
      "no2Value 0.012\n",
      "pm10Value 9\n",
      "pm25Value -\n",
      "khaiValue -\n",
      "khaiGrade None\n",
      "so2Grade 1\n",
      "coGrade 1\n",
      "o3Grade 1\n",
      "no2Grade 1\n",
      "pm10Grade None\n",
      "pm25Grade 1\n",
      "item \n",
      "\t\t\t\t\t\n",
      "stationName 성동구\n",
      "dataTime 2019-07-10 16:00\n",
      "so2Value 0.003\n",
      "coValue 0.2\n",
      "o3Value 0.036\n",
      "no2Value 0.010\n",
      "pm10Value 15\n",
      "pm25Value 5\n",
      "khaiValue 55\n",
      "khaiGrade 2\n",
      "so2Grade 1\n",
      "coGrade 1\n",
      "o3Grade 2\n",
      "no2Grade 1\n",
      "pm10Grade 1\n",
      "pm25Grade 1\n",
      "item \n",
      "\t\t\t\t\t\n",
      "stationName 강변북로\n",
      "dataTime 2019-07-10 16:00\n",
      "so2Value -\n",
      "coValue -\n",
      "o3Value -\n",
      "no2Value -\n",
      "pm10Value 9\n",
      "pm25Value 3\n",
      "khaiValue -\n",
      "khaiGrade None\n",
      "so2Grade None\n",
      "coGrade None\n",
      "o3Grade None\n",
      "no2Grade None\n",
      "pm10Grade 1\n",
      "pm25Grade 1\n",
      "item \n",
      "\t\t\t\t\t\n",
      "stationName 중랑구\n",
      "dataTime 2019-07-10 16:00\n",
      "so2Value 0.005\n",
      "coValue 0.2\n",
      "o3Value 0.034\n",
      "no2Value 0.008\n",
      "pm10Value 9\n",
      "pm25Value 6\n",
      "khaiValue 53\n",
      "khaiGrade 2\n",
      "so2Grade 1\n",
      "coGrade 1\n",
      "o3Grade 2\n",
      "no2Grade 1\n",
      "pm10Grade 1\n",
      "pm25Grade 1\n",
      "numOfRows 10\n",
      "pageNo 1\n",
      "totalCount 40\n"
     ]
    }
   ],
   "source": [
    "xmlobj = etree.fromstring(resStr)\n",
    "xmlRoot = etree.ElementTree(xmlobj).getroot()\n",
    "\n",
    "# etree.dump(xmlRoot)\n",
    "\n",
    "for node in xmlRoot.iter():\n",
    "    print(node.tag, node.text)"
   ]
  },
  {
   "cell_type": "code",
   "execution_count": 185,
   "metadata": {
    "ExecuteTime": {
     "end_time": "2019-07-10T07:43:48.042106Z",
     "start_time": "2019-07-10T07:43:48.010664Z"
    },
    "scrolled": true
   },
   "outputs": [
    {
     "name": "stdout",
     "output_type": "stream",
     "text": [
      "10\n",
      "stationName 중구\n",
      "dataTime 2019-07-10 16:00\n",
      "so2Value 0.002\n",
      "coValue 0.3\n",
      "o3Value 0.029\n",
      "no2Value 0.021\n",
      "pm10Value 11\n",
      "pm25Value 6\n",
      "khaiValue 48\n",
      "khaiGrade 1\n",
      "so2Grade 1\n",
      "coGrade 1\n",
      "o3Grade 1\n",
      "no2Grade 1\n",
      "pm10Grade 1\n",
      "pm25Grade 1\n",
      "stationName 한강대로\n",
      "dataTime 2019-07-10 16:00\n",
      "so2Value 0.003\n",
      "coValue 0.3\n",
      "o3Value 0.018\n",
      "no2Value 0.026\n",
      "pm10Value 17\n",
      "pm25Value 5\n",
      "khaiValue 43\n",
      "khaiGrade 1\n",
      "so2Grade 1\n",
      "coGrade 1\n",
      "o3Grade 1\n",
      "no2Grade 1\n",
      "pm10Grade 1\n",
      "pm25Grade 1\n",
      "stationName 종로구\n",
      "dataTime 2019-07-10 16:00\n",
      "so2Value 0.003\n",
      "coValue 0.4\n",
      "o3Value 0.027\n",
      "no2Value 0.012\n",
      "pm10Value 12\n",
      "pm25Value 6\n",
      "khaiValue 45\n",
      "khaiGrade 1\n",
      "so2Grade 1\n",
      "coGrade 1\n",
      "o3Grade 1\n",
      "no2Grade 1\n",
      "pm10Grade 1\n",
      "pm25Grade 1\n",
      "stationName 청계천로\n",
      "dataTime 2019-07-10 16:00\n",
      "so2Value 0.003\n",
      "coValue 0.6\n",
      "o3Value 0.026\n",
      "no2Value 0.023\n",
      "pm10Value 14\n",
      "pm25Value 7\n",
      "khaiValue 43\n",
      "khaiGrade 1\n",
      "so2Grade 1\n",
      "coGrade 1\n",
      "o3Grade 1\n",
      "no2Grade 1\n",
      "pm10Grade 1\n",
      "pm25Grade 1\n",
      "stationName 종로\n",
      "dataTime 2019-07-10 16:00\n",
      "so2Value 0.003\n",
      "coValue 0.5\n",
      "o3Value 0.018\n",
      "no2Value 0.033\n",
      "pm10Value 12\n",
      "pm25Value 5\n",
      "khaiValue 54\n",
      "khaiGrade 2\n",
      "so2Grade 1\n",
      "coGrade 1\n",
      "o3Grade 1\n",
      "no2Grade 2\n",
      "pm10Grade 1\n",
      "pm25Grade 1\n",
      "stationName 용산구\n",
      "dataTime 2019-07-10 16:00\n",
      "so2Value -\n",
      "coValue 0.2\n",
      "o3Value 0.037\n",
      "no2Value 0.006\n",
      "pm10Value 7\n",
      "pm25Value 6\n",
      "khaiValue 56\n",
      "khaiGrade 2\n",
      "so2Grade None\n",
      "coGrade 1\n",
      "o3Grade 2\n",
      "no2Grade 1\n",
      "pm10Grade 1\n",
      "pm25Grade 1\n",
      "stationName 광진구\n",
      "dataTime 2019-07-10 16:00\n",
      "so2Value 0.003\n",
      "coValue 0.4\n",
      "o3Value 0.026\n",
      "no2Value 0.012\n",
      "pm10Value 9\n",
      "pm25Value -\n",
      "khaiValue -\n",
      "khaiGrade None\n",
      "so2Grade 1\n",
      "coGrade 1\n",
      "o3Grade 1\n",
      "no2Grade 1\n",
      "pm10Grade None\n",
      "pm25Grade 1\n",
      "stationName 성동구\n",
      "dataTime 2019-07-10 16:00\n",
      "so2Value 0.003\n",
      "coValue 0.2\n",
      "o3Value 0.036\n",
      "no2Value 0.010\n",
      "pm10Value 15\n",
      "pm25Value 5\n",
      "khaiValue 55\n",
      "khaiGrade 2\n",
      "so2Grade 1\n",
      "coGrade 1\n",
      "o3Grade 2\n",
      "no2Grade 1\n",
      "pm10Grade 1\n",
      "pm25Grade 1\n",
      "stationName 강변북로\n",
      "dataTime 2019-07-10 16:00\n",
      "so2Value -\n",
      "coValue -\n",
      "o3Value -\n",
      "no2Value -\n",
      "pm10Value 9\n",
      "pm25Value 3\n",
      "khaiValue -\n",
      "khaiGrade None\n",
      "so2Grade None\n",
      "coGrade None\n",
      "o3Grade None\n",
      "no2Grade None\n",
      "pm10Grade 1\n",
      "pm25Grade 1\n",
      "stationName 중랑구\n",
      "dataTime 2019-07-10 16:00\n",
      "so2Value 0.005\n",
      "coValue 0.2\n",
      "o3Value 0.034\n",
      "no2Value 0.008\n",
      "pm10Value 9\n",
      "pm25Value 6\n",
      "khaiValue 53\n",
      "khaiGrade 2\n",
      "so2Grade 1\n",
      "coGrade 1\n",
      "o3Grade 2\n",
      "no2Grade 1\n",
      "pm10Grade 1\n",
      "pm25Grade 1\n"
     ]
    }
   ],
   "source": [
    "itemList = xmlRoot.findall(\".//item\")\n",
    "print(len(itemList))\n",
    "for item in itemList:\n",
    "    for i in range(len(item)):\n",
    "        print(item[i].tag, item[i].text)"
   ]
  },
  {
   "cell_type": "code",
   "execution_count": 186,
   "metadata": {
    "ExecuteTime": {
     "end_time": "2019-07-10T07:43:48.068556Z",
     "start_time": "2019-07-10T07:43:48.060073Z"
    }
   },
   "outputs": [],
   "source": [
    "pm25List = xmlRoot.findall(\".//item/pm25Value\")\n",
    "stationList = xmlRoot.findall(\".//item/stationName\")"
   ]
  },
  {
   "cell_type": "code",
   "execution_count": 195,
   "metadata": {
    "ExecuteTime": {
     "end_time": "2019-07-10T07:47:49.002748Z",
     "start_time": "2019-07-10T07:47:48.993266Z"
    }
   },
   "outputs": [
    {
     "data": {
      "text/plain": [
       "[{'중구': '6'},\n",
       " {'한강대로': '5'},\n",
       " {'종로구': '6'},\n",
       " {'청계천로': '7'},\n",
       " {'종로': '5'},\n",
       " {'용산구': '6'},\n",
       " {'광진구': '-'},\n",
       " {'성동구': '5'},\n",
       " {'강변북로': '3'},\n",
       " {'중랑구': '6'}]"
      ]
     },
     "execution_count": 195,
     "metadata": {},
     "output_type": "execute_result"
    }
   ],
   "source": [
    "[{station.text:pm.text} for pm, station in zip(pm25List, stationList)]"
   ]
  }
 ],
 "metadata": {
  "kernelspec": {
   "display_name": "Python 3",
   "language": "python",
   "name": "python3"
  },
  "language_info": {
   "codemirror_mode": {
    "name": "ipython",
    "version": 3
   },
   "file_extension": ".py",
   "mimetype": "text/x-python",
   "name": "python",
   "nbconvert_exporter": "python",
   "pygments_lexer": "ipython3",
   "version": "3.6.7"
  },
  "toc": {
   "base_numbering": 1,
   "nav_menu": {},
   "number_sections": true,
   "sideBar": true,
   "skip_h1_title": false,
   "title_cell": "Table of Contents",
   "title_sidebar": "Contents",
   "toc_cell": false,
   "toc_position": {},
   "toc_section_display": true,
   "toc_window_display": false
  }
 },
 "nbformat": 4,
 "nbformat_minor": 2
}

{
  "nbformat": 4,
  "nbformat_minor": 0,
  "metadata": {
    "colab": {
      "name": "Dictionary.ipynb",
      "version": "0.3.2",
      "provenance": [],
      "collapsed_sections": [],
      "include_colab_link": true
    },
    "kernelspec": {
      "name": "python3",
      "display_name": "Python 3"
    }
  },
  "cells": [
    {
      "cell_type": "markdown",
      "metadata": {
        "id": "view-in-github",
        "colab_type": "text"
      },
      "source": [
        "<a href=\"https://colab.research.google.com/github/minkyoJang/AI-BigDataStudy/blob/master/Dictionary.ipynb\" target=\"_parent\"><img src=\"https://colab.research.google.com/assets/colab-badge.svg\" alt=\"Open In Colab\"/></a>"
      ]
    },
    {
      "cell_type": "markdown",
      "metadata": {
        "id": "SF3s0sPiIA86",
        "colab_type": "text"
      },
      "source": [
        "# 파이썬에서의 해시 = Dictionary\n",
        "\n",
        "Python은 Dictionary라는 형태로 해시 자료구조를 제공합니다. 그리고 Dictionary는 `dict`클래스로 구현되어있지요.\n",
        "\n",
        "\n",
        "## 해시는 언제 사용해야 하나요?\n",
        "\n",
        "해시는 이럴 때 사용합니다.\n",
        "\n",
        "1. 리스트를 쓸 수 없을 때\n",
        "    * 리스트는 숫자 인덱스를 이용해 원소에 접근합니다. 즉, `my_list[1]`처럼만 쓸 수 있고 `my_list['abc']`처럼 쓸 수는 없지요.\n",
        "    * 인덱스 값이 숫자가 아니라 다른 값 - 문자열, 튜플 등-이어야 할 때, 딕셔너리를 쓸 수 있습니다.\n",
        "2. **빠른 접근/탐색**이 필요할 때\n",
        "    * 딕셔너리는 함수 대부분의 시간 복잡도가 O(1)으로, 아주 빠른 자료구조입니다.\n",
        "3. 집계를 할 때\n",
        "    * 코딩 테스트에서는 각 원소가 몇 개 있는지 세야 하는 문제가 왕왕 나옵니다. 해시, 특히 collections 모듈의 Counter 클래스는 이때 아주 유용하게 쓰입니다.\n",
        " \n",
        "#### Dictionary와 리스트의 시간 복잡도 비교\n",
        "\n",
        "Dictionary와 리스트의 Time Complexity는 다음과 같습니다.\n",
        "\n",
        "| Operation   | Dictionary | List        |\n",
        "|-------------|------------|-------------|\n",
        "| Get Item    | O(1)       | O(1)        |\n",
        "| Insert Item | O(1)       | O(1) ~ O(N) |\n",
        "| Update Item | O(1)       | O(1)        |\n",
        "| Delete Item | O(1)       | O(1) ~ O(N) |\n",
        "| Search Item | O(1)       | O(N)        |\n",
        "\n",
        "차이가 많이 나는 부분은 원소를 넣을(Insert) 때, 삭제(Delete)할 때, 찾을(Search) 때입니다. 즉 원소를 넣거나, 삭제하거나, 찾는 일이 많을 것 같을 땐 딕셔너리를 써야 합니다.\n",
        "\n",
        "<br>\n",
        "\n",
        "표 출처: 파이썬 위키, https://wiki.python.org/moin/TimeComplexity, 2019.02.24\n",
        "\n",
        "※ 파이썬 3.7 이상부터 딕셔너리는 원소가 들어온 순서를 보장합니다. 반면, 3.7 미만은 순서를 보장하지 않습니다. 딕셔너리를 이용해 문제를 풀 때에는 버전에 유의하세요."
      ]
    },
    {
      "cell_type": "markdown",
      "metadata": {
        "id": "i3nYX1pKH_GJ",
        "colab_type": "text"
      },
      "source": [
        "## Dictionary - Init\n",
        "\n",
        "`{}` 기호를 사용하거나, `dict` 함수를 호출하면 빈 딕셔너리를 선언할 수 있습니다. 물론 특정 key-value 쌍을 가진 dictionary를 선언하는 것도 가능합니다."
      ]
    },
    {
      "cell_type": "code",
      "metadata": {
        "id": "tr2AH-G5IYmt",
        "colab_type": "code",
        "outputId": "7d18992f-6f87-4d04-89cb-d5383ff09b8d",
        "colab": {
          "base_uri": "https://localhost:8080/",
          "height": 34
        }
      },
      "source": [
        "# 빈 딕셔너리 생성하기\n",
        "\n",
        "empty_dict1 = {}\n",
        "empty_dict2 = dict()\n",
        "\n",
        "empty_dict1, empty_dict2"
      ],
      "execution_count": 0,
      "outputs": [
        {
          "output_type": "execute_result",
          "data": {
            "text/plain": [
              "({}, {})"
            ]
          },
          "metadata": {
            "tags": []
          },
          "execution_count": 1
        }
      ]
    },
    {
      "cell_type": "code",
      "metadata": {
        "id": "DfGeSjZuK3G1",
        "colab_type": "code",
        "outputId": "f380f501-16a0-48b3-bc00-8e60e535634c",
        "colab": {
          "base_uri": "https://localhost:8080/",
          "height": 34
        }
      },
      "source": [
        "# 특정 key-value쌍을 가진 dictionary 선언하기\n",
        "\n",
        "person = {\n",
        "    'name': '홍길동',\n",
        "    'weight': 60,\n",
        "    'height': 170,\n",
        "}\n",
        "\n",
        "person"
      ],
      "execution_count": 0,
      "outputs": [
        {
          "output_type": "execute_result",
          "data": {
            "text/plain": [
              "{'height': 170, 'name': '홍길동', 'weight': 60}"
            ]
          },
          "metadata": {
            "tags": []
          },
          "execution_count": 2
        }
      ]
    },
    {
      "cell_type": "code",
      "metadata": {
        "id": "4jm7lxZ2LiFV",
        "colab_type": "code",
        "outputId": "81c9a33d-1c4b-4dd5-accd-7cbafb1ca8e2",
        "colab": {
          "base_uri": "https://localhost:8080/",
          "height": 51
        }
      },
      "source": [
        "# dictionary를 value로 가지는 dictionary 선언하기\n",
        "\n",
        "countries = {\n",
        "    'South Korea': {\n",
        "        'capital': 'Seoul',\n",
        "        'continent': 'Asia',\n",
        "    },\n",
        "    'United States of America': {\n",
        "        'capital': 'Washinton',\n",
        "    },\n",
        "}\n",
        "\n",
        "countries"
      ],
      "execution_count": 0,
      "outputs": [
        {
          "output_type": "execute_result",
          "data": {
            "text/plain": [
              "{'South Korea': {'capital': 'Seoul', 'continent': 'Asia'},\n",
              " 'United States of America': {'capital': 'Washinton'}}"
            ]
          },
          "metadata": {
            "tags": []
          },
          "execution_count": 3
        }
      ]
    },
    {
      "cell_type": "markdown",
      "metadata": {
        "id": "e5URSBxXKb5m",
        "colab_type": "text"
      },
      "source": [
        "## Dictionary - Get\n",
        "\n",
        "딕셔너리의 원소를 가져올 때에는 주로 두가지 방법을 이용합니다.\n",
        "\n",
        "1. `[]` 기호 사용\n",
        "2. [get 메소드](https://docs.python.org/3/library/stdtypes.html#dict.get) 사용\n",
        "\n",
        "1은 일반적인 방법이니, 2에 대해서만 알아봅시다. get 메소드는 get(key, x)와 같이 사용하는데요. 이는 \"딕셔너리에 key가 없는 경우, KeyError를 내지 말고 x값을 리턴해줘\"라는 용도로 사용합니다. 물론 딕셔너리에 key가 있을때에는 그에 대응하는 value를 리턴합니다.\n",
        "\n",
        "코딩 테스트 문제를 풀다보면 딕셔너리를 카운터, 즉 집계 용도로 자주 사용하는데요. get 함수는 이때 아주 유용하게 사용됩니다."
      ]
    },
    {
      "cell_type": "code",
      "metadata": {
        "id": "n4NzHxnZKbJq",
        "colab_type": "code",
        "outputId": "8e300184-0247-48ba-eee4-bf1cf660bf96",
        "colab": {
          "base_uri": "https://localhost:8080/",
          "height": 34
        }
      },
      "source": [
        "# [] 기호 사용해 원소 가져오기\n",
        "\n",
        "my_dict = {'김철수': 300, 'Anna': 180, 3: 5}\n",
        "my_dict['Anna']"
      ],
      "execution_count": 0,
      "outputs": [
        {
          "output_type": "execute_result",
          "data": {
            "text/plain": [
              "180"
            ]
          },
          "metadata": {
            "tags": []
          },
          "execution_count": 4
        }
      ]
    },
    {
      "cell_type": "code",
      "metadata": {
        "id": "pDYTyBLxJTPX",
        "colab_type": "code",
        "outputId": "0e7c4ed0-c793-4966-f1b0-07d6d31c8fe6",
        "colab": {
          "base_uri": "https://localhost:8080/",
          "height": 34
        }
      },
      "source": [
        "# get 메소드를 아용해 원소 가져오기 1\n",
        "# 딕셔너리에 해당 key가 없을때 Key Error 를 내는 대신, 특정한 값을 가져온다.\n",
        "\n",
        "my_dict = {'김철수': 300, 'Anna': 180}\n",
        "my_dict.get('홍길동', 0)"
      ],
      "execution_count": 0,
      "outputs": [
        {
          "output_type": "execute_result",
          "data": {
            "text/plain": [
              "0"
            ]
          },
          "metadata": {
            "tags": []
          },
          "execution_count": 5
        }
      ]
    },
    {
      "cell_type": "code",
      "metadata": {
        "id": "mQr7Y0oVJTJT",
        "colab_type": "code",
        "outputId": "66fb0140-a6b0-4d1d-dfeb-0d3bbb27268f",
        "colab": {
          "base_uri": "https://localhost:8080/",
          "height": 34
        }
      },
      "source": [
        "# get 메소드를 아용해 원소 가져오기 2\n",
        "# 물론, 딕셔너리에 해당 key가 있는 경우 대응하는 value를 가져온다.\n",
        "\n",
        "my_dict = {'김철수': 300, 'Anna': 180}\n",
        "my_dict.get('Anna', 0)"
      ],
      "execution_count": 0,
      "outputs": [
        {
          "output_type": "execute_result",
          "data": {
            "text/plain": [
              "180"
            ]
          },
          "metadata": {
            "tags": []
          },
          "execution_count": 6
        }
      ]
    },
    {
      "cell_type": "markdown",
      "metadata": {
        "id": "DYnai3gTQEzg",
        "colab_type": "text"
      },
      "source": [
        "## Dictionary - Set\n",
        "\n",
        "딕셔너리에 값을 집어넣거나, 값을 업데이트할때에는 `[]`기호를 사용합니다."
      ]
    },
    {
      "cell_type": "code",
      "metadata": {
        "id": "sKuWE0fSP5aW",
        "colab_type": "code",
        "outputId": "27b691f6-3ff8-4d80-8454-3e9b3a20eef1",
        "colab": {
          "base_uri": "https://localhost:8080/",
          "height": 34
        }
      },
      "source": [
        "# 값 집어넣기\n",
        "\n",
        "my_dict = {'김철수': 300, 'Anna': 180}\n",
        "my_dict['홍길동'] = 100\n",
        "my_dict"
      ],
      "execution_count": 0,
      "outputs": [
        {
          "output_type": "execute_result",
          "data": {
            "text/plain": [
              "{'Anna': 180, '김철수': 300, '홍길동': 100}"
            ]
          },
          "metadata": {
            "tags": []
          },
          "execution_count": 7
        }
      ]
    },
    {
      "cell_type": "code",
      "metadata": {
        "id": "7TGOA1omPkfd",
        "colab_type": "code",
        "outputId": "3a978265-7df0-4927-ec51-f0a47562264f",
        "colab": {
          "base_uri": "https://localhost:8080/",
          "height": 34
        }
      },
      "source": [
        "# 값 수정하기1\n",
        "\n",
        "my_dict = {'김철수': 300, 'Anna': 180}\n",
        "my_dict['김철수'] = 500\n",
        "my_dict"
      ],
      "execution_count": 0,
      "outputs": [
        {
          "output_type": "execute_result",
          "data": {
            "text/plain": [
              "{'Anna': 180, '김철수': 500}"
            ]
          },
          "metadata": {
            "tags": []
          },
          "execution_count": 8
        }
      ]
    },
    {
      "cell_type": "code",
      "metadata": {
        "id": "WHXcj4ckQTIF",
        "colab_type": "code",
        "outputId": "93c40096-b48d-434b-a70c-6a18c59fd653",
        "colab": {
          "base_uri": "https://localhost:8080/",
          "height": 34
        }
      },
      "source": [
        "# 값 수정하기2\n",
        "\n",
        "my_dict = {'김철수': 300, 'Anna': 180}\n",
        "my_dict['김철수'] += 500\n",
        "my_dict"
      ],
      "execution_count": 0,
      "outputs": [
        {
          "output_type": "execute_result",
          "data": {
            "text/plain": [
              "{'Anna': 180, '김철수': 800}"
            ]
          },
          "metadata": {
            "tags": []
          },
          "execution_count": 9
        }
      ]
    },
    {
      "cell_type": "markdown",
      "metadata": {
        "id": "vcVGpevcRoEn",
        "colab_type": "text"
      },
      "source": [
        "## Dictionary - Delete\n",
        "\n",
        "딕셔너리에서 특정 key값을 지우려면 다음 방법을 사용하세요.\n",
        "\n",
        "#### 1. `del dict_obj[key]`\n",
        "\n",
        "`del`은 키워드입니다. 딕셔너리에 key가 없다면 keyError를 raise합니다. \n",
        "\n",
        "#### 2. `pop(key[, default])`\n",
        "\n",
        "`pop`은 메소드입니다. `pop` 메소드는 key 값에 해당하는 value를 리턴합니다. key가 없다면 두번째 파라미터인 default를 리턴하지요. default를 설정하지 않았다면 keyError를 raise 합니다."
      ]
    },
    {
      "cell_type": "code",
      "metadata": {
        "id": "pz8tYaieRokf",
        "colab_type": "code",
        "outputId": "5db617a7-9b5c-4884-8a7b-bbbeed87dcf9",
        "colab": {
          "base_uri": "https://localhost:8080/",
          "height": 34
        }
      },
      "source": [
        "# del 이용하기 - 키가 있는 경우\n",
        "my_dict = {'김철수': 300, 'Anna': 180}\n",
        "del my_dict['김철수']\n",
        "\n",
        "my_dict"
      ],
      "execution_count": 0,
      "outputs": [
        {
          "output_type": "execute_result",
          "data": {
            "text/plain": [
              "{'Anna': 180}"
            ]
          },
          "metadata": {
            "tags": []
          },
          "execution_count": 10
        }
      ]
    },
    {
      "cell_type": "code",
      "metadata": {
        "id": "mDfEnlqYTlu5",
        "colab_type": "code",
        "outputId": "07d8a1ea-d33a-476d-90d3-f6a7929706b7",
        "colab": {
          "base_uri": "https://localhost:8080/",
          "height": 181
        }
      },
      "source": [
        "# del 이용하기 - 키가 없는 경우 raise KeyError\n",
        "my_dict = {'김철수': 300, 'Anna': 180}\n",
        "del my_dict['홍길동']"
      ],
      "execution_count": 0,
      "outputs": [
        {
          "output_type": "error",
          "ename": "KeyError",
          "evalue": "ignored",
          "traceback": [
            "\u001b[0;31m---------------------------------------------------------------------------\u001b[0m",
            "\u001b[0;31mKeyError\u001b[0m                                  Traceback (most recent call last)",
            "\u001b[0;32m<ipython-input-11-f31ea340fc5a>\u001b[0m in \u001b[0;36m<module>\u001b[0;34m()\u001b[0m\n\u001b[1;32m      1\u001b[0m \u001b[0mmy_dict\u001b[0m \u001b[0;34m=\u001b[0m \u001b[0;34m{\u001b[0m\u001b[0;34m'김철수'\u001b[0m\u001b[0;34m:\u001b[0m \u001b[0;36m300\u001b[0m\u001b[0;34m,\u001b[0m \u001b[0;34m'Anna'\u001b[0m\u001b[0;34m:\u001b[0m \u001b[0;36m180\u001b[0m\u001b[0;34m}\u001b[0m\u001b[0;34m\u001b[0m\u001b[0;34m\u001b[0m\u001b[0m\n\u001b[0;32m----> 2\u001b[0;31m \u001b[0;32mdel\u001b[0m \u001b[0mmy_dict\u001b[0m\u001b[0;34m[\u001b[0m\u001b[0;34m'홍길동'\u001b[0m\u001b[0;34m]\u001b[0m\u001b[0;34m\u001b[0m\u001b[0;34m\u001b[0m\u001b[0m\n\u001b[0m",
            "\u001b[0;31mKeyError\u001b[0m: '홍길동'"
          ]
        }
      ]
    },
    {
      "cell_type": "code",
      "metadata": {
        "id": "yz1AeCRqTTVH",
        "colab_type": "code",
        "outputId": "50e080cf-814c-49c4-8918-45aaecb922a6",
        "colab": {
          "base_uri": "https://localhost:8080/",
          "height": 34
        }
      },
      "source": [
        "# pop 이용하기 - 키가 있는 경우 대응하는 value 리턴\n",
        "my_dict = {'김철수': 300, 'Anna': 180}\n",
        "my_dict.pop('김철수', 180)"
      ],
      "execution_count": 0,
      "outputs": [
        {
          "output_type": "execute_result",
          "data": {
            "text/plain": [
              "300"
            ]
          },
          "metadata": {
            "tags": []
          },
          "execution_count": 12
        }
      ]
    },
    {
      "cell_type": "code",
      "metadata": {
        "id": "hZtQXe_1TcvA",
        "colab_type": "code",
        "outputId": "cac28a78-7454-4abf-e95a-f6d4af1072bc",
        "colab": {
          "base_uri": "https://localhost:8080/",
          "height": 34
        }
      },
      "source": [
        "# pop 이용하기 - 키가 없는 경우 default 리턴\n",
        "my_dict = {'김철수': 300, 'Anna': 180}\n",
        "my_dict.pop('홍길동', 180)"
      ],
      "execution_count": 0,
      "outputs": [
        {
          "output_type": "execute_result",
          "data": {
            "text/plain": [
              "180"
            ]
          },
          "metadata": {
            "tags": []
          },
          "execution_count": 13
        }
      ]
    },
    {
      "cell_type": "markdown",
      "metadata": {
        "id": "i9VDeeKPQixL",
        "colab_type": "text"
      },
      "source": [
        "## Dictionary - Iterate\n",
        "\n",
        "딕셔너리를 for문을 이용해 조회할때가 있습니다. 다음 두가지 방법이 있으니 상황에 맞게 사용하세요.\n",
        "\n",
        "1. key 로만 순회\n",
        "2. key, value 동시 순회 - items() 사용\n",
        "\n"
      ]
    },
    {
      "cell_type": "code",
      "metadata": {
        "id": "dOimpn2EQbp3",
        "colab_type": "code",
        "outputId": "25a6a8b2-0f51-41dd-f9fd-2727f2457c92",
        "colab": {
          "base_uri": "https://localhost:8080/",
          "height": 51
        }
      },
      "source": [
        "# key로만 순회\n",
        "my_dict = {'김철수': 300, 'Anna': 180}\n",
        "for key in my_dict:\n",
        "    print(key)\n",
        "    # 이 경우 value를 찾고 싶으면 my_dict[key] 와 같이 접근을 따로 해주어야."
      ],
      "execution_count": 0,
      "outputs": [
        {
          "output_type": "stream",
          "text": [
            "김철수\n",
            "Anna\n"
          ],
          "name": "stdout"
        }
      ]
    },
    {
      "cell_type": "code",
      "metadata": {
        "id": "18fV2zreRNZC",
        "colab_type": "code",
        "outputId": "28e86975-6691-4d40-8b6d-2506875cd940",
        "colab": {
          "base_uri": "https://localhost:8080/",
          "height": 51
        }
      },
      "source": [
        "# key-value 동시 순회\n",
        "\n",
        "my_dict = {'김철수': 300, 'Anna': 180}\n",
        "for key, value in my_dict.items():\n",
        "    print(key, value)"
      ],
      "execution_count": 0,
      "outputs": [
        {
          "output_type": "stream",
          "text": [
            "김철수 300\n",
            "Anna 180\n"
          ],
          "name": "stdout"
        }
      ]
    },
    {
      "cell_type": "markdown",
      "metadata": {
        "id": "fl0JNAyzTv4K",
        "colab_type": "text"
      },
      "source": [
        "## 그 밖의 유용한 팁"
      ]
    },
    {
      "cell_type": "markdown",
      "metadata": {
        "id": "C0FPfG9ET77v",
        "colab_type": "text"
      },
      "source": [
        "### 1. 특정 key가 딕셔너리에 있는지 없는지 조회하기: in 키워드 사용"
      ]
    },
    {
      "cell_type": "code",
      "metadata": {
        "id": "oxbDxCBARa-_",
        "colab_type": "code",
        "outputId": "defc51cb-05e2-4066-b336-c801a2bccc9b",
        "colab": {
          "base_uri": "https://localhost:8080/",
          "height": 51
        }
      },
      "source": [
        "my_dict = {'김철수': 300, 'Anna': 180}\n",
        "print(\"김철수\" in my_dict)\n",
        "print(\"김철수\" not in my_dict)"
      ],
      "execution_count": 0,
      "outputs": [
        {
          "output_type": "stream",
          "text": [
            "True\n",
            "False\n"
          ],
          "name": "stdout"
        }
      ]
    },
    {
      "cell_type": "markdown",
      "metadata": {
        "id": "iwMDNhqtVPab",
        "colab_type": "text"
      },
      "source": [
        "### 2. key 또는 value를 시퀀스(리스트나 튜플)로 뽑아내기\n",
        "\n",
        "1. key만 extract: keys()\n",
        "2. value만 extract: values()\n",
        "3. key-value쌍 extract: items()"
      ]
    },
    {
      "cell_type": "code",
      "metadata": {
        "id": "N0excXfjUP3f",
        "colab_type": "code",
        "outputId": "ea83239e-1e7c-47ac-9331-113d0b22060c",
        "colab": {
          "base_uri": "https://localhost:8080/",
          "height": 34
        }
      },
      "source": [
        "# key를 extract - keys 사용\n",
        "\n",
        "\n",
        "my_dict = {'김철수': 300, 'Anna': 180}\n",
        "my_dict.keys()"
      ],
      "execution_count": 0,
      "outputs": [
        {
          "output_type": "execute_result",
          "data": {
            "text/plain": [
              "dict_keys(['김철수', 'Anna'])"
            ]
          },
          "metadata": {
            "tags": []
          },
          "execution_count": 17
        }
      ]
    },
    {
      "cell_type": "code",
      "metadata": {
        "id": "nmHkUAorVpNX",
        "colab_type": "code",
        "outputId": "40c990af-7dcc-4d70-ba23-3ec3ee0f98c0",
        "colab": {
          "base_uri": "https://localhost:8080/",
          "height": 34
        }
      },
      "source": [
        "# value를 extract - values 사용\n",
        "\n",
        "\n",
        "my_dict = {'김철수': 300, 'Anna': 180}\n",
        "my_dict.values()"
      ],
      "execution_count": 0,
      "outputs": [
        {
          "output_type": "execute_result",
          "data": {
            "text/plain": [
              "dict_values([300, 180])"
            ]
          },
          "metadata": {
            "tags": []
          },
          "execution_count": 18
        }
      ]
    },
    {
      "cell_type": "code",
      "metadata": {
        "id": "R2ihqlugVpEZ",
        "colab_type": "code",
        "outputId": "eb49245d-82d1-4e31-8432-7c055e56e678",
        "colab": {
          "base_uri": "https://localhost:8080/",
          "height": 34
        }
      },
      "source": [
        "# key, value 쌍을 extract - items 사용\n",
        "\n",
        "\n",
        "my_dict = {'김철수': 300, 'Anna': 180}\n",
        "my_dict.items()"
      ],
      "execution_count": 0,
      "outputs": [
        {
          "output_type": "execute_result",
          "data": {
            "text/plain": [
              "dict_items([('김철수', 300), ('Anna', 180)])"
            ]
          },
          "metadata": {
            "tags": []
          },
          "execution_count": 19
        }
      ]
    },
    {
      "cell_type": "markdown",
      "metadata": {
        "id": "erQJ46YxWOzB",
        "colab_type": "text"
      },
      "source": [
        "### 집계를 위한 클래스: collections.Counter\n",
        "\n",
        "코딩테스트 문제를 풀다 보면 어떤 원소 `x`가 주어진 시퀀스에 몇 번이나 등장하는지 세야 할 때가 왕왕 있습니다. 이때에는 collections 모듈의 Counter 클래스를 사용하면 무척 편리합니다."
      ]
    },
    {
      "cell_type": "code",
      "metadata": {
        "id": "GLbJW5wtVo5O",
        "colab_type": "code",
        "outputId": "d98f1fe9-7fad-4c27-a893-56db9958df4f",
        "colab": {
          "base_uri": "https://localhost:8080/",
          "height": 34
        }
      },
      "source": [
        "import collections\n",
        "my_list = [\"박수진\", \"박수진\", \"홍길동\", \"김철수\", \"김철수\"]\n",
        "my_counter = collections.Counter(my_list)\n",
        "\n",
        "my_counter"
      ],
      "execution_count": 0,
      "outputs": [
        {
          "output_type": "execute_result",
          "data": {
            "text/plain": [
              "Counter({'김철수': 2, '박수진': 2, '홍길동': 1})"
            ]
          },
          "metadata": {
            "tags": []
          },
          "execution_count": 20
        }
      ]
    },
    {
      "cell_type": "code",
      "metadata": {
        "id": "hnTBo6VrWzR-",
        "colab_type": "code",
        "outputId": "d8a76a2a-7ed2-4d60-85e3-137a15a424b8",
        "colab": {
          "base_uri": "https://localhost:8080/",
          "height": 34
        }
      },
      "source": [
        "# 일반적인 dict 처럼 [] 로 원소에 접근 가능\n",
        "my_counter['박수진']"
      ],
      "execution_count": 0,
      "outputs": [
        {
          "output_type": "execute_result",
          "data": {
            "text/plain": [
              "2"
            ]
          },
          "metadata": {
            "tags": []
          },
          "execution_count": 21
        }
      ]
    },
    {
      "cell_type": "code",
      "metadata": {
        "id": "Q7gHTwIWW1qu",
        "colab_type": "code",
        "outputId": "a0b8b271-9fee-4a08-a530-ba26d98b7a1f",
        "colab": {
          "base_uri": "https://localhost:8080/",
          "height": 34
        }
      },
      "source": [
        "# dict() 함수를 이용해 일반적인 dictionary로 변환\n",
        "dict(my_counter)"
      ],
      "execution_count": 0,
      "outputs": [
        {
          "output_type": "execute_result",
          "data": {
            "text/plain": [
              "{'김철수': 2, '박수진': 2, '홍길동': 1}"
            ]
          },
          "metadata": {
            "tags": []
          },
          "execution_count": 22
        }
      ]
    },
    {
      "cell_type": "markdown",
      "metadata": {
        "id": "BsquoFcvk_PA",
        "colab_type": "text"
      },
      "source": [
        "## Dictionary와 List의 시간 복잡도 비교하기\n",
        "\n",
        "Dictionary와 리스트의 Time Complexity는 다음과 같습니다.\n",
        "\n",
        "| Operation   | Dictionary | List        |\n",
        "|-------------|------------|-------------|\n",
        "| Get Item    | O(1)       | O(1)        |\n",
        "| Insert Item | O(1)       | O(1) ~ O(N) |\n",
        "| Update Item | O(1)       | O(1)        |\n",
        "| Delete Item | O(1)       | O(1) ~ O(N) |\n",
        "| Search Item | O(1)       | O(N)        |\n"
      ]
    },
    {
      "cell_type": "code",
      "metadata": {
        "id": "CPMhmS9si63T",
        "colab_type": "code",
        "outputId": "f706e438-6fd8-47f7-d627-02e60fcd2d44",
        "colab": {
          "base_uri": "https://localhost:8080/",
          "height": 51
        }
      },
      "source": [
        "import timeit\n",
        "import random\n",
        "\n",
        "# '0'부터 '100000' 까지 문자열을 랜덤하게 담은 리스트\n",
        "my_list = list(map(str, list(range(0,100000))))\n",
        "random.shuffle(my_list)\n",
        "\n",
        "my_dict = {i:True for i in my_list}\n",
        "\n",
        "print('my_list: [{}, ...]'.format(','.join(my_list[:5])))\n",
        "print('my_dict: {} ...}}'.format(str(my_dict)[:30]))"
      ],
      "execution_count": 0,
      "outputs": [
        {
          "output_type": "stream",
          "text": [
            "my_list: [39976,28618,76804,68783,80555, ...]\n",
            "my_dict: {'39976': True, '28618': True, ...}\n"
          ],
          "name": "stdout"
        }
      ]
    },
    {
      "cell_type": "markdown",
      "metadata": {
        "id": "-ZUSB6-TlHtW",
        "colab_type": "text"
      },
      "source": [
        "### 리스트와 딕셔너리, 탐색하는데 걸리는 시간 비교\n",
        "\n",
        "```\n",
        "def search(container, value):\n",
        "  return value in container\n",
        "```\n",
        " \n",
        "위 함수는 자료구조(container)와 자료구조에서 찾고자하는 값(value)을 입력받아, 자료구조 안에 찾고자 하는 값이 있는지 알아보는 일을 합니다.\n",
        "\n",
        "value에 같은 값을 넣었는데도, 딕셔너리가 리스트보다 10배 넘게 빠른 것을 확인할 수 있습니다."
      ]
    },
    {
      "cell_type": "code",
      "metadata": {
        "id": "jY5LcfMklHXp",
        "colab_type": "code",
        "outputId": "3ca660a4-8c3f-4c3f-bb65-7e8c34b32354",
        "colab": {
          "base_uri": "https://localhost:8080/",
          "height": 51
        }
      },
      "source": [
        "def search(container, value):\n",
        "  return value in container\n",
        "\n",
        "my_value = my_list[-1]\n",
        "print(\"리스트를 사용한 서치:\")\n",
        "%timeit -n 5 search(my_list, my_value)"
      ],
      "execution_count": 0,
      "outputs": [
        {
          "output_type": "stream",
          "text": [
            "리스트를 사용한 서치:\n",
            "5 loops, best of 3: 10.1 ms per loop\n"
          ],
          "name": "stdout"
        }
      ]
    },
    {
      "cell_type": "code",
      "metadata": {
        "id": "uVFOhPq4lGfI",
        "colab_type": "code",
        "outputId": "1dd01d9b-7351-484f-beee-019bde9470ba",
        "colab": {
          "base_uri": "https://localhost:8080/",
          "height": 51
        }
      },
      "source": [
        "print(\"해시를 사용한 서치:\")\n",
        "%timeit -n 5 search(my_dict, my_value)"
      ],
      "execution_count": 0,
      "outputs": [
        {
          "output_type": "stream",
          "text": [
            "해시를 사용한 서치:\n",
            "5 loops, best of 3: 266 ns per loop\n"
          ],
          "name": "stdout"
        }
      ]
    }
  ]
}
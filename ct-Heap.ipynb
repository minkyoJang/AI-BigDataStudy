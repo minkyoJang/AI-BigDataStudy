{
  "nbformat": 4,
  "nbformat_minor": 0,
  "metadata": {
    "colab": {
      "name": "Heap.ipynb",
      "version": "0.3.2",
      "provenance": [],
      "collapsed_sections": [],
      "include_colab_link": true
    },
    "kernelspec": {
      "name": "python3",
      "display_name": "Python 3"
    }
  },
  "cells": [
    {
      "cell_type": "markdown",
      "metadata": {
        "id": "view-in-github",
        "colab_type": "text"
      },
      "source": [
        "<a href=\"https://colab.research.google.com/github/minkyoJang/AI-BigDataStudy/blob/master/ct-Heap.ipynb\" target=\"_parent\"><img src=\"https://colab.research.google.com/assets/colab-badge.svg\" alt=\"Open In Colab\"/></a>"
      ]
    },
    {
      "cell_type": "markdown",
      "metadata": {
        "id": "VT4LkAelHIfl",
        "colab_type": "text"
      },
      "source": [
        "# heapq 사용법"
      ]
    },
    {
      "cell_type": "markdown",
      "metadata": {
        "id": "SF3s0sPiIA86",
        "colab_type": "text"
      },
      "source": [
        "# 파이썬에서의 힙 = heapq / PriorityQueue\n",
        "\n",
        "Python은 [heapq 모듈](https://docs.python.org/3.7/library/heapq.html#module-heapq)과 [Queue 모듈의 PriorityQueue 클래스](https://docs.python.org/3/library/queue.html)을 통해 heapq를 제공합니다. 둘 모두 minheap으로 구현되어 있어, 가장 앞에 있는 원소가 가장 작은 원소입니다.\n",
        "\n",
        "둘의 공통점과 차이점은 다음과 같습니다.\n",
        "\n",
        "## 공통점과 차이점\n",
        "\n",
        "#### 공통점\n",
        "\n",
        "* 둘 다 minheap으로 구현되어있다. 즉, 가장 앞에 있는 원소가 가장 작은 원소이다.\n",
        "\n",
        "#### 차이점\n",
        "\n",
        "* PriortyQueue는 클래스이고, heapq는 모듈이다. 예를 들어, 힙에 데이터를 넣으려면, \n",
        "    * PriorityQueue에선 객체를 생성하고 메소드를 불러야 하지만 \n",
        "    * heapq는 객체를 생성하지 않으며, heapify(리스트 객체)처럼 함수를 호출해 리스트를 힙 형태로 소팅한다.\n",
        "\n",
        "#### 둘 중 어느 것을 쓰는게 더 좋은가요?\n",
        "\n",
        "heapq와 PriorityQueue 중에서는 **heapq가 더 빠릅니다**. 데이터 삽입 시 속도 차이가 약 10배 정도 납니다. 뒤에 둘의 퍼포먼스를 비교하는 코드가 있으니 궁금하신 분은 이를 참고하세요.\n",
        "\n",
        "## 힙은 언제 쓰나요?\n",
        "\n",
        "1. 힙은 데이터가 **지속적으로 정렬**돼야 하며\n",
        "2. 데이터의 **삽입/삭제가 빈번**하게 일어날 때 사용하세요.\n",
        "\n",
        "#### Time Complexity\n",
        "\n",
        "heapq와 PriorityQueue의 Time Complexity는 다음과 같습니다.\n",
        "\n",
        "| Operation   | Time Complexity - Worst case |\n",
        "|-------------|------------------------------|\n",
        "| Get Item    | O(1)                         |\n",
        "| Insert Item | O(logn)                      |\n",
        "| Delete Item | O(logn)                      |\n",
        "| Search Item | O(n)                         |\n",
        "\n",
        "<br>\n",
        "\n"
      ]
    },
    {
      "cell_type": "markdown",
      "metadata": {
        "id": "i3nYX1pKH_GJ",
        "colab_type": "text"
      },
      "source": [
        "## heapq - heapify\n",
        "\n",
        "heapq 모듈의 heapify 함수는 주어진 리스트를 힙 정렬합니다. 이때의 Time Complexity는 O(n)입니다."
      ]
    },
    {
      "cell_type": "code",
      "metadata": {
        "id": "tr2AH-G5IYmt",
        "colab_type": "code",
        "outputId": "a7eec716-ca5c-4869-ad1b-7b337dd2b760",
        "colab": {
          "base_uri": "https://localhost:8080/",
          "height": 34
        }
      },
      "source": [
        "# 힙정렬 예시\n",
        "\n",
        "import heapq\n",
        "\n",
        "my_list = [13, 2, 1, 5, 10]\n",
        "heapq.heapify(my_list)\n",
        "\n",
        "# 가장 작은 원소인 1이 가장 앞으로 왔습니다.\n",
        "my_list"
      ],
      "execution_count": 0,
      "outputs": [
        {
          "output_type": "execute_result",
          "data": {
            "text/plain": [
              "[1, 2, 13, 5, 10]"
            ]
          },
          "metadata": {
            "tags": []
          },
          "execution_count": 1
        }
      ]
    },
    {
      "cell_type": "markdown",
      "metadata": {
        "id": "e5URSBxXKb5m",
        "colab_type": "text"
      },
      "source": [
        "## heap - heappop(heap)\n",
        "\n",
        "heap모듈의 heapop 함수는 **힙 정렬된** 리스트에서 \n",
        "\n",
        "1. 가장 작은 원소를 빼내고\n",
        "2. 나머지 원소가 힙을 유지하도록 정리합니다.\n",
        "\n",
        "이 함수를 사용할 때에는 주어진 **리스트가 힙 정렬되어있는지** 반드시 확인하세요. 정렬되지 않은 리스트에 heappop를 사용하면 이상한 결과가 나옵니다."
      ]
    },
    {
      "cell_type": "code",
      "metadata": {
        "id": "n4NzHxnZKbJq",
        "colab_type": "code",
        "outputId": "9e9489e1-05e1-4c0a-b12d-8faab0714a50",
        "colab": {
          "base_uri": "https://localhost:8080/",
          "height": 51
        }
      },
      "source": [
        "# heappop 예시 1\n",
        "\n",
        "import heapq\n",
        "my_list = [13, 2, 1, 5, 10]\n",
        "heapq.heapify(my_list)\n",
        "\n",
        "# 가장 작은 원소인 1이 리턴됩니다. my_list의 길이가 하나 줄어듭니다.\n",
        "ret_val = heapq.heappop(my_list)\n",
        "\n",
        "print(\"리턴된 값:\", ret_val)\n",
        "print(\"남은 원소:\", my_list)"
      ],
      "execution_count": 0,
      "outputs": [
        {
          "output_type": "stream",
          "text": [
            "리턴된 값: 1\n",
            "남은 원소: [2, 5, 13, 10]\n"
          ],
          "name": "stdout"
        }
      ]
    },
    {
      "cell_type": "code",
      "metadata": {
        "id": "pDYTyBLxJTPX",
        "colab_type": "code",
        "outputId": "bea85d58-4fc8-4d1b-f2eb-b74e9e07e7c2",
        "colab": {
          "base_uri": "https://localhost:8080/",
          "height": 102
        }
      },
      "source": [
        "# heappop 예시 2 - 빈 리스트가 될때까지 원소 빼내기.\n",
        "\n",
        "import heapq\n",
        "my_list = [13, 2, 1, 5, 10]\n",
        "heapq.heapify(my_list)\n",
        "\n",
        "# 작은 원소가 먼저 제거됩니다.\n",
        "while my_list:\n",
        "    print(\"리턴된 값:\", heapq.heappop(my_list))"
      ],
      "execution_count": 0,
      "outputs": [
        {
          "output_type": "stream",
          "text": [
            "리턴된 값: 1\n",
            "리턴된 값: 2\n",
            "리턴된 값: 5\n",
            "리턴된 값: 10\n",
            "리턴된 값: 13\n"
          ],
          "name": "stdout"
        }
      ]
    },
    {
      "cell_type": "markdown",
      "metadata": {
        "id": "DYnai3gTQEzg",
        "colab_type": "text"
      },
      "source": [
        "## heap - heappush(heap, item)\n",
        "\n",
        "heap모듈의 heappush 함수는 **힙 정렬된** 리스트의 힙 상태를 유지하면서 데이터를 삽입시켜줍니다.\n",
        "\n",
        "이 함수를 사용할 때에는 주어진 **리스트가 힙 정렬되어있는지** 반드시 확인하세요. 정렬되지 않은 리스트에 heappush를 사용하면 이상한 결과가 나옵니다.\n"
      ]
    },
    {
      "cell_type": "code",
      "metadata": {
        "id": "sKuWE0fSP5aW",
        "colab_type": "code",
        "outputId": "a327ccf8-d68a-4044-ab32-a453ce62e032",
        "colab": {
          "base_uri": "https://localhost:8080/",
          "height": 34
        }
      },
      "source": [
        "# heappush 예시 1 - 현재의 min 값보다 더 작은 값을 넣음\n",
        "\n",
        "import heapq\n",
        "my_list = [13, 2, 1, 5, 10]\n",
        "heapq.heapify(my_list)\n",
        "\n",
        "# -1 삽입\n",
        "heapq.heappush(my_list, -1)\n",
        "\n",
        "# 가장 작은 원소인 -1이 가장 앞에 위치\n",
        "print(\"남은 원소:\", my_list)"
      ],
      "execution_count": 0,
      "outputs": [
        {
          "output_type": "stream",
          "text": [
            "남은 원소: [-1, 2, 1, 5, 10, 13]\n"
          ],
          "name": "stdout"
        }
      ]
    },
    {
      "cell_type": "code",
      "metadata": {
        "id": "7TGOA1omPkfd",
        "colab_type": "code",
        "outputId": "5920712a-4312-4868-f948-af9ef03487de",
        "colab": {
          "base_uri": "https://localhost:8080/",
          "height": 34
        }
      },
      "source": [
        "# heappush 예시 2 - 현재의 min값보다 큰 값을 넣음\n",
        "\n",
        "import heapq\n",
        "my_list = [13, 2, 1, 5, 10]\n",
        "heapq.heapify(my_list)\n",
        "\n",
        "# 100 삽입\n",
        "heapq.heappush(my_list, 7)\n",
        "\n",
        "# 기존에 가장 작았던 원소가 계속 앞에 위치\n",
        "print(\"남은 원소:\", my_list)"
      ],
      "execution_count": 0,
      "outputs": [
        {
          "output_type": "stream",
          "text": [
            "남은 원소: [1, 2, 7, 5, 10, 13]\n"
          ],
          "name": "stdout"
        }
      ]
    },
    {
      "cell_type": "markdown",
      "metadata": {
        "id": "owLZ_J8fGALl",
        "colab_type": "text"
      },
      "source": [
        "## heap - 가장 작은 원소에 접근하기\n",
        "\n",
        "heapify를 사용해 리스트를 힙 정렬했다면, 가장 작은 원소는 항상 리스트의 맨 앞에 있습니다. heappop을 이용해도 가장 작은 원소를 얻을 수 있지만, heappop은 리스트에서 원소를 꺼내는 작업도 같이 합니다.\n",
        "\n",
        "따라서 리스트를 변형하지 않은 채 가장 작은 원소를 알고 싶다면 인덱스 \\[0\\]을 사용해 리스트에 접근하세요."
      ]
    },
    {
      "cell_type": "code",
      "metadata": {
        "id": "NUVl1xrbF_sB",
        "colab_type": "code",
        "outputId": "d7d5f6c6-f2dd-4dac-d99c-c53523783919",
        "colab": {
          "base_uri": "https://localhost:8080/",
          "height": 102
        }
      },
      "source": [
        "# 가장 작은 원소에 접근 예시\n",
        "\n",
        "import heapq\n",
        "my_list = [13, 2, 1, 5, 10]\n",
        "heapq.heapify(my_list)\n",
        "\n",
        "# heappop을 하지만, 맨 앞 원소가 최솟값임은 변하지 않음\n",
        "while my_list:\n",
        "    print(\"리스트의 맨 앞 원소:\", my_list[0])\n",
        "    heapq.heappop(my_list)"
      ],
      "execution_count": 0,
      "outputs": [
        {
          "output_type": "stream",
          "text": [
            "리스트의 맨 앞 원소: 1\n",
            "리스트의 맨 앞 원소: 2\n",
            "리스트의 맨 앞 원소: 5\n",
            "리스트의 맨 앞 원소: 10\n",
            "리스트의 맨 앞 원소: 13\n"
          ],
          "name": "stdout"
        }
      ]
    },
    {
      "cell_type": "markdown",
      "metadata": {
        "id": "8icdOnj8HNYE",
        "colab_type": "text"
      },
      "source": [
        "# PriorityQueue 사용법\n",
        "\n",
        "PriorityQueue 클래스가 제공하는 메소드와 멤버 변수는 다음과 같습니다. 코딩 테스트에서는 필요하지 않는 메소드/멤버 변수는 언급하지 않겠습니다.\n",
        "\n",
        "\n",
        "| 구분      | 이름             | 하는 일                               |\n",
        "|-----------|------------------|---------------------------------------|\n",
        "| 메소드    | qsize()          | 들어있는 데이터의 길이를 리턴         |\n",
        "| 메소드    | empty()          | 큐가 비었는지 검사                    |\n",
        "| 메소드    | put_nowait(item) | item을 큐에 삽입                      |\n",
        "| 메소드    | get_nowait()     | 가장 작은 원소를 큐에서 제거하고 리턴 |\n",
        "| 멤버 변수 | queue            | 현재 큐에 들어 있는 데이터            |\n",
        "\n"
      ]
    },
    {
      "cell_type": "markdown",
      "metadata": {
        "id": "vcVGpevcRoEn",
        "colab_type": "text"
      },
      "source": [
        "## PriorityQueue - put_nowait(item)\n",
        "\n",
        "안타깝게도 PriorityQueue는 heapify같이 데이터를 한 번에 힙 정렬하는 기능은 없습니다. 따라서 힙 정렬할 데이터가 주어진다면, 데이터 수만큼 데이터를 삽입해야 합니다.\n",
        "\n",
        "데이터는 put 또는 put_nowait 메소드를 이용해 삽입합니다. 저는 put_nowait를 사용하겠습니다."
      ]
    },
    {
      "cell_type": "code",
      "metadata": {
        "id": "pz8tYaieRokf",
        "colab_type": "code",
        "outputId": "c0d9499d-85bc-4807-d73f-f2c8efdfa5b6",
        "colab": {
          "base_uri": "https://localhost:8080/",
          "height": 34
        }
      },
      "source": [
        "# 데이터 삽입 예시\n",
        "from queue import PriorityQueue\n",
        "\n",
        "my_list = [13, 2, 1, 5, 10]\n",
        "pq = PriorityQueue()\n",
        "\n",
        "# 데이터 삽입\n",
        "for val in my_list:\n",
        "    pq.put_nowait(val)\n",
        "    \n",
        "# queue 멤버 변수를 통해 현재 어떤 값이 들어있는지 확인 가능\n",
        "print(pq.queue)"
      ],
      "execution_count": 0,
      "outputs": [
        {
          "output_type": "stream",
          "text": [
            "[1, 5, 2, 13, 10]\n"
          ],
          "name": "stdout"
        }
      ]
    },
    {
      "cell_type": "markdown",
      "metadata": {
        "id": "i9VDeeKPQixL",
        "colab_type": "text"
      },
      "source": [
        "## PriorityQueue - get_nowait()\n",
        "\n",
        "데이터를 가져올 때에는 get 또는 get_nowait 메소드를 사용합니다. 저는 get_nowait를 사용하겠습니다."
      ]
    },
    {
      "cell_type": "code",
      "metadata": {
        "id": "dOimpn2EQbp3",
        "colab_type": "code",
        "outputId": "311bfb91-a9d4-4cbe-a85d-c5e97bafa9c8",
        "colab": {
          "base_uri": "https://localhost:8080/",
          "height": 34
        }
      },
      "source": [
        "# 데이터 접근 예시\n",
        "from queue import PriorityQueue\n",
        "\n",
        "my_list = [13, 2, 1, 5, 10]\n",
        "pq = PriorityQueue()\n",
        "for val in my_list:\n",
        "    pq.put_nowait(val)\n",
        "\n",
        "# 가작 작은 값 가져오기\n",
        "print(pq.get_nowait())"
      ],
      "execution_count": 0,
      "outputs": [
        {
          "output_type": "stream",
          "text": [
            "1\n"
          ],
          "name": "stdout"
        }
      ]
    },
    {
      "cell_type": "code",
      "metadata": {
        "id": "18fV2zreRNZC",
        "colab_type": "code",
        "outputId": "b828d9c4-2409-4545-9d8b-bdfe91c55b39",
        "colab": {
          "base_uri": "https://localhost:8080/",
          "height": 102
        }
      },
      "source": [
        "# 데이터 접근 예시\n",
        "from queue import PriorityQueue\n",
        "\n",
        "my_list = [13, 2, 1, 5, 10]\n",
        "pq = PriorityQueue()\n",
        "for val in my_list:\n",
        "    pq.put_nowait(val)\n",
        "\n",
        "# 큐가 빌 때까지 가장 작은 값 가져오기\n",
        "while not pq.empty():\n",
        "    print(pq.get_nowait())"
      ],
      "execution_count": 0,
      "outputs": [
        {
          "output_type": "stream",
          "text": [
            "1\n",
            "2\n",
            "5\n",
            "10\n",
            "13\n"
          ],
          "name": "stdout"
        }
      ]
    },
    {
      "cell_type": "markdown",
      "metadata": {
        "id": "C0FPfG9ET77v",
        "colab_type": "text"
      },
      "source": [
        "## PriorityQueue - qsize()\n",
        "\n",
        "현재 큐에 들은 원소의 수를 알아낼 때에는 qsize 메소드를 사용합니다."
      ]
    },
    {
      "cell_type": "code",
      "metadata": {
        "id": "oxbDxCBARa-_",
        "colab_type": "code",
        "outputId": "a2e97b7d-5541-4b58-c86b-1804abf1af12",
        "colab": {
          "base_uri": "https://localhost:8080/",
          "height": 102
        }
      },
      "source": [
        "from queue import PriorityQueue\n",
        "\n",
        "my_list = [13, 2, 1, 5, 10]\n",
        "pq = PriorityQueue()\n",
        "\n",
        "for val in my_list:\n",
        "    pq.put_nowait(val)\n",
        "    print('큐 크기:', pq.qsize())"
      ],
      "execution_count": 0,
      "outputs": [
        {
          "output_type": "stream",
          "text": [
            "큐 크기: 1\n",
            "큐 크기: 2\n",
            "큐 크기: 3\n",
            "큐 크기: 4\n",
            "큐 크기: 5\n"
          ],
          "name": "stdout"
        }
      ]
    },
    {
      "cell_type": "markdown",
      "metadata": {
        "id": "iwMDNhqtVPab",
        "colab_type": "text"
      },
      "source": [
        "## PriorityQueue - emtpy()\n",
        "\n",
        "현재 큐가 비었는지 아닌지 알아낼 때에는 empty 메소드를 사용합니다."
      ]
    },
    {
      "cell_type": "code",
      "metadata": {
        "colab_type": "code",
        "outputId": "57226d99-bc41-4b49-80aa-710f7fdaaf0e",
        "id": "8rAVyrOjM2Jt",
        "colab": {
          "base_uri": "https://localhost:8080/",
          "height": 51
        }
      },
      "source": [
        "from queue import PriorityQueue\n",
        "\n",
        "pq = PriorityQueue()\n",
        "\n",
        "print(\"큐가 비었나?:\", pq.empty())\n",
        "\n",
        "my_list = [13, 2, 1, 5, 10]\n",
        "for val in my_list:\n",
        "    pq.put_nowait(val)\n",
        "\n",
        "print(\"큐가 비었나?:\", pq.empty())\n"
      ],
      "execution_count": 0,
      "outputs": [
        {
          "output_type": "stream",
          "text": [
            "큐가 비었나?: True\n",
            "큐가 비었나?: False\n"
          ],
          "name": "stdout"
        }
      ]
    },
    {
      "cell_type": "markdown",
      "metadata": {
        "id": "KinRAo5Mtcp6",
        "colab_type": "text"
      },
      "source": [
        "## heapq 모듈 PriorityQueue 클래스의 속도 차이 비교\n",
        "\n",
        "heapq 모듈에 비해서 PriorityQueue 클래스의 속도는 조금 떨어지는 편입니다.\n",
        "아래 코드는 힙에 데이터를 100000 번 넣는 코드인데요.\n",
        "\n",
        "* heapq 모듈의 heappush는 수행을 완료하는데 약 40ms\n",
        "* PriorityQueue 클래스의 put_nowait는 약 300ms\n",
        "\n",
        "가 소요됩니다."
      ]
    },
    {
      "cell_type": "code",
      "metadata": {
        "id": "LSZI5JqVteio",
        "colab_type": "code",
        "colab": {}
      },
      "source": [
        "import heapq\n",
        "from queue import PriorityQueue\n",
        "import timeit\n",
        "import random\n",
        "\n",
        "random.seed(0)\n",
        "\n",
        "dataset = list(range(0,100000))\n",
        "random.shuffle(dataset)"
      ],
      "execution_count": 0,
      "outputs": []
    },
    {
      "cell_type": "code",
      "metadata": {
        "id": "QmIcXl4rtgWD",
        "colab_type": "code",
        "outputId": "0f508126-a387-49dd-9fa4-37fe8f383b87",
        "colab": {
          "base_uri": "https://localhost:8080/",
          "height": 51
        }
      },
      "source": [
        "def heapq_perform(dataset):\n",
        "  lst = []\n",
        "  for data in dataset:\n",
        "    heapq.heappush(lst, data)\n",
        "\n",
        "# heapq\n",
        "print(\"heapq를 사용했을 때:\")\n",
        "%timeit heapq_perform(dataset)"
      ],
      "execution_count": 0,
      "outputs": [
        {
          "output_type": "stream",
          "text": [
            "heapq를 사용했을 때:\n",
            "10 loops, best of 3: 40.1 ms per loop\n"
          ],
          "name": "stdout"
        }
      ]
    },
    {
      "cell_type": "code",
      "metadata": {
        "id": "FnnmvWIftnUk",
        "colab_type": "code",
        "outputId": "f7641bf4-8058-47f3-ac97-304b0928e54e",
        "colab": {
          "base_uri": "https://localhost:8080/",
          "height": 51
        }
      },
      "source": [
        "def pqclass_perform(dataset):\n",
        "  pq = PriorityQueue()\n",
        "  for data in dataset:\n",
        "    pq.put_nowait(data)\n",
        "\n",
        "print(\"PriorityQueue를 사용했을 때:\")\n",
        "%timeit -n 10 pqclass_perform(dataset)"
      ],
      "execution_count": 0,
      "outputs": [
        {
          "output_type": "stream",
          "text": [
            "PriorityQueue를 사용했을 때:\n",
            "10 loops, best of 3: 306 ms per loop\n"
          ],
          "name": "stdout"
        }
      ]
    },
    {
      "cell_type": "markdown",
      "metadata": {
        "id": "NbVC9-JZqi3O",
        "colab_type": "text"
      },
      "source": [
        "## heapq 모듈과 리스트 간 속도 차이 비교\n",
        "\n",
        "앞서 말했다시피, heapq는 다음과 같은 상황에서 써야 합니다.\n",
        "\n",
        "1. 힙은 데이터가 **지속적으로 정렬**돼야 하며\n",
        "2. 데이터의 **삽입/삭제가 빈번**하게 일어날 때 사용하세요.\n",
        "\n",
        "왜 이때 리스트보다 heapq를 쓰는 게 좋은 지 실험을 통해서 알아봅시다. \n",
        "\n",
        "아래 코드는 \"PUSH X\" 명령이 들어오면 자료구조에 데이터를 넣고, \"POP None\" 명령이 들어오면 데이터를 빼는 일을 반복합니다. 물론 이때 빼는 데이터는 자료구조에 들어간 값 중 가장 작은 값입니다.\n",
        "\n",
        "* heapq 모듈은 수행을 완료하는데 약 32ms\n",
        "* PriorityQueue 클래스의 put_nowait는 약 233ms\n",
        "\n",
        "가 소요됩니다. 지금은 몇 배 차이가 안 나지만, n이 커질수록 이 차는 굉장히 늘어날 겁니다."
      ]
    },
    {
      "cell_type": "code",
      "metadata": {
        "id": "sLzAN1HjrflM",
        "colab_type": "code",
        "outputId": "eb061954-d1a8-49b2-c8a3-4ea0f545d64d",
        "colab": {
          "base_uri": "https://localhost:8080/",
          "height": 34
        }
      },
      "source": [
        "random.seed(0)\n",
        "\n",
        "def build_comands(n=100000):\n",
        "  '''PUSH, POP 명령을 담은 리스트를 만드는 함수'''\n",
        "  commands = []\n",
        "  num_inserted = 0\n",
        "  \n",
        "  for _ in range(n):\n",
        "    operation = 'PUSH' if num_inserted == 0 else random.choice(['PUSH', 'POP'])\n",
        "    if operation == 'PUSH':\n",
        "      num_inserted += 1\n",
        "      number = random.randint(0,1000000) \n",
        "    else:\n",
        "      num_inserted -= 1\n",
        "      number = None\n",
        "    commands.append((operation, number))\n",
        "  \n",
        "  commands.extend([('POP', None)] * (num_inserted - 1))\n",
        "  return commands\n",
        "\n",
        "commands = build_comands()\n",
        "print(\"commands[:5] => \", commands[:5])"
      ],
      "execution_count": 0,
      "outputs": [
        {
          "output_type": "stream",
          "text": [
            "commands[:5] =>  [('PUSH', 885440), ('POP', None), ('PUSH', 794772), ('POP', None), ('PUSH', 42450)]\n"
          ],
          "name": "stdout"
        }
      ]
    },
    {
      "cell_type": "code",
      "metadata": {
        "id": "OopBjicTthU2",
        "colab_type": "code",
        "outputId": "d9661b91-f644-41af-f641-3ba5f96a331a",
        "colab": {
          "base_uri": "https://localhost:8080/",
          "height": 34
        }
      },
      "source": [
        "def heapq_perform(commands):\n",
        "  hq = []\n",
        "  for [operation, value] in commands:\n",
        "    if operation == 'PUSH':\n",
        "      heapq.heappush(hq, value)\n",
        "    else:\n",
        "      heapq.heappop(hq)\n",
        "\n",
        "%timeit -n 10 heapq_perform(commands)"
      ],
      "execution_count": 0,
      "outputs": [
        {
          "output_type": "stream",
          "text": [
            "10 loops, best of 3: 32.2 ms per loop\n"
          ],
          "name": "stdout"
        }
      ]
    },
    {
      "cell_type": "code",
      "metadata": {
        "id": "MeGXZAMAt7QY",
        "colab_type": "code",
        "outputId": "3923cd5a-5ca8-47b5-9629-c0bd120c47bf",
        "colab": {
          "base_uri": "https://localhost:8080/",
          "height": 34
        }
      },
      "source": [
        "def list_perform(commands):\n",
        "  lst = []\n",
        "  for [operation, value] in commands:\n",
        "    if operation == 'PUSH':\n",
        "      lst.append(value)\n",
        "    else:\n",
        "      lst.sort(reverse=True)\n",
        "      lst.pop()\n",
        "      \n",
        "%timeit -n 10 list_perform(commands)"
      ],
      "execution_count": 0,
      "outputs": [
        {
          "output_type": "stream",
          "text": [
            "10 loops, best of 3: 223 ms per loop\n"
          ],
          "name": "stdout"
        }
      ]
    }
  ]
}
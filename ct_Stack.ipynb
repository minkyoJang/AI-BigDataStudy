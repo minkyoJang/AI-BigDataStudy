{
  "nbformat": 4,
  "nbformat_minor": 0,
  "metadata": {
    "colab": {
      "name": "Stack.ipynb",
      "version": "0.3.2",
      "provenance": [],
      "collapsed_sections": [],
      "include_colab_link": true
    },
    "kernelspec": {
      "name": "python3",
      "display_name": "Python 3"
    }
  },
  "cells": [
    {
      "cell_type": "markdown",
      "metadata": {
        "id": "view-in-github",
        "colab_type": "text"
      },
      "source": [
        "<a href=\"https://colab.research.google.com/github/minkyoJang/AI-BigDataStudy/blob/master/ct_Stack.ipynb\" target=\"_parent\"><img src=\"https://colab.research.google.com/assets/colab-badge.svg\" alt=\"Open In Colab\"/></a>"
      ]
    },
    {
      "cell_type": "markdown",
      "metadata": {
        "id": "mUktXX8KyxYL",
        "colab_type": "text"
      },
      "source": [
        "# 파이썬에서의 스택 = list를 사용\n",
        "\n",
        "파이썬은 스택 자료구조는 따로 제공하지 않습니다. 다만 기본 클래스인 list를 통해 스택을 흉내 낼 수 있습니다.\n",
        "\n",
        "## 스택은 어떤 자료구조인가요?\n",
        "\n",
        "스택은 가장 나중에 들어온 자료가 가장 먼저 처리되는 LIFO(Last-In-First-Out) 자료구조입니다. 코딩 테스트 스터디에서는 자료 구조 이론에 대해서 다루지 않기 때문에 자세한 설명은 생략하겠습니다.\n",
        "\n",
        "#### 스택이 지원하는 operation\n",
        "\n",
        "스택은 다음 operation을 지원해야 합니다.\n",
        "\n",
        "| Operation  | 구현           | Time Complexity - Average Case |\n",
        "|------------|----------------|--------------------------------|\n",
        "| Pop item   | my_list.pop    | O(1)                           |\n",
        "| Push item  | my_list.append | O(1)                           |\n",
        "\n",
        "<br>\n",
        "\n",
        "표 출처: 파이썬 위키, https://wiki.python.org/moin/TimeComplexity, 2019.03.20"
      ]
    },
    {
      "cell_type": "markdown",
      "metadata": {
        "id": "oPqkoXK7ztGy",
        "colab_type": "text"
      },
      "source": [
        "# Stack 구현"
      ]
    },
    {
      "cell_type": "markdown",
      "metadata": {
        "id": "c3Qo_QVkzwKV",
        "colab_type": "text"
      },
      "source": [
        "## stack - Init\n",
        "\n",
        "파이썬에서는 리스트로 스택을 흉내 냅니다. 따라서 스택 자료구조를 초기화할 때에는 빈 리스트를 만들어주세요."
      ]
    },
    {
      "cell_type": "code",
      "metadata": {
        "id": "i0tBllSlyxJ2",
        "colab_type": "code",
        "colab": {}
      },
      "source": [
        "# 빈 스택(리스트) 초기화\n",
        "stack = []\n",
        "stack"
      ],
      "execution_count": 0,
      "outputs": []
    },
    {
      "cell_type": "markdown",
      "metadata": {
        "id": "b-EpILFgz9Xo",
        "colab_type": "text"
      },
      "source": [
        "## stack - push\n",
        "\n",
        "스택에 원소를 넣을 때에는 append 메소드를 이용해 리스트의 가장 마지막에 원소를 넣도록 합니다."
      ]
    },
    {
      "cell_type": "code",
      "metadata": {
        "id": "ESZjkuk_0Ia1",
        "colab_type": "code",
        "outputId": "f3affe15-53a2-4020-a678-fd8d8df83fed",
        "colab": {
          "base_uri": "https://localhost:8080/",
          "height": 34
        }
      },
      "source": [
        "# 스택에 원소 추가\n",
        "\n",
        "stack = [1,2,3]\n",
        "stack.append(4)\n",
        "\n",
        "stack"
      ],
      "execution_count": 0,
      "outputs": [
        {
          "output_type": "execute_result",
          "data": {
            "text/plain": [
              "[1, 2, 3, 4]"
            ]
          },
          "metadata": {
            "tags": []
          },
          "execution_count": 2
        }
      ]
    },
    {
      "cell_type": "markdown",
      "metadata": {
        "id": "9v7LKTbQz9KW",
        "colab_type": "text"
      },
      "source": [
        "## stack - pop\n",
        "\n",
        "스택에서 원소를 제거할 때에는 pop 메소드를 이용해 리스트의 가장 마지막 원소를 제거해줍니다. 이때, pop 메소드에 의해 제거한 원소를 리턴 받을 수 있습니다."
      ]
    },
    {
      "cell_type": "code",
      "metadata": {
        "id": "daCUvlOz0fR1",
        "colab_type": "code",
        "outputId": "2ee4c27f-60e9-4d41-feb7-dafc1b7c01c7",
        "colab": {
          "base_uri": "https://localhost:8080/",
          "height": 52
        }
      },
      "source": [
        "# 스택에서 원소 제거\n",
        "\n",
        "stack = [1,2,3]\n",
        "top = stack.pop()\n",
        "\n",
        "print(top)\n",
        "stack"
      ],
      "execution_count": 0,
      "outputs": [
        {
          "output_type": "stream",
          "text": [
            "3\n"
          ],
          "name": "stdout"
        },
        {
          "output_type": "execute_result",
          "data": {
            "text/plain": [
              "[1, 2]"
            ]
          },
          "metadata": {
            "tags": []
          },
          "execution_count": 5
        }
      ]
    },
    {
      "cell_type": "markdown",
      "metadata": {
        "id": "GhW5Pza90n0s",
        "colab_type": "text"
      },
      "source": [
        "## stack - top\n",
        "\n",
        "스택에서 원소를 제거하지 않고 가져오기만 할 때에는 `[-1]`을 이용하도록 합시다."
      ]
    },
    {
      "cell_type": "code",
      "metadata": {
        "id": "4nUz76is0oN9",
        "colab_type": "code",
        "outputId": "3920a8bc-6fcd-4d37-a40f-dc96f47c7bc3",
        "colab": {
          "base_uri": "https://localhost:8080/",
          "height": 34
        }
      },
      "source": [
        "# 스택의 top 가져오기\n",
        "\n",
        "stack = [1,2,3]\n",
        "top = stack[-1]\n",
        "\n",
        "top"
      ],
      "execution_count": 0,
      "outputs": [
        {
          "output_type": "execute_result",
          "data": {
            "text/plain": [
              "3"
            ]
          },
          "metadata": {
            "tags": []
          },
          "execution_count": 6
        }
      ]
    }
  ]
}
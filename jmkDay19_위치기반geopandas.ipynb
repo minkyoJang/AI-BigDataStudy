{
 "cells": [
  {
   "cell_type": "markdown",
   "metadata": {},
   "source": [
    "# anaconda prompt로 설치하세요\n",
    "- conda install geopandas\n",
    "- 이거 설치 잘 안되어서 컴퓨터 설치후 재부팅해야함\n",
    "\n",
    "# geopandas 사용하는 이유\n",
    "- 폴리엄에서 못했던 것들 여기서 사용할 수있음\n",
    "- 단, 예쁘진 않음"
   ]
  },
  {
   "cell_type": "code",
   "execution_count": 1,
   "metadata": {},
   "outputs": [],
   "source": [
    "import geopandas as gpd"
   ]
  },
  {
   "cell_type": "code",
   "execution_count": 3,
   "metadata": {},
   "outputs": [
    {
     "data": {
      "text/plain": [
       "['GeoDataFrame',\n",
       " 'GeoSeries',\n",
       " '__builtins__',\n",
       " '__cached__',\n",
       " '__doc__',\n",
       " '__file__',\n",
       " '__loader__',\n",
       " '__name__',\n",
       " '__package__',\n",
       " '__path__',\n",
       " '__spec__',\n",
       " '__version__',\n",
       " '_version',\n",
       " 'base',\n",
       " 'datasets',\n",
       " 'geodataframe',\n",
       " 'geopandas',\n",
       " 'geoseries',\n",
       " 'gpd',\n",
       " 'io',\n",
       " 'np',\n",
       " 'overlay',\n",
       " 'pd',\n",
       " 'plotting',\n",
       " 'read_file',\n",
       " 'read_postgis',\n",
       " 'sjoin',\n",
       " 'tools']"
      ]
     },
     "execution_count": 3,
     "metadata": {},
     "output_type": "execute_result"
    }
   ],
   "source": [
    "dir(gpd)"
   ]
  },
  {
   "cell_type": "markdown",
   "metadata": {},
   "source": [
    "#### dir(gpd)에 databsets 있지 연습용 있음"
   ]
  },
  {
   "cell_type": "code",
   "execution_count": 4,
   "metadata": {},
   "outputs": [],
   "source": [
    "world = gpd.read_file(gpd.datasets.get_path('naturalearth_lowres'))"
   ]
  },
  {
   "cell_type": "markdown",
   "metadata": {},
   "source": [
    "### geopandas 안 예쁜 이유\n",
    "- 맷플라블릿 즉 기본으로만 그려서 안 예쁨"
   ]
  },
  {
   "cell_type": "markdown",
   "metadata": {},
   "source": [
    "### matplotlib\n",
    "- 임포트 할떄 이거 안하면 그래프 안 그려짐\n",
    "- 옵션(inline, notebook) 2개 가능\n",
    "    - 인라인: 박아버린다. 인터레비트 안해\n",
    "    - 노트북: 인터액티브 할거야\n",
    "    \n",
    "    "
   ]
  },
  {
   "cell_type": "code",
   "execution_count": 6,
   "metadata": {},
   "outputs": [],
   "source": [
    "%matplotlib inline #옵션뒤에 inline/Notebook 두가지 고를 수 있어"
   ]
  },
  {
   "cell_type": "markdown",
   "metadata": {},
   "source": [
    "### 연습용 데이터 3개\n",
    "- 판다스니까 읽어올때 read_로 부름\n",
    "- 파일로 불러들임"
   ]
  },
  {
   "cell_type": "code",
   "execution_count": 7,
   "metadata": {},
   "outputs": [
    {
     "data": {
      "text/plain": [
       "['naturalearth_cities', 'naturalearth_lowres', 'nybb']"
      ]
     },
     "execution_count": 7,
     "metadata": {},
     "output_type": "execute_result"
    }
   ],
   "source": [
    "gpd.datasets.available"
   ]
  },
  {
   "cell_type": "markdown",
   "metadata": {},
   "source": [
    "#### lowres- 저해상도"
   ]
  },
  {
   "cell_type": "code",
   "execution_count": 10,
   "metadata": {},
   "outputs": [],
   "source": [
    "world_cities = gpd.read_file(gpd.datasets.get_path('naturalearth_lowres'))"
   ]
  },
  {
   "cell_type": "code",
   "execution_count": 11,
   "metadata": {},
   "outputs": [
    {
     "data": {
      "text/html": [
       "<div>\n",
       "<style scoped>\n",
       "    .dataframe tbody tr th:only-of-type {\n",
       "        vertical-align: middle;\n",
       "    }\n",
       "\n",
       "    .dataframe tbody tr th {\n",
       "        vertical-align: top;\n",
       "    }\n",
       "\n",
       "    .dataframe thead th {\n",
       "        text-align: right;\n",
       "    }\n",
       "</style>\n",
       "<table border=\"1\" class=\"dataframe\">\n",
       "  <thead>\n",
       "    <tr style=\"text-align: right;\">\n",
       "      <th></th>\n",
       "      <th>pop_est</th>\n",
       "      <th>continent</th>\n",
       "      <th>name</th>\n",
       "      <th>iso_a3</th>\n",
       "      <th>gdp_md_est</th>\n",
       "      <th>geometry</th>\n",
       "    </tr>\n",
       "  </thead>\n",
       "  <tbody>\n",
       "    <tr>\n",
       "      <th>0</th>\n",
       "      <td>28400000.0</td>\n",
       "      <td>Asia</td>\n",
       "      <td>Afghanistan</td>\n",
       "      <td>AFG</td>\n",
       "      <td>22270.0</td>\n",
       "      <td>POLYGON ((61.21081709172574 35.65007233330923,...</td>\n",
       "    </tr>\n",
       "    <tr>\n",
       "      <th>1</th>\n",
       "      <td>12799293.0</td>\n",
       "      <td>Africa</td>\n",
       "      <td>Angola</td>\n",
       "      <td>AGO</td>\n",
       "      <td>110300.0</td>\n",
       "      <td>(POLYGON ((16.32652835456705 -5.87747039146621...</td>\n",
       "    </tr>\n",
       "    <tr>\n",
       "      <th>2</th>\n",
       "      <td>3639453.0</td>\n",
       "      <td>Europe</td>\n",
       "      <td>Albania</td>\n",
       "      <td>ALB</td>\n",
       "      <td>21810.0</td>\n",
       "      <td>POLYGON ((20.59024743010491 41.85540416113361,...</td>\n",
       "    </tr>\n",
       "    <tr>\n",
       "      <th>3</th>\n",
       "      <td>4798491.0</td>\n",
       "      <td>Asia</td>\n",
       "      <td>United Arab Emirates</td>\n",
       "      <td>ARE</td>\n",
       "      <td>184300.0</td>\n",
       "      <td>POLYGON ((51.57951867046327 24.24549713795111,...</td>\n",
       "    </tr>\n",
       "    <tr>\n",
       "      <th>4</th>\n",
       "      <td>40913584.0</td>\n",
       "      <td>South America</td>\n",
       "      <td>Argentina</td>\n",
       "      <td>ARG</td>\n",
       "      <td>573900.0</td>\n",
       "      <td>(POLYGON ((-65.50000000000003 -55.199999999999...</td>\n",
       "    </tr>\n",
       "    <tr>\n",
       "      <th>5</th>\n",
       "      <td>2967004.0</td>\n",
       "      <td>Asia</td>\n",
       "      <td>Armenia</td>\n",
       "      <td>ARM</td>\n",
       "      <td>18770.0</td>\n",
       "      <td>POLYGON ((43.58274580259273 41.09214325618257,...</td>\n",
       "    </tr>\n",
       "    <tr>\n",
       "      <th>6</th>\n",
       "      <td>3802.0</td>\n",
       "      <td>Antarctica</td>\n",
       "      <td>Antarctica</td>\n",
       "      <td>ATA</td>\n",
       "      <td>760.4</td>\n",
       "      <td>(POLYGON ((-59.57209469261153 -80.040178725096...</td>\n",
       "    </tr>\n",
       "    <tr>\n",
       "      <th>7</th>\n",
       "      <td>140.0</td>\n",
       "      <td>Seven seas (open ocean)</td>\n",
       "      <td>Fr. S. Antarctic Lands</td>\n",
       "      <td>ATF</td>\n",
       "      <td>16.0</td>\n",
       "      <td>POLYGON ((68.935 -48.62500000000001, 69.58 -48...</td>\n",
       "    </tr>\n",
       "    <tr>\n",
       "      <th>8</th>\n",
       "      <td>21262641.0</td>\n",
       "      <td>Oceania</td>\n",
       "      <td>Australia</td>\n",
       "      <td>AUS</td>\n",
       "      <td>800200.0</td>\n",
       "      <td>(POLYGON ((145.3979781434948 -40.7925485166058...</td>\n",
       "    </tr>\n",
       "    <tr>\n",
       "      <th>9</th>\n",
       "      <td>8210281.0</td>\n",
       "      <td>Europe</td>\n",
       "      <td>Austria</td>\n",
       "      <td>AUT</td>\n",
       "      <td>329500.0</td>\n",
       "      <td>POLYGON ((16.97966678230404 48.12349701597631,...</td>\n",
       "    </tr>\n",
       "    <tr>\n",
       "      <th>10</th>\n",
       "      <td>8238672.0</td>\n",
       "      <td>Asia</td>\n",
       "      <td>Azerbaijan</td>\n",
       "      <td>AZE</td>\n",
       "      <td>77610.0</td>\n",
       "      <td>(POLYGON ((45.0019873390568 39.7400035670496, ...</td>\n",
       "    </tr>\n",
       "    <tr>\n",
       "      <th>11</th>\n",
       "      <td>8988091.0</td>\n",
       "      <td>Africa</td>\n",
       "      <td>Burundi</td>\n",
       "      <td>BDI</td>\n",
       "      <td>3102.0</td>\n",
       "      <td>POLYGON ((29.33999759290035 -4.499983412294092...</td>\n",
       "    </tr>\n",
       "    <tr>\n",
       "      <th>12</th>\n",
       "      <td>10414336.0</td>\n",
       "      <td>Europe</td>\n",
       "      <td>Belgium</td>\n",
       "      <td>BEL</td>\n",
       "      <td>389300.0</td>\n",
       "      <td>POLYGON ((3.314971144228537 51.34578095153609,...</td>\n",
       "    </tr>\n",
       "    <tr>\n",
       "      <th>13</th>\n",
       "      <td>8791832.0</td>\n",
       "      <td>Africa</td>\n",
       "      <td>Benin</td>\n",
       "      <td>BEN</td>\n",
       "      <td>12830.0</td>\n",
       "      <td>POLYGON ((2.691701694356254 6.258817246928629,...</td>\n",
       "    </tr>\n",
       "    <tr>\n",
       "      <th>14</th>\n",
       "      <td>15746232.0</td>\n",
       "      <td>Africa</td>\n",
       "      <td>Burkina Faso</td>\n",
       "      <td>BFA</td>\n",
       "      <td>17820.0</td>\n",
       "      <td>POLYGON ((-2.827496303712707 9.642460842319778...</td>\n",
       "    </tr>\n",
       "    <tr>\n",
       "      <th>15</th>\n",
       "      <td>156050883.0</td>\n",
       "      <td>Asia</td>\n",
       "      <td>Bangladesh</td>\n",
       "      <td>BGD</td>\n",
       "      <td>224000.0</td>\n",
       "      <td>POLYGON ((92.67272098182556 22.04123891854125,...</td>\n",
       "    </tr>\n",
       "    <tr>\n",
       "      <th>16</th>\n",
       "      <td>7204687.0</td>\n",
       "      <td>Europe</td>\n",
       "      <td>Bulgaria</td>\n",
       "      <td>BGR</td>\n",
       "      <td>93750.0</td>\n",
       "      <td>POLYGON ((22.65714969248299 44.23492300066128,...</td>\n",
       "    </tr>\n",
       "    <tr>\n",
       "      <th>17</th>\n",
       "      <td>309156.0</td>\n",
       "      <td>North America</td>\n",
       "      <td>Bahamas</td>\n",
       "      <td>BHS</td>\n",
       "      <td>9093.0</td>\n",
       "      <td>(POLYGON ((-77.53465999999997 23.7597499999999...</td>\n",
       "    </tr>\n",
       "    <tr>\n",
       "      <th>18</th>\n",
       "      <td>4613414.0</td>\n",
       "      <td>Europe</td>\n",
       "      <td>Bosnia and Herz.</td>\n",
       "      <td>BIH</td>\n",
       "      <td>29700.0</td>\n",
       "      <td>POLYGON ((19.00548628101012 44.86023366960916,...</td>\n",
       "    </tr>\n",
       "    <tr>\n",
       "      <th>19</th>\n",
       "      <td>9648533.0</td>\n",
       "      <td>Europe</td>\n",
       "      <td>Belarus</td>\n",
       "      <td>BLR</td>\n",
       "      <td>114100.0</td>\n",
       "      <td>POLYGON ((23.48412763844985 53.91249766704114,...</td>\n",
       "    </tr>\n",
       "    <tr>\n",
       "      <th>20</th>\n",
       "      <td>307899.0</td>\n",
       "      <td>North America</td>\n",
       "      <td>Belize</td>\n",
       "      <td>BLZ</td>\n",
       "      <td>2536.0</td>\n",
       "      <td>POLYGON ((-89.14308041050332 17.80831899664932...</td>\n",
       "    </tr>\n",
       "    <tr>\n",
       "      <th>21</th>\n",
       "      <td>9775246.0</td>\n",
       "      <td>South America</td>\n",
       "      <td>Bolivia</td>\n",
       "      <td>BOL</td>\n",
       "      <td>43270.0</td>\n",
       "      <td>POLYGON ((-62.84646847192156 -22.0349854468694...</td>\n",
       "    </tr>\n",
       "    <tr>\n",
       "      <th>22</th>\n",
       "      <td>198739269.0</td>\n",
       "      <td>South America</td>\n",
       "      <td>Brazil</td>\n",
       "      <td>BRA</td>\n",
       "      <td>1993000.0</td>\n",
       "      <td>POLYGON ((-57.62513342958296 -30.2162948544542...</td>\n",
       "    </tr>\n",
       "    <tr>\n",
       "      <th>23</th>\n",
       "      <td>388190.0</td>\n",
       "      <td>Asia</td>\n",
       "      <td>Brunei</td>\n",
       "      <td>BRN</td>\n",
       "      <td>20250.0</td>\n",
       "      <td>POLYGON ((114.2040165548284 4.525873928236805,...</td>\n",
       "    </tr>\n",
       "    <tr>\n",
       "      <th>24</th>\n",
       "      <td>691141.0</td>\n",
       "      <td>Asia</td>\n",
       "      <td>Bhutan</td>\n",
       "      <td>BTN</td>\n",
       "      <td>3524.0</td>\n",
       "      <td>POLYGON ((91.69665652869668 27.77174184825166,...</td>\n",
       "    </tr>\n",
       "    <tr>\n",
       "      <th>25</th>\n",
       "      <td>1990876.0</td>\n",
       "      <td>Africa</td>\n",
       "      <td>Botswana</td>\n",
       "      <td>BWA</td>\n",
       "      <td>27060.0</td>\n",
       "      <td>POLYGON ((25.64916344575016 -18.53602589281899...</td>\n",
       "    </tr>\n",
       "    <tr>\n",
       "      <th>26</th>\n",
       "      <td>4511488.0</td>\n",
       "      <td>Africa</td>\n",
       "      <td>Central African Rep.</td>\n",
       "      <td>CAF</td>\n",
       "      <td>3198.0</td>\n",
       "      <td>POLYGON ((15.27946048346911 7.421924546737969,...</td>\n",
       "    </tr>\n",
       "    <tr>\n",
       "      <th>27</th>\n",
       "      <td>33487208.0</td>\n",
       "      <td>North America</td>\n",
       "      <td>Canada</td>\n",
       "      <td>CAN</td>\n",
       "      <td>1300000.0</td>\n",
       "      <td>(POLYGON ((-63.66449999999998 46.5500099999999...</td>\n",
       "    </tr>\n",
       "    <tr>\n",
       "      <th>28</th>\n",
       "      <td>7604467.0</td>\n",
       "      <td>Europe</td>\n",
       "      <td>Switzerland</td>\n",
       "      <td>CHE</td>\n",
       "      <td>316700.0</td>\n",
       "      <td>POLYGON ((9.59422610844635 47.52505809182027, ...</td>\n",
       "    </tr>\n",
       "    <tr>\n",
       "      <th>29</th>\n",
       "      <td>16601707.0</td>\n",
       "      <td>South America</td>\n",
       "      <td>Chile</td>\n",
       "      <td>CHL</td>\n",
       "      <td>244500.0</td>\n",
       "      <td>(POLYGON ((-68.63401022758316 -52.636370458874...</td>\n",
       "    </tr>\n",
       "    <tr>\n",
       "      <th>...</th>\n",
       "      <td>...</td>\n",
       "      <td>...</td>\n",
       "      <td>...</td>\n",
       "      <td>...</td>\n",
       "      <td>...</td>\n",
       "      <td>...</td>\n",
       "    </tr>\n",
       "    <tr>\n",
       "      <th>147</th>\n",
       "      <td>7379339.0</td>\n",
       "      <td>Europe</td>\n",
       "      <td>Serbia</td>\n",
       "      <td>SRB</td>\n",
       "      <td>80340.0</td>\n",
       "      <td>POLYGON ((20.87431277841341 45.41637543393432,...</td>\n",
       "    </tr>\n",
       "    <tr>\n",
       "      <th>148</th>\n",
       "      <td>481267.0</td>\n",
       "      <td>South America</td>\n",
       "      <td>Suriname</td>\n",
       "      <td>SUR</td>\n",
       "      <td>4254.0</td>\n",
       "      <td>POLYGON ((-57.14743648947689 5.973149929219161...</td>\n",
       "    </tr>\n",
       "    <tr>\n",
       "      <th>149</th>\n",
       "      <td>5463046.0</td>\n",
       "      <td>Europe</td>\n",
       "      <td>Slovakia</td>\n",
       "      <td>SVK</td>\n",
       "      <td>119500.0</td>\n",
       "      <td>POLYGON ((18.85314415861362 49.49622976337764,...</td>\n",
       "    </tr>\n",
       "    <tr>\n",
       "      <th>150</th>\n",
       "      <td>2005692.0</td>\n",
       "      <td>Europe</td>\n",
       "      <td>Slovenia</td>\n",
       "      <td>SVN</td>\n",
       "      <td>59340.0</td>\n",
       "      <td>POLYGON ((13.80647545742153 46.50930613869122,...</td>\n",
       "    </tr>\n",
       "    <tr>\n",
       "      <th>151</th>\n",
       "      <td>9059651.0</td>\n",
       "      <td>Europe</td>\n",
       "      <td>Sweden</td>\n",
       "      <td>SWE</td>\n",
       "      <td>344300.0</td>\n",
       "      <td>POLYGON ((22.18317345550193 65.72374054632017,...</td>\n",
       "    </tr>\n",
       "    <tr>\n",
       "      <th>152</th>\n",
       "      <td>1123913.0</td>\n",
       "      <td>Africa</td>\n",
       "      <td>Swaziland</td>\n",
       "      <td>SWZ</td>\n",
       "      <td>5702.0</td>\n",
       "      <td>POLYGON ((32.07166548028107 -26.73382008230491...</td>\n",
       "    </tr>\n",
       "    <tr>\n",
       "      <th>153</th>\n",
       "      <td>20178485.0</td>\n",
       "      <td>Asia</td>\n",
       "      <td>Syria</td>\n",
       "      <td>SYR</td>\n",
       "      <td>98830.0</td>\n",
       "      <td>POLYGON ((38.79234052913608 33.37868642835222,...</td>\n",
       "    </tr>\n",
       "    <tr>\n",
       "      <th>154</th>\n",
       "      <td>10329208.0</td>\n",
       "      <td>Africa</td>\n",
       "      <td>Chad</td>\n",
       "      <td>TCD</td>\n",
       "      <td>15860.0</td>\n",
       "      <td>POLYGON ((14.4957873877629 12.85939626713736, ...</td>\n",
       "    </tr>\n",
       "    <tr>\n",
       "      <th>155</th>\n",
       "      <td>6019877.0</td>\n",
       "      <td>Africa</td>\n",
       "      <td>Togo</td>\n",
       "      <td>TGO</td>\n",
       "      <td>5118.0</td>\n",
       "      <td>POLYGON ((1.865240512712319 6.142157701029731,...</td>\n",
       "    </tr>\n",
       "    <tr>\n",
       "      <th>156</th>\n",
       "      <td>65905410.0</td>\n",
       "      <td>Asia</td>\n",
       "      <td>Thailand</td>\n",
       "      <td>THA</td>\n",
       "      <td>547400.0</td>\n",
       "      <td>POLYGON ((102.5849324890267 12.18659495691328,...</td>\n",
       "    </tr>\n",
       "    <tr>\n",
       "      <th>157</th>\n",
       "      <td>7349145.0</td>\n",
       "      <td>Asia</td>\n",
       "      <td>Tajikistan</td>\n",
       "      <td>TJK</td>\n",
       "      <td>13160.0</td>\n",
       "      <td>POLYGON ((71.01419803252017 40.24436554621823,...</td>\n",
       "    </tr>\n",
       "    <tr>\n",
       "      <th>158</th>\n",
       "      <td>4884887.0</td>\n",
       "      <td>Asia</td>\n",
       "      <td>Turkmenistan</td>\n",
       "      <td>TKM</td>\n",
       "      <td>29780.0</td>\n",
       "      <td>POLYGON ((61.21081709172574 35.65007233330923,...</td>\n",
       "    </tr>\n",
       "    <tr>\n",
       "      <th>159</th>\n",
       "      <td>1131612.0</td>\n",
       "      <td>Asia</td>\n",
       "      <td>Timor-Leste</td>\n",
       "      <td>TLS</td>\n",
       "      <td>2520.0</td>\n",
       "      <td>POLYGON ((124.9686824891162 -8.892790215697083...</td>\n",
       "    </tr>\n",
       "    <tr>\n",
       "      <th>160</th>\n",
       "      <td>1310000.0</td>\n",
       "      <td>North America</td>\n",
       "      <td>Trinidad and Tobago</td>\n",
       "      <td>TTO</td>\n",
       "      <td>29010.0</td>\n",
       "      <td>POLYGON ((-61.68000000000001 10.76, -61.105 10...</td>\n",
       "    </tr>\n",
       "    <tr>\n",
       "      <th>161</th>\n",
       "      <td>10486339.0</td>\n",
       "      <td>Africa</td>\n",
       "      <td>Tunisia</td>\n",
       "      <td>TUN</td>\n",
       "      <td>81710.0</td>\n",
       "      <td>POLYGON ((9.482139926805274 30.30755605724619,...</td>\n",
       "    </tr>\n",
       "    <tr>\n",
       "      <th>162</th>\n",
       "      <td>76805524.0</td>\n",
       "      <td>Asia</td>\n",
       "      <td>Turkey</td>\n",
       "      <td>TUR</td>\n",
       "      <td>902700.0</td>\n",
       "      <td>(POLYGON ((36.91312706884216 41.33535838476431...</td>\n",
       "    </tr>\n",
       "    <tr>\n",
       "      <th>163</th>\n",
       "      <td>22974347.0</td>\n",
       "      <td>Asia</td>\n",
       "      <td>Taiwan</td>\n",
       "      <td>TWN</td>\n",
       "      <td>712000.0</td>\n",
       "      <td>POLYGON ((121.7778178243899 24.3942735865194, ...</td>\n",
       "    </tr>\n",
       "    <tr>\n",
       "      <th>164</th>\n",
       "      <td>41048532.0</td>\n",
       "      <td>Africa</td>\n",
       "      <td>Tanzania</td>\n",
       "      <td>TZA</td>\n",
       "      <td>54250.0</td>\n",
       "      <td>POLYGON ((33.9037111971046 -0.9499999999999886...</td>\n",
       "    </tr>\n",
       "    <tr>\n",
       "      <th>165</th>\n",
       "      <td>32369558.0</td>\n",
       "      <td>Africa</td>\n",
       "      <td>Uganda</td>\n",
       "      <td>UGA</td>\n",
       "      <td>39380.0</td>\n",
       "      <td>POLYGON ((31.86617000000007 -1.027359999999931...</td>\n",
       "    </tr>\n",
       "    <tr>\n",
       "      <th>166</th>\n",
       "      <td>45700395.0</td>\n",
       "      <td>Europe</td>\n",
       "      <td>Ukraine</td>\n",
       "      <td>UKR</td>\n",
       "      <td>339800.0</td>\n",
       "      <td>POLYGON ((31.78599816257159 52.10167796488545,...</td>\n",
       "    </tr>\n",
       "    <tr>\n",
       "      <th>167</th>\n",
       "      <td>3494382.0</td>\n",
       "      <td>South America</td>\n",
       "      <td>Uruguay</td>\n",
       "      <td>URY</td>\n",
       "      <td>43160.0</td>\n",
       "      <td>POLYGON ((-57.62513342958296 -30.2162948544542...</td>\n",
       "    </tr>\n",
       "    <tr>\n",
       "      <th>168</th>\n",
       "      <td>313973000.0</td>\n",
       "      <td>North America</td>\n",
       "      <td>United States</td>\n",
       "      <td>USA</td>\n",
       "      <td>15094000.0</td>\n",
       "      <td>(POLYGON ((-155.54211 19.08348000000001, -155....</td>\n",
       "    </tr>\n",
       "    <tr>\n",
       "      <th>169</th>\n",
       "      <td>27606007.0</td>\n",
       "      <td>Asia</td>\n",
       "      <td>Uzbekistan</td>\n",
       "      <td>UZB</td>\n",
       "      <td>71670.0</td>\n",
       "      <td>POLYGON ((66.51860680528867 37.36278432875879,...</td>\n",
       "    </tr>\n",
       "    <tr>\n",
       "      <th>170</th>\n",
       "      <td>26814843.0</td>\n",
       "      <td>South America</td>\n",
       "      <td>Venezuela</td>\n",
       "      <td>VEN</td>\n",
       "      <td>357400.0</td>\n",
       "      <td>POLYGON ((-71.3315836249503 11.77628408451581,...</td>\n",
       "    </tr>\n",
       "    <tr>\n",
       "      <th>171</th>\n",
       "      <td>86967524.0</td>\n",
       "      <td>Asia</td>\n",
       "      <td>Vietnam</td>\n",
       "      <td>VNM</td>\n",
       "      <td>241700.0</td>\n",
       "      <td>POLYGON ((108.0501802917829 21.55237986906012,...</td>\n",
       "    </tr>\n",
       "    <tr>\n",
       "      <th>172</th>\n",
       "      <td>218519.0</td>\n",
       "      <td>Oceania</td>\n",
       "      <td>Vanuatu</td>\n",
       "      <td>VUT</td>\n",
       "      <td>988.5</td>\n",
       "      <td>(POLYGON ((167.8448767438451 -16.4663331030971...</td>\n",
       "    </tr>\n",
       "    <tr>\n",
       "      <th>173</th>\n",
       "      <td>23822783.0</td>\n",
       "      <td>Asia</td>\n",
       "      <td>Yemen</td>\n",
       "      <td>YEM</td>\n",
       "      <td>55280.0</td>\n",
       "      <td>POLYGON ((53.10857262554751 16.65105113368895,...</td>\n",
       "    </tr>\n",
       "    <tr>\n",
       "      <th>174</th>\n",
       "      <td>49052489.0</td>\n",
       "      <td>Africa</td>\n",
       "      <td>South Africa</td>\n",
       "      <td>ZAF</td>\n",
       "      <td>491000.0</td>\n",
       "      <td>POLYGON ((31.52100141777888 -29.25738697684626...</td>\n",
       "    </tr>\n",
       "    <tr>\n",
       "      <th>175</th>\n",
       "      <td>11862740.0</td>\n",
       "      <td>Africa</td>\n",
       "      <td>Zambia</td>\n",
       "      <td>ZMB</td>\n",
       "      <td>17500.0</td>\n",
       "      <td>POLYGON ((32.75937544122132 -9.23059905358906,...</td>\n",
       "    </tr>\n",
       "    <tr>\n",
       "      <th>176</th>\n",
       "      <td>12619600.0</td>\n",
       "      <td>Africa</td>\n",
       "      <td>Zimbabwe</td>\n",
       "      <td>ZWE</td>\n",
       "      <td>9323.0</td>\n",
       "      <td>POLYGON ((31.19140913262129 -22.2515096981724,...</td>\n",
       "    </tr>\n",
       "  </tbody>\n",
       "</table>\n",
       "<p>177 rows × 6 columns</p>\n",
       "</div>"
      ],
      "text/plain": [
       "         pop_est                continent                    name iso_a3  \\\n",
       "0     28400000.0                     Asia             Afghanistan    AFG   \n",
       "1     12799293.0                   Africa                  Angola    AGO   \n",
       "2      3639453.0                   Europe                 Albania    ALB   \n",
       "3      4798491.0                     Asia    United Arab Emirates    ARE   \n",
       "4     40913584.0            South America               Argentina    ARG   \n",
       "5      2967004.0                     Asia                 Armenia    ARM   \n",
       "6         3802.0               Antarctica              Antarctica    ATA   \n",
       "7          140.0  Seven seas (open ocean)  Fr. S. Antarctic Lands    ATF   \n",
       "8     21262641.0                  Oceania               Australia    AUS   \n",
       "9      8210281.0                   Europe                 Austria    AUT   \n",
       "10     8238672.0                     Asia              Azerbaijan    AZE   \n",
       "11     8988091.0                   Africa                 Burundi    BDI   \n",
       "12    10414336.0                   Europe                 Belgium    BEL   \n",
       "13     8791832.0                   Africa                   Benin    BEN   \n",
       "14    15746232.0                   Africa            Burkina Faso    BFA   \n",
       "15   156050883.0                     Asia              Bangladesh    BGD   \n",
       "16     7204687.0                   Europe                Bulgaria    BGR   \n",
       "17      309156.0            North America                 Bahamas    BHS   \n",
       "18     4613414.0                   Europe        Bosnia and Herz.    BIH   \n",
       "19     9648533.0                   Europe                 Belarus    BLR   \n",
       "20      307899.0            North America                  Belize    BLZ   \n",
       "21     9775246.0            South America                 Bolivia    BOL   \n",
       "22   198739269.0            South America                  Brazil    BRA   \n",
       "23      388190.0                     Asia                  Brunei    BRN   \n",
       "24      691141.0                     Asia                  Bhutan    BTN   \n",
       "25     1990876.0                   Africa                Botswana    BWA   \n",
       "26     4511488.0                   Africa    Central African Rep.    CAF   \n",
       "27    33487208.0            North America                  Canada    CAN   \n",
       "28     7604467.0                   Europe             Switzerland    CHE   \n",
       "29    16601707.0            South America                   Chile    CHL   \n",
       "..           ...                      ...                     ...    ...   \n",
       "147    7379339.0                   Europe                  Serbia    SRB   \n",
       "148     481267.0            South America                Suriname    SUR   \n",
       "149    5463046.0                   Europe                Slovakia    SVK   \n",
       "150    2005692.0                   Europe                Slovenia    SVN   \n",
       "151    9059651.0                   Europe                  Sweden    SWE   \n",
       "152    1123913.0                   Africa               Swaziland    SWZ   \n",
       "153   20178485.0                     Asia                   Syria    SYR   \n",
       "154   10329208.0                   Africa                    Chad    TCD   \n",
       "155    6019877.0                   Africa                    Togo    TGO   \n",
       "156   65905410.0                     Asia                Thailand    THA   \n",
       "157    7349145.0                     Asia              Tajikistan    TJK   \n",
       "158    4884887.0                     Asia            Turkmenistan    TKM   \n",
       "159    1131612.0                     Asia             Timor-Leste    TLS   \n",
       "160    1310000.0            North America     Trinidad and Tobago    TTO   \n",
       "161   10486339.0                   Africa                 Tunisia    TUN   \n",
       "162   76805524.0                     Asia                  Turkey    TUR   \n",
       "163   22974347.0                     Asia                  Taiwan    TWN   \n",
       "164   41048532.0                   Africa                Tanzania    TZA   \n",
       "165   32369558.0                   Africa                  Uganda    UGA   \n",
       "166   45700395.0                   Europe                 Ukraine    UKR   \n",
       "167    3494382.0            South America                 Uruguay    URY   \n",
       "168  313973000.0            North America           United States    USA   \n",
       "169   27606007.0                     Asia              Uzbekistan    UZB   \n",
       "170   26814843.0            South America               Venezuela    VEN   \n",
       "171   86967524.0                     Asia                 Vietnam    VNM   \n",
       "172     218519.0                  Oceania                 Vanuatu    VUT   \n",
       "173   23822783.0                     Asia                   Yemen    YEM   \n",
       "174   49052489.0                   Africa            South Africa    ZAF   \n",
       "175   11862740.0                   Africa                  Zambia    ZMB   \n",
       "176   12619600.0                   Africa                Zimbabwe    ZWE   \n",
       "\n",
       "     gdp_md_est                                           geometry  \n",
       "0       22270.0  POLYGON ((61.21081709172574 35.65007233330923,...  \n",
       "1      110300.0  (POLYGON ((16.32652835456705 -5.87747039146621...  \n",
       "2       21810.0  POLYGON ((20.59024743010491 41.85540416113361,...  \n",
       "3      184300.0  POLYGON ((51.57951867046327 24.24549713795111,...  \n",
       "4      573900.0  (POLYGON ((-65.50000000000003 -55.199999999999...  \n",
       "5       18770.0  POLYGON ((43.58274580259273 41.09214325618257,...  \n",
       "6         760.4  (POLYGON ((-59.57209469261153 -80.040178725096...  \n",
       "7          16.0  POLYGON ((68.935 -48.62500000000001, 69.58 -48...  \n",
       "8      800200.0  (POLYGON ((145.3979781434948 -40.7925485166058...  \n",
       "9      329500.0  POLYGON ((16.97966678230404 48.12349701597631,...  \n",
       "10      77610.0  (POLYGON ((45.0019873390568 39.7400035670496, ...  \n",
       "11       3102.0  POLYGON ((29.33999759290035 -4.499983412294092...  \n",
       "12     389300.0  POLYGON ((3.314971144228537 51.34578095153609,...  \n",
       "13      12830.0  POLYGON ((2.691701694356254 6.258817246928629,...  \n",
       "14      17820.0  POLYGON ((-2.827496303712707 9.642460842319778...  \n",
       "15     224000.0  POLYGON ((92.67272098182556 22.04123891854125,...  \n",
       "16      93750.0  POLYGON ((22.65714969248299 44.23492300066128,...  \n",
       "17       9093.0  (POLYGON ((-77.53465999999997 23.7597499999999...  \n",
       "18      29700.0  POLYGON ((19.00548628101012 44.86023366960916,...  \n",
       "19     114100.0  POLYGON ((23.48412763844985 53.91249766704114,...  \n",
       "20       2536.0  POLYGON ((-89.14308041050332 17.80831899664932...  \n",
       "21      43270.0  POLYGON ((-62.84646847192156 -22.0349854468694...  \n",
       "22    1993000.0  POLYGON ((-57.62513342958296 -30.2162948544542...  \n",
       "23      20250.0  POLYGON ((114.2040165548284 4.525873928236805,...  \n",
       "24       3524.0  POLYGON ((91.69665652869668 27.77174184825166,...  \n",
       "25      27060.0  POLYGON ((25.64916344575016 -18.53602589281899...  \n",
       "26       3198.0  POLYGON ((15.27946048346911 7.421924546737969,...  \n",
       "27    1300000.0  (POLYGON ((-63.66449999999998 46.5500099999999...  \n",
       "28     316700.0  POLYGON ((9.59422610844635 47.52505809182027, ...  \n",
       "29     244500.0  (POLYGON ((-68.63401022758316 -52.636370458874...  \n",
       "..          ...                                                ...  \n",
       "147     80340.0  POLYGON ((20.87431277841341 45.41637543393432,...  \n",
       "148      4254.0  POLYGON ((-57.14743648947689 5.973149929219161...  \n",
       "149    119500.0  POLYGON ((18.85314415861362 49.49622976337764,...  \n",
       "150     59340.0  POLYGON ((13.80647545742153 46.50930613869122,...  \n",
       "151    344300.0  POLYGON ((22.18317345550193 65.72374054632017,...  \n",
       "152      5702.0  POLYGON ((32.07166548028107 -26.73382008230491...  \n",
       "153     98830.0  POLYGON ((38.79234052913608 33.37868642835222,...  \n",
       "154     15860.0  POLYGON ((14.4957873877629 12.85939626713736, ...  \n",
       "155      5118.0  POLYGON ((1.865240512712319 6.142157701029731,...  \n",
       "156    547400.0  POLYGON ((102.5849324890267 12.18659495691328,...  \n",
       "157     13160.0  POLYGON ((71.01419803252017 40.24436554621823,...  \n",
       "158     29780.0  POLYGON ((61.21081709172574 35.65007233330923,...  \n",
       "159      2520.0  POLYGON ((124.9686824891162 -8.892790215697083...  \n",
       "160     29010.0  POLYGON ((-61.68000000000001 10.76, -61.105 10...  \n",
       "161     81710.0  POLYGON ((9.482139926805274 30.30755605724619,...  \n",
       "162    902700.0  (POLYGON ((36.91312706884216 41.33535838476431...  \n",
       "163    712000.0  POLYGON ((121.7778178243899 24.3942735865194, ...  \n",
       "164     54250.0  POLYGON ((33.9037111971046 -0.9499999999999886...  \n",
       "165     39380.0  POLYGON ((31.86617000000007 -1.027359999999931...  \n",
       "166    339800.0  POLYGON ((31.78599816257159 52.10167796488545,...  \n",
       "167     43160.0  POLYGON ((-57.62513342958296 -30.2162948544542...  \n",
       "168  15094000.0  (POLYGON ((-155.54211 19.08348000000001, -155....  \n",
       "169     71670.0  POLYGON ((66.51860680528867 37.36278432875879,...  \n",
       "170    357400.0  POLYGON ((-71.3315836249503 11.77628408451581,...  \n",
       "171    241700.0  POLYGON ((108.0501802917829 21.55237986906012,...  \n",
       "172       988.5  (POLYGON ((167.8448767438451 -16.4663331030971...  \n",
       "173     55280.0  POLYGON ((53.10857262554751 16.65105113368895,...  \n",
       "174    491000.0  POLYGON ((31.52100141777888 -29.25738697684626...  \n",
       "175     17500.0  POLYGON ((32.75937544122132 -9.23059905358906,...  \n",
       "176      9323.0  POLYGON ((31.19140913262129 -22.2515096981724,...  \n",
       "\n",
       "[177 rows x 6 columns]"
      ]
     },
     "execution_count": 11,
     "metadata": {},
     "output_type": "execute_result"
    }
   ],
   "source": [
    "world"
   ]
  },
  {
   "cell_type": "markdown",
   "metadata": {},
   "source": [
    "#### 타입\n",
    "- 지오데이터프레임\n",
    "- 컴포지션해서 집어넣어 같이 쓸 수 있게 만들었음\n",
    "\n",
    "- 위치 표현(토포제이슨/지오제이슨 )"
   ]
  },
  {
   "cell_type": "code",
   "execution_count": 13,
   "metadata": {},
   "outputs": [
    {
     "data": {
      "text/plain": [
       "geopandas.geodataframe.GeoDataFrame"
      ]
     },
     "execution_count": 13,
     "metadata": {},
     "output_type": "execute_result"
    }
   ],
   "source": [
    "type(world)"
   ]
  },
  {
   "cell_type": "markdown",
   "metadata": {},
   "source": [
    "## DASK\n",
    "- 분산처리가 가능함"
   ]
  },
  {
   "cell_type": "markdown",
   "metadata": {},
   "source": [
    "## INFO\n",
    "- 폴리건?\n",
    "    - 문자열인지 의심되지요\n",
    "    - 판다스는 객체를 저장할 수 있어. 그래서 이름이 오브젝트. "
   ]
  },
  {
   "cell_type": "code",
   "execution_count": 14,
   "metadata": {},
   "outputs": [
    {
     "name": "stdout",
     "output_type": "stream",
     "text": [
      "<class 'geopandas.geodataframe.GeoDataFrame'>\n",
      "RangeIndex: 177 entries, 0 to 176\n",
      "Data columns (total 6 columns):\n",
      "pop_est       177 non-null float64\n",
      "continent     177 non-null object\n",
      "name          177 non-null object\n",
      "iso_a3        177 non-null object\n",
      "gdp_md_est    177 non-null float64\n",
      "geometry      177 non-null object\n",
      "dtypes: float64(2), object(4)\n",
      "memory usage: 8.4+ KB\n"
     ]
    }
   ],
   "source": [
    "world.info()"
   ]
  },
  {
   "cell_type": "markdown",
   "metadata": {},
   "source": [
    "## 판다스에서 그리는 방식 2가지\n",
    "- 1. 점(.)플랏 \n",
    "    -tips[['total_bill','tip']].plot.bar\n",
    "- 2. \n",
    "    - tips[['total_bill','tip']].plot.(kind='bar')"
   ]
  },
  {
   "cell_type": "code",
   "execution_count": 17,
   "metadata": {},
   "outputs": [
    {
     "data": {
      "text/plain": [
       "<matplotlib.axes._subplots.AxesSubplot at 0x1aea0f0e7f0>"
      ]
     },
     "execution_count": 17,
     "metadata": {},
     "output_type": "execute_result"
    },
    {
     "data": {
      "image/png": "[encoded data removed]",
      "text/plain": [
       "<Figure size 432x288 with 1 Axes>"
      ]
     },
     "metadata": {
      "needs_background": "light"
     },
     "output_type": "display_data"
    }
   ],
   "source": [
    "world_cities.plot()"
   ]
  },
  {
   "cell_type": "markdown",
   "metadata": {},
   "source": [
    "## 지오판ㄷ나스\n",
    "- 센트로이드: 새로운거 추가하는 것과 같아"
   ]
  },
  {
   "cell_type": "code",
   "execution_count": 18,
   "metadata": {},
   "outputs": [
    {
     "data": {
      "text/plain": [
       "0        POINT (66.08669022192834 33.85639928169076)\n",
       "1       POINT (17.47057255231345 -12.24586903613316)\n",
       "2        POINT (20.03242643144321 41.14135330604877)\n",
       "3        POINT (54.20671476159633 23.86863365334761)\n",
       "4      POINT (-65.17536077114174 -35.44682148949509)\n",
       "5        POINT (45.00029001101479 40.21660761230144)\n",
       "6       POINT (20.57100056984261 -80.49198288284349)\n",
       "7       POINT (69.53158047042371 -49.30645491167198)\n",
       "8        POINT (134.502775475366 -25.73065477972607)\n",
       "9        POINT (14.07615888433708 47.61394879274629)\n",
       "10       POINT (47.55390958999187 40.22069060359235)\n",
       "11      POINT (29.91390089307105 -3.377391812428584)\n",
       "12       POINT (4.580831590651701 50.65244260645211)\n",
       "13        POINT (2.33737755349616 9.647430780663713)\n",
       "14       POINT (-1.77653745205594 12.31165049413671)\n",
       "15       POINT (90.26792827719598 23.83946179534406)\n",
       "16       POINT (25.19511095327711 42.75311876202169)\n",
       "17      POINT (-77.92997080393509 25.51549172533655)\n",
       "18       POINT (17.81688342129799 44.18076784138619)\n",
       "19       POINT (27.98135398690368 53.50634440475127)\n",
       "20      POINT (-88.70342125299317 17.19708991145154)\n",
       "21     POINT (-64.64140560603109 -16.72898701530583)\n",
       "22      POINT (-53.0543400357671 -10.80677364349892)\n",
       "23       POINT (114.9151087739395 4.690250542520635)\n",
       "24        POINT (90.4724248062037 27.42796864910203)\n",
       "25      POINT (23.77308146578943 -22.09971137882642)\n",
       "26       POINT (20.37434729124393 6.542778705921302)\n",
       "27      POINT (-98.14238137209725 61.46907614534906)\n",
       "28       POINT (8.118300613385486 46.79173768366761)\n",
       "29     POINT (-71.52064394516432 -39.04701430994845)\n",
       "                           ...                      \n",
       "147      POINT (20.81965126743019 44.23303720363518)\n",
       "148     POINT (-55.91145629952072 4.120008031758885)\n",
       "149        POINT (19.5076571474337 48.7267113517275)\n",
       "150      POINT (14.93815232079573 46.12542205901038)\n",
       "151      POINT (16.59626584684802 62.81148496808033)\n",
       "152     POINT (31.39525590206532 -26.48985528852001)\n",
       "153        POINT (38.54423941961137 35.012614281129)\n",
       "154      POINT (18.58132952533289 15.32886739983966)\n",
       "155     POINT (0.9964039436703581 8.439541954669615)\n",
       "156      POINT (101.0061335462611 15.01697499141648)\n",
       "157       POINT (71.03443504896107 38.5830814642108)\n",
       "158      POINT (59.27543026236143 39.09124018017582)\n",
       "159      POINT (125.966300273684 -8.767760362467003)\n",
       "160     POINT (-61.33036691444967 10.42823708920188)\n",
       "161      POINT (9.534716120695833 34.17293903688238)\n",
       "162      POINT (35.11690130804055 39.06837174141658)\n",
       "163      POINT (120.9748007374862 23.74096497978494)\n",
       "164     POINT (34.75298813146117 -6.257732720845605)\n",
       "165      POINT (32.35754815372395 1.295486963097121)\n",
       "166      POINT (31.36953308035628 48.97301796820209)\n",
       "167    POINT (-56.00327866654847 -32.78090436523082)\n",
       "168     POINT (-112.5994383773273 45.70562953540318)\n",
       "169      POINT (63.20363952823172 41.74860266465218)\n",
       "170     POINT (-66.16382727830239 7.162132267639009)\n",
       "171      POINT (106.2858407970519 16.65793775325494)\n",
       "172     POINT (167.0737512682268 -15.54267705755496)\n",
       "173        POINT (47.53504475854349 15.913231950143)\n",
       "174     POINT (25.04801387986167 -28.94703325997912)\n",
       "175     POINT (27.72759193998218 -13.39506752005761)\n",
       "176      POINT (29.78854837189252 -18.9069879478588)\n",
       "Length: 177, dtype: object"
      ]
     },
     "execution_count": 18,
     "metadata": {},
     "output_type": "execute_result"
    }
   ],
   "source": [
    "world.centroid"
   ]
  },
  {
   "cell_type": "markdown",
   "metadata": {},
   "source": [
    "#### 위치에 대한 중앙점 찾고 칼럼으로 넣어줌 \n",
    "- 아까 폴리언은 색 입히는거만 가능했는데\n",
    "- 이제 중앙점 찾아주고 값 탁 넣어주는거 가능해짐\n",
    "\n",
    "#### 셋 지오메트리\n",
    "- 중심점 기반으로 그림 그려준대(?)"
   ]
  },
  {
   "cell_type": "code",
   "execution_count": 19,
   "metadata": {},
   "outputs": [
    {
     "data": {
      "text/plain": [
       "<matplotlib.axes._subplots.AxesSubplot at 0x1aea1239fd0>"
      ]
     },
     "execution_count": 19,
     "metadata": {},
     "output_type": "execute_result"
    },
    {
     "data": {
      "image/png": "[encoded data removed]",
      "text/plain": [
       "<Figure size 432x288 with 1 Axes>"
      ]
     },
     "metadata": {
      "needs_background": "light"
     },
     "output_type": "display_data"
    }
   ],
   "source": [
    "world['centroid_column'] = world.centroid \n",
    "world = world.set_geometry('centroid_column') \n",
    "world.plot()"
   ]
  },
  {
   "cell_type": "markdown",
   "metadata": {},
   "source": [
    "### 피오나\n",
    "- 포맷이 굉장히 다양해\n",
    "- 어떤 위치 정보데이터를 읽는가 체크해주는것\n",
    " "
   ]
  },
  {
   "cell_type": "code",
   "execution_count": 20,
   "metadata": {},
   "outputs": [
    {
     "name": "stdout",
     "output_type": "stream",
     "text": [
      "Requirement already satisfied: fiona in c:\\users\\missr\\anaconda3\\lib\\site-packages (1.8.4)\n",
      "Requirement already satisfied: attrs>=17 in c:\\users\\missr\\anaconda3\\lib\\site-packages (from fiona) (19.1.0)\n",
      "Requirement already satisfied: click<8,>=4.0 in c:\\users\\missr\\anaconda3\\lib\\site-packages (from fiona) (7.0)\n",
      "Requirement already satisfied: cligj>=0.5 in c:\\users\\missr\\anaconda3\\lib\\site-packages (from fiona) (0.5.0)\n",
      "Requirement already satisfied: click-plugins>=1.0 in c:\\users\\missr\\anaconda3\\lib\\site-packages (from fiona) (1.1.1)\n",
      "Requirement already satisfied: six>=1.7 in c:\\users\\missr\\anaconda3\\lib\\site-packages (from fiona) (1.12.0)\n",
      "Requirement already satisfied: munch in c:\\users\\missr\\anaconda3\\lib\\site-packages (from fiona) (2.3.2)\n"
     ]
    }
   ],
   "source": [
    "! pip install fiona"
   ]
  },
  {
   "cell_type": "code",
   "execution_count": 21,
   "metadata": {},
   "outputs": [],
   "source": [
    "import fiona"
   ]
  },
  {
   "cell_type": "code",
   "execution_count": 22,
   "metadata": {},
   "outputs": [
    {
     "data": {
      "text/plain": [
       "['BytesCollection',\n",
       " 'Collection',\n",
       " 'Env',\n",
       " 'FIELD_TYPES_MAP',\n",
       " 'FionaDeprecationWarning',\n",
       " 'MemoryFile',\n",
       " 'OrderedDict',\n",
       " 'ParsedPath',\n",
       " 'Path',\n",
       " '__all__',\n",
       " '__builtins__',\n",
       " '__cached__',\n",
       " '__doc__',\n",
       " '__file__',\n",
       " '__gdal_version__',\n",
       " '__loader__',\n",
       " '__name__',\n",
       " '__package__',\n",
       " '__path__',\n",
       " '__spec__',\n",
       " '__version__',\n",
       " '_bounds',\n",
       " '_env',\n",
       " '_err',\n",
       " '_geometry',\n",
       " '_listlayers',\n",
       " '_remove',\n",
       " '_remove_layer',\n",
       " '_shim',\n",
       " 'bounds',\n",
       " 'calc_gdal_version_num',\n",
       " 'collection',\n",
       " 'compat',\n",
       " 'contextmanager',\n",
       " 'crs',\n",
       " 'driver_count',\n",
       " 'drivers',\n",
       " 'drvsupport',\n",
       " 'ensure_env_with_credentials',\n",
       " 'env',\n",
       " 'errors',\n",
       " 'gdal_version',\n",
       " 'get_gdal_release_name',\n",
       " 'get_gdal_version_num',\n",
       " 'get_gdal_version_tuple',\n",
       " 'io',\n",
       " 'libdir',\n",
       " 'listlayers',\n",
       " 'log',\n",
       " 'logging',\n",
       " 'logutils',\n",
       " 'ogrext',\n",
       " 'open',\n",
       " 'os',\n",
       " 'parse_path',\n",
       " 'path',\n",
       " 'prop_type',\n",
       " 'prop_width',\n",
       " 'remove',\n",
       " 'rfc3339',\n",
       " 'schema',\n",
       " 'session',\n",
       " 'string_types',\n",
       " 'supported_drivers',\n",
       " 'sys',\n",
       " 'uuid',\n",
       " 'vfs',\n",
       " 'vfs_parse_paths',\n",
       " 'vsi_path',\n",
       " 'warnings']"
      ]
     },
     "execution_count": 22,
     "metadata": {},
     "output_type": "execute_result"
    }
   ],
   "source": [
    "dir(fiona)"
   ]
  },
  {
   "cell_type": "markdown",
   "metadata": {},
   "source": [
    "#### 연습용 데이터 부르기\n",
    "- 판다스니까 슬라이싱 가능\n",
    "- 지도에서도 자를 수 있어요\n",
    "\n",
    "## figsize\n",
    "- 멧플라블릿 크기\n",
    "\n",
    "## cx 바꿔봐요\n",
    "- 예전에는 ix라고 해서 영역 자르는게 있었고\n",
    "- cx라고 해서 이제 센트롤. 중심부터 자른다고 한대.\n",
    "- loc, iloc처럼 지원하는게 이거래\n",
    "- 특정 영역 자를 수 있따 없다"
   ]
  },
  {
   "cell_type": "code",
   "execution_count": 24,
   "metadata": {},
   "outputs": [],
   "source": [
    "world = gpd.read_file(gpd.datasets.get_path('naturalearth_lowres')) "
   ]
  },
  {
   "cell_type": "code",
   "execution_count": 44,
   "metadata": {},
   "outputs": [],
   "source": [
    "southern_world = world.cx[0:50,-50 :25]"
   ]
  },
  {
   "cell_type": "code",
   "execution_count": 47,
   "metadata": {},
   "outputs": [
    {
     "data": {
      "text/plain": [
       "<matplotlib.axes._subplots.AxesSubplot at 0x1aea27a02e8>"
      ]
     },
     "execution_count": 47,
     "metadata": {},
     "output_type": "execute_result"
    },
    {
     "data": {
      "image/png": "[encoded data removed]",
      "text/plain": [
       "<Figure size 720x216 with 1 Axes>"
      ]
     },
     "metadata": {
      "needs_background": "light"
     },
     "output_type": "display_data"
    }
   ],
   "source": [
    "southern_world.plot(figsize=(10, 3))"
   ]
  },
  {
   "cell_type": "markdown",
   "metadata": {},
   "source": [
    "#### 지오판다스도 판다스처럼 조건 줘서 자를 수 있다"
   ]
  },
  {
   "cell_type": "code",
   "execution_count": 48,
   "metadata": {},
   "outputs": [
    {
     "data": {
      "text/plain": [
       "<matplotlib.axes._subplots.AxesSubplot at 0x1aea26b8f60>"
      ]
     },
     "execution_count": 48,
     "metadata": {},
     "output_type": "execute_result"
    },
    {
     "data": {
      "image/png": "[encoded data removed]",
      "text/plain": [
       "<Figure size 432x288 with 1 Axes>"
      ]
     },
     "metadata": {
      "needs_background": "light"
     },
     "output_type": "display_data"
    }
   ],
   "source": [
    "world = world[(world.pop_est>0) & (world.continent!=\"Antarctica\")]  #조건으로 부르는거 가능\n",
    "world['gdp_per_cap'] = world.gdp_md_est / world.pop_est  #브로드 캐스트 가능(위도경도 숫지니까)\n",
    "world.plot(column='gdp_per_cap')"
   ]
  },
  {
   "cell_type": "markdown",
   "metadata": {},
   "source": [
    "### 색상\n",
    "- cmap: 색상 지정\n",
    "    - 오랜지로"
   ]
  },
  {
   "cell_type": "code",
   "execution_count": 49,
   "metadata": {},
   "outputs": [
    {
     "data": {
      "text/plain": [
       "<matplotlib.axes._subplots.AxesSubplot at 0x1aea2a8d1d0>"
      ]
     },
     "execution_count": 49,
     "metadata": {},
     "output_type": "execute_result"
    },
    {
     "data": {
      "image/png": "[encoded data removed]",
      "text/plain": [
       "<Figure size 432x288 with 1 Axes>"
      ]
     },
     "metadata": {
      "needs_background": "light"
     },
     "output_type": "display_data"
    }
   ],
   "source": [
    "world.plot(column='gdp_per_cap', cmap='OrRd', scheme='quantiles')"
   ]
  },
  {
   "cell_type": "markdown",
   "metadata": {},
   "source": [
    "# 서울\n",
    "- seoul.plot()하면 컬럼끼리 안 구분 되어 파랗게 하나 나와\n",
    "- seoul.plot(column='name') 하면 컬럼끼리 구분시켜줌\n",
    "    - 단계 구분도 활용가능. \n",
    "        - 이름 다른 애들 다르게 컬러까지 지정가능"
   ]
  },
  {
   "cell_type": "code",
   "execution_count": 60,
   "metadata": {},
   "outputs": [],
   "source": [
    "seoul = gpd.read_file('asset/seoul_shp', encoding='utf8')"
   ]
  },
  {
   "cell_type": "code",
   "execution_count": 61,
   "metadata": {},
   "outputs": [
    {
     "data": {
      "text/plain": [
       "<matplotlib.axes._subplots.AxesSubplot at 0x1aea4fb5358>"
      ]
     },
     "execution_count": 61,
     "metadata": {},
     "output_type": "execute_result"
    },
    {
     "data": {
      "image/png": "[encoded data removed]",
      "text/plain": [
       "<Figure size 432x288 with 1 Axes>"
      ]
     },
     "metadata": {
      "needs_background": "light"
     },
     "output_type": "display_data"
    }
   ],
   "source": [
    "seoul.plot(column='name')"
   ]
  },
  {
   "cell_type": "code",
   "execution_count": 62,
   "metadata": {},
   "outputs": [
    {
     "data": {
      "text/html": [
       "<div>\n",
       "<style scoped>\n",
       "    .dataframe tbody tr th:only-of-type {\n",
       "        vertical-align: middle;\n",
       "    }\n",
       "\n",
       "    .dataframe tbody tr th {\n",
       "        vertical-align: top;\n",
       "    }\n",
       "\n",
       "    .dataframe thead th {\n",
       "        text-align: right;\n",
       "    }\n",
       "</style>\n",
       "<table border=\"1\" class=\"dataframe\">\n",
       "  <thead>\n",
       "    <tr style=\"text-align: right;\">\n",
       "      <th></th>\n",
       "      <th>code</th>\n",
       "      <th>name</th>\n",
       "      <th>name_eng</th>\n",
       "      <th>base_year</th>\n",
       "      <th>geometry</th>\n",
       "    </tr>\n",
       "  </thead>\n",
       "  <tbody>\n",
       "    <tr>\n",
       "      <th>0</th>\n",
       "      <td>11250</td>\n",
       "      <td>강동구</td>\n",
       "      <td>Gangdong-gu</td>\n",
       "      <td>2013</td>\n",
       "      <td>POLYGON ((127.1151958498161 37.55753318070492,...</td>\n",
       "    </tr>\n",
       "    <tr>\n",
       "      <th>1</th>\n",
       "      <td>11240</td>\n",
       "      <td>송파구</td>\n",
       "      <td>Songpa-gu</td>\n",
       "      <td>2013</td>\n",
       "      <td>POLYGON ((127.0690698130372 37.52227942350503,...</td>\n",
       "    </tr>\n",
       "    <tr>\n",
       "      <th>2</th>\n",
       "      <td>11230</td>\n",
       "      <td>강남구</td>\n",
       "      <td>Gangnam-gu</td>\n",
       "      <td>2013</td>\n",
       "      <td>POLYGON ((127.058673592884 37.52629974922568, ...</td>\n",
       "    </tr>\n",
       "    <tr>\n",
       "      <th>3</th>\n",
       "      <td>11220</td>\n",
       "      <td>서초구</td>\n",
       "      <td>Seocho-gu</td>\n",
       "      <td>2013</td>\n",
       "      <td>POLYGON ((127.0139711966751 37.52503988289669,...</td>\n",
       "    </tr>\n",
       "    <tr>\n",
       "      <th>4</th>\n",
       "      <td>11210</td>\n",
       "      <td>관악구</td>\n",
       "      <td>Gwanak-gu</td>\n",
       "      <td>2013</td>\n",
       "      <td>POLYGON ((126.9610898906183 37.49100376129394,...</td>\n",
       "    </tr>\n",
       "  </tbody>\n",
       "</table>\n",
       "</div>"
      ],
      "text/plain": [
       "    code name     name_eng base_year  \\\n",
       "0  11250  강동구  Gangdong-gu      2013   \n",
       "1  11240  송파구    Songpa-gu      2013   \n",
       "2  11230  강남구   Gangnam-gu      2013   \n",
       "3  11220  서초구    Seocho-gu      2013   \n",
       "4  11210  관악구    Gwanak-gu      2013   \n",
       "\n",
       "                                            geometry  \n",
       "0  POLYGON ((127.1151958498161 37.55753318070492,...  \n",
       "1  POLYGON ((127.0690698130372 37.52227942350503,...  \n",
       "2  POLYGON ((127.058673592884 37.52629974922568, ...  \n",
       "3  POLYGON ((127.0139711966751 37.52503988289669,...  \n",
       "4  POLYGON ((126.9610898906183 37.49100376129394,...  "
      ]
     },
     "execution_count": 62,
     "metadata": {},
     "output_type": "execute_result"
    }
   ],
   "source": [
    "seoul.head()"
   ]
  },
  {
   "cell_type": "code",
   "execution_count": null,
   "metadata": {},
   "outputs": [],
   "source": []
  },
  {
   "cell_type": "markdown",
   "metadata": {},
   "source": [
    "### 전체 지도에서 서울 자를떄 쓰는거?\n",
    " - cx\n",
    "    \n",
    "## 단계 구분도 약점\n",
    "- 히트맵 위에 숫자 받는거 교수님 좋아하심\n",
    "- 근데 폴리언에서는 숫자 박는게 안돼\n",
    "- 허나 이 지오판다스는 영역별로 그림을/숫자를 박을 수 있고, 그 영역별로 plot도 변경 가능"
   ]
  },
  {
   "cell_type": "markdown",
   "metadata": {},
   "source": [
    "## 자 이제 강남구 뽑아보자 위치"
   ]
  },
  {
   "cell_type": "code",
   "execution_count": 63,
   "metadata": {},
   "outputs": [
    {
     "data": {
      "text/plain": [
       "2    POLYGON ((127.058673592884 37.52629974922568, ...\n",
       "Name: geometry, dtype: object"
      ]
     },
     "execution_count": 63,
     "metadata": {},
     "output_type": "execute_result"
    }
   ],
   "source": [
    "seoul[seoul.name=='강남구'].geometry"
   ]
  },
  {
   "cell_type": "markdown",
   "metadata": {},
   "source": [
    "#### 거슬리는거 있어\n",
    "- 저 위에 있는 떙떙땡 다 보고 싶어. \n",
    "    - 2    POLYGON ((127.058673592884 37.52629974922568, ...그러면\n",
    "    - 옵션이 있어"
   ]
  },
  {
   "cell_type": "markdown",
   "metadata": {},
   "source": [
    "### representative_point()\n",
    "- "
   ]
  },
  {
   "cell_type": "code",
   "execution_count": 66,
   "metadata": {},
   "outputs": [],
   "source": [
    "seoul['coords'] = seoul['geometry'].apply(lambda x: x.representative_point().coords[:])\n",
    "seoul['coords'] = [coords[0] for coords in seoul['coords']]"
   ]
  },
  {
   "cell_type": "code",
   "execution_count": 67,
   "metadata": {},
   "outputs": [
    {
     "data": {
      "text/plain": [
       "0       (127.14965459147774, 37.5458145865803)\n",
       "1     (127.10957091651335, 37.501524726531805)\n",
       "2      (127.05849837530079, 37.49596105443298)\n",
       "3     (127.01525250095538, 37.475284511024014)\n",
       "4      (126.95280839655175, 37.46264950597657)\n",
       "5     (126.95376570858319, 37.494901149141086)\n",
       "6     (126.91297795389241, 37.514725063966495)\n",
       "7       (126.9018898626737, 37.45727993340848)\n",
       "8        (126.8557933305959, 37.4926173146293)\n",
       "9      (126.82320157973182, 37.56278490192719)\n",
       "10     (126.85650557149393, 37.52289649957123)\n",
       "11     (126.90251101160129, 37.55770130315089)\n",
       "12    (126.93616119683995, 37.578948873392825)\n",
       "13     (126.92842770585742, 37.61461963474714)\n",
       "14      (127.073025869766, 37.652460968460574)\n",
       "15     (127.03481041600926, 37.66352675752526)\n",
       "16     (127.00684691561928, 37.64440262491334)\n",
       "17     (127.02943753416287, 37.60423130693352)\n",
       "18     (127.09603203290149, 37.59232010883308)\n",
       "19     (127.05489167575487, 37.58188191373469)\n",
       "20    (127.09201759514929, 37.545658640150705)\n",
       "21    (127.04376589282205, 37.548175397325764)\n",
       "22    (126.98406440758657, 37.530975667831186)\n",
       "23     (126.99418147176385, 37.55508528991699)\n",
       "24     (126.96971660337252, 37.59617160755831)\n",
       "Name: coords, dtype: object"
      ]
     },
     "execution_count": 67,
     "metadata": {},
     "output_type": "execute_result"
    }
   ],
   "source": [
    "seoul.coords"
   ]
  },
  {
   "cell_type": "code",
   "execution_count": 68,
   "metadata": {},
   "outputs": [
    {
     "data": {
      "image/png": "[encoded data removed]",
      "text/plain": [
       "<Figure size 432x288 with 1 Axes>"
      ]
     },
     "metadata": {
      "needs_background": "light"
     },
     "output_type": "display_data"
    }
   ],
   "source": [
    "world = gpd.read_file(gpd.datasets.get_path('naturalearth_lowres')) \n",
    "cities = gpd.read_file(gpd.datasets.get_path('naturalearth_cities')) \n",
    " \n",
    "\n",
    "base = world.plot(color='white', edgecolor='black')\n",
    "\n",
    "cities.plot(ax=base, marker='o', color='red', markersize=5);"
   ]
  },
  {
   "cell_type": "markdown",
   "metadata": {},
   "source": [
    "### 이터로우?\n",
    "- 언더바언더바 겟과 언더바언더바 이터가 dir에 있따면/\n",
    "    - for문 돌릴 수 있어요.\n",
    "\n",
    "#### 포를 돌리는 또 다른 방법\n",
    "    - tips.it\n",
    "        - 딕셔너리는 키(.key)/밸류(.value)/키-밸류(.items)로 볼 수 있음\n",
    "        \n",
    "## 이터 삼총사\n",
    "- 이터 아이템즈 (iteritems): 딕셔너리에서 나왔던 것.\n",
    "- 이터 로우즈 (iterrows) : 열별로 뽑아서 이 점의 이름 찍는거\n",
    "- 이터 튜플즈 (itertuples)"
   ]
  },
  {
   "cell_type": "markdown",
   "metadata": {},
   "source": [
    "#### 잠시 팁스 불러와서 해볼게요"
   ]
  },
  {
   "cell_type": "code",
   "execution_count": 71,
   "metadata": {},
   "outputs": [
    {
     "ename": "ImportError",
     "evalue": "cannot import name 'tips' from 'pandas' (C:\\Users\\missr\\Anaconda3\\lib\\site-packages\\pandas\\__init__.py)",
     "output_type": "error",
     "traceback": [
      "\u001b[1;31m---------------------------------------------------------------------------\u001b[0m",
      "\u001b[1;31mImportError\u001b[0m                               Traceback (most recent call last)",
      "\u001b[1;32m<ipython-input-71-608f448e6eb0>\u001b[0m in \u001b[0;36m<module>\u001b[1;34m\u001b[0m\n\u001b[1;32m----> 1\u001b[1;33m \u001b[1;32mfrom\u001b[0m \u001b[0mpandas\u001b[0m \u001b[1;32mimport\u001b[0m \u001b[0mtips\u001b[0m\u001b[1;33m\u001b[0m\u001b[1;33m\u001b[0m\u001b[0m\n\u001b[0m",
      "\u001b[1;31mImportError\u001b[0m: cannot import name 'tips' from 'pandas' (C:\\Users\\missr\\Anaconda3\\lib\\site-packages\\pandas\\__init__.py)"
     ]
    }
   ],
   "source": [
    "from pandas import tips"
   ]
  },
  {
   "cell_type": "code",
   "execution_count": 70,
   "metadata": {},
   "outputs": [
    {
     "ename": "NameError",
     "evalue": "name 'tips' is not defined",
     "output_type": "error",
     "traceback": [
      "\u001b[1;31m---------------------------------------------------------------------------\u001b[0m",
      "\u001b[1;31mNameError\u001b[0m                                 Traceback (most recent call last)",
      "\u001b[1;32m<ipython-input-70-a7172c454f6f>\u001b[0m in \u001b[0;36m<module>\u001b[1;34m\u001b[0m\n\u001b[1;32m----> 1\u001b[1;33m \u001b[1;32mfor\u001b[0m \u001b[0mi\u001b[0m \u001b[1;32min\u001b[0m \u001b[0mtips\u001b[0m\u001b[1;33m.\u001b[0m\u001b[0mitemd\u001b[0m\u001b[1;33m(\u001b[0m\u001b[1;33m)\u001b[0m\u001b[1;33m:\u001b[0m\u001b[1;33m\u001b[0m\u001b[1;33m\u001b[0m\u001b[0m\n\u001b[0m\u001b[0;32m      2\u001b[0m     \u001b[0mprint\u001b[0m\u001b[1;33m(\u001b[0m\u001b[0mi\u001b[0m\u001b[1;33m)\u001b[0m\u001b[1;33m\u001b[0m\u001b[1;33m\u001b[0m\u001b[0m\n",
      "\u001b[1;31mNameError\u001b[0m: name 'tips' is not defined"
     ]
    }
   ],
   "source": [
    "for i in tips.itemd():\n",
    "    print(i)"
   ]
  },
  {
   "cell_type": "code",
   "execution_count": 73,
   "metadata": {},
   "outputs": [],
   "source": [
    "import matplotlib.pyplot as plt"
   ]
  },
  {
   "cell_type": "code",
   "execution_count": 74,
   "metadata": {},
   "outputs": [
    {
     "data": {
      "image/png": "[encoded data removed]",
      "text/plain": [
       "<Figure size 432x288 with 1 Axes>"
      ]
     },
     "metadata": {
      "needs_background": "light"
     },
     "output_type": "display_data"
    }
   ],
   "source": [
    "seoul.plot(column='name') #name 기준으로 다른 색 칠해줌. \n",
    "for idx, row in seoul.iterrows():\n",
    "    plt.annotate(s=row['name'], xy=row['coords'],\n",
    "                 horizontalalignment='center')"
   ]
  },
  {
   "cell_type": "markdown",
   "metadata": {},
   "source": [
    "### 맷 플라블릿 안 배워서 이해 안 되겠네\n",
    "- 나중에 다시 하고\n",
    "- 지오판다스로 여러 함수 이용할 수 있다는거 이제 알겠죠?\n",
    "    - 지도 위에 찍어내는거에요\n",
    "\n",
    "# 단 이건 분석일 뿐이라 시스템 개발은 다르게 해야합니다"
   ]
  },
  {
   "cell_type": "code",
   "execution_count": null,
   "metadata": {},
   "outputs": [],
   "source": []
  }
 ],
 "metadata": {
  "kernelspec": {
   "display_name": "Python 3",
   "language": "python",
   "name": "python3"
  },
  "language_info": {
   "codemirror_mode": {
    "name": "ipython",
    "version": 3
   },
   "file_extension": ".py",
   "mimetype": "text/x-python",
   "name": "python",
   "nbconvert_exporter": "python",
   "pygments_lexer": "ipython3",
   "version": "3.7.3"
  }
 },
 "nbformat": 4,
 "nbformat_minor": 2
}

{
  "nbformat": 4,
  "nbformat_minor": 0,
  "metadata": {
    "colab": {
      "name": "Queue.ipynb",
      "version": "0.3.2",
      "provenance": [],
      "collapsed_sections": [],
      "include_colab_link": true
    },
    "kernelspec": {
      "name": "python3",
      "display_name": "Python 3"
    }
  },
  "cells": [
    {
      "cell_type": "markdown",
      "metadata": {
        "id": "view-in-github",
        "colab_type": "text"
      },
      "source": [
        "<a href=\"https://colab.research.google.com/github/minkyoJang/AI-BigDataStudy/blob/master/Queue.ipynb\" target=\"_parent\"><img src=\"https://colab.research.google.com/assets/colab-badge.svg\" alt=\"Open In Colab\"/></a>"
      ]
    },
    {
      "cell_type": "markdown",
      "metadata": {
        "id": "lYtvvRNJs_Nv",
        "colab_type": "text"
      },
      "source": [
        "# 파이썬에서의 큐 = collections 모듈의 deque 객체 이용\n",
        "\n",
        "Python은 [collections 모듈의 deque](https://docs.python.org/3/library/collections.html#deque-objects)을 통해 큐 자료구조를 제공합니다. \n",
        "\n",
        "## 큐는 어떤 자료구조인가요?\n",
        "\n",
        "큐는 자료의 선입선출, FIFO(First-In-First-Out)을 보장하는 자료구조입니다. 코딩 테스트 스터디에서는 자료 구조 이론에 대해서 다루지 않기 때문에 자세한 설명은 생략하겠습니다.\n",
        "\n",
        "#### deque 객체(덱이라 읽음)\n",
        "\n",
        "deque은 스택과 큐를 합친 자료구조라고 생각하면 됩니다. 가장자리에 원소를 넣거나 뺄 수 있지요. 덱은 다음 메소드를 제공합니다. [^1]\n",
        "\n",
        "| 메소드                     | 설명                                                                          |\n",
        "|----------------------------|-------------------------------------------------------------------------------|\n",
        "| deque([iterable[, maxlen]]) | 초기화 함수입니다. iterable(리스트 등)을 인자로 건네면 이를 deque화 해줍니다. |\n",
        "| append(x)                  | x를 덱의 오른쪽에 삽입합니다.                                                 |\n",
        "| popleft()                 | 덱의 가장 왼쪽에 있는 원소를 덱에서 제거하며, 그 값을리턴합니다.                 |\n",
        "| clear()                    | 모든 원소를 지웁니다.                                                         |\n",
        "\n",
        "\n",
        "#### 스택과 달리 큐를 list로 이용하지 않는 이유\n",
        "\n",
        "스택에서 list.append와 list.pop()을 이용했던 것 처럼 list.append와 list.pop(0)을 이용하면 리스트를 큐처럼 사용할 수 있습니다. 허나 pop()의 time complexity는 O(1)인 반명 pop(0)의 time complexity는 O(N)이기 때문에 시간이 오래걸립니다. 따라서 시간복잡도를 고려해 리스트는 큐로 사용하지 않습니다.\n",
        "\n",
        "[^1]: 큐 사용에 필요한 메소드만 나열함"
      ]
    },
    {
      "cell_type": "markdown",
      "metadata": {
        "id": "1GRjjNYZkxdI",
        "colab_type": "text"
      },
      "source": [
        "## deque -  Init\n",
        "\n",
        "deque([iterable[, maxlen]])를 이용해 초기화합니다."
      ]
    },
    {
      "cell_type": "code",
      "metadata": {
        "id": "LxVUJXb-oFlc",
        "colab_type": "code",
        "colab": {}
      },
      "source": [
        "from collections import deque\n",
        "\n",
        "# 빈 큐 만들기\n",
        "deque1 = deque()\n",
        "\n",
        "# 원소가 있는 큐 만들기\n",
        "deque2 = deque([1, 2, 3])\n",
        "\n",
        "# 큐 최대 길이 명시하기(원소를 이보다 많이 넣으면 maxlen이 자동 갱신됨)\n",
        "deque3 = deque(maxlen=5)"
      ],
      "execution_count": 0,
      "outputs": []
    },
    {
      "cell_type": "markdown",
      "metadata": {
        "id": "3fHo3vBioFe5",
        "colab_type": "text"
      },
      "source": [
        "## deque - append(x)\n",
        "\n",
        "큐에 원소를 넣을때 사용합니다."
      ]
    },
    {
      "cell_type": "code",
      "metadata": {
        "id": "vRBP6rXOoFRo",
        "colab_type": "code",
        "outputId": "9e4d1ffe-a198-4554-f620-61baca2d0b94",
        "colab": {
          "base_uri": "https://localhost:8080/",
          "height": 34
        }
      },
      "source": [
        "my_deque = deque()\n",
        "my_deque.append(3)\n",
        "\n",
        "print(my_deque)"
      ],
      "execution_count": 0,
      "outputs": [
        {
          "output_type": "stream",
          "text": [
            "deque([3])\n"
          ],
          "name": "stdout"
        }
      ]
    },
    {
      "cell_type": "markdown",
      "metadata": {
        "id": "WNEx3TkioFJQ",
        "colab_type": "text"
      },
      "source": [
        "## deque - popleft()\n",
        "\n",
        "큐에서 원소를 제거할 때 사용합니다."
      ]
    },
    {
      "cell_type": "code",
      "metadata": {
        "id": "_HItlcGnoFCU",
        "colab_type": "code",
        "outputId": "89952355-9331-4426-d4e0-25fd11a9dd6e",
        "colab": {
          "base_uri": "https://localhost:8080/",
          "height": 69
        }
      },
      "source": [
        "my_deque = deque([1,2,3])\n",
        "\n",
        "while my_deque:\n",
        "  print(\"{}을/를 pop했습니다\".format(my_deque.popleft()))"
      ],
      "execution_count": 0,
      "outputs": [
        {
          "output_type": "stream",
          "text": [
            "1을/를 pop했습니다\n",
            "2을/를 pop했습니다\n",
            "3을/를 pop했습니다\n"
          ],
          "name": "stdout"
        }
      ]
    },
    {
      "cell_type": "markdown",
      "metadata": {
        "id": "5a35PjyMoE6q",
        "colab_type": "text"
      },
      "source": [
        "## deque - clear()\n",
        "\n",
        "모든 원소를 지웁니다."
      ]
    },
    {
      "cell_type": "code",
      "metadata": {
        "id": "RAfAZ5X_oE0A",
        "colab_type": "code",
        "outputId": "8aadfdb6-0f33-4f1f-834e-6e95a2853455",
        "colab": {
          "base_uri": "https://localhost:8080/",
          "height": 52
        }
      },
      "source": [
        "my_deque = deque([1,2,3])\n",
        "\n",
        "print(\"전:\", my_deque)\n",
        "my_deque.clear()\n",
        "print(\"후:\", my_deque)"
      ],
      "execution_count": 0,
      "outputs": [
        {
          "output_type": "stream",
          "text": [
            "전: deque([1, 2, 3])\n",
            "후: deque([])\n"
          ],
          "name": "stdout"
        }
      ]
    },
    {
      "cell_type": "markdown",
      "metadata": {
        "id": "zmBX1NfLoEkX",
        "colab_type": "text"
      },
      "source": [
        "## 원소 수 알아내기\n",
        "\n",
        "len() 함수를 사용합니다."
      ]
    },
    {
      "cell_type": "code",
      "metadata": {
        "id": "1nZHoQ-GoEOd",
        "colab_type": "code",
        "outputId": "067c8b4b-be4a-436f-f1d9-504f6e8050a1",
        "colab": {
          "base_uri": "https://localhost:8080/",
          "height": 34
        }
      },
      "source": [
        "my_deque = deque([1,2,3], maxlen=5)\n",
        "\n",
        "print(len(my_deque))"
      ],
      "execution_count": 0,
      "outputs": [
        {
          "output_type": "stream",
          "text": [
            "3\n"
          ],
          "name": "stdout"
        }
      ]
    },
    {
      "cell_type": "markdown",
      "metadata": {
        "id": "R_JMXWtykuRK",
        "colab_type": "text"
      },
      "source": [
        "# 그 밖의 방법 - Queue 모듈의 Queue 클래스 이용\n",
        "\n",
        "Queue 모듈의 큐는 multi-consumer queue를 제공합니다. 그때문에 threaded programming을  자주 쓰이며 deque에 비해 속도가 느리니 이용시 참고해주세요.\n",
        "\n",
        "#### Queue 클래스 사용 법\n",
        "\n",
        "Queue 클래스가 제공하는 메소드와 멤버 변수는 다음과 같습니다. 코딩 테스트에서는 필요하지 않은 메소드/멤버 변수는 언급하지 않겠습니다.\n",
        "\n",
        "\n",
        "| 구분      | 이름             | 하는 일                               |\n",
        "|-----------|------------------|---------------------------------------|\n",
        "| 메소드    | qsize()          | 들어있는 데이터의 길이를 리턴         |\n",
        "| 메소드    | empty()          | 큐가 비었는지 검사                    |\n",
        "| 메소드    | put(item) | item을 큐에 삽입                      |\n",
        "| 메소드    | get()     | 큐에서 원소를 제거하고 제거한 원소를 리턴 |\n",
        "| 멤버 변수 | queue            | 현재 큐에 들어 있는 데이터            |\n",
        "\n",
        "\n"
      ]
    },
    {
      "cell_type": "markdown",
      "metadata": {
        "id": "OeKJf6fktB9p",
        "colab_type": "text"
      },
      "source": [
        "## Queue - Init\n",
        "\n",
        "queue 모듈의 Queue 클래스를 이용해 큐를 초기화합니다."
      ]
    },
    {
      "cell_type": "code",
      "metadata": {
        "id": "ms-RNOshs23E",
        "colab_type": "code",
        "outputId": "0137d0dd-4fcd-47f5-80b4-810da3fd486b",
        "colab": {
          "base_uri": "https://localhost:8080/",
          "height": 34
        }
      },
      "source": [
        "# 빈 큐 생성하기\n",
        "from queue import Queue\n",
        "\n",
        "empty_queue = Queue()\n",
        "empty_queue"
      ],
      "execution_count": 0,
      "outputs": [
        {
          "output_type": "execute_result",
          "data": {
            "text/plain": [
              "<queue.Queue at 0x7ffb51d155c0>"
            ]
          },
          "metadata": {
            "tags": []
          },
          "execution_count": 17
        }
      ]
    },
    {
      "cell_type": "markdown",
      "metadata": {
        "id": "B59lIg5tt2FT",
        "colab_type": "text"
      },
      "source": [
        "## Queue - put()\n",
        "\n",
        "안타깝게도 Queue에는 원소 N개를 한 번에 넣는 방법은 없습니다. 이때에는 데이터 수만큼 삽입 연산을 호출해주셔야 합니다."
      ]
    },
    {
      "cell_type": "code",
      "metadata": {
        "id": "K4RjypgWtq-G",
        "colab_type": "code",
        "outputId": "01524485-3579-47dc-888f-552e0bc7660a",
        "colab": {
          "base_uri": "https://localhost:8080/",
          "height": 34
        }
      },
      "source": [
        "# 큐에 데이터 넣기\n",
        "from queue import Queue\n",
        "\n",
        "my_queue = Queue()\n",
        "my_queue.put(3)\n",
        "\n",
        "my_queue.queue"
      ],
      "execution_count": 0,
      "outputs": [
        {
          "output_type": "execute_result",
          "data": {
            "text/plain": [
              "deque([3])"
            ]
          },
          "metadata": {
            "tags": []
          },
          "execution_count": 18
        }
      ]
    },
    {
      "cell_type": "markdown",
      "metadata": {
        "id": "WHw-YQFDvSXO",
        "colab_type": "text"
      },
      "source": [
        "## Queue - get()\n",
        "\n",
        "데이터를 가져올 때에는 get 메소드를 사용하세요."
      ]
    },
    {
      "cell_type": "code",
      "metadata": {
        "id": "_F90ViECu6Bv",
        "colab_type": "code",
        "outputId": "be942485-1bde-44c1-90ec-a8c139175153",
        "colab": {
          "base_uri": "https://localhost:8080/",
          "height": 52
        }
      },
      "source": [
        "# 큐에서 데이터 제거하기\n",
        "from queue import Queue\n",
        "\n",
        "my_queue = Queue()\n",
        "my_queue.put(3)\n",
        "\n",
        "front = my_queue.get_nowait()\n",
        "\n",
        "print(front)\n",
        "my_queue.queue"
      ],
      "execution_count": 0,
      "outputs": [
        {
          "output_type": "stream",
          "text": [
            "3\n"
          ],
          "name": "stdout"
        },
        {
          "output_type": "execute_result",
          "data": {
            "text/plain": [
              "deque([])"
            ]
          },
          "metadata": {
            "tags": []
          },
          "execution_count": 19
        }
      ]
    },
    {
      "cell_type": "markdown",
      "metadata": {
        "id": "CoDDlLAGvxt7",
        "colab_type": "text"
      },
      "source": [
        "## Queue - qsize()\n",
        "\n",
        "현재 큐에 들은 원소의 수를 알아낼 때에는 qsize 메소드를 사용합니다."
      ]
    },
    {
      "cell_type": "code",
      "metadata": {
        "id": "kCpWUHd0vrFi",
        "colab_type": "code",
        "outputId": "28f053c9-d185-46d0-c9d7-d15b1748f51b",
        "colab": {
          "base_uri": "https://localhost:8080/",
          "height": 104
        }
      },
      "source": [
        "# 큐에 들은 원소 수 알아내기\n",
        "from queue import Queue\n",
        "my_queue = Queue()\n",
        "\n",
        "for val in range(5):\n",
        "    my_queue.put(val)\n",
        "    print('큐 크기:', my_queue.qsize())"
      ],
      "execution_count": 0,
      "outputs": [
        {
          "output_type": "stream",
          "text": [
            "큐 크기: 1\n",
            "큐 크기: 2\n",
            "큐 크기: 3\n",
            "큐 크기: 4\n",
            "큐 크기: 5\n"
          ],
          "name": "stdout"
        }
      ]
    }
  ]
}
{
 "cells": [
  {
   "cell_type": "code",
   "execution_count": 1,
   "metadata": {},
   "outputs": [
    {
     "data": {
      "text/plain": [
       "(3, 27, 2)"
      ]
     },
     "execution_count": 1,
     "metadata": {},
     "output_type": "execute_result"
    }
   ],
   "source": [
    "\n",
    "\n",
    "import sqlite3\n",
    "sqlite3.version\n",
    "sqlite3.version_info\n",
    "sqlite3.sqlite_version\n",
    "sqlite3.sqlite_version_info"
   ]
  },
  {
   "cell_type": "code",
   "execution_count": 2,
   "metadata": {},
   "outputs": [
    {
     "name": "stdout",
     "output_type": "stream",
     "text": [
      "Opened database successfully\n"
     ]
    }
   ],
   "source": [
    "#CREATE\n",
    "conn=sqlite3.connect('creating.db')\n",
    "print(\"Opened database successfully\")\n",
    "cur=conn.cursor()"
   ]
  },
  {
   "cell_type": "code",
   "execution_count": 3,
   "metadata": {},
   "outputs": [
    {
     "name": "stdout",
     "output_type": "stream",
     "text": [
      "Table created successfully\n"
     ]
    }
   ],
   "source": [
    "cur.execute('''\n",
    "    CREATE TABLE COMPANY(\n",
    "        ID INT PRIMARY KEY NOT NULL,\n",
    "        NAME TEXT NOT NULL,\n",
    "        AGE INT NOT NULL,\n",
    "        ADDRESS CHAR(50),\n",
    "        SALARY REAL);\n",
    "''')\n",
    "\n",
    "\n",
    "print(\"Table created successfully\")"
   ]
  },
  {
   "cell_type": "code",
   "execution_count": 5,
   "metadata": {},
   "outputs": [
    {
     "data": {
      "text/plain": [
       "<sqlite3.Cursor at 0x29bffbdec00>"
      ]
     },
     "execution_count": 5,
     "metadata": {},
     "output_type": "execute_result"
    }
   ],
   "source": [
    "cur.execute(\"INSERT INTO COMPANY (ID, NAME, AGE, ADDRESS, SALARY) VALUES (1, 'Paul', 32, 'California', 20000.00)\")\n",
    "cur.execute(\"\"\"\n",
    "    INSERT INTO company (ID, NAME, AGE, ADDRESS, SALARY)\n",
    "    VALUES (:id, :name, :age, :address, :salary)\n",
    "\"\"\", {'id':2, 'name':'Allen', 'age':25, 'address':'Texas', 'salary':15000.00})\n",
    "data = [(3, 'Teddy', 23, 'Norway', 200000.00), \n",
    "        (4, 'Mark', 25, 'Rich-Mond', 65000.00)]\n",
    "cur.executemany(\"\"\"\n",
    "    INSERT INTO company (ID, NAME, AGE, ADDRESS, SALARY)\n",
    "    VALUES (?, ?, ?, ?, ?)\n",
    "\"\"\", data)\n",
    "cur.executescript('''\n",
    "    INSERT INTO company (ID, NAME, AGE, ADDRESS, SALARY)\n",
    "    VALUES (5, 'Mark1', 25, 'Rich-Mond', 65000.00);\n",
    "    \n",
    "    INSERT INTO company (ID, NAME, AGE, ADDRESS, SALARY)\n",
    "    VALUES (6, 'Mark2', 25, 'Rich-Mond', 65000.00);\n",
    "''')"
   ]
  },
  {
   "cell_type": "code",
   "execution_count": 6,
   "metadata": {},
   "outputs": [],
   "source": [
    "conn.commit()"
   ]
  },
  {
   "cell_type": "code",
   "execution_count": 8,
   "metadata": {},
   "outputs": [],
   "source": [
    "conn = sqlite3.connect('./music.db')\n",
    "curr = conn.cursor()"
   ]
  },
  {
   "cell_type": "code",
   "execution_count": 30,
   "metadata": {},
   "outputs": [
    {
     "ename": "OperationalError",
     "evalue": "table Artist already exists",
     "output_type": "error",
     "traceback": [
      "\u001b[1;31m---------------------------------------------------------------------------\u001b[0m",
      "\u001b[1;31mOperationalError\u001b[0m                          Traceback (most recent call last)",
      "\u001b[1;32m<ipython-input-30-a505a114304f>\u001b[0m in \u001b[0;36m<module>\u001b[1;34m\u001b[0m\n\u001b[0;32m     33\u001b[0m \u001b[0minsert\u001b[0m \u001b[0minto\u001b[0m \u001b[0mGenre\u001b[0m \u001b[1;33m(\u001b[0m\u001b[0mname\u001b[0m\u001b[1;33m)\u001b[0m \u001b[0mvalues\u001b[0m \u001b[1;33m(\u001b[0m\u001b[1;34m'22L'\u001b[0m\u001b[1;33m)\u001b[0m\u001b[1;33m;\u001b[0m\u001b[1;33m\u001b[0m\u001b[1;33m\u001b[0m\u001b[0m\n\u001b[0;32m     34\u001b[0m \u001b[1;33m\u001b[0m\u001b[0m\n\u001b[1;32m---> 35\u001b[1;33m ''')\t\n\u001b[0m\u001b[0;32m     36\u001b[0m curr.execute('''\n\u001b[0;32m     37\u001b[0m     \u001b[0mINSERT\u001b[0m \u001b[0mINTO\u001b[0m \u001b[0malbum\u001b[0m \u001b[1;33m(\u001b[0m\u001b[0mtitle\u001b[0m\u001b[1;33m,\u001b[0m \u001b[0martist_id\u001b[0m\u001b[1;33m)\u001b[0m\u001b[1;33m\u001b[0m\u001b[1;33m\u001b[0m\u001b[0m\n",
      "\u001b[1;31mOperationalError\u001b[0m: table Artist already exists"
     ]
    }
   ],
   "source": [
    "cur.executescript('''\n",
    "\n",
    "CREATE TABLE Artist(\n",
    "    id INTEGER NOT NULL PRIMARY KEY AUTOINCREMENT UNIQUE,\n",
    "    name TEXT\n",
    ");\n",
    "\n",
    "CREATE TABLE Genre(\n",
    "    id INTEGER NOT NULL PRIMARY KEY AUTOINCREMENT UNIQUE,\n",
    "    name TEXT\n",
    ");\n",
    "\n",
    "CREATE TABLE Album(\n",
    "    id INTEGER NOT NULL PRIMARY KEY AUTOINCREMENT,\n",
    "    title TEXT,\n",
    "    artist_id INTEGER\n",
    ");\n",
    "\n",
    "CREATE TABLE Track(\n",
    "    id INTEGER NOT NULL PRIMARY KEY AUTOINCREMENT UNIQUE,\n",
    "    title TEXT,\n",
    "    length INTEGER,\n",
    "    rating INTEGER,\n",
    "    count INTEGER,\n",
    "    album_id INTEGER,\n",
    "    genre_id INTEGER\n",
    ");\n",
    "\n",
    "insert into Artist (name) values ('Led Zepplin');\n",
    "insert into Artist (name) values ('22Led Zepplin');\n",
    "\n",
    "insert into Genre (name) values ('LOLA');\n",
    "insert into Genre (name) values ('22L');\n",
    "\n",
    "''')\t\n",
    "curr.execute('''\n",
    "    INSERT INTO album (title, artist_id)\n",
    "    VALUES(:album, \n",
    "        (SELECT id\n",
    "        FROM artist\n",
    "        WHERE name = :artist));\n",
    "''',{'album':'앨범이름', 'artist':'Led Zepplin'})"
   ]
  },
  {
   "cell_type": "code",
   "execution_count": 11,
   "metadata": {},
   "outputs": [],
   "source": [
    "conn.commit()"
   ]
  },
  {
   "cell_type": "code",
   "execution_count": 14,
   "metadata": {},
   "outputs": [
    {
     "data": {
      "text/plain": [
       "<sqlite3.Cursor at 0x29bffcc4f10>"
      ]
     },
     "execution_count": 14,
     "metadata": {},
     "output_type": "execute_result"
    }
   ],
   "source": [
    "curr.execute('''\n",
    "    INSERT INTO album (title, artist_id)\n",
    "    VALUES(:album, \n",
    "        (SELECT id\n",
    "        FROM artist\n",
    "        WHERE name = :artist));\n",
    "''',{'album':'IV', 'artist':'Led Zepplin'})"
   ]
  },
  {
   "cell_type": "code",
   "execution_count": 15,
   "metadata": {},
   "outputs": [],
   "source": [
    "conn.commit()"
   ]
  },
  {
   "cell_type": "code",
   "execution_count": 22,
   "metadata": {},
   "outputs": [
    {
     "data": {
      "text/plain": [
       "<sqlite3.Cursor at 0x29bffcc4f10>"
      ]
     },
     "execution_count": 22,
     "metadata": {},
     "output_type": "execute_result"
    }
   ],
   "source": [
    "curr.execute('''\n",
    "    INSERT INTO album(title,artist_id)\n",
    "    VALUES(:album, \n",
    "        (SELECT id \n",
    "        FROM artist \n",
    "        WHERE name=:artist));\n",
    "''',{'album':'Who made who', 'artist':'22Led Zepplin'})"
   ]
  },
  {
   "cell_type": "code",
   "execution_count": 23,
   "metadata": {},
   "outputs": [],
   "source": [
    "conn.commit()"
   ]
  },
  {
   "cell_type": "code",
   "execution_count": 31,
   "metadata": {},
   "outputs": [
    {
     "data": {
      "text/plain": [
       "<sqlite3.Cursor at 0x29bffcc4f10>"
      ]
     },
     "execution_count": 31,
     "metadata": {},
     "output_type": "execute_result"
    }
   ],
   "source": [
    "curr.execute('''\n",
    "    INSERT INTO track (title, rating, length, count, album_id, genre_id)\n",
    "    VALUES(:title, :rating, :length, :count,\n",
    "            (SELECT id\n",
    "            FROM album\n",
    "            WHERE title=:album_title),:genre_id);\n",
    "'''\n",
    ",{'title':'Stairway', 'rating':5, 'length':482, 'count':0, 'album_title':'IV', 'genre_id':1})"
   ]
  },
  {
   "cell_type": "code",
   "execution_count": 32,
   "metadata": {},
   "outputs": [],
   "source": [
    "conn.commit()"
   ]
  },
  {
   "cell_type": "code",
   "execution_count": 35,
   "metadata": {},
   "outputs": [
    {
     "data": {
      "text/plain": [
       "<sqlite3.Cursor at 0x29bffcc4f10>"
      ]
     },
     "execution_count": 35,
     "metadata": {},
     "output_type": "execute_result"
    }
   ],
   "source": [
    "curr.execute('''\n",
    "    SELECT album.title, artist.name\n",
    "    FROM album\n",
    "    JOIN artist\n",
    "    ON album.artist_id=Artist.id\n",
    "\n",
    "''')"
   ]
  },
  {
   "cell_type": "code",
   "execution_count": 36,
   "metadata": {},
   "outputs": [
    {
     "name": "stdout",
     "output_type": "stream",
     "text": [
      "('앨범이름', 'Led Zepplin')\n",
      "('앨범이름', 'Led Zepplin')\n",
      "('앨범이름', 'Led Zepplin')\n",
      "('IV', 'Led Zepplin')\n",
      "('IV', 'Led Zepplin')\n",
      "('Who made who', '22Led Zepplin')\n",
      "('앨범이름', 'Led Zepplin')\n"
     ]
    }
   ],
   "source": [
    "for row in curr:\n",
    "    print(row)"
   ]
  },
  {
   "cell_type": "code",
   "execution_count": 37,
   "metadata": {},
   "outputs": [
    {
     "data": {
      "text/plain": [
       "<sqlite3.Cursor at 0x29bffcc4f10>"
      ]
     },
     "execution_count": 37,
     "metadata": {},
     "output_type": "execute_result"
    }
   ],
   "source": [
    "curr.execute('''\n",
    "    SELECT track.title, genre.name\n",
    "    FROM track\n",
    "    JOIN genre\n",
    "    ON track.genre_id=genre.id\n",
    "''')"
   ]
  },
  {
   "cell_type": "code",
   "execution_count": 38,
   "metadata": {},
   "outputs": [
    {
     "name": "stdout",
     "output_type": "stream",
     "text": [
      "('Stairway', 'LOLA')\n",
      "('Stairway', 'LOLA')\n"
     ]
    }
   ],
   "source": [
    "for row in curr:\n",
    "    print(row)"
   ]
  },
  {
   "cell_type": "code",
   "execution_count": 39,
   "metadata": {},
   "outputs": [
    {
     "data": {
      "text/plain": [
       "<sqlite3.Cursor at 0x29bffcc4f10>"
      ]
     },
     "execution_count": 39,
     "metadata": {},
     "output_type": "execute_result"
    }
   ],
   "source": [
    "curr.execute('''\n",
    "    SELECT album.title, track.title\n",
    "    FROM track\n",
    "    JOIN album\n",
    "    ON track.album_id=album.id\n",
    "''')"
   ]
  },
  {
   "cell_type": "code",
   "execution_count": 40,
   "metadata": {},
   "outputs": [
    {
     "name": "stdout",
     "output_type": "stream",
     "text": [
      "('IV', 'Stairway')\n",
      "('IV', 'Stairway')\n"
     ]
    }
   ],
   "source": [
    "for row in curr:\n",
    "    print(row)"
   ]
  },
  {
   "cell_type": "code",
   "execution_count": 42,
   "metadata": {},
   "outputs": [
    {
     "data": {
      "text/plain": [
       "<sqlite3.Cursor at 0x29bffcc4f10>"
      ]
     },
     "execution_count": 42,
     "metadata": {},
     "output_type": "execute_result"
    }
   ],
   "source": [
    "curr.execute('''\n",
    "    SELECT track.title, artist.name, album.title, genre.name\n",
    "    FROM track\n",
    "    JOIN artist JOIN album JOIN genre\n",
    "    ON track.album_id=album.id\n",
    "    AND track.genre_id=genre.id\n",
    "    AND album.artist_id=artist.id\n",
    "''')"
   ]
  },
  {
   "cell_type": "code",
   "execution_count": 43,
   "metadata": {},
   "outputs": [
    {
     "name": "stdout",
     "output_type": "stream",
     "text": [
      "('Stairway', 'Led Zepplin', 'IV', 'LOLA')\n",
      "('Stairway', 'Led Zepplin', 'IV', 'LOLA')\n"
     ]
    }
   ],
   "source": [
    "for row in curr:\n",
    "    print(row)"
   ]
  },
  {
   "cell_type": "code",
   "execution_count": null,
   "metadata": {},
   "outputs": [],
   "source": []
  }
 ],
 "metadata": {
  "kernelspec": {
   "display_name": "Python 3",
   "language": "python",
   "name": "python3"
  },
  "language_info": {
   "codemirror_mode": {
    "name": "ipython",
    "version": 3
   },
   "file_extension": ".py",
   "mimetype": "text/x-python",
   "name": "python",
   "nbconvert_exporter": "python",
   "pygments_lexer": "ipython3",
   "version": "3.7.3"
  }
 },
 "nbformat": 4,
 "nbformat_minor": 2
}

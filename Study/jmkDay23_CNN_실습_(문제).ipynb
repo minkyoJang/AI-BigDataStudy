{
 "cells": [
  {
   "cell_type": "markdown",
   "metadata": {
    "colab_type": "text",
    "id": "lJKtgmNc774E"
   },
   "source": [
    "링크 주소: tinyurl.com/skt-04-12\n",
    "다운로드 후 google drive 업로드\n",
    "Colaboratory로 열기."
   ]
  },
  {
   "cell_type": "markdown",
   "metadata": {
    "colab_type": "text",
    "id": "9SH_g6i-jMBh"
   },
   "source": [
    "### pyTorch 를 비롯해 오늘 실습에 필요한 파이썬 라이브러리를 읽어들입니다."
   ]
  },
  {
   "cell_type": "code",
   "execution_count": 0,
   "metadata": {
    "colab": {},
    "colab_type": "code",
    "id": "s-5K8m1hfCRC"
   },
   "outputs": [],
   "source": [
    "import torch\n",
    "import torch.nn as nn #\n",
    "import torch.nn.functional as F #\n",
    "import torchvision # 이미지 관련 처리, Pretrained Model 관련된 Package 입니다. \n",
    "import torchvision.datasets as vision_dsets\n",
    "import torchvision.transforms as transforms # 이미지 처리 (Vison) 관련된 transformation이 정의 되어 있습니다.\n",
    "import torch.optim as optim # pytorch 에서 정의한 수 많은 optimization function 들이 들어 있습니다.\n",
    "from torch.utils import data\n",
    "\n",
    "import numpy as np\n",
    "import matplotlib.pyplot as plt # 시각화를 위한 패키지입니다."
   ]
  },
  {
   "cell_type": "markdown",
   "metadata": {
    "colab_type": "text",
    "id": "Yz8VMAXSjYCe"
   },
   "source": [
    "### Hyper-parameter 세팅 및 기타 변수 지정"
   ]
  },
  {
   "cell_type": "code",
   "execution_count": 0,
   "metadata": {
    "colab": {},
    "colab_type": "code",
    "id": "q-G0yNhJjLtZ"
   },
   "outputs": [],
   "source": [
    "device = 'cuda' if torch.cuda.is_available() else 'cpu' # pytorch0.4.0 이상 버젼에서 gpu 설정하는 방식, tensor.to(device) 이런식으로 사용\n",
    "lr = 0.001\n",
    "batch_size = 128\n",
    "best_acc = 0  # best test accuracy\n",
    "start_epoch = 0  # start from epoch 0 or last checkpoint epoch"
   ]
  },
  {
   "cell_type": "markdown",
   "metadata": {
    "colab_type": "text",
    "id": "cXhH8tYwtQN7"
   },
   "source": [
    "### 다양한 함수 연습"
   ]
  },
  {
   "cell_type": "code",
   "execution_count": 9,
   "metadata": {
    "colab": {
     "base_uri": "https://localhost:8080/",
     "height": 34
    },
    "colab_type": "code",
    "executionInfo": {
     "elapsed": 1229,
     "status": "ok",
     "timestamp": 1562083403519,
     "user": {
      "displayName": "Wonwoong Cho",
      "photoUrl": "",
      "userId": "14212918309461362604"
     },
     "user_tz": -540
    },
    "id": "gfkq3vn1ta4r",
    "outputId": "f83198d3-9762-43b2-927a-992b4bea7e66"
   },
   "outputs": [
    {
     "name": "stdout",
     "output_type": "stream",
     "text": [
      "torch.Size([2000, 12288])\n"
     ]
    }
   ],
   "source": [
    "# torch.view 연습\n",
    "\n",
    "sample = torch.randn(2000,3,64,64)\n",
    "#기본적으로, 이미지 처리를 할때 파이토치의 텐서 구성은 Batch, Channel, Height, Width로 구성.\n",
    "#코딩 시 B,C,H,W로 변수화하여 사용하면 편리\n",
    "\n",
    "B,C,H,W = sample.size()\n",
    "\n",
    "# sample => (2000, 64, 64, 3).  \n",
    "sample_1 = sample.view(B, -1) #위 sample 을 (2000, 3*64*64)으로 바꿔보세요.\n",
    "\n",
    "print(sample_1.size())\n"
   ]
  },
  {
   "cell_type": "code",
   "execution_count": 0,
   "metadata": {
    "colab": {},
    "colab_type": "code",
    "id": "nIEfCDZebJ5f"
   },
   "outputs": [],
   "source": [
    "#위 sample 을 (2000*3, 64*64)로 바꿔보세요.\n",
    "sample_2 = sample.view(B*C, ?)\n",
    "print(sample_2.size())"
   ]
  },
  {
   "cell_type": "code",
   "execution_count": 0,
   "metadata": {
    "colab": {
     "base_uri": "https://localhost:8080/",
     "height": 52
    },
    "colab_type": "code",
    "id": "0iH_HikgtcN_",
    "outputId": "3e279299-02ed-4f40-d413-200216a983e0"
   },
   "outputs": [
    {
     "name": "stdout",
     "output_type": "stream",
     "text": [
      "torch.Size([2, 10, 500])\n",
      "torch.Size([5, 10, 200])\n"
     ]
    }
   ],
   "source": [
    "# torch.view 다른 예제\n",
    "a = torch.FloatTensor(5,20,100)\n",
    "a1 = a.view(2, 10, -1)\n",
    "print(a1.size())\n",
    "a2 = a.view(-1,10, 200)\n",
    "print(a2.size())"
   ]
  },
  {
   "cell_type": "code",
   "execution_count": 17,
   "metadata": {
    "colab": {
     "base_uri": "https://localhost:8080/",
     "height": 51
    },
    "colab_type": "code",
    "executionInfo": {
     "elapsed": 1504,
     "status": "ok",
     "timestamp": 1562083609033,
     "user": {
      "displayName": "Wonwoong Cho",
      "photoUrl": "",
      "userId": "14212918309461362604"
     },
     "user_tz": -540
    },
    "id": "FpJXUhHfZqqk",
    "outputId": "870b4094-2d3d-4c94-e92a-3d5559e0e748"
   },
   "outputs": [
    {
     "name": "stdout",
     "output_type": "stream",
     "text": [
      "torch.Size([2000, 3, 32, 64])\n",
      "torch.Size([2000, 3, 64, 32])\n"
     ]
    }
   ],
   "source": [
    "# dimension간의 이동을 하고 싶으면? ex) B,C,H,W => B,C,W,H \n",
    "sample = torch.randn(2000,3,32,64)\n",
    "sample_1 = sample.permute(0,1,3,2)\n",
    "print(sample.size())\n",
    "print(sample_1.size())"
   ]
  },
  {
   "cell_type": "code",
   "execution_count": 18,
   "metadata": {
    "colab": {
     "base_uri": "https://localhost:8080/",
     "height": 34
    },
    "colab_type": "code",
    "executionInfo": {
     "elapsed": 795,
     "status": "ok",
     "timestamp": 1562083610890,
     "user": {
      "displayName": "Wonwoong Cho",
      "photoUrl": "",
      "userId": "14212918309461362604"
     },
     "user_tz": -540
    },
    "id": "AtmhGsJBbVSu",
    "outputId": "118d7506-2f10-4ab8-8584-54da847d553d"
   },
   "outputs": [
    {
     "name": "stdout",
     "output_type": "stream",
     "text": [
      "True\n"
     ]
    }
   ],
   "source": [
    "# sample_1 변수의 디멘션을 다시 원래대로 돌리려면?\n",
    "sample_2 = sample_1.??\n",
    "print(torch.equal(sample,sample_2))"
   ]
  },
  {
   "cell_type": "markdown",
   "metadata": {
    "colab_type": "text",
    "id": "WbflffF5jkhF"
   },
   "source": [
    "### Convolution layer  가지고 놀기 "
   ]
  },
  {
   "cell_type": "code",
   "execution_count": 21,
   "metadata": {
    "colab": {
     "base_uri": "https://localhost:8080/",
     "height": 34
    },
    "colab_type": "code",
    "executionInfo": {
     "elapsed": 2130,
     "status": "ok",
     "timestamp": 1562083896573,
     "user": {
      "displayName": "Wonwoong Cho",
      "photoUrl": "",
      "userId": "14212918309461362604"
     },
     "user_tz": -540
    },
    "id": "ekBQ5Gv5tdWt",
    "outputId": "949dc7f8-db5b-473e-84d7-311402dcd935"
   },
   "outputs": [
    {
     "name": "stdout",
     "output_type": "stream",
     "text": [
      "torch.Size([16, 128, 32, 32])\n"
     ]
    }
   ],
   "source": [
    "# torch.nn.conv 연습\n",
    "# 클래스 구성: nn.Conv2d(in, out, filter_size, stride, padding)\n",
    "# 아웃풋사이즈가 이와같이 되도록 되도록 해봅니다: (16, 128, 32, 32)\n",
    "input1 = torch.zeros(16, 3, 64, 64)\n",
    "conv1 = nn.Conv2d(3, 512, 3, 1, 1)\n",
    "conv2 = nn.Conv2d(512,128,4,2,1)\n",
    "\n",
    "out = conv1(input1)\n",
    "output = conv2(out)\n",
    "\n",
    "print(output.size())"
   ]
  },
  {
   "cell_type": "code",
   "execution_count": 22,
   "metadata": {
    "colab": {
     "base_uri": "https://localhost:8080/",
     "height": 34
    },
    "colab_type": "code",
    "executionInfo": {
     "elapsed": 1136,
     "status": "ok",
     "timestamp": 1562083952486,
     "user": {
      "displayName": "Wonwoong Cho",
      "photoUrl": "",
      "userId": "14212918309461362604"
     },
     "user_tz": -540
    },
    "id": "-4y9j5V1toLX",
    "outputId": "fc87f0b3-7126-44ef-a7a1-a4e08ff50206"
   },
   "outputs": [
    {
     "name": "stdout",
     "output_type": "stream",
     "text": [
      "torch.Size([16, 512, 16, 16])\n"
     ]
    }
   ],
   "source": [
    "# torch.nn.conv 연습\n",
    "# 클래스 구성: nn.Conv2d(in, out, filter_size, stride, padding)\n",
    "# 아웃풋사이즈가 이와같이 되도록 해봅니다: (16, 512, 16, 16)\n",
    "input = torch.zeros(16, 3, 64, 64)\n",
    "conv1 = nn.Conv2d(3,64,3,1,1)\n",
    "conv2 = nn.Conv2d(64,512,3,4,1)\n",
    "\n",
    "out = conv1(input)\n",
    "output = conv2(out)\n",
    "\n",
    "print(output.size())"
   ]
  },
  {
   "cell_type": "code",
   "execution_count": 0,
   "metadata": {
    "colab": {
     "base_uri": "https://localhost:8080/",
     "height": 35
    },
    "colab_type": "code",
    "id": "z98BxwUEtzMV",
    "outputId": "01182ee8-5c59-4007-a61c-297eb8c4dfca"
   },
   "outputs": [
    {
     "name": "stdout",
     "output_type": "stream",
     "text": [
      "torch.Size([16, 512, 64, 64])\n"
     ]
    }
   ],
   "source": [
    "#quiz 4 (torch.nn.conv 연습)\n",
    "# 클래스 구성: nn.Conv2d(in, out, filter_size, stride, padding)\n",
    "# 아웃풋사이즈가 이와같이 되도록 해봅니다: (16, 512, 64, 64)\n",
    "input = torch.zeros(16, 3, 64, 64)\n",
    "conv1 = nn.Conv2d(3,64,3,1,1)\n",
    "conv2 = nn.Conv2d(64,512,3,1,1)\n",
    "\n",
    "out = conv1(input)\n",
    "output = conv2(out)\n",
    "\n",
    "print(output.size())"
   ]
  },
  {
   "cell_type": "markdown",
   "metadata": {
    "colab_type": "text",
    "id": "M0qEKErJjfFm"
   },
   "source": [
    "### 데이터 로딩"
   ]
  },
  {
   "cell_type": "markdown",
   "metadata": {
    "colab_type": "text",
    "id": "nWG00oKqntRB"
   },
   "source": [
    "Data Augmentation?"
   ]
  },
  {
   "cell_type": "code",
   "execution_count": 23,
   "metadata": {
    "colab": {
     "base_uri": "https://localhost:8080/",
     "height": 68
    },
    "colab_type": "code",
    "executionInfo": {
     "elapsed": 14618,
     "status": "ok",
     "timestamp": 1562084093179,
     "user": {
      "displayName": "Wonwoong Cho",
      "photoUrl": "",
      "userId": "14212918309461362604"
     },
     "user_tz": -540
    },
    "id": "gbSxD67XjdzL",
    "outputId": "413322fd-5b34-4511-b735-f7d8d545f1a6"
   },
   "outputs": [
    {
     "name": "stderr",
     "output_type": "stream",
     "text": [
      "\r",
      "0it [00:00, ?it/s]"
     ]
    },
    {
     "name": "stdout",
     "output_type": "stream",
     "text": [
      "==> Preparing data..\n",
      "Downloading https://www.cs.toronto.edu/~kriz/cifar-10-python.tar.gz to ./data/cifar-10-python.tar.gz\n"
     ]
    },
    {
     "name": "stderr",
     "output_type": "stream",
     "text": [
      " 98%|█████████▊| 167911424/170498071 [00:10<00:00, 19807384.94it/s]"
     ]
    },
    {
     "name": "stdout",
     "output_type": "stream",
     "text": [
      "Files already downloaded and verified\n"
     ]
    }
   ],
   "source": [
    "# Data\n",
    "print('==> Preparing data..')\n",
    "# 데이터 전처리를 위한 코드\n",
    "transform_train = transforms.Compose([\n",
    "    transforms.RandomCrop(32, padding=4), # 4만큼의 padding을 부여한 후, 32x32로 random cropping\n",
    "    transforms.RandomHorizontalFlip(), # 0.5의 확률로 이미지 좌우 반전하여 넣어줌\n",
    "    transforms.ToTensor(),\n",
    "    transforms.Normalize((0.4914, 0.4822, 0.4465), (0.2023, 0.1994, 0.2010)), # cifar10(0~1)의 r,g,b 채널 별 평균 및 분산으로 normalization => N(0,1)의 정규분포를 따르도록 만들어준 후 input으로 넣어줍니다.\n",
    "])\n",
    "\n",
    "# 랜덤 cropping을 하고, 이미지 좌우반전을 해주는 이유 : ???\n",
    "\n",
    "# 데이터 전처리를 위한 코드\n",
    "transform_test = transforms.Compose([\n",
    "    transforms.ToTensor(),\n",
    "    transforms.Normalize((0.4914, 0.4822, 0.4465), (0.2023, 0.1994, 0.2010)), # cifar10(0~1)의 r,g,b 채널 별 평균 및 분산으로 normalization => N(0,1)의 정규분포를 따르도록 만들어준 후 input으로 넣어줍니다.\n",
    "])\n",
    "\n",
    "# 데이터 로딩\n",
    "trainset = torchvision.datasets.CIFAR10(root='./data', train=True, download=True, transform=transform_train)\n",
    "trainloader = torch.utils.data.DataLoader(trainset, batch_size=batch_size, shuffle=True, num_workers=1)\n",
    "\n",
    "testset = torchvision.datasets.CIFAR10(root='./data', train=False, download=True, transform=transform_test)\n",
    "testloader = torch.utils.data.DataLoader(testset, batch_size=100, shuffle=False, num_workers=1)\n",
    "\n",
    "classes = ('plane', 'car', 'bird', 'cat', 'deer', 'dog', 'frog', 'horse', 'ship', 'truck')"
   ]
  },
  {
   "cell_type": "code",
   "execution_count": 24,
   "metadata": {
    "colab": {
     "base_uri": "https://localhost:8080/",
     "height": 437
    },
    "colab_type": "code",
    "executionInfo": {
     "elapsed": 5930,
     "status": "ok",
     "timestamp": 1562084160153,
     "user": {
      "displayName": "Wonwoong Cho",
      "photoUrl": "",
      "userId": "14212918309461362604"
     },
     "user_tz": -540
    },
    "id": "mXEmr4oVnyRv",
    "outputId": "93724c3f-7afe-4559-cde6-b03b0edbfc8d"
   },
   "outputs": [
    {
     "data": {
      "image/png": "[encoded data removed]",
      "text/plain": [
       "<Figure size 1080x6480 with 6 Axes>"
      ]
     },
     "metadata": {
      "tags": []
     },
     "output_type": "display_data"
    },
    {
     "data": {
      "image/png": "[encoded data removed]",
      "text/plain": [
       "<Figure size 1080x6480 with 6 Axes>"
      ]
     },
     "metadata": {
      "tags": []
     },
     "output_type": "display_data"
    },
    {
     "data": {
      "image/png": "[encoded data removed]",
      "text/plain": [
       "<Figure size 1080x6480 with 6 Axes>"
      ]
     },
     "metadata": {
      "tags": []
     },
     "output_type": "display_data"
    }
   ],
   "source": [
    "def showImages(image, row):\n",
    "  \n",
    "  for _ in range(row):  \n",
    "  \n",
    "    idx = np.random.choice(batch_size, 6)     # 0 ~ 127 의 정수 중 6 개를 임의로 선택\n",
    "    images =image.numpy()[idx].transpose(0,2,3,1).clip(0,1)         # 선택된 index 에 해당하는 이미지를 가져옴\n",
    "    plt.figure(figsize = (15, 90))     # 세로 길이 15, 가로 길이 15 * 6 의 화면 생성\n",
    "    \n",
    "    for i in range(161, 167):    \n",
    "    \n",
    "      plt.subplot(i)\n",
    "      plt.imshow(images[i - 161])\n",
    "      plt.xticks([])\n",
    "      plt.yticks([])    \n",
    "    \n",
    "    plt.show()  \n",
    "\n",
    "for i, (image, labels) in enumerate(trainloader): \n",
    "  \n",
    "  showImages(image.squeeze(), 3)\n",
    "  break"
   ]
  },
  {
   "cell_type": "code",
   "execution_count": 25,
   "metadata": {
    "colab": {
     "base_uri": "https://localhost:8080/",
     "height": 51
    },
    "colab_type": "code",
    "executionInfo": {
     "elapsed": 1275,
     "status": "ok",
     "timestamp": 1562084166859,
     "user": {
      "displayName": "Wonwoong Cho",
      "photoUrl": "",
      "userId": "14212918309461362604"
     },
     "user_tz": -540
    },
    "id": "QGj5qoFcn0FF",
    "outputId": "f81fbcc0-9cf5-4294-c173-4430c5fc2b59"
   },
   "outputs": [
    {
     "name": "stdout",
     "output_type": "stream",
     "text": [
      "[info] # of train batch :  391\n",
      "[info] # of test batch :  100\n"
     ]
    }
   ],
   "source": [
    "print('[info] # of train batch : ' ,len(trainloader))\n",
    "print('[info] # of test batch : ', len(testloader))"
   ]
  },
  {
   "cell_type": "code",
   "execution_count": 0,
   "metadata": {
    "colab": {},
    "colab_type": "code",
    "id": "vJ9lTPT9n1dM"
   },
   "outputs": [],
   "source": [
    "def train_network(net,optimizer,trainloader, epochs=5):\n",
    "  for epoch in range(epochs):  # loop over the dataset multiple times\n",
    "\n",
    "      running_loss = 0.0 # running loss를 저장하기 위한 변수입니다. \n",
    "      for i, data in enumerate(trainloader): # 한 Epoch 만큼 돕니다. 매 iteration 마다 정해진 Batch size 만큼 데이터를 뱉습니다. \n",
    "          # get the inputs\n",
    "          inputs, labels = data # DataLoader iterator의 반환 값은 input_data 와 labels의 튜플 형식입니다. \n",
    "          inputs = inputs.to(device) # Pytorch에서 nn.Module 에 넣어 Backprop을 계산 하기 위해서는 gpu 연동을 이와 같이 해줘야 합니다.\n",
    "          labels = labels.to(device)\n",
    "          # zero the parameter gradients\n",
    "          optimizer.zero_grad()    #  현재 기존의 backprop을 계산하기 위해서 저장했던 activation buffer 를 비웁니다.\n",
    "          # forward + backward + optimize\n",
    "          outputs = net(inputs) # input 을 넣은 위 network 로 부터 output 을 얻어냅니다. \n",
    "          loss = criterion(outputs, labels) # loss fucntion에 주어진 target과 output 의 score를 계산하여 반환합니다. \n",
    "          loss.backward() # * Scalar Loss value를 Backward() 해주게 되면 주어진 loss값을 바탕으로 backpropagation이 진행됩니다. \n",
    "          optimizer.step() # 계산된 Backprop 을 바탕으로 optimizer가 gradient descenting 을 수행합니다. \n",
    "\n",
    "          # print statistics\n",
    "          running_loss += loss.item()\n",
    "          if (i+1) % 100 == 0:    # print every 500 mini-batches\n",
    "              print('[%d, %5d] loss: %.3f' %\n",
    "                    (epoch + 1, i + 1, running_loss / 100))\n",
    "              running_loss = 0.0\n",
    "\n",
    "  print('Finished Training')"
   ]
  },
  {
   "cell_type": "code",
   "execution_count": 0,
   "metadata": {
    "colab": {},
    "colab_type": "code",
    "id": "3F3ZmR6-oIH3"
   },
   "outputs": [],
   "source": [
    "def test(model,test_loader):\n",
    "  model.eval() # Eval Mode 왜 해야 할까요?  --> nn.Dropout BatchNorm 등의 Regularization 들이 test 모드로 들어가게 되기 때문입니다. \n",
    "  test_loss = 0\n",
    "  correct = 0\n",
    "  for data, target in test_loader:\n",
    "    data = data.to(device)\n",
    "    target = target.to(device)  # 기존의 train function의 data 처리부분과 같습니다. \n",
    "    output = model(data) \n",
    "    pred = output.max(1, keepdim=True)[1] # get the index of the max \n",
    "    correct += pred.eq(target.view_as(pred)).sum().item() # 정답 데이터의 갯수를 반환합니다. \n",
    "\n",
    "  test_loss /= len(test_loader.dataset)\n",
    "  print('\\nTest set:  Accuracy: {}/{} ({:.0f}%)\\n'.format(\n",
    "      correct, len(test_loader.dataset),\n",
    "      100. * correct / len(test_loader.dataset)))"
   ]
  },
  {
   "cell_type": "code",
   "execution_count": 0,
   "metadata": {
    "colab": {},
    "colab_type": "code",
    "id": "wRrx1X1RN-_Z"
   },
   "outputs": [],
   "source": [
    "def count_parameters(model): # 모델 파라미터 개수를 리턴하는 함수를 하나 만들어둡니다\n",
    "  return sum(p.numel() for p in model.parameters() if p.requires_grad)"
   ]
  },
  {
   "cell_type": "markdown",
   "metadata": {
    "colab_type": "text",
    "id": "I5gzkWcJoUxC"
   },
   "source": [
    "### MNIST에서 사용했던 MLP를 적용해보자!"
   ]
  },
  {
   "cell_type": "code",
   "execution_count": 0,
   "metadata": {
    "colab": {},
    "colab_type": "code",
    "id": "9fwsRmXDoL8d"
   },
   "outputs": [],
   "source": [
    "class MNIST_Net(nn.Module):\n",
    "    def __init__(self):\n",
    "        super(MNIST_Net, self).__init__()\n",
    "        \n",
    "        layer_list = [] # 이 리스트에 모든 Layer 를 순차적으로 append 해보겠습니다. \n",
    "        layer_list.append(nn.Linear(3*32*32,256)) #Layer 1 인풋 사이즈가 32*32로 변경되었기 때문에 바꿔줍니다!!\n",
    "        layer_list.append(nn.BatchNorm1d(256))#BatchNorm1\n",
    "        layer_list.append(nn.ReLU()) # Relu \n",
    "        layer_list.append(nn.Linear(256, 64)) # Layer 2\n",
    "        layer_list.append(nn.BatchNorm1d(64)) #BatchNorm1\n",
    "        layer_list.append(nn.ReLU())# Relu \n",
    "        layer_list.append(nn.Linear(64, 10)) # Layer 3\n",
    "        self.net  = nn.Sequential(*layer_list) # nn.Sequential 에 layer list를 넘겨 줍니다.\n",
    "       \n",
    "    def forward(self, x):\n",
    "        x = x.view(-1,32*32*3) # 기존의 (128, 3, 32, 32)를 일자로 쭉 늘립니다.\n",
    "        x = self.net(x) # 넣은 순서대로 적용이 됩니다. \n",
    "        return x"
   ]
  },
  {
   "cell_type": "code",
   "execution_count": 0,
   "metadata": {
    "colab": {},
    "colab_type": "code",
    "id": "OXDe9e8goV4k"
   },
   "outputs": [],
   "source": [
    "mnist_net = MNIST_Net().to(device) # 생성한 뉴럴넷 Instance를 생성하고 빠른 학습을 위해 cuda 에 올립니다. \n",
    "criterion = nn.CrossEntropyLoss() # Loss Function을 정의 합니다. 여기서는 cross entrophy loss 를 사용합니다. \n",
    "optimizer = optim.Adam(mnist_net.parameters(), lr=lr) # optimizer는 이와 같이 training 할 Parameter와 learning rate를 인자로 줍니다. "
   ]
  },
  {
   "cell_type": "code",
   "execution_count": 32,
   "metadata": {
    "colab": {
     "base_uri": "https://localhost:8080/",
     "height": 289
    },
    "colab_type": "code",
    "executionInfo": {
     "elapsed": 67385,
     "status": "ok",
     "timestamp": 1562084476513,
     "user": {
      "displayName": "Wonwoong Cho",
      "photoUrl": "",
      "userId": "14212918309461362604"
     },
     "user_tz": -540
    },
    "id": "ET-9RK75oX3w",
    "outputId": "5273c18f-d059-4826-8b26-d201145f68b2"
   },
   "outputs": [
    {
     "name": "stdout",
     "output_type": "stream",
     "text": [
      "[1,   100] loss: 2.029\n",
      "[1,   200] loss: 1.828\n",
      "[1,   300] loss: 1.750\n",
      "[2,   100] loss: 1.664\n",
      "[2,   200] loss: 1.638\n",
      "[2,   300] loss: 1.614\n",
      "[3,   100] loss: 1.580\n",
      "[3,   200] loss: 1.560\n",
      "[3,   300] loss: 1.555\n",
      "[4,   100] loss: 1.521\n",
      "[4,   200] loss: 1.503\n",
      "[4,   300] loss: 1.519\n",
      "[5,   100] loss: 1.483\n",
      "[5,   200] loss: 1.479\n",
      "[5,   300] loss: 1.481\n",
      "Finished Training\n"
     ]
    }
   ],
   "source": [
    "train_network(mnist_net,optimizer,trainloader)"
   ]
  },
  {
   "cell_type": "code",
   "execution_count": 39,
   "metadata": {
    "colab": {
     "base_uri": "https://localhost:8080/",
     "height": 68
    },
    "colab_type": "code",
    "executionInfo": {
     "elapsed": 2964,
     "status": "ok",
     "timestamp": 1562084932438,
     "user": {
      "displayName": "Wonwoong Cho",
      "photoUrl": "",
      "userId": "14212918309461362604"
     },
     "user_tz": -540
    },
    "id": "wO5Aa_PCoYxL",
    "outputId": "580ea940-631d-409d-b4ef-a9c2c5286d98"
   },
   "outputs": [
    {
     "name": "stdout",
     "output_type": "stream",
     "text": [
      "\n",
      "Test set:  Accuracy: 4995/10000 (50%)\n",
      "\n"
     ]
    }
   ],
   "source": [
    "test(mnist_net,testloader)"
   ]
  },
  {
   "cell_type": "markdown",
   "metadata": {
    "colab_type": "text",
    "id": "58fk39tBo91s"
   },
   "source": [
    "### 심플한 CNN 모델을 만들어 봅시다.\n",
    "\n",
    "<구성>\n",
    "\n",
    "Layer 1 - input: 3 x 32 x 32, output: 64 x 32 x 32- ReLU + BatchNorm\n",
    "\n",
    "Layer 2 - input: 64 x 32 x 32, output: 128 x 16 x 16- ReLU + BatchNorm (Down Conv라고 부릅니다.)\n",
    "\n",
    "Layer 5 - Global Average Pooling (128 x 16 x 16 => 128 x 1 x 1)\n",
    "\n",
    "Layer 6 - input: 128 x 1 x 1, output 10 x 1 x 1 - ReLU + BatchNorm\n",
    "\n",
    "![대체 텍스트](https://cdn-images-1.medium.com/max/1600/1*D47ER7IArwPv69k3O_1nqQ.png)"
   ]
  },
  {
   "cell_type": "code",
   "execution_count": 0,
   "metadata": {
    "colab": {},
    "colab_type": "code",
    "id": "Uf3CEXKVpi_0"
   },
   "outputs": [],
   "source": [
    "class DiyCNN(nn.Module):\n",
    "  def __init__(self):\n",
    "    super(DiyCNN, self).__init__()\n",
    "    layers = []\n",
    "\n",
    "    layers += [nn.Conv2d(in_channels=3, out_channels=64, kernel_size=7, stride=1, padding=3)] # 첫 conv는 보통 receptive field를 최대한 넓혀준 후 feature를 뽑아줍니다.\n",
    "    layers += [nn.BatchNorm2d(64)] # 앞선 MLP 시간과 달리 spatial resolution이 살아있기 때문에, batchnorm 2d를 사용해 줍니다.\n",
    "    layers += [nn.ReLU()]\n",
    "    \n",
    "    layers += [nn.Conv2d(64,?,?,?,?)] # Bx64x32x32 => Bx128x16x16\n",
    "    layers += [nn.BatchNorm2d(128)]\n",
    "    layers += [nn.ReLU()]\n",
    "    \n",
    "    layers += [nn.Conv2d(128, ?,?,?,?)] # Bx128x16x16 => Bx256x8x8\n",
    "    layers += [nn.BatchNorm2d(256)]\n",
    "    layers += [nn.ReLU()]\n",
    "    \n",
    "    layers += [nn.Conv2d(256, ?,?,?,?)] # Bx256x8x8 => Bx512x4x4\n",
    "    layers += [nn.BatchNorm2d(512)]\n",
    "    layers += [nn.ReLU()]\n",
    "    \n",
    "    layers += [nn.AdaptiveAvgPool2d(1)] # 512 x 1 \n",
    "    \n",
    "    layers += [nn.Conv2d(512, 10, 1, 1, 0)] # 128 x 10 x 1 x 1 \n",
    "    \n",
    "    self.main = nn.Sequential(*layers)\n",
    "    \n",
    "  def forward(self, x):\n",
    "    return self.main(x).squeeze(3).squeeze(2)"
   ]
  },
  {
   "cell_type": "markdown",
   "metadata": {
    "colab_type": "text",
    "id": "vorrzAVgq4Dg"
   },
   "source": [
    "##### 정답: 자신을 위해 가능한 확인하지 않고 진행해주세요~"
   ]
  },
  {
   "cell_type": "code",
   "execution_count": 0,
   "metadata": {
    "colab": {},
    "colab_type": "code",
    "id": "6J1292kjL1tM"
   },
   "outputs": [],
   "source": [
    "class DiyCNN(nn.Module):\n",
    "  def __init__(self):\n",
    "    super(DiyCNN, self).__init__()\n",
    "    layers = []\n",
    "\n",
    "    layers += [nn.Conv2d(in_channels=3, out_channels=64, kernel_size=3, stride=2, padding=1)] # 첫 conv는 보통 receptive field를 최대한 넓혀준 후 feature를 뽑아줍니다.\n",
    "    layers += [nn.BatchNorm2d(64)] # 앞선 MLP 시간과 달리 spatial resolution이 살아있기 때문에, batchnorm 2d를 사용해 줍니다.\n",
    "    layers += [nn.ReLU()]\n",
    "    \n",
    "    layers += [nn.Conv2d(64, 128, 4, 2, 1)]\n",
    "    layers += [nn.BatchNorm2d(128)]\n",
    "    layers += [nn.ReLU()]\n",
    "    \n",
    "    layers += [nn.Conv2d(128, 256, 4, 2, 1)]\n",
    "    layers += [nn.BatchNorm2d(256)]\n",
    "    layers += [nn.ReLU()]\n",
    "    \n",
    "    layers += [nn.Conv2d(256, 512, 4, 2, 1)]\n",
    "    layers += [nn.BatchNorm2d(512)]\n",
    "    layers += [nn.ReLU()]\n",
    "    \n",
    "    layers += [nn.AdaptiveAvgPool2d(1)]\n",
    "    \n",
    "    layers += [nn.Conv2d(512, 10, 1, 1, 0)] \n",
    "    \n",
    "    self.main = nn.Sequential(*layers)\n",
    "    \n",
    "  def forward(self, x):\n",
    "    return self.main(x).squeeze(3).squeeze(2)"
   ]
  },
  {
   "cell_type": "code",
   "execution_count": 41,
   "metadata": {
    "colab": {
     "base_uri": "https://localhost:8080/",
     "height": 34
    },
    "colab_type": "code",
    "executionInfo": {
     "elapsed": 949,
     "status": "ok",
     "timestamp": 1562085000050,
     "user": {
      "displayName": "Wonwoong Cho",
      "photoUrl": "",
      "userId": "14212918309461362604"
     },
     "user_tz": -540
    },
    "id": "WZjiCK5vre9t",
    "outputId": "944dae20-2239-48ae-a0f2-a5898cc5c38f"
   },
   "outputs": [
    {
     "name": "stdout",
     "output_type": "stream",
     "text": [
      "[info] number of model parameter - 2762250\n"
     ]
    }
   ],
   "source": [
    "cifar_net = DiyCNN().to(device) # 생성한 뉴럴넷 Instance를 생성하고 빠른 학습을 위해 cuda 에 올립니다. \n",
    "criterion = nn.CrossEntropyLoss() # Loss Function을 정의 합니다. 여기서는 cross entrophy loss 를 사용합니다. \n",
    "optimizer = optim.Adam(cifar_net.parameters(), lr=lr) # optimizer는 이와 같이 training 할 Parameter와 learning rate를 인자로 줍니다. \n",
    "\n",
    "print('[info] number of model parameter - %d'%(count_parameters(cifar_net))) # 방금 구성한 모형의 파라미터 개수를 프린트 해봅니다."
   ]
  },
  {
   "cell_type": "code",
   "execution_count": 42,
   "metadata": {
    "colab": {
     "base_uri": "https://localhost:8080/",
     "height": 409
    },
    "colab_type": "code",
    "executionInfo": {
     "elapsed": 33197,
     "status": "error",
     "timestamp": 1562085034763,
     "user": {
      "displayName": "Wonwoong Cho",
      "photoUrl": "",
      "userId": "14212918309461362604"
     },
     "user_tz": -540
    },
    "id": "pE8APJgRrgfS",
    "outputId": "a339e363-8375-49ee-9370-1cca1bba8824"
   },
   "outputs": [
    {
     "name": "stdout",
     "output_type": "stream",
     "text": [
      "[1,   100] loss: 1.701\n",
      "[1,   200] loss: 1.459\n",
      "[1,   300] loss: 1.347\n",
      "[2,   100] loss: 1.176\n",
      "[2,   200] loss: 1.130\n",
      "[2,   300] loss: 1.071\n"
     ]
    },
    {
     "ename": "KeyboardInterrupt",
     "evalue": "ignored",
     "output_type": "error",
     "traceback": [
      "\u001b[0;31m---------------------------------------------------------------------------\u001b[0m",
      "\u001b[0;31mKeyboardInterrupt\u001b[0m                         Traceback (most recent call last)",
      "\u001b[0;32m<ipython-input-42-bcd624271182>\u001b[0m in \u001b[0;36m<module>\u001b[0;34m()\u001b[0m\n\u001b[0;32m----> 1\u001b[0;31m \u001b[0mtrain_network\u001b[0m\u001b[0;34m(\u001b[0m\u001b[0mcifar_net\u001b[0m\u001b[0;34m,\u001b[0m\u001b[0moptimizer\u001b[0m\u001b[0;34m,\u001b[0m\u001b[0mtrainloader\u001b[0m\u001b[0;34m)\u001b[0m\u001b[0;34m\u001b[0m\u001b[0;34m\u001b[0m\u001b[0m\n\u001b[0m",
      "\u001b[0;32m<ipython-input-26-d1f2d205b048>\u001b[0m in \u001b[0;36mtrain_network\u001b[0;34m(net, optimizer, trainloader, epochs)\u001b[0m\n\u001b[1;32m      3\u001b[0m \u001b[0;34m\u001b[0m\u001b[0m\n\u001b[1;32m      4\u001b[0m       \u001b[0mrunning_loss\u001b[0m \u001b[0;34m=\u001b[0m \u001b[0;36m0.0\u001b[0m \u001b[0;31m# running loss를 저장하기 위한 변수입니다.\u001b[0m\u001b[0;34m\u001b[0m\u001b[0;34m\u001b[0m\u001b[0m\n\u001b[0;32m----> 5\u001b[0;31m       \u001b[0;32mfor\u001b[0m \u001b[0mi\u001b[0m\u001b[0;34m,\u001b[0m \u001b[0mdata\u001b[0m \u001b[0;32min\u001b[0m \u001b[0menumerate\u001b[0m\u001b[0;34m(\u001b[0m\u001b[0mtrainloader\u001b[0m\u001b[0;34m)\u001b[0m\u001b[0;34m:\u001b[0m \u001b[0;31m# 한 Epoch 만큼 돕니다. 매 iteration 마다 정해진 Batch size 만큼 데이터를 뱉습니다.\u001b[0m\u001b[0;34m\u001b[0m\u001b[0;34m\u001b[0m\u001b[0m\n\u001b[0m\u001b[1;32m      6\u001b[0m           \u001b[0;31m# get the inputs\u001b[0m\u001b[0;34m\u001b[0m\u001b[0;34m\u001b[0m\u001b[0;34m\u001b[0m\u001b[0m\n\u001b[1;32m      7\u001b[0m           \u001b[0minputs\u001b[0m\u001b[0;34m,\u001b[0m \u001b[0mlabels\u001b[0m \u001b[0;34m=\u001b[0m \u001b[0mdata\u001b[0m \u001b[0;31m# DataLoader iterator의 반환 값은 input_data 와 labels의 튜플 형식입니다.\u001b[0m\u001b[0;34m\u001b[0m\u001b[0;34m\u001b[0m\u001b[0m\n",
      "\u001b[0;32m/usr/local/lib/python3.6/dist-packages/torch/utils/data/dataloader.py\u001b[0m in \u001b[0;36m__next__\u001b[0;34m(self)\u001b[0m\n\u001b[1;32m    574\u001b[0m         \u001b[0;32mwhile\u001b[0m \u001b[0;32mTrue\u001b[0m\u001b[0;34m:\u001b[0m\u001b[0;34m\u001b[0m\u001b[0;34m\u001b[0m\u001b[0m\n\u001b[1;32m    575\u001b[0m             \u001b[0;32massert\u001b[0m \u001b[0;34m(\u001b[0m\u001b[0;32mnot\u001b[0m \u001b[0mself\u001b[0m\u001b[0;34m.\u001b[0m\u001b[0mshutdown\u001b[0m \u001b[0;32mand\u001b[0m \u001b[0mself\u001b[0m\u001b[0;34m.\u001b[0m\u001b[0mbatches_outstanding\u001b[0m \u001b[0;34m>\u001b[0m \u001b[0;36m0\u001b[0m\u001b[0;34m)\u001b[0m\u001b[0;34m\u001b[0m\u001b[0;34m\u001b[0m\u001b[0m\n\u001b[0;32m--> 576\u001b[0;31m             \u001b[0midx\u001b[0m\u001b[0;34m,\u001b[0m \u001b[0mbatch\u001b[0m \u001b[0;34m=\u001b[0m \u001b[0mself\u001b[0m\u001b[0;34m.\u001b[0m\u001b[0m_get_batch\u001b[0m\u001b[0;34m(\u001b[0m\u001b[0;34m)\u001b[0m\u001b[0;34m\u001b[0m\u001b[0;34m\u001b[0m\u001b[0m\n\u001b[0m\u001b[1;32m    577\u001b[0m             \u001b[0mself\u001b[0m\u001b[0;34m.\u001b[0m\u001b[0mbatches_outstanding\u001b[0m \u001b[0;34m-=\u001b[0m \u001b[0;36m1\u001b[0m\u001b[0;34m\u001b[0m\u001b[0;34m\u001b[0m\u001b[0m\n\u001b[1;32m    578\u001b[0m             \u001b[0;32mif\u001b[0m \u001b[0midx\u001b[0m \u001b[0;34m!=\u001b[0m \u001b[0mself\u001b[0m\u001b[0;34m.\u001b[0m\u001b[0mrcvd_idx\u001b[0m\u001b[0;34m:\u001b[0m\u001b[0;34m\u001b[0m\u001b[0;34m\u001b[0m\u001b[0m\n",
      "\u001b[0;32m/usr/local/lib/python3.6/dist-packages/torch/utils/data/dataloader.py\u001b[0m in \u001b[0;36m_get_batch\u001b[0;34m(self)\u001b[0m\n\u001b[1;32m    551\u001b[0m         \u001b[0;32melse\u001b[0m\u001b[0;34m:\u001b[0m\u001b[0;34m\u001b[0m\u001b[0;34m\u001b[0m\u001b[0m\n\u001b[1;32m    552\u001b[0m             \u001b[0;32mwhile\u001b[0m \u001b[0;32mTrue\u001b[0m\u001b[0;34m:\u001b[0m\u001b[0;34m\u001b[0m\u001b[0;34m\u001b[0m\u001b[0m\n\u001b[0;32m--> 553\u001b[0;31m                 \u001b[0msuccess\u001b[0m\u001b[0;34m,\u001b[0m \u001b[0mdata\u001b[0m \u001b[0;34m=\u001b[0m \u001b[0mself\u001b[0m\u001b[0;34m.\u001b[0m\u001b[0m_try_get_batch\u001b[0m\u001b[0;34m(\u001b[0m\u001b[0;34m)\u001b[0m\u001b[0;34m\u001b[0m\u001b[0;34m\u001b[0m\u001b[0m\n\u001b[0m\u001b[1;32m    554\u001b[0m                 \u001b[0;32mif\u001b[0m \u001b[0msuccess\u001b[0m\u001b[0;34m:\u001b[0m\u001b[0;34m\u001b[0m\u001b[0;34m\u001b[0m\u001b[0m\n\u001b[1;32m    555\u001b[0m                     \u001b[0;32mreturn\u001b[0m \u001b[0mdata\u001b[0m\u001b[0;34m\u001b[0m\u001b[0;34m\u001b[0m\u001b[0m\n",
      "\u001b[0;32m/usr/local/lib/python3.6/dist-packages/torch/utils/data/dataloader.py\u001b[0m in \u001b[0;36m_try_get_batch\u001b[0;34m(self, timeout)\u001b[0m\n\u001b[1;32m    509\u001b[0m         \u001b[0;31m#   (bool: whether successfully get data, any: data if successful else None)\u001b[0m\u001b[0;34m\u001b[0m\u001b[0;34m\u001b[0m\u001b[0;34m\u001b[0m\u001b[0m\n\u001b[1;32m    510\u001b[0m         \u001b[0;32mtry\u001b[0m\u001b[0;34m:\u001b[0m\u001b[0;34m\u001b[0m\u001b[0;34m\u001b[0m\u001b[0m\n\u001b[0;32m--> 511\u001b[0;31m             \u001b[0mdata\u001b[0m \u001b[0;34m=\u001b[0m \u001b[0mself\u001b[0m\u001b[0;34m.\u001b[0m\u001b[0mdata_queue\u001b[0m\u001b[0;34m.\u001b[0m\u001b[0mget\u001b[0m\u001b[0;34m(\u001b[0m\u001b[0mtimeout\u001b[0m\u001b[0;34m=\u001b[0m\u001b[0mtimeout\u001b[0m\u001b[0;34m)\u001b[0m\u001b[0;34m\u001b[0m\u001b[0;34m\u001b[0m\u001b[0m\n\u001b[0m\u001b[1;32m    512\u001b[0m             \u001b[0;32mreturn\u001b[0m \u001b[0;34m(\u001b[0m\u001b[0;32mTrue\u001b[0m\u001b[0;34m,\u001b[0m \u001b[0mdata\u001b[0m\u001b[0;34m)\u001b[0m\u001b[0;34m\u001b[0m\u001b[0;34m\u001b[0m\u001b[0m\n\u001b[1;32m    513\u001b[0m         \u001b[0;32mexcept\u001b[0m \u001b[0mException\u001b[0m \u001b[0;32mas\u001b[0m \u001b[0me\u001b[0m\u001b[0;34m:\u001b[0m\u001b[0;34m\u001b[0m\u001b[0;34m\u001b[0m\u001b[0m\n",
      "\u001b[0;32m/usr/lib/python3.6/multiprocessing/queues.py\u001b[0m in \u001b[0;36mget\u001b[0;34m(self, block, timeout)\u001b[0m\n\u001b[1;32m    102\u001b[0m                 \u001b[0;32mif\u001b[0m \u001b[0mblock\u001b[0m\u001b[0;34m:\u001b[0m\u001b[0;34m\u001b[0m\u001b[0;34m\u001b[0m\u001b[0m\n\u001b[1;32m    103\u001b[0m                     \u001b[0mtimeout\u001b[0m \u001b[0;34m=\u001b[0m \u001b[0mdeadline\u001b[0m \u001b[0;34m-\u001b[0m \u001b[0mtime\u001b[0m\u001b[0;34m.\u001b[0m\u001b[0mmonotonic\u001b[0m\u001b[0;34m(\u001b[0m\u001b[0;34m)\u001b[0m\u001b[0;34m\u001b[0m\u001b[0;34m\u001b[0m\u001b[0m\n\u001b[0;32m--> 104\u001b[0;31m                     \u001b[0;32mif\u001b[0m \u001b[0;32mnot\u001b[0m \u001b[0mself\u001b[0m\u001b[0;34m.\u001b[0m\u001b[0m_poll\u001b[0m\u001b[0;34m(\u001b[0m\u001b[0mtimeout\u001b[0m\u001b[0;34m)\u001b[0m\u001b[0;34m:\u001b[0m\u001b[0;34m\u001b[0m\u001b[0;34m\u001b[0m\u001b[0m\n\u001b[0m\u001b[1;32m    105\u001b[0m                         \u001b[0;32mraise\u001b[0m \u001b[0mEmpty\u001b[0m\u001b[0;34m\u001b[0m\u001b[0;34m\u001b[0m\u001b[0m\n\u001b[1;32m    106\u001b[0m                 \u001b[0;32melif\u001b[0m \u001b[0;32mnot\u001b[0m \u001b[0mself\u001b[0m\u001b[0;34m.\u001b[0m\u001b[0m_poll\u001b[0m\u001b[0;34m(\u001b[0m\u001b[0;34m)\u001b[0m\u001b[0;34m:\u001b[0m\u001b[0;34m\u001b[0m\u001b[0;34m\u001b[0m\u001b[0m\n",
      "\u001b[0;32m/usr/lib/python3.6/multiprocessing/connection.py\u001b[0m in \u001b[0;36mpoll\u001b[0;34m(self, timeout)\u001b[0m\n\u001b[1;32m    255\u001b[0m         \u001b[0mself\u001b[0m\u001b[0;34m.\u001b[0m\u001b[0m_check_closed\u001b[0m\u001b[0;34m(\u001b[0m\u001b[0;34m)\u001b[0m\u001b[0;34m\u001b[0m\u001b[0;34m\u001b[0m\u001b[0m\n\u001b[1;32m    256\u001b[0m         \u001b[0mself\u001b[0m\u001b[0;34m.\u001b[0m\u001b[0m_check_readable\u001b[0m\u001b[0;34m(\u001b[0m\u001b[0;34m)\u001b[0m\u001b[0;34m\u001b[0m\u001b[0;34m\u001b[0m\u001b[0m\n\u001b[0;32m--> 257\u001b[0;31m         \u001b[0;32mreturn\u001b[0m \u001b[0mself\u001b[0m\u001b[0;34m.\u001b[0m\u001b[0m_poll\u001b[0m\u001b[0;34m(\u001b[0m\u001b[0mtimeout\u001b[0m\u001b[0;34m)\u001b[0m\u001b[0;34m\u001b[0m\u001b[0;34m\u001b[0m\u001b[0m\n\u001b[0m\u001b[1;32m    258\u001b[0m \u001b[0;34m\u001b[0m\u001b[0m\n\u001b[1;32m    259\u001b[0m     \u001b[0;32mdef\u001b[0m \u001b[0m__enter__\u001b[0m\u001b[0;34m(\u001b[0m\u001b[0mself\u001b[0m\u001b[0;34m)\u001b[0m\u001b[0;34m:\u001b[0m\u001b[0;34m\u001b[0m\u001b[0;34m\u001b[0m\u001b[0m\n",
      "\u001b[0;32m/usr/lib/python3.6/multiprocessing/connection.py\u001b[0m in \u001b[0;36m_poll\u001b[0;34m(self, timeout)\u001b[0m\n\u001b[1;32m    412\u001b[0m \u001b[0;34m\u001b[0m\u001b[0m\n\u001b[1;32m    413\u001b[0m     \u001b[0;32mdef\u001b[0m \u001b[0m_poll\u001b[0m\u001b[0;34m(\u001b[0m\u001b[0mself\u001b[0m\u001b[0;34m,\u001b[0m \u001b[0mtimeout\u001b[0m\u001b[0;34m)\u001b[0m\u001b[0;34m:\u001b[0m\u001b[0;34m\u001b[0m\u001b[0;34m\u001b[0m\u001b[0m\n\u001b[0;32m--> 414\u001b[0;31m         \u001b[0mr\u001b[0m \u001b[0;34m=\u001b[0m \u001b[0mwait\u001b[0m\u001b[0;34m(\u001b[0m\u001b[0;34m[\u001b[0m\u001b[0mself\u001b[0m\u001b[0;34m]\u001b[0m\u001b[0;34m,\u001b[0m \u001b[0mtimeout\u001b[0m\u001b[0;34m)\u001b[0m\u001b[0;34m\u001b[0m\u001b[0;34m\u001b[0m\u001b[0m\n\u001b[0m\u001b[1;32m    415\u001b[0m         \u001b[0;32mreturn\u001b[0m \u001b[0mbool\u001b[0m\u001b[0;34m(\u001b[0m\u001b[0mr\u001b[0m\u001b[0;34m)\u001b[0m\u001b[0;34m\u001b[0m\u001b[0;34m\u001b[0m\u001b[0m\n\u001b[1;32m    416\u001b[0m \u001b[0;34m\u001b[0m\u001b[0m\n",
      "\u001b[0;32m/usr/lib/python3.6/multiprocessing/connection.py\u001b[0m in \u001b[0;36mwait\u001b[0;34m(object_list, timeout)\u001b[0m\n\u001b[1;32m    909\u001b[0m \u001b[0;34m\u001b[0m\u001b[0m\n\u001b[1;32m    910\u001b[0m             \u001b[0;32mwhile\u001b[0m \u001b[0;32mTrue\u001b[0m\u001b[0;34m:\u001b[0m\u001b[0;34m\u001b[0m\u001b[0;34m\u001b[0m\u001b[0m\n\u001b[0;32m--> 911\u001b[0;31m                 \u001b[0mready\u001b[0m \u001b[0;34m=\u001b[0m \u001b[0mselector\u001b[0m\u001b[0;34m.\u001b[0m\u001b[0mselect\u001b[0m\u001b[0;34m(\u001b[0m\u001b[0mtimeout\u001b[0m\u001b[0;34m)\u001b[0m\u001b[0;34m\u001b[0m\u001b[0;34m\u001b[0m\u001b[0m\n\u001b[0m\u001b[1;32m    912\u001b[0m                 \u001b[0;32mif\u001b[0m \u001b[0mready\u001b[0m\u001b[0;34m:\u001b[0m\u001b[0;34m\u001b[0m\u001b[0;34m\u001b[0m\u001b[0m\n\u001b[1;32m    913\u001b[0m                     \u001b[0;32mreturn\u001b[0m \u001b[0;34m[\u001b[0m\u001b[0mkey\u001b[0m\u001b[0;34m.\u001b[0m\u001b[0mfileobj\u001b[0m \u001b[0;32mfor\u001b[0m \u001b[0;34m(\u001b[0m\u001b[0mkey\u001b[0m\u001b[0;34m,\u001b[0m \u001b[0mevents\u001b[0m\u001b[0;34m)\u001b[0m \u001b[0;32min\u001b[0m \u001b[0mready\u001b[0m\u001b[0;34m]\u001b[0m\u001b[0;34m\u001b[0m\u001b[0;34m\u001b[0m\u001b[0m\n",
      "\u001b[0;32m/usr/lib/python3.6/selectors.py\u001b[0m in \u001b[0;36mselect\u001b[0;34m(self, timeout)\u001b[0m\n\u001b[1;32m    374\u001b[0m             \u001b[0mready\u001b[0m \u001b[0;34m=\u001b[0m \u001b[0;34m[\u001b[0m\u001b[0;34m]\u001b[0m\u001b[0;34m\u001b[0m\u001b[0;34m\u001b[0m\u001b[0m\n\u001b[1;32m    375\u001b[0m             \u001b[0;32mtry\u001b[0m\u001b[0;34m:\u001b[0m\u001b[0;34m\u001b[0m\u001b[0;34m\u001b[0m\u001b[0m\n\u001b[0;32m--> 376\u001b[0;31m                 \u001b[0mfd_event_list\u001b[0m \u001b[0;34m=\u001b[0m \u001b[0mself\u001b[0m\u001b[0;34m.\u001b[0m\u001b[0m_poll\u001b[0m\u001b[0;34m.\u001b[0m\u001b[0mpoll\u001b[0m\u001b[0;34m(\u001b[0m\u001b[0mtimeout\u001b[0m\u001b[0;34m)\u001b[0m\u001b[0;34m\u001b[0m\u001b[0;34m\u001b[0m\u001b[0m\n\u001b[0m\u001b[1;32m    377\u001b[0m             \u001b[0;32mexcept\u001b[0m \u001b[0mInterruptedError\u001b[0m\u001b[0;34m:\u001b[0m\u001b[0;34m\u001b[0m\u001b[0;34m\u001b[0m\u001b[0m\n\u001b[1;32m    378\u001b[0m                 \u001b[0;32mreturn\u001b[0m \u001b[0mready\u001b[0m\u001b[0;34m\u001b[0m\u001b[0;34m\u001b[0m\u001b[0m\n",
      "\u001b[0;31mKeyboardInterrupt\u001b[0m: "
     ]
    }
   ],
   "source": [
    "train_network(cifar_net,optimizer,trainloader)"
   ]
  },
  {
   "cell_type": "code",
   "execution_count": 43,
   "metadata": {
    "colab": {
     "base_uri": "https://localhost:8080/",
     "height": 68
    },
    "colab_type": "code",
    "executionInfo": {
     "elapsed": 3559,
     "status": "ok",
     "timestamp": 1562085042133,
     "user": {
      "displayName": "Wonwoong Cho",
      "photoUrl": "",
      "userId": "14212918309461362604"
     },
     "user_tz": -540
    },
    "id": "OcX_blYBrhef",
    "outputId": "b45f64e3-8ddc-4510-d878-b42385e0914d"
   },
   "outputs": [
    {
     "name": "stdout",
     "output_type": "stream",
     "text": [
      "\n",
      "Test set:  Accuracy: 6529/10000 (65%)\n",
      "\n"
     ]
    }
   ],
   "source": [
    "test(cifar_net,testloader)"
   ]
  },
  {
   "cell_type": "markdown",
   "metadata": {
    "colab_type": "text",
    "id": "wMBJ5Vla_Wkd"
   },
   "source": [
    "### Average Pooling 대신 Linear Layer로!"
   ]
  },
  {
   "cell_type": "code",
   "execution_count": 0,
   "metadata": {
    "colab": {},
    "colab_type": "code",
    "id": "-YXvUnMAys_0"
   },
   "outputs": [],
   "source": [
    "class DiyCNN(nn.Module):\n",
    "  def __init__(self):\n",
    "    super(DiyCNN, self).__init__()\n",
    "    layers = []\n",
    "\n",
    "    layers += [nn.Conv2d(in_channels=3, out_channels=64, kernel_size=3, stride=2, padding=1)] # 첫 conv는 보통 receptive field를 최대한 넓혀준 후 feature를 뽑아줍니다.\n",
    "    layers += [nn.BatchNorm2d(64)] # 앞선 MLP 시간과 달리 spatial resolution이 살아있기 때문에, batchnorm 2d를 사용해 줍니다.\n",
    "    layers += [nn.ReLU()]\n",
    "    \n",
    "    layers += [nn.Conv2d(64, 128, 4, 2, 1)]\n",
    "    layers += [nn.BatchNorm2d(128)]\n",
    "    layers += [nn.ReLU()]\n",
    "    \n",
    "    layers += [nn.Conv2d(128, 256, 4, 2, 1)]\n",
    "    layers += [nn.BatchNorm2d(256)]\n",
    "    layers += [nn.ReLU()]\n",
    "    \n",
    "    layers += [nn.Conv2d(256, 512, 4, 2, 1)]\n",
    "    layers += [nn.BatchNorm2d(512)]\n",
    "    layers += [nn.ReLU()] # 128 x 512*4 -> 128 x 512\n",
    "    \n",
    "    classifier = []\n",
    "    classifier += [nn.Linear(512*4,512)]\n",
    "    \n",
    "    classifier += [nn.Linear(512,10)]\n",
    "    \n",
    "    \n",
    "    \n",
    "    self.main = nn.Sequential(*layers)\n",
    "    self.classifier = nn.Sequential(*classifier)\n",
    "    \n",
    "  def forward(self, x):\n",
    "    out = self.main(x) # 128 x 512 x 2 x2\n",
    "    out = out.view(out.size(0),-1)\n",
    "    out = self.classifier(out)\n",
    "    return out"
   ]
  },
  {
   "cell_type": "code",
   "execution_count": 46,
   "metadata": {
    "colab": {
     "base_uri": "https://localhost:8080/",
     "height": 34
    },
    "colab_type": "code",
    "executionInfo": {
     "elapsed": 1131,
     "status": "ok",
     "timestamp": 1562085064259,
     "user": {
      "displayName": "Wonwoong Cho",
      "photoUrl": "",
      "userId": "14212918309461362604"
     },
     "user_tz": -540
    },
    "id": "JbVONDRyz1RK",
    "outputId": "afad6533-654f-47b4-e876-4b24f0432eee"
   },
   "outputs": [
    {
     "name": "stdout",
     "output_type": "stream",
     "text": [
      "[info] number of model parameter - 3811338\n"
     ]
    }
   ],
   "source": [
    "cifar_net = DiyCNN().to(device) # 생성한 뉴럴넷 Instance를 생성하고 빠른 학습을 위해 cuda 에 올립니다. \n",
    "criterion = nn.CrossEntropyLoss() # Loss Function을 정의 합니다. 여기서는 cross entrophy loss 를 사용합니다. \n",
    "optimizer = optim.Adam(cifar_net.parameters(), lr=lr) # optimizer는 이와 같이 training 할 Parameter와 learning rate를 인자로 줍니다. \n",
    "\n",
    "print('[info] number of model parameter - %d'%(count_parameters(cifar_net))) # 방금 구성한 모형의 파라미터 개수를 프린트 해봅니다."
   ]
  },
  {
   "cell_type": "code",
   "execution_count": 47,
   "metadata": {
    "colab": {
     "base_uri": "https://localhost:8080/",
     "height": 385
    },
    "colab_type": "code",
    "executionInfo": {
     "elapsed": 32383,
     "status": "error",
     "timestamp": 1562085098969,
     "user": {
      "displayName": "Wonwoong Cho",
      "photoUrl": "",
      "userId": "14212918309461362604"
     },
     "user_tz": -540
    },
    "id": "J0OFFnddz4CS",
    "outputId": "310b43d6-5c43-4a64-9407-e5cf13591c44"
   },
   "outputs": [
    {
     "name": "stdout",
     "output_type": "stream",
     "text": [
      "[1,   100] loss: 1.782\n",
      "[1,   200] loss: 1.502\n",
      "[1,   300] loss: 1.352\n",
      "[2,   100] loss: 1.184\n",
      "[2,   200] loss: 1.139\n",
      "[2,   300] loss: 1.089\n"
     ]
    },
    {
     "ename": "KeyboardInterrupt",
     "evalue": "ignored",
     "output_type": "error",
     "traceback": [
      "\u001b[0;31m---------------------------------------------------------------------------\u001b[0m",
      "\u001b[0;31mKeyboardInterrupt\u001b[0m                         Traceback (most recent call last)",
      "\u001b[0;32m<ipython-input-47-bcd624271182>\u001b[0m in \u001b[0;36m<module>\u001b[0;34m()\u001b[0m\n\u001b[0;32m----> 1\u001b[0;31m \u001b[0mtrain_network\u001b[0m\u001b[0;34m(\u001b[0m\u001b[0mcifar_net\u001b[0m\u001b[0;34m,\u001b[0m\u001b[0moptimizer\u001b[0m\u001b[0;34m,\u001b[0m\u001b[0mtrainloader\u001b[0m\u001b[0;34m)\u001b[0m\u001b[0;34m\u001b[0m\u001b[0;34m\u001b[0m\u001b[0m\n\u001b[0m",
      "\u001b[0;32m<ipython-input-26-d1f2d205b048>\u001b[0m in \u001b[0;36mtrain_network\u001b[0;34m(net, optimizer, trainloader, epochs)\u001b[0m\n\u001b[1;32m     17\u001b[0m \u001b[0;34m\u001b[0m\u001b[0m\n\u001b[1;32m     18\u001b[0m           \u001b[0;31m# print statistics\u001b[0m\u001b[0;34m\u001b[0m\u001b[0;34m\u001b[0m\u001b[0;34m\u001b[0m\u001b[0m\n\u001b[0;32m---> 19\u001b[0;31m           \u001b[0mrunning_loss\u001b[0m \u001b[0;34m+=\u001b[0m \u001b[0mloss\u001b[0m\u001b[0;34m.\u001b[0m\u001b[0mitem\u001b[0m\u001b[0;34m(\u001b[0m\u001b[0;34m)\u001b[0m\u001b[0;34m\u001b[0m\u001b[0;34m\u001b[0m\u001b[0m\n\u001b[0m\u001b[1;32m     20\u001b[0m           \u001b[0;32mif\u001b[0m \u001b[0;34m(\u001b[0m\u001b[0mi\u001b[0m\u001b[0;34m+\u001b[0m\u001b[0;36m1\u001b[0m\u001b[0;34m)\u001b[0m \u001b[0;34m%\u001b[0m \u001b[0;36m100\u001b[0m \u001b[0;34m==\u001b[0m \u001b[0;36m0\u001b[0m\u001b[0;34m:\u001b[0m    \u001b[0;31m# print every 500 mini-batches\u001b[0m\u001b[0;34m\u001b[0m\u001b[0;34m\u001b[0m\u001b[0m\n\u001b[1;32m     21\u001b[0m               print('[%d, %5d] loss: %.3f' %\n",
      "\u001b[0;31mKeyboardInterrupt\u001b[0m: "
     ]
    }
   ],
   "source": [
    "train_network(cifar_net,optimizer,trainloader)"
   ]
  },
  {
   "cell_type": "code",
   "execution_count": 48,
   "metadata": {
    "colab": {
     "base_uri": "https://localhost:8080/",
     "height": 68
    },
    "colab_type": "code",
    "executionInfo": {
     "elapsed": 3195,
     "status": "ok",
     "timestamp": 1562085103645,
     "user": {
      "displayName": "Wonwoong Cho",
      "photoUrl": "",
      "userId": "14212918309461362604"
     },
     "user_tz": -540
    },
    "id": "Q27tKqAuz4tM",
    "outputId": "5b95f575-e46b-45a2-ec02-63c4d68e0b61"
   },
   "outputs": [
    {
     "name": "stdout",
     "output_type": "stream",
     "text": [
      "\n",
      "Test set:  Accuracy: 6774/10000 (68%)\n",
      "\n"
     ]
    }
   ],
   "source": [
    "test(cifar_net,testloader)"
   ]
  },
  {
   "cell_type": "markdown",
   "metadata": {
    "colab_type": "text",
    "id": "T-UID3Msy1L4"
   },
   "source": [
    "### 데이터 intialization"
   ]
  },
  {
   "cell_type": "code",
   "execution_count": 0,
   "metadata": {
    "colab": {},
    "colab_type": "code",
    "id": "yyzEg2_y08-C"
   },
   "outputs": [],
   "source": [
    "class DiyCNN(nn.Module):\n",
    "  def __init__(self):\n",
    "    super(DiyCNN, self).__init__()\n",
    "    layers = []\n",
    "\n",
    "    layers += [nn.Conv2d(in_channels=3, out_channels=64, kernel_size=3, stride=2, padding=1)] # 첫 conv는 보통 receptive field를 최대한 넓혀준 후 feature를 뽑아줍니다.\n",
    "    layers += [nn.BatchNorm2d(64)] # 앞선 MLP 시간과 달리 spatial resolution이 살아있기 때문에, batchnorm 2d를 사용해 줍니다.\n",
    "    layers += [nn.ReLU()]\n",
    "    \n",
    "    layers += [nn.Conv2d(64, 128, 3, 2, 1)]\n",
    "    layers += [nn.BatchNorm2d(128)]\n",
    "    layers += [nn.ReLU()]\n",
    "    \n",
    "    layers += [nn.Conv2d(128, 256, 3, 2, 1)]\n",
    "    layers += [nn.BatchNorm2d(256)]\n",
    "    layers += [nn.ReLU()]\n",
    "    \n",
    "    layers += [nn.Conv2d(256, 512, 3, 2, 1)]\n",
    "    layers += [nn.BatchNorm2d(512)]\n",
    "    layers += [nn.ReLU()]\n",
    "    \n",
    "    layers += [nn.AdaptiveAvgPool2d(1)]\n",
    "    \n",
    "    layers += [nn.Conv2d(512, 10, 1, 1, 0)]\n",
    "    \n",
    "    self.main = nn.Sequential(*layers)\n",
    "    self._reset_params() # 실제로 initialize하는 부분\n",
    "  def _reset_params(self): # Initialization 을 정의하는 부분\n",
    "    for i,layer in enumerate(self.main):\n",
    "      if type(layer) == nn.Conv2d:\n",
    "        torch.nn.init.xavier_uniform_(layer.weight.data)\n",
    "  def forward(self, x):\n",
    "    return self.main(x).squeeze(3).squeeze(2)"
   ]
  },
  {
   "cell_type": "code",
   "execution_count": 0,
   "metadata": {
    "colab": {},
    "colab_type": "code",
    "id": "TbFjh1PL1cJg"
   },
   "outputs": [],
   "source": [
    "cifar_net = DiyCNN().to(device) # 생성한 뉴럴넷 Instance를 생성하고 빠른 학습을 위해 cuda 에 올립니다. \n",
    "criterion = nn.CrossEntropyLoss() # Loss Function을 정의 합니다. 여기서는 cross entrophy loss 를 사용합니다. \n",
    "optimizer = optim.Adam(cifar_net.parameters(), lr=lr) # optimizer는 이와 같이 training 할 Parameter와 learning rate를 인자로 줍니다."
   ]
  },
  {
   "cell_type": "code",
   "execution_count": 0,
   "metadata": {
    "colab": {
     "base_uri": "https://localhost:8080/",
     "height": 298
    },
    "colab_type": "code",
    "id": "tqshiap61eT8",
    "outputId": "ca87a989-7c63-485c-dc16-21868491a995"
   },
   "outputs": [
    {
     "name": "stdout",
     "output_type": "stream",
     "text": [
      "[1,   100] loss: 1.728\n",
      "[1,   200] loss: 1.484\n",
      "[1,   300] loss: 1.384\n",
      "[2,   100] loss: 1.225\n",
      "[2,   200] loss: 1.168\n",
      "[2,   300] loss: 1.131\n",
      "[3,   100] loss: 1.045\n",
      "[3,   200] loss: 1.022\n",
      "[3,   300] loss: 1.006\n",
      "[4,   100] loss: 0.934\n",
      "[4,   200] loss: 0.920\n",
      "[4,   300] loss: 0.909\n",
      "[5,   100] loss: 0.862\n",
      "[5,   200] loss: 0.851\n",
      "[5,   300] loss: 0.832\n",
      "Finished Training\n"
     ]
    }
   ],
   "source": [
    "train_network(cifar_net,optimizer,trainloader)"
   ]
  },
  {
   "cell_type": "code",
   "execution_count": 0,
   "metadata": {
    "colab": {
     "base_uri": "https://localhost:8080/",
     "height": 70
    },
    "colab_type": "code",
    "id": "9y5LmO0S1hHs",
    "outputId": "4330b476-bbbe-4278-efcd-2519dbfc0bf1"
   },
   "outputs": [
    {
     "name": "stdout",
     "output_type": "stream",
     "text": [
      "\n",
      "Test set:  Accuracy: 7350/10000 (74%)\n",
      "\n"
     ]
    }
   ],
   "source": [
    "test(cifar_net,testloader)"
   ]
  },
  {
   "cell_type": "markdown",
   "metadata": {
    "colab_type": "text",
    "id": "ACfwmSHo1pUW"
   },
   "source": [
    "weight intialization은 효과가 있었나요?"
   ]
  },
  {
   "cell_type": "markdown",
   "metadata": {
    "colab_type": "text",
    "id": "t1gj-ahZvtOK"
   },
   "source": [
    "### 데이터 전처리를 한번 없애면 성능은 어떻게 변할까요?"
   ]
  },
  {
   "cell_type": "code",
   "execution_count": 49,
   "metadata": {
    "colab": {
     "base_uri": "https://localhost:8080/",
     "height": 68
    },
    "colab_type": "code",
    "executionInfo": {
     "elapsed": 2608,
     "status": "ok",
     "timestamp": 1562085166062,
     "user": {
      "displayName": "Wonwoong Cho",
      "photoUrl": "",
      "userId": "14212918309461362604"
     },
     "user_tz": -540
    },
    "id": "XQqpAoljvf2t",
    "outputId": "77b9d871-6663-4bed-ec03-7cd3f383302f"
   },
   "outputs": [
    {
     "name": "stdout",
     "output_type": "stream",
     "text": [
      "==> Preparing data..\n",
      "Files already downloaded and verified\n",
      "Files already downloaded and verified\n"
     ]
    }
   ],
   "source": [
    "# Data\n",
    "print('==> Preparing data..')\n",
    "# 데이터 전처리를 위한 코드\n",
    "transform_train = transforms.Compose([\n",
    "    ????\n",
    "    transforms.ToTensor(),\n",
    "     \n",
    "])\n",
    "\n",
    "\n",
    "\n",
    "# 데이터 전처리를 위한 코드\n",
    "transform_test = transforms.Compose([\n",
    "    transforms.ToTensor(),\n",
    "   # cifar10(0~1)의 r,g,b 채널 별 평균 및 분산으로 normalization => N(0,1)의 정규분포를 따르도록 만들어준 후 input으로 넣어줍니다.\n",
    "])\n",
    "\n",
    "# 데이터 로딩\n",
    "trainset = torchvision.datasets.CIFAR10(root='./data', train=True, download=True, transform=transform_train)\n",
    "trainloader = torch.utils.data.DataLoader(trainset, batch_size=batch_size, shuffle=True, num_workers=1)\n",
    "\n",
    "testset = torchvision.datasets.CIFAR10(root='./data', train=False, download=True, transform=transform_test)\n",
    "testloader = torch.utils.data.DataLoader(testset, batch_size=100, shuffle=False, num_workers=1)\n",
    "\n",
    "classes = ('plane', 'car', 'bird', 'cat', 'deer', 'dog', 'frog', 'horse', 'ship', 'truck')"
   ]
  },
  {
   "cell_type": "code",
   "execution_count": 0,
   "metadata": {
    "colab": {},
    "colab_type": "code",
    "id": "Ha_j7qGdvztc"
   },
   "outputs": [],
   "source": [
    "cifar_net = DiyCNN().to(device) # 생성한 뉴럴넷 Instance를 생성하고 빠른 학습을 위해 cuda 에 올립니다. \n",
    "criterion = nn.CrossEntropyLoss() # Loss Function을 정의 합니다. 여기서는 cross entrophy loss 를 사용합니다. \n",
    "optimizer = optim.Adam(cifar_net.parameters(), lr=lr) # optimizer는 이와 같이 training 할 Parameter와 learning rate를 인자로 줍니다. "
   ]
  },
  {
   "cell_type": "code",
   "execution_count": 51,
   "metadata": {
    "colab": {
     "base_uri": "https://localhost:8080/",
     "height": 409
    },
    "colab_type": "code",
    "executionInfo": {
     "elapsed": 30964,
     "status": "error",
     "timestamp": 1562085204341,
     "user": {
      "displayName": "Wonwoong Cho",
      "photoUrl": "",
      "userId": "14212918309461362604"
     },
     "user_tz": -540
    },
    "id": "PYqBc07Qv2rl",
    "outputId": "6bec49f5-d18c-4bf8-937d-da86aa0539f9"
   },
   "outputs": [
    {
     "name": "stdout",
     "output_type": "stream",
     "text": [
      "[1,   100] loss: 1.785\n",
      "[1,   200] loss: 1.511\n",
      "[1,   300] loss: 1.397\n",
      "[2,   100] loss: 1.204\n",
      "[2,   200] loss: 1.146\n",
      "[2,   300] loss: 1.090\n"
     ]
    },
    {
     "ename": "KeyboardInterrupt",
     "evalue": "ignored",
     "output_type": "error",
     "traceback": [
      "\u001b[0;31m---------------------------------------------------------------------------\u001b[0m",
      "\u001b[0;31mKeyboardInterrupt\u001b[0m                         Traceback (most recent call last)",
      "\u001b[0;32m<ipython-input-51-bcd624271182>\u001b[0m in \u001b[0;36m<module>\u001b[0;34m()\u001b[0m\n\u001b[0;32m----> 1\u001b[0;31m \u001b[0mtrain_network\u001b[0m\u001b[0;34m(\u001b[0m\u001b[0mcifar_net\u001b[0m\u001b[0;34m,\u001b[0m\u001b[0moptimizer\u001b[0m\u001b[0;34m,\u001b[0m\u001b[0mtrainloader\u001b[0m\u001b[0;34m)\u001b[0m\u001b[0;34m\u001b[0m\u001b[0;34m\u001b[0m\u001b[0m\n\u001b[0m",
      "\u001b[0;32m<ipython-input-26-d1f2d205b048>\u001b[0m in \u001b[0;36mtrain_network\u001b[0;34m(net, optimizer, trainloader, epochs)\u001b[0m\n\u001b[1;32m      3\u001b[0m \u001b[0;34m\u001b[0m\u001b[0m\n\u001b[1;32m      4\u001b[0m       \u001b[0mrunning_loss\u001b[0m \u001b[0;34m=\u001b[0m \u001b[0;36m0.0\u001b[0m \u001b[0;31m# running loss를 저장하기 위한 변수입니다.\u001b[0m\u001b[0;34m\u001b[0m\u001b[0;34m\u001b[0m\u001b[0m\n\u001b[0;32m----> 5\u001b[0;31m       \u001b[0;32mfor\u001b[0m \u001b[0mi\u001b[0m\u001b[0;34m,\u001b[0m \u001b[0mdata\u001b[0m \u001b[0;32min\u001b[0m \u001b[0menumerate\u001b[0m\u001b[0;34m(\u001b[0m\u001b[0mtrainloader\u001b[0m\u001b[0;34m)\u001b[0m\u001b[0;34m:\u001b[0m \u001b[0;31m# 한 Epoch 만큼 돕니다. 매 iteration 마다 정해진 Batch size 만큼 데이터를 뱉습니다.\u001b[0m\u001b[0;34m\u001b[0m\u001b[0;34m\u001b[0m\u001b[0m\n\u001b[0m\u001b[1;32m      6\u001b[0m           \u001b[0;31m# get the inputs\u001b[0m\u001b[0;34m\u001b[0m\u001b[0;34m\u001b[0m\u001b[0;34m\u001b[0m\u001b[0m\n\u001b[1;32m      7\u001b[0m           \u001b[0minputs\u001b[0m\u001b[0;34m,\u001b[0m \u001b[0mlabels\u001b[0m \u001b[0;34m=\u001b[0m \u001b[0mdata\u001b[0m \u001b[0;31m# DataLoader iterator의 반환 값은 input_data 와 labels의 튜플 형식입니다.\u001b[0m\u001b[0;34m\u001b[0m\u001b[0;34m\u001b[0m\u001b[0m\n",
      "\u001b[0;32m/usr/local/lib/python3.6/dist-packages/torch/utils/data/dataloader.py\u001b[0m in \u001b[0;36m__next__\u001b[0;34m(self)\u001b[0m\n\u001b[1;32m    574\u001b[0m         \u001b[0;32mwhile\u001b[0m \u001b[0;32mTrue\u001b[0m\u001b[0;34m:\u001b[0m\u001b[0;34m\u001b[0m\u001b[0;34m\u001b[0m\u001b[0m\n\u001b[1;32m    575\u001b[0m             \u001b[0;32massert\u001b[0m \u001b[0;34m(\u001b[0m\u001b[0;32mnot\u001b[0m \u001b[0mself\u001b[0m\u001b[0;34m.\u001b[0m\u001b[0mshutdown\u001b[0m \u001b[0;32mand\u001b[0m \u001b[0mself\u001b[0m\u001b[0;34m.\u001b[0m\u001b[0mbatches_outstanding\u001b[0m \u001b[0;34m>\u001b[0m \u001b[0;36m0\u001b[0m\u001b[0;34m)\u001b[0m\u001b[0;34m\u001b[0m\u001b[0;34m\u001b[0m\u001b[0m\n\u001b[0;32m--> 576\u001b[0;31m             \u001b[0midx\u001b[0m\u001b[0;34m,\u001b[0m \u001b[0mbatch\u001b[0m \u001b[0;34m=\u001b[0m \u001b[0mself\u001b[0m\u001b[0;34m.\u001b[0m\u001b[0m_get_batch\u001b[0m\u001b[0;34m(\u001b[0m\u001b[0;34m)\u001b[0m\u001b[0;34m\u001b[0m\u001b[0;34m\u001b[0m\u001b[0m\n\u001b[0m\u001b[1;32m    577\u001b[0m             \u001b[0mself\u001b[0m\u001b[0;34m.\u001b[0m\u001b[0mbatches_outstanding\u001b[0m \u001b[0;34m-=\u001b[0m \u001b[0;36m1\u001b[0m\u001b[0;34m\u001b[0m\u001b[0;34m\u001b[0m\u001b[0m\n\u001b[1;32m    578\u001b[0m             \u001b[0;32mif\u001b[0m \u001b[0midx\u001b[0m \u001b[0;34m!=\u001b[0m \u001b[0mself\u001b[0m\u001b[0;34m.\u001b[0m\u001b[0mrcvd_idx\u001b[0m\u001b[0;34m:\u001b[0m\u001b[0;34m\u001b[0m\u001b[0;34m\u001b[0m\u001b[0m\n",
      "\u001b[0;32m/usr/local/lib/python3.6/dist-packages/torch/utils/data/dataloader.py\u001b[0m in \u001b[0;36m_get_batch\u001b[0;34m(self)\u001b[0m\n\u001b[1;32m    551\u001b[0m         \u001b[0;32melse\u001b[0m\u001b[0;34m:\u001b[0m\u001b[0;34m\u001b[0m\u001b[0;34m\u001b[0m\u001b[0m\n\u001b[1;32m    552\u001b[0m             \u001b[0;32mwhile\u001b[0m \u001b[0;32mTrue\u001b[0m\u001b[0;34m:\u001b[0m\u001b[0;34m\u001b[0m\u001b[0;34m\u001b[0m\u001b[0m\n\u001b[0;32m--> 553\u001b[0;31m                 \u001b[0msuccess\u001b[0m\u001b[0;34m,\u001b[0m \u001b[0mdata\u001b[0m \u001b[0;34m=\u001b[0m \u001b[0mself\u001b[0m\u001b[0;34m.\u001b[0m\u001b[0m_try_get_batch\u001b[0m\u001b[0;34m(\u001b[0m\u001b[0;34m)\u001b[0m\u001b[0;34m\u001b[0m\u001b[0;34m\u001b[0m\u001b[0m\n\u001b[0m\u001b[1;32m    554\u001b[0m                 \u001b[0;32mif\u001b[0m \u001b[0msuccess\u001b[0m\u001b[0;34m:\u001b[0m\u001b[0;34m\u001b[0m\u001b[0;34m\u001b[0m\u001b[0m\n\u001b[1;32m    555\u001b[0m                     \u001b[0;32mreturn\u001b[0m \u001b[0mdata\u001b[0m\u001b[0;34m\u001b[0m\u001b[0;34m\u001b[0m\u001b[0m\n",
      "\u001b[0;32m/usr/local/lib/python3.6/dist-packages/torch/utils/data/dataloader.py\u001b[0m in \u001b[0;36m_try_get_batch\u001b[0;34m(self, timeout)\u001b[0m\n\u001b[1;32m    509\u001b[0m         \u001b[0;31m#   (bool: whether successfully get data, any: data if successful else None)\u001b[0m\u001b[0;34m\u001b[0m\u001b[0;34m\u001b[0m\u001b[0;34m\u001b[0m\u001b[0m\n\u001b[1;32m    510\u001b[0m         \u001b[0;32mtry\u001b[0m\u001b[0;34m:\u001b[0m\u001b[0;34m\u001b[0m\u001b[0;34m\u001b[0m\u001b[0m\n\u001b[0;32m--> 511\u001b[0;31m             \u001b[0mdata\u001b[0m \u001b[0;34m=\u001b[0m \u001b[0mself\u001b[0m\u001b[0;34m.\u001b[0m\u001b[0mdata_queue\u001b[0m\u001b[0;34m.\u001b[0m\u001b[0mget\u001b[0m\u001b[0;34m(\u001b[0m\u001b[0mtimeout\u001b[0m\u001b[0;34m=\u001b[0m\u001b[0mtimeout\u001b[0m\u001b[0;34m)\u001b[0m\u001b[0;34m\u001b[0m\u001b[0;34m\u001b[0m\u001b[0m\n\u001b[0m\u001b[1;32m    512\u001b[0m             \u001b[0;32mreturn\u001b[0m \u001b[0;34m(\u001b[0m\u001b[0;32mTrue\u001b[0m\u001b[0;34m,\u001b[0m \u001b[0mdata\u001b[0m\u001b[0;34m)\u001b[0m\u001b[0;34m\u001b[0m\u001b[0;34m\u001b[0m\u001b[0m\n\u001b[1;32m    513\u001b[0m         \u001b[0;32mexcept\u001b[0m \u001b[0mException\u001b[0m \u001b[0;32mas\u001b[0m \u001b[0me\u001b[0m\u001b[0;34m:\u001b[0m\u001b[0;34m\u001b[0m\u001b[0;34m\u001b[0m\u001b[0m\n",
      "\u001b[0;32m/usr/lib/python3.6/multiprocessing/queues.py\u001b[0m in \u001b[0;36mget\u001b[0;34m(self, block, timeout)\u001b[0m\n\u001b[1;32m    111\u001b[0m                 \u001b[0mself\u001b[0m\u001b[0;34m.\u001b[0m\u001b[0m_rlock\u001b[0m\u001b[0;34m.\u001b[0m\u001b[0mrelease\u001b[0m\u001b[0;34m(\u001b[0m\u001b[0;34m)\u001b[0m\u001b[0;34m\u001b[0m\u001b[0;34m\u001b[0m\u001b[0m\n\u001b[1;32m    112\u001b[0m         \u001b[0;31m# unserialize the data after having released the lock\u001b[0m\u001b[0;34m\u001b[0m\u001b[0;34m\u001b[0m\u001b[0;34m\u001b[0m\u001b[0m\n\u001b[0;32m--> 113\u001b[0;31m         \u001b[0;32mreturn\u001b[0m \u001b[0m_ForkingPickler\u001b[0m\u001b[0;34m.\u001b[0m\u001b[0mloads\u001b[0m\u001b[0;34m(\u001b[0m\u001b[0mres\u001b[0m\u001b[0;34m)\u001b[0m\u001b[0;34m\u001b[0m\u001b[0;34m\u001b[0m\u001b[0m\n\u001b[0m\u001b[1;32m    114\u001b[0m \u001b[0;34m\u001b[0m\u001b[0m\n\u001b[1;32m    115\u001b[0m     \u001b[0;32mdef\u001b[0m \u001b[0mqsize\u001b[0m\u001b[0;34m(\u001b[0m\u001b[0mself\u001b[0m\u001b[0;34m)\u001b[0m\u001b[0;34m:\u001b[0m\u001b[0;34m\u001b[0m\u001b[0;34m\u001b[0m\u001b[0m\n",
      "\u001b[0;32m/usr/local/lib/python3.6/dist-packages/torch/multiprocessing/reductions.py\u001b[0m in \u001b[0;36mrebuild_storage_fd\u001b[0;34m(cls, df, size)\u001b[0m\n\u001b[1;32m    274\u001b[0m         \u001b[0mfd\u001b[0m \u001b[0;34m=\u001b[0m \u001b[0mmultiprocessing\u001b[0m\u001b[0;34m.\u001b[0m\u001b[0mreduction\u001b[0m\u001b[0;34m.\u001b[0m\u001b[0mrebuild_handle\u001b[0m\u001b[0;34m(\u001b[0m\u001b[0mdf\u001b[0m\u001b[0;34m)\u001b[0m\u001b[0;34m\u001b[0m\u001b[0;34m\u001b[0m\u001b[0m\n\u001b[1;32m    275\u001b[0m     \u001b[0;32melse\u001b[0m\u001b[0;34m:\u001b[0m\u001b[0;34m\u001b[0m\u001b[0;34m\u001b[0m\u001b[0m\n\u001b[0;32m--> 276\u001b[0;31m         \u001b[0mfd\u001b[0m \u001b[0;34m=\u001b[0m \u001b[0mdf\u001b[0m\u001b[0;34m.\u001b[0m\u001b[0mdetach\u001b[0m\u001b[0;34m(\u001b[0m\u001b[0;34m)\u001b[0m\u001b[0;34m\u001b[0m\u001b[0;34m\u001b[0m\u001b[0m\n\u001b[0m\u001b[1;32m    277\u001b[0m     \u001b[0;32mtry\u001b[0m\u001b[0;34m:\u001b[0m\u001b[0;34m\u001b[0m\u001b[0;34m\u001b[0m\u001b[0m\n\u001b[1;32m    278\u001b[0m         \u001b[0mstorage\u001b[0m \u001b[0;34m=\u001b[0m \u001b[0mstorage_from_cache\u001b[0m\u001b[0;34m(\u001b[0m\u001b[0mcls\u001b[0m\u001b[0;34m,\u001b[0m \u001b[0mfd_id\u001b[0m\u001b[0;34m(\u001b[0m\u001b[0mfd\u001b[0m\u001b[0;34m)\u001b[0m\u001b[0;34m)\u001b[0m\u001b[0;34m\u001b[0m\u001b[0;34m\u001b[0m\u001b[0m\n",
      "\u001b[0;32m/usr/lib/python3.6/multiprocessing/resource_sharer.py\u001b[0m in \u001b[0;36mdetach\u001b[0;34m(self)\u001b[0m\n\u001b[1;32m     56\u001b[0m             \u001b[0;34m'''Get the fd.  This should only be called once.'''\u001b[0m\u001b[0;34m\u001b[0m\u001b[0;34m\u001b[0m\u001b[0m\n\u001b[1;32m     57\u001b[0m             \u001b[0;32mwith\u001b[0m \u001b[0m_resource_sharer\u001b[0m\u001b[0;34m.\u001b[0m\u001b[0mget_connection\u001b[0m\u001b[0;34m(\u001b[0m\u001b[0mself\u001b[0m\u001b[0;34m.\u001b[0m\u001b[0m_id\u001b[0m\u001b[0;34m)\u001b[0m \u001b[0;32mas\u001b[0m \u001b[0mconn\u001b[0m\u001b[0;34m:\u001b[0m\u001b[0;34m\u001b[0m\u001b[0;34m\u001b[0m\u001b[0m\n\u001b[0;32m---> 58\u001b[0;31m                 \u001b[0;32mreturn\u001b[0m \u001b[0mreduction\u001b[0m\u001b[0;34m.\u001b[0m\u001b[0mrecv_handle\u001b[0m\u001b[0;34m(\u001b[0m\u001b[0mconn\u001b[0m\u001b[0;34m)\u001b[0m\u001b[0;34m\u001b[0m\u001b[0;34m\u001b[0m\u001b[0m\n\u001b[0m\u001b[1;32m     59\u001b[0m \u001b[0;34m\u001b[0m\u001b[0m\n\u001b[1;32m     60\u001b[0m \u001b[0;34m\u001b[0m\u001b[0m\n",
      "\u001b[0;32m/usr/lib/python3.6/multiprocessing/reduction.py\u001b[0m in \u001b[0;36mrecv_handle\u001b[0;34m(conn)\u001b[0m\n\u001b[1;32m    180\u001b[0m         \u001b[0;34m'''Receive a handle over a local connection.'''\u001b[0m\u001b[0;34m\u001b[0m\u001b[0;34m\u001b[0m\u001b[0m\n\u001b[1;32m    181\u001b[0m         \u001b[0;32mwith\u001b[0m \u001b[0msocket\u001b[0m\u001b[0;34m.\u001b[0m\u001b[0mfromfd\u001b[0m\u001b[0;34m(\u001b[0m\u001b[0mconn\u001b[0m\u001b[0;34m.\u001b[0m\u001b[0mfileno\u001b[0m\u001b[0;34m(\u001b[0m\u001b[0;34m)\u001b[0m\u001b[0;34m,\u001b[0m \u001b[0msocket\u001b[0m\u001b[0;34m.\u001b[0m\u001b[0mAF_UNIX\u001b[0m\u001b[0;34m,\u001b[0m \u001b[0msocket\u001b[0m\u001b[0;34m.\u001b[0m\u001b[0mSOCK_STREAM\u001b[0m\u001b[0;34m)\u001b[0m \u001b[0;32mas\u001b[0m \u001b[0ms\u001b[0m\u001b[0;34m:\u001b[0m\u001b[0;34m\u001b[0m\u001b[0;34m\u001b[0m\u001b[0m\n\u001b[0;32m--> 182\u001b[0;31m             \u001b[0;32mreturn\u001b[0m \u001b[0mrecvfds\u001b[0m\u001b[0;34m(\u001b[0m\u001b[0ms\u001b[0m\u001b[0;34m,\u001b[0m \u001b[0;36m1\u001b[0m\u001b[0;34m)\u001b[0m\u001b[0;34m[\u001b[0m\u001b[0;36m0\u001b[0m\u001b[0;34m]\u001b[0m\u001b[0;34m\u001b[0m\u001b[0;34m\u001b[0m\u001b[0m\n\u001b[0m\u001b[1;32m    183\u001b[0m \u001b[0;34m\u001b[0m\u001b[0m\n\u001b[1;32m    184\u001b[0m     \u001b[0;32mdef\u001b[0m \u001b[0mDupFd\u001b[0m\u001b[0;34m(\u001b[0m\u001b[0mfd\u001b[0m\u001b[0;34m)\u001b[0m\u001b[0;34m:\u001b[0m\u001b[0;34m\u001b[0m\u001b[0;34m\u001b[0m\u001b[0m\n",
      "\u001b[0;32m/usr/lib/python3.6/multiprocessing/reduction.py\u001b[0m in \u001b[0;36mrecvfds\u001b[0;34m(sock, size)\u001b[0m\n\u001b[1;32m    151\u001b[0m         \u001b[0ma\u001b[0m \u001b[0;34m=\u001b[0m \u001b[0marray\u001b[0m\u001b[0;34m.\u001b[0m\u001b[0marray\u001b[0m\u001b[0;34m(\u001b[0m\u001b[0;34m'i'\u001b[0m\u001b[0;34m)\u001b[0m\u001b[0;34m\u001b[0m\u001b[0;34m\u001b[0m\u001b[0m\n\u001b[1;32m    152\u001b[0m         \u001b[0mbytes_size\u001b[0m \u001b[0;34m=\u001b[0m \u001b[0ma\u001b[0m\u001b[0;34m.\u001b[0m\u001b[0mitemsize\u001b[0m \u001b[0;34m*\u001b[0m \u001b[0msize\u001b[0m\u001b[0;34m\u001b[0m\u001b[0;34m\u001b[0m\u001b[0m\n\u001b[0;32m--> 153\u001b[0;31m         \u001b[0mmsg\u001b[0m\u001b[0;34m,\u001b[0m \u001b[0mancdata\u001b[0m\u001b[0;34m,\u001b[0m \u001b[0mflags\u001b[0m\u001b[0;34m,\u001b[0m \u001b[0maddr\u001b[0m \u001b[0;34m=\u001b[0m \u001b[0msock\u001b[0m\u001b[0;34m.\u001b[0m\u001b[0mrecvmsg\u001b[0m\u001b[0;34m(\u001b[0m\u001b[0;36m1\u001b[0m\u001b[0;34m,\u001b[0m \u001b[0msocket\u001b[0m\u001b[0;34m.\u001b[0m\u001b[0mCMSG_SPACE\u001b[0m\u001b[0;34m(\u001b[0m\u001b[0mbytes_size\u001b[0m\u001b[0;34m)\u001b[0m\u001b[0;34m)\u001b[0m\u001b[0;34m\u001b[0m\u001b[0;34m\u001b[0m\u001b[0m\n\u001b[0m\u001b[1;32m    154\u001b[0m         \u001b[0;32mif\u001b[0m \u001b[0;32mnot\u001b[0m \u001b[0mmsg\u001b[0m \u001b[0;32mand\u001b[0m \u001b[0;32mnot\u001b[0m \u001b[0mancdata\u001b[0m\u001b[0;34m:\u001b[0m\u001b[0;34m\u001b[0m\u001b[0;34m\u001b[0m\u001b[0m\n\u001b[1;32m    155\u001b[0m             \u001b[0;32mraise\u001b[0m \u001b[0mEOFError\u001b[0m\u001b[0;34m\u001b[0m\u001b[0;34m\u001b[0m\u001b[0m\n",
      "\u001b[0;31mKeyboardInterrupt\u001b[0m: "
     ]
    }
   ],
   "source": [
    "train_network(cifar_net,optimizer,trainloader)"
   ]
  },
  {
   "cell_type": "code",
   "execution_count": 52,
   "metadata": {
    "colab": {
     "base_uri": "https://localhost:8080/",
     "height": 68
    },
    "colab_type": "code",
    "executionInfo": {
     "elapsed": 2823,
     "status": "ok",
     "timestamp": 1562085208944,
     "user": {
      "displayName": "Wonwoong Cho",
      "photoUrl": "",
      "userId": "14212918309461362604"
     },
     "user_tz": -540
    },
    "id": "dRNdaQCHv3mc",
    "outputId": "99baf59b-1f3d-4b6d-d159-c62057ab6d85"
   },
   "outputs": [
    {
     "name": "stdout",
     "output_type": "stream",
     "text": [
      "\n",
      "Test set:  Accuracy: 2252/10000 (23%)\n",
      "\n"
     ]
    }
   ],
   "source": [
    "test(cifar_net,testloader)"
   ]
  },
  {
   "cell_type": "markdown",
   "metadata": {
    "colab_type": "text",
    "id": "P-Y3AkxQ1xe0"
   },
   "source": [
    "Q) 왜 성능이 낮아졌을까요?"
   ]
  },
  {
   "cell_type": "markdown",
   "metadata": {
    "colab_type": "text",
    "id": "j90-Gd4lwyV2"
   },
   "source": [
    "### 데이터 shuffling 의 효과"
   ]
  },
  {
   "cell_type": "code",
   "execution_count": 0,
   "metadata": {
    "colab": {
     "base_uri": "https://localhost:8080/",
     "height": 70
    },
    "colab_type": "code",
    "id": "Zcon8zppww3H",
    "outputId": "08e12b27-b434-45e7-8f2e-a374ace7c06d"
   },
   "outputs": [
    {
     "name": "stdout",
     "output_type": "stream",
     "text": [
      "==> Preparing data..\n",
      "Files already downloaded and verified\n",
      "Files already downloaded and verified\n"
     ]
    }
   ],
   "source": [
    "# Data\n",
    "print('==> Preparing data..')\n",
    "# 데이터 전처리를 위한 코드\n",
    "transform_train = transforms.Compose([\n",
    "    transforms.RandomCrop(32, padding=4), # 4만큼의 padding을 부여한 후, 32x32로 random cropping\n",
    "    transforms.RandomHorizontalFlip(), # 0.5의 확률로 이미지 좌우 반전하여 넣어줌\n",
    "    transforms.ToTensor(),\n",
    "    transforms.Normalize((0.4914, 0.4822, 0.4465), (0.2023, 0.1994, 0.2010)), # cifar10(0~1)의 r,g,b 채널 별 평균 및 분산으로 normalization => N(0,1)의 정규분포를 따르도록 만들어준 후 input으로 넣어줍니다.\n",
    "])\n",
    "\n",
    "# 랜덤 cropping을 하고, 이미지 좌우반전을 해주는 이유 : ???\n",
    "\n",
    "# 데이터 전처리를 위한 코드\n",
    "transform_test = transforms.Compose([\n",
    "    transforms.ToTensor(),\n",
    "    transforms.Normalize((0.4914, 0.4822, 0.4465), (0.2023, 0.1994, 0.2010)), # cifar10(0~1)의 r,g,b 채널 별 평균 및 분산으로 normalization => N(0,1)의 정규분포를 따르도록 만들어준 후 input으로 넣어줍니다.\n",
    "])\n",
    "\n",
    "# 데이터 로딩\n",
    "trainset = torchvision.datasets.CIFAR10(root='./data', train=True, download=True, transform=transform_train)\n",
    "trainloader = torch.utils.data.DataLoader(trainset, batch_size=batch_size, shuffle=????, num_workers=1)\n",
    "\n",
    "testset = torchvision.datasets.CIFAR10(root='./data', train=False, download=True, transform=transform_test)\n",
    "testloader = torch.utils.data.DataLoader(testset, batch_size=100, shuffle=False, num_workers=1)\n",
    "\n",
    "classes = ('plane', 'car', 'bird', 'cat', 'deer', 'dog', 'frog', 'horse', 'ship', 'truck')"
   ]
  },
  {
   "cell_type": "code",
   "execution_count": 0,
   "metadata": {
    "colab": {},
    "colab_type": "code",
    "id": "pj8oSDzAw68t"
   },
   "outputs": [],
   "source": [
    "cifar_net = DiyCNN().to(device) # 생성한 뉴럴넷 Instance를 생성하고 빠른 학습을 위해 cuda 에 올립니다. \n",
    "criterion = nn.CrossEntropyLoss() # Loss Function을 정의 합니다. 여기서는 cross entrophy loss 를 사용합니다. \n",
    "optimizer = optim.Adam(cifar_net.parameters(), lr=lr) # optimizer는 이와 같이 training 할 Parameter와 learning rate를 인자로 줍니다. "
   ]
  },
  {
   "cell_type": "code",
   "execution_count": 0,
   "metadata": {
    "colab": {
     "base_uri": "https://localhost:8080/",
     "height": 298
    },
    "colab_type": "code",
    "id": "J-yaC6mkw9g3",
    "outputId": "a3a40899-7941-4156-ed2b-5eed01d04bf3"
   },
   "outputs": [
    {
     "name": "stdout",
     "output_type": "stream",
     "text": [
      "[1,   100] loss: 1.739\n",
      "[1,   200] loss: 1.488\n",
      "[1,   300] loss: 1.375\n",
      "[2,   100] loss: 1.219\n",
      "[2,   200] loss: 1.155\n",
      "[2,   300] loss: 1.113\n",
      "[3,   100] loss: 1.037\n",
      "[3,   200] loss: 1.013\n",
      "[3,   300] loss: 0.986\n",
      "[4,   100] loss: 0.927\n",
      "[4,   200] loss: 0.913\n",
      "[4,   300] loss: 0.895\n",
      "[5,   100] loss: 0.850\n",
      "[5,   200] loss: 0.834\n",
      "[5,   300] loss: 0.831\n",
      "Finished Training\n"
     ]
    }
   ],
   "source": [
    "train_network(cifar_net,optimizer,trainloader)"
   ]
  },
  {
   "cell_type": "code",
   "execution_count": 0,
   "metadata": {
    "colab": {
     "base_uri": "https://localhost:8080/",
     "height": 70
    },
    "colab_type": "code",
    "id": "4Xgf-jTdw-NY",
    "outputId": "6180ce5f-c6d4-4466-a0e1-de34b95643e2"
   },
   "outputs": [
    {
     "name": "stdout",
     "output_type": "stream",
     "text": [
      "\n",
      "Test set:  Accuracy: 7224/10000 (72%)\n",
      "\n"
     ]
    }
   ],
   "source": [
    "test(cifar_net,testloader)"
   ]
  },
  {
   "cell_type": "markdown",
   "metadata": {
    "colab_type": "text",
    "id": "MbjVKfzg13q6"
   },
   "source": [
    "Q) Shuffling 을 제거 했더니 성능이 어떻게 변하나요?  shuffling 은 왜 중요할까요?"
   ]
  },
  {
   "cell_type": "markdown",
   "metadata": {
    "colab_type": "text",
    "id": "o19_PEjYxeBM"
   },
   "source": [
    "### 다시 원래 옵션으로 되돌립니다."
   ]
  },
  {
   "cell_type": "code",
   "execution_count": 69,
   "metadata": {
    "colab": {
     "base_uri": "https://localhost:8080/",
     "height": 68
    },
    "colab_type": "code",
    "executionInfo": {
     "elapsed": 2742,
     "status": "ok",
     "timestamp": 1562085980824,
     "user": {
      "displayName": "Wonwoong Cho",
      "photoUrl": "",
      "userId": "14212918309461362604"
     },
     "user_tz": -540
    },
    "id": "XclAWYKSxdH1",
    "outputId": "f7ed68cc-7563-4735-dc23-86c6cb33af47"
   },
   "outputs": [
    {
     "name": "stdout",
     "output_type": "stream",
     "text": [
      "==> Preparing data..\n",
      "Files already downloaded and verified\n",
      "Files already downloaded and verified\n"
     ]
    }
   ],
   "source": [
    "# Data\n",
    "print('==> Preparing data..')\n",
    "# 데이터 전처리를 위한 코드\n",
    "transform_train = transforms.Compose([\n",
    "    transforms.RandomCrop(32, padding=4), # 4만큼의 padding을 부여한 후, 32x32로 random cropping\n",
    "    transforms.RandomHorizontalFlip(), # 0.5의 확률로 이미지 좌우 반전하여 넣어줌\n",
    "    transforms.ToTensor(),\n",
    "    transforms.Normalize((0.4914, 0.4822, 0.4465), (0.2023, 0.1994, 0.2010)), # cifar10(0~1)의 r,g,b 채널 별 평균 및 분산으로 normalization => N(0,1)의 정규분포를 따르도록 만들어준 후 input으로 넣어줍니다.\n",
    "])\n",
    "\n",
    "# 랜덤 cropping을 하고, 이미지 좌우반전을 해주는 이유 : ???\n",
    "\n",
    "# 데이터 전처리를 위한 코드\n",
    "transform_test = transforms.Compose([\n",
    "    transforms.ToTensor(),\n",
    "    transforms.Normalize((0.4914, 0.4822, 0.4465), (0.2023, 0.1994, 0.2010)), # cifar10(0~1)의 r,g,b 채널 별 평균 및 분산으로 normalization => N(0,1)의 정규분포를 따르도록 만들어준 후 input으로 넣어줍니다.\n",
    "])\n",
    "\n",
    "# 데이터 로딩\n",
    "trainset = torchvision.datasets.CIFAR10(root='./data', train=True, download=True, transform=transform_train)\n",
    "trainloader = torch.utils.data.DataLoader(trainset, batch_size=batch_size, shuffle=True, num_workers=1)\n",
    "\n",
    "testset = torchvision.datasets.CIFAR10(root='./data', train=False, download=True, transform=transform_test)\n",
    "testloader = torch.utils.data.DataLoader(testset, batch_size=100, shuffle=False, num_workers=1)\n",
    "\n",
    "classes = ('plane', 'car', 'bird', 'cat', 'deer', 'dog', 'frog', 'horse', 'ship', 'truck')"
   ]
  },
  {
   "cell_type": "code",
   "execution_count": 0,
   "metadata": {
    "colab": {},
    "colab_type": "code",
    "id": "xk0lINI_JMdX"
   },
   "outputs": [],
   "source": [
    "class DiyCNN(nn.Module):\n",
    "  def __init__(self):\n",
    "    super(DiyCNN, self).__init__()\n",
    "    layers = []\n",
    "\n",
    "    layers += [nn.Conv2d(in_channels=3, out_channels=64, kernel_size=3, stride=2, padding=1)] # 첫 conv는 보통 receptive field를 최대한 넓혀준 후 feature를 뽑아줍니다.\n",
    "    layers += [nn.BatchNorm2d(64)] # 앞선 MLP 시간과 달리 spatial resolution이 살아있기 때문에, batchnorm 2d를 사용해 줍니다.\n",
    "    layers += [nn.ReLU()]\n",
    "    \n",
    "    layers += [nn.Conv2d(64, 128, 3, 2, 1)]\n",
    "    layers += [nn.BatchNorm2d(128)]\n",
    "    layers += [nn.ReLU()]\n",
    "    \n",
    "    layers += [nn.Conv2d(128, 256, 3, 2, 1)]\n",
    "    layers += [nn.BatchNorm2d(256)]\n",
    "    layers += [nn.ReLU()]\n",
    "    \n",
    "    layers += [nn.Conv2d(256, 512, 3, 2, 1)]\n",
    "    layers += [nn.BatchNorm2d(512)]\n",
    "    layers += [nn.ReLU()]\n",
    "    \n",
    "    layers += [nn.AdaptiveAvgPool2d(1)]\n",
    "    \n",
    "    layers += [nn.Conv2d(512, 10, 1, 1, 0)]\n",
    "    \n",
    "    self.main = nn.Sequential(*layers)\n",
    "    \n",
    "  def forward(self, x):\n",
    "    return self.main(x).squeeze(3).squeeze(2)"
   ]
  },
  {
   "cell_type": "markdown",
   "metadata": {
    "colab_type": "text",
    "id": "yODwdqQEHIGz"
   },
   "source": [
    "### Learning rate scheduler를 도입합니다. "
   ]
  },
  {
   "cell_type": "code",
   "execution_count": 0,
   "metadata": {
    "colab": {},
    "colab_type": "code",
    "id": "Xt5HHvczIZIQ"
   },
   "outputs": [],
   "source": [
    "def train_network2(net,optimizer,trainloader, ??, epochs=5):\n",
    "  for epoch in range(epochs):  # loop over the dataset multiple times\n",
    "\n",
    "      running_loss = 0.0 # running loss를 저장하기 위한 변수입니다. \n",
    "      for i, data in enumerate(trainloader): # 한 Epoch 만큼 돕니다. 매 iteration 마다 정해진 Batch size 만큼 데이터를 뱉습니다. \n",
    "          # get the inputs\n",
    "          inputs, labels = data # DataLoader iterator의 반환 값은 input_data 와 labels의 튜플 형식입니다. \n",
    "          inputs = inputs.to(device) # Pytorch에서 nn.Module 에 넣어 Backprop을 계산 하기 위해서는 gpu 연동을 이와 같이 해줘야 합니다.\n",
    "          labels = labels.to(device)\n",
    "          # zero the parameter gradients\n",
    "          optimizer.zero_grad()    #  현재 기존의 backprop을 계산하기 위해서 저장했던 activation buffer 를 비웁니다.\n",
    "          # forward + backward + optimize\n",
    "          outputs = net(inputs) # input 을 넣은 위 network 로 부터 output 을 얻어냅니다. \n",
    "          loss = criterion(outputs, labels) # loss fucntion에 주어진 target과 output 의 score를 계산하여 반환합니다. \n",
    "          loss.backward() # * Scalar Loss value를 Backward() 해주게 되면 주어진 loss값을 바탕으로 backpropagation이 진행됩니다. \n",
    "          optimizer.step() # 계산된 Backprop 을 바탕으로 optimizer가 gradient descenting 을 수행합니다. \n",
    "\n",
    "          # print statistics\n",
    "          running_loss += loss.item()\n",
    "          if (i+1) % 100 == 0:    # print every 500 mini-batches\n",
    "              print('[%d, %5d] loss: %.3f' %\n",
    "                    (epoch + 1, i + 1, running_loss / 100))\n",
    "              running_loss = 0.0\n",
    "      ??.step() \n",
    "  print('Finished Training')"
   ]
  },
  {
   "cell_type": "code",
   "execution_count": 0,
   "metadata": {
    "colab": {
     "base_uri": "https://localhost:8080/",
     "height": 34
    },
    "colab_type": "code",
    "id": "6OYIUWkQHHgQ",
    "outputId": "4abf5bdb-118e-4f71-e4d8-a8c8c395e83f"
   },
   "outputs": [
    {
     "name": "stdout",
     "output_type": "stream",
     "text": [
      "[info] number of model parameter - 1558026\n"
     ]
    }
   ],
   "source": [
    "from torch.optim.lr_scheduler import MultiStepLR\n",
    "\n",
    "scheduler = MultiStepLR(optimizer, milestones=[??,??], gamma=??)# mile stone에 해당하는 에폭마다 learning rate을 gamma만큼 줄입니다.\n",
    "cifar_net = DiyCNN().to(device)\n",
    "criterion = nn.CrossEntropyLoss() \n",
    "optimizer = optim.Adam(cifar_net.parameters(), lr=0.001) # 초반 learning rate이 0.1입니다\n",
    "\n",
    "print('[info] number of model parameter - %d'%(count_parameters(cifar_net))) # 방금 구성한 모형의 파라미터 개수를 프린트 해봅니다."
   ]
  },
  {
   "cell_type": "code",
   "execution_count": 0,
   "metadata": {
    "colab": {
     "base_uri": "https://localhost:8080/",
     "height": 298
    },
    "colab_type": "code",
    "id": "P90jBCr9I1Zx",
    "outputId": "220e9ed6-6656-4a50-e5e2-f5eea8756f2e"
   },
   "outputs": [
    {
     "name": "stdout",
     "output_type": "stream",
     "text": [
      "[1,   100] loss: 1.739\n",
      "[1,   200] loss: 1.464\n",
      "[1,   300] loss: 1.348\n",
      "[2,   100] loss: 1.214\n",
      "[2,   200] loss: 1.144\n",
      "[2,   300] loss: 1.133\n",
      "[3,   100] loss: 1.031\n",
      "[3,   200] loss: 1.030\n",
      "[3,   300] loss: 0.987\n",
      "[4,   100] loss: 0.951\n",
      "[4,   200] loss: 0.918\n",
      "[4,   300] loss: 0.902\n",
      "[5,   100] loss: 0.844\n",
      "[5,   200] loss: 0.835\n",
      "[5,   300] loss: 0.840\n",
      "Finished Training\n"
     ]
    }
   ],
   "source": [
    "train_network2(cifar_net,optimizer,trainloader, ??, epochs=5)"
   ]
  },
  {
   "cell_type": "code",
   "execution_count": 0,
   "metadata": {
    "colab": {
     "base_uri": "https://localhost:8080/",
     "height": 70
    },
    "colab_type": "code",
    "id": "C1gRZluHJq8V",
    "outputId": "0d60833a-7d1a-4441-fbfa-5dc12a77da4e"
   },
   "outputs": [
    {
     "name": "stdout",
     "output_type": "stream",
     "text": [
      "\n",
      "Test set:  Accuracy: 7287/10000 (73%)\n",
      "\n"
     ]
    }
   ],
   "source": [
    "test(cifar_net,testloader)"
   ]
  },
  {
   "cell_type": "markdown",
   "metadata": {
    "colab_type": "text",
    "id": "6umQIX-Urwyn"
   },
   "source": [
    "### Pre-trained 모형 가지고 와서 성능 확인하기 (Transfer Learning 관점)"
   ]
  },
  {
   "cell_type": "code",
   "execution_count": 53,
   "metadata": {
    "colab": {
     "base_uri": "https://localhost:8080/",
     "height": 1000
    },
    "colab_type": "code",
    "executionInfo": {
     "elapsed": 23920,
     "status": "ok",
     "timestamp": 1562085636277,
     "user": {
      "displayName": "Wonwoong Cho",
      "photoUrl": "",
      "userId": "14212918309461362604"
     },
     "user_tz": -540
    },
    "id": "JecQ-Fkmxjk1",
    "outputId": "57d274a9-4d50-4a54-9f73-63c5b241f7e4"
   },
   "outputs": [
    {
     "name": "stderr",
     "output_type": "stream",
     "text": [
      "Downloading: \"https://download.pytorch.org/models/vgg19_bn-c79401a0.pth\" to /root/.cache/torch/checkpoints/vgg19_bn-c79401a0.pth\n",
      "\n",
      "  0%|          | 0/574769405 [00:00<?, ?it/s]\u001b[A\n",
      "  1%|          | 2883584/574769405 [00:00<00:20, 28312455.30it/s]\u001b[A\n",
      "  1%|          | 5963776/574769405 [00:00<00:19, 28896240.99it/s]\u001b[A\n",
      "  2%|▏         | 8978432/574769405 [00:00<00:19, 29252417.97it/s]\u001b[A\n",
      "  2%|▏         | 11927552/574769405 [00:00<00:19, 29288867.80it/s]\u001b[A\n",
      "  3%|▎         | 14901248/574769405 [00:00<00:19, 29420047.26it/s]\u001b[A\n",
      "  3%|▎         | 17825792/574769405 [00:00<00:18, 29341617.88it/s]\u001b[A\n",
      "  4%|▎         | 20774912/574769405 [00:00<00:18, 29289127.71it/s]\u001b[A\n",
      "  4%|▍         | 23814144/574769405 [00:00<00:18, 29609239.51it/s]\u001b[A\n",
      "  5%|▍         | 26738688/574769405 [00:00<00:18, 29472603.45it/s]\u001b[A\n",
      "  5%|▌         | 29605888/574769405 [00:01<00:18, 28891925.13it/s]\u001b[A\n",
      "  6%|▌         | 32833536/574769405 [00:01<00:18, 29785278.51it/s]\u001b[A\n",
      "  6%|▌         | 35913728/574769405 [00:01<00:18, 29932548.74it/s]\u001b[A\n",
      "  7%|▋         | 38928384/574769405 [00:01<00:17, 29920017.13it/s]\u001b[A\n",
      "  7%|▋         | 41902080/574769405 [00:01<00:17, 29831357.68it/s]\u001b[A\n",
      "  8%|▊         | 44875776/574769405 [00:01<00:17, 29578400.89it/s]\u001b[A\n",
      "  8%|▊         | 47824896/574769405 [00:01<00:18, 29074263.00it/s]\u001b[A\n",
      "  9%|▉         | 50790400/574769405 [00:01<00:17, 29234759.57it/s]\u001b[A\n",
      "  9%|▉         | 53870592/574769405 [00:01<00:17, 29590850.91it/s]\u001b[A\n",
      " 10%|▉         | 56885248/574769405 [00:01<00:17, 29701352.31it/s]\u001b[A\n",
      " 10%|█         | 59858944/574769405 [00:02<00:18, 27371352.14it/s]\u001b[A\n",
      " 11%|█         | 62914560/574769405 [00:02<00:18, 28105095.59it/s]\u001b[A\n",
      " 11%|█▏        | 65970176/574769405 [00:02<00:17, 28797009.51it/s]\u001b[A\n",
      " 12%|█▏        | 68878336/574769405 [00:02<00:17, 28517623.23it/s]\u001b[A\n",
      " 13%|█▎        | 71892992/574769405 [00:02<00:17, 28848815.77it/s]\u001b[A\n",
      " 13%|█▎        | 74792960/574769405 [00:02<00:17, 28578685.21it/s]\u001b[A\n",
      " 14%|█▎        | 77791232/574769405 [00:02<00:17, 28964769.77it/s]\u001b[A\n",
      " 14%|█▍        | 80814080/574769405 [00:02<00:16, 29330538.69it/s]\u001b[A\n",
      " 15%|█▍        | 83836928/574769405 [00:02<00:16, 29587689.01it/s]\u001b[A\n",
      " 15%|█▌        | 86835200/574769405 [00:02<00:16, 29650857.51it/s]\u001b[A\n",
      " 16%|█▌        | 89849856/574769405 [00:03<00:16, 29662823.63it/s]\u001b[A\n",
      " 16%|█▌        | 92864512/574769405 [00:03<00:16, 29762115.79it/s]\u001b[A\n",
      " 17%|█▋        | 95944704/574769405 [00:03<00:15, 29945502.23it/s]\u001b[A\n",
      " 17%|█▋        | 98959360/574769405 [00:03<00:15, 29874154.03it/s]\u001b[A\n",
      " 18%|█▊        | 101949440/574769405 [00:03<00:15, 29807641.54it/s]\u001b[A\n",
      " 18%|█▊        | 104931328/574769405 [00:03<00:15, 29569469.85it/s]\u001b[A\n",
      " 19%|█▉        | 107896832/574769405 [00:03<00:16, 28725798.10it/s]\u001b[A\n",
      " 19%|█▉        | 110952448/574769405 [00:03<00:15, 29146156.43it/s]\u001b[A\n",
      " 20%|█▉        | 113967104/574769405 [00:03<00:15, 29317545.99it/s]\u001b[A\n",
      " 20%|██        | 116981760/574769405 [00:03<00:15, 29544998.60it/s]\u001b[A\n",
      " 21%|██        | 120061952/574769405 [00:04<00:15, 29789042.03it/s]\u001b[A\n",
      " 21%|██▏       | 123043840/574769405 [00:04<00:15, 29686196.18it/s]\u001b[A\n",
      " 22%|██▏       | 126091264/574769405 [00:04<00:15, 29775873.80it/s]\u001b[A\n",
      " 22%|██▏       | 129171456/574769405 [00:04<00:14, 29959085.01it/s]\u001b[A\n",
      " 23%|██▎       | 132186112/574769405 [00:04<00:14, 29921165.30it/s]\u001b[A\n",
      " 24%|██▎       | 135200768/574769405 [00:04<00:14, 29952506.65it/s]\u001b[A\n",
      " 24%|██▍       | 138199040/574769405 [00:04<00:14, 29795313.10it/s]\u001b[A\n",
      " 25%|██▍       | 141230080/574769405 [00:04<00:14, 29773464.74it/s]\u001b[A\n",
      " 25%|██▌       | 144310272/574769405 [00:04<00:14, 29982030.58it/s]\u001b[A\n",
      " 26%|██▌       | 147390464/574769405 [00:04<00:14, 30161195.05it/s]\u001b[A\n",
      " 26%|██▌       | 150413312/574769405 [00:05<00:14, 29799469.86it/s]\u001b[A\n",
      " 27%|██▋       | 153485312/574769405 [00:05<00:14, 29929358.13it/s]\u001b[A\n",
      " 27%|██▋       | 156499968/574769405 [00:05<00:13, 29979093.17it/s]\u001b[A\n",
      " 28%|██▊       | 159506432/574769405 [00:05<00:14, 29511864.87it/s]\u001b[A\n",
      " 28%|██▊       | 162463744/574769405 [00:05<00:14, 29331895.45it/s]\u001b[A\n",
      " 29%|██▉       | 165404672/574769405 [00:05<00:13, 29347659.26it/s]\u001b[A\n",
      " 29%|██▉       | 168427520/574769405 [00:05<00:13, 29562964.70it/s]\u001b[A\n",
      " 30%|██▉       | 171507712/574769405 [00:05<00:13, 29762443.98it/s]\u001b[A\n",
      " 30%|███       | 174489600/574769405 [00:05<00:13, 29661326.31it/s]\u001b[A\n",
      " 31%|███       | 177602560/574769405 [00:06<00:13, 29971987.67it/s]\u001b[A\n",
      " 31%|███▏      | 180674560/574769405 [00:06<00:13, 30191358.32it/s]\u001b[A\n",
      " 32%|███▏      | 183697408/574769405 [00:06<00:13, 30027091.39it/s]\u001b[A\n",
      " 32%|███▏      | 186777600/574769405 [00:06<00:12, 30115737.30it/s]\u001b[A\n",
      " 33%|███▎      | 189792256/574769405 [00:06<00:12, 29818553.14it/s]\u001b[A\n",
      " 34%|███▎      | 192782336/574769405 [00:06<00:12, 29576622.80it/s]\u001b[A\n",
      " 34%|███▍      | 195747840/574769405 [00:06<00:12, 29338148.56it/s]\u001b[A\n",
      " 35%|███▍      | 198770688/574769405 [00:06<00:12, 29513462.67it/s]\u001b[A\n",
      " 35%|███▌      | 201728000/574769405 [00:06<00:12, 29261338.84it/s]\u001b[A\n",
      " 36%|███▌      | 204800000/574769405 [00:06<00:12, 29566833.44it/s]\u001b[A\n",
      " 36%|███▌      | 207806464/574769405 [00:07<00:12, 29712511.81it/s]\u001b[A\n",
      " 37%|███▋      | 210780160/574769405 [00:07<00:12, 29631712.00it/s]\u001b[A\n",
      " 37%|███▋      | 213745664/574769405 [00:07<00:12, 29598999.20it/s]\u001b[A\n",
      " 38%|███▊      | 216711168/574769405 [00:07<00:12, 29480205.30it/s]\u001b[A\n",
      " 38%|███▊      | 219742208/574769405 [00:07<00:12, 29574227.72it/s]\u001b[A\n",
      " 39%|███▊      | 222707712/574769405 [00:07<00:11, 29579449.85it/s]\u001b[A\n",
      " 39%|███▉      | 225673216/574769405 [00:07<00:12, 29011955.29it/s]\u001b[A\n",
      " 40%|███▉      | 228720640/574769405 [00:07<00:11, 29360948.76it/s]\u001b[A\n",
      " 40%|████      | 231661568/574769405 [00:08<00:32, 10684173.35it/s]\u001b[A\n",
      " 41%|████      | 233848832/574769405 [00:08<00:35, 9710153.04it/s] \u001b[A\n",
      " 41%|████      | 236847104/574769405 [00:08<00:27, 12154935.18it/s]\u001b[A\n",
      " 42%|████▏     | 239927296/574769405 [00:08<00:22, 14824891.94it/s]\u001b[A\n",
      " 42%|████▏     | 243023872/574769405 [00:09<00:18, 17572114.08it/s]\u001b[A\n",
      " 43%|████▎     | 246087680/574769405 [00:09<00:16, 20077704.84it/s]\u001b[A\n",
      " 43%|████▎     | 249102336/574769405 [00:09<00:14, 22307926.23it/s]\u001b[A\n",
      " 44%|████▍     | 252051456/574769405 [00:09<00:13, 24054769.30it/s]\u001b[A\n",
      " 44%|████▍     | 255000576/574769405 [00:09<00:12, 25427976.85it/s]\u001b[A\n",
      " 45%|████▍     | 257949696/574769405 [00:09<00:11, 26403925.40it/s]\u001b[A\n",
      " 45%|████▌     | 260898816/574769405 [00:09<00:11, 27190868.77it/s]\u001b[A\n",
      " 46%|████▌     | 263847936/574769405 [00:09<00:11, 27798280.65it/s]\u001b[A\n",
      " 46%|████▋     | 266862592/574769405 [00:09<00:10, 28402119.44it/s]\u001b[A\n",
      " 47%|████▋     | 269811712/574769405 [00:09<00:10, 28666238.45it/s]\u001b[A\n",
      " 47%|████▋     | 272744448/574769405 [00:10<00:10, 28391790.03it/s]\u001b[A\n",
      " 48%|████▊     | 275636224/574769405 [00:10<00:10, 28378986.14it/s]\u001b[A\n",
      " 48%|████▊     | 278511616/574769405 [00:10<00:10, 28171322.07it/s]\u001b[A\n",
      " 49%|████▉     | 281477120/574769405 [00:10<00:10, 28525842.92it/s]\u001b[A\n",
      " 50%|████▉     | 284516352/574769405 [00:10<00:09, 29057176.96it/s]\u001b[A\n",
      " 50%|█████     | 287506432/574769405 [00:10<00:09, 29274797.02it/s]\u001b[A\n",
      " 51%|█████     | 290455552/574769405 [00:10<00:09, 29288415.29it/s]\u001b[A\n",
      " 51%|█████     | 293404672/574769405 [00:10<00:09, 29197272.00it/s]\u001b[A\n",
      " 52%|█████▏    | 296484864/574769405 [00:10<00:09, 29531113.55it/s]\u001b[A\n",
      " 52%|█████▏    | 299499520/574769405 [00:10<00:09, 29701417.31it/s]\u001b[A\n",
      " 53%|█████▎    | 302473216/574769405 [00:11<00:09, 29308315.18it/s]\u001b[A\n",
      " 53%|█████▎    | 305528832/574769405 [00:11<00:09, 29564633.21it/s]\u001b[A\n",
      " 54%|█████▎    | 308609024/574769405 [00:11<00:08, 29805919.99it/s]\u001b[A\n",
      " 54%|█████▍    | 311599104/574769405 [00:11<00:09, 28020534.64it/s]\u001b[A\n",
      " 55%|█████▍    | 314638336/574769405 [00:11<00:09, 28657116.85it/s]\u001b[A\n",
      " 55%|█████▌    | 317530112/574769405 [00:11<00:08, 28709113.67it/s]\u001b[A\n",
      " 56%|█████▌    | 320471040/574769405 [00:11<00:08, 28781733.10it/s]\u001b[A\n",
      " 56%|█████▋    | 323362816/574769405 [00:11<00:08, 28719206.16it/s]\u001b[A\n",
      " 57%|█████▋    | 326369280/574769405 [00:11<00:08, 29056882.84it/s]\u001b[A\n",
      " 57%|█████▋    | 329285632/574769405 [00:11<00:08, 28200510.73it/s]\u001b[A\n",
      " 58%|█████▊    | 332120064/574769405 [00:12<00:08, 27465861.97it/s]\u001b[A\n",
      " 58%|█████▊    | 335151104/574769405 [00:12<00:08, 28118951.30it/s]\u001b[A\n",
      " 59%|█████▉    | 338100224/574769405 [00:12<00:08, 28430026.17it/s]\u001b[A\n",
      " 59%|█████▉    | 341049344/574769405 [00:12<00:08, 28699850.00it/s]\u001b[A\n",
      " 60%|█████▉    | 343998464/574769405 [00:12<00:08, 28791365.15it/s]\u001b[A\n",
      " 60%|██████    | 346890240/574769405 [00:12<00:07, 28722041.26it/s]\u001b[A\n",
      " 61%|██████    | 349921280/574769405 [00:12<00:07, 29179914.30it/s]\u001b[A\n",
      " 61%|██████▏   | 352911360/574769405 [00:12<00:07, 29358061.11it/s]\u001b[A\n",
      " 62%|██████▏   | 355926016/574769405 [00:12<00:07, 29415029.95it/s]\u001b[A\n",
      " 62%|██████▏   | 358940672/574769405 [00:12<00:07, 29539472.29it/s]\u001b[A\n",
      " 63%|██████▎   | 361955328/574769405 [00:13<00:07, 29686997.06it/s]\u001b[A\n",
      " 63%|██████▎   | 364969984/574769405 [00:13<00:07, 29768504.04it/s]\u001b[A\n",
      " 64%|██████▍   | 367984640/574769405 [00:13<00:06, 29828253.14it/s]\u001b[A\n",
      " 65%|██████▍   | 370974720/574769405 [00:13<00:06, 29808696.59it/s]\u001b[A\n",
      " 65%|██████▌   | 374013952/574769405 [00:13<00:06, 29890504.56it/s]\u001b[A\n",
      " 66%|██████▌   | 377004032/574769405 [00:13<00:06, 29870895.12it/s]\u001b[A\n",
      " 66%|██████▌   | 380043264/574769405 [00:13<00:06, 29915646.55it/s]\u001b[A\n",
      " 67%|██████▋   | 383057920/574769405 [00:13<00:06, 29892390.82it/s]\u001b[A\n",
      " 67%|██████▋   | 386138112/574769405 [00:13<00:06, 30006496.33it/s]\u001b[A\n",
      " 68%|██████▊   | 389144576/574769405 [00:14<00:06, 29955967.00it/s]\u001b[A\n",
      " 68%|██████▊   | 392167424/574769405 [00:14<00:06, 29919088.41it/s]\u001b[A\n",
      " 69%|██████▉   | 395182080/574769405 [00:14<00:05, 29960715.68it/s]\u001b[A\n",
      " 69%|██████▉   | 398196736/574769405 [00:14<00:05, 29921921.50it/s]\u001b[A\n",
      " 70%|██████▉   | 401276928/574769405 [00:14<00:05, 30088664.98it/s]\u001b[A\n",
      " 70%|███████   | 404291584/574769405 [00:14<00:05, 29988441.28it/s]\u001b[A\n",
      " 71%|███████   | 407306240/574769405 [00:14<00:05, 30030831.65it/s]\u001b[A\n",
      " 71%|███████▏  | 410451968/574769405 [00:14<00:05, 30325075.32it/s]\u001b[A\n",
      " 72%|███████▏  | 413491200/574769405 [00:14<00:05, 30234201.72it/s]\u001b[A\n",
      " 72%|███████▏  | 416546816/574769405 [00:14<00:05, 30287013.29it/s]\u001b[A\n",
      " 73%|███████▎  | 419577856/574769405 [00:15<00:05, 30124381.43it/s]\u001b[A\n",
      " 74%|███████▎  | 422592512/574769405 [00:15<00:05, 29955801.01it/s]\u001b[A\n",
      " 74%|███████▍  | 425656320/574769405 [00:15<00:04, 30071452.85it/s]\u001b[A\n",
      " 75%|███████▍  | 428670976/574769405 [00:15<00:04, 30036071.55it/s]\u001b[A\n",
      " 75%|███████▌  | 431677440/574769405 [00:15<00:05, 27543572.19it/s]\u001b[A\n",
      " 76%|███████▌  | 435355648/574769405 [00:15<00:04, 29782974.37it/s]\u001b[A\n",
      " 76%|███████▋  | 438501376/574769405 [00:15<00:04, 30141138.66it/s]\u001b[A\n",
      " 77%|███████▋  | 441573376/574769405 [00:15<00:04, 30136159.61it/s]\u001b[A\n",
      " 77%|███████▋  | 444628992/574769405 [00:15<00:04, 30000186.10it/s]\u001b[A\n",
      " 78%|███████▊  | 447660032/574769405 [00:15<00:04, 29645016.26it/s]\u001b[A\n",
      " 78%|███████▊  | 450650112/574769405 [00:16<00:04, 29391307.94it/s]\u001b[A\n",
      " 79%|███████▉  | 453607424/574769405 [00:16<00:04, 29194772.88it/s]\u001b[A\n",
      " 79%|███████▉  | 456720384/574769405 [00:16<00:03, 29745876.10it/s]\u001b[A\n",
      " 80%|███████▉  | 459710464/574769405 [00:16<00:03, 29499343.44it/s]\u001b[A\n",
      " 80%|████████  | 462675968/574769405 [00:16<00:03, 29216572.56it/s]\u001b[A\n",
      " 81%|████████  | 465608704/574769405 [00:16<00:03, 29034427.19it/s]\u001b[A\n",
      " 82%|████████▏ | 468516864/574769405 [00:16<00:03, 28140907.07it/s]\u001b[A\n",
      " 82%|████████▏ | 471343104/574769405 [00:16<00:03, 27621021.90it/s]\u001b[A\n",
      " 83%|████████▎ | 474349568/574769405 [00:16<00:03, 28239845.35it/s]\u001b[A\n",
      " 83%|████████▎ | 477495296/574769405 [00:16<00:03, 28997503.94it/s]\u001b[A\n",
      " 84%|████████▎ | 480444416/574769405 [00:17<00:03, 29108775.67it/s]\u001b[A\n",
      " 84%|████████▍ | 483524608/574769405 [00:17<00:03, 29491861.50it/s]\u001b[A\n",
      " 85%|████████▍ | 486637568/574769405 [00:17<00:02, 29953237.86it/s]\u001b[A\n",
      " 85%|████████▌ | 489644032/574769405 [00:17<00:02, 29813938.00it/s]\u001b[A\n",
      " 86%|████████▌ | 492691456/574769405 [00:17<00:02, 30007956.11it/s]\u001b[A\n",
      " 86%|████████▌ | 495697920/574769405 [00:17<00:02, 29820414.60it/s]\u001b[A\n",
      " 87%|████████▋ | 498688000/574769405 [00:17<00:02, 29837208.36it/s]\u001b[A\n",
      " 87%|████████▋ | 501743616/574769405 [00:17<00:02, 30029828.39it/s]\u001b[A\n",
      " 88%|████████▊ | 504758272/574769405 [00:17<00:02, 29964559.31it/s]\u001b[A\n",
      " 88%|████████▊ | 507805696/574769405 [00:18<00:02, 30115460.02it/s]\u001b[A\n",
      " 89%|████████▉ | 510820352/574769405 [00:18<00:02, 29928698.61it/s]\u001b[A\n",
      " 89%|████████▉ | 513867776/574769405 [00:18<00:02, 29969893.77it/s]\u001b[A\n",
      " 90%|████████▉ | 516882432/574769405 [00:18<00:01, 29967163.17it/s]\u001b[A\n",
      " 90%|█████████ | 519897088/574769405 [00:18<00:01, 29922046.17it/s]\u001b[A\n",
      " 91%|█████████ | 522911744/574769405 [00:18<00:01, 29976750.09it/s]\u001b[A\n",
      " 91%|█████████▏| 525910016/574769405 [00:18<00:01, 29947901.05it/s]\u001b[A\n",
      " 92%|█████████▏| 528941056/574769405 [00:18<00:01, 29910346.13it/s]\u001b[A\n",
      " 93%|█████████▎| 532013056/574769405 [00:18<00:01, 30146215.62it/s]\u001b[A\n",
      " 93%|█████████▎| 535035904/574769405 [00:18<00:01, 30010879.50it/s]\u001b[A\n",
      " 94%|█████████▎| 538116096/574769405 [00:19<00:01, 30086106.41it/s]\u001b[A\n",
      " 94%|█████████▍| 541196288/574769405 [00:19<00:01, 30161449.86it/s]\u001b[A\n",
      " 95%|█████████▍| 544219136/574769405 [00:19<00:01, 29880380.06it/s]\u001b[A\n",
      " 95%|█████████▌| 547258368/574769405 [00:19<00:00, 30029730.86it/s]\u001b[A\n",
      " 96%|█████████▌| 550264832/574769405 [00:19<00:00, 29937910.08it/s]\u001b[A\n",
      " 96%|█████████▋| 553320448/574769405 [00:19<00:00, 29973431.19it/s]\u001b[A\n",
      " 97%|█████████▋| 556335104/574769405 [00:19<00:00, 29978762.34it/s]\u001b[A\n",
      " 97%|█████████▋| 559333376/574769405 [00:19<00:00, 29709430.06it/s]\u001b[A\n",
      " 98%|█████████▊| 562307072/574769405 [00:19<00:00, 29578384.90it/s]\u001b[A\n",
      " 98%|█████████▊| 565313536/574769405 [00:19<00:00, 29674998.12it/s]\u001b[A\n",
      " 99%|█████████▉| 568328192/574769405 [00:20<00:00, 29713669.93it/s]\u001b[A\n",
      " 99%|█████████▉| 571301888/574769405 [00:20<00:00, 29456288.07it/s]\u001b[A\n",
      "100%|█████████▉| 574291968/574769405 [00:20<00:00, 29583523.96it/s]\u001b[A\n",
      "100%|██████████| 574769405/574769405 [00:20<00:00, 28390395.99it/s]\u001b[A"
     ]
    }
   ],
   "source": [
    "import torchvision.models as models\n",
    "vgg_model = models.vgg19_bn(pretrained=True).to(device) # 기존에 만들어진 vgg network 을 이미지넷 데이터에 트레이닝해둔 파라미터를 그대로 받아옵니다."
   ]
  },
  {
   "cell_type": "code",
   "execution_count": 54,
   "metadata": {
    "colab": {
     "base_uri": "https://localhost:8080/",
     "height": 1000
    },
    "colab_type": "code",
    "executionInfo": {
     "elapsed": 1307,
     "status": "ok",
     "timestamp": 1562085640589,
     "user": {
      "displayName": "Wonwoong Cho",
      "photoUrl": "",
      "userId": "14212918309461362604"
     },
     "user_tz": -540
    },
    "id": "hzItxH6lJRUs",
    "outputId": "81a52882-eeb0-4b80-cbc0-9764ac4a87bc"
   },
   "outputs": [
    {
     "data": {
      "text/plain": [
       "VGG(\n",
       "  (features): Sequential(\n",
       "    (0): Conv2d(3, 64, kernel_size=(3, 3), stride=(1, 1), padding=(1, 1))\n",
       "    (1): BatchNorm2d(64, eps=1e-05, momentum=0.1, affine=True, track_running_stats=True)\n",
       "    (2): ReLU(inplace)\n",
       "    (3): Conv2d(64, 64, kernel_size=(3, 3), stride=(1, 1), padding=(1, 1))\n",
       "    (4): BatchNorm2d(64, eps=1e-05, momentum=0.1, affine=True, track_running_stats=True)\n",
       "    (5): ReLU(inplace)\n",
       "    (6): MaxPool2d(kernel_size=2, stride=2, padding=0, dilation=1, ceil_mode=False)\n",
       "    (7): Conv2d(64, 128, kernel_size=(3, 3), stride=(1, 1), padding=(1, 1))\n",
       "    (8): BatchNorm2d(128, eps=1e-05, momentum=0.1, affine=True, track_running_stats=True)\n",
       "    (9): ReLU(inplace)\n",
       "    (10): Conv2d(128, 128, kernel_size=(3, 3), stride=(1, 1), padding=(1, 1))\n",
       "    (11): BatchNorm2d(128, eps=1e-05, momentum=0.1, affine=True, track_running_stats=True)\n",
       "    (12): ReLU(inplace)\n",
       "    (13): MaxPool2d(kernel_size=2, stride=2, padding=0, dilation=1, ceil_mode=False)\n",
       "    (14): Conv2d(128, 256, kernel_size=(3, 3), stride=(1, 1), padding=(1, 1))\n",
       "    (15): BatchNorm2d(256, eps=1e-05, momentum=0.1, affine=True, track_running_stats=True)\n",
       "    (16): ReLU(inplace)\n",
       "    (17): Conv2d(256, 256, kernel_size=(3, 3), stride=(1, 1), padding=(1, 1))\n",
       "    (18): BatchNorm2d(256, eps=1e-05, momentum=0.1, affine=True, track_running_stats=True)\n",
       "    (19): ReLU(inplace)\n",
       "    (20): Conv2d(256, 256, kernel_size=(3, 3), stride=(1, 1), padding=(1, 1))\n",
       "    (21): BatchNorm2d(256, eps=1e-05, momentum=0.1, affine=True, track_running_stats=True)\n",
       "    (22): ReLU(inplace)\n",
       "    (23): Conv2d(256, 256, kernel_size=(3, 3), stride=(1, 1), padding=(1, 1))\n",
       "    (24): BatchNorm2d(256, eps=1e-05, momentum=0.1, affine=True, track_running_stats=True)\n",
       "    (25): ReLU(inplace)\n",
       "    (26): MaxPool2d(kernel_size=2, stride=2, padding=0, dilation=1, ceil_mode=False)\n",
       "    (27): Conv2d(256, 512, kernel_size=(3, 3), stride=(1, 1), padding=(1, 1))\n",
       "    (28): BatchNorm2d(512, eps=1e-05, momentum=0.1, affine=True, track_running_stats=True)\n",
       "    (29): ReLU(inplace)\n",
       "    (30): Conv2d(512, 512, kernel_size=(3, 3), stride=(1, 1), padding=(1, 1))\n",
       "    (31): BatchNorm2d(512, eps=1e-05, momentum=0.1, affine=True, track_running_stats=True)\n",
       "    (32): ReLU(inplace)\n",
       "    (33): Conv2d(512, 512, kernel_size=(3, 3), stride=(1, 1), padding=(1, 1))\n",
       "    (34): BatchNorm2d(512, eps=1e-05, momentum=0.1, affine=True, track_running_stats=True)\n",
       "    (35): ReLU(inplace)\n",
       "    (36): Conv2d(512, 512, kernel_size=(3, 3), stride=(1, 1), padding=(1, 1))\n",
       "    (37): BatchNorm2d(512, eps=1e-05, momentum=0.1, affine=True, track_running_stats=True)\n",
       "    (38): ReLU(inplace)\n",
       "    (39): MaxPool2d(kernel_size=2, stride=2, padding=0, dilation=1, ceil_mode=False)\n",
       "    (40): Conv2d(512, 512, kernel_size=(3, 3), stride=(1, 1), padding=(1, 1))\n",
       "    (41): BatchNorm2d(512, eps=1e-05, momentum=0.1, affine=True, track_running_stats=True)\n",
       "    (42): ReLU(inplace)\n",
       "    (43): Conv2d(512, 512, kernel_size=(3, 3), stride=(1, 1), padding=(1, 1))\n",
       "    (44): BatchNorm2d(512, eps=1e-05, momentum=0.1, affine=True, track_running_stats=True)\n",
       "    (45): ReLU(inplace)\n",
       "    (46): Conv2d(512, 512, kernel_size=(3, 3), stride=(1, 1), padding=(1, 1))\n",
       "    (47): BatchNorm2d(512, eps=1e-05, momentum=0.1, affine=True, track_running_stats=True)\n",
       "    (48): ReLU(inplace)\n",
       "    (49): Conv2d(512, 512, kernel_size=(3, 3), stride=(1, 1), padding=(1, 1))\n",
       "    (50): BatchNorm2d(512, eps=1e-05, momentum=0.1, affine=True, track_running_stats=True)\n",
       "    (51): ReLU(inplace)\n",
       "    (52): MaxPool2d(kernel_size=2, stride=2, padding=0, dilation=1, ceil_mode=False)\n",
       "  )\n",
       "  (avgpool): AdaptiveAvgPool2d(output_size=(7, 7))\n",
       "  (classifier): Sequential(\n",
       "    (0): Linear(in_features=25088, out_features=4096, bias=True)\n",
       "    (1): ReLU(inplace)\n",
       "    (2): Dropout(p=0.5)\n",
       "    (3): Linear(in_features=4096, out_features=4096, bias=True)\n",
       "    (4): ReLU(inplace)\n",
       "    (5): Dropout(p=0.5)\n",
       "    (6): Linear(in_features=4096, out_features=1000, bias=True)\n",
       "  )\n",
       ")"
      ]
     },
     "execution_count": 54,
     "metadata": {
      "tags": []
     },
     "output_type": "execute_result"
    }
   ],
   "source": [
    "vgg_model"
   ]
  },
  {
   "cell_type": "code",
   "execution_count": 0,
   "metadata": {
    "colab": {},
    "colab_type": "code",
    "id": "ofQJ3YcwFqvi"
   },
   "outputs": [],
   "source": [
    "class DiyCNN(nn.Module):\n",
    "    def __init__(self, vgg_model):\n",
    "        super(DiyCNN, self).__init__()\n",
    "        self.pre_trained = nn.Sequential(   \n",
    "            *list(vgg_model.features.children()) # vgg_model의 features에 있는 모든 레이어 (children)들을 차례로 가져와서 붙여줍니다.\n",
    "        ) # 128 x 512 x 1 x 1\n",
    "        self.mlp = nn.Sequential(  # 기존에는 이미지넷에 학습되어있기 때문에, 이를 cifar-10 데이터셋용으로 바꿔줄 필요가 있습니다. \n",
    "            nn.Linear(512, 512),   # 따라서 1000이 아닌 10가지의 클래스만을 대상으로 하는 linear 레이어를 새로 쌓고 학습시켜주는부분입니다.\n",
    "            nn.ReLU(),\n",
    "            nn.Linear(512, 128),\n",
    "            nn.ReLU(),\n",
    "            nn.Linear(128, 10),\n",
    "        )\n",
    "    def forward(self, x):\n",
    "        out = self.pre_trained(x) # 128x512x1x1\n",
    "        out = out.squeeze()\n",
    "        out = self.mlp(out)\n",
    "        return out"
   ]
  },
  {
   "cell_type": "code",
   "execution_count": 71,
   "metadata": {
    "colab": {
     "base_uri": "https://localhost:8080/",
     "height": 34
    },
    "colab_type": "code",
    "executionInfo": {
     "elapsed": 882,
     "status": "ok",
     "timestamp": 1562085998736,
     "user": {
      "displayName": "Wonwoong Cho",
      "photoUrl": "",
      "userId": "14212918309461362604"
     },
     "user_tz": -540
    },
    "id": "y6tyTU-3yGHz",
    "outputId": "6bb8bcc5-3c26-4113-993e-192d3afb470a"
   },
   "outputs": [
    {
     "name": "stdout",
     "output_type": "stream",
     "text": [
      "[info] number of model parameter - 20365002\n"
     ]
    }
   ],
   "source": [
    "cifar_net = DiyCNN(vgg_model).to(device)\n",
    "criterion = nn.CrossEntropyLoss() # Loss Function을 정의 합니다. 여기서는 cross entrophy loss 를 사용합니다. \n",
    "optimizer = optim.Adam(cifar_net.parameters(), lr=lr) # optimizer는 이와 같이 training 할 Parameter와 learning rate를 인자로 줍니다. \n",
    "\n",
    "print('[info] number of model parameter - %d'%(count_parameters(cifar_net))) # 방금 구성한 모형의 파라미터 개수를 프린트 해봅니다."
   ]
  },
  {
   "cell_type": "code",
   "execution_count": 72,
   "metadata": {
    "colab": {
     "base_uri": "https://localhost:8080/",
     "height": 85
    },
    "colab_type": "code",
    "executionInfo": {
     "elapsed": 35994,
     "status": "ok",
     "timestamp": 1562086034425,
     "user": {
      "displayName": "Wonwoong Cho",
      "photoUrl": "",
      "userId": "14212918309461362604"
     },
     "user_tz": -540
    },
    "id": "Pro0ncYIyJLg",
    "outputId": "5add51ec-0588-4493-d3ae-29b08a9684cf"
   },
   "outputs": [
    {
     "name": "stdout",
     "output_type": "stream",
     "text": [
      "[1,   100] loss: 0.825\n",
      "[1,   200] loss: 0.542\n",
      "[1,   300] loss: 0.541\n",
      "Finished Training\n"
     ]
    }
   ],
   "source": [
    "train_network(cifar_net,optimizer,trainloader, epochs=1)"
   ]
  },
  {
   "cell_type": "code",
   "execution_count": 73,
   "metadata": {
    "colab": {
     "base_uri": "https://localhost:8080/",
     "height": 68
    },
    "colab_type": "code",
    "executionInfo": {
     "elapsed": 35702,
     "status": "ok",
     "timestamp": 1562086037163,
     "user": {
      "displayName": "Wonwoong Cho",
      "photoUrl": "",
      "userId": "14212918309461362604"
     },
     "user_tz": -540
    },
    "id": "Cp7hPPEjyLX6",
    "outputId": "67d1a29a-3dc1-4407-c827-332395402684"
   },
   "outputs": [
    {
     "name": "stdout",
     "output_type": "stream",
     "text": [
      "\n",
      "Test set:  Accuracy: 8359/10000 (84%)\n",
      "\n"
     ]
    }
   ],
   "source": [
    "test(cifar_net,testloader)"
   ]
  }
 ],
 "metadata": {
  "accelerator": "GPU",
  "colab": {
   "collapsed_sections": [],
   "name": "CNN_실습_(문제).ipynb",
   "provenance": [],
   "version": "0.3.2"
  },
  "kernelspec": {
   "display_name": "Python 3",
   "language": "python",
   "name": "python3"
  },
  "language_info": {
   "codemirror_mode": {
    "name": "ipython",
    "version": 3
   },
   "file_extension": ".py",
   "mimetype": "text/x-python",
   "name": "python",
   "nbconvert_exporter": "python",
   "pygments_lexer": "ipython3",
   "version": "3.7.3"
  }
 },
 "nbformat": 4,
 "nbformat_minor": 1
}

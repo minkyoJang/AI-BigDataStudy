{
 "cells": [
  {
   "cell_type": "markdown",
   "metadata": {},
   "source": [
    "## ORM을 사용하는 이유는 객체 지향 언어에서 관계형 데이터베이스를 객체형으로 사용하려.\n",
    "## ORM이 중간에서 객체형을 관계형으로 전환해주는 역할을 한다."
   ]
  },
  {
   "cell_type": "markdown",
   "metadata": {},
   "source": [
    "engine은 데이터베이스 서버와의 연결을 제공해준다."
   ]
  },
  {
   "cell_type": "code",
   "execution_count": 1,
   "metadata": {},
   "outputs": [],
   "source": [
    "from sqlalchemy import create_engine"
   ]
  },
  {
   "cell_type": "markdown",
   "metadata": {},
   "source": [
    "### connecting\n",
    "- Lazy connecting이다."
   ]
  },
  {
   "cell_type": "code",
   "execution_count": 2,
   "metadata": {},
   "outputs": [],
   "source": [
    "engine = create_engine(\"sqlite:///studyomr1.db\")"
   ]
  },
  {
   "cell_type": "code",
   "execution_count": 3,
   "metadata": {},
   "outputs": [],
   "source": [
    "engine.echo = True"
   ]
  },
  {
   "cell_type": "code",
   "execution_count": 4,
   "metadata": {},
   "outputs": [
    {
     "name": "stdout",
     "output_type": "stream",
     "text": [
      "Engine(sqlite:///studyomr1.db)\n"
     ]
    }
   ],
   "source": [
    "print(engine)"
   ]
  },
  {
   "cell_type": "markdown",
   "metadata": {},
   "source": [
    "### Create"
   ]
  },
  {
   "cell_type": "markdown",
   "metadata": {},
   "source": [
    "#### Table"
   ]
  },
  {
   "cell_type": "code",
   "execution_count": 6,
   "metadata": {},
   "outputs": [],
   "source": [
    "from sqlalchemy.schema import Table"
   ]
  },
  {
   "cell_type": "markdown",
   "metadata": {},
   "source": [
    "#### Column"
   ]
  },
  {
   "cell_type": "code",
   "execution_count": 7,
   "metadata": {},
   "outputs": [],
   "source": [
    "from sqlalchemy.schema import Column"
   ]
  },
  {
   "cell_type": "markdown",
   "metadata": {},
   "source": [
    "#### MetaData"
   ]
  },
  {
   "cell_type": "code",
   "execution_count": 8,
   "metadata": {},
   "outputs": [],
   "source": [
    "from sqlalchemy.schema import MetaData"
   ]
  },
  {
   "cell_type": "markdown",
   "metadata": {},
   "source": [
    "#### 예제"
   ]
  },
  {
   "cell_type": "code",
   "execution_count": 10,
   "metadata": {},
   "outputs": [],
   "source": [
    "from sqlalchemy import Table, Column, Integer, String, MetaData, ForeignKey "
   ]
  },
  {
   "cell_type": "markdown",
   "metadata": {},
   "source": [
    "### *  MetaData 생성"
   ]
  },
  {
   "cell_type": "code",
   "execution_count": 11,
   "metadata": {},
   "outputs": [],
   "source": [
    "metadata = MetaData()"
   ]
  },
  {
   "cell_type": "markdown",
   "metadata": {},
   "source": [
    "## Table 생성\n",
    "- Table('테이블명', 메타데이타, Columns)\n",
    "- metadata에 생성"
   ]
  },
  {
   "cell_type": "code",
   "execution_count": 12,
   "metadata": {},
   "outputs": [],
   "source": [
    "users = Table('users', metadata,\n",
    "             Column('id', Integer, primary_key=True),\n",
    "              Column('name', String),\n",
    "              Column('fullname', String),\n",
    "             )"
   ]
  },
  {
   "cell_type": "code",
   "execution_count": 13,
   "metadata": {},
   "outputs": [],
   "source": [
    "addresses = Table('addresses', metadata,\n",
    "                 Column('id', Integer, primary_key = True),\n",
    "                  Column('user_id', None, ForeignKey('users.id')),\n",
    "                  Column('email_address', String, nullable=False)\n",
    "                 )"
   ]
  },
  {
   "cell_type": "markdown",
   "metadata": {},
   "source": [
    "## metadata에 생성한 것을 엔진을 통해 데이터베이스에 저장한다."
   ]
  },
  {
   "cell_type": "code",
   "execution_count": 14,
   "metadata": {},
   "outputs": [
    {
     "name": "stdout",
     "output_type": "stream",
     "text": [
      "2019-07-09 19:32:28,889 INFO sqlalchemy.engine.base.Engine SELECT CAST('test plain returns' AS VARCHAR(60)) AS anon_1\n",
      "2019-07-09 19:32:28,891 INFO sqlalchemy.engine.base.Engine ()\n",
      "2019-07-09 19:32:28,894 INFO sqlalchemy.engine.base.Engine SELECT CAST('test unicode returns' AS VARCHAR(60)) AS anon_1\n",
      "2019-07-09 19:32:28,895 INFO sqlalchemy.engine.base.Engine ()\n",
      "2019-07-09 19:32:28,898 INFO sqlalchemy.engine.base.Engine PRAGMA table_info(\"users\")\n",
      "2019-07-09 19:32:28,899 INFO sqlalchemy.engine.base.Engine ()\n",
      "2019-07-09 19:32:28,902 INFO sqlalchemy.engine.base.Engine PRAGMA table_info(\"addresses\")\n",
      "2019-07-09 19:32:28,903 INFO sqlalchemy.engine.base.Engine ()\n",
      "2019-07-09 19:32:28,905 INFO sqlalchemy.engine.base.Engine \n",
      "CREATE TABLE users (\n",
      "\tid INTEGER NOT NULL, \n",
      "\tname VARCHAR, \n",
      "\tfullname VARCHAR, \n",
      "\tPRIMARY KEY (id)\n",
      ")\n",
      "\n",
      "\n",
      "2019-07-09 19:32:28,907 INFO sqlalchemy.engine.base.Engine ()\n",
      "2019-07-09 19:32:28,970 INFO sqlalchemy.engine.base.Engine COMMIT\n",
      "2019-07-09 19:32:28,973 INFO sqlalchemy.engine.base.Engine \n",
      "CREATE TABLE addresses (\n",
      "\tid INTEGER NOT NULL, \n",
      "\tuser_id INTEGER, \n",
      "\temail_address VARCHAR NOT NULL, \n",
      "\tPRIMARY KEY (id), \n",
      "\tFOREIGN KEY(user_id) REFERENCES users (id)\n",
      ")\n",
      "\n",
      "\n",
      "2019-07-09 19:32:28,974 INFO sqlalchemy.engine.base.Engine ()\n",
      "2019-07-09 19:32:29,016 INFO sqlalchemy.engine.base.Engine COMMIT\n"
     ]
    }
   ],
   "source": [
    "metadata.create_all(engine)"
   ]
  },
  {
   "cell_type": "markdown",
   "metadata": {},
   "source": [
    "## Insert"
   ]
  },
  {
   "cell_type": "markdown",
   "metadata": {},
   "source": [
    "### insert\n",
    "- insert(values=None, inline=False, \\*\\*kwargs)"
   ]
  },
  {
   "cell_type": "markdown",
   "metadata": {},
   "source": [
    "### compile\n",
    "- compile(bind=None, dialect=None, \\*\\*kw)\n",
    "- sql 표현식을 컴파일시킨다.\n",
    "#### *  리턴값은 컴파일된 객체이다.\n",
    "- params를 이용하여 컴파일된 객체의 파라미터 이름과 값을 받아올 수 있다."
   ]
  },
  {
   "cell_type": "markdown",
   "metadata": {},
   "source": [
    "#### 예제"
   ]
  },
  {
   "cell_type": "markdown",
   "metadata": {},
   "source": [
    "users table의 insert객체"
   ]
  },
  {
   "cell_type": "code",
   "execution_count": 24,
   "metadata": {},
   "outputs": [],
   "source": [
    "insert = users.insert()"
   ]
  },
  {
   "cell_type": "code",
   "execution_count": 25,
   "metadata": {},
   "outputs": [
    {
     "data": {
      "text/plain": [
       "sqlalchemy.sql.dml.Insert"
      ]
     },
     "execution_count": 25,
     "metadata": {},
     "output_type": "execute_result"
    }
   ],
   "source": [
    "type(insert)"
   ]
  },
  {
   "cell_type": "code",
   "execution_count": 26,
   "metadata": {},
   "outputs": [
    {
     "name": "stdout",
     "output_type": "stream",
     "text": [
      "INSERT INTO users (id, name, fullname) VALUES (:id, :name, :fullname)\n"
     ]
    }
   ],
   "source": [
    "print(insert)"
   ]
  },
  {
   "cell_type": "code",
   "execution_count": 27,
   "metadata": {},
   "outputs": [
    {
     "name": "stdout",
     "output_type": "stream",
     "text": [
      "INSERT INTO users (name, fullname) VALUES (:name, :fullname)\n"
     ]
    }
   ],
   "source": [
    "insert = users.insert().values(name='kim', fullname='Anonymou, Kim ')\n",
    "print(insert)"
   ]
  },
  {
   "cell_type": "code",
   "execution_count": 28,
   "metadata": {},
   "outputs": [
    {
     "data": {
      "text/plain": [
       "{'name': 'kim', 'fullname': 'Anonymou, Kim '}"
      ]
     },
     "execution_count": 28,
     "metadata": {},
     "output_type": "execute_result"
    }
   ],
   "source": [
    "insert.compile().params"
   ]
  },
  {
   "cell_type": "markdown",
   "metadata": {},
   "source": [
    "# Executing"
   ]
  },
  {
   "cell_type": "markdown",
   "metadata": {},
   "source": [
    "## Connection"
   ]
  },
  {
   "cell_type": "code",
   "execution_count": 30,
   "metadata": {},
   "outputs": [],
   "source": [
    "from sqlalchemy.engine import Connection"
   ]
  },
  {
   "cell_type": "markdown",
   "metadata": {},
   "source": [
    "## execute\n",
    "- execute(object, \\*multiparams, \\*\\*params)\n",
    "- SQL문을 생성하고 ResultProxy를 반환한다"
   ]
  },
  {
   "cell_type": "markdown",
   "metadata": {},
   "source": [
    "## ResultProxy"
   ]
  },
  {
   "cell_type": "code",
   "execution_count": 31,
   "metadata": {},
   "outputs": [],
   "source": [
    "from sqlalchemy.engine import ResultProxy"
   ]
  },
  {
   "cell_type": "markdown",
   "metadata": {},
   "source": [
    "### 예제"
   ]
  },
  {
   "cell_type": "code",
   "execution_count": 32,
   "metadata": {},
   "outputs": [],
   "source": [
    "conn = engine.connect()"
   ]
  },
  {
   "cell_type": "code",
   "execution_count": 33,
   "metadata": {},
   "outputs": [
    {
     "data": {
      "text/plain": [
       "<sqlalchemy.engine.base.Connection at 0x23f0735fa58>"
      ]
     },
     "execution_count": 33,
     "metadata": {},
     "output_type": "execute_result"
    }
   ],
   "source": [
    "conn"
   ]
  },
  {
   "cell_type": "markdown",
   "metadata": {},
   "source": [
    "### engine과 sql문을 바인딩하여야 데이터베이스로 전송할수 있다."
   ]
  },
  {
   "cell_type": "code",
   "execution_count": 35,
   "metadata": {},
   "outputs": [],
   "source": [
    "insert.bind = engine"
   ]
  },
  {
   "cell_type": "code",
   "execution_count": 36,
   "metadata": {},
   "outputs": [
    {
     "data": {
      "text/plain": [
       "'INSERT INTO users (name, fullname) VALUES (?, ?)'"
      ]
     },
     "execution_count": 36,
     "metadata": {},
     "output_type": "execute_result"
    }
   ],
   "source": [
    "str(insert)"
   ]
  },
  {
   "cell_type": "markdown",
   "metadata": {},
   "source": [
    "### conn 연결 통로를 통하여 insert를 보내고 그 결과를 result에 담는다."
   ]
  },
  {
   "cell_type": "code",
   "execution_count": 39,
   "metadata": {},
   "outputs": [
    {
     "name": "stdout",
     "output_type": "stream",
     "text": [
      "2019-07-09 19:46:52,059 INFO sqlalchemy.engine.base.Engine INSERT INTO users (name, fullname) VALUES (?, ?)\n",
      "2019-07-09 19:46:52,060 INFO sqlalchemy.engine.base.Engine ('kim', 'Anonymou, Kim ')\n",
      "2019-07-09 19:46:52,066 INFO sqlalchemy.engine.base.Engine COMMIT\n"
     ]
    }
   ],
   "source": [
    "result = conn.execute(insert)"
   ]
  },
  {
   "cell_type": "code",
   "execution_count": 40,
   "metadata": {},
   "outputs": [
    {
     "data": {
      "text/plain": [
       "[1]"
      ]
     },
     "execution_count": 40,
     "metadata": {},
     "output_type": "execute_result"
    }
   ],
   "source": [
    "result.inserted_primary_key"
   ]
  },
  {
   "cell_type": "markdown",
   "metadata": {},
   "source": [
    "#### execute의 params를 사용하는 예"
   ]
  },
  {
   "cell_type": "code",
   "execution_count": 41,
   "metadata": {},
   "outputs": [],
   "source": [
    "insert = users.insert()"
   ]
  },
  {
   "cell_type": "code",
   "execution_count": 42,
   "metadata": {},
   "outputs": [
    {
     "name": "stdout",
     "output_type": "stream",
     "text": [
      "2019-07-09 19:49:21,104 INFO sqlalchemy.engine.base.Engine INSERT INTO users (name, fullname) VALUES (?, ?)\n",
      "2019-07-09 19:49:21,105 INFO sqlalchemy.engine.base.Engine ('lee', 'Unknown, Lee')\n",
      "2019-07-09 19:49:21,110 INFO sqlalchemy.engine.base.Engine COMMIT\n"
     ]
    }
   ],
   "source": [
    "result = conn.execute(insert, name=\"lee\", fullname=\"Unknown, Lee\")"
   ]
  },
  {
   "cell_type": "markdown",
   "metadata": {},
   "source": [
    "#### 결과의 primary_key값을 알려준다."
   ]
  },
  {
   "cell_type": "code",
   "execution_count": 43,
   "metadata": {
    "scrolled": true
   },
   "outputs": [
    {
     "data": {
      "text/plain": [
       "[2]"
      ]
     },
     "execution_count": 43,
     "metadata": {},
     "output_type": "execute_result"
    }
   ],
   "source": [
    "result.inserted_primary_key"
   ]
  },
  {
   "cell_type": "markdown",
   "metadata": {},
   "source": [
    "#### executemany()처럼 사용하고싶다면 다음과 같이 사용하면 된다. multiparams에 list 속 dict형태로 전송하면 된다."
   ]
  },
  {
   "cell_type": "markdown",
   "metadata": {},
   "source": [
    "## * addresses에 튜플 추가"
   ]
  },
  {
   "cell_type": "code",
   "execution_count": 44,
   "metadata": {},
   "outputs": [
    {
     "name": "stdout",
     "output_type": "stream",
     "text": [
      "2019-07-09 19:55:09,314 INFO sqlalchemy.engine.base.Engine INSERT INTO addresses (user_id, email_address) VALUES (?, ?)\n",
      "2019-07-09 19:55:09,315 INFO sqlalchemy.engine.base.Engine ((1, 'anonymous.kim@test.com'), (2, 'unknown.lee@test.com'))\n",
      "2019-07-09 19:55:09,321 INFO sqlalchemy.engine.base.Engine COMMIT\n"
     ]
    },
    {
     "data": {
      "text/plain": [
       "<sqlalchemy.engine.result.ResultProxy at 0x23f067393c8>"
      ]
     },
     "execution_count": 44,
     "metadata": {},
     "output_type": "execute_result"
    }
   ],
   "source": [
    "conn.execute(addresses.insert(),[\n",
    "    {'user_id':1, 'email_address':'anonymous.kim@test.com'},\n",
    "    {'user_id':2, 'email_address':'unknown.lee@test.com'}\n",
    "])"
   ]
  },
  {
   "cell_type": "markdown",
   "metadata": {},
   "source": [
    "# select"
   ]
  },
  {
   "cell_type": "markdown",
   "metadata": {},
   "source": [
    "## select"
   ]
  },
  {
   "cell_type": "code",
   "execution_count": 52,
   "metadata": {},
   "outputs": [],
   "source": [
    "from sqlalchemy.sql import select"
   ]
  },
  {
   "cell_type": "markdown",
   "metadata": {},
   "source": [
    "### 예제"
   ]
  },
  {
   "cell_type": "code",
   "execution_count": 45,
   "metadata": {},
   "outputs": [],
   "source": [
    "query = select([users])"
   ]
  },
  {
   "cell_type": "code",
   "execution_count": 46,
   "metadata": {},
   "outputs": [
    {
     "name": "stdout",
     "output_type": "stream",
     "text": [
      "SELECT users.id, users.name, users.fullname \n",
      "FROM users\n"
     ]
    }
   ],
   "source": [
    "print(query)"
   ]
  },
  {
   "cell_type": "code",
   "execution_count": 47,
   "metadata": {},
   "outputs": [
    {
     "name": "stdout",
     "output_type": "stream",
     "text": [
      "2019-07-09 19:56:29,408 INFO sqlalchemy.engine.base.Engine SELECT users.id, users.name, users.fullname \n",
      "FROM users\n",
      "2019-07-09 19:56:29,409 INFO sqlalchemy.engine.base.Engine ()\n"
     ]
    }
   ],
   "source": [
    "result = conn.execute(query)"
   ]
  },
  {
   "cell_type": "code",
   "execution_count": 48,
   "metadata": {},
   "outputs": [
    {
     "name": "stdout",
     "output_type": "stream",
     "text": [
      "(1, 'kim', 'Anonymou, Kim ')\n",
      "(2, 'lee', 'Unknown, Lee')\n"
     ]
    }
   ],
   "source": [
    "for row in result:\n",
    "    print(row)"
   ]
  },
  {
   "cell_type": "code",
   "execution_count": 49,
   "metadata": {},
   "outputs": [
    {
     "name": "stdout",
     "output_type": "stream",
     "text": [
      "2019-07-09 19:57:06,156 INFO sqlalchemy.engine.base.Engine SELECT users.name, users.fullname \n",
      "FROM users\n",
      "2019-07-09 19:57:06,158 INFO sqlalchemy.engine.base.Engine ()\n"
     ]
    }
   ],
   "source": [
    "result = conn.execute(select([users.c.name, users.c.fullname]))"
   ]
  },
  {
   "cell_type": "code",
   "execution_count": 51,
   "metadata": {},
   "outputs": [
    {
     "name": "stdout",
     "output_type": "stream",
     "text": [
      "('kim', 'Anonymou, Kim ')\n",
      "('lee', 'Unknown, Lee')\n"
     ]
    }
   ],
   "source": [
    "for row in result:\n",
    "    print(row)"
   ]
  },
  {
   "cell_type": "markdown",
   "metadata": {},
   "source": [
    "# ResultProxy"
   ]
  },
  {
   "cell_type": "markdown",
   "metadata": {},
   "source": [
    "### - fetchone()\n",
    "    - Fetch one row(한 튜플을 받아온다.)\n",
    "### - fetchall()\n",
    "    - Fetch all rows(모든 튜플을 받아온다.)"
   ]
  },
  {
   "cell_type": "markdown",
   "metadata": {},
   "source": [
    "### 예제 - fetchone()"
   ]
  },
  {
   "cell_type": "code",
   "execution_count": 53,
   "metadata": {},
   "outputs": [
    {
     "name": "stdout",
     "output_type": "stream",
     "text": [
      "2019-07-09 20:07:07,577 INFO sqlalchemy.engine.base.Engine SELECT users.id, users.name, users.fullname \n",
      "FROM users\n",
      "2019-07-09 20:07:07,579 INFO sqlalchemy.engine.base.Engine ()\n"
     ]
    }
   ],
   "source": [
    "result = conn.execute(query)"
   ]
  },
  {
   "cell_type": "code",
   "execution_count": 54,
   "metadata": {},
   "outputs": [],
   "source": [
    "row = result.fetchone()"
   ]
  },
  {
   "cell_type": "code",
   "execution_count": 55,
   "metadata": {},
   "outputs": [
    {
     "name": "stdout",
     "output_type": "stream",
     "text": [
      "(1, 'kim', 'Anonymou, Kim ')\n"
     ]
    }
   ],
   "source": [
    "print(row)"
   ]
  },
  {
   "cell_type": "code",
   "execution_count": 57,
   "metadata": {},
   "outputs": [
    {
     "name": "stdout",
     "output_type": "stream",
     "text": [
      "id -  1 , name -  kim , fullname - Anonymou, Kim \n"
     ]
    }
   ],
   "source": [
    "print(\"id - \", row['id'], \", name - \", row['name'], \", fullname -\", row['fullname'])"
   ]
  },
  {
   "cell_type": "code",
   "execution_count": 59,
   "metadata": {},
   "outputs": [],
   "source": [
    "row = result.fetchone()"
   ]
  },
  {
   "cell_type": "code",
   "execution_count": 60,
   "metadata": {},
   "outputs": [
    {
     "name": "stdout",
     "output_type": "stream",
     "text": [
      "id -  2 , name -  lee , fullname - Unknown, Lee\n"
     ]
    }
   ],
   "source": [
    "print(\"id - \", row['id'], \", name - \", row['name'], \", fullname -\", row['fullname'])"
   ]
  },
  {
   "cell_type": "markdown",
   "metadata": {},
   "source": [
    "### 예제- fetchall()"
   ]
  },
  {
   "cell_type": "code",
   "execution_count": 61,
   "metadata": {},
   "outputs": [
    {
     "name": "stdout",
     "output_type": "stream",
     "text": [
      "2019-07-09 20:09:18,914 INFO sqlalchemy.engine.base.Engine SELECT users.id, users.name, users.fullname \n",
      "FROM users\n",
      "2019-07-09 20:09:18,916 INFO sqlalchemy.engine.base.Engine ()\n"
     ]
    }
   ],
   "source": [
    "result = conn.execute(query)"
   ]
  },
  {
   "cell_type": "code",
   "execution_count": 62,
   "metadata": {},
   "outputs": [],
   "source": [
    "rows = result.fetchall()"
   ]
  },
  {
   "cell_type": "code",
   "execution_count": 63,
   "metadata": {},
   "outputs": [
    {
     "data": {
      "text/plain": [
       "[(1, 'kim', 'Anonymou, Kim '), (2, 'lee', 'Unknown, Lee')]"
      ]
     },
     "execution_count": 63,
     "metadata": {},
     "output_type": "execute_result"
    }
   ],
   "source": [
    "rows"
   ]
  },
  {
   "cell_type": "code",
   "execution_count": 64,
   "metadata": {},
   "outputs": [
    {
     "name": "stdout",
     "output_type": "stream",
     "text": [
      "id -  1 , name -  kim , fullname - Anonymou, Kim \n",
      "id -  2 , name -  lee , fullname - Unknown, Lee\n"
     ]
    }
   ],
   "source": [
    "for row in rows:\n",
    "    print(\"id - \", row['id'], \", name - \", row['name'], \", fullname -\", row['fullname'])"
   ]
  },
  {
   "cell_type": "code",
   "execution_count": 65,
   "metadata": {},
   "outputs": [],
   "source": [
    "result.close()"
   ]
  },
  {
   "cell_type": "code",
   "execution_count": 67,
   "metadata": {},
   "outputs": [
    {
     "data": {
      "text/plain": [
       "sqlalchemy.engine.result.ResultProxy"
      ]
     },
     "execution_count": 67,
     "metadata": {},
     "output_type": "execute_result"
    }
   ],
   "source": [
    "type(result)"
   ]
  },
  {
   "cell_type": "markdown",
   "metadata": {},
   "source": [
    "### 활용 예제"
   ]
  },
  {
   "cell_type": "code",
   "execution_count": 69,
   "metadata": {},
   "outputs": [],
   "source": [
    "from sqlalchemy import and_, or_, not_"
   ]
  },
  {
   "cell_type": "markdown",
   "metadata": {},
   "source": [
    "#### 조건식으로 사용"
   ]
  },
  {
   "cell_type": "code",
   "execution_count": 70,
   "metadata": {},
   "outputs": [
    {
     "name": "stdout",
     "output_type": "stream",
     "text": [
      "users.id = addresses.user_id\n"
     ]
    }
   ],
   "source": [
    "print(users.c.id == addresses.c.user_id)"
   ]
  },
  {
   "cell_type": "code",
   "execution_count": 71,
   "metadata": {},
   "outputs": [
    {
     "name": "stdout",
     "output_type": "stream",
     "text": [
      "users.id = :id_1\n"
     ]
    }
   ],
   "source": [
    "print(users.c.id == 1)"
   ]
  },
  {
   "cell_type": "code",
   "execution_count": 72,
   "metadata": {},
   "outputs": [
    {
     "name": "stdout",
     "output_type": "stream",
     "text": [
      "{'id_1': 1}\n"
     ]
    }
   ],
   "source": [
    "print((users.c.id == 1).compile().params)"
   ]
  },
  {
   "cell_type": "code",
   "execution_count": 73,
   "metadata": {},
   "outputs": [
    {
     "name": "stdout",
     "output_type": "stream",
     "text": [
      "users.id = addresses.user_id OR users.id = :id_1\n"
     ]
    }
   ],
   "source": [
    "print(or_(users.c.id == addresses.c.user_id, users.c.id==1))"
   ]
  },
  {
   "cell_type": "code",
   "execution_count": 74,
   "metadata": {},
   "outputs": [
    {
     "name": "stdout",
     "output_type": "stream",
     "text": [
      "users.id = addresses.user_id AND users.id = :id_1\n"
     ]
    }
   ],
   "source": [
    "print(and_(users.c.id == addresses.c.user_id, users.c.id == 1))"
   ]
  },
  {
   "cell_type": "code",
   "execution_count": 75,
   "metadata": {},
   "outputs": [
    {
     "name": "stdout",
     "output_type": "stream",
     "text": [
      "(users.id = addresses.user_id OR users.id = :id_1) AND addresses.email_address LIKE :email_address_1\n"
     ]
    }
   ],
   "source": [
    "print(and_(\n",
    "        or_(\n",
    "            users.c.id == addresses.c.user_id,\n",
    "            users.c.id == 1\n",
    "        ),\n",
    "    addresses.c.email_address.like(\"a%\")\n",
    "    )\n",
    ")"
   ]
  },
  {
   "cell_type": "code",
   "execution_count": 76,
   "metadata": {},
   "outputs": [
    {
     "name": "stdout",
     "output_type": "stream",
     "text": [
      "(users.id = addresses.user_id OR users.id = :id_1) AND addresses.email_address LIKE :email_address_1\n"
     ]
    }
   ],
   "source": [
    "print((\n",
    "    (users.c.id == addresses.c.user_id) |\n",
    "    (users.c.id == 1)\n",
    ") & (addresses.c.email_address.like(\"a%\")))"
   ]
  },
  {
   "cell_type": "markdown",
   "metadata": {},
   "source": [
    "# selecting"
   ]
  },
  {
   "cell_type": "markdown",
   "metadata": {},
   "source": [
    "## 예제"
   ]
  },
  {
   "cell_type": "code",
   "execution_count": 77,
   "metadata": {},
   "outputs": [
    {
     "name": "stdout",
     "output_type": "stream",
     "text": [
      "2019-07-09 20:16:45,560 INFO sqlalchemy.engine.base.Engine SELECT users.id, users.name, users.fullname \n",
      "FROM users \n",
      "WHERE users.id = ?\n",
      "2019-07-09 20:16:45,562 INFO sqlalchemy.engine.base.Engine (1,)\n"
     ]
    }
   ],
   "source": [
    "result = conn.execute(select([users]).where(users.c.id==1))"
   ]
  },
  {
   "cell_type": "code",
   "execution_count": 78,
   "metadata": {},
   "outputs": [
    {
     "name": "stdout",
     "output_type": "stream",
     "text": [
      "(1, 'kim', 'Anonymou, Kim ')\n"
     ]
    }
   ],
   "source": [
    "for row in result:\n",
    "    print(row)"
   ]
  },
  {
   "cell_type": "code",
   "execution_count": 79,
   "metadata": {},
   "outputs": [
    {
     "name": "stdout",
     "output_type": "stream",
     "text": [
      "2019-07-09 20:17:32,364 INFO sqlalchemy.engine.base.Engine SELECT users.id, users.name, users.fullname, addresses.id, addresses.user_id, addresses.email_address \n",
      "FROM users, addresses \n",
      "WHERE users.id = addresses.user_id\n",
      "2019-07-09 20:17:32,366 INFO sqlalchemy.engine.base.Engine ()\n"
     ]
    }
   ],
   "source": [
    "result = conn.execute(select([users, addresses]).where(users.c.id == addresses.c.user_id))"
   ]
  },
  {
   "cell_type": "code",
   "execution_count": 80,
   "metadata": {},
   "outputs": [
    {
     "name": "stdout",
     "output_type": "stream",
     "text": [
      "(1, 'kim', 'Anonymou, Kim ', 1, 1, 'anonymous.kim@test.com')\n",
      "(2, 'lee', 'Unknown, Lee', 2, 2, 'unknown.lee@test.com')\n"
     ]
    }
   ],
   "source": [
    "for row in result:\n",
    "    print(row)"
   ]
  },
  {
   "cell_type": "markdown",
   "metadata": {},
   "source": [
    "## cross join"
   ]
  },
  {
   "cell_type": "code",
   "execution_count": 81,
   "metadata": {},
   "outputs": [
    {
     "name": "stdout",
     "output_type": "stream",
     "text": [
      "2019-07-09 20:19:13,876 INFO sqlalchemy.engine.base.Engine SELECT users.id, users.fullname, addresses.email_address \n",
      "FROM users, addresses \n",
      "WHERE users.id = addresses.user_id AND addresses.email_address LIKE ?\n",
      "2019-07-09 20:19:13,878 INFO sqlalchemy.engine.base.Engine ('un%',)\n"
     ]
    }
   ],
   "source": [
    "result = conn.execute(select([users.c.id, users.c.fullname, addresses.c.email_address])\n",
    "                     .where(users.c.id==addresses.c.user_id)\n",
    "                     .where(addresses.c.email_address.like('un%')))"
   ]
  },
  {
   "cell_type": "code",
   "execution_count": 82,
   "metadata": {},
   "outputs": [
    {
     "name": "stdout",
     "output_type": "stream",
     "text": [
      "(2, 'Unknown, Lee', 'unknown.lee@test.com')\n"
     ]
    }
   ],
   "source": [
    "for row in result:\n",
    "    print(row)"
   ]
  },
  {
   "cell_type": "markdown",
   "metadata": {},
   "source": [
    "# Join"
   ]
  },
  {
   "cell_type": "markdown",
   "metadata": {},
   "source": [
    "join(right, onclause=None, isouter=False, full=False)"
   ]
  },
  {
   "cell_type": "markdown",
   "metadata": {},
   "source": [
    "### 예제"
   ]
  },
  {
   "cell_type": "code",
   "execution_count": 83,
   "metadata": {},
   "outputs": [],
   "source": [
    "from sqlalchemy import join"
   ]
  },
  {
   "cell_type": "markdown",
   "metadata": {},
   "source": [
    "### join하면 자동으로 foreignkey를 확인해서 연결해준다"
   ]
  },
  {
   "cell_type": "code",
   "execution_count": 84,
   "metadata": {
    "scrolled": true
   },
   "outputs": [
    {
     "name": "stdout",
     "output_type": "stream",
     "text": [
      "users JOIN addresses ON users.id = addresses.user_id\n"
     ]
    }
   ],
   "source": [
    "print(users.join(addresses))"
   ]
  },
  {
   "cell_type": "code",
   "execution_count": 85,
   "metadata": {},
   "outputs": [
    {
     "name": "stdout",
     "output_type": "stream",
     "text": [
      "users JOIN addresses ON users.id = addresses.user_id\n"
     ]
    }
   ],
   "source": [
    "print(users.join(addresses, users.c.id == addresses.c.user_id))"
   ]
  },
  {
   "cell_type": "code",
   "execution_count": 87,
   "metadata": {},
   "outputs": [],
   "source": [
    "query = select([users.c.id, users.c.fullname, addresses.c.email_address])\\\n",
    ".select_from(users.join(addresses))"
   ]
  },
  {
   "cell_type": "code",
   "execution_count": 89,
   "metadata": {},
   "outputs": [
    {
     "name": "stdout",
     "output_type": "stream",
     "text": [
      "2019-07-09 20:23:14,959 INFO sqlalchemy.engine.base.Engine SELECT users.id, users.fullname, addresses.email_address \n",
      "FROM users JOIN addresses ON users.id = addresses.user_id\n",
      "2019-07-09 20:23:14,961 INFO sqlalchemy.engine.base.Engine ()\n"
     ]
    }
   ],
   "source": [
    "result = conn.execute(query).fetchall()"
   ]
  },
  {
   "cell_type": "code",
   "execution_count": 90,
   "metadata": {},
   "outputs": [
    {
     "name": "stdout",
     "output_type": "stream",
     "text": [
      "(1, 'Anonymou, Kim ', 'anonymous.kim@test.com')\n",
      "(2, 'Unknown, Lee', 'unknown.lee@test.com')\n"
     ]
    }
   ],
   "source": [
    "for row in result:\n",
    "    print(row)"
   ]
  },
  {
   "cell_type": "code",
   "execution_count": 91,
   "metadata": {},
   "outputs": [],
   "source": [
    "artist = Table(\"Artist\", metadata,\n",
    "              Column(\"id\", Integer, primary_key=True),\n",
    "              Column(\"name\", String, nullable=False),\n",
    "              extend_existing=True)"
   ]
  },
  {
   "cell_type": "code",
   "execution_count": 92,
   "metadata": {},
   "outputs": [],
   "source": [
    "album = Table(\"Album\", metadata,\n",
    "             Column(\"id\", Integer, primary_key=True),\n",
    "             Column(\"title\", String, nullable =False),\n",
    "             Column(\"artist_id\", Integer, ForeignKey(\"Artist.id\")),\n",
    "             extend_existing=True)"
   ]
  },
  {
   "cell_type": "code",
   "execution_count": 99,
   "metadata": {},
   "outputs": [],
   "source": [
    "genre = Table(\"Genre\", metadata,\n",
    "             Column(\"id\", Integer, primary_key = True),\n",
    "             Column(\"name\", String, nullable=False),\n",
    "             extend_existing=True)"
   ]
  },
  {
   "cell_type": "code",
   "execution_count": 93,
   "metadata": {},
   "outputs": [],
   "source": [
    "track = Table(\"Track\", metadata,\n",
    "             Column(\"id\", Integer, primary_key = True),\n",
    "             Column(\"title\", String, nullable=False),\n",
    "             Column(\"length\", Integer, nullable=False),\n",
    "             Column(\"rating\", Integer, nullable=False),\n",
    "              Column(\"count\", Integer, nullable=False),\n",
    "              Column(\"album_id\", Integer, ForeignKey(\"Album.id\")),\n",
    "              Column(\"genre_id\", Integer, ForeignKey(\"Genre.id\")),\n",
    "              extend_existing=True)"
   ]
  },
  {
   "cell_type": "code",
   "execution_count": 100,
   "metadata": {},
   "outputs": [
    {
     "name": "stdout",
     "output_type": "stream",
     "text": [
      "2019-07-09 20:30:45,862 INFO sqlalchemy.engine.base.Engine PRAGMA table_info(\"users\")\n",
      "2019-07-09 20:30:45,865 INFO sqlalchemy.engine.base.Engine ()\n",
      "2019-07-09 20:30:45,869 INFO sqlalchemy.engine.base.Engine PRAGMA table_info(\"addresses\")\n",
      "2019-07-09 20:30:45,870 INFO sqlalchemy.engine.base.Engine ()\n",
      "2019-07-09 20:30:45,873 INFO sqlalchemy.engine.base.Engine PRAGMA table_info(\"Artist\")\n",
      "2019-07-09 20:30:45,875 INFO sqlalchemy.engine.base.Engine ()\n",
      "2019-07-09 20:30:45,877 INFO sqlalchemy.engine.base.Engine PRAGMA table_info(\"Album\")\n",
      "2019-07-09 20:30:45,879 INFO sqlalchemy.engine.base.Engine ()\n",
      "2019-07-09 20:30:45,881 INFO sqlalchemy.engine.base.Engine PRAGMA table_info(\"Track\")\n",
      "2019-07-09 20:30:45,883 INFO sqlalchemy.engine.base.Engine ()\n",
      "2019-07-09 20:30:45,885 INFO sqlalchemy.engine.base.Engine PRAGMA table_info(\"Genre\")\n",
      "2019-07-09 20:30:45,886 INFO sqlalchemy.engine.base.Engine ()\n",
      "2019-07-09 20:30:45,889 INFO sqlalchemy.engine.base.Engine \n",
      "CREATE TABLE \"Artist\" (\n",
      "\tid INTEGER NOT NULL, \n",
      "\tname VARCHAR NOT NULL, \n",
      "\tPRIMARY KEY (id)\n",
      ")\n",
      "\n",
      "\n",
      "2019-07-09 20:30:45,891 INFO sqlalchemy.engine.base.Engine ()\n",
      "2019-07-09 20:30:45,939 INFO sqlalchemy.engine.base.Engine COMMIT\n",
      "2019-07-09 20:30:45,942 INFO sqlalchemy.engine.base.Engine \n",
      "CREATE TABLE \"Genre\" (\n",
      "\tid INTEGER NOT NULL, \n",
      "\tname VARCHAR NOT NULL, \n",
      "\tPRIMARY KEY (id)\n",
      ")\n",
      "\n",
      "\n",
      "2019-07-09 20:30:45,944 INFO sqlalchemy.engine.base.Engine ()\n",
      "2019-07-09 20:30:45,975 INFO sqlalchemy.engine.base.Engine COMMIT\n",
      "2019-07-09 20:30:45,978 INFO sqlalchemy.engine.base.Engine \n",
      "CREATE TABLE \"Album\" (\n",
      "\tid INTEGER NOT NULL, \n",
      "\ttitle VARCHAR NOT NULL, \n",
      "\tartist_id INTEGER, \n",
      "\tPRIMARY KEY (id), \n",
      "\tFOREIGN KEY(artist_id) REFERENCES \"Artist\" (id)\n",
      ")\n",
      "\n",
      "\n",
      "2019-07-09 20:30:45,980 INFO sqlalchemy.engine.base.Engine ()\n",
      "2019-07-09 20:30:46,020 INFO sqlalchemy.engine.base.Engine COMMIT\n",
      "2019-07-09 20:30:46,024 INFO sqlalchemy.engine.base.Engine \n",
      "CREATE TABLE \"Track\" (\n",
      "\tid INTEGER NOT NULL, \n",
      "\ttitle VARCHAR NOT NULL, \n",
      "\tlength INTEGER NOT NULL, \n",
      "\trating INTEGER NOT NULL, \n",
      "\tcount INTEGER NOT NULL, \n",
      "\talbum_id INTEGER, \n",
      "\tgenre_id INTEGER, \n",
      "\tPRIMARY KEY (id), \n",
      "\tFOREIGN KEY(album_id) REFERENCES \"Album\" (id), \n",
      "\tFOREIGN KEY(genre_id) REFERENCES \"Genre\" (id)\n",
      ")\n",
      "\n",
      "\n",
      "2019-07-09 20:30:46,026 INFO sqlalchemy.engine.base.Engine ()\n",
      "2019-07-09 20:30:46,058 INFO sqlalchemy.engine.base.Engine COMMIT\n"
     ]
    }
   ],
   "source": [
    "metadata.create_all(engine)"
   ]
  },
  {
   "cell_type": "code",
   "execution_count": 101,
   "metadata": {},
   "outputs": [],
   "source": [
    "tables = metadata.tables"
   ]
  },
  {
   "cell_type": "markdown",
   "metadata": {},
   "source": [
    "#### metadata에 있는 테이블들"
   ]
  },
  {
   "cell_type": "code",
   "execution_count": 102,
   "metadata": {},
   "outputs": [
    {
     "name": "stdout",
     "output_type": "stream",
     "text": [
      "users\n",
      "addresses\n",
      "Artist\n",
      "Album\n",
      "Track\n",
      "Genre\n"
     ]
    }
   ],
   "source": [
    "for table in tables:\n",
    "    print(table)"
   ]
  },
  {
   "cell_type": "markdown",
   "metadata": {},
   "source": [
    "#### db에 있는 테이블들"
   ]
  },
  {
   "cell_type": "code",
   "execution_count": 103,
   "metadata": {},
   "outputs": [
    {
     "name": "stdout",
     "output_type": "stream",
     "text": [
      "2019-07-09 20:30:54,339 INFO sqlalchemy.engine.base.Engine SELECT name FROM sqlite_master WHERE type='table' ORDER BY name\n",
      "2019-07-09 20:30:54,341 INFO sqlalchemy.engine.base.Engine ()\n",
      "Album\n",
      "Artist\n",
      "Genre\n",
      "Track\n",
      "addresses\n",
      "users\n"
     ]
    }
   ],
   "source": [
    "for table in engine.table_names():\n",
    "    print(table)"
   ]
  },
  {
   "cell_type": "markdown",
   "metadata": {},
   "source": [
    "#### Insert"
   ]
  },
  {
   "cell_type": "code",
   "execution_count": 104,
   "metadata": {},
   "outputs": [
    {
     "name": "stdout",
     "output_type": "stream",
     "text": [
      "2019-07-09 20:31:41,245 INFO sqlalchemy.engine.base.Engine INSERT INTO \"Artist\" (name) VALUES (?)\n",
      "2019-07-09 20:31:41,247 INFO sqlalchemy.engine.base.Engine (('Led Zepplin',), ('AC/DC',))\n",
      "2019-07-09 20:31:41,253 INFO sqlalchemy.engine.base.Engine COMMIT\n"
     ]
    },
    {
     "data": {
      "text/plain": [
       "<sqlalchemy.engine.result.ResultProxy at 0x23f06e9c4a8>"
      ]
     },
     "execution_count": 104,
     "metadata": {},
     "output_type": "execute_result"
    }
   ],
   "source": [
    "conn.execute(artist.insert(), [\n",
    "    {\"name\":\"Led Zepplin\"},\n",
    "    {\"name\":\"AC/DC\"}\n",
    "])"
   ]
  },
  {
   "cell_type": "code",
   "execution_count": 105,
   "metadata": {},
   "outputs": [
    {
     "name": "stdout",
     "output_type": "stream",
     "text": [
      "2019-07-09 20:32:25,112 INFO sqlalchemy.engine.base.Engine INSERT INTO \"Album\" (title, artist_id) VALUES (?, ?)\n",
      "2019-07-09 20:32:25,114 INFO sqlalchemy.engine.base.Engine (('IV', 1), ('Who Made Who', 2))\n",
      "2019-07-09 20:32:25,118 INFO sqlalchemy.engine.base.Engine COMMIT\n"
     ]
    },
    {
     "data": {
      "text/plain": [
       "<sqlalchemy.engine.result.ResultProxy at 0x23f04b0f470>"
      ]
     },
     "execution_count": 105,
     "metadata": {},
     "output_type": "execute_result"
    }
   ],
   "source": [
    "conn.execute(album.insert(),[\n",
    "    {\"title\":\"IV\", \"artist_id\":1},\n",
    "    {\"title\":\"Who Made Who\", \"artist_id\":2}\n",
    "])"
   ]
  },
  {
   "cell_type": "code",
   "execution_count": 106,
   "metadata": {},
   "outputs": [
    {
     "name": "stdout",
     "output_type": "stream",
     "text": [
      "2019-07-09 20:32:47,655 INFO sqlalchemy.engine.base.Engine INSERT INTO \"Genre\" (name) VALUES (?)\n",
      "2019-07-09 20:32:47,657 INFO sqlalchemy.engine.base.Engine (('Rock',), ('Metal',))\n",
      "2019-07-09 20:32:47,661 INFO sqlalchemy.engine.base.Engine COMMIT\n"
     ]
    },
    {
     "data": {
      "text/plain": [
       "<sqlalchemy.engine.result.ResultProxy at 0x23f0673c8d0>"
      ]
     },
     "execution_count": 106,
     "metadata": {},
     "output_type": "execute_result"
    }
   ],
   "source": [
    "conn.execute(genre.insert(),[\n",
    "    {\"name\":\"Rock\"},\n",
    "    {\"name\":\"Metal\"}\n",
    "])"
   ]
  },
  {
   "cell_type": "code",
   "execution_count": 107,
   "metadata": {},
   "outputs": [
    {
     "name": "stdout",
     "output_type": "stream",
     "text": [
      "2019-07-09 20:35:00,716 INFO sqlalchemy.engine.base.Engine INSERT INTO \"Track\" (title, length, rating, count, album_id, genre_id) VALUES (?, ?, ?, ?, ?, ?)\n",
      "2019-07-09 20:35:00,717 INFO sqlalchemy.engine.base.Engine (('Black Dog', 297, 5, 0, 1, 1), ('Stairway', 482, 5, 0, 1, 1), ('About to rock', 313, 5, 0, 2, 1), ('Who Made Who', 297, 5, 0, 2, 1))\n",
      "2019-07-09 20:35:00,737 INFO sqlalchemy.engine.base.Engine COMMIT\n"
     ]
    },
    {
     "data": {
      "text/plain": [
       "<sqlalchemy.engine.result.ResultProxy at 0x23f06f06f98>"
      ]
     },
     "execution_count": 107,
     "metadata": {},
     "output_type": "execute_result"
    }
   ],
   "source": [
    "conn.execute(track.insert(),[\n",
    "    {\"title\":\"Black Dog\", \"rating\":5, \"length\":297, \"count\":0, \"album_id\":1, \"genre_id\":1},\n",
    "    {\"title\":\"Stairway\", \"rating\":5, \"length\":482, \"count\":0, \"album_id\":1, \"genre_id\":1},\n",
    "    {\"title\":\"About to rock\", \"rating\":5, \"length\":313, \"count\":0, \"album_id\":2, \"genre_id\":1},\n",
    "    {\"title\":\"Who Made Who\", \"rating\":5, \"length\":297, \"count\":0, \"album_id\":2, \"genre_id\":1},\n",
    "])"
   ]
  },
  {
   "cell_type": "markdown",
   "metadata": {},
   "source": [
    "### select"
   ]
  },
  {
   "cell_type": "code",
   "execution_count": 108,
   "metadata": {},
   "outputs": [
    {
     "name": "stdout",
     "output_type": "stream",
     "text": [
      "2019-07-09 20:35:48,748 INFO sqlalchemy.engine.base.Engine SELECT \"Artist\".id, \"Artist\".name \n",
      "FROM \"Artist\"\n",
      "2019-07-09 20:35:48,750 INFO sqlalchemy.engine.base.Engine ()\n",
      "(1, 'Led Zepplin')\n",
      "(2, 'AC/DC')\n"
     ]
    }
   ],
   "source": [
    "artistResult = conn.execute(artist.select())\n",
    "for row in artistResult:\n",
    "    print(row)"
   ]
  },
  {
   "cell_type": "code",
   "execution_count": 109,
   "metadata": {},
   "outputs": [
    {
     "name": "stdout",
     "output_type": "stream",
     "text": [
      "2019-07-09 20:36:07,838 INFO sqlalchemy.engine.base.Engine SELECT \"Album\".id, \"Album\".title, \"Album\".artist_id \n",
      "FROM \"Album\"\n",
      "2019-07-09 20:36:07,840 INFO sqlalchemy.engine.base.Engine ()\n",
      "(1, 'IV', 1)\n",
      "(2, 'Who Made Who', 2)\n"
     ]
    }
   ],
   "source": [
    "albumResult = conn.execute(album.select())\n",
    "for row in albumResult:\n",
    "    print(row)"
   ]
  },
  {
   "cell_type": "code",
   "execution_count": 110,
   "metadata": {},
   "outputs": [
    {
     "name": "stdout",
     "output_type": "stream",
     "text": [
      "2019-07-09 20:36:28,591 INFO sqlalchemy.engine.base.Engine SELECT \"Genre\".id, \"Genre\".name \n",
      "FROM \"Genre\"\n",
      "2019-07-09 20:36:28,593 INFO sqlalchemy.engine.base.Engine ()\n",
      "(1, 'Rock')\n",
      "(2, 'Metal')\n"
     ]
    }
   ],
   "source": [
    "genreResult = conn.execute(genre.select())\n",
    "for row in genreResult:\n",
    "    print(row)"
   ]
  },
  {
   "cell_type": "code",
   "execution_count": 112,
   "metadata": {},
   "outputs": [
    {
     "name": "stdout",
     "output_type": "stream",
     "text": [
      "2019-07-09 20:36:56,933 INFO sqlalchemy.engine.base.Engine SELECT \"Track\".id, \"Track\".title, \"Track\".length, \"Track\".rating, \"Track\".count, \"Track\".album_id, \"Track\".genre_id \n",
      "FROM \"Track\"\n",
      "2019-07-09 20:36:56,935 INFO sqlalchemy.engine.base.Engine ()\n",
      "(1, 'Black Dog', 297, 5, 0, 1, 1)\n",
      "(2, 'Stairway', 482, 5, 0, 1, 1)\n",
      "(3, 'About to rock', 313, 5, 0, 2, 1)\n",
      "(4, 'Who Made Who', 297, 5, 0, 2, 1)\n"
     ]
    }
   ],
   "source": [
    "trackResult = conn.execute(track.select())\n",
    "for row in trackResult:\n",
    "    print(row)"
   ]
  },
  {
   "cell_type": "markdown",
   "metadata": {},
   "source": [
    "### Where"
   ]
  },
  {
   "cell_type": "code",
   "execution_count": 113,
   "metadata": {},
   "outputs": [
    {
     "name": "stdout",
     "output_type": "stream",
     "text": [
      "2019-07-09 20:38:03,698 INFO sqlalchemy.engine.base.Engine SELECT \"Track\".id, \"Track\".title, \"Track\".length, \"Track\".rating, \"Track\".count, \"Track\".album_id, \"Track\".genre_id \n",
      "FROM \"Track\" \n",
      "WHERE \"Track\".album_id = ? AND \"Track\".genre_id = ?\n",
      "2019-07-09 20:38:03,699 INFO sqlalchemy.engine.base.Engine (1, 1)\n"
     ]
    }
   ],
   "source": [
    "trackResult = conn.execute(select([track])\n",
    "                           .where(\n",
    "                           and_(track.c.album_id==1, track.c.genre_id == 1)))"
   ]
  },
  {
   "cell_type": "code",
   "execution_count": 114,
   "metadata": {},
   "outputs": [
    {
     "name": "stdout",
     "output_type": "stream",
     "text": [
      "(1, 'Black Dog', 297, 5, 0, 1, 1)\n",
      "(2, 'Stairway', 482, 5, 0, 1, 1)\n"
     ]
    }
   ],
   "source": [
    "for row in trackResult:\n",
    "    print(row)"
   ]
  },
  {
   "cell_type": "markdown",
   "metadata": {},
   "source": [
    "### Update"
   ]
  },
  {
   "cell_type": "code",
   "execution_count": 115,
   "metadata": {},
   "outputs": [],
   "source": [
    "from sqlalchemy import update"
   ]
  },
  {
   "cell_type": "code",
   "execution_count": 116,
   "metadata": {},
   "outputs": [
    {
     "name": "stdout",
     "output_type": "stream",
     "text": [
      "2019-07-09 20:39:29,780 INFO sqlalchemy.engine.base.Engine UPDATE \"Track\" SET genre_id=? WHERE \"Track\".id = ?\n",
      "2019-07-09 20:39:29,781 INFO sqlalchemy.engine.base.Engine (2, 2)\n",
      "2019-07-09 20:39:29,786 INFO sqlalchemy.engine.base.Engine COMMIT\n"
     ]
    },
    {
     "data": {
      "text/plain": [
       "<sqlalchemy.engine.result.ResultProxy at 0x23f06f067b8>"
      ]
     },
     "execution_count": 116,
     "metadata": {},
     "output_type": "execute_result"
    }
   ],
   "source": [
    "conn.execute(track.update().values(genre_id = 2).where(track.c.id==2))"
   ]
  },
  {
   "cell_type": "code",
   "execution_count": 117,
   "metadata": {},
   "outputs": [
    {
     "name": "stdout",
     "output_type": "stream",
     "text": [
      "2019-07-09 20:40:32,659 INFO sqlalchemy.engine.base.Engine UPDATE \"Track\" SET genre_id=? WHERE \"Track\".id = ?\n",
      "2019-07-09 20:40:32,661 INFO sqlalchemy.engine.base.Engine (1, 3)\n",
      "2019-07-09 20:40:32,664 INFO sqlalchemy.engine.base.Engine COMMIT\n"
     ]
    },
    {
     "data": {
      "text/plain": [
       "<sqlalchemy.engine.result.ResultProxy at 0x23f05268dd8>"
      ]
     },
     "execution_count": 117,
     "metadata": {},
     "output_type": "execute_result"
    }
   ],
   "source": [
    "conn.execute(track.update().values(genre_id = 1).where(track.c.id==3))"
   ]
  },
  {
   "cell_type": "markdown",
   "metadata": {},
   "source": [
    "### Where"
   ]
  },
  {
   "cell_type": "code",
   "execution_count": 118,
   "metadata": {},
   "outputs": [
    {
     "name": "stdout",
     "output_type": "stream",
     "text": [
      "2019-07-09 20:41:53,062 INFO sqlalchemy.engine.base.Engine SELECT \"Track\".id, \"Track\".title, \"Track\".length, \"Track\".rating, \"Track\".count, \"Track\".album_id, \"Track\".genre_id \n",
      "FROM \"Track\" \n",
      "WHERE \"Track\".album_id = ? AND (\"Track\".genre_id = ? OR \"Track\".genre_id = ?)\n",
      "2019-07-09 20:41:53,063 INFO sqlalchemy.engine.base.Engine (1, 1, 2)\n"
     ]
    }
   ],
   "source": [
    "trackResult = conn.execute(select([track])\n",
    "                          .where(\n",
    "                              and_(track.c.album_id == 1,\n",
    "                                  or_(track.c.genre_id ==1,\n",
    "                                     track.c.genre_id ==2))\n",
    "                          ))"
   ]
  },
  {
   "cell_type": "code",
   "execution_count": 119,
   "metadata": {},
   "outputs": [
    {
     "name": "stdout",
     "output_type": "stream",
     "text": [
      "(1, 'Black Dog', 297, 5, 0, 1, 1)\n",
      "(2, 'Stairway', 482, 5, 0, 1, 2)\n"
     ]
    }
   ],
   "source": [
    "for row in trackResult:\n",
    "    print(row)"
   ]
  },
  {
   "cell_type": "markdown",
   "metadata": {},
   "source": [
    "### Join"
   ]
  },
  {
   "cell_type": "code",
   "execution_count": 120,
   "metadata": {},
   "outputs": [
    {
     "name": "stdout",
     "output_type": "stream",
     "text": [
      "\"Track\" JOIN \"Album\" ON \"Album\".id = \"Track\".album_id\n"
     ]
    }
   ],
   "source": [
    "print(track.join(album))"
   ]
  },
  {
   "cell_type": "code",
   "execution_count": 124,
   "metadata": {},
   "outputs": [
    {
     "name": "stdout",
     "output_type": "stream",
     "text": [
      "2019-07-09 20:43:09,764 INFO sqlalchemy.engine.base.Engine SELECT \"Track\".id, \"Track\".title, \"Track\".length, \"Track\".rating, \"Track\".count, \"Track\".album_id, \"Track\".genre_id \n",
      "FROM \"Track\" JOIN \"Album\" ON \"Album\".id = \"Track\".album_id\n",
      "2019-07-09 20:43:09,766 INFO sqlalchemy.engine.base.Engine ()\n"
     ]
    }
   ],
   "source": [
    "result = conn.execute(track.select().select_from(track.join(album)))"
   ]
  },
  {
   "cell_type": "code",
   "execution_count": 125,
   "metadata": {},
   "outputs": [
    {
     "name": "stdout",
     "output_type": "stream",
     "text": [
      "(1, 'Black Dog', 297, 5, 0, 1, 1)\n",
      "(2, 'Stairway', 482, 5, 0, 1, 2)\n",
      "(3, 'About to rock', 313, 5, 0, 2, 1)\n",
      "(4, 'Who Made Who', 297, 5, 0, 2, 1)\n"
     ]
    }
   ],
   "source": [
    "for row in result.fetchall():\n",
    "    print(row)"
   ]
  },
  {
   "cell_type": "code",
   "execution_count": 126,
   "metadata": {},
   "outputs": [
    {
     "name": "stdout",
     "output_type": "stream",
     "text": [
      "2019-07-09 20:43:50,436 INFO sqlalchemy.engine.base.Engine SELECT \"Track\".id, \"Track\".title, \"Track\".length, \"Track\".rating, \"Track\".count, \"Track\".album_id, \"Track\".genre_id \n",
      "FROM \"Track\" JOIN \"Album\" ON \"Album\".id = \"Track\".album_id \n",
      "WHERE \"Album\".id = ?\n",
      "2019-07-09 20:43:50,438 INFO sqlalchemy.engine.base.Engine (1,)\n"
     ]
    }
   ],
   "source": [
    "result = conn.execute(track\n",
    "                     .select()\n",
    "                     .select_from(track.join(album))\n",
    "                     .where(album.c.id==1))"
   ]
  },
  {
   "cell_type": "code",
   "execution_count": 127,
   "metadata": {},
   "outputs": [
    {
     "name": "stdout",
     "output_type": "stream",
     "text": [
      "(1, 'Black Dog', 297, 5, 0, 1, 1)\n",
      "(2, 'Stairway', 482, 5, 0, 1, 2)\n"
     ]
    }
   ],
   "source": [
    "for row in result.fetchall():\n",
    "    print(row)"
   ]
  },
  {
   "cell_type": "markdown",
   "metadata": {},
   "source": [
    "# Multiple Join"
   ]
  },
  {
   "cell_type": "code",
   "execution_count": 128,
   "metadata": {},
   "outputs": [
    {
     "name": "stdout",
     "output_type": "stream",
     "text": [
      "\"Track\" JOIN \"Album\" ON \"Album\".id = \"Track\".album_id\n"
     ]
    }
   ],
   "source": [
    "print(track.join(album))"
   ]
  },
  {
   "cell_type": "code",
   "execution_count": 129,
   "metadata": {},
   "outputs": [
    {
     "name": "stdout",
     "output_type": "stream",
     "text": [
      "\"Track\" JOIN \"Album\" ON \"Album\".id = \"Track\".album_id JOIN \"Genre\" ON \"Genre\".id = \"Track\".genre_id\n"
     ]
    }
   ],
   "source": [
    "print(track.join(album).join(genre))"
   ]
  },
  {
   "cell_type": "code",
   "execution_count": 131,
   "metadata": {},
   "outputs": [
    {
     "name": "stdout",
     "output_type": "stream",
     "text": [
      "\"Track\" JOIN \"Album\" ON \"Album\".id = \"Track\".album_id JOIN \"Artist\" ON \"Artist\".id = \"Album\".artist_id\n"
     ]
    }
   ],
   "source": [
    "print(track.join(album).join(artist))"
   ]
  },
  {
   "cell_type": "code",
   "execution_count": 132,
   "metadata": {},
   "outputs": [
    {
     "name": "stdout",
     "output_type": "stream",
     "text": [
      "\"Track\" JOIN \"Album\" ON \"Album\".id = \"Track\".album_id JOIN \"Genre\" ON \"Genre\".id = \"Track\".genre_id JOIN \"Artist\" ON \"Artist\".id = \"Album\".artist_id\n"
     ]
    }
   ],
   "source": [
    "print(track.join(album).join(genre).join(artist))"
   ]
  },
  {
   "cell_type": "code",
   "execution_count": 133,
   "metadata": {},
   "outputs": [
    {
     "name": "stdout",
     "output_type": "stream",
     "text": [
      "2019-07-09 20:46:43,257 INFO sqlalchemy.engine.base.Engine SELECT \"Track\".title, \"Album\".title, \"Genre\".name, \"Artist\".name \n",
      "FROM \"Track\" JOIN \"Album\" ON \"Album\".id = \"Track\".album_id JOIN \"Genre\" ON \"Genre\".id = \"Track\".genre_id JOIN \"Artist\" ON \"Artist\".id = \"Album\".artist_id\n",
      "2019-07-09 20:46:43,260 INFO sqlalchemy.engine.base.Engine ()\n"
     ]
    }
   ],
   "source": [
    "result = conn.execute(select([track.c.title, album.c.title, genre.c.name, artist.c.name])\n",
    "                     .select_from(track.join(album).join(genre).join(artist)))"
   ]
  },
  {
   "cell_type": "code",
   "execution_count": 134,
   "metadata": {},
   "outputs": [
    {
     "name": "stdout",
     "output_type": "stream",
     "text": [
      "('Black Dog', 'IV', 'Rock', 'Led Zepplin')\n",
      "('Stairway', 'IV', 'Metal', 'Led Zepplin')\n",
      "('About to rock', 'Who Made Who', 'Rock', 'AC/DC')\n",
      "('Who Made Who', 'Who Made Who', 'Rock', 'AC/DC')\n"
     ]
    }
   ],
   "source": [
    "for row in result.fetchall():\n",
    "    print(row)"
   ]
  },
  {
   "cell_type": "code",
   "execution_count": 135,
   "metadata": {},
   "outputs": [
    {
     "name": "stdout",
     "output_type": "stream",
     "text": [
      "2019-07-09 20:48:03,493 INFO sqlalchemy.engine.base.Engine SELECT \"Track\".id, \"Track\".title, \"Track\".length, \"Track\".rating, \"Track\".count, \"Track\".album_id, \"Track\".genre_id \n",
      "FROM \"Track\" JOIN \"Album\" ON \"Album\".id = \"Track\".album_id JOIN \"Genre\" ON \"Genre\".id = \"Track\".genre_id JOIN \"Artist\" ON \"Artist\".id = \"Album\".artist_id \n",
      "WHERE \"Genre\".id = ? AND \"Artist\".id = ?\n",
      "2019-07-09 20:48:03,495 INFO sqlalchemy.engine.base.Engine (1, 1)\n"
     ]
    }
   ],
   "source": [
    "result = conn.execute(track\n",
    "                     .select()\n",
    "                     .select_from(track.join(album).join(genre).join(artist))\n",
    "                     .where(\n",
    "                         and_(genre.c.id==1,\n",
    "                             artist.c.id==1,\n",
    "                             )\n",
    "                     ))"
   ]
  },
  {
   "cell_type": "code",
   "execution_count": 136,
   "metadata": {},
   "outputs": [
    {
     "name": "stdout",
     "output_type": "stream",
     "text": [
      "(1, 'Black Dog', 297, 5, 0, 1, 1)\n"
     ]
    }
   ],
   "source": [
    "for row in result.fetchall():\n",
    "    print(row)"
   ]
  },
  {
   "cell_type": "markdown",
   "metadata": {},
   "source": [
    "### 연결 종료와 메타데이터 클리어"
   ]
  },
  {
   "cell_type": "code",
   "execution_count": 137,
   "metadata": {},
   "outputs": [],
   "source": [
    "conn.close()\n",
    "metadata.clear()"
   ]
  },
  {
   "cell_type": "markdown",
   "metadata": {},
   "source": [
    "## Declare"
   ]
  },
  {
   "cell_type": "markdown",
   "metadata": {},
   "source": [
    "## declarative_base"
   ]
  },
  {
   "cell_type": "code",
   "execution_count": 138,
   "metadata": {},
   "outputs": [],
   "source": [
    "from sqlalchemy.ext.declarative import declarative_base"
   ]
  },
  {
   "cell_type": "code",
   "execution_count": 139,
   "metadata": {},
   "outputs": [],
   "source": [
    "from sqlalchemy import create_engine"
   ]
  },
  {
   "cell_type": "code",
   "execution_count": 140,
   "metadata": {},
   "outputs": [],
   "source": [
    "engine = create_engine(\"sqlite:///sqlomr2.db\", echo=True)"
   ]
  },
  {
   "cell_type": "markdown",
   "metadata": {},
   "source": [
    "## 매핑하고 싶은 클래스에 상속시킨다."
   ]
  },
  {
   "cell_type": "code",
   "execution_count": 141,
   "metadata": {},
   "outputs": [],
   "source": [
    "base = declarative_base()"
   ]
  },
  {
   "cell_type": "code",
   "execution_count": 142,
   "metadata": {},
   "outputs": [],
   "source": [
    "class User(base):\n",
    "    __tablename__ = \"users\"\n",
    "    \n",
    "    id = Column(Integer, primary_key=True)\n",
    "    name = Column(String)\n",
    "    fullname= Column(String)\n",
    "    password = Column(\"passwd\", String)\n",
    "    \n",
    "    def __repr__(self):\n",
    "        return \"<T'User(name='%s', fullname='%s', password='%s')>\" % (self.name, self.fullname, self.password)"
   ]
  },
  {
   "cell_type": "code",
   "execution_count": 143,
   "metadata": {},
   "outputs": [
    {
     "data": {
      "text/plain": [
       "Table('users', MetaData(bind=None), Column('id', Integer(), table=<users>, primary_key=True, nullable=False), Column('name', String(), table=<users>), Column('fullname', String(), table=<users>), Column('passwd', String(), table=<users>), schema=None)"
      ]
     },
     "execution_count": 143,
     "metadata": {},
     "output_type": "execute_result"
    }
   ],
   "source": [
    "User.__table__"
   ]
  },
  {
   "cell_type": "code",
   "execution_count": 144,
   "metadata": {},
   "outputs": [
    {
     "name": "stdout",
     "output_type": "stream",
     "text": [
      "2019-07-09 20:57:23,497 INFO sqlalchemy.engine.base.Engine SELECT CAST('test plain returns' AS VARCHAR(60)) AS anon_1\n",
      "2019-07-09 20:57:23,500 INFO sqlalchemy.engine.base.Engine ()\n",
      "2019-07-09 20:57:23,502 INFO sqlalchemy.engine.base.Engine SELECT CAST('test unicode returns' AS VARCHAR(60)) AS anon_1\n",
      "2019-07-09 20:57:23,504 INFO sqlalchemy.engine.base.Engine ()\n",
      "2019-07-09 20:57:23,506 INFO sqlalchemy.engine.base.Engine PRAGMA table_info(\"users\")\n",
      "2019-07-09 20:57:23,507 INFO sqlalchemy.engine.base.Engine ()\n",
      "2019-07-09 20:57:23,510 INFO sqlalchemy.engine.base.Engine \n",
      "CREATE TABLE users (\n",
      "\tid INTEGER NOT NULL, \n",
      "\tname VARCHAR, \n",
      "\tfullname VARCHAR, \n",
      "\tpasswd VARCHAR, \n",
      "\tPRIMARY KEY (id)\n",
      ")\n",
      "\n",
      "\n",
      "2019-07-09 20:57:23,511 INFO sqlalchemy.engine.base.Engine ()\n",
      "2019-07-09 20:57:23,590 INFO sqlalchemy.engine.base.Engine COMMIT\n"
     ]
    }
   ],
   "source": [
    "base.metadata.create_all(engine)"
   ]
  },
  {
   "cell_type": "code",
   "execution_count": 145,
   "metadata": {},
   "outputs": [],
   "source": [
    "kim = User(name = \"kim\", fullname = \"anonymous, Kim\", password=\"kimbap nara\")"
   ]
  },
  {
   "cell_type": "code",
   "execution_count": 146,
   "metadata": {},
   "outputs": [
    {
     "name": "stdout",
     "output_type": "stream",
     "text": [
      "<T'User(name='kim', fullname='anonymous, Kim', password='kimbap nara')>\n"
     ]
    }
   ],
   "source": [
    "print(kim)"
   ]
  },
  {
   "cell_type": "code",
   "execution_count": 147,
   "metadata": {},
   "outputs": [
    {
     "name": "stdout",
     "output_type": "stream",
     "text": [
      "None\n"
     ]
    }
   ],
   "source": [
    "print(kim.id)"
   ]
  },
  {
   "cell_type": "markdown",
   "metadata": {},
   "source": [
    "# Session"
   ]
  },
  {
   "cell_type": "markdown",
   "metadata": {},
   "source": [
    "## Session\n",
    "- 세션은 데이터베이스와의 모든 대화를 설정하고 모든 개체를 나타냅니다.\n",
    "- ORM으로 매핑 된 객체에 대한 지속성 작업을 관리합니다."
   ]
  },
  {
   "cell_type": "code",
   "execution_count": 148,
   "metadata": {},
   "outputs": [],
   "source": [
    "from sqlalchemy.orm.session import sessionmaker"
   ]
  },
  {
   "cell_type": "code",
   "execution_count": 149,
   "metadata": {},
   "outputs": [],
   "source": [
    "Session = sessionmaker(bind=engine)"
   ]
  },
  {
   "cell_type": "code",
   "execution_count": 150,
   "metadata": {},
   "outputs": [],
   "source": [
    "session = Session()"
   ]
  },
  {
   "cell_type": "markdown",
   "metadata": {},
   "source": [
    "# Insert"
   ]
  },
  {
   "cell_type": "markdown",
   "metadata": {},
   "source": [
    "## add"
   ]
  },
  {
   "cell_type": "markdown",
   "metadata": {},
   "source": [
    "### Pending된다. commit까지 기다림"
   ]
  },
  {
   "cell_type": "code",
   "execution_count": 151,
   "metadata": {},
   "outputs": [],
   "source": [
    "session.add(kim)"
   ]
  },
  {
   "cell_type": "code",
   "execution_count": 152,
   "metadata": {},
   "outputs": [],
   "source": [
    "session.add_all([\n",
    "    User(name=\"lee\", fullname=\"unknown, Lee\", password=\"hello\"),\n",
    "    User(name=\"park\", fullname=\"nobody, Park\", password = \"pass Park\")\n",
    "])"
   ]
  },
  {
   "cell_type": "markdown",
   "metadata": {},
   "source": [
    "# Update"
   ]
  },
  {
   "cell_type": "markdown",
   "metadata": {},
   "source": [
    "## dirty\n",
    "- 삭제가 아닌 수정을 할 때 사용한다."
   ]
  },
  {
   "cell_type": "code",
   "execution_count": 158,
   "metadata": {},
   "outputs": [
    {
     "data": {
      "text/plain": [
       "IdentitySet([<T'User(name='kim', fullname='anonymous, Kim', password='all')>])"
      ]
     },
     "execution_count": 158,
     "metadata": {},
     "output_type": "execute_result"
    }
   ],
   "source": [
    "kim.password = \"all\"\n",
    "\n",
    "session.dirty"
   ]
  },
  {
   "cell_type": "code",
   "execution_count": 159,
   "metadata": {},
   "outputs": [
    {
     "data": {
      "text/plain": [
       "True"
      ]
     },
     "execution_count": 159,
     "metadata": {},
     "output_type": "execute_result"
    }
   ],
   "source": [
    "session.is_modified(kim)"
   ]
  },
  {
   "cell_type": "code",
   "execution_count": 160,
   "metadata": {},
   "outputs": [
    {
     "name": "stdout",
     "output_type": "stream",
     "text": [
      "2019-07-09 21:07:10,797 INFO sqlalchemy.engine.base.Engine UPDATE users SET passwd=? WHERE users.id = ?\n",
      "2019-07-09 21:07:10,799 INFO sqlalchemy.engine.base.Engine ('all', 1)\n",
      "2019-07-09 21:07:10,808 INFO sqlalchemy.engine.base.Engine COMMIT\n"
     ]
    }
   ],
   "source": [
    "session.commit()"
   ]
  },
  {
   "cell_type": "markdown",
   "metadata": {},
   "source": [
    "# Select\n",
    "- query"
   ]
  },
  {
   "cell_type": "code",
   "execution_count": 161,
   "metadata": {},
   "outputs": [],
   "source": [
    "from sqlalchemy.orm import Query"
   ]
  },
  {
   "cell_type": "code",
   "execution_count": 162,
   "metadata": {},
   "outputs": [
    {
     "name": "stdout",
     "output_type": "stream",
     "text": [
      "2019-07-09 21:08:31,075 INFO sqlalchemy.engine.base.Engine BEGIN (implicit)\n",
      "2019-07-09 21:08:31,078 INFO sqlalchemy.engine.base.Engine SELECT users.passwd AS users_passwd, users.id AS users_id, users.name AS users_name, users.fullname AS users_fullname \n",
      "FROM users\n",
      "2019-07-09 21:08:31,079 INFO sqlalchemy.engine.base.Engine ()\n",
      "<class '__main__.User'>\n",
      "1 kim anonymous, Kim all\n",
      "<class '__main__.User'>\n",
      "2 lee unknown, Lee hello\n",
      "<class '__main__.User'>\n",
      "3 park nobody, Park pass Park\n"
     ]
    }
   ],
   "source": [
    "for row in session.query(User):\n",
    "    print(type(row))\n",
    "    print(row.id, row.name, row.fullname, row.password)"
   ]
  },
  {
   "cell_type": "code",
   "execution_count": 164,
   "metadata": {},
   "outputs": [
    {
     "data": {
      "text/plain": [
       "'SELECT users.passwd AS users_passwd, users.id AS users_id, users.name AS users_name, users.fullname AS users_fullname \\nFROM users'"
      ]
     },
     "execution_count": 164,
     "metadata": {},
     "output_type": "execute_result"
    }
   ],
   "source": [
    "str(session.query(User))"
   ]
  },
  {
   "cell_type": "markdown",
   "metadata": {},
   "source": [
    "### filter\n",
    "- 필터링에 사용\n",
    "- 파이썬 연산자로 계산한다.\n",
    "\n",
    "### filter_by\n",
    "- keyword 표현식으로 사용"
   ]
  },
  {
   "cell_type": "code",
   "execution_count": 165,
   "metadata": {},
   "outputs": [
    {
     "name": "stdout",
     "output_type": "stream",
     "text": [
      "2019-07-09 21:10:46,263 INFO sqlalchemy.engine.base.Engine SELECT users.id AS users_id, users.fullname AS users_fullname \n",
      "FROM users \n",
      "WHERE users.name = ?\n",
      "2019-07-09 21:10:46,264 INFO sqlalchemy.engine.base.Engine ('lee',)\n",
      "<class 'sqlalchemy.util._collections.result'>\n",
      "2 unknown, Lee\n"
     ]
    }
   ],
   "source": [
    "for row in session.query(User.id, User.fullname).filter(User.name == \"lee\"):\n",
    "    print(type(row))\n",
    "    print(row.id, row.fullname)"
   ]
  },
  {
   "cell_type": "code",
   "execution_count": 167,
   "metadata": {},
   "outputs": [
    {
     "name": "stdout",
     "output_type": "stream",
     "text": [
      "2019-07-09 21:11:52,143 INFO sqlalchemy.engine.base.Engine SELECT users.id AS users_id, users.fullname AS users_fullname \n",
      "FROM users \n",
      "WHERE users.name = ?\n",
      "2019-07-09 21:11:52,146 INFO sqlalchemy.engine.base.Engine ('lee',)\n",
      "<class 'sqlalchemy.util._collections.result'>\n",
      "2 unknown, Lee\n"
     ]
    }
   ],
   "source": [
    "for row in session.query(User.id, User.fullname).filter_by(name = 'lee'):\n",
    "    print(type(row))\n",
    "    print(row.id, row.fullname)"
   ]
  },
  {
   "cell_type": "code",
   "execution_count": 168,
   "metadata": {},
   "outputs": [],
   "source": [
    "class Artist(base):\n",
    "    __tablename__ = \"Artist\"\n",
    "    \n",
    "    id = Column(\"id\", Integer, primary_key=True)\n",
    "    name = Column(\"name\", String, nullable=False)"
   ]
  },
  {
   "cell_type": "code",
   "execution_count": 169,
   "metadata": {},
   "outputs": [],
   "source": [
    "class Album(base):\n",
    "    __tablename__ = \"Album\"\n",
    "    \n",
    "    id = Column(Integer, primary_key = True)\n",
    "    title = Column(String)\n",
    "    artist_id = Column(Integer, ForeignKey(\"Artist.id\"))\n",
    "    "
   ]
  },
  {
   "cell_type": "code",
   "execution_count": 170,
   "metadata": {},
   "outputs": [],
   "source": [
    "class Genre(base):\n",
    "    __tablename__ = \"Genre\"\n",
    "    \n",
    "    id = Column(Integer, primary_key = True)\n",
    "    name = Column(String)"
   ]
  },
  {
   "cell_type": "code",
   "execution_count": 171,
   "metadata": {},
   "outputs": [],
   "source": [
    "class Track(base):\n",
    "    __tablename__=\"Track\"\n",
    "    \n",
    "    id = Column(\"id\", Integer, primary_key = True)\n",
    "    title = Column(\"title\", String, nullable=False)\n",
    "    length = Column(\"length\", Integer, nullable=False)\n",
    "    rating = Column(\"rating\", Integer, nullable=False)\n",
    "    count = Column(\"count\", Integer, nullable=False)\n",
    "    album_id = Column(\"album_id\", Integer, ForeignKey(\"Album.id\"))\n",
    "    genre_id = Column(\"genre_id\", Integer, ForeignKey(\"Genre.id\"))"
   ]
  },
  {
   "cell_type": "code",
   "execution_count": 179,
   "metadata": {},
   "outputs": [
    {
     "name": "stdout",
     "output_type": "stream",
     "text": [
      "2019-07-09 21:19:26,336 INFO sqlalchemy.engine.base.Engine PRAGMA table_info(\"users\")\n",
      "2019-07-09 21:19:26,338 INFO sqlalchemy.engine.base.Engine ()\n",
      "2019-07-09 21:19:26,341 INFO sqlalchemy.engine.base.Engine PRAGMA table_info(\"Artist\")\n",
      "2019-07-09 21:19:26,344 INFO sqlalchemy.engine.base.Engine ()\n",
      "2019-07-09 21:19:26,346 INFO sqlalchemy.engine.base.Engine PRAGMA table_info(\"Album\")\n",
      "2019-07-09 21:19:26,347 INFO sqlalchemy.engine.base.Engine ()\n",
      "2019-07-09 21:19:26,348 INFO sqlalchemy.engine.base.Engine PRAGMA table_info(\"Genre\")\n",
      "2019-07-09 21:19:26,349 INFO sqlalchemy.engine.base.Engine ()\n",
      "2019-07-09 21:19:26,351 INFO sqlalchemy.engine.base.Engine PRAGMA table_info(\"Track\")\n",
      "2019-07-09 21:19:26,352 INFO sqlalchemy.engine.base.Engine ()\n",
      "2019-07-09 21:19:26,354 INFO sqlalchemy.engine.base.Engine \n",
      "CREATE TABLE \"Artist\" (\n",
      "\tid INTEGER NOT NULL, \n",
      "\tname VARCHAR NOT NULL, \n",
      "\tPRIMARY KEY (id)\n",
      ")\n",
      "\n",
      "\n",
      "2019-07-09 21:19:26,355 INFO sqlalchemy.engine.base.Engine ()\n",
      "2019-07-09 21:19:26,409 INFO sqlalchemy.engine.base.Engine COMMIT\n",
      "2019-07-09 21:19:26,411 INFO sqlalchemy.engine.base.Engine \n",
      "CREATE TABLE \"Genre\" (\n",
      "\tid INTEGER NOT NULL, \n",
      "\tname VARCHAR, \n",
      "\tPRIMARY KEY (id)\n",
      ")\n",
      "\n",
      "\n",
      "2019-07-09 21:19:26,412 INFO sqlalchemy.engine.base.Engine ()\n",
      "2019-07-09 21:19:26,441 INFO sqlalchemy.engine.base.Engine COMMIT\n",
      "2019-07-09 21:19:26,444 INFO sqlalchemy.engine.base.Engine \n",
      "CREATE TABLE \"Album\" (\n",
      "\tid INTEGER NOT NULL, \n",
      "\ttitle VARCHAR, \n",
      "\tartist_id INTEGER, \n",
      "\tPRIMARY KEY (id), \n",
      "\tFOREIGN KEY(artist_id) REFERENCES \"Artist\" (id)\n",
      ")\n",
      "\n",
      "\n",
      "2019-07-09 21:19:26,446 INFO sqlalchemy.engine.base.Engine ()\n",
      "2019-07-09 21:19:26,475 INFO sqlalchemy.engine.base.Engine COMMIT\n",
      "2019-07-09 21:19:26,478 INFO sqlalchemy.engine.base.Engine \n",
      "CREATE TABLE \"Track\" (\n",
      "\tid INTEGER NOT NULL, \n",
      "\ttitle VARCHAR NOT NULL, \n",
      "\tlength INTEGER NOT NULL, \n",
      "\trating INTEGER NOT NULL, \n",
      "\tcount INTEGER NOT NULL, \n",
      "\talbum_id INTEGER, \n",
      "\tgenre_id INTEGER, \n",
      "\tPRIMARY KEY (id), \n",
      "\tFOREIGN KEY(album_id) REFERENCES \"Album\" (id), \n",
      "\tFOREIGN KEY(genre_id) REFERENCES \"Genre\" (id)\n",
      ")\n",
      "\n",
      "\n",
      "2019-07-09 21:19:26,479 INFO sqlalchemy.engine.base.Engine ()\n",
      "2019-07-09 21:19:26,510 INFO sqlalchemy.engine.base.Engine COMMIT\n"
     ]
    }
   ],
   "source": [
    "base.metadata.create_all(engine)"
   ]
  },
  {
   "cell_type": "code",
   "execution_count": 183,
   "metadata": {},
   "outputs": [],
   "source": [
    "artist1 = Artist(name=\"Led Zepplin\")\n",
    "artist2 = Artist(name = \"AC/DC\")"
   ]
  },
  {
   "cell_type": "code",
   "execution_count": 184,
   "metadata": {},
   "outputs": [],
   "source": [
    "session.add_all([artist1, artist2])"
   ]
  },
  {
   "cell_type": "code",
   "execution_count": 185,
   "metadata": {},
   "outputs": [
    {
     "name": "stdout",
     "output_type": "stream",
     "text": [
      "2019-07-09 21:19:45,583 INFO sqlalchemy.engine.base.Engine BEGIN (implicit)\n",
      "2019-07-09 21:19:45,585 INFO sqlalchemy.engine.base.Engine INSERT INTO \"Artist\" (name) VALUES (?)\n",
      "2019-07-09 21:19:45,588 INFO sqlalchemy.engine.base.Engine ('Led Zepplin',)\n",
      "2019-07-09 21:19:45,596 INFO sqlalchemy.engine.base.Engine INSERT INTO \"Artist\" (name) VALUES (?)\n",
      "2019-07-09 21:19:45,598 INFO sqlalchemy.engine.base.Engine ('AC/DC',)\n",
      "2019-07-09 21:19:45,601 INFO sqlalchemy.engine.base.Engine COMMIT\n"
     ]
    }
   ],
   "source": [
    "session.commit()"
   ]
  },
  {
   "cell_type": "code",
   "execution_count": 186,
   "metadata": {},
   "outputs": [
    {
     "name": "stdout",
     "output_type": "stream",
     "text": [
      "2019-07-09 21:20:46,514 INFO sqlalchemy.engine.base.Engine BEGIN (implicit)\n",
      "2019-07-09 21:20:46,517 INFO sqlalchemy.engine.base.Engine SELECT \"Artist\".id AS \"Artist_id\", \"Artist\".name AS \"Artist_name\" \n",
      "FROM \"Artist\" \n",
      "WHERE \"Artist\".id = ?\n",
      "2019-07-09 21:20:46,518 INFO sqlalchemy.engine.base.Engine (1,)\n",
      "2019-07-09 21:20:46,523 INFO sqlalchemy.engine.base.Engine SELECT \"Artist\".id AS \"Artist_id\", \"Artist\".name AS \"Artist_name\" \n",
      "FROM \"Artist\" \n",
      "WHERE \"Artist\".id = ?\n",
      "2019-07-09 21:20:46,524 INFO sqlalchemy.engine.base.Engine (2,)\n"
     ]
    }
   ],
   "source": [
    "album = [Album(title = \"IV\", artist_id = artist1.id),\n",
    "        Album(title=\"Who Made Who\", artist_id=artist2.id)]"
   ]
  },
  {
   "cell_type": "code",
   "execution_count": 187,
   "metadata": {},
   "outputs": [],
   "source": [
    "session.add_all(album)"
   ]
  },
  {
   "cell_type": "code",
   "execution_count": 188,
   "metadata": {},
   "outputs": [
    {
     "name": "stdout",
     "output_type": "stream",
     "text": [
      "2019-07-09 21:20:56,328 INFO sqlalchemy.engine.base.Engine INSERT INTO \"Album\" (title, artist_id) VALUES (?, ?)\n",
      "2019-07-09 21:20:56,330 INFO sqlalchemy.engine.base.Engine ('IV', 1)\n",
      "2019-07-09 21:20:56,334 INFO sqlalchemy.engine.base.Engine INSERT INTO \"Album\" (title, artist_id) VALUES (?, ?)\n",
      "2019-07-09 21:20:56,336 INFO sqlalchemy.engine.base.Engine ('Who Made Who', 2)\n",
      "2019-07-09 21:20:56,339 INFO sqlalchemy.engine.base.Engine COMMIT\n"
     ]
    }
   ],
   "source": [
    "session.commit()"
   ]
  },
  {
   "cell_type": "code",
   "execution_count": 189,
   "metadata": {},
   "outputs": [],
   "source": [
    "session.add_all([\n",
    "    Genre(name=\"Rock\"), Genre(name=\"Metal\")\n",
    "])"
   ]
  },
  {
   "cell_type": "code",
   "execution_count": 190,
   "metadata": {},
   "outputs": [
    {
     "name": "stdout",
     "output_type": "stream",
     "text": [
      "2019-07-09 21:21:27,014 INFO sqlalchemy.engine.base.Engine BEGIN (implicit)\n",
      "2019-07-09 21:21:27,017 INFO sqlalchemy.engine.base.Engine INSERT INTO \"Genre\" (name) VALUES (?)\n",
      "2019-07-09 21:21:27,019 INFO sqlalchemy.engine.base.Engine ('Rock',)\n",
      "2019-07-09 21:21:27,034 INFO sqlalchemy.engine.base.Engine INSERT INTO \"Genre\" (name) VALUES (?)\n",
      "2019-07-09 21:21:27,035 INFO sqlalchemy.engine.base.Engine ('Metal',)\n",
      "2019-07-09 21:21:27,037 INFO sqlalchemy.engine.base.Engine COMMIT\n"
     ]
    }
   ],
   "source": [
    "session.commit()"
   ]
  },
  {
   "cell_type": "code",
   "execution_count": 191,
   "metadata": {},
   "outputs": [
    {
     "name": "stdout",
     "output_type": "stream",
     "text": [
      "2019-07-09 21:21:55,544 INFO sqlalchemy.engine.base.Engine BEGIN (implicit)\n",
      "2019-07-09 21:21:55,547 INFO sqlalchemy.engine.base.Engine SELECT \"Artist\".id AS \"Artist_id\", \"Artist\".name AS \"Artist_name\" \n",
      "FROM \"Artist\" \n",
      "WHERE \"Artist\".id = ?\n",
      "2019-07-09 21:21:55,549 INFO sqlalchemy.engine.base.Engine (1,)\n",
      "2019-07-09 21:21:55,554 INFO sqlalchemy.engine.base.Engine SELECT \"Album\".id AS \"Album_id\", \"Album\".title AS \"Album_title\", \"Album\".artist_id AS \"Album_artist_id\" \n",
      "FROM \"Album\" \n",
      "WHERE \"Album\".artist_id = ?\n",
      "2019-07-09 21:21:55,556 INFO sqlalchemy.engine.base.Engine (1,)\n"
     ]
    }
   ],
   "source": [
    "album1 = session.query(Album).filter(Album.artist_id == artist1.id).one()"
   ]
  },
  {
   "cell_type": "code",
   "execution_count": 192,
   "metadata": {},
   "outputs": [
    {
     "name": "stdout",
     "output_type": "stream",
     "text": [
      "2019-07-09 21:22:21,633 INFO sqlalchemy.engine.base.Engine SELECT \"Artist\".id AS \"Artist_id\", \"Artist\".name AS \"Artist_name\" \n",
      "FROM \"Artist\" \n",
      "WHERE \"Artist\".id = ?\n",
      "2019-07-09 21:22:21,635 INFO sqlalchemy.engine.base.Engine (2,)\n",
      "2019-07-09 21:22:21,639 INFO sqlalchemy.engine.base.Engine SELECT \"Album\".id AS \"Album_id\", \"Album\".title AS \"Album_title\", \"Album\".artist_id AS \"Album_artist_id\" \n",
      "FROM \"Album\" \n",
      "WHERE \"Album\".artist_id = ?\n",
      "2019-07-09 21:22:21,640 INFO sqlalchemy.engine.base.Engine (2,)\n"
     ]
    }
   ],
   "source": [
    "album2 = session.query(Album).filter(Album.artist_id==artist2.id).one()"
   ]
  },
  {
   "cell_type": "code",
   "execution_count": 193,
   "metadata": {},
   "outputs": [
    {
     "name": "stdout",
     "output_type": "stream",
     "text": [
      "2019-07-09 21:23:07,814 INFO sqlalchemy.engine.base.Engine SELECT \"Genre\".id AS \"Genre_id\", \"Genre\".name AS \"Genre_name\" \n",
      "FROM \"Genre\" \n",
      "WHERE \"Genre\".name = ? AND \"Genre\".id = ?\n",
      "2019-07-09 21:23:07,815 INFO sqlalchemy.engine.base.Engine ('Rock', 1)\n"
     ]
    }
   ],
   "source": [
    "genre1 = session.query(Genre).filter(Genre.name==\"Rock\").filter(Genre.id==1).one()"
   ]
  },
  {
   "cell_type": "code",
   "execution_count": 196,
   "metadata": {},
   "outputs": [
    {
     "name": "stdout",
     "output_type": "stream",
     "text": [
      "2019-07-09 21:27:07,438 INFO sqlalchemy.engine.base.Engine SELECT \"Genre\".id AS \"Genre_id\", \"Genre\".name AS \"Genre_name\" \n",
      "FROM \"Genre\" \n",
      "WHERE \"Genre\".id = ?\n",
      "2019-07-09 21:27:07,440 INFO sqlalchemy.engine.base.Engine (2,)\n"
     ]
    }
   ],
   "source": [
    "genre2 = session.query(Genre).filter(Genre.id==2).one()"
   ]
  },
  {
   "cell_type": "code",
   "execution_count": 197,
   "metadata": {},
   "outputs": [],
   "source": [
    "track = [Track(title = \"Black Dog\", rating=5, length = 297, count = 0, album_id = album1.id, genre_id = genre1.id),\n",
    "        Track(title = \"Stairway\", rating=5, length = 482, count = 0, album_id = album1.id, genre_id = genre2.id),\n",
    "        Track(title = \"About to rock\", rating=5, length = 313, count = 0, album_id = album2.id, genre_id = genre1.id),\n",
    "        Track(title = \"Who Made Who\", rating=5, length = 297, count = 0, album_id = album2.id, genre_id = genre2.id),\n",
    "        ]"
   ]
  },
  {
   "cell_type": "code",
   "execution_count": 198,
   "metadata": {},
   "outputs": [],
   "source": [
    "session.add_all(track)"
   ]
  },
  {
   "cell_type": "code",
   "execution_count": 199,
   "metadata": {},
   "outputs": [
    {
     "name": "stdout",
     "output_type": "stream",
     "text": [
      "2019-07-09 21:27:22,997 INFO sqlalchemy.engine.base.Engine INSERT INTO \"Track\" (title, length, rating, count, album_id, genre_id) VALUES (?, ?, ?, ?, ?, ?)\n",
      "2019-07-09 21:27:22,999 INFO sqlalchemy.engine.base.Engine ('Black Dog', 297, 5, 0, 1, 1)\n",
      "2019-07-09 21:27:23,003 INFO sqlalchemy.engine.base.Engine INSERT INTO \"Track\" (title, length, rating, count, album_id, genre_id) VALUES (?, ?, ?, ?, ?, ?)\n",
      "2019-07-09 21:27:23,006 INFO sqlalchemy.engine.base.Engine ('Stairway', 482, 5, 0, 1, 2)\n",
      "2019-07-09 21:27:23,008 INFO sqlalchemy.engine.base.Engine INSERT INTO \"Track\" (title, length, rating, count, album_id, genre_id) VALUES (?, ?, ?, ?, ?, ?)\n",
      "2019-07-09 21:27:23,010 INFO sqlalchemy.engine.base.Engine ('About to rock', 313, 5, 0, 2, 1)\n",
      "2019-07-09 21:27:23,013 INFO sqlalchemy.engine.base.Engine INSERT INTO \"Track\" (title, length, rating, count, album_id, genre_id) VALUES (?, ?, ?, ?, ?, ?)\n",
      "2019-07-09 21:27:23,015 INFO sqlalchemy.engine.base.Engine ('Who Made Who', 297, 5, 0, 2, 2)\n",
      "2019-07-09 21:27:23,017 INFO sqlalchemy.engine.base.Engine COMMIT\n"
     ]
    }
   ],
   "source": [
    "session.commit()"
   ]
  },
  {
   "cell_type": "markdown",
   "metadata": {},
   "source": [
    "## Join"
   ]
  },
  {
   "cell_type": "code",
   "execution_count": 200,
   "metadata": {},
   "outputs": [
    {
     "name": "stdout",
     "output_type": "stream",
     "text": [
      "2019-07-09 21:28:33,265 INFO sqlalchemy.engine.base.Engine BEGIN (implicit)\n",
      "2019-07-09 21:28:33,268 INFO sqlalchemy.engine.base.Engine SELECT \"Track\".title AS \"Track_title\", \"Album\".title AS \"Album_title\", \"Genre\".name AS \"Genre_name\", \"Artist\".name AS \"Artist_name\" \n",
      "FROM \"Track\" JOIN \"Album\" ON \"Album\".id = \"Track\".album_id JOIN \"Genre\" ON \"Genre\".id = \"Track\".genre_id JOIN \"Artist\" ON \"Artist\".id = \"Album\".artist_id\n",
      "2019-07-09 21:28:33,270 INFO sqlalchemy.engine.base.Engine ()\n"
     ]
    }
   ],
   "source": [
    "result = session.query(Track.title, Album.title, Genre.name, Artist.name)\\\n",
    ".select_from(Track).join(Album).join(Genre).join(Artist).all()"
   ]
  },
  {
   "cell_type": "code",
   "execution_count": 201,
   "metadata": {},
   "outputs": [
    {
     "name": "stdout",
     "output_type": "stream",
     "text": [
      "('Black Dog', 'IV', 'Rock', 'Led Zepplin')\n",
      "('Stairway', 'IV', 'Metal', 'Led Zepplin')\n",
      "('About to rock', 'Who Made Who', 'Rock', 'AC/DC')\n",
      "('Who Made Who', 'Who Made Who', 'Metal', 'AC/DC')\n"
     ]
    }
   ],
   "source": [
    "for row in result:\n",
    "    print(row)"
   ]
  },
  {
   "cell_type": "code",
   "execution_count": 204,
   "metadata": {},
   "outputs": [],
   "source": [
    "songList = [dict(Track = row[0], Album=row[1], Genre=row[2], Artist=row[3]) for row in result]"
   ]
  },
  {
   "cell_type": "code",
   "execution_count": 205,
   "metadata": {},
   "outputs": [
    {
     "data": {
      "text/plain": [
       "[{'Track': 'Black Dog',\n",
       "  'Album': 'IV',\n",
       "  'Genre': 'Rock',\n",
       "  'Artist': 'Led Zepplin'},\n",
       " {'Track': 'Stairway',\n",
       "  'Album': 'IV',\n",
       "  'Genre': 'Metal',\n",
       "  'Artist': 'Led Zepplin'},\n",
       " {'Track': 'About to rock',\n",
       "  'Album': 'Who Made Who',\n",
       "  'Genre': 'Rock',\n",
       "  'Artist': 'AC/DC'},\n",
       " {'Track': 'Who Made Who',\n",
       "  'Album': 'Who Made Who',\n",
       "  'Genre': 'Metal',\n",
       "  'Artist': 'AC/DC'}]"
      ]
     },
     "execution_count": 205,
     "metadata": {},
     "output_type": "execute_result"
    }
   ],
   "source": [
    "songList"
   ]
  },
  {
   "cell_type": "markdown",
   "metadata": {},
   "source": [
    "### Relationship\n",
    "- 두 개의 매핑된 클래스 사이에 관계를 제공한다.\n",
    "- 부모-자식 또는 연관된 테이블 관계를 대응시켜준다."
   ]
  },
  {
   "cell_type": "code",
   "execution_count": 206,
   "metadata": {},
   "outputs": [],
   "source": [
    "metadata = MetaData()"
   ]
  },
  {
   "cell_type": "code",
   "execution_count": 209,
   "metadata": {},
   "outputs": [],
   "source": [
    "engine = create_engine(\"sqlite:///sqlomr3.db\", echo = True)"
   ]
  },
  {
   "cell_type": "code",
   "execution_count": 210,
   "metadata": {},
   "outputs": [],
   "source": [
    "Session = sessionmaker(engine)"
   ]
  },
  {
   "cell_type": "code",
   "execution_count": 211,
   "metadata": {},
   "outputs": [],
   "source": [
    "session = Session()"
   ]
  },
  {
   "cell_type": "code",
   "execution_count": 214,
   "metadata": {
    "collapsed": true
   },
   "outputs": [
    {
     "ename": "InvalidRequestError",
     "evalue": "Table 'users' is already defined for this MetaData instance.  Specify 'extend_existing=True' to redefine options and columns on an existing Table object.",
     "output_type": "error",
     "traceback": [
      "\u001b[1;31m---------------------------------------------------------------------------\u001b[0m",
      "\u001b[1;31mInvalidRequestError\u001b[0m                       Traceback (most recent call last)",
      "\u001b[1;32m<ipython-input-214-235a7afc99f1>\u001b[0m in \u001b[0;36m<module>\u001b[1;34m\u001b[0m\n\u001b[1;32m----> 1\u001b[1;33m \u001b[1;32mclass\u001b[0m \u001b[0mUser\u001b[0m\u001b[1;33m(\u001b[0m\u001b[0mbase\u001b[0m\u001b[1;33m)\u001b[0m\u001b[1;33m:\u001b[0m\u001b[1;33m\u001b[0m\u001b[1;33m\u001b[0m\u001b[0m\n\u001b[0m\u001b[0;32m      2\u001b[0m     \u001b[0m__tablename__\u001b[0m \u001b[1;33m=\u001b[0m \u001b[1;34m\"users\"\u001b[0m\u001b[1;33m\u001b[0m\u001b[1;33m\u001b[0m\u001b[0m\n\u001b[0;32m      3\u001b[0m \u001b[1;33m\u001b[0m\u001b[0m\n\u001b[0;32m      4\u001b[0m     \u001b[0mid\u001b[0m \u001b[1;33m=\u001b[0m \u001b[0mColumn\u001b[0m\u001b[1;33m(\u001b[0m\u001b[0mInteger\u001b[0m\u001b[1;33m,\u001b[0m \u001b[0mprimary_key\u001b[0m \u001b[1;33m=\u001b[0m \u001b[1;32mTrue\u001b[0m\u001b[1;33m)\u001b[0m\u001b[1;33m\u001b[0m\u001b[1;33m\u001b[0m\u001b[0m\n\u001b[0;32m      5\u001b[0m     \u001b[0mname\u001b[0m \u001b[1;33m=\u001b[0m \u001b[0mColumn\u001b[0m\u001b[1;33m(\u001b[0m\u001b[0mString\u001b[0m\u001b[1;33m)\u001b[0m\u001b[1;33m\u001b[0m\u001b[1;33m\u001b[0m\u001b[0m\n",
      "\u001b[1;32mC:\\Anaconda\\Anaconda3\\lib\\site-packages\\sqlalchemy\\ext\\declarative\\api.py\u001b[0m in \u001b[0;36m__init__\u001b[1;34m(cls, classname, bases, dict_)\u001b[0m\n\u001b[0;32m     73\u001b[0m     \u001b[1;32mdef\u001b[0m \u001b[0m__init__\u001b[0m\u001b[1;33m(\u001b[0m\u001b[0mcls\u001b[0m\u001b[1;33m,\u001b[0m \u001b[0mclassname\u001b[0m\u001b[1;33m,\u001b[0m \u001b[0mbases\u001b[0m\u001b[1;33m,\u001b[0m \u001b[0mdict_\u001b[0m\u001b[1;33m)\u001b[0m\u001b[1;33m:\u001b[0m\u001b[1;33m\u001b[0m\u001b[1;33m\u001b[0m\u001b[0m\n\u001b[0;32m     74\u001b[0m         \u001b[1;32mif\u001b[0m \u001b[1;34m\"_decl_class_registry\"\u001b[0m \u001b[1;32mnot\u001b[0m \u001b[1;32min\u001b[0m \u001b[0mcls\u001b[0m\u001b[1;33m.\u001b[0m\u001b[0m__dict__\u001b[0m\u001b[1;33m:\u001b[0m\u001b[1;33m\u001b[0m\u001b[1;33m\u001b[0m\u001b[0m\n\u001b[1;32m---> 75\u001b[1;33m             \u001b[0m_as_declarative\u001b[0m\u001b[1;33m(\u001b[0m\u001b[0mcls\u001b[0m\u001b[1;33m,\u001b[0m \u001b[0mclassname\u001b[0m\u001b[1;33m,\u001b[0m \u001b[0mcls\u001b[0m\u001b[1;33m.\u001b[0m\u001b[0m__dict__\u001b[0m\u001b[1;33m)\u001b[0m\u001b[1;33m\u001b[0m\u001b[1;33m\u001b[0m\u001b[0m\n\u001b[0m\u001b[0;32m     76\u001b[0m         \u001b[0mtype\u001b[0m\u001b[1;33m.\u001b[0m\u001b[0m__init__\u001b[0m\u001b[1;33m(\u001b[0m\u001b[0mcls\u001b[0m\u001b[1;33m,\u001b[0m \u001b[0mclassname\u001b[0m\u001b[1;33m,\u001b[0m \u001b[0mbases\u001b[0m\u001b[1;33m,\u001b[0m \u001b[0mdict_\u001b[0m\u001b[1;33m)\u001b[0m\u001b[1;33m\u001b[0m\u001b[1;33m\u001b[0m\u001b[0m\n\u001b[0;32m     77\u001b[0m \u001b[1;33m\u001b[0m\u001b[0m\n",
      "\u001b[1;32mC:\\Anaconda\\Anaconda3\\lib\\site-packages\\sqlalchemy\\ext\\declarative\\base.py\u001b[0m in \u001b[0;36m_as_declarative\u001b[1;34m(cls, classname, dict_)\u001b[0m\n\u001b[0;32m    129\u001b[0m         \u001b[1;32mreturn\u001b[0m\u001b[1;33m\u001b[0m\u001b[1;33m\u001b[0m\u001b[0m\n\u001b[0;32m    130\u001b[0m \u001b[1;33m\u001b[0m\u001b[0m\n\u001b[1;32m--> 131\u001b[1;33m     \u001b[0m_MapperConfig\u001b[0m\u001b[1;33m.\u001b[0m\u001b[0msetup_mapping\u001b[0m\u001b[1;33m(\u001b[0m\u001b[0mcls\u001b[0m\u001b[1;33m,\u001b[0m \u001b[0mclassname\u001b[0m\u001b[1;33m,\u001b[0m \u001b[0mdict_\u001b[0m\u001b[1;33m)\u001b[0m\u001b[1;33m\u001b[0m\u001b[1;33m\u001b[0m\u001b[0m\n\u001b[0m\u001b[0;32m    132\u001b[0m \u001b[1;33m\u001b[0m\u001b[0m\n\u001b[0;32m    133\u001b[0m \u001b[1;33m\u001b[0m\u001b[0m\n",
      "\u001b[1;32mC:\\Anaconda\\Anaconda3\\lib\\site-packages\\sqlalchemy\\ext\\declarative\\base.py\u001b[0m in \u001b[0;36msetup_mapping\u001b[1;34m(cls, cls_, classname, dict_)\u001b[0m\n\u001b[0;32m    158\u001b[0m             \u001b[0mcfg_cls\u001b[0m \u001b[1;33m=\u001b[0m \u001b[0m_MapperConfig\u001b[0m\u001b[1;33m\u001b[0m\u001b[1;33m\u001b[0m\u001b[0m\n\u001b[0;32m    159\u001b[0m \u001b[1;33m\u001b[0m\u001b[0m\n\u001b[1;32m--> 160\u001b[1;33m         \u001b[0mcfg_cls\u001b[0m\u001b[1;33m(\u001b[0m\u001b[0mcls_\u001b[0m\u001b[1;33m,\u001b[0m \u001b[0mclassname\u001b[0m\u001b[1;33m,\u001b[0m \u001b[0mdict_\u001b[0m\u001b[1;33m)\u001b[0m\u001b[1;33m\u001b[0m\u001b[1;33m\u001b[0m\u001b[0m\n\u001b[0m\u001b[0;32m    161\u001b[0m \u001b[1;33m\u001b[0m\u001b[0m\n\u001b[0;32m    162\u001b[0m     \u001b[1;32mdef\u001b[0m \u001b[0m__init__\u001b[0m\u001b[1;33m(\u001b[0m\u001b[0mself\u001b[0m\u001b[1;33m,\u001b[0m \u001b[0mcls_\u001b[0m\u001b[1;33m,\u001b[0m \u001b[0mclassname\u001b[0m\u001b[1;33m,\u001b[0m \u001b[0mdict_\u001b[0m\u001b[1;33m)\u001b[0m\u001b[1;33m:\u001b[0m\u001b[1;33m\u001b[0m\u001b[1;33m\u001b[0m\u001b[0m\n",
      "\u001b[1;32mC:\\Anaconda\\Anaconda3\\lib\\site-packages\\sqlalchemy\\ext\\declarative\\base.py\u001b[0m in \u001b[0;36m__init__\u001b[1;34m(self, cls_, classname, dict_)\u001b[0m\n\u001b[0;32m    188\u001b[0m             \u001b[0mself\u001b[0m\u001b[1;33m.\u001b[0m\u001b[0m_extract_declared_columns\u001b[0m\u001b[1;33m(\u001b[0m\u001b[1;33m)\u001b[0m\u001b[1;33m\u001b[0m\u001b[1;33m\u001b[0m\u001b[0m\n\u001b[0;32m    189\u001b[0m \u001b[1;33m\u001b[0m\u001b[0m\n\u001b[1;32m--> 190\u001b[1;33m             \u001b[0mself\u001b[0m\u001b[1;33m.\u001b[0m\u001b[0m_setup_table\u001b[0m\u001b[1;33m(\u001b[0m\u001b[1;33m)\u001b[0m\u001b[1;33m\u001b[0m\u001b[1;33m\u001b[0m\u001b[0m\n\u001b[0m\u001b[0;32m    191\u001b[0m \u001b[1;33m\u001b[0m\u001b[0m\n\u001b[0;32m    192\u001b[0m             \u001b[0mself\u001b[0m\u001b[1;33m.\u001b[0m\u001b[0m_setup_inheritance\u001b[0m\u001b[1;33m(\u001b[0m\u001b[1;33m)\u001b[0m\u001b[1;33m\u001b[0m\u001b[1;33m\u001b[0m\u001b[0m\n",
      "\u001b[1;32mC:\\Anaconda\\Anaconda3\\lib\\site-packages\\sqlalchemy\\ext\\declarative\\base.py\u001b[0m in \u001b[0;36m_setup_table\u001b[1;34m(self)\u001b[0m\n\u001b[0;32m    536\u001b[0m                     \u001b[0mcls\u001b[0m\u001b[1;33m.\u001b[0m\u001b[0mmetadata\u001b[0m\u001b[1;33m,\u001b[0m\u001b[1;33m\u001b[0m\u001b[1;33m\u001b[0m\u001b[0m\n\u001b[0;32m    537\u001b[0m                     \u001b[1;33m*\u001b[0m\u001b[1;33m(\u001b[0m\u001b[0mtuple\u001b[0m\u001b[1;33m(\u001b[0m\u001b[0mdeclared_columns\u001b[0m\u001b[1;33m)\u001b[0m \u001b[1;33m+\u001b[0m \u001b[0mtuple\u001b[0m\u001b[1;33m(\u001b[0m\u001b[0margs\u001b[0m\u001b[1;33m)\u001b[0m\u001b[1;33m)\u001b[0m\u001b[1;33m,\u001b[0m\u001b[1;33m\u001b[0m\u001b[1;33m\u001b[0m\u001b[0m\n\u001b[1;32m--> 538\u001b[1;33m                     \u001b[1;33m**\u001b[0m\u001b[0mtable_kw\u001b[0m\u001b[1;33m\u001b[0m\u001b[1;33m\u001b[0m\u001b[0m\n\u001b[0m\u001b[0;32m    539\u001b[0m                 )\n\u001b[0;32m    540\u001b[0m         \u001b[1;32melse\u001b[0m\u001b[1;33m:\u001b[0m\u001b[1;33m\u001b[0m\u001b[1;33m\u001b[0m\u001b[0m\n",
      "\u001b[1;32m<string>\u001b[0m in \u001b[0;36m__new__\u001b[1;34m(cls, *args, **kw)\u001b[0m\n",
      "\u001b[1;32mC:\\Anaconda\\Anaconda3\\lib\\site-packages\\sqlalchemy\\util\\deprecations.py\u001b[0m in \u001b[0;36mwarned\u001b[1;34m(fn, *args, **kwargs)\u001b[0m\n\u001b[0;32m    128\u001b[0m                     )\n\u001b[0;32m    129\u001b[0m \u001b[1;33m\u001b[0m\u001b[0m\n\u001b[1;32m--> 130\u001b[1;33m             \u001b[1;32mreturn\u001b[0m \u001b[0mfn\u001b[0m\u001b[1;33m(\u001b[0m\u001b[1;33m*\u001b[0m\u001b[0margs\u001b[0m\u001b[1;33m,\u001b[0m \u001b[1;33m**\u001b[0m\u001b[0mkwargs\u001b[0m\u001b[1;33m)\u001b[0m\u001b[1;33m\u001b[0m\u001b[1;33m\u001b[0m\u001b[0m\n\u001b[0m\u001b[0;32m    131\u001b[0m \u001b[1;33m\u001b[0m\u001b[0m\n\u001b[0;32m    132\u001b[0m         \u001b[0mdoc\u001b[0m \u001b[1;33m=\u001b[0m \u001b[0mfn\u001b[0m\u001b[1;33m.\u001b[0m\u001b[0m__doc__\u001b[0m \u001b[1;32mis\u001b[0m \u001b[1;32mnot\u001b[0m \u001b[1;32mNone\u001b[0m \u001b[1;32mand\u001b[0m \u001b[0mfn\u001b[0m\u001b[1;33m.\u001b[0m\u001b[0m__doc__\u001b[0m \u001b[1;32mor\u001b[0m \u001b[1;34m\"\"\u001b[0m\u001b[1;33m\u001b[0m\u001b[1;33m\u001b[0m\u001b[0m\n",
      "\u001b[1;32mC:\\Anaconda\\Anaconda3\\lib\\site-packages\\sqlalchemy\\sql\\schema.py\u001b[0m in \u001b[0;36m__new__\u001b[1;34m(cls, *args, **kw)\u001b[0m\n\u001b[0;32m    476\u001b[0m                     \u001b[1;34m\"to redefine \"\u001b[0m\u001b[1;33m\u001b[0m\u001b[1;33m\u001b[0m\u001b[0m\n\u001b[0;32m    477\u001b[0m                     \u001b[1;34m\"options and columns on an \"\u001b[0m\u001b[1;33m\u001b[0m\u001b[1;33m\u001b[0m\u001b[0m\n\u001b[1;32m--> 478\u001b[1;33m                     \u001b[1;34m\"existing Table object.\"\u001b[0m \u001b[1;33m%\u001b[0m \u001b[0mkey\u001b[0m\u001b[1;33m\u001b[0m\u001b[1;33m\u001b[0m\u001b[0m\n\u001b[0m\u001b[0;32m    479\u001b[0m                 )\n\u001b[0;32m    480\u001b[0m             \u001b[0mtable\u001b[0m \u001b[1;33m=\u001b[0m \u001b[0mmetadata\u001b[0m\u001b[1;33m.\u001b[0m\u001b[0mtables\u001b[0m\u001b[1;33m[\u001b[0m\u001b[0mkey\u001b[0m\u001b[1;33m]\u001b[0m\u001b[1;33m\u001b[0m\u001b[1;33m\u001b[0m\u001b[0m\n",
      "\u001b[1;31mInvalidRequestError\u001b[0m: Table 'users' is already defined for this MetaData instance.  Specify 'extend_existing=True' to redefine options and columns on an existing Table object."
     ]
    }
   ],
   "source": [
    "class User(base):\n",
    "    __tablename__ = \"users\"\n",
    "    \n",
    "    id = Column(Integer, primary_key = True)\n",
    "    name = Column(String)\n",
    "    fullname = Column(String)\n",
    "    password=Column(\"passwd\", String)"
   ]
  },
  {
   "cell_type": "code",
   "execution_count": 218,
   "metadata": {},
   "outputs": [],
   "source": [
    "class Address(base):\n",
    "    __tablename__=\"addresses\"\n",
    "    \n",
    "    id = Column(Integer, primary_key = True)\n",
    "    email_address = Column(String, nullable=False)\n",
    "    user_id = Column(Integer, ForeignKey(\"users.id\"))"
   ]
  },
  {
   "cell_type": "code",
   "execution_count": 220,
   "metadata": {},
   "outputs": [
    {
     "name": "stdout",
     "output_type": "stream",
     "text": [
      "2019-07-09 21:49:15,057 INFO sqlalchemy.engine.base.Engine SELECT CAST('test plain returns' AS VARCHAR(60)) AS anon_1\n",
      "2019-07-09 21:49:15,059 INFO sqlalchemy.engine.base.Engine ()\n",
      "2019-07-09 21:49:15,062 INFO sqlalchemy.engine.base.Engine SELECT CAST('test unicode returns' AS VARCHAR(60)) AS anon_1\n",
      "2019-07-09 21:49:15,064 INFO sqlalchemy.engine.base.Engine ()\n",
      "2019-07-09 21:49:15,066 INFO sqlalchemy.engine.base.Engine PRAGMA table_info(\"users\")\n",
      "2019-07-09 21:49:15,068 INFO sqlalchemy.engine.base.Engine ()\n",
      "2019-07-09 21:49:15,070 INFO sqlalchemy.engine.base.Engine PRAGMA table_info(\"addresses\")\n",
      "2019-07-09 21:49:15,072 INFO sqlalchemy.engine.base.Engine ()\n",
      "2019-07-09 21:49:15,075 INFO sqlalchemy.engine.base.Engine \n",
      "CREATE TABLE users (\n",
      "\tid INTEGER NOT NULL, \n",
      "\tname VARCHAR, \n",
      "\tPRIMARY KEY (id)\n",
      ")\n",
      "\n",
      "\n",
      "2019-07-09 21:49:15,077 INFO sqlalchemy.engine.base.Engine ()\n",
      "2019-07-09 21:49:15,151 INFO sqlalchemy.engine.base.Engine COMMIT\n",
      "2019-07-09 21:49:15,154 INFO sqlalchemy.engine.base.Engine \n",
      "CREATE TABLE addresses (\n",
      "\tid INTEGER NOT NULL, \n",
      "\temail_address VARCHAR NOT NULL, \n",
      "\tuser_id INTEGER, \n",
      "\tPRIMARY KEY (id), \n",
      "\tFOREIGN KEY(user_id) REFERENCES users (id)\n",
      ")\n",
      "\n",
      "\n",
      "2019-07-09 21:49:15,156 INFO sqlalchemy.engine.base.Engine ()\n",
      "2019-07-09 21:49:15,185 INFO sqlalchemy.engine.base.Engine COMMIT\n"
     ]
    }
   ],
   "source": [
    "base.metadata.create_all(engine)"
   ]
  },
  {
   "cell_type": "code",
   "execution_count": 222,
   "metadata": {},
   "outputs": [],
   "source": [
    "from sqlalchemy.orm import relationship"
   ]
  },
  {
   "cell_type": "code",
   "execution_count": 223,
   "metadata": {},
   "outputs": [],
   "source": [
    "class Artist(base):\n",
    "    __tablename__ = \"Artist\"\n",
    "    \n",
    "    id = Column(\"id\", Integer, primary_key=True)\n",
    "    name = Column(\"name\", String, nullable=False)\n",
    "    \n",
    "    albumList = relationship(\"Album\", back_populates=\"artist\")\n",
    "    \n",
    "class Album(base):\n",
    "    __tablename__ = \"Album\"\n",
    "    \n",
    "    id = Column(Integer, primary_key = True)\n",
    "    title = Column(String)\n",
    "    artist_id = Column(Integer, ForeignKey(\"Artist.id\"))\n",
    "    \n",
    "    artist = relationship(\"Artist\", back_populates=\"albumList\", uselist=False)\n",
    "    trackList = relationship(\"Track\", back_populates=\"album\")\n",
    "    \n",
    "class Genre(base):\n",
    "    __tablename__ = \"Genre\"\n",
    "    \n",
    "    id = Column(Integer, primary_key = True)\n",
    "    name = Column(String)\n",
    "    \n",
    "    trackList = relationship(\"Track\", back_populates=\"genre\")\n",
    "    \n",
    "class Track(base):\n",
    "    __tablename__=\"Track\"\n",
    "    \n",
    "    id = Column(\"id\", Integer, primary_key = True)\n",
    "    title = Column(\"title\", String, nullable=False)\n",
    "    length = Column(\"length\", Integer, nullable=False)\n",
    "    rating = Column(\"rating\", Integer, nullable=False)\n",
    "    count = Column(\"count\", Integer, nullable=False)\n",
    "    album_id = Column(\"album_id\", Integer, ForeignKey(\"Album.id\"))\n",
    "    genre_id = Column(\"genre_id\", Integer, ForeignKey(\"Genre.id\"))\n",
    "    \n",
    "    album = relationship(\"Album\", back_populates = \"trackList\", uselist=False)\n",
    "    genre = relationship(\"Genre\", back_populates=\"trackList\", uselist = False)"
   ]
  },
  {
   "cell_type": "code",
   "execution_count": 224,
   "metadata": {},
   "outputs": [
    {
     "name": "stdout",
     "output_type": "stream",
     "text": [
      "2019-07-09 21:54:41,354 INFO sqlalchemy.engine.base.Engine PRAGMA table_info(\"users\")\n",
      "2019-07-09 21:54:41,356 INFO sqlalchemy.engine.base.Engine ()\n",
      "2019-07-09 21:54:41,361 INFO sqlalchemy.engine.base.Engine PRAGMA table_info(\"addresses\")\n",
      "2019-07-09 21:54:41,363 INFO sqlalchemy.engine.base.Engine ()\n",
      "2019-07-09 21:54:41,365 INFO sqlalchemy.engine.base.Engine PRAGMA table_info(\"Artist\")\n",
      "2019-07-09 21:54:41,367 INFO sqlalchemy.engine.base.Engine ()\n",
      "2019-07-09 21:54:41,368 INFO sqlalchemy.engine.base.Engine PRAGMA table_info(\"Album\")\n",
      "2019-07-09 21:54:41,370 INFO sqlalchemy.engine.base.Engine ()\n",
      "2019-07-09 21:54:41,371 INFO sqlalchemy.engine.base.Engine PRAGMA table_info(\"Genre\")\n",
      "2019-07-09 21:54:41,372 INFO sqlalchemy.engine.base.Engine ()\n",
      "2019-07-09 21:54:41,374 INFO sqlalchemy.engine.base.Engine PRAGMA table_info(\"Track\")\n",
      "2019-07-09 21:54:41,375 INFO sqlalchemy.engine.base.Engine ()\n",
      "2019-07-09 21:54:41,378 INFO sqlalchemy.engine.base.Engine \n",
      "CREATE TABLE \"Artist\" (\n",
      "\tid INTEGER NOT NULL, \n",
      "\tname VARCHAR NOT NULL, \n",
      "\tPRIMARY KEY (id)\n",
      ")\n",
      "\n",
      "\n",
      "2019-07-09 21:54:41,380 INFO sqlalchemy.engine.base.Engine ()\n",
      "2019-07-09 21:54:41,428 INFO sqlalchemy.engine.base.Engine COMMIT\n",
      "2019-07-09 21:54:41,432 INFO sqlalchemy.engine.base.Engine \n",
      "CREATE TABLE \"Genre\" (\n",
      "\tid INTEGER NOT NULL, \n",
      "\tname VARCHAR, \n",
      "\tPRIMARY KEY (id)\n",
      ")\n",
      "\n",
      "\n",
      "2019-07-09 21:54:41,434 INFO sqlalchemy.engine.base.Engine ()\n",
      "2019-07-09 21:54:41,465 INFO sqlalchemy.engine.base.Engine COMMIT\n",
      "2019-07-09 21:54:41,467 INFO sqlalchemy.engine.base.Engine \n",
      "CREATE TABLE \"Album\" (\n",
      "\tid INTEGER NOT NULL, \n",
      "\ttitle VARCHAR, \n",
      "\tartist_id INTEGER, \n",
      "\tPRIMARY KEY (id), \n",
      "\tFOREIGN KEY(artist_id) REFERENCES \"Artist\" (id)\n",
      ")\n",
      "\n",
      "\n",
      "2019-07-09 21:54:41,469 INFO sqlalchemy.engine.base.Engine ()\n",
      "2019-07-09 21:54:41,508 INFO sqlalchemy.engine.base.Engine COMMIT\n",
      "2019-07-09 21:54:41,511 INFO sqlalchemy.engine.base.Engine \n",
      "CREATE TABLE \"Track\" (\n",
      "\tid INTEGER NOT NULL, \n",
      "\ttitle VARCHAR NOT NULL, \n",
      "\tlength INTEGER NOT NULL, \n",
      "\trating INTEGER NOT NULL, \n",
      "\tcount INTEGER NOT NULL, \n",
      "\talbum_id INTEGER, \n",
      "\tgenre_id INTEGER, \n",
      "\tPRIMARY KEY (id), \n",
      "\tFOREIGN KEY(album_id) REFERENCES \"Album\" (id), \n",
      "\tFOREIGN KEY(genre_id) REFERENCES \"Genre\" (id)\n",
      ")\n",
      "\n",
      "\n",
      "2019-07-09 21:54:41,513 INFO sqlalchemy.engine.base.Engine ()\n",
      "2019-07-09 21:54:41,544 INFO sqlalchemy.engine.base.Engine COMMIT\n"
     ]
    }
   ],
   "source": [
    "base.metadata.create_all(engine)"
   ]
  },
  {
   "cell_type": "code",
   "execution_count": 227,
   "metadata": {},
   "outputs": [],
   "source": [
    "track1 = Track(title = \"Black Dog\", rating=5, length = 297, count = 0)\n",
    "track2 = Track(title = \"Stairway\", rating=5, length = 482, count = 0)\n",
    "track3 = Track(title = \"About to rock\", rating=5, length = 313, count = 0)\n",
    "track4 = Track(title = \"Who Made Who\", rating=5, length = 297, count = 0)  "
   ]
  },
  {
   "cell_type": "code",
   "execution_count": 228,
   "metadata": {},
   "outputs": [],
   "source": [
    "track1.album = track2.album = Album(title = \"IV\")"
   ]
  },
  {
   "cell_type": "code",
   "execution_count": 229,
   "metadata": {},
   "outputs": [],
   "source": [
    "track3.album = track4.album = Album(title=\"Who Made Who\")"
   ]
  },
  {
   "cell_type": "code",
   "execution_count": 230,
   "metadata": {},
   "outputs": [],
   "source": [
    "track1.genre = track3.genre = Genre(name=\"Rock\")\n",
    "track2.genre = track4.genre = Genre(name=\"Metal\")"
   ]
  },
  {
   "cell_type": "code",
   "execution_count": 231,
   "metadata": {},
   "outputs": [],
   "source": [
    "track1.album.artist = track2.album.artist = Artist(name=\"Led Zepplin\")\n",
    "track3.album.artist = track4.album.artist = Artist(name =\"AC/DC\")"
   ]
  },
  {
   "cell_type": "code",
   "execution_count": 232,
   "metadata": {},
   "outputs": [],
   "source": [
    "session.add_all([track1, track2, track3, track4])"
   ]
  },
  {
   "cell_type": "code",
   "execution_count": 233,
   "metadata": {
    "scrolled": true
   },
   "outputs": [
    {
     "name": "stdout",
     "output_type": "stream",
     "text": [
      "2019-07-09 21:59:10,507 INFO sqlalchemy.engine.base.Engine BEGIN (implicit)\n",
      "2019-07-09 21:59:10,510 INFO sqlalchemy.engine.base.Engine INSERT INTO \"Genre\" (name) VALUES (?)\n",
      "2019-07-09 21:59:10,512 INFO sqlalchemy.engine.base.Engine ('Metal',)\n",
      "2019-07-09 21:59:10,517 INFO sqlalchemy.engine.base.Engine INSERT INTO \"Genre\" (name) VALUES (?)\n",
      "2019-07-09 21:59:10,519 INFO sqlalchemy.engine.base.Engine ('Rock',)\n",
      "2019-07-09 21:59:10,521 INFO sqlalchemy.engine.base.Engine INSERT INTO \"Artist\" (name) VALUES (?)\n",
      "2019-07-09 21:59:10,523 INFO sqlalchemy.engine.base.Engine ('Led Zepplin',)\n",
      "2019-07-09 21:59:10,524 INFO sqlalchemy.engine.base.Engine INSERT INTO \"Artist\" (name) VALUES (?)\n",
      "2019-07-09 21:59:10,526 INFO sqlalchemy.engine.base.Engine ('AC/DC',)\n",
      "2019-07-09 21:59:10,528 INFO sqlalchemy.engine.base.Engine INSERT INTO \"Album\" (title, artist_id) VALUES (?, ?)\n",
      "2019-07-09 21:59:10,530 INFO sqlalchemy.engine.base.Engine ('IV', 1)\n",
      "2019-07-09 21:59:10,533 INFO sqlalchemy.engine.base.Engine INSERT INTO \"Album\" (title, artist_id) VALUES (?, ?)\n",
      "2019-07-09 21:59:10,534 INFO sqlalchemy.engine.base.Engine ('Who Made Who', 2)\n",
      "2019-07-09 21:59:10,538 INFO sqlalchemy.engine.base.Engine INSERT INTO \"Track\" (title, length, rating, count, album_id, genre_id) VALUES (?, ?, ?, ?, ?, ?)\n",
      "2019-07-09 21:59:10,539 INFO sqlalchemy.engine.base.Engine ('Black Dog', 297, 5, 0, 1, 2)\n",
      "2019-07-09 21:59:10,541 INFO sqlalchemy.engine.base.Engine INSERT INTO \"Track\" (title, length, rating, count, album_id, genre_id) VALUES (?, ?, ?, ?, ?, ?)\n",
      "2019-07-09 21:59:10,542 INFO sqlalchemy.engine.base.Engine ('Stairway', 482, 5, 0, 1, 1)\n",
      "2019-07-09 21:59:10,544 INFO sqlalchemy.engine.base.Engine INSERT INTO \"Track\" (title, length, rating, count, album_id, genre_id) VALUES (?, ?, ?, ?, ?, ?)\n",
      "2019-07-09 21:59:10,545 INFO sqlalchemy.engine.base.Engine ('Who Made Who', 297, 5, 0, 2, 1)\n",
      "2019-07-09 21:59:10,546 INFO sqlalchemy.engine.base.Engine INSERT INTO \"Track\" (title, length, rating, count, album_id, genre_id) VALUES (?, ?, ?, ?, ?, ?)\n",
      "2019-07-09 21:59:10,547 INFO sqlalchemy.engine.base.Engine ('About to rock', 313, 5, 0, 2, 2)\n",
      "2019-07-09 21:59:10,551 INFO sqlalchemy.engine.base.Engine COMMIT\n"
     ]
    }
   ],
   "source": [
    "session.commit()"
   ]
  },
  {
   "cell_type": "code",
   "execution_count": 235,
   "metadata": {},
   "outputs": [],
   "source": [
    "result = session.query(Artist)"
   ]
  },
  {
   "cell_type": "code",
   "execution_count": 238,
   "metadata": {},
   "outputs": [
    {
     "name": "stdout",
     "output_type": "stream",
     "text": [
      "2019-07-09 22:00:52,544 INFO sqlalchemy.engine.base.Engine SELECT \"Artist\".id AS \"Artist_id\", \"Artist\".name AS \"Artist_name\" \n",
      "FROM \"Artist\"\n",
      "2019-07-09 22:00:52,546 INFO sqlalchemy.engine.base.Engine ()\n",
      "Led Zepplin\n",
      "AC/DC\n"
     ]
    }
   ],
   "source": [
    "for row in result:\n",
    "    print(row.name)"
   ]
  },
  {
   "cell_type": "code",
   "execution_count": null,
   "metadata": {},
   "outputs": [],
   "source": []
  }
 ],
 "metadata": {
  "kernelspec": {
   "display_name": "Python 3",
   "language": "python",
   "name": "python3"
  },
  "language_info": {
   "codemirror_mode": {
    "name": "ipython",
    "version": 3
   },
   "file_extension": ".py",
   "mimetype": "text/x-python",
   "name": "python",
   "nbconvert_exporter": "python",
   "pygments_lexer": "ipython3",
   "version": "3.7.3"
  }
 },
 "nbformat": 4,
 "nbformat_minor": 2
}

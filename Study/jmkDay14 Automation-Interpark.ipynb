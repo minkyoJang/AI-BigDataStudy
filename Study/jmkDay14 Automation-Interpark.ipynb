{
 "cells": [
  {
   "cell_type": "markdown",
   "metadata": {},
   "source": [
    "# 인터파크"
   ]
  },
  {
   "cell_type": "code",
   "execution_count": 103,
   "metadata": {},
   "outputs": [],
   "source": [
    "from selenium import webdriver\n",
    "driver=webdriver.Chrome()\n",
    "driver.get(\"https://ticket.interpark.com\")"
   ]
  },
  {
   "cell_type": "markdown",
   "metadata": {},
   "source": [
    "#### 계정 정보 미리 넣어두기"
   ]
  },
  {
   "cell_type": "code",
   "execution_count": 104,
   "metadata": {},
   "outputs": [
    {
     "name": "stdout",
     "output_type": "stream",
     "text": [
      "Overwriting interpark.json\n"
     ]
    }
   ],
   "source": [
    "%%writefile interpark.json\n",
    "{\n",
    "    \"id\":\"아이디\",\n",
    "    \"pw\":\"비밀번호\"    \n",
    "} "
   ]
  },
  {
   "cell_type": "markdown",
   "metadata": {},
   "source": [
    "#### 로그인전 쿠키 확인"
   ]
  },
  {
   "cell_type": "code",
   "execution_count": 3,
   "metadata": {},
   "outputs": [
    {
     "data": {
      "text/plain": [
       "[{'domain': 'interpark.com',\n",
       "  'expiry': 1563423647,\n",
       "  'httpOnly': False,\n",
       "  'name': '_gat_UA-93889457-1',\n",
       "  'path': '/',\n",
       "  'secure': False,\n",
       "  'value': '1'},\n",
       " {'domain': 'interpark.com',\n",
       "  'expiry': 1563509987,\n",
       "  'httpOnly': False,\n",
       "  'name': '_gid',\n",
       "  'path': '/',\n",
       "  'secure': False,\n",
       "  'value': 'GA1.2.1526133533.1563423587'},\n",
       " {'domain': 'interpark.com',\n",
       "  'expiry': 1626495587,\n",
       "  'httpOnly': False,\n",
       "  'name': '_ga',\n",
       "  'path': '/',\n",
       "  'secure': False,\n",
       "  'value': 'GA1.2.1922092140.1563423587'},\n",
       " {'domain': 'interpark.com',\n",
       "  'expiry': 1640822400,\n",
       "  'httpOnly': False,\n",
       "  'name': '_trs_id',\n",
       "  'path': '/',\n",
       "  'secure': False,\n",
       "  'value': 'eY07%3E755%3F7%3F21174%3E'},\n",
       " {'domain': 'interpark.com',\n",
       "  'expiry': 1597587587,\n",
       "  'httpOnly': False,\n",
       "  'name': 'cto_lwid',\n",
       "  'path': '/',\n",
       "  'secure': False,\n",
       "  'value': 'd349a95a-51d8-4d98-a6e1-728446e29fbd'},\n",
       " {'domain': 'interpark.com',\n",
       "  'expiry': 1563425387,\n",
       "  'httpOnly': False,\n",
       "  'name': '_trs_sid',\n",
       "  'path': '/',\n",
       "  'secure': False,\n",
       "  'value': 'G%5B645%3D435%3C575%3D%5Bg%5B25%3C577%3D5%3D03356%3C'},\n",
       " {'domain': 'interpark.com',\n",
       "  'expiry': 1571199588,\n",
       "  'httpOnly': False,\n",
       "  'name': '_fbp',\n",
       "  'path': '/',\n",
       "  'secure': False,\n",
       "  'value': 'fb.1.1563423586882.1029871507'},\n",
       " {'domain': 'interpark.com',\n",
       "  'expiry': 1563425387,\n",
       "  'httpOnly': False,\n",
       "  'name': '_trs_flow',\n",
       "  'path': '/',\n",
       "  'secure': False,\n",
       "  'value': ''},\n",
       " {'domain': 'interpark.com',\n",
       "  'expiry': 4105090800,\n",
       "  'httpOnly': False,\n",
       "  'name': 'pcid',\n",
       "  'path': '/',\n",
       "  'secure': False,\n",
       "  'value': '156342358558407635'},\n",
       " {'domain': 'ticket.interpark.com',\n",
       "  'httpOnly': False,\n",
       "  'name': 'ASPSESSIONIDQADTCTSQ',\n",
       "  'path': '/',\n",
       "  'secure': False,\n",
       "  'value': 'DLFHMJJDFHEKGFJCINCMNBCN'},\n",
       " {'domain': 'ticket.interpark.com',\n",
       "  'httpOnly': False,\n",
       "  'name': 'ASPSESSIONIDAACQASSS',\n",
       "  'path': '/',\n",
       "  'secure': False,\n",
       "  'value': 'OBCJIKJDIKJMJMEIDDEGPIBJ'},\n",
       " {'domain': 'ticket.interpark.com',\n",
       "  'expiry': 1563423597,\n",
       "  'httpOnly': False,\n",
       "  'name': 'criteo_write_test',\n",
       "  'path': '/',\n",
       "  'secure': False,\n",
       "  'value': 'ChUIBBINbXlHb29nbGVSdGJJZBgBIAE'},\n",
       " {'domain': 'interpark.com',\n",
       "  'expiry': 1626581984.954221,\n",
       "  'httpOnly': False,\n",
       "  'name': 'OAX',\n",
       "  'path': '/',\n",
       "  'secure': False,\n",
       "  'value': 'o5gDjF0v8xIAAeJi'}]"
      ]
     },
     "execution_count": 3,
     "metadata": {},
     "output_type": "execute_result"
    }
   ],
   "source": [
    "driver.get_cookies()"
   ]
  },
  {
   "cell_type": "code",
   "execution_count": 4,
   "metadata": {},
   "outputs": [
    {
     "data": {
      "text/plain": [
       "['_gat_UA-93889457-1',\n",
       " '_gid',\n",
       " '_ga',\n",
       " '_trs_id',\n",
       " 'cto_lwid',\n",
       " '_trs_sid',\n",
       " '_fbp',\n",
       " '_trs_flow',\n",
       " 'pcid',\n",
       " 'ASPSESSIONIDQADTCTSQ',\n",
       " 'ASPSESSIONIDAACQASSS',\n",
       " 'OAX']"
      ]
     },
     "execution_count": 4,
     "metadata": {},
     "output_type": "execute_result"
    }
   ],
   "source": [
    "[_[\"name\"]for _ in driver.get_cookies()]"
   ]
  },
  {
   "cell_type": "markdown",
   "metadata": {},
   "source": [
    "#### 계정정보 넣고 로그인해보기"
   ]
  },
  {
   "cell_type": "code",
   "execution_count": 8,
   "metadata": {},
   "outputs": [],
   "source": [
    "import json\n",
    "with open(\"interpark.json\") as fp:\n",
    "    account=json.load(fp)"
   ]
  },
  {
   "cell_type": "code",
   "execution_count": 9,
   "metadata": {},
   "outputs": [
    {
     "data": {
      "text/plain": [
       "[{'domain': 'interpark.com',\n",
       "  'expiry': 1563423886,\n",
       "  'httpOnly': False,\n",
       "  'name': '_gat_UA-93889457-1',\n",
       "  'path': '/',\n",
       "  'secure': False,\n",
       "  'value': '1'},\n",
       " {'domain': 'ticket.interpark.com',\n",
       "  'httpOnly': False,\n",
       "  'name': 'GNBBookCnt',\n",
       "  'path': '/',\n",
       "  'secure': False,\n",
       "  'value': '0'},\n",
       " {'domain': 'interpark.com',\n",
       "  'expiry': 1579191665,\n",
       "  'httpOnly': False,\n",
       "  'name': '__utmz',\n",
       "  'path': '/',\n",
       "  'secure': False,\n",
       "  'value': '41825914.1563423660.1.1.utmcsr=(direct)|utmccn=(direct)|utmcmd=(none)'},\n",
       " {'domain': 'interpark.com',\n",
       "  'expiry': 1594959827.421481,\n",
       "  'httpOnly': False,\n",
       "  'name': 'captcha_text',\n",
       "  'path': '/',\n",
       "  'secure': False,\n",
       "  'value': 'uq%2BBetViJ%2BWZe4N2%2B%2BPvlA%3D%3D'},\n",
       " {'domain': 'interpark.com',\n",
       "  'httpOnly': False,\n",
       "  'name': '__utmc',\n",
       "  'path': '/',\n",
       "  'secure': False,\n",
       "  'value': '41825914'},\n",
       " {'domain': 'interpark.com',\n",
       "  'httpOnly': False,\n",
       "  'name': 'pwdChgYn',\n",
       "  'path': '/',\n",
       "  'secure': False,\n",
       "  'value': 'Y'},\n",
       " {'domain': 'interpark.com',\n",
       "  'httpOnly': False,\n",
       "  'name': 'SAVEID',\n",
       "  'path': '/',\n",
       "  'secure': False,\n",
       "  'value': 'N'},\n",
       " {'domain': 'interpark.com',\n",
       "  'expiry': 1626495665,\n",
       "  'httpOnly': False,\n",
       "  'name': '__utma',\n",
       "  'path': '/',\n",
       "  'secure': False,\n",
       "  'value': '41825914.1922092140.1563423587.1563423660.1563423660.1'},\n",
       " {'domain': 'interpark.com',\n",
       "  'httpOnly': False,\n",
       "  'name': 'interparktime',\n",
       "  'path': '/',\n",
       "  'secure': False,\n",
       "  'value': '1563423657'},\n",
       " {'domain': 'ticket.interpark.com',\n",
       "  'httpOnly': False,\n",
       "  'name': 'TSession%5FID',\n",
       "  'path': '/',\n",
       "  'secure': False,\n",
       "  'value': '88A0E5502E834045A09BE25D269CA29A'},\n",
       " {'domain': 'interpark.com',\n",
       "  'expiry': 1563424007.421558,\n",
       "  'httpOnly': False,\n",
       "  'name': 'cpth',\n",
       "  'path': '/',\n",
       "  'secure': False,\n",
       "  'value': '02fec84d3239b57b9fa43618966b8347'},\n",
       " {'domain': 'ticket.interpark.com',\n",
       "  'httpOnly': False,\n",
       "  'name': 'ASPSESSIONIDQEDTARSR',\n",
       "  'path': '/',\n",
       "  'secure': True,\n",
       "  'value': 'AFCDELFDOGBCCELNLBFHJCAH'},\n",
       " {'domain': 'interpark.com',\n",
       "  'expiry': 1563510227,\n",
       "  'httpOnly': False,\n",
       "  'name': '_gid',\n",
       "  'path': '/',\n",
       "  'secure': False,\n",
       "  'value': 'GA1.2.1526133533.1563423587'},\n",
       " {'domain': 'interpark.com',\n",
       "  'expiry': 1626495827,\n",
       "  'httpOnly': False,\n",
       "  'name': '_ga',\n",
       "  'path': '/',\n",
       "  'secure': False,\n",
       "  'value': 'GA1.2.1922092140.1563423587'},\n",
       " {'domain': 'interpark.com',\n",
       "  'expiry': 1640822400,\n",
       "  'httpOnly': False,\n",
       "  'name': '_trs_id',\n",
       "  'path': '/',\n",
       "  'secure': False,\n",
       "  'value': 'eY07%3E755%3F7%3F21174%3E'},\n",
       " {'domain': 'interpark.com',\n",
       "  'httpOnly': False,\n",
       "  'name': 'IEGS_GUIF',\n",
       "  'path': '/',\n",
       "  'secure': False,\n",
       "  'value': '01%242%2449%24'},\n",
       " {'domain': 'interpark.com',\n",
       "  'expiry': 1563425627,\n",
       "  'httpOnly': False,\n",
       "  'name': '_trs_sid',\n",
       "  'path': '/',\n",
       "  'secure': False,\n",
       "  'value': 'G%5B645%3D435%3C575%3D%5Bg%5B25%3C577%3D5%3D03356%3C'},\n",
       " {'domain': 'ticket.interpark.com',\n",
       "  'httpOnly': False,\n",
       "  'name': 'ASPSESSIONIDAECQASSS',\n",
       "  'path': '/',\n",
       "  'secure': True,\n",
       "  'value': 'EBDJIKJDOCEOPNLGKEACLMEF'},\n",
       " {'domain': 'interpark.com',\n",
       "  'expiry': 1571199829,\n",
       "  'httpOnly': False,\n",
       "  'name': '_fbp',\n",
       "  'path': '/',\n",
       "  'secure': False,\n",
       "  'value': 'fb.1.1563423586882.1029871507'},\n",
       " {'domain': 'interpark.com',\n",
       "  'expiry': 1563425465,\n",
       "  'httpOnly': False,\n",
       "  'name': '__utmb',\n",
       "  'path': '/',\n",
       "  'secure': False,\n",
       "  'value': '41825914.2.10.1563423660'},\n",
       " {'domain': 'interpark.com',\n",
       "  'httpOnly': False,\n",
       "  'name': 'GoodsCntInWishAndCart',\n",
       "  'path': '/',\n",
       "  'secure': False,\n",
       "  'value': '0^0'},\n",
       " {'domain': 'ticket.interpark.com',\n",
       "  'httpOnly': False,\n",
       "  'name': 'ASPSESSIONIDAACQASSS',\n",
       "  'path': '/',\n",
       "  'secure': False,\n",
       "  'value': 'OBCJIKJDIKJMJMEIDDEGPIBJ'},\n",
       " {'domain': 'interpark.com',\n",
       "  'httpOnly': False,\n",
       "  'name': 'idt_iss',\n",
       "  'path': '/',\n",
       "  'secure': False,\n",
       "  'value': '1563423657000'},\n",
       " {'domain': 'interpark.com',\n",
       "  'expiry': 1563425627,\n",
       "  'httpOnly': False,\n",
       "  'name': '_trs_flow',\n",
       "  'path': '/',\n",
       "  'secure': False,\n",
       "  'value': ''},\n",
       " {'domain': 'ticket.interpark.com',\n",
       "  'httpOnly': False,\n",
       "  'name': 'ASPSESSIONIDAGBRARSS',\n",
       "  'path': '/',\n",
       "  'secure': True,\n",
       "  'value': 'OIMKPLFDONBFKOEMMLFEBHNG'},\n",
       " {'domain': 'interpark.com',\n",
       "  'expiry': 1597587587,\n",
       "  'httpOnly': False,\n",
       "  'name': 'cto_lwid',\n",
       "  'path': '/',\n",
       "  'secure': False,\n",
       "  'value': 'd349a95a-51d8-4d98-a6e1-728446e29fbd'},\n",
       " {'domain': 'interpark.com',\n",
       "  'expiry': 1563424260,\n",
       "  'httpOnly': False,\n",
       "  'name': '__utmt',\n",
       "  'path': '/',\n",
       "  'secure': False,\n",
       "  'value': '1'},\n",
       " {'domain': 'ticket.interpark.com',\n",
       "  'httpOnly': False,\n",
       "  'name': 'ASPSESSIONIDQADTCTSQ',\n",
       "  'path': '/',\n",
       "  'secure': False,\n",
       "  'value': 'DLFHMJJDFHEKGFJCINCMNBCN'},\n",
       " {'domain': 'interpark.com',\n",
       "  'expiry': 4105090800,\n",
       "  'httpOnly': False,\n",
       "  'name': 'pcid',\n",
       "  'path': '/',\n",
       "  'secure': False,\n",
       "  'value': '156342358558407635'},\n",
       " {'domain': 'interpark.com',\n",
       "  'httpOnly': False,\n",
       "  'name': 'id_token',\n",
       "  'path': '/',\n",
       "  'secure': False,\n",
       "  'value': 'eyJraWQiOiJiNkJsUU9uR05jdGxLcU0yQUNsQk5KekdSTVhZai1FeTZTN01KR3gwZEV3IiwiYWxnIjoiUlMyNTYifQ.eyJhY2Nlc3NfdG9rZW4iOiJ6ZEFcLzF6NmI0elVkcmpzMkRLVjJ0ZDRcL3hCR1N0d2VCRytzUkdIUDcrR01URUZURlRlNmJ6NlRvMGdBeWE2RVIiLCJzdWIiOiJpRzhxSFE5QndSUlE0ZTZjdlwvMjFqQT09IiwiYXVkIjoiaW50ZXJwYXJrLXBjIiwiaG1ubyI6ImN6TVRBODJRc3JmSFpiVEpQTEJCekE9PSIsImlzcyI6Imh0dHBzOlwvXC9hY2NvdW50cy5pbnRlcnBhcmsuY29tIiwiZ3JkIjoibGlla1wvKzJDWXdLMGlUQjZtZVlkdmc9PSIsImV4cCI6MTU2MzQyOTA1NywidG1ubyI6ImI0VkxXT3RvV21LSm44YzJsNFJpUGc9PSIsImlhdCI6MTU2MzQyMzY1Nywibm0iOiJROU1rMzJsTmtrUVNVRER1OXl2TzFBPT0iLCJtbm8iOiJEWWkzTDVibTl0d1VmT25Oa1BMTVwvUT09In0.FbD_dWnFtgxIY0kqhBGhR8MEkU0tWgvrp-0xYTjku8dq3e1TyaMEjpPXCZnyK9o7S0aoYwK2pkfFGv_aESMypmAMmh3nw2N8uSEqgFa1sBPCGHH6kwkRVHOZVrDNB4j39kehIIyto5jL0RqffZ5oFRe7M_rlIW0Dr0JsTobkVXBYZf0CzxPscn8tYoTArCMlDA0SDVo4ET2ukRibGXjZ5BHcaFupT03yG12guNBGGOZi1A8MgaHJ-I5ZXktzNTogj4VRV2RcjRVTBA9mY2B46lkk1Ic6BCF4zUCrs5DZupHSbx0KbrHyYGh6NYtSB3uDktuljGuhGza7T8sJaZZv2g'},\n",
       " {'domain': 'interpark.com',\n",
       "  'expiry': 1626581984.954221,\n",
       "  'httpOnly': False,\n",
       "  'name': 'OAX',\n",
       "  'path': '/',\n",
       "  'secure': False,\n",
       "  'value': 'o5gDjF0v8xIAAeJi'},\n",
       " {'domain': 'ticket.interpark.com',\n",
       "  'httpOnly': False,\n",
       "  'name': 'IEGS%5FGUIF',\n",
       "  'path': '/',\n",
       "  'secure': False,\n",
       "  'value': '01%25242%252449%2524'},\n",
       " {'domain': 'ticket.interpark.com',\n",
       "  'httpOnly': False,\n",
       "  'name': 'ASPSESSIONIDSGBQBQQR',\n",
       "  'path': '/',\n",
       "  'secure': True,\n",
       "  'value': 'OIFLHONDOPILBKMLDPGKHAHP'}]"
      ]
     },
     "execution_count": 9,
     "metadata": {},
     "output_type": "execute_result"
    }
   ],
   "source": [
    "driver.get_cookies()"
   ]
  },
  {
   "cell_type": "code",
   "execution_count": 11,
   "metadata": {
    "scrolled": true
   },
   "outputs": [
    {
     "data": {
      "text/plain": [
       "['MemHash',\n",
       " 'pwdChgYn',\n",
       " 'memRealName',\n",
       " 'TMem%5FNO',\n",
       " 'HMem%5FNO',\n",
       " 'TSecLogin',\n",
       " 'TSession%5FID',\n",
       " 'IMem%5FNO',\n",
       " 'interparkID',\n",
       " 'ASPSESSIONIDQCATDSQR',\n",
       " 'ISession%5FID',\n",
       " 'TKLogin',\n",
       " 'GNBBookCnt',\n",
       " 'iaf',\n",
       " 'ASPSESSIONIDQADTCTSQ',\n",
       " '__utmt',\n",
       " 'interparktime',\n",
       " '__utma',\n",
       " 'GoodsCntInWishAndCart',\n",
       " '__utmb',\n",
       " 'SAVEID',\n",
       " 'interparkstamp',\n",
       " 'IEGS%5FGUIF',\n",
       " '__utmz',\n",
       " 'alMemNm',\n",
       " 'cpth',\n",
       " '_gid',\n",
       " 'captcha_text',\n",
       " '__utmc',\n",
       " '_ga',\n",
       " 'siteAgree',\n",
       " 'IEGS_GUIF',\n",
       " '_trs_id',\n",
       " 'cto_lwid',\n",
       " 'PrivacyCertify',\n",
       " '_trs_sid',\n",
       " '_fbp',\n",
       " 'idt_iss',\n",
       " '_trs_flow',\n",
       " 'interparkSNO',\n",
       " 'pcid',\n",
       " 'ASPSESSIONIDAACQASSS',\n",
       " 'TPartner',\n",
       " 'tempinterparkGUEST',\n",
       " 'id_token',\n",
       " 'OAX']"
      ]
     },
     "execution_count": 11,
     "metadata": {},
     "output_type": "execute_result"
    }
   ],
   "source": [
    "[_[\"name\"] for _ in driver.get_cookies()]"
   ]
  },
  {
   "cell_type": "markdown",
   "metadata": {},
   "source": [
    "#### 세션값으로 로그인 여부 판단하는 코드"
   ]
  },
  {
   "cell_type": "code",
   "execution_count": 44,
   "metadata": {},
   "outputs": [
    {
     "name": "stdout",
     "output_type": "stream",
     "text": [
      "로그인 됨\n"
     ]
    }
   ],
   "source": [
    "if \"ISession%5FID\" not in [(_[\"name\"],[\"value\"]) for _ in driver.get_cookies()]:\n",
    "    login(account)\n",
    "else:\n",
    "     login(None, \"logout\")\n"
   ]
  },
  {
   "cell_type": "markdown",
   "metadata": {},
   "source": [
    "\n",
    "## ■로그인 함수\n",
    "- 로그인 및 로그아웃"
   ]
  },
  {
   "cell_type": "code",
   "execution_count": 107,
   "metadata": {},
   "outputs": [],
   "source": [
    "#로그인 위치 찾기\n",
    "def login(account, method=\"login\"):\n",
    "    try:\n",
    "        login=driver.find_element_by_css_selector(\"#logstatus > a\")\n",
    "        #메소드가 'login'이면 로그인 시킴\n",
    "        if method==\"login\":\n",
    "            if login and login.get_attribute(\"id\")== \"aLogin\":\n",
    "                driver.get(login.get_attribute(\"href\"))\n",
    "\n",
    "                # 로그인 화면에서 계정 입력하기\n",
    "                driver.find_element_by_css_selector(\"#UID\").send_keys(account[\"id\"])#내id보내\n",
    "                driver.find_element_by_css_selector(\"#PWD\").send_keys(account[\"pw\"])#내 pw보내\n",
    "                driver.find_element_by_css_selector(\"div.loginBtn > button\").click()\n",
    "         #메소드가 'login'이 아니면 로그아웃 시킴.       \n",
    "        else:\n",
    "            login.click()# 로그인 위치에 '로그아웃'버튼이 있음\n",
    "    except:\n",
    "        return False\n",
    "    return True\n",
    "    "
   ]
  },
  {
   "cell_type": "markdown",
   "metadata": {},
   "source": [
    "### 로그인 함수로 로그인 하기"
   ]
  },
  {
   "cell_type": "code",
   "execution_count": 108,
   "metadata": {},
   "outputs": [
    {
     "data": {
      "text/plain": [
       "True"
      ]
     },
     "execution_count": 108,
     "metadata": {},
     "output_type": "execute_result"
    }
   ],
   "source": [
    "login(account,\"login\")"
   ]
  },
  {
   "cell_type": "code",
   "execution_count": 56,
   "metadata": {},
   "outputs": [
    {
     "data": {
      "text/plain": [
       "['TSession%5FID',\n",
       " 'ASPSESSIONIDQCDSDRRQ',\n",
       " 'ASPSESSIONIDQCATDSQR',\n",
       " 'pwdChgYn',\n",
       " 'GNBBookCnt',\n",
       " 'ASPSESSIONIDQEDTCTSQ',\n",
       " '__utmz',\n",
       " '__utma',\n",
       " 'interparktime',\n",
       " 'SAVEID',\n",
       " 'ASPSESSIONIDQEDTARSR',\n",
       " '_gid',\n",
       " 'captcha_text',\n",
       " '__utmc',\n",
       " '_ga',\n",
       " '_trs_id',\n",
       " 'IEGS_GUIF',\n",
       " '_trs_sid',\n",
       " 'ASPSESSIONIDSCCSDSSR',\n",
       " 'ASPSESSIONIDAECQASSS',\n",
       " '_fbp',\n",
       " 'GoodsCntInWishAndCart',\n",
       " 'ASPSESSIONIDAACQASSS',\n",
       " 'idt_iss',\n",
       " '_trs_flow',\n",
       " 'ASPSESSIONIDAGBRARSS',\n",
       " 'cto_lwid',\n",
       " 'ASPSESSIONIDQADTCTSQ',\n",
       " 'ASPSESSIONIDQGDQCQRT',\n",
       " 'ASPSESSIONIDQGATDSQR',\n",
       " 'pcid',\n",
       " 'ASPSESSIONIDQEARARTQ',\n",
       " 'id_token',\n",
       " 'OAX',\n",
       " 'ASPSESSIONIDSGCSDSSR',\n",
       " 'IEGS%5FGUIF',\n",
       " 'ASPSESSIONIDSGBQBQQR']"
      ]
     },
     "execution_count": 56,
     "metadata": {},
     "output_type": "execute_result"
    }
   ],
   "source": [
    "[_[\"name\"] for _ in driver.get_cookies()]"
   ]
  },
  {
   "cell_type": "markdown",
   "metadata": {},
   "source": [
    "### 로그인 함수로 로그아웃하기"
   ]
  },
  {
   "cell_type": "code",
   "execution_count": 52,
   "metadata": {},
   "outputs": [
    {
     "data": {
      "text/plain": [
       "True"
      ]
     },
     "execution_count": 52,
     "metadata": {},
     "output_type": "execute_result"
    }
   ],
   "source": [
    "login(account,\"logout\")"
   ]
  },
  {
   "cell_type": "code",
   "execution_count": 54,
   "metadata": {},
   "outputs": [],
   "source": [
    "_logout=[_[\"name\"] for _ in driver.get_cookies()]"
   ]
  },
  {
   "cell_type": "code",
   "execution_count": 55,
   "metadata": {},
   "outputs": [
    {
     "data": {
      "text/plain": [
       "(46, 39)"
      ]
     },
     "execution_count": 55,
     "metadata": {},
     "output_type": "execute_result"
    }
   ],
   "source": [
    "len(_login), len(_logout)"
   ]
  },
  {
   "cell_type": "markdown",
   "metadata": {},
   "source": [
    "#### 카테고리 화면 클릭하기"
   ]
  },
  {
   "cell_type": "code",
   "execution_count": 63,
   "metadata": {
    "scrolled": true
   },
   "outputs": [
    {
     "name": "stdout",
     "output_type": "stream",
     "text": [
      "전체메뉴보기\n",
      "뮤지컬\n",
      "콘서트\n",
      "연극\n",
      "클래식/무용\n",
      "스포츠\n",
      "레저\n",
      "전시/행사\n",
      "아동/가족\n",
      "TOPING\n",
      "랭킹\n",
      "지역\n",
      "공연장\n"
     ]
    }
   ],
   "source": [
    "# 포문 조건절에는 elements, 프린트할떈 하나씩 element *******\n",
    "for _ in driver.find_elements_by_css_selector(\"ul.gnbBtns a[class^=btn]\"):\n",
    "    print(_.find_element_by_css_selector(\"img\").get_attribute(\"alt\"))"
   ]
  },
  {
   "cell_type": "markdown",
   "metadata": {},
   "source": [
    "### 카테고리 화면클릭시 콘서트 함수에 대한 링크 반환 _self_do"
   ]
  },
  {
   "cell_type": "code",
   "execution_count": 110,
   "metadata": {},
   "outputs": [],
   "source": [
    "def gnbbtns(category=\"콘서트\"):\n",
    "    links=[_ for _ in driver.find_elements_by_css_selector(\"ul.gnbBtns a[class^=btn]\")]\n",
    "    titles=[_.find_element_by_css_selector(\"img\").get_attribute(\"alt\") for _ in links]\n",
    "\n",
    "    if category in titles:\n",
    "        return links[titles.index(category)].get_attribute(\"href\")\n",
    "    return False\n",
    "    "
   ]
  },
  {
   "cell_type": "markdown",
   "metadata": {},
   "source": [
    "#### 카테고리 함수 사용"
   ]
  },
  {
   "cell_type": "code",
   "execution_count": 113,
   "metadata": {},
   "outputs": [
    {
     "data": {
      "text/plain": [
       "'http://ticket.interpark.com/ConcertIndex.asp'"
      ]
     },
     "execution_count": 113,
     "metadata": {},
     "output_type": "execute_result"
    }
   ],
   "source": [
    "gnbbtns(\"콘서트\")"
   ]
  },
  {
   "cell_type": "markdown",
   "metadata": {},
   "source": [
    "### ■ 내가 선택하고 싶은 카테고리로 이동(by url)"
   ]
  },
  {
   "cell_type": "code",
   "execution_count": 114,
   "metadata": {},
   "outputs": [],
   "source": [
    "url= gnbbtns(\"콘서트\")\n",
    "if url:\n",
    "    driver.get(url)"
   ]
  },
  {
   "cell_type": "markdown",
   "metadata": {},
   "source": [
    "#### 공연 리스트들 쫙 가져와보기\n",
    "- 혼자 해보세요~!!!!!!!!!******************"
   ]
  },
  {
   "cell_type": "code",
   "execution_count": 81,
   "metadata": {},
   "outputs": [
    {
     "data": {
      "text/plain": [
       "[<selenium.webdriver.remote.webelement.WebElement (session=\"9260521bcda8bc8c48a870c02f49bec9\", element=\"9acbab8d-9464-4635-aa89-6dc7e8b0d719\")>,\n",
       " <selenium.webdriver.remote.webelement.WebElement (session=\"9260521bcda8bc8c48a870c02f49bec9\", element=\"35082563-7fca-4b75-8045-7d9cf6ca3bb1\")>,\n",
       " <selenium.webdriver.remote.webelement.WebElement (session=\"9260521bcda8bc8c48a870c02f49bec9\", element=\"e3875df8-2654-4f50-ac6b-3b14ca6e9af4\")>,\n",
       " <selenium.webdriver.remote.webelement.WebElement (session=\"9260521bcda8bc8c48a870c02f49bec9\", element=\"ce468247-6270-4127-a90e-5a45d311295f\")>,\n",
       " <selenium.webdriver.remote.webelement.WebElement (session=\"9260521bcda8bc8c48a870c02f49bec9\", element=\"2edfeed8-d8f0-470b-a148-f2d3a851965b\")>,\n",
       " <selenium.webdriver.remote.webelement.WebElement (session=\"9260521bcda8bc8c48a870c02f49bec9\", element=\"2688918f-6a72-4e81-bd5d-f07891bef63e\")>,\n",
       " <selenium.webdriver.remote.webelement.WebElement (session=\"9260521bcda8bc8c48a870c02f49bec9\", element=\"1a2506c6-8f76-455b-9cb7-31049d9213e1\")>,\n",
       " <selenium.webdriver.remote.webelement.WebElement (session=\"9260521bcda8bc8c48a870c02f49bec9\", element=\"9a1193de-9a6c-4a5e-8f63-7aeaf94816ac\")>,\n",
       " <selenium.webdriver.remote.webelement.WebElement (session=\"9260521bcda8bc8c48a870c02f49bec9\", element=\"f00ca282-5b3c-42d1-b1e4-0f73f7c5f153\")>,\n",
       " <selenium.webdriver.remote.webelement.WebElement (session=\"9260521bcda8bc8c48a870c02f49bec9\", element=\"8f7b5aef-0dfe-427e-a729-76368533358b\")>,\n",
       " <selenium.webdriver.remote.webelement.WebElement (session=\"9260521bcda8bc8c48a870c02f49bec9\", element=\"4885c329-f7cd-488f-bdbd-71dd39c2b79b\")>,\n",
       " <selenium.webdriver.remote.webelement.WebElement (session=\"9260521bcda8bc8c48a870c02f49bec9\", element=\"13ef2261-ed78-42e4-9bc4-2086651c055d\")>,\n",
       " <selenium.webdriver.remote.webelement.WebElement (session=\"9260521bcda8bc8c48a870c02f49bec9\", element=\"de556db8-9471-46db-8427-d9ed5d65cbc5\")>,\n",
       " <selenium.webdriver.remote.webelement.WebElement (session=\"9260521bcda8bc8c48a870c02f49bec9\", element=\"5f0b155b-7c64-4ca7-8b5f-537f96b885cb\")>,\n",
       " <selenium.webdriver.remote.webelement.WebElement (session=\"9260521bcda8bc8c48a870c02f49bec9\", element=\"bc0a8964-694a-418f-be21-45934d1fdf5b\")>,\n",
       " <selenium.webdriver.remote.webelement.WebElement (session=\"9260521bcda8bc8c48a870c02f49bec9\", element=\"60e1cbf6-ac36-4c08-bc24-35ca77fc201b\")>,\n",
       " <selenium.webdriver.remote.webelement.WebElement (session=\"9260521bcda8bc8c48a870c02f49bec9\", element=\"8848433e-e0b1-492c-b3b7-352b825f21e6\")>,\n",
       " <selenium.webdriver.remote.webelement.WebElement (session=\"9260521bcda8bc8c48a870c02f49bec9\", element=\"d62141ff-c7ff-4acf-b384-beee1bdc0219\")>,\n",
       " <selenium.webdriver.remote.webelement.WebElement (session=\"9260521bcda8bc8c48a870c02f49bec9\", element=\"009b1565-23ee-449b-a8f2-7bfdb8c33e15\")>,\n",
       " <selenium.webdriver.remote.webelement.WebElement (session=\"9260521bcda8bc8c48a870c02f49bec9\", element=\"d21df2df-da89-4494-8ee8-0ea0c925aed1\")>,\n",
       " <selenium.webdriver.remote.webelement.WebElement (session=\"9260521bcda8bc8c48a870c02f49bec9\", element=\"d6d8d76f-204b-4ff6-b4d0-838f642f0891\")>,\n",
       " <selenium.webdriver.remote.webelement.WebElement (session=\"9260521bcda8bc8c48a870c02f49bec9\", element=\"2dfb99a9-60c3-4617-ac83-b1fb87d5544f\")>,\n",
       " <selenium.webdriver.remote.webelement.WebElement (session=\"9260521bcda8bc8c48a870c02f49bec9\", element=\"dcc58c16-a45e-40d9-990f-83d3104337a0\")>,\n",
       " <selenium.webdriver.remote.webelement.WebElement (session=\"9260521bcda8bc8c48a870c02f49bec9\", element=\"1786fcec-b60e-44f5-b88f-c0d74e198fd8\")>,\n",
       " <selenium.webdriver.remote.webelement.WebElement (session=\"9260521bcda8bc8c48a870c02f49bec9\", element=\"d47d72ff-0415-497b-8d1c-07b77430d6cd\")>,\n",
       " <selenium.webdriver.remote.webelement.WebElement (session=\"9260521bcda8bc8c48a870c02f49bec9\", element=\"6206cf19-ce9e-42a0-88d2-67550cee4dc8\")>,\n",
       " <selenium.webdriver.remote.webelement.WebElement (session=\"9260521bcda8bc8c48a870c02f49bec9\", element=\"edb3a386-64f5-4556-8546-094e909c60f6\")>,\n",
       " <selenium.webdriver.remote.webelement.WebElement (session=\"9260521bcda8bc8c48a870c02f49bec9\", element=\"bdd5751e-5def-403e-8019-82eb972953e3\")>,\n",
       " <selenium.webdriver.remote.webelement.WebElement (session=\"9260521bcda8bc8c48a870c02f49bec9\", element=\"53cce998-375a-4bbd-8a5a-7bc57ef9f685\")>,\n",
       " <selenium.webdriver.remote.webelement.WebElement (session=\"9260521bcda8bc8c48a870c02f49bec9\", element=\"0c965d73-4a4a-4f03-bc84-fd8e42d52893\")>,\n",
       " <selenium.webdriver.remote.webelement.WebElement (session=\"9260521bcda8bc8c48a870c02f49bec9\", element=\"eeb545e5-c104-4703-a3dd-698a76b197eb\")>,\n",
       " <selenium.webdriver.remote.webelement.WebElement (session=\"9260521bcda8bc8c48a870c02f49bec9\", element=\"7286e3d1-aad4-460e-b7d3-00e54a876b4e\")>,\n",
       " <selenium.webdriver.remote.webelement.WebElement (session=\"9260521bcda8bc8c48a870c02f49bec9\", element=\"7b8b9b67-342c-45d5-99f8-7ede3e829537\")>,\n",
       " <selenium.webdriver.remote.webelement.WebElement (session=\"9260521bcda8bc8c48a870c02f49bec9\", element=\"20c20429-144e-4346-885f-5c1b7668c342\")>,\n",
       " <selenium.webdriver.remote.webelement.WebElement (session=\"9260521bcda8bc8c48a870c02f49bec9\", element=\"778fd720-8478-481b-a2c1-3e9115ec28d4\")>,\n",
       " <selenium.webdriver.remote.webelement.WebElement (session=\"9260521bcda8bc8c48a870c02f49bec9\", element=\"fe3b1030-5ef3-40a5-8ab3-c76ce461deb4\")>,\n",
       " <selenium.webdriver.remote.webelement.WebElement (session=\"9260521bcda8bc8c48a870c02f49bec9\", element=\"15f8a857-8e14-44f8-b32f-2d2e24a0d05c\")>,\n",
       " <selenium.webdriver.remote.webelement.WebElement (session=\"9260521bcda8bc8c48a870c02f49bec9\", element=\"dbdad5ba-db2f-4f80-889c-eb73531f9c99\")>,\n",
       " <selenium.webdriver.remote.webelement.WebElement (session=\"9260521bcda8bc8c48a870c02f49bec9\", element=\"3631809e-ff92-40de-9c44-22b52bc1a6c1\")>,\n",
       " <selenium.webdriver.remote.webelement.WebElement (session=\"9260521bcda8bc8c48a870c02f49bec9\", element=\"af76d3b2-2d99-4871-81f4-548aa441ecc7\")>,\n",
       " <selenium.webdriver.remote.webelement.WebElement (session=\"9260521bcda8bc8c48a870c02f49bec9\", element=\"80063d1b-6940-4cf4-8af0-a3a012817168\")>,\n",
       " <selenium.webdriver.remote.webelement.WebElement (session=\"9260521bcda8bc8c48a870c02f49bec9\", element=\"c310350a-cf24-46de-a394-bcbe0d84563b\")>,\n",
       " <selenium.webdriver.remote.webelement.WebElement (session=\"9260521bcda8bc8c48a870c02f49bec9\", element=\"483f3e1b-9e45-4ada-8b33-8eaa818398be\")>,\n",
       " <selenium.webdriver.remote.webelement.WebElement (session=\"9260521bcda8bc8c48a870c02f49bec9\", element=\"27fb5781-60ff-4f22-8a50-5ec41a37c8d1\")>,\n",
       " <selenium.webdriver.remote.webelement.WebElement (session=\"9260521bcda8bc8c48a870c02f49bec9\", element=\"0e94bf53-6eca-4077-8947-3eff44432fe3\")>,\n",
       " <selenium.webdriver.remote.webelement.WebElement (session=\"9260521bcda8bc8c48a870c02f49bec9\", element=\"7708dec2-dbfe-4eec-930c-bbc63b91d7f8\")>,\n",
       " <selenium.webdriver.remote.webelement.WebElement (session=\"9260521bcda8bc8c48a870c02f49bec9\", element=\"705a1b5c-ad5b-410a-bc6a-0fe407d13ca6\")>,\n",
       " <selenium.webdriver.remote.webelement.WebElement (session=\"9260521bcda8bc8c48a870c02f49bec9\", element=\"a663950c-7e82-46b4-9c58-c4cca59f8d9d\")>,\n",
       " <selenium.webdriver.remote.webelement.WebElement (session=\"9260521bcda8bc8c48a870c02f49bec9\", element=\"1ed627aa-b3fc-4bb2-a87c-a2af6475df2c\")>,\n",
       " <selenium.webdriver.remote.webelement.WebElement (session=\"9260521bcda8bc8c48a870c02f49bec9\", element=\"f29878dc-b070-410e-808d-c6f2e717be77\")>,\n",
       " <selenium.webdriver.remote.webelement.WebElement (session=\"9260521bcda8bc8c48a870c02f49bec9\", element=\"f9d12d1d-075b-47ff-b7db-49fde411b1eb\")>,\n",
       " <selenium.webdriver.remote.webelement.WebElement (session=\"9260521bcda8bc8c48a870c02f49bec9\", element=\"1287e207-d329-474c-8933-23f407b49702\")>,\n",
       " <selenium.webdriver.remote.webelement.WebElement (session=\"9260521bcda8bc8c48a870c02f49bec9\", element=\"5f3cc54d-3d0c-4ea2-8833-a8ca086ecfd3\")>,\n",
       " <selenium.webdriver.remote.webelement.WebElement (session=\"9260521bcda8bc8c48a870c02f49bec9\", element=\"114bff45-c76c-4a84-bf5b-717dde49f3ba\")>,\n",
       " <selenium.webdriver.remote.webelement.WebElement (session=\"9260521bcda8bc8c48a870c02f49bec9\", element=\"f6ad25af-a7f9-4951-8ad4-3e93b76d45f7\")>,\n",
       " <selenium.webdriver.remote.webelement.WebElement (session=\"9260521bcda8bc8c48a870c02f49bec9\", element=\"7b5f393c-a002-4471-9d48-5bd026a7988f\")>]"
      ]
     },
     "execution_count": 81,
     "metadata": {},
     "output_type": "execute_result"
    }
   ],
   "source": [
    "driver.find_elements_by_css_selector(\"div.wrap_issue dl.list > dt.issue_obj > a\")"
   ]
  },
  {
   "cell_type": "code",
   "execution_count": 83,
   "metadata": {},
   "outputs": [
    {
     "data": {
      "text/plain": [
       "56"
      ]
     },
     "execution_count": 83,
     "metadata": {},
     "output_type": "execute_result"
    }
   ],
   "source": [
    "#가져온 공연 리스트 갯수\n",
    "len(driver.find_elements_by_css_selector(\"div.wrap_issue dl.list > dt.issue_obj > a\"))"
   ]
  },
  {
   "cell_type": "markdown",
   "metadata": {},
   "source": [
    "## ■원하는 공연 url 반환하는 함수"
   ]
  },
  {
   "cell_type": "code",
   "execution_count": 135,
   "metadata": {},
   "outputs": [],
   "source": [
    "def hotissue(issue=\"\"): \n",
    "    #핫 이슈에 해당하는 사람명을 넣으면 그에 맞는 url 반환\n",
    "    #항목에 있는 이슈 선택\n",
    "    issues=[_ for _ in driver.find_elements_by_css_selector(\"div.wrap_issue dl.list > dt.issue_obj > a\")]\n",
    "    #선택한 부분에 대한 '제목' 지정\n",
    "    title=[_.find_element_by_css_selector(\"span.txt1\").text for _ in issues]\n",
    " \n",
    "    if issue in title:\n",
    "            return issues[title.index(issue)].get_attribute(\"href\")\n",
    "            #핫 이슈에 있는 타이틀(공연)이라고 하면 그 ulr을 넘겨요\n",
    "    else:\n",
    "        return issues[0].get_attribute(\"href\")\n",
    "        "
   ]
  },
  {
   "cell_type": "code",
   "execution_count": 137,
   "metadata": {},
   "outputs": [
    {
     "data": {
      "text/plain": [
       "'http://ticket.interpark.com/Ticket/Goods/TPBridge.asp?GoodsCode=19010681'"
      ]
     },
     "execution_count": 137,
     "metadata": {},
     "output_type": "execute_result"
    }
   ],
   "source": [
    "hotissue()"
   ]
  },
  {
   "cell_type": "markdown",
   "metadata": {},
   "source": [
    "#### 박정현에 대한 콘서트 내역 클릭"
   ]
  },
  {
   "cell_type": "code",
   "execution_count": 140,
   "metadata": {},
   "outputs": [],
   "source": [
    "url=hotissue(\"박정현\")"
   ]
  },
  {
   "cell_type": "markdown",
   "metadata": {},
   "source": [
    "#### 받아온 URL로 접속하기"
   ]
  },
  {
   "cell_type": "code",
   "execution_count": 143,
   "metadata": {},
   "outputs": [],
   "source": [
    "driver.get(url)"
   ]
  },
  {
   "cell_type": "markdown",
   "metadata": {},
   "source": [
    "#### 선택한 박정현 콘서트에 대해 '예매하기' 버튼 클릭\n",
    "- 내가 만들었어~~~!!!우왕 신기방기 방기 동방신기"
   ]
  },
  {
   "cell_type": "code",
   "execution_count": 123,
   "metadata": {
    "collapsed": true
   },
   "outputs": [
    {
     "ename": "NoSuchElementException",
     "evalue": "Message: no such element: Unable to locate element: {\"method\":\"css selector\",\"selector\":\"div.DT_Rarea > div.tk_dt_btn_TArea > a.btn_rev\"}\n  (Session info: chrome=75.0.3770.142)\n",
     "output_type": "error",
     "traceback": [
      "\u001b[1;31m---------------------------------------------------------------------------\u001b[0m",
      "\u001b[1;31mNoSuchElementException\u001b[0m                    Traceback (most recent call last)",
      "\u001b[1;32m<ipython-input-123-f3c52fede32a>\u001b[0m in \u001b[0;36m<module>\u001b[1;34m\u001b[0m\n\u001b[1;32m----> 1\u001b[1;33m \u001b[0mdriver\u001b[0m\u001b[1;33m.\u001b[0m\u001b[0mfind_element_by_css_selector\u001b[0m\u001b[1;33m(\u001b[0m\u001b[1;34m\"div.DT_Rarea > div.tk_dt_btn_TArea > a.btn_rev\"\u001b[0m\u001b[1;33m)\u001b[0m\u001b[1;33m.\u001b[0m\u001b[0mclick\u001b[0m\u001b[1;33m(\u001b[0m\u001b[1;33m)\u001b[0m\u001b[1;33m\u001b[0m\u001b[1;33m\u001b[0m\u001b[0m\n\u001b[0m",
      "\u001b[1;32m~\\Anaconda3\\lib\\site-packages\\selenium\\webdriver\\remote\\webdriver.py\u001b[0m in \u001b[0;36mfind_element_by_css_selector\u001b[1;34m(self, css_selector)\u001b[0m\n\u001b[0;32m    596\u001b[0m             \u001b[0melement\u001b[0m \u001b[1;33m=\u001b[0m \u001b[0mdriver\u001b[0m\u001b[1;33m.\u001b[0m\u001b[0mfind_element_by_css_selector\u001b[0m\u001b[1;33m(\u001b[0m\u001b[1;34m'#foo'\u001b[0m\u001b[1;33m)\u001b[0m\u001b[1;33m\u001b[0m\u001b[1;33m\u001b[0m\u001b[0m\n\u001b[0;32m    597\u001b[0m         \"\"\"\n\u001b[1;32m--> 598\u001b[1;33m         \u001b[1;32mreturn\u001b[0m \u001b[0mself\u001b[0m\u001b[1;33m.\u001b[0m\u001b[0mfind_element\u001b[0m\u001b[1;33m(\u001b[0m\u001b[0mby\u001b[0m\u001b[1;33m=\u001b[0m\u001b[0mBy\u001b[0m\u001b[1;33m.\u001b[0m\u001b[0mCSS_SELECTOR\u001b[0m\u001b[1;33m,\u001b[0m \u001b[0mvalue\u001b[0m\u001b[1;33m=\u001b[0m\u001b[0mcss_selector\u001b[0m\u001b[1;33m)\u001b[0m\u001b[1;33m\u001b[0m\u001b[1;33m\u001b[0m\u001b[0m\n\u001b[0m\u001b[0;32m    599\u001b[0m \u001b[1;33m\u001b[0m\u001b[0m\n\u001b[0;32m    600\u001b[0m     \u001b[1;32mdef\u001b[0m \u001b[0mfind_elements_by_css_selector\u001b[0m\u001b[1;33m(\u001b[0m\u001b[0mself\u001b[0m\u001b[1;33m,\u001b[0m \u001b[0mcss_selector\u001b[0m\u001b[1;33m)\u001b[0m\u001b[1;33m:\u001b[0m\u001b[1;33m\u001b[0m\u001b[1;33m\u001b[0m\u001b[0m\n",
      "\u001b[1;32m~\\Anaconda3\\lib\\site-packages\\selenium\\webdriver\\remote\\webdriver.py\u001b[0m in \u001b[0;36mfind_element\u001b[1;34m(self, by, value)\u001b[0m\n\u001b[0;32m    976\u001b[0m         return self.execute(Command.FIND_ELEMENT, {\n\u001b[0;32m    977\u001b[0m             \u001b[1;34m'using'\u001b[0m\u001b[1;33m:\u001b[0m \u001b[0mby\u001b[0m\u001b[1;33m,\u001b[0m\u001b[1;33m\u001b[0m\u001b[1;33m\u001b[0m\u001b[0m\n\u001b[1;32m--> 978\u001b[1;33m             'value': value})['value']\n\u001b[0m\u001b[0;32m    979\u001b[0m \u001b[1;33m\u001b[0m\u001b[0m\n\u001b[0;32m    980\u001b[0m     \u001b[1;32mdef\u001b[0m \u001b[0mfind_elements\u001b[0m\u001b[1;33m(\u001b[0m\u001b[0mself\u001b[0m\u001b[1;33m,\u001b[0m \u001b[0mby\u001b[0m\u001b[1;33m=\u001b[0m\u001b[0mBy\u001b[0m\u001b[1;33m.\u001b[0m\u001b[0mID\u001b[0m\u001b[1;33m,\u001b[0m \u001b[0mvalue\u001b[0m\u001b[1;33m=\u001b[0m\u001b[1;32mNone\u001b[0m\u001b[1;33m)\u001b[0m\u001b[1;33m:\u001b[0m\u001b[1;33m\u001b[0m\u001b[1;33m\u001b[0m\u001b[0m\n",
      "\u001b[1;32m~\\Anaconda3\\lib\\site-packages\\selenium\\webdriver\\remote\\webdriver.py\u001b[0m in \u001b[0;36mexecute\u001b[1;34m(self, driver_command, params)\u001b[0m\n\u001b[0;32m    319\u001b[0m         \u001b[0mresponse\u001b[0m \u001b[1;33m=\u001b[0m \u001b[0mself\u001b[0m\u001b[1;33m.\u001b[0m\u001b[0mcommand_executor\u001b[0m\u001b[1;33m.\u001b[0m\u001b[0mexecute\u001b[0m\u001b[1;33m(\u001b[0m\u001b[0mdriver_command\u001b[0m\u001b[1;33m,\u001b[0m \u001b[0mparams\u001b[0m\u001b[1;33m)\u001b[0m\u001b[1;33m\u001b[0m\u001b[1;33m\u001b[0m\u001b[0m\n\u001b[0;32m    320\u001b[0m         \u001b[1;32mif\u001b[0m \u001b[0mresponse\u001b[0m\u001b[1;33m:\u001b[0m\u001b[1;33m\u001b[0m\u001b[1;33m\u001b[0m\u001b[0m\n\u001b[1;32m--> 321\u001b[1;33m             \u001b[0mself\u001b[0m\u001b[1;33m.\u001b[0m\u001b[0merror_handler\u001b[0m\u001b[1;33m.\u001b[0m\u001b[0mcheck_response\u001b[0m\u001b[1;33m(\u001b[0m\u001b[0mresponse\u001b[0m\u001b[1;33m)\u001b[0m\u001b[1;33m\u001b[0m\u001b[1;33m\u001b[0m\u001b[0m\n\u001b[0m\u001b[0;32m    322\u001b[0m             response['value'] = self._unwrap_value(\n\u001b[0;32m    323\u001b[0m                 response.get('value', None))\n",
      "\u001b[1;32m~\\Anaconda3\\lib\\site-packages\\selenium\\webdriver\\remote\\errorhandler.py\u001b[0m in \u001b[0;36mcheck_response\u001b[1;34m(self, response)\u001b[0m\n\u001b[0;32m    240\u001b[0m                 \u001b[0malert_text\u001b[0m \u001b[1;33m=\u001b[0m \u001b[0mvalue\u001b[0m\u001b[1;33m[\u001b[0m\u001b[1;34m'alert'\u001b[0m\u001b[1;33m]\u001b[0m\u001b[1;33m.\u001b[0m\u001b[0mget\u001b[0m\u001b[1;33m(\u001b[0m\u001b[1;34m'text'\u001b[0m\u001b[1;33m)\u001b[0m\u001b[1;33m\u001b[0m\u001b[1;33m\u001b[0m\u001b[0m\n\u001b[0;32m    241\u001b[0m             \u001b[1;32mraise\u001b[0m \u001b[0mexception_class\u001b[0m\u001b[1;33m(\u001b[0m\u001b[0mmessage\u001b[0m\u001b[1;33m,\u001b[0m \u001b[0mscreen\u001b[0m\u001b[1;33m,\u001b[0m \u001b[0mstacktrace\u001b[0m\u001b[1;33m,\u001b[0m \u001b[0malert_text\u001b[0m\u001b[1;33m)\u001b[0m\u001b[1;33m\u001b[0m\u001b[1;33m\u001b[0m\u001b[0m\n\u001b[1;32m--> 242\u001b[1;33m         \u001b[1;32mraise\u001b[0m \u001b[0mexception_class\u001b[0m\u001b[1;33m(\u001b[0m\u001b[0mmessage\u001b[0m\u001b[1;33m,\u001b[0m \u001b[0mscreen\u001b[0m\u001b[1;33m,\u001b[0m \u001b[0mstacktrace\u001b[0m\u001b[1;33m)\u001b[0m\u001b[1;33m\u001b[0m\u001b[1;33m\u001b[0m\u001b[0m\n\u001b[0m\u001b[0;32m    243\u001b[0m \u001b[1;33m\u001b[0m\u001b[0m\n\u001b[0;32m    244\u001b[0m     \u001b[1;32mdef\u001b[0m \u001b[0m_value_or_default\u001b[0m\u001b[1;33m(\u001b[0m\u001b[0mself\u001b[0m\u001b[1;33m,\u001b[0m \u001b[0mobj\u001b[0m\u001b[1;33m,\u001b[0m \u001b[0mkey\u001b[0m\u001b[1;33m,\u001b[0m \u001b[0mdefault\u001b[0m\u001b[1;33m)\u001b[0m\u001b[1;33m:\u001b[0m\u001b[1;33m\u001b[0m\u001b[1;33m\u001b[0m\u001b[0m\n",
      "\u001b[1;31mNoSuchElementException\u001b[0m: Message: no such element: Unable to locate element: {\"method\":\"css selector\",\"selector\":\"div.DT_Rarea > div.tk_dt_btn_TArea > a.btn_rev\"}\n  (Session info: chrome=75.0.3770.142)\n"
     ]
    }
   ],
   "source": [
    "driver.find_element_by_css_selector(\"div.DT_Rarea > div.tk_dt_btn_TArea > a.btn_rev\").click()"
   ]
  },
  {
   "cell_type": "markdown",
   "metadata": {},
   "source": [
    "### ■예매하기 버튼 클릭 함수-교수님(1)\n",
    "- 박정현 페이지에서 '예매하기'누르기"
   ]
  },
  {
   "cell_type": "code",
   "execution_count": 178,
   "metadata": {},
   "outputs": [],
   "source": [
    "#핫이슈-박정현에서 '예매하기'버튼 누르기\n",
    "def bookWindow(options=None):\n",
    "    if not options:\n",
    "        driver.find_element_by_css_selector(\".tk_dt_btn_TArea > a.btn_rev\").click()\n",
    "    driver.switch_to_window(driver.window_handles[-1]) #핸들러 창 뜬 것중 뒤에서, 즉 새로 뜬 창 선택\\\n",
    "    "
   ]
  },
  {
   "cell_type": "code",
   "execution_count": 179,
   "metadata": {},
   "outputs": [
    {
     "name": "stderr",
     "output_type": "stream",
     "text": [
      "C:\\Users\\missr\\Anaconda3\\lib\\site-packages\\ipykernel_launcher.py:5: DeprecationWarning: use driver.switch_to.window instead\n",
      "  \"\"\"\n"
     ]
    }
   ],
   "source": [
    "bookWindow()"
   ]
  },
  {
   "cell_type": "markdown",
   "metadata": {},
   "source": [
    "## 안전하게 티켓예매 창 종료하는 법\n",
    "- 예매하기 하려고 열었던 창\n",
    "- 혹시나 창 종료하고 다시 시도해야하는 경우에 진행"
   ]
  },
  {
   "cell_type": "code",
   "execution_count": 276,
   "metadata": {},
   "outputs": [],
   "source": [
    "def safeClose():\n",
    "    if len(driver.window_handles)>1:\n",
    "        for _ in driver.window_handles[1:]:\n",
    "            driver.switch_to_window(_) #가운데에 _ 넣어줘야함\n",
    "            driver.close()\n",
    "    driver.switch_to_window(driver.window_handles[0])\n",
    "    driver.switch_to_default_content()"
   ]
  },
  {
   "cell_type": "code",
   "execution_count": 277,
   "metadata": {
    "scrolled": false
   },
   "outputs": [
    {
     "name": "stderr",
     "output_type": "stream",
     "text": [
      "C:\\Users\\missr\\Anaconda3\\lib\\site-packages\\ipykernel_launcher.py:4: DeprecationWarning: use driver.switch_to.window instead\n",
      "  after removing the cwd from sys.path.\n",
      "C:\\Users\\missr\\Anaconda3\\lib\\site-packages\\ipykernel_launcher.py:6: DeprecationWarning: use driver.switch_to.window instead\n",
      "  \n",
      "C:\\Users\\missr\\Anaconda3\\lib\\site-packages\\ipykernel_launcher.py:7: DeprecationWarning: use driver.switch_to.default_content instead\n",
      "  import sys\n"
     ]
    }
   ],
   "source": [
    "safeClose()"
   ]
  },
  {
   "cell_type": "markdown",
   "metadata": {},
   "source": [
    "### ■예매하기 버튼 클릭 함수-교수님(2)\n",
    "- 예매하기를 통해 새로뜬 창에서 회차정보/날짜/좌석 등을 지정해본다\n",
    "- 날짜 선택 없이 그냥 해보자고 했어요.\n",
    "- 이건 날짜 선택이 안되는 알고리즘이에요"
   ]
  },
  {
   "cell_type": "code",
   "execution_count": 278,
   "metadata": {},
   "outputs": [],
   "source": [
    "#박정현 바로 누른 페이제엇\n",
    "# 오른쪽에 보이는 날짜/회차/좌석 선택해서 예매\n",
    "def bookWindow(options=None):\n",
    "    if options:\n",
    "        iframe=driver.find_element_by_css_selector(\"#ifrCalendar\") #예매 가능 공연일자 선택\n",
    "        \n",
    "        if iframe:\n",
    "            driver.switch_to_frame(iframe) #현재 iframe에서 선택하고 있음\n",
    "            dates=[_ for _ in driver.find_elements_by_css_selector(\"td.able > a\")]#가능한날짜 td.able클래스에 있음\n",
    "            title=[_.text for _ in dates]\n",
    "        \n",
    "        if options in title: #날짜 지정 등 옵션이 있따면\n",
    "            driver.execute_script(\n",
    "                dates[title.index(options)].get_attribute(\"onclick\")) #★★★\n",
    "        else: #무조건 남아있는 날짜중 먼저 인거 선택\n",
    "                driver.execute_script(\n",
    "                    dates[0].get_attribute(\"onclick\"))\n",
    "                \n",
    "        driver.switch_to_default_content() #★★★앞서 아이프레임에서 작업하고 있었으니 이제 그거 탈피\n",
    "    driver.find_element_by_css_selector(\".tk_dt_btn_TArea >a.btn_rev\").click() #현 화면에서'예매하기'\n",
    "    driver.switch_to_window(driver.window_handles[-1]) #'예매하기'를 통해 새로 뜬 창 선택"
   ]
  },
  {
   "cell_type": "code",
   "execution_count": 279,
   "metadata": {
    "scrolled": true
   },
   "outputs": [
    {
     "name": "stderr",
     "output_type": "stream",
     "text": [
      "C:\\Users\\missr\\Anaconda3\\lib\\site-packages\\ipykernel_launcher.py:8: DeprecationWarning: use driver.switch_to.frame instead\n",
      "  \n",
      "C:\\Users\\missr\\Anaconda3\\lib\\site-packages\\ipykernel_launcher.py:19: DeprecationWarning: use driver.switch_to.default_content instead\n",
      "C:\\Users\\missr\\Anaconda3\\lib\\site-packages\\ipykernel_launcher.py:21: DeprecationWarning: use driver.switch_to.window instead\n"
     ]
    }
   ],
   "source": [
    "bookWindow('11') #저 날짜로 예매하려하네요"
   ]
  },
  {
   "cell_type": "code",
   "execution_count": null,
   "metadata": {},
   "outputs": [],
   "source": []
  },
  {
   "cell_type": "markdown",
   "metadata": {},
   "source": [
    "### 새창에서  개발자 창이 안 열린다면?\n",
    "- CTRL SHIFT I"
   ]
  },
  {
   "cell_type": "markdown",
   "metadata": {},
   "source": [
    "#### 새로 열린 창에서 '예매하기' 커다란 버튼 누르기"
   ]
  },
  {
   "cell_type": "code",
   "execution_count": 280,
   "metadata": {},
   "outputs": [],
   "source": [
    "driver.find_element_by_css_selector(\"#LargeNextBtnImage\").click()"
   ]
  },
  {
   "cell_type": "markdown",
   "metadata": {},
   "source": [
    "#### 좌석 선택하기★★★★★"
   ]
  },
  {
   "cell_type": "markdown",
   "metadata": {},
   "source": [
    "- 내 삽질"
   ]
  },
  {
   "cell_type": "code",
   "execution_count": 281,
   "metadata": {},
   "outputs": [
    {
     "ename": "SyntaxError",
     "evalue": "invalid syntax (<ipython-input-281-26669ecb29bb>, line 14)",
     "output_type": "error",
     "traceback": [
      "\u001b[1;36m  File \u001b[1;32m\"<ipython-input-281-26669ecb29bb>\"\u001b[1;36m, line \u001b[1;32m14\u001b[0m\n\u001b[1;33m    seats[].get_attribute(\"onclick\")\u001b[0m\n\u001b[1;37m        ^\u001b[0m\n\u001b[1;31mSyntaxError\u001b[0m\u001b[1;31m:\u001b[0m invalid syntax\n"
     ]
    }
   ],
   "source": [
    "#def seat(options=None):\n",
    "#    if options:\n",
    "#        iframe=driver.find_element_by_css_selector(\"#ifrSeat\") #좌석 선택 아이프레임 지정\n",
    "#현재 아이프레임이 2개 있음\n",
    "#첫번째 아이프레임 해결중\n",
    "##        if iframe:\n",
    " #           driver.switch_to_frame(iframe) #현재 iframe에서 선택하고 있음\n",
    "#            iframe2= driver.find_element_by_css_selector(\"#ifrmSeatDetail\")\n",
    "#            if iframe2:\n",
    "#                driver.switch_to_frame(iframe2)\n",
    "#                driver.execute_script(\n",
    "#               #  dates=[_ for _ in driver.find_elements_by_css_selector(\"td.able > a\")\n",
    "#                seats=[_ for _ in driver.find_elements_by_css_selector(\".stySeat\")]\n",
    "#                seats[].get_attribute(\"onclick\")\n",
    "#                dates[title.index(options)].get_attribute(\"onclick\")) #★★★\n",
    "#                 driver.switch_to_default_content()\n",
    "#    #좌석 선택완료 클릭\n",
    "#        driver.find_element_by_css_selector(\"#NextStepImage\").click()"
   ]
  },
  {
   "cell_type": "markdown",
   "metadata": {},
   "source": [
    "- 교수님 코드********"
   ]
  },
  {
   "cell_type": "code",
   "execution_count": 295,
   "metadata": {},
   "outputs": [],
   "source": [
    "import re\n",
    "from collections import defaultdict\n",
    "\n",
    "def step2(floor=None, section=None, row=None, seat=[]):\n",
    "    iframe1=driver.find_element_by_css_selector(\"#ifrmSeat\")\n",
    "    driver.switch_to_frame(iframe1)\n",
    "    driver.execute_script(\"fnRefresh();\")\n",
    "    \n",
    "    if floor:\n",
    "        iframe2 = driver.find_element_by_css_selector(\"#ifrmSeatView\")\n",
    "        driver.switch_to_frame(iframe2)\n",
    "        area=[_ for _ in driver.find_elements_by_css_selector(\"map > area\")]\n",
    "        name=[re.findall(r\"(RGN\\d{3})\", _.get_attribute(\"href\"))[0] for _ in area]\n",
    "        \n",
    "        floor=\"RGN{:03d}\".format(floor)\n",
    "        if floor in name:\n",
    "            driver.execute_script(area[name.index(floor)].get_attribute(\"href\"))\n",
    "        driver.switch_to_default_content()\n",
    "        driver.switch_to_frame(iframe1)\n",
    "        \n",
    "    iframe3 = driver.find_element_by_css_selector(\"#ifrmSeatDetail\")\n",
    "    driver.switch_to_frame(iframe3)\n",
    "    seatList=driver.find_elements_by_css_selector(\"#TmgsTable img.stySeat\")\n",
    "    seatDict=defaultdict(lambda:defaultdict(list))\n",
    "    \n",
    "    for i, _ in enumerate(seatList):\n",
    "        script=re.findall(r\"\\(\\'.*?\\', \\'.*?\\', \\'.*?\\', \\'(.*?)\\', \\'(.*?)\\', \\'.*?\\'\\)\",\n",
    "                            _.get_attribute(\"onclick\"))[0]\n",
    "        seatInfo=script[0].split()\n",
    "        if len(seatInfo)<2:\n",
    "            seatDict[\"2층\"][seatInfo[0]].append((script[1],i))\n",
    "        else:\n",
    "            seatDict[seatInfo[0]][seatInfo[1]].append((script[1],i))\n",
    "    if not section:\n",
    "        section=sorted(seatDict.keys())[0]\n",
    "    if not row:\n",
    "        row=sorted(seatDict[section].keys())[0]\n",
    "    if len(seat)>1:\n",
    "        selected=[_ for _ in seatDict[section][row] if _[0] is seat]\n",
    "    else:\n",
    "        selected=[_ for _ in sorted(seatDict[section][row])]\n",
    "    print(selected)\n",
    "    \n",
    "    for _ in selected:\n",
    "        driver.execute_script(seatList[_[1]].get_attribute(\"onclick\"))\n",
    "    driver.switch_to_default_content()\n",
    "    "
   ]
  },
  {
   "cell_type": "code",
   "execution_count": 296,
   "metadata": {},
   "outputs": [
    {
     "name": "stderr",
     "output_type": "stream",
     "text": [
      "C:\\Users\\missr\\Anaconda3\\lib\\site-packages\\ipykernel_launcher.py:1: DeprecationWarning: use driver.switch_to.default_content instead\n",
      "  \"\"\"Entry point for launching an IPython kernel.\n",
      "C:\\Users\\missr\\Anaconda3\\lib\\site-packages\\ipykernel_launcher.py:6: DeprecationWarning: use driver.switch_to.frame instead\n",
      "  \n",
      "C:\\Users\\missr\\Anaconda3\\lib\\site-packages\\ipykernel_launcher.py:22: DeprecationWarning: use driver.switch_to.frame instead\n"
     ]
    },
    {
     "name": "stdout",
     "output_type": "stream",
     "text": [
      "[('10', 0), ('2', 1), ('3', 2), ('4', 3), ('5', 4), ('6', 5), ('7', 6), ('8', 7), ('9', 8)]\n"
     ]
    },
    {
     "ename": "UnexpectedAlertPresentException",
     "evalue": "Alert Text: None\nMessage: unexpected alert open: {Alert text : 좌석은 4매까지만 예매가능합니다.}\n  (Session info: chrome=75.0.3770.142)\n",
     "output_type": "error",
     "traceback": [
      "\u001b[1;31m---------------------------------------------------------------------------\u001b[0m",
      "\u001b[1;31mUnexpectedAlertPresentException\u001b[0m           Traceback (most recent call last)",
      "\u001b[1;32m<ipython-input-296-2be28f7cf44d>\u001b[0m in \u001b[0;36m<module>\u001b[1;34m\u001b[0m\n\u001b[0;32m      1\u001b[0m \u001b[0mdriver\u001b[0m\u001b[1;33m.\u001b[0m\u001b[0mswitch_to_default_content\u001b[0m\u001b[1;33m(\u001b[0m\u001b[1;33m)\u001b[0m\u001b[1;33m\u001b[0m\u001b[1;33m\u001b[0m\u001b[0m\n\u001b[1;32m----> 2\u001b[1;33m \u001b[0mstep2\u001b[0m\u001b[1;33m(\u001b[0m\u001b[1;33m)\u001b[0m\u001b[1;33m\u001b[0m\u001b[1;33m\u001b[0m\u001b[0m\n\u001b[0m\u001b[0;32m      3\u001b[0m \u001b[1;31m#step2(1,\"C구역\")\u001b[0m\u001b[1;33m\u001b[0m\u001b[1;33m\u001b[0m\u001b[1;33m\u001b[0m\u001b[0m\n\u001b[0;32m      4\u001b[0m \u001b[1;31m#step2(1,\"C구역\",13열)\u001b[0m\u001b[1;33m\u001b[0m\u001b[1;33m\u001b[0m\u001b[1;33m\u001b[0m\u001b[0m\n\u001b[0;32m      5\u001b[0m \u001b[1;31m#step2(1,\"C구역\",13열,[\"1\",\"2\"])\u001b[0m\u001b[1;33m\u001b[0m\u001b[1;33m\u001b[0m\u001b[1;33m\u001b[0m\u001b[0m\n",
      "\u001b[1;32m<ipython-input-295-1567fbf56b08>\u001b[0m in \u001b[0;36mstep2\u001b[1;34m(floor, section, row, seat)\u001b[0m\n\u001b[0;32m     43\u001b[0m \u001b[1;33m\u001b[0m\u001b[0m\n\u001b[0;32m     44\u001b[0m     \u001b[1;32mfor\u001b[0m \u001b[0m_\u001b[0m \u001b[1;32min\u001b[0m \u001b[0mselected\u001b[0m\u001b[1;33m:\u001b[0m\u001b[1;33m\u001b[0m\u001b[1;33m\u001b[0m\u001b[0m\n\u001b[1;32m---> 45\u001b[1;33m         \u001b[0mdriver\u001b[0m\u001b[1;33m.\u001b[0m\u001b[0mexecute_script\u001b[0m\u001b[1;33m(\u001b[0m\u001b[0mseatList\u001b[0m\u001b[1;33m[\u001b[0m\u001b[0m_\u001b[0m\u001b[1;33m[\u001b[0m\u001b[1;36m1\u001b[0m\u001b[1;33m]\u001b[0m\u001b[1;33m]\u001b[0m\u001b[1;33m.\u001b[0m\u001b[0mget_attribute\u001b[0m\u001b[1;33m(\u001b[0m\u001b[1;34m\"onclick\"\u001b[0m\u001b[1;33m)\u001b[0m\u001b[1;33m)\u001b[0m\u001b[1;33m\u001b[0m\u001b[1;33m\u001b[0m\u001b[0m\n\u001b[0m\u001b[0;32m     46\u001b[0m     \u001b[0mdriver\u001b[0m\u001b[1;33m.\u001b[0m\u001b[0mswitch_to_default_content\u001b[0m\u001b[1;33m(\u001b[0m\u001b[1;33m)\u001b[0m\u001b[1;33m\u001b[0m\u001b[1;33m\u001b[0m\u001b[0m\n\u001b[0;32m     47\u001b[0m \u001b[1;33m\u001b[0m\u001b[0m\n",
      "\u001b[1;32m~\\Anaconda3\\lib\\site-packages\\selenium\\webdriver\\remote\\webelement.py\u001b[0m in \u001b[0;36mget_attribute\u001b[1;34m(self, name)\u001b[0m\n\u001b[0;32m    139\u001b[0m             attributeValue = self.parent.execute_script(\n\u001b[0;32m    140\u001b[0m                 \u001b[1;34m\"return (%s).apply(null, arguments);\"\u001b[0m \u001b[1;33m%\u001b[0m \u001b[0mgetAttribute_js\u001b[0m\u001b[1;33m,\u001b[0m\u001b[1;33m\u001b[0m\u001b[1;33m\u001b[0m\u001b[0m\n\u001b[1;32m--> 141\u001b[1;33m                 self, name)\n\u001b[0m\u001b[0;32m    142\u001b[0m         \u001b[1;32melse\u001b[0m\u001b[1;33m:\u001b[0m\u001b[1;33m\u001b[0m\u001b[1;33m\u001b[0m\u001b[0m\n\u001b[0;32m    143\u001b[0m             \u001b[0mresp\u001b[0m \u001b[1;33m=\u001b[0m \u001b[0mself\u001b[0m\u001b[1;33m.\u001b[0m\u001b[0m_execute\u001b[0m\u001b[1;33m(\u001b[0m\u001b[0mCommand\u001b[0m\u001b[1;33m.\u001b[0m\u001b[0mGET_ELEMENT_ATTRIBUTE\u001b[0m\u001b[1;33m,\u001b[0m \u001b[1;33m{\u001b[0m\u001b[1;34m'name'\u001b[0m\u001b[1;33m:\u001b[0m \u001b[0mname\u001b[0m\u001b[1;33m}\u001b[0m\u001b[1;33m)\u001b[0m\u001b[1;33m\u001b[0m\u001b[1;33m\u001b[0m\u001b[0m\n",
      "\u001b[1;32m~\\Anaconda3\\lib\\site-packages\\selenium\\webdriver\\remote\\webdriver.py\u001b[0m in \u001b[0;36mexecute_script\u001b[1;34m(self, script, *args)\u001b[0m\n\u001b[0;32m    634\u001b[0m         return self.execute(command, {\n\u001b[0;32m    635\u001b[0m             \u001b[1;34m'script'\u001b[0m\u001b[1;33m:\u001b[0m \u001b[0mscript\u001b[0m\u001b[1;33m,\u001b[0m\u001b[1;33m\u001b[0m\u001b[1;33m\u001b[0m\u001b[0m\n\u001b[1;32m--> 636\u001b[1;33m             'args': converted_args})['value']\n\u001b[0m\u001b[0;32m    637\u001b[0m \u001b[1;33m\u001b[0m\u001b[0m\n\u001b[0;32m    638\u001b[0m     \u001b[1;32mdef\u001b[0m \u001b[0mexecute_async_script\u001b[0m\u001b[1;33m(\u001b[0m\u001b[0mself\u001b[0m\u001b[1;33m,\u001b[0m \u001b[0mscript\u001b[0m\u001b[1;33m,\u001b[0m \u001b[1;33m*\u001b[0m\u001b[0margs\u001b[0m\u001b[1;33m)\u001b[0m\u001b[1;33m:\u001b[0m\u001b[1;33m\u001b[0m\u001b[1;33m\u001b[0m\u001b[0m\n",
      "\u001b[1;32m~\\Anaconda3\\lib\\site-packages\\selenium\\webdriver\\remote\\webdriver.py\u001b[0m in \u001b[0;36mexecute\u001b[1;34m(self, driver_command, params)\u001b[0m\n\u001b[0;32m    319\u001b[0m         \u001b[0mresponse\u001b[0m \u001b[1;33m=\u001b[0m \u001b[0mself\u001b[0m\u001b[1;33m.\u001b[0m\u001b[0mcommand_executor\u001b[0m\u001b[1;33m.\u001b[0m\u001b[0mexecute\u001b[0m\u001b[1;33m(\u001b[0m\u001b[0mdriver_command\u001b[0m\u001b[1;33m,\u001b[0m \u001b[0mparams\u001b[0m\u001b[1;33m)\u001b[0m\u001b[1;33m\u001b[0m\u001b[1;33m\u001b[0m\u001b[0m\n\u001b[0;32m    320\u001b[0m         \u001b[1;32mif\u001b[0m \u001b[0mresponse\u001b[0m\u001b[1;33m:\u001b[0m\u001b[1;33m\u001b[0m\u001b[1;33m\u001b[0m\u001b[0m\n\u001b[1;32m--> 321\u001b[1;33m             \u001b[0mself\u001b[0m\u001b[1;33m.\u001b[0m\u001b[0merror_handler\u001b[0m\u001b[1;33m.\u001b[0m\u001b[0mcheck_response\u001b[0m\u001b[1;33m(\u001b[0m\u001b[0mresponse\u001b[0m\u001b[1;33m)\u001b[0m\u001b[1;33m\u001b[0m\u001b[1;33m\u001b[0m\u001b[0m\n\u001b[0m\u001b[0;32m    322\u001b[0m             response['value'] = self._unwrap_value(\n\u001b[0;32m    323\u001b[0m                 response.get('value', None))\n",
      "\u001b[1;32m~\\Anaconda3\\lib\\site-packages\\selenium\\webdriver\\remote\\errorhandler.py\u001b[0m in \u001b[0;36mcheck_response\u001b[1;34m(self, response)\u001b[0m\n\u001b[0;32m    239\u001b[0m             \u001b[1;32melif\u001b[0m \u001b[1;34m'alert'\u001b[0m \u001b[1;32min\u001b[0m \u001b[0mvalue\u001b[0m\u001b[1;33m:\u001b[0m\u001b[1;33m\u001b[0m\u001b[1;33m\u001b[0m\u001b[0m\n\u001b[0;32m    240\u001b[0m                 \u001b[0malert_text\u001b[0m \u001b[1;33m=\u001b[0m \u001b[0mvalue\u001b[0m\u001b[1;33m[\u001b[0m\u001b[1;34m'alert'\u001b[0m\u001b[1;33m]\u001b[0m\u001b[1;33m.\u001b[0m\u001b[0mget\u001b[0m\u001b[1;33m(\u001b[0m\u001b[1;34m'text'\u001b[0m\u001b[1;33m)\u001b[0m\u001b[1;33m\u001b[0m\u001b[1;33m\u001b[0m\u001b[0m\n\u001b[1;32m--> 241\u001b[1;33m             \u001b[1;32mraise\u001b[0m \u001b[0mexception_class\u001b[0m\u001b[1;33m(\u001b[0m\u001b[0mmessage\u001b[0m\u001b[1;33m,\u001b[0m \u001b[0mscreen\u001b[0m\u001b[1;33m,\u001b[0m \u001b[0mstacktrace\u001b[0m\u001b[1;33m,\u001b[0m \u001b[0malert_text\u001b[0m\u001b[1;33m)\u001b[0m\u001b[1;33m\u001b[0m\u001b[1;33m\u001b[0m\u001b[0m\n\u001b[0m\u001b[0;32m    242\u001b[0m         \u001b[1;32mraise\u001b[0m \u001b[0mexception_class\u001b[0m\u001b[1;33m(\u001b[0m\u001b[0mmessage\u001b[0m\u001b[1;33m,\u001b[0m \u001b[0mscreen\u001b[0m\u001b[1;33m,\u001b[0m \u001b[0mstacktrace\u001b[0m\u001b[1;33m)\u001b[0m\u001b[1;33m\u001b[0m\u001b[1;33m\u001b[0m\u001b[0m\n\u001b[0;32m    243\u001b[0m \u001b[1;33m\u001b[0m\u001b[0m\n",
      "\u001b[1;31mUnexpectedAlertPresentException\u001b[0m: Alert Text: None\nMessage: unexpected alert open: {Alert text : 좌석은 4매까지만 예매가능합니다.}\n  (Session info: chrome=75.0.3770.142)\n"
     ]
    }
   ],
   "source": [
    "driver.switch_to_default_content()\n",
    "step2()\n",
    "#step2(1,\"C구역\")\n",
    "#step2(1,\"C구역\",13열)\n",
    "#step2(1,\"C구역\",13열,[\"1\",\"2\"])\n",
    "#stpe2(2)\n",
    "#step2(2,None,)"
   ]
  },
  {
   "cell_type": "markdown",
   "metadata": {},
   "source": [
    "#### 가격할인선택\n",
    "- 교수님 코드"
   ]
  },
  {
   "cell_type": "code",
   "execution_count": null,
   "metadata": {},
   "outputs": [],
   "source": []
  },
  {
   "cell_type": "code",
   "execution_count": 283,
   "metadata": {},
   "outputs": [],
   "source": [
    "from selenium.webdriver.common.by import By\n",
    "from selenium.common.exceptions import ElementNotVisibleException\n",
    "\n",
    "def waitUtil(cssSelect=None, maximum=10, interval=1):\n",
    "    try:\n",
    "        webDriverWait(driver,maximum, interval, [ElementNotVisibleException]).until(EC.visibility_of_element_located((By.CSS_SELECTOR,cssSelect)))\n",
    "    except:\n",
    "        return False\n",
    "    return True\n",
    "\n",
    "def waitRefresh(cssSelect=None, maximum=10, interval=1):\n",
    "    try:\n",
    "        WebDriverWait(driver, maximum, interval, [StaleElementReferenceException]).until(EC.visibility_of_all_elements_located((By.CSS.SELECTOR, cssSelect)))\n",
    "    except:\n",
    "        return False"
   ]
  },
  {
   "cell_type": "code",
   "execution_count": null,
   "metadata": {},
   "outputs": [],
   "source": []
  },
  {
   "cell_type": "code",
   "execution_count": 284,
   "metadata": {},
   "outputs": [],
   "source": [
    "from selenium.webdriver.support.ui import Select\n",
    "\n",
    "def setPrice():\n",
    "   # if not waitUntil(\"#ifrmBookStep\"): #@@@@@@@\n",
    "   #     print(\"Not Found BOok Frame\")\n",
    "   #     return False\n",
    "\n",
    "    driver.switch_to_frame(driver.find_element_by_css_selector(\"#ifrmBookStep\"))\n",
    "    \n",
    "    if not waitUntil(\"select[name='SeatCount']\"): #페이지가 나올떄까지 기다려줘요\n",
    "        print(\"Not found seat count\")\n",
    "        return False\n",
    "    \n",
    "    seatCount=Select(driver.find_element_by_css_selector(\"select[name='SeatCount']\"))\n",
    "    # 매수 정하는 선택박스 name이 SeatCount인데 \"select name='SeatCount' index=001 ~~주루룩 작성되어있고, 그 하부 옵션으로 \"option value=1\"이 1매, \"optionvalue=0\"이 0매 선택\n",
    "    seatCount.select_by_index(driver.find_element_by_css_selector(\".taL option:last-child\").get_attribute(\"value\"))##매수(1장,0장 선택하는거 td class=\"taL\")\n",
    "    driver.switch_to_default_content()\n",
    "    driver.find_element_by_css_selector(\"#NextStepImage\").click()"
   ]
  },
  {
   "cell_type": "code",
   "execution_count": 265,
   "metadata": {
    "scrolled": true
   },
   "outputs": [
    {
     "ename": "NoSuchWindowException",
     "evalue": "Message: no such window: window was already closed\n  (Session info: chrome=75.0.3770.142)\n",
     "output_type": "error",
     "traceback": [
      "\u001b[1;31m---------------------------------------------------------------------------\u001b[0m",
      "\u001b[1;31mNoSuchWindowException\u001b[0m                     Traceback (most recent call last)",
      "\u001b[1;32m<ipython-input-265-36ed8720bba4>\u001b[0m in \u001b[0;36m<module>\u001b[1;34m\u001b[0m\n\u001b[1;32m----> 1\u001b[1;33m \u001b[0msetPrice\u001b[0m\u001b[1;33m(\u001b[0m\u001b[1;33m)\u001b[0m\u001b[1;33m\u001b[0m\u001b[1;33m\u001b[0m\u001b[0m\n\u001b[0m",
      "\u001b[1;32m<ipython-input-264-cb4c7b070654>\u001b[0m in \u001b[0;36msetPrice\u001b[1;34m()\u001b[0m\n\u001b[0;32m      6\u001b[0m    \u001b[1;31m#     return False\u001b[0m\u001b[1;33m\u001b[0m\u001b[1;33m\u001b[0m\u001b[1;33m\u001b[0m\u001b[0m\n\u001b[0;32m      7\u001b[0m \u001b[1;33m\u001b[0m\u001b[0m\n\u001b[1;32m----> 8\u001b[1;33m     \u001b[0mdriver\u001b[0m\u001b[1;33m.\u001b[0m\u001b[0mswitch_to_frame\u001b[0m\u001b[1;33m(\u001b[0m\u001b[0mdriver\u001b[0m\u001b[1;33m.\u001b[0m\u001b[0mfind_element_by_css_selector\u001b[0m\u001b[1;33m(\u001b[0m\u001b[1;34m\"#ifrmBookStep\"\u001b[0m\u001b[1;33m)\u001b[0m\u001b[1;33m)\u001b[0m\u001b[1;33m\u001b[0m\u001b[1;33m\u001b[0m\u001b[0m\n\u001b[0m\u001b[0;32m      9\u001b[0m \u001b[1;33m\u001b[0m\u001b[0m\n\u001b[0;32m     10\u001b[0m     \u001b[1;32mif\u001b[0m \u001b[1;32mnot\u001b[0m \u001b[0mwaitUntil\u001b[0m\u001b[1;33m(\u001b[0m\u001b[1;34m\"select[name='SeatCount']\"\u001b[0m\u001b[1;33m)\u001b[0m\u001b[1;33m:\u001b[0m \u001b[1;31m#페이지가 나올떄까지 기다려줘요\u001b[0m\u001b[1;33m\u001b[0m\u001b[1;33m\u001b[0m\u001b[0m\n",
      "\u001b[1;32m~\\Anaconda3\\lib\\site-packages\\selenium\\webdriver\\remote\\webdriver.py\u001b[0m in \u001b[0;36mfind_element_by_css_selector\u001b[1;34m(self, css_selector)\u001b[0m\n\u001b[0;32m    596\u001b[0m             \u001b[0melement\u001b[0m \u001b[1;33m=\u001b[0m \u001b[0mdriver\u001b[0m\u001b[1;33m.\u001b[0m\u001b[0mfind_element_by_css_selector\u001b[0m\u001b[1;33m(\u001b[0m\u001b[1;34m'#foo'\u001b[0m\u001b[1;33m)\u001b[0m\u001b[1;33m\u001b[0m\u001b[1;33m\u001b[0m\u001b[0m\n\u001b[0;32m    597\u001b[0m         \"\"\"\n\u001b[1;32m--> 598\u001b[1;33m         \u001b[1;32mreturn\u001b[0m \u001b[0mself\u001b[0m\u001b[1;33m.\u001b[0m\u001b[0mfind_element\u001b[0m\u001b[1;33m(\u001b[0m\u001b[0mby\u001b[0m\u001b[1;33m=\u001b[0m\u001b[0mBy\u001b[0m\u001b[1;33m.\u001b[0m\u001b[0mCSS_SELECTOR\u001b[0m\u001b[1;33m,\u001b[0m \u001b[0mvalue\u001b[0m\u001b[1;33m=\u001b[0m\u001b[0mcss_selector\u001b[0m\u001b[1;33m)\u001b[0m\u001b[1;33m\u001b[0m\u001b[1;33m\u001b[0m\u001b[0m\n\u001b[0m\u001b[0;32m    599\u001b[0m \u001b[1;33m\u001b[0m\u001b[0m\n\u001b[0;32m    600\u001b[0m     \u001b[1;32mdef\u001b[0m \u001b[0mfind_elements_by_css_selector\u001b[0m\u001b[1;33m(\u001b[0m\u001b[0mself\u001b[0m\u001b[1;33m,\u001b[0m \u001b[0mcss_selector\u001b[0m\u001b[1;33m)\u001b[0m\u001b[1;33m:\u001b[0m\u001b[1;33m\u001b[0m\u001b[1;33m\u001b[0m\u001b[0m\n",
      "\u001b[1;32m~\\Anaconda3\\lib\\site-packages\\selenium\\webdriver\\remote\\webdriver.py\u001b[0m in \u001b[0;36mfind_element\u001b[1;34m(self, by, value)\u001b[0m\n\u001b[0;32m    976\u001b[0m         return self.execute(Command.FIND_ELEMENT, {\n\u001b[0;32m    977\u001b[0m             \u001b[1;34m'using'\u001b[0m\u001b[1;33m:\u001b[0m \u001b[0mby\u001b[0m\u001b[1;33m,\u001b[0m\u001b[1;33m\u001b[0m\u001b[1;33m\u001b[0m\u001b[0m\n\u001b[1;32m--> 978\u001b[1;33m             'value': value})['value']\n\u001b[0m\u001b[0;32m    979\u001b[0m \u001b[1;33m\u001b[0m\u001b[0m\n\u001b[0;32m    980\u001b[0m     \u001b[1;32mdef\u001b[0m \u001b[0mfind_elements\u001b[0m\u001b[1;33m(\u001b[0m\u001b[0mself\u001b[0m\u001b[1;33m,\u001b[0m \u001b[0mby\u001b[0m\u001b[1;33m=\u001b[0m\u001b[0mBy\u001b[0m\u001b[1;33m.\u001b[0m\u001b[0mID\u001b[0m\u001b[1;33m,\u001b[0m \u001b[0mvalue\u001b[0m\u001b[1;33m=\u001b[0m\u001b[1;32mNone\u001b[0m\u001b[1;33m)\u001b[0m\u001b[1;33m:\u001b[0m\u001b[1;33m\u001b[0m\u001b[1;33m\u001b[0m\u001b[0m\n",
      "\u001b[1;32m~\\Anaconda3\\lib\\site-packages\\selenium\\webdriver\\remote\\webdriver.py\u001b[0m in \u001b[0;36mexecute\u001b[1;34m(self, driver_command, params)\u001b[0m\n\u001b[0;32m    319\u001b[0m         \u001b[0mresponse\u001b[0m \u001b[1;33m=\u001b[0m \u001b[0mself\u001b[0m\u001b[1;33m.\u001b[0m\u001b[0mcommand_executor\u001b[0m\u001b[1;33m.\u001b[0m\u001b[0mexecute\u001b[0m\u001b[1;33m(\u001b[0m\u001b[0mdriver_command\u001b[0m\u001b[1;33m,\u001b[0m \u001b[0mparams\u001b[0m\u001b[1;33m)\u001b[0m\u001b[1;33m\u001b[0m\u001b[1;33m\u001b[0m\u001b[0m\n\u001b[0;32m    320\u001b[0m         \u001b[1;32mif\u001b[0m \u001b[0mresponse\u001b[0m\u001b[1;33m:\u001b[0m\u001b[1;33m\u001b[0m\u001b[1;33m\u001b[0m\u001b[0m\n\u001b[1;32m--> 321\u001b[1;33m             \u001b[0mself\u001b[0m\u001b[1;33m.\u001b[0m\u001b[0merror_handler\u001b[0m\u001b[1;33m.\u001b[0m\u001b[0mcheck_response\u001b[0m\u001b[1;33m(\u001b[0m\u001b[0mresponse\u001b[0m\u001b[1;33m)\u001b[0m\u001b[1;33m\u001b[0m\u001b[1;33m\u001b[0m\u001b[0m\n\u001b[0m\u001b[0;32m    322\u001b[0m             response['value'] = self._unwrap_value(\n\u001b[0;32m    323\u001b[0m                 response.get('value', None))\n",
      "\u001b[1;32m~\\Anaconda3\\lib\\site-packages\\selenium\\webdriver\\remote\\errorhandler.py\u001b[0m in \u001b[0;36mcheck_response\u001b[1;34m(self, response)\u001b[0m\n\u001b[0;32m    240\u001b[0m                 \u001b[0malert_text\u001b[0m \u001b[1;33m=\u001b[0m \u001b[0mvalue\u001b[0m\u001b[1;33m[\u001b[0m\u001b[1;34m'alert'\u001b[0m\u001b[1;33m]\u001b[0m\u001b[1;33m.\u001b[0m\u001b[0mget\u001b[0m\u001b[1;33m(\u001b[0m\u001b[1;34m'text'\u001b[0m\u001b[1;33m)\u001b[0m\u001b[1;33m\u001b[0m\u001b[1;33m\u001b[0m\u001b[0m\n\u001b[0;32m    241\u001b[0m             \u001b[1;32mraise\u001b[0m \u001b[0mexception_class\u001b[0m\u001b[1;33m(\u001b[0m\u001b[0mmessage\u001b[0m\u001b[1;33m,\u001b[0m \u001b[0mscreen\u001b[0m\u001b[1;33m,\u001b[0m \u001b[0mstacktrace\u001b[0m\u001b[1;33m,\u001b[0m \u001b[0malert_text\u001b[0m\u001b[1;33m)\u001b[0m\u001b[1;33m\u001b[0m\u001b[1;33m\u001b[0m\u001b[0m\n\u001b[1;32m--> 242\u001b[1;33m         \u001b[1;32mraise\u001b[0m \u001b[0mexception_class\u001b[0m\u001b[1;33m(\u001b[0m\u001b[0mmessage\u001b[0m\u001b[1;33m,\u001b[0m \u001b[0mscreen\u001b[0m\u001b[1;33m,\u001b[0m \u001b[0mstacktrace\u001b[0m\u001b[1;33m)\u001b[0m\u001b[1;33m\u001b[0m\u001b[1;33m\u001b[0m\u001b[0m\n\u001b[0m\u001b[0;32m    243\u001b[0m \u001b[1;33m\u001b[0m\u001b[0m\n\u001b[0;32m    244\u001b[0m     \u001b[1;32mdef\u001b[0m \u001b[0m_value_or_default\u001b[0m\u001b[1;33m(\u001b[0m\u001b[0mself\u001b[0m\u001b[1;33m,\u001b[0m \u001b[0mobj\u001b[0m\u001b[1;33m,\u001b[0m \u001b[0mkey\u001b[0m\u001b[1;33m,\u001b[0m \u001b[0mdefault\u001b[0m\u001b[1;33m)\u001b[0m\u001b[1;33m:\u001b[0m\u001b[1;33m\u001b[0m\u001b[1;33m\u001b[0m\u001b[0m\n",
      "\u001b[1;31mNoSuchWindowException\u001b[0m: Message: no such window: window was already closed\n  (Session info: chrome=75.0.3770.142)\n"
     ]
    }
   ],
   "source": [
    "setPrice()"
   ]
  },
  {
   "cell_type": "code",
   "execution_count": null,
   "metadata": {},
   "outputs": [],
   "source": []
  },
  {
   "cell_type": "code",
   "execution_count": null,
   "metadata": {},
   "outputs": [],
   "source": []
  },
  {
   "cell_type": "code",
   "execution_count": null,
   "metadata": {},
   "outputs": [],
   "source": []
  },
  {
   "cell_type": "code",
   "execution_count": null,
   "metadata": {},
   "outputs": [],
   "source": []
  },
  {
   "cell_type": "code",
   "execution_count": null,
   "metadata": {},
   "outputs": [],
   "source": [
    "https://hlp.stanford.edu/IR-book/html/htmledition/stemming-and-lemmaatization-1.html"
   ]
  },
  {
   "cell_type": "code",
   "execution_count": 10,
   "metadata": {},
   "outputs": [],
   "source": [
    "# driver.close()"
   ]
  },
  {
   "cell_type": "code",
   "execution_count": null,
   "metadata": {},
   "outputs": [],
   "source": [
    "#내일은 한글 데이터 어떻게 전처리 하는지를 알려주신대요:)"
   ]
  }
 ],
 "metadata": {
  "kernelspec": {
   "display_name": "Python 3",
   "language": "python",
   "name": "python3"
  },
  "language_info": {
   "codemirror_mode": {
    "name": "ipython",
    "version": 3
   },
   "file_extension": ".py",
   "mimetype": "text/x-python",
   "name": "python",
   "nbconvert_exporter": "python",
   "pygments_lexer": "ipython3",
   "version": "3.7.3"
  }
 },
 "nbformat": 4,
 "nbformat_minor": 2
}

{
 "cells": [
  {
   "cell_type": "code",
   "execution_count": 0,
   "metadata": {
    "colab": {},
    "colab_type": "code",
    "id": "Hq_hZLpUsObu"
   },
   "outputs": [],
   "source": [
    "from sklearn.datasets import fetch_california_housing\n",
    "from sklearn.preprocessing import StandardScaler\n",
    "from torch.utils.data import TensorDataset, DataLoader\n",
    "from sklearn.model_selection import train_test_split\n",
    "from torch import nn\n",
    "import torch.nn.functional as F\n",
    "import numpy as np\n",
    "import torch"
   ]
  },
  {
   "cell_type": "code",
   "execution_count": 2,
   "metadata": {
    "colab": {
     "base_uri": "https://localhost:8080/",
     "height": 34
    },
    "colab_type": "code",
    "executionInfo": {
     "elapsed": 17247,
     "status": "ok",
     "timestamp": 1564313624664,
     "user": {
      "displayName": "강경필",
      "photoUrl": "https://lh6.googleusercontent.com/-2bm2RfTugBo/AAAAAAAAAAI/AAAAAAAAQv8/S4o6oPYii8M/s64/photo.jpg",
      "userId": "18151530170162711430"
     },
     "user_tz": -540
    },
    "id": "DdknFYzcsZ1u",
    "outputId": "8b8b980d-0622-4b04-8a92-9a2fdbd708a5"
   },
   "outputs": [
    {
     "name": "stderr",
     "output_type": "stream",
     "text": [
      "Downloading Cal. housing from https://ndownloader.figshare.com/files/5976036 to /root/scikit_learn_data\n"
     ]
    }
   ],
   "source": [
    "dataset = fetch_california_housing()"
   ]
  },
  {
   "cell_type": "code",
   "execution_count": 3,
   "metadata": {
    "colab": {
     "base_uri": "https://localhost:8080/",
     "height": 156
    },
    "colab_type": "code",
    "executionInfo": {
     "elapsed": 17241,
     "status": "ok",
     "timestamp": 1564313624674,
     "user": {
      "displayName": "강경필",
      "photoUrl": "https://lh6.googleusercontent.com/-2bm2RfTugBo/AAAAAAAAAAI/AAAAAAAAQv8/S4o6oPYii8M/s64/photo.jpg",
      "userId": "18151530170162711430"
     },
     "user_tz": -540
    },
    "id": "hXCmKJ7Isnq6",
    "outputId": "7ba0fb3e-bafd-40d9-c656-a6a3528dea2e"
   },
   "outputs": [
    {
     "data": {
      "text/plain": [
       "['MedInc',\n",
       " 'HouseAge',\n",
       " 'AveRooms',\n",
       " 'AveBedrms',\n",
       " 'Population',\n",
       " 'AveOccup',\n",
       " 'Latitude',\n",
       " 'Longitude']"
      ]
     },
     "execution_count": 3,
     "metadata": {
      "tags": []
     },
     "output_type": "execute_result"
    }
   ],
   "source": [
    "dataset.feature_names"
   ]
  },
  {
   "cell_type": "code",
   "execution_count": 4,
   "metadata": {
    "colab": {
     "base_uri": "https://localhost:8080/",
     "height": 34
    },
    "colab_type": "code",
    "executionInfo": {
     "elapsed": 17232,
     "status": "ok",
     "timestamp": 1564313624678,
     "user": {
      "displayName": "강경필",
      "photoUrl": "https://lh6.googleusercontent.com/-2bm2RfTugBo/AAAAAAAAAAI/AAAAAAAAQv8/S4o6oPYii8M/s64/photo.jpg",
      "userId": "18151530170162711430"
     },
     "user_tz": -540
    },
    "id": "fJw_4dzuaK6d",
    "outputId": "8c7c72aa-3ad4-4172-8030-4c6636b24570"
   },
   "outputs": [
    {
     "data": {
      "text/plain": [
       "20640"
      ]
     },
     "execution_count": 4,
     "metadata": {
      "tags": []
     },
     "output_type": "execute_result"
    }
   ],
   "source": [
    "len(dataset.target)"
   ]
  },
  {
   "cell_type": "code",
   "execution_count": 5,
   "metadata": {
    "colab": {
     "base_uri": "https://localhost:8080/",
     "height": 295
    },
    "colab_type": "code",
    "executionInfo": {
     "elapsed": 17224,
     "status": "ok",
     "timestamp": 1564313624683,
     "user": {
      "displayName": "강경필",
      "photoUrl": "https://lh6.googleusercontent.com/-2bm2RfTugBo/AAAAAAAAAAI/AAAAAAAAQv8/S4o6oPYii8M/s64/photo.jpg",
      "userId": "18151530170162711430"
     },
     "user_tz": -540
    },
    "id": "vBhoSwv3ZVqK",
    "outputId": "e2941f66-cee9-4b04-96e8-88b75b7795c9"
   },
   "outputs": [
    {
     "data": {
      "image/png": "[encoded data removed]",
      "text/plain": [
       "<Figure size 432x288 with 1 Axes>"
      ]
     },
     "metadata": {
      "tags": []
     },
     "output_type": "display_data"
    }
   ],
   "source": [
    "import matplotlib.pyplot as plt\n",
    "\n",
    "mu, sigma = 100, 15\n",
    "\n",
    "# the histogram of the data\n",
    "n, bins, patches = plt.hist(dataset.target, 100, density=True, facecolor='g', alpha=0.75)\n",
    "\n",
    "\n",
    "plt.xlabel('Values')\n",
    "plt.ylabel('Density')\n",
    "plt.title('House values')\n",
    "plt.grid(True)\n",
    "plt.show()"
   ]
  },
  {
   "cell_type": "code",
   "execution_count": 0,
   "metadata": {
    "colab": {},
    "colab_type": "code",
    "id": "8pa72kBUsqRK"
   },
   "outputs": [],
   "source": [
    "train_X, test_X, train_y, test_y = train_test_split(dataset.data, dataset.target, test_size=0.2)\n",
    "\n",
    "scaler = StandardScaler()\n",
    "train_X = scaler.fit_transform(train_X)\n",
    "train_y, test_y = train_y.reshape(-1, 1), test_y.reshape(-1, 1)\n",
    "min_, max_ = train_y.min(), train_y.max()\n",
    "train_y = (train_y - min_)/(max_ - min_)\n",
    "\n",
    "test_X = scaler.transform(test_X)\n",
    "\n",
    "train_X, train_y = torch.from_numpy(train_X).float(), torch.from_numpy(train_y).float()\n",
    "test_X, test_y = torch.from_numpy(test_X).float(), torch.from_numpy(test_y).float()"
   ]
  },
  {
   "cell_type": "code",
   "execution_count": 0,
   "metadata": {
    "colab": {},
    "colab_type": "code",
    "id": "wUS-zOrFtdeD"
   },
   "outputs": [],
   "source": [
    "train_set = TensorDataset(train_X, train_y)\n",
    "test_set = TensorDataset(test_X, test_y)\n",
    "\n",
    "train_loader = DataLoader(train_set, batch_size=32, shuffle=True)\n",
    "test_loader = DataLoader(test_set, batch_size=32)"
   ]
  },
  {
   "cell_type": "code",
   "execution_count": 0,
   "metadata": {
    "colab": {},
    "colab_type": "code",
    "id": "vBLpzg6wvoNf"
   },
   "outputs": [],
   "source": [
    "class Model(nn.Module):\n",
    "    def __init__(self, input_dim, hidden_dim):\n",
    "        super(Model, self).__init__()\n",
    "        \n",
    "        self.input_dim = input_dim\n",
    "        self.hidden_dim = hidden_dim\n",
    "        \n",
    "        self.layer1 = nn.Linear(input_dim, hidden_dim)\n",
    "        self.layer2 = nn.Linear(hidden_dim, hidden_dim)\n",
    "        self.layer3 = nn.Linear(hidden_dim, 1)\n",
    "        \n",
    "    def forward(self, x):\n",
    "        out = F.relu(self.layer1(x))\n",
    "        out = F.relu(self.layer2(out))\n",
    "        out = self.layer3(out)\n",
    "        return out"
   ]
  },
  {
   "cell_type": "code",
   "execution_count": 0,
   "metadata": {
    "colab": {},
    "colab_type": "code",
    "id": "uZzO2kVayHPl"
   },
   "outputs": [],
   "source": [
    "device = torch.device(\"cuda\")\n",
    "\n",
    "model = Model(8, 128)\n",
    "model = model.to(device)\n",
    "\n",
    "optimizer = torch.optim.Adam(model.parameters(), lr=1e-3)\n",
    "criterion = nn.MSELoss()"
   ]
  },
  {
   "cell_type": "code",
   "execution_count": 10,
   "metadata": {
    "colab": {
     "base_uri": "https://localhost:8080/",
     "height": 1000
    },
    "colab_type": "code",
    "executionInfo": {
     "elapsed": 32274,
     "status": "ok",
     "timestamp": 1564313639744,
     "user": {
      "displayName": "강경필",
      "photoUrl": "https://lh6.googleusercontent.com/-2bm2RfTugBo/AAAAAAAAAAI/AAAAAAAAQv8/S4o6oPYii8M/s64/photo.jpg",
      "userId": "18151530170162711430"
     },
     "user_tz": -540
    },
    "id": "yy4YLB7xzKK3",
    "outputId": "8145068f-ab99-44de-c4a8-0730f6112344"
   },
   "outputs": [
    {
     "name": "stdout",
     "output_type": "stream",
     "text": [
      "0epochs, 0 iters - 0.2681405544281006\n",
      "0epochs, 100 iters - 0.01942303404211998\n",
      "0epochs, 200 iters - 0.029381152242422104\n",
      "0epochs, 300 iters - 0.018005911260843277\n",
      "0epochs, 400 iters - 0.01724792644381523\n",
      "0epochs, 500 iters - 0.011333348229527473\n",
      "1epochs, 0 iters - 0.012320045381784439\n",
      "1epochs, 100 iters - 0.019448719918727875\n",
      "1epochs, 200 iters - 0.01267432700842619\n",
      "1epochs, 300 iters - 0.027402669191360474\n",
      "1epochs, 400 iters - 0.012935129925608635\n",
      "1epochs, 500 iters - 0.01979910023510456\n",
      "2epochs, 0 iters - 0.011996826156973839\n",
      "2epochs, 100 iters - 0.009244395419955254\n",
      "2epochs, 200 iters - 0.01125320978462696\n",
      "2epochs, 300 iters - 0.013184430077672005\n",
      "2epochs, 400 iters - 0.007596876937896013\n",
      "2epochs, 500 iters - 0.02108028344810009\n",
      "3epochs, 0 iters - 0.01621505245566368\n",
      "3epochs, 100 iters - 0.00991508923470974\n",
      "3epochs, 200 iters - 0.011201777495443821\n",
      "3epochs, 300 iters - 0.027855517342686653\n",
      "3epochs, 400 iters - 0.010374639183282852\n",
      "3epochs, 500 iters - 0.015266905538737774\n",
      "4epochs, 0 iters - 0.012936119921505451\n",
      "4epochs, 100 iters - 0.009602961130440235\n",
      "4epochs, 200 iters - 0.007018237840384245\n",
      "4epochs, 300 iters - 0.01067307312041521\n",
      "4epochs, 400 iters - 0.019989067688584328\n",
      "4epochs, 500 iters - 0.010928799398243427\n",
      "5epochs, 0 iters - 0.02355092763900757\n",
      "5epochs, 100 iters - 0.009337550960481167\n",
      "5epochs, 200 iters - 0.008510061539709568\n",
      "5epochs, 300 iters - 0.01946403831243515\n",
      "5epochs, 400 iters - 0.011705415323376656\n",
      "5epochs, 500 iters - 0.007144732400774956\n",
      "6epochs, 0 iters - 0.014859453774988651\n",
      "6epochs, 100 iters - 0.013549523428082466\n",
      "6epochs, 200 iters - 0.008562669157981873\n",
      "6epochs, 300 iters - 0.012691708281636238\n",
      "6epochs, 400 iters - 0.010670335963368416\n",
      "6epochs, 500 iters - 0.0073663098737597466\n",
      "7epochs, 0 iters - 0.016065165400505066\n",
      "7epochs, 100 iters - 0.008657271042466164\n",
      "7epochs, 200 iters - 0.011440861038863659\n",
      "7epochs, 300 iters - 0.013163893483579159\n",
      "7epochs, 400 iters - 0.011227366514503956\n",
      "7epochs, 500 iters - 0.008407809771597385\n",
      "8epochs, 0 iters - 0.006138485390692949\n",
      "8epochs, 100 iters - 0.007783119101077318\n",
      "8epochs, 200 iters - 0.01385343074798584\n",
      "8epochs, 300 iters - 0.007244592998176813\n",
      "8epochs, 400 iters - 0.01373777724802494\n",
      "8epochs, 500 iters - 0.018474360927939415\n",
      "9epochs, 0 iters - 0.00498625636100769\n",
      "9epochs, 100 iters - 0.008144708350300789\n",
      "9epochs, 200 iters - 0.005453233607113361\n",
      "9epochs, 300 iters - 0.006897198501974344\n",
      "9epochs, 400 iters - 0.00727184908464551\n",
      "9epochs, 500 iters - 0.029582615941762924\n"
     ]
    }
   ],
   "source": [
    "epochs = 10\n",
    "\n",
    "model.train()\n",
    "for e in range(epochs):\n",
    "    for i, (batch_X, batch_y) in enumerate(train_loader):\n",
    "        batch_X, batch_y = batch_X.to(device), batch_y.to(device)\n",
    "        \n",
    "        predict = model(batch_X)\n",
    "        \n",
    "        optimizer.zero_grad()\n",
    "        loss = criterion(predict, batch_y)\n",
    "        loss.backward()\n",
    "        optimizer.step()\n",
    "        \n",
    "        if i % 100 == 0:\n",
    "            loss = loss.item()\n",
    "            loss\n",
    "            print(f\"{e}epochs, {i} iters - {loss}\")"
   ]
  },
  {
   "cell_type": "code",
   "execution_count": 11,
   "metadata": {
    "colab": {
     "base_uri": "https://localhost:8080/",
     "height": 34
    },
    "colab_type": "code",
    "executionInfo": {
     "elapsed": 32265,
     "status": "ok",
     "timestamp": 1564313639747,
     "user": {
      "displayName": "강경필",
      "photoUrl": "https://lh6.googleusercontent.com/-2bm2RfTugBo/AAAAAAAAAAI/AAAAAAAAQv8/S4o6oPYii8M/s64/photo.jpg",
      "userId": "18151530170162711430"
     },
     "user_tz": -540
    },
    "id": "u2f205-H8qQD",
    "outputId": "405759fa-85ba-418e-9e14-ff6ea357cacd"
   },
   "outputs": [
    {
     "name": "stdout",
     "output_type": "stream",
     "text": [
      "9epochs - 0.3805211584928424\n"
     ]
    }
   ],
   "source": [
    "total_loss = []\n",
    "test_num = 0\n",
    "\n",
    "with torch.no_grad():\n",
    "    model.eval()\n",
    "    for batch_X, batch_y in test_loader:\n",
    "        batch_X, batch_y = batch_X.to(device), batch_y.to(device)\n",
    "        predict = model(batch_X)\n",
    "        predict = predict*(max_ - min_) + min_\n",
    "        loss = F.l1_loss(predict, batch_y)\n",
    "\n",
    "        batch_size = batch_y.size(0)\n",
    "        test_num += batch_size\n",
    "        total_loss.append(loss.item()*batch_size)\n",
    "\n",
    "total_loss = np.sum(total_loss)/test_num\n",
    "print(f\"{e}epochs - {total_loss}\")"
   ]
  },
  {
   "cell_type": "code",
   "execution_count": 0,
   "metadata": {
    "colab": {},
    "colab_type": "code",
    "id": "HrljT7oCmxMx"
   },
   "outputs": [],
   "source": [
    "torch.save(model.state_dict(), './model.pth')"
   ]
  },
  {
   "cell_type": "code",
   "execution_count": 0,
   "metadata": {
    "colab": {
     "base_uri": "https://localhost:8080/",
     "height": 34
    },
    "colab_type": "code",
    "executionInfo": {
     "elapsed": 675,
     "status": "ok",
     "timestamp": 1564210943828,
     "user": {
      "displayName": "강경필",
      "photoUrl": "https://lh6.googleusercontent.com/-2bm2RfTugBo/AAAAAAAAAAI/AAAAAAAAQv8/S4o6oPYii8M/s64/photo.jpg",
      "userId": "18151530170162711430"
     },
     "user_tz": -540
    },
    "id": "-l0Bf-Z2OTkM",
    "outputId": "c682d93d-87f4-4902-c017-3587c4cdd59e"
   },
   "outputs": [
    {
     "data": {
      "text/plain": [
       "IncompatibleKeys(missing_keys=[], unexpected_keys=[])"
      ]
     },
     "execution_count": 25,
     "metadata": {
      "tags": []
     },
     "output_type": "execute_result"
    }
   ],
   "source": [
    "model.load_state_dict(torch.load('./model.pth'))"
   ]
  },
  {
   "cell_type": "code",
   "execution_count": 0,
   "metadata": {
    "colab": {},
    "colab_type": "code",
    "id": "8u65zHwaPBNF"
   },
   "outputs": [],
   "source": []
  }
 ],
 "metadata": {
  "accelerator": "GPU",
  "colab": {
   "collapsed_sections": [],
   "name": "neuralnet_exercise.ipynb",
   "provenance": [],
   "version": "0.3.2"
  },
  "kernelspec": {
   "display_name": "Python 3",
   "language": "python",
   "name": "python3"
  },
  "language_info": {
   "codemirror_mode": {
    "name": "ipython",
    "version": 3
   },
   "file_extension": ".py",
   "mimetype": "text/x-python",
   "name": "python",
   "nbconvert_exporter": "python",
   "pygments_lexer": "ipython3",
   "version": "3.7.3"
  }
 },
 "nbformat": 4,
 "nbformat_minor": 1
}

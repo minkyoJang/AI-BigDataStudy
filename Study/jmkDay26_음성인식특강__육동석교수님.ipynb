{
 "cells": [
  {
   "cell_type": "markdown",
   "metadata": {},
   "source": [
    "# 음성인식\n",
    "- x가 입력으로 들어오면(웨이브 폼) , 무슨 말이 들어왔는지 그 단어일 확률이 높은지 뽑아주는 것\n",
    "- 단어와 문장이 x처럼 인식될 확률. 얼마나 많이 사용되는지\n",
    "\n",
    "\n",
    "#### 언어모델확률\n",
    "- 언어모델 및 음향모델을 각각 학습시켜야함\n",
    "    - 음향 모델은 소리가, 언어모델은 텍스트가 필요함.\n",
    "    - 음성 인식 : 음향모델과 언어모델 2가지를 이용하여 지금 들어오는게 어떤 소리인지 디코딩(엔진)해야하는 것\n",
    "- 그 후에 Feature Extraction으로 MFCC 통해 디코딩을 한답니다.\n",
    "    - Feature Extraction : 사람이 어떻게 말을하고 소리를 감지하는지를 알아냄.\n",
    "    - 소리 내는 것: 허파 \n",
    "    - 소리: 공기가 압축이 되었다가. (분자가 퍼지다가) 모았다가 하는 것이 전달 되는 것.\n",
    "    \n",
    "#### Mel Frequency Cepstral Coefficients\n",
    "- [pre-emphasis>windowing>DFT>mel-frequency filter- logarithm- idft-dericatives]\n",
    "- 공명 : 대충 3k헤르츠 대를 잘 증폭시켜서 통과시킨다고 합니다. \n",
    "- preemphasis : 고주파를 이용하여 \n",
    "- 2.아날로그를 디지털로 변환하여 특정 길이만큼 잘라요\n",
    "   - 슬라이딩 윈도우를 통해 내부에 어떤 소리가 있는지 분석\n",
    "- 3.Hamming Window\n",
    "    -\n",
    "- 4. DFT(Discrete Fourier transform)\n",
    "    - 잘라진 곳에서 어떤 주파수가 있는지 찾기\n",
    "    - 태양빛에 프리즘 가져다 놓으면 반사하는 것을 초등학교때 배웠죠? 그런것처럼 소리 속의 주파수를 찾아내는게 DFT입니다. \n",
    "        - 스펙트럼체제. \n",
    "        - 스펙트럼은 시간별 진폭에 대해서 transform을 거쳐서 주파수에 대한 에너지를 나타낼 수 있게해\n",
    "               - 자연에서는 소리가 다양해. 삐이- 하고 나는 소리는 한 개이지만, 자연에서는 여러 소이가 쌓임\n",
    "               - 웨이브 폼을 스펙트럼으로 바꾸면 어느정도는 알 수 있어요. 진폭을 보고 이게 어떤 소리인지 파악 가능\n",
    "                   - 자음) 고주파가 많아요. 뭔가 쓰으 쓰으 소리\n",
    "                   - 모음) 목청이 떨려요. .아......아~!\n",
    "                   - 스펙트럼이 웨이브폼보다는 해석이 용이해. 이건 mel frequency를 통해 \n",
    "- 5. Mel frequency filter\n",
    "    - 일 키로 헤르츠에서 삐-소리가 나고, 조금 후에 일.10 키로 헤르츠에서 소리가 나면 구분을 잘 못한대요.\n",
    "    - 달팽이 관의 털이 움직이면서 그 시그널을 잘 전달을 못해. \n",
    "    - 크리티컬 밴드: 이 안에 들어오는 소리는 구분을 하지 못해\n",
    "        - 특징: 저주파는 구분을 하는 편이나 고주파일수록 구간이 되게 넓어져.\n",
    "            - 저주파는 작은 소리에도 잘 구분하나 고주파는 어지간하지 않으면 구분이 힘들어져\n",
    "            따라서 저주파는 레졸루션 높이고, 고주파는 레졸루션 낮히자 하는게 멜 프리퀀시 (심리학자/생물학자가 1950년쯤 인지실험)\n",
    "- 6. logarithm\n",
    "    - 어느정도 크기로 들리다가 2배 이상 크게 들릴며면 8배가 더 크게 나야해 (왜?)\n",
    "    - 예전에 '전축'이 있었는데 소리의 max가 알고 싶어서 돌려보셨대\n",
    "        - 우리 귀는 로그 스케일로 소리를 감지해서 소리가 크면 단계를 구분 못 한대. 진화를 하면서. \n",
    "        - 로그 혀애로 그림\n",
    "        \n",
    "- 7. IDFT\n",
    "    - source* 혀의/입술의모양 (곱하기가 아니라 일종의 컨볼루션)* 성도의 모양인데 아까 우리 귀가 로그 스케일로 소리 감지한댔으니 이 곱들은 결국 합들로 나타나\n",
    "    - 그래서 저 진동이 어떻게 나타나는지 표현하는게 --래\n",
    "- 8. Time derivatives\n",
    "    - velocity\n",
    "\n",
    "- 정리) 소리가 돌아요. 스펙트럼 나고 거기에 멜 필터를 씌워서 높이가 크리티컬 밴드.. 그리고 강도를 로그 스케일로 높여서 로그 씌움. 성대의 정보 버리고 성도(혀랑 입모양)을 알기 위해 dct를 진행. 그래서 찾은 일차 이차 미분 함수 거쳐서 그 앞뒤보는 정보까지 파악하면 벡터의 시퀀스를 찾을 수 있음. mfcc\n",
    "        "
   ]
  },
  {
   "cell_type": "markdown",
   "metadata": {},
   "source": [
    "# Acoustic Modeling\n",
    "- hidden mark\n",
    "    - two-coin model \n",
    "    - 음성인식에서 가장 핵심 \n",
    "    - 이거로 뭘하겠냐. M(파이, 에이, 비 )"
   ]
  },
  {
   "cell_type": "markdown",
   "metadata": {},
   "source": [
    "#### 식곤증 심하게 와서 졸았음. 그래서 설명 놓침 "
   ]
  },
  {
   "cell_type": "markdown",
   "metadata": {},
   "source": [
    "#### HMM"
   ]
  },
  {
   "cell_type": "markdown",
   "metadata": {},
   "source": [
    "- ㄱ 이라는 음소는 ㄱ에 대한 벡터 발생.\n",
    "- state로구성\n",
    "    - 3개로 구성. 앞에 뭐가오고 뒤에 뭐가 오는지 따라 발음이 달라질 수 있음\n",
    "    - 앞 뒤/ 중간 담당 state. 이러이러한 소리가 발생한다고 확률적으로 모델링\n"
   ]
  },
  {
   "cell_type": "markdown",
   "metadata": {},
   "source": [
    "#### 확률 표시방법\n",
    "- 디스크립말고 노말분포, 가우시안으로 표현함. 이게 발생할 확률을"
   ]
  },
  {
   "cell_type": "markdown",
   "metadata": {},
   "source": [
    "### 딥뉴럴 네트워크로 계산을 하자\n",
    "- 뉴럴 네트워크: 사람의 머리속 뇌세포가 있는데 이것을 모델링 하는 것이죠"
   ]
  },
  {
   "cell_type": "markdown",
   "metadata": {},
   "source": [
    "#### status-clustering"
   ]
  },
  {
   "cell_type": "code",
   "execution_count": null,
   "metadata": {},
   "outputs": [],
   "source": []
  }
 ],
 "metadata": {
  "kernelspec": {
   "display_name": "Python 3",
   "language": "python",
   "name": "python3"
  },
  "language_info": {
   "codemirror_mode": {
    "name": "ipython",
    "version": 3
   },
   "file_extension": ".py",
   "mimetype": "text/x-python",
   "name": "python",
   "nbconvert_exporter": "python",
   "pygments_lexer": "ipython3",
   "version": "3.7.3"
  }
 },
 "nbformat": 4,
 "nbformat_minor": 2
}

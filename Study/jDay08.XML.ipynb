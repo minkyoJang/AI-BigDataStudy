{
 "cells": [
  {
   "cell_type": "markdown",
   "metadata": {},
   "source": [
    "# XML\n",
    "- 내가 원하는 태그를 맘대로 사용할 수 있다. \n",
    "- 모든 마크업들을 내가 만들어야 한다. -> 명세가 필요하다.\n",
    "- 데이터를 주고 받기 위해.\n",
    "- 사람이 읽을 수 있고, 기계도 읽을 수 있다.\n",
    "- 사이즈가 너무 크다.\n",
    "- 모든 언어에서 사용 가능.\n",
    "- 텍스트 기반. byte type로 통신\n",
    "- 오류가 발생하면 명확하기 때문에 좋다.\n",
    "- HTML과는 다르게 태그가 쌍을 이뤄야한다.\n",
    "- Valid Documents\n",
    "    - XML의 명세서.\n",
    "    - DTD : The original Document Type Definition\n",
    "    - XML Schema : An XML-based alternative to DTD , data types를 지원해준다.\n",
    "- Well-Formed\n",
    "    - root node(최상단 노드)가 있어야 한다.\n",
    "    - 반드시 여는 태그와 닫는 태그가 있어야한다.(순서 맞춰서)\n",
    "    - 대소문자 구별 정확해야 한다.\n",
    "    - property, attribute가 존재하야 한다. 속성 값은 \"\"에 쌓여 있어야 한다.\n",
    "    "
   ]
  },
  {
   "cell_type": "markdown",
   "metadata": {},
   "source": [
    "XML\n",
    "- 데이터를 운반하기 위해 디자인 되어있다.\n",
    "\n",
    "HTML\n",
    "- 데이터를 보여주기 위해 디자인 되어있다."
   ]
  },
  {
   "cell_type": "markdown",
   "metadata": {},
   "source": [
    "JSON\n",
    "- 태그가 없으므로 XML보다 가볍다.\n",
    "- 배열 타입을 지원한다.\n",
    "- xml보다 사람이 읽기 쉽다.\n",
    "- scalar data types를 제공한다.\n",
    "\n",
    "XML\n",
    "- JSON보다 조금 단순하다.\n",
    "- 배열 타입을 지원하지 않는다.\n",
    "- JSON보다 사람이 읽기 불편하다.\n",
    "- XML Schema로 xml정보를 정의한다.\n",
    "\n",
    "유사점\n",
    "- 간단하고 오픈되어있다.\n",
    "- 유니코드를 지원한다.\n",
    "- 둘 다 자기 묘사를 하는 데이터이다.\n",
    "- 상호 운용 가능하고 언어에 독립적이다."
   ]
  },
  {
   "cell_type": "markdown",
   "metadata": {},
   "source": [
    "### dom\n",
    "- 문서 엑세스 및 조작 표준\n",
    "- XPath를 이용하여 탐색"
   ]
  },
  {
   "cell_type": "code",
   "execution_count": 4,
   "metadata": {},
   "outputs": [],
   "source": [
    "import xml.etree.ElementTree as et"
   ]
  },
  {
   "cell_type": "markdown",
   "metadata": {},
   "source": [
    "xml root 노드 생성"
   ]
  },
  {
   "cell_type": "code",
   "execution_count": 5,
   "metadata": {},
   "outputs": [],
   "source": [
    "bookStore = et.Element(\"bookstore\")"
   ]
  },
  {
   "cell_type": "markdown",
   "metadata": {},
   "source": [
    "root 노드 bookStore에 자식노드 book을 0번 위치에 삽입"
   ]
  },
  {
   "cell_type": "code",
   "execution_count": 7,
   "metadata": {},
   "outputs": [],
   "source": [
    "book1 = et.Element(\"book\", category=\"cooking\")\n",
    "bookStore.insert(0, book1)"
   ]
  },
  {
   "cell_type": "markdown",
   "metadata": {},
   "source": [
    "<title lang=\"en\">Everyday Italian<title> 노드를 book1의 자식 노드로 추가한다."
   ]
  },
  {
   "cell_type": "markdown",
   "metadata": {},
   "source": [
    "title노드를 생성하고 book1의 자식 노드로 삽입한다."
   ]
  },
  {
   "cell_type": "code",
   "execution_count": 8,
   "metadata": {},
   "outputs": [],
   "source": [
    "title1 = et.Element(\"title\")\n",
    "title1.attrib[\"lang\"] = \"en\"\n",
    "title1.text = \"Everyday Italian\"\n",
    "book1.append(title1)"
   ]
  },
  {
   "cell_type": "markdown",
   "metadata": {},
   "source": [
    "book1의 자식 노드로 author, year, price 추가"
   ]
  },
  {
   "cell_type": "code",
   "execution_count": 9,
   "metadata": {},
   "outputs": [],
   "source": [
    "et.SubElement(book1, \"author\").text = \"Giada De Laurentiis\"\n",
    "et.SubElement(book1, \"year\").text = \"2005\"\n",
    "et.SubElement(book1, \"price\").text = \"30.00\""
   ]
  },
  {
   "cell_type": "markdown",
   "metadata": {},
   "source": [
    "bookStore노드에 자식 노드로 book2노드를 추가한다."
   ]
  },
  {
   "cell_type": "code",
   "execution_count": 10,
   "metadata": {},
   "outputs": [],
   "source": [
    "book2 = et.Element(\"book\", {\"category\":\"children\"})\n",
    "bookStore.append(book2)"
   ]
  },
  {
   "cell_type": "markdown",
   "metadata": {},
   "source": [
    "title2 노드를 생성하고, attib를 설정하여 book2의 자식노드에 추가한다."
   ]
  },
  {
   "cell_type": "code",
   "execution_count": 31,
   "metadata": {},
   "outputs": [],
   "source": [
    "title2 = et.Element(\"title\")\n",
    "title2.attrib[\"lang\"] = title1.get(\"lang\")\n",
    "title2.text = \"Harry Potter\"\n",
    "book2.append(title2)"
   ]
  },
  {
   "cell_type": "markdown",
   "metadata": {},
   "source": [
    "book2에 자식 노드들을 추가한다."
   ]
  },
  {
   "cell_type": "code",
   "execution_count": 32,
   "metadata": {},
   "outputs": [],
   "source": [
    "et.SubElement(book2, \"author\").text=\"Giada De Laurentiis\"\n",
    "et.SubElement(book2, \"year\").text =\"2005\"\n",
    "et.SubElement(book2, \"price\").text = \"30.00\""
   ]
  },
  {
   "cell_type": "markdown",
   "metadata": {},
   "source": [
    "만든 xml etree을 sys.stdout에 쓴다. 디버깅 용으로 사용한다."
   ]
  },
  {
   "cell_type": "code",
   "execution_count": 33,
   "metadata": {},
   "outputs": [
    {
     "name": "stdout",
     "output_type": "stream",
     "text": [
      "<bookstore><book category=\"cooking\"><title lang=\"en\">Everyday Italian</title><author>Giada De Laurentiis</author><year>2005</year><price>30.00</price></book><book category=\"children\"><title lang=\"en\" /><author>Giada De Laurentiis</author><year>2005</year><price>30.00</price><title lang=\"en\">Harry Potter</title><author>Giada De Laurentiis</author><year>2005</year><price>30.00</price></book></bookstore>\n"
     ]
    }
   ],
   "source": [
    "et.dump(bookStore)"
   ]
  },
  {
   "cell_type": "markdown",
   "metadata": {},
   "source": [
    "### Parsing"
   ]
  },
  {
   "cell_type": "markdown",
   "metadata": {},
   "source": [
    "bookStore를 str 형태로 만든 것을 xml화 하여 루트로 사용"
   ]
  },
  {
   "cell_type": "code",
   "execution_count": 34,
   "metadata": {},
   "outputs": [],
   "source": [
    "root = et.XML(et.tostring(bookStore))"
   ]
  },
  {
   "cell_type": "code",
   "execution_count": 35,
   "metadata": {},
   "outputs": [
    {
     "name": "stdout",
     "output_type": "stream",
     "text": [
      "2\n"
     ]
    }
   ],
   "source": [
    "print(len(root))"
   ]
  },
  {
   "cell_type": "code",
   "execution_count": 36,
   "metadata": {},
   "outputs": [
    {
     "name": "stdout",
     "output_type": "stream",
     "text": [
      "book {'category': 'cooking'}\n",
      "book {'category': 'children'}\n"
     ]
    }
   ],
   "source": [
    "for childNode in root:\n",
    "    print(childNode.tag, childNode.attrib)"
   ]
  },
  {
   "cell_type": "code",
   "execution_count": 37,
   "metadata": {},
   "outputs": [],
   "source": [
    "root.clear()"
   ]
  },
  {
   "cell_type": "code",
   "execution_count": 38,
   "metadata": {},
   "outputs": [],
   "source": [
    "root = et.fromstring(et.tostring(bookStore))"
   ]
  },
  {
   "cell_type": "code",
   "execution_count": 39,
   "metadata": {},
   "outputs": [
    {
     "name": "stdout",
     "output_type": "stream",
     "text": [
      "2\n"
     ]
    },
    {
     "name": "stderr",
     "output_type": "stream",
     "text": [
      "C:\\Anaconda\\Anaconda3\\lib\\site-packages\\ipykernel_launcher.py:1: DeprecationWarning: This method will be removed in future versions.  Use 'list(elem)' or iteration over elem instead.\n",
      "  \"\"\"Entry point for launching an IPython kernel.\n"
     ]
    }
   ],
   "source": [
    "childNodes = root.getchildren()\n",
    "print(len(childNodes))"
   ]
  },
  {
   "cell_type": "markdown",
   "metadata": {},
   "source": [
    "keys()는 attrib의 key들을 불러온다."
   ]
  },
  {
   "cell_type": "code",
   "execution_count": 40,
   "metadata": {},
   "outputs": [
    {
     "name": "stdout",
     "output_type": "stream",
     "text": [
      "book ['category']\n",
      "['cooking']\n",
      "book ['category']\n",
      "['children']\n"
     ]
    }
   ],
   "source": [
    "for childNode in childNodes:\n",
    "    print(childNode.tag, childNode.keys())\n",
    "    if childNode.keys() != []:\n",
    "        print([childNode.get(k) for k in childNode.keys()])"
   ]
  },
  {
   "cell_type": "markdown",
   "metadata": {},
   "source": [
    "root로부터 book인 맨 처음 노드를 찾는다."
   ]
  },
  {
   "cell_type": "code",
   "execution_count": 41,
   "metadata": {},
   "outputs": [
    {
     "name": "stdout",
     "output_type": "stream",
     "text": [
      "book cooking\n"
     ]
    }
   ],
   "source": [
    "book = root.find(\"book\")\n",
    "print(book.tag, book.get(\"category\"))"
   ]
  },
  {
   "cell_type": "markdown",
   "metadata": {},
   "source": [
    "root로부터 book인 노드들을 모두 찾는다."
   ]
  },
  {
   "cell_type": "code",
   "execution_count": 42,
   "metadata": {},
   "outputs": [
    {
     "name": "stdout",
     "output_type": "stream",
     "text": [
      "book cooking\n",
      "book children\n"
     ]
    }
   ],
   "source": [
    "bookList = root.findall(\"book\")\n",
    "for book in bookList:\n",
    "    print(book.tag, book.get(\"category\"))"
   ]
  },
  {
   "cell_type": "markdown",
   "metadata": {},
   "source": [
    "지금 노드의 자식들 모두에서 title을 찾아라"
   ]
  },
  {
   "cell_type": "code",
   "execution_count": 43,
   "metadata": {},
   "outputs": [
    {
     "name": "stdout",
     "output_type": "stream",
     "text": [
      "<class 'xml.etree.ElementTree.Element'> Everyday Italian\n"
     ]
    }
   ],
   "source": [
    "title = root.find(\".//title\")\n",
    "print(type(title), title.text)"
   ]
  },
  {
   "cell_type": "code",
   "execution_count": 44,
   "metadata": {
    "scrolled": true
   },
   "outputs": [
    {
     "name": "stdout",
     "output_type": "stream",
     "text": [
      "['Everyday Italian', None, 'Harry Potter']\n"
     ]
    }
   ],
   "source": [
    "titleList = root.findall(\".//title\")\n",
    "print([title.text for title in titleList])"
   ]
  },
  {
   "cell_type": "markdown",
   "metadata": {},
   "source": [
    ".//title의 text를 찾아서 반환"
   ]
  },
  {
   "cell_type": "code",
   "execution_count": 45,
   "metadata": {},
   "outputs": [
    {
     "name": "stdout",
     "output_type": "stream",
     "text": [
      "<class 'str'> Everyday Italian\n"
     ]
    }
   ],
   "source": [
    "title = root.findtext(\".//title\")\n",
    "print(type(title), title)"
   ]
  },
  {
   "cell_type": "markdown",
   "metadata": {},
   "source": [
    "@ 표시는 attribute를 의미한다."
   ]
  },
  {
   "cell_type": "code",
   "execution_count": 46,
   "metadata": {},
   "outputs": [
    {
     "name": "stdout",
     "output_type": "stream",
     "text": [
      "<Element 'book' at 0x000002093C09D818> book\n"
     ]
    }
   ],
   "source": [
    "book = root.find(\".//book[@category='children']\")\n",
    "print(book, book.tag)"
   ]
  },
  {
   "cell_type": "markdown",
   "metadata": {},
   "source": [
    "File XML사용법"
   ]
  },
  {
   "cell_type": "code",
   "execution_count": 47,
   "metadata": {},
   "outputs": [],
   "source": [
    "from xml.etree.ElementTree import ElementTree"
   ]
  },
  {
   "cell_type": "markdown",
   "metadata": {},
   "source": [
    "root를 ElementTree 타입으로 변환하여 xml파일로 내보낸다"
   ]
  },
  {
   "cell_type": "code",
   "execution_count": 49,
   "metadata": {},
   "outputs": [],
   "source": [
    "tree = ElementTree(root)\n",
    "tree.write(\"book_xml.xml\", encoding=\"utf-8\", xml_declaration=\"utf-8\")"
   ]
  },
  {
   "cell_type": "markdown",
   "metadata": {},
   "source": [
    "파일을 불러와서 ElementTree형으로 파싱해준 후 root를 찾아서 저장 시키고 이를 기준으로 순환하면서 찍어준다."
   ]
  },
  {
   "cell_type": "code",
   "execution_count": 50,
   "metadata": {},
   "outputs": [],
   "source": [
    "from xml.etree.ElementTree import parse"
   ]
  },
  {
   "cell_type": "code",
   "execution_count": 52,
   "metadata": {},
   "outputs": [
    {
     "name": "stdout",
     "output_type": "stream",
     "text": [
      "<class 'xml.etree.ElementTree.ElementTree'>\n",
      "bookstore None\n",
      "book None\n",
      "title Everyday Italian\n",
      "author Giada De Laurentiis\n",
      "year 2005\n",
      "price 30.00\n",
      "book None\n",
      "title None\n",
      "author Giada De Laurentiis\n",
      "year 2005\n",
      "price 30.00\n",
      "title Harry Potter\n",
      "author Giada De Laurentiis\n",
      "year 2005\n",
      "price 30.00\n"
     ]
    }
   ],
   "source": [
    "tree = parse(\"book_xml.xml\")\n",
    "print(type(tree))\n",
    "root = tree.getroot()\n",
    "\n",
    "for node in root.iter():\n",
    "    print(node.tag, node.text)"
   ]
  },
  {
   "cell_type": "markdown",
   "metadata": {},
   "source": [
    "ElementTree 객체를 생성하면서 파일을 불러올 수도 있다."
   ]
  },
  {
   "cell_type": "code",
   "execution_count": 53,
   "metadata": {},
   "outputs": [
    {
     "name": "stdout",
     "output_type": "stream",
     "text": [
      "bookstore None\n",
      "book None\n",
      "title Everyday Italian\n",
      "author Giada De Laurentiis\n",
      "year 2005\n",
      "price 30.00\n",
      "book None\n",
      "title None\n",
      "author Giada De Laurentiis\n",
      "year 2005\n",
      "price 30.00\n",
      "title Harry Potter\n",
      "author Giada De Laurentiis\n",
      "year 2005\n",
      "price 30.00\n"
     ]
    }
   ],
   "source": [
    "tree = ElementTree(file=\"book_xml.xml\")\n",
    "root = tree.getroot()\n",
    "\n",
    "for node in root.iter():\n",
    "    print(node.tag, node.text)"
   ]
  },
  {
   "cell_type": "markdown",
   "metadata": {},
   "source": [
    "### lxml"
   ]
  },
  {
   "cell_type": "code",
   "execution_count": 54,
   "metadata": {},
   "outputs": [],
   "source": [
    "from lxml import etree"
   ]
  },
  {
   "cell_type": "code",
   "execution_count": 55,
   "metadata": {},
   "outputs": [
    {
     "name": "stdout",
     "output_type": "stream",
     "text": [
      "4\n"
     ]
    }
   ],
   "source": [
    "bookStore = etree.Element(\"bookstore\")\n",
    "\n",
    "book1 = etree.SubElement(bookStore, \"book\")\n",
    "book2 = etree.SubElement(bookStore, \"book\", attrib={\"category\":\"children\"})\n",
    "\n",
    "book1.attrib[\"category\"] = \"cooking\"\n",
    "\n",
    "title1 = etree.Element(\"title\", lang=\"en\")\n",
    "title1.text = \"Everyday Italian\"\n",
    "book1.append(title1)\n",
    "\n",
    "etree.SubElement(book1, \"author\").text = \"Giada De Laurentiis\"\n",
    "etree.SubElement(book1, \"year\").text = \"2005\"\n",
    "etree.SubElement(book1, \"price\").text = \"30.00\"\n",
    "\n",
    "title2 = etree.Element(\"title\")\n",
    "title2.set(\"lang\", title1.get(\"lang\"))\n",
    "title2.text = \"Harry Potter\"\n",
    "book2.append(title2)\n",
    "\n",
    "etree.SubElement(book2, \"author\").text = \"Giada De Laurentiis\"\n",
    "etree.SubElement(book2, \"year\").text = \"2005\"\n",
    "book2.insert(2, etree.Element(\"price\"))\n",
    "\n",
    "print(len(book2))\n",
    "book2[-1].text = \"30.00\""
   ]
  },
  {
   "cell_type": "code",
   "execution_count": 57,
   "metadata": {},
   "outputs": [
    {
     "name": "stdout",
     "output_type": "stream",
     "text": [
      "<class 'bytes'> <class 'str'> <class 'lxml.etree._Element'>\n",
      "<bookstore>\n",
      "  <book category=\"cooking\">\n",
      "    <title lang=\"en\">Everyday Italian</title>\n",
      "    <author>Giada De Laurentiis</author>\n",
      "    <year>2005</year>\n",
      "    <price>30.00</price>\n",
      "  </book>\n",
      "  <book category=\"children\">\n",
      "    <title lang=\"en\">Harry Potter</title>\n",
      "    <author>Giada De Laurentiis</author>\n",
      "    <price/>\n",
      "    <year>30.00</year>\n",
      "  </book>\n",
      "</bookstore>\n"
     ]
    }
   ],
   "source": [
    "xmlBytes = etree.tostring(bookStore, encoding=\"utf-8\", pretty_print=True, xml_declaration=True)\n",
    "xmlStr = etree.tounicode(bookStore, pretty_print=True)\n",
    "print(type(xmlBytes), type(xmlStr), type(bookStore))\n",
    "etree.dump(bookStore)"
   ]
  },
  {
   "cell_type": "code",
   "execution_count": 59,
   "metadata": {},
   "outputs": [
    {
     "name": "stdout",
     "output_type": "stream",
     "text": [
      "1.0\n",
      "UTF-8\n",
      "\n",
      "bookstore\n",
      "2\n",
      "book {'category': 'cooking'}\n",
      "book {'category': 'children'}\n"
     ]
    }
   ],
   "source": [
    "xml = etree.XML(etree.tostring(bookStore))\n",
    "xmlTree = etree.ElementTree(xml)\n",
    "xmlRoot = xmlTree.getroot()\n",
    "\n",
    "print(xmlTree.docinfo.xml_version)\n",
    "print(xmlTree.docinfo.encoding)\n",
    "print(xmlTree.docinfo.doctype)\n",
    "print(xmlTree.docinfo.root_name)\n",
    "\n",
    "print(len(xmlRoot))\n",
    "for childNode in xmlRoot:\n",
    "    print(childNode.tag, childNode.attrib)"
   ]
  },
  {
   "cell_type": "code",
   "execution_count": 64,
   "metadata": {},
   "outputs": [
    {
     "name": "stdout",
     "output_type": "stream",
     "text": [
      "<class 'lxml.etree._Element'>\n",
      "2\n",
      "book [('category', 'cooking')]\n",
      "book [('category', 'children')]\n",
      "title ['lang']\n",
      "['en']\n",
      "author []\n",
      "year []\n",
      "price []\n",
      "book cooking\n",
      "book cooking\n",
      "book children\n",
      "<class 'lxml.etree._Element'> Everyday Italian\n",
      "['Everyday Italian', 'Harry Potter']\n",
      "['Everyday Italian', 'Harry Potter']\n",
      "<class 'str'> Everyday Italian\n",
      "<Element book at 0x2093c123248> book\n",
      "bookstore None\n",
      "book None\n",
      "title Everyday Italian\n",
      "author Giada De Laurentiis\n",
      "year 2005\n",
      "price 30.00\n",
      "book None\n",
      "title Harry Potter\n",
      "author Giada De Laurentiis\n",
      "price None\n",
      "year 30.00\n",
      "book None\n",
      "book None\n"
     ]
    }
   ],
   "source": [
    "xml = etree.fromstring(etree.tostring(bookStore))\n",
    "print(type(xml))\n",
    "xmlTree = etree.ElementTree(xml)\n",
    "xmlRoot = xmlTree.getroot()\n",
    "\n",
    "childNodes = xmlRoot.getchildren()\n",
    "\n",
    "print(len(childNodes))\n",
    "for childNode in childNodes:\n",
    "    print(childNode.tag, childNode.items())\n",
    "    \n",
    "for childNode in childNodes[0]:\n",
    "    print(childNode.tag, childNode.keys())\n",
    "    if childNode.keys() != []:\n",
    "        print([childNode.get(k) for k in childNode.keys()])\n",
    "        \n",
    "book = xmlRoot.find(\"book\")\n",
    "print(book.tag, book.get(\"category\"))\n",
    "\n",
    "boolList = xmlRoot.findall(\"book\")\n",
    "for book in bookList:\n",
    "    print(book.tag, book.get(\"category\"))\n",
    "    \n",
    "title = xmlRoot.find(\".//title\")\n",
    "print(type(title), title.text)\n",
    "\n",
    "titleList = xmlRoot.findall(\".//title\")\n",
    "for title in titleList:\n",
    "    print([title.text for title in titleList])\n",
    "    \n",
    "title = xmlRoot.findtext(\".//title\")\n",
    "print(type(title), title)\n",
    "\n",
    "book = xmlRoot.find(\".//book[@category='children']\")\n",
    "print(book, book.tag)\n",
    "\n",
    "for childNode in xmlRoot.iter():\n",
    "    print(childNode.tag, childNode.text)\n",
    "    \n",
    "for childNode in xmlRoot.iter(\"book\"):\n",
    "    print(childNode.tag, childNode.text)"
   ]
  },
  {
   "cell_type": "markdown",
   "metadata": {},
   "source": [
    "만들어진 elementTree xml파일로 내보내기"
   ]
  },
  {
   "cell_type": "code",
   "execution_count": 66,
   "metadata": {},
   "outputs": [],
   "source": [
    "xmlTree.write(\"book_tree.xml\")\n",
    "etree.ElementTree(xmlRoot).write(\"book_root.xml\")"
   ]
  },
  {
   "cell_type": "markdown",
   "metadata": {},
   "source": [
    "parse"
   ]
  },
  {
   "cell_type": "code",
   "execution_count": 67,
   "metadata": {},
   "outputs": [
    {
     "name": "stdout",
     "output_type": "stream",
     "text": [
      "<bookstore>\n",
      "  <book category=\"cooking\">\n",
      "    <title lang=\"en\">Everyday Italian</title>\n",
      "    <author>Giada De Laurentiis</author>\n",
      "    <year>2005</year>\n",
      "    <price>30.00</price>\n",
      "  </book>\n",
      "  <book category=\"children\">\n",
      "    <title lang=\"en\">Harry Potter</title>\n",
      "    <author>Giada De Laurentiis</author>\n",
      "    <price/>\n",
      "    <year>30.00</year>\n",
      "  </book>\n",
      "</bookstore>\n",
      "<bookstore>\n",
      "  <book category=\"cooking\">\n",
      "    <title lang=\"en\">Everyday Italian</title>\n",
      "    <author>Giada De Laurentiis</author>\n",
      "    <year>2005</year>\n",
      "    <price>30.00</price>\n",
      "  </book>\n",
      "  <book category=\"children\">\n",
      "    <title lang=\"en\">Harry Potter</title>\n",
      "    <author>Giada De Laurentiis</author>\n",
      "    <price/>\n",
      "    <year>30.00</year>\n",
      "  </book>\n",
      "</bookstore>\n"
     ]
    }
   ],
   "source": [
    "xmlTree = etree.parse(\"book_tree.xml\")\n",
    "xmlRoot = xmlTree.getroot()\n",
    "\n",
    "etree.dump(xmlRoot)\n",
    "\n",
    "xmlTree = etree.parse(\"book_root.xml\")\n",
    "xmlRoot = xmlTree.getroot()\n",
    "\n",
    "etree.dump(xmlRoot)"
   ]
  },
  {
   "cell_type": "code",
   "execution_count": 70,
   "metadata": {
    "collapsed": true
   },
   "outputs": [
    {
     "name": "stdout",
     "output_type": "stream",
     "text": [
      "<response>\n",
      "\t<header>\n",
      "\t\t<resultCode>00</resultCode>\n",
      "\t\t<resultMsg>NORMAL SERVICE.</resultMsg>\n",
      "\t</header>\n",
      "\t<body>\n",
      "\t\t<items>\n",
      "\t\t\t\n",
      "\t\t\t\t<item>\n",
      "\t\t\t\t\t<stationName>중구</stationName>\n",
      "\t\t\t\t\t\n",
      "                        <mangName>도시대기</mangName>\n",
      "                    \n",
      "\t\t\t\t\t<dataTime>2019-07-11 21:00</dataTime>\n",
      "\t\t\t\t\t<so2Value>0.002</so2Value>\n",
      "\t\t\t\t\t<coValue>0.2</coValue>\n",
      "\t\t\t\t\t<o3Value>0.023</o3Value>\n",
      "\t\t\t\t\t<no2Value>0.012</no2Value>\n",
      "\t\t\t\t\t<pm10Value>4</pm10Value>\n",
      "\t\t\t\t\t\n",
      "                        <pm10Value24>6</pm10Value24>\n",
      "                    \n",
      "\t\t\t\t\t\n",
      "\t\t\t\t        <pm25Value>2</pm25Value>\n",
      "\t\t\t\t    \n",
      "\t\t\t\t    \n",
      "                        <pm25Value24>3</pm25Value24>\n",
      "                    \n",
      "\t\t\t\t\t<khaiValue>38</khaiValue>\n",
      "\t\t\t\t\t<khaiGrade>1</khaiGrade>\n",
      "\t\t\t\t\t<so2Grade>1</so2Grade>\n",
      "\t\t\t\t\t<coGrade>1</coGrade>\n",
      "\t\t\t\t\t<o3Grade>1</o3Grade>\n",
      "\t\t\t\t\t<no2Grade>1</no2Grade>\n",
      "\t\t\t\t\t<pm10Grade>1</pm10Grade>\n",
      "\t\t\t\t\t\n",
      "\t\t\t\t        <pm25Grade>1</pm25Grade>\n",
      "\t\t\t\t    \n",
      "\t\t\t\t    \n",
      "                        <pm10Grade1h>1</pm10Grade1h>\n",
      "                        <pm25Grade1h>1</pm25Grade1h>\n",
      "                    \n",
      "\t\t\t\t</item>\n",
      "\t\t\t\n",
      "\t\t\t\t<item>\n",
      "\t\t\t\t\t<stationName>한강대로</stationName>\n",
      "\t\t\t\t\t\n",
      "                        <mangName>도로변대기</mangName>\n",
      "                    \n",
      "\t\t\t\t\t<dataTime>2019-07-11 21:00</dataTime>\n",
      "\t\t\t\t\t<so2Value>0.003</so2Value>\n",
      "\t\t\t\t\t<coValue>0.4</coValue>\n",
      "\t\t\t\t\t<o3Value>0.013</o3Value>\n",
      "\t\t\t\t\t<no2Value>0.021</no2Value>\n",
      "\t\t\t\t\t<pm10Value>8</pm10Value>\n",
      "\t\t\t\t\t\n",
      "                        <pm10Value24>13</pm10Value24>\n",
      "                    \n",
      "\t\t\t\t\t\n",
      "\t\t\t\t        <pm25Value>3</pm25Value>\n",
      "\t\t\t\t    \n",
      "\t\t\t\t    \n",
      "                        <pm25Value24>4</pm25Value24>\n",
      "                    \n",
      "\t\t\t\t\t<khaiValue>35</khaiValue>\n",
      "\t\t\t\t\t<khaiGrade>1</khaiGrade>\n",
      "\t\t\t\t\t<so2Grade>1</so2Grade>\n",
      "\t\t\t\t\t<coGrade>1</coGrade>\n",
      "\t\t\t\t\t<o3Grade>1</o3Grade>\n",
      "\t\t\t\t\t<no2Grade>1</no2Grade>\n",
      "\t\t\t\t\t<pm10Grade>1</pm10Grade>\n",
      "\t\t\t\t\t\n",
      "\t\t\t\t        <pm25Grade>1</pm25Grade>\n",
      "\t\t\t\t    \n",
      "\t\t\t\t    \n",
      "                        <pm10Grade1h>1</pm10Grade1h>\n",
      "                        <pm25Grade1h>1</pm25Grade1h>\n",
      "                    \n",
      "\t\t\t\t</item>\n",
      "\t\t\t\n",
      "\t\t\t\t<item>\n",
      "\t\t\t\t\t<stationName>종로구</stationName>\n",
      "\t\t\t\t\t\n",
      "                        <mangName>도시대기</mangName>\n",
      "                    \n",
      "\t\t\t\t\t<dataTime>2019-07-11 21:00</dataTime>\n",
      "\t\t\t\t\t<so2Value>0.002</so2Value>\n",
      "\t\t\t\t\t<coValue>0.3</coValue>\n",
      "\t\t\t\t\t<o3Value>0.016</o3Value>\n",
      "\t\t\t\t\t<no2Value>0.013</no2Value>\n",
      "\t\t\t\t\t<pm10Value>6</pm10Value>\n",
      "\t\t\t\t\t\n",
      "                        <pm10Value24>9</pm10Value24>\n",
      "                    \n",
      "\t\t\t\t\t\n",
      "\t\t\t\t        <pm25Value>3</pm25Value>\n",
      "\t\t\t\t    \n",
      "\t\t\t\t    \n",
      "                        <pm25Value24>5</pm25Value24>\n",
      "                    \n",
      "\t\t\t\t\t<khaiValue>27</khaiValue>\n",
      "\t\t\t\t\t<khaiGrade>1</khaiGrade>\n",
      "\t\t\t\t\t<so2Grade>1</so2Grade>\n",
      "\t\t\t\t\t<coGrade>1</coGrade>\n",
      "\t\t\t\t\t<o3Grade>1</o3Grade>\n",
      "\t\t\t\t\t<no2Grade>1</no2Grade>\n",
      "\t\t\t\t\t<pm10Grade>1</pm10Grade>\n",
      "\t\t\t\t\t\n",
      "\t\t\t\t        <pm25Grade>1</pm25Grade>\n",
      "\t\t\t\t    \n",
      "\t\t\t\t    \n",
      "                        <pm10Grade1h>1</pm10Grade1h>\n",
      "                        <pm25Grade1h>1</pm25Grade1h>\n",
      "                    \n",
      "\t\t\t\t</item>\n",
      "\t\t\t\n",
      "\t\t\t\t<item>\n",
      "\t\t\t\t\t<stationName>청계천로</stationName>\n",
      "\t\t\t\t\t\n",
      "                        <mangName>도로변대기</mangName>\n",
      "                    \n",
      "\t\t\t\t\t<dataTime>2019-07-11 21:00</dataTime>\n",
      "\t\t\t\t\t<so2Value>0.003</so2Value>\n",
      "\t\t\t\t\t<coValue>0.3</coValue>\n",
      "\t\t\t\t\t<o3Value>0.017</o3Value>\n",
      "\t\t\t\t\t<no2Value>0.015</no2Value>\n",
      "\t\t\t\t\t<pm10Value>8</pm10Value>\n",
      "\t\t\t\t\t\n",
      "                        <pm10Value24>9</pm10Value24>\n",
      "                    \n",
      "\t\t\t\t\t\n",
      "\t\t\t\t        <pm25Value>5</pm25Value>\n",
      "\t\t\t\t    \n",
      "\t\t\t\t    \n",
      "                        <pm25Value24>5</pm25Value24>\n",
      "                    \n",
      "\t\t\t\t\t<khaiValue>28</khaiValue>\n",
      "\t\t\t\t\t<khaiGrade>1</khaiGrade>\n",
      "\t\t\t\t\t<so2Grade>1</so2Grade>\n",
      "\t\t\t\t\t<coGrade>1</coGrade>\n",
      "\t\t\t\t\t<o3Grade>1</o3Grade>\n",
      "\t\t\t\t\t<no2Grade>1</no2Grade>\n",
      "\t\t\t\t\t<pm10Grade>1</pm10Grade>\n",
      "\t\t\t\t\t\n",
      "\t\t\t\t        <pm25Grade>1</pm25Grade>\n",
      "\t\t\t\t    \n",
      "\t\t\t\t    \n",
      "                        <pm10Grade1h>1</pm10Grade1h>\n",
      "                        <pm25Grade1h>1</pm25Grade1h>\n",
      "                    \n",
      "\t\t\t\t</item>\n",
      "\t\t\t\n",
      "\t\t\t\t<item>\n",
      "\t\t\t\t\t<stationName>종로</stationName>\n",
      "\t\t\t\t\t\n",
      "                        <mangName>도로변대기</mangName>\n",
      "                    \n",
      "\t\t\t\t\t<dataTime>2019-07-11 21:00</dataTime>\n",
      "\t\t\t\t\t<so2Value>0.002</so2Value>\n",
      "\t\t\t\t\t<coValue>0.3</coValue>\n",
      "\t\t\t\t\t<o3Value>0.016</o3Value>\n",
      "\t\t\t\t\t<no2Value>0.014</no2Value>\n",
      "\t\t\t\t\t<pm10Value>-</pm10Value>\n",
      "\t\t\t\t\t\n",
      "                        <pm10Value24>-</pm10Value24>\n",
      "                    \n",
      "\t\t\t\t\t\n",
      "\t\t\t\t        <pm25Value>-</pm25Value>\n",
      "\t\t\t\t    \n",
      "\t\t\t\t    \n",
      "                        <pm25Value24>-</pm25Value24>\n",
      "                    \n",
      "\t\t\t\t\t<khaiValue>-</khaiValue>\n",
      "\t\t\t\t\t<khaiGrade/>\n",
      "\t\t\t\t\t<so2Grade>1</so2Grade>\n",
      "\t\t\t\t\t<coGrade>1</coGrade>\n",
      "\t\t\t\t\t<o3Grade>1</o3Grade>\n",
      "\t\t\t\t\t<no2Grade>1</no2Grade>\n",
      "\t\t\t\t\t<pm10Grade/>\n",
      "\t\t\t\t\t\n",
      "\t\t\t\t        <pm25Grade/>\n",
      "\t\t\t\t    \n",
      "\t\t\t\t    \n",
      "                        <pm10Grade1h/>\n",
      "                        <pm25Grade1h/>\n",
      "                    \n",
      "\t\t\t\t</item>\n",
      "\t\t\t\n",
      "\t\t\t\t<item>\n",
      "\t\t\t\t\t<stationName>용산구</stationName>\n",
      "\t\t\t\t\t\n",
      "                        <mangName>도시대기</mangName>\n",
      "                    \n",
      "\t\t\t\t\t<dataTime>2019-07-11 21:00</dataTime>\n",
      "\t\t\t\t\t<so2Value>-</so2Value>\n",
      "\t\t\t\t\t<coValue>0.3</coValue>\n",
      "\t\t\t\t\t<o3Value>0.013</o3Value>\n",
      "\t\t\t\t\t<no2Value>0.021</no2Value>\n",
      "\t\t\t\t\t<pm10Value>3</pm10Value>\n",
      "\t\t\t\t\t\n",
      "                        <pm10Value24>3</pm10Value24>\n",
      "                    \n",
      "\t\t\t\t\t\n",
      "\t\t\t\t        <pm25Value>1</pm25Value>\n",
      "\t\t\t\t    \n",
      "\t\t\t\t    \n",
      "                        <pm25Value24>-</pm25Value24>\n",
      "                    \n",
      "\t\t\t\t\t<khaiValue>-</khaiValue>\n",
      "\t\t\t\t\t<khaiGrade/>\n",
      "\t\t\t\t\t<so2Grade/>\n",
      "\t\t\t\t\t<coGrade>1</coGrade>\n",
      "\t\t\t\t\t<o3Grade>1</o3Grade>\n",
      "\t\t\t\t\t<no2Grade>1</no2Grade>\n",
      "\t\t\t\t\t<pm10Grade>1</pm10Grade>\n",
      "\t\t\t\t\t\n",
      "\t\t\t\t        <pm25Grade/>\n",
      "\t\t\t\t    \n",
      "\t\t\t\t    \n",
      "                        <pm10Grade1h>1</pm10Grade1h>\n",
      "                        <pm25Grade1h>1</pm25Grade1h>\n",
      "                    \n",
      "\t\t\t\t</item>\n",
      "\t\t\t\n",
      "\t\t\t\t<item>\n",
      "\t\t\t\t\t<stationName>광진구</stationName>\n",
      "\t\t\t\t\t\n",
      "                        <mangName>도시대기</mangName>\n",
      "                    \n",
      "\t\t\t\t\t<dataTime>2019-07-11 21:00</dataTime>\n",
      "\t\t\t\t\t<so2Value>0.004</so2Value>\n",
      "\t\t\t\t\t<coValue>0.5</coValue>\n",
      "\t\t\t\t\t<o3Value>0.016</o3Value>\n",
      "\t\t\t\t\t<no2Value>0.010</no2Value>\n",
      "\t\t\t\t\t<pm10Value>-</pm10Value>\n",
      "\t\t\t\t\t\n",
      "                        <pm10Value24>-</pm10Value24>\n",
      "                    \n",
      "\t\t\t\t\t\n",
      "\t\t\t\t        <pm25Value>9</pm25Value>\n",
      "\t\t\t\t    \n",
      "\t\t\t\t    \n",
      "                        <pm25Value24>-</pm25Value24>\n",
      "                    \n",
      "\t\t\t\t\t<khaiValue>-</khaiValue>\n",
      "\t\t\t\t\t<khaiGrade/>\n",
      "\t\t\t\t\t<so2Grade>1</so2Grade>\n",
      "\t\t\t\t\t<coGrade>1</coGrade>\n",
      "\t\t\t\t\t<o3Grade>1</o3Grade>\n",
      "\t\t\t\t\t<no2Grade>1</no2Grade>\n",
      "\t\t\t\t\t<pm10Grade/>\n",
      "\t\t\t\t\t\n",
      "\t\t\t\t        <pm25Grade/>\n",
      "\t\t\t\t    \n",
      "\t\t\t\t    \n",
      "                        <pm10Grade1h/>\n",
      "                        <pm25Grade1h>1</pm25Grade1h>\n",
      "                    \n",
      "\t\t\t\t</item>\n",
      "\t\t\t\n",
      "\t\t\t\t<item>\n",
      "\t\t\t\t\t<stationName>성동구</stationName>\n",
      "\t\t\t\t\t\n",
      "                        <mangName>도시대기</mangName>\n",
      "                    \n",
      "\t\t\t\t\t<dataTime>2019-07-11 21:00</dataTime>\n",
      "\t\t\t\t\t<so2Value>0.003</so2Value>\n",
      "\t\t\t\t\t<coValue>0.2</coValue>\n",
      "\t\t\t\t\t<o3Value>0.022</o3Value>\n",
      "\t\t\t\t\t<no2Value>0.012</no2Value>\n",
      "\t\t\t\t\t<pm10Value>13</pm10Value>\n",
      "\t\t\t\t\t\n",
      "                        <pm10Value24>16</pm10Value24>\n",
      "                    \n",
      "\t\t\t\t\t\n",
      "\t\t\t\t        <pm25Value>3</pm25Value>\n",
      "\t\t\t\t    \n",
      "\t\t\t\t    \n",
      "                        <pm25Value24>4</pm25Value24>\n",
      "                    \n",
      "\t\t\t\t\t<khaiValue>37</khaiValue>\n",
      "\t\t\t\t\t<khaiGrade>1</khaiGrade>\n",
      "\t\t\t\t\t<so2Grade>1</so2Grade>\n",
      "\t\t\t\t\t<coGrade>1</coGrade>\n",
      "\t\t\t\t\t<o3Grade>1</o3Grade>\n",
      "\t\t\t\t\t<no2Grade>1</no2Grade>\n",
      "\t\t\t\t\t<pm10Grade>1</pm10Grade>\n",
      "\t\t\t\t\t\n",
      "\t\t\t\t        <pm25Grade>1</pm25Grade>\n",
      "\t\t\t\t    \n",
      "\t\t\t\t    \n",
      "                        <pm10Grade1h>1</pm10Grade1h>\n",
      "                        <pm25Grade1h>1</pm25Grade1h>\n",
      "                    \n",
      "\t\t\t\t</item>\n",
      "\t\t\t\n",
      "\t\t\t\t<item>\n",
      "\t\t\t\t\t<stationName>강변북로</stationName>\n",
      "\t\t\t\t\t\n",
      "                        <mangName>도로변대기</mangName>\n",
      "                    \n",
      "\t\t\t\t\t<dataTime>2019-07-11 21:00</dataTime>\n",
      "\t\t\t\t\t<so2Value>0.004</so2Value>\n",
      "\t\t\t\t\t<coValue>0.2</coValue>\n",
      "\t\t\t\t\t<o3Value>0.018</o3Value>\n",
      "\t\t\t\t\t<no2Value>0.017</no2Value>\n",
      "\t\t\t\t\t<pm10Value>5</pm10Value>\n",
      "\t\t\t\t\t\n",
      "                        <pm10Value24>5</pm10Value24>\n",
      "                    \n",
      "\t\t\t\t\t\n",
      "\t\t\t\t        <pm25Value>-</pm25Value>\n",
      "\t\t\t\t    \n",
      "\t\t\t\t    \n",
      "                        <pm25Value24>-</pm25Value24>\n",
      "                    \n",
      "\t\t\t\t\t<khaiValue>-</khaiValue>\n",
      "\t\t\t\t\t<khaiGrade/>\n",
      "\t\t\t\t\t<so2Grade>1</so2Grade>\n",
      "\t\t\t\t\t<coGrade>1</coGrade>\n",
      "\t\t\t\t\t<o3Grade>1</o3Grade>\n",
      "\t\t\t\t\t<no2Grade>1</no2Grade>\n",
      "\t\t\t\t\t<pm10Grade>1</pm10Grade>\n",
      "\t\t\t\t\t\n",
      "\t\t\t\t        <pm25Grade/>\n",
      "\t\t\t\t    \n",
      "\t\t\t\t    \n",
      "                        <pm10Grade1h>1</pm10Grade1h>\n",
      "                        <pm25Grade1h/>\n",
      "                    \n",
      "\t\t\t\t</item>\n",
      "\t\t\t\n",
      "\t\t\t\t<item>\n",
      "\t\t\t\t\t<stationName>중랑구</stationName>\n",
      "\t\t\t\t\t\n",
      "                        <mangName>도시대기</mangName>\n",
      "                    \n",
      "\t\t\t\t\t<dataTime>2019-07-11 21:00</dataTime>\n",
      "\t\t\t\t\t<so2Value>0.006</so2Value>\n",
      "\t\t\t\t\t<coValue>0.3</coValue>\n",
      "\t\t\t\t\t<o3Value>0.005</o3Value>\n",
      "\t\t\t\t\t<no2Value>0.013</no2Value>\n",
      "\t\t\t\t\t<pm10Value>3</pm10Value>\n",
      "\t\t\t\t\t\n",
      "                        <pm10Value24>3</pm10Value24>\n",
      "                    \n",
      "\t\t\t\t\t\n",
      "\t\t\t\t        <pm25Value>3</pm25Value>\n",
      "\t\t\t\t    \n",
      "\t\t\t\t    \n",
      "                        <pm25Value24>-</pm25Value24>\n",
      "                    \n",
      "\t\t\t\t\t<khaiValue>-</khaiValue>\n",
      "\t\t\t\t\t<khaiGrade/>\n",
      "\t\t\t\t\t<so2Grade>1</so2Grade>\n",
      "\t\t\t\t\t<coGrade>1</coGrade>\n",
      "\t\t\t\t\t<o3Grade>1</o3Grade>\n",
      "\t\t\t\t\t<no2Grade>1</no2Grade>\n",
      "\t\t\t\t\t<pm10Grade>1</pm10Grade>\n",
      "\t\t\t\t\t\n",
      "\t\t\t\t        <pm25Grade/>\n",
      "\t\t\t\t    \n",
      "\t\t\t\t    \n",
      "                        <pm10Grade1h>1</pm10Grade1h>\n",
      "                        <pm25Grade1h>1</pm25Grade1h>\n",
      "                    \n",
      "\t\t\t\t</item>\n",
      "\t\t\t\n",
      "\t\t</items>\n",
      "\t\t\t<numOfRows>10</numOfRows>\n",
      "\t\t\t<pageNo>1</pageNo>\n",
      "\t\t\t<totalCount>40</totalCount>\n",
      "\t</body>\n",
      "</response>\n",
      "response \n",
      "\t\n",
      "header \n",
      "\t\t\n",
      "resultCode 00\n",
      "resultMsg NORMAL SERVICE.\n",
      "body \n",
      "\t\t\n",
      "items \n",
      "\t\t\t\n",
      "\t\t\t\t\n",
      "item \n",
      "\t\t\t\t\t\n",
      "stationName 중구\n",
      "mangName 도시대기\n",
      "dataTime 2019-07-11 21:00\n",
      "so2Value 0.002\n",
      "coValue 0.2\n",
      "o3Value 0.023\n",
      "no2Value 0.012\n",
      "pm10Value 4\n",
      "pm10Value24 6\n",
      "pm25Value 2\n",
      "pm25Value24 3\n",
      "khaiValue 38\n",
      "khaiGrade 1\n",
      "so2Grade 1\n",
      "coGrade 1\n",
      "o3Grade 1\n",
      "no2Grade 1\n",
      "pm10Grade 1\n",
      "pm25Grade 1\n",
      "pm10Grade1h 1\n",
      "pm25Grade1h 1\n",
      "item \n",
      "\t\t\t\t\t\n",
      "stationName 한강대로\n",
      "mangName 도로변대기\n",
      "dataTime 2019-07-11 21:00\n",
      "so2Value 0.003\n",
      "coValue 0.4\n",
      "o3Value 0.013\n",
      "no2Value 0.021\n",
      "pm10Value 8\n",
      "pm10Value24 13\n",
      "pm25Value 3\n",
      "pm25Value24 4\n",
      "khaiValue 35\n",
      "khaiGrade 1\n",
      "so2Grade 1\n",
      "coGrade 1\n",
      "o3Grade 1\n",
      "no2Grade 1\n",
      "pm10Grade 1\n",
      "pm25Grade 1\n",
      "pm10Grade1h 1\n",
      "pm25Grade1h 1\n",
      "item \n",
      "\t\t\t\t\t\n",
      "stationName 종로구\n",
      "mangName 도시대기\n",
      "dataTime 2019-07-11 21:00\n",
      "so2Value 0.002\n",
      "coValue 0.3\n",
      "o3Value 0.016\n",
      "no2Value 0.013\n",
      "pm10Value 6\n",
      "pm10Value24 9\n",
      "pm25Value 3\n",
      "pm25Value24 5\n",
      "khaiValue 27\n",
      "khaiGrade 1\n",
      "so2Grade 1\n",
      "coGrade 1\n",
      "o3Grade 1\n",
      "no2Grade 1\n",
      "pm10Grade 1\n",
      "pm25Grade 1\n",
      "pm10Grade1h 1\n",
      "pm25Grade1h 1\n",
      "item \n",
      "\t\t\t\t\t\n",
      "stationName 청계천로\n",
      "mangName 도로변대기\n",
      "dataTime 2019-07-11 21:00\n",
      "so2Value 0.003\n",
      "coValue 0.3\n",
      "o3Value 0.017\n",
      "no2Value 0.015\n",
      "pm10Value 8\n",
      "pm10Value24 9\n",
      "pm25Value 5\n",
      "pm25Value24 5\n",
      "khaiValue 28\n",
      "khaiGrade 1\n",
      "so2Grade 1\n",
      "coGrade 1\n",
      "o3Grade 1\n",
      "no2Grade 1\n",
      "pm10Grade 1\n",
      "pm25Grade 1\n",
      "pm10Grade1h 1\n",
      "pm25Grade1h 1\n",
      "item \n",
      "\t\t\t\t\t\n",
      "stationName 종로\n",
      "mangName 도로변대기\n",
      "dataTime 2019-07-11 21:00\n",
      "so2Value 0.002\n",
      "coValue 0.3\n",
      "o3Value 0.016\n",
      "no2Value 0.014\n",
      "pm10Value -\n",
      "pm10Value24 -\n",
      "pm25Value -\n",
      "pm25Value24 -\n",
      "khaiValue -\n",
      "khaiGrade None\n",
      "so2Grade 1\n",
      "coGrade 1\n",
      "o3Grade 1\n",
      "no2Grade 1\n",
      "pm10Grade None\n",
      "pm25Grade None\n",
      "pm10Grade1h None\n",
      "pm25Grade1h None\n",
      "item \n",
      "\t\t\t\t\t\n",
      "stationName 용산구\n",
      "mangName 도시대기\n",
      "dataTime 2019-07-11 21:00\n",
      "so2Value -\n",
      "coValue 0.3\n",
      "o3Value 0.013\n",
      "no2Value 0.021\n",
      "pm10Value 3\n",
      "pm10Value24 3\n",
      "pm25Value 1\n",
      "pm25Value24 -\n",
      "khaiValue -\n",
      "khaiGrade None\n",
      "so2Grade None\n",
      "coGrade 1\n",
      "o3Grade 1\n",
      "no2Grade 1\n",
      "pm10Grade 1\n",
      "pm25Grade None\n",
      "pm10Grade1h 1\n",
      "pm25Grade1h 1\n",
      "item \n",
      "\t\t\t\t\t\n",
      "stationName 광진구\n",
      "mangName 도시대기\n",
      "dataTime 2019-07-11 21:00\n",
      "so2Value 0.004\n",
      "coValue 0.5\n",
      "o3Value 0.016\n",
      "no2Value 0.010\n",
      "pm10Value -\n",
      "pm10Value24 -\n",
      "pm25Value 9\n",
      "pm25Value24 -\n",
      "khaiValue -\n",
      "khaiGrade None\n",
      "so2Grade 1\n",
      "coGrade 1\n",
      "o3Grade 1\n",
      "no2Grade 1\n",
      "pm10Grade None\n",
      "pm25Grade None\n",
      "pm10Grade1h None\n",
      "pm25Grade1h 1\n",
      "item \n",
      "\t\t\t\t\t\n",
      "stationName 성동구\n",
      "mangName 도시대기\n",
      "dataTime 2019-07-11 21:00\n",
      "so2Value 0.003\n",
      "coValue 0.2\n",
      "o3Value 0.022\n",
      "no2Value 0.012\n",
      "pm10Value 13\n",
      "pm10Value24 16\n",
      "pm25Value 3\n",
      "pm25Value24 4\n",
      "khaiValue 37\n",
      "khaiGrade 1\n",
      "so2Grade 1\n",
      "coGrade 1\n",
      "o3Grade 1\n",
      "no2Grade 1\n",
      "pm10Grade 1\n",
      "pm25Grade 1\n",
      "pm10Grade1h 1\n",
      "pm25Grade1h 1\n",
      "item \n",
      "\t\t\t\t\t\n",
      "stationName 강변북로\n",
      "mangName 도로변대기\n",
      "dataTime 2019-07-11 21:00\n",
      "so2Value 0.004\n",
      "coValue 0.2\n",
      "o3Value 0.018\n",
      "no2Value 0.017\n",
      "pm10Value 5\n",
      "pm10Value24 5\n",
      "pm25Value -\n",
      "pm25Value24 -\n",
      "khaiValue -\n",
      "khaiGrade None\n",
      "so2Grade 1\n",
      "coGrade 1\n",
      "o3Grade 1\n",
      "no2Grade 1\n",
      "pm10Grade 1\n",
      "pm25Grade None\n",
      "pm10Grade1h 1\n",
      "pm25Grade1h None\n",
      "item \n",
      "\t\t\t\t\t\n",
      "stationName 중랑구\n",
      "mangName 도시대기\n",
      "dataTime 2019-07-11 21:00\n",
      "so2Value 0.006\n",
      "coValue 0.3\n",
      "o3Value 0.005\n",
      "no2Value 0.013\n",
      "pm10Value 3\n",
      "pm10Value24 3\n",
      "pm25Value 3\n",
      "pm25Value24 -\n",
      "khaiValue -\n",
      "khaiGrade None\n",
      "so2Grade 1\n",
      "coGrade 1\n",
      "o3Grade 1\n",
      "no2Grade 1\n",
      "pm10Grade 1\n",
      "pm25Grade None\n",
      "pm10Grade1h 1\n",
      "pm25Grade1h 1\n",
      "numOfRows 10\n",
      "pageNo 1\n",
      "totalCount 40\n"
     ]
    }
   ],
   "source": [
    "import urllib\n",
    "url = \"http://openapi.airkorea.or.kr/openapi/services/rest/ArpltnInforInqireSvc/getCtprvnRltmMesureDnsty\"\n",
    "\n",
    "params ={\n",
    "    \"serviceKey\":\"aeUcMWlWBcx3lsfgdtp3Nxx90I5HujhKwlPU2tTwN4Nn9DQB4mhBMKheJj6cv%2BmD1hM%2BibpzVr9WRX0TIK5U1A%3D%3D\",\n",
    "    \"numOfRows\":10,\n",
    "    \"pageNo\":1,\n",
    "    \"sidoName\":\"서울\",\n",
    "    \"ver\":\"1.3\",\n",
    "}\n",
    "\n",
    "params[\"serviceKey\"] = urllib.parse.unquote(params[\"serviceKey\"])\n",
    "params = urllib.parse.urlencode(params)\n",
    "params = params.encode(\"utf-8\")\n",
    "\n",
    "req = urllib.request.Request(url, data=params)\n",
    "res = urllib.request.urlopen(req)\n",
    "\n",
    "resStr = res.read()\n",
    "\n",
    "xmlObj = etree.fromstring(resStr)\n",
    "xmlRoot = etree.ElementTree(xmlObj).getroot()\n",
    "\n",
    "etree.dump(xmlRoot)\n",
    "\n",
    "for node in xmlRoot.iter():\n",
    "    print(node.tag, node.text)"
   ]
  },
  {
   "cell_type": "code",
   "execution_count": 73,
   "metadata": {},
   "outputs": [
    {
     "name": "stdout",
     "output_type": "stream",
     "text": [
      "pm25Value 2\n",
      "pm25Value 3\n",
      "pm25Value 3\n",
      "pm25Value 5\n",
      "pm25Value -\n",
      "pm25Value 1\n",
      "pm25Value 9\n",
      "pm25Value 3\n",
      "pm25Value -\n",
      "pm25Value 3\n"
     ]
    }
   ],
   "source": [
    "pm25List = xmlRoot.findall(\".//item/pm25Value\")\n",
    "for item in pm25List:\n",
    "    print(item.tag, item.text)\n"
   ]
  },
  {
   "cell_type": "code",
   "execution_count": null,
   "metadata": {},
   "outputs": [],
   "source": []
  }
 ],
 "metadata": {
  "kernelspec": {
   "display_name": "Python 3",
   "language": "python",
   "name": "python3"
  },
  "language_info": {
   "codemirror_mode": {
    "name": "ipython",
    "version": 3
   },
   "file_extension": ".py",
   "mimetype": "text/x-python",
   "name": "python",
   "nbconvert_exporter": "python",
   "pygments_lexer": "ipython3",
   "version": "3.7.3"
  }
 },
 "nbformat": 4,
 "nbformat_minor": 2
}

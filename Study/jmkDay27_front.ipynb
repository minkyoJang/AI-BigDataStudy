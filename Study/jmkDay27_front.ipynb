{
 "cells": [
  {
   "cell_type": "markdown",
   "metadata": {},
   "source": [
    "### 프런트앤드\n",
    "- html, css, javascript\n",
    "    - html: 문서의 구조\n",
    "    - javascript : 동적인 행위\n",
    "    \n",
    "### 백앤드\n",
    "- DNS, TCPIP \n",
    "- 실제 웹 브라우저에서 주소를 치면 이게 4자리 숫자로 변경되어요 ipv4 \n",
    "- 그 숫자에 해당하는 주소로 요청\n",
    "- DNS 서버가 변환시키면 그 주소로 요청을 하고, 어디서 기다리고 있어. 이 요청이 들어오면 어떤 데이터를 줄것이다. 즉 리스폰스 할 것인가 기다리고 있어요. 이거 기다리고 있는 애. 그걸 프로그래밍 하는걸 백앤드 프로그래밍\n",
    "- 백앤드는 웹서버 만드는거. 특히 동적으로 데이터 전달할까가 요즘 핵심\n",
    "- 백앤드가 훨씬 더 쉬워요\n",
    "    - 요즘은 추상화된 프레임워크가 많아서 조작 많이 안해도 다 해저\n",
    "    - 간단하게 만드는 건 괜찮아요\n",
    "    \n",
    "#### Pycharm\n",
    "- Django: 인스타그램용. 웹 프레임 워크\n",
    "- 파이참은 개발용, 쥬피터는 분석용\n",
    "- Flask: 아주 작고 편하게 사용할 수 있어요. 99프로 이상 개발자 사용. (프로토타입 빠르게 만들 수 있어요)\n",
    "- Google App Engine: 구글 지원\n",
    "- 피라미드, 웹2파이: 조금 덜 사용하는 애. \n",
    "\n",
    "- <> 대시: 플라스크 기반으로 올라간것도 사용할 예정\n",
    "- Angular 이 아래부터는 자바스크립트\n",
    "    - 요즘 경향이 백앤드인데 즉 서버 프로그래밍인데 자바스크립트로 해서 프론트와 쉽게 붙이기 좋은게 있어요. spa라고 해서 싱글 한 페이지로 모든 걸 처리하는 . 페이지가 하나짜리인 웹 에플리케이션이 유행중이에요. 우리가 보는게 다 한 페이지 짜리잖아 다 스크롤. 그래서 이런거 다 유행.\n",
    "    - 앙굴라 제이에스 <> 뷰 제이에스. \n",
    "- Bootstrap: 우리 수업시간에 할거에요\n",
    "- 파이참은 웹 프로그래밍에서 아주 많이 사용해요. \n",
    "- 프로페셔널 버전만 웹 프로그래밍 하는게 지원이 된대요. 공짜 버전은 왼편에 메뉴가 많이 없어요. \n",
    "- HTML Boilerplate: 플밍시 굉장히 중요. "
   ]
  },
  {
   "cell_type": "markdown",
   "metadata": {},
   "source": [
    "## Flask\n",
    "- virtual machine\n",
    "- Template language: jinja2\n",
    "    - 보고서 만드는거 이런거. "
   ]
  },
  {
   "cell_type": "markdown",
   "metadata": {},
   "source": [
    "### Flask 실행\n",
    "- 파이참에서 실행하고 아래 주소 창 클릭하니 웹 브라우저가 떠\n",
    "- http://127.0.0.1:5000/\n",
    "- 아래 코드는 아무것도 없을때 사용자에게 저 내용을 보여준다는 뜻\n",
    "\n",
    "#### 주소를 입력하면 주소에 대한 응답을 보내주는 것"
   ]
  },
  {
   "cell_type": "markdown",
   "metadata": {},
   "source": [
    "from flask import Flask\n",
    "\n",
    "app = Flask(__name__)\n",
    "\n",
    "\n",
    "@app.route('/')\n",
    "def hello_world():\n",
    "    return 'We will we will rock you!'\n",
    "\n",
    "\n",
    "if __name__ == '__main__':\n",
    "    app.run()\n"
   ]
  },
  {
   "cell_type": "markdown",
   "metadata": {},
   "source": [
    "#### 메뉴마다 주소를 만들어서\n",
    "- 어떤 주소가 들어왔을때 어떤 거 보여주는지\n",
    "- 이런거 만드는게 웹 프로그래밍"
   ]
  },
  {
   "cell_type": "markdown",
   "metadata": {},
   "source": [
    "### render_template\n",
    "- from flask import Flask, render_template\n",
    "- 미리 만드어서 템플릿 보내주는 것\n",
    "- 이거 알면 플라스크 50프로 아는 셈\n",
    "- 스네이크 방식(즉 함수)\n",
    "- 첫 인자가 html 파일임. "
   ]
  },
  {
   "cell_type": "markdown",
   "metadata": {},
   "source": [
    "#### 설명 보려면?\n",
    "- View> 마우스 클릭\n",
    "\n",
    "#### 단축키\n",
    "- preference: keymap- 단축키 만들 수 있어요. setting에"
   ]
  },
  {
   "cell_type": "markdown",
   "metadata": {},
   "source": [
    "@app.route('/') #http://127.0.0.1:5000/ 이 주소로 들어가면 헬로월드 나오게해\n",
    "def hello_world():\n",
    "    return render_template('index.html')"
   ]
  },
  {
   "cell_type": "code",
   "execution_count": null,
   "metadata": {},
   "outputs": [],
   "source": [
    "- 저 주소가 들어오면 index.html 나올건데\n",
    "- 좌측에 temlate 있음\n",
    "    - template> file> new>html> index.html로 명명\n",
    "        - 그 바디에 '문근영 예뻐요' 하면 아무것도 안 쳤을때 이 문구 나옴"
   ]
  },
  {
   "cell_type": "code",
   "execution_count": null,
   "metadata": {},
   "outputs": [],
   "source": [
    "- 특정 주소를 사용자 입력/링크 걸려있거나 하면 그 주소에 맞는 페이지를 보여준다. \n",
    "- UI당 저런 템플렛을 만드는거에요. "
   ]
  },
  {
   "cell_type": "markdown",
   "metadata": {},
   "source": [
    "#### 수정한거 반영할 필요 없이 실행돼\n",
    "- RUn> run/debug configuration> flaskdebug 'check'"
   ]
  },
  {
   "cell_type": "code",
   "execution_count": null,
   "metadata": {},
   "outputs": [],
   "source": []
  }
 ],
 "metadata": {
  "kernelspec": {
   "display_name": "Python 3",
   "language": "python",
   "name": "python3"
  },
  "language_info": {
   "codemirror_mode": {
    "name": "ipython",
    "version": 3
   },
   "file_extension": ".py",
   "mimetype": "text/x-python",
   "name": "python",
   "nbconvert_exporter": "python",
   "pygments_lexer": "ipython3",
   "version": "3.7.3"
  }
 },
 "nbformat": 4,
 "nbformat_minor": 2
}

{
 "cells": [
  {
   "cell_type": "markdown",
   "metadata": {},
   "source": [
    "# 파이참 professional 다운로드\n",
    "## 학생) \n",
    "- UI 짜오기( 코딩은 아니더라도, 이런 모양으로 짤거다.)\n",
    "    - 잘한 부분만 같이 해볼거에요\n",
    "    - 백앤드와 프론트앤드 같이 수업할게요.\n",
    "        - 내일 화요일에 분석할거에요. 우리는 수상보다 공부가 먼저에요. 계획된거 다 해야지. \n",
    "        - 프로젝트 기간에는 각 팀마다 특색이 있죠. 3조는 류기곤 선생님 담당.\n",
    "            - 면담은 기존과 동일하게 진행. 즉 공격을 2배로 당할 겁니다. 그분이 자연어처리 원래 담당. 원래는 감성분석\n",
    "- DB 스키마\n",
    "\n",
    "### 동료평가 8월 14일.\n",
    "#### 디비 플라스크> ORM하는거 진행할 예정\n",
    "- 팀별로 수업진행할 예정\n",
    "\n",
    "\n",
    "#### 프로젝트 보고서\n",
    "- 제출해야 수료됨\n",
    "- 보고서가 아니고 취업용 포트폴리오 만든다고 생각하세요"
   ]
  },
  {
   "cell_type": "code",
   "execution_count": null,
   "metadata": {},
   "outputs": [],
   "source": []
  }
 ],
 "metadata": {
  "kernelspec": {
   "display_name": "Python 3",
   "language": "python",
   "name": "python3"
  },
  "language_info": {
   "codemirror_mode": {
    "name": "ipython",
    "version": 3
   },
   "file_extension": ".py",
   "mimetype": "text/x-python",
   "name": "python",
   "nbconvert_exporter": "python",
   "pygments_lexer": "ipython3",
   "version": "3.7.3"
  }
 },
 "nbformat": 4,
 "nbformat_minor": 2
}

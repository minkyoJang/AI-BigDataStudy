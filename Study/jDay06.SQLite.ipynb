{
 "cells": [
  {
   "cell_type": "markdown",
   "metadata": {},
   "source": [
    "## SQLite 확인"
   ]
  },
  {
   "cell_type": "code",
   "execution_count": 1,
   "metadata": {},
   "outputs": [],
   "source": [
    "import sqlite3"
   ]
  },
  {
   "cell_type": "code",
   "execution_count": 2,
   "metadata": {},
   "outputs": [
    {
     "data": {
      "text/plain": [
       "'2.6.0'"
      ]
     },
     "execution_count": 2,
     "metadata": {},
     "output_type": "execute_result"
    }
   ],
   "source": [
    "sqlite3.version"
   ]
  },
  {
   "cell_type": "code",
   "execution_count": 3,
   "metadata": {},
   "outputs": [
    {
     "data": {
      "text/plain": [
       "(2, 6, 0)"
      ]
     },
     "execution_count": 3,
     "metadata": {},
     "output_type": "execute_result"
    }
   ],
   "source": [
    "sqlite3.version_info"
   ]
  },
  {
   "cell_type": "code",
   "execution_count": 4,
   "metadata": {},
   "outputs": [
    {
     "data": {
      "text/plain": [
       "'3.27.2'"
      ]
     },
     "execution_count": 4,
     "metadata": {},
     "output_type": "execute_result"
    }
   ],
   "source": [
    "sqlite3.sqlite_version"
   ]
  },
  {
   "cell_type": "code",
   "execution_count": 5,
   "metadata": {},
   "outputs": [
    {
     "data": {
      "text/plain": [
       "(3, 27, 2)"
      ]
     },
     "execution_count": 5,
     "metadata": {},
     "output_type": "execute_result"
    }
   ],
   "source": [
    "sqlite3.sqlite_version_info"
   ]
  },
  {
   "cell_type": "markdown",
   "metadata": {},
   "source": [
    "## DB 서버 접속"
   ]
  },
  {
   "cell_type": "markdown",
   "metadata": {},
   "source": [
    "conn = sqlite3.connect('경로/이름' or ':memory:')"
   ]
  },
  {
   "cell_type": "code",
   "execution_count": 6,
   "metadata": {},
   "outputs": [],
   "source": [
    "conn = sqlite3.connect('sqlite')"
   ]
  },
  {
   "cell_type": "markdown",
   "metadata": {},
   "source": [
    "커서 객체 생성한다. 커서를 이용하여 sql문으로 db랑 소통\n",
    "- conn.cursor()"
   ]
  },
  {
   "cell_type": "code",
   "execution_count": 7,
   "metadata": {},
   "outputs": [],
   "source": [
    "cur = conn.cursor()"
   ]
  },
  {
   "cell_type": "markdown",
   "metadata": {},
   "source": [
    "## execute, fetch 확인.\n",
    "### - execute\n",
    "    - 1개의 쿼리문을 1번 실행할 때\n",
    "    - many : 1개의 쿼리문을 여러번 실행할 때\n",
    "    - script : 여러개의 쿼리문을 실행할 때\n",
    "### - fetch\n",
    "    - all : 리스트 형태로 모두 가져온다.\n",
    "    - one : 내가 지정한거 하나만 가져온다.\n",
    "    - many : 내가 지정한 것 다 가져온다."
   ]
  },
  {
   "cell_type": "code",
   "execution_count": 8,
   "metadata": {},
   "outputs": [
    {
     "data": {
      "text/plain": [
       "sqlite3.Cursor"
      ]
     },
     "execution_count": 8,
     "metadata": {},
     "output_type": "execute_result"
    }
   ],
   "source": [
    "type(cur)"
   ]
  },
  {
   "cell_type": "code",
   "execution_count": 9,
   "metadata": {
    "collapsed": true
   },
   "outputs": [
    {
     "data": {
      "text/plain": [
       "['__class__',\n",
       " '__delattr__',\n",
       " '__dir__',\n",
       " '__doc__',\n",
       " '__eq__',\n",
       " '__format__',\n",
       " '__ge__',\n",
       " '__getattribute__',\n",
       " '__gt__',\n",
       " '__hash__',\n",
       " '__init__',\n",
       " '__init_subclass__',\n",
       " '__iter__',\n",
       " '__le__',\n",
       " '__lt__',\n",
       " '__ne__',\n",
       " '__new__',\n",
       " '__next__',\n",
       " '__reduce__',\n",
       " '__reduce_ex__',\n",
       " '__repr__',\n",
       " '__setattr__',\n",
       " '__sizeof__',\n",
       " '__str__',\n",
       " '__subclasshook__',\n",
       " 'arraysize',\n",
       " 'close',\n",
       " 'connection',\n",
       " 'description',\n",
       " 'execute',\n",
       " 'executemany',\n",
       " 'executescript',\n",
       " 'fetchall',\n",
       " 'fetchmany',\n",
       " 'fetchone',\n",
       " 'lastrowid',\n",
       " 'row_factory',\n",
       " 'rowcount',\n",
       " 'setinputsizes',\n",
       " 'setoutputsize']"
      ]
     },
     "execution_count": 9,
     "metadata": {},
     "output_type": "execute_result"
    }
   ],
   "source": [
    "dir(cur)"
   ]
  },
  {
   "cell_type": "code",
   "execution_count": 11,
   "metadata": {
    "collapsed": true
   },
   "outputs": [
    {
     "data": {
      "text/plain": [
       "['DataError',\n",
       " 'DatabaseError',\n",
       " 'Error',\n",
       " 'IntegrityError',\n",
       " 'InterfaceError',\n",
       " 'InternalError',\n",
       " 'NotSupportedError',\n",
       " 'OperationalError',\n",
       " 'ProgrammingError',\n",
       " 'Warning',\n",
       " '__call__',\n",
       " '__class__',\n",
       " '__delattr__',\n",
       " '__dir__',\n",
       " '__doc__',\n",
       " '__enter__',\n",
       " '__eq__',\n",
       " '__exit__',\n",
       " '__format__',\n",
       " '__ge__',\n",
       " '__getattribute__',\n",
       " '__gt__',\n",
       " '__hash__',\n",
       " '__init__',\n",
       " '__init_subclass__',\n",
       " '__le__',\n",
       " '__lt__',\n",
       " '__ne__',\n",
       " '__new__',\n",
       " '__reduce__',\n",
       " '__reduce_ex__',\n",
       " '__repr__',\n",
       " '__setattr__',\n",
       " '__sizeof__',\n",
       " '__str__',\n",
       " '__subclasshook__',\n",
       " 'backup',\n",
       " 'close',\n",
       " 'commit',\n",
       " 'create_aggregate',\n",
       " 'create_collation',\n",
       " 'create_function',\n",
       " 'cursor',\n",
       " 'enable_load_extension',\n",
       " 'execute',\n",
       " 'executemany',\n",
       " 'executescript',\n",
       " 'in_transaction',\n",
       " 'interrupt',\n",
       " 'isolation_level',\n",
       " 'iterdump',\n",
       " 'load_extension',\n",
       " 'rollback',\n",
       " 'row_factory',\n",
       " 'set_authorizer',\n",
       " 'set_progress_handler',\n",
       " 'set_trace_callback',\n",
       " 'text_factory',\n",
       " 'total_changes']"
      ]
     },
     "execution_count": 11,
     "metadata": {},
     "output_type": "execute_result"
    }
   ],
   "source": [
    "dir(conn)"
   ]
  },
  {
   "cell_type": "markdown",
   "metadata": {},
   "source": [
    "## DB이용 - execute, fetch를 반복하는 과정"
   ]
  },
  {
   "cell_type": "markdown",
   "metadata": {},
   "source": [
    "### execute는 1개의 문만 사용하므로 ;을 안 넣어도 실행해준다. \n",
    "- executescript에서는 꼭 잊지 말고 넣어야 한다."
   ]
  },
  {
   "cell_type": "code",
   "execution_count": 14,
   "metadata": {},
   "outputs": [
    {
     "data": {
      "text/plain": [
       "<sqlite3.Cursor at 0x2864f22bf80>"
      ]
     },
     "execution_count": 14,
     "metadata": {},
     "output_type": "execute_result"
    }
   ],
   "source": [
    "cur.execute(\"SELECT sqlite_version()\")"
   ]
  },
  {
   "cell_type": "code",
   "execution_count": 15,
   "metadata": {},
   "outputs": [
    {
     "data": {
      "text/plain": [
       "[('3.27.2',)]"
      ]
     },
     "execution_count": 15,
     "metadata": {},
     "output_type": "execute_result"
    }
   ],
   "source": [
    "cur.fetchall()"
   ]
  },
  {
   "cell_type": "markdown",
   "metadata": {},
   "source": [
    "쿼리문의 문법이 올바른지 확인해준다."
   ]
  },
  {
   "cell_type": "code",
   "execution_count": 18,
   "metadata": {},
   "outputs": [
    {
     "data": {
      "text/plain": [
       "False"
      ]
     },
     "execution_count": 18,
     "metadata": {},
     "output_type": "execute_result"
    }
   ],
   "source": [
    "sqlite3.complete_statement(\"SELECT sqlite_version()\")"
   ]
  },
  {
   "cell_type": "code",
   "execution_count": 19,
   "metadata": {},
   "outputs": [
    {
     "data": {
      "text/plain": [
       "True"
      ]
     },
     "execution_count": 19,
     "metadata": {},
     "output_type": "execute_result"
    }
   ],
   "source": [
    "sqlite3.complete_statement(\"SELECT sqlite_version();\")"
   ]
  },
  {
   "cell_type": "markdown",
   "metadata": {},
   "source": [
    "## Data Type\n",
    "- NULL\n",
    "- INTEGER\n",
    "- REAL\n",
    "- TEXT\n",
    "- BLOB"
   ]
  },
  {
   "cell_type": "markdown",
   "metadata": {},
   "source": [
    "## 파라미터 전달 방식\n",
    "- qmark방식 : ?사용\n",
    "- named방식 : dict형으로 전달 "
   ]
  },
  {
   "cell_type": "code",
   "execution_count": null,
   "metadata": {},
   "outputs": [],
   "source": [
    "cur.execute(\"CREATE TABLE people (name_last, age)\")"
   ]
  },
  {
   "cell_type": "code",
   "execution_count": 22,
   "metadata": {},
   "outputs": [],
   "source": [
    "who = \"Yeltsin\"\n",
    "age = 72"
   ]
  },
  {
   "cell_type": "markdown",
   "metadata": {},
   "source": [
    "### qmark 방식"
   ]
  },
  {
   "cell_type": "code",
   "execution_count": 43,
   "metadata": {},
   "outputs": [
    {
     "data": {
      "text/plain": [
       "<sqlite3.Cursor at 0x2864f22bf80>"
      ]
     },
     "execution_count": 43,
     "metadata": {},
     "output_type": "execute_result"
    }
   ],
   "source": [
    "cur.execute(\"INSERT INTO people VALUES (?, ?)\", (who, age))\n",
    "cur.execute(\"commit\")"
   ]
  },
  {
   "cell_type": "markdown",
   "metadata": {},
   "source": [
    "### named 방식"
   ]
  },
  {
   "cell_type": "code",
   "execution_count": 37,
   "metadata": {},
   "outputs": [
    {
     "name": "stdout",
     "output_type": "stream",
     "text": [
      "('Yeltsin', 72)\n"
     ]
    }
   ],
   "source": [
    "cur.execute(\"\"\"\n",
    "    SELECT * \n",
    "    FROM people \n",
    "    WHERE name_last=:who and age=:age\n",
    "\"\"\", {\"who\":who, \"age\":age})\n",
    "\n",
    "print(cur.fetchone())"
   ]
  },
  {
   "cell_type": "markdown",
   "metadata": {},
   "source": [
    "### executemany(sql, parameter)를 사용\n",
    "- 1개의 쿼리문을 여러번 실행 할 때 사용\n",
    "- iterable 형태로 parameter를 넘긴다."
   ]
  },
  {
   "cell_type": "markdown",
   "metadata": {},
   "source": [
    "### executemany에서 qmark 방식"
   ]
  },
  {
   "cell_type": "code",
   "execution_count": 29,
   "metadata": {},
   "outputs": [],
   "source": [
    "sql = \"INSERT INTO people VALUES (?, ?)\"\n",
    "curData = [('A', 1), ('B', 2), ('C', 3)]"
   ]
  },
  {
   "cell_type": "code",
   "execution_count": 30,
   "metadata": {},
   "outputs": [
    {
     "data": {
      "text/plain": [
       "<sqlite3.Cursor at 0x2864f22bf80>"
      ]
     },
     "execution_count": 30,
     "metadata": {},
     "output_type": "execute_result"
    }
   ],
   "source": [
    "cur.executemany(sql, curData)"
   ]
  },
  {
   "cell_type": "markdown",
   "metadata": {},
   "source": [
    "### executemany에서 named 방식"
   ]
  },
  {
   "cell_type": "code",
   "execution_count": 46,
   "metadata": {},
   "outputs": [],
   "source": [
    "sql = \"INSERT INTO people VALUES (:who, :age)\"\n",
    "curData = [{'who':'E', 'age':1}, {'who':'F', 'age':2}, {'who':'G', 'age':3}]"
   ]
  },
  {
   "cell_type": "code",
   "execution_count": 47,
   "metadata": {},
   "outputs": [
    {
     "data": {
      "text/plain": [
       "<sqlite3.Cursor at 0x2864f22bf80>"
      ]
     },
     "execution_count": 47,
     "metadata": {},
     "output_type": "execute_result"
    }
   ],
   "source": [
    "cur.executemany(sql, curData)"
   ]
  },
  {
   "cell_type": "code",
   "execution_count": 48,
   "metadata": {},
   "outputs": [
    {
     "data": {
      "text/plain": [
       "[('Yeltsin', 72),\n",
       " ('Yeltsin', 72),\n",
       " ('Yeltsin', 72),\n",
       " ('Yeltsin', 72),\n",
       " ('A', 1),\n",
       " ('B', 2),\n",
       " ('C', 3),\n",
       " ('A', 1),\n",
       " ('B', 2),\n",
       " ('C', 3),\n",
       " ('Yeltsin', 72),\n",
       " ('E', 1),\n",
       " ('F', 2),\n",
       " ('G', 3)]"
      ]
     },
     "execution_count": 48,
     "metadata": {},
     "output_type": "execute_result"
    }
   ],
   "source": [
    "cur.execute(\"SELECT * FROM people\")\n",
    "cur.fetchall()"
   ]
  },
  {
   "cell_type": "markdown",
   "metadata": {},
   "source": [
    "### executescript()는 시작 전에 commit을 자동으로 해준다.\n",
    "- fetch를 할 수 없다. -> SELECT는 별도로 사용해야한다."
   ]
  },
  {
   "cell_type": "code",
   "execution_count": 49,
   "metadata": {},
   "outputs": [
    {
     "data": {
      "text/plain": [
       "<sqlite3.Cursor at 0x2864f22bf80>"
      ]
     },
     "execution_count": 49,
     "metadata": {},
     "output_type": "execute_result"
    }
   ],
   "source": [
    "cur.executescript('''\n",
    "    CREATE TABLE person(\n",
    "        first_name text primary key,\n",
    "        last_name text not null\n",
    "    );\n",
    "    \n",
    "    insert into person values ('name', 'kim')\n",
    "''')"
   ]
  },
  {
   "cell_type": "code",
   "execution_count": 50,
   "metadata": {},
   "outputs": [
    {
     "name": "stdout",
     "output_type": "stream",
     "text": [
      "[('name', 'kim')]\n"
     ]
    }
   ],
   "source": [
    "cur.execute('select * from person')\n",
    "print(cur.fetchall())"
   ]
  },
  {
   "cell_type": "markdown",
   "metadata": {},
   "source": [
    "### fetchone()\n",
    "- 딱 한 튜플을 가져온다.\n",
    "\n",
    "### fetchmany(size)\n",
    "- 내가 가져올 사이즈를 지정하면 그 만큼 리스트 형태로 반환\n",
    "\n",
    "### fetchall()\n",
    "- 결과를 전부 가져온다"
   ]
  },
  {
   "cell_type": "code",
   "execution_count": 178,
   "metadata": {},
   "outputs": [],
   "source": [
    "conn.close()"
   ]
  },
  {
   "cell_type": "code",
   "execution_count": 179,
   "metadata": {},
   "outputs": [
    {
     "data": {
      "text/plain": [
       "<sqlite3.Connection at 0x2864f66d2d0>"
      ]
     },
     "execution_count": 179,
     "metadata": {},
     "output_type": "execute_result"
    }
   ],
   "source": [
    "conn"
   ]
  },
  {
   "cell_type": "code",
   "execution_count": 180,
   "metadata": {},
   "outputs": [
    {
     "name": "stdout",
     "output_type": "stream",
     "text": [
      "Opened database successfully\n"
     ]
    }
   ],
   "source": [
    "conn = sqlite3.connect('create.db')\n",
    "print(\"Opened database successfully\")\n",
    "cur = conn.cursor()"
   ]
  },
  {
   "cell_type": "code",
   "execution_count": 202,
   "metadata": {},
   "outputs": [
    {
     "name": "stdout",
     "output_type": "stream",
     "text": [
      "Table created successfully\n"
     ]
    }
   ],
   "source": [
    "cur.execute('''\n",
    "    CREATE TABLE COMPANY(\n",
    "        ID INT PRIMARY KEY NOT NULL,\n",
    "        NAME TEXT NOT NULL,\n",
    "        AGE INT NOT NULL,\n",
    "        ADDRESS CHAR(50),\n",
    "        SALARY REAL\n",
    "    );\n",
    "''')\n",
    "print('Table created successfully')"
   ]
  },
  {
   "cell_type": "code",
   "execution_count": 201,
   "metadata": {},
   "outputs": [
    {
     "data": {
      "text/plain": [
       "<sqlite3.Cursor at 0x2864f54e420>"
      ]
     },
     "execution_count": 201,
     "metadata": {},
     "output_type": "execute_result"
    }
   ],
   "source": [
    "cur.execute('DROP TABLE company')"
   ]
  },
  {
   "cell_type": "code",
   "execution_count": 203,
   "metadata": {
    "scrolled": true
   },
   "outputs": [
    {
     "data": {
      "text/plain": [
       "<sqlite3.Cursor at 0x2864f54e420>"
      ]
     },
     "execution_count": 203,
     "metadata": {},
     "output_type": "execute_result"
    }
   ],
   "source": [
    "cur.execute(\"\"\"\n",
    "    INSERT INTO COMPANY (ID, NAME, AGE, ADDRESS, SALARY) \n",
    "    VALUES (1, 'Paul', 32, 'California', 20000.00)\"\"\")"
   ]
  },
  {
   "cell_type": "code",
   "execution_count": 204,
   "metadata": {},
   "outputs": [
    {
     "data": {
      "text/plain": [
       "(1, 9)"
      ]
     },
     "execution_count": 204,
     "metadata": {},
     "output_type": "execute_result"
    }
   ],
   "source": [
    "cur.lastrowid, conn.total_changes"
   ]
  },
  {
   "cell_type": "code",
   "execution_count": 205,
   "metadata": {},
   "outputs": [
    {
     "data": {
      "text/plain": [
       "<sqlite3.Cursor at 0x2864f54e420>"
      ]
     },
     "execution_count": 205,
     "metadata": {},
     "output_type": "execute_result"
    }
   ],
   "source": [
    "cur.execute(\"\"\"\n",
    "    INSERT INTO company (ID, NAME, AGE, ADDRESS, SALARY)\n",
    "    VALUES (:id, :name, :age, :address, :salary)\n",
    "\"\"\", {'id':2, 'name':'Allen', 'age':25, 'address':'Texas', 'salary':15000.00})"
   ]
  },
  {
   "cell_type": "code",
   "execution_count": 206,
   "metadata": {},
   "outputs": [
    {
     "data": {
      "text/plain": [
       "(2, 10)"
      ]
     },
     "execution_count": 206,
     "metadata": {},
     "output_type": "execute_result"
    }
   ],
   "source": [
    "cur.lastrowid, conn.total_changes"
   ]
  },
  {
   "cell_type": "code",
   "execution_count": 207,
   "metadata": {},
   "outputs": [],
   "source": [
    "data = [(3, 'Teddy', 23, 'Norway', 200000.00), \n",
    "        (4, 'Mark', 25, 'Rich-Mond', 65000.00)]"
   ]
  },
  {
   "cell_type": "code",
   "execution_count": 208,
   "metadata": {},
   "outputs": [
    {
     "data": {
      "text/plain": [
       "<sqlite3.Cursor at 0x2864f54e420>"
      ]
     },
     "execution_count": 208,
     "metadata": {},
     "output_type": "execute_result"
    }
   ],
   "source": [
    "cur.executemany(\"\"\"\n",
    "    INSERT INTO company (ID, NAME, AGE, ADDRESS, SALARY)\n",
    "    VALUES (?, ?, ?, ?, ?);\n",
    "\"\"\", data)"
   ]
  },
  {
   "cell_type": "code",
   "execution_count": 209,
   "metadata": {
    "scrolled": true
   },
   "outputs": [
    {
     "data": {
      "text/plain": [
       "(2, 12)"
      ]
     },
     "execution_count": 209,
     "metadata": {},
     "output_type": "execute_result"
    }
   ],
   "source": [
    "cur.lastrowid, conn.total_changes"
   ]
  },
  {
   "cell_type": "code",
   "execution_count": 210,
   "metadata": {
    "scrolled": true
   },
   "outputs": [
    {
     "data": {
      "text/plain": [
       "<sqlite3.Cursor at 0x2864f54e420>"
      ]
     },
     "execution_count": 210,
     "metadata": {},
     "output_type": "execute_result"
    }
   ],
   "source": [
    "cur.executescript('''\n",
    "    INSERT INTO company (ID, NAME, AGE, ADDRESS, SALARY)\n",
    "    VALUES (5, 'Mark1', 25, 'Rich-Mond', 65000.00);\n",
    "    \n",
    "    INSERT INTO company (ID, NAME, AGE, ADDRESS, SALARY)\n",
    "    VALUES (6, 'Mark2', 25, 'Rich-Mond', 65000.00);\n",
    "''')"
   ]
  },
  {
   "cell_type": "code",
   "execution_count": 211,
   "metadata": {
    "scrolled": true
   },
   "outputs": [
    {
     "data": {
      "text/plain": [
       "(2, 14)"
      ]
     },
     "execution_count": 211,
     "metadata": {},
     "output_type": "execute_result"
    }
   ],
   "source": [
    "cur.lastrowid, conn.total_changes"
   ]
  },
  {
   "cell_type": "code",
   "execution_count": 212,
   "metadata": {},
   "outputs": [
    {
     "name": "stdout",
     "output_type": "stream",
     "text": [
      "Records created sucessfully\n"
     ]
    }
   ],
   "source": [
    "conn.commit()\n",
    "print(\"Records created sucessfully\")"
   ]
  },
  {
   "cell_type": "code",
   "execution_count": 213,
   "metadata": {
    "scrolled": true
   },
   "outputs": [
    {
     "data": {
      "text/plain": [
       "2"
      ]
     },
     "execution_count": 213,
     "metadata": {},
     "output_type": "execute_result"
    }
   ],
   "source": [
    "cur.lastrowid"
   ]
  },
  {
   "cell_type": "code",
   "execution_count": 214,
   "metadata": {},
   "outputs": [],
   "source": [
    "cursor = cur.execute(\"\"\"\n",
    "    SELECT id, name, address, salary\n",
    "    FROM company\n",
    "\"\"\")"
   ]
  },
  {
   "cell_type": "code",
   "execution_count": 215,
   "metadata": {
    "collapsed": true
   },
   "outputs": [
    {
     "name": "stdout",
     "output_type": "stream",
     "text": [
      "ID =  1 <class 'int'>\n",
      "NAME =  Paul <class 'str'>\n",
      "ADDRESS =  California <class 'str'>\n",
      "SALARY =  20000.0 <class 'float'>\n",
      "\n",
      "ID =  2 <class 'int'>\n",
      "NAME =  Allen <class 'str'>\n",
      "ADDRESS =  Texas <class 'str'>\n",
      "SALARY =  15000.0 <class 'float'>\n",
      "\n",
      "ID =  3 <class 'int'>\n",
      "NAME =  Teddy <class 'str'>\n",
      "ADDRESS =  Norway <class 'str'>\n",
      "SALARY =  200000.0 <class 'float'>\n",
      "\n",
      "ID =  4 <class 'int'>\n",
      "NAME =  Mark <class 'str'>\n",
      "ADDRESS =  Rich-Mond <class 'str'>\n",
      "SALARY =  65000.0 <class 'float'>\n",
      "\n",
      "ID =  5 <class 'int'>\n",
      "NAME =  Mark1 <class 'str'>\n",
      "ADDRESS =  Rich-Mond <class 'str'>\n",
      "SALARY =  65000.0 <class 'float'>\n",
      "\n",
      "ID =  6 <class 'int'>\n",
      "NAME =  Mark2 <class 'str'>\n",
      "ADDRESS =  Rich-Mond <class 'str'>\n",
      "SALARY =  65000.0 <class 'float'>\n",
      "\n",
      "Operation done successfully\n"
     ]
    }
   ],
   "source": [
    "for row in cursor:\n",
    "    print(\"ID = \", row[0], type(row[0]))\n",
    "    print(\"NAME = \", row[1], type(row[1]))\n",
    "    print(\"ADDRESS = \", row[2], type(row[2]))\n",
    "    print(\"SALARY = \", row[3], type(row[3]), end='\\n\\n')\n",
    "    \n",
    "print(\"Operation done successfully\")"
   ]
  },
  {
   "cell_type": "code",
   "execution_count": 176,
   "metadata": {},
   "outputs": [
    {
     "data": {
      "text/plain": [
       "6"
      ]
     },
     "execution_count": 176,
     "metadata": {},
     "output_type": "execute_result"
    }
   ],
   "source": [
    "cur.lastrowid"
   ]
  },
  {
   "cell_type": "code",
   "execution_count": 218,
   "metadata": {},
   "outputs": [
    {
     "data": {
      "text/plain": [
       "<sqlite3.Cursor at 0x2864f54e420>"
      ]
     },
     "execution_count": 218,
     "metadata": {},
     "output_type": "execute_result"
    }
   ],
   "source": [
    "cid = 1\n",
    "\n",
    "cur.execute(\"\"\"\n",
    "    UPDATE company \n",
    "    SET salary = 25000.00\n",
    "    WHERE id = :id\n",
    "\"\"\", {'id':cid})"
   ]
  },
  {
   "cell_type": "code",
   "execution_count": 220,
   "metadata": {},
   "outputs": [],
   "source": [
    "conn.commit()"
   ]
  },
  {
   "cell_type": "code",
   "execution_count": 221,
   "metadata": {},
   "outputs": [
    {
     "name": "stdout",
     "output_type": "stream",
     "text": [
      "Total numver of wors updated: 15\n"
     ]
    }
   ],
   "source": [
    "print(\"Total numver of wors updated:\", conn.total_changes)"
   ]
  },
  {
   "cell_type": "code",
   "execution_count": 222,
   "metadata": {},
   "outputs": [
    {
     "name": "stdout",
     "output_type": "stream",
     "text": [
      "ID =  1 <class 'int'>\n",
      "NAME =  Paul <class 'str'>\n",
      "ADDRESS =  California <class 'str'>\n",
      "SALARY =  25000.0 <class 'float'>\n",
      "\n",
      "ID =  2 <class 'int'>\n",
      "NAME =  Allen <class 'str'>\n",
      "ADDRESS =  Texas <class 'str'>\n",
      "SALARY =  15000.0 <class 'float'>\n",
      "\n",
      "ID =  3 <class 'int'>\n",
      "NAME =  Teddy <class 'str'>\n",
      "ADDRESS =  Norway <class 'str'>\n",
      "SALARY =  200000.0 <class 'float'>\n",
      "\n",
      "ID =  4 <class 'int'>\n",
      "NAME =  Mark <class 'str'>\n",
      "ADDRESS =  Rich-Mond <class 'str'>\n",
      "SALARY =  65000.0 <class 'float'>\n",
      "\n",
      "ID =  5 <class 'int'>\n",
      "NAME =  Mark1 <class 'str'>\n",
      "ADDRESS =  Rich-Mond <class 'str'>\n",
      "SALARY =  65000.0 <class 'float'>\n",
      "\n",
      "ID =  6 <class 'int'>\n",
      "NAME =  Mark2 <class 'str'>\n",
      "ADDRESS =  Rich-Mond <class 'str'>\n",
      "SALARY =  65000.0 <class 'float'>\n",
      "\n"
     ]
    }
   ],
   "source": [
    "cursor = cur.execute(\"SELECT id, name, address, salary FROM company\")\n",
    "for row in cursor:\n",
    "    print(\"ID = \", row[0], type(row[0]))\n",
    "    print(\"NAME = \", row[1], type(row[1]))\n",
    "    print(\"ADDRESS = \", row[2], type(row[2]))\n",
    "    print(\"SALARY = \", row[3], type(row[3]), end='\\n\\n')"
   ]
  },
  {
   "cell_type": "code",
   "execution_count": 223,
   "metadata": {},
   "outputs": [
    {
     "name": "stdout",
     "output_type": "stream",
     "text": [
      "Total number of rows deleted: 16\n"
     ]
    }
   ],
   "source": [
    "cur.execute(\"DELETE FROM company WHERE id = 2;\")\n",
    "\n",
    "print(\"Total number of rows deleted:\", conn.total_changes)"
   ]
  },
  {
   "cell_type": "code",
   "execution_count": 224,
   "metadata": {},
   "outputs": [
    {
     "name": "stdout",
     "output_type": "stream",
     "text": [
      "ID =  1 <class 'int'>\n",
      "NAME =  Paul <class 'str'>\n",
      "ADDRESS =  California <class 'str'>\n",
      "SALARY =  25000.0 <class 'float'>\n",
      "\n",
      "ID =  3 <class 'int'>\n",
      "NAME =  Teddy <class 'str'>\n",
      "ADDRESS =  Norway <class 'str'>\n",
      "SALARY =  200000.0 <class 'float'>\n",
      "\n",
      "ID =  4 <class 'int'>\n",
      "NAME =  Mark <class 'str'>\n",
      "ADDRESS =  Rich-Mond <class 'str'>\n",
      "SALARY =  65000.0 <class 'float'>\n",
      "\n",
      "ID =  5 <class 'int'>\n",
      "NAME =  Mark1 <class 'str'>\n",
      "ADDRESS =  Rich-Mond <class 'str'>\n",
      "SALARY =  65000.0 <class 'float'>\n",
      "\n",
      "ID =  6 <class 'int'>\n",
      "NAME =  Mark2 <class 'str'>\n",
      "ADDRESS =  Rich-Mond <class 'str'>\n",
      "SALARY =  65000.0 <class 'float'>\n",
      "\n"
     ]
    }
   ],
   "source": [
    "cursor = cur.execute(\"SELECT id, name, address, salary FROM company\")\n",
    "for row in cursor:\n",
    "    print(\"ID = \", row[0], type(row[0]))\n",
    "    print(\"NAME = \", row[1], type(row[1]))\n",
    "    print(\"ADDRESS = \", row[2], type(row[2]))\n",
    "    print(\"SALARY = \", row[3], type(row[3]), end='\\n\\n')"
   ]
  },
  {
   "cell_type": "code",
   "execution_count": 240,
   "metadata": {},
   "outputs": [
    {
     "data": {
      "text/plain": [
       "<sqlite3.Cursor at 0x2864f54e420>"
      ]
     },
     "execution_count": 240,
     "metadata": {},
     "output_type": "execute_result"
    }
   ],
   "source": [
    "cur.executescript(\"\"\"\n",
    "    CREATE TABLE Artist(\n",
    "        id integer not null primary key autoincrement unique,\n",
    "        name text not null\n",
    "    );\n",
    "    \n",
    "    CREATE TABLE Genre(\n",
    "        id integer not null primary key autoincrement unique,\n",
    "        name text not null\n",
    "    );\n",
    "    \n",
    "    CREATE TABLE Album(\n",
    "        id integer not null primary key autoincrement unique,\n",
    "        title text,\n",
    "        artist_id integer\n",
    "    );\n",
    "    \n",
    "    CREATE TABLE Track(\n",
    "        id integer not null primary key autoincrement unique,\n",
    "        title text,\n",
    "        length integer,\n",
    "        rating integer,\n",
    "        count integer,\n",
    "        album_id integer,\n",
    "        genre_id integer\n",
    "    );\n",
    "    \n",
    "\"\"\")"
   ]
  },
  {
   "cell_type": "code",
   "execution_count": 241,
   "metadata": {},
   "outputs": [
    {
     "data": {
      "text/plain": [
       "<sqlite3.Cursor at 0x2864f54e420>"
      ]
     },
     "execution_count": 241,
     "metadata": {},
     "output_type": "execute_result"
    }
   ],
   "source": [
    "cur.execute(\"INSERT INTO Artist (name) VALUES('Led Zepplin')\")"
   ]
  },
  {
   "cell_type": "code",
   "execution_count": 242,
   "metadata": {},
   "outputs": [
    {
     "data": {
      "text/plain": [
       "<sqlite3.Cursor at 0x2864f54e420>"
      ]
     },
     "execution_count": 242,
     "metadata": {},
     "output_type": "execute_result"
    }
   ],
   "source": [
    "cur.execute(\"insert into Artist(name) values('AC/DC')\")"
   ]
  },
  {
   "cell_type": "code",
   "execution_count": 243,
   "metadata": {},
   "outputs": [
    {
     "data": {
      "text/plain": [
       "<sqlite3.Cursor at 0x2864f54e420>"
      ]
     },
     "execution_count": 243,
     "metadata": {},
     "output_type": "execute_result"
    }
   ],
   "source": [
    "cur.execute(\"insert into Genre (name) values ('Rock')\")"
   ]
  },
  {
   "cell_type": "code",
   "execution_count": 244,
   "metadata": {},
   "outputs": [
    {
     "data": {
      "text/plain": [
       "<sqlite3.Cursor at 0x2864f54e420>"
      ]
     },
     "execution_count": 244,
     "metadata": {},
     "output_type": "execute_result"
    }
   ],
   "source": [
    "cur.execute(\"insert into Genre (name) values ('Metal')\")"
   ]
  },
  {
   "cell_type": "code",
   "execution_count": 245,
   "metadata": {},
   "outputs": [],
   "source": [
    "conn.commit()"
   ]
  },
  {
   "cell_type": "code",
   "execution_count": 248,
   "metadata": {},
   "outputs": [
    {
     "data": {
      "text/plain": [
       "<sqlite3.Cursor at 0x2864f54e420>"
      ]
     },
     "execution_count": 248,
     "metadata": {},
     "output_type": "execute_result"
    }
   ],
   "source": [
    "cur.execute(\"\"\"\n",
    "    insert into Album (title, artist_id) \n",
    "    values(:album,\n",
    "            (select id \n",
    "            from Artist \n",
    "            where name=:artist))\n",
    "\"\"\", {'album':'Who Made Who', 'artist':\"Led Zepplin\"})"
   ]
  },
  {
   "cell_type": "code",
   "execution_count": 249,
   "metadata": {},
   "outputs": [],
   "source": [
    "conn.commit()"
   ]
  },
  {
   "cell_type": "code",
   "execution_count": 250,
   "metadata": {},
   "outputs": [
    {
     "data": {
      "text/plain": [
       "<sqlite3.Cursor at 0x2864f54e420>"
      ]
     },
     "execution_count": 250,
     "metadata": {},
     "output_type": "execute_result"
    }
   ],
   "source": [
    "cur.execute(\"\"\"\n",
    "    insert into Album (title, artist_id) \n",
    "    values(:album, 1)\n",
    "\"\"\", {'album':'IV'})"
   ]
  },
  {
   "cell_type": "code",
   "execution_count": 251,
   "metadata": {},
   "outputs": [
    {
     "data": {
      "text/plain": [
       "<sqlite3.Cursor at 0x2864f54e420>"
      ]
     },
     "execution_count": 251,
     "metadata": {},
     "output_type": "execute_result"
    }
   ],
   "source": [
    "cur.executescript('''\n",
    "    insert into Track(title, rating, length, count, album_id, genre_id)\n",
    "    values ('Black Dog', 5, 297, 0, 2, 1);\n",
    "    \n",
    "    insert into Track(title, rating, length, count, album_id, genre_id)\n",
    "    values ('Stairway', 5, 482, 0, 2, 1);\n",
    "    \n",
    "    insert into Track(title, rating, length, count, album_id, genre_id)\n",
    "    values ('About to Rock', 5, 313, 0, 1, 2);\n",
    "    \n",
    "    insert into Track(title, rating, length, count, album_id, genre_id)\n",
    "    values ('Who Made Who', 5, 207, 0, 1, 2);\n",
    "''')"
   ]
  },
  {
   "cell_type": "code",
   "execution_count": 252,
   "metadata": {},
   "outputs": [],
   "source": [
    "conn.commit()"
   ]
  },
  {
   "cell_type": "markdown",
   "metadata": {},
   "source": [
    "    SELECT Album.title, Artist.name\n",
    "        From Alubum\n",
    "            Join Artist on \n",
    "                Album.artist_id = Artist.id"
   ]
  },
  {
   "cell_type": "code",
   "execution_count": 254,
   "metadata": {},
   "outputs": [],
   "source": [
    "cur.execute('''\n",
    "    SELECT Album.id, Album.title, Artist.name\n",
    "        From Album\n",
    "            Join Artist on \n",
    "                Album.artist_id = Artist.id\n",
    "''')"
   ]
  },
  {
   "cell_type": "code",
   "execution_count": 255,
   "metadata": {},
   "outputs": [],
   "source": [
    "cursor = cur.fetchall()"
   ]
  },
  {
   "cell_type": "code",
   "execution_count": 256,
   "metadata": {},
   "outputs": [
    {
     "data": {
      "text/plain": [
       "[('Who Made Who', 'Led Zepplin'), ('IV', 'Led Zepplin')]"
      ]
     },
     "execution_count": 256,
     "metadata": {},
     "output_type": "execute_result"
    }
   ],
   "source": [
    "cursor"
   ]
  },
  {
   "cell_type": "code",
   "execution_count": 257,
   "metadata": {},
   "outputs": [
    {
     "data": {
      "text/plain": [
       "<sqlite3.Cursor at 0x2864f54e420>"
      ]
     },
     "execution_count": 257,
     "metadata": {},
     "output_type": "execute_result"
    }
   ],
   "source": [
    "cur.execute('''\n",
    "    SELECT Track.title, Track.length, Track.rating, Track.count, Genre.name\n",
    "    From Track\n",
    "    Join Genre on \n",
    "    Track.genre_id = Genre.id\n",
    "    \n",
    "''')"
   ]
  },
  {
   "cell_type": "code",
   "execution_count": 258,
   "metadata": {},
   "outputs": [
    {
     "data": {
      "text/plain": [
       "<sqlite3.Cursor at 0x2864f54e420>"
      ]
     },
     "execution_count": 258,
     "metadata": {},
     "output_type": "execute_result"
    }
   ],
   "source": [
    "cur.execute('''\n",
    "    SELECT Album.title, Track.title\n",
    "        From Track\n",
    "            Join Album on\n",
    "                Track.album_id = Album.id\n",
    "''')"
   ]
  },
  {
   "cell_type": "code",
   "execution_count": 259,
   "metadata": {},
   "outputs": [],
   "source": [
    "cursor = cur.fetchall()"
   ]
  },
  {
   "cell_type": "code",
   "execution_count": 261,
   "metadata": {},
   "outputs": [
    {
     "data": {
      "text/plain": [
       "[('IV', 'Black Dog'),\n",
       " ('IV', 'Stairway'),\n",
       " ('Who Made Who', 'About to Rock'),\n",
       " ('Who Made Who', 'Who Made Who')]"
      ]
     },
     "execution_count": 261,
     "metadata": {},
     "output_type": "execute_result"
    }
   ],
   "source": [
    "cursor"
   ]
  },
  {
   "cell_type": "code",
   "execution_count": 267,
   "metadata": {},
   "outputs": [
    {
     "data": {
      "text/plain": [
       "<sqlite3.Cursor at 0x2864f54e420>"
      ]
     },
     "execution_count": 267,
     "metadata": {},
     "output_type": "execute_result"
    }
   ],
   "source": [
    "cur.execute('''\n",
    "    SELECT Track.title as 곡명, Artist.name as 가수, Album.title as 앨범, Genre.name as 장르\n",
    "    FROM Track\n",
    "        JOIN Artist JOIN Album JOIN Genre on\n",
    "        Track.album_id = Album.id\n",
    "        and \n",
    "        Track.genre_id = Genre.id\n",
    "        and\n",
    "        Album.artist_id = Artist.id\n",
    "''')"
   ]
  },
  {
   "cell_type": "code",
   "execution_count": 268,
   "metadata": {},
   "outputs": [],
   "source": [
    "cursor = cur.fetchall()"
   ]
  },
  {
   "cell_type": "code",
   "execution_count": 269,
   "metadata": {
    "scrolled": true
   },
   "outputs": [
    {
     "data": {
      "text/plain": [
       "[('Black Dog', 'Led Zepplin', 'IV', 'Rock'),\n",
       " ('Stairway', 'Led Zepplin', 'IV', 'Rock'),\n",
       " ('About to Rock', 'Led Zepplin', 'Who Made Who', 'Metal'),\n",
       " ('Who Made Who', 'Led Zepplin', 'Who Made Who', 'Metal')]"
      ]
     },
     "execution_count": 269,
     "metadata": {},
     "output_type": "execute_result"
    }
   ],
   "source": [
    "cursor"
   ]
  },
  {
   "cell_type": "code",
   "execution_count": null,
   "metadata": {},
   "outputs": [],
   "source": []
  }
 ],
 "metadata": {
  "kernelspec": {
   "display_name": "Python 3",
   "language": "python",
   "name": "python3"
  },
  "language_info": {
   "codemirror_mode": {
    "name": "ipython",
    "version": 3
   },
   "file_extension": ".py",
   "mimetype": "text/x-python",
   "name": "python",
   "nbconvert_exporter": "python",
   "pygments_lexer": "ipython3",
   "version": "3.7.3"
  }
 },
 "nbformat": 4,
 "nbformat_minor": 2
}

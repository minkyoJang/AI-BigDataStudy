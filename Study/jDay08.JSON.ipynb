{
 "cells": [
  {
   "cell_type": "markdown",
   "metadata": {},
   "source": [
    "# JSON(JavaScript Object Notation)\n",
    "- 데이터를 표현하기 위한 것\n",
    "- 통신하기 위해 많이 사용한다.\n",
    "- 모두 텍스트로 이루어져있다.(byte 통신 해야 되므로)\n",
    "- 웹에서 비동기식 통신 할 때 많이 사용된다.\n",
    "- 인간이 읽기 쉬우면서 머신 리더블이다.\n",
    "- 무조건 바이트 단위로 왔다갔다 해야 하므로 객체 등은 serializing(직렬화) 시켜서 다시 조립해야한다.\n",
    "- \"를 사용해야 한다. ' 사용하면 안됨\n",
    "- 메모장 코딩할 것이다."
   ]
  },
  {
   "cell_type": "markdown",
   "metadata": {},
   "source": [
    "### json 패키지\n",
    "- Encoding (파이썬 -> JSON)\n",
    "    - dump() : file에 쓸 때\n",
    "    - dumps() : string으로 사용할 때\n",
    "- Decoding(JSON string -> python object))\n",
    "    - load() : file에서 불러올 때\n",
    "    - loads() : string에서 객체로 변환할 때"
   ]
  },
  {
   "cell_type": "code",
   "execution_count": 2,
   "metadata": {},
   "outputs": [],
   "source": [
    "import json"
   ]
  },
  {
   "cell_type": "code",
   "execution_count": 3,
   "metadata": {},
   "outputs": [],
   "source": [
    "name = (\"Kim\", \"Lee\", \"Park\")\n",
    "age = [30, 28, 31]\n",
    "person = {\"name\":\"Kim\", \"age\":30, \"car\":False}"
   ]
  },
  {
   "cell_type": "markdown",
   "metadata": {},
   "source": [
    "indent 속성을 주게 되면 보기 편하게 만들 수 있다."
   ]
  },
  {
   "cell_type": "code",
   "execution_count": 6,
   "metadata": {},
   "outputs": [],
   "source": [
    "nameStr = json.dumps(name)\n",
    "ageStr = json.dumps(age)\n",
    "personStr = json.dumps(person, indent = \"\\t\")"
   ]
  },
  {
   "cell_type": "code",
   "execution_count": 7,
   "metadata": {},
   "outputs": [
    {
     "name": "stdout",
     "output_type": "stream",
     "text": [
      "[\"Kim\", \"Lee\", \"Park\"]\n",
      "[30, 28, 31]\n",
      "{\n",
      "\t\"name\": \"Kim\",\n",
      "\t\"age\": 30,\n",
      "\t\"car\": false\n",
      "}\n"
     ]
    }
   ],
   "source": [
    "print(nameStr)\n",
    "print(ageStr)\n",
    "print(personStr)"
   ]
  },
  {
   "cell_type": "markdown",
   "metadata": {},
   "source": [
    "아스키로 변환되기 때문에 한글이 깨진다."
   ]
  },
  {
   "cell_type": "code",
   "execution_count": 8,
   "metadata": {},
   "outputs": [
    {
     "name": "stdout",
     "output_type": "stream",
     "text": [
      "[\"\\uae40\", \"\\uc774\", \"\\ubc15\"]\n"
     ]
    }
   ],
   "source": [
    "kname =(\"김\", \"이\", \"박\")\n",
    "knameStr = json.dumps(kname)\n",
    "print(knameStr)"
   ]
  },
  {
   "cell_type": "markdown",
   "metadata": {},
   "source": [
    "ensure_ascii 속성을 False로 하면 한글이 깨지지 않고 나온다."
   ]
  },
  {
   "cell_type": "code",
   "execution_count": 9,
   "metadata": {},
   "outputs": [
    {
     "name": "stdout",
     "output_type": "stream",
     "text": [
      "[\"김\", \"이\", \"박\"]\n"
     ]
    }
   ],
   "source": [
    "knameStr = json.dumps(kname, ensure_ascii = False)\n",
    "print(knameStr)"
   ]
  },
  {
   "cell_type": "code",
   "execution_count": 10,
   "metadata": {},
   "outputs": [
    {
     "data": {
      "text/plain": [
       "True"
      ]
     },
     "execution_count": 10,
     "metadata": {},
     "output_type": "execute_result"
    }
   ],
   "source": [
    "personObj = json.loads(personStr)\n",
    "person == personObj"
   ]
  },
  {
   "cell_type": "code",
   "execution_count": 11,
   "metadata": {},
   "outputs": [
    {
     "data": {
      "text/plain": [
       "dict"
      ]
     },
     "execution_count": 11,
     "metadata": {},
     "output_type": "execute_result"
    }
   ],
   "source": [
    "type(personObj)"
   ]
  },
  {
   "cell_type": "markdown",
   "metadata": {},
   "source": [
    "파일에 사용하게되면 dump, load를 사용하면 된다. with 구문에 넣어 사용하게 되면 알아서 close()까지 해주므로 좋다."
   ]
  },
  {
   "cell_type": "code",
   "execution_count": 12,
   "metadata": {},
   "outputs": [],
   "source": [
    "person[\"car\"] = [\"레이\", \"모닝\"]\n",
    "\n",
    "with open(\"person.json\", \"w\") as f:\n",
    "    json.dump(person, f)"
   ]
  },
  {
   "cell_type": "code",
   "execution_count": 13,
   "metadata": {},
   "outputs": [
    {
     "data": {
      "text/plain": [
       "{'name': 'Kim', 'age': 30, 'car': ['레이', '모닝']}"
      ]
     },
     "execution_count": 13,
     "metadata": {},
     "output_type": "execute_result"
    }
   ],
   "source": [
    "with open(\"person.json\", \"r\") as f:\n",
    "    personObj = json.load(f)\n",
    "    \n",
    "personObj"
   ]
  },
  {
   "cell_type": "markdown",
   "metadata": {},
   "source": [
    "예제"
   ]
  },
  {
   "cell_type": "code",
   "execution_count": 14,
   "metadata": {
    "scrolled": true
   },
   "outputs": [
    {
     "name": "stdout",
     "output_type": "stream",
     "text": [
      "<class 'dict'>\n",
      "<class 'str'>\n",
      "<class 'bytes'>\n",
      "<class 'bytes'>\n",
      "<class 'str'>\n",
      "<class 'dict'>\n"
     ]
    }
   ],
   "source": [
    "import urllib.request\n",
    "\n",
    "url = \"http://ip.jsontest.com\"\n",
    "\n",
    "obj = {\"name\":\"김이박\", \"age\": 30}\n",
    "print(type(obj))\n",
    "objStr = json.dumps(obj)\n",
    "print(type(objStr))\n",
    "objByte = objStr.encode(\"utf-8\")\n",
    "print(type(objByte))\n",
    "\n",
    "req = urllib.request.Request(url, data=objByte, headers={'content-type':'appliction/json'})\n",
    "res = urllib.request.urlopen(req)\n",
    "\n",
    "resByte = res.read()\n",
    "print(type(resByte))\n",
    "resStr = resByte.decode(\"utf-8\")\n",
    "print(type(resStr))\n",
    "resObj = json.loads(resStr)\n",
    "print(type(resObj))"
   ]
  },
  {
   "cell_type": "code",
   "execution_count": 21,
   "metadata": {},
   "outputs": [
    {
     "name": "stdout",
     "output_type": "stream",
     "text": [
      "{\n",
      "\t\"list\": [\n",
      "\t\t{\n",
      "\t\t\t\"_returnType\": \"json\",\n",
      "\t\t\t\"coGrade\": \"1\",\n",
      "\t\t\t\"coValue\": \"0.3\",\n",
      "\t\t\t\"dataTerm\": \"\",\n",
      "\t\t\t\"dataTime\": \"2019-07-11 20:00\",\n",
      "\t\t\t\"khaiGrade\": \"1\",\n",
      "\t\t\t\"khaiValue\": \"35\",\n",
      "\t\t\t\"mangName\": \"도시대기\",\n",
      "\t\t\t\"no2Grade\": \"1\",\n",
      "\t\t\t\"no2Value\": \"0.016\",\n",
      "\t\t\t\"numOfRows\": \"10\",\n",
      "\t\t\t\"o3Grade\": \"1\",\n",
      "\t\t\t\"o3Value\": \"0.021\",\n",
      "\t\t\t\"pageNo\": \"1\",\n",
      "\t\t\t\"pm10Grade\": \"1\",\n",
      "\t\t\t\"pm10Grade1h\": \"1\",\n",
      "\t\t\t\"pm10Value\": \"7\",\n",
      "\t\t\t\"pm10Value24\": \"6\",\n",
      "\t\t\t\"pm25Grade\": \"1\",\n",
      "\t\t\t\"pm25Grade1h\": \"1\",\n",
      "\t\t\t\"pm25Value\": \"5\",\n",
      "\t\t\t\"pm25Value24\": \"4\",\n",
      "\t\t\t\"resultCode\": \"\",\n",
      "\t\t\t\"resultMsg\": \"\",\n",
      "\t\t\t\"rnum\": 0,\n",
      "\t\t\t\"serviceKey\": \"\",\n",
      "\t\t\t\"sidoName\": \"\",\n",
      "\t\t\t\"so2Grade\": \"1\",\n",
      "\t\t\t\"so2Value\": \"0.002\",\n",
      "\t\t\t\"stationCode\": \"\",\n",
      "\t\t\t\"stationName\": \"중구\",\n",
      "\t\t\t\"totalCount\": \"\",\n",
      "\t\t\t\"ver\": \"\"\n",
      "\t\t},\n",
      "\t\t{\n",
      "\t\t\t\"_returnType\": \"json\",\n",
      "\t\t\t\"coGrade\": \"1\",\n",
      "\t\t\t\"coValue\": \"0.3\",\n",
      "\t\t\t\"dataTerm\": \"\",\n",
      "\t\t\t\"dataTime\": \"2019-07-11 20:00\",\n",
      "\t\t\t\"khaiGrade\": \"1\",\n",
      "\t\t\t\"khaiValue\": \"37\",\n",
      "\t\t\t\"mangName\": \"도로변대기\",\n",
      "\t\t\t\"no2Grade\": \"1\",\n",
      "\t\t\t\"no2Value\": \"0.022\",\n",
      "\t\t\t\"numOfRows\": \"10\",\n",
      "\t\t\t\"o3Grade\": \"1\",\n",
      "\t\t\t\"o3Value\": \"0.013\",\n",
      "\t\t\t\"pageNo\": \"1\",\n",
      "\t\t\t\"pm10Grade\": \"1\",\n",
      "\t\t\t\"pm10Grade1h\": \"1\",\n",
      "\t\t\t\"pm10Value\": \"10\",\n",
      "\t\t\t\"pm10Value24\": \"13\",\n",
      "\t\t\t\"pm25Grade\": \"1\",\n",
      "\t\t\t\"pm25Grade1h\": \"1\",\n",
      "\t\t\t\"pm25Value\": \"3\",\n",
      "\t\t\t\"pm25Value24\": \"5\",\n",
      "\t\t\t\"resultCode\": \"\",\n",
      "\t\t\t\"resultMsg\": \"\",\n",
      "\t\t\t\"rnum\": 0,\n",
      "\t\t\t\"serviceKey\": \"\",\n",
      "\t\t\t\"sidoName\": \"\",\n",
      "\t\t\t\"so2Grade\": \"1\",\n",
      "\t\t\t\"so2Value\": \"0.003\",\n",
      "\t\t\t\"stationCode\": \"\",\n",
      "\t\t\t\"stationName\": \"한강대로\",\n",
      "\t\t\t\"totalCount\": \"\",\n",
      "\t\t\t\"ver\": \"\"\n",
      "\t\t},\n",
      "\t\t{\n",
      "\t\t\t\"_returnType\": \"json\",\n",
      "\t\t\t\"coGrade\": \"1\",\n",
      "\t\t\t\"coValue\": \"0.4\",\n",
      "\t\t\t\"dataTerm\": \"\",\n",
      "\t\t\t\"dataTime\": \"2019-07-11 20:00\",\n",
      "\t\t\t\"khaiGrade\": \"1\",\n",
      "\t\t\t\"khaiValue\": \"27\",\n",
      "\t\t\t\"mangName\": \"도시대기\",\n",
      "\t\t\t\"no2Grade\": \"1\",\n",
      "\t\t\t\"no2Value\": \"0.014\",\n",
      "\t\t\t\"numOfRows\": \"10\",\n",
      "\t\t\t\"o3Grade\": \"1\",\n",
      "\t\t\t\"o3Value\": \"0.016\",\n",
      "\t\t\t\"pageNo\": \"1\",\n",
      "\t\t\t\"pm10Grade\": \"1\",\n",
      "\t\t\t\"pm10Grade1h\": \"1\",\n",
      "\t\t\t\"pm10Value\": \"7\",\n",
      "\t\t\t\"pm10Value24\": \"10\",\n",
      "\t\t\t\"pm25Grade\": \"1\",\n",
      "\t\t\t\"pm25Grade1h\": \"1\",\n",
      "\t\t\t\"pm25Value\": \"4\",\n",
      "\t\t\t\"pm25Value24\": \"5\",\n",
      "\t\t\t\"resultCode\": \"\",\n",
      "\t\t\t\"resultMsg\": \"\",\n",
      "\t\t\t\"rnum\": 0,\n",
      "\t\t\t\"serviceKey\": \"\",\n",
      "\t\t\t\"sidoName\": \"\",\n",
      "\t\t\t\"so2Grade\": \"1\",\n",
      "\t\t\t\"so2Value\": \"0.003\",\n",
      "\t\t\t\"stationCode\": \"\",\n",
      "\t\t\t\"stationName\": \"종로구\",\n",
      "\t\t\t\"totalCount\": \"\",\n",
      "\t\t\t\"ver\": \"\"\n",
      "\t\t},\n",
      "\t\t{\n",
      "\t\t\t\"_returnType\": \"json\",\n",
      "\t\t\t\"coGrade\": \"1\",\n",
      "\t\t\t\"coValue\": \"0.4\",\n",
      "\t\t\t\"dataTerm\": \"\",\n",
      "\t\t\t\"dataTime\": \"2019-07-11 20:00\",\n",
      "\t\t\t\"khaiGrade\": \"1\",\n",
      "\t\t\t\"khaiValue\": \"30\",\n",
      "\t\t\t\"mangName\": \"도로변대기\",\n",
      "\t\t\t\"no2Grade\": \"1\",\n",
      "\t\t\t\"no2Value\": \"0.018\",\n",
      "\t\t\t\"numOfRows\": \"10\",\n",
      "\t\t\t\"o3Grade\": \"1\",\n",
      "\t\t\t\"o3Value\": \"0.017\",\n",
      "\t\t\t\"pageNo\": \"1\",\n",
      "\t\t\t\"pm10Grade\": \"1\",\n",
      "\t\t\t\"pm10Grade1h\": \"1\",\n",
      "\t\t\t\"pm10Value\": \"8\",\n",
      "\t\t\t\"pm10Value24\": \"9\",\n",
      "\t\t\t\"pm25Grade\": \"1\",\n",
      "\t\t\t\"pm25Grade1h\": \"1\",\n",
      "\t\t\t\"pm25Value\": \"3\",\n",
      "\t\t\t\"pm25Value24\": \"4\",\n",
      "\t\t\t\"resultCode\": \"\",\n",
      "\t\t\t\"resultMsg\": \"\",\n",
      "\t\t\t\"rnum\": 0,\n",
      "\t\t\t\"serviceKey\": \"\",\n",
      "\t\t\t\"sidoName\": \"\",\n",
      "\t\t\t\"so2Grade\": \"1\",\n",
      "\t\t\t\"so2Value\": \"0.003\",\n",
      "\t\t\t\"stationCode\": \"\",\n",
      "\t\t\t\"stationName\": \"청계천로\",\n",
      "\t\t\t\"totalCount\": \"\",\n",
      "\t\t\t\"ver\": \"\"\n",
      "\t\t},\n",
      "\t\t{\n",
      "\t\t\t\"_returnType\": \"json\",\n",
      "\t\t\t\"coGrade\": \"1\",\n",
      "\t\t\t\"coValue\": \"0.3\",\n",
      "\t\t\t\"dataTerm\": \"\",\n",
      "\t\t\t\"dataTime\": \"2019-07-11 20:00\",\n",
      "\t\t\t\"khaiGrade\": \"\",\n",
      "\t\t\t\"khaiValue\": \"-\",\n",
      "\t\t\t\"mangName\": \"도로변대기\",\n",
      "\t\t\t\"no2Grade\": \"1\",\n",
      "\t\t\t\"no2Value\": \"0.020\",\n",
      "\t\t\t\"numOfRows\": \"10\",\n",
      "\t\t\t\"o3Grade\": \"1\",\n",
      "\t\t\t\"o3Value\": \"0.015\",\n",
      "\t\t\t\"pageNo\": \"1\",\n",
      "\t\t\t\"pm10Grade\": \"1\",\n",
      "\t\t\t\"pm10Grade1h\": \"\",\n",
      "\t\t\t\"pm10Value\": \"-\",\n",
      "\t\t\t\"pm10Value24\": \"5\",\n",
      "\t\t\t\"pm25Grade\": \"\",\n",
      "\t\t\t\"pm25Grade1h\": \"\",\n",
      "\t\t\t\"pm25Value\": \"-\",\n",
      "\t\t\t\"pm25Value24\": \"-\",\n",
      "\t\t\t\"resultCode\": \"\",\n",
      "\t\t\t\"resultMsg\": \"\",\n",
      "\t\t\t\"rnum\": 0,\n",
      "\t\t\t\"serviceKey\": \"\",\n",
      "\t\t\t\"sidoName\": \"\",\n",
      "\t\t\t\"so2Grade\": \"1\",\n",
      "\t\t\t\"so2Value\": \"0.002\",\n",
      "\t\t\t\"stationCode\": \"\",\n",
      "\t\t\t\"stationName\": \"종로\",\n",
      "\t\t\t\"totalCount\": \"\",\n",
      "\t\t\t\"ver\": \"\"\n",
      "\t\t},\n",
      "\t\t{\n",
      "\t\t\t\"_returnType\": \"json\",\n",
      "\t\t\t\"coGrade\": \"1\",\n",
      "\t\t\t\"coValue\": \"0.3\",\n",
      "\t\t\t\"dataTerm\": \"\",\n",
      "\t\t\t\"dataTime\": \"2019-07-11 20:00\",\n",
      "\t\t\t\"khaiGrade\": \"\",\n",
      "\t\t\t\"khaiValue\": \"-\",\n",
      "\t\t\t\"mangName\": \"도시대기\",\n",
      "\t\t\t\"no2Grade\": \"1\",\n",
      "\t\t\t\"no2Value\": \"0.012\",\n",
      "\t\t\t\"numOfRows\": \"10\",\n",
      "\t\t\t\"o3Grade\": \"1\",\n",
      "\t\t\t\"o3Value\": \"0.020\",\n",
      "\t\t\t\"pageNo\": \"1\",\n",
      "\t\t\t\"pm10Grade\": \"1\",\n",
      "\t\t\t\"pm10Grade1h\": \"1\",\n",
      "\t\t\t\"pm10Value\": \"3\",\n",
      "\t\t\t\"pm10Value24\": \"3\",\n",
      "\t\t\t\"pm25Grade\": \"\",\n",
      "\t\t\t\"pm25Grade1h\": \"1\",\n",
      "\t\t\t\"pm25Value\": \"2\",\n",
      "\t\t\t\"pm25Value24\": \"-\",\n",
      "\t\t\t\"resultCode\": \"\",\n",
      "\t\t\t\"resultMsg\": \"\",\n",
      "\t\t\t\"rnum\": 0,\n",
      "\t\t\t\"serviceKey\": \"\",\n",
      "\t\t\t\"sidoName\": \"\",\n",
      "\t\t\t\"so2Grade\": \"\",\n",
      "\t\t\t\"so2Value\": \"-\",\n",
      "\t\t\t\"stationCode\": \"\",\n",
      "\t\t\t\"stationName\": \"용산구\",\n",
      "\t\t\t\"totalCount\": \"\",\n",
      "\t\t\t\"ver\": \"\"\n",
      "\t\t},\n",
      "\t\t{\n",
      "\t\t\t\"_returnType\": \"json\",\n",
      "\t\t\t\"coGrade\": \"1\",\n",
      "\t\t\t\"coValue\": \"0.5\",\n",
      "\t\t\t\"dataTerm\": \"\",\n",
      "\t\t\t\"dataTime\": \"2019-07-11 20:00\",\n",
      "\t\t\t\"khaiGrade\": \"\",\n",
      "\t\t\t\"khaiValue\": \"-\",\n",
      "\t\t\t\"mangName\": \"도시대기\",\n",
      "\t\t\t\"no2Grade\": \"1\",\n",
      "\t\t\t\"no2Value\": \"0.010\",\n",
      "\t\t\t\"numOfRows\": \"10\",\n",
      "\t\t\t\"o3Grade\": \"1\",\n",
      "\t\t\t\"o3Value\": \"0.018\",\n",
      "\t\t\t\"pageNo\": \"1\",\n",
      "\t\t\t\"pm10Grade\": \"\",\n",
      "\t\t\t\"pm10Grade1h\": \"\",\n",
      "\t\t\t\"pm10Value\": \"-\",\n",
      "\t\t\t\"pm10Value24\": \"-\",\n",
      "\t\t\t\"pm25Grade\": \"\",\n",
      "\t\t\t\"pm25Grade1h\": \"1\",\n",
      "\t\t\t\"pm25Value\": \"12\",\n",
      "\t\t\t\"pm25Value24\": \"-\",\n",
      "\t\t\t\"resultCode\": \"\",\n",
      "\t\t\t\"resultMsg\": \"\",\n",
      "\t\t\t\"rnum\": 0,\n",
      "\t\t\t\"serviceKey\": \"\",\n",
      "\t\t\t\"sidoName\": \"\",\n",
      "\t\t\t\"so2Grade\": \"1\",\n",
      "\t\t\t\"so2Value\": \"0.004\",\n",
      "\t\t\t\"stationCode\": \"\",\n",
      "\t\t\t\"stationName\": \"광진구\",\n",
      "\t\t\t\"totalCount\": \"\",\n",
      "\t\t\t\"ver\": \"\"\n",
      "\t\t},\n",
      "\t\t{\n",
      "\t\t\t\"_returnType\": \"json\",\n",
      "\t\t\t\"coGrade\": \"1\",\n",
      "\t\t\t\"coValue\": \"0.3\",\n",
      "\t\t\t\"dataTerm\": \"\",\n",
      "\t\t\t\"dataTime\": \"2019-07-11 20:00\",\n",
      "\t\t\t\"khaiGrade\": \"1\",\n",
      "\t\t\t\"khaiValue\": \"35\",\n",
      "\t\t\t\"mangName\": \"도시대기\",\n",
      "\t\t\t\"no2Grade\": \"1\",\n",
      "\t\t\t\"no2Value\": \"0.013\",\n",
      "\t\t\t\"numOfRows\": \"10\",\n",
      "\t\t\t\"o3Grade\": \"1\",\n",
      "\t\t\t\"o3Value\": \"0.021\",\n",
      "\t\t\t\"pageNo\": \"1\",\n",
      "\t\t\t\"pm10Grade\": \"1\",\n",
      "\t\t\t\"pm10Grade1h\": \"1\",\n",
      "\t\t\t\"pm10Value\": \"14\",\n",
      "\t\t\t\"pm10Value24\": \"17\",\n",
      "\t\t\t\"pm25Grade\": \"1\",\n",
      "\t\t\t\"pm25Grade1h\": \"1\",\n",
      "\t\t\t\"pm25Value\": \"1\",\n",
      "\t\t\t\"pm25Value24\": \"4\",\n",
      "\t\t\t\"resultCode\": \"\",\n",
      "\t\t\t\"resultMsg\": \"\",\n",
      "\t\t\t\"rnum\": 0,\n",
      "\t\t\t\"serviceKey\": \"\",\n",
      "\t\t\t\"sidoName\": \"\",\n",
      "\t\t\t\"so2Grade\": \"1\",\n",
      "\t\t\t\"so2Value\": \"0.003\",\n",
      "\t\t\t\"stationCode\": \"\",\n",
      "\t\t\t\"stationName\": \"성동구\",\n",
      "\t\t\t\"totalCount\": \"\",\n",
      "\t\t\t\"ver\": \"\"\n",
      "\t\t},\n",
      "\t\t{\n",
      "\t\t\t\"_returnType\": \"json\",\n",
      "\t\t\t\"coGrade\": \"1\",\n",
      "\t\t\t\"coValue\": \"0.2\",\n",
      "\t\t\t\"dataTerm\": \"\",\n",
      "\t\t\t\"dataTime\": \"2019-07-11 20:00\",\n",
      "\t\t\t\"khaiGrade\": \"\",\n",
      "\t\t\t\"khaiValue\": \"-\",\n",
      "\t\t\t\"mangName\": \"도로변대기\",\n",
      "\t\t\t\"no2Grade\": \"1\",\n",
      "\t\t\t\"no2Value\": \"0.018\",\n",
      "\t\t\t\"numOfRows\": \"10\",\n",
      "\t\t\t\"o3Grade\": \"1\",\n",
      "\t\t\t\"o3Value\": \"0.018\",\n",
      "\t\t\t\"pageNo\": \"1\",\n",
      "\t\t\t\"pm10Grade\": \"1\",\n",
      "\t\t\t\"pm10Grade1h\": \"1\",\n",
      "\t\t\t\"pm10Value\": \"5\",\n",
      "\t\t\t\"pm10Value24\": \"6\",\n",
      "\t\t\t\"pm25Grade\": \"\",\n",
      "\t\t\t\"pm25Grade1h\": \"\",\n",
      "\t\t\t\"pm25Value\": \"-\",\n",
      "\t\t\t\"pm25Value24\": \"-\",\n",
      "\t\t\t\"resultCode\": \"\",\n",
      "\t\t\t\"resultMsg\": \"\",\n",
      "\t\t\t\"rnum\": 0,\n",
      "\t\t\t\"serviceKey\": \"\",\n",
      "\t\t\t\"sidoName\": \"\",\n",
      "\t\t\t\"so2Grade\": \"1\",\n",
      "\t\t\t\"so2Value\": \"0.004\",\n",
      "\t\t\t\"stationCode\": \"\",\n",
      "\t\t\t\"stationName\": \"강변북로\",\n",
      "\t\t\t\"totalCount\": \"\",\n",
      "\t\t\t\"ver\": \"\"\n",
      "\t\t},\n",
      "\t\t{\n",
      "\t\t\t\"_returnType\": \"json\",\n",
      "\t\t\t\"coGrade\": \"1\",\n",
      "\t\t\t\"coValue\": \"0.2\",\n",
      "\t\t\t\"dataTerm\": \"\",\n",
      "\t\t\t\"dataTime\": \"2019-07-11 20:00\",\n",
      "\t\t\t\"khaiGrade\": \"\",\n",
      "\t\t\t\"khaiValue\": \"-\",\n",
      "\t\t\t\"mangName\": \"도시대기\",\n",
      "\t\t\t\"no2Grade\": \"1\",\n",
      "\t\t\t\"no2Value\": \"0.012\",\n",
      "\t\t\t\"numOfRows\": \"10\",\n",
      "\t\t\t\"o3Grade\": \"1\",\n",
      "\t\t\t\"o3Value\": \"0.006\",\n",
      "\t\t\t\"pageNo\": \"1\",\n",
      "\t\t\t\"pm10Grade\": \"1\",\n",
      "\t\t\t\"pm10Grade1h\": \"1\",\n",
      "\t\t\t\"pm10Value\": \"3\",\n",
      "\t\t\t\"pm10Value24\": \"3\",\n",
      "\t\t\t\"pm25Grade\": \"\",\n",
      "\t\t\t\"pm25Grade1h\": \"1\",\n",
      "\t\t\t\"pm25Value\": \"2\",\n",
      "\t\t\t\"pm25Value24\": \"-\",\n",
      "\t\t\t\"resultCode\": \"\",\n",
      "\t\t\t\"resultMsg\": \"\",\n",
      "\t\t\t\"rnum\": 0,\n",
      "\t\t\t\"serviceKey\": \"\",\n",
      "\t\t\t\"sidoName\": \"\",\n",
      "\t\t\t\"so2Grade\": \"1\",\n",
      "\t\t\t\"so2Value\": \"0.005\",\n",
      "\t\t\t\"stationCode\": \"\",\n",
      "\t\t\t\"stationName\": \"중랑구\",\n",
      "\t\t\t\"totalCount\": \"\",\n",
      "\t\t\t\"ver\": \"\"\n",
      "\t\t}\n",
      "\t],\n",
      "\t\"parm\": {\n",
      "\t\t\"_returnType\": \"json\",\n",
      "\t\t\"coGrade\": \"\",\n",
      "\t\t\"coValue\": \"\",\n",
      "\t\t\"dataTerm\": \"\",\n",
      "\t\t\"dataTime\": \"\",\n",
      "\t\t\"khaiGrade\": \"\",\n",
      "\t\t\"khaiValue\": \"\",\n",
      "\t\t\"mangName\": \"\",\n",
      "\t\t\"no2Grade\": \"\",\n",
      "\t\t\"no2Value\": \"\",\n",
      "\t\t\"numOfRows\": \"10\",\n",
      "\t\t\"o3Grade\": \"\",\n",
      "\t\t\"o3Value\": \"\",\n",
      "\t\t\"pageNo\": \"1\",\n",
      "\t\t\"pm10Grade\": \"\",\n",
      "\t\t\"pm10Grade1h\": \"\",\n",
      "\t\t\"pm10Value\": \"\",\n",
      "\t\t\"pm10Value24\": \"\",\n",
      "\t\t\"pm25Grade\": \"\",\n",
      "\t\t\"pm25Grade1h\": \"\",\n",
      "\t\t\"pm25Value\": \"\",\n",
      "\t\t\"pm25Value24\": \"\",\n",
      "\t\t\"resultCode\": \"\",\n",
      "\t\t\"resultMsg\": \"\",\n",
      "\t\t\"rnum\": 0,\n",
      "\t\t\"serviceKey\": \"aeUcMWlWBcx3lsfgdtp3Nxx90I5HujhKwlPU2tTwN4Nn9DQB4mhBMKheJj6cv+mD1hM+ibpzVr9WRX0TIK5U1A==\",\n",
      "\t\t\"sidoName\": \"서울\",\n",
      "\t\t\"so2Grade\": \"\",\n",
      "\t\t\"so2Value\": \"\",\n",
      "\t\t\"stationCode\": \"\",\n",
      "\t\t\"stationName\": \"\",\n",
      "\t\t\"totalCount\": \"\",\n",
      "\t\t\"ver\": \"1.3\"\n",
      "\t},\n",
      "\t\"ArpltnInforInqireSvcVo\": {\n",
      "\t\t\"_returnType\": \"json\",\n",
      "\t\t\"coGrade\": \"\",\n",
      "\t\t\"coValue\": \"\",\n",
      "\t\t\"dataTerm\": \"\",\n",
      "\t\t\"dataTime\": \"\",\n",
      "\t\t\"khaiGrade\": \"\",\n",
      "\t\t\"khaiValue\": \"\",\n",
      "\t\t\"mangName\": \"\",\n",
      "\t\t\"no2Grade\": \"\",\n",
      "\t\t\"no2Value\": \"\",\n",
      "\t\t\"numOfRows\": \"10\",\n",
      "\t\t\"o3Grade\": \"\",\n",
      "\t\t\"o3Value\": \"\",\n",
      "\t\t\"pageNo\": \"1\",\n",
      "\t\t\"pm10Grade\": \"\",\n",
      "\t\t\"pm10Grade1h\": \"\",\n",
      "\t\t\"pm10Value\": \"\",\n",
      "\t\t\"pm10Value24\": \"\",\n",
      "\t\t\"pm25Grade\": \"\",\n",
      "\t\t\"pm25Grade1h\": \"\",\n",
      "\t\t\"pm25Value\": \"\",\n",
      "\t\t\"pm25Value24\": \"\",\n",
      "\t\t\"resultCode\": \"\",\n",
      "\t\t\"resultMsg\": \"\",\n",
      "\t\t\"rnum\": 0,\n",
      "\t\t\"serviceKey\": \"aeUcMWlWBcx3lsfgdtp3Nxx90I5HujhKwlPU2tTwN4Nn9DQB4mhBMKheJj6cv+mD1hM+ibpzVr9WRX0TIK5U1A==\",\n",
      "\t\t\"sidoName\": \"서울\",\n",
      "\t\t\"so2Grade\": \"\",\n",
      "\t\t\"so2Value\": \"\",\n",
      "\t\t\"stationCode\": \"\",\n",
      "\t\t\"stationName\": \"\",\n",
      "\t\t\"totalCount\": \"\",\n",
      "\t\t\"ver\": \"1.3\"\n",
      "\t},\n",
      "\t\"totalCount\": 40\n",
      "}\n"
     ]
    }
   ],
   "source": [
    "url = \"http://openapi.airkorea.or.kr/openapi/services/rest/ArpltnInforInqireSvc/getCtprvnRltmMesureDnsty\"\n",
    "\n",
    "params ={\n",
    "    \"serviceKey\":\"aeUcMWlWBcx3lsfgdtp3Nxx90I5HujhKwlPU2tTwN4Nn9DQB4mhBMKheJj6cv%2BmD1hM%2BibpzVr9WRX0TIK5U1A%3D%3D\",\n",
    "    \"numOfRows\":10,\n",
    "    \"pageNo\":1,\n",
    "    \"sidoName\":\"서울\",\n",
    "    \"ver\":\"1.3\",\n",
    "    \"_returnType\":\"JSON\"\n",
    "}\n",
    "\n",
    "params[\"serviceKey\"] = urllib.parse.unquote(params[\"serviceKey\"])\n",
    "params = urllib.parse.urlencode(params)\n",
    "params = params.encode(\"utf-8\")\n",
    "\n",
    "req = urllib.request.Request(url, data=params)\n",
    "res = urllib.request.urlopen(req)\n",
    "\n",
    "resStr = res.read()\n",
    "\n",
    "resStr = resStr.decode(\"utf-8\")\n",
    "resObj = json.loads(resStr)\n",
    "\n",
    "resJSON = json.dumps(resObj, indent = \"\\t\", ensure_ascii=False)\n",
    "print(resJSON)"
   ]
  },
  {
   "cell_type": "code",
   "execution_count": 24,
   "metadata": {},
   "outputs": [
    {
     "data": {
      "text/plain": [
       "['5', '3', '4', '3', '-', '2', '12', '1', '-', '2']"
      ]
     },
     "execution_count": 24,
     "metadata": {},
     "output_type": "execute_result"
    }
   ],
   "source": [
    "[x[\"pm25Value\"] for x in resObj[\"list\"]]"
   ]
  },
  {
   "cell_type": "code",
   "execution_count": 25,
   "metadata": {},
   "outputs": [
    {
     "name": "stdout",
     "output_type": "stream",
     "text": [
      "중구 5\n",
      "한강대로 3\n",
      "종로구 4\n",
      "청계천로 3\n",
      "종로 -\n",
      "용산구 2\n",
      "광진구 12\n",
      "성동구 1\n",
      "강변북로 -\n",
      "중랑구 2\n"
     ]
    }
   ],
   "source": [
    "for i in range(len(resObj[\"list\"])):\n",
    "    print(resObj[\"list\"][i][\"stationName\"], resObj[\"list\"][i][\"pm25Value\"])"
   ]
  },
  {
   "cell_type": "code",
   "execution_count": null,
   "metadata": {},
   "outputs": [],
   "source": []
  }
 ],
 "metadata": {
  "kernelspec": {
   "display_name": "Python 3",
   "language": "python",
   "name": "python3"
  },
  "language_info": {
   "codemirror_mode": {
    "name": "ipython",
    "version": 3
   },
   "file_extension": ".py",
   "mimetype": "text/x-python",
   "name": "python",
   "nbconvert_exporter": "python",
   "pygments_lexer": "ipython3",
   "version": "3.7.3"
  }
 },
 "nbformat": 4,
 "nbformat_minor": 2
}

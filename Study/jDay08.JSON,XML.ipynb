{
 "cells": [
  {
   "cell_type": "markdown",
   "metadata": {},
   "source": [
    "# JSON(JavaScript Object Notation)\n",
    "- 데이터를 표현하기 위한 것\n",
    "- 통신하기 위해 많이 사용한다.\n",
    "- 모두 텍스트로 이루어져있다.(byte 통신 해야 되므로)\n",
    "- 웹에서 비동기식 통신 할 때 많이 사용된다.\n",
    "- 인간이 읽기 쉬우면서 머신 리더블이다.\n",
    "- 무조건 바이트 단위로 왔다갔다 해야 하므로 객체 등은 serializing(직렬화) 시켜서 다시 조립해야한다.\n",
    "- \"를 사용해야 한다. ' 사용하면 안됨\n",
    "- 메모장 코딩할 것이다."
   ]
  },
  {
   "cell_type": "markdown",
   "metadata": {},
   "source": [
    "# json\n",
    "\n",
    "- Encoding (파이썬 -> JSON)\n",
    "    - dump() : file에 쓸 때\n",
    "    - dumps() : string으로 사용할 때\n",
    "- Decoding(JSON string -> python object))\n",
    "    - load() : file에서 불러올 때\n",
    "    - loads() : string에서 객체로 변환할 때"
   ]
  },
  {
   "cell_type": "code",
   "execution_count": 2,
   "metadata": {},
   "outputs": [],
   "source": [
    "import json"
   ]
  },
  {
   "cell_type": "code",
   "execution_count": 3,
   "metadata": {},
   "outputs": [],
   "source": [
    "name = (\"Kim\", \"Lee\", \"Park\")\n",
    "age = [30, 28, 31]\n",
    "person = {\"name\":\"Kim\", \"age\":30, \"car\":False}"
   ]
  },
  {
   "cell_type": "code",
   "execution_count": 4,
   "metadata": {},
   "outputs": [
    {
     "name": "stdout",
     "output_type": "stream",
     "text": [
      "[\"Kim\", \"Lee\", \"Park\"]\n",
      "[30, 28, 31]\n",
      "{\n",
      " \"name\": \"Kim\",\n",
      " \"age\": 30,\n",
      " \"car\": false\n",
      "}\n"
     ]
    }
   ],
   "source": [
    "nameStr = json.dumps(name)\n",
    "ageStr = json.dumps(age)\n",
    "personStr = json.dumps(person, indent = \" \")\n",
    "print(nameStr)\n",
    "print(ageStr)\n",
    "print(personStr)"
   ]
  },
  {
   "cell_type": "markdown",
   "metadata": {},
   "source": [
    "## Json의 dump 이용하여 2진수화 해보기"
   ]
  },
  {
   "cell_type": "code",
   "execution_count": 5,
   "metadata": {
    "scrolled": true
   },
   "outputs": [
    {
     "name": "stdout",
     "output_type": "stream",
     "text": [
      "[\"\\uae40\", \"\\uc774\", \"\\ubc15\"]\n"
     ]
    }
   ],
   "source": [
    "kname = (\"김\", \"이\", \"박\")\n",
    "knameStr = json.dumps(kname) \n",
    "print(knameStr)"
   ]
  },
  {
   "cell_type": "markdown",
   "metadata": {},
   "source": [
    "## ensure_ascii=False 중요 개념"
   ]
  },
  {
   "cell_type": "code",
   "execution_count": 6,
   "metadata": {},
   "outputs": [
    {
     "name": "stdout",
     "output_type": "stream",
     "text": [
      "[\"김\", \"이\", \"박\"]\n"
     ]
    }
   ],
   "source": [
    "knameStr = json.dumps(kname, ensure_ascii=False)\n",
    "print(knameStr)"
   ]
  },
  {
   "cell_type": "markdown",
   "metadata": {},
   "source": [
    "#### dump한 결과와 load한 결과 비교"
   ]
  },
  {
   "cell_type": "code",
   "execution_count": 19,
   "metadata": {},
   "outputs": [
    {
     "data": {
      "text/plain": [
       "True"
      ]
     },
     "execution_count": 19,
     "metadata": {},
     "output_type": "execute_result"
    }
   ],
   "source": [
    "knameStr = json.dumps(kname, ensure_ascii=False)\n",
    "print(knameStr)personObj = json.loads(personStr)\n",
    "person == personObj"
   ]
  },
  {
   "cell_type": "markdown",
   "metadata": {},
   "source": [
    "#### 파일로 예제"
   ]
  },
  {
   "cell_type": "code",
   "execution_count": 7,
   "metadata": {},
   "outputs": [],
   "source": [
    "person[\"car\"] = [\"레이\", \"모닝\"]\n",
    "\n",
    "with open(\"person.json\", \"w\") as f:\n",
    "    json.dump(person, f)"
   ]
  },
  {
   "cell_type": "code",
   "execution_count": 8,
   "metadata": {},
   "outputs": [],
   "source": [
    "with open(\"person.json\", \"r\") as f:\n",
    "    personObj = json.load(f)"
   ]
  },
  {
   "cell_type": "code",
   "execution_count": 9,
   "metadata": {},
   "outputs": [
    {
     "data": {
      "text/plain": [
       "{'name': 'Kim', 'age': 30, 'car': ['레이', '모닝']}"
      ]
     },
     "execution_count": 9,
     "metadata": {},
     "output_type": "execute_result"
    }
   ],
   "source": [
    "personObj"
   ]
  },
  {
   "cell_type": "code",
   "execution_count": 10,
   "metadata": {},
   "outputs": [
    {
     "data": {
      "text/plain": [
       "dict"
      ]
     },
     "execution_count": 10,
     "metadata": {},
     "output_type": "execute_result"
    }
   ],
   "source": [
    "type(personObj)"
   ]
  },
  {
   "cell_type": "markdown",
   "metadata": {},
   "source": [
    "# 본격적으로 urllib으로 시리얼라이즈"
   ]
  },
  {
   "cell_type": "code",
   "execution_count": 24,
   "metadata": {},
   "outputs": [],
   "source": [
    "import urllib.request"
   ]
  },
  {
   "cell_type": "code",
   "execution_count": null,
   "metadata": {},
   "outputs": [],
   "source": [
    "obj = {\"name\":\"김이박\" \"age\":30}\n",
    "objStr = json.dumps(obj)\n",
    "objByte = objStr.encode(\"utf-8\")\n",
    "\n",
    "req = urllib.request.Request(url, data=objByte, headers = {'content-type': 'application/json'})\n",
    "res = urllib.request.urlopen(req)"
   ]
  },
  {
   "cell_type": "code",
   "execution_count": 26,
   "metadata": {},
   "outputs": [],
   "source": [
    "import urllib"
   ]
  },
  {
   "cell_type": "code",
   "execution_count": 84,
   "metadata": {},
   "outputs": [
    {
     "name": "stdout",
     "output_type": "stream",
     "text": [
      "{\n",
      "   \"list\": [\n",
      "      {\n",
      "         \"_returnType\": \"json\",\n",
      "         \"coGrade\": \"1\",\n",
      "         \"coValue\": \"0.5\",\n",
      "         \"dataTerm\": \"\",\n",
      "         \"dataTime\": \"2019-07-10 14:00\",\n",
      "         \"khaiGrade\": \"1\",\n",
      "         \"khaiValue\": \"42\",\n",
      "         \"mangName\": \"도시대기\",\n",
      "         \"no2Grade\": \"1\",\n",
      "         \"no2Value\": \"0.020\",\n",
      "         \"numOfRows\": \"10\",\n",
      "         \"o3Grade\": \"1\",\n",
      "         \"o3Value\": \"0.025\",\n",
      "         \"pageNo\": \"1\",\n",
      "         \"pm10Grade\": \"1\",\n",
      "         \"pm10Grade1h\": \"1\",\n",
      "         \"pm10Value\": \"8\",\n",
      "         \"pm10Value24\": \"7\",\n",
      "         \"pm25Grade\": \"1\",\n",
      "         \"pm25Grade1h\": \"1\",\n",
      "         \"pm25Value\": \"7\",\n",
      "         \"pm25Value24\": \"6\",\n",
      "         \"resultCode\": \"\",\n",
      "         \"resultMsg\": \"\",\n",
      "         \"rnum\": 0,\n",
      "         \"serviceKey\": \"\",\n",
      "         \"sidoName\": \"\",\n",
      "         \"so2Grade\": \"\",\n",
      "         \"so2Value\": \"-\",\n",
      "         \"stationCode\": \"\",\n",
      "         \"stationName\": \"\",\n",
      "         \"totalCount\": \"\",\n",
      "         \"ver\": \"\"\n",
      "      },\n",
      "      {\n",
      "         \"_returnType\": \"json\",\n",
      "         \"coGrade\": \"1\",\n",
      "         \"coValue\": \"0.5\",\n",
      "         \"dataTerm\": \"\",\n",
      "         \"dataTime\": \"2019-07-10 13:00\",\n",
      "         \"khaiGrade\": \"\",\n",
      "         \"khaiValue\": \"-\",\n",
      "         \"mangName\": \"도시대기\",\n",
      "         \"no2Grade\": \"1\",\n",
      "         \"no2Value\": \"0.017\",\n",
      "         \"numOfRows\": \"10\",\n",
      "         \"o3Grade\": \"1\",\n",
      "         \"o3Value\": \"0.029\",\n",
      "         \"pageNo\": \"1\",\n",
      "         \"pm10Grade\": \"1\",\n",
      "         \"pm10Grade1h\": \"1\",\n",
      "         \"pm10Value\": \"6\",\n",
      "         \"pm10Value24\": \"7\",\n",
      "         \"pm25Grade\": \"\",\n",
      "         \"pm25Grade1h\": \"1\",\n",
      "         \"pm25Value\": \"6\",\n",
      "         \"pm25Value24\": \"-\",\n",
      "         \"resultCode\": \"\",\n",
      "         \"resultMsg\": \"\",\n",
      "         \"rnum\": 0,\n",
      "         \"serviceKey\": \"\",\n",
      "         \"sidoName\": \"\",\n",
      "         \"so2Grade\": \"\",\n",
      "         \"so2Value\": \"-\",\n",
      "         \"stationCode\": \"\",\n",
      "         \"stationName\": \"\",\n",
      "         \"totalCount\": \"\",\n",
      "         \"ver\": \"\"\n",
      "      },\n",
      "      {\n",
      "         \"_returnType\": \"json\",\n",
      "         \"coGrade\": \"1\",\n",
      "         \"coValue\": \"0.5\",\n",
      "         \"dataTerm\": \"\",\n",
      "         \"dataTime\": \"2019-07-10 12:00\",\n",
      "         \"khaiGrade\": \"\",\n",
      "         \"khaiValue\": \"-\",\n",
      "         \"mangName\": \"도시대기\",\n",
      "         \"no2Grade\": \"1\",\n",
      "         \"no2Value\": \"0.018\",\n",
      "         \"numOfRows\": \"10\",\n",
      "         \"o3Grade\": \"1\",\n",
      "         \"o3Value\": \"0.029\",\n",
      "         \"pageNo\": \"1\",\n",
      "         \"pm10Grade\": \"1\",\n",
      "         \"pm10Grade1h\": \"1\",\n",
      "         \"pm10Value\": \"6\",\n",
      "         \"pm10Value24\": \"7\",\n",
      "         \"pm25Grade\": \"\",\n",
      "         \"pm25Grade1h\": \"1\",\n",
      "         \"pm25Value\": \"6\",\n",
      "         \"pm25Value24\": \"-\",\n",
      "         \"resultCode\": \"\",\n",
      "         \"resultMsg\": \"\",\n",
      "         \"rnum\": 0,\n",
      "         \"serviceKey\": \"\",\n",
      "         \"sidoName\": \"\",\n",
      "         \"so2Grade\": \"\",\n",
      "         \"so2Value\": \"-\",\n",
      "         \"stationCode\": \"\",\n",
      "         \"stationName\": \"\",\n",
      "         \"totalCount\": \"\",\n",
      "         \"ver\": \"\"\n",
      "      },\n",
      "      {\n",
      "         \"_returnType\": \"json\",\n",
      "         \"coGrade\": \"1\",\n",
      "         \"coValue\": \"0.5\",\n",
      "         \"dataTerm\": \"\",\n",
      "         \"dataTime\": \"2019-07-10 11:00\",\n",
      "         \"khaiGrade\": \"\",\n",
      "         \"khaiValue\": \"-\",\n",
      "         \"mangName\": \"도시대기\",\n",
      "         \"no2Grade\": \"1\",\n",
      "         \"no2Value\": \"0.017\",\n",
      "         \"numOfRows\": \"10\",\n",
      "         \"o3Grade\": \"1\",\n",
      "         \"o3Value\": \"0.028\",\n",
      "         \"pageNo\": \"1\",\n",
      "         \"pm10Grade\": \"1\",\n",
      "         \"pm10Grade1h\": \"1\",\n",
      "         \"pm10Value\": \"8\",\n",
      "         \"pm10Value24\": \"7\",\n",
      "         \"pm25Grade\": \"\",\n",
      "         \"pm25Grade1h\": \"1\",\n",
      "         \"pm25Value\": \"7\",\n",
      "         \"pm25Value24\": \"-\",\n",
      "         \"resultCode\": \"\",\n",
      "         \"resultMsg\": \"\",\n",
      "         \"rnum\": 0,\n",
      "         \"serviceKey\": \"\",\n",
      "         \"sidoName\": \"\",\n",
      "         \"so2Grade\": \"\",\n",
      "         \"so2Value\": \"-\",\n",
      "         \"stationCode\": \"\",\n",
      "         \"stationName\": \"\",\n",
      "         \"totalCount\": \"\",\n",
      "         \"ver\": \"\"\n",
      "      },\n",
      "      {\n",
      "         \"_returnType\": \"json\",\n",
      "         \"coGrade\": \"1\",\n",
      "         \"coValue\": \"0.5\",\n",
      "         \"dataTerm\": \"\",\n",
      "         \"dataTime\": \"2019-07-10 10:00\",\n",
      "         \"khaiGrade\": \"\",\n",
      "         \"khaiValue\": \"-\",\n",
      "         \"mangName\": \"도시대기\",\n",
      "         \"no2Grade\": \"1\",\n",
      "         \"no2Value\": \"0.019\",\n",
      "         \"numOfRows\": \"10\",\n",
      "         \"o3Grade\": \"1\",\n",
      "         \"o3Value\": \"0.027\",\n",
      "         \"pageNo\": \"1\",\n",
      "         \"pm10Grade\": \"1\",\n",
      "         \"pm10Grade1h\": \"1\",\n",
      "         \"pm10Value\": \"8\",\n",
      "         \"pm10Value24\": \"7\",\n",
      "         \"pm25Grade\": \"\",\n",
      "         \"pm25Grade1h\": \"1\",\n",
      "         \"pm25Value\": \"5\",\n",
      "         \"pm25Value24\": \"-\",\n",
      "         \"resultCode\": \"\",\n",
      "         \"resultMsg\": \"\",\n",
      "         \"rnum\": 0,\n",
      "         \"serviceKey\": \"\",\n",
      "         \"sidoName\": \"\",\n",
      "         \"so2Grade\": \"\",\n",
      "         \"so2Value\": \"-\",\n",
      "         \"stationCode\": \"\",\n",
      "         \"stationName\": \"\",\n",
      "         \"totalCount\": \"\",\n",
      "         \"ver\": \"\"\n",
      "      },\n",
      "      {\n",
      "         \"_returnType\": \"json\",\n",
      "         \"coGrade\": \"1\",\n",
      "         \"coValue\": \"0.5\",\n",
      "         \"dataTerm\": \"\",\n",
      "         \"dataTime\": \"2019-07-10 09:00\",\n",
      "         \"khaiGrade\": \"\",\n",
      "         \"khaiValue\": \"-\",\n",
      "         \"mangName\": \"도시대기\",\n",
      "         \"no2Grade\": \"1\",\n",
      "         \"no2Value\": \"0.018\",\n",
      "         \"numOfRows\": \"10\",\n",
      "         \"o3Grade\": \"1\",\n",
      "         \"o3Value\": \"0.026\",\n",
      "         \"pageNo\": \"1\",\n",
      "         \"pm10Grade\": \"1\",\n",
      "         \"pm10Grade1h\": \"1\",\n",
      "         \"pm10Value\": \"11\",\n",
      "         \"pm10Value24\": \"6\",\n",
      "         \"pm25Grade\": \"\",\n",
      "         \"pm25Grade1h\": \"1\",\n",
      "         \"pm25Value\": \"4\",\n",
      "         \"pm25Value24\": \"-\",\n",
      "         \"resultCode\": \"\",\n",
      "         \"resultMsg\": \"\",\n",
      "         \"rnum\": 0,\n",
      "         \"serviceKey\": \"\",\n",
      "         \"sidoName\": \"\",\n",
      "         \"so2Grade\": \"\",\n",
      "         \"so2Value\": \"-\",\n",
      "         \"stationCode\": \"\",\n",
      "         \"stationName\": \"\",\n",
      "         \"totalCount\": \"\",\n",
      "         \"ver\": \"\"\n",
      "      },\n",
      "      {\n",
      "         \"_returnType\": \"json\",\n",
      "         \"coGrade\": \"1\",\n",
      "         \"coValue\": \"0.5\",\n",
      "         \"dataTerm\": \"\",\n",
      "         \"dataTime\": \"2019-07-10 08:00\",\n",
      "         \"khaiGrade\": \"\",\n",
      "         \"khaiValue\": \"-\",\n",
      "         \"mangName\": \"도시대기\",\n",
      "         \"no2Grade\": \"1\",\n",
      "         \"no2Value\": \"0.022\",\n",
      "         \"numOfRows\": \"10\",\n",
      "         \"o3Grade\": \"1\",\n",
      "         \"o3Value\": \"0.021\",\n",
      "         \"pageNo\": \"1\",\n",
      "         \"pm10Grade\": \"1\",\n",
      "         \"pm10Grade1h\": \"1\",\n",
      "         \"pm10Value\": \"7\",\n",
      "         \"pm10Value24\": \"5\",\n",
      "         \"pm25Grade\": \"\",\n",
      "         \"pm25Grade1h\": \"1\",\n",
      "         \"pm25Value\": \"4\",\n",
      "         \"pm25Value24\": \"-\",\n",
      "         \"resultCode\": \"\",\n",
      "         \"resultMsg\": \"\",\n",
      "         \"rnum\": 0,\n",
      "         \"serviceKey\": \"\",\n",
      "         \"sidoName\": \"\",\n",
      "         \"so2Grade\": \"\",\n",
      "         \"so2Value\": \"-\",\n",
      "         \"stationCode\": \"\",\n",
      "         \"stationName\": \"\",\n",
      "         \"totalCount\": \"\",\n",
      "         \"ver\": \"\"\n",
      "      },\n",
      "      {\n",
      "         \"_returnType\": \"json\",\n",
      "         \"coGrade\": \"1\",\n",
      "         \"coValue\": \"0.5\",\n",
      "         \"dataTerm\": \"\",\n",
      "         \"dataTime\": \"2019-07-10 07:00\",\n",
      "         \"khaiGrade\": \"\",\n",
      "         \"khaiValue\": \"-\",\n",
      "         \"mangName\": \"도시대기\",\n",
      "         \"no2Grade\": \"1\",\n",
      "         \"no2Value\": \"0.022\",\n",
      "         \"numOfRows\": \"10\",\n",
      "         \"o3Grade\": \"1\",\n",
      "         \"o3Value\": \"0.018\",\n",
      "         \"pageNo\": \"1\",\n",
      "         \"pm10Grade\": \"1\",\n",
      "         \"pm10Grade1h\": \"1\",\n",
      "         \"pm10Value\": \"4\",\n",
      "         \"pm10Value24\": \"5\",\n",
      "         \"pm25Grade\": \"\",\n",
      "         \"pm25Grade1h\": \"\",\n",
      "         \"pm25Value\": \"-\",\n",
      "         \"pm25Value24\": \"-\",\n",
      "         \"resultCode\": \"\",\n",
      "         \"resultMsg\": \"\",\n",
      "         \"rnum\": 0,\n",
      "         \"serviceKey\": \"\",\n",
      "         \"sidoName\": \"\",\n",
      "         \"so2Grade\": \"\",\n",
      "         \"so2Value\": \"-\",\n",
      "         \"stationCode\": \"\",\n",
      "         \"stationName\": \"\",\n",
      "         \"totalCount\": \"\",\n",
      "         \"ver\": \"\"\n",
      "      },\n",
      "      {\n",
      "         \"_returnType\": \"json\",\n",
      "         \"coGrade\": \"1\",\n",
      "         \"coValue\": \"0.4\",\n",
      "         \"dataTerm\": \"\",\n",
      "         \"dataTime\": \"2019-07-10 06:00\",\n",
      "         \"khaiGrade\": \"\",\n",
      "         \"khaiValue\": \"-\",\n",
      "         \"mangName\": \"도시대기\",\n",
      "         \"no2Grade\": \"1\",\n",
      "         \"no2Value\": \"0.016\",\n",
      "         \"numOfRows\": \"10\",\n",
      "         \"o3Grade\": \"1\",\n",
      "         \"o3Value\": \"0.022\",\n",
      "         \"pageNo\": \"1\",\n",
      "         \"pm10Grade\": \"1\",\n",
      "         \"pm10Grade1h\": \"1\",\n",
      "         \"pm10Value\": \"6\",\n",
      "         \"pm10Value24\": \"5\",\n",
      "         \"pm25Grade\": \"\",\n",
      "         \"pm25Grade1h\": \"1\",\n",
      "         \"pm25Value\": \"5\",\n",
      "         \"pm25Value24\": \"-\",\n",
      "         \"resultCode\": \"\",\n",
      "         \"resultMsg\": \"\",\n",
      "         \"rnum\": 0,\n",
      "         \"serviceKey\": \"\",\n",
      "         \"sidoName\": \"\",\n",
      "         \"so2Grade\": \"\",\n",
      "         \"so2Value\": \"-\",\n",
      "         \"stationCode\": \"\",\n",
      "         \"stationName\": \"\",\n",
      "         \"totalCount\": \"\",\n",
      "         \"ver\": \"\"\n",
      "      },\n",
      "      {\n",
      "         \"_returnType\": \"json\",\n",
      "         \"coGrade\": \"1\",\n",
      "         \"coValue\": \"0.6\",\n",
      "         \"dataTerm\": \"\",\n",
      "         \"dataTime\": \"2019-07-10 05:00\",\n",
      "         \"khaiGrade\": \"\",\n",
      "         \"khaiValue\": \"-\",\n",
      "         \"mangName\": \"도시대기\",\n",
      "         \"no2Grade\": \"1\",\n",
      "         \"no2Value\": \"0.011\",\n",
      "         \"numOfRows\": \"10\",\n",
      "         \"o3Grade\": \"1\",\n",
      "         \"o3Value\": \"0.026\",\n",
      "         \"pageNo\": \"1\",\n",
      "         \"pm10Grade\": \"1\",\n",
      "         \"pm10Grade1h\": \"1\",\n",
      "         \"pm10Value\": \"4\",\n",
      "         \"pm10Value24\": \"5\",\n",
      "         \"pm25Grade\": \"\",\n",
      "         \"pm25Grade1h\": \"\",\n",
      "         \"pm25Value\": \"-\",\n",
      "         \"pm25Value24\": \"-\",\n",
      "         \"resultCode\": \"\",\n",
      "         \"resultMsg\": \"\",\n",
      "         \"rnum\": 0,\n",
      "         \"serviceKey\": \"\",\n",
      "         \"sidoName\": \"\",\n",
      "         \"so2Grade\": \"\",\n",
      "         \"so2Value\": \"-\",\n",
      "         \"stationCode\": \"\",\n",
      "         \"stationName\": \"\",\n",
      "         \"totalCount\": \"\",\n",
      "         \"ver\": \"\"\n",
      "      }\n",
      "   ],\n",
      "   \"parm\": {\n",
      "      \"_returnType\": \"json\",\n",
      "      \"coGrade\": \"\",\n",
      "      \"coValue\": \"\",\n",
      "      \"dataTerm\": \"DAILY\",\n",
      "      \"dataTime\": \"\",\n",
      "      \"khaiGrade\": \"\",\n",
      "      \"khaiValue\": \"\",\n",
      "      \"mangName\": \"\",\n",
      "      \"no2Grade\": \"\",\n",
      "      \"no2Value\": \"\",\n",
      "      \"numOfRows\": \"10\",\n",
      "      \"o3Grade\": \"\",\n",
      "      \"o3Value\": \"\",\n",
      "      \"pageNo\": \"1\",\n",
      "      \"pm10Grade\": \"\",\n",
      "      \"pm10Grade1h\": \"\",\n",
      "      \"pm10Value\": \"\",\n",
      "      \"pm10Value24\": \"\",\n",
      "      \"pm25Grade\": \"\",\n",
      "      \"pm25Grade1h\": \"\",\n",
      "      \"pm25Value\": \"\",\n",
      "      \"pm25Value24\": \"\",\n",
      "      \"resultCode\": \"\",\n",
      "      \"resultMsg\": \"\",\n",
      "      \"rnum\": 0,\n",
      "      \"serviceKey\": \"aeUcMWlWBcx3lsfgdtp3Nxx90I5HujhKwlPU2tTwN4Nn9DQB4mhBMKheJj6cv+mD1hM+ibpzVr9WRX0TIK5U1A==\",\n",
      "      \"sidoName\": \"\",\n",
      "      \"so2Grade\": \"\",\n",
      "      \"so2Value\": \"\",\n",
      "      \"stationCode\": \"\",\n",
      "      \"stationName\": \"성북구\",\n",
      "      \"totalCount\": \"\",\n",
      "      \"ver\": \"1.3\"\n",
      "   },\n",
      "   \"ArpltnInforInqireSvcVo\": {\n",
      "      \"_returnType\": \"json\",\n",
      "      \"coGrade\": \"\",\n",
      "      \"coValue\": \"\",\n",
      "      \"dataTerm\": \"DAILY\",\n",
      "      \"dataTime\": \"\",\n",
      "      \"khaiGrade\": \"\",\n",
      "      \"khaiValue\": \"\",\n",
      "      \"mangName\": \"\",\n",
      "      \"no2Grade\": \"\",\n",
      "      \"no2Value\": \"\",\n",
      "      \"numOfRows\": \"10\",\n",
      "      \"o3Grade\": \"\",\n",
      "      \"o3Value\": \"\",\n",
      "      \"pageNo\": \"1\",\n",
      "      \"pm10Grade\": \"\",\n",
      "      \"pm10Grade1h\": \"\",\n",
      "      \"pm10Value\": \"\",\n",
      "      \"pm10Value24\": \"\",\n",
      "      \"pm25Grade\": \"\",\n",
      "      \"pm25Grade1h\": \"\",\n",
      "      \"pm25Value\": \"\",\n",
      "      \"pm25Value24\": \"\",\n",
      "      \"resultCode\": \"\",\n",
      "      \"resultMsg\": \"\",\n",
      "      \"rnum\": 0,\n",
      "      \"serviceKey\": \"aeUcMWlWBcx3lsfgdtp3Nxx90I5HujhKwlPU2tTwN4Nn9DQB4mhBMKheJj6cv+mD1hM+ibpzVr9WRX0TIK5U1A==\",\n",
      "      \"sidoName\": \"\",\n",
      "      \"so2Grade\": \"\",\n",
      "      \"so2Value\": \"\",\n",
      "      \"stationCode\": \"\",\n",
      "      \"stationName\": \"성북구\",\n",
      "      \"totalCount\": \"\",\n",
      "      \"ver\": \"1.3\"\n",
      "   },\n",
      "   \"totalCount\": 23\n",
      "}\n"
     ]
    }
   ],
   "source": [
    "url = \"http://openapi.airkorea.or.kr/openapi/services/rest/ArpltnInforInqireSvc/getMsrstnAcctoRltmMesureDnsty\"\n",
    "params = {\n",
    "    \"serviceKey\":\"aeUcMWlWBcx3lsfgdtp3Nxx90I5HujhKwlPU2tTwN4Nn9DQB4mhBMKheJj6cv%2BmD1hM%2BibpzVr9WRX0TIK5U1A%3D%3D\",\n",
    "    \"numOfRows\":10,\n",
    "    \"pageSize\":10,\n",
    "    \"pageNo\":1,\n",
    "    \"startPage\":1,\n",
    "    \"stationName\":\"성북구\",\n",
    "    \"dataTerm\":\"DAILY\",\n",
    "    \"ver\":\"1.3\",\n",
    "    \"_returnType\":\"JSON\"    \n",
    "}\n",
    "\n",
    "# serialize 과정 \n",
    "params[\"serviceKey\"] = urllib.parse.unquote(params[\"serviceKey\"])\n",
    "params = urllib.parse.urlencode(params)\n",
    "params = params.encode(\"utf-8\") # byte 형식\n",
    "\n",
    "# \n",
    "req = urllib.request.Request(url, data = params)\n",
    "res = urllib.request.urlopen(req)\n",
    "\n",
    "#stream을 읽는다.\n",
    "resStr = res.read()\n",
    "\n",
    "# 스트링으로 디코드\n",
    "resStr = resStr.decode(\"utf-8\")\n",
    "# 객체로 load - dict형으로 전환\n",
    "resObj = json.loads(resStr)\n",
    "\n",
    "# string형으로 변환\n",
    "resJSON = json.dumps(resObj, indent = \"   \", ensure_ascii=False)\n",
    "print(resJSON)\n",
    "\n",
    "\n",
    "\n",
    "\n"
   ]
  },
  {
   "cell_type": "markdown",
   "metadata": {},
   "source": [
    "### JSON 파일 받아오기"
   ]
  },
  {
   "cell_type": "code",
   "execution_count": 108,
   "metadata": {},
   "outputs": [
    {
     "data": {
      "text/plain": [
       "dict_keys(['list', 'parm', 'ArpltnInforInqireSvcVo', 'totalCount'])"
      ]
     },
     "execution_count": 108,
     "metadata": {},
     "output_type": "execute_result"
    }
   ],
   "source": [
    "url = \"http://openapi.airkorea.or.kr/openapi/services/rest/ArpltnInforInqireSvc/getMsrstnAcctoRltmMesureDnsty\"\n",
    "params = {\n",
    "    \"serviceKey\":\"aeUcMWlWBcx3lsfgdtp3Nxx90I5HujhKwlPU2tTwN4Nn9DQB4mhBMKheJj6cv%2BmD1hM%2BibpzVr9WRX0TIK5U1A%3D%3D\",\n",
    "    \"numOfRows\":10,\n",
    "    \"pageSize\":10,\n",
    "    \"pageNo\":1,\n",
    "    \"startPage\":1,\n",
    "    \"stationName\":\"성북구\",\n",
    "    \"dataTerm\":\"DAILY\",\n",
    "    \"ver\":\"1.3\",\n",
    "    \"_returnType\":\"JSON\"    \n",
    "}\n",
    "\n",
    "# serialize 과정 \n",
    "params[\"serviceKey\"] = urllib.parse.unquote(params[\"serviceKey\"])\n",
    "params = urllib.parse.urlencode(params)\n",
    "params = params.encode(\"utf-8\") # byte 형식\n",
    "\n",
    "# \n",
    "req = urllib.request.Request(url, data = params)\n",
    "res = urllib.request.urlopen(req)\n",
    "\n",
    "#stream을 읽는다.\n",
    "resStr = res.read()\n",
    "\n",
    "# 스트링으로 디코드\n",
    "resStr = resStr.decode(\"utf-8\")\n",
    "# 객체로 load - dict형으로 전환\n",
    "resObj = json.loads(resStr)\n",
    "\n",
    "resObj.keys()"
   ]
  },
  {
   "cell_type": "code",
   "execution_count": 109,
   "metadata": {},
   "outputs": [
    {
     "data": {
      "text/plain": [
       "10"
      ]
     },
     "execution_count": 109,
     "metadata": {},
     "output_type": "execute_result"
    }
   ],
   "source": [
    "len(resObj['list'])"
   ]
  },
  {
   "cell_type": "markdown",
   "metadata": {},
   "source": [
    "### 얻고자 하는 정보가 list에 들어있다."
   ]
  },
  {
   "cell_type": "code",
   "execution_count": 110,
   "metadata": {},
   "outputs": [
    {
     "name": "stdout",
     "output_type": "stream",
     "text": [
      "[{'_returnType': 'json', 'coGrade': '1', 'coValue': '0.5', 'dataTerm': '', 'dataTime': '2019-07-10 14:00', 'khaiGrade': '1', 'khaiValue': '42', 'mangName': '도시대기', 'no2Grade': '1', 'no2Value': '0.020', 'numOfRows': '10', 'o3Grade': '1', 'o3Value': '0.025', 'pageNo': '1', 'pm10Grade': '1', 'pm10Grade1h': '1', 'pm10Value': '8', 'pm10Value24': '7', 'pm25Grade': '1', 'pm25Grade1h': '1', 'pm25Value': '7', 'pm25Value24': '6', 'resultCode': '', 'resultMsg': '', 'rnum': 0, 'serviceKey': '', 'sidoName': '', 'so2Grade': '', 'so2Value': '-', 'stationCode': '', 'stationName': '', 'totalCount': '', 'ver': ''}, {'_returnType': 'json', 'coGrade': '1', 'coValue': '0.5', 'dataTerm': '', 'dataTime': '2019-07-10 13:00', 'khaiGrade': '', 'khaiValue': '-', 'mangName': '도시대기', 'no2Grade': '1', 'no2Value': '0.017', 'numOfRows': '10', 'o3Grade': '1', 'o3Value': '0.029', 'pageNo': '1', 'pm10Grade': '1', 'pm10Grade1h': '1', 'pm10Value': '6', 'pm10Value24': '7', 'pm25Grade': '', 'pm25Grade1h': '1', 'pm25Value': '6', 'pm25Value24': '-', 'resultCode': '', 'resultMsg': '', 'rnum': 0, 'serviceKey': '', 'sidoName': '', 'so2Grade': '', 'so2Value': '-', 'stationCode': '', 'stationName': '', 'totalCount': '', 'ver': ''}, {'_returnType': 'json', 'coGrade': '1', 'coValue': '0.5', 'dataTerm': '', 'dataTime': '2019-07-10 12:00', 'khaiGrade': '', 'khaiValue': '-', 'mangName': '도시대기', 'no2Grade': '1', 'no2Value': '0.018', 'numOfRows': '10', 'o3Grade': '1', 'o3Value': '0.029', 'pageNo': '1', 'pm10Grade': '1', 'pm10Grade1h': '1', 'pm10Value': '6', 'pm10Value24': '7', 'pm25Grade': '', 'pm25Grade1h': '1', 'pm25Value': '6', 'pm25Value24': '-', 'resultCode': '', 'resultMsg': '', 'rnum': 0, 'serviceKey': '', 'sidoName': '', 'so2Grade': '', 'so2Value': '-', 'stationCode': '', 'stationName': '', 'totalCount': '', 'ver': ''}, {'_returnType': 'json', 'coGrade': '1', 'coValue': '0.5', 'dataTerm': '', 'dataTime': '2019-07-10 11:00', 'khaiGrade': '', 'khaiValue': '-', 'mangName': '도시대기', 'no2Grade': '1', 'no2Value': '0.017', 'numOfRows': '10', 'o3Grade': '1', 'o3Value': '0.028', 'pageNo': '1', 'pm10Grade': '1', 'pm10Grade1h': '1', 'pm10Value': '8', 'pm10Value24': '7', 'pm25Grade': '', 'pm25Grade1h': '1', 'pm25Value': '7', 'pm25Value24': '-', 'resultCode': '', 'resultMsg': '', 'rnum': 0, 'serviceKey': '', 'sidoName': '', 'so2Grade': '', 'so2Value': '-', 'stationCode': '', 'stationName': '', 'totalCount': '', 'ver': ''}, {'_returnType': 'json', 'coGrade': '1', 'coValue': '0.5', 'dataTerm': '', 'dataTime': '2019-07-10 10:00', 'khaiGrade': '', 'khaiValue': '-', 'mangName': '도시대기', 'no2Grade': '1', 'no2Value': '0.019', 'numOfRows': '10', 'o3Grade': '1', 'o3Value': '0.027', 'pageNo': '1', 'pm10Grade': '1', 'pm10Grade1h': '1', 'pm10Value': '8', 'pm10Value24': '7', 'pm25Grade': '', 'pm25Grade1h': '1', 'pm25Value': '5', 'pm25Value24': '-', 'resultCode': '', 'resultMsg': '', 'rnum': 0, 'serviceKey': '', 'sidoName': '', 'so2Grade': '', 'so2Value': '-', 'stationCode': '', 'stationName': '', 'totalCount': '', 'ver': ''}, {'_returnType': 'json', 'coGrade': '1', 'coValue': '0.5', 'dataTerm': '', 'dataTime': '2019-07-10 09:00', 'khaiGrade': '', 'khaiValue': '-', 'mangName': '도시대기', 'no2Grade': '1', 'no2Value': '0.018', 'numOfRows': '10', 'o3Grade': '1', 'o3Value': '0.026', 'pageNo': '1', 'pm10Grade': '1', 'pm10Grade1h': '1', 'pm10Value': '11', 'pm10Value24': '6', 'pm25Grade': '', 'pm25Grade1h': '1', 'pm25Value': '4', 'pm25Value24': '-', 'resultCode': '', 'resultMsg': '', 'rnum': 0, 'serviceKey': '', 'sidoName': '', 'so2Grade': '', 'so2Value': '-', 'stationCode': '', 'stationName': '', 'totalCount': '', 'ver': ''}, {'_returnType': 'json', 'coGrade': '1', 'coValue': '0.5', 'dataTerm': '', 'dataTime': '2019-07-10 08:00', 'khaiGrade': '', 'khaiValue': '-', 'mangName': '도시대기', 'no2Grade': '1', 'no2Value': '0.022', 'numOfRows': '10', 'o3Grade': '1', 'o3Value': '0.021', 'pageNo': '1', 'pm10Grade': '1', 'pm10Grade1h': '1', 'pm10Value': '7', 'pm10Value24': '5', 'pm25Grade': '', 'pm25Grade1h': '1', 'pm25Value': '4', 'pm25Value24': '-', 'resultCode': '', 'resultMsg': '', 'rnum': 0, 'serviceKey': '', 'sidoName': '', 'so2Grade': '', 'so2Value': '-', 'stationCode': '', 'stationName': '', 'totalCount': '', 'ver': ''}, {'_returnType': 'json', 'coGrade': '1', 'coValue': '0.5', 'dataTerm': '', 'dataTime': '2019-07-10 07:00', 'khaiGrade': '', 'khaiValue': '-', 'mangName': '도시대기', 'no2Grade': '1', 'no2Value': '0.022', 'numOfRows': '10', 'o3Grade': '1', 'o3Value': '0.018', 'pageNo': '1', 'pm10Grade': '1', 'pm10Grade1h': '1', 'pm10Value': '4', 'pm10Value24': '5', 'pm25Grade': '', 'pm25Grade1h': '', 'pm25Value': '-', 'pm25Value24': '-', 'resultCode': '', 'resultMsg': '', 'rnum': 0, 'serviceKey': '', 'sidoName': '', 'so2Grade': '', 'so2Value': '-', 'stationCode': '', 'stationName': '', 'totalCount': '', 'ver': ''}, {'_returnType': 'json', 'coGrade': '1', 'coValue': '0.4', 'dataTerm': '', 'dataTime': '2019-07-10 06:00', 'khaiGrade': '', 'khaiValue': '-', 'mangName': '도시대기', 'no2Grade': '1', 'no2Value': '0.016', 'numOfRows': '10', 'o3Grade': '1', 'o3Value': '0.022', 'pageNo': '1', 'pm10Grade': '1', 'pm10Grade1h': '1', 'pm10Value': '6', 'pm10Value24': '5', 'pm25Grade': '', 'pm25Grade1h': '1', 'pm25Value': '5', 'pm25Value24': '-', 'resultCode': '', 'resultMsg': '', 'rnum': 0, 'serviceKey': '', 'sidoName': '', 'so2Grade': '', 'so2Value': '-', 'stationCode': '', 'stationName': '', 'totalCount': '', 'ver': ''}, {'_returnType': 'json', 'coGrade': '1', 'coValue': '0.6', 'dataTerm': '', 'dataTime': '2019-07-10 05:00', 'khaiGrade': '', 'khaiValue': '-', 'mangName': '도시대기', 'no2Grade': '1', 'no2Value': '0.011', 'numOfRows': '10', 'o3Grade': '1', 'o3Value': '0.026', 'pageNo': '1', 'pm10Grade': '1', 'pm10Grade1h': '1', 'pm10Value': '4', 'pm10Value24': '5', 'pm25Grade': '', 'pm25Grade1h': '', 'pm25Value': '-', 'pm25Value24': '-', 'resultCode': '', 'resultMsg': '', 'rnum': 0, 'serviceKey': '', 'sidoName': '', 'so2Grade': '', 'so2Value': '-', 'stationCode': '', 'stationName': '', 'totalCount': '', 'ver': ''}]\n"
     ]
    }
   ],
   "source": [
    "print(resObj['list'])"
   ]
  },
  {
   "cell_type": "markdown",
   "metadata": {},
   "source": [
    "## 원하는 값을 뽑아오고 싶을 때 리스트 속 딕셔너리에 접근하는 방식으로 접근한다."
   ]
  },
  {
   "cell_type": "code",
   "execution_count": 111,
   "metadata": {
    "scrolled": false
   },
   "outputs": [
    {
     "data": {
      "text/plain": [
       "'7'"
      ]
     },
     "execution_count": 111,
     "metadata": {},
     "output_type": "execute_result"
    }
   ],
   "source": [
    "resObj['list'][0]['pm25Value']"
   ]
  },
  {
   "cell_type": "code",
   "execution_count": 112,
   "metadata": {},
   "outputs": [
    {
     "name": "stdout",
     "output_type": "stream",
     "text": [
      "stationName =   pm25Value =  7\n",
      "stationName =   pm25Value =  6\n",
      "stationName =   pm25Value =  6\n",
      "stationName =   pm25Value =  7\n",
      "stationName =   pm25Value =  5\n",
      "stationName =   pm25Value =  4\n",
      "stationName =   pm25Value =  4\n",
      "stationName =   pm25Value =  -\n",
      "stationName =   pm25Value =  5\n",
      "stationName =   pm25Value =  -\n"
     ]
    }
   ],
   "source": [
    "for i in range(len(resObj['list'])):\n",
    "    print(\"stationName = \",resObj['list'][i]['stationName'],\"pm25Value = \",resObj['list'][i]['pm25Value'])"
   ]
  },
  {
   "cell_type": "markdown",
   "metadata": {},
   "source": [
    "# XML\n",
    "- 내가 원하는 태그를 맘대로 사용할 수 있다. \n",
    "- 모든 마크업들을 내가 만들어야 한다. -> 명세가 필요하다.\n",
    "- 데이터를 주고 받기 위해.\n",
    "- 사람이 읽을 수 있고, 기계도 읽을 수 있다.\n",
    "- 사이즈가 너무 크다.\n",
    "- 모든 언어에서 사용 가능.\n",
    "- 텍스트 기반. byte type로 통신\n",
    "- 오류가 발생하면 명확하기 때문에 좋다.\n",
    "- Valid Documents\n",
    "    - 명세서.\n",
    "    - DTD\n",
    "    - XML Schema\n",
    "- Well-Formed\n",
    "    - root node(최상단 노드)가 있어야 한다.\n",
    "    - 반드시 여는 태그와 닫는 태그가 있어야한다.(순서 맞춰서)\n",
    "    - 대소문자 구별 정확해야 한다.\n",
    "    - property, attribute가 존재하야 한다. 값은 \"\"에 쌓여 있어야 한다.\n",
    "    \n",
    "    "
   ]
  },
  {
   "cell_type": "markdown",
   "metadata": {},
   "source": [
    "lxml만 있어도 된다."
   ]
  },
  {
   "cell_type": "code",
   "execution_count": 114,
   "metadata": {},
   "outputs": [],
   "source": [
    "import xml.etree.ElementTree as et"
   ]
  },
  {
   "cell_type": "code",
   "execution_count": 115,
   "metadata": {},
   "outputs": [],
   "source": [
    "from lxml import etree"
   ]
  },
  {
   "cell_type": "markdown",
   "metadata": {},
   "source": [
    "### ElementTree 사용했을 때"
   ]
  },
  {
   "cell_type": "code",
   "execution_count": null,
   "metadata": {},
   "outputs": [],
   "source": [
    "bookStore = et.Element(\"bookstore\")\n",
    "\n",
    "book1 = et.Element(\"book\", category = \"cooking\")\n",
    "bookStore.insert(0, book1)\n",
    "\n",
    "title1 = et.Element(\"title\")\n",
    "title1. attrib[\"lang\"] = \"en\"\n",
    "title1.text=\"Everyday Italian\"\n",
    "book1.append(title1)\n",
    "\n",
    "et.SubElement(book1, \"author\").text = \"Giada De Laurentiis\"\n",
    "et.SubElement(book1, \"year\").text =\"2005\"\n",
    "et.SubElement(book1, \"price\").text = \"30.00\"\n",
    "\n",
    "\n",
    "book2 = et.Element(\"book\", {\"category\":\"children\"})\n",
    "bookStore.append(book2)\n",
    "\n",
    "title2 = et.Element(\"title\")\n",
    "title2.attrib[\"lang\"] = title1.get(\"lang\")\n",
    "title2.text = \"Harry Potter\"\n",
    "book2.append(title2)\n",
    "\n",
    "et.SubElement(book2, \"author\").text = \"Giada De Laurentiis\"\n",
    "et.SubElement(book2, \"year\").text = \"2005\"\n",
    "et.SubElement(book2, \"price\").text = \"30.00\"\n",
    "\n",
    "et.dump(bookStore)"
   ]
  },
  {
   "cell_type": "code",
   "execution_count": 117,
   "metadata": {},
   "outputs": [],
   "source": [
    "bookStore = et.Element(\"bookstore\")"
   ]
  },
  {
   "cell_type": "markdown",
   "metadata": {},
   "source": [
    "bookStore에 book1이라는 자식을 추가시킨다."
   ]
  },
  {
   "cell_type": "code",
   "execution_count": 118,
   "metadata": {},
   "outputs": [],
   "source": [
    "book1 = et.Element(\"book\", category = \"cooking\")\n",
    "bookStore.insert(0, book1)"
   ]
  },
  {
   "cell_type": "markdown",
   "metadata": {},
   "source": [
    "book1에 title이라는 자식을 추가 시킨다."
   ]
  },
  {
   "cell_type": "code",
   "execution_count": 120,
   "metadata": {},
   "outputs": [],
   "source": [
    "title1 = et.Element(\"title\")\n",
    "title1. attrib[\"lang\"] = \"en\"\n",
    "title1.text=\"Everyday Italian\"\n",
    "book1.append(title1)"
   ]
  },
  {
   "cell_type": "markdown",
   "metadata": {},
   "source": [
    "book1에 author, year, price라는 자식을 추가한다."
   ]
  },
  {
   "cell_type": "code",
   "execution_count": 121,
   "metadata": {},
   "outputs": [],
   "source": [
    "et.SubElement(book1, \"author\").text = \"Giada De Laurentiis\"\n",
    "et.SubElement(book1, \"year\").text =\"2005\"\n",
    "et.SubElement(book1, \"price\").text = \"30.00\""
   ]
  },
  {
   "cell_type": "markdown",
   "metadata": {},
   "source": [
    "book2도 book1과 같은 과정을 거친다."
   ]
  },
  {
   "cell_type": "code",
   "execution_count": 123,
   "metadata": {},
   "outputs": [],
   "source": [
    "book2 = et.Element(\"book\", {\"category\":\"children\"})\n",
    "bookStore.append(book2)"
   ]
  },
  {
   "cell_type": "code",
   "execution_count": 125,
   "metadata": {},
   "outputs": [],
   "source": [
    "title2 = et.Element(\"title\")\n",
    "title2.attrib[\"lang\"] = title1.get(\"lang\")\n",
    "title2.text = \"Harry Potter\"\n",
    "book2.append(title2)"
   ]
  },
  {
   "cell_type": "code",
   "execution_count": 126,
   "metadata": {},
   "outputs": [
    {
     "name": "stdout",
     "output_type": "stream",
     "text": [
      "<bookstore><book category=\"cooking\"><title lang=\"en\">Everyday Italian</title><author>Giada De Laurentiis</author><year>2005</year><price>30.00</price></book><book category=\"children\"><title lang=\"en\">Harry Potter</title><author>Giada De Laurentiis</author><year>2005</year><price>30.00</price></book></bookstore>\n"
     ]
    }
   ],
   "source": [
    "et.SubElement(book2, \"author\").text = \"Giada De Laurentiis\"\n",
    "et.SubElement(book2, \"year\").text = \"2005\"\n",
    "et.SubElement(book2, \"price\").text = \"30.00\"\n",
    "\n",
    "et.dump(bookStore)"
   ]
  },
  {
   "cell_type": "markdown",
   "metadata": {},
   "source": [
    "### parsing"
   ]
  },
  {
   "cell_type": "code",
   "execution_count": 127,
   "metadata": {
    "scrolled": true
   },
   "outputs": [
    {
     "name": "stdout",
     "output_type": "stream",
     "text": [
      "2\n"
     ]
    },
    {
     "name": "stderr",
     "output_type": "stream",
     "text": [
      "C:\\Anaconda\\Anaconda3\\lib\\site-packages\\ipykernel_launcher.py:3: DeprecationWarning: This method will be removed in future versions.  Use 'list(elem)' or iteration over elem instead.\n",
      "  This is separate from the ipykernel package so we can avoid doing imports until\n"
     ]
    }
   ],
   "source": [
    "root = et.fromstring(et.tostring(bookStore))\n",
    "\n",
    "childNodes = root.getchildren()\n",
    "print(len(childNodes))"
   ]
  },
  {
   "cell_type": "code",
   "execution_count": 128,
   "metadata": {},
   "outputs": [
    {
     "name": "stdout",
     "output_type": "stream",
     "text": [
      "book [('category', 'cooking')]\n",
      "book [('category', 'children')]\n"
     ]
    }
   ],
   "source": [
    "for childNode in childNodes:\n",
    "    print(childNode.tag, childNode.items())"
   ]
  },
  {
   "cell_type": "code",
   "execution_count": 130,
   "metadata": {},
   "outputs": [
    {
     "name": "stdout",
     "output_type": "stream",
     "text": [
      "title ['lang']\n",
      "['en']\n",
      "author []\n",
      "year []\n",
      "price []\n"
     ]
    }
   ],
   "source": [
    "for childNode in childNodes[0]:\n",
    "    print(childNode.tag, childNode.keys())\n",
    "    if childNode.keys() != []:\n",
    "        print([childNode.get(k) for k in childNode.keys()])\n",
    "    "
   ]
  },
  {
   "cell_type": "code",
   "execution_count": 131,
   "metadata": {},
   "outputs": [
    {
     "name": "stdout",
     "output_type": "stream",
     "text": [
      "book cooking\n"
     ]
    }
   ],
   "source": [
    "book = root.find(\"book\")\n",
    "print(book.tag, book.get(\"category\"))"
   ]
  },
  {
   "cell_type": "code",
   "execution_count": 132,
   "metadata": {},
   "outputs": [
    {
     "name": "stdout",
     "output_type": "stream",
     "text": [
      "book cooking\n",
      "book children\n"
     ]
    }
   ],
   "source": [
    "bookList = root.findall(\"book\")\n",
    "for book in bookList:\n",
    "    print(book.tag, book.get(\"category\"))"
   ]
  },
  {
   "cell_type": "code",
   "execution_count": 133,
   "metadata": {},
   "outputs": [
    {
     "name": "stdout",
     "output_type": "stream",
     "text": [
      "<class 'xml.etree.ElementTree.Element'> Everyday Italian\n"
     ]
    }
   ],
   "source": [
    "title = root.find(\".//title\")\n",
    "print(type(title), title.text)"
   ]
  },
  {
   "cell_type": "code",
   "execution_count": 134,
   "metadata": {},
   "outputs": [
    {
     "name": "stdout",
     "output_type": "stream",
     "text": [
      "['Everyday Italian', 'Harry Potter']\n"
     ]
    }
   ],
   "source": [
    "titleList = root.findall(\".//title\")\n",
    "print([title.text for title in titleList])"
   ]
  },
  {
   "cell_type": "code",
   "execution_count": 135,
   "metadata": {},
   "outputs": [
    {
     "name": "stdout",
     "output_type": "stream",
     "text": [
      "<class 'str'> Everyday Italian\n"
     ]
    }
   ],
   "source": [
    "title = root.findtext(\".//title\")\n",
    "print(type(title), title)"
   ]
  },
  {
   "cell_type": "code",
   "execution_count": 139,
   "metadata": {},
   "outputs": [
    {
     "name": "stdout",
     "output_type": "stream",
     "text": [
      "<class 'xml.etree.ElementTree.Element'> <Element 'book' at 0x0000019923DB4EA8> book\n"
     ]
    }
   ],
   "source": [
    "book = root.find(\".//book[@category = 'children']\")\n",
    "print(type(book), book, book.tag)"
   ]
  },
  {
   "cell_type": "code",
   "execution_count": 137,
   "metadata": {},
   "outputs": [
    {
     "name": "stdout",
     "output_type": "stream",
     "text": [
      "[<Element 'book' at 0x0000019923DB4EA8>] book\n"
     ]
    }
   ],
   "source": [
    "book = root.findall(\".//book[@category = 'children']\")\n",
    "print(book, book[0].tag)"
   ]
  },
  {
   "cell_type": "markdown",
   "metadata": {},
   "source": [
    "### write"
   ]
  },
  {
   "cell_type": "code",
   "execution_count": 140,
   "metadata": {},
   "outputs": [],
   "source": [
    "from xml.etree.ElementTree import ElementTree"
   ]
  },
  {
   "cell_type": "code",
   "execution_count": 141,
   "metadata": {},
   "outputs": [],
   "source": [
    "tree = ElementTree(root)\n",
    "tree.write(\"book_xml.xml\", encoding = \"utf-8\", xml_declaration=\"utf-8\")"
   ]
  },
  {
   "cell_type": "code",
   "execution_count": 142,
   "metadata": {},
   "outputs": [],
   "source": [
    "from xml.etree.ElementTree import parse"
   ]
  },
  {
   "cell_type": "code",
   "execution_count": 143,
   "metadata": {},
   "outputs": [
    {
     "name": "stdout",
     "output_type": "stream",
     "text": [
      "bookstore None\n",
      "book None\n",
      "title Everyday Italian\n",
      "author Giada De Laurentiis\n",
      "year 2005\n",
      "price 30.00\n",
      "book None\n",
      "title Harry Potter\n",
      "author Giada De Laurentiis\n",
      "year 2005\n",
      "price 30.00\n"
     ]
    }
   ],
   "source": [
    "tree = parse(\"book_xml.xml\")\n",
    "root = tree.getroot()\n",
    "\n",
    "for node in root.iter():\n",
    "    print(node.tag, node.text)"
   ]
  },
  {
   "cell_type": "code",
   "execution_count": 147,
   "metadata": {},
   "outputs": [
    {
     "name": "stdout",
     "output_type": "stream",
     "text": [
      "4\n",
      "<class 'bytes'> <class 'str'>\n",
      "<bookstore>\n",
      "  <book category=\"cooking\">\n",
      "    <title lang=\"en\">Everyday Italian</title>\n",
      "    <author>Giada De Laurentiis</author>\n",
      "    <year>2005</year>\n",
      "    <price>30.00</price>\n",
      "  </book>\n",
      "  <book category=\"children\">\n",
      "    <title lang=\"en\">Harry Potter</title>\n",
      "    <author>Giada De Laurentiis</author>\n",
      "    <year>2005</year>\n",
      "    <price>30.00</price>\n",
      "  </book>\n",
      "</bookstore>\n"
     ]
    }
   ],
   "source": [
    "bookStore = etree.Element(\"bookstore\")\n",
    "\n",
    "book1 = etree.SubElement(bookStore, \"book\")\n",
    "book2 = etree.SubElement(bookStore, \"book\", attrib={\"category\":\"children\"})\n",
    "\n",
    "book1.attrib[\"category\"] = \"cooking\"\n",
    "\n",
    "\n",
    "title1 = etree.Element(\"title\", lang = \"en\")\n",
    "title1.text=\"Everyday Italian\"\n",
    "book1.append(title1)\n",
    "\n",
    "etree.SubElement(book1, \"author\").text = \"Giada De Laurentiis\"\n",
    "etree.SubElement(book1, \"year\").text =\"2005\"\n",
    "etree.SubElement(book1, \"price\").text = \"30.00\"\n",
    "\n",
    "title2 = etree.Element(\"title\")\n",
    "title2.attrib[\"lang\"] = title1.get(\"lang\")\n",
    "title2.text = \"Harry Potter\"\n",
    "book2.append(title2)\n",
    "\n",
    "etree.SubElement(book2, \"author\").text = \"Giada De Laurentiis\"\n",
    "etree.SubElement(book2, \"year\").text = \"2005\"\n",
    "book2.insert(3, etree.Element(\"price\"))\n",
    "\n",
    "print(len(book2))\n",
    "book2[-1].text = \"30.00\"\n",
    "\n",
    "xmlBytes = etree.tostring(bookStore, encoding='utf-8', pretty_print=True, xml_declaration=True)\n",
    "xmlStr = etree.tounicode(bookStore, pretty_print=True)\n",
    "print(type(xmlBytes), type(xmlStr))\n",
    "etree.dump(bookStore)"
   ]
  },
  {
   "cell_type": "code",
   "execution_count": 148,
   "metadata": {},
   "outputs": [],
   "source": [
    "xml = etree.XML(etree.tostring(bookStore))\n",
    "xmlTree = etree.ElementTree(xml)\n",
    "xmlRoot = xmlTree.getroot()"
   ]
  },
  {
   "cell_type": "code",
   "execution_count": 149,
   "metadata": {},
   "outputs": [
    {
     "name": "stdout",
     "output_type": "stream",
     "text": [
      "1.0\n",
      "UTF-8\n",
      "\n",
      "bookstore\n"
     ]
    }
   ],
   "source": [
    "print(xmlTree.docinfo.xml_version)\n",
    "print(xmlTree.docinfo.encoding)\n",
    "print(xmlTree.docinfo.doctype)\n",
    "print(xmlTree.docinfo.root_name)"
   ]
  },
  {
   "cell_type": "code",
   "execution_count": 150,
   "metadata": {},
   "outputs": [
    {
     "name": "stdout",
     "output_type": "stream",
     "text": [
      "2\n"
     ]
    }
   ],
   "source": [
    "print(len(xmlRoot))"
   ]
  },
  {
   "cell_type": "code",
   "execution_count": 151,
   "metadata": {},
   "outputs": [
    {
     "name": "stdout",
     "output_type": "stream",
     "text": [
      "book {'category': 'cooking'}\n",
      "book {'category': 'children'}\n"
     ]
    }
   ],
   "source": [
    "for childNode in xmlRoot:\n",
    "    print(childNode.tag, childNode.attrib)"
   ]
  },
  {
   "cell_type": "code",
   "execution_count": 152,
   "metadata": {},
   "outputs": [
    {
     "name": "stdout",
     "output_type": "stream",
     "text": [
      "book cooking\n"
     ]
    }
   ],
   "source": [
    "book = xmlRoot.find(\"book\")\n",
    "print(book.tag, book.get(\"category\"))"
   ]
  },
  {
   "cell_type": "code",
   "execution_count": 153,
   "metadata": {},
   "outputs": [
    {
     "name": "stdout",
     "output_type": "stream",
     "text": [
      "book cooking\n",
      "book children\n"
     ]
    }
   ],
   "source": [
    "bookList = xmlRoot.findall(\"book\")\n",
    "for book in bookList:\n",
    "    print(book.tag, book.get(\"category\"))"
   ]
  },
  {
   "cell_type": "code",
   "execution_count": 155,
   "metadata": {
    "collapsed": true
   },
   "outputs": [
    {
     "name": "stdout",
     "output_type": "stream",
     "text": [
      "<response>\n",
      "\t<header>\n",
      "\t\t<resultCode>00</resultCode>\n",
      "\t\t<resultMsg>NORMAL SERVICE.</resultMsg>\n",
      "\t</header>\n",
      "\t<body>\n",
      "\t\t<items>\n",
      "\t\t\t\n",
      "\t\t\t\t<item>\n",
      "\t\t\t\t\t<dataTime>2019-07-10 16:00</dataTime>\n",
      "\t\t\t\t\t\n",
      "                        <mangName>도시대기</mangName>\n",
      "                    \n",
      "\t\t\t\t\t<so2Value>-</so2Value>\n",
      "\t\t\t\t\t<coValue>0.4</coValue>\n",
      "\t\t\t\t\t<o3Value>0.023</o3Value>\n",
      "\t\t\t\t\t<no2Value>0.019</no2Value>\n",
      "\t\t\t\t\t<pm10Value>7</pm10Value>\n",
      "\t\t\t\t\t\n",
      "                        <pm10Value24>7</pm10Value24>\n",
      "                    \n",
      "\t\t\t\t\t\n",
      "                        <pm25Value>7</pm25Value>\n",
      "                    \n",
      "                    \n",
      "                        <pm25Value24>6</pm25Value24>\n",
      "                    \n",
      "\t\t\t\t\t<khaiValue>38</khaiValue>\n",
      "\t\t\t\t\t<khaiGrade>1</khaiGrade>\n",
      "\t\t\t\t\t<so2Grade/>\n",
      "\t\t\t\t\t<coGrade>1</coGrade>\n",
      "\t\t\t\t\t<o3Grade>1</o3Grade>\n",
      "\t\t\t\t\t<no2Grade>1</no2Grade>\n",
      "\t\t\t\t\t<pm10Grade>1</pm10Grade>\n",
      "\t\t\t\t\t\n",
      "                        <pm25Grade>1</pm25Grade>\n",
      "                    \n",
      "                    \n",
      "                        <pm10Grade1h>1</pm10Grade1h>\n",
      "                        <pm25Grade1h>1</pm25Grade1h>\n",
      "                    \n",
      "\t\t\t\t</item>\n",
      "\t\t\t\n",
      "\t\t\t\t<item>\n",
      "\t\t\t\t\t<dataTime>2019-07-10 15:00</dataTime>\n",
      "\t\t\t\t\t\n",
      "                        <mangName>도시대기</mangName>\n",
      "                    \n",
      "\t\t\t\t\t<so2Value>-</so2Value>\n",
      "\t\t\t\t\t<coValue>0.4</coValue>\n",
      "\t\t\t\t\t<o3Value>0.026</o3Value>\n",
      "\t\t\t\t\t<no2Value>0.018</no2Value>\n",
      "\t\t\t\t\t<pm10Value>7</pm10Value>\n",
      "\t\t\t\t\t\n",
      "                        <pm10Value24>7</pm10Value24>\n",
      "                    \n",
      "\t\t\t\t\t\n",
      "                        <pm25Value>6</pm25Value>\n",
      "                    \n",
      "                    \n",
      "                        <pm25Value24>6</pm25Value24>\n",
      "                    \n",
      "\t\t\t\t\t<khaiValue>43</khaiValue>\n",
      "\t\t\t\t\t<khaiGrade>1</khaiGrade>\n",
      "\t\t\t\t\t<so2Grade/>\n",
      "\t\t\t\t\t<coGrade>1</coGrade>\n",
      "\t\t\t\t\t<o3Grade>1</o3Grade>\n",
      "\t\t\t\t\t<no2Grade>1</no2Grade>\n",
      "\t\t\t\t\t<pm10Grade>1</pm10Grade>\n",
      "\t\t\t\t\t\n",
      "                        <pm25Grade>1</pm25Grade>\n",
      "                    \n",
      "                    \n",
      "                        <pm10Grade1h>1</pm10Grade1h>\n",
      "                        <pm25Grade1h>1</pm25Grade1h>\n",
      "                    \n",
      "\t\t\t\t</item>\n",
      "\t\t\t\n",
      "\t\t\t\t<item>\n",
      "\t\t\t\t\t<dataTime>2019-07-10 14:00</dataTime>\n",
      "\t\t\t\t\t\n",
      "                        <mangName>도시대기</mangName>\n",
      "                    \n",
      "\t\t\t\t\t<so2Value>-</so2Value>\n",
      "\t\t\t\t\t<coValue>0.5</coValue>\n",
      "\t\t\t\t\t<o3Value>0.025</o3Value>\n",
      "\t\t\t\t\t<no2Value>0.020</no2Value>\n",
      "\t\t\t\t\t<pm10Value>8</pm10Value>\n",
      "\t\t\t\t\t\n",
      "                        <pm10Value24>7</pm10Value24>\n",
      "                    \n",
      "\t\t\t\t\t\n",
      "                        <pm25Value>7</pm25Value>\n",
      "                    \n",
      "                    \n",
      "                        <pm25Value24>6</pm25Value24>\n",
      "                    \n",
      "\t\t\t\t\t<khaiValue>42</khaiValue>\n",
      "\t\t\t\t\t<khaiGrade>1</khaiGrade>\n",
      "\t\t\t\t\t<so2Grade/>\n",
      "\t\t\t\t\t<coGrade>1</coGrade>\n",
      "\t\t\t\t\t<o3Grade>1</o3Grade>\n",
      "\t\t\t\t\t<no2Grade>1</no2Grade>\n",
      "\t\t\t\t\t<pm10Grade>1</pm10Grade>\n",
      "\t\t\t\t\t\n",
      "                        <pm25Grade>1</pm25Grade>\n",
      "                    \n",
      "                    \n",
      "                        <pm10Grade1h>1</pm10Grade1h>\n",
      "                        <pm25Grade1h>1</pm25Grade1h>\n",
      "                    \n",
      "\t\t\t\t</item>\n",
      "\t\t\t\n",
      "\t\t\t\t<item>\n",
      "\t\t\t\t\t<dataTime>2019-07-10 13:00</dataTime>\n",
      "\t\t\t\t\t\n",
      "                        <mangName>도시대기</mangName>\n",
      "                    \n",
      "\t\t\t\t\t<so2Value>-</so2Value>\n",
      "\t\t\t\t\t<coValue>0.5</coValue>\n",
      "\t\t\t\t\t<o3Value>0.029</o3Value>\n",
      "\t\t\t\t\t<no2Value>0.017</no2Value>\n",
      "\t\t\t\t\t<pm10Value>6</pm10Value>\n",
      "\t\t\t\t\t\n",
      "                        <pm10Value24>7</pm10Value24>\n",
      "                    \n",
      "\t\t\t\t\t\n",
      "                        <pm25Value>6</pm25Value>\n",
      "                    \n",
      "                    \n",
      "                        <pm25Value24>-</pm25Value24>\n",
      "                    \n",
      "\t\t\t\t\t<khaiValue>-</khaiValue>\n",
      "\t\t\t\t\t<khaiGrade/>\n",
      "\t\t\t\t\t<so2Grade/>\n",
      "\t\t\t\t\t<coGrade>1</coGrade>\n",
      "\t\t\t\t\t<o3Grade>1</o3Grade>\n",
      "\t\t\t\t\t<no2Grade>1</no2Grade>\n",
      "\t\t\t\t\t<pm10Grade>1</pm10Grade>\n",
      "\t\t\t\t\t\n",
      "                        <pm25Grade/>\n",
      "                    \n",
      "                    \n",
      "                        <pm10Grade1h>1</pm10Grade1h>\n",
      "                        <pm25Grade1h>1</pm25Grade1h>\n",
      "                    \n",
      "\t\t\t\t</item>\n",
      "\t\t\t\n",
      "\t\t\t\t<item>\n",
      "\t\t\t\t\t<dataTime>2019-07-10 12:00</dataTime>\n",
      "\t\t\t\t\t\n",
      "                        <mangName>도시대기</mangName>\n",
      "                    \n",
      "\t\t\t\t\t<so2Value>-</so2Value>\n",
      "\t\t\t\t\t<coValue>0.5</coValue>\n",
      "\t\t\t\t\t<o3Value>0.029</o3Value>\n",
      "\t\t\t\t\t<no2Value>0.018</no2Value>\n",
      "\t\t\t\t\t<pm10Value>6</pm10Value>\n",
      "\t\t\t\t\t\n",
      "                        <pm10Value24>7</pm10Value24>\n",
      "                    \n",
      "\t\t\t\t\t\n",
      "                        <pm25Value>6</pm25Value>\n",
      "                    \n",
      "                    \n",
      "                        <pm25Value24>-</pm25Value24>\n",
      "                    \n",
      "\t\t\t\t\t<khaiValue>-</khaiValue>\n",
      "\t\t\t\t\t<khaiGrade/>\n",
      "\t\t\t\t\t<so2Grade/>\n",
      "\t\t\t\t\t<coGrade>1</coGrade>\n",
      "\t\t\t\t\t<o3Grade>1</o3Grade>\n",
      "\t\t\t\t\t<no2Grade>1</no2Grade>\n",
      "\t\t\t\t\t<pm10Grade>1</pm10Grade>\n",
      "\t\t\t\t\t\n",
      "                        <pm25Grade/>\n",
      "                    \n",
      "                    \n",
      "                        <pm10Grade1h>1</pm10Grade1h>\n",
      "                        <pm25Grade1h>1</pm25Grade1h>\n",
      "                    \n",
      "\t\t\t\t</item>\n",
      "\t\t\t\n",
      "\t\t\t\t<item>\n",
      "\t\t\t\t\t<dataTime>2019-07-10 11:00</dataTime>\n",
      "\t\t\t\t\t\n",
      "                        <mangName>도시대기</mangName>\n",
      "                    \n",
      "\t\t\t\t\t<so2Value>-</so2Value>\n",
      "\t\t\t\t\t<coValue>0.5</coValue>\n",
      "\t\t\t\t\t<o3Value>0.028</o3Value>\n",
      "\t\t\t\t\t<no2Value>0.017</no2Value>\n",
      "\t\t\t\t\t<pm10Value>8</pm10Value>\n",
      "\t\t\t\t\t\n",
      "                        <pm10Value24>7</pm10Value24>\n",
      "                    \n",
      "\t\t\t\t\t\n",
      "                        <pm25Value>7</pm25Value>\n",
      "                    \n",
      "                    \n",
      "                        <pm25Value24>-</pm25Value24>\n",
      "                    \n",
      "\t\t\t\t\t<khaiValue>-</khaiValue>\n",
      "\t\t\t\t\t<khaiGrade/>\n",
      "\t\t\t\t\t<so2Grade/>\n",
      "\t\t\t\t\t<coGrade>1</coGrade>\n",
      "\t\t\t\t\t<o3Grade>1</o3Grade>\n",
      "\t\t\t\t\t<no2Grade>1</no2Grade>\n",
      "\t\t\t\t\t<pm10Grade>1</pm10Grade>\n",
      "\t\t\t\t\t\n",
      "                        <pm25Grade/>\n",
      "                    \n",
      "                    \n",
      "                        <pm10Grade1h>1</pm10Grade1h>\n",
      "                        <pm25Grade1h>1</pm25Grade1h>\n",
      "                    \n",
      "\t\t\t\t</item>\n",
      "\t\t\t\n",
      "\t\t\t\t<item>\n",
      "\t\t\t\t\t<dataTime>2019-07-10 10:00</dataTime>\n",
      "\t\t\t\t\t\n",
      "                        <mangName>도시대기</mangName>\n",
      "                    \n",
      "\t\t\t\t\t<so2Value>-</so2Value>\n",
      "\t\t\t\t\t<coValue>0.5</coValue>\n",
      "\t\t\t\t\t<o3Value>0.027</o3Value>\n",
      "\t\t\t\t\t<no2Value>0.019</no2Value>\n",
      "\t\t\t\t\t<pm10Value>8</pm10Value>\n",
      "\t\t\t\t\t\n",
      "                        <pm10Value24>7</pm10Value24>\n",
      "                    \n",
      "\t\t\t\t\t\n",
      "                        <pm25Value>5</pm25Value>\n",
      "                    \n",
      "                    \n",
      "                        <pm25Value24>-</pm25Value24>\n",
      "                    \n",
      "\t\t\t\t\t<khaiValue>-</khaiValue>\n",
      "\t\t\t\t\t<khaiGrade/>\n",
      "\t\t\t\t\t<so2Grade/>\n",
      "\t\t\t\t\t<coGrade>1</coGrade>\n",
      "\t\t\t\t\t<o3Grade>1</o3Grade>\n",
      "\t\t\t\t\t<no2Grade>1</no2Grade>\n",
      "\t\t\t\t\t<pm10Grade>1</pm10Grade>\n",
      "\t\t\t\t\t\n",
      "                        <pm25Grade/>\n",
      "                    \n",
      "                    \n",
      "                        <pm10Grade1h>1</pm10Grade1h>\n",
      "                        <pm25Grade1h>1</pm25Grade1h>\n",
      "                    \n",
      "\t\t\t\t</item>\n",
      "\t\t\t\n",
      "\t\t\t\t<item>\n",
      "\t\t\t\t\t<dataTime>2019-07-10 09:00</dataTime>\n",
      "\t\t\t\t\t\n",
      "                        <mangName>도시대기</mangName>\n",
      "                    \n",
      "\t\t\t\t\t<so2Value>-</so2Value>\n",
      "\t\t\t\t\t<coValue>0.5</coValue>\n",
      "\t\t\t\t\t<o3Value>0.026</o3Value>\n",
      "\t\t\t\t\t<no2Value>0.018</no2Value>\n",
      "\t\t\t\t\t<pm10Value>11</pm10Value>\n",
      "\t\t\t\t\t\n",
      "                        <pm10Value24>6</pm10Value24>\n",
      "                    \n",
      "\t\t\t\t\t\n",
      "                        <pm25Value>4</pm25Value>\n",
      "                    \n",
      "                    \n",
      "                        <pm25Value24>-</pm25Value24>\n",
      "                    \n",
      "\t\t\t\t\t<khaiValue>-</khaiValue>\n",
      "\t\t\t\t\t<khaiGrade/>\n",
      "\t\t\t\t\t<so2Grade/>\n",
      "\t\t\t\t\t<coGrade>1</coGrade>\n",
      "\t\t\t\t\t<o3Grade>1</o3Grade>\n",
      "\t\t\t\t\t<no2Grade>1</no2Grade>\n",
      "\t\t\t\t\t<pm10Grade>1</pm10Grade>\n",
      "\t\t\t\t\t\n",
      "                        <pm25Grade/>\n",
      "                    \n",
      "                    \n",
      "                        <pm10Grade1h>1</pm10Grade1h>\n",
      "                        <pm25Grade1h>1</pm25Grade1h>\n",
      "                    \n",
      "\t\t\t\t</item>\n",
      "\t\t\t\n",
      "\t\t\t\t<item>\n",
      "\t\t\t\t\t<dataTime>2019-07-10 08:00</dataTime>\n",
      "\t\t\t\t\t\n",
      "                        <mangName>도시대기</mangName>\n",
      "                    \n",
      "\t\t\t\t\t<so2Value>-</so2Value>\n",
      "\t\t\t\t\t<coValue>0.5</coValue>\n",
      "\t\t\t\t\t<o3Value>0.021</o3Value>\n",
      "\t\t\t\t\t<no2Value>0.022</no2Value>\n",
      "\t\t\t\t\t<pm10Value>7</pm10Value>\n",
      "\t\t\t\t\t\n",
      "                        <pm10Value24>5</pm10Value24>\n",
      "                    \n",
      "\t\t\t\t\t\n",
      "                        <pm25Value>4</pm25Value>\n",
      "                    \n",
      "                    \n",
      "                        <pm25Value24>-</pm25Value24>\n",
      "                    \n",
      "\t\t\t\t\t<khaiValue>-</khaiValue>\n",
      "\t\t\t\t\t<khaiGrade/>\n",
      "\t\t\t\t\t<so2Grade/>\n",
      "\t\t\t\t\t<coGrade>1</coGrade>\n",
      "\t\t\t\t\t<o3Grade>1</o3Grade>\n",
      "\t\t\t\t\t<no2Grade>1</no2Grade>\n",
      "\t\t\t\t\t<pm10Grade>1</pm10Grade>\n",
      "\t\t\t\t\t\n",
      "                        <pm25Grade/>\n",
      "                    \n",
      "                    \n",
      "                        <pm10Grade1h>1</pm10Grade1h>\n",
      "                        <pm25Grade1h>1</pm25Grade1h>\n",
      "                    \n",
      "\t\t\t\t</item>\n",
      "\t\t\t\n",
      "\t\t\t\t<item>\n",
      "\t\t\t\t\t<dataTime>2019-07-10 07:00</dataTime>\n",
      "\t\t\t\t\t\n",
      "                        <mangName>도시대기</mangName>\n",
      "                    \n",
      "\t\t\t\t\t<so2Value>-</so2Value>\n",
      "\t\t\t\t\t<coValue>0.5</coValue>\n",
      "\t\t\t\t\t<o3Value>0.018</o3Value>\n",
      "\t\t\t\t\t<no2Value>0.022</no2Value>\n",
      "\t\t\t\t\t<pm10Value>4</pm10Value>\n",
      "\t\t\t\t\t\n",
      "                        <pm10Value24>5</pm10Value24>\n",
      "                    \n",
      "\t\t\t\t\t\n",
      "                        <pm25Value>-</pm25Value>\n",
      "                    \n",
      "                    \n",
      "                        <pm25Value24>-</pm25Value24>\n",
      "                    \n",
      "\t\t\t\t\t<khaiValue>-</khaiValue>\n",
      "\t\t\t\t\t<khaiGrade/>\n",
      "\t\t\t\t\t<so2Grade/>\n",
      "\t\t\t\t\t<coGrade>1</coGrade>\n",
      "\t\t\t\t\t<o3Grade>1</o3Grade>\n",
      "\t\t\t\t\t<no2Grade>1</no2Grade>\n",
      "\t\t\t\t\t<pm10Grade>1</pm10Grade>\n",
      "\t\t\t\t\t\n",
      "                        <pm25Grade/>\n",
      "                    \n",
      "                    \n",
      "                        <pm10Grade1h>1</pm10Grade1h>\n",
      "                        <pm25Grade1h/>\n",
      "                    \n",
      "\t\t\t\t</item>\n",
      "\t\t\t\n",
      "\t\t</items>\n",
      "\t\t\t<numOfRows>10</numOfRows>\n",
      "\t\t\t<pageNo>1</pageNo>\n",
      "\t\t\t<totalCount>23</totalCount>\n",
      "\t</body>\n",
      "</response>\n"
     ]
    }
   ],
   "source": [
    "url = \"http://openapi.airkorea.or.kr/openapi/services/rest/ArpltnInforInqireSvc/getMsrstnAcctoRltmMesureDnsty\"\n",
    "params = {\n",
    "    \"serviceKey\":\"aeUcMWlWBcx3lsfgdtp3Nxx90I5HujhKwlPU2tTwN4Nn9DQB4mhBMKheJj6cv%2BmD1hM%2BibpzVr9WRX0TIK5U1A%3D%3D\",\n",
    "    \"numOfRows\":10,\n",
    "    \"pageSize\":10,\n",
    "    \"pageNo\":1,\n",
    "    \"startPage\":1,\n",
    "    \"stationName\":\"성북구\",\n",
    "    \"dataTerm\":\"DAILY\",\n",
    "    \"ver\":\"1.3\",  \n",
    "}\n",
    "\n",
    "# serialize 과정 \n",
    "params[\"serviceKey\"] = urllib.parse.unquote(params[\"serviceKey\"])\n",
    "params = urllib.parse.urlencode(params)\n",
    "params = params.encode(\"utf-8\") # byte 형식\n",
    "\n",
    "# \n",
    "req = urllib.request.Request(url, data = params)\n",
    "res = urllib.request.urlopen(req)\n",
    "\n",
    "#stream을 읽는다.\n",
    "resStr = res.read()\n",
    "\n",
    "xmlObj = etree.fromstring(resStr)\n",
    "xmlRoot = etree.ElementTree(xmlObj).getroot()\n",
    "\n",
    "etree.dump(xmlRoot)"
   ]
  },
  {
   "cell_type": "code",
   "execution_count": 161,
   "metadata": {},
   "outputs": [
    {
     "name": "stdout",
     "output_type": "stream",
     "text": [
      "response \n",
      "\t\n",
      "header \n",
      "\t\t\n",
      "resultCode 00\n",
      "resultMsg NORMAL SERVICE.\n",
      "body \n",
      "\t\t\n",
      "items \n",
      "\t\t\t\n",
      "\t\t\t\t\n",
      "item \n",
      "\t\t\t\t\t\n",
      "dataTime 2019-07-10 16:00\n",
      "mangName 도시대기\n",
      "so2Value -\n",
      "coValue 0.4\n",
      "o3Value 0.023\n",
      "no2Value 0.019\n",
      "pm10Value 7\n",
      "pm10Value24 7\n",
      "pm25Value 7\n",
      "pm25Value24 6\n",
      "khaiValue 38\n",
      "khaiGrade 1\n",
      "so2Grade None\n",
      "coGrade 1\n",
      "o3Grade 1\n",
      "no2Grade 1\n",
      "pm10Grade 1\n",
      "pm25Grade 1\n",
      "pm10Grade1h 1\n",
      "pm25Grade1h 1\n",
      "item \n",
      "\t\t\t\t\t\n",
      "dataTime 2019-07-10 15:00\n",
      "mangName 도시대기\n",
      "so2Value -\n",
      "coValue 0.4\n",
      "o3Value 0.026\n",
      "no2Value 0.018\n",
      "pm10Value 7\n",
      "pm10Value24 7\n",
      "pm25Value 6\n",
      "pm25Value24 6\n",
      "khaiValue 43\n",
      "khaiGrade 1\n",
      "so2Grade None\n",
      "coGrade 1\n",
      "o3Grade 1\n",
      "no2Grade 1\n",
      "pm10Grade 1\n",
      "pm25Grade 1\n",
      "pm10Grade1h 1\n",
      "pm25Grade1h 1\n",
      "item \n",
      "\t\t\t\t\t\n",
      "dataTime 2019-07-10 14:00\n",
      "mangName 도시대기\n",
      "so2Value -\n",
      "coValue 0.5\n",
      "o3Value 0.025\n",
      "no2Value 0.020\n",
      "pm10Value 8\n",
      "pm10Value24 7\n",
      "pm25Value 7\n",
      "pm25Value24 6\n",
      "khaiValue 42\n",
      "khaiGrade 1\n",
      "so2Grade None\n",
      "coGrade 1\n",
      "o3Grade 1\n",
      "no2Grade 1\n",
      "pm10Grade 1\n",
      "pm25Grade 1\n",
      "pm10Grade1h 1\n",
      "pm25Grade1h 1\n",
      "item \n",
      "\t\t\t\t\t\n",
      "dataTime 2019-07-10 13:00\n",
      "mangName 도시대기\n",
      "so2Value -\n",
      "coValue 0.5\n",
      "o3Value 0.029\n",
      "no2Value 0.017\n",
      "pm10Value 6\n",
      "pm10Value24 7\n",
      "pm25Value 6\n",
      "pm25Value24 -\n",
      "khaiValue -\n",
      "khaiGrade None\n",
      "so2Grade None\n",
      "coGrade 1\n",
      "o3Grade 1\n",
      "no2Grade 1\n",
      "pm10Grade 1\n",
      "pm25Grade None\n",
      "pm10Grade1h 1\n",
      "pm25Grade1h 1\n",
      "item \n",
      "\t\t\t\t\t\n",
      "dataTime 2019-07-10 12:00\n",
      "mangName 도시대기\n",
      "so2Value -\n",
      "coValue 0.5\n",
      "o3Value 0.029\n",
      "no2Value 0.018\n",
      "pm10Value 6\n",
      "pm10Value24 7\n",
      "pm25Value 6\n",
      "pm25Value24 -\n",
      "khaiValue -\n",
      "khaiGrade None\n",
      "so2Grade None\n",
      "coGrade 1\n",
      "o3Grade 1\n",
      "no2Grade 1\n",
      "pm10Grade 1\n",
      "pm25Grade None\n",
      "pm10Grade1h 1\n",
      "pm25Grade1h 1\n",
      "item \n",
      "\t\t\t\t\t\n",
      "dataTime 2019-07-10 11:00\n",
      "mangName 도시대기\n",
      "so2Value -\n",
      "coValue 0.5\n",
      "o3Value 0.028\n",
      "no2Value 0.017\n",
      "pm10Value 8\n",
      "pm10Value24 7\n",
      "pm25Value 7\n",
      "pm25Value24 -\n",
      "khaiValue -\n",
      "khaiGrade None\n",
      "so2Grade None\n",
      "coGrade 1\n",
      "o3Grade 1\n",
      "no2Grade 1\n",
      "pm10Grade 1\n",
      "pm25Grade None\n",
      "pm10Grade1h 1\n",
      "pm25Grade1h 1\n",
      "item \n",
      "\t\t\t\t\t\n",
      "dataTime 2019-07-10 10:00\n",
      "mangName 도시대기\n",
      "so2Value -\n",
      "coValue 0.5\n",
      "o3Value 0.027\n",
      "no2Value 0.019\n",
      "pm10Value 8\n",
      "pm10Value24 7\n",
      "pm25Value 5\n",
      "pm25Value24 -\n",
      "khaiValue -\n",
      "khaiGrade None\n",
      "so2Grade None\n",
      "coGrade 1\n",
      "o3Grade 1\n",
      "no2Grade 1\n",
      "pm10Grade 1\n",
      "pm25Grade None\n",
      "pm10Grade1h 1\n",
      "pm25Grade1h 1\n",
      "item \n",
      "\t\t\t\t\t\n",
      "dataTime 2019-07-10 09:00\n",
      "mangName 도시대기\n",
      "so2Value -\n",
      "coValue 0.5\n",
      "o3Value 0.026\n",
      "no2Value 0.018\n",
      "pm10Value 11\n",
      "pm10Value24 6\n",
      "pm25Value 4\n",
      "pm25Value24 -\n",
      "khaiValue -\n",
      "khaiGrade None\n",
      "so2Grade None\n",
      "coGrade 1\n",
      "o3Grade 1\n",
      "no2Grade 1\n",
      "pm10Grade 1\n",
      "pm25Grade None\n",
      "pm10Grade1h 1\n",
      "pm25Grade1h 1\n",
      "item \n",
      "\t\t\t\t\t\n",
      "dataTime 2019-07-10 08:00\n",
      "mangName 도시대기\n",
      "so2Value -\n",
      "coValue 0.5\n",
      "o3Value 0.021\n",
      "no2Value 0.022\n",
      "pm10Value 7\n",
      "pm10Value24 5\n",
      "pm25Value 4\n",
      "pm25Value24 -\n",
      "khaiValue -\n",
      "khaiGrade None\n",
      "so2Grade None\n",
      "coGrade 1\n",
      "o3Grade 1\n",
      "no2Grade 1\n",
      "pm10Grade 1\n",
      "pm25Grade None\n",
      "pm10Grade1h 1\n",
      "pm25Grade1h 1\n",
      "item \n",
      "\t\t\t\t\t\n",
      "dataTime 2019-07-10 07:00\n",
      "mangName 도시대기\n",
      "so2Value -\n",
      "coValue 0.5\n",
      "o3Value 0.018\n",
      "no2Value 0.022\n",
      "pm10Value 4\n",
      "pm10Value24 5\n",
      "pm25Value -\n",
      "pm25Value24 -\n",
      "khaiValue -\n",
      "khaiGrade None\n",
      "so2Grade None\n",
      "coGrade 1\n",
      "o3Grade 1\n",
      "no2Grade 1\n",
      "pm10Grade 1\n",
      "pm25Grade None\n",
      "pm10Grade1h 1\n",
      "pm25Grade1h None\n",
      "numOfRows 10\n",
      "pageNo 1\n",
      "totalCount 23\n"
     ]
    }
   ],
   "source": [
    "for node in  xmlRoot.iter():\n",
    "    print(node.tag, node.text)"
   ]
  },
  {
   "cell_type": "code",
   "execution_count": 163,
   "metadata": {
    "collapsed": true
   },
   "outputs": [
    {
     "name": "stdout",
     "output_type": "stream",
     "text": [
      "10\n",
      "dataTime 2019-07-10 16:00\n",
      "mangName 도시대기\n",
      "so2Value -\n",
      "coValue 0.4\n",
      "o3Value 0.023\n",
      "no2Value 0.019\n",
      "pm10Value 7\n",
      "pm10Value24 7\n",
      "pm25Value 7\n",
      "pm25Value24 6\n",
      "khaiValue 38\n",
      "khaiGrade 1\n",
      "so2Grade None\n",
      "coGrade 1\n",
      "o3Grade 1\n",
      "no2Grade 1\n",
      "pm10Grade 1\n",
      "pm25Grade 1\n",
      "pm10Grade1h 1\n",
      "pm25Grade1h 1\n",
      "dataTime 2019-07-10 15:00\n",
      "mangName 도시대기\n",
      "so2Value -\n",
      "coValue 0.4\n",
      "o3Value 0.026\n",
      "no2Value 0.018\n",
      "pm10Value 7\n",
      "pm10Value24 7\n",
      "pm25Value 6\n",
      "pm25Value24 6\n",
      "khaiValue 43\n",
      "khaiGrade 1\n",
      "so2Grade None\n",
      "coGrade 1\n",
      "o3Grade 1\n",
      "no2Grade 1\n",
      "pm10Grade 1\n",
      "pm25Grade 1\n",
      "pm10Grade1h 1\n",
      "pm25Grade1h 1\n",
      "dataTime 2019-07-10 14:00\n",
      "mangName 도시대기\n",
      "so2Value -\n",
      "coValue 0.5\n",
      "o3Value 0.025\n",
      "no2Value 0.020\n",
      "pm10Value 8\n",
      "pm10Value24 7\n",
      "pm25Value 7\n",
      "pm25Value24 6\n",
      "khaiValue 42\n",
      "khaiGrade 1\n",
      "so2Grade None\n",
      "coGrade 1\n",
      "o3Grade 1\n",
      "no2Grade 1\n",
      "pm10Grade 1\n",
      "pm25Grade 1\n",
      "pm10Grade1h 1\n",
      "pm25Grade1h 1\n",
      "dataTime 2019-07-10 13:00\n",
      "mangName 도시대기\n",
      "so2Value -\n",
      "coValue 0.5\n",
      "o3Value 0.029\n",
      "no2Value 0.017\n",
      "pm10Value 6\n",
      "pm10Value24 7\n",
      "pm25Value 6\n",
      "pm25Value24 -\n",
      "khaiValue -\n",
      "khaiGrade None\n",
      "so2Grade None\n",
      "coGrade 1\n",
      "o3Grade 1\n",
      "no2Grade 1\n",
      "pm10Grade 1\n",
      "pm25Grade None\n",
      "pm10Grade1h 1\n",
      "pm25Grade1h 1\n",
      "dataTime 2019-07-10 12:00\n",
      "mangName 도시대기\n",
      "so2Value -\n",
      "coValue 0.5\n",
      "o3Value 0.029\n",
      "no2Value 0.018\n",
      "pm10Value 6\n",
      "pm10Value24 7\n",
      "pm25Value 6\n",
      "pm25Value24 -\n",
      "khaiValue -\n",
      "khaiGrade None\n",
      "so2Grade None\n",
      "coGrade 1\n",
      "o3Grade 1\n",
      "no2Grade 1\n",
      "pm10Grade 1\n",
      "pm25Grade None\n",
      "pm10Grade1h 1\n",
      "pm25Grade1h 1\n",
      "dataTime 2019-07-10 11:00\n",
      "mangName 도시대기\n",
      "so2Value -\n",
      "coValue 0.5\n",
      "o3Value 0.028\n",
      "no2Value 0.017\n",
      "pm10Value 8\n",
      "pm10Value24 7\n",
      "pm25Value 7\n",
      "pm25Value24 -\n",
      "khaiValue -\n",
      "khaiGrade None\n",
      "so2Grade None\n",
      "coGrade 1\n",
      "o3Grade 1\n",
      "no2Grade 1\n",
      "pm10Grade 1\n",
      "pm25Grade None\n",
      "pm10Grade1h 1\n",
      "pm25Grade1h 1\n",
      "dataTime 2019-07-10 10:00\n",
      "mangName 도시대기\n",
      "so2Value -\n",
      "coValue 0.5\n",
      "o3Value 0.027\n",
      "no2Value 0.019\n",
      "pm10Value 8\n",
      "pm10Value24 7\n",
      "pm25Value 5\n",
      "pm25Value24 -\n",
      "khaiValue -\n",
      "khaiGrade None\n",
      "so2Grade None\n",
      "coGrade 1\n",
      "o3Grade 1\n",
      "no2Grade 1\n",
      "pm10Grade 1\n",
      "pm25Grade None\n",
      "pm10Grade1h 1\n",
      "pm25Grade1h 1\n",
      "dataTime 2019-07-10 09:00\n",
      "mangName 도시대기\n",
      "so2Value -\n",
      "coValue 0.5\n",
      "o3Value 0.026\n",
      "no2Value 0.018\n",
      "pm10Value 11\n",
      "pm10Value24 6\n",
      "pm25Value 4\n",
      "pm25Value24 -\n",
      "khaiValue -\n",
      "khaiGrade None\n",
      "so2Grade None\n",
      "coGrade 1\n",
      "o3Grade 1\n",
      "no2Grade 1\n",
      "pm10Grade 1\n",
      "pm25Grade None\n",
      "pm10Grade1h 1\n",
      "pm25Grade1h 1\n",
      "dataTime 2019-07-10 08:00\n",
      "mangName 도시대기\n",
      "so2Value -\n",
      "coValue 0.5\n",
      "o3Value 0.021\n",
      "no2Value 0.022\n",
      "pm10Value 7\n",
      "pm10Value24 5\n",
      "pm25Value 4\n",
      "pm25Value24 -\n",
      "khaiValue -\n",
      "khaiGrade None\n",
      "so2Grade None\n",
      "coGrade 1\n",
      "o3Grade 1\n",
      "no2Grade 1\n",
      "pm10Grade 1\n",
      "pm25Grade None\n",
      "pm10Grade1h 1\n",
      "pm25Grade1h 1\n",
      "dataTime 2019-07-10 07:00\n",
      "mangName 도시대기\n",
      "so2Value -\n",
      "coValue 0.5\n",
      "o3Value 0.018\n",
      "no2Value 0.022\n",
      "pm10Value 4\n",
      "pm10Value24 5\n",
      "pm25Value -\n",
      "pm25Value24 -\n",
      "khaiValue -\n",
      "khaiGrade None\n",
      "so2Grade None\n",
      "coGrade 1\n",
      "o3Grade 1\n",
      "no2Grade 1\n",
      "pm10Grade 1\n",
      "pm25Grade None\n",
      "pm10Grade1h 1\n",
      "pm25Grade1h None\n"
     ]
    }
   ],
   "source": [
    "itemList = xmlRoot.findall(\".//item\")\n",
    "\n",
    "print(len(itemList))\n",
    "\n",
    "for item in itemList:\n",
    "    for i in range(len(item)):\n",
    "        print(item[i].tag, item[i].text)\n",
    "    "
   ]
  },
  {
   "cell_type": "code",
   "execution_count": 158,
   "metadata": {},
   "outputs": [
    {
     "name": "stdout",
     "output_type": "stream",
     "text": [
      "pm25Value 7\n",
      "pm25Value 6\n",
      "pm25Value 7\n",
      "pm25Value 6\n",
      "pm25Value 6\n",
      "pm25Value 7\n",
      "pm25Value 5\n",
      "pm25Value 4\n",
      "pm25Value 4\n",
      "pm25Value -\n"
     ]
    }
   ],
   "source": [
    "pm25List = xmlRoot.findall(\".//item/pm25Value\")\n",
    "for item in pm25List:\n",
    "    print(item.tag, item.text)"
   ]
  },
  {
   "cell_type": "code",
   "execution_count": null,
   "metadata": {},
   "outputs": [],
   "source": []
  }
 ],
 "metadata": {
  "kernelspec": {
   "display_name": "Python 3",
   "language": "python",
   "name": "python3"
  },
  "language_info": {
   "codemirror_mode": {
    "name": "ipython",
    "version": 3
   },
   "file_extension": ".py",
   "mimetype": "text/x-python",
   "name": "python",
   "nbconvert_exporter": "python",
   "pygments_lexer": "ipython3",
   "version": "3.7.3"
  }
 },
 "nbformat": 4,
 "nbformat_minor": 2
}

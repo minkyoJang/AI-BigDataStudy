{
  "nbformat": 4,
  "nbformat_minor": 0,
  "metadata": {
    "colab": {
      "name": "Basic Style Guide.ipynb",
      "version": "0.3.2",
      "provenance": [],
      "collapsed_sections": [],
      "include_colab_link": true
    },
    "kernelspec": {
      "name": "python3",
      "display_name": "Python 3"
    }
  },
  "cells": [
    {
      "cell_type": "markdown",
      "metadata": {
        "id": "view-in-github",
        "colab_type": "text"
      },
      "source": [
        "<a href=\"https://colab.research.google.com/github/minkyoJang/AI-BigDataStudy/blob/master/Basic_Style_Guide.ipynb\" target=\"_parent\"><img src=\"https://colab.research.google.com/assets/colab-badge.svg\" alt=\"Open In Colab\"/></a>"
      ]
    },
    {
      "cell_type": "markdown",
      "metadata": {
        "id": "GZHa6KeAvVQk",
        "colab_type": "text"
      },
      "source": [
        "# 파이썬의 Coding Convention  \\~이것만은 지키자\\~\n",
        "\n",
        "#### 컨벤션이란?\n",
        "\n",
        "컨벤션이란 코드를 작성할 때 어떻게 짜자고 다수가 합의한 약속입니다. 컨벤션을 지키건 말건 실행 결과에는 영향이 없습니다. 예를 들어 이런 것들 말이지요.\n",
        "\n",
        "* 변수를 만들 때에는 `=` 양옆으로 띄어쓰기를 하자 \n",
        "    * O : `my_list = []`\n",
        "    * X : `my_list=[]`\n",
        "* 상수는 대문자로 만들자 \n",
        "    * O: `MY_CONSTANT = 300`\n",
        "    * X: `myconstant = 300`\n",
        "* 주석을 쓸 때에는 `#` 뒤에 공백 문자를 하나 넣자\n",
        "    * O: `# 2를 곱한다`\n",
        "    * X: `#2를 곱한다`\n",
        "\n",
        "#### 코드로 내 개성을 드러내지 말자\n",
        "\n",
        "컨벤션을 따르지 따르지 않는 코드를 보면\n",
        "\n",
        "* 작성자가 코딩을 많이 안 해봤다고\n",
        "* 작성자가 언어에 대한 이해가 낮은 것 같다고\n",
        "* 작성자와 협업하기 힘들 것 같다고\n",
        "\n",
        "생각됩니다. \n",
        "\n",
        "따라서 본인의 코드가 개성적이라면, 코드를 조금 무던하게 바꾸는 것을 생각해보세요. \n",
        "\n",
        "#### 적어도 이것만큼은!\n",
        "\n",
        "처음부터 모든 컨벤션을 따르기는 힘듭니다. 오랜 습관을 고치기는 아주 힘들죠. \n",
        "하지만 적어도 이 문서에 나오는 컨벤션만큼은 지켜보도록 노력해보아요.\n",
        "\n",
        "---\n",
        "\n",
        "✘ 파이썬의 컨벤션에 대해 더 알고 싶다면 [\\[PEP8, Style Guide for Python Code\\]](http://www.python.org/dev/peps/pep-0008/)를 참고하세요"
      ]
    },
    {
      "cell_type": "markdown",
      "metadata": {
        "id": "6ZSwMQti6dgy",
        "colab_type": "text"
      },
      "source": [
        "### 1. 띄어쓰기를 하자\n",
        "\n"
      ]
    },
    {
      "cell_type": "markdown",
      "metadata": {
        "id": "oqeTlxxo7wNl",
        "colab_type": "text"
      },
      "source": [
        "#### 1. 연산자 앞뒤로 띄어쓰기\n",
        "\n",
        "\n",
        "다음 연산자 앞 뒤로는 띄어쓰기를 해주세요\n",
        "\n",
        "* 산술 연산자\n",
        "  * `+, -, *, /, %, **, //`\n",
        "* 비교 연산자\n",
        "  * `==, !=, <>, >, <, >=, <=`\n",
        "* 대입 연산자\n",
        "  * `=, +=, -=, *=, /=, %=, **=, //=`\n",
        "* 논리 연산자\n",
        "  * `AND, OR, NOT`\n",
        "* 멤버십 연산자\n",
        "  * `in, not in`\n",
        "* 아이덴티티 연산자\n",
        "  * `is, is not`\n",
        " "
      ]
    },
    {
      "cell_type": "code",
      "metadata": {
        "id": "gUAy6-q16iuD",
        "colab_type": "code",
        "colab": {}
      },
      "source": [
        "# 올바르지 않은 예 - 연산자 앞뒤로 띄어쓰기가 없음\n",
        "my_list=3\n",
        "value = my_list*2\n",
        "\n",
        "\n",
        "# 올바른 예 - 연산자 앞뒤로 띄어쓰기가 있음\n",
        "my_list = 3\n",
        "value = my_list * 2"
      ],
      "execution_count": 0,
      "outputs": []
    },
    {
      "cell_type": "markdown",
      "metadata": {
        "id": "XooOh24cgjTy",
        "colab_type": "text"
      },
      "source": [
        "단, `우선순위가 다른 연산자가 있는 경우`엔 우선순위가 높은 연산자는 붙여쓰는 걸 권장합니다."
      ]
    },
    {
      "cell_type": "code",
      "metadata": {
        "id": "jA4bFdOkg92f",
        "colab_type": "code",
        "colab": {}
      },
      "source": [
        "x = 3\n",
        "y = 5\n",
        "\n",
        "# 올바르지 않은 예\n",
        "distance = x * x + y * y\n",
        "\n",
        "\n",
        "# 올바른 예\n",
        "distance = x*x + y*y"
      ],
      "execution_count": 0,
      "outputs": []
    },
    {
      "cell_type": "markdown",
      "metadata": {
        "id": "DbOhYbRo70uk",
        "colab_type": "text"
      },
      "source": [
        "#### 2. 주석을 쓸때는 띄어쓰기\n",
        "\n",
        "주석을 쓸 때에는 `#` 뒤에 꼭 띄어쓰기를 해주세요"
      ]
    },
    {
      "cell_type": "code",
      "metadata": {
        "id": "dMi1tYBJ79fV",
        "colab_type": "code",
        "colab": {}
      },
      "source": [
        "#올바르지 않은 예 - # 뒤에 띄어쓰기가 없음\n",
        "# 올바른 예 - # 뒤에 띄어쓰기가 있음"
      ],
      "execution_count": 0,
      "outputs": []
    },
    {
      "cell_type": "markdown",
      "metadata": {
        "id": "yxOzq7w37pl_",
        "colab_type": "text"
      },
      "source": [
        "### 2. 띄어쓰기를 하지 말자\n",
        "\n",
        "다음 상황에서는 띄어쓰기를 자제해주세요"
      ]
    },
    {
      "cell_type": "markdown",
      "metadata": {
        "id": "81vSH9oeiD3S",
        "colab_type": "text"
      },
      "source": [
        "#### 1. 키워드 인자에 값을 넣거나 기본값을 설정하는 `=` 연산자 앞뒤"
      ]
    },
    {
      "cell_type": "code",
      "metadata": {
        "id": "Q_Dij8Oa6ih5",
        "colab_type": "code",
        "outputId": "f6425728-6445-436a-92ca-a55b6f8d9fbd",
        "colab": {
          "base_uri": "https://localhost:8080/",
          "height": 34
        }
      },
      "source": [
        "# 올바르지 않은 예\n",
        "def my_function(value = 3):\n",
        "  return value * 2\n",
        "\n",
        "my_function(value = 5)\n",
        "\n",
        "# 올바른 예\n",
        "def my_function(value=3):\n",
        "  return value * 2\n",
        "\n",
        "my_function(value=5)"
      ],
      "execution_count": 0,
      "outputs": [
        {
          "output_type": "execute_result",
          "data": {
            "text/plain": [
              "10"
            ]
          },
          "metadata": {
            "tags": []
          },
          "execution_count": 6
        }
      ]
    },
    {
      "cell_type": "markdown",
      "metadata": {
        "id": "fwNATihZiOh5",
        "colab_type": "text"
      },
      "source": [
        "#### 2. 소/중/대괄호를 연 바로 뒤에\n"
      ]
    },
    {
      "cell_type": "code",
      "metadata": {
        "id": "6fM9kVQDiOBT",
        "colab_type": "code",
        "colab": {}
      },
      "source": [
        "# 올바르지 않은 예 - 괄호를 연 후 바로 띄어쓰기가 있음\n",
        "my_dict = { 1: 3 }\n",
        "my_value = my_dict[ 1 ]\n",
        "\n",
        "# 올바른 예\n",
        "my_dict = {1: 3}\n",
        "my_value = my_dict[1]"
      ],
      "execution_count": 0,
      "outputs": []
    },
    {
      "cell_type": "markdown",
      "metadata": {
        "id": "fRefv4NeiuKu",
        "colab_type": "text"
      },
      "source": [
        "#### 3. 쉼표, 콜론, 세미콜론 앞에\n",
        "\n",
        "✘ 단, slice 에서 쓰이는 콜론의 앞에는 띄어쓰기가 있어도 됨. ex) `my_list[1 : 3]`"
      ]
    },
    {
      "cell_type": "code",
      "metadata": {
        "id": "2oqDLk9bivBZ",
        "colab_type": "code",
        "outputId": "c81d9278-89af-452e-fa6e-2a01d7498b19",
        "colab": {
          "base_uri": "https://localhost:8080/",
          "height": 52
        }
      },
      "source": [
        "# 올바르지 않은 예 - 콜론 앞에 띄어쓰기가 있음\n",
        "if True : print(3)\n",
        "\n",
        "# 올바른 예\n",
        "if True: print(3)"
      ],
      "execution_count": 0,
      "outputs": [
        {
          "output_type": "stream",
          "text": [
            "3\n",
            "3\n"
          ],
          "name": "stdout"
        }
      ]
    },
    {
      "cell_type": "markdown",
      "metadata": {
        "id": "KbzeYFdL9YTi",
        "colab_type": "text"
      },
      "source": [
        "### 3. Boolean은 이렇게 다루자"
      ]
    },
    {
      "cell_type": "markdown",
      "metadata": {
        "id": "0PCBxmh--UQi",
        "colab_type": "text"
      },
      "source": [
        "#### 1. 비교 연산자를 쓰지 말자 1\n",
        "\n",
        "이런 코드는\n",
        "\n",
        "```\n",
        "if value == True:\n",
        "    어쩌고\n",
        "```\n",
        "\n",
        "이렇게 바꾸세요\n",
        "\n",
        "```\n",
        "if value:\n",
        "    어쩌고\n",
        "```"
      ]
    },
    {
      "cell_type": "code",
      "metadata": {
        "id": "lCnUSKKs92e0",
        "colab_type": "code",
        "colab": {}
      },
      "source": [
        "# 올바르지 않은 예\n",
        "def my_function(value):\n",
        "  if value == True:\n",
        "    return 5\n",
        "  else:\n",
        "    return 3\n",
        "  \n",
        "# 올바른 예\n",
        "def my_function(value):\n",
        "  if value:\n",
        "    return 5\n",
        "  return 3"
      ],
      "execution_count": 0,
      "outputs": []
    },
    {
      "cell_type": "markdown",
      "metadata": {
        "id": "hK_KR3fp-WEz",
        "colab_type": "text"
      },
      "source": [
        "#### 2. 비교 연산자를 쓰지 말자 2\n",
        "\n",
        "이런 코드는\n",
        "\n",
        "```\n",
        "if value == False:\n",
        "    어쩌고\n",
        "```\n",
        "\n",
        "이렇게 바꾸세요\n",
        "\n",
        "```\n",
        "if not value:\n",
        "    어쩌고\n",
        "```"
      ]
    },
    {
      "cell_type": "code",
      "metadata": {
        "id": "6YUNV2cQ-0xj",
        "colab_type": "code",
        "colab": {}
      },
      "source": [
        "# 올바르지 않은 예\n",
        "\n",
        "def my_function(value):\n",
        "  if value != True:\n",
        "    return 5\n",
        "  else:\n",
        "    return 3\n",
        "  \n",
        "# 올바른 예\n",
        "def my_function(value):\n",
        "  if not value:\n",
        "    return 5\n",
        "  return 3"
      ],
      "execution_count": 0,
      "outputs": []
    },
    {
      "cell_type": "markdown",
      "metadata": {
        "id": "4Iksrt8j-85v",
        "colab_type": "text"
      },
      "source": [
        "#### 3. 리턴할 때 이러지 말자\n",
        "\n",
        "이런 코드는\n",
        "\n",
        "```\n",
        "if value == 복잡한 수식:\n",
        "    return True\n",
        "else:\n",
        "    return False\n",
        "```\n",
        "\n",
        "이렇게 바꾸세요\n",
        "\n",
        "```\n",
        "return value == 복잡한 수식\n",
        "```"
      ]
    },
    {
      "cell_type": "code",
      "metadata": {
        "id": "b09VjTRV-9PD",
        "colab_type": "code",
        "colab": {}
      },
      "source": [
        "# 올바르지 않은 예\n",
        "def my_function(value):\n",
        "  if value != 3:\n",
        "    return True\n",
        "  else:\n",
        "    return False\n",
        "  \n",
        "# 올바른 예\n",
        "def my_function(value):\n",
        "  return value != 3"
      ],
      "execution_count": 0,
      "outputs": []
    },
    {
      "cell_type": "markdown",
      "metadata": {
        "id": "M9VgDmg7317z",
        "colab_type": "text"
      },
      "source": [
        "### 4. Index 접근은 최소한으로\n",
        "\n",
        "인덱스를 이용해 접근하면 Boundary 에러가 날 확률이 높습니다. 꼭 필요한 경우가 아니라면 index 접근을 자제합시다.\n",
        "값과 인덱스를 모두 사용해야 한다면 enumerate() 함수를 이용하세요."
      ]
    },
    {
      "cell_type": "code",
      "metadata": {
        "id": "FS_xxMqU_1lC",
        "colab_type": "code",
        "colab": {}
      },
      "source": [
        "# 리스트에서 5를 제외한 원소를 더하는 코드\n",
        "my_list = [1,2,5,4,5,6]\n",
        "\n",
        "# 올바르지 않은 예 - index 값을 이용해 접근\n",
        "summation = 0\n",
        "for i in range(len(my_list)):\n",
        "  if i == 5:\n",
        "    continue\n",
        "  summation += my_list[i]\n",
        "\n",
        "# 올바른 예 - enumerate를 사용\n",
        "summation = 0\n",
        "for idx, value in enumerate(my_list):\n",
        "  if idx == 5:\n",
        "    continue\n",
        "  summation += value"
      ],
      "execution_count": 0,
      "outputs": []
    },
    {
      "cell_type": "markdown",
      "metadata": {
        "id": "tz5AICA4_SDm",
        "colab_type": "text"
      },
      "source": [
        "### 5. None을 검사할 때는 is, is not을 사용하자\n",
        "\n",
        "None을 검사할 때에는 비교 연산자 `==, !=`가 아니라 `is, is not`을 사용합니다."
      ]
    },
    {
      "cell_type": "code",
      "metadata": {
        "id": "3PWB6wMAAiic",
        "colab_type": "code",
        "colab": {}
      },
      "source": [
        "my_None = None\n",
        "\n",
        "# 올바르지 않은 예\n",
        "if my_None != None:\n",
        "  print(5)\n",
        "\n",
        "# 올바른 예\n",
        "if my_None is not None:\n",
        "  print(5)"
      ],
      "execution_count": 0,
      "outputs": []
    },
    {
      "cell_type": "markdown",
      "metadata": {
        "id": "8jo6JTzGAuNx",
        "colab_type": "text"
      },
      "source": [
        "### 6. 예외 처리를 control flow 용으로 쓰지 말자\n",
        "\n",
        "예외 처리는 에러 상황을 대처할 때에만 사용하는 편이 좋습니다. 논리적인 흐름을 처리할 때에 예외처리를 이용하지 말고, if 문을 이용합시다."
      ]
    },
    {
      "cell_type": "code",
      "metadata": {
        "id": "5qR-n0LtBFWJ",
        "colab_type": "code",
        "colab": {}
      },
      "source": [
        "# 현재 값이 앞 원소와 비슷한지 검사하는 코드\n",
        "\n",
        "# 올바르지 않은 예\n",
        "def my_function(my_list):\n",
        "  answer = []\n",
        "  for i in range(len(my_list)):\n",
        "    # i == 0 일때에는 앞 원소가 없으므로 예외 처리\n",
        "    try:\n",
        "      answer.append(my_list[i] == my_list[i - 1])\n",
        "    except:\n",
        "      answer.append(False)\n",
        "\n",
        "# 올바른 예\n",
        "def my_function(my_list):\n",
        "  answer = []\n",
        "  for i in range(len(my_list)):\n",
        "    if i == 0:\n",
        "      answer.append(False)\n",
        "      continue\n",
        "    answer.append(my_list[i] == my_list[i - 1])"
      ],
      "execution_count": 0,
      "outputs": []
    },
    {
      "cell_type": "markdown",
      "metadata": {
        "id": "beKg6UbNBur-",
        "colab_type": "text"
      },
      "source": [
        "### 7. 쓰지 않는 값은 _ 로 처리\n",
        "\n",
        "쓰지 않는 값은 `_` 로 표기합니다."
      ]
    },
    {
      "cell_type": "code",
      "metadata": {
        "id": "y3XymGYICChG",
        "colab_type": "code",
        "colab": {}
      },
      "source": [
        "# 올바르지 않은 예 - for 블록에서 i가 쓰이지 않음\n",
        "answer = 1\n",
        "for i in range(10):\n",
        "  answer += answer + 1\n",
        "  \n",
        "# 올바른 예\n",
        "answer = 1\n",
        "for _ in range(10):\n",
        "  answer += answer + 1"
      ],
      "execution_count": 0,
      "outputs": []
    }
  ]
}
{
 "cells": [
  {
   "cell_type": "markdown",
   "metadata": {},
   "source": [
    "### ORD\n",
    "- ORM(Object Relational Mapping)을 이용하여 RDB와 맵핑해준다.\n",
    "    - 하나의 관련있는 데이터를 Object로 만들어서 사용하면 \n",
    "    - 클래스와 연결할 수 있다.\n",
    "    - 쿼리를 몰라도 사용할 수 있다. 미리 맵핑된 모델이 있기 때문이다.\n",
    "    - 단점: overhead가 필요하다.\n",
    "    \n",
    "- class로 묶어서 object로 관리한다. \n",
    "- 알아보기 쉽다."
   ]
  },
  {
   "cell_type": "markdown",
   "metadata": {},
   "source": [
    "### SQLAlchemy\n",
    "- lazy 방식으로 사용. 필요할 때만 연결한다."
   ]
  },
  {
   "cell_type": "code",
   "execution_count": 1,
   "metadata": {},
   "outputs": [
    {
     "name": "stdout",
     "output_type": "stream",
     "text": [
      "^C\n"
     ]
    }
   ],
   "source": [
    "!pip install SQLAlchemy==1.3.5"
   ]
  },
  {
   "cell_type": "code",
   "execution_count": 1,
   "metadata": {},
   "outputs": [],
   "source": [
    "import sqlalchemy"
   ]
  },
  {
   "cell_type": "code",
   "execution_count": 2,
   "metadata": {},
   "outputs": [
    {
     "data": {
      "text/plain": [
       "'1.3.5'"
      ]
     },
     "execution_count": 2,
     "metadata": {},
     "output_type": "execute_result"
    }
   ],
   "source": [
    "sqlalchemy.__version__"
   ]
  },
  {
   "cell_type": "code",
   "execution_count": 2,
   "metadata": {},
   "outputs": [],
   "source": [
    "from sqlalchemy import create_engine"
   ]
  },
  {
   "cell_type": "markdown",
   "metadata": {},
   "source": [
    "엔진 생성\n",
    "- create_engine('sqlite:///foo.db')\n",
    "- create_engine('sqlite://')\n",
    "- create_engine('sqlite:///:memory:') -> 메모리에서 사용\n",
    "- 아직 디비에 접근 하지 않았음. 준비만 했다."
   ]
  },
  {
   "cell_type": "code",
   "execution_count": 4,
   "metadata": {},
   "outputs": [],
   "source": [
    "engine = create_engine(\"sqlite:///:memory:\", echo=True)"
   ]
  },
  {
   "cell_type": "code",
   "execution_count": 5,
   "metadata": {},
   "outputs": [
    {
     "name": "stdout",
     "output_type": "stream",
     "text": [
      "Engine(sqlite:///:memory:)\n"
     ]
    }
   ],
   "source": [
    "print(engine)"
   ]
  },
  {
   "cell_type": "code",
   "execution_count": 6,
   "metadata": {},
   "outputs": [
    {
     "data": {
      "text/plain": [
       "sqlalchemy.engine.base.Engine"
      ]
     },
     "execution_count": 6,
     "metadata": {},
     "output_type": "execute_result"
    }
   ],
   "source": [
    "type(engine)"
   ]
  },
  {
   "cell_type": "markdown",
   "metadata": {},
   "source": [
    "Create\n",
    "- Table: class sqlalchemy.schema.Table(\\*args, \\*\\*kw)\n",
    "- Column: class.sqlalchemy.schema.Column(\\*args, \\*\\*kwargs)\n",
    "- MetaData : class.sqlalchemy.schema.MetaData\n",
    "    - 등록된 것을 확인하려면 MetaData.Table로 볼 수 있다."
   ]
  },
  {
   "cell_type": "code",
   "execution_count": 3,
   "metadata": {},
   "outputs": [],
   "source": [
    "from sqlalchemy import Table, Column, Integer, String, MetaData, ForeignKey"
   ]
  },
  {
   "cell_type": "code",
   "execution_count": 8,
   "metadata": {},
   "outputs": [],
   "source": [
    "metadata = MetaData()"
   ]
  },
  {
   "cell_type": "code",
   "execution_count": 9,
   "metadata": {},
   "outputs": [],
   "source": [
    "users = Table('users', metadata,\n",
    "              Column('id', Integer, primary_key=True),\n",
    "              Column('name', String),\n",
    "              Column('fullname', String)\n",
    "             )"
   ]
  },
  {
   "cell_type": "code",
   "execution_count": 10,
   "metadata": {},
   "outputs": [],
   "source": [
    "addresses = Table('addresses', metadata,\n",
    "                Column('id', Integer, primary_key=True),\n",
    "                Column('user_id', None, ForeignKey('users.id')),\n",
    "                Column('email_address', String, nullable=False)\n",
    "                )"
   ]
  },
  {
   "cell_type": "code",
   "execution_count": 11,
   "metadata": {},
   "outputs": [
    {
     "data": {
      "text/plain": [
       "immutabledict({'users': Table('users', MetaData(bind=None), Column('id', Integer(), table=<users>, primary_key=True, nullable=False), Column('name', String(), table=<users>), Column('fullname', String(), table=<users>), schema=None), 'addresses': Table('addresses', MetaData(bind=None), Column('id', Integer(), table=<addresses>, primary_key=True, nullable=False), Column('user_id', Integer(), ForeignKey('users.id'), table=<addresses>), Column('email_address', String(), table=<addresses>, nullable=False), schema=None)})"
      ]
     },
     "execution_count": 11,
     "metadata": {},
     "output_type": "execute_result"
    }
   ],
   "source": [
    "metadata.tables"
   ]
  },
  {
   "cell_type": "markdown",
   "metadata": {},
   "source": [
    "아직 DB에 생성되지 않았다. 메타데이터에만 등록. 수정 되지 않으므로 싹 날리고 새로 등록 해야한다."
   ]
  },
  {
   "cell_type": "code",
   "execution_count": 12,
   "metadata": {},
   "outputs": [],
   "source": [
    "metadata.bind"
   ]
  },
  {
   "cell_type": "code",
   "execution_count": 13,
   "metadata": {},
   "outputs": [
    {
     "name": "stdout",
     "output_type": "stream",
     "text": [
      "2019-07-09 11:19:38,984 INFO sqlalchemy.engine.base.Engine SELECT CAST('test plain returns' AS VARCHAR(60)) AS anon_1\n",
      "2019-07-09 11:19:38,985 INFO sqlalchemy.engine.base.Engine ()\n",
      "2019-07-09 11:19:38,987 INFO sqlalchemy.engine.base.Engine SELECT CAST('test unicode returns' AS VARCHAR(60)) AS anon_1\n",
      "2019-07-09 11:19:38,988 INFO sqlalchemy.engine.base.Engine ()\n",
      "2019-07-09 11:19:38,991 INFO sqlalchemy.engine.base.Engine PRAGMA table_info(\"users\")\n",
      "2019-07-09 11:19:38,994 INFO sqlalchemy.engine.base.Engine ()\n",
      "2019-07-09 11:19:38,996 INFO sqlalchemy.engine.base.Engine PRAGMA table_info(\"addresses\")\n",
      "2019-07-09 11:19:38,997 INFO sqlalchemy.engine.base.Engine ()\n",
      "2019-07-09 11:19:39,000 INFO sqlalchemy.engine.base.Engine \n",
      "CREATE TABLE users (\n",
      "\tid INTEGER NOT NULL, \n",
      "\tname VARCHAR, \n",
      "\tfullname VARCHAR, \n",
      "\tPRIMARY KEY (id)\n",
      ")\n",
      "\n",
      "\n",
      "2019-07-09 11:19:39,002 INFO sqlalchemy.engine.base.Engine ()\n",
      "2019-07-09 11:19:39,004 INFO sqlalchemy.engine.base.Engine COMMIT\n",
      "2019-07-09 11:19:39,007 INFO sqlalchemy.engine.base.Engine \n",
      "CREATE TABLE addresses (\n",
      "\tid INTEGER NOT NULL, \n",
      "\tuser_id INTEGER, \n",
      "\temail_address VARCHAR NOT NULL, \n",
      "\tPRIMARY KEY (id), \n",
      "\tFOREIGN KEY(user_id) REFERENCES users (id)\n",
      ")\n",
      "\n",
      "\n",
      "2019-07-09 11:19:39,008 INFO sqlalchemy.engine.base.Engine ()\n",
      "2019-07-09 11:19:39,010 INFO sqlalchemy.engine.base.Engine COMMIT\n"
     ]
    }
   ],
   "source": [
    "metadata.create_all(engine)"
   ]
  },
  {
   "cell_type": "code",
   "execution_count": 15,
   "metadata": {},
   "outputs": [],
   "source": [
    "insert = users.insert()"
   ]
  },
  {
   "cell_type": "markdown",
   "metadata": {},
   "source": [
    "어떤 쿼리인지 알아보기 위해 찍어본다"
   ]
  },
  {
   "cell_type": "code",
   "execution_count": 16,
   "metadata": {},
   "outputs": [
    {
     "name": "stdout",
     "output_type": "stream",
     "text": [
      "INSERT INTO users (id, name, fullname) VALUES (:id, :name, :fullname)\n"
     ]
    }
   ],
   "source": [
    "print(insert)"
   ]
  },
  {
   "cell_type": "code",
   "execution_count": 17,
   "metadata": {},
   "outputs": [
    {
     "name": "stdout",
     "output_type": "stream",
     "text": [
      "INSERT INTO users (name, fullname) VALUES (:name, :fullname)\n"
     ]
    },
    {
     "data": {
      "text/plain": [
       "{'name': 'kim', 'fullname': 'Anonymous, Kim'}"
      ]
     },
     "execution_count": 17,
     "metadata": {},
     "output_type": "execute_result"
    }
   ],
   "source": [
    "insert = users.insert().values(name='kim', fullname='Anonymous, Kim')\n",
    "print(insert)\n",
    "insert.compile().params"
   ]
  },
  {
   "cell_type": "markdown",
   "metadata": {},
   "source": [
    "db에 연결하기 위해서는 connection해야 한다.\n",
    "- proxy가 cursor 역할을 한다.\n",
    "- engine으로 proxy를 얻어온다."
   ]
  },
  {
   "cell_type": "code",
   "execution_count": 26,
   "metadata": {},
   "outputs": [],
   "source": [
    "conn = engine.connect()"
   ]
  },
  {
   "cell_type": "code",
   "execution_count": 27,
   "metadata": {},
   "outputs": [
    {
     "data": {
      "text/plain": [
       "<sqlalchemy.engine.base.Connection at 0x2a50f1d2630>"
      ]
     },
     "execution_count": 27,
     "metadata": {},
     "output_type": "execute_result"
    }
   ],
   "source": [
    "conn"
   ]
  },
  {
   "cell_type": "code",
   "execution_count": 28,
   "metadata": {},
   "outputs": [],
   "source": [
    "insert.bind = engine"
   ]
  },
  {
   "cell_type": "code",
   "execution_count": 23,
   "metadata": {},
   "outputs": [
    {
     "ename": "NameError",
     "evalue": "name 'insert' is not defined",
     "output_type": "error",
     "traceback": [
      "\u001b[1;31m---------------------------------------------------------------------------\u001b[0m",
      "\u001b[1;31mNameError\u001b[0m                                 Traceback (most recent call last)",
      "\u001b[1;32m<ipython-input-23-5278460bb62c>\u001b[0m in \u001b[0;36m<module>\u001b[1;34m\u001b[0m\n\u001b[1;32m----> 1\u001b[1;33m \u001b[0mtype\u001b[0m\u001b[1;33m(\u001b[0m\u001b[0minsert\u001b[0m\u001b[1;33m)\u001b[0m\u001b[1;33m\u001b[0m\u001b[1;33m\u001b[0m\u001b[0m\n\u001b[0m",
      "\u001b[1;31mNameError\u001b[0m: name 'insert' is not defined"
     ]
    }
   ],
   "source": [
    "type(insert)"
   ]
  },
  {
   "cell_type": "code",
   "execution_count": 29,
   "metadata": {
    "scrolled": true
   },
   "outputs": [
    {
     "data": {
      "text/plain": [
       "'INSERT INTO users (name, fullname) VALUES (?, ?)'"
      ]
     },
     "execution_count": 29,
     "metadata": {},
     "output_type": "execute_result"
    }
   ],
   "source": [
    "str(insert)"
   ]
  },
  {
   "cell_type": "code",
   "execution_count": 30,
   "metadata": {},
   "outputs": [
    {
     "name": "stdout",
     "output_type": "stream",
     "text": [
      "2019-07-09 11:31:22,751 INFO sqlalchemy.engine.base.Engine INSERT INTO users (name, fullname) VALUES (?, ?)\n",
      "2019-07-09 11:31:22,753 INFO sqlalchemy.engine.base.Engine ('kim', 'Anonymous, Kim')\n",
      "2019-07-09 11:31:22,755 INFO sqlalchemy.engine.base.Engine COMMIT\n"
     ]
    }
   ],
   "source": [
    "result = conn.execute(insert)"
   ]
  },
  {
   "cell_type": "markdown",
   "metadata": {},
   "source": [
    "제일 최근에 추가된 primary_key 값을 받아온다."
   ]
  },
  {
   "cell_type": "code",
   "execution_count": 31,
   "metadata": {
    "scrolled": true
   },
   "outputs": [
    {
     "data": {
      "text/plain": [
       "[1]"
      ]
     },
     "execution_count": 31,
     "metadata": {},
     "output_type": "execute_result"
    }
   ],
   "source": [
    "result.inserted_primary_key"
   ]
  },
  {
   "cell_type": "code",
   "execution_count": 32,
   "metadata": {},
   "outputs": [
    {
     "name": "stdout",
     "output_type": "stream",
     "text": [
      "2019-07-09 11:32:51,463 INFO sqlalchemy.engine.base.Engine INSERT INTO users (name, fullname) VALUES (?, ?)\n",
      "2019-07-09 11:32:51,465 INFO sqlalchemy.engine.base.Engine ('Lee', 'Unknown, Lee')\n",
      "2019-07-09 11:32:51,466 INFO sqlalchemy.engine.base.Engine COMMIT\n"
     ]
    },
    {
     "data": {
      "text/plain": [
       "[2]"
      ]
     },
     "execution_count": 32,
     "metadata": {},
     "output_type": "execute_result"
    }
   ],
   "source": [
    "insert = users.insert()\n",
    "\n",
    "result = conn.execute(insert, name='Lee', fullname='Unknown, Lee')\n",
    "\n",
    "result.inserted_primary_key"
   ]
  },
  {
   "cell_type": "code",
   "execution_count": 33,
   "metadata": {},
   "outputs": [
    {
     "name": "stdout",
     "output_type": "stream",
     "text": [
      "2019-07-09 11:36:11,701 INFO sqlalchemy.engine.base.Engine INSERT INTO users DEFAULT VALUES\n",
      "2019-07-09 11:36:11,702 INFO sqlalchemy.engine.base.Engine ()\n",
      "2019-07-09 11:36:11,704 INFO sqlalchemy.engine.base.Engine COMMIT\n"
     ]
    },
    {
     "data": {
      "text/plain": [
       "[3]"
      ]
     },
     "execution_count": 33,
     "metadata": {},
     "output_type": "execute_result"
    }
   ],
   "source": [
    "conn = engine.connect()\n",
    "insert.bind = engine\n",
    "str(insert)\n",
    "cur = conn.execute(insert)\n",
    "cur.inserted_primary_key"
   ]
  },
  {
   "cell_type": "code",
   "execution_count": 35,
   "metadata": {},
   "outputs": [
    {
     "name": "stdout",
     "output_type": "stream",
     "text": [
      "2019-07-09 11:37:01,158 INFO sqlalchemy.engine.base.Engine INSERT INTO users (name, fullname) VALUES (?, ?)\n",
      "2019-07-09 11:37:01,160 INFO sqlalchemy.engine.base.Engine ('lee', 'Unknown, Lee')\n",
      "2019-07-09 11:37:01,162 INFO sqlalchemy.engine.base.Engine COMMIT\n"
     ]
    },
    {
     "data": {
      "text/plain": [
       "[5]"
      ]
     },
     "execution_count": 35,
     "metadata": {},
     "output_type": "execute_result"
    }
   ],
   "source": [
    "insert = users.insert()\n",
    "result = conn.execute(insert,\n",
    "                     name = 'lee',\n",
    "                     fullname='Unknown, Lee')\n",
    "result.inserted_primary_key"
   ]
  },
  {
   "cell_type": "code",
   "execution_count": 36,
   "metadata": {},
   "outputs": [
    {
     "name": "stdout",
     "output_type": "stream",
     "text": [
      "2019-07-09 11:38:14,381 INFO sqlalchemy.engine.base.Engine INSERT INTO addresses (user_id, email_address) VALUES (?, ?)\n",
      "2019-07-09 11:38:14,382 INFO sqlalchemy.engine.base.Engine ((1, 'anonymous.kim@test.com'), (2, 'unknownl.lee@test.com'))\n",
      "2019-07-09 11:38:14,384 INFO sqlalchemy.engine.base.Engine COMMIT\n"
     ]
    },
    {
     "data": {
      "text/plain": [
       "<sqlalchemy.engine.result.ResultProxy at 0x2a50f1dee48>"
      ]
     },
     "execution_count": 36,
     "metadata": {},
     "output_type": "execute_result"
    }
   ],
   "source": [
    "conn.execute(addresses.insert(),[\n",
    "    {\"user_id\":1,\n",
    "    \"email_address\":\"anonymous.kim@test.com\"},\n",
    "    {\"user_id\":2,\n",
    "    \"email_address\":\"unknownl.lee@test.com\"}\n",
    "])"
   ]
  },
  {
   "cell_type": "code",
   "execution_count": 40,
   "metadata": {},
   "outputs": [],
   "source": [
    "from sqlalchemy.sql import select"
   ]
  },
  {
   "cell_type": "code",
   "execution_count": 42,
   "metadata": {},
   "outputs": [
    {
     "data": {
      "text/plain": [
       "[Table('users', MetaData(bind=None), Column('id', Integer(), table=<users>, primary_key=True, nullable=False), Column('name', String(), table=<users>), Column('fullname', String(), table=<users>), schema=None)]"
      ]
     },
     "execution_count": 42,
     "metadata": {},
     "output_type": "execute_result"
    }
   ],
   "source": [
    "[users]"
   ]
  },
  {
   "cell_type": "code",
   "execution_count": 45,
   "metadata": {},
   "outputs": [
    {
     "name": "stdout",
     "output_type": "stream",
     "text": [
      "2019-07-09 11:43:56,273 INFO sqlalchemy.engine.base.Engine SELECT users.id, users.name, users.fullname \n",
      "FROM users\n",
      "2019-07-09 11:43:56,275 INFO sqlalchemy.engine.base.Engine ()\n",
      "(1, 'kim', 'Anonymous, Kim')\n",
      "(2, 'Lee', 'Unknown, Lee')\n",
      "(3, None, None)\n",
      "(4, 'lee', 'Unknown, Lee')\n",
      "(5, 'lee', 'Unknown, Lee')\n"
     ]
    }
   ],
   "source": [
    "query = select([users])\n",
    "result = conn.execute(query)\n",
    "\n",
    "for row in result:\n",
    "    print(row)"
   ]
  },
  {
   "cell_type": "code",
   "execution_count": 50,
   "metadata": {},
   "outputs": [
    {
     "name": "stdout",
     "output_type": "stream",
     "text": [
      "2019-07-09 11:46:41,869 INFO sqlalchemy.engine.base.Engine SELECT users.name, users.fullname \n",
      "FROM users\n",
      "2019-07-09 11:46:41,871 INFO sqlalchemy.engine.base.Engine ()\n",
      "('kim', 'Anonymous, Kim')\n",
      "('Lee', 'Unknown, Lee')\n",
      "(None, None)\n",
      "('lee', 'Unknown, Lee')\n",
      "('lee', 'Unknown, Lee')\n"
     ]
    }
   ],
   "source": [
    "result = conn.execute(select([users.c.name, users.c.fullname]))\n",
    "\n",
    "for row in result:\n",
    "    print(row)"
   ]
  },
  {
   "cell_type": "code",
   "execution_count": 52,
   "metadata": {},
   "outputs": [
    {
     "name": "stdout",
     "output_type": "stream",
     "text": [
      "2019-07-09 11:47:45,941 INFO sqlalchemy.engine.base.Engine SELECT users.id, users.name, users.fullname \n",
      "FROM users\n",
      "2019-07-09 11:47:45,942 INFO sqlalchemy.engine.base.Engine ()\n"
     ]
    },
    {
     "data": {
      "text/plain": [
       "[(1, 'kim', 'Anonymous, Kim'),\n",
       " (2, 'Lee', 'Unknown, Lee'),\n",
       " (3, None, None),\n",
       " (4, 'lee', 'Unknown, Lee'),\n",
       " (5, 'lee', 'Unknown, Lee')]"
      ]
     },
     "execution_count": 52,
     "metadata": {},
     "output_type": "execute_result"
    }
   ],
   "source": [
    "cur = conn.execute(select([users]))\n",
    "cur.fetchall()"
   ]
  },
  {
   "cell_type": "code",
   "execution_count": 53,
   "metadata": {},
   "outputs": [],
   "source": [
    "from sqlalchemy import and_, or_, not_"
   ]
  },
  {
   "cell_type": "code",
   "execution_count": 54,
   "metadata": {},
   "outputs": [
    {
     "name": "stdout",
     "output_type": "stream",
     "text": [
      "users.id = addresses.user_id\n"
     ]
    }
   ],
   "source": [
    "print(users.c.id == addresses.c.user_id)"
   ]
  },
  {
   "cell_type": "code",
   "execution_count": 55,
   "metadata": {},
   "outputs": [
    {
     "name": "stdout",
     "output_type": "stream",
     "text": [
      "users.id = :id_1\n"
     ]
    }
   ],
   "source": [
    "print(users.c.id == 1)"
   ]
  },
  {
   "cell_type": "code",
   "execution_count": 56,
   "metadata": {},
   "outputs": [
    {
     "name": "stdout",
     "output_type": "stream",
     "text": [
      "{'id_1': 1}\n"
     ]
    }
   ],
   "source": [
    "print((users.c.id == 1).compile().params)"
   ]
  },
  {
   "cell_type": "code",
   "execution_count": 57,
   "metadata": {},
   "outputs": [
    {
     "name": "stdout",
     "output_type": "stream",
     "text": [
      "users.id = addresses.user_id OR users.id = :id_1\n"
     ]
    }
   ],
   "source": [
    "print(or_(users.c.id == \n",
    "         addresses.c.user_id, users.c.id == 1))"
   ]
  },
  {
   "cell_type": "code",
   "execution_count": 58,
   "metadata": {},
   "outputs": [
    {
     "name": "stdout",
     "output_type": "stream",
     "text": [
      "users.id = addresses.user_id AND users.id = :id_1\n"
     ]
    }
   ],
   "source": [
    "print(and_(users.c.id == \n",
    "          addresses.c.user_id, users.c.id == 1))"
   ]
  },
  {
   "cell_type": "code",
   "execution_count": 61,
   "metadata": {},
   "outputs": [
    {
     "name": "stdout",
     "output_type": "stream",
     "text": [
      "2019-07-09 13:16:27,273 INFO sqlalchemy.engine.base.Engine SELECT users.id, users.name, users.fullname \n",
      "FROM users \n",
      "WHERE users.id = ?\n",
      "2019-07-09 13:16:27,275 INFO sqlalchemy.engine.base.Engine (1,)\n"
     ]
    }
   ],
   "source": [
    "result = conn.execute(select([users]).where(users.c.id==1))"
   ]
  },
  {
   "cell_type": "code",
   "execution_count": 62,
   "metadata": {},
   "outputs": [
    {
     "name": "stdout",
     "output_type": "stream",
     "text": [
      "(1, 'kim', 'Anonymous, Kim')\n"
     ]
    }
   ],
   "source": [
    "for row in result:\n",
    "    print(row)"
   ]
  },
  {
   "cell_type": "markdown",
   "metadata": {},
   "source": [
    "cross join"
   ]
  },
  {
   "cell_type": "code",
   "execution_count": 63,
   "metadata": {},
   "outputs": [
    {
     "name": "stdout",
     "output_type": "stream",
     "text": [
      "2019-07-09 13:17:32,849 INFO sqlalchemy.engine.base.Engine SELECT users.id, users.name, users.fullname, addresses.id, addresses.user_id, addresses.email_address \n",
      "FROM users, addresses \n",
      "WHERE users.id = addresses.user_id\n",
      "2019-07-09 13:17:32,851 INFO sqlalchemy.engine.base.Engine ()\n"
     ]
    }
   ],
   "source": [
    "result  = conn.execute(select([users, addresses]).where(users.c.id == addresses.c.user_id))"
   ]
  },
  {
   "cell_type": "code",
   "execution_count": 65,
   "metadata": {},
   "outputs": [
    {
     "name": "stdout",
     "output_type": "stream",
     "text": [
      "(1, 'kim', 'Anonymous, Kim', 1, 1, 'anonymous.kim@test.com')\n",
      "(2, 'Lee', 'Unknown, Lee', 2, 2, 'unknownl.lee@test.com')\n"
     ]
    }
   ],
   "source": [
    "for row in result:\n",
    "    print(row)"
   ]
  },
  {
   "cell_type": "markdown",
   "metadata": {},
   "source": [
    "join"
   ]
  },
  {
   "cell_type": "code",
   "execution_count": 66,
   "metadata": {},
   "outputs": [],
   "source": [
    "from sqlalchemy import join"
   ]
  },
  {
   "cell_type": "markdown",
   "metadata": {},
   "source": [
    "다음 두 문장은 동일하게 실행된다.\n",
    "- foreign key를 설정했으므로 on절을 붙이지 않아도 실행 된다."
   ]
  },
  {
   "cell_type": "code",
   "execution_count": 67,
   "metadata": {},
   "outputs": [
    {
     "name": "stdout",
     "output_type": "stream",
     "text": [
      "users JOIN addresses ON users.id = addresses.user_id\n"
     ]
    }
   ],
   "source": [
    "print(users.join(addresses))"
   ]
  },
  {
   "cell_type": "code",
   "execution_count": 68,
   "metadata": {},
   "outputs": [
    {
     "name": "stdout",
     "output_type": "stream",
     "text": [
      "users JOIN addresses ON users.id = addresses.user_id\n"
     ]
    }
   ],
   "source": [
    "print(users.join(addresses, users.c.id == addresses.c.user_id))"
   ]
  },
  {
   "cell_type": "code",
   "execution_count": 73,
   "metadata": {},
   "outputs": [],
   "source": [
    "query = select([users.c.id, users.c.fullname, addresses.c.email_address]).select_from(users.join(addresses))"
   ]
  },
  {
   "cell_type": "code",
   "execution_count": 74,
   "metadata": {},
   "outputs": [
    {
     "name": "stdout",
     "output_type": "stream",
     "text": [
      "2019-07-09 13:25:47,717 INFO sqlalchemy.engine.base.Engine SELECT users.id, users.fullname, addresses.email_address \n",
      "FROM users JOIN addresses ON users.id = addresses.user_id\n",
      "2019-07-09 13:25:47,719 INFO sqlalchemy.engine.base.Engine ()\n"
     ]
    }
   ],
   "source": [
    "result = conn.execute(query).fetchall()"
   ]
  },
  {
   "cell_type": "code",
   "execution_count": 75,
   "metadata": {},
   "outputs": [
    {
     "name": "stdout",
     "output_type": "stream",
     "text": [
      "(1, 'Anonymous, Kim', 'anonymous.kim@test.com')\n",
      "(2, 'Unknown, Lee', 'unknownl.lee@test.com')\n"
     ]
    }
   ],
   "source": [
    "for row in result:\n",
    "    print(row)"
   ]
  },
  {
   "cell_type": "markdown",
   "metadata": {},
   "source": [
    "예제"
   ]
  },
  {
   "cell_type": "markdown",
   "metadata": {},
   "source": [
    "metadata.clear()"
   ]
  },
  {
   "cell_type": "code",
   "execution_count": 2,
   "metadata": {},
   "outputs": [],
   "source": [
    "import sqlalchemy"
   ]
  },
  {
   "cell_type": "code",
   "execution_count": 2,
   "metadata": {},
   "outputs": [],
   "source": [
    "from sqlalchemy import Table, Column, Integer, String, MetaData, ForeignKey, create_engine"
   ]
  },
  {
   "cell_type": "code",
   "execution_count": 4,
   "metadata": {},
   "outputs": [],
   "source": [
    "engine = create_engine(\"sqlite:///:memory:\", echo=True)"
   ]
  },
  {
   "cell_type": "code",
   "execution_count": 7,
   "metadata": {},
   "outputs": [],
   "source": [
    "metadata = MetaData()"
   ]
  },
  {
   "cell_type": "code",
   "execution_count": 8,
   "metadata": {},
   "outputs": [],
   "source": [
    "artist = Table(\"Artist\", metadata,\n",
    "               Column(\"id\", Integer, primary_key=True),\n",
    "               Column(\"name\", String, nullable=False),\n",
    "               extend_existing=True\n",
    "              )\n",
    "\n",
    "album = Table(\"Album\", metadata,\n",
    "            Column(\"id\", Integer, primary_key=True),\n",
    "             Column(\"title\", String, nullable=False),\n",
    "              Column(\"artist_id\", Integer, ForeignKey(\"Artist.id\")),\n",
    "              extend_existing=True\n",
    "             )\n",
    "\n",
    "genre = Table(\"Genre\", metadata,\n",
    "             Column(\"id\", Integer, primary_key=True),\n",
    "              Column(\"name\", String, nullable=False),\n",
    "              extend_existing=True\n",
    "             )\n",
    "\n",
    "track = Table(\"Track\", metadata,\n",
    "             Column(\"id\", Integer, primary_key = True),\n",
    "             Column(\"title\", String, nullable=False),\n",
    "              Column(\"length\", Integer, nullable=False),\n",
    "              Column(\"rating\", Integer, nullable=False),\n",
    "              Column(\"count\", Integer, nullable=False),\n",
    "              Column(\"album_id\", Integer, ForeignKey(\"Album.id\")),\n",
    "              Column(\"genre_id\", Integer, ForeignKey(\"Genre.id\")),\n",
    "              extend_existing=True\n",
    "             )\n"
   ]
  },
  {
   "cell_type": "markdown",
   "metadata": {},
   "source": [
    "engine과 binding해서 db에 메타데이터 생성되어있는 것을 작업해라!"
   ]
  },
  {
   "cell_type": "code",
   "execution_count": 9,
   "metadata": {
    "collapsed": true
   },
   "outputs": [
    {
     "name": "stdout",
     "output_type": "stream",
     "text": [
      "2019-07-09 13:40:32,900 INFO sqlalchemy.engine.base.Engine SELECT CAST('test plain returns' AS VARCHAR(60)) AS anon_1\n",
      "2019-07-09 13:40:32,927 INFO sqlalchemy.engine.base.Engine ()\n",
      "2019-07-09 13:40:32,929 INFO sqlalchemy.engine.base.Engine SELECT CAST('test unicode returns' AS VARCHAR(60)) AS anon_1\n",
      "2019-07-09 13:40:32,930 INFO sqlalchemy.engine.base.Engine ()\n",
      "2019-07-09 13:40:32,932 INFO sqlalchemy.engine.base.Engine PRAGMA table_info(\"Artist\")\n",
      "2019-07-09 13:40:32,933 INFO sqlalchemy.engine.base.Engine ()\n",
      "2019-07-09 13:40:32,935 INFO sqlalchemy.engine.base.Engine PRAGMA table_info(\"Album\")\n",
      "2019-07-09 13:40:32,937 INFO sqlalchemy.engine.base.Engine ()\n",
      "2019-07-09 13:40:32,938 INFO sqlalchemy.engine.base.Engine PRAGMA table_info(\"Genre\")\n",
      "2019-07-09 13:40:32,939 INFO sqlalchemy.engine.base.Engine ()\n",
      "2019-07-09 13:40:32,941 INFO sqlalchemy.engine.base.Engine PRAGMA table_info(\"Track\")\n",
      "2019-07-09 13:40:32,942 INFO sqlalchemy.engine.base.Engine ()\n",
      "2019-07-09 13:40:32,944 INFO sqlalchemy.engine.base.Engine \n",
      "CREATE TABLE \"Artist\" (\n",
      "\tid INTEGER NOT NULL, \n",
      "\tname VARCHAR NOT NULL, \n",
      "\tPRIMARY KEY (id)\n",
      ")\n",
      "\n",
      "\n",
      "2019-07-09 13:40:32,945 INFO sqlalchemy.engine.base.Engine ()\n",
      "2019-07-09 13:40:32,947 INFO sqlalchemy.engine.base.Engine COMMIT\n",
      "2019-07-09 13:40:32,949 INFO sqlalchemy.engine.base.Engine \n",
      "CREATE TABLE \"Genre\" (\n",
      "\tid INTEGER NOT NULL, \n",
      "\tname VARCHAR NOT NULL, \n",
      "\tPRIMARY KEY (id)\n",
      ")\n",
      "\n",
      "\n",
      "2019-07-09 13:40:32,950 INFO sqlalchemy.engine.base.Engine ()\n",
      "2019-07-09 13:40:32,952 INFO sqlalchemy.engine.base.Engine COMMIT\n",
      "2019-07-09 13:40:32,953 INFO sqlalchemy.engine.base.Engine \n",
      "CREATE TABLE \"Album\" (\n",
      "\tid INTEGER NOT NULL, \n",
      "\ttitle VARCHAR NOT NULL, \n",
      "\tartist_id INTEGER, \n",
      "\tPRIMARY KEY (id), \n",
      "\tFOREIGN KEY(artist_id) REFERENCES \"Artist\" (id)\n",
      ")\n",
      "\n",
      "\n",
      "2019-07-09 13:40:32,955 INFO sqlalchemy.engine.base.Engine ()\n",
      "2019-07-09 13:40:32,956 INFO sqlalchemy.engine.base.Engine COMMIT\n",
      "2019-07-09 13:40:32,959 INFO sqlalchemy.engine.base.Engine \n",
      "CREATE TABLE \"Track\" (\n",
      "\tid INTEGER NOT NULL, \n",
      "\ttitle VARCHAR NOT NULL, \n",
      "\tlength INTEGER NOT NULL, \n",
      "\trating INTEGER NOT NULL, \n",
      "\tcount INTEGER NOT NULL, \n",
      "\talbum_id INTEGER, \n",
      "\tgenre_id INTEGER, \n",
      "\tPRIMARY KEY (id), \n",
      "\tFOREIGN KEY(album_id) REFERENCES \"Album\" (id), \n",
      "\tFOREIGN KEY(genre_id) REFERENCES \"Genre\" (id)\n",
      ")\n",
      "\n",
      "\n",
      "2019-07-09 13:40:32,960 INFO sqlalchemy.engine.base.Engine ()\n",
      "2019-07-09 13:40:32,963 INFO sqlalchemy.engine.base.Engine COMMIT\n"
     ]
    }
   ],
   "source": [
    "metadata.create_all(engine)"
   ]
  },
  {
   "cell_type": "markdown",
   "metadata": {},
   "source": [
    "메모리에 있는 테이블"
   ]
  },
  {
   "cell_type": "code",
   "execution_count": 12,
   "metadata": {},
   "outputs": [],
   "source": [
    "tables = metadata.tables"
   ]
  },
  {
   "cell_type": "code",
   "execution_count": 14,
   "metadata": {},
   "outputs": [
    {
     "name": "stdout",
     "output_type": "stream",
     "text": [
      "Artist\n",
      "Album\n",
      "Genre\n",
      "Track\n"
     ]
    }
   ],
   "source": [
    "for table in tables:\n",
    "    print(table)"
   ]
  },
  {
   "cell_type": "markdown",
   "metadata": {},
   "source": [
    "데이터베이스에 있는 테이블"
   ]
  },
  {
   "cell_type": "code",
   "execution_count": 15,
   "metadata": {},
   "outputs": [
    {
     "name": "stdout",
     "output_type": "stream",
     "text": [
      "2019-07-09 13:44:08,462 INFO sqlalchemy.engine.base.Engine SELECT name FROM sqlite_master WHERE type='table' ORDER BY name\n",
      "2019-07-09 13:44:08,464 INFO sqlalchemy.engine.base.Engine ()\n",
      "Album\n",
      "Artist\n",
      "Genre\n",
      "Track\n"
     ]
    }
   ],
   "source": [
    "for table in engine.table_names():\n",
    "    print(table)"
   ]
  },
  {
   "cell_type": "markdown",
   "metadata": {},
   "source": [
    "engine과 연결"
   ]
  },
  {
   "cell_type": "code",
   "execution_count": 17,
   "metadata": {},
   "outputs": [],
   "source": [
    "conn = engine.connect()"
   ]
  },
  {
   "cell_type": "code",
   "execution_count": 18,
   "metadata": {},
   "outputs": [
    {
     "name": "stdout",
     "output_type": "stream",
     "text": [
      "2019-07-09 13:45:22,330 INFO sqlalchemy.engine.base.Engine INSERT INTO \"Artist\" (name) VALUES (?)\n",
      "2019-07-09 13:45:22,332 INFO sqlalchemy.engine.base.Engine (('Led Zepplin',), ('AC/DC',))\n",
      "2019-07-09 13:45:22,334 INFO sqlalchemy.engine.base.Engine COMMIT\n"
     ]
    },
    {
     "data": {
      "text/plain": [
       "<sqlalchemy.engine.result.ResultProxy at 0x1f440fa12b0>"
      ]
     },
     "execution_count": 18,
     "metadata": {},
     "output_type": "execute_result"
    }
   ],
   "source": [
    "conn.execute(artist.insert(),[\n",
    "    {\"name\":\"Led Zepplin\"},\n",
    "    {\"name\":\"AC/DC\"}\n",
    "])"
   ]
  },
  {
   "cell_type": "code",
   "execution_count": 19,
   "metadata": {},
   "outputs": [
    {
     "name": "stdout",
     "output_type": "stream",
     "text": [
      "2019-07-09 13:46:34,139 INFO sqlalchemy.engine.base.Engine INSERT INTO \"Album\" (title, artist_id) VALUES (?, ?)\n",
      "2019-07-09 13:46:34,141 INFO sqlalchemy.engine.base.Engine (('IV', 1), ('Who Made Who', 2))\n",
      "2019-07-09 13:46:34,142 INFO sqlalchemy.engine.base.Engine COMMIT\n"
     ]
    },
    {
     "data": {
      "text/plain": [
       "<sqlalchemy.engine.result.ResultProxy at 0x1f440f6e6d8>"
      ]
     },
     "execution_count": 19,
     "metadata": {},
     "output_type": "execute_result"
    }
   ],
   "source": [
    "conn.execute(album.insert(), [\n",
    "    {\"title\":\"IV\", \"artist_id\":1},\n",
    "    {\"title\":\"Who Made Who\", \"artist_id\":2}])"
   ]
  },
  {
   "cell_type": "code",
   "execution_count": 21,
   "metadata": {},
   "outputs": [
    {
     "name": "stdout",
     "output_type": "stream",
     "text": [
      "2019-07-09 13:47:09,902 INFO sqlalchemy.engine.base.Engine INSERT INTO \"Genre\" (name) VALUES (?)\n",
      "2019-07-09 13:47:09,903 INFO sqlalchemy.engine.base.Engine (('Rock',), ('Meetal',))\n",
      "2019-07-09 13:47:09,905 INFO sqlalchemy.engine.base.Engine COMMIT\n"
     ]
    },
    {
     "data": {
      "text/plain": [
       "<sqlalchemy.engine.result.ResultProxy at 0x1f441511e10>"
      ]
     },
     "execution_count": 21,
     "metadata": {},
     "output_type": "execute_result"
    }
   ],
   "source": [
    "conn.execute(genre.insert(),[\n",
    "    {\"name\":\"Rock\"},\n",
    "    {\"name\":\"Meetal\"}\n",
    "])"
   ]
  },
  {
   "cell_type": "code",
   "execution_count": 22,
   "metadata": {},
   "outputs": [
    {
     "name": "stdout",
     "output_type": "stream",
     "text": [
      "2019-07-09 13:49:09,575 INFO sqlalchemy.engine.base.Engine INSERT INTO \"Track\" (title, length, rating, count, album_id, genre_id) VALUES (?, ?, ?, ?, ?, ?)\n",
      "2019-07-09 13:49:09,577 INFO sqlalchemy.engine.base.Engine (('Black Dog', 297, 5, 0, 1, 1), ('Stairway', 482, 5, 0, 1, 1), ('About to rock', 313, 5, 0, 2, 2), ('Who Made Who', 297, 5, 0, 2, 2))\n",
      "2019-07-09 13:49:09,579 INFO sqlalchemy.engine.base.Engine COMMIT\n"
     ]
    },
    {
     "data": {
      "text/plain": [
       "<sqlalchemy.engine.result.ResultProxy at 0x1f440fa8550>"
      ]
     },
     "execution_count": 22,
     "metadata": {},
     "output_type": "execute_result"
    }
   ],
   "source": [
    "conn.execute(track.insert(),[\n",
    "    {\"title\":\"Black Dog\", \"rating\":5, \"length\":297, \"count\":0, \"album_id\":1, \"genre_id\":1},\n",
    "    {\"title\":\"Stairway\", \"rating\":5, \"length\":482, \"count\":0, \"album_id\":1, \"genre_id\":1},\n",
    "    {\"title\":\"About to rock\", \"rating\":5, \"length\":313, \"count\":0, \"album_id\":2, \"genre_id\":2},\n",
    "    {\"title\":\"Who Made Who\", \"rating\":5, \"length\":297, \"count\":0, \"album_id\":2, \"genre_id\":2}\n",
    "])"
   ]
  },
  {
   "cell_type": "code",
   "execution_count": 25,
   "metadata": {},
   "outputs": [
    {
     "name": "stdout",
     "output_type": "stream",
     "text": [
      "\"Track\" JOIN \"Album\" ON \"Album\".id = \"Track\".album_id\n"
     ]
    }
   ],
   "source": [
    "print(track.join(album))"
   ]
  },
  {
   "cell_type": "code",
   "execution_count": 28,
   "metadata": {},
   "outputs": [
    {
     "name": "stdout",
     "output_type": "stream",
     "text": [
      "2019-07-09 14:13:07,039 INFO sqlalchemy.engine.base.Engine SELECT \"Track\".id, \"Track\".title, \"Track\".length, \"Track\".rating, \"Track\".count, \"Track\".album_id, \"Track\".genre_id \n",
      "FROM \"Track\" JOIN \"Album\" ON \"Album\".id = \"Track\".album_id \n",
      "WHERE \"Album\".id = ?\n",
      "2019-07-09 14:13:07,041 INFO sqlalchemy.engine.base.Engine (1,)\n"
     ]
    }
   ],
   "source": [
    "result = conn.execute(track\n",
    "                     .select()\n",
    "                     .select_from(track.join(album))\n",
    "                     .where(album.c.id==1))"
   ]
  },
  {
   "cell_type": "code",
   "execution_count": 29,
   "metadata": {},
   "outputs": [
    {
     "name": "stdout",
     "output_type": "stream",
     "text": [
      "(1, 'Black Dog', 297, 5, 0, 1, 1)\n",
      "(2, 'Stairway', 482, 5, 0, 1, 1)\n"
     ]
    }
   ],
   "source": [
    "for row in result.fetchall():\n",
    "    print(row)"
   ]
  },
  {
   "cell_type": "code",
   "execution_count": 30,
   "metadata": {},
   "outputs": [
    {
     "name": "stdout",
     "output_type": "stream",
     "text": [
      "\"Track\" JOIN \"Album\" ON \"Album\".id = \"Track\".album_id\n"
     ]
    }
   ],
   "source": [
    "print(track.join(album))"
   ]
  },
  {
   "cell_type": "code",
   "execution_count": 31,
   "metadata": {},
   "outputs": [
    {
     "name": "stdout",
     "output_type": "stream",
     "text": [
      "\"Track\" JOIN \"Album\" ON \"Album\".id = \"Track\".album_id JOIN \"Genre\" ON \"Genre\".id = \"Track\".genre_id\n"
     ]
    }
   ],
   "source": [
    "print(track.join(album).join(genre))"
   ]
  },
  {
   "cell_type": "code",
   "execution_count": 32,
   "metadata": {},
   "outputs": [
    {
     "name": "stdout",
     "output_type": "stream",
     "text": [
      "\"Track\" JOIN \"Album\" ON \"Album\".id = \"Track\".album_id JOIN \"Artist\" ON \"Artist\".id = \"Album\".artist_id\n"
     ]
    }
   ],
   "source": [
    "print(track.join(album).join(artist))"
   ]
  },
  {
   "cell_type": "code",
   "execution_count": 33,
   "metadata": {},
   "outputs": [
    {
     "name": "stdout",
     "output_type": "stream",
     "text": [
      "\"Track\" JOIN \"Album\" ON \"Album\".id = \"Track\".album_id JOIN \"Genre\" ON \"Genre\".id = \"Track\".genre_id JOIN \"Artist\" ON \"Artist\".id = \"Album\".artist_id\n"
     ]
    }
   ],
   "source": [
    "print(track.join(album).join(genre).join(artist))"
   ]
  },
  {
   "cell_type": "code",
   "execution_count": 41,
   "metadata": {},
   "outputs": [
    {
     "ename": "ArgumentError",
     "evalue": "SQL expression object expected, got object of type <class 'list'> instead",
     "output_type": "error",
     "traceback": [
      "\u001b[1;31m---------------------------------------------------------------------------\u001b[0m",
      "\u001b[1;31mArgumentError\u001b[0m                             Traceback (most recent call last)",
      "\u001b[1;32m<ipython-input-41-6a7b70196ed3>\u001b[0m in \u001b[0;36m<module>\u001b[1;34m\u001b[0m\n\u001b[1;32m----> 1\u001b[1;33m result = conn.execute(track.select([track.c.title, album.c.title, genre.c.name, artist.c.name])\n\u001b[0m\u001b[0;32m      2\u001b[0m                       .select_from(track.join(album).join(genre).join(artist)))\n",
      "\u001b[1;32mC:\\Anaconda\\Anaconda3\\lib\\site-packages\\sqlalchemy\\sql\\selectable.py\u001b[0m in \u001b[0;36mselect\u001b[1;34m(self, whereclause, **params)\u001b[0m\n\u001b[0;32m    329\u001b[0m         \"\"\"\n\u001b[0;32m    330\u001b[0m \u001b[1;33m\u001b[0m\u001b[0m\n\u001b[1;32m--> 331\u001b[1;33m         \u001b[1;32mreturn\u001b[0m \u001b[0mSelect\u001b[0m\u001b[1;33m(\u001b[0m\u001b[1;33m[\u001b[0m\u001b[0mself\u001b[0m\u001b[1;33m]\u001b[0m\u001b[1;33m,\u001b[0m \u001b[0mwhereclause\u001b[0m\u001b[1;33m,\u001b[0m \u001b[1;33m**\u001b[0m\u001b[0mparams\u001b[0m\u001b[1;33m)\u001b[0m\u001b[1;33m\u001b[0m\u001b[1;33m\u001b[0m\u001b[0m\n\u001b[0m\u001b[0;32m    332\u001b[0m \u001b[1;33m\u001b[0m\u001b[0m\n\u001b[0;32m    333\u001b[0m     \u001b[1;32mdef\u001b[0m \u001b[0mjoin\u001b[0m\u001b[1;33m(\u001b[0m\u001b[0mself\u001b[0m\u001b[1;33m,\u001b[0m \u001b[0mright\u001b[0m\u001b[1;33m,\u001b[0m \u001b[0monclause\u001b[0m\u001b[1;33m=\u001b[0m\u001b[1;32mNone\u001b[0m\u001b[1;33m,\u001b[0m \u001b[0misouter\u001b[0m\u001b[1;33m=\u001b[0m\u001b[1;32mFalse\u001b[0m\u001b[1;33m,\u001b[0m \u001b[0mfull\u001b[0m\u001b[1;33m=\u001b[0m\u001b[1;32mFalse\u001b[0m\u001b[1;33m)\u001b[0m\u001b[1;33m:\u001b[0m\u001b[1;33m\u001b[0m\u001b[1;33m\u001b[0m\u001b[0m\n",
      "\u001b[1;32m<string>\u001b[0m in \u001b[0;36m__init__\u001b[1;34m(self, columns, whereclause, from_obj, distinct, having, correlate, prefixes, suffixes, **kwargs)\u001b[0m\n",
      "\u001b[1;32mC:\\Anaconda\\Anaconda3\\lib\\site-packages\\sqlalchemy\\util\\deprecations.py\u001b[0m in \u001b[0;36mwarned\u001b[1;34m(fn, *args, **kwargs)\u001b[0m\n\u001b[0;32m    128\u001b[0m                     )\n\u001b[0;32m    129\u001b[0m \u001b[1;33m\u001b[0m\u001b[0m\n\u001b[1;32m--> 130\u001b[1;33m             \u001b[1;32mreturn\u001b[0m \u001b[0mfn\u001b[0m\u001b[1;33m(\u001b[0m\u001b[1;33m*\u001b[0m\u001b[0margs\u001b[0m\u001b[1;33m,\u001b[0m \u001b[1;33m**\u001b[0m\u001b[0mkwargs\u001b[0m\u001b[1;33m)\u001b[0m\u001b[1;33m\u001b[0m\u001b[1;33m\u001b[0m\u001b[0m\n\u001b[0m\u001b[0;32m    131\u001b[0m \u001b[1;33m\u001b[0m\u001b[0m\n\u001b[0;32m    132\u001b[0m         \u001b[0mdoc\u001b[0m \u001b[1;33m=\u001b[0m \u001b[0mfn\u001b[0m\u001b[1;33m.\u001b[0m\u001b[0m__doc__\u001b[0m \u001b[1;32mis\u001b[0m \u001b[1;32mnot\u001b[0m \u001b[1;32mNone\u001b[0m \u001b[1;32mand\u001b[0m \u001b[0mfn\u001b[0m\u001b[1;33m.\u001b[0m\u001b[0m__doc__\u001b[0m \u001b[1;32mor\u001b[0m \u001b[1;34m\"\"\u001b[0m\u001b[1;33m\u001b[0m\u001b[1;33m\u001b[0m\u001b[0m\n",
      "\u001b[1;32mC:\\Anaconda\\Anaconda3\\lib\\site-packages\\sqlalchemy\\sql\\selectable.py\u001b[0m in \u001b[0;36m__init__\u001b[1;34m(self, columns, whereclause, from_obj, distinct, having, correlate, prefixes, suffixes, **kwargs)\u001b[0m\n\u001b[0;32m   2940\u001b[0m \u001b[1;33m\u001b[0m\u001b[0m\n\u001b[0;32m   2941\u001b[0m         \u001b[1;32mif\u001b[0m \u001b[0mwhereclause\u001b[0m \u001b[1;32mis\u001b[0m \u001b[1;32mnot\u001b[0m \u001b[1;32mNone\u001b[0m\u001b[1;33m:\u001b[0m\u001b[1;33m\u001b[0m\u001b[1;33m\u001b[0m\u001b[0m\n\u001b[1;32m-> 2942\u001b[1;33m             self._whereclause = _literal_as_text(whereclause).self_group(\n\u001b[0m\u001b[0;32m   2943\u001b[0m                 \u001b[0magainst\u001b[0m\u001b[1;33m=\u001b[0m\u001b[0moperators\u001b[0m\u001b[1;33m.\u001b[0m\u001b[0m_asbool\u001b[0m\u001b[1;33m\u001b[0m\u001b[1;33m\u001b[0m\u001b[0m\n\u001b[0;32m   2944\u001b[0m             )\n",
      "\u001b[1;32mC:\\Anaconda\\Anaconda3\\lib\\site-packages\\sqlalchemy\\sql\\elements.py\u001b[0m in \u001b[0;36m_literal_as_text\u001b[1;34m(element, allow_coercion_to_text)\u001b[0m\n\u001b[0;32m   4481\u001b[0m         \u001b[1;32mreturn\u001b[0m \u001b[0m_literal_as\u001b[0m\u001b[1;33m(\u001b[0m\u001b[0melement\u001b[0m\u001b[1;33m,\u001b[0m \u001b[0mTextClause\u001b[0m\u001b[1;33m)\u001b[0m\u001b[1;33m\u001b[0m\u001b[1;33m\u001b[0m\u001b[0m\n\u001b[0;32m   4482\u001b[0m     \u001b[1;32melse\u001b[0m\u001b[1;33m:\u001b[0m\u001b[1;33m\u001b[0m\u001b[1;33m\u001b[0m\u001b[0m\n\u001b[1;32m-> 4483\u001b[1;33m         \u001b[1;32mreturn\u001b[0m \u001b[0m_literal_as\u001b[0m\u001b[1;33m(\u001b[0m\u001b[0melement\u001b[0m\u001b[1;33m,\u001b[0m \u001b[0m_no_text_coercion\u001b[0m\u001b[1;33m)\u001b[0m\u001b[1;33m\u001b[0m\u001b[1;33m\u001b[0m\u001b[0m\n\u001b[0m\u001b[0;32m   4484\u001b[0m \u001b[1;33m\u001b[0m\u001b[0m\n\u001b[0;32m   4485\u001b[0m \u001b[1;33m\u001b[0m\u001b[0m\n",
      "\u001b[1;32mC:\\Anaconda\\Anaconda3\\lib\\site-packages\\sqlalchemy\\sql\\elements.py\u001b[0m in \u001b[0;36m_literal_as\u001b[1;34m(element, text_fallback)\u001b[0m\n\u001b[0;32m   4473\u001b[0m         raise exc.ArgumentError(\n\u001b[0;32m   4474\u001b[0m             \u001b[1;34m\"SQL expression object expected, got object of type %r \"\u001b[0m\u001b[1;33m\u001b[0m\u001b[1;33m\u001b[0m\u001b[0m\n\u001b[1;32m-> 4475\u001b[1;33m             \u001b[1;34m\"instead\"\u001b[0m \u001b[1;33m%\u001b[0m \u001b[0mtype\u001b[0m\u001b[1;33m(\u001b[0m\u001b[0melement\u001b[0m\u001b[1;33m)\u001b[0m\u001b[1;33m\u001b[0m\u001b[1;33m\u001b[0m\u001b[0m\n\u001b[0m\u001b[0;32m   4476\u001b[0m         )\n\u001b[0;32m   4477\u001b[0m \u001b[1;33m\u001b[0m\u001b[0m\n",
      "\u001b[1;31mArgumentError\u001b[0m: SQL expression object expected, got object of type <class 'list'> instead"
     ]
    }
   ],
   "source": [
    "result = conn.execute(track.select([track.c.title, album.c.title, genre.c.name, artist.c.name])\n",
    "                      .select_from(track.join(album).join(genre).join(artist)))"
   ]
  },
  {
   "cell_type": "code",
   "execution_count": 42,
   "metadata": {},
   "outputs": [],
   "source": [
    "conn.close()\n",
    "metadata.clear()"
   ]
  },
  {
   "cell_type": "code",
   "execution_count": 43,
   "metadata": {},
   "outputs": [
    {
     "data": {
      "text/plain": [
       "<sqlalchemy.engine.base.Connection at 0x1f440ff8940>"
      ]
     },
     "execution_count": 43,
     "metadata": {},
     "output_type": "execute_result"
    }
   ],
   "source": [
    "conn"
   ]
  },
  {
   "cell_type": "code",
   "execution_count": 44,
   "metadata": {},
   "outputs": [
    {
     "data": {
      "text/plain": [
       "MetaData(bind=None)"
      ]
     },
     "execution_count": 44,
     "metadata": {},
     "output_type": "execute_result"
    }
   ],
   "source": [
    "metadata"
   ]
  },
  {
   "cell_type": "code",
   "execution_count": 45,
   "metadata": {},
   "outputs": [],
   "source": [
    "for table in metadata.tables:\n",
    "    print(table)"
   ]
  },
  {
   "cell_type": "code",
   "execution_count": 47,
   "metadata": {},
   "outputs": [
    {
     "name": "stdout",
     "output_type": "stream",
     "text": [
      "2019-07-09 14:21:23,428 INFO sqlalchemy.engine.base.Engine SELECT name FROM sqlite_master WHERE type='table' ORDER BY name\n",
      "2019-07-09 14:21:23,430 INFO sqlalchemy.engine.base.Engine ()\n",
      "Album\n",
      "Artist\n",
      "Genre\n",
      "Track\n"
     ]
    }
   ],
   "source": [
    "for table in engine.table_names():\n",
    "    print(table)"
   ]
  },
  {
   "cell_type": "code",
   "execution_count": 4,
   "metadata": {},
   "outputs": [
    {
     "name": "stdout",
     "output_type": "stream",
     "text": [
      "2019-07-09 14:43:37,215 INFO sqlalchemy.engine.base.Engine SELECT CAST('test plain returns' AS VARCHAR(60)) AS anon_1\n",
      "2019-07-09 14:43:37,235 INFO sqlalchemy.engine.base.Engine ()\n",
      "2019-07-09 14:43:37,237 INFO sqlalchemy.engine.base.Engine SELECT CAST('test unicode returns' AS VARCHAR(60)) AS anon_1\n",
      "2019-07-09 14:43:37,238 INFO sqlalchemy.engine.base.Engine ()\n",
      "2019-07-09 14:43:37,244 INFO sqlalchemy.engine.base.Engine SELECT name FROM sqlite_master WHERE type='table' ORDER BY name\n",
      "2019-07-09 14:43:37,246 INFO sqlalchemy.engine.base.Engine ()\n",
      "2019-07-09 14:43:37,250 INFO sqlalchemy.engine.base.Engine PRAGMA table_info(\"users\")\n",
      "2019-07-09 14:43:37,251 INFO sqlalchemy.engine.base.Engine ()\n",
      "2019-07-09 14:43:37,255 INFO sqlalchemy.engine.base.Engine SELECT sql FROM  (SELECT * FROM sqlite_master UNION ALL   SELECT * FROM sqlite_temp_master) WHERE name = 'users' AND type = 'table'\n",
      "2019-07-09 14:43:37,257 INFO sqlalchemy.engine.base.Engine ()\n",
      "2019-07-09 14:43:37,260 INFO sqlalchemy.engine.base.Engine PRAGMA foreign_key_list(\"users\")\n",
      "2019-07-09 14:43:37,262 INFO sqlalchemy.engine.base.Engine ()\n",
      "2019-07-09 14:43:37,264 INFO sqlalchemy.engine.base.Engine SELECT sql FROM  (SELECT * FROM sqlite_master UNION ALL   SELECT * FROM sqlite_temp_master) WHERE name = 'users' AND type = 'table'\n",
      "2019-07-09 14:43:37,265 INFO sqlalchemy.engine.base.Engine ()\n",
      "2019-07-09 14:43:37,270 INFO sqlalchemy.engine.base.Engine PRAGMA index_list(\"users\")\n",
      "2019-07-09 14:43:37,273 INFO sqlalchemy.engine.base.Engine ()\n",
      "2019-07-09 14:43:37,278 INFO sqlalchemy.engine.base.Engine PRAGMA index_list(\"users\")\n",
      "2019-07-09 14:43:37,280 INFO sqlalchemy.engine.base.Engine ()\n",
      "2019-07-09 14:43:37,284 INFO sqlalchemy.engine.base.Engine SELECT sql FROM  (SELECT * FROM sqlite_master UNION ALL   SELECT * FROM sqlite_temp_master) WHERE name = 'users' AND type = 'table'\n",
      "2019-07-09 14:43:37,287 INFO sqlalchemy.engine.base.Engine ()\n",
      "2019-07-09 14:43:37,299 INFO sqlalchemy.engine.base.Engine SELECT name FROM sqlite_master WHERE type='table' ORDER BY name\n",
      "2019-07-09 14:43:37,300 INFO sqlalchemy.engine.base.Engine ()\n",
      "users\n"
     ]
    },
    {
     "name": "stderr",
     "output_type": "stream",
     "text": [
      "C:\\Anaconda\\Anaconda3\\lib\\site-packages\\ipykernel_launcher.py:4: SADeprecationWarning: The MetaData.reflect flag is deprecated and will be removed in a future release.   Please use the MetaData.reflect() method.\n",
      "  after removing the cwd from sys.path.\n"
     ]
    }
   ],
   "source": [
    "engine = create_engine(\"sqlite:///alchemy_core.db\", echo=True)\n",
    "conn = engine.connect()\n",
    "\n",
    "metadata = MetaData(bind=engine, reflect=True)\n",
    "metadata.reflect(bind=engine)\n",
    "\n",
    "for row in metadata.tables:\n",
    "    print(row)"
   ]
  },
  {
   "cell_type": "code",
   "execution_count": 52,
   "metadata": {},
   "outputs": [
    {
     "ename": "KeyError",
     "evalue": "'Track'",
     "output_type": "error",
     "traceback": [
      "\u001b[1;31m---------------------------------------------------------------------------\u001b[0m",
      "\u001b[1;31mKeyError\u001b[0m                                  Traceback (most recent call last)",
      "\u001b[1;32m<ipython-input-52-b608093d50d2>\u001b[0m in \u001b[0;36m<module>\u001b[1;34m\u001b[0m\n\u001b[1;32m----> 1\u001b[1;33m \u001b[0mtrack\u001b[0m \u001b[1;33m=\u001b[0m \u001b[0mmetadata\u001b[0m\u001b[1;33m.\u001b[0m\u001b[0mtables\u001b[0m\u001b[1;33m[\u001b[0m\u001b[1;34m\"Track\"\u001b[0m\u001b[1;33m]\u001b[0m\u001b[1;33m\u001b[0m\u001b[1;33m\u001b[0m\u001b[0m\n\u001b[0m\u001b[0;32m      2\u001b[0m \u001b[0mtrack\u001b[0m\u001b[1;33m\u001b[0m\u001b[1;33m\u001b[0m\u001b[0m\n",
      "\u001b[1;31mKeyError\u001b[0m: 'Track'"
     ]
    }
   ],
   "source": [
    "track = metadata.tables[\"Track\"]\n",
    "track"
   ]
  },
  {
   "cell_type": "markdown",
   "metadata": {},
   "source": [
    "## base가 metadata의 상위 클래스"
   ]
  },
  {
   "cell_type": "code",
   "execution_count": 11,
   "metadata": {},
   "outputs": [],
   "source": [
    "from sqlalchemy.ext.declarative import declarative_base"
   ]
  },
  {
   "cell_type": "code",
   "execution_count": 6,
   "metadata": {},
   "outputs": [],
   "source": [
    "base = declarative_base()"
   ]
  },
  {
   "cell_type": "code",
   "execution_count": 7,
   "metadata": {},
   "outputs": [],
   "source": [
    "class User(base):\n",
    "    __tablename__ = \"users\"\n",
    "    \n",
    "    id = Column(Integer, primary_key=True)\n",
    "    name = Column(String)\n",
    "    fullname = Column(String)\n",
    "    password = Column(\"passwd\", String)\n",
    "    \n",
    "    def __repr__(self):\n",
    "        return \"<T'User(name='%s', fullname='%s', password='%s')>\" % (self.name, self.fullname, self.password)"
   ]
  },
  {
   "cell_type": "markdown",
   "metadata": {},
   "source": [
    "### Schema"
   ]
  },
  {
   "cell_type": "code",
   "execution_count": 8,
   "metadata": {},
   "outputs": [
    {
     "data": {
      "text/plain": [
       "Table('users', MetaData(bind=None), Column('id', Integer(), table=<users>, primary_key=True, nullable=False), Column('name', String(), table=<users>), Column('fullname', String(), table=<users>), Column('passwd', String(), table=<users>), schema=None)"
      ]
     },
     "execution_count": 8,
     "metadata": {},
     "output_type": "execute_result"
    }
   ],
   "source": [
    "User.__table__"
   ]
  },
  {
   "cell_type": "code",
   "execution_count": 9,
   "metadata": {},
   "outputs": [
    {
     "data": {
      "text/plain": [
       "<Mapper at 0x1384a531b70; User>"
      ]
     },
     "execution_count": 9,
     "metadata": {},
     "output_type": "execute_result"
    }
   ],
   "source": [
    "User.__mapper__"
   ]
  },
  {
   "cell_type": "markdown",
   "metadata": {},
   "source": [
    "### Creative Table"
   ]
  },
  {
   "cell_type": "code",
   "execution_count": 10,
   "metadata": {},
   "outputs": [
    {
     "name": "stdout",
     "output_type": "stream",
     "text": [
      "2019-07-09 14:43:55,653 INFO sqlalchemy.engine.base.Engine PRAGMA table_info(\"users\")\n",
      "2019-07-09 14:43:55,655 INFO sqlalchemy.engine.base.Engine ()\n"
     ]
    }
   ],
   "source": [
    "base.metadata.create_all(engine)"
   ]
  },
  {
   "cell_type": "code",
   "execution_count": 11,
   "metadata": {},
   "outputs": [],
   "source": [
    "kim = User(name=\"kim\", fullname=\"anonymous, Kim\", password = \"kimbap heaven\")"
   ]
  },
  {
   "cell_type": "code",
   "execution_count": 12,
   "metadata": {},
   "outputs": [
    {
     "name": "stdout",
     "output_type": "stream",
     "text": [
      "<T'User(name='kim', fullname='anonymous, Kim', password='kimbap heaven')>\n"
     ]
    }
   ],
   "source": [
    "print(kim)"
   ]
  },
  {
   "cell_type": "code",
   "execution_count": 13,
   "metadata": {
    "scrolled": true
   },
   "outputs": [
    {
     "name": "stdout",
     "output_type": "stream",
     "text": [
      "None\n"
     ]
    }
   ],
   "source": [
    "print(kim.id)"
   ]
  },
  {
   "cell_type": "markdown",
   "metadata": {},
   "source": [
    "session\n",
    "- base를 상속 받은 것과 database가 왔다갔다 할 수 있게 하는 애"
   ]
  },
  {
   "cell_type": "code",
   "execution_count": 3,
   "metadata": {},
   "outputs": [],
   "source": [
    "from sqlalchemy.orm import sessionmaker"
   ]
  },
  {
   "cell_type": "code",
   "execution_count": 7,
   "metadata": {},
   "outputs": [],
   "source": [
    "Session = sessionmaker(bind = engine)\n",
    "session = Session()"
   ]
  },
  {
   "cell_type": "markdown",
   "metadata": {},
   "source": [
    "싱크가 어긋나는 것들이 발생하니 주의하자"
   ]
  },
  {
   "cell_type": "code",
   "execution_count": 16,
   "metadata": {},
   "outputs": [],
   "source": [
    "session.add(kim)"
   ]
  },
  {
   "cell_type": "code",
   "execution_count": 17,
   "metadata": {},
   "outputs": [],
   "source": [
    "session.add_all([\n",
    "    User(name=\"Lee\", fullname=\"unknown, Lee\", password = \"123456789a\"),\n",
    "    User(name=\"Park\", fullname=\"nobody, Park\", password = \"Parking in Park\")\n",
    "])"
   ]
  },
  {
   "cell_type": "code",
   "execution_count": 18,
   "metadata": {},
   "outputs": [
    {
     "name": "stdout",
     "output_type": "stream",
     "text": [
      "2019-07-09 14:46:17,534 INFO sqlalchemy.engine.base.Engine BEGIN (implicit)\n",
      "2019-07-09 14:46:17,538 INFO sqlalchemy.engine.base.Engine INSERT INTO users (name, fullname, passwd) VALUES (?, ?, ?)\n",
      "2019-07-09 14:46:17,540 INFO sqlalchemy.engine.base.Engine ('kim', 'anonymous, Kim', 'kimbap heaven')\n",
      "2019-07-09 14:46:17,559 INFO sqlalchemy.engine.base.Engine INSERT INTO users (name, fullname, passwd) VALUES (?, ?, ?)\n",
      "2019-07-09 14:46:17,560 INFO sqlalchemy.engine.base.Engine ('Lee', 'unknown, Lee', '123456789a')\n",
      "2019-07-09 14:46:17,562 INFO sqlalchemy.engine.base.Engine INSERT INTO users (name, fullname, passwd) VALUES (?, ?, ?)\n",
      "2019-07-09 14:46:17,563 INFO sqlalchemy.engine.base.Engine ('Park', 'nobody, Park', 'Parking in Park')\n",
      "2019-07-09 14:46:17,565 INFO sqlalchemy.engine.base.Engine COMMIT\n"
     ]
    }
   ],
   "source": [
    "session.commit()"
   ]
  },
  {
   "cell_type": "code",
   "execution_count": 25,
   "metadata": {},
   "outputs": [],
   "source": [
    "session.add(User(name=\"Choi\", fullname=\"amugae, Choi\", password=\"choichoi\"))"
   ]
  },
  {
   "cell_type": "code",
   "execution_count": 26,
   "metadata": {
    "scrolled": true
   },
   "outputs": [
    {
     "data": {
      "text/plain": [
       "IdentitySet([])"
      ]
     },
     "execution_count": 26,
     "metadata": {},
     "output_type": "execute_result"
    }
   ],
   "source": [
    "session.dirty"
   ]
  },
  {
   "cell_type": "code",
   "execution_count": 23,
   "metadata": {},
   "outputs": [
    {
     "name": "stdout",
     "output_type": "stream",
     "text": [
      "2019-07-09 14:49:21,524 INFO sqlalchemy.engine.base.Engine BEGIN (implicit)\n",
      "2019-07-09 14:49:21,526 INFO sqlalchemy.engine.base.Engine INSERT INTO users (name, fullname, passwd) VALUES (?, ?, ?)\n",
      "2019-07-09 14:49:21,528 INFO sqlalchemy.engine.base.Engine ('Choi', 'amugae, Choi', 'choichoi')\n",
      "2019-07-09 14:49:21,543 INFO sqlalchemy.engine.base.Engine INSERT INTO users (name, fullname, passwd) VALUES (?, ?, ?)\n",
      "2019-07-09 14:49:21,545 INFO sqlalchemy.engine.base.Engine ('Choi', 'amugae, Choi', 'choichoi')\n",
      "2019-07-09 14:49:21,546 INFO sqlalchemy.engine.base.Engine COMMIT\n"
     ]
    }
   ],
   "source": [
    "session.commit()"
   ]
  },
  {
   "cell_type": "code",
   "execution_count": 27,
   "metadata": {},
   "outputs": [],
   "source": [
    "kim.password=\"password\""
   ]
  },
  {
   "cell_type": "markdown",
   "metadata": {},
   "source": [
    "싱크가 맞는지 아닌지 알 수 있다."
   ]
  },
  {
   "cell_type": "code",
   "execution_count": 28,
   "metadata": {},
   "outputs": [
    {
     "name": "stdout",
     "output_type": "stream",
     "text": [
      "2019-07-09 14:50:17,399 INFO sqlalchemy.engine.base.Engine BEGIN (implicit)\n",
      "2019-07-09 14:50:17,401 INFO sqlalchemy.engine.base.Engine SELECT users.id AS users_id, users.name AS users_name, users.fullname AS users_fullname \n",
      "FROM users \n",
      "WHERE users.id = ?\n",
      "2019-07-09 14:50:17,403 INFO sqlalchemy.engine.base.Engine (1,)\n"
     ]
    },
    {
     "data": {
      "text/plain": [
       "IdentitySet([<T'User(name='kim', fullname='anonymous, Kim', password='password')>])"
      ]
     },
     "execution_count": 28,
     "metadata": {},
     "output_type": "execute_result"
    }
   ],
   "source": [
    "session.dirty"
   ]
  },
  {
   "cell_type": "code",
   "execution_count": 29,
   "metadata": {},
   "outputs": [
    {
     "data": {
      "text/plain": [
       "True"
      ]
     },
     "execution_count": 29,
     "metadata": {},
     "output_type": "execute_result"
    }
   ],
   "source": [
    "session.is_modified(kim)"
   ]
  },
  {
   "cell_type": "markdown",
   "metadata": {},
   "source": [
    "싱크 맞추느라 값을 가져옴?"
   ]
  },
  {
   "cell_type": "code",
   "execution_count": 30,
   "metadata": {},
   "outputs": [
    {
     "data": {
      "text/plain": [
       "1"
      ]
     },
     "execution_count": 30,
     "metadata": {},
     "output_type": "execute_result"
    }
   ],
   "source": [
    "kim.id"
   ]
  },
  {
   "cell_type": "code",
   "execution_count": 31,
   "metadata": {},
   "outputs": [
    {
     "name": "stdout",
     "output_type": "stream",
     "text": [
      "2019-07-09 15:10:45,061 INFO sqlalchemy.engine.base.Engine UPDATE users SET passwd=? WHERE users.id = ?\n",
      "2019-07-09 15:10:45,062 INFO sqlalchemy.engine.base.Engine ('password', 1)\n",
      "2019-07-09 15:10:45,084 INFO sqlalchemy.engine.base.Engine INSERT INTO users (name, fullname, passwd) VALUES (?, ?, ?)\n",
      "2019-07-09 15:10:45,086 INFO sqlalchemy.engine.base.Engine ('Choi', 'amugae, Choi', 'choichoi')\n",
      "2019-07-09 15:10:45,088 INFO sqlalchemy.engine.base.Engine SELECT users.passwd AS users_passwd, users.id AS users_id, users.name AS users_name, users.fullname AS users_fullname \n",
      "FROM users\n",
      "2019-07-09 15:10:45,090 INFO sqlalchemy.engine.base.Engine ()\n",
      "<class '__main__.User'>\n",
      "1 kim anonymous, Kim password\n",
      "<class '__main__.User'>\n",
      "2 Lee unknown, Lee 123456789a\n",
      "<class '__main__.User'>\n",
      "3 Park nobody, Park Parking in Park\n",
      "<class '__main__.User'>\n",
      "4 Choi amugae, Choi choichoi\n",
      "<class '__main__.User'>\n",
      "5 Choi amugae, Choi choichoi\n",
      "<class '__main__.User'>\n",
      "6 Choi amugae, Choi choichoi\n"
     ]
    }
   ],
   "source": [
    "for row in session.query(User):\n",
    "    print(type(row))\n",
    "    print(row.id, row.name, row.fullname, row.password)"
   ]
  },
  {
   "cell_type": "code",
   "execution_count": 32,
   "metadata": {},
   "outputs": [],
   "source": [
    "metadata.clear()"
   ]
  },
  {
   "cell_type": "code",
   "execution_count": 33,
   "metadata": {},
   "outputs": [
    {
     "data": {
      "text/plain": [
       "MetaData(bind=Engine(sqlite:///alchemy_core.db))"
      ]
     },
     "execution_count": 33,
     "metadata": {},
     "output_type": "execute_result"
    }
   ],
   "source": [
    "metadata"
   ]
  },
  {
   "cell_type": "code",
   "execution_count": 36,
   "metadata": {},
   "outputs": [],
   "source": [
    "Base = declarative_base()"
   ]
  },
  {
   "cell_type": "code",
   "execution_count": 37,
   "metadata": {},
   "outputs": [],
   "source": [
    "class Artist(Base):\n",
    "    __tablename__ = \"Artist\"\n",
    "    \n",
    "    id = Column(Integer, primary_key = True)\n",
    "    name = Column(String)\n",
    "    \n",
    "class Album(Base):\n",
    "    __tablename__=\"Album\"\n",
    "    \n",
    "    id = Column(Integer, primary_key = True)\n",
    "    title = Column(String)\n",
    "    artist_id = Column(Integer, ForeignKey(\"Artist.id\"))\n",
    "    \n",
    "class Genre(Base):\n",
    "    __tablename__=\"Genre\"\n",
    "    \n",
    "    id = Column(Integer, primary_key = True)\n",
    "    title = Column(String)\n",
    "    \n",
    "class Track(Base):\n",
    "    __tablename__ = \"Track\"\n",
    "    \n",
    "    id = Column(\"id\", Integer, primary_key = True)\n",
    "    title = Column(\"title\", String, nullable=False)\n",
    "    length = Column(\"length\", Integer, nullable=False)\n",
    "    rating = Column(\"rating\", Integer, nullable=False)\n",
    "    count = Column(\"count\", Integer, nullable=False)\n",
    "    album_id = Column(\"album_id\", Integer, ForeignKey(\"Album.id\"))\n",
    "    genre_id = Column(\"genre_id\", Integer, ForeignKey(\"Genre.id\"))"
   ]
  },
  {
   "cell_type": "code",
   "execution_count": 39,
   "metadata": {},
   "outputs": [
    {
     "name": "stdout",
     "output_type": "stream",
     "text": [
      "2019-07-09 15:21:23,740 INFO sqlalchemy.engine.base.Engine PRAGMA table_info(\"Artist\")\n",
      "2019-07-09 15:21:23,742 INFO sqlalchemy.engine.base.Engine ()\n",
      "2019-07-09 15:21:23,746 INFO sqlalchemy.engine.base.Engine PRAGMA table_info(\"Album\")\n",
      "2019-07-09 15:21:23,748 INFO sqlalchemy.engine.base.Engine ()\n",
      "2019-07-09 15:21:23,750 INFO sqlalchemy.engine.base.Engine PRAGMA table_info(\"Genre\")\n",
      "2019-07-09 15:21:23,752 INFO sqlalchemy.engine.base.Engine ()\n",
      "2019-07-09 15:21:23,754 INFO sqlalchemy.engine.base.Engine PRAGMA table_info(\"Track\")\n",
      "2019-07-09 15:21:23,755 INFO sqlalchemy.engine.base.Engine ()\n",
      "2019-07-09 15:21:23,758 INFO sqlalchemy.engine.base.Engine \n",
      "CREATE TABLE \"Artist\" (\n",
      "\tid INTEGER NOT NULL, \n",
      "\tname VARCHAR, \n",
      "\tPRIMARY KEY (id)\n",
      ")\n",
      "\n",
      "\n",
      "2019-07-09 15:21:23,760 INFO sqlalchemy.engine.base.Engine ()\n",
      "2019-07-09 15:21:23,805 INFO sqlalchemy.engine.base.Engine COMMIT\n",
      "2019-07-09 15:21:23,808 INFO sqlalchemy.engine.base.Engine \n",
      "CREATE TABLE \"Genre\" (\n",
      "\tid INTEGER NOT NULL, \n",
      "\ttitle VARCHAR, \n",
      "\tPRIMARY KEY (id)\n",
      ")\n",
      "\n",
      "\n",
      "2019-07-09 15:21:23,810 INFO sqlalchemy.engine.base.Engine ()\n",
      "2019-07-09 15:21:23,841 INFO sqlalchemy.engine.base.Engine COMMIT\n",
      "2019-07-09 15:21:23,843 INFO sqlalchemy.engine.base.Engine \n",
      "CREATE TABLE \"Album\" (\n",
      "\tid INTEGER NOT NULL, \n",
      "\ttitle VARCHAR, \n",
      "\tartist_id INTEGER, \n",
      "\tPRIMARY KEY (id), \n",
      "\tFOREIGN KEY(artist_id) REFERENCES \"Artist\" (id)\n",
      ")\n",
      "\n",
      "\n",
      "2019-07-09 15:21:23,844 INFO sqlalchemy.engine.base.Engine ()\n",
      "2019-07-09 15:21:23,887 INFO sqlalchemy.engine.base.Engine COMMIT\n",
      "2019-07-09 15:21:23,890 INFO sqlalchemy.engine.base.Engine \n",
      "CREATE TABLE \"Track\" (\n",
      "\tid INTEGER NOT NULL, \n",
      "\ttitle VARCHAR NOT NULL, \n",
      "\tlength INTEGER NOT NULL, \n",
      "\trating INTEGER NOT NULL, \n",
      "\tcount INTEGER NOT NULL, \n",
      "\talbum_id INTEGER, \n",
      "\tgenre_id INTEGER, \n",
      "\tPRIMARY KEY (id), \n",
      "\tFOREIGN KEY(album_id) REFERENCES \"Album\" (id), \n",
      "\tFOREIGN KEY(genre_id) REFERENCES \"Genre\" (id)\n",
      ")\n",
      "\n",
      "\n",
      "2019-07-09 15:21:23,894 INFO sqlalchemy.engine.base.Engine ()\n",
      "2019-07-09 15:21:23,927 INFO sqlalchemy.engine.base.Engine COMMIT\n"
     ]
    }
   ],
   "source": [
    "Base.metadata.create_all(engine)"
   ]
  },
  {
   "cell_type": "code",
   "execution_count": 41,
   "metadata": {},
   "outputs": [
    {
     "name": "stderr",
     "output_type": "stream",
     "text": [
      "C:\\Anaconda\\Anaconda3\\lib\\site-packages\\sqlalchemy\\orm\\session.py:552: SAWarning: Session's state has been changed on a non-active transaction - this state will be discarded.\n",
      "  \"Session's state has been changed on \"\n"
     ]
    }
   ],
   "source": [
    "session.rollback()"
   ]
  },
  {
   "cell_type": "code",
   "execution_count": 42,
   "metadata": {},
   "outputs": [
    {
     "name": "stdout",
     "output_type": "stream",
     "text": [
      "2019-07-09 15:21:58,516 INFO sqlalchemy.engine.base.Engine BEGIN (implicit)\n",
      "2019-07-09 15:21:58,518 INFO sqlalchemy.engine.base.Engine INSERT INTO \"Artist\" (name) VALUES (?)\n",
      "2019-07-09 15:21:58,519 INFO sqlalchemy.engine.base.Engine ('Led Zepplin',)\n",
      "2019-07-09 15:21:58,536 INFO sqlalchemy.engine.base.Engine INSERT INTO \"Artist\" (name) VALUES (?)\n",
      "2019-07-09 15:21:58,538 INFO sqlalchemy.engine.base.Engine ('AC/DC',)\n",
      "2019-07-09 15:21:58,540 INFO sqlalchemy.engine.base.Engine COMMIT\n"
     ]
    }
   ],
   "source": [
    "artist1 = Artist(name = \"Led Zepplin\")\n",
    "artist2 = Artist(name = \"AC/DC\")\n",
    "\n",
    "session.add_all([artist1, artist2])\n",
    "session.commit()"
   ]
  },
  {
   "cell_type": "code",
   "execution_count": 43,
   "metadata": {},
   "outputs": [
    {
     "name": "stdout",
     "output_type": "stream",
     "text": [
      "2019-07-09 15:22:48,970 INFO sqlalchemy.engine.base.Engine BEGIN (implicit)\n",
      "2019-07-09 15:22:48,973 INFO sqlalchemy.engine.base.Engine SELECT \"Artist\".id AS \"Artist_id\", \"Artist\".name AS \"Artist_name\" \n",
      "FROM \"Artist\" \n",
      "WHERE \"Artist\".id = ?\n",
      "2019-07-09 15:22:48,974 INFO sqlalchemy.engine.base.Engine (1,)\n",
      "2019-07-09 15:22:48,978 INFO sqlalchemy.engine.base.Engine SELECT \"Artist\".id AS \"Artist_id\", \"Artist\".name AS \"Artist_name\" \n",
      "FROM \"Artist\" \n",
      "WHERE \"Artist\".id = ?\n",
      "2019-07-09 15:22:48,980 INFO sqlalchemy.engine.base.Engine (2,)\n"
     ]
    }
   ],
   "source": [
    "album = [Album(title=\"IV\", artist_id=artist1.id),\n",
    "        Album(title=\"Who Made Who\", artist_id = artist2.id)]"
   ]
  },
  {
   "cell_type": "code",
   "execution_count": 44,
   "metadata": {},
   "outputs": [
    {
     "name": "stdout",
     "output_type": "stream",
     "text": [
      "2019-07-09 15:22:59,313 INFO sqlalchemy.engine.base.Engine INSERT INTO \"Album\" (title, artist_id) VALUES (?, ?)\n",
      "2019-07-09 15:22:59,315 INFO sqlalchemy.engine.base.Engine ('IV', 1)\n",
      "2019-07-09 15:22:59,320 INFO sqlalchemy.engine.base.Engine INSERT INTO \"Album\" (title, artist_id) VALUES (?, ?)\n",
      "2019-07-09 15:22:59,322 INFO sqlalchemy.engine.base.Engine ('Who Made Who', 2)\n",
      "2019-07-09 15:22:59,323 INFO sqlalchemy.engine.base.Engine COMMIT\n"
     ]
    }
   ],
   "source": [
    "session.add_all(album)\n",
    "session.commit()"
   ]
  },
  {
   "cell_type": "code",
   "execution_count": 47,
   "metadata": {},
   "outputs": [
    {
     "name": "stdout",
     "output_type": "stream",
     "text": [
      "2019-07-09 15:25:55,744 INFO sqlalchemy.engine.base.Engine BEGIN (implicit)\n",
      "2019-07-09 15:25:55,747 INFO sqlalchemy.engine.base.Engine INSERT INTO \"Genre\" (title) VALUES (?)\n",
      "2019-07-09 15:25:55,749 INFO sqlalchemy.engine.base.Engine ('Rock',)\n",
      "2019-07-09 15:25:55,764 INFO sqlalchemy.engine.base.Engine INSERT INTO \"Genre\" (title) VALUES (?)\n",
      "2019-07-09 15:25:55,765 INFO sqlalchemy.engine.base.Engine ('Metal',)\n",
      "2019-07-09 15:25:55,767 INFO sqlalchemy.engine.base.Engine COMMIT\n"
     ]
    }
   ],
   "source": [
    "session.add_all([Genre(title=\"Rock\"), Genre(title=\"Metal\")])\n",
    "session.commit()"
   ]
  },
  {
   "cell_type": "code",
   "execution_count": 5,
   "metadata": {},
   "outputs": [],
   "source": [
    "from sqlalchemy.orm import relationship"
   ]
  },
  {
   "cell_type": "code",
   "execution_count": 22,
   "metadata": {},
   "outputs": [
    {
     "name": "stdout",
     "output_type": "stream",
     "text": [
      "2019-07-09 15:56:07,395 INFO sqlalchemy.engine.base.Engine SELECT CAST('test plain returns' AS VARCHAR(60)) AS anon_1\n",
      "2019-07-09 15:56:07,397 INFO sqlalchemy.engine.base.Engine ()\n",
      "2019-07-09 15:56:07,399 INFO sqlalchemy.engine.base.Engine SELECT CAST('test unicode returns' AS VARCHAR(60)) AS anon_1\n",
      "2019-07-09 15:56:07,400 INFO sqlalchemy.engine.base.Engine ()\n",
      "2019-07-09 15:56:07,404 INFO sqlalchemy.engine.base.Engine SELECT name FROM sqlite_master WHERE type='table' ORDER BY name\n",
      "2019-07-09 15:56:07,406 INFO sqlalchemy.engine.base.Engine ()\n",
      "2019-07-09 15:56:07,411 INFO sqlalchemy.engine.base.Engine SELECT name FROM sqlite_master WHERE type='table' ORDER BY name\n",
      "2019-07-09 15:56:07,413 INFO sqlalchemy.engine.base.Engine ()\n"
     ]
    },
    {
     "name": "stderr",
     "output_type": "stream",
     "text": [
      "C:\\Anaconda\\Anaconda3\\lib\\site-packages\\ipykernel_launcher.py:4: SADeprecationWarning: The MetaData.reflect flag is deprecated and will be removed in a future release.   Please use the MetaData.reflect() method.\n",
      "  after removing the cwd from sys.path.\n"
     ]
    }
   ],
   "source": [
    "engine = create_engine(\"sqlite:///alchemy_core5.db\", echo=True)\n",
    "conn = engine.connect()\n",
    "\n",
    "metadata = MetaData(bind=engine, reflect=True)\n",
    "metadata.reflect(bind=engine)"
   ]
  },
  {
   "cell_type": "code",
   "execution_count": 23,
   "metadata": {},
   "outputs": [],
   "source": [
    "Base = declarative_base()"
   ]
  },
  {
   "cell_type": "code",
   "execution_count": 24,
   "metadata": {},
   "outputs": [],
   "source": [
    "class Artist(Base):\n",
    "    __tablename__ = \"Artist\"\n",
    "    \n",
    "    id = Column(Integer, primary_key = True)\n",
    "    name = Column(String)\n",
    "    \n",
    "    albumList = relationship(\"Album\", back_populates = \"artist\")\n",
    "    \n",
    "class Album(Base):\n",
    "    __tablename__=\"Album\"\n",
    "    \n",
    "    id = Column(Integer, primary_key = True)\n",
    "    title = Column(String)\n",
    "    artist_id = Column(Integer, ForeignKey(\"Artist.id\"))\n",
    "    \n",
    "    artist = relationship(\"Artist\", back_populates=\"albumList\", uselist=False)\n",
    "    trackList = relationship(\"Track\", back_populates=\"album\")\n",
    "    \n",
    "class Genre(Base):\n",
    "    __tablename__=\"Genre\"\n",
    "    \n",
    "    id = Column(Integer, primary_key = True)\n",
    "    name = Column(String)\n",
    "    \n",
    "    trackList = relationship(\"Track\", back_populates=\"genre\")\n",
    "    \n",
    "class Track(Base):\n",
    "    __tablename__ = \"Track\"\n",
    "    \n",
    "    id = Column(\"id\", Integer, primary_key = True)\n",
    "    title = Column(\"title\", String, nullable=False)\n",
    "    length = Column(\"length\", Integer, nullable=False)\n",
    "    rating = Column(\"rating\", Integer, nullable=False)\n",
    "    count = Column(\"count\", Integer, nullable=False)\n",
    "    album_id = Column(\"album_id\", Integer, ForeignKey(\"Album.id\"))\n",
    "    genre_id = Column(\"genre_id\", Integer, ForeignKey(\"Genre.id\"))\n",
    "    \n",
    "    album = relationship(\"Album\", back_populates=\"trackList\", uselist=False)\n",
    "    genre = relationship(\"Genre\", back_populates=\"trackList\", uselist=False)"
   ]
  },
  {
   "cell_type": "markdown",
   "metadata": {},
   "source": [
    "# RegularExpression(RE)\n",
    "- 주어진 텍스트로 부터 패턴이 튀어 나오게끔 하기 위해 사용한다.\n",
    "- 탐색, replacing, parsing하기 위해 사용할 것이다.\n",
    "- 텍스트로 처리할 때 훨씬 빠르게 해준다.\n",
    "- learning curve가 있어서 익숙하게 되기까지 오래걸린다."
   ]
  },
  {
   "cell_type": "markdown",
   "metadata": {},
   "source": [
    "### Meta Characters\n",
    "- . : 모든 문자\n",
    "- \\* : 0번 이상 반복을 의미\n",
    "- + : 1번 이상 반복을 의미\n",
    "- {n | min, | min, max} : n번 반복, min 이상 반복, min이상 max이하 반복\n",
    "- ? : 있거나 말거나"
   ]
  },
  {
   "cell_type": "code",
   "execution_count": 25,
   "metadata": {},
   "outputs": [],
   "source": [
    "import re"
   ]
  },
  {
   "cell_type": "markdown",
   "metadata": {},
   "source": [
    "## 패턴 만들기"
   ]
  },
  {
   "cell_type": "code",
   "execution_count": 27,
   "metadata": {},
   "outputs": [
    {
     "data": {
      "text/plain": [
       "re.compile(r'패턴', re.UNICODE)"
      ]
     },
     "execution_count": 27,
     "metadata": {},
     "output_type": "execute_result"
    }
   ],
   "source": [
    "re.compile(\"패턴\")"
   ]
  },
  {
   "cell_type": "markdown",
   "metadata": {},
   "source": [
    "## 중간에 있는것도 찾는다."
   ]
  },
  {
   "cell_type": "code",
   "execution_count": 28,
   "metadata": {},
   "outputs": [
    {
     "data": {
      "text/plain": [
       "<function re.search(pattern, string, flags=0)>"
      ]
     },
     "execution_count": 28,
     "metadata": {},
     "output_type": "execute_result"
    }
   ],
   "source": [
    "re.search"
   ]
  },
  {
   "cell_type": "markdown",
   "metadata": {},
   "source": [
    "## 처음부터 찾는다"
   ]
  },
  {
   "cell_type": "code",
   "execution_count": 29,
   "metadata": {
    "scrolled": true
   },
   "outputs": [
    {
     "ename": "TypeError",
     "evalue": "match() missing 2 required positional arguments: 'pattern' and 'string'",
     "output_type": "error",
     "traceback": [
      "\u001b[1;31m---------------------------------------------------------------------------\u001b[0m",
      "\u001b[1;31mTypeError\u001b[0m                                 Traceback (most recent call last)",
      "\u001b[1;32m<ipython-input-29-60aa42abbf8a>\u001b[0m in \u001b[0;36m<module>\u001b[1;34m\u001b[0m\n\u001b[1;32m----> 1\u001b[1;33m \u001b[0mre\u001b[0m\u001b[1;33m.\u001b[0m\u001b[0mmatch\u001b[0m\u001b[1;33m(\u001b[0m\u001b[1;33m)\u001b[0m\u001b[1;33m\u001b[0m\u001b[1;33m\u001b[0m\u001b[0m\n\u001b[0m",
      "\u001b[1;31mTypeError\u001b[0m: match() missing 2 required positional arguments: 'pattern' and 'string'"
     ]
    }
   ],
   "source": [
    "re.match()"
   ]
  },
  {
   "cell_type": "markdown",
   "metadata": {},
   "source": [
    "## 특정 패턴으로 짜른다?"
   ]
  },
  {
   "cell_type": "code",
   "execution_count": null,
   "metadata": {},
   "outputs": [],
   "source": [
    "re.split()"
   ]
  },
  {
   "cell_type": "code",
   "execution_count": 30,
   "metadata": {},
   "outputs": [],
   "source": [
    "content = \"Hello World\""
   ]
  },
  {
   "cell_type": "code",
   "execution_count": 33,
   "metadata": {},
   "outputs": [
    {
     "name": "stdout",
     "output_type": "stream",
     "text": [
      "<re.Match object; span=(6, 7), match='W'>\n"
     ]
    }
   ],
   "source": [
    "print(re.search(\"W\", content))"
   ]
  },
  {
   "cell_type": "code",
   "execution_count": 34,
   "metadata": {},
   "outputs": [
    {
     "name": "stdout",
     "output_type": "stream",
     "text": [
      "None\n"
     ]
    }
   ],
   "source": [
    "print(re.match(\"W\",content))"
   ]
  },
  {
   "cell_type": "markdown",
   "metadata": {},
   "source": [
    "## 대체, replacing\n",
    "- 컴파일.sub(\"pattern\", data)"
   ]
  },
  {
   "cell_type": "code",
   "execution_count": 35,
   "metadata": {},
   "outputs": [],
   "source": [
    "data = \"\"\"\n",
    "park 800905-1049118\n",
    "kim 700905-1059119\n",
    "\"\"\""
   ]
  },
  {
   "cell_type": "code",
   "execution_count": 36,
   "metadata": {},
   "outputs": [
    {
     "name": "stdout",
     "output_type": "stream",
     "text": [
      "\n",
      "park 800905-*******\n",
      "kim 700905-*******\n",
      "\n"
     ]
    }
   ],
   "source": [
    "pat = re.compile(\"(\\d{6})[-]\\d{7}\")\n",
    "print(pat.sub(\"\\g<1>-*******\", data)) #\\g<1> : 그룹1"
   ]
  },
  {
   "cell_type": "code",
   "execution_count": 37,
   "metadata": {},
   "outputs": [
    {
     "name": "stdout",
     "output_type": "stream",
     "text": [
      "ABCABC\n"
     ]
    }
   ],
   "source": [
    "p = re.compile('(ABC)+')\n",
    "m = p.search('ABCABC OK?')\n",
    "print(m.group())"
   ]
  },
  {
   "cell_type": "code",
   "execution_count": 38,
   "metadata": {},
   "outputs": [
    {
     "name": "stdout",
     "output_type": "stream",
     "text": [
      "<re.Match object; span=(3, 8), match='class'>\n",
      "None\n",
      "None\n"
     ]
    }
   ],
   "source": [
    "p = re.compile(r'\\bclass\\b')\n",
    "print(p.search(\"no class at all\"))\n",
    "print(p.search(\"one subclass is\"))\n",
    "print(p.search(\"the declassified algorithm\"))"
   ]
  },
  {
   "cell_type": "code",
   "execution_count": 39,
   "metadata": {},
   "outputs": [
    {
     "name": "stdout",
     "output_type": "stream",
     "text": [
      "None\n",
      "None\n",
      "<re.Match object; span=(6, 11), match='class'>\n"
     ]
    }
   ],
   "source": [
    "p = re.compile(r'\\Bclass\\B')\n",
    "print(p.search(\"no class at all\"))\n",
    "print(p.search(\"one subclass is\"))\n",
    "print(p.search(\"the declassified algorithm\"))"
   ]
  },
  {
   "cell_type": "code",
   "execution_count": 40,
   "metadata": {},
   "outputs": [
    {
     "name": "stdout",
     "output_type": "stream",
     "text": [
      "None\n",
      "<re.Match object; span=(7, 12), match='class'>\n",
      "None\n"
     ]
    }
   ],
   "source": [
    "p = re.compile(r'\\Bclass\\b')\n",
    "print(p.search(\"no class at all\"))\n",
    "print(p.search(\"one subclass is\"))\n",
    "print(p.search(\"the declassified algorithm\"))"
   ]
  },
  {
   "cell_type": "code",
   "execution_count": 42,
   "metadata": {},
   "outputs": [
    {
     "name": "stdout",
     "output_type": "stream",
     "text": [
      "Isaac Newton\n",
      "Isaac\n",
      "Newton\n",
      "('Isaac', 'Newton')\n"
     ]
    }
   ],
   "source": [
    "m = re.match(r\"(\\w+) (\\w+)\", \"Isaac Newton, physicist\")\n",
    "print(m.group(0))\n",
    "print(m.group(1))\n",
    "print(m.group(2))\n",
    "print(m.group(1,2))"
   ]
  },
  {
   "cell_type": "code",
   "execution_count": null,
   "metadata": {},
   "outputs": [],
   "source": []
  }
 ],
 "metadata": {
  "kernelspec": {
   "display_name": "Python 3",
   "language": "python",
   "name": "python3"
  },
  "language_info": {
   "codemirror_mode": {
    "name": "ipython",
    "version": 3
   },
   "file_extension": ".py",
   "mimetype": "text/x-python",
   "name": "python",
   "nbconvert_exporter": "python",
   "pygments_lexer": "ipython3",
   "version": "3.7.3"
  }
 },
 "nbformat": 4,
 "nbformat_minor": 2
}

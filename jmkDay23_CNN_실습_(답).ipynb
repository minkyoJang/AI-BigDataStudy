{
  "nbformat": 4,
  "nbformat_minor": 0,
  "metadata": {
    "colab": {
      "name": "CNN 실습 (답)",
      "version": "0.3.2",
      "provenance": [],
      "collapsed_sections": []
    },
    "kernelspec": {
      "name": "python3",
      "display_name": "Python 3"
    },
    "accelerator": "GPU"
  },
  "cells": [
    {
      "cell_type": "markdown",
      "metadata": {
        "id": "9SH_g6i-jMBh",
        "colab_type": "text"
      },
      "source": [
        "### pyTorch 를 비롯해 오늘 실습에 필요한 파이썬 라이브러리를 읽어들입니다."
      ]
    },
    {
      "cell_type": "markdown",
      "metadata": {
        "id": "fEo2sR84NrPx",
        "colab_type": "text"
      },
      "source": [
        "### Copyright (C) 2018  Cheonbok Park <cb_park@korea.ac.kr> and Keetae Park()"
      ]
    },
    {
      "cell_type": "code",
      "metadata": {
        "id": "s-5K8m1hfCRC",
        "colab_type": "code",
        "colab": {}
      },
      "source": [
        "import torch\n",
        "import torch.nn as nn #\n",
        "import torch.nn.functional as F #\n",
        "import torchvision # 이미지 관련 처리, Pretrained Model 관련된 Package 입니다. \n",
        "import torchvision.datasets as vision_dsets\n",
        "import torchvision.transforms as transforms # 이미지 처리 (Vison) 관련된 transformation이 정의 되어 있습니다.\n",
        "import torch.optim as optim # pytorch 에서 정의한 수 많은 optimization function 들이 들어 있습니다.\n",
        "from torch.utils import data\n",
        "\n",
        "import numpy as np\n",
        "import matplotlib.pyplot as plt # 시각화를 위한 패키지입니다."
      ],
      "execution_count": 0,
      "outputs": []
    },
    {
      "cell_type": "markdown",
      "metadata": {
        "id": "Yz8VMAXSjYCe",
        "colab_type": "text"
      },
      "source": [
        "### Hyper-parameter 세팅 및 기타 변수 지정"
      ]
    },
    {
      "cell_type": "code",
      "metadata": {
        "id": "q-G0yNhJjLtZ",
        "colab_type": "code",
        "colab": {}
      },
      "source": [
        "device = 'cuda' if torch.cuda.is_available() else 'cpu' # pytorch0.4.0 이상 버젼에서 gpu 설정하는 방식, tensor.to(device) 이런식으로 사용\n",
        "lr = 0.001\n",
        "batch_size = 128\n",
        "best_acc = 0  # best test accuracy\n",
        "start_epoch = 0  # start from epoch 0 or last checkpoint epoch"
      ],
      "execution_count": 0,
      "outputs": []
    },
    {
      "cell_type": "markdown",
      "metadata": {
        "id": "cXhH8tYwtQN7",
        "colab_type": "text"
      },
      "source": [
        "### 다양한 함수 연습"
      ]
    },
    {
      "cell_type": "code",
      "metadata": {
        "id": "gfkq3vn1ta4r",
        "colab_type": "code",
        "outputId": "73e23cf3-abbe-403a-ceb5-20ce26f51e17",
        "colab": {
          "base_uri": "https://localhost:8080/",
          "height": 51
        }
      },
      "source": [
        "# torch.view 연습\n",
        "\n",
        "sample = torch.randn(2000,64,64,3)\n",
        "# sample => (2000, 64, 64, 3).  \n",
        "sample_1 = sample.view(2000, -1) #위 sample 을 (2000, 64*64*3)으로 바꿔보세요.\n",
        "sample_2 = sample.view(2000*64, -1) #위 sample 을 (2000*64, 64*3)로 바꿔보세요.\n",
        "print(sample_1.size())\n",
        "print(sample_2.size())"
      ],
      "execution_count": 0,
      "outputs": [
        {
          "output_type": "stream",
          "text": [
            "torch.Size([2000, 12288])\n",
            "torch.Size([128000, 192])\n"
          ],
          "name": "stdout"
        }
      ]
    },
    {
      "cell_type": "code",
      "metadata": {
        "id": "0iH_HikgtcN_",
        "colab_type": "code",
        "outputId": "037ec698-0bb1-43a6-f868-f5d26c7e4962",
        "colab": {
          "base_uri": "https://localhost:8080/",
          "height": 51
        }
      },
      "source": [
        "# torch.view 다른 예제\n",
        "a = torch.FloatTensor(5,20,100)\n",
        "a1 = a.view(2, 10, -1)\n",
        "print(a1.size())\n",
        "a2 = a.view(-1,10, 200)\n",
        "print(a2.size())"
      ],
      "execution_count": 0,
      "outputs": [
        {
          "output_type": "stream",
          "text": [
            "torch.Size([2, 10, 500])\n",
            "torch.Size([5, 10, 200])\n"
          ],
          "name": "stdout"
        }
      ]
    },
    {
      "cell_type": "markdown",
      "metadata": {
        "id": "WbflffF5jkhF",
        "colab_type": "text"
      },
      "source": [
        "### Convolution layer  가지고 놀기 "
      ]
    },
    {
      "cell_type": "code",
      "metadata": {
        "id": "ekBQ5Gv5tdWt",
        "colab_type": "code",
        "outputId": "087ba013-ff2e-493c-aeec-8db0c2721053",
        "colab": {
          "base_uri": "https://localhost:8080/",
          "height": 34
        }
      },
      "source": [
        "# torch.nn.conv 연습\n",
        "# 클래스 구성: nn.Conv2d(in, out, filter_size, stride, padding)\n",
        "# 아웃풋사이즈가 이와같이 되도록 되도록 해봅니다: (16, 128, 32, 32)\n",
        "input1 = torch.zeros(16, 3, 64, 64)\n",
        "conv1 = nn.Conv2d(3, 512, 3, 1, 1)\n",
        "conv2 = nn.Conv2d(512,128,3,2,1)\n",
        "\n",
        "out = conv1(input1)\n",
        "output = conv2(out)\n",
        "\n",
        "print(output.size())"
      ],
      "execution_count": 0,
      "outputs": [
        {
          "output_type": "stream",
          "text": [
            "torch.Size([16, 128, 32, 32])\n"
          ],
          "name": "stdout"
        }
      ]
    },
    {
      "cell_type": "code",
      "metadata": {
        "id": "-4y9j5V1toLX",
        "colab_type": "code",
        "outputId": "94bad342-53eb-4f25-bb0d-d51f92cb1e47",
        "colab": {
          "base_uri": "https://localhost:8080/",
          "height": 34
        }
      },
      "source": [
        "# torch.nn.conv 연습\n",
        "# 클래스 구성: nn.Conv2d(in, out, filter_size, stride, padding)\n",
        "# 아웃풋사이즈가 이와같이 되도록 해봅니다: (16, 512, 16, 16)\n",
        "input = torch.zeros(16, 3, 64, 64)\n",
        "conv1 = nn.Conv2d(3,64,3,1,1)\n",
        "conv2 = nn.Conv2d(64,512,3,4,1)\n",
        "\n",
        "out = conv1(input)\n",
        "output = conv2(out)\n",
        "\n",
        "print(output.size())\n"
      ],
      "execution_count": 0,
      "outputs": [
        {
          "output_type": "stream",
          "text": [
            "torch.Size([16, 512, 16, 16])\n"
          ],
          "name": "stdout"
        }
      ]
    },
    {
      "cell_type": "code",
      "metadata": {
        "id": "z98BxwUEtzMV",
        "colab_type": "code",
        "outputId": "7b7a009b-62cb-481d-b5c0-404dc2acbadb",
        "colab": {
          "base_uri": "https://localhost:8080/",
          "height": 34
        }
      },
      "source": [
        "#quiz 4 (torch.nn.conv 연습)\n",
        "# 클래스 구성: nn.Conv2d(in, out, filter_size, stride, padding)\n",
        "# 아웃풋사이즈가 이와같이 되도록 해봅니다: (16, 512, 64, 64)\n",
        "input = torch.zeros(16, 3, 64, 64)\n",
        "conv1 = nn.Conv2d(3,64,3,1,1)\n",
        "conv2 = nn.Conv2d(64,512,3,1,1)\n",
        "\n",
        "out = conv1(input)\n",
        "output = conv2(out)\n",
        "\n",
        "print(output.size())\n"
      ],
      "execution_count": 0,
      "outputs": [
        {
          "output_type": "stream",
          "text": [
            "torch.Size([16, 512, 64, 64])\n"
          ],
          "name": "stdout"
        }
      ]
    },
    {
      "cell_type": "markdown",
      "metadata": {
        "id": "M0qEKErJjfFm",
        "colab_type": "text"
      },
      "source": [
        "### 데이터 로딩"
      ]
    },
    {
      "cell_type": "markdown",
      "metadata": {
        "id": "nWG00oKqntRB",
        "colab_type": "text"
      },
      "source": [
        "Data Augmentation?"
      ]
    },
    {
      "cell_type": "code",
      "metadata": {
        "id": "gbSxD67XjdzL",
        "colab_type": "code",
        "outputId": "b270ea09-d097-4dfe-9f59-5f0ef0777645",
        "colab": {
          "base_uri": "https://localhost:8080/",
          "height": 70
        }
      },
      "source": [
        "# Data\n",
        "print('==> Preparing data..')\n",
        "# 데이터 전처리를 위한 코드\n",
        "transform_train = transforms.Compose([\n",
        "    transforms.RandomCrop(32, padding=4), # 4만큼의 padding을 부여한 후, 32x32로 random cropping\n",
        "    transforms.RandomHorizontalFlip(), # 0.5의 확률로 이미지 좌우 반전하여 넣어줌\n",
        "    transforms.ToTensor(),\n",
        "    transforms.Normalize((0.4914, 0.4822, 0.4465), (0.2023, 0.1994, 0.2010)), # cifar10(0~1)의 r,g,b 채널 별 평균 및 분산으로 normalization => N(0,1)의 정규분포를 따르도록 만들어준 후 input으로 넣어줍니다.\n",
        "])\n",
        "\n",
        "# 랜덤 cropping을 하고, 이미지 좌우반전을 해주는 이유 : ???\n",
        "\n",
        "# 데이터 전처리를 위한 코드\n",
        "transform_test = transforms.Compose([\n",
        "    transforms.ToTensor(),\n",
        "    transforms.Normalize((0.4914, 0.4822, 0.4465), (0.2023, 0.1994, 0.2010)), # cifar10(0~1)의 r,g,b 채널 별 평균 및 분산으로 normalization => N(0,1)의 정규분포를 따르도록 만들어준 후 input으로 넣어줍니다.\n",
        "])\n",
        "\n",
        "# 데이터 로딩\n",
        "trainset = torchvision.datasets.CIFAR10(root='./data', train=True, download=True, transform=transform_train)\n",
        "trainloader = torch.utils.data.DataLoader(trainset, batch_size=batch_size, shuffle=True, num_workers=1)\n",
        "\n",
        "testset = torchvision.datasets.CIFAR10(root='./data', train=False, download=True, transform=transform_test)\n",
        "testloader = torch.utils.data.DataLoader(testset, batch_size=100, shuffle=False, num_workers=1)\n",
        "\n",
        "classes = ('plane', 'car', 'bird', 'cat', 'deer', 'dog', 'frog', 'horse', 'ship', 'truck')"
      ],
      "execution_count": 0,
      "outputs": [
        {
          "output_type": "stream",
          "text": [
            "==> Preparing data..\n",
            "Files already downloaded and verified\n",
            "Files already downloaded and verified\n"
          ],
          "name": "stdout"
        }
      ]
    },
    {
      "cell_type": "code",
      "metadata": {
        "id": "mXEmr4oVnyRv",
        "colab_type": "code",
        "outputId": "d5014d20-c808-4db6-ba7c-ae6751795dab",
        "colab": {
          "base_uri": "https://localhost:8080/",
          "height": 437
        }
      },
      "source": [
        "def showImages(image, row):\n",
        "  \n",
        "  for _ in range(row):  \n",
        "  \n",
        "    idx = np.random.choice(batch_size, 6)     # 0 ~ 127 의 정수 중 6 개를 임의로 선택\n",
        "    images =image.numpy()[idx].transpose(0,2,3,1).clip(0,1)         # 선택된 index 에 해당하는 이미지를 가져옴\n",
        "    plt.figure(figsize = (15, 90))     # 세로 길이 15, 가로 길이 15 * 6 의 화면 생성\n",
        "    \n",
        "    for i in range(161, 167):    \n",
        "    \n",
        "      plt.subplot(i)\n",
        "      plt.imshow(images[i - 161])\n",
        "      plt.xticks([])\n",
        "      plt.yticks([])    \n",
        "    \n",
        "    plt.show()  \n",
        "\n",
        "for i, (image, labels) in enumerate(trainloader): \n",
        "  \n",
        "  showImages(image.squeeze(), 3)\n",
        "  break"
      ],
      "execution_count": 0,
      "outputs": [
        {
          "output_type": "display_data",
          "data": {
            "image/png": "[encoded data removed]",
            "text/plain": [
              "<Figure size 1080x6480 with 6 Axes>"
            ]
          },
          "metadata": {
            "tags": []
          }
        },
        {
          "output_type": "display_data",
          "data": {
            "image/png": "[encoded data removed]",
            "text/plain": [
              "<Figure size 1080x6480 with 6 Axes>"
            ]
          },
          "metadata": {
            "tags": []
          }
        },
        {
          "output_type": "display_data",
          "data": {
            "image/png": "[encoded data removed]",
            "text/plain": [
              "<Figure size 1080x6480 with 6 Axes>"
            ]
          },
          "metadata": {
            "tags": []
          }
        }
      ]
    },
    {
      "cell_type": "code",
      "metadata": {
        "id": "QGj5qoFcn0FF",
        "colab_type": "code",
        "outputId": "1fe0cfea-de39-4a78-b010-1a37044afe63",
        "colab": {
          "base_uri": "https://localhost:8080/",
          "height": 52
        }
      },
      "source": [
        "print('[info] # of train batch : ' ,len(trainloader))\n",
        "print('[info] # of test batch : ', len(testloader))"
      ],
      "execution_count": 0,
      "outputs": [
        {
          "output_type": "stream",
          "text": [
            "[info] # of train batch :  391\n",
            "[info] # of test batch :  100\n"
          ],
          "name": "stdout"
        }
      ]
    },
    {
      "cell_type": "code",
      "metadata": {
        "id": "vJ9lTPT9n1dM",
        "colab_type": "code",
        "colab": {}
      },
      "source": [
        "def train_network(net,optimizer,trainloader, epochs=5):\n",
        "  for epoch in range(epochs):  # loop over the dataset multiple times\n",
        "\n",
        "      running_loss = 0.0 # running loss를 저장하기 위한 변수입니다. \n",
        "      for i, data in enumerate(trainloader): # 한 Epoch 만큼 돕니다. 매 iteration 마다 정해진 Batch size 만큼 데이터를 뱉습니다. \n",
        "          # get the inputs\n",
        "          inputs, labels = data # DataLoader iterator의 반환 값은 input_data 와 labels의 튜플 형식입니다. \n",
        "          inputs = inputs.to(device) # Pytorch에서 nn.Module 에 넣어 Backprop을 계산 하기 위해서는 gpu 연동을 이와 같이 해줘야 합니다.\n",
        "          labels = labels.to(device)\n",
        "          # zero the parameter gradients\n",
        "          optimizer.zero_grad()    #  현재 기존의 backprop을 계산하기 위해서 저장했던 activation buffer 를 비웁니다.\n",
        "          # forward + backward + optimize\n",
        "          outputs = net(inputs) # input 을 넣은 위 network 로 부터 output 을 얻어냅니다. \n",
        "          loss = criterion(outputs, labels) # loss fucntion에 주어진 target과 output 의 score를 계산하여 반환합니다. \n",
        "          loss.backward() # * Scalar Loss value를 Backward() 해주게 되면 주어진 loss값을 바탕으로 backpropagation이 진행됩니다. \n",
        "          optimizer.step() # 계산된 Backprop 을 바탕으로 optimizer가 gradient descenting 을 수행합니다. \n",
        "\n",
        "          # print statistics\n",
        "          running_loss += loss.item()\n",
        "          if (i+1) % 100 == 0:    # print every 500 mini-batches\n",
        "              print('[%d, %5d] loss: %.3f' %\n",
        "                    (epoch + 1, i + 1, running_loss / 100))\n",
        "              running_loss = 0.0\n",
        "\n",
        "  print('Finished Training')"
      ],
      "execution_count": 0,
      "outputs": []
    },
    {
      "cell_type": "code",
      "metadata": {
        "id": "3F3ZmR6-oIH3",
        "colab_type": "code",
        "colab": {}
      },
      "source": [
        "def test(model,test_loader):\n",
        "  model.eval() # Eval Mode 왜 해야 할까요?  --> nn.Dropout BatchNorm 등의 Regularization 들이 test 모드로 들어가게 되기 때문입니다. \n",
        "  test_loss = 0\n",
        "  correct = 0\n",
        "  for data, target in test_loader:\n",
        "    data = data.to(device)\n",
        "    target = target.to(device)  # 기존의 train function의 data 처리부분과 같습니다. \n",
        "    output = model(data) \n",
        "    pred = output.max(1, keepdim=True)[1] # get the index of the max \n",
        "    correct += pred.eq(target.view_as(pred)).sum().item() # 정답 데이터의 갯수를 반환합니다. \n",
        "\n",
        "  test_loss /= len(test_loader.dataset)\n",
        "  print('\\nTest set:  Accuracy: {}/{} ({:.0f}%)\\n'.format(\n",
        "      correct, len(test_loader.dataset),\n",
        "      100. * correct / len(test_loader.dataset)))"
      ],
      "execution_count": 0,
      "outputs": []
    },
    {
      "cell_type": "code",
      "metadata": {
        "id": "wRrx1X1RN-_Z",
        "colab_type": "code",
        "colab": {}
      },
      "source": [
        "def count_parameters(model): # 모델 파라미터 개수를 리턴하는 함수를 하나 만들어둡니다\n",
        "  return sum(p.numel() for p in model.parameters() if p.requires_grad)"
      ],
      "execution_count": 0,
      "outputs": []
    },
    {
      "cell_type": "markdown",
      "metadata": {
        "id": "I5gzkWcJoUxC",
        "colab_type": "text"
      },
      "source": [
        "### MNIST에서 사용했던 MLP를 적용해보자!"
      ]
    },
    {
      "cell_type": "code",
      "metadata": {
        "id": "9fwsRmXDoL8d",
        "colab_type": "code",
        "colab": {}
      },
      "source": [
        "class MNIST_Net(nn.Module):\n",
        "    def __init__(self):\n",
        "        super(MNIST_Net, self).__init__()\n",
        "        \n",
        "        layer_list = [] # 이 리스트에 모든 Layer 를 순차적으로 append 해보겠습니다. \n",
        "        layer_list.append(nn.Linear(3*32*32,256)) #Layer 1 인풋 사이즈가 32*32로 변경되었기 때문에 바꿔줍니다!!\n",
        "        layer_list.append(nn.BatchNorm1d(256))#BatchNorm1\n",
        "        layer_list.append(nn.ReLU()) # Relu \n",
        "        layer_list.append(nn.Linear(256, 64)) # Layer 2\n",
        "        layer_list.append(nn.BatchNorm1d(64)) #BatchNorm1\n",
        "        layer_list.append(nn.ReLU())# Relu \n",
        "        layer_list.append(nn.Linear(64, 10)) # Layer 3\n",
        "        self.net  = nn.Sequential(*layer_list) # nn.Sequential 에 layer list를 넘겨 줍니다.\n",
        "        \n",
        "    def forward(self, x):\n",
        "        x = x.view(-1,32*32*3)\n",
        "        x = self.net(x) # 넣은 순서대로 적용이 됩니다. \n",
        "        return x"
      ],
      "execution_count": 0,
      "outputs": []
    },
    {
      "cell_type": "code",
      "metadata": {
        "id": "OXDe9e8goV4k",
        "colab_type": "code",
        "colab": {}
      },
      "source": [
        "mnist_net = MNIST_Net().to(device) # 생성한 뉴럴넷 Instance를 생성하고 빠른 학습을 위해 cuda 에 올립니다. \n",
        "criterion = nn.CrossEntropyLoss() # Loss Function을 정의 합니다. 여기서는 cross entrophy loss 를 사용합니다. \n",
        "optimizer = optim.Adam(mnist_net.parameters(), lr=lr) # optimizer는 이와 같이 training 할 Parameter와 learning rate를 인자로 줍니다. "
      ],
      "execution_count": 0,
      "outputs": []
    },
    {
      "cell_type": "code",
      "metadata": {
        "id": "ET-9RK75oX3w",
        "colab_type": "code",
        "outputId": "7d519dcf-209c-474c-c939-dad25f3845ff",
        "colab": {
          "base_uri": "https://localhost:8080/",
          "height": 298
        }
      },
      "source": [
        "train_network(mnist_net,optimizer,trainloader)"
      ],
      "execution_count": 0,
      "outputs": [
        {
          "output_type": "stream",
          "text": [
            "[1,   100] loss: 2.034\n",
            "[1,   200] loss: 1.835\n",
            "[1,   300] loss: 1.739\n",
            "[2,   100] loss: 1.651\n",
            "[2,   200] loss: 1.617\n",
            "[2,   300] loss: 1.616\n",
            "[3,   100] loss: 1.561\n",
            "[3,   200] loss: 1.555\n",
            "[3,   300] loss: 1.541\n",
            "[4,   100] loss: 1.518\n",
            "[4,   200] loss: 1.507\n",
            "[4,   300] loss: 1.500\n",
            "[5,   100] loss: 1.473\n",
            "[5,   200] loss: 1.470\n",
            "[5,   300] loss: 1.476\n",
            "Finished Training\n"
          ],
          "name": "stdout"
        }
      ]
    },
    {
      "cell_type": "code",
      "metadata": {
        "id": "wO5Aa_PCoYxL",
        "colab_type": "code",
        "outputId": "02893f2c-30e4-470f-9cd1-f7a277c1383b",
        "colab": {
          "base_uri": "https://localhost:8080/",
          "height": 70
        }
      },
      "source": [
        "test(mnist_net,testloader)"
      ],
      "execution_count": 0,
      "outputs": [
        {
          "output_type": "stream",
          "text": [
            "\n",
            "Test set:  Accuracy: 5070/10000 (51%)\n",
            "\n"
          ],
          "name": "stdout"
        }
      ]
    },
    {
      "cell_type": "markdown",
      "metadata": {
        "id": "58fk39tBo91s",
        "colab_type": "text"
      },
      "source": [
        "### 심플한 CNN 모델을 만들어 봅시다.\n",
        "\n",
        "<구성>\n",
        "\n",
        "Layer 1 - input: 3 x 32 x 32, output: 64 x 32 x 32- ReLU + BatchNorm\n",
        "\n",
        "Layer 2 - input: 64 x 32 x 32, output: 128 x 16 x 16- ReLU + BatchNorm (Down Conv라고 부릅니다.)\n",
        "\n",
        "Layer 5 - Global Average Pooling (128 x 16 x 16 => 128 x 1 x 1)\n",
        "\n",
        "Layer 6 - input: 128 x 1 x 1, output 10 x 1 x 1 - ReLU + BatchNorm\n",
        "\n",
        "![대체 텍스트](https://cdn-images-1.medium.com/max/1600/1*D47ER7IArwPv69k3O_1nqQ.png)"
      ]
    },
    {
      "cell_type": "code",
      "metadata": {
        "id": "Uf3CEXKVpi_0",
        "colab_type": "code",
        "outputId": "7715b564-dfba-4322-a806-9829ec2fa663",
        "colab": {
          "base_uri": "https://localhost:8080/",
          "height": 134
        }
      },
      "source": [
        "class DiyCNN(nn.Module):\n",
        "  def __init__(self):\n",
        "    super(DiyCNN, self).__init__()\n",
        "    layers = []\n",
        "\n",
        "    layers += [nn.Conv2d(in_channels=??, out_channels=??, kernel_size=7, stride=1, padding=3)] # 첫 conv는 보통 receptive field를 최대한 넓혀준 후 feature를 뽑아줍니다.\n",
        "    layers += [nn.BatchNorm2d(??)] # 앞선 MLP 시간과 달리 spatial resolution이 살아있기 때문에, batchnorm 2d를 사용해 줍니다.\n",
        "    layers += [nn.ReLU()]\n",
        "    \n",
        "    layers += [nn.Conv2d(??, 128, 5, 2, 1)]\n",
        "    layers += [nn.BatchNorm2d(??)]\n",
        "    layers += [nn.ReLU()]\n",
        "    \n",
        "    layers += [nn.Conv2d(??, 256, 5, 2, 1)]\n",
        "    layers += [nn.BatchNorm2d(256)]\n",
        "    layers += [nn.ReLU()]\n",
        "    \n",
        "    layers += [nn.Conv2d(??, ??, 5, 2, 1)]\n",
        "    layers += [nn.BatchNorm2d(512)]\n",
        "    layers += [nn.ReLU()]\n",
        "    \n",
        "    layers += [nn.AdaptiveAvgPool2d(1)]\n",
        "    \n",
        "    layers += [nn.Conv2d(512, 10, 1, 1, 0)]\n",
        "    \n",
        "    self.main = nn.Sequential(*layers)\n",
        "    \n",
        "  def forward(self, x):\n",
        "    return self.main(x).squeeze(3).squeeze(2)"
      ],
      "execution_count": 0,
      "outputs": [
        {
          "output_type": "error",
          "ename": "SyntaxError",
          "evalue": "ignored",
          "traceback": [
            "\u001b[0;36m  File \u001b[0;32m\"<ipython-input-93-c2b1dfeaf243>\"\u001b[0;36m, line \u001b[0;32m6\u001b[0m\n\u001b[0;31m    layers += [nn.Conv2d(in_channels=??, out_channels=??, kernel_size=7, stride=1, padding=3)] # 첫 conv는 보통 receptive field를 최대한 넓혀준 후 feature를 뽑아줍니다.\u001b[0m\n\u001b[0m                                     ^\u001b[0m\n\u001b[0;31mSyntaxError\u001b[0m\u001b[0;31m:\u001b[0m invalid syntax\n"
          ]
        }
      ]
    },
    {
      "cell_type": "markdown",
      "metadata": {
        "id": "vorrzAVgq4Dg",
        "colab_type": "text"
      },
      "source": [
        "##### 정답: 자신을 위해 가능한 확인하지 않고 진행해주세요~"
      ]
    },
    {
      "cell_type": "code",
      "metadata": {
        "id": "6J1292kjL1tM",
        "colab_type": "code",
        "colab": {}
      },
      "source": [
        "class DiyCNN(nn.Module):\n",
        "  def __init__(self):\n",
        "    super(DiyCNN, self).__init__()\n",
        "    layers = []\n",
        "\n",
        "    layers += [nn.Conv2d(in_channels=3, out_channels=64, kernel_size=3, stride=2, padding=1)] # 첫 conv는 보통 receptive field를 최대한 넓혀준 후 feature를 뽑아줍니다.\n",
        "    layers += [nn.BatchNorm2d(64)] # 앞선 MLP 시간과 달리 spatial resolution이 살아있기 때문에, batchnorm 2d를 사용해 줍니다.\n",
        "    layers += [nn.ReLU()]\n",
        "    \n",
        "    layers += [nn.Conv2d(64, 128, 3, 2, 1)]\n",
        "    layers += [nn.BatchNorm2d(128)]\n",
        "    layers += [nn.ReLU()]\n",
        "    \n",
        "    layers += [nn.Conv2d(128, 256, 3, 2, 1)]\n",
        "    layers += [nn.BatchNorm2d(256)]\n",
        "    layers += [nn.ReLU()]\n",
        "    \n",
        "    layers += [nn.Conv2d(256, 512, 3, 2, 1)]\n",
        "    layers += [nn.BatchNorm2d(512)]\n",
        "    layers += [nn.ReLU()]\n",
        "    \n",
        "    layers += [nn.AdaptiveAvgPool2d(1)]\n",
        "    \n",
        "    layers += [nn.Conv2d(512, 10, 1, 1, 0)]\n",
        "    \n",
        "    self.main = nn.Sequential(*layers)\n",
        "    \n",
        "  def forward(self, x):\n",
        "    return self.main(x).squeeze(3).squeeze(2)"
      ],
      "execution_count": 0,
      "outputs": []
    },
    {
      "cell_type": "code",
      "metadata": {
        "id": "WZjiCK5vre9t",
        "colab_type": "code",
        "outputId": "9af58806-b4b8-4bd7-a3a2-8e7967341464",
        "colab": {
          "base_uri": "https://localhost:8080/",
          "height": 34
        }
      },
      "source": [
        "cifar_net = DiyCNN().to(device) # 생성한 뉴럴넷 Instance를 생성하고 빠른 학습을 위해 cuda 에 올립니다. \n",
        "criterion = nn.CrossEntropyLoss() # Loss Function을 정의 합니다. 여기서는 cross entrophy loss 를 사용합니다. \n",
        "optimizer = optim.Adam(cifar_net.parameters(), lr=lr) # optimizer는 이와 같이 training 할 Parameter와 learning rate를 인자로 줍니다. \n",
        "\n",
        "print('[info] number of model parameter - %d'%(count_parameters(cifar_net))) # 방금 구성한 모형의 파라미터 개수를 프린트 해봅니다."
      ],
      "execution_count": 0,
      "outputs": [
        {
          "output_type": "stream",
          "text": [
            "[info] number of model parameter - 1558026\n"
          ],
          "name": "stdout"
        }
      ]
    },
    {
      "cell_type": "code",
      "metadata": {
        "id": "pE8APJgRrgfS",
        "colab_type": "code",
        "outputId": "835250c9-119b-453c-cf9d-1e4309f811a5",
        "colab": {
          "base_uri": "https://localhost:8080/",
          "height": 298
        }
      },
      "source": [
        "train_network(cifar_net,optimizer,trainloader)"
      ],
      "execution_count": 0,
      "outputs": [
        {
          "output_type": "stream",
          "text": [
            "[1,   100] loss: 1.743\n",
            "[1,   200] loss: 1.491\n",
            "[1,   300] loss: 1.371\n",
            "[2,   100] loss: 1.216\n",
            "[2,   200] loss: 1.172\n",
            "[2,   300] loss: 1.116\n",
            "[3,   100] loss: 1.029\n",
            "[3,   200] loss: 1.017\n",
            "[3,   300] loss: 1.006\n",
            "[4,   100] loss: 0.934\n",
            "[4,   200] loss: 0.919\n",
            "[4,   300] loss: 0.904\n",
            "[5,   100] loss: 0.844\n",
            "[5,   200] loss: 0.843\n",
            "[5,   300] loss: 0.834\n",
            "Finished Training\n"
          ],
          "name": "stdout"
        }
      ]
    },
    {
      "cell_type": "code",
      "metadata": {
        "id": "OcX_blYBrhef",
        "colab_type": "code",
        "outputId": "ed53d1b6-33b6-41f7-8a20-c98600939071",
        "colab": {
          "base_uri": "https://localhost:8080/",
          "height": 70
        }
      },
      "source": [
        "test(cifar_net,testloader)"
      ],
      "execution_count": 0,
      "outputs": [
        {
          "output_type": "stream",
          "text": [
            "\n",
            "Test set:  Accuracy: 7263/10000 (73%)\n",
            "\n"
          ],
          "name": "stdout"
        }
      ]
    },
    {
      "cell_type": "markdown",
      "metadata": {
        "id": "wMBJ5Vla_Wkd",
        "colab_type": "text"
      },
      "source": [
        "### Average Pooling 대신 Linear Layer로!"
      ]
    },
    {
      "cell_type": "code",
      "metadata": {
        "id": "-YXvUnMAys_0",
        "colab_type": "code",
        "colab": {}
      },
      "source": [
        "class DiyCNN(nn.Module):\n",
        "  def __init__(self):\n",
        "    super(DiyCNN, self).__init__()\n",
        "    layers = []\n",
        "\n",
        "    layers += [nn.Conv2d(in_channels=3, out_channels=64, kernel_size=3, stride=2, padding=1)] # 첫 conv는 보통 receptive field를 최대한 넓혀준 후 feature를 뽑아줍니다.\n",
        "    layers += [nn.BatchNorm2d(64)] # 앞선 MLP 시간과 달리 spatial resolution이 살아있기 때문에, batchnorm 2d를 사용해 줍니다.\n",
        "    layers += [nn.ReLU()]\n",
        "    \n",
        "    layers += [nn.Conv2d(64, 128, 3, 2, 1)]\n",
        "    layers += [nn.BatchNorm2d(128)]\n",
        "    layers += [nn.ReLU()]\n",
        "    \n",
        "    layers += [nn.Conv2d(128, 256, 3, 2, 1)]\n",
        "    layers += [nn.BatchNorm2d(256)]\n",
        "    layers += [nn.ReLU()]\n",
        "    \n",
        "    layers += [nn.Conv2d(256, 512, 3, 2, 1)]\n",
        "    layers += [nn.BatchNorm2d(512)]\n",
        "    layers += [nn.ReLU()]\n",
        "    \n",
        "    classifier = []\n",
        "    classifier += [nn.Linear(512*4,512)]\n",
        "    \n",
        "    classifier += [nn.Linear(512,10)]\n",
        "    \n",
        "    \n",
        "    \n",
        "    self.main = nn.Sequential(*layers)\n",
        "    self.classifier = nn.Sequential(*classifier)\n",
        "    \n",
        "  def forward(self, x):\n",
        "    out = self.main(x)\n",
        "    out = out.view(out.size(0),-1)\n",
        "    out = self.classifier(out)\n",
        "    return out"
      ],
      "execution_count": 0,
      "outputs": []
    },
    {
      "cell_type": "code",
      "metadata": {
        "id": "JbVONDRyz1RK",
        "colab_type": "code",
        "outputId": "aa19d4be-b3d8-4db8-88e7-16796ca6a033",
        "colab": {
          "base_uri": "https://localhost:8080/",
          "height": 34
        }
      },
      "source": [
        "cifar_net = DiyCNN().to(device) # 생성한 뉴럴넷 Instance를 생성하고 빠른 학습을 위해 cuda 에 올립니다. \n",
        "criterion = nn.CrossEntropyLoss() # Loss Function을 정의 합니다. 여기서는 cross entrophy loss 를 사용합니다. \n",
        "optimizer = optim.Adam(cifar_net.parameters(), lr=lr) # optimizer는 이와 같이 training 할 Parameter와 learning rate를 인자로 줍니다. \n",
        "\n",
        "print('[info] number of model parameter - %d'%(count_parameters(cifar_net))) # 방금 구성한 모형의 파라미터 개수를 프린트 해봅니다."
      ],
      "execution_count": 0,
      "outputs": [
        {
          "output_type": "stream",
          "text": [
            "[info] number of model parameter - 2607114\n"
          ],
          "name": "stdout"
        }
      ]
    },
    {
      "cell_type": "code",
      "metadata": {
        "id": "J0OFFnddz4CS",
        "colab_type": "code",
        "outputId": "361b8713-0914-4443-af35-2a273b09e531",
        "colab": {
          "base_uri": "https://localhost:8080/",
          "height": 298
        }
      },
      "source": [
        "train_network(cifar_net,optimizer,trainloader)"
      ],
      "execution_count": 0,
      "outputs": [
        {
          "output_type": "stream",
          "text": [
            "[1,   100] loss: 1.771\n",
            "[1,   200] loss: 1.506\n",
            "[1,   300] loss: 1.381\n",
            "[2,   100] loss: 1.238\n",
            "[2,   200] loss: 1.152\n",
            "[2,   300] loss: 1.116\n",
            "[3,   100] loss: 1.016\n",
            "[3,   200] loss: 0.973\n",
            "[3,   300] loss: 0.962\n",
            "[4,   100] loss: 0.882\n",
            "[4,   200] loss: 0.875\n",
            "[4,   300] loss: 0.868\n",
            "[5,   100] loss: 0.803\n",
            "[5,   200] loss: 0.809\n",
            "[5,   300] loss: 0.786\n",
            "Finished Training\n"
          ],
          "name": "stdout"
        }
      ]
    },
    {
      "cell_type": "code",
      "metadata": {
        "id": "Q27tKqAuz4tM",
        "colab_type": "code",
        "outputId": "9621348d-771a-40b2-ad12-cae212ead3fd",
        "colab": {
          "base_uri": "https://localhost:8080/",
          "height": 70
        }
      },
      "source": [
        "test(cifar_net,testloader)"
      ],
      "execution_count": 0,
      "outputs": [
        {
          "output_type": "stream",
          "text": [
            "\n",
            "Test set:  Accuracy: 7410/10000 (74%)\n",
            "\n"
          ],
          "name": "stdout"
        }
      ]
    },
    {
      "cell_type": "markdown",
      "metadata": {
        "id": "T-UID3Msy1L4",
        "colab_type": "text"
      },
      "source": [
        "### 데이터 intialization"
      ]
    },
    {
      "cell_type": "code",
      "metadata": {
        "id": "yyzEg2_y08-C",
        "colab_type": "code",
        "colab": {}
      },
      "source": [
        "class DiyCNN(nn.Module):\n",
        "  def __init__(self):\n",
        "    super(DiyCNN, self).__init__()\n",
        "    layers = []\n",
        "\n",
        "    layers += [nn.Conv2d(in_channels=3, out_channels=64, kernel_size=3, stride=2, padding=1)] # 첫 conv는 보통 receptive field를 최대한 넓혀준 후 feature를 뽑아줍니다.\n",
        "    layers += [nn.BatchNorm2d(64)] # 앞선 MLP 시간과 달리 spatial resolution이 살아있기 때문에, batchnorm 2d를 사용해 줍니다.\n",
        "    layers += [nn.ReLU()]\n",
        "    \n",
        "    layers += [nn.Conv2d(64, 128, 3, 2, 1)]\n",
        "    layers += [nn.BatchNorm2d(128)]\n",
        "    layers += [nn.ReLU()]\n",
        "    \n",
        "    layers += [nn.Conv2d(128, 256, 3, 2, 1)]\n",
        "    layers += [nn.BatchNorm2d(256)]\n",
        "    layers += [nn.ReLU()]\n",
        "    \n",
        "    layers += [nn.Conv2d(256, 512, 3, 2, 1)]\n",
        "    layers += [nn.BatchNorm2d(512)]\n",
        "    layers += [nn.ReLU()]\n",
        "    \n",
        "    layers += [nn.AdaptiveAvgPool2d(1)]\n",
        "    \n",
        "    layers += [nn.Conv2d(512, 10, 1, 1, 0)]\n",
        "    \n",
        "    self.main = nn.Sequential(*layers)\n",
        "    self._reset_params()\n",
        "  def _reset_params(self):\n",
        "    for i,layer in enumerate(self.main):\n",
        "      if type(layer) == nn.Conv2d:\n",
        "        torch.nn.init.xavier_uniform_(layer.weight.data)\n",
        "  def forward(self, x):\n",
        "    return self.main(x).squeeze(3).squeeze(2)"
      ],
      "execution_count": 0,
      "outputs": []
    },
    {
      "cell_type": "code",
      "metadata": {
        "id": "TbFjh1PL1cJg",
        "colab_type": "code",
        "colab": {}
      },
      "source": [
        "cifar_net = DiyCNN().to(device) # 생성한 뉴럴넷 Instance를 생성하고 빠른 학습을 위해 cuda 에 올립니다. \n",
        "criterion = nn.CrossEntropyLoss() # Loss Function을 정의 합니다. 여기서는 cross entrophy loss 를 사용합니다. \n",
        "optimizer = optim.Adam(cifar_net.parameters(), lr=lr) # optimizer는 이와 같이 training 할 Parameter와 learning rate를 인자로 줍니다."
      ],
      "execution_count": 0,
      "outputs": []
    },
    {
      "cell_type": "code",
      "metadata": {
        "id": "tqshiap61eT8",
        "colab_type": "code",
        "outputId": "ca87a989-7c63-485c-dc16-21868491a995",
        "colab": {
          "base_uri": "https://localhost:8080/",
          "height": 298
        }
      },
      "source": [
        "train_network(cifar_net,optimizer,trainloader)"
      ],
      "execution_count": 0,
      "outputs": [
        {
          "output_type": "stream",
          "text": [
            "[1,   100] loss: 1.728\n",
            "[1,   200] loss: 1.484\n",
            "[1,   300] loss: 1.384\n",
            "[2,   100] loss: 1.225\n",
            "[2,   200] loss: 1.168\n",
            "[2,   300] loss: 1.131\n",
            "[3,   100] loss: 1.045\n",
            "[3,   200] loss: 1.022\n",
            "[3,   300] loss: 1.006\n",
            "[4,   100] loss: 0.934\n",
            "[4,   200] loss: 0.920\n",
            "[4,   300] loss: 0.909\n",
            "[5,   100] loss: 0.862\n",
            "[5,   200] loss: 0.851\n",
            "[5,   300] loss: 0.832\n",
            "Finished Training\n"
          ],
          "name": "stdout"
        }
      ]
    },
    {
      "cell_type": "code",
      "metadata": {
        "id": "9y5LmO0S1hHs",
        "colab_type": "code",
        "outputId": "4330b476-bbbe-4278-efcd-2519dbfc0bf1",
        "colab": {
          "base_uri": "https://localhost:8080/",
          "height": 70
        }
      },
      "source": [
        "test(cifar_net,testloader)"
      ],
      "execution_count": 0,
      "outputs": [
        {
          "output_type": "stream",
          "text": [
            "\n",
            "Test set:  Accuracy: 7350/10000 (74%)\n",
            "\n"
          ],
          "name": "stdout"
        }
      ]
    },
    {
      "cell_type": "markdown",
      "metadata": {
        "id": "ACfwmSHo1pUW",
        "colab_type": "text"
      },
      "source": [
        "weight intialization은 효과가 있었나요?"
      ]
    },
    {
      "cell_type": "markdown",
      "metadata": {
        "id": "t1gj-ahZvtOK",
        "colab_type": "text"
      },
      "source": [
        "### 데이터 전처리를 한번 없애면 성능은 어떻게 변할까요?"
      ]
    },
    {
      "cell_type": "code",
      "metadata": {
        "id": "XQqpAoljvf2t",
        "colab_type": "code",
        "outputId": "c642ba16-a2de-44c7-b883-97c280e5908d",
        "colab": {
          "base_uri": "https://localhost:8080/",
          "height": 70
        }
      },
      "source": [
        "# Data\n",
        "print('==> Preparing data..')\n",
        "# 데이터 전처리를 위한 코드\n",
        "transform_train = transforms.Compose([\n",
        "   \n",
        "    transforms.ToTensor(),\n",
        "     \n",
        "])\n",
        "\n",
        "\n",
        "\n",
        "# 데이터 전처리를 위한 코드\n",
        "transform_test = transforms.Compose([\n",
        "    transforms.ToTensor(),\n",
        "   # cifar10(0~1)의 r,g,b 채널 별 평균 및 분산으로 normalization => N(0,1)의 정규분포를 따르도록 만들어준 후 input으로 넣어줍니다.\n",
        "])\n",
        "\n",
        "# 데이터 로딩\n",
        "trainset = torchvision.datasets.CIFAR10(root='./data', train=True, download=True, transform=transform_train)\n",
        "trainloader = torch.utils.data.DataLoader(trainset, batch_size=batch_size, shuffle=True, num_workers=1)\n",
        "\n",
        "testset = torchvision.datasets.CIFAR10(root='./data', train=False, download=True, transform=transform_test)\n",
        "testloader = torch.utils.data.DataLoader(testset, batch_size=100, shuffle=False, num_workers=1)\n",
        "\n",
        "classes = ('plane', 'car', 'bird', 'cat', 'deer', 'dog', 'frog', 'horse', 'ship', 'truck')"
      ],
      "execution_count": 0,
      "outputs": [
        {
          "output_type": "stream",
          "text": [
            "==> Preparing data..\n",
            "Files already downloaded and verified\n",
            "Files already downloaded and verified\n"
          ],
          "name": "stdout"
        }
      ]
    },
    {
      "cell_type": "code",
      "metadata": {
        "id": "Ha_j7qGdvztc",
        "colab_type": "code",
        "colab": {}
      },
      "source": [
        "cifar_net = DiyCNN().to(device) # 생성한 뉴럴넷 Instance를 생성하고 빠른 학습을 위해 cuda 에 올립니다. \n",
        "criterion = nn.CrossEntropyLoss() # Loss Function을 정의 합니다. 여기서는 cross entrophy loss 를 사용합니다. \n",
        "optimizer = optim.Adam(cifar_net.parameters(), lr=lr) # optimizer는 이와 같이 training 할 Parameter와 learning rate를 인자로 줍니다. "
      ],
      "execution_count": 0,
      "outputs": []
    },
    {
      "cell_type": "code",
      "metadata": {
        "id": "PYqBc07Qv2rl",
        "colab_type": "code",
        "outputId": "dca0d705-7e99-40b0-ee19-444404035be9",
        "colab": {
          "base_uri": "https://localhost:8080/",
          "height": 298
        }
      },
      "source": [
        "train_network(cifar_net,optimizer,trainloader)"
      ],
      "execution_count": 0,
      "outputs": [
        {
          "output_type": "stream",
          "text": [
            "[1,   100] loss: 1.588\n",
            "[1,   200] loss: 1.283\n",
            "[1,   300] loss: 1.159\n",
            "[2,   100] loss: 0.932\n",
            "[2,   200] loss: 0.915\n",
            "[2,   300] loss: 0.868\n",
            "[3,   100] loss: 0.695\n",
            "[3,   200] loss: 0.699\n",
            "[3,   300] loss: 0.710\n",
            "[4,   100] loss: 0.518\n",
            "[4,   200] loss: 0.527\n",
            "[4,   300] loss: 0.561\n",
            "[5,   100] loss: 0.352\n",
            "[5,   200] loss: 0.385\n",
            "[5,   300] loss: 0.422\n",
            "Finished Training\n"
          ],
          "name": "stdout"
        }
      ]
    },
    {
      "cell_type": "code",
      "metadata": {
        "id": "dRNdaQCHv3mc",
        "colab_type": "code",
        "outputId": "334e32b7-e1cd-49b4-c7c4-9489c475a0a8",
        "colab": {
          "base_uri": "https://localhost:8080/",
          "height": 70
        }
      },
      "source": [
        "test(cifar_net,testloader)"
      ],
      "execution_count": 0,
      "outputs": [
        {
          "output_type": "stream",
          "text": [
            "\n",
            "Test set:  Accuracy: 6834/10000 (68%)\n",
            "\n"
          ],
          "name": "stdout"
        }
      ]
    },
    {
      "cell_type": "markdown",
      "metadata": {
        "id": "P-Y3AkxQ1xe0",
        "colab_type": "text"
      },
      "source": [
        "Q) 왜 성능이 낮아졌을까요?"
      ]
    },
    {
      "cell_type": "markdown",
      "metadata": {
        "id": "j90-Gd4lwyV2",
        "colab_type": "text"
      },
      "source": [
        "### 데이터 shuffling 의 효과"
      ]
    },
    {
      "cell_type": "code",
      "metadata": {
        "id": "Zcon8zppww3H",
        "colab_type": "code",
        "outputId": "08e12b27-b434-45e7-8f2e-a374ace7c06d",
        "colab": {
          "base_uri": "https://localhost:8080/",
          "height": 70
        }
      },
      "source": [
        "# Data\n",
        "print('==> Preparing data..')\n",
        "# 데이터 전처리를 위한 코드\n",
        "transform_train = transforms.Compose([\n",
        "    transforms.RandomCrop(32, padding=4), # 4만큼의 padding을 부여한 후, 32x32로 random cropping\n",
        "    transforms.RandomHorizontalFlip(), # 0.5의 확률로 이미지 좌우 반전하여 넣어줌\n",
        "    transforms.ToTensor(),\n",
        "    transforms.Normalize((0.4914, 0.4822, 0.4465), (0.2023, 0.1994, 0.2010)), # cifar10(0~1)의 r,g,b 채널 별 평균 및 분산으로 normalization => N(0,1)의 정규분포를 따르도록 만들어준 후 input으로 넣어줍니다.\n",
        "])\n",
        "\n",
        "# 랜덤 cropping을 하고, 이미지 좌우반전을 해주는 이유 : ???\n",
        "\n",
        "# 데이터 전처리를 위한 코드\n",
        "transform_test = transforms.Compose([\n",
        "    transforms.ToTensor(),\n",
        "    transforms.Normalize((0.4914, 0.4822, 0.4465), (0.2023, 0.1994, 0.2010)), # cifar10(0~1)의 r,g,b 채널 별 평균 및 분산으로 normalization => N(0,1)의 정규분포를 따르도록 만들어준 후 input으로 넣어줍니다.\n",
        "])\n",
        "\n",
        "# 데이터 로딩\n",
        "trainset = torchvision.datasets.CIFAR10(root='./data', train=True, download=True, transform=transform_train)\n",
        "trainloader = torch.utils.data.DataLoader(trainset, batch_size=batch_size, shuffle=False, num_workers=1)\n",
        "\n",
        "testset = torchvision.datasets.CIFAR10(root='./data', train=False, download=True, transform=transform_test)\n",
        "testloader = torch.utils.data.DataLoader(testset, batch_size=100, shuffle=False, num_workers=1)\n",
        "\n",
        "classes = ('plane', 'car', 'bird', 'cat', 'deer', 'dog', 'frog', 'horse', 'ship', 'truck')"
      ],
      "execution_count": 0,
      "outputs": [
        {
          "output_type": "stream",
          "text": [
            "==> Preparing data..\n",
            "Files already downloaded and verified\n",
            "Files already downloaded and verified\n"
          ],
          "name": "stdout"
        }
      ]
    },
    {
      "cell_type": "code",
      "metadata": {
        "id": "pj8oSDzAw68t",
        "colab_type": "code",
        "colab": {}
      },
      "source": [
        "cifar_net = DiyCNN().to(device) # 생성한 뉴럴넷 Instance를 생성하고 빠른 학습을 위해 cuda 에 올립니다. \n",
        "criterion = nn.CrossEntropyLoss() # Loss Function을 정의 합니다. 여기서는 cross entrophy loss 를 사용합니다. \n",
        "optimizer = optim.Adam(cifar_net.parameters(), lr=lr) # optimizer는 이와 같이 training 할 Parameter와 learning rate를 인자로 줍니다. "
      ],
      "execution_count": 0,
      "outputs": []
    },
    {
      "cell_type": "code",
      "metadata": {
        "id": "J-yaC6mkw9g3",
        "colab_type": "code",
        "outputId": "a3a40899-7941-4156-ed2b-5eed01d04bf3",
        "colab": {
          "base_uri": "https://localhost:8080/",
          "height": 298
        }
      },
      "source": [
        "train_network(cifar_net,optimizer,trainloader)"
      ],
      "execution_count": 0,
      "outputs": [
        {
          "output_type": "stream",
          "text": [
            "[1,   100] loss: 1.739\n",
            "[1,   200] loss: 1.488\n",
            "[1,   300] loss: 1.375\n",
            "[2,   100] loss: 1.219\n",
            "[2,   200] loss: 1.155\n",
            "[2,   300] loss: 1.113\n",
            "[3,   100] loss: 1.037\n",
            "[3,   200] loss: 1.013\n",
            "[3,   300] loss: 0.986\n",
            "[4,   100] loss: 0.927\n",
            "[4,   200] loss: 0.913\n",
            "[4,   300] loss: 0.895\n",
            "[5,   100] loss: 0.850\n",
            "[5,   200] loss: 0.834\n",
            "[5,   300] loss: 0.831\n",
            "Finished Training\n"
          ],
          "name": "stdout"
        }
      ]
    },
    {
      "cell_type": "code",
      "metadata": {
        "id": "4Xgf-jTdw-NY",
        "colab_type": "code",
        "outputId": "6180ce5f-c6d4-4466-a0e1-de34b95643e2",
        "colab": {
          "base_uri": "https://localhost:8080/",
          "height": 70
        }
      },
      "source": [
        "test(cifar_net,testloader)"
      ],
      "execution_count": 0,
      "outputs": [
        {
          "output_type": "stream",
          "text": [
            "\n",
            "Test set:  Accuracy: 7224/10000 (72%)\n",
            "\n"
          ],
          "name": "stdout"
        }
      ]
    },
    {
      "cell_type": "markdown",
      "metadata": {
        "id": "MbjVKfzg13q6",
        "colab_type": "text"
      },
      "source": [
        "Q) Shuffling 을 제거 했더니 성능이 어떻게 변하나요?  shuffling 은 왜 중요할까요?"
      ]
    },
    {
      "cell_type": "markdown",
      "metadata": {
        "id": "o19_PEjYxeBM",
        "colab_type": "text"
      },
      "source": [
        "### 다시 원래 옵션으로 되돌립니다."
      ]
    },
    {
      "cell_type": "code",
      "metadata": {
        "id": "XclAWYKSxdH1",
        "colab_type": "code",
        "outputId": "5b94606a-0389-4f2e-8e2f-3fc5cda20ff9",
        "colab": {
          "base_uri": "https://localhost:8080/",
          "height": 70
        }
      },
      "source": [
        "# Data\n",
        "print('==> Preparing data..')\n",
        "# 데이터 전처리를 위한 코드\n",
        "transform_train = transforms.Compose([\n",
        "    transforms.RandomCrop(32, padding=4), # 4만큼의 padding을 부여한 후, 32x32로 random cropping\n",
        "    transforms.RandomHorizontalFlip(), # 0.5의 확률로 이미지 좌우 반전하여 넣어줌\n",
        "    transforms.ToTensor(),\n",
        "    transforms.Normalize((0.4914, 0.4822, 0.4465), (0.2023, 0.1994, 0.2010)), # cifar10(0~1)의 r,g,b 채널 별 평균 및 분산으로 normalization => N(0,1)의 정규분포를 따르도록 만들어준 후 input으로 넣어줍니다.\n",
        "])\n",
        "\n",
        "# 랜덤 cropping을 하고, 이미지 좌우반전을 해주는 이유 : ???\n",
        "\n",
        "# 데이터 전처리를 위한 코드\n",
        "transform_test = transforms.Compose([\n",
        "    transforms.ToTensor(),\n",
        "    transforms.Normalize((0.4914, 0.4822, 0.4465), (0.2023, 0.1994, 0.2010)), # cifar10(0~1)의 r,g,b 채널 별 평균 및 분산으로 normalization => N(0,1)의 정규분포를 따르도록 만들어준 후 input으로 넣어줍니다.\n",
        "])\n",
        "\n",
        "# 데이터 로딩\n",
        "trainset = torchvision.datasets.CIFAR10(root='./data', train=True, download=True, transform=transform_train)\n",
        "trainloader = torch.utils.data.DataLoader(trainset, batch_size=batch_size, shuffle=True, num_workers=1)\n",
        "\n",
        "testset = torchvision.datasets.CIFAR10(root='./data', train=False, download=True, transform=transform_test)\n",
        "testloader = torch.utils.data.DataLoader(testset, batch_size=100, shuffle=False, num_workers=1)\n",
        "\n",
        "classes = ('plane', 'car', 'bird', 'cat', 'deer', 'dog', 'frog', 'horse', 'ship', 'truck')"
      ],
      "execution_count": 0,
      "outputs": [
        {
          "output_type": "stream",
          "text": [
            "==> Preparing data..\n",
            "Files already downloaded and verified\n",
            "Files already downloaded and verified\n"
          ],
          "name": "stdout"
        }
      ]
    },
    {
      "cell_type": "code",
      "metadata": {
        "id": "xk0lINI_JMdX",
        "colab_type": "code",
        "colab": {}
      },
      "source": [
        "class DiyCNN(nn.Module):\n",
        "  def __init__(self):\n",
        "    super(DiyCNN, self).__init__()\n",
        "    layers = []\n",
        "\n",
        "    layers += [nn.Conv2d(in_channels=3, out_channels=64, kernel_size=3, stride=2, padding=1)] # 첫 conv는 보통 receptive field를 최대한 넓혀준 후 feature를 뽑아줍니다.\n",
        "    layers += [nn.BatchNorm2d(64)] # 앞선 MLP 시간과 달리 spatial resolution이 살아있기 때문에, batchnorm 2d를 사용해 줍니다.\n",
        "    layers += [nn.ReLU()]\n",
        "    \n",
        "    layers += [nn.Conv2d(64, 128, 3, 2, 1)]\n",
        "    layers += [nn.BatchNorm2d(128)]\n",
        "    layers += [nn.ReLU()]\n",
        "    \n",
        "    layers += [nn.Conv2d(128, 256, 3, 2, 1)]\n",
        "    layers += [nn.BatchNorm2d(256)]\n",
        "    layers += [nn.ReLU()]\n",
        "    \n",
        "    layers += [nn.Conv2d(256, 512, 3, 2, 1)]\n",
        "    layers += [nn.BatchNorm2d(512)]\n",
        "    layers += [nn.ReLU()]\n",
        "    \n",
        "    layers += [nn.AdaptiveAvgPool2d(1)]\n",
        "    \n",
        "    layers += [nn.Conv2d(512, 10, 1, 1, 0)]\n",
        "    \n",
        "    self.main = nn.Sequential(*layers)\n",
        "    \n",
        "  def forward(self, x):\n",
        "    return self.main(x).squeeze(3).squeeze(2)"
      ],
      "execution_count": 0,
      "outputs": []
    },
    {
      "cell_type": "markdown",
      "metadata": {
        "id": "yODwdqQEHIGz",
        "colab_type": "text"
      },
      "source": [
        "### Learning rate scheduler를 도입합니다. "
      ]
    },
    {
      "cell_type": "code",
      "metadata": {
        "id": "Xt5HHvczIZIQ",
        "colab_type": "code",
        "colab": {}
      },
      "source": [
        "def train_network2(net,optimizer,trainloader, scheduler, epochs=5):\n",
        "  for epoch in range(epochs):  # loop over the dataset multiple times\n",
        "\n",
        "      running_loss = 0.0 # running loss를 저장하기 위한 변수입니다. \n",
        "      for i, data in enumerate(trainloader): # 한 Epoch 만큼 돕니다. 매 iteration 마다 정해진 Batch size 만큼 데이터를 뱉습니다. \n",
        "          # get the inputs\n",
        "          inputs, labels = data # DataLoader iterator의 반환 값은 input_data 와 labels의 튜플 형식입니다. \n",
        "          inputs = inputs.to(device) # Pytorch에서 nn.Module 에 넣어 Backprop을 계산 하기 위해서는 gpu 연동을 이와 같이 해줘야 합니다.\n",
        "          labels = labels.to(device)\n",
        "          # zero the parameter gradients\n",
        "          optimizer.zero_grad()    #  현재 기존의 backprop을 계산하기 위해서 저장했던 activation buffer 를 비웁니다.\n",
        "          # forward + backward + optimize\n",
        "          outputs = net(inputs) # input 을 넣은 위 network 로 부터 output 을 얻어냅니다. \n",
        "          loss = criterion(outputs, labels) # loss fucntion에 주어진 target과 output 의 score를 계산하여 반환합니다. \n",
        "          loss.backward() # * Scalar Loss value를 Backward() 해주게 되면 주어진 loss값을 바탕으로 backpropagation이 진행됩니다. \n",
        "          optimizer.step() # 계산된 Backprop 을 바탕으로 optimizer가 gradient descenting 을 수행합니다. \n",
        "\n",
        "          # print statistics\n",
        "          running_loss += loss.item()\n",
        "          if (i+1) % 100 == 0:    # print every 500 mini-batches\n",
        "              print('[%d, %5d] loss: %.3f' %\n",
        "                    (epoch + 1, i + 1, running_loss / 100))\n",
        "              running_loss = 0.0\n",
        "      scheduler.step() \n",
        "  print('Finished Training')"
      ],
      "execution_count": 0,
      "outputs": []
    },
    {
      "cell_type": "code",
      "metadata": {
        "id": "6OYIUWkQHHgQ",
        "colab_type": "code",
        "outputId": "4abf5bdb-118e-4f71-e4d8-a8c8c395e83f",
        "colab": {
          "base_uri": "https://localhost:8080/",
          "height": 34
        }
      },
      "source": [
        "from torch.optim.lr_scheduler import MultiStepLR\n",
        "scheduler = MultiStepLR(optimizer, milestones=[2,4], gamma=0.5)# learning rate을 0.1에서 시작해서 1에폭마다 1/10로 줄여보겠습니다.\n",
        "cifar_net = DiyCNN().to(device)\n",
        "criterion = nn.CrossEntropyLoss() \n",
        "optimizer = optim.Adam(cifar_net.parameters(), lr=0.001) # 초반 learning rate이 0.1입니다\n",
        "\n",
        "print('[info] number of model parameter - %d'%(count_parameters(cifar_net))) # 방금 구성한 모형의 파라미터 개수를 프린트 해봅니다."
      ],
      "execution_count": 0,
      "outputs": [
        {
          "output_type": "stream",
          "text": [
            "[info] number of model parameter - 1558026\n"
          ],
          "name": "stdout"
        }
      ]
    },
    {
      "cell_type": "code",
      "metadata": {
        "id": "P90jBCr9I1Zx",
        "colab_type": "code",
        "outputId": "220e9ed6-6656-4a50-e5e2-f5eea8756f2e",
        "colab": {
          "base_uri": "https://localhost:8080/",
          "height": 298
        }
      },
      "source": [
        "train_network2(cifar_net,optimizer,trainloader, scheduler, epochs=5)"
      ],
      "execution_count": 0,
      "outputs": [
        {
          "output_type": "stream",
          "text": [
            "[1,   100] loss: 1.739\n",
            "[1,   200] loss: 1.464\n",
            "[1,   300] loss: 1.348\n",
            "[2,   100] loss: 1.214\n",
            "[2,   200] loss: 1.144\n",
            "[2,   300] loss: 1.133\n",
            "[3,   100] loss: 1.031\n",
            "[3,   200] loss: 1.030\n",
            "[3,   300] loss: 0.987\n",
            "[4,   100] loss: 0.951\n",
            "[4,   200] loss: 0.918\n",
            "[4,   300] loss: 0.902\n",
            "[5,   100] loss: 0.844\n",
            "[5,   200] loss: 0.835\n",
            "[5,   300] loss: 0.840\n",
            "Finished Training\n"
          ],
          "name": "stdout"
        }
      ]
    },
    {
      "cell_type": "code",
      "metadata": {
        "id": "C1gRZluHJq8V",
        "colab_type": "code",
        "outputId": "0d60833a-7d1a-4441-fbfa-5dc12a77da4e",
        "colab": {
          "base_uri": "https://localhost:8080/",
          "height": 70
        }
      },
      "source": [
        "test(cifar_net,testloader)"
      ],
      "execution_count": 0,
      "outputs": [
        {
          "output_type": "stream",
          "text": [
            "\n",
            "Test set:  Accuracy: 7287/10000 (73%)\n",
            "\n"
          ],
          "name": "stdout"
        }
      ]
    },
    {
      "cell_type": "markdown",
      "metadata": {
        "id": "6umQIX-Urwyn",
        "colab_type": "text"
      },
      "source": [
        "### Pre-trained 모형 가지고 와서 성능 확인하기 (Transfer Learning 관점)"
      ]
    },
    {
      "cell_type": "code",
      "metadata": {
        "id": "JecQ-Fkmxjk1",
        "colab_type": "code",
        "colab": {}
      },
      "source": [
        "import torchvision.models as models\n",
        "vgg_model = models.vgg19_bn(pretrained=True).to(device) # 기존에 만들어진 vgg network 을 이미지넷 데이터에 트레이닝해둔 파라미터를 그대로 받아옵니다."
      ],
      "execution_count": 0,
      "outputs": []
    },
    {
      "cell_type": "code",
      "metadata": {
        "id": "ofQJ3YcwFqvi",
        "colab_type": "code",
        "colab": {}
      },
      "source": [
        "class DiyCNN(nn.Module):\n",
        "    def __init__(self, vgg_model):\n",
        "        super(DiyCNN, self).__init__()\n",
        "        self.pre_trained = nn.Sequential(   \n",
        "            *list(vgg_model.features.children())\n",
        "        )\n",
        "        self.mlp = nn.Sequential(\n",
        "            nn.Linear(512, 512),\n",
        "            nn.ReLU(),\n",
        "            nn.Linear(512, 128),\n",
        "            nn.ReLU(),\n",
        "            nn.Linear(128, 10),\n",
        "        )\n",
        "    def forward(self, x):\n",
        "        out = self.pre_trained(x).squeeze()\n",
        "        out = self.mlp(out)\n",
        "        return out"
      ],
      "execution_count": 0,
      "outputs": []
    },
    {
      "cell_type": "code",
      "metadata": {
        "id": "y6tyTU-3yGHz",
        "colab_type": "code",
        "outputId": "0e2c173a-4a22-4e29-b948-cad99fadc0b9",
        "colab": {
          "base_uri": "https://localhost:8080/",
          "height": 34
        }
      },
      "source": [
        "cifar_net = DiyCNN(vgg_model).to(device)\n",
        "criterion = nn.CrossEntropyLoss() # Loss Function을 정의 합니다. 여기서는 cross entrophy loss 를 사용합니다. \n",
        "optimizer = optim.Adam(cifar_net.parameters(), lr=lr) # optimizer는 이와 같이 training 할 Parameter와 learning rate를 인자로 줍니다. \n",
        "\n",
        "print('[info] number of model parameter - %d'%(count_parameters(cifar_net))) # 방금 구성한 모형의 파라미터 개수를 프린트 해봅니다."
      ],
      "execution_count": 0,
      "outputs": [
        {
          "output_type": "stream",
          "text": [
            "[info] number of model parameter - 20365002\n"
          ],
          "name": "stdout"
        }
      ]
    },
    {
      "cell_type": "code",
      "metadata": {
        "id": "Pro0ncYIyJLg",
        "colab_type": "code",
        "outputId": "f26f55cb-e0ec-4156-c57a-937a40fba0f5",
        "colab": {
          "base_uri": "https://localhost:8080/",
          "height": 87
        }
      },
      "source": [
        "train_network(cifar_net,optimizer,trainloader, epochs=1)"
      ],
      "execution_count": 0,
      "outputs": [
        {
          "output_type": "stream",
          "text": [
            "[1,   100] loss: 1.405\n",
            "[1,   200] loss: 0.970\n",
            "[1,   300] loss: 0.827\n",
            "Finished Training\n"
          ],
          "name": "stdout"
        }
      ]
    },
    {
      "cell_type": "code",
      "metadata": {
        "id": "Cp7hPPEjyLX6",
        "colab_type": "code",
        "outputId": "e2634f69-0347-4b7b-8ce6-dc56c56be9c5",
        "colab": {
          "base_uri": "https://localhost:8080/",
          "height": 70
        }
      },
      "source": [
        "test(cifar_net,testloader)"
      ],
      "execution_count": 0,
      "outputs": [
        {
          "output_type": "stream",
          "text": [
            "\n",
            "Test set:  Accuracy: 7699/10000 (77%)\n",
            "\n"
          ],
          "name": "stdout"
        }
      ]
    },
    {
      "cell_type": "code",
      "metadata": {
        "id": "_4xj3RNZO79a",
        "colab_type": "code",
        "colab": {}
      },
      "source": [
        ""
      ],
      "execution_count": 0,
      "outputs": []
    }
  ]
}